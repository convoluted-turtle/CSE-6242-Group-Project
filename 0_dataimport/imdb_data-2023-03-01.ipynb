{
 "cells": [
  {
   "cell_type": "markdown",
   "metadata": {
    "application/vnd.databricks.v1+cell": {
     "cellMetadata": {
      "byteLimit": 2048000,
      "rowLimit": 10000
     },
     "inputWidgets": {},
     "nuid": "04c0ac36-1b1e-437e-b505-07c962d7deae",
     "showTitle": false,
     "title": ""
    }
   },
   "source": [
    "# Readme\n",
    "\n",
    "Before running, import into cluster FileStore/tables. All files should be `gzip`ed already.\n",
    "\n",
    "* All of [IMDB Non-Commerical Dataset](https://datasets.imdbws.com/) in .gz format\n",
    "    * `title.akas.tsv.gz`\n",
    "    * `title.ratings.tsv.gz`\n",
    "    * `title.principals.tsv.gz`\n",
    "    * `title.episode.tsv.gz`\n",
    "    * `title.crew.tsv.gz`\n",
    "    * `title.basics.tsv.gz`\n",
    "    * `name.basics.tsv.gz`\n",
    "* All files from the [Kaggle Anime Dataset](https://www.kaggle.com/datasets/dbdmobile/myanimelist-dataset)\n",
    "    * `anime_dataset.csv.gz`\n",
    "        > This dataset contains comprehensive details of 24,905 anime entries.\n",
    "    * `anime_filtered.csv.gz`\n",
    "        > This dataset provide information about the different attributes and characteristics of each anime (Based on 2020 data).\n",
    "    * `final_animedataset.csv.gz`\n",
    "        * Note, this file needs to be compressed with gzip and uploaded by itself\n",
    "        > This dataset contains user ratings and information about various anime titles. It is curated for building an anime recommendation system(Based on 2018 data).\n",
    "    * `user_filtered.csv.gz`\n",
    "        > This dataset contains the user's ratings for every anime they watched and rated(Based on 2020 data).\n",
    "    * `users_details_2023.csv.gz`\n",
    "        > This dataset comprises information on 731,290 users registered on the MyAnimeList platform. It is worth noting that while a significant portion of these users are genuine anime enthusiasts, there may be instances of bots, inactive accounts, and alternate profiles present within the dataset.\n",
    "    * `users_score_2023.csv.gz`\n",
    "        > This dataset comprises anime scores provided by 270,033 users, resulting in a total of 24,325,191 rows or samples."
   ]
  },
  {
   "cell_type": "markdown",
   "metadata": {
    "application/vnd.databricks.v1+cell": {
     "cellMetadata": {
      "byteLimit": 2048000,
      "rowLimit": 10000
     },
     "inputWidgets": {},
     "nuid": "deecb635-cb9a-445c-aee3-af2f4e94d49a",
     "showTitle": false,
     "title": ""
    }
   },
   "source": [
    "# Import data"
   ]
  },
  {
   "cell_type": "code",
   "execution_count": 0,
   "metadata": {
    "application/vnd.databricks.v1+cell": {
     "cellMetadata": {
      "byteLimit": 2048000,
      "rowLimit": 10000
     },
     "inputWidgets": {},
     "nuid": "86412fde-08b1-49b3-84fe-481fe92841c3",
     "showTitle": false,
     "title": ""
    }
   },
   "outputs": [],
   "source": [
    "from pyspark.sql import SparkSession\n",
    "import pyspark.sql.functions as F"
   ]
  },
  {
   "cell_type": "code",
   "execution_count": 0,
   "metadata": {
    "application/vnd.databricks.v1+cell": {
     "cellMetadata": {
      "byteLimit": 2048000,
      "rowLimit": 10000
     },
     "inputWidgets": {},
     "nuid": "db39801d-cbe6-468d-acc4-c8011a458b31",
     "showTitle": false,
     "title": ""
    }
   },
   "outputs": [
    {
     "output_type": "stream",
     "name": "stdout",
     "output_type": "stream",
     "text": [
      "dbfs:/FileStore/tables/anime_dataset_2023_csv.gz\ndbfs:/FileStore/tables/anime_filtered_csv.gz\ndbfs:/FileStore/tables/final_animedataset_csv.gz\ndbfs:/FileStore/tables/name_basics_tsv.gz\ndbfs:/FileStore/tables/title_akas.tsv\ndbfs:/FileStore/tables/title_akas_tsv.gz\ndbfs:/FileStore/tables/title_basics_tsv.gz\ndbfs:/FileStore/tables/title_crew_tsv.gz\ndbfs:/FileStore/tables/title_episode_tsv.gz\ndbfs:/FileStore/tables/title_principals_tsv.gz\ndbfs:/FileStore/tables/title_ratings_tsv.gz\ndbfs:/FileStore/tables/user_filtered_csv.gz\ndbfs:/FileStore/tables/users_details_2023_csv.gz\ndbfs:/FileStore/tables/users_score_2023_csv.gz\n"
     ]
    }
   ],
   "source": [
    "files = dbutils.fs.ls(\"dbfs:/FileStore/tables/\")\n",
    "for file in files:\n",
    "    print(file.path)"
   ]
  },
  {
   "cell_type": "markdown",
   "metadata": {
    "application/vnd.databricks.v1+cell": {
     "cellMetadata": {
      "byteLimit": 2048000,
      "rowLimit": 10000
     },
     "inputWidgets": {},
     "nuid": "3b1a4feb-f401-4dc5-9abd-85911a367060",
     "showTitle": false,
     "title": ""
    }
   },
   "source": [
    "## Import Kaggle"
   ]
  },
  {
   "cell_type": "code",
   "execution_count": 0,
   "metadata": {
    "application/vnd.databricks.v1+cell": {
     "cellMetadata": {
      "byteLimit": 2048000,
      "rowLimit": 10000
     },
     "inputWidgets": {},
     "nuid": "ab100fac-f86d-4afd-ab99-2f4d0f5e4b3e",
     "showTitle": false,
     "title": ""
    }
   },
   "outputs": [],
   "source": [
    "anime_dataset = spark.read.option(\"header\", \"true\") \\\n",
    "    .option(\"inferSchema\", \"true\") \\\n",
    "    .option(\"multiLine\", \"true\") \\\n",
    "    .csv(\"dbfs:/FileStore/tables/anime_dataset_2023_csv.gz\")\n",
    "\n",
    "anime_filtered = spark.read.option(\"header\", \"true\") \\\n",
    "    .option(\"inferSchema\", \"true\") \\\n",
    "    .option(\"multiLine\", \"true\") \\\n",
    "    .csv(\"dbfs:/FileStore/tables/anime_filtered_csv.gz\")\n",
    "\n",
    "final_animedataset = spark.read.option(\"header\", \"true\") \\\n",
    "    .option(\"inferSchema\", \"true\") \\\n",
    "    .option(\"multiLine\", \"true\") \\\n",
    "    .csv(\"dbfs:/FileStore/tables/final_animedataset_csv.gz\")\n",
    "\n",
    "user_filtered = spark.read.option(\"header\", \"true\") \\\n",
    "    .option(\"inferSchema\", \"true\") \\\n",
    "    .option(\"multiLine\", \"true\") \\\n",
    "    .csv(\"dbfs:/FileStore/tables/user_filtered_csv.gz\")\n",
    "\n",
    "users_details_2023 = spark.read.option(\"header\", \"true\") \\\n",
    "    .option(\"inferSchema\", \"true\") \\\n",
    "    .option(\"multiLine\", \"true\") \\\n",
    "    .csv(\"dbfs:/FileStore/tables/users_details_2023_csv.gz\")\n",
    "\n",
    "users_score_2023 = spark.read.option(\"header\", \"true\") \\\n",
    "    .option(\"inferSchema\", \"true\") \\\n",
    "    .option(\"multiLine\", \"true\") \\\n",
    "    .csv(\"dbfs:/FileStore/tables/users_score_2023_csv.gz\")\n",
    "\n",
    "# anime_dataset.csv.gz\n",
    "# anime_filtered.csv.gz\n",
    "# final_animedataset.csv.gz\n",
    "# user_filtered.csv.gz\n",
    "# users_details_2023.csv.gz\n",
    "# users_score_2023.csv.gz"
   ]
  },
  {
   "cell_type": "markdown",
   "metadata": {
    "application/vnd.databricks.v1+cell": {
     "cellMetadata": {
      "byteLimit": 2048000,
      "rowLimit": 10000
     },
     "inputWidgets": {},
     "nuid": "063b3f82-cab1-4340-8620-9d72285eea91",
     "showTitle": false,
     "title": ""
    }
   },
   "source": [
    "## Import IMDB"
   ]
  },
  {
   "cell_type": "code",
   "execution_count": 0,
   "metadata": {
    "application/vnd.databricks.v1+cell": {
     "cellMetadata": {
      "byteLimit": 2048000,
      "rowLimit": 10000
     },
     "inputWidgets": {},
     "nuid": "11e65179-6769-4703-926c-d60d60ce538a",
     "showTitle": false,
     "title": ""
    }
   },
   "outputs": [],
   "source": [
    "imdb_title = spark.read.option(\"header\", \"true\").option(\"delimiter\", \"\\t\").option(\"inferSchema\", \"true\").csv(\"dbfs:/FileStore/tables/title_akas_tsv.gz\")\n",
    "imdb_ratings = spark.read.option(\"header\", \"true\").option(\"delimiter\", \"\\t\").option(\"inferSchema\", \"true\").csv(\"dbfs:/FileStore/tables/title_ratings_tsv.gz\")\n",
    "imdb_principals = spark.read.option(\"header\", \"true\").option(\"delimiter\", \"\\t\").option(\"inferSchema\", \"true\").csv(\"dbfs:/FileStore/tables/title_principals_tsv.gz\")\n",
    "imdb_episode = spark.read.option(\"header\", \"true\").option(\"delimiter\", \"\\t\").option(\"inferSchema\", \"true\").csv(\"dbfs:/FileStore/tables/title_episode_tsv.gz\")\n",
    "imdb_crew = spark.read.option(\"header\", \"true\").option(\"delimiter\", \"\\t\").option(\"inferSchema\", \"true\").csv(\"dbfs:/FileStore/tables/title_crew_tsv.gz\")\n",
    "imdb_title_basics = spark.read.option(\"header\", \"true\").option(\"delimiter\", \"\\t\").option(\"inferSchema\", \"true\").csv(\"dbfs:/FileStore/tables/title_basics_tsv.gz\")\n",
    "imdb_name_basics = spark.read.option(\"header\", \"true\").option(\"delimiter\", \"\\t\").option(\"inferSchema\", \"true\").csv(\"dbfs:/FileStore/tables/name_basics_tsv.gz\")\n"
   ]
  },
  {
   "cell_type": "markdown",
   "metadata": {
    "application/vnd.databricks.v1+cell": {
     "cellMetadata": {
      "byteLimit": 2048000,
      "rowLimit": 10000
     },
     "inputWidgets": {},
     "nuid": "f6e84682-cb63-4c8f-87ea-c2cb397ed3af",
     "showTitle": false,
     "title": ""
    }
   },
   "source": [
    "# Inspect data"
   ]
  },
  {
   "cell_type": "markdown",
   "metadata": {
    "application/vnd.databricks.v1+cell": {
     "cellMetadata": {
      "byteLimit": 2048000,
      "rowLimit": 10000
     },
     "inputWidgets": {},
     "nuid": "93c92d6b-1430-4aab-adcd-d1e8efd463a8",
     "showTitle": false,
     "title": ""
    }
   },
   "source": [
    "## IMDB Data"
   ]
  },
  {
   "cell_type": "code",
   "execution_count": 0,
   "metadata": {
    "application/vnd.databricks.v1+cell": {
     "cellMetadata": {
      "byteLimit": 2048000,
      "rowLimit": 10000
     },
     "inputWidgets": {},
     "nuid": "608b71e9-5982-4d94-a9cd-e93895facc89",
     "showTitle": false,
     "title": ""
    }
   },
   "outputs": [
    {
     "output_type": "stream",
     "name": "stdout",
     "output_type": "stream",
     "text": [
      "root\n |-- titleId: string (nullable = true)\n |-- ordering: integer (nullable = true)\n |-- title: string (nullable = true)\n |-- region: string (nullable = true)\n |-- language: string (nullable = true)\n |-- types: string (nullable = true)\n |-- attributes: string (nullable = true)\n |-- isOriginalTitle: string (nullable = true)\n\n+---------+--------+--------------------+------+--------+-----------+-------------+---------------+\n|  titleId|ordering|               title|region|language|      types|   attributes|isOriginalTitle|\n+---------+--------+--------------------+------+--------+-----------+-------------+---------------+\n|tt0000001|       1|          Карменсіта|    UA|      \\N|imdbDisplay|           \\N|              0|\n|tt0000001|       2|          Carmencita|    DE|      \\N|         \\N|literal title|              0|\n|tt0000001|       3|Carmencita - span...|    HU|      \\N|imdbDisplay|           \\N|              0|\n|tt0000001|       4|          Καρμενσίτα|    GR|      \\N|imdbDisplay|           \\N|              0|\n|tt0000001|       5|          Карменсита|    RU|      \\N|imdbDisplay|           \\N|              0|\n+---------+--------+--------------------+------+--------+-----------+-------------+---------------+\nonly showing top 5 rows\n\n"
     ]
    }
   ],
   "source": [
    "imdb_title.printSchema()\n",
    "imdb_title.count()\n",
    "imdb_title.show(n=5)"
   ]
  },
  {
   "cell_type": "code",
   "execution_count": 0,
   "metadata": {
    "application/vnd.databricks.v1+cell": {
     "cellMetadata": {
      "byteLimit": 2048000,
      "rowLimit": 10000
     },
     "inputWidgets": {},
     "nuid": "bfbbf081-3e67-41bb-84bb-8ba806c5a25e",
     "showTitle": false,
     "title": ""
    }
   },
   "outputs": [
    {
     "output_type": "stream",
     "name": "stdout",
     "output_type": "stream",
     "text": [
      "+---------+--------+------------+------+--------+-----------+----------+---------------+\n|  titleId|ordering|       title|region|language|      types|attributes|isOriginalTitle|\n+---------+--------+------------+------+--------+-----------+----------+---------------+\n|tt0213338|      10|Cowboy Bebop|    AU|      \\N|imdbDisplay|        \\N|              0|\n|tt0213338|      12|Cowboy Bebop|    IL|      en|imdbDisplay|        \\N|              0|\n|tt0213338|      14|Cowboy Bebop|    FI|      \\N|imdbDisplay|        \\N|              0|\n|tt0213338|      15|Cowboy Bebop|    ID|      en|imdbDisplay|        \\N|              0|\n|tt0213338|      17|Cowboy Bebop|    DE|      \\N|imdbDisplay|        \\N|              0|\n|tt0213338|      19|Cowboy Bebop|    EC|      \\N|imdbDisplay|        \\N|              0|\n|tt0213338|       1|Cowboy Bebop|    IT|      \\N|imdbDisplay|        \\N|              0|\n|tt0213338|      21|Cowboy Bebop|    US|      \\N|imdbDisplay|        \\N|              0|\n|tt0213338|      22|Cowboy Bebop|    SK|      \\N|imdbDisplay|        \\N|              0|\n|tt0213338|      24|Cowboy Bebop|    BR|      \\N|imdbDisplay|        \\N|              0|\n|tt0213338|      26|Cowboy Bebop|    ZA|      en|imdbDisplay|        \\N|              0|\n|tt0213338|      27|Cowboy Bebop|    FR|      \\N|         \\N|        \\N|              0|\n|tt0213338|      29|Cowboy Bebop|    CA|      en|imdbDisplay|        \\N|              0|\n|tt0213338|       2|Cowboy Bebop|    MX|      \\N|imdbDisplay|        \\N|              0|\n|tt0213338|      30|Cowboy Bebop|    PT|      \\N|imdbDisplay|        \\N|              0|\n|tt0213338|      31|Cowboy Bebop|    PL|      \\N|alternative|        \\N|              0|\n|tt0213338|      32|Cowboy Bebop|    GB|      \\N|imdbDisplay|        \\N|              0|\n|tt0213338|      34|Cowboy Bebop|    IN|      hi|imdbDisplay|        \\N|              0|\n|tt0213338|      35|Cowboy Bebop|    ES|      \\N|imdbDisplay|        \\N|              0|\n|tt0213338|      36|Cowboy Bebop|    TR|      tr|imdbDisplay|        \\N|              0|\n+---------+--------+------------+------+--------+-----------+----------+---------------+\nonly showing top 20 rows\n\n"
     ]
    }
   ],
   "source": [
    "imdb_title.filter(F.lower(F.col(\"title\")) == 'cowboy bebop').show()"
   ]
  },
  {
   "cell_type": "code",
   "execution_count": 0,
   "metadata": {
    "application/vnd.databricks.v1+cell": {
     "cellMetadata": {
      "byteLimit": 2048000,
      "rowLimit": 10000
     },
     "inputWidgets": {},
     "nuid": "a3d1f9fb-1a2c-4682-8900-492ee3caaf56",
     "showTitle": false,
     "title": ""
    }
   },
   "outputs": [
    {
     "output_type": "stream",
     "name": "stdout",
     "output_type": "stream",
     "text": [
      "+---------+--------+--------------------+------+--------+-----------+----------+---------------+\n|  titleId|ordering|               title|region|language|      types|attributes|isOriginalTitle|\n+---------+--------+--------------------+------+--------+-----------+----------+---------------+\n|tt0213338|      10|        Cowboy Bebop|    AU|      \\N|imdbDisplay|        \\N|              0|\n|tt0213338|      11|      Kaubôi bibappu|    AE|      \\N|imdbDisplay|        \\N|              0|\n|tt0213338|      12|        Cowboy Bebop|    IL|      en|imdbDisplay|        \\N|              0|\n|tt0213338|      13|        Ковбой Бибоп|    RU|      \\N|imdbDisplay|        \\N|              0|\n|tt0213338|      14|        Cowboy Bebop|    FI|      \\N|imdbDisplay|        \\N|              0|\n|tt0213338|      15|        Cowboy Bebop|    ID|      en|imdbDisplay|        \\N|              0|\n|tt0213338|      16|        Kowboj Bebop|    PL|      \\N|imdbDisplay|        \\N|              0|\n|tt0213338|      17|        Cowboy Bebop|    DE|      \\N|imdbDisplay|        \\N|              0|\n|tt0213338|      18|  カウボーイビバップ|    JP|      ja|imdbDisplay|        \\N|              0|\n|tt0213338|      19|        Cowboy Bebop|    EC|      \\N|imdbDisplay|        \\N|              0|\n|tt0213338|       1|        Cowboy Bebop|    IT|      \\N|imdbDisplay|        \\N|              0|\n|tt0213338|      20|            星際牛仔|    TW|      \\N|imdbDisplay|        \\N|              0|\n|tt0213338|      21|        Cowboy Bebop|    US|      \\N|imdbDisplay|        \\N|              0|\n|tt0213338|      22|        Cowboy Bebop|    SK|      \\N|imdbDisplay|        \\N|              0|\n|tt0213338|      23|      Kaubôi bibappu|    CA|      fr|imdbDisplay|        \\N|              0|\n|tt0213338|      24|        Cowboy Bebop|    BR|      \\N|imdbDisplay|        \\N|              0|\n|tt0213338|      25|        Cowboy Bepop|    SG|      en|imdbDisplay|        \\N|              0|\n|tt0213338|      26|        Cowboy Bebop|    ZA|      en|imdbDisplay|        \\N|              0|\n|tt0213338|      27|        Cowboy Bebop|    FR|      \\N|         \\N|        \\N|              0|\n|tt0213338|      28|Kaubôi bibappu: C...|    \\N|      \\N|   original|        \\N|              1|\n+---------+--------+--------------------+------+--------+-----------+----------+---------------+\nonly showing top 20 rows\n\n"
     ]
    }
   ],
   "source": [
    "imdb_title.filter(F.col(\"titleId\") == \"tt0213338\").show()"
   ]
  },
  {
   "cell_type": "code",
   "execution_count": 0,
   "metadata": {
    "application/vnd.databricks.v1+cell": {
     "cellMetadata": {
      "byteLimit": 2048000,
      "rowLimit": 10000
     },
     "inputWidgets": {},
     "nuid": "401ba0fd-aff7-4ad2-a7b5-e03ea377cfd2",
     "showTitle": false,
     "title": ""
    }
   },
   "outputs": [
    {
     "output_type": "stream",
     "name": "stdout",
     "output_type": "stream",
     "text": [
      "+---------+--------+------------+------+--------+-----------+----------+---------------+\n|  titleId|ordering|       title|region|language|      types|attributes|isOriginalTitle|\n+---------+--------+------------+------+--------+-----------+----------+---------------+\n|tt0213338|      21|Cowboy Bebop|    US|      \\N|imdbDisplay|        \\N|              0|\n+---------+--------+------------+------+--------+-----------+----------+---------------+\n\n"
     ]
    }
   ],
   "source": [
    "imdb_title.filter((F.col(\"titleId\") == \"tt0213338\") & (F.col(\"region\") == \"US\")).show()"
   ]
  },
  {
   "cell_type": "code",
   "execution_count": 0,
   "metadata": {
    "application/vnd.databricks.v1+cell": {
     "cellMetadata": {
      "byteLimit": 2048000,
      "rowLimit": 10000
     },
     "inputWidgets": {},
     "nuid": "beda254a-2e02-4696-ab88-55e9f78f1027",
     "showTitle": false,
     "title": ""
    }
   },
   "outputs": [
    {
     "output_type": "stream",
     "name": "stdout",
     "output_type": "stream",
     "text": [
      "+---------+---------+------------+----------------------------+-------+---------+-------+--------------+--------------------------+\n|tconst   |titleType|primaryTitle|originalTitle               |isAdult|startYear|endYear|runtimeMinutes|genres                    |\n+---------+---------+------------+----------------------------+-------+---------+-------+--------------+--------------------------+\n|tt0213338|tvSeries |Cowboy Bebop|Kaubôi bibappu: Cowboy Bebop|0      |1998     |1999   |650           |Action,Adventure,Animation|\n+---------+---------+------------+----------------------------+-------+---------+-------+--------------+--------------------------+\n\n"
     ]
    }
   ],
   "source": [
    "imdb_title_basics.filter(F.col(\"tconst\") == \"tt0213338\").show(truncate=False)"
   ]
  },
  {
   "cell_type": "code",
   "execution_count": 0,
   "metadata": {
    "application/vnd.databricks.v1+cell": {
     "cellMetadata": {
      "byteLimit": 2048000,
      "rowLimit": 10000
     },
     "inputWidgets": {},
     "nuid": "ddbf5e4c-4a0c-45a8-b1f9-76a1c23ceb9a",
     "showTitle": false,
     "title": ""
    }
   },
   "outputs": [
    {
     "output_type": "stream",
     "name": "stdout",
     "output_type": "stream",
     "text": [
      "+---------+-------------+--------+\n|tconst   |averageRating|numVotes|\n+---------+-------------+--------+\n|tt0213338|8.9          |136589  |\n+---------+-------------+--------+\n\n"
     ]
    }
   ],
   "source": [
    "imdb_ratings.filter(F.col(\"tconst\") == \"tt0213338\").show(truncate=False)"
   ]
  },
  {
   "cell_type": "code",
   "execution_count": 0,
   "metadata": {
    "application/vnd.databricks.v1+cell": {
     "cellMetadata": {
      "byteLimit": 2048000,
      "rowLimit": 10000
     },
     "inputWidgets": {},
     "nuid": "342ea217-ae92-4040-a30e-219b38a6b0dd",
     "showTitle": false,
     "title": ""
    }
   },
   "outputs": [
    {
     "output_type": "stream",
     "name": "stdout",
     "output_type": "stream",
     "text": [
      "+---------+------------+------------+-------------+\n|tconst   |parentTconst|seasonNumber|episodeNumber|\n+---------+------------+------------+-------------+\n|tt0618963|tt0213338   |1           |1            |\n|tt0618964|tt0213338   |1           |5            |\n|tt0618965|tt0213338   |1           |23           |\n|tt0618966|tt0213338   |1           |22           |\n|tt0618967|tt0213338   |1           |10           |\n|tt0618968|tt0213338   |1           |4            |\n|tt0618969|tt0213338   |1           |24           |\n|tt0618970|tt0213338   |1           |7            |\n|tt0618971|tt0213338   |1           |3            |\n|tt0618972|tt0213338   |1           |9            |\n|tt0618973|tt0213338   |1           |12           |\n|tt0618974|tt0213338   |1           |17           |\n|tt0618975|tt0213338   |1           |15           |\n|tt0618976|tt0213338   |1           |20           |\n|tt0618977|tt0213338   |1           |18           |\n|tt0618978|tt0213338   |1           |2            |\n|tt0618979|tt0213338   |1           |6            |\n|tt0618980|tt0213338   |1           |26           |\n|tt0618981|tt0213338   |1           |8            |\n|tt0766181|tt0213338   |1           |25           |\n+---------+------------+------------+-------------+\nonly showing top 20 rows\n\n"
     ]
    }
   ],
   "source": [
    "imdb_episode.filter(F.col(\"parentTconst\") == \"tt0213338\").show(truncate=False)"
   ]
  },
  {
   "cell_type": "markdown",
   "metadata": {
    "application/vnd.databricks.v1+cell": {
     "cellMetadata": {
      "byteLimit": 2048000,
      "rowLimit": 10000
     },
     "inputWidgets": {},
     "nuid": "00c660dc-c427-4669-8a6a-aa6f376554c5",
     "showTitle": false,
     "title": ""
    }
   },
   "source": [
    "## Anime dataset"
   ]
  },
  {
   "cell_type": "code",
   "execution_count": 0,
   "metadata": {
    "application/vnd.databricks.v1+cell": {
     "cellMetadata": {
      "byteLimit": 2048000,
      "rowLimit": 10000
     },
     "inputWidgets": {},
     "nuid": "6c7cd903-c8bf-49ae-83be-486f6f58cb8a",
     "showTitle": false,
     "title": ""
    }
   },
   "outputs": [
    {
     "output_type": "stream",
     "name": "stdout",
     "output_type": "stream",
     "text": [
      "root\n |-- anime_id: string (nullable = true)\n |-- Name: string (nullable = true)\n |-- English name: string (nullable = true)\n |-- Other name: string (nullable = true)\n |-- Score: string (nullable = true)\n |-- Genres: string (nullable = true)\n |-- Synopsis: string (nullable = true)\n |-- Type: string (nullable = true)\n |-- Episodes: string (nullable = true)\n |-- Aired: string (nullable = true)\n |-- Premiered: string (nullable = true)\n |-- Status: string (nullable = true)\n |-- Producers: string (nullable = true)\n |-- Licensors: string (nullable = true)\n |-- Studios: string (nullable = true)\n |-- Source: string (nullable = true)\n |-- Duration: string (nullable = true)\n |-- Rating: string (nullable = true)\n |-- Rank: string (nullable = true)\n |-- Popularity: string (nullable = true)\n |-- Favorites: string (nullable = true)\n |-- Scored By: string (nullable = true)\n |-- Members: string (nullable = true)\n |-- Image URL: string (nullable = true)\n\n+----------------------------------------------------------------+----------------------------------------------------+-----------------------------------------------+-------------------------------------------+-----------------------------------------------------------+-----------------------------------------------------------------------------------------------------------------------------------------------------------------------------------------------------------------------------------------------------+------------------------------------------------------------------------------------------------------------------------------------------------------------------------------------------------------------------------------------------------------------------------------------------------------------------------------------------------------------------------------------------------------------------------------------------------------------------------------------------------------------------------------------------------------------------------------------------------------------------------------------------------------------------------------------------------------------------------------------------------------------------------------------------------------------------------------------------------------------------------------------------------------------------------------------------------------------------------------------------------------------------------------------------------+------------------------------------------------------------------------------------------------------------+----------------------------------------------------------------------------------------------+---------------------------+---------------+--------------------+-----------------------------------------------------------+--------------------------------+-------+-------------+-------------------------+------------------------------+------+----------+---------+---------+----------------------------------------------------+-------------------------------------------------------+\n|anime_id                                                        |Name                                                |English name                                   |Other name                                 |Score                                                      |Genres                                                                                                                                                                                                                                               |Synopsis                                                                                                                                                                                                                                                                                                                                                                                                                                                                                                                                                                                                                                                                                                                                                                                                                                                                                                                                                                                                                                        |Type                                                                                                        |Episodes                                                                                      |Aired                      |Premiered      |Status              |Producers                                                  |Licensors                       |Studios|Source       |Duration                 |Rating                        |Rank  |Popularity|Favorites|Scored By|Members                                             |Image URL                                              |\n+----------------------------------------------------------------+----------------------------------------------------+-----------------------------------------------+-------------------------------------------+-----------------------------------------------------------+-----------------------------------------------------------------------------------------------------------------------------------------------------------------------------------------------------------------------------------------------------+------------------------------------------------------------------------------------------------------------------------------------------------------------------------------------------------------------------------------------------------------------------------------------------------------------------------------------------------------------------------------------------------------------------------------------------------------------------------------------------------------------------------------------------------------------------------------------------------------------------------------------------------------------------------------------------------------------------------------------------------------------------------------------------------------------------------------------------------------------------------------------------------------------------------------------------------------------------------------------------------------------------------------------------------+------------------------------------------------------------------------------------------------------------+----------------------------------------------------------------------------------------------+---------------------------+---------------+--------------------+-----------------------------------------------------------+--------------------------------+-------+-------------+-------------------------+------------------------------+------+----------+---------+---------+----------------------------------------------------+-------------------------------------------------------+\n|1                                                               |Cowboy Bebop                                        |Cowboy Bebop                                   |カウボーイビバップ                         |8.75                                                       |Action, Award Winning, Sci-Fi                                                                                                                                                                                                                        |Crime is timeless. By the year 2071, humanity has expanded across the galaxy, filling the surface of other planets with settlements like those on Earth. These new societies are plagued by murder, drug use, and theft, and intergalactic outlaws are hunted by a growing number of tough bounty hunters.\\n\\nSpike Spiegel and Jet Black pursue criminals throughout space to make a humble living. Beneath his goofy and aloof demeanor, Spike is haunted by the weight of his violent past. Meanwhile, Jet manages his own troubled memories while taking care of Spike and the Bebop, their ship. The duo is joined by the beautiful con artist Faye Valentine, odd child Edward Wong Hau Pepelu Tivrusky IV, and Ein, a bioengineered Welsh Corgi.\\n\\nWhile developing bonds and working to catch a colorful cast of criminals, the Bebop crew's lives are disrupted by a menace from Spike's past. As a rival's maniacal plot continues to unravel, Spike must choose between life with his newfound family or revenge for his old wounds.|TV                                                                                                          |26.0                                                                                          |Apr 3, 1998 to Apr 24, 1999|spring 1998    |Finished Airing     |Bandai Visual                                              |Funimation, Bandai Entertainment|Sunrise|Original     |24 min per ep            |R - 17+ (violence & profanity)|41.0  |43        |78525    |914193.0 |1771505                                             |https://cdn.myanimelist.net/images/anime/4/19644.jpg   |\n|5                                                               |Cowboy Bebop: Tengoku no Tobira                     |Cowboy Bebop: The Movie                        |カウボーイビバップ 天国の扉                |8.38                                                       |Action, Sci-Fi                                                                                                                                                                                                                                       |Another day, another bounty—such is the life of the often unlucky crew of the Bebop. However, this routine is interrupted when Faye, who is chasing a fairly worthless target on Mars, witnesses an oil tanker suddenly explode, causing mass hysteria. As casualties mount due to a strange disease spreading through the smoke from the blast, a whopping three hundred million woolong price is placed on the head of the supposed perpetrator.\\n\\nWith lives at stake and a solution to their money problems in sight, the Bebop crew springs into action. Spike, Jet, Faye, and Edward, followed closely by Ein, split up to pursue different leads across Alba City. Through their individual investigations, they discover a cover-up scheme involving a pharmaceutical company, revealing a plot that reaches much further than the ragtag team of bounty hunters could have realized.                                                                                                                                                  |Movie                                                                                                       |1.0                                                                                           |Sep 1, 2001                |UNKNOWN        |Finished Airing     |Sunrise, Bandai Visual                                     |Sony Pictures Entertainment     |Bones  |Original     |1 hr 55 min              |R - 17+ (violence & profanity)|189.0 |602       |1448     |206248.0 |360978                                              |https://cdn.myanimelist.net/images/anime/1439/93480.jpg|\n|6                                                               |Trigun                                              |Trigun                                         |トライガン                                 |8.22                                                       |Action, Adventure, Sci-Fi                                                                                                                                                                                                                            |\"Vash the Stampede is the man with a $$60,000,000,000 bounty on his head. The reason: he's a merciless villain who lays waste to all those that oppose him and flattens entire cities for fun, garnering him the title \"\"The Humanoid Typhoon.\"\" He leaves a trail of death and destruction wherever he goes                                                                                                                                                                                                                                                                                                                                                                                                                                                                                                                                                                                                                                                                                                                                    | and anyone can count themselves dead if they so much as make eye contact—or so the rumors say. In actuality| Vash is a huge softie who claims to have never taken a life and avoids violence at all costs.|null                       |null           |null                |null                                                       |null                            |null   |null         |null                     |null                          |null  |null      |null     |null     |null                                                |null                                                   |\n|With his crazy doughnut obsession and buffoonish attitude in tow| Vash traverses the wasteland of the planet Gunsmoke| all the while followed by two insurance agents| Meryl Stryfe and Milly Thompson           | who attempt to minimize his impact on the public. But soon| their misadventures evolve into life-or-death situations as a group of legendary assassins are summoned to bring about suffering to the trio. Vash's agonizing past will be unraveled and his morality and principles pushed to the breaking point.\"|TV                                                                                                                                                                                                                                                                                                                                                                                                                                                                                                                                                                                                                                                                                                                                                                                                                                                                                                                                                                                                                                              |26.0                                                                                                        |Apr 1, 1998 to Sep 30, 1998                                                                   |spring 1998                |Finished Airing|Victor Entertainment|Funimation, Geneon Entertainment USA                       |Madhouse                        |Manga  |24 min per ep|PG-13 - Teens 13 or older|328.0                         |246   |15035     |356739.0 |727252   |https://cdn.myanimelist.net/images/anime/7/20310.jpg|null                                                   |\n|7                                                               |Witch Hunter Robin                                  |Witch Hunter Robin                             |Witch Hunter ROBIN (ウイッチハンターロビン)|7.25                                                       |Action, Drama, Mystery, Supernatural                                                                                                                                                                                                                 |Robin Sena is a powerful craft user drafted into the STNJ—a group of specialized hunters that fight deadly beings known as Witches. Though her fire power is great, she's got a lot to learn about her powers and working with her cool and aloof partner, Amon. But the truth about the Witches and herself will leave Robin on an entirely new path that she never expected!\\n\\n(Source: Funimation)                                                                                                                                                                                                                                                                                                                                                                                                                                                                                                                                                                                                                                          |TV                                                                                                          |26.0                                                                                          |Jul 3, 2002 to Dec 25, 2002|summer 2002    |Finished Airing     |Bandai Visual, Dentsu, Victor Entertainment, TV Tokyo Music|Funimation, Bandai Entertainment|Sunrise|Original     |25 min per ep            |PG-13 - Teens 13 or older     |2764.0|1795      |613      |42829.0  |111931                                              |https://cdn.myanimelist.net/images/anime/10/19969.jpg  |\n+----------------------------------------------------------------+----------------------------------------------------+-----------------------------------------------+-------------------------------------------+-----------------------------------------------------------+-----------------------------------------------------------------------------------------------------------------------------------------------------------------------------------------------------------------------------------------------------+------------------------------------------------------------------------------------------------------------------------------------------------------------------------------------------------------------------------------------------------------------------------------------------------------------------------------------------------------------------------------------------------------------------------------------------------------------------------------------------------------------------------------------------------------------------------------------------------------------------------------------------------------------------------------------------------------------------------------------------------------------------------------------------------------------------------------------------------------------------------------------------------------------------------------------------------------------------------------------------------------------------------------------------------+------------------------------------------------------------------------------------------------------------+----------------------------------------------------------------------------------------------+---------------------------+---------------+--------------------+-----------------------------------------------------------+--------------------------------+-------+-------------+-------------------------+------------------------------+------+----------+---------+---------+----------------------------------------------------+-------------------------------------------------------+\nonly showing top 5 rows\n\nOut[51]: [Row(anime_id='1', Name='Cowboy Bebop', English name='Cowboy Bebop', Other name='カウボーイビバップ', Score='8.75', Genres='Action, Award Winning, Sci-Fi', Synopsis=\"Crime is timeless. By the year 2071, humanity has expanded across the galaxy, filling the surface of other planets with settlements like those on Earth. These new societies are plagued by murder, drug use, and theft, and intergalactic outlaws are hunted by a growing number of tough bounty hunters.\\n\\nSpike Spiegel and Jet Black pursue criminals throughout space to make a humble living. Beneath his goofy and aloof demeanor, Spike is haunted by the weight of his violent past. Meanwhile, Jet manages his own troubled memories while taking care of Spike and the Bebop, their ship. The duo is joined by the beautiful con artist Faye Valentine, odd child Edward Wong Hau Pepelu Tivrusky IV, and Ein, a bioengineered Welsh Corgi.\\n\\nWhile developing bonds and working to catch a colorful cast of criminals, the Bebop crew's lives are disrupted by a menace from Spike's past. As a rival's maniacal plot continues to unravel, Spike must choose between life with his newfound family or revenge for his old wounds.\", Type='TV', Episodes='26.0', Aired='Apr 3, 1998 to Apr 24, 1999', Premiered='spring 1998', Status='Finished Airing', Producers='Bandai Visual', Licensors='Funimation, Bandai Entertainment', Studios='Sunrise', Source='Original', Duration='24 min per ep', Rating='R - 17+ (violence & profanity)', Rank='41.0', Popularity='43', Favorites='78525', Scored By='914193.0', Members='1771505', Image URL='https://cdn.myanimelist.net/images/anime/4/19644.jpg')]"
     ]
    }
   ],
   "source": [
    "anime_dataset.count()\n",
    "anime_dataset.printSchema()\n",
    "anime_dataset.show(n=5, truncate=False)\n",
    "anime_dataset.filter(F.col('anime_id') == '1').collect()"
   ]
  },
  {
   "cell_type": "code",
   "execution_count": 0,
   "metadata": {
    "application/vnd.databricks.v1+cell": {
     "cellMetadata": {
      "byteLimit": 2048000,
      "rowLimit": 10000
     },
     "inputWidgets": {},
     "nuid": "bee241a9-5bfd-44db-84a2-f1ed2a45342c",
     "showTitle": false,
     "title": ""
    }
   },
   "outputs": [
    {
     "output_type": "stream",
     "name": "stdout",
     "output_type": "stream",
     "text": [
      "root\n |-- anime_id: integer (nullable = true)\n |-- Name: string (nullable = true)\n |-- Score: string (nullable = true)\n |-- Genres: string (nullable = true)\n |-- English name: string (nullable = true)\n |-- Japanese name: string (nullable = true)\n |-- sypnopsis: string (nullable = true)\n |-- Type: string (nullable = true)\n |-- Episodes: string (nullable = true)\n |-- Aired: string (nullable = true)\n |-- Premiered: string (nullable = true)\n |-- Producers: string (nullable = true)\n |-- Licensors: string (nullable = true)\n |-- Studios: string (nullable = true)\n |-- Source: string (nullable = true)\n |-- Duration: string (nullable = true)\n |-- Rating: string (nullable = true)\n |-- Ranked: string (nullable = true)\n |-- Popularity: string (nullable = true)\n |-- Members: string (nullable = true)\n |-- Favorites: string (nullable = true)\n |-- Watching: string (nullable = true)\n |-- Completed: string (nullable = true)\n |-- On-Hold: string (nullable = true)\n |-- Dropped: string (nullable = true)\n\n+--------+--------------------+-----+--------------------+--------------------+---------------------------+--------------------+--------------------+--------------------+--------------------+--------------------+--------------------+--------------------+--------------------+--------------------+---------------+--------------------+--------------------+--------------------+--------------------+---------------+--------------------+---------------+--------------------+-------+\n|anime_id|                Name|Score|              Genres|        English name|              Japanese name|           sypnopsis|                Type|            Episodes|               Aired|           Premiered|           Producers|           Licensors|             Studios|              Source|       Duration|              Rating|              Ranked|          Popularity|             Members|      Favorites|            Watching|      Completed|             On-Hold|Dropped|\n+--------+--------------------+-----+--------------------+--------------------+---------------------------+--------------------+--------------------+--------------------+--------------------+--------------------+--------------------+--------------------+--------------------+--------------------+---------------+--------------------+--------------------+--------------------+--------------------+---------------+--------------------+---------------+--------------------+-------+\n|       1|        Cowboy Bebop| 8.78|Action, Adventure...|        Cowboy Bebop|         カウボーイビバップ|\"In the year 2071...| pragmatic partne...| a genetically en...| highly intellige...| an enigmatic tri...| Cowboy Bebop is ...|                  TV|                  26|Apr 3, 1998 to Ap...|    Spring 1998|       Bandai Visual|Funimation, Banda...|             Sunrise|            Original|24 min. per ep.|R - 17+ (violence...|           28.0|                  39|1251960|\n|       5|Cowboy Bebop: Ten...| 8.39|Action, Drama, My...|Cowboy Bebop:The ...|カウボーイビバップ 天国の扉|other day, anothe...|               Movie|                   1|         Sep 1, 2001|             Unknown|Sunrise, Bandai V...|Sony Pictures Ent...|               Bones|            Original|  1 hr. 55 min.|R - 17+ (violence...|               159.0|                 518|              273145|           1174|                4143|         208333|                1935|    770|\n|       6|              Trigun| 8.24|Action, Sci-Fi, A...|              Trigun|                 トライガン|\"Vash the Stamped...| and anyone can c...| Vash is a huge s...| Vash traverses t...| all the while fo...| Meryl Stryfe and...| who attempt to m...| their misadventu...|                  TV|             26|Apr 1, 1998 to Se...|         Spring 1998|Victor Entertainment|Funimation, Geneo...|       Madhouse|               Manga|24 min. per ep.|PG-13 - Teens 13 ...|  266.0|\n|       7|  Witch Hunter Robin| 7.27|Action, Mystery, ...|  Witch Hunter Robin|       Witch Hunter ROBI...|ches are individu...|                  TV|                  26|Jul 2, 2002 to De...|         Summer 2002|TV Tokyo, Bandai ...|Funimation, Banda...|             Sunrise|            Original|25 min. per ep.|PG-13 - Teens 13 ...|              2481.0|                1467|               94683|            587|                4300|          46165|                5121|   5378|\n|       8|      Bouken Ou Beet| 6.98|Adventure, Fantas...|Beet the Vandel B...|               冒険王ビィト|It is the dark ce...|                  TV|                  52|Sep 30, 2004 to S...|           Fall 2004|    TV Tokyo, Dentsu|             Unknown|      Toei Animation|               Manga|23 min. per ep.|       PG - Children|              3710.0|                4369|               13224|             18|                 642|           7314|                 766|   1108|\n+--------+--------------------+-----+--------------------+--------------------+---------------------------+--------------------+--------------------+--------------------+--------------------+--------------------+--------------------+--------------------+--------------------+--------------------+---------------+--------------------+--------------------+--------------------+--------------------+---------------+--------------------+---------------+--------------------+-------+\nonly showing top 5 rows\n\nOut[49]: [Row(anime_id=1, Name='Cowboy Bebop', Score='8.78', Genres='Action, Adventure, Comedy, Drama, Sci-Fi, Space', English name='Cowboy Bebop', Japanese name='カウボーイビバップ', sypnopsis='\"In the year 2071, humanity has colonized several of the planets and moons of the solar system leaving the now uninhabitable surface of planet Earth behind. The Inter Solar System Police attempts to keep peace in the galaxy, aided in part by outlaw bounty hunters, referred to as \"\"Cowboys.\"\" The ragtag team aboard the spaceship Bebop are two such individuals. Mellow and carefree Spike Spiegel is balanced by his boisterous', Type=' pragmatic partner Jet Black as the pair makes a living chasing bounties and collecting rewards. Thrown off course by the addition of new members that they meet in their travels—Ein', Episodes=' a genetically engineered', Aired=' highly intelligent Welsh Corgi; femme fatale Faye Valentine', Premiered=\" an enigmatic trickster with memory loss; and the strange computer whiz kid Edward Wong—the crew embarks on thrilling adventures that unravel each member's dark and mysterious past little by little. Well-balanced with high density action and light-hearted comedy\", Producers=' Cowboy Bebop is a space Western classic and an homage to the smooth and improvised music it is named after.\"', Licensors='TV', Studios='26', Source='Apr 3, 1998 to Apr 24, 1999', Duration='Spring 1998', Rating='Bandai Visual', Ranked='Funimation, Bandai Entertainment', Popularity='Sunrise', Members='Original', Favorites='24 min. per ep.', Watching='R - 17+ (violence & profanity)', Completed='28.0', On-Hold='39', Dropped='1251960')]"
     ]
    }
   ],
   "source": [
    "anime_filtered.printSchema()\n",
    "anime_filtered.count()\n",
    "anime_filtered.show(n=5)\n",
    "anime_filtered.filter(F.col('anime_id') == 1).collect()"
   ]
  },
  {
   "cell_type": "code",
   "execution_count": 0,
   "metadata": {
    "application/vnd.databricks.v1+cell": {
     "cellMetadata": {
      "byteLimit": 2048000,
      "rowLimit": 10000
     },
     "inputWidgets": {},
     "nuid": "93d7ed66-e2d5-4364-8032-49dcae5e6a30",
     "showTitle": false,
     "title": ""
    }
   },
   "outputs": [
    {
     "output_type": "stream",
     "name": "stdout",
     "output_type": "stream",
     "text": [
      "root\n |-- username: string (nullable = true)\n |-- anime_id: integer (nullable = true)\n |-- my_score: integer (nullable = true)\n |-- user_id: integer (nullable = true)\n |-- gender: string (nullable = true)\n |-- title: string (nullable = true)\n |-- type: string (nullable = true)\n |-- source: string (nullable = true)\n |-- score: string (nullable = true)\n |-- scored_by: double (nullable = true)\n |-- rank: double (nullable = true)\n |-- popularity: double (nullable = true)\n |-- genre: string (nullable = true)\n\n+--------+--------+--------+-------+------+-------------+----+------+-----+---------+------+----------+--------------------+\n|username|anime_id|my_score|user_id|gender|        title|type|source|score|scored_by|  rank|popularity|               genre|\n+--------+--------+--------+-------+------+-------------+----+------+-----+---------+------+----------+--------------------+\n|karthiga|      21|       9|2255153|Female|    One Piece|  TV| Manga| 8.54| 423868.0|  91.0|      35.0|Action, Adventure...|\n|karthiga|      59|       7|2255153|Female|      Chobits|  TV| Manga| 7.53| 175388.0|1546.0|     188.0|Sci-Fi, Comedy, D...|\n|karthiga|      74|       7|2255153|Female| Gakuen Alice|  TV| Manga| 7.77|  33244.0| 941.0|    1291.0|Comedy, School, S...|\n|karthiga|     120|       7|2255153|Female|Fruits Basket|  TV| Manga| 7.77| 167968.0| 939.0|     222.0|Slice of Life, Co...|\n|karthiga|     178|       7|2255153|Female| Ultra Maniac|  TV| Manga| 7.26|   9663.0|2594.0|    2490.0|Magic, Comedy, Ro...|\n+--------+--------+--------+-------+------+-------------+----+------+-----+---------+------+----------+--------------------+\nonly showing top 5 rows\n\nOut[46]: DataFrame[username: string, anime_id: int, my_score: int, user_id: int, gender: string, title: string, type: string, source: string, score: string, scored_by: double, rank: double, popularity: double, genre: string]"
     ]
    }
   ],
   "source": [
    "\n",
    "final_animedataset.printSchema()\n",
    "final_animedataset.count()\n",
    "final_animedataset.show(n=5)\n",
    "final_animedataset.filter(F.col('anime_id') == 1)"
   ]
  },
  {
   "cell_type": "code",
   "execution_count": 0,
   "metadata": {
    "application/vnd.databricks.v1+cell": {
     "cellMetadata": {
      "byteLimit": 2048000,
      "rowLimit": 10000
     },
     "inputWidgets": {},
     "nuid": "15784c09-3014-4cb6-b34b-515daab41fc7",
     "showTitle": false,
     "title": ""
    }
   },
   "outputs": [
    {
     "output_type": "stream",
     "name": "stdout",
     "output_type": "stream",
     "text": [
      "root\n |-- user_id: integer (nullable = true)\n |-- anime_id: integer (nullable = true)\n |-- rating: integer (nullable = true)\n\n+-------+--------+------+\n|user_id|anime_id|rating|\n+-------+--------+------+\n|      0|      67|     9|\n|      0|    6702|     7|\n|      0|     242|    10|\n|      0|    4898|     0|\n|      0|      21|    10|\n+-------+--------+------+\nonly showing top 5 rows\n\n"
     ]
    }
   ],
   "source": [
    "user_filtered.printSchema()\n",
    "user_filtered.count()\n",
    "user_filtered.show(n=5)"
   ]
  },
  {
   "cell_type": "code",
   "execution_count": 0,
   "metadata": {
    "application/vnd.databricks.v1+cell": {
     "cellMetadata": {
      "byteLimit": 2048000,
      "rowLimit": 10000
     },
     "inputWidgets": {},
     "nuid": "0ca8d252-f20c-4ee1-b649-9fc4e169c49f",
     "showTitle": false,
     "title": ""
    }
   },
   "outputs": [
    {
     "output_type": "stream",
     "name": "stdout",
     "output_type": "stream",
     "text": [
      "root\n |-- Mal ID: integer (nullable = true)\n |-- Username: string (nullable = true)\n |-- Gender: string (nullable = true)\n |-- Birthday: timestamp (nullable = true)\n |-- Location: string (nullable = true)\n |-- Joined: string (nullable = true)\n |-- Days Watched: string (nullable = true)\n |-- Mean Score: string (nullable = true)\n |-- Watching: double (nullable = true)\n |-- Completed: double (nullable = true)\n |-- On Hold: double (nullable = true)\n |-- Dropped: double (nullable = true)\n |-- Plan to Watch: double (nullable = true)\n |-- Total Entries: double (nullable = true)\n |-- Rewatched: double (nullable = true)\n |-- Episodes Watched: double (nullable = true)\n\n+------+--------+------+-------------------+--------------------+--------------------+------------+----------+--------+---------+-------+-------+-------------+-------------+---------+----------------+\n|Mal ID|Username|Gender|           Birthday|            Location|              Joined|Days Watched|Mean Score|Watching|Completed|On Hold|Dropped|Plan to Watch|Total Entries|Rewatched|Episodes Watched|\n+------+--------+------+-------------------+--------------------+--------------------+------------+----------+--------+---------+-------+-------+-------------+-------------+---------+----------------+\n|     1|   Xinil|  Male|1985-03-04 00:00:00|          California|2004-11-05T00:00:...|       142.3|      7.37|     1.0|    233.0|    8.0|   93.0|         64.0|        399.0|     60.0|          8458.0|\n|     3| Aokaado|  Male|               null|        Oslo, Norway|2004-11-11T00:00:...|        68.6|      7.34|    23.0|    137.0|   99.0|   44.0|         40.0|        343.0|     15.0|          4072.0|\n|     4| Crystal|Female|               null|Melbourne, Australia|2004-11-13T00:00:...|       212.8|      6.68|    16.0|    636.0|  303.0|    0.0|         45.0|       1000.0|     10.0|         12781.0|\n|     9|  Arcane|  null|               null|                null|2004-12-05T00:00:...|        30.0|      7.71|     5.0|     54.0|    4.0|    3.0|          0.0|         66.0|      0.0|          1817.0|\n|    18|     Mad|  null|               null|                null|2005-01-03T00:00:...|        52.0|      6.27|     1.0|    114.0|   10.0|    5.0|         23.0|        153.0|     42.0|          3038.0|\n+------+--------+------+-------------------+--------------------+--------------------+------------+----------+--------+---------+-------+-------+-------------+-------------+---------+----------------+\nonly showing top 5 rows\n\n"
     ]
    }
   ],
   "source": [
    "users_details_2023.printSchema()\n",
    "users_details_2023.count()\n",
    "users_details_2023.show(n=5)"
   ]
  },
  {
   "cell_type": "code",
   "execution_count": 0,
   "metadata": {
    "application/vnd.databricks.v1+cell": {
     "cellMetadata": {
      "byteLimit": 2048000,
      "rowLimit": 10000
     },
     "inputWidgets": {},
     "nuid": "cc1c0bb4-d390-4dad-a308-fcdd0d45aebb",
     "showTitle": false,
     "title": ""
    }
   },
   "outputs": [
    {
     "output_type": "stream",
     "name": "stdout",
     "output_type": "stream",
     "text": [
      "root\n |-- user_id: integer (nullable = true)\n |-- Username: string (nullable = true)\n |-- anime_id: integer (nullable = true)\n |-- Anime Title: string (nullable = true)\n |-- rating: string (nullable = true)\n\n+-------+--------+--------+--------------------+------+\n|user_id|Username|anime_id|         Anime Title|rating|\n+-------+--------+--------+--------------------+------+\n|      1|   Xinil|      21|           One Piece|     9|\n|      1|   Xinil|      48|         .hack//Sign|     7|\n|      1|   Xinil|     320|              A Kite|     5|\n|      1|   Xinil|      49|    Aa! Megami-sama!|     8|\n|      1|   Xinil|     304|Aa! Megami-sama! ...|     8|\n+-------+--------+--------+--------------------+------+\nonly showing top 5 rows\n\n"
     ]
    }
   ],
   "source": [
    "users_score_2023.printSchema()\n",
    "users_score_2023.count()\n",
    "users_score_2023.show(n=5)"
   ]
  },
  {
   "cell_type": "markdown",
   "metadata": {
    "application/vnd.databricks.v1+cell": {
     "cellMetadata": {},
     "inputWidgets": {},
     "nuid": "fc4f4336-f282-40b5-b42d-e9a0e5aa8c61",
     "showTitle": false,
     "title": ""
    }
   },
   "source": [
    "## Join data"
   ]
  },
  {
   "cell_type": "code",
   "execution_count": 0,
   "metadata": {
    "application/vnd.databricks.v1+cell": {
     "cellMetadata": {
      "byteLimit": 2048000,
      "rowLimit": 10000
     },
     "inputWidgets": {},
     "nuid": "827c4352-9e46-4f6f-aa66-2d323f8b8442",
     "showTitle": true,
     "title": "Anime dataset to IMDB"
    }
   },
   "outputs": [
    {
     "output_type": "stream",
     "name": "stdout",
     "output_type": "stream",
     "text": [
      "96\n"
     ]
    }
   ],
   "source": [
    "imdb_title_us = imdb_title.filter(F.col(\"region\") == \"US\")\n",
    "\n",
    "# Join the filtered imdb_title DataFrame with the anime_dataset DataFrame\n",
    "# Assuming both DataFrames have a column named \"title\" for the join condition\n",
    "joined_df = anime_dataset.join(imdb_title_us, anime_dataset[\"English name\"] == imdb_title_us[\"title\"], how=\"inner\")\n",
    "\n",
    "filtered_df = joined_df.filter(F.col('title') == 'Sleeping Beauty')\n",
    "row_count = filtered_df.count()\n",
    "print(row_count)"
   ]
  },
  {
   "cell_type": "code",
   "execution_count": 0,
   "metadata": {
    "application/vnd.databricks.v1+cell": {
     "cellMetadata": {},
     "inputWidgets": {},
     "nuid": "8be4057f-1c5f-4dfa-b233-19c95ba67300",
     "showTitle": false,
     "title": ""
    }
   },
   "outputs": [],
   "source": []
  }
 ],
 "metadata": {
  "application/vnd.databricks.v1+notebook": {
   "dashboards": [],
   "language": "python",
   "notebookMetadata": {
    "pythonIndentUnit": 4
   },
   "notebookName": "imdb_data -2024-03-01",
   "widgets": {}
  },
  "language_info": {
   "name": "python"
  }
 },
 "nbformat": 4,
 "nbformat_minor": 0
}
