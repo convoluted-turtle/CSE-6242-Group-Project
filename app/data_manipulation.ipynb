{
 "cells": [
  {
   "cell_type": "code",
   "execution_count": 7,
   "metadata": {},
   "outputs": [],
   "source": [
    "import sys \n",
    "sys.path.append('/Users/justinvhuang/Desktop/CSE-6242-Group-Project')"
   ]
  },
  {
   "cell_type": "code",
   "execution_count": 47,
   "metadata": {},
   "outputs": [],
   "source": [
    "import pandas as pd\n",
    "from langchain.embeddings import HuggingFaceEmbeddings\n",
    "from langchain_community.vectorstores import FAISS\n",
    "from utils.textpreprocessing import TextPreprocessor\n",
    "textprepo = TextPreprocessor()\n",
    "\n",
    "import pickle "
   ]
  },
  {
   "cell_type": "code",
   "execution_count": 38,
   "metadata": {},
   "outputs": [],
   "source": [
    "def create_retriever(faiss_db: str):\n",
    "    \"\"\"\n",
    "    Creates a retriever using a FAISS index.\n",
    "\n",
    "    Args:\n",
    "        faiss_db (str): Path to the FAISS index file.\n",
    "\n",
    "    Returns:\n",
    "        retriever: A retriever object configured with FAISS index.\n",
    "    \"\"\"\n",
    "    encode_kwargs = {\"normalize_embeddings\": True}\n",
    "    \n",
    "    # Initialize Hugging Face embeddings\n",
    "    embedding_function = HuggingFaceEmbeddings(\n",
    "        model_name='sentence-transformers/all-MiniLM-L6-v2',\n",
    "        model_kwargs={\"device\": \"cpu\"},\n",
    "        encode_kwargs=encode_kwargs,\n",
    "    )\n",
    "\n",
    "    # Load FAISS index\n",
    "    db_faiss = FAISS.load_local(faiss_db, embeddings=embedding_function)\n",
    "\n",
    "    def filter_tokens(metadata: dict) -> bool:\n",
    "        \"\"\"\n",
    "        Filter function to apply on retrieved documents based on metadata.\n",
    "\n",
    "        Args:\n",
    "            metadata (dict): Metadata of the document.\n",
    "            query_token (list): List of tokens to filter.\n",
    "\n",
    "        Returns:\n",
    "            bool: True if the document passes the filter, False otherwise.\n",
    "        \"\"\"\n",
    "        metadata_tokens = metadata.get(\"tokens\", [])\n",
    "        metadata_studio = metadata.get(\"studio\", [])\n",
    "        metadata_producer = metadata.get(\"producer\", [])\n",
    "        metadata_licensors = metadata.get(\"licensors\", [])\n",
    "        metadata_genre = metadata.get(\"genre\", [])\n",
    "\n",
    "        return (\n",
    "            any(token in metadata_tokens for token in query_token)\n",
    "            or metadata.get(\"score\", 0.0) > 5.0\n",
    "            or any(token in metadata_studio for token in query_token)\n",
    "            or any(token in metadata_producer for token in query_token)\n",
    "            or any(token in metadata_licensors for token in query_token)\n",
    "            or any(token in metadata_genre for token in query_token)\n",
    "        )\n",
    "\n",
    "    # Create retriever object\n",
    "    retriever = db_faiss.as_retriever(search_kwargs={\"k\": 50, \"filter\": filter_tokens})\n",
    "    return retriever"
   ]
  },
  {
   "cell_type": "code",
   "execution_count": 39,
   "metadata": {},
   "outputs": [],
   "source": [
    "retriever = create_retriever(\"/Users/justinvhuang/Desktop/CSE-6242-Group-Project/app/faiss_anime_index_v3\")"
   ]
  },
  {
   "cell_type": "code",
   "execution_count": 40,
   "metadata": {},
   "outputs": [],
   "source": [
    "query = 'what are some good anime that is hand drawn'\n",
    "query_token = textprepo.preprocess_text(query)"
   ]
  },
  {
   "cell_type": "code",
   "execution_count": 41,
   "metadata": {},
   "outputs": [],
   "source": [
    "results = retriever.get_relevant_documents(query)"
   ]
  },
  {
   "cell_type": "code",
   "execution_count": 43,
   "metadata": {},
   "outputs": [],
   "source": [
    "df = pd.read_json(\"/Users/justinvhuang/Desktop/CSE-6242-Group-Project/app/fin_anime_dfv2.json\")"
   ]
  },
  {
   "cell_type": "code",
   "execution_count": 76,
   "metadata": {},
   "outputs": [],
   "source": [
    "# Load data from pickle file\n",
    "with open('/Users/justinvhuang/Desktop/CSE-6242-Group-Project/app/anime_recommendations_item_knn_CF_10k_num_fin.pkl', 'rb') as f:\n",
    "    cf_recs = pickle.load(f)\n",
    "\n",
    "# Load data from pickle file\n",
    "with open('/Users/justinvhuang/Desktop/CSE-6242-Group-Project/app/popular_dict_10.pkl', 'rb') as f:\n",
    "    pop_recs = pickle.load(f)"
   ]
  },
  {
   "cell_type": "code",
   "execution_count": 63,
   "metadata": {},
   "outputs": [],
   "source": [
    "# Mapping function\n",
    "def map_anime_ids(anime_id):\n",
    "    return cf_recs.get(anime_id, [])\n",
    "\n",
    "# Applying mapping function to create new column\n",
    "df['anime_values'] = df['anime_id'].apply(map_anime_ids)"
   ]
  },
  {
   "cell_type": "code",
   "execution_count": 78,
   "metadata": {},
   "outputs": [],
   "source": [
    "popular_list = [x['anime_id'] for x in pop_recs]"
   ]
  },
  {
   "cell_type": "code",
   "execution_count": 83,
   "metadata": {},
   "outputs": [],
   "source": [
    "pd.set_option('display.max_colwidth', None)"
   ]
  },
  {
   "cell_type": "code",
   "execution_count": 88,
   "metadata": {},
   "outputs": [],
   "source": [
    "popular_anime_descriptions = df[df['anime_id'].isin(popular_list)]['text'].head(5).tolist()"
   ]
  },
  {
   "cell_type": "code",
   "execution_count": 65,
   "metadata": {},
   "outputs": [],
   "source": [
    "indexes = {x.metadata['anime_id']: index for index, x in enumerate(results)}"
   ]
  },
  {
   "cell_type": "code",
   "execution_count": 67,
   "metadata": {},
   "outputs": [],
   "source": [
    "cf_list = list(df[df['anime_id'].isin(list(indexes.keys()))]['anime_values'])"
   ]
  },
  {
   "cell_type": "code",
   "execution_count": 69,
   "metadata": {},
   "outputs": [],
   "source": [
    "if cf_list is not None:\n",
    "    joined_list = [item for sublist in cf_list if sublist is not None for item in sublist if item is not None]"
   ]
  },
  {
   "cell_type": "code",
   "execution_count": 101,
   "metadata": {},
   "outputs": [],
   "source": [
    "top3_posters = df[df['anime_id'].isin(list(indexes.keys())[0:3])]['image_y'].tolist()\n",
    "top3_name = df[df['anime_id'].isin(list(indexes.keys())[0:3])]['Name'].tolist()"
   ]
  },
  {
   "cell_type": "code",
   "execution_count": 108,
   "metadata": {},
   "outputs": [],
   "source": [
    "vd_recs = list(set(list(indexes.keys())))"
   ]
  },
  {
   "cell_type": "code",
   "execution_count": 109,
   "metadata": {},
   "outputs": [],
   "source": [
    "\n",
    "recs = df[df['anime_id'].isin(joined_list + pop_recs + vd_recs)]\n",
    "recs2 = df[df['anime_id'].isin(joined_list +  vd_recs)]\n",
    "descriptions = recs['anime_Synopsis'].tolist()"
   ]
  },
  {
   "cell_type": "code",
   "execution_count": null,
   "metadata": {},
   "outputs": [],
   "source": []
  }
 ],
 "metadata": {
  "kernelspec": {
   "display_name": "langchain",
   "language": "python",
   "name": "python3"
  },
  "language_info": {
   "codemirror_mode": {
    "name": "ipython",
    "version": 3
   },
   "file_extension": ".py",
   "mimetype": "text/x-python",
   "name": "python",
   "nbconvert_exporter": "python",
   "pygments_lexer": "ipython3",
   "version": "3.10.13"
  }
 },
 "nbformat": 4,
 "nbformat_minor": 2
}
