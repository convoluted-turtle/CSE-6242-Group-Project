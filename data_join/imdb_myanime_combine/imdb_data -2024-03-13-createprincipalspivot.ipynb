{
 "cells": [
  {
   "cell_type": "markdown",
   "metadata": {
    "application/vnd.databricks.v1+cell": {
     "cellMetadata": {
      "byteLimit": 2048000,
      "rowLimit": 10000
     },
     "inputWidgets": {},
     "nuid": "04c0ac36-1b1e-437e-b505-07c962d7deae",
     "showTitle": false,
     "title": ""
    }
   },
   "source": [
    "# Readme\n",
    "\n",
    "This runs after the IMDB-Kaggle joined dataset (part-00000-b7bb5828-f78a-4d39-a019-33f1586faf35-c000.csv)\n",
    "This pivots valid IMDB principals"
   ]
  },
  {
   "cell_type": "markdown",
   "metadata": {
    "application/vnd.databricks.v1+cell": {
     "cellMetadata": {
      "byteLimit": 2048000,
      "rowLimit": 10000
     },
     "inputWidgets": {},
     "nuid": "deecb635-cb9a-445c-aee3-af2f4e94d49a",
     "showTitle": false,
     "title": ""
    }
   },
   "source": [
    "# Import data"
   ]
  },
  {
   "cell_type": "markdown",
   "metadata": {},
   "source": [
    "Check status at http://localhost:4040/"
   ]
  },
  {
   "cell_type": "code",
   "execution_count": 1,
   "metadata": {},
   "outputs": [],
   "source": [
    "import os\n",
    "memory = '2g'\n",
    "cores = '4'\n",
    "pyspark_submit_args = ' --driver-memory ' + memory + ' --executor-memory ' + memory + ' --executor-cores ' + cores + ' pyspark-shell'\n",
    "# pyspark_submit_args = ' --driver-memory ' + memory + ' --executor-memory ' + memory + ' --executor-cores ' + cores + ' --bindAddress  127.0.0.1 pyspark-shell'\n",
    "os.environ[\"PYSPARK_SUBMIT_ARGS\"] = pyspark_submit_args"
   ]
  },
  {
   "cell_type": "code",
   "execution_count": 2,
   "metadata": {
    "application/vnd.databricks.v1+cell": {
     "cellMetadata": {
      "byteLimit": 2048000,
      "rowLimit": 10000
     },
     "inputWidgets": {},
     "nuid": "86412fde-08b1-49b3-84fe-481fe92841c3",
     "showTitle": false,
     "title": ""
    }
   },
   "outputs": [],
   "source": [
    "import pyspark\n",
    "from pyspark.sql import SparkSession\n",
    "import pyspark.sql.functions as F\n",
    "from pyspark.sql.functions import col\n",
    "from pyspark.sql import DataFrame\n",
    "import os\n",
    "from pyspark.sql import SparkSession\n",
    "from pyspark.sql.window import Window\n",
    "from pyspark.sql.types import StringType\n",
    "from pyspark.sql.functions import regexp_replace, col\n",
    "from pyspark.sql.functions import lit\n",
    "from pyspark.sql.functions import col, collect_list, concat_ws"
   ]
  },
  {
   "cell_type": "code",
   "execution_count": 3,
   "metadata": {},
   "outputs": [
    {
     "name": "stderr",
     "output_type": "stream",
     "text": [
      "Setting default log level to \"WARN\".\n",
      "To adjust logging level use sc.setLogLevel(newLevel). For SparkR, use setLogLevel(newLevel).\n",
      "24/03/13 22:29:42 WARN NativeCodeLoader: Unable to load native-hadoop library for your platform... using builtin-java classes where applicable\n"
     ]
    }
   ],
   "source": [
    "spark = SparkSession.builder \\\n",
    "    .appName(\"project\") \\\n",
    "    .config(\"spark.driver.bindAddress\", \"127.0.0.1\")\\\n",
    "    .config(\"spark.sql.pivotMaxValues\", \"99999\")\\\n",
    "    .getOrCreate()"
   ]
  },
  {
   "cell_type": "code",
   "execution_count": 4,
   "metadata": {
    "application/vnd.databricks.v1+cell": {
     "cellMetadata": {
      "byteLimit": 2048000,
      "rowLimit": 10000
     },
     "inputWidgets": {},
     "nuid": "db39801d-cbe6-468d-acc4-c8011a458b31",
     "showTitle": false,
     "title": ""
    }
   },
   "outputs": [
    {
     "name": "stdout",
     "output_type": "stream",
     "text": [
      ".DS_Store\n",
      "kaggle\n",
      "spark-export\n",
      "imdb-scrape\n",
      "imdb\n",
      "export\n"
     ]
    }
   ],
   "source": [
    "#files = dbutils.fs.ls(\"dbfs:/FileStore/tables/\")\n",
    "files = os.listdir(\"./data\")\n",
    "for file in files:\n",
    "    print(file)"
   ]
  },
  {
   "cell_type": "code",
   "execution_count": 5,
   "metadata": {
    "application/vnd.databricks.v1+cell": {
     "cellMetadata": {
      "byteLimit": 2048000,
      "rowLimit": 10000
     },
     "inputWidgets": {},
     "nuid": "40a0320e-e6fe-4e2d-bb64-b4cf0db14f22",
     "showTitle": false,
     "title": ""
    }
   },
   "outputs": [],
   "source": [
    "def add_prefix_to_columns(df: DataFrame, prefix: str) -> DataFrame:\n",
    "    return df.select([col(c).alias(prefix + \"_\" + c) for c in df.columns])"
   ]
  },
  {
   "cell_type": "markdown",
   "metadata": {
    "application/vnd.databricks.v1+cell": {
     "cellMetadata": {
      "byteLimit": 2048000,
      "rowLimit": 10000
     },
     "inputWidgets": {},
     "nuid": "3b1a4feb-f401-4dc5-9abd-85911a367060",
     "showTitle": false,
     "title": ""
    }
   },
   "source": [
    "## Import Kaggle"
   ]
  },
  {
   "cell_type": "markdown",
   "metadata": {
    "application/vnd.databricks.v1+cell": {
     "cellMetadata": {
      "byteLimit": 2048000,
      "rowLimit": 10000
     },
     "inputWidgets": {},
     "nuid": "063b3f82-cab1-4340-8620-9d72285eea91",
     "showTitle": false,
     "title": ""
    }
   },
   "source": [
    "## Import IMDB Non-Commerical"
   ]
  },
  {
   "cell_type": "code",
   "execution_count": 6,
   "metadata": {
    "application/vnd.databricks.v1+cell": {
     "cellMetadata": {
      "byteLimit": 2048000,
      "rowLimit": 10000
     },
     "inputWidgets": {},
     "nuid": "11e65179-6769-4703-926c-d60d60ce538a",
     "showTitle": false,
     "title": ""
    }
   },
   "outputs": [
    {
     "name": "stderr",
     "output_type": "stream",
     "text": [
      "24/03/13 22:29:52 WARN GarbageCollectionMetrics: To enable non-built-in garbage collector(s) List(G1 Concurrent GC), users should configure it(them) to spark.eventLog.gcMetrics.youngGenerationGarbageCollectors or spark.eventLog.gcMetrics.oldGenerationGarbageCollectors\n",
      "                                                                                \r"
     ]
    }
   ],
   "source": [
    "imdb_principals = spark.read.option(\"header\", \"true\")\\\n",
    "    .option(\"delimiter\", \"\\t\")\\\n",
    "    .option(\"inferSchema\", \"true\")\\\n",
    "    .csv(\"data/imdb/title.principals.tsv.gz\")\n",
    "\n",
    "prefix = \"imdb_principals\"\n",
    "imdb_principals = add_prefix_to_columns(imdb_principals, prefix)\n",
    "\n",
    "imdb_name_basics = spark.read.option(\"header\", \"true\")\\\n",
    "    .option(\"delimiter\", \"\\t\")\\\n",
    "    .option(\"inferSchema\", \"true\")\\\n",
    "    .csv(\"data/imdb/name.basics.tsv.gz\")\n",
    "\n",
    "prefix = \"imdb_name_basics\"\n",
    "imdb_name_basics = add_prefix_to_columns(imdb_name_basics, prefix)\n",
    "\n"
   ]
  },
  {
   "cell_type": "markdown",
   "metadata": {
    "application/vnd.databricks.v1+cell": {
     "cellMetadata": {
      "byteLimit": 2048000,
      "rowLimit": 10000
     },
     "inputWidgets": {},
     "nuid": "9d1f9d1d-a8d8-44e4-a376-faf3b99abe5a",
     "showTitle": false,
     "title": ""
    }
   },
   "source": [
    "## Import IMDB Scrape from Justin Huang"
   ]
  },
  {
   "cell_type": "code",
   "execution_count": 7,
   "metadata": {
    "application/vnd.databricks.v1+cell": {
     "cellMetadata": {
      "byteLimit": 2048000,
      "rowLimit": 10000
     },
     "inputWidgets": {},
     "nuid": "f6e84682-cb63-4c8f-87ea-c2cb397ed3af",
     "showTitle": false,
     "title": ""
    }
   },
   "outputs": [],
   "source": [
    "imdb_scrape = spark.read.option(\"header\", \"true\") \\\n",
    "    .option(\"inferSchema\", \"true\") \\\n",
    "    .csv(\"data/imdb-scrape/imdb_scraped_datav2.csv.gz\")\n",
    "    #.csv(\"dbfs:/FileStore/tables/imdb_scraped_datav2_csv.gz\")\n",
    "\n",
    "prefix = \"imdb_scrape\"\n",
    "imdb_scrape = add_prefix_to_columns(imdb_scrape, prefix)"
   ]
  },
  {
   "cell_type": "code",
   "execution_count": 8,
   "metadata": {},
   "outputs": [],
   "source": [
    "part1_data = spark.read.option(\"header\", \"true\") \\\n",
    "    .option(\"inferSchema\", \"true\") \\\n",
    "    .option(\"delimiter\", \"|\") \\\n",
    "    .csv(\"data/export/imdb_imdbscrape_kaggle_master.csv\")"
   ]
  },
  {
   "cell_type": "markdown",
   "metadata": {
    "application/vnd.databricks.v1+cell": {
     "cellMetadata": {},
     "inputWidgets": {},
     "nuid": "1b6e3262-2eb6-4b43-b829-f8adde1bbe3a",
     "showTitle": false,
     "title": ""
    }
   },
   "source": [
    "# Inspect data"
   ]
  },
  {
   "cell_type": "markdown",
   "metadata": {},
   "source": [
    "## Part 1 Data"
   ]
  },
  {
   "cell_type": "code",
   "execution_count": 9,
   "metadata": {},
   "outputs": [
    {
     "name": "stderr",
     "output_type": "stream",
     "text": [
      "24/03/13 22:30:34 WARN SparkStringUtils: Truncated the string representation of a plan since it was too large. This behavior can be adjusted by setting 'spark.sql.debug.maxToStringFields'.\n"
     ]
    },
    {
     "name": "stdout",
     "output_type": "stream",
     "text": [
      "+-------------------+---------------------+--------------------------+-------------------+-------------------+-----------------+----------------------+------------------+----------------+--------------------+--------------+--------------------+--------------------+---------------+--------------------+--------------------+--------------------+-------------+--------------------+--------------------------+--------------------+--------------------+--------------------+--------------------+--------------------+-------------------------------------+---------------+--------------------+--------------------+-------------+--------------------+--------------------+--------------+\n",
      "|imdb_scrape_imdb_id|imdb_title_attributes|imdb_title_isOriginalTitle|imdb_title_language|imdb_title_ordering|imdb_title_region|      imdb_title_title|imdb_title_titleId|imdb_title_types|         anime_Aired|anime_Duration|  anime_English name|      anime_Episodes|anime_Favorites|        anime_Genres|     anime_Image URL|     anime_Licensors|anime_Members|          anime_Name|          anime_Other name|    anime_Popularity|     anime_Premiered|     anime_Producers|          anime_Rank|        anime_Rating|                          anime_Score|anime_Scored By|        anime_Source|        anime_Status|anime_Studios|      anime_Synopsis|          anime_Type|anime_anime_id|\n",
      "+-------------------+---------------------+--------------------------+-------------------+-------------------+-----------------+----------------------+------------------+----------------+--------------------+--------------+--------------------+--------------------+---------------+--------------------+--------------------+--------------------+-------------+--------------------+--------------------------+--------------------+--------------------+--------------------+--------------------+--------------------+-------------------------------------+---------------+--------------------+--------------------+-------------+--------------------+--------------------+--------------+\n",
      "|         tt21030032|                   \\N|                         0|                 ja|                 16|               JP|          【推しの子】|        tt21030032|     imdbDisplay|Apr 12, 2023 to J...| 30 min per ep|        [Oshi No Ko]|                11.0|          18336| Drama, Supernatural|https://cdn.myani...|    Sentai Filmworks|       512617|    \"\"\"Oshi no Ko\"\"\"|              【推しの子】|                 401|         spring 2023|Shueisha, CyberAg...|                14.0|PG-13 - Teens 13 ...|                                 8.98|       181665.0|               Manga|    Currently Airing|    Doga Kobo|In the entertainm...|                  TV|         52034|\n",
      "|          tt2595472|                   \\N|                         0|                 ja|                  4|               JP|僕の妹は「大阪おかん」|         tt2595472|     imdbDisplay|Dec 22, 2012 to M...|  3 min per ep|             UNKNOWN|                12.0|              6|     Comedy, Gourmet|https://cdn.myani...|             UNKNOWN|        19156|\"Boku no Imouto w...|    僕の妹は「大阪おかん」|                4662|         winter 2013|        Toho, Bouncy|              9930.0|PG-13 - Teens 13 ...|                                 5.74|         8943.0|            Original|     Finished Airing|   Charaction|Kyousuke Ishihara...|                  TV|         16405|\n",
      "|          tt5603356|                   \\N|                         0|                 \\N|                 12|               US|          Ace Attorney|         tt5603356|     imdbDisplay|a prosecutor who ...|   spring 2016|           Igi Ari!\"|Igi Ari! follows ...|   A-1 Pictures|                 6.5|PG-13 - Teens 13 ...|                  TV|24 min per ep|\"Gyakuten Saiban:...|              Ace Attorney|Funimation, Crunc...|the defense attor...|\"\" the battle in ...|Aniplex, Yomiuri ...|     Finished Airing|逆転裁判 ～その「真実」、異議あり！～|           Game|Apr 2, 2016 to Se...|sifting through l...|         24.0|Comedy, Drama, My...|\"Since he was a c...|         31630|\n",
      "|          tt8851064|                   \\N|                         1|                 \\N|                  2|               \\N|             Trickster|         tt8851064|        original|                24.0|      Original|           Trickster|                  TV|           1775|Drama, Mystery, S...|              113746|Bandai Visual, Yo...|      36336.0|\"Trickster: Edoga...|TRICKSTER -江戸川乱歩「...|              7635.0|Oct 4, 2016 to Ma...|     Finished Airing|PG-13 - Teens 13 ...|       23 min per ep|                                 6.25|            239|TMS Entertainment...|           fall 2016|   Funimation|\"Kogorou Akechi i...|all while combati...|         33377|\n",
      "|          tt1164545|                   \\N|                         1|                 \\N|                  2|               \\N|   .hack//G.U. Trilogy|         tt1164545|        original|        Mar 25, 2008|         6 min|.hack//G.U. Trilo...|                 1.0|             10|Comedy, Fantasy, ...|https://cdn.myani...|             UNKNOWN|        10641|.hack//G.U. Trilo...|       .hack//G.U. Trilogy|                5891|             UNKNOWN|       Bandai Visual|              7060.0|PG-13 - Teens 13 ...|                                 6.36|         4136.0|                Game|     Finished Airing|      UNKNOWN|A special bonus P...|             Special|          4469|\n",
      "+-------------------+---------------------+--------------------------+-------------------+-------------------+-----------------+----------------------+------------------+----------------+--------------------+--------------+--------------------+--------------------+---------------+--------------------+--------------------+--------------------+-------------+--------------------+--------------------------+--------------------+--------------------+--------------------+--------------------+--------------------+-------------------------------------+---------------+--------------------+--------------------+-------------+--------------------+--------------------+--------------+\n",
      "only showing top 5 rows\n",
      "\n",
      "5256\n"
     ]
    }
   ],
   "source": [
    "# part1_data.printSchema()\n",
    "part1_data.show(n=5)\n",
    "x = part1_data.count()\n",
    "print(x)"
   ]
  },
  {
   "cell_type": "markdown",
   "metadata": {
    "application/vnd.databricks.v1+cell": {
     "cellMetadata": {
      "byteLimit": 2048000,
      "rowLimit": 10000
     },
     "inputWidgets": {},
     "nuid": "93c92d6b-1430-4aab-adcd-d1e8efd463a8",
     "showTitle": false,
     "title": ""
    }
   },
   "source": [
    "## IMDB Data"
   ]
  },
  {
   "cell_type": "code",
   "execution_count": 10,
   "metadata": {
    "application/vnd.databricks.v1+cell": {
     "cellMetadata": {
      "byteLimit": 2048000,
      "rowLimit": 10000
     },
     "inputWidgets": {},
     "nuid": "61f7a84a-ddee-4eb3-b5a7-d4ffa1c3d557",
     "showTitle": false,
     "title": ""
    }
   },
   "outputs": [
    {
     "name": "stdout",
     "output_type": "stream",
     "text": [
      "root\n",
      " |-- imdb_name_basics_nconst: string (nullable = true)\n",
      " |-- imdb_name_basics_primaryName: string (nullable = true)\n",
      " |-- imdb_name_basics_birthYear: string (nullable = true)\n",
      " |-- imdb_name_basics_deathYear: string (nullable = true)\n",
      " |-- imdb_name_basics_primaryProfession: string (nullable = true)\n",
      " |-- imdb_name_basics_knownForTitles: string (nullable = true)\n",
      "\n"
     ]
    },
    {
     "name": "stdout",
     "output_type": "stream",
     "text": [
      "+-----------------------+----------------------------+--------------------------+--------------------------+----------------------------------+-------------------------------+\n",
      "|imdb_name_basics_nconst|imdb_name_basics_primaryName|imdb_name_basics_birthYear|imdb_name_basics_deathYear|imdb_name_basics_primaryProfession|imdb_name_basics_knownForTitles|\n",
      "+-----------------------+----------------------------+--------------------------+--------------------------+----------------------------------+-------------------------------+\n",
      "|              nm0000001|                Fred Astaire|                      1899|                      1987|              soundtrack,actor,...|           tt0027125,tt00723...|\n",
      "|              nm0000002|               Lauren Bacall|                      1924|                      2014|                actress,soundtrack|           tt0075213,tt00373...|\n",
      "|              nm0000003|             Brigitte Bardot|                      1934|                        \\N|              actress,soundtrac...|           tt0054452,tt00564...|\n",
      "|              nm0000004|                John Belushi|                      1949|                      1982|              actor,soundtrack,...|           tt0077975,tt00787...|\n",
      "|              nm0000005|              Ingmar Bergman|                      1918|                      2007|              writer,director,a...|           tt0050986,tt00509...|\n",
      "+-----------------------+----------------------------+--------------------------+--------------------------+----------------------------------+-------------------------------+\n",
      "only showing top 5 rows\n",
      "\n"
     ]
    }
   ],
   "source": [
    "imdb_name_basics.printSchema()\n",
    "imdb_name_basics.show(n=5)"
   ]
  },
  {
   "cell_type": "code",
   "execution_count": 11,
   "metadata": {
    "application/vnd.databricks.v1+cell": {
     "cellMetadata": {
      "byteLimit": 2048000,
      "rowLimit": 10000
     },
     "inputWidgets": {},
     "nuid": "df7b3d8e-869f-4c77-a57f-9f1d52a8c291",
     "showTitle": false,
     "title": ""
    }
   },
   "outputs": [
    {
     "name": "stdout",
     "output_type": "stream",
     "text": [
      "root\n",
      " |-- imdb_principals_tconst: string (nullable = true)\n",
      " |-- imdb_principals_ordering: integer (nullable = true)\n",
      " |-- imdb_principals_nconst: string (nullable = true)\n",
      " |-- imdb_principals_category: string (nullable = true)\n",
      " |-- imdb_principals_job: string (nullable = true)\n",
      " |-- imdb_principals_characters: string (nullable = true)\n",
      "\n",
      "+----------------------+------------------------+----------------------+------------------------+--------------------+--------------------------+\n",
      "|imdb_principals_tconst|imdb_principals_ordering|imdb_principals_nconst|imdb_principals_category| imdb_principals_job|imdb_principals_characters|\n",
      "+----------------------+------------------------+----------------------+------------------------+--------------------+--------------------------+\n",
      "|             tt0000001|                       1|             nm1588970|                    self|                  \\N|                  [\"Self\"]|\n",
      "|             tt0000001|                       2|             nm0005690|                director|                  \\N|                        \\N|\n",
      "|             tt0000001|                       3|             nm0374658|         cinematographer|director of photo...|                        \\N|\n",
      "|             tt0000002|                       1|             nm0721526|                director|                  \\N|                        \\N|\n",
      "|             tt0000002|                       2|             nm1335271|                composer|                  \\N|                        \\N|\n",
      "+----------------------+------------------------+----------------------+------------------------+--------------------+--------------------------+\n",
      "only showing top 5 rows\n",
      "\n"
     ]
    }
   ],
   "source": [
    "imdb_principals.printSchema()\n",
    "imdb_principals.show(n=5)"
   ]
  },
  {
   "cell_type": "markdown",
   "metadata": {
    "application/vnd.databricks.v1+cell": {
     "cellMetadata": {
      "byteLimit": 2048000,
      "rowLimit": 10000
     },
     "inputWidgets": {},
     "nuid": "d4bd6001-6fe7-4f46-bec4-849b239460fa",
     "showTitle": false,
     "title": ""
    }
   },
   "source": [
    "## IMDB Scrape"
   ]
  },
  {
   "cell_type": "code",
   "execution_count": 12,
   "metadata": {
    "application/vnd.databricks.v1+cell": {
     "cellMetadata": {
      "byteLimit": 2048000,
      "rowLimit": 10000
     },
     "inputWidgets": {},
     "nuid": "66380d9b-b46f-459f-8ec2-f63f0a3a646b",
     "showTitle": false,
     "title": ""
    }
   },
   "outputs": [
    {
     "name": "stdout",
     "output_type": "stream",
     "text": [
      "root\n",
      " |-- imdb_scrape__c0: string (nullable = true)\n",
      " |-- imdb_scrape_title: string (nullable = true)\n",
      " |-- imdb_scrape_description: string (nullable = true)\n",
      " |-- imdb_scrape_url: string (nullable = true)\n",
      " |-- imdb_scrape_image: string (nullable = true)\n",
      " |-- imdb_scrape_rating_value: string (nullable = true)\n",
      " |-- imdb_scrape_genre: string (nullable = true)\n",
      " |-- imdb_scrape_content_rating: string (nullable = true)\n",
      " |-- imdb_scrape_creator: string (nullable = true)\n",
      " |-- imdb_scrape_main_cast: string (nullable = true)\n",
      " |-- imdb_scrape_keywords: string (nullable = true)\n",
      " |-- imdb_scrape_duration: string (nullable = true)\n",
      " |-- imdb_scrape_soundtrack_trackname: string (nullable = true)\n",
      " |-- imdb_scrape_lyrics: string (nullable = true)\n",
      " |-- imdb_scrape_music: string (nullable = true)\n",
      " |-- imdb_scrape_arrangement: string (nullable = true)\n",
      " |-- imdb_scrape_performed_by: string (nullable = true)\n",
      " |-- imdb_scrape_imdb_id: string (nullable = true)\n",
      "\n",
      "+---------------+--------------------+-----------------------+--------------------+--------------------+------------------------+--------------------+--------------------------+--------------------+---------------------+--------------------+--------------------+--------------------------------+------------------+-----------------+-----------------------+------------------------+-------------------+\n",
      "|imdb_scrape__c0|   imdb_scrape_title|imdb_scrape_description|     imdb_scrape_url|   imdb_scrape_image|imdb_scrape_rating_value|   imdb_scrape_genre|imdb_scrape_content_rating| imdb_scrape_creator|imdb_scrape_main_cast|imdb_scrape_keywords|imdb_scrape_duration|imdb_scrape_soundtrack_trackname|imdb_scrape_lyrics|imdb_scrape_music|imdb_scrape_arrangement|imdb_scrape_performed_by|imdb_scrape_imdb_id|\n",
      "+---------------+--------------------+-----------------------+--------------------+--------------------+------------------------+--------------------+--------------------------+--------------------+---------------------+--------------------+--------------------+--------------------------------+------------------+-----------------+-----------------------+------------------------+-------------------+\n",
      "|              0|             Kingdom|   In ancient China,...|https://www.imdb....|https://m.media-a...|                     8.6|['Animation', 'Ac...|                     TV-MA|[{'@type': 'Organ...| [{'@type': 'Perso...|china,chinese his...|                NULL|                            NULL|              NULL|             NULL|                   NULL|                    NULL|          tt2404499|\n",
      "|              1|A Determined Cros...|   The Hi Shin Unit&...|https://www.imdb....|https://m.media-a...|                     9.5|['Animation', 'Ac...|                      NULL|[{'@type': 'Organ...|                 NULL|                NULL|                NULL|                            NULL|              NULL|             NULL|                   NULL|                    NULL|         tt31248682|\n",
      "|              2|Eiga Doraemon: No...|   Doraemon and frie...|https://www.imdb....|https://m.media-a...|                     6.8|['Animation', 'Ad...|                      NULL|[{'@type': 'Organ...| [{'@type': 'Perso...|based on tv serie...|             PT1H55M|                            NULL|              NULL|             NULL|                   NULL|                    NULL|         tt29402528|\n",
      "|              3|     Sôsô no Furîren|   An elf and her fr...|https://www.imdb....|https://m.media-a...|                     9.0|['Animation', 'Ad...|                     TV-14|[{'@type': 'Organ...| [{'@type': 'Perso...|shounen,based on ...|                NULL|                          Yuusha|            (Hero)|  [Opening Theme]|         Music by Ayase|       Arranged by Ayase|         tt22248376|\n",
      "|              4|             Kingdom|   In ancient China,...|https://www.imdb....|https://m.media-a...|                     8.6|['Animation', 'Ac...|                     TV-MA|[{'@type': 'Organ...| [{'@type': 'Perso...|china,chinese his...|                NULL|                            NULL|              NULL|             NULL|                   NULL|                    NULL|          tt2404499|\n",
      "+---------------+--------------------+-----------------------+--------------------+--------------------+------------------------+--------------------+--------------------------+--------------------+---------------------+--------------------+--------------------+--------------------------------+------------------+-----------------+-----------------------+------------------------+-------------------+\n",
      "only showing top 5 rows\n",
      "\n"
     ]
    },
    {
     "name": "stderr",
     "output_type": "stream",
     "text": [
      "24/03/13 22:30:34 WARN CSVHeaderChecker: CSV header does not conform to the schema.\n",
      " Header: , title, description, url, image, rating_value, genre, content_rating, creator, main_cast, keywords, duration, soundtrack_trackname, lyrics, music, arrangement, performed_by, imdb_id\n",
      " Schema: _c0, title, description, url, image, rating_value, genre, content_rating, creator, main_cast, keywords, duration, soundtrack_trackname, lyrics, music, arrangement, performed_by, imdb_id\n",
      "Expected: _c0 but found: \n",
      "CSV file: file:///Users/jonathanlin/Documents/cse6242/project/data/imdb-scrape/imdb_scraped_datav2.csv.gz\n"
     ]
    }
   ],
   "source": [
    "imdb_scrape.printSchema()\n",
    "imdb_scrape.show(n=5)"
   ]
  },
  {
   "cell_type": "markdown",
   "metadata": {
    "application/vnd.databricks.v1+cell": {
     "cellMetadata": {
      "byteLimit": 2048000,
      "rowLimit": 10000
     },
     "inputWidgets": {},
     "nuid": "fc4f4336-f282-40b5-b42d-e9a0e5aa8c61",
     "showTitle": false,
     "title": ""
    }
   },
   "source": [
    "# Clean data"
   ]
  },
  {
   "cell_type": "markdown",
   "metadata": {
    "application/vnd.databricks.v1+cell": {
     "cellMetadata": {},
     "inputWidgets": {},
     "nuid": "dc8af669-7671-46c0-8020-43b6717f388c",
     "showTitle": false,
     "title": ""
    }
   },
   "source": [
    "## IMDB Scrape data"
   ]
  },
  {
   "cell_type": "code",
   "execution_count": 13,
   "metadata": {
    "application/vnd.databricks.v1+cell": {
     "cellMetadata": {
      "byteLimit": 2048000,
      "rowLimit": 10000
     },
     "inputWidgets": {},
     "nuid": "31dd2773-06e5-4af3-9988-27b8d8a9fd64",
     "showTitle": false,
     "title": ""
    }
   },
   "outputs": [
    {
     "name": "stdout",
     "output_type": "stream",
     "text": [
      "root\n",
      " |-- imdb_scrape__c0: string (nullable = true)\n",
      " |-- imdb_scrape_title: string (nullable = true)\n",
      " |-- imdb_scrape_description: string (nullable = true)\n",
      " |-- imdb_scrape_url: string (nullable = true)\n",
      " |-- imdb_scrape_image: string (nullable = true)\n",
      " |-- imdb_scrape_rating_value: string (nullable = true)\n",
      " |-- imdb_scrape_genre: string (nullable = true)\n",
      " |-- imdb_scrape_content_rating: string (nullable = true)\n",
      " |-- imdb_scrape_creator: string (nullable = true)\n",
      " |-- imdb_scrape_main_cast: string (nullable = true)\n",
      " |-- imdb_scrape_keywords: string (nullable = true)\n",
      " |-- imdb_scrape_duration: string (nullable = true)\n",
      " |-- imdb_scrape_soundtrack_trackname: string (nullable = true)\n",
      " |-- imdb_scrape_lyrics: string (nullable = true)\n",
      " |-- imdb_scrape_music: string (nullable = true)\n",
      " |-- imdb_scrape_arrangement: string (nullable = true)\n",
      " |-- imdb_scrape_performed_by: string (nullable = true)\n",
      " |-- imdb_scrape_imdb_id: string (nullable = true)\n",
      "\n",
      "53786\n"
     ]
    }
   ],
   "source": [
    "imdb_scrape.printSchema()\n",
    "imdb_scrape_row_count = imdb_scrape.count()\n",
    "print(imdb_scrape_row_count)"
   ]
  },
  {
   "cell_type": "code",
   "execution_count": 14,
   "metadata": {
    "application/vnd.databricks.v1+cell": {
     "cellMetadata": {
      "byteLimit": 2048000,
      "rowLimit": 10000
     },
     "inputWidgets": {},
     "nuid": "9d203e47-c98f-4555-b7d4-48061135659a",
     "showTitle": false,
     "title": ""
    }
   },
   "outputs": [
    {
     "name": "stdout",
     "output_type": "stream",
     "text": [
      "18957\n"
     ]
    }
   ],
   "source": [
    "imdb_scrape_unique = imdb_scrape.select(\"imdb_scrape_imdb_id\", \"imdb_scrape_title\").distinct()\n",
    "imdb_scrape_unique_row_count = imdb_scrape_unique.count()\n",
    "print(imdb_scrape_unique_row_count)\n"
   ]
  },
  {
   "cell_type": "code",
   "execution_count": 15,
   "metadata": {
    "application/vnd.databricks.v1+cell": {
     "cellMetadata": {
      "byteLimit": 2048000,
      "rowLimit": 10000
     },
     "inputWidgets": {},
     "nuid": "39d821b3-73e2-462f-a84b-edfbdd1f517c",
     "showTitle": false,
     "title": ""
    }
   },
   "outputs": [
    {
     "name": "stdout",
     "output_type": "stream",
     "text": [
      "+--------------------+--------------------+\n",
      "| imdb_scrape_imdb_id|   imdb_scrape_title|\n",
      "+--------------------+--------------------+\n",
      "|                NULL| Megane and his g...|\n",
      "|                NULL|                ...\"|\n",
      "|                NULL|https://www.imdb....|\n",
      "|                NULL|https://www.imdb....|\n",
      "|                NULL|https://www.imdb....|\n",
      "|                NULL|https://www.imdb....|\n",
      "|                NULL|https://www.imdb....|\n",
      "|Arrangements by H...|            Wonabîzu|\n",
      "|GODDESS FAMILY CL...|     Aa! Megamisama!|\n",
      "|           tt0053275|Shônen Sarutobi S...|\n",
      "+--------------------+--------------------+\n",
      "only showing top 10 rows\n",
      "\n",
      "10160\n"
     ]
    }
   ],
   "source": [
    "imdb_scrape_music_unique_notnull = imdb_scrape_unique.filter(\n",
    "    col(\"imdb_scrape_soundtrack_trackname\").isNotNull() |\n",
    "    col(\"imdb_scrape_lyrics\").isNotNull() |\n",
    "    col(\"imdb_scrape_music\").isNotNull() |\n",
    "    col(\"imdb_scrape_arrangement\").isNotNull() |\n",
    "    col(\"imdb_scrape_performed_by\").isNotNull())\n",
    "\n",
    "imdb_scrape_music_unique_notnull.show(n = 10)\n",
    "\n",
    "imdb_scrape_music_unique_notnull_row_count = imdb_scrape_music_unique_notnull.count()\n",
    "print(imdb_scrape_music_unique_notnull_row_count)"
   ]
  },
  {
   "cell_type": "code",
   "execution_count": null,
   "metadata": {},
   "outputs": [],
   "source": []
  },
  {
   "cell_type": "markdown",
   "metadata": {
    "application/vnd.databricks.v1+cell": {
     "cellMetadata": {
      "byteLimit": 2048000,
      "rowLimit": 10000
     },
     "inputWidgets": {},
     "nuid": "c1ebba21-0f5f-4498-b54c-6d9df7245004",
     "showTitle": false,
     "title": ""
    }
   },
   "source": [
    "## Subset imdb name_basics and principals"
   ]
  },
  {
   "cell_type": "code",
   "execution_count": 16,
   "metadata": {},
   "outputs": [
    {
     "name": "stdout",
     "output_type": "stream",
     "text": [
      "+----------------------+------------------------+----------------------+------------------------+-------------------+--------------------------+\n",
      "|imdb_principals_tconst|imdb_principals_ordering|imdb_principals_nconst|imdb_principals_category|imdb_principals_job|imdb_principals_characters|\n",
      "+----------------------+------------------------+----------------------+------------------------+-------------------+--------------------------+\n",
      "|             tt0051694|                      10|             nm1281137|                producer|           producer|                        \\N|\n",
      "|             tt0051694|                       1|             nm0605662|                   actor|                 \\N|      [\"Xu Xian\",\"Panda...|\n",
      "|             tt0051694|                       2|             nm0594344|                 actress|                 \\N|      [\"Bai Niang\",\"Xia...|\n",
      "|             tt0051694|                       3|             nm3761746|                 actress|                 \\N|                  [\"Mimi\"]|\n",
      "|             tt0051694|                       4|             nm0523734|                 actress|                 \\N|                  [\"Girl\"]|\n",
      "+----------------------+------------------------+----------------------+------------------------+-------------------+--------------------------+\n",
      "only showing top 5 rows\n",
      "\n"
     ]
    }
   ],
   "source": [
    "# Perform leftsemi join on imdb_principals and part1_data\n",
    "\n",
    "imdb_principals_part1_data = imdb_principals.join(part1_data, col(\"imdb_principals_tconst\") == col(\"imdb_title_titleId\"), \"leftsemi\")\n",
    "\n",
    "imdb_principals_part1_data.show(n=5)"
   ]
  },
  {
   "cell_type": "code",
   "execution_count": 17,
   "metadata": {},
   "outputs": [
    {
     "name": "stderr",
     "output_type": "stream",
     "text": [
      "[Stage 36:>                                                         (0 + 1) / 1]\r"
     ]
    },
    {
     "name": "stdout",
     "output_type": "stream",
     "text": [
      "4501\n"
     ]
    },
    {
     "name": "stderr",
     "output_type": "stream",
     "text": [
      "                                                                                \r"
     ]
    }
   ],
   "source": [
    "imdb_principals_part1_data_distinct = imdb_principals_part1_data.select(\"imdb_principals_tconst\").distinct()\n",
    "x = imdb_principals_part1_data_distinct.count()\n",
    "print(x)"
   ]
  },
  {
   "cell_type": "code",
   "execution_count": 18,
   "metadata": {},
   "outputs": [
    {
     "name": "stderr",
     "output_type": "stream",
     "text": [
      "[Stage 44:>                                                         (0 + 1) / 1]\r"
     ]
    },
    {
     "name": "stdout",
     "output_type": "stream",
     "text": [
      "+-----------------------+----------------------------+--------------------------+--------------------------+----------------------------------+-------------------------------+\n",
      "|imdb_name_basics_nconst|imdb_name_basics_primaryName|imdb_name_basics_birthYear|imdb_name_basics_deathYear|imdb_name_basics_primaryProfession|imdb_name_basics_knownForTitles|\n",
      "+-----------------------+----------------------------+--------------------------+--------------------------+----------------------------------+-------------------------------+\n",
      "|              nm0000354|                  Matt Damon|                      1970|                        \\N|              producer,actor,so...|           tt3659388,tt01192...|\n",
      "|              nm0015085|                Kazuki Akane|                      1962|                        \\N|              director,writer,a...|           tt11008522,tt3354...|\n",
      "|              nm0259074|               Juli Erickson|                      1939|                        \\N|                           actress|           tt1704573,tt04815...|\n",
      "|              nm0286925|            Rebecca Forstadt|                      1953|                        \\N|              actress,script_de...|           tt0094625,tt11556...|\n",
      "|              nm0297915|              Reiko Fukakusa|                        \\N|                        \\N|              producer,miscella...|           tt0081954,tt00954...|\n",
      "+-----------------------+----------------------------+--------------------------+--------------------------+----------------------------------+-------------------------------+\n",
      "only showing top 5 rows\n",
      "\n"
     ]
    },
    {
     "name": "stderr",
     "output_type": "stream",
     "text": [
      "                                                                                \r"
     ]
    }
   ],
   "source": [
    "# Join imdb_principals_part1_data with imdb_name_basics\n",
    "\n",
    "imdb_name_basics_scoped = imdb_name_basics.join(imdb_principals_part1_data, col(\"imdb_name_basics_nconst\") == col(\"imdb_principals_nconst\"), \"leftsemi\")\n",
    "imdb_name_basics_scoped.show(n=5)"
   ]
  },
  {
   "cell_type": "code",
   "execution_count": 19,
   "metadata": {},
   "outputs": [
    {
     "name": "stderr",
     "output_type": "stream",
     "text": [
      "[Stage 51:>                 (0 + 1) / 1][Stage 52:>                 (0 + 1) / 1]\r"
     ]
    },
    {
     "name": "stdout",
     "output_type": "stream",
     "text": [
      "+----------------------+----------------------------+\n",
      "|imdb_principals_tconst|imdb_name_basics_primaryName|\n",
      "+----------------------+----------------------------+\n",
      "|             tt0876563|                  Matt Damon|\n",
      "|             tt3354096|                Kazuki Akane|\n",
      "|             tt0872308|                Kazuki Akane|\n",
      "|             tt0270933|                Kazuki Akane|\n",
      "|             tt3496018|               Juli Erickson|\n",
      "+----------------------+----------------------------+\n",
      "only showing top 5 rows\n",
      "\n"
     ]
    },
    {
     "name": "stderr",
     "output_type": "stream",
     "text": [
      "                                                                                \r"
     ]
    }
   ],
   "source": [
    "# Join the subset data together (inner join imdb_principals_part1_data and name_basics) and then pivot on imdb_principals and pivot the data on imdb_principals_tconst, rolling up all the imdb_name_basics_primaryName\n",
    "\n",
    "imdb_principals_name_basics = imdb_principals_part1_data.join(imdb_name_basics_scoped, col(\"imdb_principals_nconst\") == col(\"imdb_name_basics_nconst\"), \"inner\").select(\"imdb_principals_tconst\", \"imdb_name_basics_primaryName\")\n",
    "imdb_principals_name_basics.show(n=5)"
   ]
  },
  {
   "cell_type": "code",
   "execution_count": 20,
   "metadata": {},
   "outputs": [
    {
     "name": "stderr",
     "output_type": "stream",
     "text": [
      "[Stage 65:>                                                       (0 + 10) / 10]\r"
     ]
    },
    {
     "name": "stdout",
     "output_type": "stream",
     "text": [
      "40357\n"
     ]
    },
    {
     "name": "stderr",
     "output_type": "stream",
     "text": [
      "                                                                                \r"
     ]
    }
   ],
   "source": [
    "x = imdb_principals_name_basics.count()\n",
    "print(x)"
   ]
  },
  {
   "cell_type": "code",
   "execution_count": 21,
   "metadata": {},
   "outputs": [
    {
     "name": "stderr",
     "output_type": "stream",
     "text": [
      "                                                                                \r"
     ]
    }
   ],
   "source": [
    "# (imdb_principals_name_basics\\\n",
    "#   .coalesce(1)\n",
    "#   .write\\\n",
    "#   .mode('overwrite')\\\n",
    "#   .option(\"header\", \"true\")\\\n",
    "#   .option(\"quoteAll\", \"true\")\\\n",
    "#   .option(\"delimiter\", \"|\")\\\n",
    "#   .option(\"nullValue\", \"\")\\\n",
    "#   .csv(\"data/export/imdb_principals_name_basics.csv\"))"
   ]
  },
  {
   "cell_type": "markdown",
   "metadata": {},
   "source": [
    "Sample check"
   ]
  },
  {
   "cell_type": "code",
   "execution_count": 22,
   "metadata": {},
   "outputs": [
    {
     "name": "stderr",
     "output_type": "stream",
     "text": [
      "                                                                                \r"
     ]
    },
    {
     "name": "stdout",
     "output_type": "stream",
     "text": [
      "+----------------------+----------------------------+\n",
      "|imdb_principals_tconst|imdb_name_basics_primaryName|\n",
      "+----------------------+----------------------------+\n",
      "|             tt0058339|                Adolf Hitler|\n",
      "|             tt0051694|             Alvin Schoncite|\n",
      "|             tt0058339|          Shinsuke Chikaishi|\n",
      "|             tt0058339|                Osamu Tezuka|\n",
      "|             tt0051694|                 Shin Uehara|\n",
      "|             tt0051694|             Seiichi Yashiro|\n",
      "|             tt0051694|                     Lisa Lu|\n",
      "|             tt0051694|              Hiroshi Ohkawa|\n",
      "|             tt0051694|           Virginia Blackman|\n",
      "|             tt0051694|            Hisaya Morishige|\n",
      "|             tt0051694|             Taiji Yabushita|\n",
      "|             tt0051694|               Mariko Miyagi|\n",
      "|             tt0051694|                   Ben Pivar|\n",
      "+----------------------+----------------------------+\n",
      "\n"
     ]
    }
   ],
   "source": [
    "# filter imdb_principals_name_basics by imdb_principals_tconst == tt0051694 or tt0058339\n",
    "\n",
    "imdb_principals_name_basics_sample = imdb_principals_name_basics.filter((col(\"imdb_principals_tconst\") == \"tt0051694\") | (col(\"imdb_principals_tconst\") == \"tt0058339\"))\n",
    "imdb_principals_name_basics_sample.show()"
   ]
  },
  {
   "cell_type": "code",
   "execution_count": 23,
   "metadata": {},
   "outputs": [
    {
     "name": "stderr",
     "output_type": "stream",
     "text": [
      "[Stage 104:====================>                                   (4 + 7) / 11]\r"
     ]
    },
    {
     "name": "stdout",
     "output_type": "stream",
     "text": [
      "+----------------------+------------------------------------------------------------------------------------------------------------------------------------------------------+\n",
      "|imdb_principals_tconst|imdb_name_basics_primaryName                                                                                                                          |\n",
      "+----------------------+------------------------------------------------------------------------------------------------------------------------------------------------------+\n",
      "|tt0058339             |Adolf Hitler, Shinsuke Chikaishi, Osamu Tezuka                                                                                                        |\n",
      "|tt0051694             |Alvin Schoncite, Shin Uehara, Seiichi Yashiro, Lisa Lu, Hiroshi Ohkawa, Virginia Blackman, Hisaya Morishige, Taiji Yabushita, Mariko Miyagi, Ben Pivar|\n",
      "+----------------------+------------------------------------------------------------------------------------------------------------------------------------------------------+\n",
      "\n"
     ]
    },
    {
     "name": "stderr",
     "output_type": "stream",
     "text": [
      "                                                                                \r"
     ]
    }
   ],
   "source": [
    "# pivot the data on imdb_principals_tconst, rolling up all the imdb_name_basics_primaryName. \n",
    "\n",
    "# x = imdb_principals_name_basics_sample.groupBy(\"imdb_principals_tconst\").pivot(\"imdb_principals_tconst\").agg(concat_ws(\", \", collect_list(\"imdb_name_basics_primaryName\")))\n",
    "x = imdb_principals_name_basics_sample.groupBy(\"imdb_principals_tconst\").agg(concat_ws(\", \", collect_list(\"imdb_name_basics_primaryName\")).alias(\"imdb_name_basics_primaryName\"))\n",
    "x.show(n = 5, truncate = False)"
   ]
  },
  {
   "cell_type": "markdown",
   "metadata": {},
   "source": [
    "Process"
   ]
  },
  {
   "cell_type": "code",
   "execution_count": 24,
   "metadata": {},
   "outputs": [],
   "source": [
    "\n",
    "imdb_principals_name_basics_pivot = imdb_principals_name_basics.groupBy(\"imdb_principals_tconst\").agg(concat_ws(\", \", collect_list(\"imdb_name_basics_primaryName\")).alias(\"imdb_name_basics_primaryName\"))"
   ]
  },
  {
   "cell_type": "code",
   "execution_count": 25,
   "metadata": {},
   "outputs": [
    {
     "name": "stderr",
     "output_type": "stream",
     "text": [
      "[Stage 118:>                                                      (0 + 10) / 10]\r"
     ]
    },
    {
     "name": "stdout",
     "output_type": "stream",
     "text": [
      "+----------------------+----------------------------+\n",
      "|imdb_principals_tconst|imdb_name_basics_primaryName|\n",
      "+----------------------+----------------------------+\n",
      "|             tt0051694|        Alvin Schoncite, ...|\n",
      "|             tt0053275|        Teruo Miyazaki, M...|\n",
      "|             tt0054265|        Daisaku Shirakawa...|\n",
      "|             tt0054631|        Jô Mizuki, Isuzu ...|\n",
      "|             tt0057669|        Yukiko Okada, Mit...|\n",
      "|             tt0058339|        Adolf Hitler, Shi...|\n",
      "|             tt0058342|                Osamu Tezuka|\n",
      "|             tt0058734|        Daisaku Shirakawa...|\n",
      "|             tt0058807|        Sonia Owens, Pete...|\n",
      "|             tt0059212|        Chiyoko Honma, Hi...|\n",
      "|             tt0060926|        Judy Ongg, Arihir...|\n",
      "|             tt0061069|        Takashi Mitsui, M...|\n",
      "|             tt0061077|        Noriyoshi Matsûra...|\n",
      "|             tt0061300|        Jack Curtis, Cleo...|\n",
      "|             tt0062044|        Hôsei Komatsu, Ma...|\n",
      "|             tt0062260|        Hideaki Sugawara,...|\n",
      "|             tt0063668|        Eijirô Tôno, Yuta...|\n",
      "|             tt0064961|        Noboru Mitani, Hi...|\n",
      "|             tt0065021|        Gorô Naya, Shotar...|\n",
      "|             tt0065434|        Kurumi Kobato, Sa...|\n",
      "+----------------------+----------------------------+\n",
      "only showing top 20 rows\n",
      "\n"
     ]
    },
    {
     "name": "stderr",
     "output_type": "stream",
     "text": [
      "                                                                                \r"
     ]
    }
   ],
   "source": [
    "imdb_principals_name_basics_pivot.show()"
   ]
  },
  {
   "cell_type": "code",
   "execution_count": 26,
   "metadata": {},
   "outputs": [
    {
     "name": "stderr",
     "output_type": "stream",
     "text": [
      "[Stage 131:>                                                      (0 + 10) / 10]\r"
     ]
    },
    {
     "name": "stdout",
     "output_type": "stream",
     "text": [
      "4501\n"
     ]
    },
    {
     "name": "stderr",
     "output_type": "stream",
     "text": [
      "                                                                                \r"
     ]
    }
   ],
   "source": [
    "x = imdb_principals_name_basics_pivot.count()\n",
    "print(x)"
   ]
  },
  {
   "cell_type": "code",
   "execution_count": 27,
   "metadata": {},
   "outputs": [
    {
     "name": "stderr",
     "output_type": "stream",
     "text": [
      "                                                                                \r"
     ]
    }
   ],
   "source": [
    "(imdb_principals_name_basics_pivot\\\n",
    "  .coalesce(1)\n",
    "  .write\\\n",
    "  .mode('overwrite')\\\n",
    "  .option(\"header\", \"true\")\\\n",
    "  .option(\"quoteAll\", \"true\")\\\n",
    "  .option(\"delimiter\", \"|\")\\\n",
    "  .option(\"nullValue\", \"null\")\\\n",
    "  .csv(\"data/export/imdb_principals_name_basics_pivot.csv\"))"
   ]
  },
  {
   "cell_type": "code",
   "execution_count": 28,
   "metadata": {},
   "outputs": [],
   "source": [
    "# AnalysisException: The pivot column imdb_principals_tconst has more than 10000 distinct values, this could indicate an error. If this was intended, set spark.sql.pivotMaxValues to at least the number of distinct values of the pivot column.\n",
    "spark.stop()\n"
   ]
  }
 ],
 "metadata": {
  "application/vnd.databricks.v1+notebook": {
   "dashboards": [],
   "language": "python",
   "notebookMetadata": {
    "mostRecentlyExecutedCommandWithImplicitDF": {
     "commandId": 906457230886152,
     "dataframes": [
      "_sqldf"
     ]
    },
    "pythonIndentUnit": 4
   },
   "notebookName": "imdb_data -2024-03-10",
   "widgets": {}
  },
  "kernelspec": {
   "display_name": "Python 3",
   "language": "python",
   "name": "python3"
  },
  "language_info": {
   "codemirror_mode": {
    "name": "ipython",
    "version": 3
   },
   "file_extension": ".py",
   "mimetype": "text/x-python",
   "name": "python",
   "nbconvert_exporter": "python",
   "pygments_lexer": "ipython3",
   "version": "3.11.8"
  }
 },
 "nbformat": 4,
 "nbformat_minor": 0
}
