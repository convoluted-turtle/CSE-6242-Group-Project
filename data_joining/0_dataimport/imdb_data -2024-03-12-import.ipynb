{
 "cells": [
  {
   "cell_type": "markdown",
   "metadata": {
    "application/vnd.databricks.v1+cell": {
     "cellMetadata": {
      "byteLimit": 2048000,
      "rowLimit": 10000
     },
     "inputWidgets": {},
     "nuid": "04c0ac36-1b1e-437e-b505-07c962d7deae",
     "showTitle": false,
     "title": ""
    }
   },
   "source": [
    "# Readme\n",
    "\n",
    "Before running, import into cluster FileStore/tables. All files should be `gzip`ed already.\n",
    "\n",
    "* All of [IMDB Non-Commerical Dataset](https://datasets.imdbws.com/) in .gz format\n",
    "    * `title.akas.tsv.gz`\n",
    "    * `title.ratings.tsv.gz`\n",
    "    * `title.principals.tsv.gz`\n",
    "    * `title.episode.tsv.gz`\n",
    "    * `title.crew.tsv.gz`\n",
    "    * `title.basics.tsv.gz`\n",
    "    * `name.basics.tsv.gz`\n",
    "* All files from the [Kaggle Anime Dataset](https://www.kaggle.com/datasets/dbdmobile/myanimelist-dataset)\n",
    "    * `anime_dataset.csv.gz`\n",
    "        > This dataset contains comprehensive details of 24,905 anime entries.\n",
    "    * `anime_filtered.csv.gz`\n",
    "        > This dataset provide information about the different attributes and characteristics of each anime (Based on 2020 data).\n",
    "    * `final_animedataset.csv.gz`\n",
    "        * Note, this file needs to be compressed with gzip and uploaded by itself\n",
    "        > This dataset contains user ratings and information about various anime titles. It is curated for building an anime recommendation system(Based on 2018 data).\n",
    "    * `user_filtered.csv.gz`\n",
    "        > This dataset contains the user's ratings for every anime they watched and rated(Based on 2020 data).\n",
    "    * `users_details_2023.csv.gz`\n",
    "        > This dataset comprises information on 731,290 users registered on the MyAnimeList platform. It is worth noting that while a significant portion of these users are genuine anime enthusiasts, there may be instances of bots, inactive accounts, and alternate profiles present within the dataset.\n",
    "    * `users_score_2023.csv.gz`\n",
    "        > This dataset comprises anime scores provided by 270,033 users, resulting in a total of 24,325,191 rows or samples.\n",
    "* Justin Huang's Anime IMDB scrape\n",
    "    * `anime_omdb_data.csv.gz`\n",
    "        > This dataset is an extraction of the top 800ish animes using IMDB filters, which is superior due to additional annotations that don't exist in the non-commerical IMDB dataset."
   ]
  },
  {
   "cell_type": "markdown",
   "metadata": {
    "application/vnd.databricks.v1+cell": {
     "cellMetadata": {
      "byteLimit": 2048000,
      "rowLimit": 10000
     },
     "inputWidgets": {},
     "nuid": "deecb635-cb9a-445c-aee3-af2f4e94d49a",
     "showTitle": false,
     "title": ""
    }
   },
   "source": [
    "# Import data"
   ]
  },
  {
   "cell_type": "markdown",
   "metadata": {},
   "source": [
    "Check status at http://localhost:4040/"
   ]
  },
  {
   "cell_type": "code",
   "execution_count": 1,
   "metadata": {},
   "outputs": [],
   "source": [
    "import os\n",
    "memory = '2g'\n",
    "cores = '4'\n",
    "pyspark_submit_args = ' --driver-memory ' + memory + ' --executor-memory ' + memory + ' --executor-cores ' + cores + ' pyspark-shell'\n",
    "# pyspark_submit_args = ' --driver-memory ' + memory + ' --executor-memory ' + memory + ' --executor-cores ' + cores + ' --bindAddress  127.0.0.1 pyspark-shell'\n",
    "os.environ[\"SPARK_LOCAL_IP\"]=\"127.0.0.1\"\n",
    "os.environ[\"PYSPARK_SUBMIT_ARGS\"] = pyspark_submit_args"
   ]
  },
  {
   "cell_type": "code",
   "execution_count": 2,
   "metadata": {
    "application/vnd.databricks.v1+cell": {
     "cellMetadata": {
      "byteLimit": 2048000,
      "rowLimit": 10000
     },
     "inputWidgets": {},
     "nuid": "86412fde-08b1-49b3-84fe-481fe92841c3",
     "showTitle": false,
     "title": ""
    }
   },
   "outputs": [],
   "source": [
    "import pyspark\n",
    "from pyspark.sql import SparkSession\n",
    "import pyspark.sql.functions as F\n",
    "from pyspark.sql.functions import col\n",
    "from pyspark.sql import DataFrame\n",
    "import os\n",
    "from pyspark.sql import SparkSession\n",
    "from pyspark.sql.window import Window\n",
    "from pyspark.sql.types import StringType\n",
    "from pyspark.sql.functions import regexp_replace, col\n",
    "from pyspark.sql.functions import lit\n",
    "from pyspark.sql.functions import col, collect_list, concat_ws\n",
    "from pyspark.sql.types import StructType, StructField, StringType"
   ]
  },
  {
   "cell_type": "code",
   "execution_count": 3,
   "metadata": {},
   "outputs": [
    {
     "name": "stderr",
     "output_type": "stream",
     "text": [
      "Setting default log level to \"WARN\".\n",
      "To adjust logging level use sc.setLogLevel(newLevel). For SparkR, use setLogLevel(newLevel).\n",
      "24/03/13 23:17:22 WARN NativeCodeLoader: Unable to load native-hadoop library for your platform... using builtin-java classes where applicable\n"
     ]
    }
   ],
   "source": [
    "spark = SparkSession.builder \\\n",
    "    .appName(\"project\") \\\n",
    "    .master(\"local[*]\") \\\n",
    "    .config(\"spark.driver.bindAddress\", \"127.0.0.1\")\\\n",
    "    .config(\"spark.sql.pivotMaxValues\", \"99999\")\\\n",
    "    .getOrCreate()"
   ]
  },
  {
   "cell_type": "code",
   "execution_count": 4,
   "metadata": {
    "application/vnd.databricks.v1+cell": {
     "cellMetadata": {
      "byteLimit": 2048000,
      "rowLimit": 10000
     },
     "inputWidgets": {},
     "nuid": "db39801d-cbe6-468d-acc4-c8011a458b31",
     "showTitle": false,
     "title": ""
    }
   },
   "outputs": [
    {
     "name": "stdout",
     "output_type": "stream",
     "text": [
      ".DS_Store\n",
      "kaggle\n",
      "spark-export\n",
      "imdb-scrape\n",
      "imdb\n",
      "export\n"
     ]
    }
   ],
   "source": [
    "#files = dbutils.fs.ls(\"dbfs:/FileStore/tables/\")\n",
    "files = os.listdir(\"./data\")\n",
    "for file in files:\n",
    "    print(file)"
   ]
  },
  {
   "cell_type": "code",
   "execution_count": 5,
   "metadata": {
    "application/vnd.databricks.v1+cell": {
     "cellMetadata": {
      "byteLimit": 2048000,
      "rowLimit": 10000
     },
     "inputWidgets": {},
     "nuid": "40a0320e-e6fe-4e2d-bb64-b4cf0db14f22",
     "showTitle": false,
     "title": ""
    }
   },
   "outputs": [],
   "source": [
    "def add_prefix_to_columns(df: DataFrame, prefix: str) -> DataFrame:\n",
    "    return df.select([col(c).alias(prefix + \"_\" + c) for c in df.columns])"
   ]
  },
  {
   "cell_type": "markdown",
   "metadata": {
    "application/vnd.databricks.v1+cell": {
     "cellMetadata": {
      "byteLimit": 2048000,
      "rowLimit": 10000
     },
     "inputWidgets": {},
     "nuid": "3b1a4feb-f401-4dc5-9abd-85911a367060",
     "showTitle": false,
     "title": ""
    }
   },
   "source": [
    "## Import Kaggle"
   ]
  },
  {
   "cell_type": "code",
   "execution_count": 6,
   "metadata": {
    "application/vnd.databricks.v1+cell": {
     "cellMetadata": {
      "byteLimit": 2048000,
      "rowLimit": 10000
     },
     "inputWidgets": {},
     "nuid": "ab100fac-f86d-4afd-ab99-2f4d0f5e4b3e",
     "showTitle": false,
     "title": ""
    }
   },
   "outputs": [],
   "source": [
    "schema = StructType([\n",
    "    StructField(\"anime_id\", StringType()),\n",
    "    StructField(\"Name\", StringType()),\n",
    "    StructField(\"English name\", StringType()),\n",
    "    StructField(\"Other name\", StringType()),\n",
    "    StructField(\"Score\", StringType()),\n",
    "    StructField(\"Genres\", StringType()),\n",
    "    StructField(\"Synopsis\", StringType()),\n",
    "    StructField(\"Type\", StringType()),\n",
    "    StructField(\"Episodes\", StringType()),\n",
    "    StructField(\"Aired\", StringType()),\n",
    "    StructField(\"Premiered\", StringType()),\n",
    "    StructField(\"Status\", StringType()),\n",
    "    StructField(\"Producers\", StringType()),\n",
    "    StructField(\"Licensors\", StringType()),\n",
    "    StructField(\"Studios\", StringType()),\n",
    "    StructField(\"Source\", StringType()),\n",
    "    StructField(\"Duration\", StringType()),\n",
    "    StructField(\"Rating\", StringType()),\n",
    "    StructField(\"Rank\", StringType()),\n",
    "    StructField(\"Popularity\", StringType()),\n",
    "    StructField(\"Favorites\", StringType()),\n",
    "    StructField(\"Scored By\", StringType()),\n",
    "    StructField(\"Members\", StringType()),\n",
    "    StructField(\"Image URL\", StringType())\n",
    "])\n",
    "\n",
    "anime_dataset = spark.read.option(\"header\", \"true\") \\\n",
    "    .option(\"inferSchema\", \"false\") \\\n",
    "    .option(\"escape\", \"\\\"\") \\\n",
    "    .schema(schema) \\\n",
    "    .csv(\"data/kaggle/anime-dataset-2023.csv.gz\")\n",
    "\n",
    "# anime_dataset = spark.read.option(\"header\", \"true\") \\\n",
    "#     .option(\"inferSchema\", \"true\") \\\n",
    "#     .option(\"multiLine\", \"true\") \\\n",
    "#     .csv(\"data/kaggle/anime-dataset-2023.csv.gz\")\n",
    "    #.csv(\"dbfs:/FileStore/tables/anime_dataset_2023_csv.gz\")\n",
    "\n",
    "prefix = \"anime\"\n",
    "anime_dataset = add_prefix_to_columns(anime_dataset, prefix)\n",
    "\n",
    "# anime_filtered = spark.read.option(\"header\", \"true\") \\\n",
    "#     .option(\"inferSchema\", \"true\") \\\n",
    "#     .option(\"multiLine\", \"true\") \\\n",
    "#     .csv(\"data/kaggle/anime-filtered.csv.gz\")\n",
    "#     # .csv(\"dbfs:/FileStore/tables/anime_filtered_csv.gz\")\n",
    "\n",
    "# prefix = \"anime_filtered\"\n",
    "# anime_filtered = add_prefix_to_columns(anime_filtered, prefix)\n",
    "\n",
    "# final_animedataset = spark.read.option(\"header\", \"true\") \\\n",
    "#     .option(\"inferSchema\", \"true\") \\\n",
    "#     .option(\"multiLine\", \"true\") \\\n",
    "#     .csv(\"data/kaggle/final-animedataset.csv.gz\")\n",
    "#     # .csv(\"dbfs:/FileStore/tables/final_animedataset_csv.gz\")\n",
    "\n",
    "# prefix = \"final_animedataset\"\n",
    "# final_animedataset = add_prefix_to_columns(final_animedataset, prefix)\n",
    "\n",
    "# user_filtered = spark.read.option(\"header\", \"true\") \\\n",
    "#     .option(\"inferSchema\", \"true\") \\\n",
    "#     .option(\"multiLine\", \"true\") \\\n",
    "#     .csv(\"data/kaggle/user-filtered.csv.gz\")\n",
    "#     # .csv(\"dbfs:/FileStore/tables/user_filtered_csv.gz\")\n",
    "\n",
    "# prefix = \"user_filtered\"\n",
    "# user_filtered = add_prefix_to_columns(user_filtered, prefix)\n",
    "\n",
    "# users_details_2023 = spark.read.option(\"header\", \"true\") \\\n",
    "#     .option(\"inferSchema\", \"true\") \\\n",
    "#     .option(\"multiLine\", \"true\") \\\n",
    "#     .csv(\"data/kaggle/users-details-2023.csv.gz\")\n",
    "#     # .csv(\"dbfs:/FileStore/tables/users_details_2023_csv.gz\")\n",
    "\n",
    "# prefix = \"users_details_2023\"\n",
    "# users_details_2023 = add_prefix_to_columns(users_details_2023, prefix)\n",
    "\n",
    "# users_score_2023 = spark.read.option(\"header\", \"true\") \\\n",
    "#     .option(\"inferSchema\", \"true\") \\\n",
    "#     .option(\"multiLine\", \"true\") \\\n",
    "#     .csv(\"data/kaggle/users-score-2023.csv.gz\")\n",
    "#     # .csv(\"dbfs:/FileStore/tables/users_score_2023_csv.gz\")\n",
    "\n",
    "# prefix = \"users_score_2023\"\n",
    "# users_score_2023 = add_prefix_to_columns(users_score_2023, prefix)\n",
    "\n",
    "# anime_dataset.csv.gz\n",
    "# anime_filtered.csv.gz\n",
    "# final_animedataset.csv.gz\n",
    "# user_filtered.csv.gz\n",
    "# users_details_2023.csv.gz\n",
    "# users_score_2023.csv.gz"
   ]
  },
  {
   "cell_type": "markdown",
   "metadata": {
    "application/vnd.databricks.v1+cell": {
     "cellMetadata": {
      "byteLimit": 2048000,
      "rowLimit": 10000
     },
     "inputWidgets": {},
     "nuid": "063b3f82-cab1-4340-8620-9d72285eea91",
     "showTitle": false,
     "title": ""
    }
   },
   "source": [
    "## Import IMDB Non-Commerical"
   ]
  },
  {
   "cell_type": "code",
   "execution_count": 7,
   "metadata": {
    "application/vnd.databricks.v1+cell": {
     "cellMetadata": {
      "byteLimit": 2048000,
      "rowLimit": 10000
     },
     "inputWidgets": {},
     "nuid": "11e65179-6769-4703-926c-d60d60ce538a",
     "showTitle": false,
     "title": ""
    }
   },
   "outputs": [
    {
     "name": "stderr",
     "output_type": "stream",
     "text": [
      "24/03/13 23:17:34 WARN GarbageCollectionMetrics: To enable non-built-in garbage collector(s) List(G1 Concurrent GC), users should configure it(them) to spark.eventLog.gcMetrics.youngGenerationGarbageCollectors or spark.eventLog.gcMetrics.oldGenerationGarbageCollectors\n",
      "                                                                                \r"
     ]
    }
   ],
   "source": [
    "imdb_title = spark.read.option(\"header\", \"true\")\\\n",
    "    .option(\"delimiter\", \"\\t\")\\\n",
    "    .option(\"inferSchema\", \"true\")\\\n",
    "    .csv(\"data/imdb/title.akas.tsv.gz\")\n",
    "\n",
    "prefix = \"imdb_title\"\n",
    "imdb_title = add_prefix_to_columns(imdb_title, prefix)\n",
    "\n",
    "# imdb_ratings = spark.read.option(\"header\", \"true\")\\\n",
    "#     .option(\"delimiter\", \"\\t\")\\\n",
    "#     .option(\"inferSchema\", \"true\")\\\n",
    "#     .csv(\"data/imdb//title.ratings.tsv.gz\")\n",
    "\n",
    "# prefix = \"imdb_ratings\"\n",
    "# imdb_ratings = add_prefix_to_columns(imdb_ratings, prefix)\n",
    "\n",
    "# imdb_principals = spark.read.option(\"header\", \"true\")\\\n",
    "#     .option(\"delimiter\", \"\\t\")\\\n",
    "#     .option(\"inferSchema\", \"true\")\\\n",
    "#     .csv(\"data/imdb/title.principals.tsv.gz\")\n",
    "\n",
    "# prefix = \"imdb_principals\"\n",
    "# imdb_principals = add_prefix_to_columns(imdb_principals, prefix)\n",
    "\n",
    "# imdb_episode = spark.read.option(\"header\", \"true\")\\\n",
    "#     .option(\"delimiter\", \"\\t\")\\\n",
    "#     .option(\"inferSchema\", \"true\")\\\n",
    "#     .csv(\"data/imdb/title.episode.tsv.gz\")\n",
    "\n",
    "# prefix = \"imdb_episode\"\n",
    "# imdb_episode = add_prefix_to_columns(imdb_episode, prefix)\n",
    "\n",
    "# imdb_crew = spark.read.option(\"header\", \"true\")\\\n",
    "#     .option(\"delimiter\", \"\\t\")\\\n",
    "#     .option(\"inferSchema\", \"true\")\\\n",
    "#     .csv(\"data/imdb/title.crew.tsv.gz\")\n",
    "\n",
    "# prefix = \"imdb_crew\"\n",
    "# imdb_crew = add_prefix_to_columns(imdb_crew, prefix)\n",
    "\n",
    "# imdb_title_basics = spark.read.option(\"header\", \"true\")\\\n",
    "#     .option(\"delimiter\", \"\\t\")\\\n",
    "#     .option(\"inferSchema\", \"true\")\\\n",
    "#     .csv(\"data/imdb/title.basics.tsv.gz\")\n",
    "\n",
    "# prefix = \"imdb_title_basics\"\n",
    "# imdb_title_basics = add_prefix_to_columns(imdb_title_basics, prefix)\n",
    "\n",
    "# imdb_name_basics = spark.read.option(\"header\", \"true\")\\\n",
    "#     .option(\"delimiter\", \"\\t\")\\\n",
    "#     .option(\"inferSchema\", \"true\")\\\n",
    "#     .csv(\"data/imdb/name.basics.tsv.gz\")\n",
    "\n",
    "# prefix = \"imdb_name_basics\"\n",
    "# imdb_name_basics = add_prefix_to_columns(imdb_name_basics, prefix)\n",
    "\n"
   ]
  },
  {
   "cell_type": "markdown",
   "metadata": {
    "application/vnd.databricks.v1+cell": {
     "cellMetadata": {
      "byteLimit": 2048000,
      "rowLimit": 10000
     },
     "inputWidgets": {},
     "nuid": "9d1f9d1d-a8d8-44e4-a376-faf3b99abe5a",
     "showTitle": false,
     "title": ""
    }
   },
   "source": [
    "## Import IMDB Scrape from Justin Huang"
   ]
  },
  {
   "cell_type": "code",
   "execution_count": 8,
   "metadata": {
    "application/vnd.databricks.v1+cell": {
     "cellMetadata": {
      "byteLimit": 2048000,
      "rowLimit": 10000
     },
     "inputWidgets": {},
     "nuid": "f6e84682-cb63-4c8f-87ea-c2cb397ed3af",
     "showTitle": false,
     "title": ""
    }
   },
   "outputs": [],
   "source": [
    "imdb_scrape = spark.read.option(\"header\", \"true\") \\\n",
    "    .option(\"inferSchema\", \"true\") \\\n",
    "    .csv(\"data/imdb-scrape/imdb_scraped_datav2.csv.gz\")\n",
    "    #.csv(\"dbfs:/FileStore/tables/imdb_scraped_datav2_csv.gz\")\n",
    "\n",
    "prefix = \"imdb_scrape\"\n",
    "imdb_scrape = add_prefix_to_columns(imdb_scrape, prefix)"
   ]
  },
  {
   "cell_type": "markdown",
   "metadata": {
    "application/vnd.databricks.v1+cell": {
     "cellMetadata": {},
     "inputWidgets": {},
     "nuid": "1b6e3262-2eb6-4b43-b829-f8adde1bbe3a",
     "showTitle": false,
     "title": ""
    }
   },
   "source": [
    "# Inspect data"
   ]
  },
  {
   "cell_type": "markdown",
   "metadata": {
    "application/vnd.databricks.v1+cell": {
     "cellMetadata": {
      "byteLimit": 2048000,
      "rowLimit": 10000
     },
     "inputWidgets": {},
     "nuid": "93c92d6b-1430-4aab-adcd-d1e8efd463a8",
     "showTitle": false,
     "title": ""
    }
   },
   "source": [
    "## IMDB Data"
   ]
  },
  {
   "cell_type": "code",
   "execution_count": 9,
   "metadata": {
    "application/vnd.databricks.v1+cell": {
     "cellMetadata": {
      "byteLimit": 2048000,
      "rowLimit": 10000
     },
     "inputWidgets": {},
     "nuid": "608b71e9-5982-4d94-a9cd-e93895facc89",
     "showTitle": false,
     "title": ""
    }
   },
   "outputs": [
    {
     "name": "stdout",
     "output_type": "stream",
     "text": [
      "root\n",
      " |-- imdb_title_titleId: string (nullable = true)\n",
      " |-- imdb_title_ordering: integer (nullable = true)\n",
      " |-- imdb_title_title: string (nullable = true)\n",
      " |-- imdb_title_region: string (nullable = true)\n",
      " |-- imdb_title_language: string (nullable = true)\n",
      " |-- imdb_title_types: string (nullable = true)\n",
      " |-- imdb_title_attributes: string (nullable = true)\n",
      " |-- imdb_title_isOriginalTitle: string (nullable = true)\n",
      "\n"
     ]
    },
    {
     "name": "stderr",
     "output_type": "stream",
     "text": [
      "[Stage 4:>                                                          (0 + 1) / 1]\r"
     ]
    },
    {
     "name": "stdout",
     "output_type": "stream",
     "text": [
      "38853125\n",
      "+------------------+-------------------+--------------------+-----------------+-------------------+----------------+---------------------+--------------------------+\n",
      "|imdb_title_titleId|imdb_title_ordering|    imdb_title_title|imdb_title_region|imdb_title_language|imdb_title_types|imdb_title_attributes|imdb_title_isOriginalTitle|\n",
      "+------------------+-------------------+--------------------+-----------------+-------------------+----------------+---------------------+--------------------------+\n",
      "|         tt0000001|                  1|          Карменсіта|               UA|                 \\N|     imdbDisplay|                   \\N|                         0|\n",
      "|         tt0000001|                  2|          Carmencita|               DE|                 \\N|              \\N|        literal title|                         0|\n",
      "|         tt0000001|                  3|Carmencita - span...|               HU|                 \\N|     imdbDisplay|                   \\N|                         0|\n",
      "|         tt0000001|                  4|          Καρμενσίτα|               GR|                 \\N|     imdbDisplay|                   \\N|                         0|\n",
      "|         tt0000001|                  5|          Карменсита|               RU|                 \\N|     imdbDisplay|                   \\N|                         0|\n",
      "+------------------+-------------------+--------------------+-----------------+-------------------+----------------+---------------------+--------------------------+\n",
      "only showing top 5 rows\n",
      "\n"
     ]
    },
    {
     "name": "stderr",
     "output_type": "stream",
     "text": [
      "                                                                                \r"
     ]
    }
   ],
   "source": [
    "imdb_title.printSchema()\n",
    "x = imdb_title.count()\n",
    "print(x)\n",
    "imdb_title.show(n=5)"
   ]
  },
  {
   "cell_type": "code",
   "execution_count": 10,
   "metadata": {
    "application/vnd.databricks.v1+cell": {
     "cellMetadata": {
      "byteLimit": 2048000,
      "rowLimit": 10000
     },
     "inputWidgets": {},
     "nuid": "bfbbf081-3e67-41bb-84bb-8ba806c5a25e",
     "showTitle": false,
     "title": ""
    }
   },
   "outputs": [],
   "source": [
    "# imdb_title.filter(F.lower(F.col(\"title\")) == 'cowboy bebop').show()"
   ]
  },
  {
   "cell_type": "code",
   "execution_count": 11,
   "metadata": {
    "application/vnd.databricks.v1+cell": {
     "cellMetadata": {
      "byteLimit": 2048000,
      "rowLimit": 10000
     },
     "inputWidgets": {},
     "nuid": "a3d1f9fb-1a2c-4682-8900-492ee3caaf56",
     "showTitle": false,
     "title": ""
    }
   },
   "outputs": [],
   "source": [
    "# imdb_title.filter(F.col(\"titleId\") == \"tt0213338\").show(n=100)"
   ]
  },
  {
   "cell_type": "code",
   "execution_count": 12,
   "metadata": {
    "application/vnd.databricks.v1+cell": {
     "cellMetadata": {
      "byteLimit": 2048000,
      "rowLimit": 10000
     },
     "inputWidgets": {},
     "nuid": "401ba0fd-aff7-4ad2-a7b5-e03ea377cfd2",
     "showTitle": false,
     "title": ""
    }
   },
   "outputs": [],
   "source": [
    "# imdb_title.filter((F.col(\"titleId\") == \"tt0213338\") & (F.col(\"region\") == \"US\")).show()"
   ]
  },
  {
   "cell_type": "code",
   "execution_count": 13,
   "metadata": {
    "application/vnd.databricks.v1+cell": {
     "cellMetadata": {
      "byteLimit": 2048000,
      "rowLimit": 10000
     },
     "inputWidgets": {},
     "nuid": "c5bb91d0-3530-4a4c-bbd3-5e0d82d3fe4f",
     "showTitle": false,
     "title": ""
    }
   },
   "outputs": [],
   "source": [
    "# imdb_title.filter((F.col(\"titleId\") == \"tt0213338\") & (F.col(\"region\") == \"JP\")).show()"
   ]
  },
  {
   "cell_type": "code",
   "execution_count": 14,
   "metadata": {
    "application/vnd.databricks.v1+cell": {
     "cellMetadata": {
      "byteLimit": 2048000,
      "rowLimit": 10000
     },
     "inputWidgets": {},
     "nuid": "beda254a-2e02-4696-ab88-55e9f78f1027",
     "showTitle": false,
     "title": ""
    }
   },
   "outputs": [],
   "source": [
    "# imdb_title_basics.filter(F.col(\"tconst\") == \"tt0213338\").show(truncate=False)"
   ]
  },
  {
   "cell_type": "code",
   "execution_count": 15,
   "metadata": {
    "application/vnd.databricks.v1+cell": {
     "cellMetadata": {
      "byteLimit": 2048000,
      "rowLimit": 10000
     },
     "inputWidgets": {},
     "nuid": "ddbf5e4c-4a0c-45a8-b1f9-76a1c23ceb9a",
     "showTitle": false,
     "title": ""
    }
   },
   "outputs": [],
   "source": [
    "# imdb_ratings.filter(F.col(\"tconst\") == \"tt0213338\").show(truncate=False)"
   ]
  },
  {
   "cell_type": "code",
   "execution_count": 16,
   "metadata": {
    "application/vnd.databricks.v1+cell": {
     "cellMetadata": {
      "byteLimit": 2048000,
      "rowLimit": 10000
     },
     "inputWidgets": {},
     "nuid": "342ea217-ae92-4040-a30e-219b38a6b0dd",
     "showTitle": false,
     "title": ""
    }
   },
   "outputs": [],
   "source": [
    "# imdb_episode.filter(F.col(\"parentTconst\") == \"tt0213338\").show(truncate=False)"
   ]
  },
  {
   "cell_type": "code",
   "execution_count": 17,
   "metadata": {
    "application/vnd.databricks.v1+cell": {
     "cellMetadata": {
      "byteLimit": 2048000,
      "rowLimit": 10000
     },
     "inputWidgets": {},
     "nuid": "61f7a84a-ddee-4eb3-b5a7-d4ffa1c3d557",
     "showTitle": false,
     "title": ""
    }
   },
   "outputs": [],
   "source": [
    "# imdb_name_basics.printSchema()\n",
    "# x = imdb_name_basics.count()\n",
    "# print(x)\n",
    "# imdb_name_basics.show(n=5)"
   ]
  },
  {
   "cell_type": "code",
   "execution_count": 18,
   "metadata": {
    "application/vnd.databricks.v1+cell": {
     "cellMetadata": {
      "byteLimit": 2048000,
      "rowLimit": 10000
     },
     "inputWidgets": {},
     "nuid": "ce97936a-fe2a-4b86-8be4-576cd2fb30bb",
     "showTitle": false,
     "title": ""
    }
   },
   "outputs": [],
   "source": [
    "# imdb_crew.printSchema()\n",
    "# x = imdb_crew.count()\n",
    "# print(x)\n",
    "# imdb_crew.show(n=5)"
   ]
  },
  {
   "cell_type": "code",
   "execution_count": 19,
   "metadata": {
    "application/vnd.databricks.v1+cell": {
     "cellMetadata": {
      "byteLimit": 2048000,
      "rowLimit": 10000
     },
     "inputWidgets": {},
     "nuid": "d4033755-619b-4ca5-8f1c-f1a73a11a162",
     "showTitle": false,
     "title": ""
    }
   },
   "outputs": [],
   "source": [
    "# imdb_episode.printSchema()\n",
    "# x = imdb_episode.count()\n",
    "# print(x)\n",
    "# imdb_episode.show(n=5)"
   ]
  },
  {
   "cell_type": "code",
   "execution_count": 20,
   "metadata": {
    "application/vnd.databricks.v1+cell": {
     "cellMetadata": {
      "byteLimit": 2048000,
      "rowLimit": 10000
     },
     "inputWidgets": {},
     "nuid": "df7b3d8e-869f-4c77-a57f-9f1d52a8c291",
     "showTitle": false,
     "title": ""
    }
   },
   "outputs": [],
   "source": [
    "# imdb_principals.printSchema()\n",
    "# x = imdb_principals.count()\n",
    "# print(x)\n",
    "# imdb_principals.show(n=5)"
   ]
  },
  {
   "cell_type": "markdown",
   "metadata": {
    "application/vnd.databricks.v1+cell": {
     "cellMetadata": {
      "byteLimit": 2048000,
      "rowLimit": 10000
     },
     "inputWidgets": {},
     "nuid": "00c660dc-c427-4669-8a6a-aa6f376554c5",
     "showTitle": false,
     "title": ""
    }
   },
   "source": [
    "## Kaggle Anime dataset"
   ]
  },
  {
   "cell_type": "code",
   "execution_count": 21,
   "metadata": {
    "application/vnd.databricks.v1+cell": {
     "cellMetadata": {
      "byteLimit": 2048000,
      "rowLimit": 10000
     },
     "inputWidgets": {},
     "nuid": "6c7cd903-c8bf-49ae-83be-486f6f58cb8a",
     "showTitle": false,
     "title": ""
    }
   },
   "outputs": [
    {
     "name": "stdout",
     "output_type": "stream",
     "text": [
      "40779\n",
      "root\n",
      " |-- anime_anime_id: string (nullable = true)\n",
      " |-- anime_Name: string (nullable = true)\n",
      " |-- anime_English name: string (nullable = true)\n",
      " |-- anime_Other name: string (nullable = true)\n",
      " |-- anime_Score: string (nullable = true)\n",
      " |-- anime_Genres: string (nullable = true)\n",
      " |-- anime_Synopsis: string (nullable = true)\n",
      " |-- anime_Type: string (nullable = true)\n",
      " |-- anime_Episodes: string (nullable = true)\n",
      " |-- anime_Aired: string (nullable = true)\n",
      " |-- anime_Premiered: string (nullable = true)\n",
      " |-- anime_Status: string (nullable = true)\n",
      " |-- anime_Producers: string (nullable = true)\n",
      " |-- anime_Licensors: string (nullable = true)\n",
      " |-- anime_Studios: string (nullable = true)\n",
      " |-- anime_Source: string (nullable = true)\n",
      " |-- anime_Duration: string (nullable = true)\n",
      " |-- anime_Rating: string (nullable = true)\n",
      " |-- anime_Rank: string (nullable = true)\n",
      " |-- anime_Popularity: string (nullable = true)\n",
      " |-- anime_Favorites: string (nullable = true)\n",
      " |-- anime_Scored By: string (nullable = true)\n",
      " |-- anime_Members: string (nullable = true)\n",
      " |-- anime_Image URL: string (nullable = true)\n",
      "\n",
      "+---------------------------------------------------------------------------------------------------------------------------+--------------------------------------------------------------------------------------------------------------------+----------------------------------------------------------------------------------------+-------------------------------------------------------------------------+---------------------------------------------+-----------------------------+--------------------------------------------------------------------------------------------------------------------------------------------------------------------------------------------------------------------------------------------------------------------------------------------------------------------------------------------------------------------------------------------------------------------------------------------------+-------------------------------------------------------------------+--------------------------------------------------------------------------------------------------------+--------------------------------+---------------+------------+---------------+------------------------------+----------------------+---------------------------+--------------+------------+-----------+----------------------------------------------------+---------------+---------------+-------------+---------------+\n",
      "|anime_anime_id                                                                                                             |anime_Name                                                                                                          |anime_English name                                                                      |anime_Other name                                                         |anime_Score                                  |anime_Genres                 |anime_Synopsis                                                                                                                                                                                                                                                                                                                                                                                                                                    |anime_Type                                                         |anime_Episodes                                                                                          |anime_Aired                     |anime_Premiered|anime_Status|anime_Producers|anime_Licensors               |anime_Studios         |anime_Source               |anime_Duration|anime_Rating|anime_Rank |anime_Popularity                                    |anime_Favorites|anime_Scored By|anime_Members|anime_Image URL|\n",
      "+---------------------------------------------------------------------------------------------------------------------------+--------------------------------------------------------------------------------------------------------------------+----------------------------------------------------------------------------------------+-------------------------------------------------------------------------+---------------------------------------------+-----------------------------+--------------------------------------------------------------------------------------------------------------------------------------------------------------------------------------------------------------------------------------------------------------------------------------------------------------------------------------------------------------------------------------------------------------------------------------------------+-------------------------------------------------------------------+--------------------------------------------------------------------------------------------------------+--------------------------------+---------------+------------+---------------+------------------------------+----------------------+---------------------------+--------------+------------+-----------+----------------------------------------------------+---------------+---------------+-------------+---------------+\n",
      "|1                                                                                                                          |Cowboy Bebop                                                                                                        |Cowboy Bebop                                                                            |カウボーイビバップ                                                       |8.75                                         |Action, Award Winning, Sci-Fi|Crime is timeless. By the year 2071, humanity has expanded across the galaxy, filling the surface of other planets with settlements like those on Earth. These new societies are plagued by murder, drug use, and theft, and intergalactic outlaws are hunted by a growing number of tough bounty hunters.                                                                                                                                        |NULL                                                               |NULL                                                                                                    |NULL                            |NULL           |NULL        |NULL           |NULL                          |NULL                  |NULL                       |NULL          |NULL        |NULL       |NULL                                                |NULL           |NULL           |NULL         |NULL           |\n",
      "|Spike Spiegel and Jet Black pursue criminals throughout space to make a humble living. Beneath his goofy and aloof demeanor| Spike is haunted by the weight of his violent past. Meanwhile                                                      | Jet manages his own troubled memories while taking care of Spike and the Bebop         | their ship. The duo is joined by the beautiful con artist Faye Valentine| odd child Edward Wong Hau Pepelu Tivrusky IV| and Ein                     | a bioengineered Welsh Corgi.                                                                                                                                                                                                                                                                                                                                                                                                                     |NULL                                                               |NULL                                                                                                    |NULL                            |NULL           |NULL        |NULL           |NULL                          |NULL                  |NULL                       |NULL          |NULL        |NULL       |NULL                                                |NULL           |NULL           |NULL         |NULL           |\n",
      "|While developing bonds and working to catch a colorful cast of criminals                                                   | the Bebop crew's lives are disrupted by a menace from Spike's past. As a rival's maniacal plot continues to unravel| Spike must choose between life with his newfound family or revenge for his old wounds.\"|TV                                                                       |26.0                                         |Apr 3, 1998 to Apr 24, 1999  |spring 1998                                                                                                                                                                                                                                                                                                                                                                                                                                       |Finished Airing                                                    |Bandai Visual                                                                                           |Funimation, Bandai Entertainment|Sunrise        |Original    |24 min per ep  |R - 17+ (violence & profanity)|41.0                  |43                         |78525         |914193.0    |1771505    |https://cdn.myanimelist.net/images/anime/4/19644.jpg|NULL           |NULL           |NULL         |NULL           |\n",
      "|5                                                                                                                          |Cowboy Bebop: Tengoku no Tobira                                                                                     |Cowboy Bebop: The Movie                                                                 |カウボーイビバップ 天国の扉                                              |8.38                                         |Action, Sci-Fi               |Another day, another bounty—such is the life of the often unlucky crew of the Bebop. However, this routine is interrupted when Faye, who is chasing a fairly worthless target on Mars, witnesses an oil tanker suddenly explode, causing mass hysteria. As casualties mount due to a strange disease spreading through the smoke from the blast, a whopping three hundred million woolong price is placed on the head of the supposed perpetrator.|NULL                                                               |NULL                                                                                                    |NULL                            |NULL           |NULL        |NULL           |NULL                          |NULL                  |NULL                       |NULL          |NULL        |NULL       |NULL                                                |NULL           |NULL           |NULL         |NULL           |\n",
      "|With lives at stake and a solution to their money problems in sight                                                        | the Bebop crew springs into action. Spike                                                                          | Jet                                                                                    | Faye                                                                    | and Edward                                  | followed closely by Ein     | split up to pursue different leads across Alba City. Through their individual investigations                                                                                                                                                                                                                                                                                                                                                     | they discover a cover-up scheme involving a pharmaceutical company| revealing a plot that reaches much further than the ragtag team of bounty hunters could have realized.\"|Movie                           |1.0            |Sep 1, 2001 |UNKNOWN        |Finished Airing               |Sunrise, Bandai Visual|Sony Pictures Entertainment|Bones         |Original    |1 hr 55 min|R - 17+ (violence & profanity)                      |189.0          |602            |1448         |206248.0       |\n",
      "+---------------------------------------------------------------------------------------------------------------------------+--------------------------------------------------------------------------------------------------------------------+----------------------------------------------------------------------------------------+-------------------------------------------------------------------------+---------------------------------------------+-----------------------------+--------------------------------------------------------------------------------------------------------------------------------------------------------------------------------------------------------------------------------------------------------------------------------------------------------------------------------------------------------------------------------------------------------------------------------------------------+-------------------------------------------------------------------+--------------------------------------------------------------------------------------------------------+--------------------------------+---------------+------------+---------------+------------------------------+----------------------+---------------------------+--------------+------------+-----------+----------------------------------------------------+---------------+---------------+-------------+---------------+\n",
      "only showing top 5 rows\n",
      "\n"
     ]
    },
    {
     "data": {
      "text/plain": [
       "[Row(anime_anime_id='1', anime_Name='Cowboy Bebop', anime_English name='Cowboy Bebop', anime_Other name='カウボーイビバップ', anime_Score='8.75', anime_Genres='Action, Award Winning, Sci-Fi', anime_Synopsis='Crime is timeless. By the year 2071, humanity has expanded across the galaxy, filling the surface of other planets with settlements like those on Earth. These new societies are plagued by murder, drug use, and theft, and intergalactic outlaws are hunted by a growing number of tough bounty hunters.', anime_Type=None, anime_Episodes=None, anime_Aired=None, anime_Premiered=None, anime_Status=None, anime_Producers=None, anime_Licensors=None, anime_Studios=None, anime_Source=None, anime_Duration=None, anime_Rating=None, anime_Rank=None, anime_Popularity=None, anime_Favorites=None, anime_Scored By=None, anime_Members=None, anime_Image URL=None),\n",
       " Row(anime_anime_id='1', anime_Name='200 years after this epic battle', anime_English name=\" Enno's descendant\", anime_Other name=' Chiaki', anime_Score=' spends her days showing tourists around her hometown of Shikigami-cho and doing exorcisms to pay the bills. One day', anime_Genres=' two thieves enter the town in hopes of opening a seal in the Ozuno temple and releasing the hidden treasure from within. However', anime_Synopsis=' what actually pops out is a dark entity that attaches itself to the henchmen', anime_Type=' transforming them into demonic beings. After this transformation', anime_Episodes=' they begin a rampage through the temple', anime_Aired=' terrorizing poor Chiaki.', anime_Premiered=None, anime_Status=None, anime_Producers=None, anime_Licensors=None, anime_Studios=None, anime_Source=None, anime_Duration=None, anime_Rating=None, anime_Rank=None, anime_Popularity=None, anime_Favorites=None, anime_Scored By=None, anime_Members=None, anime_Image URL=None)]"
      ]
     },
     "execution_count": 21,
     "metadata": {},
     "output_type": "execute_result"
    }
   ],
   "source": [
    "x = anime_dataset.count()\n",
    "print(x)\n",
    "anime_dataset.printSchema()\n",
    "anime_dataset.show(n=5, truncate=False)\n",
    "anime_dataset.filter(F.col('anime_id') == '1').collect()"
   ]
  },
  {
   "cell_type": "code",
   "execution_count": 22,
   "metadata": {},
   "outputs": [],
   "source": [
    "# find anime title with title Ace Attorney\n",
    "\n",
    "# anime_dataset.filter(F.lower(F.col(\"anime_Other name\")) == 'Ace Attorney').show()\n",
    "# anime_dataset.filter(F.lower(F.col(\"anime_anime_id\")) == '31630').show()\n",
    "\n",
    "# 31630,\"Gyakuten Saiban: Sono \"\"Shinjitsu\"\", Igi Ari!\",Ace Attorney,逆転裁判 ～その「真実」、異議あり！～,"
   ]
  },
  {
   "cell_type": "code",
   "execution_count": 23,
   "metadata": {
    "application/vnd.databricks.v1+cell": {
     "cellMetadata": {
      "byteLimit": 2048000,
      "rowLimit": 10000
     },
     "inputWidgets": {},
     "nuid": "bee241a9-5bfd-44db-84a2-f1ed2a45342c",
     "showTitle": false,
     "title": ""
    }
   },
   "outputs": [],
   "source": [
    "# anime_filtered.printSchema()\n",
    "# x = anime_filtered.count()\n",
    "# print(x)\n",
    "# anime_filtered.show(n=5)\n",
    "# anime_filtered.filter(F.col('anime_id') == 1).collect()"
   ]
  },
  {
   "cell_type": "code",
   "execution_count": 24,
   "metadata": {
    "application/vnd.databricks.v1+cell": {
     "cellMetadata": {
      "byteLimit": 2048000,
      "rowLimit": 10000
     },
     "inputWidgets": {},
     "nuid": "93d7ed66-e2d5-4364-8032-49dcae5e6a30",
     "showTitle": false,
     "title": ""
    }
   },
   "outputs": [],
   "source": [
    "# final_animedataset.printSchema()\n",
    "# x = final_animedataset.count()\n",
    "# print(x)\n",
    "# final_animedataset.show(n=5)\n",
    "# final_animedataset.filter(F.col('anime_id') == 1)"
   ]
  },
  {
   "cell_type": "code",
   "execution_count": 25,
   "metadata": {
    "application/vnd.databricks.v1+cell": {
     "cellMetadata": {
      "byteLimit": 2048000,
      "rowLimit": 10000
     },
     "inputWidgets": {},
     "nuid": "15784c09-3014-4cb6-b34b-515daab41fc7",
     "showTitle": false,
     "title": ""
    }
   },
   "outputs": [],
   "source": [
    "# user_filtered.printSchema()\n",
    "# x = user_filtered.count()\n",
    "# print(x)\n",
    "# user_filtered.show(n=5)"
   ]
  },
  {
   "cell_type": "code",
   "execution_count": 26,
   "metadata": {
    "application/vnd.databricks.v1+cell": {
     "cellMetadata": {
      "byteLimit": 2048000,
      "rowLimit": 10000
     },
     "inputWidgets": {},
     "nuid": "0ca8d252-f20c-4ee1-b649-9fc4e169c49f",
     "showTitle": false,
     "title": ""
    }
   },
   "outputs": [],
   "source": [
    "# users_details_2023.printSchema()\n",
    "# x = users_details_2023.count()\n",
    "# print(x)\n",
    "# users_details_2023.show(n=5)"
   ]
  },
  {
   "cell_type": "code",
   "execution_count": 27,
   "metadata": {
    "application/vnd.databricks.v1+cell": {
     "cellMetadata": {
      "byteLimit": 2048000,
      "rowLimit": 10000
     },
     "inputWidgets": {},
     "nuid": "cc1c0bb4-d390-4dad-a308-fcdd0d45aebb",
     "showTitle": false,
     "title": ""
    }
   },
   "outputs": [],
   "source": [
    "# users_score_2023.printSchema()\n",
    "# x = users_score_2023.count()\n",
    "# print(x)\n",
    "# users_score_2023.show(n=5)"
   ]
  },
  {
   "cell_type": "markdown",
   "metadata": {
    "application/vnd.databricks.v1+cell": {
     "cellMetadata": {
      "byteLimit": 2048000,
      "rowLimit": 10000
     },
     "inputWidgets": {},
     "nuid": "d4bd6001-6fe7-4f46-bec4-849b239460fa",
     "showTitle": false,
     "title": ""
    }
   },
   "source": [
    "## IMDB Scrape"
   ]
  },
  {
   "cell_type": "code",
   "execution_count": 28,
   "metadata": {
    "application/vnd.databricks.v1+cell": {
     "cellMetadata": {
      "byteLimit": 2048000,
      "rowLimit": 10000
     },
     "inputWidgets": {},
     "nuid": "66380d9b-b46f-459f-8ec2-f63f0a3a646b",
     "showTitle": false,
     "title": ""
    }
   },
   "outputs": [
    {
     "name": "stdout",
     "output_type": "stream",
     "text": [
      "root\n",
      " |-- imdb_scrape__c0: string (nullable = true)\n",
      " |-- imdb_scrape_title: string (nullable = true)\n",
      " |-- imdb_scrape_description: string (nullable = true)\n",
      " |-- imdb_scrape_url: string (nullable = true)\n",
      " |-- imdb_scrape_image: string (nullable = true)\n",
      " |-- imdb_scrape_rating_value: string (nullable = true)\n",
      " |-- imdb_scrape_genre: string (nullable = true)\n",
      " |-- imdb_scrape_content_rating: string (nullable = true)\n",
      " |-- imdb_scrape_creator: string (nullable = true)\n",
      " |-- imdb_scrape_main_cast: string (nullable = true)\n",
      " |-- imdb_scrape_keywords: string (nullable = true)\n",
      " |-- imdb_scrape_duration: string (nullable = true)\n",
      " |-- imdb_scrape_soundtrack_trackname: string (nullable = true)\n",
      " |-- imdb_scrape_lyrics: string (nullable = true)\n",
      " |-- imdb_scrape_music: string (nullable = true)\n",
      " |-- imdb_scrape_arrangement: string (nullable = true)\n",
      " |-- imdb_scrape_performed_by: string (nullable = true)\n",
      " |-- imdb_scrape_imdb_id: string (nullable = true)\n",
      "\n",
      "53786\n",
      "+---------------+--------------------+-----------------------+--------------------+--------------------+------------------------+--------------------+--------------------------+--------------------+---------------------+--------------------+--------------------+--------------------------------+------------------+-----------------+-----------------------+------------------------+-------------------+\n",
      "|imdb_scrape__c0|   imdb_scrape_title|imdb_scrape_description|     imdb_scrape_url|   imdb_scrape_image|imdb_scrape_rating_value|   imdb_scrape_genre|imdb_scrape_content_rating| imdb_scrape_creator|imdb_scrape_main_cast|imdb_scrape_keywords|imdb_scrape_duration|imdb_scrape_soundtrack_trackname|imdb_scrape_lyrics|imdb_scrape_music|imdb_scrape_arrangement|imdb_scrape_performed_by|imdb_scrape_imdb_id|\n",
      "+---------------+--------------------+-----------------------+--------------------+--------------------+------------------------+--------------------+--------------------------+--------------------+---------------------+--------------------+--------------------+--------------------------------+------------------+-----------------+-----------------------+------------------------+-------------------+\n",
      "|              0|             Kingdom|   In ancient China,...|https://www.imdb....|https://m.media-a...|                     8.6|['Animation', 'Ac...|                     TV-MA|[{'@type': 'Organ...| [{'@type': 'Perso...|china,chinese his...|                NULL|                            NULL|              NULL|             NULL|                   NULL|                    NULL|          tt2404499|\n",
      "|              1|A Determined Cros...|   The Hi Shin Unit&...|https://www.imdb....|https://m.media-a...|                     9.5|['Animation', 'Ac...|                      NULL|[{'@type': 'Organ...|                 NULL|                NULL|                NULL|                            NULL|              NULL|             NULL|                   NULL|                    NULL|         tt31248682|\n",
      "|              2|Eiga Doraemon: No...|   Doraemon and frie...|https://www.imdb....|https://m.media-a...|                     6.8|['Animation', 'Ad...|                      NULL|[{'@type': 'Organ...| [{'@type': 'Perso...|based on tv serie...|             PT1H55M|                            NULL|              NULL|             NULL|                   NULL|                    NULL|         tt29402528|\n",
      "|              3|     Sôsô no Furîren|   An elf and her fr...|https://www.imdb....|https://m.media-a...|                     9.0|['Animation', 'Ad...|                     TV-14|[{'@type': 'Organ...| [{'@type': 'Perso...|shounen,based on ...|                NULL|                          Yuusha|            (Hero)|  [Opening Theme]|         Music by Ayase|       Arranged by Ayase|         tt22248376|\n",
      "|              4|             Kingdom|   In ancient China,...|https://www.imdb....|https://m.media-a...|                     8.6|['Animation', 'Ac...|                     TV-MA|[{'@type': 'Organ...| [{'@type': 'Perso...|china,chinese his...|                NULL|                            NULL|              NULL|             NULL|                   NULL|                    NULL|          tt2404499|\n",
      "+---------------+--------------------+-----------------------+--------------------+--------------------+------------------------+--------------------+--------------------------+--------------------+---------------------+--------------------+--------------------+--------------------------------+------------------+-----------------+-----------------------+------------------------+-------------------+\n",
      "only showing top 5 rows\n",
      "\n"
     ]
    },
    {
     "name": "stderr",
     "output_type": "stream",
     "text": [
      "24/03/13 23:17:58 WARN CSVHeaderChecker: CSV header does not conform to the schema.\n",
      " Header: , title, description, url, image, rating_value, genre, content_rating, creator, main_cast, keywords, duration, soundtrack_trackname, lyrics, music, arrangement, performed_by, imdb_id\n",
      " Schema: _c0, title, description, url, image, rating_value, genre, content_rating, creator, main_cast, keywords, duration, soundtrack_trackname, lyrics, music, arrangement, performed_by, imdb_id\n",
      "Expected: _c0 but found: \n",
      "CSV file: file:///Users/jonathanlin/Documents/cse6242/project/data/imdb-scrape/imdb_scraped_datav2.csv.gz\n"
     ]
    }
   ],
   "source": [
    "imdb_scrape.printSchema()\n",
    "x = imdb_scrape.count()\n",
    "print(x)\n",
    "imdb_scrape.show(n=5)"
   ]
  },
  {
   "cell_type": "markdown",
   "metadata": {
    "application/vnd.databricks.v1+cell": {
     "cellMetadata": {
      "byteLimit": 2048000,
      "rowLimit": 10000
     },
     "inputWidgets": {},
     "nuid": "fc4f4336-f282-40b5-b42d-e9a0e5aa8c61",
     "showTitle": false,
     "title": ""
    }
   },
   "source": [
    "# Clean data"
   ]
  },
  {
   "cell_type": "markdown",
   "metadata": {
    "application/vnd.databricks.v1+cell": {
     "cellMetadata": {},
     "inputWidgets": {},
     "nuid": "dc8af669-7671-46c0-8020-43b6717f388c",
     "showTitle": false,
     "title": ""
    }
   },
   "source": [
    "## IMDB Scrape data"
   ]
  },
  {
   "cell_type": "code",
   "execution_count": 29,
   "metadata": {
    "application/vnd.databricks.v1+cell": {
     "cellMetadata": {
      "byteLimit": 2048000,
      "rowLimit": 10000
     },
     "inputWidgets": {},
     "nuid": "31dd2773-06e5-4af3-9988-27b8d8a9fd64",
     "showTitle": false,
     "title": ""
    }
   },
   "outputs": [
    {
     "name": "stdout",
     "output_type": "stream",
     "text": [
      "root\n",
      " |-- imdb_scrape__c0: string (nullable = true)\n",
      " |-- imdb_scrape_title: string (nullable = true)\n",
      " |-- imdb_scrape_description: string (nullable = true)\n",
      " |-- imdb_scrape_url: string (nullable = true)\n",
      " |-- imdb_scrape_image: string (nullable = true)\n",
      " |-- imdb_scrape_rating_value: string (nullable = true)\n",
      " |-- imdb_scrape_genre: string (nullable = true)\n",
      " |-- imdb_scrape_content_rating: string (nullable = true)\n",
      " |-- imdb_scrape_creator: string (nullable = true)\n",
      " |-- imdb_scrape_main_cast: string (nullable = true)\n",
      " |-- imdb_scrape_keywords: string (nullable = true)\n",
      " |-- imdb_scrape_duration: string (nullable = true)\n",
      " |-- imdb_scrape_soundtrack_trackname: string (nullable = true)\n",
      " |-- imdb_scrape_lyrics: string (nullable = true)\n",
      " |-- imdb_scrape_music: string (nullable = true)\n",
      " |-- imdb_scrape_arrangement: string (nullable = true)\n",
      " |-- imdb_scrape_performed_by: string (nullable = true)\n",
      " |-- imdb_scrape_imdb_id: string (nullable = true)\n",
      "\n",
      "53786\n"
     ]
    }
   ],
   "source": [
    "imdb_scrape.printSchema()\n",
    "imdb_scrape_row_count = imdb_scrape.count()\n",
    "print(imdb_scrape_row_count)"
   ]
  },
  {
   "cell_type": "code",
   "execution_count": 30,
   "metadata": {
    "application/vnd.databricks.v1+cell": {
     "cellMetadata": {
      "byteLimit": 2048000,
      "rowLimit": 10000
     },
     "inputWidgets": {},
     "nuid": "9d203e47-c98f-4555-b7d4-48061135659a",
     "showTitle": false,
     "title": ""
    }
   },
   "outputs": [
    {
     "name": "stdout",
     "output_type": "stream",
     "text": [
      "18957\n"
     ]
    }
   ],
   "source": [
    "imdb_scrape_unique = imdb_scrape.select(\"imdb_scrape_imdb_id\", \"imdb_scrape_title\").distinct()\n",
    "imdb_scrape_unique_row_count = imdb_scrape_unique.count()\n",
    "print(imdb_scrape_unique_row_count)\n"
   ]
  },
  {
   "cell_type": "code",
   "execution_count": 31,
   "metadata": {
    "application/vnd.databricks.v1+cell": {
     "cellMetadata": {
      "byteLimit": 2048000,
      "rowLimit": 10000
     },
     "inputWidgets": {},
     "nuid": "39d821b3-73e2-462f-a84b-edfbdd1f517c",
     "showTitle": false,
     "title": ""
    }
   },
   "outputs": [],
   "source": [
    "# imdb_scrape_music_unique_notnull = imdb_scrape_unique.filter(\n",
    "#     col(\"imdb_scrape_soundtrack_trackname\").isNotNull() |\n",
    "#     col(\"imdb_scrape_lyrics\").isNotNull() |\n",
    "#     col(\"imdb_scrape_music\").isNotNull() |\n",
    "#     col(\"imdb_scrape_arrangement\").isNotNull() |\n",
    "#     col(\"imdb_scrape_performed_by\").isNotNull())\n",
    "\n",
    "# imdb_scrape_music_unique_notnull.show(n = 10)\n",
    "\n",
    "# imdb_scrape_music_unique_notnull_row_count = imdb_scrape_music_unique_notnull.count()\n",
    "# print(imdb_scrape_music_unique_notnull_row_count)"
   ]
  },
  {
   "cell_type": "markdown",
   "metadata": {
    "application/vnd.databricks.v1+cell": {
     "cellMetadata": {
      "byteLimit": 2048000,
      "rowLimit": 10000
     },
     "inputWidgets": {},
     "nuid": "c1ebba21-0f5f-4498-b54c-6d9df7245004",
     "showTitle": false,
     "title": ""
    }
   },
   "source": [
    "## V3 - Iterative Data Matching\n",
    "\n",
    "First start with higher confidence joins. With items that are not joinable, join on Japanese Language"
   ]
  },
  {
   "cell_type": "code",
   "execution_count": 32,
   "metadata": {
    "application/vnd.databricks.v1+cell": {
     "cellMetadata": {
      "byteLimit": 2048000,
      "rowLimit": 10000
     },
     "inputWidgets": {},
     "nuid": "ff5ad1e0-13ea-44fb-963f-56abbf69b768",
     "showTitle": false,
     "title": ""
    }
   },
   "outputs": [
    {
     "name": "stderr",
     "output_type": "stream",
     "text": [
      "[Stage 29:>                                                         (0 + 1) / 1]\r"
     ]
    },
    {
     "name": "stdout",
     "output_type": "stream",
     "text": [
      "+------------------+-------------------+--------------------+-----------------+-------------------+----------------+---------------------+--------------------------+-------------------+--------+\n",
      "|imdb_title_titleId|imdb_title_ordering|    imdb_title_title|imdb_title_region|imdb_title_language|imdb_title_types|imdb_title_attributes|imdb_title_isOriginalTitle|imdb_scrape_imdb_id|priority|\n",
      "+------------------+-------------------+--------------------+-----------------+-------------------+----------------+---------------------+--------------------------+-------------------+--------+\n",
      "|         tt0101137|                  1|          Luna Varga|               US|                 \\N|     imdbDisplay|                   \\N|                         0|          tt0101137|       1|\n",
      "|         tt0170180|                  1|Lupin III: Dead o...|               US|                 \\N|     imdbDisplay|                   \\N|                         0|          tt0170180|       1|\n",
      "|         tt0103179|                  1|Urusei Yatsura: D...|               US|                 \\N|     imdbDisplay|                   \\N|                         0|          tt0103179|       1|\n",
      "|         tt0059212|                  1|Gulliver's Travel...|               US|                 \\N|              \\N|                   \\N|                         0|          tt0059212|       1|\n",
      "|         tt0105748|                  1|       Video Girl Ai|               US|                 \\N|     imdbDisplay|                   \\N|                         0|          tt0105748|       1|\n",
      "|         tt0077013|                  1|    Future Boy Conan|               US|                 \\N|     imdbDisplay|                   \\N|                         0|          tt0077013|       1|\n",
      "|         tt0109277|                  1|Sailor Moon S: Th...|               US|                 \\N|     alternative|                   \\N|                         0|          tt0109277|       1|\n",
      "|         tt0097217|                  1|Dog Soldier: Shad...|               US|                 \\N|     imdbDisplay|                   \\N|                         0|          tt0097217|       1|\n",
      "|         tt0113012|                  1|    Elf Princess Ren|               US|                 \\N|     imdbDisplay|                   \\N|                         0|          tt0113012|       1|\n",
      "|         tt0086515|                  1|Unico in the Isla...|               US|                 \\N|     imdbDisplay|                   \\N|                         0|          tt0086515|       1|\n",
      "|         tt0114327|                  1| Sailor Moon Super S|               US|                 \\N|              \\N|  fourth season title|                         0|          tt0114327|       1|\n",
      "|         tt0088656|                  1|A.D. Police File ...|               US|                 \\N|     imdbDisplay|                   \\N|                         0|          tt0088656|       1|\n",
      "|         tt0124971|                  1|         8 Man After|               US|                 \\N|     imdbDisplay|                   \\N|                         0|          tt0124971|       1|\n",
      "|         tt0091211|                  1|Fist of the North...|               US|                 \\N|     imdbDisplay|                   \\N|                         0|          tt0091211|       1|\n",
      "|         tt0142371|                  1|Fist of the North...|               US|                 \\N|     imdbDisplay|                   \\N|                         0|          tt0142371|       1|\n",
      "|         tt0096591|                  1|Nadia: The Secret...|               US|                 \\N|              \\N|                   \\N|                         0|          tt0096591|       1|\n",
      "|         tt0144095|                  1|Battle Arena Tosh...|               US|                 \\N|     imdbDisplay|                   \\N|                         0|          tt0144095|       1|\n",
      "|         tt0096891|                  1|     Baoh the Caller|               US|                 \\N|     imdbDisplay|                   \\N|                         0|          tt0096891|       1|\n",
      "|         tt0156204|                  1|Super Dimensional...|               US|                 \\N|     imdbDisplay|                   \\N|                         0|          tt0156204|       1|\n",
      "|         tt0159193|                  1|         Gundam Wing|               US|                 \\N|     alternative|                   \\N|                         0|          tt0159193|       1|\n",
      "+------------------+-------------------+--------------------+-----------------+-------------------+----------------+---------------------+--------------------------+-------------------+--------+\n",
      "only showing top 20 rows\n",
      "\n"
     ]
    },
    {
     "name": "stderr",
     "output_type": "stream",
     "text": [
      "                                                                                \r"
     ]
    }
   ],
   "source": [
    "# imdb_scrape gives is the in-scope animes. We need to join it to all possible names in imdb_title. This is imdb_title_inscope.\n",
    "\n",
    "# Then we take all the possibilies in anime_dataset and and left join it\n",
    "\n",
    "v3_imdb_titles = imdb_title.join(imdb_scrape_unique, imdb_title[\"imdb_title_titleId\"] == imdb_scrape[\"imdb_scrape_imdb_id\"], \"inner\")\\\n",
    "    .drop(imdb_scrape[\"imdb_scrape_title\"])\n",
    "\n",
    "priorityExpr = F.when(F.col(\"imdb_title_region\") == \"US\", 1)\\\n",
    "    .when((F.col(\"imdb_title_region\") == \"JP\") & (F.col(\"imdb_title_language\") == \"ja\"), 2)\\\n",
    "    .when(F.col(\"imdb_title_types\") == \"original\", 3)\\\n",
    "    .otherwise(4)\n",
    "\n",
    "v3_imdb_titles_priority = v3_imdb_titles\\\n",
    "    .withColumn(\"priority\", priorityExpr)\\\n",
    "    .orderBy(\"priority\", \"imdb_title_ordering\")\n",
    "\n",
    "v3_imdb_titles_priority.show()"
   ]
  },
  {
   "cell_type": "code",
   "execution_count": 33,
   "metadata": {
    "application/vnd.databricks.v1+cell": {
     "cellMetadata": {
      "byteLimit": 2048000,
      "rowLimit": 10000
     },
     "inputWidgets": {},
     "nuid": "c05e7700-366b-4efa-9feb-b80fcef608f3",
     "showTitle": false,
     "title": ""
    }
   },
   "outputs": [
    {
     "name": "stderr",
     "output_type": "stream",
     "text": [
      "[Stage 33:>                                                         (0 + 1) / 1]\r"
     ]
    },
    {
     "name": "stdout",
     "output_type": "stream",
     "text": [
      "+------------------+-------------------+--------------------+-----------------+-------------------+----------------+---------------------+--------------------------+-------------------+--------+\n",
      "|imdb_title_titleId|imdb_title_ordering|    imdb_title_title|imdb_title_region|imdb_title_language|imdb_title_types|imdb_title_attributes|imdb_title_isOriginalTitle|imdb_scrape_imdb_id|priority|\n",
      "+------------------+-------------------+--------------------+-----------------+-------------------+----------------+---------------------+--------------------------+-------------------+--------+\n",
      "|         tt0213338|                 21|        Cowboy Bebop|               US|                 \\N|     imdbDisplay|                   \\N|                         0|          tt0213338|       1|\n",
      "|         tt0213338|                 18|  カウボーイビバップ|               JP|                 ja|     imdbDisplay|                   \\N|                         0|          tt0213338|       2|\n",
      "|         tt0213338|                 28|Kaubôi bibappu: C...|               \\N|                 \\N|        original|                   \\N|                         1|          tt0213338|       3|\n",
      "|         tt0213338|                  1|        Cowboy Bebop|               IT|                 \\N|     imdbDisplay|                   \\N|                         0|          tt0213338|       4|\n",
      "|         tt0213338|                  2|        Cowboy Bebop|               MX|                 \\N|     imdbDisplay|                   \\N|                         0|          tt0213338|       4|\n",
      "|         tt0213338|                  3|        Каубој Бибоп|               RS|                 \\N|     imdbDisplay|                   \\N|                         0|          tt0213338|       4|\n",
      "|         tt0213338|                  4|        Cowboy Bebop|               EG|                 en|     imdbDisplay|                   \\N|                         0|          tt0213338|       4|\n",
      "|         tt0213338|                  5|      Kaubôi bibappu|               HK|                yue|     imdbDisplay|                   \\N|                         0|          tt0213338|       4|\n",
      "|         tt0213338|                  6|        Cowboy Bebop|              XWW|                 en|     imdbDisplay|                   \\N|                         0|          tt0213338|       4|\n",
      "|         tt0213338|                  7|  Ατίθασοι καουμπόις|               GR|                 \\N|     imdbDisplay|                   \\N|                         0|          tt0213338|       4|\n",
      "|         tt0213338|                  8|        Ковбой Бібоп|               UA|                 \\N|     imdbDisplay|                   \\N|                         0|          tt0213338|       4|\n",
      "|         tt0213338|                  9|        Cowboy Bebop|               VN|                 \\N|     imdbDisplay|                   \\N|                         0|          tt0213338|       4|\n",
      "|         tt0213338|                 10|        Cowboy Bebop|               AU|                 \\N|     imdbDisplay|                   \\N|                         0|          tt0213338|       4|\n",
      "|         tt0213338|                 11|      Kaubôi bibappu|               AE|                 \\N|     imdbDisplay|                   \\N|                         0|          tt0213338|       4|\n",
      "|         tt0213338|                 12|        Cowboy Bebop|               IL|                 en|     imdbDisplay|                   \\N|                         0|          tt0213338|       4|\n",
      "|         tt0213338|                 13|        Ковбой Бибоп|               RU|                 \\N|     imdbDisplay|                   \\N|                         0|          tt0213338|       4|\n",
      "|         tt0213338|                 14|        Cowboy Bebop|               FI|                 \\N|     imdbDisplay|                   \\N|                         0|          tt0213338|       4|\n",
      "|         tt0213338|                 15|        Cowboy Bebop|               ID|                 en|     imdbDisplay|                   \\N|                         0|          tt0213338|       4|\n",
      "|         tt0213338|                 16|        Kowboj Bebop|               PL|                 \\N|     imdbDisplay|                   \\N|                         0|          tt0213338|       4|\n",
      "|         tt0213338|                 17|        Cowboy Bebop|               DE|                 \\N|     imdbDisplay|                   \\N|                         0|          tt0213338|       4|\n",
      "|         tt0213338|                 19|        Cowboy Bebop|               EC|                 \\N|     imdbDisplay|                   \\N|                         0|          tt0213338|       4|\n",
      "|         tt0213338|                 20|            星際牛仔|               TW|                 \\N|     imdbDisplay|                   \\N|                         0|          tt0213338|       4|\n",
      "|         tt0213338|                 22|        Cowboy Bebop|               SK|                 \\N|     imdbDisplay|                   \\N|                         0|          tt0213338|       4|\n",
      "|         tt0213338|                 23|      Kaubôi bibappu|               CA|                 fr|     imdbDisplay|                   \\N|                         0|          tt0213338|       4|\n",
      "|         tt0213338|                 24|        Cowboy Bebop|               BR|                 \\N|     imdbDisplay|                   \\N|                         0|          tt0213338|       4|\n",
      "|         tt0213338|                 25|        Cowboy Bepop|               SG|                 en|     imdbDisplay|                   \\N|                         0|          tt0213338|       4|\n",
      "|         tt0213338|                 26|        Cowboy Bebop|               ZA|                 en|     imdbDisplay|                   \\N|                         0|          tt0213338|       4|\n",
      "|         tt0213338|                 27|        Cowboy Bebop|               FR|                 \\N|              \\N|                   \\N|                         0|          tt0213338|       4|\n",
      "|         tt0213338|                 29|        Cowboy Bebop|               CA|                 en|     imdbDisplay|                   \\N|                         0|          tt0213338|       4|\n",
      "|         tt0213338|                 30|        Cowboy Bebop|               PT|                 \\N|     imdbDisplay|                   \\N|                         0|          tt0213338|       4|\n",
      "|         tt0213338|                 31|        Cowboy Bebop|               PL|                 \\N|     alternative|                   \\N|                         0|          tt0213338|       4|\n",
      "|         tt0213338|                 32|        Cowboy Bebop|               GB|                 \\N|     imdbDisplay|                   \\N|                         0|          tt0213338|       4|\n",
      "|         tt0213338|                 33|            星际牛仔|               CN|                cmn|     imdbDisplay|                   \\N|                         0|          tt0213338|       4|\n",
      "|         tt0213338|                 34|        Cowboy Bebop|               IN|                 hi|     imdbDisplay|                   \\N|                         0|          tt0213338|       4|\n",
      "|         tt0213338|                 35|        Cowboy Bebop|               ES|                 \\N|     imdbDisplay|                   \\N|                         0|          tt0213338|       4|\n",
      "|         tt0213338|                 36|        Cowboy Bebop|               TR|                 tr|     imdbDisplay|                   \\N|                         0|          tt0213338|       4|\n",
      "|         tt0213338|                 37|        Cowboy Bebop|               HU|                 \\N|     imdbDisplay|                   \\N|                         0|          tt0213338|       4|\n",
      "|         tt0213338|                 38|        Cowboy Bebop|               \\N|                 \\N|              \\N|                   \\N|                         0|          tt0213338|       4|\n",
      "|         tt0213338|                 39|      Kaubôi bibappu|               NL|                 \\N|     imdbDisplay|                   \\N|                         0|          tt0213338|       4|\n",
      "|         tt0213338|                 40|        Kauboj Bebop|               HR|                 \\N|     imdbDisplay|                   \\N|                         0|          tt0213338|       4|\n",
      "|         tt0213338|                 41|        Cowboy Bebop|               NO|                 \\N|     imdbDisplay|                   \\N|                         0|          tt0213338|       4|\n",
      "|         tt0213338|                 42|        Cowboy Bebop|               PH|                 en|     imdbDisplay|                   \\N|                         0|          tt0213338|       4|\n",
      "|         tt0213338|                 43|        Cowboy Bebop|               RO|                 \\N|     imdbDisplay|                   \\N|                         0|          tt0213338|       4|\n",
      "|         tt0213338|                 44|       Бибоп каубоји|               RS|                 \\N|              \\N|      video box title|                         0|          tt0213338|       4|\n",
      "|         tt0213338|                 45|        Cowboy Bebop|               TH|                 en|     imdbDisplay|                   \\N|                         0|          tt0213338|       4|\n",
      "|         tt0213338|                 46|      Kaubôi bibappu|               IN|                 en|     imdbDisplay|                   \\N|                         0|          tt0213338|       4|\n",
      "|         tt0213338|                 47|Csillagközi fejva...|               HU|                 \\N|             dvd|                   \\N|                         0|          tt0213338|       4|\n",
      "|         tt0213338|                 48|    Kaubojus Bibopas|               LT|                 \\N|     imdbDisplay|                   \\N|                         0|          tt0213338|       4|\n",
      "|         tt0213338|                 49|        Cowboy Bebop|               SE|                 \\N|     imdbDisplay|                   \\N|                         0|          tt0213338|       4|\n",
      "|         tt0213338|                 50|        Cowboy Bebop|               AR|                 \\N|              \\N|                   \\N|                         0|          tt0213338|       4|\n",
      "|         tt0213338|                 51|        Cowboy Bebop|               JP|                 en|              \\N| literal English t...|                         0|          tt0213338|       4|\n",
      "|         tt0213338|                 52|      Kaubôi bibappu|               KR|                 \\N|     imdbDisplay|                   \\N|                         0|          tt0213338|       4|\n",
      "+------------------+-------------------+--------------------+-----------------+-------------------+----------------+---------------------+--------------------------+-------------------+--------+\n",
      "\n"
     ]
    },
    {
     "name": "stderr",
     "output_type": "stream",
     "text": [
      "                                                                                \r"
     ]
    }
   ],
   "source": [
    "v3_imdb_titles_priority.filter(F.col(\"imdb_title_titleId\") == \"tt0213338\").show(n=100)"
   ]
  },
  {
   "cell_type": "code",
   "execution_count": 34,
   "metadata": {
    "application/vnd.databricks.v1+cell": {
     "cellMetadata": {
      "byteLimit": 2048000,
      "rowLimit": 10000
     },
     "inputWidgets": {},
     "nuid": "4145becb-6033-415d-9389-d8444817dc31",
     "showTitle": false,
     "title": ""
    }
   },
   "outputs": [],
   "source": [
    "v3_join1 = anime_dataset.join(v3_imdb_titles_priority, anime_dataset[\"anime_Name\"] == v3_imdb_titles_priority[\"imdb_title_title\"], \"inner\")\n",
    "v3_antijoin1 = anime_dataset.join(v3_imdb_titles_priority, anime_dataset[\"anime_Name\"] == v3_imdb_titles_priority[\"imdb_title_title\"], \"left_anti\")\n",
    "v3_join2 = v3_antijoin1.join(v3_imdb_titles_priority, v3_antijoin1[\"anime_Other name\"] == v3_imdb_titles_priority[\"imdb_title_title\"], \"inner\")\n",
    "v3_antijoin2 = v3_antijoin1.join(v3_imdb_titles_priority, v3_antijoin1[\"anime_Other name\"] == v3_imdb_titles_priority[\"imdb_title_title\"], \"left_anti\")\n",
    "v3_join3 = v3_antijoin2.join(v3_imdb_titles_priority, v3_antijoin2[\"anime_English name\"] == v3_imdb_titles_priority[\"imdb_title_title\"], \"inner\")\n",
    "\n",
    "v3_imdb_found_in_animedataset = v3_join1.union(v3_join2).union(v3_join3)\n"
   ]
  },
  {
   "cell_type": "code",
   "execution_count": 35,
   "metadata": {
    "application/vnd.databricks.v1+cell": {
     "cellMetadata": {
      "byteLimit": 2048000,
      "rowLimit": 10000
     },
     "inputWidgets": {},
     "nuid": "cdabdeb4-9978-400e-923b-1e6937ffc5bd",
     "showTitle": false,
     "title": ""
    }
   },
   "outputs": [
    {
     "name": "stderr",
     "output_type": "stream",
     "text": [
      "[Stage 47:>                                                         (0 + 3) / 3]\r"
     ]
    },
    {
     "name": "stdout",
     "output_type": "stream",
     "text": [
      "16957\n"
     ]
    },
    {
     "name": "stderr",
     "output_type": "stream",
     "text": [
      "                                                                                \r"
     ]
    }
   ],
   "source": [
    "x = v3_imdb_found_in_animedataset.count()\n",
    "print(x)"
   ]
  },
  {
   "cell_type": "code",
   "execution_count": 36,
   "metadata": {
    "application/vnd.databricks.v1+cell": {
     "cellMetadata": {
      "byteLimit": 2048000,
      "rowLimit": 10000
     },
     "inputWidgets": {},
     "nuid": "37863518-1438-4019-b0de-4c925b3a3a7e",
     "showTitle": false,
     "title": ""
    }
   },
   "outputs": [
    {
     "name": "stderr",
     "output_type": "stream",
     "text": [
      "24/03/13 23:19:55 WARN SparkStringUtils: Truncated the string representation of a plan since it was too large. This behavior can be adjusted by setting 'spark.sql.debug.maxToStringFields'.\n",
      "[Stage 67:======================================>                   (2 + 1) / 3]\r"
     ]
    },
    {
     "name": "stdout",
     "output_type": "stream",
     "text": [
      "+--------------+--------------------+--------------------+-----------------------------+-----------+--------------------+--------------------+----------+--------------+--------------------+---------------+---------------+--------------------+--------------------+-------------+------------+--------------+--------------------+----------+----------------+---------------+---------------+-------------+--------------------+------------------+-------------------+-----------------------------+-----------------+-------------------+----------------+---------------------+--------------------------+-------------------+--------+\n",
      "|anime_anime_id|          anime_Name|  anime_English name|             anime_Other name|anime_Score|        anime_Genres|      anime_Synopsis|anime_Type|anime_Episodes|         anime_Aired|anime_Premiered|   anime_Status|     anime_Producers|     anime_Licensors|anime_Studios|anime_Source|anime_Duration|        anime_Rating|anime_Rank|anime_Popularity|anime_Favorites|anime_Scored By|anime_Members|     anime_Image URL|imdb_title_titleId|imdb_title_ordering|             imdb_title_title|imdb_title_region|imdb_title_language|imdb_title_types|imdb_title_attributes|imdb_title_isOriginalTitle|imdb_scrape_imdb_id|priority|\n",
      "+--------------+--------------------+--------------------+-----------------------------+-----------+--------------------+--------------------+----------+--------------+--------------------+---------------+---------------+--------------------+--------------------+-------------+------------+--------------+--------------------+----------+----------------+---------------+---------------+-------------+--------------------+------------------+-------------------+-----------------------------+-----------------+-------------------+----------------+---------------------+--------------------------+-------------------+--------+\n",
      "|         52034|        \"Oshi no Ko\"|        [Oshi No Ko]|                 【推しの子】|       8.98| Drama, Supernatural|In the entertainm...|      NULL|          NULL|                NULL|           NULL|           NULL|                NULL|                NULL|         NULL|        NULL|          NULL|                NULL|      NULL|            NULL|           NULL|           NULL|         NULL|                NULL|        tt21030032|                 16|                 【推しの子】|               JP|                 ja|     imdbDisplay|                   \\N|                         0|         tt21030032|       2|\n",
      "|          2928|.hack//G.U. Returner|             UNKNOWN|         .HACK//G.U. RETURNER|       6.67|Adventure, Drama,...|The characters fr...|      NULL|          NULL|                NULL|           NULL|           NULL|                NULL|                NULL|         NULL|        NULL|          NULL|                NULL|      NULL|            NULL|           NULL|           NULL|         NULL|                NULL|         tt1343075|                  1|         .hack//G.U. Returner|               JP|                 \\N|              \\N|                   \\N|                         0|          tt1343075|       4|\n",
      "|          4469|.hack//G.U. Trilo...|.hack//G.U. Trilo...|          .hack//G.U. Trilogy|       6.36|Comedy, Fantasy, ...|A special bonus P...|      NULL|          NULL|                NULL|           NULL|           NULL|                NULL|                NULL|         NULL|        NULL|          NULL|                NULL|      NULL|            NULL|           NULL|           NULL|         NULL|                NULL|         tt1164545|                  2|          .hack//G.U. Trilogy|               \\N|                 \\N|        original|                   \\N|                         1|          tt1164545|       3|\n",
      "|           454|         .hack//Gift|         .hack//Gift|                  .hack//GIFT|        6.1|     Comedy, Fantasy|As an expression ...|       OVA|           1.0|        Nov 16, 2003|        UNKNOWN|Finished Airing|       CyberConnect2|Bandai Entertainment|    Bee Train|    Original|        26 min|    R+ - Mild Nudity|    8363.0|            4517|             19|         9694.0|        20567|https://cdn.myani...|         tt0823406|                  1|                  .hack//GIFT|               US|                 \\N|     imdbDisplay|                   \\N|                         0|          tt0823406|       1|\n",
      "|            48|         .hack//Sign|         .hack//Sign|                  .hack//SIGN|       6.95|Adventure, Fantas...|A young wavemaste...|      NULL|          NULL|                NULL|           NULL|           NULL|                NULL|                NULL|         NULL|        NULL|          NULL|                NULL|      NULL|            NULL|           NULL|           NULL|         NULL|                NULL|         tt0361140|                  4|                  .hack//SIGN|               US|                 \\N|     imdbDisplay|                   \\N|                         0|          tt0361140|       1|\n",
      "|          5525|            07-Ghost|            07-Ghost|               セブンゴースト|       7.19|     Action, Fantasy|Barsburg Empire's...|      NULL|          NULL|                NULL|           NULL|           NULL|                NULL|                NULL|         NULL|        NULL|          NULL|                NULL|      NULL|            NULL|           NULL|           NULL|         NULL|                NULL|         tt1424033|                  4|                     07-Ghost|               \\N|                 \\N|        original|                   \\N|                         1|          tt1424033|       3|\n",
      "|          6060|1-gatsu ni wa Chr...|Christmas in January|             1月にはChristmas|        5.3|      Drama, Romance|Nobumasa is a boy...|      NULL|          NULL|                NULL|           NULL|           NULL|                NULL|                NULL|         NULL|        NULL|          NULL|                NULL|      NULL|            NULL|           NULL|           NULL|         NULL|                NULL|         tt1874537|                  1|         1-gatsu ni wa Chr...|               JP|                 \\N|     imdbDisplay|                   \\N|                         0|          tt1874537|       4|\n",
      "|         48976|100-man no Inochi...|             UNKNOWN|100万の命の上に俺は立っている|        6.2|      Drama, Fantasy|Recap of the firs...|   Special|           1.0|         Jul 2, 2021|        UNKNOWN|Finished Airing|             UNKNOWN|             UNKNOWN|    Maho Film|       Manga|        20 min|PG-13 - Teens 13 ...|    7864.0|           10750|              2|          631.0|         1955|https://cdn.myani...|        tt12706854|                 10|100万の命の上に俺は立っている|               JP|                 ja|     imdbDisplay|                   \\N|                         0|         tt12706854|       2|\n",
      "|         40679|2.43: Seiin Kouko...|2.43: Seiin High ...|    2.43 清陰高校男子バレー部|       6.14|       Drama, Sports|Genius setter Kim...|      NULL|          NULL|                NULL|           NULL|           NULL|                NULL|                NULL|         NULL|        NULL|          NULL|                NULL|      NULL|            NULL|           NULL|           NULL|         NULL|                NULL|        tt13286958|                  8|    2.43 清陰高校男子バレー部|               JP|                 ja|     imdbDisplay|                   \\N|                         0|         tt13286958|       2|\n",
      "|         36793|3D Kanojo: Real Girl|           Real Girl|       ３Ｄ彼女　リアルガール|       6.85|             Romance|For Hikari Tsutsu...|      NULL|          NULL|                NULL|           NULL|           NULL|                NULL|                NULL|         NULL|        NULL|          NULL|                NULL|      NULL|            NULL|           NULL|           NULL|         NULL|                NULL|         tt7112156|                  2|         3D Kanojo: Real Girl|               FR|                 \\N|     imdbDisplay|                   \\N|                         0|          tt7112156|       4|\n",
      "|          1225|3x3 Eyes: Seima D...|3x3 Eyes: Legend ...|             3×3 EYES聖魔伝説|       6.91|Action, Adventure...|Yakumo has traine...|       OVA|           3.0|Jul 25, 1995 to J...|        UNKNOWN|Finished Airing|Toei Animation, B...|Geneon Entertainm...| Studio Junio|       Manga| 48 min per ep|    R+ - Mild Nudity|    4362.0|            5186|             42|         7197.0|        14478|https://cdn.myani...|         tt0160864|                  3|             3×3 EYES聖魔伝説|               JP|                 ja|     imdbDisplay|                   \\N|                         0|          tt0160864|       2|\n",
      "|         48548|5-toubun no Hanay...|The Quintessentia...|            映画 五等分の花嫁|       7.89|     Comedy, Romance|Futaro has led fi...|      NULL|          NULL|                NULL|           NULL|           NULL|                NULL|                NULL|         NULL|        NULL|          NULL|                NULL|      NULL|            NULL|           NULL|           NULL|         NULL|                NULL|        tt15721650|                 13|            映画 五等分の花嫁|               JP|                 ja|     imdbDisplay|                   \\N|                         0|         tt15721650|       2|\n",
      "|         13971|              663114|             UNKNOWN|                       663114|        5.2|Award Winning, Fa...|663114 is a short...|      NULL|          NULL|                NULL|           NULL|           NULL|                NULL|                NULL|         NULL|        NULL|          NULL|                NULL|      NULL|            NULL|           NULL|           NULL|         NULL|                NULL|         tt1982597|                  1|                       663114|               JP|                 ja|     imdbDisplay|                   \\N|                         0|          tt1982597|       2|\n",
      "|           320|              A Kite|                Kite|             A KITE（カイト）|       6.54|Action, Drama, He...|After her parents...|      NULL|          NULL|                NULL|           NULL|           NULL|                NULL|                NULL|         NULL|        NULL|          NULL|                NULL|      NULL|            NULL|           NULL|           NULL|         NULL|                NULL|         tt0246734|                 27|                       A Kite|               GB|                 \\N|     imdbDisplay|                   \\N|                         0|          tt0246734|       4|\n",
      "|          5447|              A-Girl|              A-Girl|        A-Girl [エー・ガール]|       5.53|             Romance|High-school stude...|      NULL|          NULL|                NULL|           NULL|           NULL|                NULL|                NULL|         NULL|        NULL|          NULL|                NULL|      NULL|            NULL|           NULL|           NULL|         NULL|                NULL|        tt14067808|                  1|                       A-Girl|               \\N|                 \\N|        original|                   \\N|                         1|         tt14067808|       3|\n",
      "|          1349|    A.D. Police (TV)|A.D. Police: To P...|           アドバンスドポリス|       5.91|      Action, Sci-Fi|Set a few years b...|      NULL|          NULL|                NULL|           NULL|           NULL|                NULL|                NULL|         NULL|        NULL|          NULL|                NULL|      NULL|            NULL|           NULL|           NULL|         NULL|                NULL|         tt0189238|                  3|           アドバンスドポリス|               JP|                 ja|     imdbDisplay|                   \\N|                         0|          tt0189238|       2|\n",
      "|         40272|A3! Season Autumn...|A3! Season Autumn...|         A3! SEASON AUTUMN...|       7.29|               Drama|With the completi...|      NULL|          NULL|                NULL|           NULL|           NULL|                NULL|                NULL|         NULL|        NULL|          NULL|                NULL|      NULL|            NULL|           NULL|           NULL|         NULL|                NULL|        tt11094154|                 10|         A3! Season Autumn...|               JP|                 en|              \\N|  second season title|                         0|         tt11094154|       4|\n",
      "|         33337|ACCA: 13-ku Kansa...|ACCA: 13-Territor...|              ACCA 13区監察課|       7.66|Drama, Fantasy, M...|ACCA—a national b...|      NULL|          NULL|                NULL|           NULL|           NULL|                NULL|                NULL|         NULL|        NULL|          NULL|                NULL|      NULL|            NULL|           NULL|           NULL|         NULL|                NULL|         tt6401396|                  5|         ACCA: 13-ku Kansa...|               \\N|                 \\N|        original|                   \\N|                         1|          tt6401396|       3|\n",
      "|          1346|           AD Police|     AD Police Files|                     ADポリス|       6.24|Action, Adventure...|The year is 2027 ...|      NULL|          NULL|                NULL|           NULL|           NULL|                NULL|                NULL|         NULL|        NULL|          NULL|                NULL|      NULL|            NULL|           NULL|           NULL|         NULL|                NULL|         tt0189238|                  8|                    AD Police|               US|                 \\N|     alternative|                   \\N|                         0|          tt0189238|       1|\n",
      "|         53787|       AI no Idenshi|      The Gene of AI|                   AIの遺電子|    UNKNOWN|Drama, Sci-Fi, Su...|This science fict...|      NULL|          NULL|                NULL|           NULL|           NULL|                NULL|                NULL|         NULL|        NULL|          NULL|                NULL|      NULL|            NULL|           NULL|           NULL|         NULL|                NULL|        tt28038239|                  8|                AI no Idenshi|               \\N|                 \\N|        original|                   \\N|                         1|         tt28038239|       3|\n",
      "+--------------+--------------------+--------------------+-----------------------------+-----------+--------------------+--------------------+----------+--------------+--------------------+---------------+---------------+--------------------+--------------------+-------------+------------+--------------+--------------------+----------+----------------+---------------+---------------+-------------+--------------------+------------------+-------------------+-----------------------------+-----------------+-------------------+----------------+---------------------+--------------------------+-------------------+--------+\n",
      "only showing top 20 rows\n",
      "\n"
     ]
    },
    {
     "name": "stderr",
     "output_type": "stream",
     "text": [
      "                                                                                \r"
     ]
    }
   ],
   "source": [
    "windowSpec = Window.partitionBy(\"anime_Name\").orderBy(\"priority\")  \n",
    "v3_imdb_found_in_animedataset_ranked = v3_imdb_found_in_animedataset.withColumn(\"rank\", F.row_number().over(windowSpec))\n",
    "\n",
    "v3_imdb_found_in_animedataset_ranked_final = v3_imdb_found_in_animedataset_ranked.filter(F.col(\"rank\") == 1).drop(\"rank\")\n",
    "\n",
    "v3_imdb_found_in_animedataset_ranked_final.show()\n"
   ]
  },
  {
   "cell_type": "code",
   "execution_count": 37,
   "metadata": {
    "application/vnd.databricks.v1+cell": {
     "cellMetadata": {
      "byteLimit": 2048000,
      "rowLimit": 10000
     },
     "inputWidgets": {},
     "nuid": "1dd40646-0b03-42a4-a79f-89d7c140a1ad",
     "showTitle": false,
     "title": ""
    }
   },
   "outputs": [
    {
     "name": "stderr",
     "output_type": "stream",
     "text": [
      "[Stage 83:======================================>                   (2 + 1) / 3]\r"
     ]
    },
    {
     "name": "stdout",
     "output_type": "stream",
     "text": [
      "5256\n"
     ]
    },
    {
     "name": "stderr",
     "output_type": "stream",
     "text": [
      "                                                                                \r"
     ]
    }
   ],
   "source": [
    "x = v3_imdb_found_in_animedataset_ranked_final.count()\n",
    "print(x)"
   ]
  },
  {
   "cell_type": "code",
   "execution_count": 38,
   "metadata": {
    "application/vnd.databricks.v1+cell": {
     "cellMetadata": {
      "byteLimit": 2048000,
      "rowLimit": 10000
     },
     "inputWidgets": {},
     "nuid": "17cade14-dd8b-4713-a197-64ca03eba8a4",
     "showTitle": false,
     "title": ""
    }
   },
   "outputs": [
    {
     "name": "stderr",
     "output_type": "stream",
     "text": [
      "[Stage 106:>                                                        (0 + 3) / 3]\r"
     ]
    },
    {
     "name": "stdout",
     "output_type": "stream",
     "text": [
      "+--------------+------------+------------------+------------------+-----------+--------------------+--------------------+----------+--------------+-----------+---------------+------------+---------------+---------------+-------------+------------+--------------+------------+----------+----------------+---------------+---------------+-------------+---------------+------------------+-------------------+----------------+-----------------+-------------------+----------------+---------------------+--------------------------+-------------------+--------+\n",
      "|anime_anime_id|  anime_Name|anime_English name|  anime_Other name|anime_Score|        anime_Genres|      anime_Synopsis|anime_Type|anime_Episodes|anime_Aired|anime_Premiered|anime_Status|anime_Producers|anime_Licensors|anime_Studios|anime_Source|anime_Duration|anime_Rating|anime_Rank|anime_Popularity|anime_Favorites|anime_Scored By|anime_Members|anime_Image URL|imdb_title_titleId|imdb_title_ordering|imdb_title_title|imdb_title_region|imdb_title_language|imdb_title_types|imdb_title_attributes|imdb_title_isOriginalTitle|imdb_scrape_imdb_id|priority|\n",
      "+--------------+------------+------------------+------------------+-----------+--------------------+--------------------+----------+--------------+-----------+---------------+------------+---------------+---------------+-------------+------------+--------------+------------+----------+----------------+---------------+---------------+-------------+---------------+------------------+-------------------+----------------+-----------------+-------------------+----------------+---------------------+--------------------------+-------------------+--------+\n",
      "|             1|Cowboy Bebop|      Cowboy Bebop|カウボーイビバップ|       8.75|Action, Award Win...|Crime is timeless...|      NULL|          NULL|       NULL|           NULL|        NULL|           NULL|           NULL|         NULL|        NULL|          NULL|        NULL|      NULL|            NULL|           NULL|           NULL|         NULL|           NULL|         tt0213338|                 21|    Cowboy Bebop|               US|                 \\N|     imdbDisplay|                   \\N|                         0|          tt0213338|       1|\n",
      "+--------------+------------+------------------+------------------+-----------+--------------------+--------------------+----------+--------------+-----------+---------------+------------+---------------+---------------+-------------+------------+--------------+------------+----------+----------------+---------------+---------------+-------------+---------------+------------------+-------------------+----------------+-----------------+-------------------+----------------+---------------------+--------------------------+-------------------+--------+\n",
      "\n"
     ]
    },
    {
     "name": "stderr",
     "output_type": "stream",
     "text": [
      "                                                                                \r"
     ]
    }
   ],
   "source": [
    "v3_imdb_found_in_animedataset_ranked_final.filter(F.col(\"imdb_title_titleId\") == \"tt0213338\").show()"
   ]
  },
  {
   "cell_type": "code",
   "execution_count": 39,
   "metadata": {},
   "outputs": [
    {
     "data": {
      "text/plain": [
       "DataFrame[anime_anime_id: string, anime_Name: string, anime_English name: string, anime_Other name: string, anime_Score: string, anime_Genres: string, anime_Synopsis: string, anime_Type: string, anime_Episodes: string, anime_Aired: string, anime_Premiered: string, anime_Status: string, anime_Producers: string, anime_Licensors: string, anime_Studios: string, anime_Source: string, anime_Duration: string, anime_Rating: string, anime_Rank: string, anime_Popularity: string, anime_Favorites: string, anime_Scored By: string, anime_Members: string, anime_Image URL: string, imdb_title_titleId: string, imdb_title_ordering: int, imdb_title_title: string, imdb_title_region: string, imdb_title_language: string, imdb_title_types: string, imdb_title_attributes: string, imdb_title_isOriginalTitle: string, imdb_scrape_imdb_id: string, priority: int]"
      ]
     },
     "execution_count": 39,
     "metadata": {},
     "output_type": "execute_result"
    }
   ],
   "source": [
    "v3_imdb_titles.unpersist()\n",
    "v3_imdb_titles_priority.unpersist()\n",
    "v3_join1.unpersist()\n",
    "v3_antijoin1.unpersist()\n",
    "v3_join2.unpersist()\n",
    "v3_antijoin2.unpersist()\n",
    "v3_join3.unpersist()\n",
    "v3_imdb_found_in_animedataset.unpersist()"
   ]
  },
  {
   "cell_type": "markdown",
   "metadata": {
    "application/vnd.databricks.v1+cell": {
     "cellMetadata": {},
     "inputWidgets": {},
     "nuid": "e792674c-1d24-4e87-8703-cb45a41d06a7",
     "showTitle": false,
     "title": ""
    }
   },
   "source": [
    "# Export"
   ]
  },
  {
   "cell_type": "code",
   "execution_count": 40,
   "metadata": {},
   "outputs": [],
   "source": [
    "final_df = v3_imdb_found_in_animedataset_ranked_final\n",
    "\n",
    "def remove_newlines(df):\n",
    "    for column_name in df.columns:\n",
    "        # Check if the column type is string\n",
    "        if isinstance(df.schema[column_name].dataType, StringType):\n",
    "            df = df.withColumn(column_name, regexp_replace(col(column_name), \"\\r|\\n\", \" \"))\n",
    "    return df\n",
    "\n",
    "final_final_df = remove_newlines(final_df)\n",
    "\n",
    "# remove buggy row tt12853970\n",
    "\n",
    "final_final_df = final_final_df.filter(F.col(\"imdb_title_titleId\") != \"tt12853970\")"
   ]
  },
  {
   "cell_type": "code",
   "execution_count": 41,
   "metadata": {},
   "outputs": [
    {
     "name": "stdout",
     "output_type": "stream",
     "text": [
      "root\n",
      " |-- anime_anime_id: string (nullable = true)\n",
      " |-- anime_Name: string (nullable = true)\n",
      " |-- anime_English name: string (nullable = true)\n",
      " |-- anime_Other name: string (nullable = true)\n",
      " |-- anime_Score: string (nullable = true)\n",
      " |-- anime_Genres: string (nullable = true)\n",
      " |-- anime_Synopsis: string (nullable = true)\n",
      " |-- anime_Type: string (nullable = true)\n",
      " |-- anime_Episodes: string (nullable = true)\n",
      " |-- anime_Aired: string (nullable = true)\n",
      " |-- anime_Premiered: string (nullable = true)\n",
      " |-- anime_Status: string (nullable = true)\n",
      " |-- anime_Producers: string (nullable = true)\n",
      " |-- anime_Licensors: string (nullable = true)\n",
      " |-- anime_Studios: string (nullable = true)\n",
      " |-- anime_Source: string (nullable = true)\n",
      " |-- anime_Duration: string (nullable = true)\n",
      " |-- anime_Rating: string (nullable = true)\n",
      " |-- anime_Rank: string (nullable = true)\n",
      " |-- anime_Popularity: string (nullable = true)\n",
      " |-- anime_Favorites: string (nullable = true)\n",
      " |-- anime_Scored By: string (nullable = true)\n",
      " |-- anime_Members: string (nullable = true)\n",
      " |-- anime_Image URL: string (nullable = true)\n",
      " |-- imdb_title_titleId: string (nullable = true)\n",
      " |-- imdb_title_ordering: integer (nullable = true)\n",
      " |-- imdb_title_title: string (nullable = true)\n",
      " |-- imdb_title_region: string (nullable = true)\n",
      " |-- imdb_title_language: string (nullable = true)\n",
      " |-- imdb_title_types: string (nullable = true)\n",
      " |-- imdb_title_attributes: string (nullable = true)\n",
      " |-- imdb_title_isOriginalTitle: string (nullable = true)\n",
      " |-- imdb_scrape_imdb_id: string (nullable = true)\n",
      " |-- priority: integer (nullable = false)\n",
      "\n"
     ]
    }
   ],
   "source": [
    "final_final_df.printSchema()"
   ]
  },
  {
   "cell_type": "code",
   "execution_count": 42,
   "metadata": {},
   "outputs": [],
   "source": [
    "imdb_columns = sorted([col for col in final_final_df.columns if col.startswith('imdb_')])\n",
    "anime_columns = sorted([col for col in final_final_df.columns if col.startswith('anime_')])\n",
    "\n",
    "selected_columns = imdb_columns + anime_columns\n",
    "\n",
    "final_final_final_df = final_final_df.select(*selected_columns)"
   ]
  },
  {
   "cell_type": "code",
   "execution_count": 43,
   "metadata": {
    "application/vnd.databricks.v1+cell": {
     "cellMetadata": {
      "byteLimit": 2048000,
      "rowLimit": 10000
     },
     "inputWidgets": {},
     "nuid": "c0e680b0-d4f6-4af2-b467-836778f17149",
     "showTitle": false,
     "title": ""
    }
   },
   "outputs": [
    {
     "name": "stderr",
     "output_type": "stream",
     "text": [
      "                                                                                \r"
     ]
    }
   ],
   "source": [
    "(final_final_final_df\\\n",
    "  .coalesce(1)\n",
    "  .write\\\n",
    "  .mode('overwrite')\\\n",
    "  .option(\"header\", \"true\")\\\n",
    "  .option(\"quoteAll\", \"true\")\\\n",
    "  .option(\"delimiter\", \"|\")\\\n",
    "  .option(\"nullValue\", \"null\")\\\n",
    "  .csv(\"data/export/imdb_imdbscrape_kaggle_master.csv\"))"
   ]
  },
  {
   "cell_type": "code",
   "execution_count": 44,
   "metadata": {},
   "outputs": [],
   "source": [
    "spark.stop()"
   ]
  }
 ],
 "metadata": {
  "application/vnd.databricks.v1+notebook": {
   "dashboards": [],
   "language": "python",
   "notebookMetadata": {
    "mostRecentlyExecutedCommandWithImplicitDF": {
     "commandId": 906457230886152,
     "dataframes": [
      "_sqldf"
     ]
    },
    "pythonIndentUnit": 4
   },
   "notebookName": "imdb_data -2024-03-10",
   "widgets": {}
  },
  "kernelspec": {
   "display_name": "Python 3",
   "language": "python",
   "name": "python3"
  },
  "language_info": {
   "codemirror_mode": {
    "name": "ipython",
    "version": 3
   },
   "file_extension": ".py",
   "mimetype": "text/x-python",
   "name": "python",
   "nbconvert_exporter": "python",
   "pygments_lexer": "ipython3",
   "version": "3.11.8"
  }
 },
 "nbformat": 4,
 "nbformat_minor": 0
}
