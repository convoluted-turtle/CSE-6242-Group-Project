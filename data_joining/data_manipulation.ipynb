{
 "cells": [
  {
   "cell_type": "code",
   "execution_count": 7,
   "metadata": {},
   "outputs": [],
   "source": [
    "import sys \n",
    "sys.path.append('/Users/justinvhuang/Desktop/CSE-6242-Group-Project')"
   ]
  },
  {
   "cell_type": "code",
   "execution_count": 47,
   "metadata": {},
   "outputs": [],
   "source": [
    "import pandas as pd\n",
    "from langchain.embeddings import HuggingFaceEmbeddings\n",
    "from langchain_community.vectorstores import FAISS\n",
    "import pickle "
   ]
  },
  {
   "cell_type": "code",
   "execution_count": 38,
   "metadata": {},
   "outputs": [],
   "source": [
    "def create_retriever(faiss_db: str):\n",
    "    \"\"\"\n",
    "    Creates a retriever using a FAISS index.\n",
    "\n",
    "    Args:\n",
    "        faiss_db (str): Path to the FAISS index file.\n",
    "\n",
    "    Returns:\n",
    "        retriever: A retriever object configured with FAISS index.\n",
    "    \"\"\"\n",
    "    encode_kwargs = {\"normalize_embeddings\": True}\n",
    "    \n",
    "    # Initialize Hugging Face embeddings\n",
    "    embedding_function = HuggingFaceEmbeddings(\n",
    "        model_name='sentence-transformers/all-MiniLM-L6-v2',\n",
    "        model_kwargs={\"device\": \"cpu\"},\n",
    "        encode_kwargs=encode_kwargs,\n",
    "    )\n",
    "\n",
    "    # Load FAISS index\n",
    "    db_faiss = FAISS.load_local(faiss_db, embeddings=embedding_function)\n",
    "\n",
    "    def filter_tokens(metadata: dict) -> bool:\n",
    "        \"\"\"\n",
    "        Filter function to apply on retrieved documents based on metadata.\n",
    "\n",
    "        Args:\n",
    "            metadata (dict): Metadata of the document.\n",
    "            query_token (list): List of tokens to filter.\n",
    "\n",
    "        Returns:\n",
    "            bool: True if the document passes the filter, False otherwise.\n",
    "        \"\"\"\n",
    "        metadata_tokens = metadata.get(\"tokens\", [])\n",
    "        metadata_studio = metadata.get(\"studio\", [])\n",
    "        metadata_producer = metadata.get(\"producer\", [])\n",
    "        metadata_licensors = metadata.get(\"licensors\", [])\n",
    "        metadata_genre = metadata.get(\"genre\", [])\n",
    "\n",
    "        return (\n",
    "            any(token in metadata_tokens for token in query_token)\n",
    "            or metadata.get(\"score\", 0.0) > 5.0\n",
    "            or any(token in metadata_studio for token in query_token)\n",
    "            or any(token in metadata_producer for token in query_token)\n",
    "            or any(token in metadata_licensors for token in query_token)\n",
    "            or any(token in metadata_genre for token in query_token)\n",
    "        )\n",
    "\n",
    "    # Create retriever object\n",
    "    retriever = db_faiss.as_retriever(search_kwargs={\"k\": 50, \"filter\": filter_tokens})\n",
    "    return retriever"
   ]
  },
  {
   "cell_type": "code",
   "execution_count": 39,
   "metadata": {},
   "outputs": [],
   "source": [
    "retriever = create_retriever(\"/Users/justinvhuang/Desktop/CSE-6242-Group-Project/app/faiss_anime_index_v3\")"
   ]
  },
  {
   "cell_type": "code",
   "execution_count": 40,
   "metadata": {},
   "outputs": [],
   "source": [
    "query = 'what are some good anime that is hand drawn'\n",
    "query_token = textprepo.preprocess_text(query)"
   ]
  },
  {
   "cell_type": "code",
   "execution_count": 41,
   "metadata": {},
   "outputs": [],
   "source": [
    "results = retriever.get_relevant_documents(query)\n",
    "indexes = {x.metadata['anime_id']: index for index, x in enumerate(results)}"
   ]
  },
  {
   "cell_type": "code",
   "execution_count": 111,
   "metadata": {},
   "outputs": [],
   "source": [
    "def load_data(json_file_path, cf_pickle_path, pop_pickle_path):\n",
    "    # Load data from JSON file\n",
    "    df = pd.read_json(json_file_path)\n",
    "    \n",
    "    # Load collaborative filtering recommendations from pickle file\n",
    "    with open(cf_pickle_path, 'rb') as f:\n",
    "        cf_recs = pickle.load(f)\n",
    "\n",
    "    # Load popular recommendations from pickle file\n",
    "    with open(pop_pickle_path, 'rb') as f:\n",
    "        pop_recs = pickle.load(f)\n",
    "    \n",
    "    return df, cf_recs, pop_recs"
   ]
  },
  {
   "cell_type": "code",
   "execution_count": 112,
   "metadata": {},
   "outputs": [],
   "source": [
    "json_file_path = \"/Users/justinvhuang/Desktop/CSE-6242-Group-Project/app/fin_anime_dfv2.json\"\n",
    "cf_pickle_path = \"/Users/justinvhuang/Desktop/CSE-6242-Group-Project/app/anime_recommendations_item_knn_CF_10k_num_fin.pkl\"\n",
    "pop_pickle_path = \"/Users/justinvhuang/Desktop/CSE-6242-Group-Project/app/popular_dict_10.pkl\"\n",
    "\n",
    "df, cf_recs, pop_recs = load_data(json_file_path, cf_pickle_path, pop_pickle_path)"
   ]
  },
  {
   "cell_type": "code",
   "execution_count": 122,
   "metadata": {},
   "outputs": [],
   "source": [
    "def process_recommendations(pop_recs, df, indexes):\n",
    "    # Mapping function\n",
    "    def map_anime_ids(anime_id):\n",
    "        return cf_recs.get(anime_id, [])\n",
    "    # Applying mapping function to create new column\n",
    "    df['anime_values'] = df['anime_id'].apply(map_anime_ids)\n",
    "    popular_list = [x['anime_id'] for x in pop_recs]\n",
    "    popular_anime_descriptions = df[df['anime_id'].isin(popular_list)]['text'].head(5).tolist()\n",
    "    \n",
    "    cf_list = list(df[df['anime_id'].isin(list(indexes.keys()))]['anime_values'])\n",
    "    joined_list = [item for sublist in cf_list if sublist is not None for item in sublist if item is not None] if cf_list else []\n",
    "    \n",
    "    vd_recs = list(set(list(indexes.keys())))\n",
    "    \n",
    "    return popular_anime_descriptions, joined_list, vd_recs"
   ]
  },
  {
   "cell_type": "code",
   "execution_count": 123,
   "metadata": {},
   "outputs": [],
   "source": [
    "popular_anime_descriptions, joined_list, vd_recs = process_recommendations(pop_recs, df, indexes)"
   ]
  },
  {
   "cell_type": "code",
   "execution_count": 118,
   "metadata": {},
   "outputs": [],
   "source": [
    "def get_top3_posters_and_names(df, indexes):\n",
    "    top3_anime_ids = list(indexes.keys())[:3]\n",
    "    top3_posters = df[df['anime_id'].isin(top3_anime_ids)]['image_y'].tolist()\n",
    "    top3_names = df[df['anime_id'].isin(top3_anime_ids)]['Name'].tolist()\n",
    "    return top3_posters, top3_names"
   ]
  },
  {
   "cell_type": "code",
   "execution_count": 119,
   "metadata": {},
   "outputs": [],
   "source": [
    "top3_posters, top3_names = get_top3_posters_and_names(df, indexes)"
   ]
  },
  {
   "cell_type": "code",
   "execution_count": 120,
   "metadata": {},
   "outputs": [],
   "source": [
    "def get_recommendations_descriptions(df, joined_list, pop_recs, vd_recs):\n",
    "    recs = df[df['anime_id'].isin(joined_list + pop_recs + vd_recs)]\n",
    "    recs2 = df[df['anime_id'].isin(joined_list +  vd_recs)]\n",
    "    descriptions = recs['anime_Synopsis'].tolist()\n",
    "    return recs, recs2, descriptions"
   ]
  },
  {
   "cell_type": "code",
   "execution_count": 121,
   "metadata": {},
   "outputs": [],
   "source": [
    "recs, recs2, descriptions = get_recommendations_descriptions(df, joined_list, pop_recs, vd_recs)\n"
   ]
  },
  {
   "cell_type": "code",
   "execution_count": null,
   "metadata": {},
   "outputs": [],
   "source": []
  }
 ],
 "metadata": {
  "kernelspec": {
   "display_name": "langchain",
   "language": "python",
   "name": "python3"
  },
  "language_info": {
   "codemirror_mode": {
    "name": "ipython",
    "version": 3
   },
   "file_extension": ".py",
   "mimetype": "text/x-python",
   "name": "python",
   "nbconvert_exporter": "python",
   "pygments_lexer": "ipython3",
   "version": "3.10.13"
  }
 },
 "nbformat": 4,
 "nbformat_minor": 2
}
