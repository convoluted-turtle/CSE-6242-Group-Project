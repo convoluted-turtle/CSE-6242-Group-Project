{
 "cells": [
  {
   "cell_type": "code",
   "execution_count": 1,
   "metadata": {},
   "outputs": [],
   "source": [
    "import sys \n",
    "sys.path.append('/Users/justinvhuang/Desktop/CSE-6242-Group-Project')"
   ]
  },
  {
   "cell_type": "code",
   "execution_count": 2,
   "metadata": {},
   "outputs": [],
   "source": [
    "from langchain.embeddings import HuggingFaceEmbeddings\n",
    "from langchain_community.vectorstores import FAISS\n",
    "from app.utils.textpreprocessing import TextPreprocessor\n",
    "from langchain_core.output_parsers import StrOutputParser\n",
    "from langchain_core.runnables import RunnablePassthrough\n",
    "from langchain_google_genai import ChatGoogleGenerativeAI\n",
    "from langchain_core.prompts import PromptTemplate"
   ]
  },
  {
   "cell_type": "code",
   "execution_count": 3,
   "metadata": {},
   "outputs": [],
   "source": [
    "textprepo = TextPreprocessor()"
   ]
  },
  {
   "cell_type": "code",
   "execution_count": 4,
   "metadata": {},
   "outputs": [],
   "source": [
    "encode_kwargs = {\"normalize_embeddings\": True}\n",
    "embedding_function = HuggingFaceEmbeddings(\n",
    "    model_name='sentence-transformers/all-MiniLM-L6-v2',\n",
    "    model_kwargs={\"device\": \"cpu\"},\n",
    "    encode_kwargs=encode_kwargs,\n",
    ")"
   ]
  },
  {
   "cell_type": "code",
   "execution_count": 6,
   "metadata": {},
   "outputs": [],
   "source": [
    "db_faiss = FAISS.load_local(\"/Users/justinvhuang/Desktop/CSE-6242-Group-Project/vector_database_creation/faiss_anime_index_v3\", embeddings = embedding_function)"
   ]
  },
  {
   "cell_type": "code",
   "execution_count": 7,
   "metadata": {},
   "outputs": [],
   "source": [
    "import yaml\n",
    "\n",
    "# Load API key from config.yaml\n",
    "with open(\"/Users/justinvhuang/Desktop/CSE-6242-Group-Project/app/config.yaml\", \"r\") as file:\n",
    "    config = yaml.safe_load(file)\n",
    "\n",
    "api_key = config[\"api_key\"]"
   ]
  },
  {
   "cell_type": "code",
   "execution_count": 8,
   "metadata": {},
   "outputs": [],
   "source": [
    "import google.generativeai as genai\n",
    "userdata = {\"GOOGLE_API_KEY\": api_key}\n",
    "GOOGLE_API_KEY=userdata.get('GOOGLE_API_KEY')\n",
    "genai.configure(api_key=GOOGLE_API_KEY)"
   ]
  },
  {
   "cell_type": "code",
   "execution_count": 9,
   "metadata": {},
   "outputs": [],
   "source": [
    "\n",
    "def filter_tokens(metadata):\n",
    "        metadata_tokens = metadata.get(\"tokens\", [])\n",
    "        metadata_studio = metadata.get(\"studio\", [])\n",
    "        metadata_producer = metadata.get(\"producer\", [])\n",
    "        metadata_licensors = metadata.get(\"licensors\", [])\n",
    "        #metadata_cf_recs = metadata.get(\"cf_recs\", [])\n",
    "        #metadata_pop_recs = metadata.get(\"pop_recs\", [])\n",
    "        metadata_genre = metadata.get(\"genre\", [])\n",
    "        return any(token in metadata_tokens for token in query_token) or metadata[\"score\"] > 5.0 or any(token in metadata_studio for token in query_token) or any(token in metadata_producer for token in query_token) or any(token in metadata_licensors for token in query_token) or any(token in metadata_genre for token in query_token) \n"
   ]
  },
  {
   "cell_type": "code",
   "execution_count": 42,
   "metadata": {},
   "outputs": [],
   "source": [
    "retriever = db_faiss.as_retriever(search_kwargs={\"k\": 3, \"filter\": filter_tokens})\n",
    "#retriever = db_faiss.as_retriever()"
   ]
  },
  {
   "cell_type": "code",
   "execution_count": 43,
   "metadata": {},
   "outputs": [],
   "source": [
    "llm = ChatGoogleGenerativeAI(model=\"gemini-pro\", temperature=0,google_api_key = GOOGLE_API_KEY)"
   ]
  },
  {
   "cell_type": "code",
   "execution_count": 44,
   "metadata": {},
   "outputs": [],
   "source": [
    "\n",
    "def format_docs(docs):\n",
    "    return \"\\n\\n\".join(doc.page_content for doc in docs)\n",
    "\n",
    "template = \"\"\"\n",
    "```Instructions\n",
    "You are an anime afficinado who went deep weeb under your mothers basement who knows all about anime and japanese culture. \n",
    "Use the following pieces of context to summarize different animes at the end.\n",
    "Use only the context to answer the question and provide a list of anime related to the answer.  \n",
    "Recommend up to 3 anime and provide a one sentence description for each anime.\n",
    "Always say \"Thanks for using the anime recommender from Casual Correlations!\" at the end of the answer.\n",
    "```\n",
    "\n",
    "Below is an example\n",
    "```\n",
    "Question: can you recommend me 5 animes from the 90\n",
    "\n",
    "Summary: \n",
    "\n",
    "1. Neon Genesis Evangelion: A group of teenagers pilot giant robots to protect humanity from mysterious creatures known as Angels, in a series renowned for its complex characters and psychological themes.\n",
    "\n",
    "2. Cowboy Bebop: This space-western series follows the adventures of a group of bounty hunters aboard the spaceship Bebop, with a jazzy soundtrack and stylish animation.\n",
    "\n",
    "3. Dragon Ball Z: Goku and his friends defend Earth from powerful foes in this action-packed series that became a major phenomenon.\n",
    "\n",
    "\n",
    "Thanks for using the anime recommender from Casual Correlations!\n",
    "\n",
    "Question: what are some animes from studio ghibli\n",
    "\n",
    "1. My Neighbor Totoro (1988): Directed by Hayao Miyazaki, this heartwarming tale follows two young sisters who encounter friendly forest spirits in rural Japan.\n",
    "\n",
    "2. Spirited Away (2001): Also directed by Hayao Miyazaki, Spirited Away tells the story of a young girl named Chihiro who becomes trapped in a mysterious and magical world, where she must work in a bathhouse for spirits to rescue her parents.\n",
    "\n",
    "3. Princess Mononoke (1997): Directed by Hayao Miyazaki, this epic fantasy film explores the conflict between industrialization and nature, as a young prince becomes entangled in a struggle between forest gods and human settlers.\n",
    "\n",
    "\n",
    "Thanks for using the anime recommender from Casual Correlations!\n",
    "\n",
    "Question: what are some animes similar to one piece\n",
    "\n",
    "1. Fairy Tail: This series follows the adventures of Natsu Dragneel and his friends in the Fairy Tail guild as they take on various quests and battles in the magical land of Fiore. Like One Piece, it features a diverse cast of characters, epic battles, and a strong sense of camaraderie.\n",
    "\n",
    "2. Naruto: Naruto follows the journey of Naruto Uzumaki, a young ninja with dreams of becoming the strongest ninja and leader of his village, the Hokage. It features a similar blend of action, humor, and heartfelt moments, as well as a focus on friendship and determination.\n",
    "\n",
    "3. Hunter x Hunter: This series follows Gon Freecss, a young boy who aspires to become a Hunter like his father, as he embarks on various adventures and challenges in search of his father and his own identity. It shares themes of friendship, adventure, and personal growth with One Piece.\n",
    "\n",
    "\n",
    "Thanks for using the anime recommender from Casual Correlations!\n",
    "\n",
    "Question: I like the character like monkey d luffy what anime can you recommend other than one piece\n",
    "\n",
    "1. Naruto: Naruto Uzumaki, the main character of this series, shares some similarities with Luffy. He's determined to become the strongest ninja and leader of his village, and he possesses a similar sense of optimism and loyalty to his friends.\n",
    "\n",
    "2. Fairy Tail: Natsu Dragneel, the protagonist of Fairy Tail, is known for his adventurous spirit, boundless energy, and strong sense of loyalty to his friends, much like Luffy. The series is filled with exciting adventures and epic battles.\n",
    "\n",
    "3. Hunter x Hunter: Gon Freecss, the main character of Hunter x Hunter, shares Luffy's sense of adventure and determination. Like Luffy, Gon is on a quest to achieve his goals and is willing to face any challenge that comes his way.\n",
    "\n",
    "Thanks for using the anime recommender from Casual Correlations!\n",
    "```\n",
    "\n",
    "{context}\n",
    "\n",
    "Question: {question}\n",
    "\n",
    "Summary:\"\"\"\n",
    "custom_rag_prompt = PromptTemplate.from_template(template)"
   ]
  },
  {
   "cell_type": "code",
   "execution_count": 45,
   "metadata": {},
   "outputs": [],
   "source": [
    "rag_chain = (\n",
    "    {\"context\": retriever | format_docs, \"question\": RunnablePassthrough()}\n",
    "    | custom_rag_prompt\n",
    "    | llm\n",
    "    | StrOutputParser()\n",
    ")"
   ]
  },
  {
   "cell_type": "code",
   "execution_count": 46,
   "metadata": {},
   "outputs": [],
   "source": [
    "#BlockedPromptException\n",
    "#recommend popular recommendations "
   ]
  },
  {
   "cell_type": "code",
   "execution_count": 47,
   "metadata": {},
   "outputs": [],
   "source": [
    "def get_anime_recommendations(query):\n",
    "    \n",
    "    # Invoke the RAG chain\n",
    "    streamlit_results = rag_chain.invoke(query)\n",
    "    doc_results = retriever.get_relevant_documents(query)\n",
    "    \n",
    "    return streamlit_results, doc_results\n"
   ]
  },
  {
   "cell_type": "code",
   "execution_count": 48,
   "metadata": {},
   "outputs": [
    {
     "name": "stdout",
     "output_type": "stream",
     "text": [
      "1. Bodacious Space Pirates: A high school girl becomes the captain of her late father's space pirate ship and embarks on adventures with her crew.\n",
      "\n",
      "2. Space Pirate Captain Harlock: An outcast space pirate leads a crew of rebels against Earth's oppressors and a race of alien women.\n",
      "\n",
      "3. One Piece: A young man sets out on a journey to become the Pirate King and find the greatest treasure in the world.\n",
      "\n",
      "\n",
      "Thanks for using the anime recommender from Casual Correlations!\n"
     ]
    }
   ],
   "source": [
    "# Example usage\n",
    "query = 'what are good pirate anime'\n",
    "query_token = textprepo.preprocess_text(query)\n",
    "recommendations, doc_results = get_anime_recommendations(query)\n",
    "print(recommendations)  "
   ]
  },
  {
   "cell_type": "code",
   "execution_count": 49,
   "metadata": {},
   "outputs": [
    {
     "data": {
      "text/plain": [
       "[(8917, 'Mouretsu Pirates'),\n",
       " (17269, 'Captain Herlock'),\n",
       " (1000, 'Uchuu Kaizoku Captain Herlock')]"
      ]
     },
     "execution_count": 49,
     "metadata": {},
     "output_type": "execute_result"
    }
   ],
   "source": [
    "[(doc.metadata['anime_id'], doc.metadata['name']) for doc in doc_results]"
   ]
  },
  {
   "cell_type": "code",
   "execution_count": 50,
   "metadata": {},
   "outputs": [
    {
     "data": {
      "text/plain": [
       "[Document(page_content='miniskirt space pirates (ミニスカ宇宙海賊(パイレーツ), minisuka pairētsu) is a japanese light novel series about space pirates written by yūichi sasamoto and illustrated by noriyuki matsumoto, published since october 2008. an anime television series adaptation produced by satelight, under the title bodacious space pirates (モーレツ宇宙海賊(パイレーツ), mōretsu pairētsu, \"fierce pirates\"), aired in japan from january to june 2012. a film adaptation was released in japanese theaters in february 2014. a web manga adaptation launched in june 2012. seven seas entertainment licensed the manga series for a printed release in north america in august 2015.the anime version won the 2013 seiun award for best dramatic presentation.\\n\\n\\n\\nin the far future where space travel and colonization have become the norm, humanity has expanded its living space to the far reaches of the known galaxy. one hundred years before the beginning of the series, several colonies, eager to gain their independence, rebelled against their masters in the stellar alliance colony federation. the government of one of the newly colonized planets, sea of the morningstar (うみのあけほし) in the tau ceti system, recruited space pirates to bolster its fighting forces, legalizing their actions by issuing them letters of marque.\\nin the midst of this conflict, a galactic empire arose and absorbed both the stellar alliance and the border worlds, but allowed the colonies to run on an independent government. despite peace having been achieved, the space pirates remain respected figures in imperial society, even though their activities are now reduced to more legal jobs (like errand running and staging raids for the entertainment of space travellers) in which their knowledge of the system\\'s wild space proves particularly useful. at the time the series begins, their cessation of illegal activities is gradually causing them to pass into local legend.\\nmarika kato is a high school girl living a rather ordinary life as a member of the space yacht club and a part-time job at the high-class retro lamp café. one day, marika learns of her recently deceased father, gonzaemon, who is revealed to have been a space pirate. in order for her father\\'s ship, the bentenmaru (弁天丸), to continue legal operation, marika, gonzaemon\\'s direct descendant, is chosen to become the ship\\'s new captain, thus beginning her life as a space pirate.\\n\\n\\n', metadata={'anime_id': 8917, 'cast': 'Shizuka Itou, Kris Carr, Allison L. Sumrall, Luci Christian, Chris Patton, Masaya Matsukaze, Mikako Komatsu, Mike Yager, Rikiya Koyama, Cynthia Martinez', 'episodes': 26, 'genre': 'Award Winning, Sci-Fi', 'source': 'Light novel', 'Duration': '24 min per ep', 'name': 'Mouretsu Pirates', 'tokens': \"['miniskirt', 'space', 'pirate', 'minisukaYu', 'Zhou', 'Hai', 'Zei', 'paire', 'tsu', 'minisuka', 'pairetsu', 'japanese', 'light', 'novel', 'series', 'space', 'pirate', 'write', 'yuichi', 'sasamoto', 'illustrate', 'noriyuki', 'matsumoto', 'publish', 'october', '2008', 'anime', 'television', 'series', 'adaptation', 'produce', 'satelight', 'title', 'bodacious', 'space', 'pirate', 'mo', 'retsuyu', 'Zhou', 'Hai', 'Zei', 'paire', 'tsu', 'moretsu', 'pairetsu', 'fierce', 'pirate', 'air', 'japan', 'january', 'june', '2012', 'film', 'adaptation', 'release', 'japanese', 'theater', 'february', '2014', 'web', 'manga', 'adaptation', 'launch', 'june', '2012', 'seven', 'sea', 'entertainment', 'license', 'manga', 'series', 'print', 'release', 'north', 'america', 'august', '2015.the', 'anime', 'version', 'win', '2013', 'seiun', 'award', 'good', 'dramatic', 'presentation', '\\\\n\\\\n\\\\n\\\\n', 'far', 'future', 'space', 'travel', 'colonization', 'norm', 'humanity', 'expand', 'live', 'space', 'far', 'reach', 'know', 'galaxy', 'year', 'beginning', 'series', 'colony', 'eager', 'gain', 'independence', 'rebel', 'master', 'stellar', 'alliance', 'colony', 'federation', 'government', 'newly', 'colonize', 'planet', 'sea', 'morningstar', 'uminoakehoshi', 'tau', 'ceti', 'system', 'recruit', 'space', 'pirate', 'bolster', 'fighting', 'force', 'legalize', 'action', 'issue', 'letter', 'marque', '\\\\n', 'midst', 'conflict', 'galactic', 'empire', 'arise', 'absorb', 'stellar', 'alliance', 'border', 'world', 'allow', 'colony', 'run', 'independent', 'government', 'despite', 'peace', 'having', 'achieve', 'space', 'pirate', 'remain', 'respected', 'figure', 'imperial', 'society', 'activity', 'reduce', 'legal', 'job', 'like', 'errand', 'run', 'stage', 'raid', 'entertainment', 'space', 'traveller', 'knowledge', 'system', 'wild', 'space', 'prove', 'particularly', 'useful', 'time', 'series', 'begin', 'cessation', 'illegal', 'activity', 'gradually', 'cause', 'pass', 'local', 'legend', '\\\\n', 'marika', 'kato', 'high', 'school', 'girl', 'live', 'ordinary', 'life', 'member', 'space', 'yacht', 'club', 'time', 'job', 'high', 'class', 'retro', 'lamp', 'cafe', 'day', 'marika', 'learn', 'recently', 'deceased', 'father', 'gonzaemon', 'reveal', 'space', 'pirate', 'order', 'father', 'ship', 'bentenmaru', 'bian', 'Tian', 'Wan', 'continue', 'legal', 'operation', 'marika', 'gonzaemon', 'direct', 'descendant', 'choose', 'ship', 'new', 'captain', 'begin', 'life', 'space', 'pirate', '\\\\n\\\\n\\\\n ', 'award', 'win', 'sci', 'fi', 'light', 'novel', 'anime', 'animation', 'high', 'school', 'princess', 'space', 'pirate', 'female', 'pirate', 'starchild', 'record', 'magic', 'capsule', 'shizuka', 'itou', 'kris', 'carr', 'allison', 'l.', 'sumrall', 'luci', 'christian', 'chris', 'patton', 'masaya', 'matsukaze', 'mikako', 'komatsu', 'mike', 'yager', 'rikiya', 'koyama', 'cynthia', 'martinez', 'far', 'future', 'interstellar', 'travel', 'consider', 'commonplace', 'high', 'school', 'student', 'marika', 'katou', 'balance', 'duty', 'space', 'yacht', 'club', 'job', 'restaurant', 'waitress', 'follow', 'chance', 'encounter', 'peculiar', 'pair', 'customer', 'marika', 'meet', 'learn', 'absent', 'father', 'pass', 'away', 'satelight', 'mouretsu', 'pirate']\", 'score': 7.15, 'producer': 'Starchild Records, Magic Capsule', 'studio': 'Satelight', 'licensors': 'Sentai Filmworks', 'cf_recs': 'Rinne no Lagrange, Senki Zesshou Symphogear, Rinne no Lagrange Season 2, Medaka Box, Kyoukaisenjou no Horizon, Vividred Operation, Girls & Panzer, Jinrui wa Suitai Shimashita, Kill Me Baby, Mouretsu Pirates: Abyss of Hyperspace', 'pop_recs': 'Cowboy Bebop, Escaflowne, GetBackers, Hachimitsu to Clover, Hajime no Ippo, Hikaru no Go, Cowboy Bebop: Tengoku no Tobira, Gantz, Hoshi no Koe, Hunter x Hunter', 'rating': 'UNKNOWN', 'air_date': 'Jan 8, 2012 to Jul 1, 2012'}),\n",
       " Document(page_content=\"space pirate captain harlock (japanese: 宇宙海賊キャプテンハーロック, hepburn: uchū kaizoku kyaputen hārokku, also romanized as space pirate captain herlock) is a japanese manga series written and illustrated by leiji matsumoto. it was serialized in akita shoten's play comic from january 1977 to june 1979, with the chapters collected into five tankōbon volumes. the series follows the titular captain, an outcast who has turned into a space pirate to rebel against earth's government and humanity's general apathy.\\nspace pirate captain harlock was adapted into an anime television series in 1978 directed by rintaro and produced by toei animation. an animated film adaptation of the same name was released in 2013.in august 2014, to celebrate the 60th anniversary of matsumoto's debut, he launched a retelling manga, captain harlock: dimensional voyage, illustrated by kōichi shimahoshi, which features some significant plot differences.\\nseven seas entertainment has licensed the manga in north america. a sequel comic book written and drawn by jérôme alquié, in collaboration with matsumoto, and published by ablaze comics began publication in 2021.\\n\\n\\n== synopsis ==\\nin the year 2977 ad, humanity has achieved a vast starfaring civilization, but is succumbing to ennui, often due to defeat and subjugation by a foreign invader. rising against the general apathy, harlock denies defeat and leads an outlaw crew aboard his starship arcadia to undertake daring raids against earth's oppressors. their primary oppressors are the mazone, a race of organic plant-based alien women who explored earth in the mythic past and are now back to reclaim it.\\n\\n\\n\", metadata={'anime_id': 17269, 'cast': 'Yoshi Ikezawa, Shinji Aramaki, Joseph Chou, Harutoshi Fukui, Leiji Matsumoto, Kiyoto Takeuchi, Ayano Fukuda, Arata Furuta, Jessica Boone, Yû Aoi', 'episodes': 1, 'genre': 'Action, Drama, Sci-Fi', 'source': 'Manga', 'Duration': '1 hr 55 min', 'name': 'Captain Herlock', 'tokens': \"['space', 'pirate', 'captain', 'harlock', 'japanese', 'Yu', 'Zhou', 'Hai', 'Zei', 'kiyaputenha', 'rotsuku', 'hepburn', 'uchu', 'kaizoku', 'kyaputen', 'harokku', 'romanize', 'space', 'pirate', 'captain', 'herlock', 'japanese', 'manga', 'series', 'write', 'illustrate', 'leiji', 'matsumoto', 'serialize', 'akita', 'shoten', 'play', 'comic', 'january', '1977', 'june', '1979', 'chapter', 'collect', 'tankobon', 'volume', 'series', 'follow', 'titular', 'captain', 'outcast', 'turn', 'space', 'pirate', 'rebel', 'earth', 'government', 'humanity', 'general', 'apathy', '\\\\n', 'space', 'pirate', 'captain', 'harlock', 'adapt', 'anime', 'television', 'series', '1978', 'direct', 'rintaro', 'produce', 'toei', 'animation', 'animate', 'film', 'adaptation', 'release', '2013.in', 'august', '2014', 'celebrate', '60th', 'anniversary', 'matsumoto', 'debut', 'launch', 'retelling', 'manga', 'captain', 'harlock', 'dimensional', 'voyage', 'illustrate', 'koichi', 'shimahoshi', 'feature', 'significant', 'plot', 'difference', '\\\\n', 'seven', 'sea', 'entertainment', 'license', 'manga', 'north', 'america', 'sequel', 'comic', 'book', 'write', 'draw', 'jerome', 'alquie', 'collaboration', 'matsumoto', 'publish', 'ablaze', 'comic_strip', 'begin', 'publication', '2021', '\\\\n\\\\n\\\\n', '=', '=', 'synopsis', '=', '=', '\\\\n', 'year', '2977', 'ad', 'humanity', 'achieve', 'vast', 'starfaring', 'civilization', 'succumb', 'ennui', 'defeat', 'subjugation', 'foreign', 'invader', 'rise', 'general', 'apathy', 'harlock', 'deny', 'defeat', 'lead', 'outlaw', 'crew', 'aboard', 'starship', 'arcadia', 'undertake', 'daring', 'raid', 'earth', 'oppressor', 'primary', 'oppressor', 'mazone', 'race', 'organic', 'plant', 'base', 'alien', 'woman', 'explore', 'earth', 'mythic', 'past', 'reclaim', '\\\\n\\\\n\\\\n ', 'action', 'drama', 'sci', 'fi', 'manga', 'space', 'colonization', 'damage', 'spacecraft', 'liberty', 'space', 'opera', 'space', 'adventure', 'toei', 'video', 'sammy', 'kinoshita', 'koumuten', 'yoshi', 'ikezawa', 'shinji', 'aramaki', 'joseph', 'chou', 'harutoshi', 'fukui', 'leiji', 'matsumoto', 'kiyoto', 'takeuchi', 'ayano', 'fukuda', 'arata', 'furuta', 'jessica', 'boone', 'yu', 'aoi', 'conquer', 'galaxy', 'mankind', 'reach', 'apex', 'steady', 'decline', 'resource', 'universe', 'diminish', '500', 'billion', 'human', 'begin', 'return', 'home', 'earth', 'begin', 'war', 'faction', 'human', 'control', 'planet', 'eventually', 'authoritarian', 'government', 'know', 'gaia', 'sanction', 'prevent', 'population', 'earth', 'toei', 'animation', 'marza', 'animation', 'planet', 'captain', 'herlock']\", 'score': 7.33, 'producer': 'Toei Video, Sammy, Kinoshita Koumuten', 'studio': 'Toei Animation, Marza Animation Planet', 'licensors': 'Ketchup Entertainment', 'cf_recs': 'Blame! Movie, Berserk: Ougon Jidai-hen II - Doldrey Kouryaku, Berserk: Ougon Jidai-hen III - Kourin, Berserk: Ougon Jidai-hen I - Haou no Tamago, Bayonetta: Bloody Fate, Appleseed Alpha, Bakemono no Ko, Break Blade Movie 2: Ketsubetsu no Michi, 009 Re:Cyborg, Break Blade Movie 1: Kakusei no Toki', 'pop_recs': 'Cowboy Bebop, Escaflowne, GetBackers, Hachimitsu to Clover, Hajime no Ippo, Hikaru no Go, Cowboy Bebop: Tengoku no Tobira, Gantz, Hoshi no Koe, Hunter x Hunter', 'rating': 'UNKNOWN', 'air_date': 'Sep 7, 2013'}),\n",
       " Document(page_content=\"space pirate captain harlock (japanese: 宇宙海賊キャプテンハーロック, hepburn: uchū kaizoku kyaputen hārokku, also romanized as space pirate captain herlock) is a japanese manga series written and illustrated by leiji matsumoto. it was serialized in akita shoten's play comic from january 1977 to june 1979, with the chapters collected into five tankōbon volumes. the series follows the titular captain, an outcast who has turned into a space pirate to rebel against earth's government and humanity's general apathy.\\nspace pirate captain harlock was adapted into an anime television series in 1978 directed by rintaro and produced by toei animation. an animated film adaptation of the same name was released in 2013.in august 2014, to celebrate the 60th anniversary of matsumoto's debut, he launched a retelling manga, captain harlock: dimensional voyage, illustrated by kōichi shimahoshi, which features some significant plot differences.\\nseven seas entertainment has licensed the manga in north america. a sequel comic book written and drawn by jérôme alquié, in collaboration with matsumoto, and published by ablaze comics began publication in 2021.\\n\\n\\n== synopsis ==\\nin the year 2977 ad, humanity has achieved a vast starfaring civilization, but is succumbing to ennui, often due to defeat and subjugation by a foreign invader. rising against the general apathy, harlock denies defeat and leads an outlaw crew aboard his starship arcadia to undertake daring raids against earth's oppressors. their primary oppressors are the mazone, a race of organic plant-based alien women who explored earth in the mythic past and are now back to reclaim it.\\n\\n\\n\", metadata={'anime_id': 1000, 'cast': \"Hidekatsu Shibata, Mami Koyama, Ken'ichi Ogata, Noriko Ohara, Makio Inoue, Kan Tokumaru, Chiyoko Kawashima, Akira Kamiya, Hiroshi Ôtake, Jôji Yanami\", 'episodes': 42, 'genre': 'Action, Adventure, Drama, Sci-Fi', 'source': 'Manga', 'Duration': '25 min per ep', 'name': 'Uchuu Kaizoku Captain Herlock', 'tokens': '[\\'space\\', \\'pirate\\', \\'captain\\', \\'harlock\\', \\'japanese\\', \\'Yu\\', \\'Zhou\\', \\'Hai\\', \\'Zei\\', \\'kiyaputenha\\', \\'rotsuku\\', \\'hepburn\\', \\'uchu\\', \\'kaizoku\\', \\'kyaputen\\', \\'harokku\\', \\'romanize\\', \\'space\\', \\'pirate\\', \\'captain\\', \\'herlock\\', \\'japanese\\', \\'manga\\', \\'series\\', \\'write\\', \\'illustrate\\', \\'leiji\\', \\'matsumoto\\', \\'serialize\\', \\'akita\\', \\'shoten\\', \\'play\\', \\'comic\\', \\'january\\', \\'1977\\', \\'june\\', \\'1979\\', \\'chapter\\', \\'collect\\', \\'tankobon\\', \\'volume\\', \\'series\\', \\'follow\\', \\'titular\\', \\'captain\\', \\'outcast\\', \\'turn\\', \\'space\\', \\'pirate\\', \\'rebel\\', \\'earth\\', \\'government\\', \\'humanity\\', \\'general\\', \\'apathy\\', \\'\\\\n\\', \\'space\\', \\'pirate\\', \\'captain\\', \\'harlock\\', \\'adapt\\', \\'anime\\', \\'television\\', \\'series\\', \\'1978\\', \\'direct\\', \\'rintaro\\', \\'produce\\', \\'toei\\', \\'animation\\', \\'animate\\', \\'film\\', \\'adaptation\\', \\'release\\', \\'2013.in\\', \\'august\\', \\'2014\\', \\'celebrate\\', \\'60th\\', \\'anniversary\\', \\'matsumoto\\', \\'debut\\', \\'launch\\', \\'retelling\\', \\'manga\\', \\'captain\\', \\'harlock\\', \\'dimensional\\', \\'voyage\\', \\'illustrate\\', \\'koichi\\', \\'shimahoshi\\', \\'feature\\', \\'significant\\', \\'plot\\', \\'difference\\', \\'\\\\n\\', \\'seven\\', \\'sea\\', \\'entertainment\\', \\'license\\', \\'manga\\', \\'north\\', \\'america\\', \\'sequel\\', \\'comic\\', \\'book\\', \\'write\\', \\'draw\\', \\'jerome\\', \\'alquie\\', \\'collaboration\\', \\'matsumoto\\', \\'publish\\', \\'ablaze\\', \\'comic_strip\\', \\'begin\\', \\'publication\\', \\'2021\\', \\'\\\\n\\\\n\\\\n\\', \\'=\\', \\'=\\', \\'synopsis\\', \\'=\\', \\'=\\', \\'\\\\n\\', \\'year\\', \\'2977\\', \\'ad\\', \\'humanity\\', \\'achieve\\', \\'vast\\', \\'starfaring\\', \\'civilization\\', \\'succumb\\', \\'ennui\\', \\'defeat\\', \\'subjugation\\', \\'foreign\\', \\'invader\\', \\'rise\\', \\'general\\', \\'apathy\\', \\'harlock\\', \\'deny\\', \\'defeat\\', \\'lead\\', \\'outlaw\\', \\'crew\\', \\'aboard\\', \\'starship\\', \\'arcadia\\', \\'undertake\\', \\'daring\\', \\'raid\\', \\'earth\\', \\'oppressor\\', \\'primary\\', \\'oppressor\\', \\'mazone\\', \\'race\\', \\'organic\\', \\'plant\\', \\'base\\', \\'alien\\', \\'woman\\', \\'explore\\', \\'earth\\', \\'mythic\\', \\'past\\', \\'reclaim\\', \\'\\\\n\\\\n\\\\n \\', \\'action\\', \\'adventure\\', \\'drama\\', \\'sci\\', \\'fi\\', \\'manga\\', \\'outer\\', \\'space\\', \\'captain\\', \\'heroic\\', \\'captain\\', \\'heroic\\', \\'pirate\\', \\'year\\', \\'2977\\', \\'tv\\', \\'asahi\\', \\'harmony\\', \\'gold\\', \\'hidekatsu\\', \\'shibata\\', \\'mami\\', \\'koyama\\', \"ken\\'ichi\", \\'ogata\\', \\'noriko\\', \\'ohara\\', \\'makio\\', \\'inoue\\', \\'kan\\', \\'tokumaru\\', \\'chiyoko\\', \\'kawashima\\', \\'akira\\', \\'kamiya\\', \\'hiroshi\\', \\'otake\\', \\'joji\\', \\'yanami\\', \\'2977\\', \\'ad\\', \\'mankind\\', \\'stagnant\\', \\'robot\\', \\'work\\', \\'masse\\', \\'tranquil\\', \\'subliminal\\', \\'message\\', \\'government\\', \\'official\\', \\'lazy\\', \\'care\\', \\'recreational\\', \\'activity\\', \\'like\\', \\'golf\\', \\'horse\\', \\'racing\\', \\'captain\\', \\'herlock\\', \\'defy\\', \\'insipid\\', \\'mentality\\', \\'lead\\', \\'group\\', \\'like\\', \\'minded\\', \\'rebel\\', \\'adventurous\\', \\'life\\', \\'aboard\\', \\'spaceship\\', \\'arcadia\\', \\'toei\\', \\'animation\\', \\'uchuu\\', \\'kaizoku\\', \\'captain\\', \\'herlock\\']', 'score': 7.69, 'producer': 'TV Asahi, Harmony Gold', 'studio': 'Toei Animation', 'licensors': 'Discotek Media', 'cf_recs': 'Waga Seishun no Arcadia, Space Pirate Captain Herlock: Outside Legend - The Endless Odyssey, Ginga Tetsudou 999, Uchuu Senkan Yamato, Queen Emeraldas, Uchuu Senkan Yamato III, Maetel Legend, Uchuu Senkan Yamato 2, Cosmo Warrior Zero, Saraba Uchuu Senkan Yamato: Ai no Senshi-tachi', 'pop_recs': 'Cowboy Bebop, Escaflowne, GetBackers, Hachimitsu to Clover, Hajime no Ippo, Hikaru no Go, Cowboy Bebop: Tengoku no Tobira, Gantz, Hoshi no Koe, Hunter x Hunter', 'rating': 'UNKNOWN', 'air_date': 'Mar 14, 1978 to Feb 13, 1979'})]"
      ]
     },
     "execution_count": 50,
     "metadata": {},
     "output_type": "execute_result"
    }
   ],
   "source": [
    "doc_results"
   ]
  },
  {
   "cell_type": "code",
   "execution_count": 51,
   "metadata": {},
   "outputs": [
    {
     "data": {
      "text/plain": [
       "['miniskirt space pirates (ミニスカ宇宙海賊(パイレーツ), minisuka pairētsu) is a japanese light novel series about space pirates written by yūichi sasamoto and illustrated by noriyuki matsumoto, published since october 2008. an anime television series adaptation produced by satelight, under the title bodacious space pirates (モーレツ宇宙海賊(パイレーツ), mōretsu pairētsu, \"fierce pirates\"), aired in japan from january to june 2012. a film adaptation was released in japanese theaters in february 2014. a web manga adaptation launched in june 2012. seven seas entertainment licensed the manga series for a printed release in north america in august 2015.the anime version won the 2013 seiun award for best dramatic presentation.\\n\\n\\n\\nin the far future where space travel and colonization have become the norm, humanity has expanded its living space to the far reaches of the known galaxy. one hundred years before the beginning of the series, several colonies, eager to gain their independence, rebelled against their masters in the stellar alliance colony federation. the government of one of the newly colonized planets, sea of the morningstar (うみのあけほし) in the tau ceti system, recruited space pirates to bolster its fighting forces, legalizing their actions by issuing them letters of marque.\\nin the midst of this conflict, a galactic empire arose and absorbed both the stellar alliance and the border worlds, but allowed the colonies to run on an independent government. despite peace having been achieved, the space pirates remain respected figures in imperial society, even though their activities are now reduced to more legal jobs (like errand running and staging raids for the entertainment of space travellers) in which their knowledge of the system\\'s wild space proves particularly useful. at the time the series begins, their cessation of illegal activities is gradually causing them to pass into local legend.\\nmarika kato is a high school girl living a rather ordinary life as a member of the space yacht club and a part-time job at the high-class retro lamp café. one day, marika learns of her recently deceased father, gonzaemon, who is revealed to have been a space pirate. in order for her father\\'s ship, the bentenmaru (弁天丸), to continue legal operation, marika, gonzaemon\\'s direct descendant, is chosen to become the ship\\'s new captain, thus beginning her life as a space pirate.\\n\\n\\n',\n",
       " \"space pirate captain harlock (japanese: 宇宙海賊キャプテンハーロック, hepburn: uchū kaizoku kyaputen hārokku, also romanized as space pirate captain herlock) is a japanese manga series written and illustrated by leiji matsumoto. it was serialized in akita shoten's play comic from january 1977 to june 1979, with the chapters collected into five tankōbon volumes. the series follows the titular captain, an outcast who has turned into a space pirate to rebel against earth's government and humanity's general apathy.\\nspace pirate captain harlock was adapted into an anime television series in 1978 directed by rintaro and produced by toei animation. an animated film adaptation of the same name was released in 2013.in august 2014, to celebrate the 60th anniversary of matsumoto's debut, he launched a retelling manga, captain harlock: dimensional voyage, illustrated by kōichi shimahoshi, which features some significant plot differences.\\nseven seas entertainment has licensed the manga in north america. a sequel comic book written and drawn by jérôme alquié, in collaboration with matsumoto, and published by ablaze comics began publication in 2021.\\n\\n\\n== synopsis ==\\nin the year 2977 ad, humanity has achieved a vast starfaring civilization, but is succumbing to ennui, often due to defeat and subjugation by a foreign invader. rising against the general apathy, harlock denies defeat and leads an outlaw crew aboard his starship arcadia to undertake daring raids against earth's oppressors. their primary oppressors are the mazone, a race of organic plant-based alien women who explored earth in the mythic past and are now back to reclaim it.\\n\\n\\n\",\n",
       " \"space pirate captain harlock (japanese: 宇宙海賊キャプテンハーロック, hepburn: uchū kaizoku kyaputen hārokku, also romanized as space pirate captain herlock) is a japanese manga series written and illustrated by leiji matsumoto. it was serialized in akita shoten's play comic from january 1977 to june 1979, with the chapters collected into five tankōbon volumes. the series follows the titular captain, an outcast who has turned into a space pirate to rebel against earth's government and humanity's general apathy.\\nspace pirate captain harlock was adapted into an anime television series in 1978 directed by rintaro and produced by toei animation. an animated film adaptation of the same name was released in 2013.in august 2014, to celebrate the 60th anniversary of matsumoto's debut, he launched a retelling manga, captain harlock: dimensional voyage, illustrated by kōichi shimahoshi, which features some significant plot differences.\\nseven seas entertainment has licensed the manga in north america. a sequel comic book written and drawn by jérôme alquié, in collaboration with matsumoto, and published by ablaze comics began publication in 2021.\\n\\n\\n== synopsis ==\\nin the year 2977 ad, humanity has achieved a vast starfaring civilization, but is succumbing to ennui, often due to defeat and subjugation by a foreign invader. rising against the general apathy, harlock denies defeat and leads an outlaw crew aboard his starship arcadia to undertake daring raids against earth's oppressors. their primary oppressors are the mazone, a race of organic plant-based alien women who explored earth in the mythic past and are now back to reclaim it.\\n\\n\\n\"]"
      ]
     },
     "execution_count": 51,
     "metadata": {},
     "output_type": "execute_result"
    }
   ],
   "source": [
    "[doc.page_content for doc in doc_results]"
   ]
  },
  {
   "cell_type": "code",
   "execution_count": null,
   "metadata": {},
   "outputs": [],
   "source": []
  }
 ],
 "metadata": {
  "kernelspec": {
   "display_name": "langchain",
   "language": "python",
   "name": "python3"
  },
  "language_info": {
   "codemirror_mode": {
    "name": "ipython",
    "version": 3
   },
   "file_extension": ".py",
   "mimetype": "text/x-python",
   "name": "python",
   "nbconvert_exporter": "python",
   "pygments_lexer": "ipython3",
   "version": "3.10.13"
  }
 },
 "nbformat": 4,
 "nbformat_minor": 2
}
