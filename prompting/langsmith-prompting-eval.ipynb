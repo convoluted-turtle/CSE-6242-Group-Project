{
 "cells": [
  {
   "cell_type": "code",
   "execution_count": 1,
   "metadata": {},
   "outputs": [],
   "source": [
    "from langchain.embeddings import HuggingFaceEmbeddings\n",
    "from langchain_community.vectorstores import FAISS\n",
    "from bs4 import BeautifulSoup as Soup\n",
    "from langchain.text_splitter import RecursiveCharacterTextSplitter\n",
    "from langchain_community.document_loaders.recursive_url_loader import RecursiveUrlLoader\n",
    "from langsmith.evaluation._runner import evaluate\n",
    "from langsmith.evaluation.integrations import LangChainStringEvaluator\n",
    "from langchain.evaluation.qa.eval_chain import CotQAEvalChain\n",
    "\n",
    "\n",
    "from langchain import hub\n",
    "from langchain import prompts\n",
    "from langchain_core.runnables import RunnablePassthrough\n",
    "from langchain_core.output_parsers import StrOutputParser\n",
    "from langchain_google_genai import ChatGoogleGenerativeAI"
   ]
  },
  {
   "cell_type": "code",
   "execution_count": 8,
   "metadata": {},
   "outputs": [],
   "source": [
    "encode_kwargs = {\"normalize_embeddings\": True}\n",
    "embedding_function = HuggingFaceEmbeddings(\n",
    "    model_name='sentence-transformers/all-MiniLM-L6-v2',\n",
    "    model_kwargs={\"device\": \"cpu\"},\n",
    "    encode_kwargs=encode_kwargs,\n",
    ")\n",
    "\n",
    "db_faiss = FAISS.load_local(\"/Users/justinvhuang/Desktop/CSE-6242-Group-Project/app/faiss_anime_index_v3\", embeddings = embedding_function)\n",
    "retriever = db_faiss.as_retriever(search_kwargs={\"k\": 10})"
   ]
  },
  {
   "cell_type": "code",
   "execution_count": 9,
   "metadata": {},
   "outputs": [],
   "source": [
    "import yaml\n",
    "\n",
    "# Load API key from config.yaml\n",
    "with open(\"/Users/justinvhuang/Desktop/CSE-6242-Group-Project/app/config.yaml\", \"r\") as file:\n",
    "    config = yaml.safe_load(file)\n",
    "\n",
    "api_key = config[\"api_key\"]\n",
    "import google.generativeai as genai\n",
    "userdata = {\"GOOGLE_API_KEY\": api_key}\n",
    "GOOGLE_API_KEY=userdata.get('GOOGLE_API_KEY')\n",
    "genai.configure(api_key=GOOGLE_API_KEY)"
   ]
  },
  {
   "cell_type": "code",
   "execution_count": 10,
   "metadata": {},
   "outputs": [
    {
     "data": {
      "text/plain": [
       "\"Studio Ghibli has produced 18 feature films, including:\\n- Castle in the Sky\\n- Grave of the Fireflies\\n- My Neighbor Totoro\\n- Kiki's Delivery Service\\n- Only Yesterday\\n- Porco Rosso\\n- Pom Poko\\n- Whisper of the Heart\\n- Princess Mononoke\\n- My Neighbors the Yamadas\\n- Spirited Away\\n- The Cat Returns\\n- Howl's Moving Castle\\n- Tales from Earthsea\\n- Ponyo\\n- Arrietty\\n- From Up on Poppy Hill\\n- The Wind Rises\\n- When Marnie Was There\""
      ]
     },
     "execution_count": 10,
     "metadata": {},
     "output_type": "execute_result"
    }
   ],
   "source": [
    "#### RETRIEVAL and GENERATION ####\n",
    "\n",
    "\n",
    "# Generation\n",
    "generator = prompts.ChatPromptTemplate.from_messages(\n",
    "    [\n",
    "        (\"system\", \"Respond using the following documents as context:\\n{documents}\"),\n",
    "        (\"user\", \"{question}\"),\n",
    "    ]\n",
    ") | ChatGoogleGenerativeAI(model=\"gemini-pro\", temperature=0,google_api_key = GOOGLE_API_KEY,convert_system_message_to_human=True)\n",
    "\n",
    "\n",
    "# Chain\n",
    "rag_chain = {\n",
    "    \"documents\": retriever,\n",
    "    \"question\": RunnablePassthrough(),\n",
    "} | generator | StrOutputParser()\n",
    "\n",
    "# Question\n",
    "rag_chain.invoke(\"what are anime from studio ghbili?\")"
   ]
  },
  {
   "cell_type": "code",
   "execution_count": 7,
   "metadata": {},
   "outputs": [],
   "source": [
    "llm = ChatGoogleGenerativeAI(model=\"gemini-pro\", temperature=0,google_api_key = GOOGLE_API_KEY,convert_system_message_to_human=True)"
   ]
  },
  {
   "cell_type": "code",
   "execution_count": 21,
   "metadata": {},
   "outputs": [],
   "source": [
    "# QA\n",
    "inputs = [\n",
    "    \"Who is Fririen\",\n",
    "    \"What are good pirate anime?\",\n",
    "    \"What are some good kid anime?\",\n",
    "    \"What is the name of monkey d luffy's idol?\",\n",
    "    \"What is the name of the space cowboy bounty hunter?\",\n",
    "    \"What are some good animes from studio ghibli?\",\n",
    "    \"What are some 90s anime?\"\n",
    "]\n",
    "\n",
    "outputs = [\n",
    "    \"Fririen is a fictional character in a story or game.\",\n",
    "    '\"One Piece\" is a popular pirate anime.',\n",
    "    '\"Pokémon,\" \"My Neighbor Totoro,\" and \"SpongeBob SquarePants\" are good kid anime.',\n",
    "    \"Monkey D. Luffy's idol is Red-Haired Shanks.\",\n",
    "    \"The space cowboy bounty hunter's name is Spike Spiegel.\",\n",
    "    'Some animes from Studio Ghibli include \"Spirited Away,\" \"My Neighbor Totoro,\" and \"Princess Mononoke.\"',\n",
    "    'Some 90s anime include \"Neon Genesis Evangelion,\" \"Dragon Ball Z,\" \"Sailor Moon,\" \"Cowboy Bebop,\" \"Ghost in the Shell,\" and \"Pokémon.\"'\n",
    "    ]\n",
    "\n",
    "# Dataset\n",
    "qa_pairs = [{\"question\": q, \"answer\": a} for q, a in zip(inputs, outputs)]"
   ]
  },
  {
   "cell_type": "code",
   "execution_count": 22,
   "metadata": {},
   "outputs": [],
   "source": [
    "from langsmith import Client\n",
    "import os\n",
    "os.environ['LANGCHAIN_TRACING_V2'] = 'true' # enables tracing \n",
    "os.environ['LANGCHAIN_API_KEY'] = 'ls__8b6fd8fd0f1643e2aaae08f31c00de1e'"
   ]
  },
  {
   "cell_type": "code",
   "execution_count": 23,
   "metadata": {},
   "outputs": [],
   "source": [
    "# Create dataset\n",
    "client = Client()\n",
    "dataset_name = \"RAG_ANIMEv3\"\n",
    "\n",
    "# Store\n",
    "dataset = client.create_dataset(\n",
    "    dataset_name=dataset_name,\n",
    "    description=\"QA pairs about ANIME.\",\n",
    ")\n",
    "client.create_examples(\n",
    "    inputs=[{\"question\": q} for q in inputs],\n",
    "    outputs=[{\"answer\": a} for a in outputs],\n",
    "    dataset_id=dataset.id,\n",
    ")"
   ]
  },
  {
   "cell_type": "code",
   "execution_count": 24,
   "metadata": {},
   "outputs": [
    {
     "name": "stdout",
     "output_type": "stream",
     "text": [
      "View the evaluation results for experiment: 'rag-qa-oai-4257f722' at:\n",
      "https://smith.langchain.com/o/ee2bfa72-1f76-5322-9029-9ae994e50470/datasets/9f203d1f-da4a-45ce-8f07-1f7477dd4c90/compare?selectedSessions=710139bc-57ba-474f-b69a-6251f749617e\n",
      "\n",
      "\n"
     ]
    },
    {
     "data": {
      "application/vnd.jupyter.widget-view+json": {
       "model_id": "d75554ebfa5a40cf8d051348132a63c3",
       "version_major": 2,
       "version_minor": 0
      },
      "text/plain": [
       "0it [00:00, ?it/s]"
      ]
     },
     "metadata": {},
     "output_type": "display_data"
    }
   ],
   "source": [
    "# Evaluators\n",
    "qa_evalulator = [LangChainStringEvaluator(\"cot_qa\", config={\"llm\":ChatGoogleGenerativeAI(model=\"gemini-pro\", \n",
    "                                                                                         temperature=0,google_api_key = GOOGLE_API_KEY,convert_system_message_to_human=True)})]\n",
    "dataset_name = \"RAG_ANIMEv3\"\n",
    "\n",
    "def predict(example: dict):\n",
    "    return {\"answer\": rag_chain.invoke(example[\"question\"])}\n",
    "    \n",
    "experiment_results = evaluate(\n",
    "    predict,\n",
    "    data=dataset_name,\n",
    "    evaluators=qa_evalulator,\n",
    "    experiment_prefix=\"rag-qa-oai\",\n",
    "    # Any experiment metadata can be specified here\n",
    "    metadata={\n",
    "      \"variant\": \"ANIME context, gemini\",\n",
    "    },\n",
    ")"
   ]
  },
  {
   "cell_type": "code",
   "execution_count": null,
   "metadata": {},
   "outputs": [],
   "source": []
  }
 ],
 "metadata": {
  "kernelspec": {
   "display_name": "Python 3",
   "language": "python",
   "name": "python3"
  },
  "language_info": {
   "codemirror_mode": {
    "name": "ipython",
    "version": 3
   },
   "file_extension": ".py",
   "mimetype": "text/x-python",
   "name": "python",
   "nbconvert_exporter": "python",
   "pygments_lexer": "ipython3",
   "version": "3.10.13"
  }
 },
 "nbformat": 4,
 "nbformat_minor": 2
}
