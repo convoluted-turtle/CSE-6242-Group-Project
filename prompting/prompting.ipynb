{
 "cells": [
  {
   "cell_type": "code",
   "execution_count": 1,
   "metadata": {},
   "outputs": [],
   "source": [
    "import sys \n",
    "sys.path.append('/Users/justinvhuang/Desktop/CSE-6242-Group-Project')"
   ]
  },
  {
   "cell_type": "code",
   "execution_count": 2,
   "metadata": {},
   "outputs": [],
   "source": [
    "import guidance\n",
    "\n",
    "from guidance import gen, models\n",
    "from tqdm import tqdm\n",
    "\n",
    "from langchain.embeddings import HuggingFaceEmbeddings\n",
    "from langchain_community.vectorstores import FAISS\n",
    "from tqdm import tqdm\n",
    "from utils.textpreprocessing import TextPreprocessor"
   ]
  },
  {
   "cell_type": "code",
   "execution_count": 3,
   "metadata": {},
   "outputs": [],
   "source": [
    "textprepo = TextPreprocessor()"
   ]
  },
  {
   "cell_type": "code",
   "execution_count": 5,
   "metadata": {},
   "outputs": [],
   "source": [
    "encode_kwargs = {\"normalize_embeddings\": True}\n",
    "embedding_function = HuggingFaceEmbeddings(\n",
    "    model_name='sentence-transformers/all-MiniLM-L6-v2',\n",
    "    model_kwargs={\"device\": \"cpu\"},\n",
    "    encode_kwargs=encode_kwargs,\n",
    ")"
   ]
  },
  {
   "cell_type": "code",
   "execution_count": 7,
   "metadata": {},
   "outputs": [],
   "source": [
    "new_db = FAISS.load_local(\"/Users/justinvhuang/Desktop/CSE-6242-Group-Project/vector_database_creation/faiss_anime_index_v2\", embedding_function)"
   ]
  },
  {
   "cell_type": "code",
   "execution_count": 8,
   "metadata": {},
   "outputs": [],
   "source": [
    "def are_words_in_string(word_list, input_string):\n",
    "    for word in word_list:\n",
    "        if word in input_string:\n",
    "            return True\n",
    "    return False"
   ]
  },
  {
   "cell_type": "code",
   "execution_count": 17,
   "metadata": {},
   "outputs": [
    {
     "data": {
      "text/plain": [
       "[Document(page_content=\"what follows is a mad dash by not only the treasure hunters but also the inhabitants of koumi to secure anne and mary's long lost booty. all the while, however, conan, kogorou, and the police search for the one thing far greater than riches—justice.\", metadata={'anime_id': 2171, 'cast': 'UNKNOWN', 'episodes': '1.0', 'genre': 'Adventure, Comedy, Mystery', 'source': 'Manga', 'Duration': '1 hr 45 min', 'name': 'Detective Conan Movie 11: Jolly Roger in the Deep Azure', 'tokens': 'treasure pay trip chaos detective dare mad second conan send mystery big thing reef mouri robbery manga regard boy harsh azure acquaint famous hill encounter long reason booty daughter group \\n\\n discover cutlass far edogawa read sonoko roger fever anne scenic search follow movie hunt justice entertainment museum visit tourist plunge small isle mix murder jolly secure wonder join legend mary kogorou arrive lose scour friend recent clue pistol 11 water tourism deep rich bang luscious coral room island soon inhabitant good suzuki come bonnie adventure pirate hotel dash hunter great shore duo run comedy koumi house unknown police tms', 'score': 7.43, 'producer': 'Big Bang', 'studio': 'TMS Entertainment', 'licensors': 'UNKNOWN'}),\n",
       " Document(page_content='love, heaven\\'s greatest treasure went missing and to get it back, the great god decides to send his two daughters lemon and cherry, as well as their governess berry to find it. however, their search doesn\\'t go so well, mainly because they decide they like it at planet earth and prefer to work in a hamburger shop (sic!).\\n\\nin the one-episode ova, the girls end up searching for the love treasure on an exotic planet, however they find magical living plushies instead, having to fight their way through them to recover \"essence of life,\" which an evil organisation wants to use for nefarious purposes.\\n\\n(source: bakabt)', metadata={'anime_id': 10355, 'cast': 'UNKNOWN', 'episodes': '1.0', 'genre': 'Adventure, Comedy', 'source': 'Original', 'Duration': '44 min', 'name': 'Twinkle Heart: Gingakei made Todokanai', 'tokens': 'treasure ova work missing instead todokanai daughter mainly berry \\n\\n bakabt anime purpose like girl heart adventure gingakei great magical want live send life god r prefer exotic plushie find fight decide lemon sic way organisation comedy original essence unknown search earth hamburger twinkle governess nefarious source use episode recover heaven love planet cherry evil shop end', 'score': 5.41, 'producer': 'Anime R', 'studio': 'UNKNOWN', 'licensors': 'UNKNOWN'}),\n",
       " Document(page_content=\"the player can sniff and dig for items underground, including fruits, vegetables, and other items, indicated by two circles appearing in the bottom of the screen (blue for plot-related items and yellow for generic things). this ability is mandatory for the tasks, most of which requires the player to search for items; non-plot related items can be recorded in an encyclopedia owned by an npc, rewarding the player with bones. additionally, the player can fish and catch insects by successfully beating a short minigame beforehand; again, the animals gained can be exchanged with the npc for bones. bones as they are referred to, the game's currency, are also rewarded after task completion, and can be used to buy healing items, accessories, and clothing.\", metadata={'anime_id': 26323, 'cast': 'UNKNOWN', 'episodes': '1.0', 'genre': 'Drama', 'source': 'Unknown', 'Duration': '23 min', 'name': 'Hitotsu no Hana', 'tokens': 'console shock status controller exit character fruit yellow pay = navigate vegetable story plot remote fee mailbox interact special goal spot slow book return za dog snake store sick thing hub location later enemy beat deliver cause underground minigame achieve animal use howl complete receive additionally defense type bear \\n eventually Yu 8 insect hint act accessory replenish clothing \\n\\n\\n \\n\\n buy 2 stun pacific circle boris non ability bone short indefinitely journey currency item populate section failure save game environment airando crawl able free permit noWu search master inventory poisonous pupsville \\n\\n\\n  sleep screen feature generic control hitotsu reward number clear area sniff different midgame point exchange fish healing start know quest cursor npc visit explore dogu hp educational letter 2008 indicate catch playstation bark button video lose gain friend task contain gets movement certain 3 information sibling produce drama deplete force system flower hostile upgrade film hitotsunohua island walk light encyclopedia wii relate talk adventure chest player prologue dungeon base record monogatari appear food hana bat shortage include find fully successfully run aid attack 23 blue gorilla house dig unknown refer war franchise require time completion hold version mandatory gameplay reply end brief japan', 'score': 0.0, 'producer': 'UNKNOWN', 'studio': 'UNKNOWN', 'licensors': 'UNKNOWN'}),\n",
       " Document(page_content=\"just before reaching the island, however, a storm rips the ship apart; jim, gran, baboo, and the baby's self-appointed guardian, the walrus otto, arrive just after silver, his crew, and kathy, now a prisoner of the pirates. in exchange for her friends' safety, kathy offers to lead silver to the exact location of the treasure. silver, however, plans on double-crossing both jim and his own crew to get the treasure for himself.\", metadata={'anime_id': 3842, 'cast': 'Hiroshi Ikeda, Hayao Miyazaki, Minori Matsushima, Asao Koike, Hiroshi Ohkawa, Robert Louis Stevenson, Fusako Amachi, Kôsei Tomita, Naozumi Yamamoto, Takashi Iijima', 'episodes': '1.0', 'genre': 'Adventure', 'source': 'Novel', 'Duration': '1 hr 18 min', 'name': 'Doubutsu Takarajima', 'tokens': 'minori takarajima treasure sweep gag character unchecked otto man bembo mechanism map day black doubutsu infant extinct slave studio cloak legged captaincy drain appoint toei babbling manage return kathy damage away barrel night son license novel offer assistance monkey pour sea ask \\n\\n\\n\\n baron location final ensue narrowly later potion beat hide walrus   ship japanese exact care animal tomita transportation encounter \\n tell 20th storm country capture kosei work log carry promptly hang inn incapacitate cross louis crater far secret distrust mysterious 1883 miyazaki fusako inside present chase mouse assassin apart takashi monocled save iijima compensation rough ransack immediately \\n\\n\\n  usurped hiroshi accept innkeeper trigger hunt stranger voyage improvise asao money keeper stowaway council reach scheme flint sailing captain boat exchange assistant rip self know lead 1971 crossing fulfil visit stevenson alert sell share dethrone little hope casket volcano silver sleeping spider helmsman rex life arrive amachi friend plan dao granddaughter ikeda waist robert assemble instantly leave medium resolute open sacrifice bind bring reform rich baby produce recover jim try baboo wild young hayao set cell instead doubutsuBao film ohkawa room dream island people new infamous anniversary soon look repeatedly anime chairman realize path good steal koike safety direct foil adventure reveal pirate animation watch fellow base merchant guardian feisty prisoner duo dobutsu distribute steam language admiral find serve matsushima order comedy attack lake gran naozumi climb unknown discotek yamamoto engage release sink surrender intruder hold english escape crew band double quarrel suspicious power turn end gain', 'score': 6.26, 'producer': 'UNKNOWN', 'studio': 'Toei Animation', 'licensors': 'Discotek Media'}),\n",
       " Document(page_content='in a fantasy world of dungeon exploration, guilds set out on expeditions to raid dungeons, with many hoping to find the mysterious golden kingdom, which is said to be the treasure of an island dungeon.', metadata={'anime_id': 52701, 'cast': 'Emily Rudd, Satoshi Mikami, SungWon Cho, Casey Mongillo, Kentarô Kumagai, Damien C. Haas, Sayaka Senbongi, Todd Haberkorn, Asuna Tomari, Hiroshi Naka', 'episodes': 'UNKNOWN', 'genre': 'Comedy, Fantasy, Gourmet', 'source': 'Manga', 'Duration': 'Unknown', 'name': 'Dungeon Meshi', 'tokens': 'treasure satoshi guild write traverse belonging kingdom indebted story dwarf secretly attempt series 2014 reluctantly premiere kui eat supply yen slay year remain license dust 2024 manga magician \\n\\n\\n\\n senbongi having mission tim determine underground japanese cooking agree entirety 2023 use detail leader encounter january trap sayaka \\n senshi healer group defeat fantasy raid mongillo thief laio mysterious inside brainstorm exploration february save environment human danziyonfan meshi team search immediately sister \\n\\n\\n  consume gourmet hiroshi devour sungwon haas wipe trigger member red television chilchuck damien crumble digestion marcille mikami seinen dragon magic hepburn suggest hope harvesting create adaptation cook donato feel travel lose september press kentaro rudd leave enterbrain falin cho expedition promise illustrate produce elven teleport force delicious casey haberkorn set todd despite island meal tomari golden sustain light north halfle serialize anime begin kadokawa safety reenter harta world labyrinthine emily animation dungeon want magazine adventurer tallman base insane food kumagai danjon america impossible find comedy c. spur monster spellcaster swordsman touden experience ryoko sink survive naka level unsuccessfully time locksmith king escape emerge asuna party', 'score': 0.0, 'producer': 'Kadokawa', 'studio': 'Trigger', 'licensors': 'UNKNOWN'})]"
      ]
     },
     "execution_count": 17,
     "metadata": {},
     "output_type": "execute_result"
    }
   ],
   "source": [
    "query = \"treasure\"\n",
    "query_token = textprepo.preprocess_text(query)\n",
    "\n",
    "def filter_fn(metadata):\n",
    "    return any(word in query for word in list(query_token)) or metadata[\"score\"] > 5.0\n",
    "\n",
    "\n",
    "results = new_db.similarity_search(query, filter=filter_fn, k=5)\n",
    "results"
   ]
  },
  {
   "cell_type": "code",
   "execution_count": 10,
   "metadata": {},
   "outputs": [],
   "source": [
    "context = list(set([results[x].page_content for x in range(len(results))]))"
   ]
  },
  {
   "cell_type": "code",
   "execution_count": 16,
   "metadata": {},
   "outputs": [
    {
     "data": {
      "text/plain": [
       "{'anime_id': 2171,\n",
       " 'cast': 'UNKNOWN',\n",
       " 'episodes': '1.0',\n",
       " 'genre': 'Adventure, Comedy, Mystery',\n",
       " 'source': 'Manga',\n",
       " 'Duration': '1 hr 45 min',\n",
       " 'name': 'Detective Conan Movie 11: Jolly Roger in the Deep Azure',\n",
       " 'tokens': 'treasure pay trip chaos detective dare mad second conan send mystery big thing reef mouri robbery manga regard boy harsh azure acquaint famous hill encounter long reason booty daughter group \\n\\n discover cutlass far edogawa read sonoko roger fever anne scenic search follow movie hunt justice entertainment museum visit tourist plunge small isle mix murder jolly secure wonder join legend mary kogorou arrive lose scour friend recent clue pistol 11 water tourism deep rich bang luscious coral room island soon inhabitant good suzuki come bonnie adventure pirate hotel dash hunter great shore duo run comedy koumi house unknown police tms',\n",
       " 'score': 7.43,\n",
       " 'producer': 'Big Bang',\n",
       " 'studio': 'TMS Entertainment',\n",
       " 'licensors': 'UNKNOWN'}"
      ]
     },
     "execution_count": 16,
     "metadata": {},
     "output_type": "execute_result"
    }
   ],
   "source": [
    "results[0].metadata"
   ]
  },
  {
   "cell_type": "code",
   "execution_count": 11,
   "metadata": {},
   "outputs": [],
   "source": [
    "anime_id_list = set([results[x].metadata['anime_id'] for x in range(len(results))])"
   ]
  },
  {
   "cell_type": "code",
   "execution_count": 15,
   "metadata": {},
   "outputs": [],
   "source": [
    "mistral = models.MistralInstruct(\"/Users/justinvhuang/Desktop/CSE-6242-Group-Project/prompting/mistral-7b-instruct-v0.2-gguf/mistral-7b-instruct-v0.2.Q5_K_M.gguf\", n_ctx=5000, n_gpu_layers=-1)"
   ]
  },
  {
   "cell_type": "code",
   "execution_count": 20,
   "metadata": {},
   "outputs": [],
   "source": [
    "@guidance\n",
    "def anime_recommend(lm, content, model):\n",
    "    model.echo = False\n",
    "    prompt = \"Summarize in a full sentence the following text.\"\n",
    "    lm = model + f\"{prompt}: {content}\\n\"\n",
    "    lm += \"Summary: \" + gen(\n",
    "        name=\"summary\",\n",
    "        temperature=0.5,\n",
    "        max_tokens=50,\n",
    "    )\n",
    "    return lm\n",
    "\n",
    "\n",
    "@guidance\n",
    "def anime_summarize(lm, content, model):\n",
    "    model.echo = False\n",
    "    prompt = \"Summarize the following and descriptions of the 5 anime into one paragraph\"\n",
    "    lm = model + f\"{prompt}: {content}\"\n",
    "    lm += \"Summary: \" + gen(\n",
    "        name=\"full_summary\",\n",
    "        temperature=0,\n",
    "        max_tokens=200,\n",
    "    )\n",
    "    return lm\n",
    "\n",
    "\n",
    "def ani_recs(question: str) -> str:\n",
    "    output = new_db.similarity_search(question, filter=filter_fn, k=5)\n",
    "    rec_list = []\n",
    "    for x in tqdm(range(len(output))):\n",
    "        lm = mistral + anime_recommend(output[x].page_content, mistral)\n",
    "        rec_list.append(\n",
    "            {\n",
    "                \"anime_name\": output[x].metadata['name'],\n",
    "                \"Description\": lm[\"summary\"],\n",
    "                \"anime_id\": output[x].metadata[\"anime_id\"],\n",
    "            }\n",
    "        )\n",
    "    summary = \" \".join([x[\"Description\"] for x in rec_list])\n",
    "    lm = mistral + anime_summarize(summary, mistral)\n",
    "    fstring = f\"\"\"\n",
    "    Summary: {lm['full_summary']}\n",
    "    Dishes:\n",
    "    1. {rec_list[0]['anime_name']}\n",
    "    2. {rec_list[1]['anime_name']}\n",
    "    3. {rec_list[2]['anime_name']}\n",
    "    4. {rec_list[3]['anime_name']}\n",
    "    5. {rec_list[4]['anime_name']}\n",
    "    \"\"\"\n",
    "    return fstring"
   ]
  },
  {
   "cell_type": "code",
   "execution_count": 21,
   "metadata": {},
   "outputs": [
    {
     "name": "stderr",
     "output_type": "stream",
     "text": [
      "  0%|          | 0/5 [00:00<?, ?it/s]"
     ]
    }
   ],
   "source": [
    "recs = ani_recs(\"I like pirates\")"
   ]
  },
  {
   "cell_type": "code",
   "execution_count": null,
   "metadata": {},
   "outputs": [],
   "source": []
  }
 ],
 "metadata": {
  "kernelspec": {
   "display_name": "langchain",
   "language": "python",
   "name": "python3"
  },
  "language_info": {
   "codemirror_mode": {
    "name": "ipython",
    "version": 3
   },
   "file_extension": ".py",
   "mimetype": "text/x-python",
   "name": "python",
   "nbconvert_exporter": "python",
   "pygments_lexer": "ipython3",
   "version": "3.10.13"
  }
 },
 "nbformat": 4,
 "nbformat_minor": 2
}
