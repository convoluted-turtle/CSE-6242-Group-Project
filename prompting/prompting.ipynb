{
 "cells": [
  {
   "cell_type": "code",
   "execution_count": 1,
   "metadata": {},
   "outputs": [],
   "source": [
    "import sys \n",
    "sys.path.append('/Users/justinvhuang/Desktop/CSE-6242-Group-Project')"
   ]
  },
  {
   "cell_type": "code",
   "execution_count": 37,
   "metadata": {},
   "outputs": [],
   "source": [
    "import pandas as pd"
   ]
  },
  {
   "cell_type": "code",
   "execution_count": 38,
   "metadata": {},
   "outputs": [],
   "source": [
    "df = pd.read_json(\"/Users/justinvhuang/Desktop/CSE-6242-Group-Project/fin_anime_dfv1.json\")"
   ]
  },
  {
   "cell_type": "code",
   "execution_count": 40,
   "metadata": {},
   "outputs": [
    {
     "data": {
      "text/plain": [
       "Index(['imdb_title_title', 'imdb_title_titleId', 'anime_Rating',\n",
       "       'anime_English name', 'anime_Genres', 'anime_Other name', 'anime_Score',\n",
       "       'anime_Synopsis', 'anime_anime_id', 'imdb_name_basics_primaryName',\n",
       "       'plot', 'keywords', 'image', 'Producers', 'Licensors', 'Studios',\n",
       "       'Image URL', 'Episodes', 'Genres', 'Source', 'Favorites', 'Aired',\n",
       "       'Members', 'Duration', 'text', 'Name', 'anime_id', 'popular_recs',\n",
       "       'cf_recs', 'tokens'],\n",
       "      dtype='object')"
      ]
     },
     "execution_count": 40,
     "metadata": {},
     "output_type": "execute_result"
    }
   ],
   "source": [
    "df.columns"
   ]
  },
  {
   "cell_type": "code",
   "execution_count": 2,
   "metadata": {},
   "outputs": [],
   "source": [
    "from enum import Enum\n",
    "\n",
    "import torch\n",
    "from pydantic import BaseModel, constr\n",
    "\n",
    "import outlines\n",
    "\n",
    "import pandas as pd\n",
    "from langchain.docstore.document import Document\n",
    "from langchain.embeddings import HuggingFaceEmbeddings\n",
    "from langchain_community.vectorstores import FAISS\n",
    "from langchain_text_splitters import RecursiveCharacterTextSplitter\n",
    "from tqdm import tqdm\n",
    "from utils.textpreprocessing import TextPreprocessor"
   ]
  },
  {
   "cell_type": "code",
   "execution_count": 3,
   "metadata": {},
   "outputs": [],
   "source": [
    "textprepo = TextPreprocessor()"
   ]
  },
  {
   "cell_type": "code",
   "execution_count": 4,
   "metadata": {},
   "outputs": [
    {
     "name": "stderr",
     "output_type": "stream",
     "text": [
      "llama_model_loader: loaded meta data with 24 key-value pairs and 291 tensors from /Users/justinvhuang/Desktop/CSE-6242-Group-Project/prompting/mistral-7b-instruct-v0.2-gguf/mistral-7b-instruct-v0.2.Q5_K_M.gguf (version GGUF V3 (latest))\n",
      "llama_model_loader: Dumping metadata keys/values. Note: KV overrides do not apply in this output.\n",
      "llama_model_loader: - kv   0:                       general.architecture str              = llama\n",
      "llama_model_loader: - kv   1:                               general.name str              = mistralai_mistral-7b-instruct-v0.2\n",
      "llama_model_loader: - kv   2:                       llama.context_length u32              = 32768\n",
      "llama_model_loader: - kv   3:                     llama.embedding_length u32              = 4096\n",
      "llama_model_loader: - kv   4:                          llama.block_count u32              = 32\n",
      "llama_model_loader: - kv   5:                  llama.feed_forward_length u32              = 14336\n",
      "llama_model_loader: - kv   6:                 llama.rope.dimension_count u32              = 128\n",
      "llama_model_loader: - kv   7:                 llama.attention.head_count u32              = 32\n",
      "llama_model_loader: - kv   8:              llama.attention.head_count_kv u32              = 8\n",
      "llama_model_loader: - kv   9:     llama.attention.layer_norm_rms_epsilon f32              = 0.000010\n",
      "llama_model_loader: - kv  10:                       llama.rope.freq_base f32              = 1000000.000000\n",
      "llama_model_loader: - kv  11:                          general.file_type u32              = 17\n",
      "llama_model_loader: - kv  12:                       tokenizer.ggml.model str              = llama\n",
      "llama_model_loader: - kv  13:                      tokenizer.ggml.tokens arr[str,32000]   = [\"<unk>\", \"<s>\", \"</s>\", \"<0x00>\", \"<...\n",
      "llama_model_loader: - kv  14:                      tokenizer.ggml.scores arr[f32,32000]   = [0.000000, 0.000000, 0.000000, 0.0000...\n",
      "llama_model_loader: - kv  15:                  tokenizer.ggml.token_type arr[i32,32000]   = [2, 3, 3, 6, 6, 6, 6, 6, 6, 6, 6, 6, ...\n",
      "llama_model_loader: - kv  16:                tokenizer.ggml.bos_token_id u32              = 1\n",
      "llama_model_loader: - kv  17:                tokenizer.ggml.eos_token_id u32              = 2\n",
      "llama_model_loader: - kv  18:            tokenizer.ggml.unknown_token_id u32              = 0\n",
      "llama_model_loader: - kv  19:            tokenizer.ggml.padding_token_id u32              = 0\n",
      "llama_model_loader: - kv  20:               tokenizer.ggml.add_bos_token bool             = true\n",
      "llama_model_loader: - kv  21:               tokenizer.ggml.add_eos_token bool             = false\n",
      "llama_model_loader: - kv  22:                    tokenizer.chat_template str              = {{ bos_token }}{% for message in mess...\n",
      "llama_model_loader: - kv  23:               general.quantization_version u32              = 2\n",
      "llama_model_loader: - type  f32:   65 tensors\n",
      "llama_model_loader: - type q5_K:  193 tensors\n",
      "llama_model_loader: - type q6_K:   33 tensors\n",
      "llm_load_vocab: special tokens definition check successful ( 259/32000 ).\n",
      "llm_load_print_meta: format           = GGUF V3 (latest)\n",
      "llm_load_print_meta: arch             = llama\n",
      "llm_load_print_meta: vocab type       = SPM\n",
      "llm_load_print_meta: n_vocab          = 32000\n",
      "llm_load_print_meta: n_merges         = 0\n",
      "llm_load_print_meta: n_ctx_train      = 32768\n",
      "llm_load_print_meta: n_embd           = 4096\n",
      "llm_load_print_meta: n_head           = 32\n",
      "llm_load_print_meta: n_head_kv        = 8\n",
      "llm_load_print_meta: n_layer          = 32\n",
      "llm_load_print_meta: n_rot            = 128\n",
      "llm_load_print_meta: n_embd_head_k    = 128\n",
      "llm_load_print_meta: n_embd_head_v    = 128\n",
      "llm_load_print_meta: n_gqa            = 4\n",
      "llm_load_print_meta: n_embd_k_gqa     = 1024\n",
      "llm_load_print_meta: n_embd_v_gqa     = 1024\n",
      "llm_load_print_meta: f_norm_eps       = 0.0e+00\n",
      "llm_load_print_meta: f_norm_rms_eps   = 1.0e-05\n",
      "llm_load_print_meta: f_clamp_kqv      = 0.0e+00\n",
      "llm_load_print_meta: f_max_alibi_bias = 0.0e+00\n",
      "llm_load_print_meta: n_ff             = 14336\n",
      "llm_load_print_meta: n_expert         = 0\n",
      "llm_load_print_meta: n_expert_used    = 0\n",
      "llm_load_print_meta: pooling type     = 0\n",
      "llm_load_print_meta: rope type        = 0\n",
      "llm_load_print_meta: rope scaling     = linear\n",
      "llm_load_print_meta: freq_base_train  = 1000000.0\n",
      "llm_load_print_meta: freq_scale_train = 1\n",
      "llm_load_print_meta: n_yarn_orig_ctx  = 32768\n",
      "llm_load_print_meta: rope_finetuned   = unknown\n",
      "llm_load_print_meta: ssm_d_conv       = 0\n",
      "llm_load_print_meta: ssm_d_inner      = 0\n",
      "llm_load_print_meta: ssm_d_state      = 0\n",
      "llm_load_print_meta: ssm_dt_rank      = 0\n",
      "llm_load_print_meta: model type       = 7B\n",
      "llm_load_print_meta: model ftype      = Q5_K - Medium\n",
      "llm_load_print_meta: model params     = 7.24 B\n",
      "llm_load_print_meta: model size       = 4.78 GiB (5.67 BPW) \n",
      "llm_load_print_meta: general.name     = mistralai_mistral-7b-instruct-v0.2\n",
      "llm_load_print_meta: BOS token        = 1 '<s>'\n",
      "llm_load_print_meta: EOS token        = 2 '</s>'\n",
      "llm_load_print_meta: UNK token        = 0 '<unk>'\n",
      "llm_load_print_meta: PAD token        = 0 '<unk>'\n",
      "llm_load_print_meta: LF token         = 13 '<0x0A>'\n",
      "llm_load_tensors: ggml ctx size =    0.11 MiB\n",
      "llm_load_tensors: offloading 0 repeating layers to GPU\n",
      "llm_load_tensors: offloaded 0/33 layers to GPU\n",
      "llm_load_tensors:        CPU buffer size =  4892.99 MiB\n",
      "...................................................................................................\n",
      "llama_new_context_with_model: n_ctx      = 512\n",
      "llama_new_context_with_model: freq_base  = 1000000.0\n",
      "llama_new_context_with_model: freq_scale = 1\n",
      "llama_kv_cache_init:        CPU KV buffer size =    64.00 MiB\n",
      "llama_new_context_with_model: KV self size  =   64.00 MiB, K (f16):   32.00 MiB, V (f16):   32.00 MiB\n",
      "llama_new_context_with_model:        CPU input buffer size   =    10.01 MiB\n",
      "llama_new_context_with_model:        CPU compute buffer size =    72.00 MiB\n",
      "llama_new_context_with_model: graph splits (measure): 1\n",
      "AVX = 0 | AVX_VNNI = 0 | AVX2 = 0 | AVX512 = 0 | AVX512_VBMI = 0 | AVX512_VNNI = 0 | FMA = 0 | NEON = 0 | ARM_FMA = 0 | F16C = 0 | FP16_VA = 0 | WASM_SIMD = 0 | BLAS = 1 | SSE3 = 1 | SSSE3 = 1 | VSX = 0 | MATMUL_INT8 = 0 | \n",
      "Model metadata: {'general.quantization_version': '2', 'tokenizer.chat_template': \"{{ bos_token }}{% for message in messages %}{% if (message['role'] == 'user') != (loop.index0 % 2 == 0) %}{{ raise_exception('Conversation roles must alternate user/assistant/user/assistant/...') }}{% endif %}{% if message['role'] == 'user' %}{{ '[INST] ' + message['content'] + ' [/INST]' }}{% elif message['role'] == 'assistant' %}{{ message['content'] + eos_token}}{% else %}{{ raise_exception('Only user and assistant roles are supported!') }}{% endif %}{% endfor %}\", 'tokenizer.ggml.add_eos_token': 'false', 'tokenizer.ggml.add_bos_token': 'true', 'tokenizer.ggml.padding_token_id': '0', 'tokenizer.ggml.unknown_token_id': '0', 'tokenizer.ggml.eos_token_id': '2', 'tokenizer.ggml.bos_token_id': '1', 'tokenizer.ggml.model': 'llama', 'llama.attention.head_count_kv': '8', 'llama.context_length': '32768', 'llama.attention.head_count': '32', 'llama.rope.freq_base': '1000000.000000', 'llama.rope.dimension_count': '128', 'general.file_type': '17', 'llama.feed_forward_length': '14336', 'llama.embedding_length': '4096', 'llama.block_count': '32', 'general.architecture': 'llama', 'llama.attention.layer_norm_rms_epsilon': '0.000010', 'general.name': 'mistralai_mistral-7b-instruct-v0.2'}\n",
      "Guessed chat format: mistral-instruct\n"
     ]
    }
   ],
   "source": [
    "model = outlines.models.llamacpp(\"/Users/justinvhuang/Desktop/CSE-6242-Group-Project/prompting/mistral-7b-instruct-v0.2-gguf/mistral-7b-instruct-v0.2.Q5_K_M.gguf\")"
   ]
  },
  {
   "cell_type": "code",
   "execution_count": 5,
   "metadata": {},
   "outputs": [],
   "source": [
    "encode_kwargs = {\"normalize_embeddings\": True}\n",
    "embedding_function = HuggingFaceEmbeddings(\n",
    "    model_name='sentence-transformers/all-MiniLM-L6-v2',\n",
    "    model_kwargs={\"device\": \"cpu\"},\n",
    "    encode_kwargs=encode_kwargs,\n",
    ")"
   ]
  },
  {
   "cell_type": "code",
   "execution_count": 7,
   "metadata": {},
   "outputs": [],
   "source": [
    "new_db = FAISS.load_local(\"/Users/justinvhuang/Desktop/CSE-6242-Group-Project/vector_database_creation/faiss_anime_index_v2\", embedding_function,allow_dangerous_deserialization=True)"
   ]
  },
  {
   "cell_type": "code",
   "execution_count": 19,
   "metadata": {},
   "outputs": [],
   "source": [
    "def are_words_in_string(word_list, input_string):\n",
    "    for word in word_list:\n",
    "        if word in input_string:\n",
    "            return True\n",
    "    return False"
   ]
  },
  {
   "cell_type": "code",
   "execution_count": 27,
   "metadata": {},
   "outputs": [
    {
     "data": {
      "text/plain": [
       "[Document(page_content=\"what follows is a mad dash by not only the treasure hunters but also the inhabitants of koumi to secure anne and mary's long lost booty. all the while, however, conan, kogorou, and the police search for the one thing far greater than riches—justice.\", metadata={'anime_id': 2171, 'cast': 'UNKNOWN', 'episodes': '1.0', 'genre': 'Adventure, Comedy, Mystery', 'source': 'Manga', 'Duration': '1 hr 45 min', 'name': 'Detective Conan Movie 11: Jolly Roger in the Deep Azure', 'tokens': 'treasure pay trip chaos detective dare mad second conan send mystery big thing reef mouri robbery manga regard boy harsh azure acquaint famous hill encounter long reason booty daughter group \\n\\n discover cutlass far edogawa read sonoko roger fever anne scenic search follow movie hunt justice entertainment museum visit tourist plunge small isle mix murder jolly secure wonder join legend mary kogorou arrive lose scour friend recent clue pistol 11 water tourism deep rich bang luscious coral room island soon inhabitant good suzuki come bonnie adventure pirate hotel dash hunter great shore duo run comedy koumi house unknown police tms', 'score': 7.43, 'producer': 'Big Bang', 'studio': 'TMS Entertainment', 'licensors': 'UNKNOWN'}),\n",
       " Document(page_content='love, heaven\\'s greatest treasure went missing and to get it back, the great god decides to send his two daughters lemon and cherry, as well as their governess berry to find it. however, their search doesn\\'t go so well, mainly because they decide they like it at planet earth and prefer to work in a hamburger shop (sic!).\\n\\nin the one-episode ova, the girls end up searching for the love treasure on an exotic planet, however they find magical living plushies instead, having to fight their way through them to recover \"essence of life,\" which an evil organisation wants to use for nefarious purposes.\\n\\n(source: bakabt)', metadata={'anime_id': 10355, 'cast': 'UNKNOWN', 'episodes': '1.0', 'genre': 'Adventure, Comedy', 'source': 'Original', 'Duration': '44 min', 'name': 'Twinkle Heart: Gingakei made Todokanai', 'tokens': 'treasure ova work missing instead todokanai daughter mainly berry \\n\\n bakabt anime purpose like girl heart adventure gingakei great magical want live send life god r prefer exotic plushie find fight decide lemon sic way organisation comedy original essence unknown search earth hamburger twinkle governess nefarious source use episode recover heaven love planet cherry evil shop end', 'score': 5.41, 'producer': 'Anime R', 'studio': 'UNKNOWN', 'licensors': 'UNKNOWN'}),\n",
       " Document(page_content=\"the player can sniff and dig for items underground, including fruits, vegetables, and other items, indicated by two circles appearing in the bottom of the screen (blue for plot-related items and yellow for generic things). this ability is mandatory for the tasks, most of which requires the player to search for items; non-plot related items can be recorded in an encyclopedia owned by an npc, rewarding the player with bones. additionally, the player can fish and catch insects by successfully beating a short minigame beforehand; again, the animals gained can be exchanged with the npc for bones. bones as they are referred to, the game's currency, are also rewarded after task completion, and can be used to buy healing items, accessories, and clothing.\", metadata={'anime_id': 26323, 'cast': 'UNKNOWN', 'episodes': '1.0', 'genre': 'Drama', 'source': 'Unknown', 'Duration': '23 min', 'name': 'Hitotsu no Hana', 'tokens': 'console shock status controller exit character fruit yellow pay = navigate vegetable story plot remote fee mailbox interact special goal spot slow book return za dog snake store sick thing hub location later enemy beat deliver cause underground minigame achieve animal use howl complete receive additionally defense type bear \\n eventually Yu 8 insect hint act accessory replenish clothing \\n\\n\\n \\n\\n buy 2 stun pacific circle boris non ability bone short indefinitely journey currency item populate section failure save game environment airando crawl able free permit noWu search master inventory poisonous pupsville \\n\\n\\n  sleep screen feature generic control hitotsu reward number clear area sniff different midgame point exchange fish healing start know quest cursor npc visit explore dogu hp educational letter 2008 indicate catch playstation bark button video lose gain friend task contain gets movement certain 3 information sibling produce drama deplete force system flower hostile upgrade film hitotsunohua island walk light encyclopedia wii relate talk adventure chest player prologue dungeon base record monogatari appear food hana bat shortage include find fully successfully run aid attack 23 blue gorilla house dig unknown refer war franchise require time completion hold version mandatory gameplay reply end brief japan', 'score': 0.0, 'producer': 'UNKNOWN', 'studio': 'UNKNOWN', 'licensors': 'UNKNOWN'}),\n",
       " Document(page_content=\"just before reaching the island, however, a storm rips the ship apart; jim, gran, baboo, and the baby's self-appointed guardian, the walrus otto, arrive just after silver, his crew, and kathy, now a prisoner of the pirates. in exchange for her friends' safety, kathy offers to lead silver to the exact location of the treasure. silver, however, plans on double-crossing both jim and his own crew to get the treasure for himself.\", metadata={'anime_id': 3842, 'cast': 'Hiroshi Ikeda, Hayao Miyazaki, Minori Matsushima, Asao Koike, Hiroshi Ohkawa, Robert Louis Stevenson, Fusako Amachi, Kôsei Tomita, Naozumi Yamamoto, Takashi Iijima', 'episodes': '1.0', 'genre': 'Adventure', 'source': 'Novel', 'Duration': '1 hr 18 min', 'name': 'Doubutsu Takarajima', 'tokens': 'minori takarajima treasure sweep gag character unchecked otto man bembo mechanism map day black doubutsu infant extinct slave studio cloak legged captaincy drain appoint toei babbling manage return kathy damage away barrel night son license novel offer assistance monkey pour sea ask \\n\\n\\n\\n baron location final ensue narrowly later potion beat hide walrus   ship japanese exact care animal tomita transportation encounter \\n tell 20th storm country capture kosei work log carry promptly hang inn incapacitate cross louis crater far secret distrust mysterious 1883 miyazaki fusako inside present chase mouse assassin apart takashi monocled save iijima compensation rough ransack immediately \\n\\n\\n  usurped hiroshi accept innkeeper trigger hunt stranger voyage improvise asao money keeper stowaway council reach scheme flint sailing captain boat exchange assistant rip self know lead 1971 crossing fulfil visit stevenson alert sell share dethrone little hope casket volcano silver sleeping spider helmsman rex life arrive amachi friend plan dao granddaughter ikeda waist robert assemble instantly leave medium resolute open sacrifice bind bring reform rich baby produce recover jim try baboo wild young hayao set cell instead doubutsuBao film ohkawa room dream island people new infamous anniversary soon look repeatedly anime chairman realize path good steal koike safety direct foil adventure reveal pirate animation watch fellow base merchant guardian feisty prisoner duo dobutsu distribute steam language admiral find serve matsushima order comedy attack lake gran naozumi climb unknown discotek yamamoto engage release sink surrender intruder hold english escape crew band double quarrel suspicious power turn end gain', 'score': 6.26, 'producer': 'UNKNOWN', 'studio': 'Toei Animation', 'licensors': 'Discotek Media'}),\n",
       " Document(page_content='in a fantasy world of dungeon exploration, guilds set out on expeditions to raid dungeons, with many hoping to find the mysterious golden kingdom, which is said to be the treasure of an island dungeon.', metadata={'anime_id': 52701, 'cast': 'Emily Rudd, Satoshi Mikami, SungWon Cho, Casey Mongillo, Kentarô Kumagai, Damien C. Haas, Sayaka Senbongi, Todd Haberkorn, Asuna Tomari, Hiroshi Naka', 'episodes': 'UNKNOWN', 'genre': 'Comedy, Fantasy, Gourmet', 'source': 'Manga', 'Duration': 'Unknown', 'name': 'Dungeon Meshi', 'tokens': 'treasure satoshi guild write traverse belonging kingdom indebted story dwarf secretly attempt series 2014 reluctantly premiere kui eat supply yen slay year remain license dust 2024 manga magician \\n\\n\\n\\n senbongi having mission tim determine underground japanese cooking agree entirety 2023 use detail leader encounter january trap sayaka \\n senshi healer group defeat fantasy raid mongillo thief laio mysterious inside brainstorm exploration february save environment human danziyonfan meshi team search immediately sister \\n\\n\\n  consume gourmet hiroshi devour sungwon haas wipe trigger member red television chilchuck damien crumble digestion marcille mikami seinen dragon magic hepburn suggest hope harvesting create adaptation cook donato feel travel lose september press kentaro rudd leave enterbrain falin cho expedition promise illustrate produce elven teleport force delicious casey haberkorn set todd despite island meal tomari golden sustain light north halfle serialize anime begin kadokawa safety reenter harta world labyrinthine emily animation dungeon want magazine adventurer tallman base insane food kumagai danjon america impossible find comedy c. spur monster spellcaster swordsman touden experience ryoko sink survive naka level unsuccessfully time locksmith king escape emerge asuna party', 'score': 0.0, 'producer': 'Kadokawa', 'studio': 'Trigger', 'licensors': 'UNKNOWN'}),\n",
       " Document(page_content='in a fantasy world of dungeon exploration, guilds set out on expeditions to raid dungeons, with many hoping to find the mysterious golden kingdom, which is said to be the treasure of an island dungeon.', metadata={'anime_id': 36577, 'cast': 'Emily Rudd, Satoshi Mikami, SungWon Cho, Casey Mongillo, Kentarô Kumagai, Damien C. Haas, Sayaka Senbongi, Todd Haberkorn, Asuna Tomari, Hiroshi Naka', 'episodes': '2.0', 'genre': 'Fantasy, Gourmet', 'source': 'Manga', 'Duration': '58 sec per ep', 'name': 'Dungeon Meshi PV', 'tokens': 'treasure satoshi guild write kingdom indebted story dwarf secretly attempt series 2014 reluctantly premiere kui eat supply yen slay year remain license 2024 manga \\n\\n\\n\\n senbongi mission tim japanese cooking agree 2023 use detail leader encounter january trap sayaka \\n senshi group fantasy raid mongillo laio mysterious inside brainstorm exploration february save environment human danziyonfan meshi team sister \\n\\n\\n  consume gourmet hiroshi promotional sungwon haas trigger member red television chilchuck damien digestion marcille mikami seinen dragon magic hepburn suggest hope harvesting create adaptation cook donato feel travel video september pv press kentaro rudd leave original enterbrain falin cho expedition illustrate produce elven teleport force delicious casey haberkorn set todd island meal tomari golden sustain light north halfle serialize anime begin kadokawa safety harta world emily animation dungeon want magazine adventurer tallman base food kumagai danjon america impossible find c. monster spellcaster swordsman touden experience ryoko survive naka level unsuccessfully time locksmith escape asuna', 'score': 5.86, 'producer': 'Kadokawa', 'studio': 'Trigger, dwarf', 'licensors': 'UNKNOWN'}),\n",
       " Document(page_content='in a fantasy world of dungeon exploration, guilds set out on expeditions to raid dungeons, with many hoping to find the mysterious golden kingdom, which is said to be the treasure of an island dungeon.', metadata={'anime_id': 7243, 'cast': 'Jun Kurosawa, Kôji Yamamura', 'episodes': '1.0', 'genre': 'Avant Garde, Comedy', 'source': 'Unknown', 'Duration': '5 min', 'name': 'Suisei', 'tokens': 'treasure guild write kingdom indebted story dwarf secretly attempt series 2014 reluctantly premiere kui eat supply yen slay year remain license 2024 manga \\n\\n\\n\\n mission tim japanese agree 2023 use detail leader encounter january trap \\n senshi flow group tbs fantasy raid laio apple innumerable mysterious inside brainstorm exploration february save jun yamamura environment human danziyonfan meshi team sister \\n\\n\\n  consume trigger disappear member red television chilchuck reflect koji fish digestion marcille seinen dragon magic stream hepburn suggest hope harvesting create adaptation kurosawa cook donato feel travel september press leave illusion enterbrain falin expedition water illustrate produce elven teleport force suisei delicious avant set island meal golden sustain light north halfle serialize anime begin safety harta world mil dungeon want magazine adventurer tallman appear food danjon america impossible find comedy monster spellcaster garde unknown swordsman touden experience ryoko sky survive level unsuccessfully time locksmith escape', 'score': 4.91, 'producer': 'TBS', 'studio': 'UNKNOWN', 'licensors': 'UNKNOWN'}),\n",
       " Document(page_content=\"while otto holds off his fellow pirates (who soon surrender after realizing that silver wouldn't share with them anyway), jim chases after silver as he and his monkey helmsman, spider, are climbing towards the top of an extinct volcano where the treasure is hidden. in the end kathy sacrifices the final secret of recovering the treasure to save jim's life, but it does no good to silver; the mechanism he is told to trigger does not reveal the treasure immediately, but instead serves to drain the island volcano's crater lake. silver and spider are swept out into the sea, and the lake drains to reveal flint's sunken ship, where jim, gran, kathy and the reformed pirates find the treasure. the film ends with jim and kathy sailing away with silver's ship, while the dethroned silver and spider chase after them on improvised log boats, quarreling all the while.\", metadata={'anime_id': 3842, 'cast': 'Hiroshi Ikeda, Hayao Miyazaki, Minori Matsushima, Asao Koike, Hiroshi Ohkawa, Robert Louis Stevenson, Fusako Amachi, Kôsei Tomita, Naozumi Yamamoto, Takashi Iijima', 'episodes': '1.0', 'genre': 'Adventure', 'source': 'Novel', 'Duration': '1 hr 18 min', 'name': 'Doubutsu Takarajima', 'tokens': 'minori takarajima treasure sweep gag character unchecked otto man bembo mechanism map day black doubutsu infant extinct slave studio cloak legged captaincy drain appoint toei babbling manage return kathy damage away barrel night son license novel offer assistance monkey pour sea ask \\n\\n\\n\\n baron location final ensue narrowly later potion beat hide walrus   ship japanese exact care animal tomita transportation encounter \\n tell 20th storm country capture kosei work log carry promptly hang inn incapacitate cross louis crater far secret distrust mysterious 1883 miyazaki fusako inside present chase mouse assassin apart takashi monocled save iijima compensation rough ransack immediately \\n\\n\\n  usurped hiroshi accept innkeeper trigger hunt stranger voyage improvise asao money keeper stowaway council reach scheme flint sailing captain boat exchange assistant rip self know lead 1971 crossing fulfil visit stevenson alert sell share dethrone little hope casket volcano silver sleeping spider helmsman rex life arrive amachi friend plan dao granddaughter ikeda waist robert assemble instantly leave medium resolute open sacrifice bind bring reform rich baby produce recover jim try baboo wild young hayao set cell instead doubutsuBao film ohkawa room dream island people new infamous anniversary soon look repeatedly anime chairman realize path good steal koike safety direct foil adventure reveal pirate animation watch fellow base merchant guardian feisty prisoner duo dobutsu distribute steam language admiral find serve matsushima order comedy attack lake gran naozumi climb unknown discotek yamamoto engage release sink surrender intruder hold english escape crew band double quarrel suspicious power turn end gain', 'score': 6.26, 'producer': 'UNKNOWN', 'studio': 'Toei Animation', 'licensors': 'Discotek Media'}),\n",
       " Document(page_content='claude refuses to accept that he is this warrior, and leaves to try to find someone who can help him go home. in the next town, he learns rena is in danger from her childhood friend allen. he rushes to rescue her and finds allen under the control of a magic crystal. with the crystal destroyed, allen returns to normal. realizing the crystal is tied to the sorcery globe, and wondering if it can help him get home, claude decides to travel to el continent to investigate it and rena goes with him. along the way, they meet celine junes, a heraldic magic user and treasure hunter who tricks the pair into helping her steal the treasure from a cave. the treasure turns out to be a book written in a language none of them knows, so celine decides to stay with the pair to try to find out more about the book. the group is later joined by ashton anchors, another swordsman whom they first encounter in a cave trying to defeat a monster terrorizing a nearby village. ashton attacks a two-headed dragon,', metadata={'anime_id': 1005, 'cast': 'Rebecca Shoichet, Michael Adamthwaite, Michael Kopsa, Brent Miller, Gabe Khouth, Matt Hill, Trevor Devall, Nicole Bouma, Venus Terzo, Willow Johnson', 'episodes': '26.0', 'genre': 'Adventure, Fantasy, Sci-Fi', 'source': 'Game', 'Duration': '22 min per ep', 'name': 'Star Ocean EX', 'tokens': 'newly treasure 2001 trevor earthquake character write phase trip 1998 question story studio landing strand air michael star alternate linga series kenni sekandosuto second book return blame miller ex mayumi teardrop commander 25 year son forest manga shonen way \\n\\n\\n\\n mission later sorcery answer cause ship distract cure use famous complete hill refuse voice encounter think dentsu \\n energy continent field arlia nicole remove tokyo group strange defeat fantasy girl el discover globe adapt anchor kopsa tv help heraldic inventor live mysterious learn region problem save transport game ashton azuma gangan federation team follow \\n\\n\\n  johnson accept play episode planet love geneon control entitle cave sutori die meteorite backwards know entertainment matt disaster lanford legendary declare spawn pair expel machine o magic head claude wonder join dragon hope warrior headband legend exploit peril body sci home travel video trick kill harm lacour celine friend september rebecca terrorize tsunami june rescue leave decide tri j. large khouth 3 illustrate rena childhood afterward drama dvd danger crewmember meet try village role brent troubled young fuse bouma ensign shiyan ri- monthly leon calnus ronixis cd light normal oblivious seven serialize anime 1 gun realize steal crush actor shoichet terzo april world town tie come adventure nearby animation suta allen illness dr hunter sword base investigate precis crystal gabe numerous fi ocean language venu find spaceship fight event oshan c. attack destroy volume wake monster ace natural rush swordsman release earth stay adamthwaite king kenny user unfinished develop devall willow 1999 speak power turn deen japan sekando', 'score': 6.59, 'producer': 'TV Tokyo, Dentsu', 'studio': 'Studio Deen', 'licensors': 'Discotek Media, Geneon Entertainment USA'}),\n",
       " Document(page_content=\"upon his departure, they presented him with a choice of a large basket or a small basket as a present. being an older man, he chose the small basket as he supposed it would be the least heavy. when he arrived home, he opened the basket and discovered a large amount of treasure inside. the wife, learning of the existence of a larger basket, ran to the sparrow's inn in the hope of getting more treasure for herself. she chose the larger basket but was warned not to open it before getting home.\\nsuch was her greed that the wife could not resist opening the basket before she returned to the house. to her surprise, the box was full of deadly snakes and other monsters. they startled her so much that she tumbled all the way down the mountain, presumably to her death.\", metadata={'anime_id': 10756, 'cast': 'UNKNOWN', 'episodes': '1.0', 'genre': 'Drama', 'source': 'Original', 'Duration': 'Unknown', 'name': 'Shita-kiri Suzume', 'tokens': 'treasure multitude character surprise man avaricious day basic old story sorry deadly rique box eat send return snake precious rude choice injured thing angry way ask \\n\\n\\n\\n effect warn tale japanese tongue care greet 1917 rice living \\n eventually intention inn kiri slit poor girl discover startle earn heavy help greedy live fall choose learn short inside shita traditional present Qie save search \\n\\n\\n  telling fishing bird morning cut mountain fish presumably lead honest explore small starch little hope wife home form feel lang arrive friend literally common leave original sparrow feed large open book.the andrew bring translate drama wood continue recover woodcutter try bamboo sing arrogant film pink timber world fly come grove suzume greed waste husband dance fable jealousy kind food woman resist include find run death monster house unknown insignificant departure basket tumble time cry annoy existence locate friendship fairy suppose', 'score': 0.0, 'producer': 'UNKNOWN', 'studio': 'UNKNOWN', 'licensors': 'UNKNOWN'})]"
      ]
     },
     "execution_count": 27,
     "metadata": {},
     "output_type": "execute_result"
    }
   ],
   "source": [
    "query = \"treasure\"\n",
    "query_token = textprepo.preprocess_text(query)\n",
    "\n",
    "def filter_fn(metadata):\n",
    "    return any(word in query for word in list(query_token)) or metadata[\"score\"] > 5.0\n",
    "\n",
    "\n",
    "results = new_db.similarity_search(query, filter=filter_fn, k=10)\n",
    "results"
   ]
  },
  {
   "cell_type": "code",
   "execution_count": 35,
   "metadata": {},
   "outputs": [],
   "source": [
    "context = list(set([results[x].page_content for x in range(len(results))]))"
   ]
  },
  {
   "cell_type": "code",
   "execution_count": 36,
   "metadata": {},
   "outputs": [],
   "source": [
    "anime_id_list = set([results[x].metadata['anime_id'] for x in range(len(results))])"
   ]
  },
  {
   "cell_type": "code",
   "execution_count": 5,
   "metadata": {},
   "outputs": [
    {
     "name": "stderr",
     "output_type": "stream",
     "text": [
      "\n",
      "llama_print_timings:        load time =    9816.53 ms\n",
      "llama_print_timings:      sample time =       0.48 ms /     4 runs   (    0.12 ms per token,  8333.33 tokens per second)\n",
      "llama_print_timings: prompt eval time =    9816.43 ms /    30 tokens (  327.21 ms per token,     3.06 tokens per second)\n",
      "llama_print_timings:        eval time =     970.24 ms /     3 runs   (  323.41 ms per token,     3.09 tokens per second)\n",
      "llama_print_timings:       total time =   10809.93 ms /    33 tokens\n"
     ]
    }
   ],
   "source": [
    "\n",
    "prompt = \"\"\"You are a sentiment-labelling assistant.\n",
    "Is the following review positive or negative?\n",
    "\n",
    "Review: This restaurant is just awesome!\n",
    "\"\"\"\n",
    "\n",
    "generator = outlines.generate.choice(model, [\"Positive\", \"Negative\"])\n",
    "answer = generator(prompt)"
   ]
  },
  {
   "cell_type": "code",
   "execution_count": 6,
   "metadata": {},
   "outputs": [
    {
     "data": {
      "text/plain": [
       "'Negative'"
      ]
     },
     "execution_count": 6,
     "metadata": {},
     "output_type": "execute_result"
    }
   ],
   "source": [
    "answer"
   ]
  },
  {
   "cell_type": "code",
   "execution_count": 7,
   "metadata": {},
   "outputs": [],
   "source": [
    "class Weapon(str, Enum):\n",
    "    sword = \"sword\"\n",
    "    axe = \"axe\"\n",
    "    mace = \"mace\"\n",
    "    spear = \"spear\"\n",
    "    bow = \"bow\"\n",
    "    crossbow = \"crossbow\"\n",
    "\n",
    "\n",
    "class Armor(str, Enum):\n",
    "    leather = \"leather\"\n",
    "    chainmail = \"chainmail\"\n",
    "    plate = \"plate\"\n",
    "\n",
    "\n",
    "class Character(BaseModel):\n",
    "    name: constr(max_length=10)\n",
    "    age: int\n",
    "    armor: Armor\n",
    "    weapon: Weapon\n",
    "    strength: int"
   ]
  },
  {
   "cell_type": "code",
   "execution_count": 9,
   "metadata": {},
   "outputs": [
    {
     "name": "stderr",
     "output_type": "stream",
     "text": [
      "\n",
      "llama_print_timings:        load time =    9816.53 ms\n",
      "llama_print_timings:      sample time =       5.60 ms /    50 runs   (    0.11 ms per token,  8922.20 tokens per second)\n",
      "llama_print_timings: prompt eval time =    1910.41 ms /     6 tokens (  318.40 ms per token,     3.14 tokens per second)\n",
      "llama_print_timings:        eval time =   16059.73 ms /    49 runs   (  327.75 ms per token,     3.05 tokens per second)\n",
      "llama_print_timings:       total time =   18108.65 ms /    55 tokens\n"
     ]
    },
    {
     "name": "stdout",
     "output_type": "stream",
     "text": [
      "Character(name='Aria Stark', age=25, armor=<Armor.plate: 'plate'>, weapon=<Weapon.crossbow: 'crossbow'>, strength=90)\n"
     ]
    },
    {
     "name": "stderr",
     "output_type": "stream",
     "text": [
      "\n",
      "llama_print_timings:        load time =    9816.53 ms\n",
      "llama_print_timings:      sample time =       6.19 ms /    55 runs   (    0.11 ms per token,  8888.17 tokens per second)\n",
      "llama_print_timings: prompt eval time =    2244.06 ms /     7 tokens (  320.58 ms per token,     3.12 tokens per second)\n",
      "llama_print_timings:        eval time =   17710.00 ms /    54 runs   (  327.96 ms per token,     3.05 tokens per second)\n",
      "llama_print_timings:       total time =   20101.47 ms /    61 tokens\n"
     ]
    },
    {
     "name": "stdout",
     "output_type": "stream",
     "text": [
      "Character(name=\"Professor'\", age=53, armor=<Armor.leather: 'leather'>, weapon=<Weapon.crossbow: 'crossbow'>, strength=120)\n"
     ]
    }
   ],
   "source": [
    "# Construct structured sequence generator\n",
    "generator = outlines.generate.json(model, Character)\n",
    "\n",
    "# Draw a sample\n",
    "rng = torch.Generator(device=\"cpu\")\n",
    "rng.manual_seed(789001)\n",
    "\n",
    "character = generator(\"Give me a character description\", rng=rng)\n",
    "\n",
    "print(repr(character))\n",
    "# Character(name='Anderson', age=28, armor=<Armor.chainmail: 'chainmail'>, weapon=<Weapon.sword: 'sword'>, strength=8)\n",
    "\n",
    "character = generator(\"Give me an interesting character description\", rng=rng)\n",
    "\n",
    "print(repr(character))"
   ]
  },
  {
   "cell_type": "code",
   "execution_count": 10,
   "metadata": {},
   "outputs": [
    {
     "name": "stderr",
     "output_type": "stream",
     "text": [
      "\n",
      "llama_print_timings:        load time =    9816.53 ms\n",
      "llama_print_timings:      sample time =      12.81 ms /   100 runs   (    0.13 ms per token,  7807.62 tokens per second)\n",
      "llama_print_timings: prompt eval time =    6002.63 ms /    49 tokens (  122.50 ms per token,     8.16 tokens per second)\n",
      "llama_print_timings:        eval time =   32582.94 ms /    99 runs   (  329.12 ms per token,     3.04 tokens per second)\n",
      "llama_print_timings:       total time =   38843.40 ms /   148 tokens\n"
     ]
    }
   ],
   "source": [
    "examples = [\n",
    "    (\"The food was disgusting\", \"Negative\"),\n",
    "    (\"We had a fantastic night\", \"Positive\"),\n",
    "    (\"Recommended\", \"Positive\"),\n",
    "    (\"The waiter was rude\", \"Negative\")\n",
    "]\n",
    "\n",
    "@outlines.prompt\n",
    "def labelling(to_label, examples):\n",
    "    \"\"\"You are a sentiment-labelling assistant.\n",
    "\n",
    "    {% for example in examples %}\n",
    "    {{ example[0] }} // {{ example[1] }}\n",
    "    {% endfor %}\n",
    "    {{ to_label }} //\n",
    "    \"\"\"\n",
    "\n",
    "prompt = labelling(\"Just awesome\", examples)\n",
    "answer = outlines.generate.text(model)(prompt, max_tokens=100)"
   ]
  },
  {
   "cell_type": "code",
   "execution_count": 11,
   "metadata": {},
   "outputs": [
    {
     "data": {
      "text/plain": [
       "\" Positive\\n\\nThese sentences have clear positive or negative sentiments, and it's easy for me to determine the label based on the context. However, sometimes the sentiment can be more nuanced, and it may require a deeper understanding of the context to accurately label it. In such cases, additional information can be helpful to make an informed decision. For example:\\n\\nThe dish looked beautiful but didn't taste good // Neutral (visually appealing but not satisfying taste-wise\""
      ]
     },
     "execution_count": 11,
     "metadata": {},
     "output_type": "execute_result"
    }
   ],
   "source": [
    "answer"
   ]
  },
  {
   "cell_type": "code",
   "execution_count": 12,
   "metadata": {},
   "outputs": [],
   "source": [
    "@outlines.prompt\n",
    "def build_reAct_prompt(question):\n",
    "    \"\"\"What is the elevation range for the area that the eastern sector of the Colorado orogeny extends into?\n",
    "    Tho 1: I need to search Colorado orogeny, find the area that the eastern sector of the Colorado ...\n",
    "    Act 2: Search 'Colorado orogeny'\n",
    "    Obs 2: The Colorado orogeny was an episode of mountain building (an orogeny) ...\n",
    "    Tho 3: It does not mention the eastern sector. So I need to look up eastern sector.\n",
    "    ...\n",
    "    Tho 4: High Plains rise in elevation from around 1,800 to 7,000 ft, so the answer is 1,800 to 7,000 ft.\n",
    "    Act 5: Finish '1,800 to 7,000 ft'\n",
    "    {{ question }}\n",
    "    \"\"\"\n",
    "\n",
    "\n",
    "@outlines.prompt\n",
    "def add_mode(i, mode, result, prompt):\n",
    "    \"\"\"{{ prompt }}\n",
    "    {{ mode }} {{ i }}: {{ result }}\n",
    "    \"\"\"\n",
    "\n",
    "\n",
    "def search_wikipedia(query: str):\n",
    "    url = f\"https://en.wikipedia.org/w/api.php?format=json&action=query&prop=extracts&exintro&explaintext&redirects=1&titles={query}&origin=*\"\n",
    "    response = requests.get(url)\n",
    "    page = response.json()[\"query\"][\"pages\"]\n",
    "    return \".\".join(list(page.values())[0][\"extract\"].split(\".\")[:2])"
   ]
  },
  {
   "cell_type": "code",
   "execution_count": 13,
   "metadata": {},
   "outputs": [],
   "source": [
    "prompt = build_reAct_prompt(\"Where is Apple Computers headquarted? \")\n",
    "complete = outlines.generate.text(model)"
   ]
  },
  {
   "cell_type": "code",
   "execution_count": 16,
   "metadata": {},
   "outputs": [
    {
     "data": {
      "text/plain": [
       "<llama_cpp.llama.Llama at 0x7fdcc02df490>"
      ]
     },
     "execution_count": 16,
     "metadata": {},
     "output_type": "execute_result"
    }
   ],
   "source": []
  },
  {
   "cell_type": "code",
   "execution_count": 15,
   "metadata": {},
   "outputs": [
    {
     "ename": "AttributeError",
     "evalue": "'LlamaSequenceGenerator' object has no attribute 'generate_choice'",
     "output_type": "error",
     "traceback": [
      "\u001b[0;31m---------------------------------------------------------------------------\u001b[0m",
      "\u001b[0;31mAttributeError\u001b[0m                            Traceback (most recent call last)",
      "Cell \u001b[0;32mIn[15], line 2\u001b[0m\n\u001b[1;32m      1\u001b[0m \u001b[38;5;28;01mfor\u001b[39;00m i \u001b[38;5;129;01min\u001b[39;00m \u001b[38;5;28mrange\u001b[39m(\u001b[38;5;241m1\u001b[39m, \u001b[38;5;241m10\u001b[39m):\n\u001b[0;32m----> 2\u001b[0m     mode \u001b[38;5;241m=\u001b[39m \u001b[43mcomplete\u001b[49m\u001b[38;5;241;43m.\u001b[39;49m\u001b[43mgenerate_choice\u001b[49m(prompt, choices\u001b[38;5;241m=\u001b[39m[\u001b[38;5;124m\"\u001b[39m\u001b[38;5;124mTho\u001b[39m\u001b[38;5;124m\"\u001b[39m, \u001b[38;5;124m\"\u001b[39m\u001b[38;5;124mAct\u001b[39m\u001b[38;5;124m\"\u001b[39m], max_tokens\u001b[38;5;241m=\u001b[39m\u001b[38;5;241m128\u001b[39m)\n\u001b[1;32m      3\u001b[0m     prompt \u001b[38;5;241m=\u001b[39m add_mode(i, mode, \u001b[38;5;124m\"\u001b[39m\u001b[38;5;124m\"\u001b[39m, prompt)\n\u001b[1;32m      5\u001b[0m     \u001b[38;5;28;01mif\u001b[39;00m mode \u001b[38;5;241m==\u001b[39m \u001b[38;5;124m\"\u001b[39m\u001b[38;5;124mTho\u001b[39m\u001b[38;5;124m\"\u001b[39m:\n",
      "\u001b[0;31mAttributeError\u001b[0m: 'LlamaSequenceGenerator' object has no attribute 'generate_choice'"
     ]
    }
   ],
   "source": [
    "for i in range(1, 10):\n",
    "    mode = complete.generate_choice(prompt, choices=[\"Tho\", \"Act\"], max_tokens=128)\n",
    "    prompt = add_mode(i, mode, \"\", prompt)\n",
    "\n",
    "    if mode == \"Tho\":\n",
    "        thought = complete(prompt, stop_at=\"\\n\", max_tokens=128)\n",
    "        prompt += f\"{thought}\"\n",
    "    elif mode == \"Act\":\n",
    "        action = complete.generate_choice(\n",
    "            prompt, choices=[\"Search\", \"Finish\"], max_tokens=128\n",
    "        )\n",
    "        prompt += f\"{action} '\"\n",
    "\n",
    "        subject = complete(\n",
    "            prompt, stop_at=[\"'\"], max_tokens=128\n",
    "        )  # Apple Computers headquartered\n",
    "        subject = \" \".join(subject.split()[:2])\n",
    "        prompt += f\"{subject}'\"\n",
    "\n",
    "        if action == \"Search\":\n",
    "            result = search_wikipedia(subject)\n",
    "            prompt = add_mode(i, \"Obs\", result, prompt)\n",
    "        else:\n",
    "            break"
   ]
  },
  {
   "cell_type": "code",
   "execution_count": 17,
   "metadata": {},
   "outputs": [],
   "source": [
    "@outlines.prompt\n",
    "def take_order(order):\n",
    "    \"\"\"You are the owner of a pizza parlor. Customers \\\n",
    "    send you orders from which you need to extract:\n",
    "\n",
    "    1. The pizza that is ordered\n",
    "    2. The number of pizzas\n",
    "\n",
    "    # EXAMPLE\n",
    "\n",
    "    ORDER: I would like one Margherita pizza\n",
    "    RESULT: {\"pizza\": \"Margherita\", \"number\": 1}\n",
    "\n",
    "    # OUTPUT INSTRUCTIONS\n",
    "\n",
    "    Answer in valid JSON. Here are the different objects relevant for the output:\n",
    "\n",
    "    Order:\n",
    "        pizza (str): name of the pizza\n",
    "        number (int): number of pizzas\n",
    "\n",
    "    Return a valid JSON of type \"Order\"\n",
    "\n",
    "    # OUTPUT\n",
    "\n",
    "    ORDER: {{ order }}\n",
    "    RESULT: \"\"\""
   ]
  },
  {
   "cell_type": "code",
   "execution_count": 18,
   "metadata": {},
   "outputs": [],
   "source": [
    "from enum import Enum\n",
    "from pydantic import BaseModel\n",
    "\n",
    "class Pizza(str, Enum):\n",
    "    margherita = \"Margherita\"\n",
    "    pepperonni = \"Pepperoni\"\n",
    "    calzone = \"Calzone\"\n",
    "\n",
    "class Order(BaseModel):\n",
    "    pizza: Pizza\n",
    "    number: int"
   ]
  },
  {
   "cell_type": "code",
   "execution_count": 19,
   "metadata": {},
   "outputs": [
    {
     "name": "stderr",
     "output_type": "stream",
     "text": [
      "\n",
      "llama_print_timings:        load time =    9816.53 ms\n",
      "llama_print_timings:      sample time =       1.62 ms /    17 runs   (    0.10 ms per token, 10474.43 tokens per second)\n",
      "llama_print_timings: prompt eval time =   16551.35 ms /   180 tokens (   91.95 ms per token,    10.88 tokens per second)\n",
      "llama_print_timings:        eval time =    5247.16 ms /    16 runs   (  327.95 ms per token,     3.05 tokens per second)\n",
      "llama_print_timings:       total time =   21842.41 ms /   196 tokens\n",
      "\n",
      "llama_print_timings:        load time =    9816.53 ms\n",
      "llama_print_timings:      sample time =       1.75 ms /    18 runs   (    0.10 ms per token, 10262.26 tokens per second)\n",
      "llama_print_timings: prompt eval time =   15540.05 ms /   168 tokens (   92.50 ms per token,    10.81 tokens per second)\n",
      "llama_print_timings:        eval time =    5773.70 ms /    17 runs   (  339.63 ms per token,     2.94 tokens per second)\n",
      "llama_print_timings:       total time =   21360.72 ms /   185 tokens\n"
     ]
    },
    {
     "name": "stdout",
     "output_type": "stream",
     "text": [
      "[Order(pizza=<Pizza.pepperonni: 'Pepperoni'>, number=2), Order(pizza=<Pizza.margherita: 'Margherita'>, number=12)]\n"
     ]
    }
   ],
   "source": [
    "orders = [\n",
    "    \"Hi! I would like to order two pepperonni pizzas and would like them in 30mins.\",\n",
    "    \"Is it possible to get 12 margheritas?\"\n",
    "]\n",
    "prompts = [take_order(order) for order in orders]\n",
    "\n",
    "generator = outlines.generate.json(model, Order)\n",
    "\n",
    "results = generator(prompts)\n",
    "print(results)"
   ]
  },
  {
   "cell_type": "code",
   "execution_count": 20,
   "metadata": {},
   "outputs": [],
   "source": [
    "@outlines.prompt\n",
    "def customer_support(request):\n",
    "    \"\"\"You are an experienced customer success manager.\n",
    "\n",
    "    Given a request from a client, you need to determine when the\n",
    "    request is urgent using the label \"URGENT\" or when it can wait\n",
    "    a little with the label \"STANDARD\".\n",
    "\n",
    "    # Examples\n",
    "\n",
    "    Request: \"How are you?\"\n",
    "    Label: STANDARD\n",
    "\n",
    "    Request: \"I need this fixed immediately!\"\n",
    "    Label: URGENT\n",
    "\n",
    "    # TASK\n",
    "\n",
    "    Request: {{ request }}\n",
    "    Label: \"\"\""
   ]
  },
  {
   "cell_type": "code",
   "execution_count": 21,
   "metadata": {},
   "outputs": [
    {
     "ename": "ModuleNotFoundError",
     "evalue": "No module named 'outlines.generate.samplers'",
     "output_type": "error",
     "traceback": [
      "\u001b[0;31m---------------------------------------------------------------------------\u001b[0m",
      "\u001b[0;31mModuleNotFoundError\u001b[0m                       Traceback (most recent call last)",
      "Cell \u001b[0;32mIn[21], line 1\u001b[0m\n\u001b[0;32m----> 1\u001b[0m \u001b[38;5;28;01mfrom\u001b[39;00m \u001b[38;5;21;01moutlines\u001b[39;00m\u001b[38;5;21;01m.\u001b[39;00m\u001b[38;5;21;01mgenerate\u001b[39;00m\u001b[38;5;21;01m.\u001b[39;00m\u001b[38;5;21;01msamplers\u001b[39;00m \u001b[38;5;28;01mimport\u001b[39;00m greedy\n\u001b[1;32m      3\u001b[0m generator \u001b[38;5;241m=\u001b[39m outlines\u001b[38;5;241m.\u001b[39mgenerate\u001b[38;5;241m.\u001b[39mchoice(model, [\u001b[38;5;124m\"\u001b[39m\u001b[38;5;124mURGENT\u001b[39m\u001b[38;5;124m\"\u001b[39m, \u001b[38;5;124m\"\u001b[39m\u001b[38;5;124mSTANDARD\u001b[39m\u001b[38;5;124m\"\u001b[39m], sampler\u001b[38;5;241m=\u001b[39mgreedy)\n",
      "\u001b[0;31mModuleNotFoundError\u001b[0m: No module named 'outlines.generate.samplers'"
     ]
    }
   ],
   "source": [
    "from outlines.generate.samplers import greedy\n",
    "\n",
    "generator = outlines.generate.choice(model, [\"URGENT\", \"STANDARD\"], sampler=greedy)"
   ]
  },
  {
   "cell_type": "code",
   "execution_count": 23,
   "metadata": {},
   "outputs": [
    {
     "ename": "ImportError",
     "evalue": "cannot import name 'greedy' from 'outlines.generate' (/Users/justinvhuang/miniconda3/envs/langchain/lib/python3.10/site-packages/outlines/generate/__init__.py)",
     "output_type": "error",
     "traceback": [
      "\u001b[0;31m---------------------------------------------------------------------------\u001b[0m",
      "\u001b[0;31mImportError\u001b[0m                               Traceback (most recent call last)",
      "Cell \u001b[0;32mIn[23], line 1\u001b[0m\n\u001b[0;32m----> 1\u001b[0m \u001b[38;5;28;01mfrom\u001b[39;00m \u001b[38;5;21;01moutlines\u001b[39;00m\u001b[38;5;21;01m.\u001b[39;00m\u001b[38;5;21;01mgenerate\u001b[39;00m \u001b[38;5;28;01mimport\u001b[39;00m greedy\n",
      "\u001b[0;31mImportError\u001b[0m: cannot import name 'greedy' from 'outlines.generate' (/Users/justinvhuang/miniconda3/envs/langchain/lib/python3.10/site-packages/outlines/generate/__init__.py)"
     ]
    }
   ],
   "source": [
    "from outlines.generate import greedy"
   ]
  },
  {
   "cell_type": "code",
   "execution_count": null,
   "metadata": {},
   "outputs": [],
   "source": []
  }
 ],
 "metadata": {
  "kernelspec": {
   "display_name": "langchain",
   "language": "python",
   "name": "python3"
  },
  "language_info": {
   "codemirror_mode": {
    "name": "ipython",
    "version": 3
   },
   "file_extension": ".py",
   "mimetype": "text/x-python",
   "name": "python",
   "nbconvert_exporter": "python",
   "pygments_lexer": "ipython3",
   "version": "3.10.13"
  }
 },
 "nbformat": 4,
 "nbformat_minor": 2
}
