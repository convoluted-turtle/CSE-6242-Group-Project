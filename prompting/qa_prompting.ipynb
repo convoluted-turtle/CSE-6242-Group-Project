{
 "cells": [
  {
   "cell_type": "code",
   "execution_count": 2,
   "metadata": {},
   "outputs": [],
   "source": [
    "import sys \n",
    "sys.path.append('/Users/justinvhuang/Desktop/CSE-6242-Group-Project')"
   ]
  },
  {
   "cell_type": "code",
   "execution_count": 3,
   "metadata": {},
   "outputs": [],
   "source": [
    "from langchain.embeddings import HuggingFaceEmbeddings\n",
    "from langchain_community.vectorstores import FAISS\n",
    "from langchain_community.vectorstores import Chroma\n",
    "from utils.textpreprocessing import TextPreprocessor"
   ]
  },
  {
   "cell_type": "code",
   "execution_count": 4,
   "metadata": {},
   "outputs": [],
   "source": [
    "textprepo = TextPreprocessor()"
   ]
  },
  {
   "cell_type": "code",
   "execution_count": 5,
   "metadata": {},
   "outputs": [],
   "source": [
    "encode_kwargs = {\"normalize_embeddings\": True}\n",
    "embedding_function = HuggingFaceEmbeddings(\n",
    "    model_name='sentence-transformers/all-MiniLM-L6-v2',\n",
    "    model_kwargs={\"device\": \"cpu\"},\n",
    "    encode_kwargs=encode_kwargs,\n",
    ")"
   ]
  },
  {
   "cell_type": "code",
   "execution_count": 6,
   "metadata": {},
   "outputs": [],
   "source": [
    "db_faiss = FAISS.load_local(\"/Users/justinvhuang/Desktop/CSE-6242-Group-Project/vector_database_creation/faiss_anime_index_v3\", embeddings = embedding_function)"
   ]
  },
  {
   "cell_type": "code",
   "execution_count": 7,
   "metadata": {},
   "outputs": [],
   "source": [
    "import yaml\n",
    "\n",
    "# Load API key from config.yaml\n",
    "with open(\"/Users/justinvhuang/Desktop/CSE-6242-Group-Project/app/config.yaml\", \"r\") as file:\n",
    "    config = yaml.safe_load(file)\n",
    "\n",
    "api_key = config[\"api_key\"]"
   ]
  },
  {
   "cell_type": "code",
   "execution_count": 102,
   "metadata": {},
   "outputs": [],
   "source": [
    "import google.generativeai as genai\n",
    "userdata = {\"GOOGLE_API_KEY\": api_key}\n",
    "GOOGLE_API_KEY=userdata.get('GOOGLE_API_KEY')\n",
    "genai.configure(api_key=GOOGLE_API_KEY)"
   ]
  },
  {
   "cell_type": "code",
   "execution_count": 103,
   "metadata": {},
   "outputs": [],
   "source": [
    "#query_token = textprepo.preprocess_text(query)\n",
    "\n",
    "def filter_tokens(metadata):\n",
    "        metadata_tokens = metadata.get(\"tokens\", [])\n",
    "        return any(token in metadata_tokens for token in query_token) or metadata[\"score\"] > 5.0\n"
   ]
  },
  {
   "cell_type": "code",
   "execution_count": 104,
   "metadata": {},
   "outputs": [],
   "source": [
    "retriever = db_faiss.as_retriever(search_kwargs={\"k\": 50, \"filter\": filter_tokens})"
   ]
  },
  {
   "cell_type": "code",
   "execution_count": 105,
   "metadata": {},
   "outputs": [],
   "source": [
    "from langchain import hub\n",
    "from langchain_core.output_parsers import StrOutputParser\n",
    "from langchain_core.runnables import RunnablePassthrough\n",
    "from langchain_google_genai import ChatGoogleGenerativeAI\n"
   ]
  },
  {
   "cell_type": "code",
   "execution_count": 106,
   "metadata": {},
   "outputs": [],
   "source": [
    "llm = ChatGoogleGenerativeAI(model=\"gemini-pro\", temperature=0,google_api_key = GOOGLE_API_KEY)"
   ]
  },
  {
   "cell_type": "code",
   "execution_count": 107,
   "metadata": {},
   "outputs": [],
   "source": [
    "def format_docs(docs):\n",
    "    return \"\\n\\n\".join(doc.page_content for doc in docs)\n"
   ]
  },
  {
   "cell_type": "code",
   "execution_count": 117,
   "metadata": {},
   "outputs": [],
   "source": [
    "from langchain_core.prompts import PromptTemplate\n",
    "\n",
    "template = \"\"\"You are an anime afficinado who went deep weeb under your mothers basement who knows all about anime and japanese culture. \n",
    "Use the following pieces of context to summarize different animes at the end.\n",
    "Use only use stuff from the context to answer the answer and summarize the question. \n",
    "Recommend up to 5 anime and provide a one sentence description for each anime.\n",
    "Always say \"Thanks for using the anime recommender from Casual Correlations!\" at the end of the answer.\n",
    "\n",
    "Below is an example\n",
    "```\n",
    "Question: can you recommend me 5 animes from the 90\n",
    "\n",
    "Summary: \n",
    "\n",
    "1. Neon Genesis Evangelion: A group of teenagers pilot giant robots to protect humanity from mysterious creatures known as Angels, in a series renowned for its complex characters and psychological themes.\n",
    "\n",
    "2. Cowboy Bebop: This space-western series follows the adventures of a group of bounty hunters aboard the spaceship Bebop, with a jazzy soundtrack and stylish animation.\n",
    "\n",
    "3. Dragon Ball Z: Goku and his friends defend Earth from powerful foes in this action-packed series that became a major phenomenon.\n",
    "\n",
    "4. Sailor Moon: Usagi Tsukino transforms into the magical warrior Sailor Moon to battle evil forces and protect the world, known for its empowering themes and strong female characters.\n",
    "\n",
    "5. Ghost in the Shell: Major Motoko Kusanagi and her team investigate cybercrimes in a future where humanity is interconnected with technology, exploring questions of identity and consciousness.\n",
    "\n",
    "Thanks for using the anime recommender from Casual Correlations!\n",
    "\n",
    "Question: what are some animes from studio ghibli\n",
    "\n",
    "1. My Neighbor Totoro (1988): Directed by Hayao Miyazaki, this heartwarming tale follows two young sisters who encounter friendly forest spirits in rural Japan.\n",
    "\n",
    "2. Spirited Away (2001): Also directed by Hayao Miyazaki, Spirited Away tells the story of a young girl named Chihiro who becomes trapped in a mysterious and magical world, where she must work in a bathhouse for spirits to rescue her parents.\n",
    "\n",
    "3. Princess Mononoke (1997): Directed by Hayao Miyazaki, this epic fantasy film explores the conflict between industrialization and nature, as a young prince becomes entangled in a struggle between forest gods and human settlers.\n",
    "\n",
    "4. Howl's Moving Castle (2004): Directed by Hayao Miyazaki, this enchanting film follows a young woman named Sophie who is cursed by a witch and seeks refuge in the moving castle of the wizard Howl.\n",
    "\n",
    "5. Kiki's Delivery Service (1989): Directed by Hayao Miyazaki, this charming film follows a young witch named Kiki who moves to a new town and starts a delivery service using her flying broomstick.\n",
    "\n",
    "Thanks for using the anime recommender from Casual Correlations!\n",
    "\n",
    "Question: what are some animes similar to one piece\n",
    "\n",
    "1. Fairy Tail: This series follows the adventures of Natsu Dragneel and his friends in the Fairy Tail guild as they take on various quests and battles in the magical land of Fiore. Like One Piece, it features a diverse cast of characters, epic battles, and a strong sense of camaraderie.\n",
    "\n",
    "2. Naruto: Naruto follows the journey of Naruto Uzumaki, a young ninja with dreams of becoming the strongest ninja and leader of his village, the Hokage. It features a similar blend of action, humor, and heartfelt moments, as well as a focus on friendship and determination.\n",
    "\n",
    "3. Hunter x Hunter: This series follows Gon Freecss, a young boy who aspires to become a Hunter like his father, as he embarks on various adventures and challenges in search of his father and his own identity. It shares themes of friendship, adventure, and personal growth with One Piece.\n",
    "\n",
    "4. Bleach: Bleach follows Ichigo Kurosaki, a teenager with the ability to see ghosts, as he becomes a Soul Reaper and battles evil spirits known as Hollows. Like One Piece, it features intense battles, supernatural elements, and a large cast of characters.\n",
    "\n",
    "5. One Punch Man: While it's more of a parody of traditional shonen anime, One Punch Man shares some similarities with One Piece in its action-packed battles and larger-than-life characters. It follows Saitama, a hero who can defeat any opponent with a single punch, as he seeks a worthy opponent and navigates the world of superheroes.\n",
    "\n",
    "Thanks for using the anime recommender from Casual Correlations!\n",
    "```\n",
    "\n",
    "{context}\n",
    "\n",
    "Question: {question}\n",
    "\n",
    "Summary:\"\"\"\n",
    "custom_rag_prompt = PromptTemplate.from_template(template)"
   ]
  },
  {
   "cell_type": "code",
   "execution_count": 118,
   "metadata": {},
   "outputs": [],
   "source": [
    "rag_chain = (\n",
    "    {\"context\": retriever | format_docs, \"question\": RunnablePassthrough()}\n",
    "    | custom_rag_prompt\n",
    "    | llm\n",
    "    | StrOutputParser()\n",
    ")"
   ]
  },
  {
   "cell_type": "code",
   "execution_count": 120,
   "metadata": {},
   "outputs": [
    {
     "name": "stdout",
     "output_type": "stream",
     "text": [
      "1. My Neighbor Totoro (1988): Directed by Hayao Miyazaki, this heartwarming tale follows two young sisters who encounter friendly forest spirits in rural Japan.\n",
      "\n",
      "2. Spirited Away (2001): Also directed by Hayao Miyazaki, Spirited Away tells the story of a young girl named Chihiro who becomes trapped in a mysterious and magical world, where she must work in a bathhouse for spirits to rescue her parents.\n",
      "\n",
      "3. Princess Mononoke (1997): Directed by Hayao Miyazaki, this epic fantasy film explores the conflict between industrialization and nature, as a young prince becomes entangled in a struggle between forest gods and human settlers.\n",
      "\n",
      "4. Howl's Moving Castle (2004): Directed by Hayao Miyazaki, this enchanting film follows a young woman named Sophie who is cursed by a witch and seeks refuge in the moving castle of the wizard Howl.\n",
      "\n",
      "5. Kiki's Delivery Service (1989): Directed by Hayao Miyazaki, this charming film follows a young witch named Kiki who moves to a new town and starts a delivery service using her flying broomstick.\n",
      "\n",
      "Thanks for using the anime recommender from Casual Correlations!\n"
     ]
    }
   ],
   "source": [
    "query = 'what are some anime like totoro'\n",
    "query_token = textprepo.preprocess_text(query)\n",
    "print(rag_chain.invoke(query))"
   ]
  },
  {
   "cell_type": "code",
   "execution_count": null,
   "metadata": {},
   "outputs": [],
   "source": []
  }
 ],
 "metadata": {
  "kernelspec": {
   "display_name": "langchain",
   "language": "python",
   "name": "python3"
  },
  "language_info": {
   "codemirror_mode": {
    "name": "ipython",
    "version": 3
   },
   "file_extension": ".py",
   "mimetype": "text/x-python",
   "name": "python",
   "nbconvert_exporter": "python",
   "pygments_lexer": "ipython3",
   "version": "3.10.13"
  }
 },
 "nbformat": 4,
 "nbformat_minor": 2
}
