{
 "cells": [
  {
   "cell_type": "code",
   "execution_count": 1,
   "metadata": {},
   "outputs": [],
   "source": [
    "import cornac\n",
    "from cornac.eval_methods import RatioSplit\n",
    "from cornac.metrics import MAE, RMSE, Precision, Recall, NDCG, AUC, MAP\n",
    "import pandas as pd"
   ]
  },
  {
   "cell_type": "code",
   "execution_count": 2,
   "metadata": {},
   "outputs": [],
   "source": [
    "df = pd.read_csv(r\"C:\\Users\\jvhua\\OneDrive\\Desktop\\CSE-6242-Group-Project\\users-score-2023.csv\")"
   ]
  },
  {
   "cell_type": "code",
   "execution_count": 3,
   "metadata": {},
   "outputs": [],
   "source": [
    "anime_count = df.groupby('user_id')['anime_id'].count()\n",
    " \n",
    "user_ids_to_drop = anime_count[anime_count < 100].index\n",
    " \n",
    "filtered_df = df[~df['user_id'].isin(user_ids_to_drop)]"
   ]
  },
  {
   "cell_type": "code",
   "execution_count": 4,
   "metadata": {},
   "outputs": [],
   "source": [
    "data = filtered_df[['user_id', 'anime_id', 'rating']].reset_index(drop = True)"
   ]
  },
  {
   "cell_type": "code",
   "execution_count": 5,
   "metadata": {},
   "outputs": [],
   "source": [
    "data['rating'] = data['rating'].astype(\"float\")"
   ]
  },
  {
   "cell_type": "code",
   "execution_count": 6,
   "metadata": {},
   "outputs": [],
   "source": [
    "# Convert DataFrame to list of tuples\n",
    "data_tuples = list(data.itertuples(index=False, name=None))"
   ]
  },
  {
   "cell_type": "code",
   "execution_count": 7,
   "metadata": {},
   "outputs": [
    {
     "name": "stdout",
     "output_type": "stream",
     "text": [
      "rating_threshold = 1.0\n",
      "exclude_unknowns = True\n",
      "---\n",
      "Training data:\n",
      "Number of users = 78787\n",
      "Number of items = 16113\n",
      "Number of ratings = 15463935\n",
      "Max rating = 10.0\n",
      "Min rating = 1.0\n",
      "Global mean = 7.5\n",
      "---\n",
      "Test data:\n",
      "Number of users = 78787\n",
      "Number of items = 16113\n",
      "Number of ratings = 3865577\n",
      "Number of unknown users = 0\n",
      "Number of unknown items = 0\n",
      "---\n",
      "Total users = 78787\n",
      "Total items = 16113\n"
     ]
    }
   ],
   "source": [
    "K = 50  # number of nearest neighbors\n",
    "\n",
    "# Define an evaluation method to split feedback into train and test sets\n",
    "ratio_split = RatioSplit(\n",
    "    data=data_tuples, test_size=0.2, exclude_unknowns=True, verbose=True, seed=123\n",
    ")"
   ]
  },
  {
   "cell_type": "code",
   "execution_count": 8,
   "metadata": {},
   "outputs": [],
   "source": [
    "# ItemKNN methods\n",
    "item_knn_cosine = cornac.models.ItemKNN(k=K, similarity=\"cosine\", name=\"ItemKNN-Cosine\")\n",
    "item_knn_pearson = cornac.models.ItemKNN(\n",
    "    k=K, similarity=\"pearson\", name=\"ItemKNN-Pearson\"\n",
    ")\n",
    "item_knn_adjusted = cornac.models.ItemKNN(\n",
    "    k=K, similarity=\"cosine\", mean_centered=True, name=\"ItemKNN-AdjustedCosine\"\n",
    ")"
   ]
  },
  {
   "cell_type": "code",
   "execution_count": 12,
   "metadata": {},
   "outputs": [
    {
     "name": "stdout",
     "output_type": "stream",
     "text": [
      "\n",
      "[ItemKNN-Cosine] Training started!\n"
     ]
    },
    {
     "data": {
      "application/vnd.jupyter.widget-view+json": {
       "model_id": "33403b13c0e1409aa5e07c494ff6c716",
       "version_major": 2,
       "version_minor": 0
      },
      "text/plain": [
       "  0%|          | 0/16113 [00:00<?, ?it/s]"
      ]
     },
     "metadata": {},
     "output_type": "display_data"
    },
    {
     "name": "stdout",
     "output_type": "stream",
     "text": [
      "\n",
      "[ItemKNN-Cosine] Evaluation started!\n"
     ]
    },
    {
     "data": {
      "application/vnd.jupyter.widget-view+json": {
       "model_id": "ccb756bfb2064a1b87a08d0609cd0db6",
       "version_major": 2,
       "version_minor": 0
      },
      "text/plain": [
       "Rating:   0%|          | 0/3865577 [00:00<?, ?it/s]"
      ]
     },
     "metadata": {},
     "output_type": "display_data"
    },
    {
     "data": {
      "application/vnd.jupyter.widget-view+json": {
       "model_id": "413d9b3ee3e4429f9d2b15e61e6ba2d5",
       "version_major": 2,
       "version_minor": 0
      },
      "text/plain": [
       "Ranking:   0%|          | 0/78787 [00:00<?, ?it/s]"
      ]
     },
     "metadata": {},
     "output_type": "display_data"
    },
    {
     "name": "stdout",
     "output_type": "stream",
     "text": [
      "\n",
      "[ItemKNN-Pearson] Training started!\n"
     ]
    },
    {
     "data": {
      "application/vnd.jupyter.widget-view+json": {
       "model_id": "bfc33d033a3c4b5d89bf62729c5c0e4d",
       "version_major": 2,
       "version_minor": 0
      },
      "text/plain": [
       "  0%|          | 0/16113 [00:00<?, ?it/s]"
      ]
     },
     "metadata": {},
     "output_type": "display_data"
    },
    {
     "name": "stdout",
     "output_type": "stream",
     "text": [
      "\n",
      "[ItemKNN-Pearson] Evaluation started!\n"
     ]
    },
    {
     "data": {
      "application/vnd.jupyter.widget-view+json": {
       "model_id": "9a8848fd2cb24de2b031d72e91de1ee8",
       "version_major": 2,
       "version_minor": 0
      },
      "text/plain": [
       "Rating:   0%|          | 0/3865577 [00:00<?, ?it/s]"
      ]
     },
     "metadata": {},
     "output_type": "display_data"
    },
    {
     "data": {
      "application/vnd.jupyter.widget-view+json": {
       "model_id": "2c8222f79ddd44399e1b81e7162e8821",
       "version_major": 2,
       "version_minor": 0
      },
      "text/plain": [
       "Ranking:   0%|          | 0/78787 [00:00<?, ?it/s]"
      ]
     },
     "metadata": {},
     "output_type": "display_data"
    },
    {
     "name": "stdout",
     "output_type": "stream",
     "text": [
      "\n",
      "[ItemKNN-AdjustedCosine] Training started!\n"
     ]
    },
    {
     "data": {
      "application/vnd.jupyter.widget-view+json": {
       "model_id": "d113ea639be1422285f71d7e5cdff92a",
       "version_major": 2,
       "version_minor": 0
      },
      "text/plain": [
       "  0%|          | 0/16113 [00:00<?, ?it/s]"
      ]
     },
     "metadata": {},
     "output_type": "display_data"
    },
    {
     "name": "stdout",
     "output_type": "stream",
     "text": [
      "\n",
      "[ItemKNN-AdjustedCosine] Evaluation started!\n"
     ]
    },
    {
     "data": {
      "application/vnd.jupyter.widget-view+json": {
       "model_id": "09d5269bd1ca4d7fad0bde152a3cce43",
       "version_major": 2,
       "version_minor": 0
      },
      "text/plain": [
       "Rating:   0%|          | 0/3865577 [00:00<?, ?it/s]"
      ]
     },
     "metadata": {},
     "output_type": "display_data"
    },
    {
     "data": {
      "application/vnd.jupyter.widget-view+json": {
       "model_id": "c74fbf36ddf24f7999b22ec993f75593",
       "version_major": 2,
       "version_minor": 0
      },
      "text/plain": [
       "Ranking:   0%|          | 0/78787 [00:00<?, ?it/s]"
      ]
     },
     "metadata": {},
     "output_type": "display_data"
    },
    {
     "name": "stdout",
     "output_type": "stream",
     "text": [
      "\n",
      "TEST:\n",
      "...\n",
      "                       |   RMSE |  F1@-1 |    MAP | NDCG@5 | Train (s) |   Test (s)\n",
      "---------------------- + ------ + ------ + ------ + ------ + --------- + ----------\n",
      "ItemKNN-Cosine         | 1.3029 | 0.0062 | 0.0138 | 0.0081 |   25.2065 | 18798.9762\n",
      "ItemKNN-Pearson        | 1.2979 | 0.0062 | 0.0039 | 0.0011 |   27.4492 | 18179.0571\n",
      "ItemKNN-AdjustedCosine | 1.2045 | 0.0062 | 0.0170 | 0.0163 |   25.6129 | 18498.5183\n",
      "\n"
     ]
    }
   ],
   "source": [
    "# Put everything together into an experiment\n",
    "cornac.Experiment(\n",
    "    eval_method=ratio_split,\n",
    "    models=[\n",
    "        item_knn_cosine,\n",
    "        item_knn_pearson,\n",
    "        item_knn_adjusted,\n",
    "    ],\n",
    "    metrics=[cornac.metrics.RMSE(), cornac.metrics.NDCG(k=5), cornac.metrics.FMeasure(), cornac.metrics.MAP()],\n",
    "    user_based=True,\n",
    ").run()"
   ]
  },
  {
   "cell_type": "code",
   "execution_count": 15,
   "metadata": {},
   "outputs": [
    {
     "data": {
      "text/plain": [
       "16113"
      ]
     },
     "execution_count": 15,
     "metadata": {},
     "output_type": "execute_result"
    }
   ],
   "source": [
    "len(item_knn_adjusted.score(21))"
   ]
  },
  {
   "cell_type": "code",
   "execution_count": 7,
   "metadata": {},
   "outputs": [],
   "source": [
    "import pickle"
   ]
  },
  {
   "cell_type": "code",
   "execution_count": 8,
   "metadata": {},
   "outputs": [],
   "source": [
    "with open(\"my_animelist.pkl\", 'rb') as f:\n",
    "    loaded_list = pickle.load(f)"
   ]
  },
  {
   "cell_type": "code",
   "execution_count": 9,
   "metadata": {},
   "outputs": [],
   "source": [
    "filter_df = data[data['anime_id'].isin(loaded_list)]"
   ]
  },
  {
   "cell_type": "code",
   "execution_count": 10,
   "metadata": {},
   "outputs": [],
   "source": [
    "# Convert DataFrame to list of tuples\n",
    "data_tuples = list(filter_df.itertuples(index=False, name=None))"
   ]
  },
  {
   "cell_type": "code",
   "execution_count": 11,
   "metadata": {},
   "outputs": [
    {
     "name": "stdout",
     "output_type": "stream",
     "text": [
      "rating_threshold = 1.0\n",
      "exclude_unknowns = True\n",
      "---\n",
      "Training data:\n",
      "Number of users = 78775\n",
      "Number of items = 4971\n",
      "Number of ratings = 11586111\n",
      "Max rating = 10.0\n",
      "Min rating = 1.0\n",
      "Global mean = 7.6\n",
      "---\n",
      "Test data:\n",
      "Number of users = 78775\n",
      "Number of items = 4971\n",
      "Number of ratings = 2896510\n",
      "Number of unknown users = 0\n",
      "Number of unknown items = 0\n",
      "---\n",
      "Total users = 78775\n",
      "Total items = 4971\n"
     ]
    }
   ],
   "source": [
    "# Define an evaluation method to split feedback into train and test sets\n",
    "ratio_split2 = RatioSplit(\n",
    "    data=data_tuples, test_size=0.2, exclude_unknowns=True, verbose=True, seed=123\n",
    ")"
   ]
  },
  {
   "cell_type": "code",
   "execution_count": 26,
   "metadata": {},
   "outputs": [],
   "source": [
    "item_knn_adjusted1 = cornac.models.ItemKNN(\n",
    "    k=20, similarity=\"cosine\", mean_centered=True, name=\"ItemKNN-AdjustedCosine\"\n",
    ")\n",
    "item_knn_adjusted2 = cornac.models.ItemKNN(\n",
    "    k=50, similarity=\"cosine\", mean_centered=True, name=\"ItemKNN-AdjustedCosine\"\n",
    ")\n",
    "item_knn_adjusted3 = cornac.models.ItemKNN(\n",
    "    k=70, similarity=\"cosine\", mean_centered=True, name=\"ItemKNN-AdjustedCosine\"\n",
    ")\n",
    "item_knn_adjusted4 = cornac.models.ItemKNN(\n",
    "    k=100, similarity=\"cosine\", mean_centered=True, name=\"ItemKNN-AdjustedCosine\"\n",
    ")"
   ]
  },
  {
   "cell_type": "code",
   "execution_count": 27,
   "metadata": {},
   "outputs": [
    {
     "name": "stdout",
     "output_type": "stream",
     "text": [
      "\n",
      "[ItemKNN-AdjustedCosine] Training started!\n"
     ]
    },
    {
     "data": {
      "application/vnd.jupyter.widget-view+json": {
       "model_id": "680d2d801dd540f38becda023a015c7b",
       "version_major": 2,
       "version_minor": 0
      },
      "text/plain": [
       "  0%|          | 0/4971 [00:00<?, ?it/s]"
      ]
     },
     "metadata": {},
     "output_type": "display_data"
    },
    {
     "name": "stdout",
     "output_type": "stream",
     "text": [
      "\n",
      "[ItemKNN-AdjustedCosine] Evaluation started!\n"
     ]
    },
    {
     "data": {
      "application/vnd.jupyter.widget-view+json": {
       "model_id": "ed31a0c9788f42159f283b5098a6e7e6",
       "version_major": 2,
       "version_minor": 0
      },
      "text/plain": [
       "Rating:   0%|          | 0/2896510 [00:00<?, ?it/s]"
      ]
     },
     "metadata": {},
     "output_type": "display_data"
    },
    {
     "data": {
      "application/vnd.jupyter.widget-view+json": {
       "model_id": "fd670272abe5428ebd6ee450f314d644",
       "version_major": 2,
       "version_minor": 0
      },
      "text/plain": [
       "Ranking:   0%|          | 0/78748 [00:00<?, ?it/s]"
      ]
     },
     "metadata": {},
     "output_type": "display_data"
    },
    {
     "name": "stdout",
     "output_type": "stream",
     "text": [
      "\n",
      "[ItemKNN-AdjustedCosine] Training started!\n"
     ]
    },
    {
     "data": {
      "application/vnd.jupyter.widget-view+json": {
       "model_id": "6e3d1f3d798047b999b8ee9d164f2ca8",
       "version_major": 2,
       "version_minor": 0
      },
      "text/plain": [
       "  0%|          | 0/4971 [00:00<?, ?it/s]"
      ]
     },
     "metadata": {},
     "output_type": "display_data"
    },
    {
     "name": "stdout",
     "output_type": "stream",
     "text": [
      "\n",
      "[ItemKNN-AdjustedCosine] Evaluation started!\n"
     ]
    },
    {
     "data": {
      "application/vnd.jupyter.widget-view+json": {
       "model_id": "df8d3ce193594fd69d92a1f6d33dd0a7",
       "version_major": 2,
       "version_minor": 0
      },
      "text/plain": [
       "Rating:   0%|          | 0/2896510 [00:00<?, ?it/s]"
      ]
     },
     "metadata": {},
     "output_type": "display_data"
    },
    {
     "data": {
      "application/vnd.jupyter.widget-view+json": {
       "model_id": "84c0eae6388c4eacb94008c82f4b2c6e",
       "version_major": 2,
       "version_minor": 0
      },
      "text/plain": [
       "Ranking:   0%|          | 0/78748 [00:00<?, ?it/s]"
      ]
     },
     "metadata": {},
     "output_type": "display_data"
    },
    {
     "name": "stdout",
     "output_type": "stream",
     "text": [
      "\n",
      "[ItemKNN-AdjustedCosine] Training started!\n"
     ]
    },
    {
     "data": {
      "application/vnd.jupyter.widget-view+json": {
       "model_id": "ad3f490d3ecc4f72a3e655bdd0565b58",
       "version_major": 2,
       "version_minor": 0
      },
      "text/plain": [
       "  0%|          | 0/4971 [00:00<?, ?it/s]"
      ]
     },
     "metadata": {},
     "output_type": "display_data"
    },
    {
     "name": "stdout",
     "output_type": "stream",
     "text": [
      "\n",
      "[ItemKNN-AdjustedCosine] Evaluation started!\n"
     ]
    },
    {
     "data": {
      "application/vnd.jupyter.widget-view+json": {
       "model_id": "3db307ce3d4045229e297179b46baf36",
       "version_major": 2,
       "version_minor": 0
      },
      "text/plain": [
       "Rating:   0%|          | 0/2896510 [00:00<?, ?it/s]"
      ]
     },
     "metadata": {},
     "output_type": "display_data"
    },
    {
     "data": {
      "application/vnd.jupyter.widget-view+json": {
       "model_id": "5607b7eeeb3f45c3b6aaa7b29c1cf78c",
       "version_major": 2,
       "version_minor": 0
      },
      "text/plain": [
       "Ranking:   0%|          | 0/78748 [00:00<?, ?it/s]"
      ]
     },
     "metadata": {},
     "output_type": "display_data"
    },
    {
     "name": "stdout",
     "output_type": "stream",
     "text": [
      "\n",
      "[ItemKNN-AdjustedCosine] Training started!\n"
     ]
    },
    {
     "data": {
      "application/vnd.jupyter.widget-view+json": {
       "model_id": "0a1b9dcc18e246fea5342db268998428",
       "version_major": 2,
       "version_minor": 0
      },
      "text/plain": [
       "  0%|          | 0/4971 [00:00<?, ?it/s]"
      ]
     },
     "metadata": {},
     "output_type": "display_data"
    },
    {
     "name": "stdout",
     "output_type": "stream",
     "text": [
      "\n",
      "[ItemKNN-AdjustedCosine] Evaluation started!\n"
     ]
    },
    {
     "data": {
      "application/vnd.jupyter.widget-view+json": {
       "model_id": "59db7ea9091840cb9788a77b6f826d0c",
       "version_major": 2,
       "version_minor": 0
      },
      "text/plain": [
       "Rating:   0%|          | 0/2896510 [00:00<?, ?it/s]"
      ]
     },
     "metadata": {},
     "output_type": "display_data"
    },
    {
     "data": {
      "application/vnd.jupyter.widget-view+json": {
       "model_id": "e84e8c2ac53e4d738ec01c2777eca53f",
       "version_major": 2,
       "version_minor": 0
      },
      "text/plain": [
       "Ranking:   0%|          | 0/78748 [00:00<?, ?it/s]"
      ]
     },
     "metadata": {},
     "output_type": "display_data"
    },
    {
     "name": "stdout",
     "output_type": "stream",
     "text": [
      "\n",
      "TEST:\n",
      "...\n",
      "                       |   RMSE |  F1@-1 |    MAP | NDCG@5 | Train (s) |  Test (s)\n",
      "---------------------- + ------ + ------ + ------ + ------ + --------- + ---------\n",
      "ItemKNN-AdjustedCosine | 1.2135 | 0.0153 | 0.0314 | 0.0657 |    8.7680 | 3244.9936\n",
      "ItemKNN-AdjustedCosine | 1.2106 | 0.0153 | 0.0315 | 0.0590 |    9.8054 | 3344.5910\n",
      "ItemKNN-AdjustedCosine | 1.2147 | 0.0153 | 0.0311 | 0.0545 |   10.2209 | 3368.5565\n",
      "ItemKNN-AdjustedCosine | 1.2205 | 0.0153 | 0.0306 | 0.0492 |    9.2063 | 3432.2060\n",
      "\n"
     ]
    }
   ],
   "source": [
    "# Put everything together into an experiment\n",
    "cornac.Experiment(\n",
    "    eval_method=ratio_split2,\n",
    "    models=[\n",
    "        item_knn_adjusted1,\n",
    "        item_knn_adjusted2,\n",
    "        item_knn_adjusted3,\n",
    "        item_knn_adjusted4\n",
    "    ],\n",
    "    metrics=[cornac.metrics.RMSE(), cornac.metrics.NDCG(k=5), cornac.metrics.FMeasure(), cornac.metrics.MAP()],\n",
    "    user_based=True,\n",
    ").run()"
   ]
  },
  {
   "cell_type": "code",
   "execution_count": 12,
   "metadata": {},
   "outputs": [],
   "source": [
    "item_knn_adjustedidf = cornac.models.ItemKNN(\n",
    "    k=20, similarity=\"cosine\", mean_centered=True, name=\"ItemKNN-AdjustedCosineidf\", weighting= 'idf',\n",
    ")\n",
    "item_knn_adjustedbm25 = cornac.models.ItemKNN(\n",
    "    k=20, similarity=\"cosine\", mean_centered=True, name=\"ItemKNN-AdjustedCosinebm25\", weighting= 'bm25'\n",
    ")"
   ]
  },
  {
   "cell_type": "code",
   "execution_count": 14,
   "metadata": {},
   "outputs": [
    {
     "name": "stdout",
     "output_type": "stream",
     "text": [
      "\n",
      "[ItemKNN-AdjustedCosineidf] Training started!\n"
     ]
    },
    {
     "data": {
      "application/vnd.jupyter.widget-view+json": {
       "model_id": "48987b6c7af947d491530c6aa994c7d2",
       "version_major": 2,
       "version_minor": 0
      },
      "text/plain": [
       "  0%|          | 0/4971 [00:00<?, ?it/s]"
      ]
     },
     "metadata": {},
     "output_type": "display_data"
    },
    {
     "name": "stdout",
     "output_type": "stream",
     "text": [
      "\n",
      "[ItemKNN-AdjustedCosineidf] Evaluation started!\n"
     ]
    },
    {
     "data": {
      "application/vnd.jupyter.widget-view+json": {
       "model_id": "e270e6a1f6e0404499c2d4824c0837ee",
       "version_major": 2,
       "version_minor": 0
      },
      "text/plain": [
       "Rating:   0%|          | 0/2896510 [00:00<?, ?it/s]"
      ]
     },
     "metadata": {},
     "output_type": "display_data"
    },
    {
     "data": {
      "application/vnd.jupyter.widget-view+json": {
       "model_id": "89f20755e194467b9dc063c804d3964a",
       "version_major": 2,
       "version_minor": 0
      },
      "text/plain": [
       "Ranking:   0%|          | 0/78748 [00:00<?, ?it/s]"
      ]
     },
     "metadata": {},
     "output_type": "display_data"
    },
    {
     "name": "stdout",
     "output_type": "stream",
     "text": [
      "\n",
      "[ItemKNN-AdjustedCosinebm25] Training started!\n"
     ]
    },
    {
     "data": {
      "application/vnd.jupyter.widget-view+json": {
       "model_id": "825dde460a334849a8d65d08d5dfec90",
       "version_major": 2,
       "version_minor": 0
      },
      "text/plain": [
       "  0%|          | 0/4971 [00:00<?, ?it/s]"
      ]
     },
     "metadata": {},
     "output_type": "display_data"
    },
    {
     "name": "stdout",
     "output_type": "stream",
     "text": [
      "\n",
      "[ItemKNN-AdjustedCosinebm25] Evaluation started!\n"
     ]
    },
    {
     "data": {
      "application/vnd.jupyter.widget-view+json": {
       "model_id": "79c1416c45f643869240ae86942f6fb3",
       "version_major": 2,
       "version_minor": 0
      },
      "text/plain": [
       "Rating:   0%|          | 0/2896510 [00:00<?, ?it/s]"
      ]
     },
     "metadata": {},
     "output_type": "display_data"
    },
    {
     "data": {
      "application/vnd.jupyter.widget-view+json": {
       "model_id": "f64a28d22f2a4193ba66185a28b15fd8",
       "version_major": 2,
       "version_minor": 0
      },
      "text/plain": [
       "Ranking:   0%|          | 0/78748 [00:00<?, ?it/s]"
      ]
     },
     "metadata": {},
     "output_type": "display_data"
    },
    {
     "name": "stdout",
     "output_type": "stream",
     "text": [
      "\n",
      "TEST:\n",
      "...\n",
      "                           |   RMSE |  F1@-1 |    MAP | NDCG@5 | Train (s) |  Test (s)\n",
      "-------------------------- + ------ + ------ + ------ + ------ + --------- + ---------\n",
      "ItemKNN-AdjustedCosineidf  | 1.2135 | 0.0153 | 0.0314 | 0.0657 |    8.9443 | 3465.5658\n",
      "ItemKNN-AdjustedCosinebm25 | 1.2130 | 0.0153 | 0.0318 | 0.0678 |    9.7931 | 3505.7347\n",
      "\n"
     ]
    }
   ],
   "source": [
    "# Put everything together into an experiment\n",
    "cornac.Experiment(\n",
    "    eval_method=ratio_split2,\n",
    "    models=[\n",
    "        item_knn_adjustedidf,\n",
    "        item_knn_adjustedbm25,\n",
    "    ],\n",
    "    metrics=[cornac.metrics.RMSE(), cornac.metrics.NDCG(k=5), cornac.metrics.FMeasure(), cornac.metrics.MAP()],\n",
    "    user_based=True,\n",
    ").run()"
   ]
  },
  {
   "cell_type": "code",
   "execution_count": null,
   "metadata": {},
   "outputs": [],
   "source": [
    "item_knn_adjustedbm25 = cornac.models.ItemKNN(\n",
    "    k=20, similarity=\"cosine\", mean_centered=True, name=\"ItemKNN-AdjustedCosinebm25\", weighting= 'bm25', num_threads=0\n",
    ")"
   ]
  },
  {
   "cell_type": "code",
   "execution_count": 19,
   "metadata": {},
   "outputs": [
    {
     "data": {
      "text/plain": [
       "<cornac.data.dataset.Dataset at 0x1911eaeaca0>"
      ]
     },
     "execution_count": 19,
     "metadata": {},
     "output_type": "execute_result"
    }
   ],
   "source": [
    "ratio_split2.train_set"
   ]
  },
  {
   "cell_type": "code",
   "execution_count": null,
   "metadata": {},
   "outputs": [],
   "source": []
  }
 ],
 "metadata": {
  "kernelspec": {
   "display_name": "Python 3",
   "language": "python",
   "name": "python3"
  },
  "language_info": {
   "codemirror_mode": {
    "name": "ipython",
    "version": 3
   },
   "file_extension": ".py",
   "mimetype": "text/x-python",
   "name": "python",
   "nbconvert_exporter": "python",
   "pygments_lexer": "ipython3",
   "version": "3.8.18"
  }
 },
 "nbformat": 4,
 "nbformat_minor": 2
}
