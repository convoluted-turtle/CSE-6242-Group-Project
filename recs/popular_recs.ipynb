{
 "cells": [
  {
   "cell_type": "code",
   "execution_count": 126,
   "metadata": {},
   "outputs": [],
   "source": [
    "import pandas as pd\n",
    "import numpy as np \n",
    "from tqdm import tqdm\n",
    "import pickle"
   ]
  },
  {
   "cell_type": "code",
   "execution_count": 128,
   "metadata": {},
   "outputs": [],
   "source": [
    "df = pd.read_csv(\"/Users/justinvhuang/Desktop/CSE-6242-Group-Project/users-score-2023.csv\")"
   ]
  },
  {
   "cell_type": "code",
   "execution_count": 129,
   "metadata": {},
   "outputs": [],
   "source": [
    "# Open the pickle file in binary read mode and load the pickled object\n",
    "with open(\"my_animelist.pkl\", 'rb') as f:\n",
    "    loaded_list = pickle.load(f)"
   ]
  },
  {
   "cell_type": "code",
   "execution_count": 140,
   "metadata": {},
   "outputs": [],
   "source": [
    "df2 = pd.read_json(\"/Users/justinvhuang/Desktop/CSE-6242-Group-Project/web_scraping/fin_anime_df.json\")"
   ]
  },
  {
   "cell_type": "code",
   "execution_count": 130,
   "metadata": {},
   "outputs": [
    {
     "data": {
      "text/plain": [
       "11565"
      ]
     },
     "execution_count": 130,
     "metadata": {},
     "output_type": "execute_result"
    }
   ],
   "source": [
    "len(loaded_list)"
   ]
  },
  {
   "cell_type": "code",
   "execution_count": 131,
   "metadata": {},
   "outputs": [],
   "source": [
    "filtered_df = df[df['anime_id'].isin(loaded_list)]"
   ]
  },
  {
   "cell_type": "code",
   "execution_count": 132,
   "metadata": {},
   "outputs": [],
   "source": [
    "# Get unique anime and user IDs\n",
    "anime_ids = filtered_df['anime_id'].unique()\n",
    "user_ids = filtered_df['user_id'].unique()\n",
    "\n",
    "# Create a dictionary to map anime IDs to indices\n",
    "anime_id_to_index = {anime_id: index for index, anime_id in enumerate(anime_ids)}"
   ]
  },
  {
   "cell_type": "code",
   "execution_count": 133,
   "metadata": {},
   "outputs": [],
   "source": [
    "class ThompsonSamplingPopularity:\n",
    "    def __init__(self, num_anime):\n",
    "        self.num_anime = num_anime\n",
    "        self.alpha = np.ones(num_anime)  \n",
    "        self.beta = np.ones(num_anime)   \n",
    "\n",
    "    def update_parameters(self, user_ratings, user_interactions):\n",
    "        self.alpha += user_ratings\n",
    "        self.beta += user_interactions - user_ratings\n",
    "\n",
    "    def recommend_top_popular_anime(self, anime_popularity, num_recommendations=50):\n",
    "        sorted_anime_indices = np.argsort(anime_popularity)[::-1]  \n",
    "        return sorted_anime_indices[:num_recommendations]\n",
    "\n",
    "    def recommend_anime(self, user_ratings, user_interactions, anime_popularity):\n",
    "        self.update_parameters(user_ratings, user_interactions)\n",
    "\n",
    "        expected_theta = self.alpha / (self.alpha + self.beta)\n",
    "        adjusted_theta = expected_theta * anime_popularity\n",
    "\n",
    "        return self.recommend_top_popular_anime(adjusted_theta)"
   ]
  },
  {
   "cell_type": "code",
   "execution_count": 134,
   "metadata": {},
   "outputs": [],
   "source": [
    "#Calculate popularity of each anime based on the total number of interactions\n",
    "anime_interactions = filtered_df.groupby('anime_id')['user_id'].count().sort_values(ascending=False)\n",
    "anime_popularity = anime_interactions.values / anime_interactions.values.sum()\n",
    "\n",
    "# Initialize Thompson Sampling with popularity\n",
    "thompson_sampling = ThompsonSamplingPopularity(len(anime_ids))"
   ]
  },
  {
   "cell_type": "code",
   "execution_count": 135,
   "metadata": {},
   "outputs": [
    {
     "name": "stderr",
     "output_type": "stream",
     "text": [
      "Processing users: 100%|██████████| 269008/269008 [56:06<00:00, 79.90it/s] \n"
     ]
    }
   ],
   "source": [
    "# Initialize an empty set to store unique recommended anime IDs\n",
    "all_recommended_anime_ids = set()\n",
    "\n",
    "# Iterate through user IDs with tqdm for progress tracking\n",
    "for user_id in tqdm(user_ids, desc=\"Processing users\"):\n",
    "    user_data =filtered_df[filtered_df['user_id'] == user_id]\n",
    "    user_ratings = np.zeros(len(anime_ids))\n",
    "    user_interactions = np.zeros(len(anime_ids))\n",
    "\n",
    "    for _, row in user_data.iterrows():\n",
    "        anime_index = anime_id_to_index[row['anime_id']]\n",
    "        user_ratings[anime_index] += row['rating']\n",
    "        user_interactions[anime_index] += 1\n",
    "\n",
    "    recommended_anime_indices = thompson_sampling.recommend_anime(user_ratings, user_interactions, anime_popularity)\n",
    "    recommended_anime_ids = [anime_ids[index] for index in recommended_anime_indices]\n",
    "\n",
    "    # Add recommended anime IDs to the set\n",
    "    all_recommended_anime_ids.update(recommended_anime_ids)\n",
    "\n",
    "# Convert the set to a list\n",
    "all_recommended_anime_ids = list(all_recommended_anime_ids)"
   ]
  },
  {
   "cell_type": "code",
   "execution_count": 149,
   "metadata": {},
   "outputs": [],
   "source": [
    "df3 = df2[df2['anime_anime_id'].isin(all_recommended_anime_ids)].drop_duplicates('anime_Genres')\n",
    "# Filter and drop rows containing 'Ecchi' and 'Hentai'\n",
    "filtered_df = df3[~df3['Genres'].str.contains('Ecchi|Hentai')]"
   ]
  },
  {
   "cell_type": "code",
   "execution_count": 156,
   "metadata": {},
   "outputs": [],
   "source": [
    "popular_dict_10 = filtered_df.sort_values(\"Favorites\",ascending = False).head(10)"
   ]
  },
  {
   "cell_type": "code",
   "execution_count": 136,
   "metadata": {},
   "outputs": [],
   "source": [
    "popular_dict = df[df['anime_id'].isin(all_recommended_anime_ids)].drop_duplicates('anime_id')[['anime_id', 'Anime Title']].to_dict(orient='records')"
   ]
  },
  {
   "cell_type": "code",
   "execution_count": 158,
   "metadata": {},
   "outputs": [],
   "source": [
    "popular_dict_10 = filtered_df[filtered_df['anime_id'].isin(all_recommended_anime_ids)].drop_duplicates('anime_id')[['anime_id', 'Name']].to_dict(orient='records')"
   ]
  },
  {
   "cell_type": "code",
   "execution_count": 137,
   "metadata": {},
   "outputs": [],
   "source": [
    "file_path = \"popular_dict.pkl\"\n",
    "\n",
    "# Open the file in binary write mode and save the list using pickle.dump()\n",
    "with open(file_path, 'wb') as f:\n",
    "    pickle.dump(popular_dict, f)"
   ]
  },
  {
   "cell_type": "code",
   "execution_count": 159,
   "metadata": {},
   "outputs": [],
   "source": [
    "file_path = \"popular_dict_10.pkl\"\n",
    "\n",
    "# Open the file in binary write mode and save the list using pickle.dump()\n",
    "with open(file_path, 'wb') as f:\n",
    "    pickle.dump(popular_dict_10, f)"
   ]
  },
  {
   "cell_type": "code",
   "execution_count": null,
   "metadata": {},
   "outputs": [],
   "source": []
  }
 ],
 "metadata": {
  "kernelspec": {
   "display_name": "Python 3",
   "language": "python",
   "name": "python3"
  },
  "language_info": {
   "codemirror_mode": {
    "name": "ipython",
    "version": 3
   },
   "file_extension": ".py",
   "mimetype": "text/x-python",
   "name": "python",
   "nbconvert_exporter": "python",
   "pygments_lexer": "ipython3",
   "version": "3.10.11"
  }
 },
 "nbformat": 4,
 "nbformat_minor": 2
}
