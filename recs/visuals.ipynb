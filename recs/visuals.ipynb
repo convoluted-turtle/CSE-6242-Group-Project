{
 "cells": [
  {
   "cell_type": "code",
   "execution_count": 1,
   "metadata": {},
   "outputs": [],
   "source": [
    "import sys \n",
    "sys.path.append('/Users/justinvhuang/Desktop/CSE-6242-Group-Project')"
   ]
  },
  {
   "cell_type": "code",
   "execution_count": 2,
   "metadata": {},
   "outputs": [],
   "source": [
    "import pandas as pd\n",
    "import plotly.express as px\n",
    "from app.utils.textpreprocessing import TextPreprocessor\n",
    "textprepo = TextPreprocessor()\n",
    "from app.utils.data_manipulation import (create_retriever, \n",
    "                                         load_data, \n",
    "                                         process_recommendations, \n",
    "                                         get_top3_posters_and_names, \n",
    "                                         get_recommendations_descriptions)\n",
    "from umap import UMAP\n",
    "from sentence_transformers import SentenceTransformer\n",
    "from sklearn.neighbors import NearestNeighbors\n",
    "import plotly.graph_objects as go\n",
    "import numpy as np\n",
    "from scipy.spatial.distance import cdist"
   ]
  },
  {
   "cell_type": "code",
   "execution_count": 3,
   "metadata": {},
   "outputs": [],
   "source": [
    "sbert = \"sentence-transformers/all-MiniLM-L6-v2\"\n",
    "vdb = \"/Users/justinvhuang/Desktop/CSE-6242-Group-Project/app/faiss_anime_index_v3\"\n",
    "db_faiss = create_retriever(vdb, sbert)"
   ]
  },
  {
   "cell_type": "code",
   "execution_count": 4,
   "metadata": {},
   "outputs": [],
   "source": [
    "def filter_tokens(metadata: dict) -> bool:\n",
    "    \"\"\"\n",
    "    Filter function to apply on retrieved documents based on metadata.\n",
    "\n",
    "    Args:\n",
    "        metadata (dict): Metadata of the document.\n",
    "        query_token (list): List of tokens to filter.\n",
    "\n",
    "    Returns:\n",
    "        bool: True if the document passes the filter, False otherwise.\n",
    "    \"\"\"\n",
    "    metadata_tokens = metadata.get(\"tokens\", [])\n",
    "    metadata_studio = metadata.get(\"studio\", [])\n",
    "    metadata_producer = metadata.get(\"producer\", [])\n",
    "    metadata_licensors = metadata.get(\"licensors\", [])\n",
    "    metadata_genre = metadata.get(\"genre\", [])\n",
    "\n",
    "    return (\n",
    "        any(token in metadata_tokens for token in query_token)\n",
    "        or metadata.get(\"score\", 0.0) > 5.0\n",
    "        or any(token in metadata_studio for token in query_token)\n",
    "        or any(token in metadata_producer for token in query_token)\n",
    "        or any(token in metadata_licensors for token in query_token)\n",
    "        or any(token in metadata_genre for token in query_token)\n",
    "    )"
   ]
  },
  {
   "cell_type": "code",
   "execution_count": 5,
   "metadata": {},
   "outputs": [],
   "source": [
    "retriever = db_faiss.as_retriever(search_kwargs={\"k\": 50, \"filter\": filter_tokens})"
   ]
  },
  {
   "cell_type": "code",
   "execution_count": 6,
   "metadata": {},
   "outputs": [],
   "source": [
    "query = 'i like space cowboy adventures'\n",
    "query_token = textprepo.preprocess_text(query)\n",
    "results = retriever.get_relevant_documents(query)"
   ]
  },
  {
   "cell_type": "code",
   "execution_count": 7,
   "metadata": {},
   "outputs": [],
   "source": [
    "\n",
    "results = retriever.get_relevant_documents(query)\n",
    "indexes = {x.metadata['anime_id']: index for index, x in enumerate(results)}"
   ]
  },
  {
   "cell_type": "code",
   "execution_count": 48,
   "metadata": {},
   "outputs": [],
   "source": [
    "json_file_path = \"/Users/justinvhuang/Desktop/CSE-6242-Group-Project/app/fin_anime_dfv3.json\"\n",
    "cf_pickle_path = \"/Users/justinvhuang/Desktop/CSE-6242-Group-Project/app/anime_recommendations_item_knn_CF_10k_num_fin.pkl\"\n",
    "pop_pickle_path = \"/Users/justinvhuang/Desktop/CSE-6242-Group-Project/app/popular_dict_10.pkl\"\n",
    "\n",
    "df, cf_recs, pop_recs = load_data(json_file_path, cf_pickle_path, pop_pickle_path)"
   ]
  },
  {
   "cell_type": "code",
   "execution_count": 50,
   "metadata": {},
   "outputs": [],
   "source": [
    "pop_recs, popular_anime_descriptions, joined_list, vd_recs = process_recommendations(pop_recs, df, indexes, cf_recs)"
   ]
  },
  {
   "cell_type": "code",
   "execution_count": 52,
   "metadata": {},
   "outputs": [],
   "source": [
    "pop_recs\n",
    "cf_list = list(df[df['anime_id'].isin(pop_recs)]['anime_values'])"
   ]
  },
  {
   "cell_type": "code",
   "execution_count": 57,
   "metadata": {},
   "outputs": [],
   "source": [
    "joined_list = [item for sublist in cf_list for item in sublist]"
   ]
  },
  {
   "cell_type": "code",
   "execution_count": 58,
   "metadata": {},
   "outputs": [
    {
     "data": {
      "text/plain": [
       "[5,\n",
       " 227,\n",
       " 205,\n",
       " 30,\n",
       " 121,\n",
       " 6,\n",
       " 1535,\n",
       " 889,\n",
       " 1575,\n",
       " 43,\n",
       " 182,\n",
       " 5,\n",
       " 1,\n",
       " 317,\n",
       " 1361,\n",
       " 54,\n",
       " 617,\n",
       " 43,\n",
       " 48,\n",
       " 164,\n",
       " 136,\n",
       " 121,\n",
       " 1482,\n",
       " 45,\n",
       " 71,\n",
       " 60,\n",
       " 857,\n",
       " 61,\n",
       " 129,\n",
       " 72,\n",
       " 1698,\n",
       " 2034,\n",
       " 1689,\n",
       " 5630,\n",
       " 4477,\n",
       " 877,\n",
       " 240,\n",
       " 6045,\n",
       " 1222,\n",
       " 853,\n",
       " 245,\n",
       " 136,\n",
       " 1559,\n",
       " 15,\n",
       " 33,\n",
       " 11061,\n",
       " 627,\n",
       " 5114,\n",
       " 1535,\n",
       " 1575,\n",
       " 645,\n",
       " 136,\n",
       " 263,\n",
       " 139,\n",
       " 138,\n",
       " 137,\n",
       " 121,\n",
       " 245,\n",
       " 15,\n",
       " 71,\n",
       " 1,\n",
       " 227,\n",
       " 43,\n",
       " 205,\n",
       " 6,\n",
       " 30,\n",
       " 889,\n",
       " 467,\n",
       " 164,\n",
       " 121,\n",
       " 395,\n",
       " 226,\n",
       " 1818,\n",
       " 1535,\n",
       " 889,\n",
       " 33,\n",
       " 245,\n",
       " 121,\n",
       " 790,\n",
       " 2025,\n",
       " 433,\n",
       " 1689,\n",
       " 1004,\n",
       " 2236,\n",
       " 578,\n",
       " 387,\n",
       " 431,\n",
       " 227,\n",
       " 43,\n",
       " 164,\n",
       " 137,\n",
       " 139,\n",
       " 263,\n",
       " 121,\n",
       " 20,\n",
       " 1535,\n",
       " 269,\n",
       " 1482,\n",
       " 245,\n",
       " 1575]"
      ]
     },
     "execution_count": 58,
     "metadata": {},
     "output_type": "execute_result"
    }
   ],
   "source": [
    "joined_list"
   ]
  },
  {
   "cell_type": "code",
   "execution_count": 38,
   "metadata": {},
   "outputs": [],
   "source": [
    "top3_posters, top3_names = get_top3_posters_and_names(df, indexes)"
   ]
  },
  {
   "cell_type": "code",
   "execution_count": 39,
   "metadata": {},
   "outputs": [],
   "source": [
    "recs, recs2, descriptions = get_recommendations_descriptions(df, joined_list, pop_recs, vd_recs)"
   ]
  },
  {
   "cell_type": "code",
   "execution_count": 40,
   "metadata": {},
   "outputs": [],
   "source": [
    "top_anime_rating = recs2[recs2['anime_Score']!='UNKNOWN'].sort_values(by='anime_Score', ascending=False).head(10)\n",
    "top_studios = recs2.sort_values(by='Favorites', ascending=False).head(5)\n",
    "top_anime_rating['anime_Score'] = top_anime_rating['anime_Score'].astype(float)"
   ]
  },
  {
   "cell_type": "code",
   "execution_count": 41,
   "metadata": {},
   "outputs": [
    {
     "data": {
      "application/vnd.plotly.v1+json": {
       "config": {
        "plotlyServerURL": "https://plot.ly"
       },
       "data": [
        {
         "alignmentgroup": "True",
         "hovertemplate": "Name=%{y}<br>anime_Score=%{x}<extra></extra>",
         "legendgroup": "Clannad: After Story",
         "marker": {
          "color": [
           "#aec7e8",
           "#7b9fcf",
           "#1f77b4",
           "#03539e",
           "#003f5c"
          ],
          "pattern": {
           "shape": ""
          }
         },
         "name": "Clannad: After Story",
         "offsetgroup": "Clannad: After Story",
         "orientation": "h",
         "showlegend": true,
         "textposition": "auto",
         "type": "bar",
         "x": [
          8.93
         ],
         "xaxis": "x",
         "y": [
          "Clannad: After Story"
         ],
         "yaxis": "y"
        },
        {
         "alignmentgroup": "True",
         "hovertemplate": "Name=%{y}<br>anime_Score=%{x}<extra></extra>",
         "legendgroup": "Code Geass: Hangyaku no Lelouch R2",
         "marker": {
          "color": [
           "#aec7e8",
           "#7b9fcf",
           "#1f77b4",
           "#03539e",
           "#003f5c"
          ],
          "pattern": {
           "shape": ""
          }
         },
         "name": "Code Geass: Hangyaku no Lelouch R2",
         "offsetgroup": "Code Geass: Hangyaku no Lelouch R2",
         "orientation": "h",
         "showlegend": true,
         "textposition": "auto",
         "type": "bar",
         "x": [
          8.91
         ],
         "xaxis": "x",
         "y": [
          "Code Geass: Hangyaku no Lelouch R2"
         ],
         "yaxis": "y"
        },
        {
         "alignmentgroup": "True",
         "hovertemplate": "Name=%{y}<br>anime_Score=%{x}<extra></extra>",
         "legendgroup": "Cowboy Bebop",
         "marker": {
          "color": [
           "#aec7e8",
           "#7b9fcf",
           "#1f77b4",
           "#03539e",
           "#003f5c"
          ],
          "pattern": {
           "shape": ""
          }
         },
         "name": "Cowboy Bebop",
         "offsetgroup": "Cowboy Bebop",
         "orientation": "h",
         "showlegend": true,
         "textposition": "auto",
         "type": "bar",
         "x": [
          8.75
         ],
         "xaxis": "x",
         "y": [
          "Cowboy Bebop"
         ],
         "yaxis": "y"
        },
        {
         "alignmentgroup": "True",
         "hovertemplate": "Name=%{y}<br>anime_Score=%{x}<extra></extra>",
         "legendgroup": "Code Geass: Hangyaku no Lelouch",
         "marker": {
          "color": [
           "#aec7e8",
           "#7b9fcf",
           "#1f77b4",
           "#03539e",
           "#003f5c"
          ],
          "pattern": {
           "shape": ""
          }
         },
         "name": "Code Geass: Hangyaku no Lelouch",
         "offsetgroup": "Code Geass: Hangyaku no Lelouch",
         "orientation": "h",
         "showlegend": true,
         "textposition": "auto",
         "type": "bar",
         "x": [
          8.7
         ],
         "xaxis": "x",
         "y": [
          "Code Geass: Hangyaku no Lelouch"
         ],
         "yaxis": "y"
        },
        {
         "alignmentgroup": "True",
         "hovertemplate": "Name=%{y}<br>anime_Score=%{x}<extra></extra>",
         "legendgroup": "Mononoke Hime",
         "marker": {
          "color": [
           "#aec7e8",
           "#7b9fcf",
           "#1f77b4",
           "#03539e",
           "#003f5c"
          ],
          "pattern": {
           "shape": ""
          }
         },
         "name": "Mononoke Hime",
         "offsetgroup": "Mononoke Hime",
         "orientation": "h",
         "showlegend": true,
         "textposition": "auto",
         "type": "bar",
         "x": [
          8.67
         ],
         "xaxis": "x",
         "y": [
          "Mononoke Hime"
         ],
         "yaxis": "y"
        },
        {
         "alignmentgroup": "True",
         "hovertemplate": "Name=%{y}<br>anime_Score=%{x}<extra></extra>",
         "legendgroup": "Death Note",
         "marker": {
          "color": [
           "#aec7e8",
           "#7b9fcf",
           "#1f77b4",
           "#03539e",
           "#003f5c"
          ],
          "pattern": {
           "shape": ""
          }
         },
         "name": "Death Note",
         "offsetgroup": "Death Note",
         "orientation": "h",
         "showlegend": true,
         "textposition": "auto",
         "type": "bar",
         "x": [
          8.62
         ],
         "xaxis": "x",
         "y": [
          "Death Note"
         ],
         "yaxis": "y"
        },
        {
         "alignmentgroup": "True",
         "hovertemplate": "Name=%{y}<br>anime_Score=%{x}<extra></extra>",
         "legendgroup": "Ping Pong the Animation",
         "marker": {
          "color": [
           "#aec7e8",
           "#7b9fcf",
           "#1f77b4",
           "#03539e",
           "#003f5c"
          ],
          "pattern": {
           "shape": ""
          }
         },
         "name": "Ping Pong the Animation",
         "offsetgroup": "Ping Pong the Animation",
         "orientation": "h",
         "showlegend": true,
         "textposition": "auto",
         "type": "bar",
         "x": [
          8.62
         ],
         "xaxis": "x",
         "y": [
          "Ping Pong the Animation"
         ],
         "yaxis": "y"
        },
        {
         "alignmentgroup": "True",
         "hovertemplate": "Name=%{y}<br>anime_Score=%{x}<extra></extra>",
         "legendgroup": "Samurai Champloo",
         "marker": {
          "color": [
           "#aec7e8",
           "#7b9fcf",
           "#1f77b4",
           "#03539e",
           "#003f5c"
          ],
          "pattern": {
           "shape": ""
          }
         },
         "name": "Samurai Champloo",
         "offsetgroup": "Samurai Champloo",
         "orientation": "h",
         "showlegend": true,
         "textposition": "auto",
         "type": "bar",
         "x": [
          8.51
         ],
         "xaxis": "x",
         "y": [
          "Samurai Champloo"
         ],
         "yaxis": "y"
        },
        {
         "alignmentgroup": "True",
         "hovertemplate": "Name=%{y}<br>anime_Score=%{x}<extra></extra>",
         "legendgroup": "Uchuu Kyoudai",
         "marker": {
          "color": [
           "#aec7e8",
           "#7b9fcf",
           "#1f77b4",
           "#03539e",
           "#003f5c"
          ],
          "pattern": {
           "shape": ""
          }
         },
         "name": "Uchuu Kyoudai",
         "offsetgroup": "Uchuu Kyoudai",
         "orientation": "h",
         "showlegend": true,
         "textposition": "auto",
         "type": "bar",
         "x": [
          8.5
         ],
         "xaxis": "x",
         "y": [
          "Uchuu Kyoudai"
         ],
         "yaxis": "y"
        },
        {
         "alignmentgroup": "True",
         "hovertemplate": "Name=%{y}<br>anime_Score=%{x}<extra></extra>",
         "legendgroup": "Mob Psycho 100",
         "marker": {
          "color": [
           "#aec7e8",
           "#7b9fcf",
           "#1f77b4",
           "#03539e",
           "#003f5c"
          ],
          "pattern": {
           "shape": ""
          }
         },
         "name": "Mob Psycho 100",
         "offsetgroup": "Mob Psycho 100",
         "orientation": "h",
         "showlegend": true,
         "textposition": "auto",
         "type": "bar",
         "x": [
          8.49
         ],
         "xaxis": "x",
         "y": [
          "Mob Psycho 100"
         ],
         "yaxis": "y"
        }
       ],
       "layout": {
        "barmode": "relative",
        "legend": {
         "title": {
          "text": "Name"
         },
         "tracegroupgap": 0
        },
        "template": {
         "data": {
          "bar": [
           {
            "error_x": {
             "color": "#2a3f5f"
            },
            "error_y": {
             "color": "#2a3f5f"
            },
            "marker": {
             "line": {
              "color": "#E5ECF6",
              "width": 0.5
             },
             "pattern": {
              "fillmode": "overlay",
              "size": 10,
              "solidity": 0.2
             }
            },
            "type": "bar"
           }
          ],
          "barpolar": [
           {
            "marker": {
             "line": {
              "color": "#E5ECF6",
              "width": 0.5
             },
             "pattern": {
              "fillmode": "overlay",
              "size": 10,
              "solidity": 0.2
             }
            },
            "type": "barpolar"
           }
          ],
          "carpet": [
           {
            "aaxis": {
             "endlinecolor": "#2a3f5f",
             "gridcolor": "white",
             "linecolor": "white",
             "minorgridcolor": "white",
             "startlinecolor": "#2a3f5f"
            },
            "baxis": {
             "endlinecolor": "#2a3f5f",
             "gridcolor": "white",
             "linecolor": "white",
             "minorgridcolor": "white",
             "startlinecolor": "#2a3f5f"
            },
            "type": "carpet"
           }
          ],
          "choropleth": [
           {
            "colorbar": {
             "outlinewidth": 0,
             "ticks": ""
            },
            "type": "choropleth"
           }
          ],
          "contour": [
           {
            "colorbar": {
             "outlinewidth": 0,
             "ticks": ""
            },
            "colorscale": [
             [
              0,
              "#0d0887"
             ],
             [
              0.1111111111111111,
              "#46039f"
             ],
             [
              0.2222222222222222,
              "#7201a8"
             ],
             [
              0.3333333333333333,
              "#9c179e"
             ],
             [
              0.4444444444444444,
              "#bd3786"
             ],
             [
              0.5555555555555556,
              "#d8576b"
             ],
             [
              0.6666666666666666,
              "#ed7953"
             ],
             [
              0.7777777777777778,
              "#fb9f3a"
             ],
             [
              0.8888888888888888,
              "#fdca26"
             ],
             [
              1,
              "#f0f921"
             ]
            ],
            "type": "contour"
           }
          ],
          "contourcarpet": [
           {
            "colorbar": {
             "outlinewidth": 0,
             "ticks": ""
            },
            "type": "contourcarpet"
           }
          ],
          "heatmap": [
           {
            "colorbar": {
             "outlinewidth": 0,
             "ticks": ""
            },
            "colorscale": [
             [
              0,
              "#0d0887"
             ],
             [
              0.1111111111111111,
              "#46039f"
             ],
             [
              0.2222222222222222,
              "#7201a8"
             ],
             [
              0.3333333333333333,
              "#9c179e"
             ],
             [
              0.4444444444444444,
              "#bd3786"
             ],
             [
              0.5555555555555556,
              "#d8576b"
             ],
             [
              0.6666666666666666,
              "#ed7953"
             ],
             [
              0.7777777777777778,
              "#fb9f3a"
             ],
             [
              0.8888888888888888,
              "#fdca26"
             ],
             [
              1,
              "#f0f921"
             ]
            ],
            "type": "heatmap"
           }
          ],
          "heatmapgl": [
           {
            "colorbar": {
             "outlinewidth": 0,
             "ticks": ""
            },
            "colorscale": [
             [
              0,
              "#0d0887"
             ],
             [
              0.1111111111111111,
              "#46039f"
             ],
             [
              0.2222222222222222,
              "#7201a8"
             ],
             [
              0.3333333333333333,
              "#9c179e"
             ],
             [
              0.4444444444444444,
              "#bd3786"
             ],
             [
              0.5555555555555556,
              "#d8576b"
             ],
             [
              0.6666666666666666,
              "#ed7953"
             ],
             [
              0.7777777777777778,
              "#fb9f3a"
             ],
             [
              0.8888888888888888,
              "#fdca26"
             ],
             [
              1,
              "#f0f921"
             ]
            ],
            "type": "heatmapgl"
           }
          ],
          "histogram": [
           {
            "marker": {
             "pattern": {
              "fillmode": "overlay",
              "size": 10,
              "solidity": 0.2
             }
            },
            "type": "histogram"
           }
          ],
          "histogram2d": [
           {
            "colorbar": {
             "outlinewidth": 0,
             "ticks": ""
            },
            "colorscale": [
             [
              0,
              "#0d0887"
             ],
             [
              0.1111111111111111,
              "#46039f"
             ],
             [
              0.2222222222222222,
              "#7201a8"
             ],
             [
              0.3333333333333333,
              "#9c179e"
             ],
             [
              0.4444444444444444,
              "#bd3786"
             ],
             [
              0.5555555555555556,
              "#d8576b"
             ],
             [
              0.6666666666666666,
              "#ed7953"
             ],
             [
              0.7777777777777778,
              "#fb9f3a"
             ],
             [
              0.8888888888888888,
              "#fdca26"
             ],
             [
              1,
              "#f0f921"
             ]
            ],
            "type": "histogram2d"
           }
          ],
          "histogram2dcontour": [
           {
            "colorbar": {
             "outlinewidth": 0,
             "ticks": ""
            },
            "colorscale": [
             [
              0,
              "#0d0887"
             ],
             [
              0.1111111111111111,
              "#46039f"
             ],
             [
              0.2222222222222222,
              "#7201a8"
             ],
             [
              0.3333333333333333,
              "#9c179e"
             ],
             [
              0.4444444444444444,
              "#bd3786"
             ],
             [
              0.5555555555555556,
              "#d8576b"
             ],
             [
              0.6666666666666666,
              "#ed7953"
             ],
             [
              0.7777777777777778,
              "#fb9f3a"
             ],
             [
              0.8888888888888888,
              "#fdca26"
             ],
             [
              1,
              "#f0f921"
             ]
            ],
            "type": "histogram2dcontour"
           }
          ],
          "mesh3d": [
           {
            "colorbar": {
             "outlinewidth": 0,
             "ticks": ""
            },
            "type": "mesh3d"
           }
          ],
          "parcoords": [
           {
            "line": {
             "colorbar": {
              "outlinewidth": 0,
              "ticks": ""
             }
            },
            "type": "parcoords"
           }
          ],
          "pie": [
           {
            "automargin": true,
            "type": "pie"
           }
          ],
          "scatter": [
           {
            "fillpattern": {
             "fillmode": "overlay",
             "size": 10,
             "solidity": 0.2
            },
            "type": "scatter"
           }
          ],
          "scatter3d": [
           {
            "line": {
             "colorbar": {
              "outlinewidth": 0,
              "ticks": ""
             }
            },
            "marker": {
             "colorbar": {
              "outlinewidth": 0,
              "ticks": ""
             }
            },
            "type": "scatter3d"
           }
          ],
          "scattercarpet": [
           {
            "marker": {
             "colorbar": {
              "outlinewidth": 0,
              "ticks": ""
             }
            },
            "type": "scattercarpet"
           }
          ],
          "scattergeo": [
           {
            "marker": {
             "colorbar": {
              "outlinewidth": 0,
              "ticks": ""
             }
            },
            "type": "scattergeo"
           }
          ],
          "scattergl": [
           {
            "marker": {
             "colorbar": {
              "outlinewidth": 0,
              "ticks": ""
             }
            },
            "type": "scattergl"
           }
          ],
          "scattermapbox": [
           {
            "marker": {
             "colorbar": {
              "outlinewidth": 0,
              "ticks": ""
             }
            },
            "type": "scattermapbox"
           }
          ],
          "scatterpolar": [
           {
            "marker": {
             "colorbar": {
              "outlinewidth": 0,
              "ticks": ""
             }
            },
            "type": "scatterpolar"
           }
          ],
          "scatterpolargl": [
           {
            "marker": {
             "colorbar": {
              "outlinewidth": 0,
              "ticks": ""
             }
            },
            "type": "scatterpolargl"
           }
          ],
          "scatterternary": [
           {
            "marker": {
             "colorbar": {
              "outlinewidth": 0,
              "ticks": ""
             }
            },
            "type": "scatterternary"
           }
          ],
          "surface": [
           {
            "colorbar": {
             "outlinewidth": 0,
             "ticks": ""
            },
            "colorscale": [
             [
              0,
              "#0d0887"
             ],
             [
              0.1111111111111111,
              "#46039f"
             ],
             [
              0.2222222222222222,
              "#7201a8"
             ],
             [
              0.3333333333333333,
              "#9c179e"
             ],
             [
              0.4444444444444444,
              "#bd3786"
             ],
             [
              0.5555555555555556,
              "#d8576b"
             ],
             [
              0.6666666666666666,
              "#ed7953"
             ],
             [
              0.7777777777777778,
              "#fb9f3a"
             ],
             [
              0.8888888888888888,
              "#fdca26"
             ],
             [
              1,
              "#f0f921"
             ]
            ],
            "type": "surface"
           }
          ],
          "table": [
           {
            "cells": {
             "fill": {
              "color": "#EBF0F8"
             },
             "line": {
              "color": "white"
             }
            },
            "header": {
             "fill": {
              "color": "#C8D4E3"
             },
             "line": {
              "color": "white"
             }
            },
            "type": "table"
           }
          ]
         },
         "layout": {
          "annotationdefaults": {
           "arrowcolor": "#2a3f5f",
           "arrowhead": 0,
           "arrowwidth": 1
          },
          "autotypenumbers": "strict",
          "coloraxis": {
           "colorbar": {
            "outlinewidth": 0,
            "ticks": ""
           }
          },
          "colorscale": {
           "diverging": [
            [
             0,
             "#8e0152"
            ],
            [
             0.1,
             "#c51b7d"
            ],
            [
             0.2,
             "#de77ae"
            ],
            [
             0.3,
             "#f1b6da"
            ],
            [
             0.4,
             "#fde0ef"
            ],
            [
             0.5,
             "#f7f7f7"
            ],
            [
             0.6,
             "#e6f5d0"
            ],
            [
             0.7,
             "#b8e186"
            ],
            [
             0.8,
             "#7fbc41"
            ],
            [
             0.9,
             "#4d9221"
            ],
            [
             1,
             "#276419"
            ]
           ],
           "sequential": [
            [
             0,
             "#0d0887"
            ],
            [
             0.1111111111111111,
             "#46039f"
            ],
            [
             0.2222222222222222,
             "#7201a8"
            ],
            [
             0.3333333333333333,
             "#9c179e"
            ],
            [
             0.4444444444444444,
             "#bd3786"
            ],
            [
             0.5555555555555556,
             "#d8576b"
            ],
            [
             0.6666666666666666,
             "#ed7953"
            ],
            [
             0.7777777777777778,
             "#fb9f3a"
            ],
            [
             0.8888888888888888,
             "#fdca26"
            ],
            [
             1,
             "#f0f921"
            ]
           ],
           "sequentialminus": [
            [
             0,
             "#0d0887"
            ],
            [
             0.1111111111111111,
             "#46039f"
            ],
            [
             0.2222222222222222,
             "#7201a8"
            ],
            [
             0.3333333333333333,
             "#9c179e"
            ],
            [
             0.4444444444444444,
             "#bd3786"
            ],
            [
             0.5555555555555556,
             "#d8576b"
            ],
            [
             0.6666666666666666,
             "#ed7953"
            ],
            [
             0.7777777777777778,
             "#fb9f3a"
            ],
            [
             0.8888888888888888,
             "#fdca26"
            ],
            [
             1,
             "#f0f921"
            ]
           ]
          },
          "colorway": [
           "#636efa",
           "#EF553B",
           "#00cc96",
           "#ab63fa",
           "#FFA15A",
           "#19d3f3",
           "#FF6692",
           "#B6E880",
           "#FF97FF",
           "#FECB52"
          ],
          "font": {
           "color": "#2a3f5f"
          },
          "geo": {
           "bgcolor": "white",
           "lakecolor": "white",
           "landcolor": "#E5ECF6",
           "showlakes": true,
           "showland": true,
           "subunitcolor": "white"
          },
          "hoverlabel": {
           "align": "left"
          },
          "hovermode": "closest",
          "mapbox": {
           "style": "light"
          },
          "paper_bgcolor": "white",
          "plot_bgcolor": "#E5ECF6",
          "polar": {
           "angularaxis": {
            "gridcolor": "white",
            "linecolor": "white",
            "ticks": ""
           },
           "bgcolor": "#E5ECF6",
           "radialaxis": {
            "gridcolor": "white",
            "linecolor": "white",
            "ticks": ""
           }
          },
          "scene": {
           "xaxis": {
            "backgroundcolor": "#E5ECF6",
            "gridcolor": "white",
            "gridwidth": 2,
            "linecolor": "white",
            "showbackground": true,
            "ticks": "",
            "zerolinecolor": "white"
           },
           "yaxis": {
            "backgroundcolor": "#E5ECF6",
            "gridcolor": "white",
            "gridwidth": 2,
            "linecolor": "white",
            "showbackground": true,
            "ticks": "",
            "zerolinecolor": "white"
           },
           "zaxis": {
            "backgroundcolor": "#E5ECF6",
            "gridcolor": "white",
            "gridwidth": 2,
            "linecolor": "white",
            "showbackground": true,
            "ticks": "",
            "zerolinecolor": "white"
           }
          },
          "shapedefaults": {
           "line": {
            "color": "#2a3f5f"
           }
          },
          "ternary": {
           "aaxis": {
            "gridcolor": "white",
            "linecolor": "white",
            "ticks": ""
           },
           "baxis": {
            "gridcolor": "white",
            "linecolor": "white",
            "ticks": ""
           },
           "bgcolor": "#E5ECF6",
           "caxis": {
            "gridcolor": "white",
            "linecolor": "white",
            "ticks": ""
           }
          },
          "title": {
           "x": 0.05
          },
          "xaxis": {
           "automargin": true,
           "gridcolor": "white",
           "linecolor": "white",
           "ticks": "",
           "title": {
            "standoff": 15
           },
           "zerolinecolor": "white",
           "zerolinewidth": 2
          },
          "yaxis": {
           "automargin": true,
           "gridcolor": "white",
           "linecolor": "white",
           "ticks": "",
           "title": {
            "standoff": 15
           },
           "zerolinecolor": "white",
           "zerolinewidth": 2
          }
         }
        },
        "title": {
         "text": "Ratings of Popular Anime"
        },
        "xaxis": {
         "anchor": "y",
         "domain": [
          0,
          1
         ],
         "title": {
          "text": "anime_Score"
         }
        },
        "yaxis": {
         "anchor": "x",
         "categoryarray": [
          "Mob Psycho 100",
          "Uchuu Kyoudai",
          "Samurai Champloo",
          "Ping Pong the Animation",
          "Death Note",
          "Mononoke Hime",
          "Code Geass: Hangyaku no Lelouch",
          "Cowboy Bebop",
          "Code Geass: Hangyaku no Lelouch R2",
          "Clannad: After Story"
         ],
         "categoryorder": "array",
         "domain": [
          0,
          1
         ],
         "title": {
          "text": "Name"
         }
        }
       }
      }
     },
     "metadata": {},
     "output_type": "display_data"
    }
   ],
   "source": [
    "# Reset bar plot to default state\n",
    "fig_bar = px.bar(top_anime_rating, x='anime_Score', y='Name', color='Name',\n",
    "                 title=\"Ratings of Popular Anime\", orientation='h')\n",
    "blue_palette = ['#aec7e8', '#7b9fcf', '#1f77b4', '#03539e', '#003f5c']\n",
    "# Set colors for bars\n",
    "fig_bar.update_traces(marker_color=blue_palette)\n",
    "# Show the plot\n",
    "fig_bar.show()"
   ]
  },
  {
   "cell_type": "code",
   "execution_count": 42,
   "metadata": {},
   "outputs": [
    {
     "data": {
      "application/vnd.plotly.v1+json": {
       "config": {
        "plotlyServerURL": "https://plot.ly"
       },
       "data": [
        {
         "alignmentgroup": "True",
         "customdata": [
          [
           "Bakuten Shoot Beyblade"
          ],
          [
           "Cardcaptor Sakura Movie 1"
          ],
          [
           "Final Fantasy VII: Last Order"
          ],
          [
           "Galaxy Angel Z"
          ],
          [
           "Galaxy Angel 3"
          ],
          [
           "Tenjou Tenge: The Past Chapter"
          ],
          [
           "Ichigo 100% OVA"
          ],
          [
           "Zetsuai 1989"
          ],
          [
           "DNA² OVA"
          ],
          [
           "Piyoko ni Omakase pyo!"
          ],
          [
           "Di Gi Charat: Hoshi no Tabi"
          ],
          [
           "Di Gi Charat: Kuchi Kara Bazooka"
          ],
          [
           "Di Gi Charat Summer Special 2000"
          ],
          [
           "Di Gi Charat Ohanami Special"
          ],
          [
           "Di Gi Charat Christmas Special"
          ],
          [
           "Di Gi Charat Tsuyu Specials"
          ],
          [
           "Taiyou no Mokushiroku: A Spirit of the Sun"
          ],
          [
           "Azuki-chan"
          ],
          [
           "Saiunkoku Monogatari 2nd Season"
          ],
          [
           "Urusei Yatsura Movie 6: Itsudatte My Darling"
          ],
          [
           "Hanada Shounen-shi"
          ],
          [
           "Oh! Edo Rocket"
          ],
          [
           "Highlander: The Search for Vengeance"
          ],
          [
           "Suteki desu wa, Sakura-chan! Tomoyo no Cardcaptor Sakura Katsuyaku Video Nikki!"
          ],
          [
           "Hidamari no Ki"
          ],
          [
           "MapleStory"
          ],
          [
           "Sweet Valerian"
          ],
          [
           "Super Doll Licca-chan"
          ],
          [
           "Hi no Tori: Yamato-hen"
          ],
          [
           "Toki no Tabibito: Time Stranger"
          ],
          [
           "Mouryou no Hako"
          ],
          [
           "Alexander Senki Movie"
          ],
          [
           "Souten Kouro"
          ],
          [
           "Chi's Sweet Home: Atarashii Ouchi"
          ],
          [
           "Mouryou no Hako: Chuuzenji Atsuko no Jikenbo - Hako no Yurei no Koto"
          ],
          [
           "Wolverine"
          ],
          [
           "Ningen Shikkaku: Director's Cut-ban"
          ],
          [
           "Tsuruhime Ja!"
          ],
          [
           "Super Doll Licca-chan: Licca-chan Zettai Zetsumei! Doll Knights no Kiseki"
          ],
          [
           "Tibet Inu Monogatari"
          ],
          [
           "Redline Pilot"
          ],
          [
           "Hajime no Ippo: Boxer no Kobushi"
          ],
          [
           "Galaxy Angel S"
          ],
          [
           "Oedo wa Nemurenai!"
          ],
          [
           "Btooom!"
          ],
          [
           "Chihayafuru 2"
          ],
          [
           "Avengers Confidential: Black Widow to Punisher"
          ],
          [
           "MapleStory Special"
          ],
          [
           "Marvel Future Avengers"
          ],
          [
           "Cardcaptor Sakura: Clear Card-hen Prologue - Sakura to Futatsu no Kuma"
          ],
          [
           "ACCA: 13-ku Kansatsu-ka Specials"
          ],
          [
           "Marvel Future Avengers 2nd Season"
          ],
          [
           "Chuukan Kanriroku Tonegawa"
          ],
          [
           "Chihayafuru 3"
          ],
          [
           "Overlord IV"
          ],
          [
           "Sakura Taisen Special"
          ],
          [
           "Juubee Ninpuuchou Burst"
          ],
          [
           "A-Girl"
          ],
          [
           "ACCA: 13-ku Kansatsu-ka"
          ],
          [
           "AI no Idenshi"
          ],
          [
           "Black Lagoon: The Second Barrage"
          ],
          [
           "Black Lagoon"
          ],
          [
           "Boogiepop wa Warawanai"
          ],
          [
           "Boogiepop wa Warawanai (2019)"
          ],
          [
           "ChäoS;HEAd"
          ],
          [
           "Dennou Coil"
          ],
          [
           "Final Fantasy"
          ],
          [
           "Galaxy Angel"
          ],
          [
           "Galaxy Angel Specials"
          ],
          [
           "Goodbye, Don Glees!"
          ],
          [
           "Gyakkyou Burai Kaiji: Hakairoku-hen"
          ],
          [
           "Gyakkyou Burai Kaiji: Ultimate Survivor"
          ],
          [
           "Hadashi no Gen"
          ],
          [
           "Hajime no Ippo"
          ],
          [
           "Hanayamata"
          ],
          [
           "Hi no Tori: Houou-hen"
          ],
          [
           "Highschool of the Dead: Drifters of the Dead"
          ],
          [
           "Hitsuji no Uta"
          ],
          [
           "Honoo no Mirage: Minagiwa no Hangyakusha"
          ],
          [
           "Ichigo 100%"
          ],
          [
           "Ichigo 100% Special 2"
          ],
          [
           "Kamui no Ken"
          ],
          [
           "Kaze no Na wa Amnesia"
          ],
          [
           "Kazemakase Tsukikage Ran"
          ],
          [
           "Kyuuketsuki Sugu Shinu"
          ],
          [
           "Mahouka Koukou no Rettousei"
          ],
          [
           "Mamono Hunter Youko"
          ],
          [
           "Master Keaton"
          ],
          [
           "Master Keaton OVA"
          ],
          [
           "Mousou Dairinin"
          ],
          [
           "Mushikaburi-hime"
          ],
          [
           "Nasu: Suitcase no Wataridori"
          ],
          [
           "Nejimaki Seirei Senki: Tenkyou no Alderamin"
          ],
          [
           "Nineteen 19"
          ],
          [
           "No Game No Life Specials"
          ],
          [
           "No Guns Life 2nd Season"
          ],
          [
           "No Guns Life"
          ],
          [
           "Oda Nobuna no Yabou Recap"
          ],
          [
           "One Outs"
          ],
          [
           "Overlord"
          ],
          [
           "Overlord II"
          ],
          [
           "Panyo Panyo Di Gi Charat"
          ],
          [
           "Paprika"
          ],
          [
           "Paradise Kiss"
          ],
          [
           "Pita Ten"
          ],
          [
           "Prince of Stride: Alternative"
          ],
          [
           "RideBack"
          ],
          [
           "SF Shinseiki Lensman"
          ],
          [
           "Sora yori mo Tooi Basho"
          ],
          [
           "Space Pirate Captain Herlock: Outside Legend - The Endless Odyssey"
          ],
          [
           "Stitch!"
          ],
          [
           "Summer Wars"
          ],
          [
           "Texhnolyze"
          ],
          [
           "Touhai Densetsu Akagi: Yami ni Maiorita Tensai"
          ],
          [
           "Trigun: Badlands Rumble"
          ],
          [
           "Yojouhan Shinwa Taikei Specials"
          ],
          [
           "Yojouhan Shinwa Taikei"
          ],
          [
           "Youjuu Toshi"
          ],
          [
           "Yousei Ou"
          ],
          [
           "Yuugen Kaisha"
          ],
          [
           "Afro Samurai Pilot"
          ],
          [
           "Alexander Senki"
          ],
          [
           "Allison to Lillia"
          ],
          [
           "Anime Koukyoushi: Jungle Taitei"
          ],
          [
           "Anne no Nikki"
          ],
          [
           "Aoi Bungaku Series"
          ],
          [
           "Aquarian Age: Saga II - Don't Forget Me..."
          ],
          [
           "Beck"
          ],
          [
           "Bio Hunter"
          ],
          [
           "Black Lagoon: Roberta's Blood Trail"
          ],
          [
           "Bobby ni Kubittake"
          ],
          [
           "Cardcaptor Sakura"
          ],
          [
           "Cardcaptor Sakura: Clear Card-hen"
          ],
          [
           "Chi's Sweet Home"
          ],
          [
           "Chihayafuru"
          ],
          [
           "Chobits"
          ],
          [
           "Chobits Recap"
          ],
          [
           "Cinnamon the Movie"
          ],
          [
           "Claymore"
          ],
          [
           "Cyber City Oedo 808"
          ],
          [
           "Death Billiards"
          ],
          [
           "Death Note"
          ],
          [
           "Death Parade"
          ],
          [
           "Deimos no Hanayome: Ran no Kumikyoku"
          ],
          [
           "Devil May Cry"
          ],
          [
           "Di Gi Charat"
          ],
          [
           "Di Gi Charat Nyo"
          ],
          [
           "Dragon Drive"
          ],
          [
           "Eguchi Hisashi no Nantoka Narudesho!"
          ],
          [
           "Gakuen Senki Muryou"
          ],
          [
           "Genma Taisen"
          ],
          [
           "Gungrave"
          ],
          [
           "Gunnm"
          ],
          [
           "Gunslinger Girl"
          ],
          [
           "Hadashi no Gen 2"
          ],
          [
           "Hajime no Ippo: Champion Road"
          ],
          [
           "Hajime no Ippo: Mashiba vs. Kimura"
          ],
          [
           "Hakozume: Kouban Joshi no Gyakushuu"
          ],
          [
           "Hi no Tori: Uchuu-hen"
          ],
          [
           "Highschool of the Dead"
          ],
          [
           "Honoo no Mirage"
          ],
          [
           "Hunter x Hunter (2011)"
          ],
          [
           "Hunter x Hunter Movie 1: Phantom Rouge"
          ],
          [
           "Hunter x Hunter Movie 2: The Last Mission"
          ],
          [
           "Iron Man"
          ],
          [
           "Iron Man: Rise of Technovore"
          ],
          [
           "Juubee Ninpuuchou"
          ],
          [
           "Juubee-chan 2: Siberia Yagyuu no Gyakushuu"
          ],
          [
           "Kaiba"
          ],
          [
           "Kaibutsu Oujo"
          ],
          [
           "Kamisama no Inai Nichiyoubi"
          ],
          [
           "Kemonozume"
          ],
          [
           "Kiba"
          ],
          [
           "Kin no Kuni Mizu no Kuni"
          ],
          [
           "Kiseijuu: Sei no Kakuritsu"
          ],
          [
           "Kobato."
          ],
          [
           "Kurozuka"
          ],
          [
           "Lodoss-tou Senki"
          ],
          [
           "Mahou Sensou"
          ],
          [
           "Mai Mai Shinko to Sennen no Mahou"
          ],
          [
           "Majin Tantei Nougami Neuro"
          ],
          [
           "Makai Toshi Shinjuku"
          ],
          [
           "Manie-Manie: Meikyuu Monogatari"
          ],
          [
           "Metropolis"
          ],
          [
           "Monster"
          ],
          [
           "Nana"
          ],
          [
           "Nasu: Andalusia no Natsu"
          ],
          [
           "Natsuki Crisis"
          ],
          [
           "Nezumi Monogatari: George to Gerald no Bouken"
          ],
          [
           "Ningyo no Kizu"
          ],
          [
           "No Game No Life"
          ],
          [
           "No Game No Life: Zero"
          ],
          [
           "Okusama wa Joshikousei (TV)"
          ],
          [
           "Ore Monogatari!!"
          ],
          [
           "Perfect Blue"
          ],
          [
           "Petshop of Horrors"
          ],
          [
           "Photokano"
          ],
          [
           "Piano no Mori"
          ],
          [
           "Saiunkoku Monogatari"
          ],
          [
           "Sakura Taisen"
          ],
          [
           "Sennen Joyuu"
          ],
          [
           "Shigurui"
          ],
          [
           "Shihaisha no Tasogare"
          ],
          [
           "Shoumetsu Toshi"
          ],
          [
           "Sonny Boy"
          ],
          [
           "Sousou no Frieren"
          ],
          [
           "Supernatural The Animation"
          ],
          [
           "Teito Monogatari"
          ],
          [
           "Tenjou Tenge"
          ],
          [
           "Tetsuwan Birdy"
          ],
          [
           "Toaru Hikuushi e no Tsuioku"
          ],
          [
           "Toki wo Kakeru Shoujo"
          ],
          [
           "Tokyo Babylon"
          ],
          [
           "Tokyo Godfathers"
          ],
          [
           "Top Secret: The Revelation"
          ],
          [
           "Trigun"
          ],
          [
           "Ultraviolet: Code 044"
          ],
          [
           "Unico"
          ],
          [
           "Unico: Mahou no Shima e"
          ],
          [
           "Vampire Hunter D (2000)"
          ],
          [
           "WXIII Kidou Keisatsu Patlabor"
          ],
          [
           "X"
          ],
          [
           "X/1999"
          ],
          [
           "X-Men"
          ],
          [
           "X²: Double X"
          ],
          [
           "Yamada-kun to Lv999 no Koi wo Suru"
          ],
          [
           "Yona Yona Penguin"
          ],
          [
           "Yume Tsukai"
          ]
         ],
         "hovertemplate": "<b>Name:</b> %{customdata[0]}<br><b>Favorites:</b> %{y}",
         "legendgroup": "Madhouse",
         "marker": {
          "color": "#636efa"
         },
         "name": "Madhouse",
         "notched": false,
         "offsetgroup": "Madhouse",
         "orientation": "v",
         "showlegend": true,
         "type": "box",
         "x": [
          "Madhouse",
          "Madhouse",
          "Madhouse",
          "Madhouse",
          "Madhouse",
          "Madhouse",
          "Madhouse",
          "Madhouse",
          "Madhouse",
          "Madhouse",
          "Madhouse",
          "Madhouse",
          "Madhouse",
          "Madhouse",
          "Madhouse",
          "Madhouse",
          "Madhouse",
          "Madhouse",
          "Madhouse",
          "Madhouse",
          "Madhouse",
          "Madhouse",
          "Madhouse",
          "Madhouse",
          "Madhouse",
          "Madhouse",
          "Madhouse",
          "Madhouse",
          "Madhouse",
          "Madhouse",
          "Madhouse",
          "Madhouse",
          "Madhouse",
          "Madhouse",
          "Madhouse",
          "Madhouse",
          "Madhouse",
          "Madhouse",
          "Madhouse",
          "Madhouse",
          "Madhouse",
          "Madhouse",
          "Madhouse",
          "Madhouse",
          "Madhouse",
          "Madhouse",
          "Madhouse",
          "Madhouse",
          "Madhouse",
          "Madhouse",
          "Madhouse",
          "Madhouse",
          "Madhouse",
          "Madhouse",
          "Madhouse",
          "Madhouse",
          "Madhouse",
          "Madhouse",
          "Madhouse",
          "Madhouse",
          "Madhouse",
          "Madhouse",
          "Madhouse",
          "Madhouse",
          "Madhouse",
          "Madhouse",
          "Madhouse",
          "Madhouse",
          "Madhouse",
          "Madhouse",
          "Madhouse",
          "Madhouse",
          "Madhouse",
          "Madhouse",
          "Madhouse",
          "Madhouse",
          "Madhouse",
          "Madhouse",
          "Madhouse",
          "Madhouse",
          "Madhouse",
          "Madhouse",
          "Madhouse",
          "Madhouse",
          "Madhouse",
          "Madhouse",
          "Madhouse",
          "Madhouse",
          "Madhouse",
          "Madhouse",
          "Madhouse",
          "Madhouse",
          "Madhouse",
          "Madhouse",
          "Madhouse",
          "Madhouse",
          "Madhouse",
          "Madhouse",
          "Madhouse",
          "Madhouse",
          "Madhouse",
          "Madhouse",
          "Madhouse",
          "Madhouse",
          "Madhouse",
          "Madhouse",
          "Madhouse",
          "Madhouse",
          "Madhouse",
          "Madhouse",
          "Madhouse",
          "Madhouse",
          "Madhouse",
          "Madhouse",
          "Madhouse",
          "Madhouse",
          "Madhouse",
          "Madhouse",
          "Madhouse",
          "Madhouse",
          "Madhouse",
          "Madhouse",
          "Madhouse",
          "Madhouse",
          "Madhouse",
          "Madhouse",
          "Madhouse",
          "Madhouse",
          "Madhouse",
          "Madhouse",
          "Madhouse",
          "Madhouse",
          "Madhouse",
          "Madhouse",
          "Madhouse",
          "Madhouse",
          "Madhouse",
          "Madhouse",
          "Madhouse",
          "Madhouse",
          "Madhouse",
          "Madhouse",
          "Madhouse",
          "Madhouse",
          "Madhouse",
          "Madhouse",
          "Madhouse",
          "Madhouse",
          "Madhouse",
          "Madhouse",
          "Madhouse",
          "Madhouse",
          "Madhouse",
          "Madhouse",
          "Madhouse",
          "Madhouse",
          "Madhouse",
          "Madhouse",
          "Madhouse",
          "Madhouse",
          "Madhouse",
          "Madhouse",
          "Madhouse",
          "Madhouse",
          "Madhouse",
          "Madhouse",
          "Madhouse",
          "Madhouse",
          "Madhouse",
          "Madhouse",
          "Madhouse",
          "Madhouse",
          "Madhouse",
          "Madhouse",
          "Madhouse",
          "Madhouse",
          "Madhouse",
          "Madhouse",
          "Madhouse",
          "Madhouse",
          "Madhouse",
          "Madhouse",
          "Madhouse",
          "Madhouse",
          "Madhouse",
          "Madhouse",
          "Madhouse",
          "Madhouse",
          "Madhouse",
          "Madhouse",
          "Madhouse",
          "Madhouse",
          "Madhouse",
          "Madhouse",
          "Madhouse",
          "Madhouse",
          "Madhouse",
          "Madhouse",
          "Madhouse",
          "Madhouse",
          "Madhouse",
          "Madhouse",
          "Madhouse",
          "Madhouse",
          "Madhouse",
          "Madhouse",
          "Madhouse",
          "Madhouse",
          "Madhouse",
          "Madhouse",
          "Madhouse",
          "Madhouse",
          "Madhouse",
          "Madhouse",
          "Madhouse",
          "Madhouse",
          "Madhouse",
          "Madhouse",
          "Madhouse",
          "Madhouse",
          "Madhouse",
          "Madhouse",
          "Madhouse",
          "Madhouse",
          "Madhouse",
          "Madhouse",
          "Madhouse",
          "Madhouse"
         ],
         "x0": " ",
         "xaxis": "x",
         "y": [
          380,
          185,
          132,
          7,
          18,
          16,
          8,
          39,
          8,
          7,
          3,
          1,
          2,
          2,
          3,
          2,
          3,
          9,
          197,
          2,
          144,
          34,
          33,
          32,
          23,
          4,
          2,
          4,
          3,
          4,
          246,
          0,
          47,
          109,
          0,
          23,
          58,
          0,
          1,
          10,
          5,
          70,
          2,
          0,
          3355,
          1599,
          7,
          0,
          8,
          81,
          10,
          2,
          112,
          1458,
          6662,
          0,
          2,
          10,
          1426,
          40,
          2988,
          17759,
          1030,
          800,
          734,
          1620,
          21,
          185,
          1,
          74,
          2637,
          9745,
          145,
          20143,
          380,
          6,
          356,
          38,
          27,
          245,
          8,
          20,
          47,
          84,
          525,
          10868,
          26,
          120,
          20,
          5297,
          423,
          4,
          1384,
          9,
          218,
          78,
          287,
          5,
          3937,
          25126,
          4308,
          12,
          4396,
          4138,
          85,
          626,
          130,
          9,
          13548,
          36,
          13,
          3890,
          4786,
          1232,
          252,
          21,
          17671,
          211,
          2,
          8,
          10,
          27,
          175,
          3,
          8,
          1608,
          1,
          8149,
          11,
          1258,
          10,
          12789,
          629,
          430,
          7691,
          3824,
          40,
          15,
          8252,
          189,
          328,
          167586,
          27492,
          15,
          1606,
          182,
          43,
          50,
          4,
          24,
          6,
          2355,
          248,
          1153,
          21,
          214,
          173,
          158,
          3,
          9928,
          76,
          200265,
          285,
          268,
          27,
          8,
          1086,
          19,
          3547,
          209,
          877,
          455,
          441,
          6,
          33548,
          1472,
          311,
          599,
          333,
          21,
          574,
          51,
          117,
          595,
          47235,
          27265,
          10,
          1,
          1,
          7,
          47444,
          7520,
          35,
          4927,
          17801,
          415,
          157,
          119,
          1115,
          59,
          2488,
          883,
          16,
          54,
          5555,
          227,
          67,
          35,
          596,
          75,
          262,
          5773,
          35,
          2443,
          71,
          15035,
          6,
          37,
          15,
          2108,
          17,
          756,
          117,
          27,
          5,
          2060,
          0,
          14
         ],
         "y0": " ",
         "yaxis": "y"
        },
        {
         "alignmentgroup": "True",
         "customdata": [
          [
           "Kidou Keisatsu Patlabor: On Television"
          ],
          [
           "Mama wa Shougaku 4 Nensei"
          ],
          [
           "Seikai no Senki III"
          ],
          [
           "InuYasha Movie 1: Toki wo Koeru Omoi"
          ],
          [
           "Sentimental Journey"
          ],
          [
           "Yoroiden Samurai Troopers Kikoutei Densetsu"
          ],
          [
           "Yoroiden Samurai Troopers Message"
          ],
          [
           "Kidou Keisatsu Patlabor: New OVA"
          ],
          [
           "DT Eightron"
          ],
          [
           "Seikai no Monshou Special"
          ],
          [
           "Yuusha-Ou GaoGaiGar Final"
          ],
          [
           "Future GPX Cyber Formula"
          ],
          [
           "Future GPX Cyber Formula: Early Days Renewal"
          ],
          [
           "Mai-Otome Zwei"
          ],
          [
           "iDOLM@STER Xenoglossia"
          ],
          [
           "Zettai Muteki Raijin-Oh"
          ],
          [
           "Taiyou no Kiba Dagram"
          ],
          [
           "Kidou Senshi Gundam SEED Special Edition"
          ],
          [
           "Kidou Senshi Gundam SEED Destiny Special Edition"
          ],
          [
           "Freedom Previsited"
          ],
          [
           "Keroro Gunsou Movie 1"
          ],
          [
           "Juusenki L-Gaim III: Full Metal Soldier"
          ],
          [
           "Gekitou! Crush Gear Turbo"
          ],
          [
           "Kikou Keisatsu Metal Jack"
          ],
          [
           "Chou Mashin Eiyuuden Wataru"
          ],
          [
           "Mister Ajikko"
          ],
          [
           "Yuusha Tokkyuu Might Gaine"
          ],
          [
           "Ganbarist! Shun"
          ],
          [
           "Kidou Senshi Gundam 00 Second Season"
          ],
          [
           "Turn A Gundam I Movie: Earth Light"
          ],
          [
           "Turn A Gundam II Movie: Moonlight Butterfly"
          ],
          [
           "Juushin Liger"
          ],
          [
           "Shin SOS Dai Tokyo Tankentai"
          ],
          [
           "Muteki Robo Trider G7"
          ],
          [
           "Code Geass: Hangyaku no Lelouch Special Edition - Black Rebellion"
          ],
          [
           "Mashin Eiyuuden Wataru 2"
          ],
          [
           "Shiroi Kiba White Fang Monogatari"
          ],
          [
           "Kidou Senshi Gundam 00 Movie: A Wakening of the Trailblazer"
          ],
          [
           "Code Geass: Hangyaku no Lelouch R2 Special Edition - Zero Requiem"
          ],
          [
           "Crush Gear Nitro"
          ],
          [
           "Ring of Gundam"
          ],
          [
           "30th Gundam Perfect Mission"
          ],
          [
           "Kidou Senshi Gundam 00 Special Edition"
          ],
          [
           "Hipira-kun"
          ],
          [
           "Keroro Gunsou Movie 5: Tanjou! Kyuukyoku Keroro, Kiseki no Jikuu-jima, de Arimasu!!"
          ],
          [
           "Votoms Finder"
          ],
          [
           "Tales of the Abyss Special Fan Disc"
          ],
          [
           "Koi☆Sento"
          ],
          [
           "Battle Spirits: Brave"
          ],
          [
           "Zero Tester: Chikyuu wo Mamore!"
          ],
          [
           "Gintama: Shinyaku Benizakura-hen"
          ],
          [
           "s.CRY.ed Alteration I: Tao"
          ],
          [
           "Battle Spirits: Heroes"
          ],
          [
           "Sacred Seven: Shirogane no Tsubasa"
          ],
          [
           "Dirty Pair Flash 2"
          ],
          [
           "Dirty Pair Flash 3"
          ],
          [
           "Tales of Gekijou"
          ],
          [
           "Mugen no Ryvius: Illusion"
          ],
          [
           "Sacred Seven: Shirogane no Tsubasa Picture Drama"
          ],
          [
           "Gintama': Enchousen"
          ],
          [
           "Natsu-iro Kiseki: 15-kaime no Natsuyasumi"
          ],
          [
           "Code Geass: Soubou no Oz Picture Drama"
          ],
          [
           "Kakumeiki Valvrave 2nd Season"
          ],
          [
           "Love Live! School Idol Project 2nd Season"
          ],
          [
           "Short Peace Opening"
          ],
          [
           "Kaiketsu Zorori: Mamoru ze! Kyouryuu no Tamago"
          ],
          [
           "Saikyou Ginga Ultimate Zero: Battle Spirits"
          ],
          [
           "Love Live! School Idol Project OVA"
          ],
          [
           "Gintama: Yorinuki Gintama-san on Theater 2D"
          ],
          [
           "Aikatsu! Movie"
          ],
          [
           "Mugen Senshi Valis"
          ],
          [
           "Hipira-kun ONA"
          ],
          [
           "Hipira-kun Special"
          ],
          [
           "Buddy Complex: Kanketsu-hen - Ano Sora ni Kaeru Mirai de"
          ],
          [
           "Shoko Nakagawa Prism Tour Special"
          ],
          [
           "Kidou Senshi Gundam-san"
          ],
          [
           "Many Things SD Gundam"
          ],
          [
           "Gundam: G no Reconguista - From the Past to the Future"
          ],
          [
           "Accel World: Infinite∞Burst"
          ],
          [
           "Love Live! μ's Final Love Live! Opening Animation"
          ],
          [
           "Love Live! Sunshine!! 2nd Season"
          ],
          [
           "ClassicaLoid 2nd Season"
          ],
          [
           "Gundam Build Divers"
          ],
          [
           "Gundam Build Divers Prologue"
          ],
          [
           "City Hunter Movie: Shinjuku Private Eyes"
          ],
          [
           "Double Decker! Doug & Kirill: Extra"
          ],
          [
           "Seikai no Senki II Special"
          ],
          [
           "Orbital Era"
          ],
          [
           "Love Live! School Idol Festival All Stars"
          ],
          [
           "Code Geass: Fukkatsu no Lelouch Picture Drama"
          ],
          [
           "Code Geass: Hangyaku no Lelouch Picture Drama - Kiseki no Anniversary"
          ],
          [
           "Ano Hi no Kokoro wo Toraete"
          ],
          [
           "Love Live! Sunshine!! Photo Session"
          ],
          [
           "Gundam Breaker: Battlogue"
          ],
          [
           "Love Live! Superstar!! 2nd Season"
          ],
          [
           "Love Live! Superstar!! 3rd Season"
          ],
          [
           "All That Gundam"
          ],
          [
           "Aoki Ryuusei SPT Layzner"
          ],
          [
           "Aoki Ryuusei SPT Layzner OVA"
          ],
          [
           "Arion"
          ],
          [
           "Buddy Complex"
          ],
          [
           "Code Geass: Hangyaku no Lelouch Picture Drama"
          ],
          [
           "Code Geass: Hangyaku no Lelouch R2 Picture Drama"
          ],
          [
           "Code Geass: Hangyaku no Lelouch Recaps"
          ],
          [
           "Code Geass: Hangyaku no Lelouch"
          ],
          [
           "Code Geass: Hangyaku no Lelouch R2"
          ],
          [
           "Cowboy Bebop"
          ],
          [
           "Cross Ange: Tenshi to Ryuu no Rondo"
          ],
          [
           "Danshi Koukousei no Nichijou"
          ],
          [
           "Danshi Koukousei no Nichijou Specials"
          ],
          [
           "DinoZone"
          ],
          [
           "Gasaraki"
          ],
          [
           "Genki Bakuhatsu Ganbaruger"
          ],
          [
           "Ginga Hyouryuu Vifam"
          ],
          [
           "Gintama"
          ],
          [
           "Gintama'"
          ],
          [
           "Gundam Neo Experience 0087: Green Divers"
          ],
          [
           "InuYasha"
          ],
          [
           "InuYasha: Kuroi Tessaiga"
          ],
          [
           "InuYasha Movie 2: Kagami no Naka no Mugenjo"
          ],
          [
           "InuYasha: Kanketsu-hen"
          ],
          [
           "Juusenshi Gulkeeva"
          ],
          [
           "Kakumeiki Valvrave"
          ],
          [
           "Kidou Senshi Gundam 00"
          ],
          [
           "Kidou Senshi Gundam F91"
          ],
          [
           "Kidou Senshi Gundam MS IGLOO: 1-nen Sensou Hiroku"
          ],
          [
           "Kidou Senshi Gundam NT"
          ],
          [
           "Kidou Senshi Gundam SEED"
          ],
          [
           "Kidou Senshi Gundam Unicorn"
          ],
          [
           "Kidou Senshi Gundam ZZ"
          ],
          [
           "Kidou Senshi Gundam: Cucuruz Doan no Shima"
          ],
          [
           "Kidou Senshi Gundam: Gyakushuu no Char"
          ],
          [
           "Kidou Senshi Gundam: Suisei no Majo"
          ],
          [
           "Kidou Senshi Gundam: Suisei no Majo Season 2"
          ],
          [
           "Kidou Senshi Gundam: The Origin - Zenya Akai Suisei"
          ],
          [
           "Kikou Kai Galient"
          ],
          [
           "Kikou Kai Galient OVA"
          ],
          [
           "La Seine no Hoshi"
          ],
          [
           "Love Live! School Idol Project"
          ],
          [
           "Love Live! The School Idol Movie"
          ],
          [
           "Mai-HiME"
          ],
          [
           "Mai-HiME Specials"
          ],
          [
           "Mai-Otome"
          ],
          [
           "Mai-Otome Special: Otome no Inori"
          ],
          [
           "Mai-Otome Specials"
          ],
          [
           "Megumi no Daigo: Kajiba no Baka Yarou"
          ],
          [
           "SD Gundam Force"
          ],
          [
           "Seihou Tenshi Angel Links"
          ],
          [
           "Seikai no Senki II"
          ],
          [
           "Seikai no Senki"
          ],
          [
           "Soukou Kihei Votoms"
          ],
          [
           "Soukou Kihei Votoms Recaps"
          ],
          [
           "The Big O"
          ],
          [
           "Tsukumo"
          ],
          [
           "Yakitate!! Japan"
          ],
          [
           "Yuusha Exkaiser"
          ],
          [
           "Zegapain"
          ],
          [
           "Accel World"
          ],
          [
           "Argento Soma"
          ],
          [
           "Bakumatsu Kikansetsu Irohanihoheto"
          ],
          [
           "Battle Spirits: Shounen Gekiha Dan"
          ],
          [
           "Betterman"
          ],
          [
           "Binbougami ga!"
          ],
          [
           "Brain Powerd"
          ],
          [
           "Buki yo Saraba"
          ],
          [
           "Chinmoku no Kantai"
          ],
          [
           "Chirin no Suzu"
          ],
          [
           "ClassicaLoid"
          ],
          [
           "Cluster Edge"
          ],
          [
           "Code Geass: Fukkatsu no Lelouch"
          ],
          [
           "Code Geass: Hangyaku no Lelouch - Kiseki no Birthday"
          ],
          [
           "Code Geass: Hangyaku no Lelouch I - Koudou"
          ],
          [
           "Code Geass: Hangyaku no Lelouch II - Handou"
          ],
          [
           "Code Geass: Hangyaku no Lelouch III - Oudou"
          ],
          [
           "Crusher Joe"
          ],
          [
           "Crusher Joe OVA"
          ],
          [
           "Dead Heat"
          ],
          [
           "Densetsu Kyojin Ideon"
          ],
          [
           "Densetsu no Yuusha da Garn"
          ],
          [
           "Dirty Pair"
          ],
          [
           "Dirty Pair Flash"
          ],
          [
           "Dirty Pair: The Movie"
          ],
          [
           "Double Decker! Doug & Kirill"
          ],
          [
           "Five Star Stories"
          ],
          [
           "Freedom"
          ],
          [
           "Future GPX Cyber Formula 11"
          ],
          [
           "Future GPX Cyber Formula Saga"
          ],
          [
           "Future GPX Cyber Formula Sin"
          ],
          [
           "Future GPX Cyber Formula Zero"
          ],
          [
           "Gambo"
          ],
          [
           "Genjitsu no Yohane: Sunshine in the Mirror"
          ],
          [
           "Giant Gorg"
          ],
          [
           "Gintama Movie 1: Shinyaku Benizakura-hen"
          ],
          [
           "Gundam Build Fighters"
          ],
          [
           "Gundam Build Fighters Specials"
          ],
          [
           "Gundam Build Fighters Try"
          ],
          [
           "Gundam Build Fighters: Battlogue"
          ],
          [
           "Gundam: G no Reconguista"
          ],
          [
           "Gundam: Mission to the Rise"
          ],
          [
           "Hi no Youjin"
          ],
          [
           "Ibara no Ou"
          ],
          [
           "InuYasha Movie 3: Tenka Hadou no Ken"
          ],
          [
           "Isekai Izakaya: Koto Aitheria no Izakaya Nobu"
          ],
          [
           "Kekkaishi"
          ],
          [
           "Keroro"
          ],
          [
           "Keroro Gunsou"
          ],
          [
           "Kidou Butouden G Gundam"
          ],
          [
           "Kidou Senshi Gundam"
          ],
          [
           "Kidou Senshi Gundam 0080: Pocket no Naka no Sensou"
          ],
          [
           "Kidou Senshi Gundam AGE"
          ],
          [
           "Kidou Senshi Gundam SEED Destiny"
          ],
          [
           "Kidou Senshi Gundam Thunderbolt: Bandit Flower"
          ],
          [
           "Kidou Senshi Gundam Thunderbolt: December Sky"
          ],
          [
           "Kidou Senshi Gundam: Dai 08 MS Shoutai"
          ],
          [
           "Kidou Senshi Gundam: Senkou no Hathaway"
          ],
          [
           "Kidou Senshi Gundam: Tekketsu no Orphans"
          ],
          [
           "Kidou Senshi Victory Gundam"
          ],
          [
           "Kidou Senshi Zeta Gundam"
          ],
          [
           "Kidou Shinseiki Gundam X"
          ],
          [
           "Kikou Senki Dragonar"
          ],
          [
           "Kyoukaisenjou no Horizon"
          ],
          [
           "Love Live! Nijigasaki Gakuen School Idol Doukoukai"
          ],
          [
           "Love Live! Sunshine!!"
          ],
          [
           "Love Live! Sunshine!! The School Idol Movie: Over the Rainbow"
          ],
          [
           "Love Live! Superstar!!"
          ],
          [
           "Mai-Otome 0: S.ifr"
          ],
          [
           "Mashin Eiyuuden Wataru"
          ],
          [
           "Mugen no Ryvius"
          ],
          [
           "Nami yo Kiitekure"
          ],
          [
           "Nerawareta Gakuen"
          ],
          [
           "Nijiyon Animation"
          ],
          [
           "Norageki!"
          ],
          [
           "Nyani ga Nyandaa Nyandaa Kamen"
          ],
          [
           "Onmyou Taisenki"
          ],
          [
           "Phi Brain: Kami no Puzzle"
          ],
          [
           "Planetes"
          ],
          [
           "Sacred Seven"
          ],
          [
           "Seikai no Monshou"
          ],
          [
           "Seisenshi Dunbine"
          ],
          [
           "Seisenshi Dunbine OVA"
          ],
          [
           "Yoroiden Samurai Troopers"
          ],
          [
           "Shin Kidou Senki Gundam Wing"
          ],
          [
           "Shutsugeki! Machine Robo Rescue"
          ],
          [
           "Sora wo Kakeru Shoujo"
          ],
          [
           "Soukou Kihei Votoms: Genei-hen"
          ],
          [
           "Soukou Kihei Votoms: Kakuyaku taru Itan"
          ],
          [
           "Soukou Kihei Votoms: Koei Futatabi"
          ],
          [
           "Steamboy"
          ],
          [
           "Tales of the Abyss"
          ],
          [
           "Tenkuu no Escaflowne"
          ],
          [
           "Tiger & Bunny Movie 1: The Beginning"
          ],
          [
           "Tiger & Bunny Movie 2: The Rising"
          ],
          [
           "Turn A Gundam"
          ],
          [
           "Uchuu no Senshi"
          ],
          [
           "Wanpaku Oomukashi Kum Kum"
          ],
          [
           "Witch Hunter Robin"
          ],
          [
           "Xabungle Graffiti"
          ],
          [
           "Yuusha Raideen"
          ],
          [
           "Yuusha-Ou GaoGaiGar"
          ],
          [
           "Zero Tester"
          ],
          [
           "s.CRY.ed"
          ]
         ],
         "hovertemplate": "<b>Name:</b> %{customdata[0]}<br><b>Favorites:</b> %{y}",
         "legendgroup": "Sunrise",
         "marker": {
          "color": "#EF553B"
         },
         "name": "Sunrise",
         "notched": false,
         "offsetgroup": "Sunrise",
         "orientation": "v",
         "showlegend": true,
         "type": "box",
         "x": [
          "Sunrise",
          "Sunrise",
          "Sunrise",
          "Sunrise",
          "Sunrise",
          "Sunrise",
          "Sunrise",
          "Sunrise",
          "Sunrise",
          "Sunrise",
          "Sunrise",
          "Sunrise",
          "Sunrise",
          "Sunrise",
          "Sunrise",
          "Sunrise",
          "Sunrise",
          "Sunrise",
          "Sunrise",
          "Sunrise",
          "Sunrise",
          "Sunrise",
          "Sunrise",
          "Sunrise",
          "Sunrise",
          "Sunrise",
          "Sunrise",
          "Sunrise",
          "Sunrise",
          "Sunrise",
          "Sunrise",
          "Sunrise",
          "Sunrise",
          "Sunrise",
          "Sunrise",
          "Sunrise",
          "Sunrise",
          "Sunrise",
          "Sunrise",
          "Sunrise",
          "Sunrise",
          "Sunrise",
          "Sunrise",
          "Sunrise",
          "Sunrise",
          "Sunrise",
          "Sunrise",
          "Sunrise",
          "Sunrise",
          "Sunrise",
          "Sunrise",
          "Sunrise",
          "Sunrise",
          "Sunrise",
          "Sunrise",
          "Sunrise",
          "Sunrise",
          "Sunrise",
          "Sunrise",
          "Sunrise",
          "Sunrise",
          "Sunrise",
          "Sunrise",
          "Sunrise",
          "Sunrise",
          "Sunrise",
          "Sunrise",
          "Sunrise",
          "Sunrise",
          "Sunrise",
          "Sunrise",
          "Sunrise",
          "Sunrise",
          "Sunrise",
          "Sunrise",
          "Sunrise",
          "Sunrise",
          "Sunrise",
          "Sunrise",
          "Sunrise",
          "Sunrise",
          "Sunrise",
          "Sunrise",
          "Sunrise",
          "Sunrise",
          "Sunrise",
          "Sunrise",
          "Sunrise",
          "Sunrise",
          "Sunrise",
          "Sunrise",
          "Sunrise",
          "Sunrise",
          "Sunrise",
          "Sunrise",
          "Sunrise",
          "Sunrise",
          "Sunrise",
          "Sunrise",
          "Sunrise",
          "Sunrise",
          "Sunrise",
          "Sunrise",
          "Sunrise",
          "Sunrise",
          "Sunrise",
          "Sunrise",
          "Sunrise",
          "Sunrise",
          "Sunrise",
          "Sunrise",
          "Sunrise",
          "Sunrise",
          "Sunrise",
          "Sunrise",
          "Sunrise",
          "Sunrise",
          "Sunrise",
          "Sunrise",
          "Sunrise",
          "Sunrise",
          "Sunrise",
          "Sunrise",
          "Sunrise",
          "Sunrise",
          "Sunrise",
          "Sunrise",
          "Sunrise",
          "Sunrise",
          "Sunrise",
          "Sunrise",
          "Sunrise",
          "Sunrise",
          "Sunrise",
          "Sunrise",
          "Sunrise",
          "Sunrise",
          "Sunrise",
          "Sunrise",
          "Sunrise",
          "Sunrise",
          "Sunrise",
          "Sunrise",
          "Sunrise",
          "Sunrise",
          "Sunrise",
          "Sunrise",
          "Sunrise",
          "Sunrise",
          "Sunrise",
          "Sunrise",
          "Sunrise",
          "Sunrise",
          "Sunrise",
          "Sunrise",
          "Sunrise",
          "Sunrise",
          "Sunrise",
          "Sunrise",
          "Sunrise",
          "Sunrise",
          "Sunrise",
          "Sunrise",
          "Sunrise",
          "Sunrise",
          "Sunrise",
          "Sunrise",
          "Sunrise",
          "Sunrise",
          "Sunrise",
          "Sunrise",
          "Sunrise",
          "Sunrise",
          "Sunrise",
          "Sunrise",
          "Sunrise",
          "Sunrise",
          "Sunrise",
          "Sunrise",
          "Sunrise",
          "Sunrise",
          "Sunrise",
          "Sunrise",
          "Sunrise",
          "Sunrise",
          "Sunrise",
          "Sunrise",
          "Sunrise",
          "Sunrise",
          "Sunrise",
          "Sunrise",
          "Sunrise",
          "Sunrise",
          "Sunrise",
          "Sunrise",
          "Sunrise",
          "Sunrise",
          "Sunrise",
          "Sunrise",
          "Sunrise",
          "Sunrise",
          "Sunrise",
          "Sunrise",
          "Sunrise",
          "Sunrise",
          "Sunrise",
          "Sunrise",
          "Sunrise",
          "Sunrise",
          "Sunrise",
          "Sunrise",
          "Sunrise",
          "Sunrise",
          "Sunrise",
          "Sunrise",
          "Sunrise",
          "Sunrise",
          "Sunrise",
          "Sunrise",
          "Sunrise",
          "Sunrise",
          "Sunrise",
          "Sunrise",
          "Sunrise",
          "Sunrise",
          "Sunrise",
          "Sunrise",
          "Sunrise",
          "Sunrise",
          "Sunrise",
          "Sunrise",
          "Sunrise",
          "Sunrise",
          "Sunrise",
          "Sunrise",
          "Sunrise",
          "Sunrise",
          "Sunrise",
          "Sunrise",
          "Sunrise",
          "Sunrise",
          "Sunrise",
          "Sunrise",
          "Sunrise",
          "Sunrise",
          "Sunrise",
          "Sunrise",
          "Sunrise",
          "Sunrise",
          "Sunrise",
          "Sunrise",
          "Sunrise",
          "Sunrise",
          "Sunrise",
          "Sunrise",
          "Sunrise",
          "Sunrise",
          "Sunrise",
          "Sunrise",
          "Sunrise",
          "Sunrise"
         ],
         "x0": " ",
         "xaxis": "x",
         "y": [
          414,
          43,
          56,
          174,
          13,
          6,
          5,
          35,
          8,
          3,
          171,
          61,
          1,
          28,
          30,
          6,
          64,
          12,
          22,
          0,
          14,
          2,
          39,
          1,
          10,
          14,
          12,
          13,
          1365,
          2,
          1,
          1,
          3,
          1,
          53,
          3,
          0,
          227,
          82,
          4,
          4,
          8,
          26,
          1,
          6,
          0,
          0,
          3,
          18,
          1,
          52,
          3,
          4,
          3,
          6,
          1,
          5,
          0,
          0,
          2967,
          3,
          5,
          199,
          2748,
          3,
          2,
          2,
          108,
          44,
          37,
          2,
          1,
          0,
          27,
          0,
          0,
          0,
          0,
          70,
          21,
          1121,
          16,
          51,
          3,
          26,
          5,
          1,
          2,
          18,
          26,
          1,
          2,
          0,
          5,
          320,
          26,
          19,
          31,
          5,
          10,
          222,
          75,
          97,
          58,
          105379,
          74578,
          78525,
          1650,
          13873,
          184,
          2,
          51,
          6,
          24,
          57678,
          7765,
          1,
          17881,
          72,
          252,
          2112,
          0,
          676,
          4409,
          82,
          14,
          36,
          3435,
          1554,
          178,
          24,
          422,
          1117,
          315,
          102,
          7,
          1,
          6,
          7955,
          1199,
          1146,
          15,
          303,
          3,
          3,
          2,
          9,
          6,
          117,
          274,
          365,
          0,
          903,
          4,
          897,
          9,
          163,
          3882,
          82,
          130,
          9,
          77,
          1200,
          31,
          14,
          5,
          70,
          89,
          13,
          1980,
          28,
          187,
          107,
          147,
          10,
          1,
          0,
          117,
          17,
          200,
          22,
          36,
          94,
          45,
          62,
          11,
          12,
          15,
          15,
          1,
          58,
          27,
          597,
          636,
          1,
          114,
          5,
          86,
          3,
          3,
          157,
          208,
          149,
          588,
          26,
          1151,
          978,
          2140,
          966,
          60,
          1063,
          30,
          176,
          1064,
          267,
          3099,
          136,
          2117,
          199,
          13,
          830,
          1081,
          2954,
          289,
          1093,
          28,
          14,
          321,
          191,
          191,
          41,
          3,
          5,
          31,
          227,
          3836,
          79,
          451,
          43,
          0,
          165,
          2334,
          12,
          50,
          1,
          6,
          1,
          148,
          542,
          2069,
          19,
          51,
          965,
          12,
          0,
          613,
          0,
          7,
          336,
          2,
          660
         ],
         "y0": " ",
         "yaxis": "y"
        },
        {
         "alignmentgroup": "True",
         "customdata": [
          [
           "Neon Genesis Evangelion"
          ]
         ],
         "hovertemplate": "<b>Name:</b> %{customdata[0]}<br><b>Favorites:</b> %{y}",
         "legendgroup": "Gainax, Tatsunoko Production",
         "marker": {
          "color": "#00cc96"
         },
         "name": "Gainax, Tatsunoko Production",
         "notched": false,
         "offsetgroup": "Gainax, Tatsunoko Production",
         "orientation": "v",
         "showlegend": true,
         "type": "box",
         "x": [
          "Gainax, Tatsunoko Production"
         ],
         "x0": " ",
         "xaxis": "x",
         "y": [
          100638
         ],
         "y0": " ",
         "yaxis": "y"
        }
       ],
       "layout": {
        "boxmode": "overlay",
        "legend": {
         "title": {
          "text": "Studios"
         },
         "tracegroupgap": 0
        },
        "template": {
         "data": {
          "bar": [
           {
            "error_x": {
             "color": "#2a3f5f"
            },
            "error_y": {
             "color": "#2a3f5f"
            },
            "marker": {
             "line": {
              "color": "#E5ECF6",
              "width": 0.5
             },
             "pattern": {
              "fillmode": "overlay",
              "size": 10,
              "solidity": 0.2
             }
            },
            "type": "bar"
           }
          ],
          "barpolar": [
           {
            "marker": {
             "line": {
              "color": "#E5ECF6",
              "width": 0.5
             },
             "pattern": {
              "fillmode": "overlay",
              "size": 10,
              "solidity": 0.2
             }
            },
            "type": "barpolar"
           }
          ],
          "carpet": [
           {
            "aaxis": {
             "endlinecolor": "#2a3f5f",
             "gridcolor": "white",
             "linecolor": "white",
             "minorgridcolor": "white",
             "startlinecolor": "#2a3f5f"
            },
            "baxis": {
             "endlinecolor": "#2a3f5f",
             "gridcolor": "white",
             "linecolor": "white",
             "minorgridcolor": "white",
             "startlinecolor": "#2a3f5f"
            },
            "type": "carpet"
           }
          ],
          "choropleth": [
           {
            "colorbar": {
             "outlinewidth": 0,
             "ticks": ""
            },
            "type": "choropleth"
           }
          ],
          "contour": [
           {
            "colorbar": {
             "outlinewidth": 0,
             "ticks": ""
            },
            "colorscale": [
             [
              0,
              "#0d0887"
             ],
             [
              0.1111111111111111,
              "#46039f"
             ],
             [
              0.2222222222222222,
              "#7201a8"
             ],
             [
              0.3333333333333333,
              "#9c179e"
             ],
             [
              0.4444444444444444,
              "#bd3786"
             ],
             [
              0.5555555555555556,
              "#d8576b"
             ],
             [
              0.6666666666666666,
              "#ed7953"
             ],
             [
              0.7777777777777778,
              "#fb9f3a"
             ],
             [
              0.8888888888888888,
              "#fdca26"
             ],
             [
              1,
              "#f0f921"
             ]
            ],
            "type": "contour"
           }
          ],
          "contourcarpet": [
           {
            "colorbar": {
             "outlinewidth": 0,
             "ticks": ""
            },
            "type": "contourcarpet"
           }
          ],
          "heatmap": [
           {
            "colorbar": {
             "outlinewidth": 0,
             "ticks": ""
            },
            "colorscale": [
             [
              0,
              "#0d0887"
             ],
             [
              0.1111111111111111,
              "#46039f"
             ],
             [
              0.2222222222222222,
              "#7201a8"
             ],
             [
              0.3333333333333333,
              "#9c179e"
             ],
             [
              0.4444444444444444,
              "#bd3786"
             ],
             [
              0.5555555555555556,
              "#d8576b"
             ],
             [
              0.6666666666666666,
              "#ed7953"
             ],
             [
              0.7777777777777778,
              "#fb9f3a"
             ],
             [
              0.8888888888888888,
              "#fdca26"
             ],
             [
              1,
              "#f0f921"
             ]
            ],
            "type": "heatmap"
           }
          ],
          "heatmapgl": [
           {
            "colorbar": {
             "outlinewidth": 0,
             "ticks": ""
            },
            "colorscale": [
             [
              0,
              "#0d0887"
             ],
             [
              0.1111111111111111,
              "#46039f"
             ],
             [
              0.2222222222222222,
              "#7201a8"
             ],
             [
              0.3333333333333333,
              "#9c179e"
             ],
             [
              0.4444444444444444,
              "#bd3786"
             ],
             [
              0.5555555555555556,
              "#d8576b"
             ],
             [
              0.6666666666666666,
              "#ed7953"
             ],
             [
              0.7777777777777778,
              "#fb9f3a"
             ],
             [
              0.8888888888888888,
              "#fdca26"
             ],
             [
              1,
              "#f0f921"
             ]
            ],
            "type": "heatmapgl"
           }
          ],
          "histogram": [
           {
            "marker": {
             "pattern": {
              "fillmode": "overlay",
              "size": 10,
              "solidity": 0.2
             }
            },
            "type": "histogram"
           }
          ],
          "histogram2d": [
           {
            "colorbar": {
             "outlinewidth": 0,
             "ticks": ""
            },
            "colorscale": [
             [
              0,
              "#0d0887"
             ],
             [
              0.1111111111111111,
              "#46039f"
             ],
             [
              0.2222222222222222,
              "#7201a8"
             ],
             [
              0.3333333333333333,
              "#9c179e"
             ],
             [
              0.4444444444444444,
              "#bd3786"
             ],
             [
              0.5555555555555556,
              "#d8576b"
             ],
             [
              0.6666666666666666,
              "#ed7953"
             ],
             [
              0.7777777777777778,
              "#fb9f3a"
             ],
             [
              0.8888888888888888,
              "#fdca26"
             ],
             [
              1,
              "#f0f921"
             ]
            ],
            "type": "histogram2d"
           }
          ],
          "histogram2dcontour": [
           {
            "colorbar": {
             "outlinewidth": 0,
             "ticks": ""
            },
            "colorscale": [
             [
              0,
              "#0d0887"
             ],
             [
              0.1111111111111111,
              "#46039f"
             ],
             [
              0.2222222222222222,
              "#7201a8"
             ],
             [
              0.3333333333333333,
              "#9c179e"
             ],
             [
              0.4444444444444444,
              "#bd3786"
             ],
             [
              0.5555555555555556,
              "#d8576b"
             ],
             [
              0.6666666666666666,
              "#ed7953"
             ],
             [
              0.7777777777777778,
              "#fb9f3a"
             ],
             [
              0.8888888888888888,
              "#fdca26"
             ],
             [
              1,
              "#f0f921"
             ]
            ],
            "type": "histogram2dcontour"
           }
          ],
          "mesh3d": [
           {
            "colorbar": {
             "outlinewidth": 0,
             "ticks": ""
            },
            "type": "mesh3d"
           }
          ],
          "parcoords": [
           {
            "line": {
             "colorbar": {
              "outlinewidth": 0,
              "ticks": ""
             }
            },
            "type": "parcoords"
           }
          ],
          "pie": [
           {
            "automargin": true,
            "type": "pie"
           }
          ],
          "scatter": [
           {
            "fillpattern": {
             "fillmode": "overlay",
             "size": 10,
             "solidity": 0.2
            },
            "type": "scatter"
           }
          ],
          "scatter3d": [
           {
            "line": {
             "colorbar": {
              "outlinewidth": 0,
              "ticks": ""
             }
            },
            "marker": {
             "colorbar": {
              "outlinewidth": 0,
              "ticks": ""
             }
            },
            "type": "scatter3d"
           }
          ],
          "scattercarpet": [
           {
            "marker": {
             "colorbar": {
              "outlinewidth": 0,
              "ticks": ""
             }
            },
            "type": "scattercarpet"
           }
          ],
          "scattergeo": [
           {
            "marker": {
             "colorbar": {
              "outlinewidth": 0,
              "ticks": ""
             }
            },
            "type": "scattergeo"
           }
          ],
          "scattergl": [
           {
            "marker": {
             "colorbar": {
              "outlinewidth": 0,
              "ticks": ""
             }
            },
            "type": "scattergl"
           }
          ],
          "scattermapbox": [
           {
            "marker": {
             "colorbar": {
              "outlinewidth": 0,
              "ticks": ""
             }
            },
            "type": "scattermapbox"
           }
          ],
          "scatterpolar": [
           {
            "marker": {
             "colorbar": {
              "outlinewidth": 0,
              "ticks": ""
             }
            },
            "type": "scatterpolar"
           }
          ],
          "scatterpolargl": [
           {
            "marker": {
             "colorbar": {
              "outlinewidth": 0,
              "ticks": ""
             }
            },
            "type": "scatterpolargl"
           }
          ],
          "scatterternary": [
           {
            "marker": {
             "colorbar": {
              "outlinewidth": 0,
              "ticks": ""
             }
            },
            "type": "scatterternary"
           }
          ],
          "surface": [
           {
            "colorbar": {
             "outlinewidth": 0,
             "ticks": ""
            },
            "colorscale": [
             [
              0,
              "#0d0887"
             ],
             [
              0.1111111111111111,
              "#46039f"
             ],
             [
              0.2222222222222222,
              "#7201a8"
             ],
             [
              0.3333333333333333,
              "#9c179e"
             ],
             [
              0.4444444444444444,
              "#bd3786"
             ],
             [
              0.5555555555555556,
              "#d8576b"
             ],
             [
              0.6666666666666666,
              "#ed7953"
             ],
             [
              0.7777777777777778,
              "#fb9f3a"
             ],
             [
              0.8888888888888888,
              "#fdca26"
             ],
             [
              1,
              "#f0f921"
             ]
            ],
            "type": "surface"
           }
          ],
          "table": [
           {
            "cells": {
             "fill": {
              "color": "#EBF0F8"
             },
             "line": {
              "color": "white"
             }
            },
            "header": {
             "fill": {
              "color": "#C8D4E3"
             },
             "line": {
              "color": "white"
             }
            },
            "type": "table"
           }
          ]
         },
         "layout": {
          "annotationdefaults": {
           "arrowcolor": "#2a3f5f",
           "arrowhead": 0,
           "arrowwidth": 1
          },
          "autotypenumbers": "strict",
          "coloraxis": {
           "colorbar": {
            "outlinewidth": 0,
            "ticks": ""
           }
          },
          "colorscale": {
           "diverging": [
            [
             0,
             "#8e0152"
            ],
            [
             0.1,
             "#c51b7d"
            ],
            [
             0.2,
             "#de77ae"
            ],
            [
             0.3,
             "#f1b6da"
            ],
            [
             0.4,
             "#fde0ef"
            ],
            [
             0.5,
             "#f7f7f7"
            ],
            [
             0.6,
             "#e6f5d0"
            ],
            [
             0.7,
             "#b8e186"
            ],
            [
             0.8,
             "#7fbc41"
            ],
            [
             0.9,
             "#4d9221"
            ],
            [
             1,
             "#276419"
            ]
           ],
           "sequential": [
            [
             0,
             "#0d0887"
            ],
            [
             0.1111111111111111,
             "#46039f"
            ],
            [
             0.2222222222222222,
             "#7201a8"
            ],
            [
             0.3333333333333333,
             "#9c179e"
            ],
            [
             0.4444444444444444,
             "#bd3786"
            ],
            [
             0.5555555555555556,
             "#d8576b"
            ],
            [
             0.6666666666666666,
             "#ed7953"
            ],
            [
             0.7777777777777778,
             "#fb9f3a"
            ],
            [
             0.8888888888888888,
             "#fdca26"
            ],
            [
             1,
             "#f0f921"
            ]
           ],
           "sequentialminus": [
            [
             0,
             "#0d0887"
            ],
            [
             0.1111111111111111,
             "#46039f"
            ],
            [
             0.2222222222222222,
             "#7201a8"
            ],
            [
             0.3333333333333333,
             "#9c179e"
            ],
            [
             0.4444444444444444,
             "#bd3786"
            ],
            [
             0.5555555555555556,
             "#d8576b"
            ],
            [
             0.6666666666666666,
             "#ed7953"
            ],
            [
             0.7777777777777778,
             "#fb9f3a"
            ],
            [
             0.8888888888888888,
             "#fdca26"
            ],
            [
             1,
             "#f0f921"
            ]
           ]
          },
          "colorway": [
           "#636efa",
           "#EF553B",
           "#00cc96",
           "#ab63fa",
           "#FFA15A",
           "#19d3f3",
           "#FF6692",
           "#B6E880",
           "#FF97FF",
           "#FECB52"
          ],
          "font": {
           "color": "#2a3f5f"
          },
          "geo": {
           "bgcolor": "white",
           "lakecolor": "white",
           "landcolor": "#E5ECF6",
           "showlakes": true,
           "showland": true,
           "subunitcolor": "white"
          },
          "hoverlabel": {
           "align": "left"
          },
          "hovermode": "closest",
          "mapbox": {
           "style": "light"
          },
          "paper_bgcolor": "white",
          "plot_bgcolor": "#E5ECF6",
          "polar": {
           "angularaxis": {
            "gridcolor": "white",
            "linecolor": "white",
            "ticks": ""
           },
           "bgcolor": "#E5ECF6",
           "radialaxis": {
            "gridcolor": "white",
            "linecolor": "white",
            "ticks": ""
           }
          },
          "scene": {
           "xaxis": {
            "backgroundcolor": "#E5ECF6",
            "gridcolor": "white",
            "gridwidth": 2,
            "linecolor": "white",
            "showbackground": true,
            "ticks": "",
            "zerolinecolor": "white"
           },
           "yaxis": {
            "backgroundcolor": "#E5ECF6",
            "gridcolor": "white",
            "gridwidth": 2,
            "linecolor": "white",
            "showbackground": true,
            "ticks": "",
            "zerolinecolor": "white"
           },
           "zaxis": {
            "backgroundcolor": "#E5ECF6",
            "gridcolor": "white",
            "gridwidth": 2,
            "linecolor": "white",
            "showbackground": true,
            "ticks": "",
            "zerolinecolor": "white"
           }
          },
          "shapedefaults": {
           "line": {
            "color": "#2a3f5f"
           }
          },
          "ternary": {
           "aaxis": {
            "gridcolor": "white",
            "linecolor": "white",
            "ticks": ""
           },
           "baxis": {
            "gridcolor": "white",
            "linecolor": "white",
            "ticks": ""
           },
           "bgcolor": "#E5ECF6",
           "caxis": {
            "gridcolor": "white",
            "linecolor": "white",
            "ticks": ""
           }
          },
          "title": {
           "x": 0.05
          },
          "xaxis": {
           "automargin": true,
           "gridcolor": "white",
           "linecolor": "white",
           "ticks": "",
           "title": {
            "standoff": 15
           },
           "zerolinecolor": "white",
           "zerolinewidth": 2
          },
          "yaxis": {
           "automargin": true,
           "gridcolor": "white",
           "linecolor": "white",
           "ticks": "",
           "title": {
            "standoff": 15
           },
           "zerolinecolor": "white",
           "zerolinewidth": 2
          }
         }
        },
        "title": {
         "text": "Favorites to Studios Distribution"
        },
        "xaxis": {
         "anchor": "y",
         "categoryarray": [
          "Madhouse",
          "Sunrise",
          "Gainax, Tatsunoko Production"
         ],
         "categoryorder": "array",
         "domain": [
          0,
          1
         ],
         "title": {
          "text": "Studios"
         }
        },
        "yaxis": {
         "anchor": "x",
         "domain": [
          0,
          1
         ],
         "title": {
          "text": "Favorites"
         }
        }
       }
      }
     },
     "metadata": {},
     "output_type": "display_data"
    }
   ],
   "source": [
    "# Create vertical box plot for the filtered data\n",
    "fig_box = px.box(df[df['Studios'].isin(set(list(top_studios['Studios'])))], \n",
    "                 x='Studios', \n",
    "                 y='Favorites', \n",
    "                 color='Studios', \n",
    "                 title=\"Favorites to Studios Distribution\", \n",
    "                 orientation='v',\n",
    "                 custom_data=['Name'])\n",
    "\n",
    "# Get the indices of maximum values\n",
    "max_indices = df.groupby('Studios')['Favorites'].idxmax()\n",
    "\n",
    "# Add text labels for maximum values\n",
    "fig_box.update_traces(\n",
    "    hovertemplate=\"<b>Name:</b> %{customdata[0]}<br><b>Favorites:</b> %{y}\",\n",
    "    selector=dict(type='box')\n",
    ")\n",
    "\n",
    "# Show the plot\n",
    "fig_box.show()"
   ]
  },
  {
   "cell_type": "code",
   "execution_count": 47,
   "metadata": {},
   "outputs": [
    {
     "data": {
      "text/plain": [
       "Index(['anime_Rating', 'anime_Score', 'anime_Synopsis', 'plot', 'Producers',\n",
       "       'Licensors', 'Studios', 'Image URL', 'Episodes', 'Genres', 'Source',\n",
       "       'Favorites', 'Aired', 'Members', 'Duration', 'text', 'anime_id',\n",
       "       'tokens', 'Name', 'image_y', 'imdb_name_basics_primaryName', 'cf_recs',\n",
       "       'pop_recs', 'anime_values'],\n",
       "      dtype='object')"
      ]
     },
     "execution_count": 47,
     "metadata": {},
     "output_type": "execute_result"
    }
   ],
   "source": [
    "df.columns"
   ]
  },
  {
   "cell_type": "code",
   "execution_count": 43,
   "metadata": {},
   "outputs": [
    {
     "name": "stderr",
     "output_type": "stream",
     "text": [
      "/var/folders/vz/cyjrzm0x74q21sb72nhkdfmr0000gn/T/ipykernel_33437/1476396319.py:3: SettingWithCopyWarning:\n",
      "\n",
      "\n",
      "A value is trying to be set on a copy of a slice from a DataFrame.\n",
      "Try using .loc[row_indexer,col_indexer] = value instead\n",
      "\n",
      "See the caveats in the documentation: https://pandas.pydata.org/pandas-docs/stable/user_guide/indexing.html#returning-a-view-versus-a-copy\n",
      "\n"
     ]
    }
   ],
   "source": [
    "recs_umap = recs[['Studios', 'anime_Synopsis', 'Name', 'anime_id','Image URL', 'Producers', 'anime_Score', 'Source', 'Favorites', 'Members', 'Aired', 'imdb_name_basics_primaryName']]\n",
    "# Initialize 'rec_label' column with empty strings\n",
    "recs_umap['rec_label'] = ''\n",
    "\n",
    "# Iterate through the lists and update the 'rec_label' column\n",
    "for rec_type, lst in [('collab_filter', joined_list), ('vector_rec', vd_recs), ('pop_rec', pop_recs)]:\n",
    "    recs_umap.loc[recs_umap['anime_id'].isin(lst), 'rec_label'] = rec_type\n",
    "new_row = {'Studios': 'user query', 'anime_Synopsis': query, 'Name': 'user query', 'anime_id': 'none', 'rec_label': 'none', 'Image URL': 'none', 'Producers': 'none', 'anime_Score': 8.0, 'Source': 'none', 'Favorites':'none', 'Members':'none', ' Aired':'none', 'imdb_name_basics_primaryName': 'none'}\n",
    "recs_umap = pd.concat([pd.DataFrame(new_row, index=[0]), recs_umap], ignore_index=True)"
   ]
  },
  {
   "cell_type": "code",
   "execution_count": 27,
   "metadata": {},
   "outputs": [],
   "source": [
    "# Load a pre-trained Sentence Transformer model\n",
    "model = SentenceTransformer('sentence-transformers/all-MiniLM-L6-v2')"
   ]
  },
  {
   "cell_type": "code",
   "execution_count": 45,
   "metadata": {},
   "outputs": [],
   "source": [
    "\n",
    "# Encode the anime synopsis using the Sentence Transformer model\n",
    "embeddings_synopsis = model.encode(recs_umap['anime_Synopsis'].tolist())\n",
    "embedding_producers = model.encode(recs_umap['Producers'].tolist())\n",
    "embedding_aired = model.encode(recs_umap['Aired'].tolist())\n",
    "embedding_studios = model.encode(recs_umap['Studios'].tolist())\n",
    "embedding_actors = model.encode(recs_umap['imdb_name_basics_primaryName'].tolist())\n",
    "ratings_encoded = np.array(recs_umap['anime_Score']).reshape(-1, 1)\n",
    "combined_features = np.concatenate([embeddings_synopsis,embedding_producers,embedding_aired,embedding_studios,embedding_actors,ratings_encoded], axis = 1)"
   ]
  },
  {
   "cell_type": "code",
   "execution_count": 46,
   "metadata": {},
   "outputs": [
    {
     "name": "stderr",
     "output_type": "stream",
     "text": [
      "/Users/justinvhuang/miniconda3/envs/langchain/lib/python3.10/site-packages/umap/umap_.py:1943: UserWarning:\n",
      "\n",
      "n_jobs value -1 overridden to 1 by setting random_state. Use no seed for parallelism.\n",
      "\n"
     ]
    },
    {
     "data": {
      "application/vnd.plotly.v1+json": {
       "config": {
        "plotlyServerURL": "https://plot.ly"
       },
       "data": [
        {
         "customdata": [
          [
           "user query",
           "user query"
          ]
         ],
         "hovertemplate": "rec_label=none<br>UMAP_1=%{x}<br>UMAP_2=%{y}<br>Studios=%{customdata[0]}<br>Name=%{customdata[1]}<extra></extra>",
         "legendgroup": "none",
         "marker": {
          "color": "#636efa",
          "symbol": "circle"
         },
         "mode": "markers",
         "name": "none",
         "orientation": "v",
         "showlegend": true,
         "type": "scatter",
         "x": [
          -1.1480263
         ],
         "xaxis": "x",
         "y": [
          6.325146
         ],
         "yaxis": "y"
        },
        {
         "customdata": [
          [
           "Xebec, Group TAC",
           "YAT Anshin! Uchuu Ryokou"
          ],
          [
           "Group TAC",
           "YAT Anshin! Uchuu Ryokou 2"
          ],
          [
           "UNKNOWN",
           "Space Travelers The Animation"
          ],
          [
           "Doga Kobo",
           "Uchuu Kazoku Carlvinson"
          ],
          [
           "Pierrot",
           "Tamala 2010: A Punk Cat in Space OVA"
          ],
          [
           "UNKNOWN",
           "The Ghost of Cartoon"
          ],
          [
           "Madhouse",
           "ChäoS;HEAd"
          ],
          [
           "Lerche",
           "Kanata no Astra"
          ],
          [
           "J.C.Staff",
           "Soreyuke! Uchuu Senkan Yamamoto Youko"
          ],
          [
           "Bones",
           "Space☆Dandy"
          ],
          [
           "UNKNOWN",
           "Tamala 2010: A Punk Cat in Space"
          ],
          [
           "A-1 Pictures",
           "Uchuu Kyoudai"
          ],
          [
           "Tatsunoko Production",
           "Uchuu no Kishi Tekkaman"
          ],
          [
           "Toei Animation",
           "SF Saiyuuki Starzinger"
          ],
          [
           "Artmic",
           "Scramble Wars: Tsuppashire! Genom Trophy Rally"
          ],
          [
           "A-1 Pictures",
           "Uchuu Show e Youkoso"
          ],
          [
           "Nippon Animation",
           "Uchuusen Sagittarius"
          ],
          [
           "UNKNOWN",
           "Uchuusen Sagittarius Pilot"
          ]
         ],
         "hovertemplate": "rec_label=vector_rec<br>UMAP_1=%{x}<br>UMAP_2=%{y}<br>Studios=%{customdata[0]}<br>Name=%{customdata[1]}<extra></extra>",
         "legendgroup": "vector_rec",
         "marker": {
          "color": "#EF553B",
          "symbol": "circle"
         },
         "mode": "markers",
         "name": "vector_rec",
         "orientation": "v",
         "showlegend": true,
         "type": "scatter",
         "x": [
          14.474131,
          14.440348,
          13.8011465,
          12.618481,
          12.974852,
          13.336046,
          -2.2389097,
          -1.6843549,
          11.305794,
          -1.667579,
          11.487089,
          -2.86018,
          11.547108,
          10.895363,
          11.420032,
          -2.9878135,
          10.835056,
          11.465973
         ],
         "xaxis": "x",
         "y": [
          2.3024206,
          2.3142202,
          6.021254,
          2.5987322,
          7.0123534,
          6.997689,
          4.215326,
          5.7122645,
          3.132372,
          6.5854664,
          5.11618,
          5.291518,
          3.023351,
          2.439266,
          3.3522382,
          4.959824,
          2.3882842,
          5.1059837
         ],
         "yaxis": "y"
        },
        {
         "customdata": [
          [
           "Bones",
           "Darker than Black: Kuro no Keiyakusha"
          ],
          [
           "UNKNOWN",
           "Steady x Study"
          ],
          [
           "Toei Animation",
           "Magnerobo Ga-Keen"
          ],
          [
           "Nippon Animation",
           "Ikuze! Gen-san"
          ],
          [
           "ACiD FiLM",
           "Platonic Chain: Web"
          ],
          [
           "AIC, Artmic, animate Film",
           "Ten Little Gall Force"
          ],
          [
           "UNKNOWN",
           "Marine Snow no Densetsu"
          ],
          [
           "UNKNOWN",
           "Mahou no Pen"
          ],
          [
           "Eiken",
           "Sennin Buraku"
          ],
          [
           "Tokyo Movie Shinsha",
           "Hajime Ningen Gyatoruz"
          ],
          [
           "Tatsunoko Production",
           "Okawari-Boy Starzan-S"
          ],
          [
           "APPP",
           "Ore no Sora Keiji-hen"
          ],
          [
           "Sunrise",
           "Zero Tester: Chikyuu wo Mamore!"
          ],
          [
           "UNKNOWN",
           "Lan Mao"
          ],
          [
           "UNKNOWN",
           "Fuwa Aoyun Manyouji"
          ],
          [
           "Ascension",
           "Kizuna Ichigeki"
          ],
          [
           "UNKNOWN",
           "Manga Naruhodo Monogatari"
          ],
          [
           "UNKNOWN",
           "Phantom Yuusha Densetsu"
          ],
          [
           "UNKNOWN",
           "Hayabusa: Back to the Earth - Kikan"
          ],
          [
           "Tokyo Movie Shinsha",
           "Jungle Kurobee"
          ],
          [
           "UNKNOWN",
           "Skyers 5"
          ],
          [
           "Mushi Production",
           "Wanpaku Tanteidan"
          ],
          [
           "UNKNOWN",
           "My Melody no Akazukin"
          ],
          [
           "Tatsunoko Production",
           "Dokachin"
          ],
          [
           "UNKNOWN",
           "Cheol-in 007"
          ],
          [
           "UNKNOWN",
           "Robot King"
          ],
          [
           "UNKNOWN",
           "Solar I.II.III"
          ],
          [
           "UNKNOWN",
           "Super Titans 15"
          ],
          [
           "UNKNOWN",
           "Kankara Sanshin"
          ],
          [
           "UNKNOWN",
           "Kyojin no Hoshi: Dai League Ball"
          ],
          [
           "UNKNOWN",
           "Kyojin no Hoshi: Shukumei no Taiketsu"
          ],
          [
           "UNKNOWN",
           "Mr. Pen Pen"
          ],
          [
           "UNKNOWN",
           "Tetsuwan Atom: Ao Kishi no Kan"
          ],
          [
           "Toei Animation",
           "Tiger Mask Fuku Men League Sen"
          ],
          [
           "Production Reed",
           "Doctor Chichibuyama"
          ],
          [
           "Toei Animation",
           "Gu-Gu Ganmo (Movie)"
          ],
          [
           "J.C.F.",
           "Sennen no Yakusoku"
          ],
          [
           "UNKNOWN",
           "Tarepanda"
          ],
          [
           "Gainax",
           "Komatsu Sakyo Anime Gekijou"
          ],
          [
           "Sunrise",
           "Shoko Nakagawa Prism Tour Special"
          ],
          [
           "Kachidoki Studio",
           "Prison Bear"
          ],
          [
           "Shin-Ei Animation",
           "Stitch to Suna no Wakusei"
          ],
          [
           "David Production",
           "JoJo no Kimyou na Bouken Part 3: Stardust Crusaders 2nd Season"
          ],
          [
           "UNKNOWN",
           "Guitar Shoujo!"
          ],
          [
           "UNKNOWN",
           "Bip to Bap"
          ],
          [
           "UNKNOWN",
           "Swimming"
          ],
          [
           "UNKNOWN",
           "Guitar"
          ],
          [
           "UNKNOWN",
           "Mormorando"
          ],
          [
           "UNKNOWN",
           "Curly"
          ],
          [
           "UNKNOWN",
           "Kyoto Gakuen Daigaku"
          ],
          [
           "Decovocal",
           "Union Union"
          ],
          [
           "UNKNOWN",
           "Tanoshii Saki Uta Animation"
          ],
          [
           "UNKNOWN",
           "Shin Gakkou no Yuurei"
          ],
          [
           "UNKNOWN",
           "Space Gundam V"
          ],
          [
           "dwarf",
           "Neko Neko Gong Show"
          ],
          [
           "UNKNOWN",
           "Capsule Samurai"
          ],
          [
           "UNKNOWN",
           "Break Go!Ga!"
          ],
          [
           "UNKNOWN",
           "Hakodate Musical"
          ],
          [
           "UNKNOWN",
           "MaxValu Kyushu"
          ],
          [
           "UNKNOWN",
           "Nameless Flipbook"
          ],
          [
           "UNKNOWN",
           "Slide"
          ],
          [
           "UNKNOWN",
           "Zhu Zhu Xia: Da Nao Huang Gong"
          ],
          [
           "UNKNOWN",
           "Zhu Zhu Xia: Wu Xia 2008"
          ],
          [
           "UNKNOWN",
           "The★Fire G-Men"
          ],
          [
           "UNKNOWN",
           "Controller of Controller"
          ],
          [
           "UNKNOWN",
           "Tug-Tug"
          ],
          [
           "UNKNOWN",
           "Race Eizou-hen"
          ],
          [
           "UNKNOWN",
           "Hirooka Asako"
          ],
          [
           "NAZ",
           "Id:Invaded"
          ],
          [
           "UNKNOWN",
           "Tokyo 2020 Olympics CMs"
          ],
          [
           "UNKNOWN",
           "Kamo ga Suki"
          ],
          [
           "UNKNOWN",
           "Templex"
          ],
          [
           "UNKNOWN",
           "Sushi"
          ],
          [
           "Ajia-do",
           "Honzuki no Gekokujou: Shisho ni Naru Tame ni wa Shudan wo Erandeiraremasen 2nd Season"
          ],
          [
           "UNKNOWN",
           "Onigiri ni Naritai Cogimyun"
          ],
          [
           "UNKNOWN",
           "Enyogu"
          ],
          [
           "UNKNOWN",
           "Fusuma 2"
          ],
          [
           "UNKNOWN",
           "Man with a Mission Animated Short Movie"
          ],
          [
           "Triangle Staff",
           "Junkers Come Here Pilot Film"
          ],
          [
           "UNKNOWN",
           "S=13"
          ],
          [
           "TMS Entertainment",
           "Bakugan: Geogan Rising"
          ],
          [
           "UNKNOWN",
           "Suteki na Okurimono"
          ],
          [
           "AQUA ARIS",
           "Kanojo, Okarishimasu: Date Movie"
          ],
          [
           "UNKNOWN",
           "Bakugan: Legends"
          ],
          [
           "AIC",
           "Asu no Yoichi!"
          ],
          [
           "Madhouse",
           "Black Lagoon"
          ],
          [
           "Sunrise",
           "Code Geass: Hangyaku no Lelouch"
          ],
          [
           "Sunrise",
           "Code Geass: Hangyaku no Lelouch R2"
          ],
          [
           "Arms",
           "Elfen Lied"
          ],
          [
           "Bones",
           "Fullmetal Alchemist"
          ],
          [
           "SILVER LINK.",
           "Itai no wa Iya nanode Bougyoryoku ni Kyokufuri Shitai to Omoimasu."
          ],
          [
           "David Production",
           "JoJo no Kimyou na Bouken (TV)"
          ],
          [
           "David Production",
           "JoJo no Kimyou na Bouken Part 3: Stardust Crusaders"
          ],
          [
           "Telecom Animation Film",
           "Kami no Tou"
          ],
          [
           "Trigger",
           "Kill la Kill"
          ],
          [
           "Production I.G",
           "Koukaku Kidoutai: Stand Alone Complex"
          ],
          [
           "ufotable",
           "Majokko Shimai no Yoyo to Nene"
          ],
          [
           "Bones",
           "Mob Psycho 100"
          ],
          [
           "Gainax, Tatsunoko Production",
           "Neon Genesis Evangelion"
          ],
          [
           "Tatsunoko Production",
           "Ping Pong the Animation"
          ],
          [
           "Manglobe",
           "Samurai Champloo"
          ],
          [
           "Toei Animation",
           "Shounen Ninja Kaze no Fujimaru"
          ],
          [
           "Shin-Ei Animation",
           "Stitch! Perfect Memory"
          ],
          [
           "P.A. Works",
           "Angel Beats!"
          ],
          [
           "SILVER LINK.",
           "Baka to Test to Shoukanjuu"
          ],
          [
           "Shaft",
           "Bakemonogatari"
          ],
          [
           "Madhouse",
           "Chihayafuru"
          ],
          [
           "Kyoto Animation",
           "Clannad: After Story"
          ],
          [
           "Knack Productions",
           "Cybot Robocchi"
          ],
          [
           "Madhouse",
           "Death Note"
          ],
          [
           "Nut",
           "Deca-Dence"
          ],
          [
           "Gainax, Production I.G",
           "FLCL"
          ],
          [
           "Studio Deen",
           "Fate/stay night"
          ],
          [
           "A-1 Pictures",
           "Gin no Saji"
          ],
          [
           "feel.",
           "Hinamatsuri (TV)"
          ],
          [
           "Ajia-do",
           "Honzuki no Gekokujou: Shisho ni Naru Tame ni wa Shudan wo Erandeiraremasen"
          ],
          [
           "Bandai Namco Pictures",
           "Hula Fulla Dance"
          ],
          [
           "P.A. Works",
           "Irozuku Sekai no Ashita kara"
          ],
          [
           "Ajia-do",
           "Kakushigoto"
          ],
          [
           "Production I.G",
           "Koukaku Kidoutai"
          ],
          [
           "Trigger",
           "Little Witch Academia"
          ],
          [
           "Madhouse",
           "Mai Mai Shinko to Sennen no Mahou"
          ],
          [
           "C2C",
           "Majo no Tabitabi"
          ],
          [
           "Studio Ghibli",
           "Mononoke Hime"
          ],
          [
           "Doga Kobo",
           "Natsuyuki Rendezvous"
          ],
          [
           "Toei Animation",
           "Ookami Shounen Ken"
          ],
          [
           "Production I.G",
           "Psycho-Pass"
          ],
          [
           "UNKNOWN",
           "Pupa (Movie)"
          ],
          [
           "Tezuka Productions, MAPPA",
           "Sakamichi no Apollon"
          ],
          [
           "Manglobe",
           "Samurai Flamenco"
          ],
          [
           "Toei Animation",
           "Shounen Jack to Mahoutsukai"
          ],
          [
           "Toei Animation, Studio Junio",
           "Super Mario no Shouboutai"
          ],
          [
           "UNKNOWN",
           "Tiger Mask (Movie)"
          ],
          [
           "UNKNOWN",
           "Tokyo Loop"
          ],
          [
           "Madhouse",
           "Trigun"
          ],
          [
           "A-1 Pictures",
           "Tsuritama"
          ],
          [
           "HS Pictures Studio",
           "UFO Gakuen no Himitsu"
          ],
          [
           "P.A. Works",
           "Uchouten Kazoku"
          ],
          [
           "Production I.G",
           "Usagi Drop"
          ],
          [
           "Studio 4°C",
           "Utopa"
          ],
          [
           "SILVER LINK.",
           "Watashi ga Motenai no wa Dou Kangaetemo Omaera ga Warui!"
          ],
          [
           "TMS Entertainment",
           "Yowamushi Pedal"
          ]
         ],
         "hovertemplate": "rec_label=collab_filter<br>UMAP_1=%{x}<br>UMAP_2=%{y}<br>Studios=%{customdata[0]}<br>Name=%{customdata[1]}<extra></extra>",
         "legendgroup": "collab_filter",
         "marker": {
          "color": "#00cc96",
          "symbol": "circle"
         },
         "mode": "markers",
         "name": "collab_filter",
         "orientation": "v",
         "showlegend": true,
         "type": "scatter",
         "x": [
          -1.1188003,
          12.997317,
          12.556452,
          12.574588,
          13.411946,
          12.563662,
          13.563586,
          12.469107,
          13.480211,
          12.820256,
          12.501567,
          13.498025,
          13.199221,
          13.933053,
          15.14835,
          14.85075,
          14.938608,
          13.478836,
          14.601095,
          12.895205,
          15.745446,
          12.719013,
          13.772763,
          12.690861,
          14.866462,
          12.857752,
          14.711189,
          15.130957,
          15.737102,
          15.851507,
          15.811435,
          13.633297,
          13.886292,
          12.307133,
          12.978791,
          12.407018,
          14.986282,
          15.532462,
          15.133376,
          13.020164,
          12.999199,
          12.016782,
          -1.0893046,
          12.670398,
          14.59114,
          12.288654,
          12.192978,
          13.184665,
          12.749253,
          14.5556,
          14.361407,
          13.489331,
          14.595644,
          13.7488575,
          14.687287,
          14.77515,
          13.605139,
          13.147459,
          12.665872,
          12.918615,
          14.414448,
          14.789653,
          15.022134,
          14.820959,
          13.731126,
          14.776713,
          13.497,
          12.793773,
          -0.9775004,
          14.727172,
          13.658662,
          12.069089,
          12.243874,
          -0.9506061,
          14.834143,
          12.220537,
          12.191832,
          14.646512,
          13.339289,
          12.122121,
          13.493431,
          14.3261595,
          13.254145,
          14.934298,
          -2.1518323,
          -2.8480396,
          -3.0193758,
          -2.9594133,
          -1.7523235,
          -1.5866652,
          -1.4413975,
          -1.1242554,
          -1.1445754,
          -1.2651407,
          -2.423106,
          -3.2648776,
          -2.8547492,
          -2.06167,
          -3.542613,
          -3.5744991,
          -2.5521305,
          11.367964,
          11.528623,
          -2.6716096,
          -1.8438424,
          -2.8348968,
          -2.9099138,
          -3.1935835,
          11.359333,
          -2.9015653,
          -1.4513824,
          -3.1530688,
          -1.9411669,
          -2.9096982,
          -1.8363398,
          -1.0804734,
          11.493124,
          -2.4319394,
          -0.8779444,
          -3.3709266,
          -2.5265203,
          -2.2499297,
          -1.3777796,
          -3.1255026,
          -2.5098526,
          11.38382,
          -3.3967748,
          11.625579,
          -3.503126,
          -2.5236514,
          11.278297,
          11.344041,
          11.594327,
          11.637973,
          -2.8492482,
          -3.017003,
          11.519858,
          -2.5781577,
          -3.2133346,
          11.557915,
          -2.0598497,
          -2.8907845
         ],
         "xaxis": "x",
         "y": [
          6.266244,
          6.7778573,
          3.4412234,
          3.169945,
          6.66974,
          3.48407,
          5.6808105,
          6.3094797,
          5.8166065,
          3.170058,
          2.7090554,
          5.934026,
          5.420479,
          5.6580863,
          1.4769106,
          1.0963799,
          1.7152905,
          6.357303,
          1.1771547,
          3.009501,
          2.49448,
          3.3425996,
          5.526412,
          2.879443,
          1.7626233,
          6.216457,
          1.5837624,
          1.5597959,
          2.4299555,
          2.53654,
          2.4988086,
          5.517076,
          5.767722,
          3.7058764,
          3.6910536,
          3.0748856,
          2.3934886,
          2.242051,
          2.4548352,
          5.730702,
          7.170736,
          3.9279168,
          5.445099,
          6.9694543,
          2.1570477,
          6.474683,
          6.5158763,
          7.275436,
          7.339481,
          0.8867255,
          1.0389429,
          7.427473,
          1.2052925,
          6.434646,
          0.9022046,
          2.17315,
          7.259666,
          7.1988773,
          7.392754,
          7.1448255,
          0.94658816,
          1.9068627,
          1.2462838,
          1.8779069,
          7.4510827,
          1.7298073,
          7.278807,
          7.518251,
          5.9653387,
          0.79043543,
          7.4197817,
          6.151954,
          6.60675,
          5.8937273,
          0.63769984,
          6.6029387,
          6.645196,
          0.69208485,
          5.2762685,
          6.776515,
          6.844899,
          1.0114316,
          6.966354,
          1.1831186,
          4.340772,
          6.9464207,
          7.7834144,
          7.7391834,
          6.5206137,
          6.5288725,
          4.9404144,
          5.417707,
          5.381165,
          4.9912286,
          5.931288,
          6.599546,
          4.763798,
          6.391874,
          6.8009024,
          6.846006,
          6.671932,
          3.664719,
          4.1384373,
          5.6400995,
          4.7139854,
          5.7257404,
          6.97779,
          7.2157764,
          3.180537,
          7.1041255,
          5.0233083,
          6.2390556,
          4.679229,
          5.163128,
          5.805457,
          5.791397,
          3.4471786,
          5.671238,
          5.9544554,
          6.5483437,
          6.017829,
          4.2008004,
          4.9603915,
          7.2126265,
          4.5560465,
          3.6313984,
          6.509297,
          5.409149,
          6.644779,
          4.4423194,
          3.8537147,
          3.9825163,
          5.0208244,
          4.860429,
          6.997029,
          5.047315,
          4.582842,
          5.5563445,
          6.6123896,
          4.42965,
          4.4955997,
          6.4870534
         ],
         "yaxis": "y"
        },
        {
         "customdata": [
          [
           "Sunrise",
           "Cowboy Bebop"
          ],
          [
           "Bones, Sunrise",
           "Escaflowne"
          ],
          [
           "Studio Deen",
           "GetBackers"
          ],
          [
           "J.C.Staff",
           "Hachimitsu to Clover"
          ],
          [
           "Madhouse",
           "Hajime no Ippo"
          ],
          [
           "Pierrot",
           "Hikaru no Go"
          ],
          [
           "Bones",
           "Cowboy Bebop: Tengoku no Tobira"
          ],
          [
           "Gonzo",
           "Gantz"
          ],
          [
           "CoMix Wave Films",
           "Hoshi no Koe"
          ],
          [
           "Nippon Animation",
           "Hunter x Hunter"
          ]
         ],
         "hovertemplate": "rec_label=pop_rec<br>UMAP_1=%{x}<br>UMAP_2=%{y}<br>Studios=%{customdata[0]}<br>Name=%{customdata[1]}<extra></extra>",
         "legendgroup": "pop_rec",
         "marker": {
          "color": "blue",
          "size": 12,
          "symbol": "star"
         },
         "mode": "markers",
         "name": "pop_rec",
         "orientation": "v",
         "showlegend": true,
         "type": "scatter",
         "x": [
          -2.9845078,
          -2.6759024,
          -1.8929673,
          -2.9026573,
          -2.9219813,
          -3.067583,
          -1.6972855,
          -2.5755885,
          10.87768,
          -3.1838691
         ],
         "xaxis": "x",
         "y": [
          7.740044,
          4.6567173,
          4.7440915,
          6.0006227,
          7.088863,
          6.2887373,
          6.7418747,
          4.3819327,
          2.4354022,
          7.348995
         ],
         "yaxis": "y"
        },
        {
         "marker": {
          "color": "red",
          "size": 10,
          "symbol": "x"
         },
         "mode": "markers",
         "name": "rec 1",
         "type": "scatter",
         "x": [
          -1.1188002824783325
         ],
         "y": [
          6.266243934631348
         ]
        },
        {
         "marker": {
          "color": "red",
          "size": 10,
          "symbol": "x"
         },
         "mode": "markers",
         "name": "rec 2",
         "type": "scatter",
         "x": [
          -0.9775003790855408
         ],
         "y": [
          5.965338706970215
         ]
        },
        {
         "marker": {
          "color": "red",
          "size": 10,
          "symbol": "x"
         },
         "mode": "markers",
         "name": "rec 3",
         "type": "scatter",
         "x": [
          -0.8779444098472595
         ],
         "y": [
          5.954455375671387
         ]
        },
        {
         "marker": {
          "color": "red",
          "size": 10,
          "symbol": "x"
         },
         "mode": "markers",
         "name": "rec 4",
         "type": "scatter",
         "x": [
          -0.950606107711792
         ],
         "y": [
          5.8937273025512695
         ]
        },
        {
         "marker": {
          "color": "red",
          "size": 10,
          "symbol": "x"
         },
         "mode": "markers",
         "name": "rec 5",
         "type": "scatter",
         "x": [
          -1.586665153503418
         ],
         "y": [
          6.528872489929199
         ]
        }
       ],
       "layout": {
        "annotations": [
         {
          "font": {
           "color": "purple",
           "size": 20
          },
          "showarrow": true,
          "text": "X",
          "x": -1.1480263471603394,
          "y": 6.325146198272705
         }
        ],
        "legend": {
         "title": {
          "text": "rec_label"
         },
         "tracegroupgap": 0
        },
        "plot_bgcolor": "rgba(220, 220, 220, 0.1)",
        "template": {
         "data": {
          "bar": [
           {
            "error_x": {
             "color": "#2a3f5f"
            },
            "error_y": {
             "color": "#2a3f5f"
            },
            "marker": {
             "line": {
              "color": "#E5ECF6",
              "width": 0.5
             },
             "pattern": {
              "fillmode": "overlay",
              "size": 10,
              "solidity": 0.2
             }
            },
            "type": "bar"
           }
          ],
          "barpolar": [
           {
            "marker": {
             "line": {
              "color": "#E5ECF6",
              "width": 0.5
             },
             "pattern": {
              "fillmode": "overlay",
              "size": 10,
              "solidity": 0.2
             }
            },
            "type": "barpolar"
           }
          ],
          "carpet": [
           {
            "aaxis": {
             "endlinecolor": "#2a3f5f",
             "gridcolor": "white",
             "linecolor": "white",
             "minorgridcolor": "white",
             "startlinecolor": "#2a3f5f"
            },
            "baxis": {
             "endlinecolor": "#2a3f5f",
             "gridcolor": "white",
             "linecolor": "white",
             "minorgridcolor": "white",
             "startlinecolor": "#2a3f5f"
            },
            "type": "carpet"
           }
          ],
          "choropleth": [
           {
            "colorbar": {
             "outlinewidth": 0,
             "ticks": ""
            },
            "type": "choropleth"
           }
          ],
          "contour": [
           {
            "colorbar": {
             "outlinewidth": 0,
             "ticks": ""
            },
            "colorscale": [
             [
              0,
              "#0d0887"
             ],
             [
              0.1111111111111111,
              "#46039f"
             ],
             [
              0.2222222222222222,
              "#7201a8"
             ],
             [
              0.3333333333333333,
              "#9c179e"
             ],
             [
              0.4444444444444444,
              "#bd3786"
             ],
             [
              0.5555555555555556,
              "#d8576b"
             ],
             [
              0.6666666666666666,
              "#ed7953"
             ],
             [
              0.7777777777777778,
              "#fb9f3a"
             ],
             [
              0.8888888888888888,
              "#fdca26"
             ],
             [
              1,
              "#f0f921"
             ]
            ],
            "type": "contour"
           }
          ],
          "contourcarpet": [
           {
            "colorbar": {
             "outlinewidth": 0,
             "ticks": ""
            },
            "type": "contourcarpet"
           }
          ],
          "heatmap": [
           {
            "colorbar": {
             "outlinewidth": 0,
             "ticks": ""
            },
            "colorscale": [
             [
              0,
              "#0d0887"
             ],
             [
              0.1111111111111111,
              "#46039f"
             ],
             [
              0.2222222222222222,
              "#7201a8"
             ],
             [
              0.3333333333333333,
              "#9c179e"
             ],
             [
              0.4444444444444444,
              "#bd3786"
             ],
             [
              0.5555555555555556,
              "#d8576b"
             ],
             [
              0.6666666666666666,
              "#ed7953"
             ],
             [
              0.7777777777777778,
              "#fb9f3a"
             ],
             [
              0.8888888888888888,
              "#fdca26"
             ],
             [
              1,
              "#f0f921"
             ]
            ],
            "type": "heatmap"
           }
          ],
          "heatmapgl": [
           {
            "colorbar": {
             "outlinewidth": 0,
             "ticks": ""
            },
            "colorscale": [
             [
              0,
              "#0d0887"
             ],
             [
              0.1111111111111111,
              "#46039f"
             ],
             [
              0.2222222222222222,
              "#7201a8"
             ],
             [
              0.3333333333333333,
              "#9c179e"
             ],
             [
              0.4444444444444444,
              "#bd3786"
             ],
             [
              0.5555555555555556,
              "#d8576b"
             ],
             [
              0.6666666666666666,
              "#ed7953"
             ],
             [
              0.7777777777777778,
              "#fb9f3a"
             ],
             [
              0.8888888888888888,
              "#fdca26"
             ],
             [
              1,
              "#f0f921"
             ]
            ],
            "type": "heatmapgl"
           }
          ],
          "histogram": [
           {
            "marker": {
             "pattern": {
              "fillmode": "overlay",
              "size": 10,
              "solidity": 0.2
             }
            },
            "type": "histogram"
           }
          ],
          "histogram2d": [
           {
            "colorbar": {
             "outlinewidth": 0,
             "ticks": ""
            },
            "colorscale": [
             [
              0,
              "#0d0887"
             ],
             [
              0.1111111111111111,
              "#46039f"
             ],
             [
              0.2222222222222222,
              "#7201a8"
             ],
             [
              0.3333333333333333,
              "#9c179e"
             ],
             [
              0.4444444444444444,
              "#bd3786"
             ],
             [
              0.5555555555555556,
              "#d8576b"
             ],
             [
              0.6666666666666666,
              "#ed7953"
             ],
             [
              0.7777777777777778,
              "#fb9f3a"
             ],
             [
              0.8888888888888888,
              "#fdca26"
             ],
             [
              1,
              "#f0f921"
             ]
            ],
            "type": "histogram2d"
           }
          ],
          "histogram2dcontour": [
           {
            "colorbar": {
             "outlinewidth": 0,
             "ticks": ""
            },
            "colorscale": [
             [
              0,
              "#0d0887"
             ],
             [
              0.1111111111111111,
              "#46039f"
             ],
             [
              0.2222222222222222,
              "#7201a8"
             ],
             [
              0.3333333333333333,
              "#9c179e"
             ],
             [
              0.4444444444444444,
              "#bd3786"
             ],
             [
              0.5555555555555556,
              "#d8576b"
             ],
             [
              0.6666666666666666,
              "#ed7953"
             ],
             [
              0.7777777777777778,
              "#fb9f3a"
             ],
             [
              0.8888888888888888,
              "#fdca26"
             ],
             [
              1,
              "#f0f921"
             ]
            ],
            "type": "histogram2dcontour"
           }
          ],
          "mesh3d": [
           {
            "colorbar": {
             "outlinewidth": 0,
             "ticks": ""
            },
            "type": "mesh3d"
           }
          ],
          "parcoords": [
           {
            "line": {
             "colorbar": {
              "outlinewidth": 0,
              "ticks": ""
             }
            },
            "type": "parcoords"
           }
          ],
          "pie": [
           {
            "automargin": true,
            "type": "pie"
           }
          ],
          "scatter": [
           {
            "fillpattern": {
             "fillmode": "overlay",
             "size": 10,
             "solidity": 0.2
            },
            "type": "scatter"
           }
          ],
          "scatter3d": [
           {
            "line": {
             "colorbar": {
              "outlinewidth": 0,
              "ticks": ""
             }
            },
            "marker": {
             "colorbar": {
              "outlinewidth": 0,
              "ticks": ""
             }
            },
            "type": "scatter3d"
           }
          ],
          "scattercarpet": [
           {
            "marker": {
             "colorbar": {
              "outlinewidth": 0,
              "ticks": ""
             }
            },
            "type": "scattercarpet"
           }
          ],
          "scattergeo": [
           {
            "marker": {
             "colorbar": {
              "outlinewidth": 0,
              "ticks": ""
             }
            },
            "type": "scattergeo"
           }
          ],
          "scattergl": [
           {
            "marker": {
             "colorbar": {
              "outlinewidth": 0,
              "ticks": ""
             }
            },
            "type": "scattergl"
           }
          ],
          "scattermapbox": [
           {
            "marker": {
             "colorbar": {
              "outlinewidth": 0,
              "ticks": ""
             }
            },
            "type": "scattermapbox"
           }
          ],
          "scatterpolar": [
           {
            "marker": {
             "colorbar": {
              "outlinewidth": 0,
              "ticks": ""
             }
            },
            "type": "scatterpolar"
           }
          ],
          "scatterpolargl": [
           {
            "marker": {
             "colorbar": {
              "outlinewidth": 0,
              "ticks": ""
             }
            },
            "type": "scatterpolargl"
           }
          ],
          "scatterternary": [
           {
            "marker": {
             "colorbar": {
              "outlinewidth": 0,
              "ticks": ""
             }
            },
            "type": "scatterternary"
           }
          ],
          "surface": [
           {
            "colorbar": {
             "outlinewidth": 0,
             "ticks": ""
            },
            "colorscale": [
             [
              0,
              "#0d0887"
             ],
             [
              0.1111111111111111,
              "#46039f"
             ],
             [
              0.2222222222222222,
              "#7201a8"
             ],
             [
              0.3333333333333333,
              "#9c179e"
             ],
             [
              0.4444444444444444,
              "#bd3786"
             ],
             [
              0.5555555555555556,
              "#d8576b"
             ],
             [
              0.6666666666666666,
              "#ed7953"
             ],
             [
              0.7777777777777778,
              "#fb9f3a"
             ],
             [
              0.8888888888888888,
              "#fdca26"
             ],
             [
              1,
              "#f0f921"
             ]
            ],
            "type": "surface"
           }
          ],
          "table": [
           {
            "cells": {
             "fill": {
              "color": "#EBF0F8"
             },
             "line": {
              "color": "white"
             }
            },
            "header": {
             "fill": {
              "color": "#C8D4E3"
             },
             "line": {
              "color": "white"
             }
            },
            "type": "table"
           }
          ]
         },
         "layout": {
          "annotationdefaults": {
           "arrowcolor": "#2a3f5f",
           "arrowhead": 0,
           "arrowwidth": 1
          },
          "autotypenumbers": "strict",
          "coloraxis": {
           "colorbar": {
            "outlinewidth": 0,
            "ticks": ""
           }
          },
          "colorscale": {
           "diverging": [
            [
             0,
             "#8e0152"
            ],
            [
             0.1,
             "#c51b7d"
            ],
            [
             0.2,
             "#de77ae"
            ],
            [
             0.3,
             "#f1b6da"
            ],
            [
             0.4,
             "#fde0ef"
            ],
            [
             0.5,
             "#f7f7f7"
            ],
            [
             0.6,
             "#e6f5d0"
            ],
            [
             0.7,
             "#b8e186"
            ],
            [
             0.8,
             "#7fbc41"
            ],
            [
             0.9,
             "#4d9221"
            ],
            [
             1,
             "#276419"
            ]
           ],
           "sequential": [
            [
             0,
             "#0d0887"
            ],
            [
             0.1111111111111111,
             "#46039f"
            ],
            [
             0.2222222222222222,
             "#7201a8"
            ],
            [
             0.3333333333333333,
             "#9c179e"
            ],
            [
             0.4444444444444444,
             "#bd3786"
            ],
            [
             0.5555555555555556,
             "#d8576b"
            ],
            [
             0.6666666666666666,
             "#ed7953"
            ],
            [
             0.7777777777777778,
             "#fb9f3a"
            ],
            [
             0.8888888888888888,
             "#fdca26"
            ],
            [
             1,
             "#f0f921"
            ]
           ],
           "sequentialminus": [
            [
             0,
             "#0d0887"
            ],
            [
             0.1111111111111111,
             "#46039f"
            ],
            [
             0.2222222222222222,
             "#7201a8"
            ],
            [
             0.3333333333333333,
             "#9c179e"
            ],
            [
             0.4444444444444444,
             "#bd3786"
            ],
            [
             0.5555555555555556,
             "#d8576b"
            ],
            [
             0.6666666666666666,
             "#ed7953"
            ],
            [
             0.7777777777777778,
             "#fb9f3a"
            ],
            [
             0.8888888888888888,
             "#fdca26"
            ],
            [
             1,
             "#f0f921"
            ]
           ]
          },
          "colorway": [
           "#636efa",
           "#EF553B",
           "#00cc96",
           "#ab63fa",
           "#FFA15A",
           "#19d3f3",
           "#FF6692",
           "#B6E880",
           "#FF97FF",
           "#FECB52"
          ],
          "font": {
           "color": "#2a3f5f"
          },
          "geo": {
           "bgcolor": "white",
           "lakecolor": "white",
           "landcolor": "#E5ECF6",
           "showlakes": true,
           "showland": true,
           "subunitcolor": "white"
          },
          "hoverlabel": {
           "align": "left"
          },
          "hovermode": "closest",
          "mapbox": {
           "style": "light"
          },
          "paper_bgcolor": "white",
          "plot_bgcolor": "#E5ECF6",
          "polar": {
           "angularaxis": {
            "gridcolor": "white",
            "linecolor": "white",
            "ticks": ""
           },
           "bgcolor": "#E5ECF6",
           "radialaxis": {
            "gridcolor": "white",
            "linecolor": "white",
            "ticks": ""
           }
          },
          "scene": {
           "xaxis": {
            "backgroundcolor": "#E5ECF6",
            "gridcolor": "white",
            "gridwidth": 2,
            "linecolor": "white",
            "showbackground": true,
            "ticks": "",
            "zerolinecolor": "white"
           },
           "yaxis": {
            "backgroundcolor": "#E5ECF6",
            "gridcolor": "white",
            "gridwidth": 2,
            "linecolor": "white",
            "showbackground": true,
            "ticks": "",
            "zerolinecolor": "white"
           },
           "zaxis": {
            "backgroundcolor": "#E5ECF6",
            "gridcolor": "white",
            "gridwidth": 2,
            "linecolor": "white",
            "showbackground": true,
            "ticks": "",
            "zerolinecolor": "white"
           }
          },
          "shapedefaults": {
           "line": {
            "color": "#2a3f5f"
           }
          },
          "ternary": {
           "aaxis": {
            "gridcolor": "white",
            "linecolor": "white",
            "ticks": ""
           },
           "baxis": {
            "gridcolor": "white",
            "linecolor": "white",
            "ticks": ""
           },
           "bgcolor": "#E5ECF6",
           "caxis": {
            "gridcolor": "white",
            "linecolor": "white",
            "ticks": ""
           }
          },
          "title": {
           "x": 0.05
          },
          "xaxis": {
           "automargin": true,
           "gridcolor": "white",
           "linecolor": "white",
           "ticks": "",
           "title": {
            "standoff": 15
           },
           "zerolinecolor": "white",
           "zerolinewidth": 2
          },
          "yaxis": {
           "automargin": true,
           "gridcolor": "white",
           "linecolor": "white",
           "ticks": "",
           "title": {
            "standoff": 15
           },
           "zerolinecolor": "white",
           "zerolinewidth": 2
          }
         }
        },
        "title": {
         "text": "UMAP of Anime Recommendations from Collab Filter, Vector Database and Popular Recommendations"
        },
        "xaxis": {
         "anchor": "y",
         "domain": [
          0,
          1
         ],
         "showgrid": false,
         "showticklabels": false,
         "title": {
          "text": ""
         },
         "zeroline": false
        },
        "yaxis": {
         "anchor": "x",
         "domain": [
          0,
          1
         ],
         "showgrid": false,
         "showticklabels": false,
         "title": {
          "text": ""
         },
         "zeroline": false
        }
       }
      }
     },
     "metadata": {},
     "output_type": "display_data"
    }
   ],
   "source": [
    "# Apply UMAP for dimensionality reduction\n",
    "umap_model = UMAP(n_components=2, n_neighbors=5, min_dist=0.05,  metric= 'euclidean',random_state=0)\n",
    "umap_result = umap_model.fit_transform(combined_features)\n",
    "\n",
    "# Convert UMAP result to DataFrame\n",
    "umap_df = pd.DataFrame(umap_result, columns=['UMAP_1', 'UMAP_2'])\n",
    "\n",
    "# Add 'Studios' and 'Name' columns to the UMAP DataFrame\n",
    "umap_df['Studios'] = recs_umap['Studios'].tolist()\n",
    "umap_df['Name'] = recs_umap['Name'].tolist()\n",
    "umap_df['rec_label'] = recs_umap['rec_label'].tolist()\n",
    "umap_df['anime_id'] = recs_umap['anime_id'].tolist()\n",
    "\n",
    "# Plot the UMAP with color by 'rec_label'\n",
    "fig_umap = px.scatter(umap_df, x='UMAP_1', y='UMAP_2', color='rec_label', \n",
    "                        hover_data={'Studios': True, 'Name': True},\n",
    "                        title='UMAP of Anime Recommendations from Collab Filter, Vector Database and Popular Recommendations')\n",
    "\n",
    "# Modify the marker symbol for points labeled 'pop_rec' to be a star with yellow color and bigger size\n",
    "fig_umap.for_each_trace(lambda t: t.update(marker=dict(symbol='star', size=12, color='blue')) if t.name == 'pop_rec' else None)\n",
    "\n",
    "# Add annotation for a specific point\n",
    "x_coord = umap_df.loc[0, 'UMAP_1']\n",
    "y_coord = umap_df.loc[0, 'UMAP_2']\n",
    "fig_umap.add_annotation(x=x_coord, y=y_coord, text=\"X\", showarrow=True, font=dict(color=\"purple\", size=20))\n",
    "# Calculate pairwise distances between row 0 and all other rows\n",
    "distances = cdist(umap_df[['UMAP_1', 'UMAP_2']].iloc[[0]], umap_df[['UMAP_1', 'UMAP_2']], metric='euclidean')[0]\n",
    "# Sort distances and get the indices of the three closest rows (excluding row 0 itself)\n",
    "closest_indices = np.argsort(distances)[1:6]\n",
    "\n",
    "# Extract the closest rows based on the indices\n",
    "closest_rows = umap_df.iloc[closest_indices]\n",
    "\n",
    "for i, (index, row) in enumerate(closest_rows.iterrows(), start=1):\n",
    "    x_coord = row['UMAP_1']\n",
    "    y_coord = row['UMAP_2']\n",
    "    fig_umap.add_trace(go.Scatter(x=[x_coord], y=[y_coord], mode='markers', marker=dict(symbol='x', size=10, color='red'), name=f'rec {i}'))\n",
    "\n",
    "\n",
    "# Remove x-axis and y-axis labels\n",
    "fig_umap.update_layout(xaxis=dict(title_text=''), yaxis=dict(title_text=''))\n",
    "# Remove x-axis and y-axis labels, ticks, and gridlines\n",
    "fig_umap.update_layout(xaxis=dict(showticklabels=False, showgrid=False, zeroline=False),\n",
    "                        yaxis=dict(showticklabels=False, showgrid=False, zeroline=False))\n",
    "# Set light gray background with higher opacity\n",
    "fig_umap.update_layout(plot_bgcolor='rgba(220, 220, 220, 0.1)')\n",
    "\n",
    "# Show the plot\n",
    "fig_umap.show()"
   ]
  },
  {
   "cell_type": "code",
   "execution_count": 192,
   "metadata": {},
   "outputs": [
    {
     "data": {
      "text/html": [
       "<div>\n",
       "<style scoped>\n",
       "    .dataframe tbody tr th:only-of-type {\n",
       "        vertical-align: middle;\n",
       "    }\n",
       "\n",
       "    .dataframe tbody tr th {\n",
       "        vertical-align: top;\n",
       "    }\n",
       "\n",
       "    .dataframe thead th {\n",
       "        text-align: right;\n",
       "    }\n",
       "</style>\n",
       "<table border=\"1\" class=\"dataframe\">\n",
       "  <thead>\n",
       "    <tr style=\"text-align: right;\">\n",
       "      <th></th>\n",
       "      <th>UMAP_1</th>\n",
       "      <th>UMAP_2</th>\n",
       "      <th>Studios</th>\n",
       "      <th>Name</th>\n",
       "      <th>rec_label</th>\n",
       "      <th>anime_id</th>\n",
       "    </tr>\n",
       "  </thead>\n",
       "  <tbody>\n",
       "    <tr>\n",
       "      <th>31</th>\n",
       "      <td>10.952653</td>\n",
       "      <td>7.537581</td>\n",
       "      <td>UNKNOWN</td>\n",
       "      <td>Robot King</td>\n",
       "      <td>collab_filter</td>\n",
       "      <td>16620</td>\n",
       "    </tr>\n",
       "    <tr>\n",
       "      <th>59</th>\n",
       "      <td>10.839399</td>\n",
       "      <td>7.498396</td>\n",
       "      <td>UNKNOWN</td>\n",
       "      <td>Space Gundam V</td>\n",
       "      <td>collab_filter</td>\n",
       "      <td>35137</td>\n",
       "    </tr>\n",
       "    <tr>\n",
       "      <th>33</th>\n",
       "      <td>10.826811</td>\n",
       "      <td>7.462918</td>\n",
       "      <td>UNKNOWN</td>\n",
       "      <td>Super Titans 15</td>\n",
       "      <td>collab_filter</td>\n",
       "      <td>16806</td>\n",
       "    </tr>\n",
       "    <tr>\n",
       "      <th>9</th>\n",
       "      <td>11.612801</td>\n",
       "      <td>7.984448</td>\n",
       "      <td>ACiD FiLM</td>\n",
       "      <td>Platonic Chain: Web</td>\n",
       "      <td>collab_filter</td>\n",
       "      <td>5492</td>\n",
       "    </tr>\n",
       "    <tr>\n",
       "      <th>85</th>\n",
       "      <td>10.596025</td>\n",
       "      <td>7.565387</td>\n",
       "      <td>Triangle Staff</td>\n",
       "      <td>Junkers Come Here Pilot Film</td>\n",
       "      <td>collab_filter</td>\n",
       "      <td>42228</td>\n",
       "    </tr>\n",
       "  </tbody>\n",
       "</table>\n",
       "</div>"
      ],
      "text/plain": [
       "       UMAP_1    UMAP_2         Studios                          Name  \\\n",
       "31  10.952653  7.537581         UNKNOWN                    Robot King   \n",
       "59  10.839399  7.498396         UNKNOWN                Space Gundam V   \n",
       "33  10.826811  7.462918         UNKNOWN               Super Titans 15   \n",
       "9   11.612801  7.984448       ACiD FiLM           Platonic Chain: Web   \n",
       "85  10.596025  7.565387  Triangle Staff  Junkers Come Here Pilot Film   \n",
       "\n",
       "        rec_label anime_id  \n",
       "31  collab_filter    16620  \n",
       "59  collab_filter    35137  \n",
       "33  collab_filter    16806  \n",
       "9   collab_filter     5492  \n",
       "85  collab_filter    42228  "
      ]
     },
     "execution_count": 192,
     "metadata": {},
     "output_type": "execute_result"
    }
   ],
   "source": [
    "closest_rows"
   ]
  },
  {
   "cell_type": "code",
   "execution_count": 81,
   "metadata": {},
   "outputs": [],
   "source": []
  },
  {
   "cell_type": "code",
   "execution_count": 82,
   "metadata": {},
   "outputs": [],
   "source": []
  },
  {
   "cell_type": "code",
   "execution_count": 83,
   "metadata": {},
   "outputs": [],
   "source": []
  },
  {
   "cell_type": "code",
   "execution_count": 84,
   "metadata": {},
   "outputs": [
    {
     "data": {
      "text/html": [
       "<div>\n",
       "<style scoped>\n",
       "    .dataframe tbody tr th:only-of-type {\n",
       "        vertical-align: middle;\n",
       "    }\n",
       "\n",
       "    .dataframe tbody tr th {\n",
       "        vertical-align: top;\n",
       "    }\n",
       "\n",
       "    .dataframe thead th {\n",
       "        text-align: right;\n",
       "    }\n",
       "</style>\n",
       "<table border=\"1\" class=\"dataframe\">\n",
       "  <thead>\n",
       "    <tr style=\"text-align: right;\">\n",
       "      <th></th>\n",
       "      <th>UMAP_1</th>\n",
       "      <th>UMAP_2</th>\n",
       "      <th>Studios</th>\n",
       "      <th>Name</th>\n",
       "      <th>rec_label</th>\n",
       "      <th>anime_id</th>\n",
       "    </tr>\n",
       "  </thead>\n",
       "  <tbody>\n",
       "    <tr>\n",
       "      <th>16</th>\n",
       "      <td>17.835577</td>\n",
       "      <td>14.291047</td>\n",
       "      <td>UNKNOWN</td>\n",
       "      <td>The Ghost of Cartoon</td>\n",
       "      <td>vector_rec</td>\n",
       "      <td>40159</td>\n",
       "    </tr>\n",
       "    <tr>\n",
       "      <th>4</th>\n",
       "      <td>17.297911</td>\n",
       "      <td>14.594871</td>\n",
       "      <td>UNKNOWN</td>\n",
       "      <td>Mormorando</td>\n",
       "      <td>collab_filter</td>\n",
       "      <td>31834</td>\n",
       "    </tr>\n",
       "    <tr>\n",
       "      <th>1</th>\n",
       "      <td>17.195335</td>\n",
       "      <td>14.068709</td>\n",
       "      <td>ACiD FiLM</td>\n",
       "      <td>Platonic Chain: Web</td>\n",
       "      <td>collab_filter</td>\n",
       "      <td>5492</td>\n",
       "    </tr>\n",
       "  </tbody>\n",
       "</table>\n",
       "</div>"
      ],
      "text/plain": [
       "       UMAP_1     UMAP_2    Studios                  Name      rec_label  \\\n",
       "16  17.835577  14.291047    UNKNOWN  The Ghost of Cartoon     vector_rec   \n",
       "4   17.297911  14.594871    UNKNOWN            Mormorando  collab_filter   \n",
       "1   17.195335  14.068709  ACiD FiLM   Platonic Chain: Web  collab_filter   \n",
       "\n",
       "   anime_id  \n",
       "16    40159  \n",
       "4     31834  \n",
       "1      5492  "
      ]
     },
     "execution_count": 84,
     "metadata": {},
     "output_type": "execute_result"
    }
   ],
   "source": [
    "closest_rows"
   ]
  },
  {
   "cell_type": "code",
   "execution_count": 85,
   "metadata": {},
   "outputs": [
    {
     "ename": "IndexError",
     "evalue": "invalid index to scalar variable.",
     "output_type": "error",
     "traceback": [
      "\u001b[0;31m---------------------------------------------------------------------------\u001b[0m",
      "\u001b[0;31mIndexError\u001b[0m                                Traceback (most recent call last)",
      "Cell \u001b[0;32mIn[85], line 19\u001b[0m\n\u001b[1;32m      1\u001b[0m \u001b[38;5;66;03m# # Find the three closest points to the marked point\u001b[39;00m\n\u001b[1;32m      2\u001b[0m \u001b[38;5;66;03m# nn_model = NearestNeighbors(n_neighbors=4, metric='euclidean')\u001b[39;00m\n\u001b[1;32m      3\u001b[0m \u001b[38;5;66;03m# nn_model.fit(umap_result)\u001b[39;00m\n\u001b[0;32m   (...)\u001b[0m\n\u001b[1;32m     17\u001b[0m \n\u001b[1;32m     18\u001b[0m \u001b[38;5;66;03m# Plot red X symbol on the closest points (excluding the marked point)\u001b[39;00m\n\u001b[0;32m---> 19\u001b[0m \u001b[38;5;28;01mfor\u001b[39;00m i, idx \u001b[38;5;129;01min\u001b[39;00m \u001b[38;5;28menumerate\u001b[39m(\u001b[43mclosest_indices\u001b[49m\u001b[43m[\u001b[49m\u001b[38;5;241;43m0\u001b[39;49m\u001b[43m]\u001b[49m\u001b[43m[\u001b[49m\u001b[38;5;241;43m1\u001b[39;49m\u001b[43m:\u001b[49m\u001b[43m]\u001b[49m, start\u001b[38;5;241m=\u001b[39m\u001b[38;5;241m1\u001b[39m):\n\u001b[1;32m     20\u001b[0m     target_x \u001b[38;5;241m=\u001b[39m umap_df\u001b[38;5;241m.\u001b[39mloc[idx, \u001b[38;5;124m'\u001b[39m\u001b[38;5;124mUMAP_1\u001b[39m\u001b[38;5;124m'\u001b[39m]\n\u001b[1;32m     21\u001b[0m     target_y \u001b[38;5;241m=\u001b[39m umap_df\u001b[38;5;241m.\u001b[39mloc[idx, \u001b[38;5;124m'\u001b[39m\u001b[38;5;124mUMAP_2\u001b[39m\u001b[38;5;124m'\u001b[39m]\n",
      "\u001b[0;31mIndexError\u001b[0m: invalid index to scalar variable."
     ]
    }
   ],
   "source": [
    "\n",
    "# # Find the three closest points to the marked point\n",
    "# nn_model = NearestNeighbors(n_neighbors=4, metric='euclidean')\n",
    "# nn_model.fit(umap_result)\n",
    "# distances, indices = nn_model.kneighbors([umap_result[0]])\n",
    "\n",
    "# # Collect anime Name of the three closest points\n",
    "# closest_anime_names = umap_df.loc[indices[0][1:], 'Name'].tolist()\n",
    "\n",
    "#     # Collect anime IDs of the three closest points\n",
    "# closest_anime_ids = umap_df.loc[indices[0][1:], 'anime_id'].tolist()\n",
    "\n",
    "# # Update hover template to include only 'Name' and 'Studios'\n",
    "# fig_umap.update_traces(customdata=umap_df[['Studios', 'Name']],\n",
    "#                         hovertemplate=\"<b>%{customdata[1]}</b><br>\" +\n",
    "#                                         \"Studios: %{customdata[0]}<br>\" +\n",
    "#                                         \"<extra></extra>\")\n",
    "\n",
    "# Plot red X symbol on the closest points (excluding the marked point)\n"
   ]
  },
  {
   "cell_type": "code",
   "execution_count": null,
   "metadata": {},
   "outputs": [],
   "source": []
  }
 ],
 "metadata": {
  "kernelspec": {
   "display_name": "Python 3",
   "language": "python",
   "name": "python3"
  },
  "language_info": {
   "codemirror_mode": {
    "name": "ipython",
    "version": 3
   },
   "file_extension": ".py",
   "mimetype": "text/x-python",
   "name": "python",
   "nbconvert_exporter": "python",
   "pygments_lexer": "ipython3",
   "version": "3.10.13"
  }
 },
 "nbformat": 4,
 "nbformat_minor": 2
}
