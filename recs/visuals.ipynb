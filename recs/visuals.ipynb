{
 "cells": [
  {
   "cell_type": "code",
   "execution_count": 3,
   "metadata": {},
   "outputs": [],
   "source": [
    "import sys \n",
    "sys.path.append('/Users/justinvhuang/Desktop/CSE-6242-Group-Project')"
   ]
  },
  {
   "cell_type": "code",
   "execution_count": 4,
   "metadata": {},
   "outputs": [],
   "source": [
    "import pandas as pd\n",
    "import plotly.express as px\n",
    "from app.utils.textpreprocessing import TextPreprocessor\n",
    "from app.utils.data_manipulation import (create_retriever, \n",
    "                                         get_documents,\n",
    "                                         load_data, \n",
    "                                         process_recommendations, \n",
    "                                         get_top3_posters_and_names, \n",
    "                                         get_recommendations_descriptions)\n",
    "from umap import UMAP\n",
    "from sentence_transformers import SentenceTransformer\n",
    "from sklearn.neighbors import NearestNeighbors\n",
    "import plotly.graph_objects as go\n",
    "textprepo = TextPreprocessor()"
   ]
  },
  {
   "cell_type": "code",
   "execution_count": 5,
   "metadata": {},
   "outputs": [],
   "source": [
    "sbert = \"sentence-transformers/all-MiniLM-L6-v2\"\n",
    "vdb = \"/Users/justinvhuang/Desktop/CSE-6242-Group-Project/app/faiss_anime_index_v3\"\n",
    "db_faiss = create_retriever(vdb, sbert)"
   ]
  },
  {
   "cell_type": "code",
   "execution_count": 6,
   "metadata": {},
   "outputs": [],
   "source": [
    "def filter_tokens(metadata: dict) -> bool:\n",
    "    \"\"\"\n",
    "    Filter function to apply on retrieved documents based on metadata.\n",
    "\n",
    "    Args:\n",
    "        metadata (dict): Metadata of the document.\n",
    "        query_token (list): List of tokens to filter.\n",
    "\n",
    "    Returns:\n",
    "        bool: True if the document passes the filter, False otherwise.\n",
    "    \"\"\"\n",
    "    metadata_tokens = metadata.get(\"tokens\", [])\n",
    "    metadata_studio = metadata.get(\"studio\", [])\n",
    "    metadata_producer = metadata.get(\"producer\", [])\n",
    "    metadata_licensors = metadata.get(\"licensors\", [])\n",
    "    metadata_genre = metadata.get(\"genre\", [])\n",
    "\n",
    "    return (\n",
    "        any(token in metadata_tokens for token in query_token)\n",
    "        or metadata.get(\"score\", 0.0) > 5.0\n",
    "        or any(token in metadata_studio for token in query_token)\n",
    "        or any(token in metadata_producer for token in query_token)\n",
    "        or any(token in metadata_licensors for token in query_token)\n",
    "        or any(token in metadata_genre for token in query_token)\n",
    "    )"
   ]
  },
  {
   "cell_type": "code",
   "execution_count": 8,
   "metadata": {},
   "outputs": [],
   "source": [
    "retriever = db_faiss.as_retriever(search_kwargs={\"k\": 50, \"filter\": filter_tokens})"
   ]
  },
  {
   "cell_type": "code",
   "execution_count": 6,
   "metadata": {},
   "outputs": [],
   "source": [
    "from functools import partial\n",
    "filter_tokens_with_query_token = partial(filter_tokens, query_token=query_token)"
   ]
  },
  {
   "cell_type": "code",
   "execution_count": 9,
   "metadata": {},
   "outputs": [
    {
     "ename": "TypeError",
     "evalue": "filter_tokens() got an unexpected keyword argument 'query_token'",
     "output_type": "error",
     "traceback": [
      "\u001b[0;31m---------------------------------------------------------------------------\u001b[0m",
      "\u001b[0;31mTypeError\u001b[0m                                 Traceback (most recent call last)",
      "Cell \u001b[0;32mIn[9], line 3\u001b[0m\n\u001b[1;32m      1\u001b[0m query \u001b[38;5;241m=\u001b[39m \u001b[38;5;124m'\u001b[39m\u001b[38;5;124mI like pirate adventures\u001b[39m\u001b[38;5;124m'\u001b[39m\n\u001b[1;32m      2\u001b[0m query_token \u001b[38;5;241m=\u001b[39m textprepo\u001b[38;5;241m.\u001b[39mpreprocess_text(query)\n\u001b[0;32m----> 3\u001b[0m results \u001b[38;5;241m=\u001b[39m \u001b[43mget_documents\u001b[49m\u001b[43m(\u001b[49m\u001b[43mretriever\u001b[49m\u001b[43m,\u001b[49m\u001b[43m \u001b[49m\u001b[43mquery\u001b[49m\u001b[43m,\u001b[49m\u001b[43m \u001b[49m\u001b[43mquery_token\u001b[49m\u001b[43m)\u001b[49m\n",
      "File \u001b[0;32m~/Desktop/CSE-6242-Group-Project/app/utils/data_manipulation.py:62\u001b[0m, in \u001b[0;36mget_documents\u001b[0;34m(retriever, query, query_token)\u001b[0m\n\u001b[1;32m     60\u001b[0m \u001b[38;5;28;01mdef\u001b[39;00m \u001b[38;5;21mget_documents\u001b[39m(retriever, query, query_token):\n\u001b[1;32m     61\u001b[0m     query_token \u001b[38;5;241m=\u001b[39m query_token\n\u001b[0;32m---> 62\u001b[0m     \u001b[38;5;28;01mreturn\u001b[39;00m \u001b[43mretriever\u001b[49m\u001b[38;5;241;43m.\u001b[39;49m\u001b[43mget_relevant_documents\u001b[49m\u001b[43m(\u001b[49m\u001b[43mquery\u001b[49m\u001b[43m)\u001b[49m\n",
      "File \u001b[0;32m~/miniconda3/envs/langchain/lib/python3.10/site-packages/langchain_core/retrievers.py:224\u001b[0m, in \u001b[0;36mBaseRetriever.get_relevant_documents\u001b[0;34m(self, query, callbacks, tags, metadata, run_name, **kwargs)\u001b[0m\n\u001b[1;32m    222\u001b[0m \u001b[38;5;28;01mexcept\u001b[39;00m \u001b[38;5;167;01mException\u001b[39;00m \u001b[38;5;28;01mas\u001b[39;00m e:\n\u001b[1;32m    223\u001b[0m     run_manager\u001b[38;5;241m.\u001b[39mon_retriever_error(e)\n\u001b[0;32m--> 224\u001b[0m     \u001b[38;5;28;01mraise\u001b[39;00m e\n\u001b[1;32m    225\u001b[0m \u001b[38;5;28;01melse\u001b[39;00m:\n\u001b[1;32m    226\u001b[0m     run_manager\u001b[38;5;241m.\u001b[39mon_retriever_end(\n\u001b[1;32m    227\u001b[0m         result,\n\u001b[1;32m    228\u001b[0m     )\n",
      "File \u001b[0;32m~/miniconda3/envs/langchain/lib/python3.10/site-packages/langchain_core/retrievers.py:217\u001b[0m, in \u001b[0;36mBaseRetriever.get_relevant_documents\u001b[0;34m(self, query, callbacks, tags, metadata, run_name, **kwargs)\u001b[0m\n\u001b[1;32m    215\u001b[0m _kwargs \u001b[38;5;241m=\u001b[39m kwargs \u001b[38;5;28;01mif\u001b[39;00m \u001b[38;5;28mself\u001b[39m\u001b[38;5;241m.\u001b[39m_expects_other_args \u001b[38;5;28;01melse\u001b[39;00m {}\n\u001b[1;32m    216\u001b[0m \u001b[38;5;28;01mif\u001b[39;00m \u001b[38;5;28mself\u001b[39m\u001b[38;5;241m.\u001b[39m_new_arg_supported:\n\u001b[0;32m--> 217\u001b[0m     result \u001b[38;5;241m=\u001b[39m \u001b[38;5;28;43mself\u001b[39;49m\u001b[38;5;241;43m.\u001b[39;49m\u001b[43m_get_relevant_documents\u001b[49m\u001b[43m(\u001b[49m\n\u001b[1;32m    218\u001b[0m \u001b[43m        \u001b[49m\u001b[43mquery\u001b[49m\u001b[43m,\u001b[49m\u001b[43m \u001b[49m\u001b[43mrun_manager\u001b[49m\u001b[38;5;241;43m=\u001b[39;49m\u001b[43mrun_manager\u001b[49m\u001b[43m,\u001b[49m\u001b[43m \u001b[49m\u001b[38;5;241;43m*\u001b[39;49m\u001b[38;5;241;43m*\u001b[39;49m\u001b[43m_kwargs\u001b[49m\n\u001b[1;32m    219\u001b[0m \u001b[43m    \u001b[49m\u001b[43m)\u001b[49m\n\u001b[1;32m    220\u001b[0m \u001b[38;5;28;01melse\u001b[39;00m:\n\u001b[1;32m    221\u001b[0m     result \u001b[38;5;241m=\u001b[39m \u001b[38;5;28mself\u001b[39m\u001b[38;5;241m.\u001b[39m_get_relevant_documents(query, \u001b[38;5;241m*\u001b[39m\u001b[38;5;241m*\u001b[39m_kwargs)\n",
      "File \u001b[0;32m~/miniconda3/envs/langchain/lib/python3.10/site-packages/langchain_core/vectorstores.py:654\u001b[0m, in \u001b[0;36mVectorStoreRetriever._get_relevant_documents\u001b[0;34m(self, query, run_manager)\u001b[0m\n\u001b[1;32m    650\u001b[0m \u001b[38;5;28;01mdef\u001b[39;00m \u001b[38;5;21m_get_relevant_documents\u001b[39m(\n\u001b[1;32m    651\u001b[0m     \u001b[38;5;28mself\u001b[39m, query: \u001b[38;5;28mstr\u001b[39m, \u001b[38;5;241m*\u001b[39m, run_manager: CallbackManagerForRetrieverRun\n\u001b[1;32m    652\u001b[0m ) \u001b[38;5;241m-\u001b[39m\u001b[38;5;241m>\u001b[39m List[Document]:\n\u001b[1;32m    653\u001b[0m     \u001b[38;5;28;01mif\u001b[39;00m \u001b[38;5;28mself\u001b[39m\u001b[38;5;241m.\u001b[39msearch_type \u001b[38;5;241m==\u001b[39m \u001b[38;5;124m\"\u001b[39m\u001b[38;5;124msimilarity\u001b[39m\u001b[38;5;124m\"\u001b[39m:\n\u001b[0;32m--> 654\u001b[0m         docs \u001b[38;5;241m=\u001b[39m \u001b[38;5;28;43mself\u001b[39;49m\u001b[38;5;241;43m.\u001b[39;49m\u001b[43mvectorstore\u001b[49m\u001b[38;5;241;43m.\u001b[39;49m\u001b[43msimilarity_search\u001b[49m\u001b[43m(\u001b[49m\u001b[43mquery\u001b[49m\u001b[43m,\u001b[49m\u001b[43m \u001b[49m\u001b[38;5;241;43m*\u001b[39;49m\u001b[38;5;241;43m*\u001b[39;49m\u001b[38;5;28;43mself\u001b[39;49m\u001b[38;5;241;43m.\u001b[39;49m\u001b[43msearch_kwargs\u001b[49m\u001b[43m)\u001b[49m\n\u001b[1;32m    655\u001b[0m     \u001b[38;5;28;01melif\u001b[39;00m \u001b[38;5;28mself\u001b[39m\u001b[38;5;241m.\u001b[39msearch_type \u001b[38;5;241m==\u001b[39m \u001b[38;5;124m\"\u001b[39m\u001b[38;5;124msimilarity_score_threshold\u001b[39m\u001b[38;5;124m\"\u001b[39m:\n\u001b[1;32m    656\u001b[0m         docs_and_similarities \u001b[38;5;241m=\u001b[39m (\n\u001b[1;32m    657\u001b[0m             \u001b[38;5;28mself\u001b[39m\u001b[38;5;241m.\u001b[39mvectorstore\u001b[38;5;241m.\u001b[39msimilarity_search_with_relevance_scores(\n\u001b[1;32m    658\u001b[0m                 query, \u001b[38;5;241m*\u001b[39m\u001b[38;5;241m*\u001b[39m\u001b[38;5;28mself\u001b[39m\u001b[38;5;241m.\u001b[39msearch_kwargs\n\u001b[1;32m    659\u001b[0m             )\n\u001b[1;32m    660\u001b[0m         )\n",
      "File \u001b[0;32m~/miniconda3/envs/langchain/lib/python3.10/site-packages/langchain_community/vectorstores/faiss.py:548\u001b[0m, in \u001b[0;36mFAISS.similarity_search\u001b[0;34m(self, query, k, filter, fetch_k, **kwargs)\u001b[0m\n\u001b[1;32m    528\u001b[0m \u001b[38;5;28;01mdef\u001b[39;00m \u001b[38;5;21msimilarity_search\u001b[39m(\n\u001b[1;32m    529\u001b[0m     \u001b[38;5;28mself\u001b[39m,\n\u001b[1;32m    530\u001b[0m     query: \u001b[38;5;28mstr\u001b[39m,\n\u001b[0;32m   (...)\u001b[0m\n\u001b[1;32m    534\u001b[0m     \u001b[38;5;241m*\u001b[39m\u001b[38;5;241m*\u001b[39mkwargs: Any,\n\u001b[1;32m    535\u001b[0m ) \u001b[38;5;241m-\u001b[39m\u001b[38;5;241m>\u001b[39m List[Document]:\n\u001b[1;32m    536\u001b[0m \u001b[38;5;250m    \u001b[39m\u001b[38;5;124;03m\"\"\"Return docs most similar to query.\u001b[39;00m\n\u001b[1;32m    537\u001b[0m \n\u001b[1;32m    538\u001b[0m \u001b[38;5;124;03m    Args:\u001b[39;00m\n\u001b[0;32m   (...)\u001b[0m\n\u001b[1;32m    546\u001b[0m \u001b[38;5;124;03m        List of Documents most similar to the query.\u001b[39;00m\n\u001b[1;32m    547\u001b[0m \u001b[38;5;124;03m    \"\"\"\u001b[39;00m\n\u001b[0;32m--> 548\u001b[0m     docs_and_scores \u001b[38;5;241m=\u001b[39m \u001b[38;5;28;43mself\u001b[39;49m\u001b[38;5;241;43m.\u001b[39;49m\u001b[43msimilarity_search_with_score\u001b[49m\u001b[43m(\u001b[49m\n\u001b[1;32m    549\u001b[0m \u001b[43m        \u001b[49m\u001b[43mquery\u001b[49m\u001b[43m,\u001b[49m\u001b[43m \u001b[49m\u001b[43mk\u001b[49m\u001b[43m,\u001b[49m\u001b[43m \u001b[49m\u001b[38;5;28;43mfilter\u001b[39;49m\u001b[38;5;241;43m=\u001b[39;49m\u001b[38;5;28;43mfilter\u001b[39;49m\u001b[43m,\u001b[49m\u001b[43m \u001b[49m\u001b[43mfetch_k\u001b[49m\u001b[38;5;241;43m=\u001b[39;49m\u001b[43mfetch_k\u001b[49m\u001b[43m,\u001b[49m\u001b[43m \u001b[49m\u001b[38;5;241;43m*\u001b[39;49m\u001b[38;5;241;43m*\u001b[39;49m\u001b[43mkwargs\u001b[49m\n\u001b[1;32m    550\u001b[0m \u001b[43m    \u001b[49m\u001b[43m)\u001b[49m\n\u001b[1;32m    551\u001b[0m     \u001b[38;5;28;01mreturn\u001b[39;00m [doc \u001b[38;5;28;01mfor\u001b[39;00m doc, _ \u001b[38;5;129;01min\u001b[39;00m docs_and_scores]\n",
      "File \u001b[0;32m~/miniconda3/envs/langchain/lib/python3.10/site-packages/langchain_community/vectorstores/faiss.py:421\u001b[0m, in \u001b[0;36mFAISS.similarity_search_with_score\u001b[0;34m(self, query, k, filter, fetch_k, **kwargs)\u001b[0m\n\u001b[1;32m    404\u001b[0m \u001b[38;5;250m\u001b[39m\u001b[38;5;124;03m\"\"\"Return docs most similar to query.\u001b[39;00m\n\u001b[1;32m    405\u001b[0m \n\u001b[1;32m    406\u001b[0m \u001b[38;5;124;03mArgs:\u001b[39;00m\n\u001b[0;32m   (...)\u001b[0m\n\u001b[1;32m    418\u001b[0m \u001b[38;5;124;03m    L2 distance in float. Lower score represents more similarity.\u001b[39;00m\n\u001b[1;32m    419\u001b[0m \u001b[38;5;124;03m\"\"\"\u001b[39;00m\n\u001b[1;32m    420\u001b[0m embedding \u001b[38;5;241m=\u001b[39m \u001b[38;5;28mself\u001b[39m\u001b[38;5;241m.\u001b[39m_embed_query(query)\n\u001b[0;32m--> 421\u001b[0m docs \u001b[38;5;241m=\u001b[39m \u001b[38;5;28;43mself\u001b[39;49m\u001b[38;5;241;43m.\u001b[39;49m\u001b[43msimilarity_search_with_score_by_vector\u001b[49m\u001b[43m(\u001b[49m\n\u001b[1;32m    422\u001b[0m \u001b[43m    \u001b[49m\u001b[43membedding\u001b[49m\u001b[43m,\u001b[49m\n\u001b[1;32m    423\u001b[0m \u001b[43m    \u001b[49m\u001b[43mk\u001b[49m\u001b[43m,\u001b[49m\n\u001b[1;32m    424\u001b[0m \u001b[43m    \u001b[49m\u001b[38;5;28;43mfilter\u001b[39;49m\u001b[38;5;241;43m=\u001b[39;49m\u001b[38;5;28;43mfilter\u001b[39;49m\u001b[43m,\u001b[49m\n\u001b[1;32m    425\u001b[0m \u001b[43m    \u001b[49m\u001b[43mfetch_k\u001b[49m\u001b[38;5;241;43m=\u001b[39;49m\u001b[43mfetch_k\u001b[49m\u001b[43m,\u001b[49m\n\u001b[1;32m    426\u001b[0m \u001b[43m    \u001b[49m\u001b[38;5;241;43m*\u001b[39;49m\u001b[38;5;241;43m*\u001b[39;49m\u001b[43mkwargs\u001b[49m\u001b[43m,\u001b[49m\n\u001b[1;32m    427\u001b[0m \u001b[43m\u001b[49m\u001b[43m)\u001b[49m\n\u001b[1;32m    428\u001b[0m \u001b[38;5;28;01mreturn\u001b[39;00m docs\n",
      "File \u001b[0;32m~/miniconda3/envs/langchain/lib/python3.10/site-packages/langchain_community/vectorstores/faiss.py:337\u001b[0m, in \u001b[0;36mFAISS.similarity_search_with_score_by_vector\u001b[0;34m(self, embedding, k, filter, fetch_k, **kwargs)\u001b[0m\n\u001b[1;32m    335\u001b[0m     \u001b[38;5;28;01mraise\u001b[39;00m \u001b[38;5;167;01mValueError\u001b[39;00m(\u001b[38;5;124mf\u001b[39m\u001b[38;5;124m\"\u001b[39m\u001b[38;5;124mCould not find document for id \u001b[39m\u001b[38;5;132;01m{\u001b[39;00m_id\u001b[38;5;132;01m}\u001b[39;00m\u001b[38;5;124m, got \u001b[39m\u001b[38;5;132;01m{\u001b[39;00mdoc\u001b[38;5;132;01m}\u001b[39;00m\u001b[38;5;124m\"\u001b[39m)\n\u001b[1;32m    336\u001b[0m \u001b[38;5;28;01mif\u001b[39;00m \u001b[38;5;28mfilter\u001b[39m \u001b[38;5;129;01mis\u001b[39;00m \u001b[38;5;129;01mnot\u001b[39;00m \u001b[38;5;28;01mNone\u001b[39;00m:\n\u001b[0;32m--> 337\u001b[0m     \u001b[38;5;28;01mif\u001b[39;00m \u001b[43mfilter_func\u001b[49m\u001b[43m(\u001b[49m\u001b[43mdoc\u001b[49m\u001b[38;5;241;43m.\u001b[39;49m\u001b[43mmetadata\u001b[49m\u001b[43m)\u001b[49m:\n\u001b[1;32m    338\u001b[0m         docs\u001b[38;5;241m.\u001b[39mappend((doc, scores[\u001b[38;5;241m0\u001b[39m][j]))\n\u001b[1;32m    339\u001b[0m \u001b[38;5;28;01melse\u001b[39;00m:\n",
      "\u001b[0;31mTypeError\u001b[0m: filter_tokens() got an unexpected keyword argument 'query_token'"
     ]
    }
   ],
   "source": [
    "query = 'I like pirate adventures'\n",
    "query_token = textprepo.preprocess_text(query)\n",
    "results = get_documents(retriever, query, query_token)"
   ]
  },
  {
   "cell_type": "code",
   "execution_count": 7,
   "metadata": {},
   "outputs": [
    {
     "ename": "NameError",
     "evalue": "name 'query_token' is not defined",
     "output_type": "error",
     "traceback": [
      "\u001b[0;31m---------------------------------------------------------------------------\u001b[0m",
      "\u001b[0;31mNameError\u001b[0m                                 Traceback (most recent call last)",
      "Cell \u001b[0;32mIn[7], line 1\u001b[0m\n\u001b[0;32m----> 1\u001b[0m results \u001b[38;5;241m=\u001b[39m \u001b[43mget_documents\u001b[49m\u001b[43m(\u001b[49m\u001b[43mretriever\u001b[49m\u001b[43m,\u001b[49m\u001b[43m \u001b[49m\u001b[43mquery\u001b[49m\u001b[43m,\u001b[49m\u001b[43m \u001b[49m\u001b[43mquery_token\u001b[49m\u001b[43m)\u001b[49m\n",
      "File \u001b[0;32m~/Desktop/CSE-6242-Group-Project/app/utils/data_manipulation.py:61\u001b[0m, in \u001b[0;36mget_documents\u001b[0;34m(retriever, query, query_token)\u001b[0m\n\u001b[1;32m     59\u001b[0m \u001b[38;5;28;01mdef\u001b[39;00m \u001b[38;5;21mget_documents\u001b[39m(retriever, query, query_token):\n\u001b[1;32m     60\u001b[0m     query_token \u001b[38;5;241m=\u001b[39m query_token\n\u001b[0;32m---> 61\u001b[0m     \u001b[38;5;28;01mreturn\u001b[39;00m \u001b[43mretriever\u001b[49m\u001b[38;5;241;43m.\u001b[39;49m\u001b[43mget_relevant_documents\u001b[49m\u001b[43m(\u001b[49m\u001b[43mquery\u001b[49m\u001b[43m)\u001b[49m\n",
      "File \u001b[0;32m~/miniconda3/envs/langchain/lib/python3.10/site-packages/langchain_core/retrievers.py:224\u001b[0m, in \u001b[0;36mBaseRetriever.get_relevant_documents\u001b[0;34m(self, query, callbacks, tags, metadata, run_name, **kwargs)\u001b[0m\n\u001b[1;32m    222\u001b[0m \u001b[38;5;28;01mexcept\u001b[39;00m \u001b[38;5;167;01mException\u001b[39;00m \u001b[38;5;28;01mas\u001b[39;00m e:\n\u001b[1;32m    223\u001b[0m     run_manager\u001b[38;5;241m.\u001b[39mon_retriever_error(e)\n\u001b[0;32m--> 224\u001b[0m     \u001b[38;5;28;01mraise\u001b[39;00m e\n\u001b[1;32m    225\u001b[0m \u001b[38;5;28;01melse\u001b[39;00m:\n\u001b[1;32m    226\u001b[0m     run_manager\u001b[38;5;241m.\u001b[39mon_retriever_end(\n\u001b[1;32m    227\u001b[0m         result,\n\u001b[1;32m    228\u001b[0m     )\n",
      "File \u001b[0;32m~/miniconda3/envs/langchain/lib/python3.10/site-packages/langchain_core/retrievers.py:217\u001b[0m, in \u001b[0;36mBaseRetriever.get_relevant_documents\u001b[0;34m(self, query, callbacks, tags, metadata, run_name, **kwargs)\u001b[0m\n\u001b[1;32m    215\u001b[0m _kwargs \u001b[38;5;241m=\u001b[39m kwargs \u001b[38;5;28;01mif\u001b[39;00m \u001b[38;5;28mself\u001b[39m\u001b[38;5;241m.\u001b[39m_expects_other_args \u001b[38;5;28;01melse\u001b[39;00m {}\n\u001b[1;32m    216\u001b[0m \u001b[38;5;28;01mif\u001b[39;00m \u001b[38;5;28mself\u001b[39m\u001b[38;5;241m.\u001b[39m_new_arg_supported:\n\u001b[0;32m--> 217\u001b[0m     result \u001b[38;5;241m=\u001b[39m \u001b[38;5;28;43mself\u001b[39;49m\u001b[38;5;241;43m.\u001b[39;49m\u001b[43m_get_relevant_documents\u001b[49m\u001b[43m(\u001b[49m\n\u001b[1;32m    218\u001b[0m \u001b[43m        \u001b[49m\u001b[43mquery\u001b[49m\u001b[43m,\u001b[49m\u001b[43m \u001b[49m\u001b[43mrun_manager\u001b[49m\u001b[38;5;241;43m=\u001b[39;49m\u001b[43mrun_manager\u001b[49m\u001b[43m,\u001b[49m\u001b[43m \u001b[49m\u001b[38;5;241;43m*\u001b[39;49m\u001b[38;5;241;43m*\u001b[39;49m\u001b[43m_kwargs\u001b[49m\n\u001b[1;32m    219\u001b[0m \u001b[43m    \u001b[49m\u001b[43m)\u001b[49m\n\u001b[1;32m    220\u001b[0m \u001b[38;5;28;01melse\u001b[39;00m:\n\u001b[1;32m    221\u001b[0m     result \u001b[38;5;241m=\u001b[39m \u001b[38;5;28mself\u001b[39m\u001b[38;5;241m.\u001b[39m_get_relevant_documents(query, \u001b[38;5;241m*\u001b[39m\u001b[38;5;241m*\u001b[39m_kwargs)\n",
      "File \u001b[0;32m~/miniconda3/envs/langchain/lib/python3.10/site-packages/langchain_core/vectorstores.py:654\u001b[0m, in \u001b[0;36mVectorStoreRetriever._get_relevant_documents\u001b[0;34m(self, query, run_manager)\u001b[0m\n\u001b[1;32m    650\u001b[0m \u001b[38;5;28;01mdef\u001b[39;00m \u001b[38;5;21m_get_relevant_documents\u001b[39m(\n\u001b[1;32m    651\u001b[0m     \u001b[38;5;28mself\u001b[39m, query: \u001b[38;5;28mstr\u001b[39m, \u001b[38;5;241m*\u001b[39m, run_manager: CallbackManagerForRetrieverRun\n\u001b[1;32m    652\u001b[0m ) \u001b[38;5;241m-\u001b[39m\u001b[38;5;241m>\u001b[39m List[Document]:\n\u001b[1;32m    653\u001b[0m     \u001b[38;5;28;01mif\u001b[39;00m \u001b[38;5;28mself\u001b[39m\u001b[38;5;241m.\u001b[39msearch_type \u001b[38;5;241m==\u001b[39m \u001b[38;5;124m\"\u001b[39m\u001b[38;5;124msimilarity\u001b[39m\u001b[38;5;124m\"\u001b[39m:\n\u001b[0;32m--> 654\u001b[0m         docs \u001b[38;5;241m=\u001b[39m \u001b[38;5;28;43mself\u001b[39;49m\u001b[38;5;241;43m.\u001b[39;49m\u001b[43mvectorstore\u001b[49m\u001b[38;5;241;43m.\u001b[39;49m\u001b[43msimilarity_search\u001b[49m\u001b[43m(\u001b[49m\u001b[43mquery\u001b[49m\u001b[43m,\u001b[49m\u001b[43m \u001b[49m\u001b[38;5;241;43m*\u001b[39;49m\u001b[38;5;241;43m*\u001b[39;49m\u001b[38;5;28;43mself\u001b[39;49m\u001b[38;5;241;43m.\u001b[39;49m\u001b[43msearch_kwargs\u001b[49m\u001b[43m)\u001b[49m\n\u001b[1;32m    655\u001b[0m     \u001b[38;5;28;01melif\u001b[39;00m \u001b[38;5;28mself\u001b[39m\u001b[38;5;241m.\u001b[39msearch_type \u001b[38;5;241m==\u001b[39m \u001b[38;5;124m\"\u001b[39m\u001b[38;5;124msimilarity_score_threshold\u001b[39m\u001b[38;5;124m\"\u001b[39m:\n\u001b[1;32m    656\u001b[0m         docs_and_similarities \u001b[38;5;241m=\u001b[39m (\n\u001b[1;32m    657\u001b[0m             \u001b[38;5;28mself\u001b[39m\u001b[38;5;241m.\u001b[39mvectorstore\u001b[38;5;241m.\u001b[39msimilarity_search_with_relevance_scores(\n\u001b[1;32m    658\u001b[0m                 query, \u001b[38;5;241m*\u001b[39m\u001b[38;5;241m*\u001b[39m\u001b[38;5;28mself\u001b[39m\u001b[38;5;241m.\u001b[39msearch_kwargs\n\u001b[1;32m    659\u001b[0m             )\n\u001b[1;32m    660\u001b[0m         )\n",
      "File \u001b[0;32m~/miniconda3/envs/langchain/lib/python3.10/site-packages/langchain_community/vectorstores/faiss.py:548\u001b[0m, in \u001b[0;36mFAISS.similarity_search\u001b[0;34m(self, query, k, filter, fetch_k, **kwargs)\u001b[0m\n\u001b[1;32m    528\u001b[0m \u001b[38;5;28;01mdef\u001b[39;00m \u001b[38;5;21msimilarity_search\u001b[39m(\n\u001b[1;32m    529\u001b[0m     \u001b[38;5;28mself\u001b[39m,\n\u001b[1;32m    530\u001b[0m     query: \u001b[38;5;28mstr\u001b[39m,\n\u001b[0;32m   (...)\u001b[0m\n\u001b[1;32m    534\u001b[0m     \u001b[38;5;241m*\u001b[39m\u001b[38;5;241m*\u001b[39mkwargs: Any,\n\u001b[1;32m    535\u001b[0m ) \u001b[38;5;241m-\u001b[39m\u001b[38;5;241m>\u001b[39m List[Document]:\n\u001b[1;32m    536\u001b[0m \u001b[38;5;250m    \u001b[39m\u001b[38;5;124;03m\"\"\"Return docs most similar to query.\u001b[39;00m\n\u001b[1;32m    537\u001b[0m \n\u001b[1;32m    538\u001b[0m \u001b[38;5;124;03m    Args:\u001b[39;00m\n\u001b[0;32m   (...)\u001b[0m\n\u001b[1;32m    546\u001b[0m \u001b[38;5;124;03m        List of Documents most similar to the query.\u001b[39;00m\n\u001b[1;32m    547\u001b[0m \u001b[38;5;124;03m    \"\"\"\u001b[39;00m\n\u001b[0;32m--> 548\u001b[0m     docs_and_scores \u001b[38;5;241m=\u001b[39m \u001b[38;5;28;43mself\u001b[39;49m\u001b[38;5;241;43m.\u001b[39;49m\u001b[43msimilarity_search_with_score\u001b[49m\u001b[43m(\u001b[49m\n\u001b[1;32m    549\u001b[0m \u001b[43m        \u001b[49m\u001b[43mquery\u001b[49m\u001b[43m,\u001b[49m\u001b[43m \u001b[49m\u001b[43mk\u001b[49m\u001b[43m,\u001b[49m\u001b[43m \u001b[49m\u001b[38;5;28;43mfilter\u001b[39;49m\u001b[38;5;241;43m=\u001b[39;49m\u001b[38;5;28;43mfilter\u001b[39;49m\u001b[43m,\u001b[49m\u001b[43m \u001b[49m\u001b[43mfetch_k\u001b[49m\u001b[38;5;241;43m=\u001b[39;49m\u001b[43mfetch_k\u001b[49m\u001b[43m,\u001b[49m\u001b[43m \u001b[49m\u001b[38;5;241;43m*\u001b[39;49m\u001b[38;5;241;43m*\u001b[39;49m\u001b[43mkwargs\u001b[49m\n\u001b[1;32m    550\u001b[0m \u001b[43m    \u001b[49m\u001b[43m)\u001b[49m\n\u001b[1;32m    551\u001b[0m     \u001b[38;5;28;01mreturn\u001b[39;00m [doc \u001b[38;5;28;01mfor\u001b[39;00m doc, _ \u001b[38;5;129;01min\u001b[39;00m docs_and_scores]\n",
      "File \u001b[0;32m~/miniconda3/envs/langchain/lib/python3.10/site-packages/langchain_community/vectorstores/faiss.py:421\u001b[0m, in \u001b[0;36mFAISS.similarity_search_with_score\u001b[0;34m(self, query, k, filter, fetch_k, **kwargs)\u001b[0m\n\u001b[1;32m    404\u001b[0m \u001b[38;5;250m\u001b[39m\u001b[38;5;124;03m\"\"\"Return docs most similar to query.\u001b[39;00m\n\u001b[1;32m    405\u001b[0m \n\u001b[1;32m    406\u001b[0m \u001b[38;5;124;03mArgs:\u001b[39;00m\n\u001b[0;32m   (...)\u001b[0m\n\u001b[1;32m    418\u001b[0m \u001b[38;5;124;03m    L2 distance in float. Lower score represents more similarity.\u001b[39;00m\n\u001b[1;32m    419\u001b[0m \u001b[38;5;124;03m\"\"\"\u001b[39;00m\n\u001b[1;32m    420\u001b[0m embedding \u001b[38;5;241m=\u001b[39m \u001b[38;5;28mself\u001b[39m\u001b[38;5;241m.\u001b[39m_embed_query(query)\n\u001b[0;32m--> 421\u001b[0m docs \u001b[38;5;241m=\u001b[39m \u001b[38;5;28;43mself\u001b[39;49m\u001b[38;5;241;43m.\u001b[39;49m\u001b[43msimilarity_search_with_score_by_vector\u001b[49m\u001b[43m(\u001b[49m\n\u001b[1;32m    422\u001b[0m \u001b[43m    \u001b[49m\u001b[43membedding\u001b[49m\u001b[43m,\u001b[49m\n\u001b[1;32m    423\u001b[0m \u001b[43m    \u001b[49m\u001b[43mk\u001b[49m\u001b[43m,\u001b[49m\n\u001b[1;32m    424\u001b[0m \u001b[43m    \u001b[49m\u001b[38;5;28;43mfilter\u001b[39;49m\u001b[38;5;241;43m=\u001b[39;49m\u001b[38;5;28;43mfilter\u001b[39;49m\u001b[43m,\u001b[49m\n\u001b[1;32m    425\u001b[0m \u001b[43m    \u001b[49m\u001b[43mfetch_k\u001b[49m\u001b[38;5;241;43m=\u001b[39;49m\u001b[43mfetch_k\u001b[49m\u001b[43m,\u001b[49m\n\u001b[1;32m    426\u001b[0m \u001b[43m    \u001b[49m\u001b[38;5;241;43m*\u001b[39;49m\u001b[38;5;241;43m*\u001b[39;49m\u001b[43mkwargs\u001b[49m\u001b[43m,\u001b[49m\n\u001b[1;32m    427\u001b[0m \u001b[43m\u001b[49m\u001b[43m)\u001b[49m\n\u001b[1;32m    428\u001b[0m \u001b[38;5;28;01mreturn\u001b[39;00m docs\n",
      "File \u001b[0;32m~/miniconda3/envs/langchain/lib/python3.10/site-packages/langchain_community/vectorstores/faiss.py:337\u001b[0m, in \u001b[0;36mFAISS.similarity_search_with_score_by_vector\u001b[0;34m(self, embedding, k, filter, fetch_k, **kwargs)\u001b[0m\n\u001b[1;32m    335\u001b[0m     \u001b[38;5;28;01mraise\u001b[39;00m \u001b[38;5;167;01mValueError\u001b[39;00m(\u001b[38;5;124mf\u001b[39m\u001b[38;5;124m\"\u001b[39m\u001b[38;5;124mCould not find document for id \u001b[39m\u001b[38;5;132;01m{\u001b[39;00m_id\u001b[38;5;132;01m}\u001b[39;00m\u001b[38;5;124m, got \u001b[39m\u001b[38;5;132;01m{\u001b[39;00mdoc\u001b[38;5;132;01m}\u001b[39;00m\u001b[38;5;124m\"\u001b[39m)\n\u001b[1;32m    336\u001b[0m \u001b[38;5;28;01mif\u001b[39;00m \u001b[38;5;28mfilter\u001b[39m \u001b[38;5;129;01mis\u001b[39;00m \u001b[38;5;129;01mnot\u001b[39;00m \u001b[38;5;28;01mNone\u001b[39;00m:\n\u001b[0;32m--> 337\u001b[0m     \u001b[38;5;28;01mif\u001b[39;00m \u001b[43mfilter_func\u001b[49m\u001b[43m(\u001b[49m\u001b[43mdoc\u001b[49m\u001b[38;5;241;43m.\u001b[39;49m\u001b[43mmetadata\u001b[49m\u001b[43m)\u001b[49m:\n\u001b[1;32m    338\u001b[0m         docs\u001b[38;5;241m.\u001b[39mappend((doc, scores[\u001b[38;5;241m0\u001b[39m][j]))\n\u001b[1;32m    339\u001b[0m \u001b[38;5;28;01melse\u001b[39;00m:\n",
      "File \u001b[0;32m~/Desktop/CSE-6242-Group-Project/app/utils/data_manipulation.py:47\u001b[0m, in \u001b[0;36mcreate_retriever.<locals>.filter_tokens\u001b[0;34m(metadata)\u001b[0m\n\u001b[1;32m     43\u001b[0m metadata_licensors \u001b[38;5;241m=\u001b[39m metadata\u001b[38;5;241m.\u001b[39mget(\u001b[38;5;124m\"\u001b[39m\u001b[38;5;124mlicensors\u001b[39m\u001b[38;5;124m\"\u001b[39m, [])\n\u001b[1;32m     44\u001b[0m metadata_genre \u001b[38;5;241m=\u001b[39m metadata\u001b[38;5;241m.\u001b[39mget(\u001b[38;5;124m\"\u001b[39m\u001b[38;5;124mgenre\u001b[39m\u001b[38;5;124m\"\u001b[39m, [])\n\u001b[1;32m     46\u001b[0m \u001b[38;5;28;01mreturn\u001b[39;00m (\n\u001b[0;32m---> 47\u001b[0m     \u001b[38;5;28many\u001b[39m(token \u001b[38;5;129;01min\u001b[39;00m metadata_tokens \u001b[38;5;28;01mfor\u001b[39;00m token \u001b[38;5;129;01min\u001b[39;00m \u001b[43mquery_token\u001b[49m)\n\u001b[1;32m     48\u001b[0m     \u001b[38;5;129;01mor\u001b[39;00m metadata\u001b[38;5;241m.\u001b[39mget(\u001b[38;5;124m\"\u001b[39m\u001b[38;5;124mscore\u001b[39m\u001b[38;5;124m\"\u001b[39m, \u001b[38;5;241m0.0\u001b[39m) \u001b[38;5;241m>\u001b[39m \u001b[38;5;241m5.0\u001b[39m\n\u001b[1;32m     49\u001b[0m     \u001b[38;5;129;01mor\u001b[39;00m \u001b[38;5;28many\u001b[39m(token \u001b[38;5;129;01min\u001b[39;00m metadata_studio \u001b[38;5;28;01mfor\u001b[39;00m token \u001b[38;5;129;01min\u001b[39;00m query_token)\n\u001b[1;32m     50\u001b[0m     \u001b[38;5;129;01mor\u001b[39;00m \u001b[38;5;28many\u001b[39m(token \u001b[38;5;129;01min\u001b[39;00m metadata_producer \u001b[38;5;28;01mfor\u001b[39;00m token \u001b[38;5;129;01min\u001b[39;00m query_token)\n\u001b[1;32m     51\u001b[0m     \u001b[38;5;129;01mor\u001b[39;00m \u001b[38;5;28many\u001b[39m(token \u001b[38;5;129;01min\u001b[39;00m metadata_licensors \u001b[38;5;28;01mfor\u001b[39;00m token \u001b[38;5;129;01min\u001b[39;00m query_token)\n\u001b[1;32m     52\u001b[0m     \u001b[38;5;129;01mor\u001b[39;00m \u001b[38;5;28many\u001b[39m(token \u001b[38;5;129;01min\u001b[39;00m metadata_genre \u001b[38;5;28;01mfor\u001b[39;00m token \u001b[38;5;129;01min\u001b[39;00m query_token)\n\u001b[1;32m     53\u001b[0m )\n",
      "\u001b[0;31mNameError\u001b[0m: name 'query_token' is not defined"
     ]
    }
   ],
   "source": []
  },
  {
   "cell_type": "code",
   "execution_count": 7,
   "metadata": {},
   "outputs": [
    {
     "ename": "NameError",
     "evalue": "name 'query_token' is not defined",
     "output_type": "error",
     "traceback": [
      "\u001b[0;31m---------------------------------------------------------------------------\u001b[0m",
      "\u001b[0;31mNameError\u001b[0m                                 Traceback (most recent call last)",
      "Cell \u001b[0;32mIn[7], line 1\u001b[0m\n\u001b[0;32m----> 1\u001b[0m results \u001b[38;5;241m=\u001b[39m \u001b[43mretriever\u001b[49m\u001b[38;5;241;43m.\u001b[39;49m\u001b[43mget_relevant_documents\u001b[49m\u001b[43m(\u001b[49m\u001b[43mquery\u001b[49m\u001b[43m)\u001b[49m\n\u001b[1;32m      2\u001b[0m indexes \u001b[38;5;241m=\u001b[39m {x\u001b[38;5;241m.\u001b[39mmetadata[\u001b[38;5;124m'\u001b[39m\u001b[38;5;124manime_id\u001b[39m\u001b[38;5;124m'\u001b[39m]: index \u001b[38;5;28;01mfor\u001b[39;00m index, x \u001b[38;5;129;01min\u001b[39;00m \u001b[38;5;28menumerate\u001b[39m(results)}\n",
      "File \u001b[0;32m~/miniconda3/envs/langchain/lib/python3.10/site-packages/langchain_core/retrievers.py:224\u001b[0m, in \u001b[0;36mBaseRetriever.get_relevant_documents\u001b[0;34m(self, query, callbacks, tags, metadata, run_name, **kwargs)\u001b[0m\n\u001b[1;32m    222\u001b[0m \u001b[38;5;28;01mexcept\u001b[39;00m \u001b[38;5;167;01mException\u001b[39;00m \u001b[38;5;28;01mas\u001b[39;00m e:\n\u001b[1;32m    223\u001b[0m     run_manager\u001b[38;5;241m.\u001b[39mon_retriever_error(e)\n\u001b[0;32m--> 224\u001b[0m     \u001b[38;5;28;01mraise\u001b[39;00m e\n\u001b[1;32m    225\u001b[0m \u001b[38;5;28;01melse\u001b[39;00m:\n\u001b[1;32m    226\u001b[0m     run_manager\u001b[38;5;241m.\u001b[39mon_retriever_end(\n\u001b[1;32m    227\u001b[0m         result,\n\u001b[1;32m    228\u001b[0m     )\n",
      "File \u001b[0;32m~/miniconda3/envs/langchain/lib/python3.10/site-packages/langchain_core/retrievers.py:217\u001b[0m, in \u001b[0;36mBaseRetriever.get_relevant_documents\u001b[0;34m(self, query, callbacks, tags, metadata, run_name, **kwargs)\u001b[0m\n\u001b[1;32m    215\u001b[0m _kwargs \u001b[38;5;241m=\u001b[39m kwargs \u001b[38;5;28;01mif\u001b[39;00m \u001b[38;5;28mself\u001b[39m\u001b[38;5;241m.\u001b[39m_expects_other_args \u001b[38;5;28;01melse\u001b[39;00m {}\n\u001b[1;32m    216\u001b[0m \u001b[38;5;28;01mif\u001b[39;00m \u001b[38;5;28mself\u001b[39m\u001b[38;5;241m.\u001b[39m_new_arg_supported:\n\u001b[0;32m--> 217\u001b[0m     result \u001b[38;5;241m=\u001b[39m \u001b[38;5;28;43mself\u001b[39;49m\u001b[38;5;241;43m.\u001b[39;49m\u001b[43m_get_relevant_documents\u001b[49m\u001b[43m(\u001b[49m\n\u001b[1;32m    218\u001b[0m \u001b[43m        \u001b[49m\u001b[43mquery\u001b[49m\u001b[43m,\u001b[49m\u001b[43m \u001b[49m\u001b[43mrun_manager\u001b[49m\u001b[38;5;241;43m=\u001b[39;49m\u001b[43mrun_manager\u001b[49m\u001b[43m,\u001b[49m\u001b[43m \u001b[49m\u001b[38;5;241;43m*\u001b[39;49m\u001b[38;5;241;43m*\u001b[39;49m\u001b[43m_kwargs\u001b[49m\n\u001b[1;32m    219\u001b[0m \u001b[43m    \u001b[49m\u001b[43m)\u001b[49m\n\u001b[1;32m    220\u001b[0m \u001b[38;5;28;01melse\u001b[39;00m:\n\u001b[1;32m    221\u001b[0m     result \u001b[38;5;241m=\u001b[39m \u001b[38;5;28mself\u001b[39m\u001b[38;5;241m.\u001b[39m_get_relevant_documents(query, \u001b[38;5;241m*\u001b[39m\u001b[38;5;241m*\u001b[39m_kwargs)\n",
      "File \u001b[0;32m~/miniconda3/envs/langchain/lib/python3.10/site-packages/langchain_core/vectorstores.py:654\u001b[0m, in \u001b[0;36mVectorStoreRetriever._get_relevant_documents\u001b[0;34m(self, query, run_manager)\u001b[0m\n\u001b[1;32m    650\u001b[0m \u001b[38;5;28;01mdef\u001b[39;00m \u001b[38;5;21m_get_relevant_documents\u001b[39m(\n\u001b[1;32m    651\u001b[0m     \u001b[38;5;28mself\u001b[39m, query: \u001b[38;5;28mstr\u001b[39m, \u001b[38;5;241m*\u001b[39m, run_manager: CallbackManagerForRetrieverRun\n\u001b[1;32m    652\u001b[0m ) \u001b[38;5;241m-\u001b[39m\u001b[38;5;241m>\u001b[39m List[Document]:\n\u001b[1;32m    653\u001b[0m     \u001b[38;5;28;01mif\u001b[39;00m \u001b[38;5;28mself\u001b[39m\u001b[38;5;241m.\u001b[39msearch_type \u001b[38;5;241m==\u001b[39m \u001b[38;5;124m\"\u001b[39m\u001b[38;5;124msimilarity\u001b[39m\u001b[38;5;124m\"\u001b[39m:\n\u001b[0;32m--> 654\u001b[0m         docs \u001b[38;5;241m=\u001b[39m \u001b[38;5;28;43mself\u001b[39;49m\u001b[38;5;241;43m.\u001b[39;49m\u001b[43mvectorstore\u001b[49m\u001b[38;5;241;43m.\u001b[39;49m\u001b[43msimilarity_search\u001b[49m\u001b[43m(\u001b[49m\u001b[43mquery\u001b[49m\u001b[43m,\u001b[49m\u001b[43m \u001b[49m\u001b[38;5;241;43m*\u001b[39;49m\u001b[38;5;241;43m*\u001b[39;49m\u001b[38;5;28;43mself\u001b[39;49m\u001b[38;5;241;43m.\u001b[39;49m\u001b[43msearch_kwargs\u001b[49m\u001b[43m)\u001b[49m\n\u001b[1;32m    655\u001b[0m     \u001b[38;5;28;01melif\u001b[39;00m \u001b[38;5;28mself\u001b[39m\u001b[38;5;241m.\u001b[39msearch_type \u001b[38;5;241m==\u001b[39m \u001b[38;5;124m\"\u001b[39m\u001b[38;5;124msimilarity_score_threshold\u001b[39m\u001b[38;5;124m\"\u001b[39m:\n\u001b[1;32m    656\u001b[0m         docs_and_similarities \u001b[38;5;241m=\u001b[39m (\n\u001b[1;32m    657\u001b[0m             \u001b[38;5;28mself\u001b[39m\u001b[38;5;241m.\u001b[39mvectorstore\u001b[38;5;241m.\u001b[39msimilarity_search_with_relevance_scores(\n\u001b[1;32m    658\u001b[0m                 query, \u001b[38;5;241m*\u001b[39m\u001b[38;5;241m*\u001b[39m\u001b[38;5;28mself\u001b[39m\u001b[38;5;241m.\u001b[39msearch_kwargs\n\u001b[1;32m    659\u001b[0m             )\n\u001b[1;32m    660\u001b[0m         )\n",
      "File \u001b[0;32m~/miniconda3/envs/langchain/lib/python3.10/site-packages/langchain_community/vectorstores/faiss.py:548\u001b[0m, in \u001b[0;36mFAISS.similarity_search\u001b[0;34m(self, query, k, filter, fetch_k, **kwargs)\u001b[0m\n\u001b[1;32m    528\u001b[0m \u001b[38;5;28;01mdef\u001b[39;00m \u001b[38;5;21msimilarity_search\u001b[39m(\n\u001b[1;32m    529\u001b[0m     \u001b[38;5;28mself\u001b[39m,\n\u001b[1;32m    530\u001b[0m     query: \u001b[38;5;28mstr\u001b[39m,\n\u001b[0;32m   (...)\u001b[0m\n\u001b[1;32m    534\u001b[0m     \u001b[38;5;241m*\u001b[39m\u001b[38;5;241m*\u001b[39mkwargs: Any,\n\u001b[1;32m    535\u001b[0m ) \u001b[38;5;241m-\u001b[39m\u001b[38;5;241m>\u001b[39m List[Document]:\n\u001b[1;32m    536\u001b[0m \u001b[38;5;250m    \u001b[39m\u001b[38;5;124;03m\"\"\"Return docs most similar to query.\u001b[39;00m\n\u001b[1;32m    537\u001b[0m \n\u001b[1;32m    538\u001b[0m \u001b[38;5;124;03m    Args:\u001b[39;00m\n\u001b[0;32m   (...)\u001b[0m\n\u001b[1;32m    546\u001b[0m \u001b[38;5;124;03m        List of Documents most similar to the query.\u001b[39;00m\n\u001b[1;32m    547\u001b[0m \u001b[38;5;124;03m    \"\"\"\u001b[39;00m\n\u001b[0;32m--> 548\u001b[0m     docs_and_scores \u001b[38;5;241m=\u001b[39m \u001b[38;5;28;43mself\u001b[39;49m\u001b[38;5;241;43m.\u001b[39;49m\u001b[43msimilarity_search_with_score\u001b[49m\u001b[43m(\u001b[49m\n\u001b[1;32m    549\u001b[0m \u001b[43m        \u001b[49m\u001b[43mquery\u001b[49m\u001b[43m,\u001b[49m\u001b[43m \u001b[49m\u001b[43mk\u001b[49m\u001b[43m,\u001b[49m\u001b[43m \u001b[49m\u001b[38;5;28;43mfilter\u001b[39;49m\u001b[38;5;241;43m=\u001b[39;49m\u001b[38;5;28;43mfilter\u001b[39;49m\u001b[43m,\u001b[49m\u001b[43m \u001b[49m\u001b[43mfetch_k\u001b[49m\u001b[38;5;241;43m=\u001b[39;49m\u001b[43mfetch_k\u001b[49m\u001b[43m,\u001b[49m\u001b[43m \u001b[49m\u001b[38;5;241;43m*\u001b[39;49m\u001b[38;5;241;43m*\u001b[39;49m\u001b[43mkwargs\u001b[49m\n\u001b[1;32m    550\u001b[0m \u001b[43m    \u001b[49m\u001b[43m)\u001b[49m\n\u001b[1;32m    551\u001b[0m     \u001b[38;5;28;01mreturn\u001b[39;00m [doc \u001b[38;5;28;01mfor\u001b[39;00m doc, _ \u001b[38;5;129;01min\u001b[39;00m docs_and_scores]\n",
      "File \u001b[0;32m~/miniconda3/envs/langchain/lib/python3.10/site-packages/langchain_community/vectorstores/faiss.py:421\u001b[0m, in \u001b[0;36mFAISS.similarity_search_with_score\u001b[0;34m(self, query, k, filter, fetch_k, **kwargs)\u001b[0m\n\u001b[1;32m    404\u001b[0m \u001b[38;5;250m\u001b[39m\u001b[38;5;124;03m\"\"\"Return docs most similar to query.\u001b[39;00m\n\u001b[1;32m    405\u001b[0m \n\u001b[1;32m    406\u001b[0m \u001b[38;5;124;03mArgs:\u001b[39;00m\n\u001b[0;32m   (...)\u001b[0m\n\u001b[1;32m    418\u001b[0m \u001b[38;5;124;03m    L2 distance in float. Lower score represents more similarity.\u001b[39;00m\n\u001b[1;32m    419\u001b[0m \u001b[38;5;124;03m\"\"\"\u001b[39;00m\n\u001b[1;32m    420\u001b[0m embedding \u001b[38;5;241m=\u001b[39m \u001b[38;5;28mself\u001b[39m\u001b[38;5;241m.\u001b[39m_embed_query(query)\n\u001b[0;32m--> 421\u001b[0m docs \u001b[38;5;241m=\u001b[39m \u001b[38;5;28;43mself\u001b[39;49m\u001b[38;5;241;43m.\u001b[39;49m\u001b[43msimilarity_search_with_score_by_vector\u001b[49m\u001b[43m(\u001b[49m\n\u001b[1;32m    422\u001b[0m \u001b[43m    \u001b[49m\u001b[43membedding\u001b[49m\u001b[43m,\u001b[49m\n\u001b[1;32m    423\u001b[0m \u001b[43m    \u001b[49m\u001b[43mk\u001b[49m\u001b[43m,\u001b[49m\n\u001b[1;32m    424\u001b[0m \u001b[43m    \u001b[49m\u001b[38;5;28;43mfilter\u001b[39;49m\u001b[38;5;241;43m=\u001b[39;49m\u001b[38;5;28;43mfilter\u001b[39;49m\u001b[43m,\u001b[49m\n\u001b[1;32m    425\u001b[0m \u001b[43m    \u001b[49m\u001b[43mfetch_k\u001b[49m\u001b[38;5;241;43m=\u001b[39;49m\u001b[43mfetch_k\u001b[49m\u001b[43m,\u001b[49m\n\u001b[1;32m    426\u001b[0m \u001b[43m    \u001b[49m\u001b[38;5;241;43m*\u001b[39;49m\u001b[38;5;241;43m*\u001b[39;49m\u001b[43mkwargs\u001b[49m\u001b[43m,\u001b[49m\n\u001b[1;32m    427\u001b[0m \u001b[43m\u001b[49m\u001b[43m)\u001b[49m\n\u001b[1;32m    428\u001b[0m \u001b[38;5;28;01mreturn\u001b[39;00m docs\n",
      "File \u001b[0;32m~/miniconda3/envs/langchain/lib/python3.10/site-packages/langchain_community/vectorstores/faiss.py:337\u001b[0m, in \u001b[0;36mFAISS.similarity_search_with_score_by_vector\u001b[0;34m(self, embedding, k, filter, fetch_k, **kwargs)\u001b[0m\n\u001b[1;32m    335\u001b[0m     \u001b[38;5;28;01mraise\u001b[39;00m \u001b[38;5;167;01mValueError\u001b[39;00m(\u001b[38;5;124mf\u001b[39m\u001b[38;5;124m\"\u001b[39m\u001b[38;5;124mCould not find document for id \u001b[39m\u001b[38;5;132;01m{\u001b[39;00m_id\u001b[38;5;132;01m}\u001b[39;00m\u001b[38;5;124m, got \u001b[39m\u001b[38;5;132;01m{\u001b[39;00mdoc\u001b[38;5;132;01m}\u001b[39;00m\u001b[38;5;124m\"\u001b[39m)\n\u001b[1;32m    336\u001b[0m \u001b[38;5;28;01mif\u001b[39;00m \u001b[38;5;28mfilter\u001b[39m \u001b[38;5;129;01mis\u001b[39;00m \u001b[38;5;129;01mnot\u001b[39;00m \u001b[38;5;28;01mNone\u001b[39;00m:\n\u001b[0;32m--> 337\u001b[0m     \u001b[38;5;28;01mif\u001b[39;00m \u001b[43mfilter_func\u001b[49m\u001b[43m(\u001b[49m\u001b[43mdoc\u001b[49m\u001b[38;5;241;43m.\u001b[39;49m\u001b[43mmetadata\u001b[49m\u001b[43m)\u001b[49m:\n\u001b[1;32m    338\u001b[0m         docs\u001b[38;5;241m.\u001b[39mappend((doc, scores[\u001b[38;5;241m0\u001b[39m][j]))\n\u001b[1;32m    339\u001b[0m \u001b[38;5;28;01melse\u001b[39;00m:\n",
      "File \u001b[0;32m~/Desktop/CSE-6242-Group-Project/app/utils/data_manipulation.py:47\u001b[0m, in \u001b[0;36mcreate_retriever.<locals>.filter_tokens\u001b[0;34m(metadata)\u001b[0m\n\u001b[1;32m     43\u001b[0m metadata_licensors \u001b[38;5;241m=\u001b[39m metadata\u001b[38;5;241m.\u001b[39mget(\u001b[38;5;124m\"\u001b[39m\u001b[38;5;124mlicensors\u001b[39m\u001b[38;5;124m\"\u001b[39m, [])\n\u001b[1;32m     44\u001b[0m metadata_genre \u001b[38;5;241m=\u001b[39m metadata\u001b[38;5;241m.\u001b[39mget(\u001b[38;5;124m\"\u001b[39m\u001b[38;5;124mgenre\u001b[39m\u001b[38;5;124m\"\u001b[39m, [])\n\u001b[1;32m     46\u001b[0m \u001b[38;5;28;01mreturn\u001b[39;00m (\n\u001b[0;32m---> 47\u001b[0m     \u001b[38;5;28many\u001b[39m(token \u001b[38;5;129;01min\u001b[39;00m metadata_tokens \u001b[38;5;28;01mfor\u001b[39;00m token \u001b[38;5;129;01min\u001b[39;00m \u001b[43mquery_token\u001b[49m)\n\u001b[1;32m     48\u001b[0m     \u001b[38;5;129;01mor\u001b[39;00m metadata\u001b[38;5;241m.\u001b[39mget(\u001b[38;5;124m\"\u001b[39m\u001b[38;5;124mscore\u001b[39m\u001b[38;5;124m\"\u001b[39m, \u001b[38;5;241m0.0\u001b[39m) \u001b[38;5;241m>\u001b[39m \u001b[38;5;241m5.0\u001b[39m\n\u001b[1;32m     49\u001b[0m     \u001b[38;5;129;01mor\u001b[39;00m \u001b[38;5;28many\u001b[39m(token \u001b[38;5;129;01min\u001b[39;00m metadata_studio \u001b[38;5;28;01mfor\u001b[39;00m token \u001b[38;5;129;01min\u001b[39;00m query_token)\n\u001b[1;32m     50\u001b[0m     \u001b[38;5;129;01mor\u001b[39;00m \u001b[38;5;28many\u001b[39m(token \u001b[38;5;129;01min\u001b[39;00m metadata_producer \u001b[38;5;28;01mfor\u001b[39;00m token \u001b[38;5;129;01min\u001b[39;00m query_token)\n\u001b[1;32m     51\u001b[0m     \u001b[38;5;129;01mor\u001b[39;00m \u001b[38;5;28many\u001b[39m(token \u001b[38;5;129;01min\u001b[39;00m metadata_licensors \u001b[38;5;28;01mfor\u001b[39;00m token \u001b[38;5;129;01min\u001b[39;00m query_token)\n\u001b[1;32m     52\u001b[0m     \u001b[38;5;129;01mor\u001b[39;00m \u001b[38;5;28many\u001b[39m(token \u001b[38;5;129;01min\u001b[39;00m metadata_genre \u001b[38;5;28;01mfor\u001b[39;00m token \u001b[38;5;129;01min\u001b[39;00m query_token)\n\u001b[1;32m     53\u001b[0m )\n",
      "\u001b[0;31mNameError\u001b[0m: name 'query_token' is not defined"
     ]
    }
   ],
   "source": [
    "\n",
    "results = retriever.get_relevant_documents(query)\n",
    "indexes = {x.metadata['anime_id']: index for index, x in enumerate(results)}"
   ]
  },
  {
   "cell_type": "code",
   "execution_count": null,
   "metadata": {},
   "outputs": [],
   "source": []
  },
  {
   "cell_type": "code",
   "execution_count": 33,
   "metadata": {},
   "outputs": [],
   "source": [
    "\n",
    "\n",
    "top_anime_rating = recs2[recs2['anime_Score']!='UNKNOWN'].sort_values(by='anime_Score', ascending=False).head(10)\n",
    "top_studios = recs2.sort_values(by='Favorites', ascending=False).head(5)\n",
    "top_anime_rating['anime_Score'] = top_anime_rating['anime_Score'].astype(float)"
   ]
  },
  {
   "cell_type": "code",
   "execution_count": 34,
   "metadata": {},
   "outputs": [
    {
     "data": {
      "application/vnd.plotly.v1+json": {
       "config": {
        "plotlyServerURL": "https://plot.ly"
       },
       "data": [
        {
         "alignmentgroup": "True",
         "hovertemplate": "Name=%{y}<br>anime_Score=%{x}<extra></extra>",
         "legendgroup": "Fullmetal Alchemist: Brotherhood",
         "marker": {
          "color": [
           "#aec7e8",
           "#7b9fcf",
           "#1f77b4",
           "#03539e",
           "#003f5c"
          ],
          "pattern": {
           "shape": ""
          }
         },
         "name": "Fullmetal Alchemist: Brotherhood",
         "offsetgroup": "Fullmetal Alchemist: Brotherhood",
         "orientation": "h",
         "showlegend": true,
         "textposition": "auto",
         "type": "bar",
         "x": [
          9.1
         ],
         "xaxis": "x",
         "y": [
          "Fullmetal Alchemist: Brotherhood"
         ],
         "yaxis": "y"
        },
        {
         "alignmentgroup": "True",
         "hovertemplate": "Name=%{y}<br>anime_Score=%{x}<extra></extra>",
         "legendgroup": "Code Geass: Hangyaku no Lelouch R2",
         "marker": {
          "color": [
           "#aec7e8",
           "#7b9fcf",
           "#1f77b4",
           "#03539e",
           "#003f5c"
          ],
          "pattern": {
           "shape": ""
          }
         },
         "name": "Code Geass: Hangyaku no Lelouch R2",
         "offsetgroup": "Code Geass: Hangyaku no Lelouch R2",
         "orientation": "h",
         "showlegend": true,
         "textposition": "auto",
         "type": "bar",
         "x": [
          8.91
         ],
         "xaxis": "x",
         "y": [
          "Code Geass: Hangyaku no Lelouch R2"
         ],
         "yaxis": "y"
        },
        {
         "alignmentgroup": "True",
         "hovertemplate": "Name=%{y}<br>anime_Score=%{x}<extra></extra>",
         "legendgroup": "Cowboy Bebop",
         "marker": {
          "color": [
           "#aec7e8",
           "#7b9fcf",
           "#1f77b4",
           "#03539e",
           "#003f5c"
          ],
          "pattern": {
           "shape": ""
          }
         },
         "name": "Cowboy Bebop",
         "offsetgroup": "Cowboy Bebop",
         "orientation": "h",
         "showlegend": true,
         "textposition": "auto",
         "type": "bar",
         "x": [
          8.75
         ],
         "xaxis": "x",
         "y": [
          "Cowboy Bebop"
         ],
         "yaxis": "y"
        },
        {
         "alignmentgroup": "True",
         "hovertemplate": "Name=%{y}<br>anime_Score=%{x}<extra></extra>",
         "legendgroup": "Code Geass: Hangyaku no Lelouch",
         "marker": {
          "color": [
           "#aec7e8",
           "#7b9fcf",
           "#1f77b4",
           "#03539e",
           "#003f5c"
          ],
          "pattern": {
           "shape": ""
          }
         },
         "name": "Code Geass: Hangyaku no Lelouch",
         "offsetgroup": "Code Geass: Hangyaku no Lelouch",
         "orientation": "h",
         "showlegend": true,
         "textposition": "auto",
         "type": "bar",
         "x": [
          8.7
         ],
         "xaxis": "x",
         "y": [
          "Code Geass: Hangyaku no Lelouch"
         ],
         "yaxis": "y"
        },
        {
         "alignmentgroup": "True",
         "hovertemplate": "Name=%{y}<br>anime_Score=%{x}<extra></extra>",
         "legendgroup": "One Piece",
         "marker": {
          "color": [
           "#aec7e8",
           "#7b9fcf",
           "#1f77b4",
           "#03539e",
           "#003f5c"
          ],
          "pattern": {
           "shape": ""
          }
         },
         "name": "One Piece",
         "offsetgroup": "One Piece",
         "orientation": "h",
         "showlegend": true,
         "textposition": "auto",
         "type": "bar",
         "x": [
          8.69
         ],
         "xaxis": "x",
         "y": [
          "One Piece"
         ],
         "yaxis": "y"
        },
        {
         "alignmentgroup": "True",
         "hovertemplate": "Name=%{y}<br>anime_Score=%{x}<extra></extra>",
         "legendgroup": "Death Note",
         "marker": {
          "color": [
           "#aec7e8",
           "#7b9fcf",
           "#1f77b4",
           "#03539e",
           "#003f5c"
          ],
          "pattern": {
           "shape": ""
          }
         },
         "name": "Death Note",
         "offsetgroup": "Death Note",
         "orientation": "h",
         "showlegend": true,
         "textposition": "auto",
         "type": "bar",
         "x": [
          8.62
         ],
         "xaxis": "x",
         "y": [
          "Death Note"
         ],
         "yaxis": "y"
        },
        {
         "alignmentgroup": "True",
         "hovertemplate": "Name=%{y}<br>anime_Score=%{x}<extra></extra>",
         "legendgroup": "Samurai Champloo",
         "marker": {
          "color": [
           "#aec7e8",
           "#7b9fcf",
           "#1f77b4",
           "#03539e",
           "#003f5c"
          ],
          "pattern": {
           "shape": ""
          }
         },
         "name": "Samurai Champloo",
         "offsetgroup": "Samurai Champloo",
         "orientation": "h",
         "showlegend": true,
         "textposition": "auto",
         "type": "bar",
         "x": [
          8.51
         ],
         "xaxis": "x",
         "y": [
          "Samurai Champloo"
         ],
         "yaxis": "y"
        },
        {
         "alignmentgroup": "True",
         "hovertemplate": "Name=%{y}<br>anime_Score=%{x}<extra></extra>",
         "legendgroup": "Baccano!",
         "marker": {
          "color": [
           "#aec7e8",
           "#7b9fcf",
           "#1f77b4",
           "#03539e",
           "#003f5c"
          ],
          "pattern": {
           "shape": ""
          }
         },
         "name": "Baccano!",
         "offsetgroup": "Baccano!",
         "orientation": "h",
         "showlegend": true,
         "textposition": "auto",
         "type": "bar",
         "x": [
          8.37
         ],
         "xaxis": "x",
         "y": [
          "Baccano!"
         ],
         "yaxis": "y"
        },
        {
         "alignmentgroup": "True",
         "hovertemplate": "Name=%{y}<br>anime_Score=%{x}<extra></extra>",
         "legendgroup": "Bakemonogatari",
         "marker": {
          "color": [
           "#aec7e8",
           "#7b9fcf",
           "#1f77b4",
           "#03539e",
           "#003f5c"
          ],
          "pattern": {
           "shape": ""
          }
         },
         "name": "Bakemonogatari",
         "offsetgroup": "Bakemonogatari",
         "orientation": "h",
         "showlegend": true,
         "textposition": "auto",
         "type": "bar",
         "x": [
          8.33
         ],
         "xaxis": "x",
         "y": [
          "Bakemonogatari"
         ],
         "yaxis": "y"
        },
        {
         "alignmentgroup": "True",
         "hovertemplate": "Name=%{y}<br>anime_Score=%{x}<extra></extra>",
         "legendgroup": "Rurouni Kenshin: Meiji Kenkaku Romantan",
         "marker": {
          "color": [
           "#aec7e8",
           "#7b9fcf",
           "#1f77b4",
           "#03539e",
           "#003f5c"
          ],
          "pattern": {
           "shape": ""
          }
         },
         "name": "Rurouni Kenshin: Meiji Kenkaku Romantan",
         "offsetgroup": "Rurouni Kenshin: Meiji Kenkaku Romantan",
         "orientation": "h",
         "showlegend": true,
         "textposition": "auto",
         "type": "bar",
         "x": [
          8.29
         ],
         "xaxis": "x",
         "y": [
          "Rurouni Kenshin: Meiji Kenkaku Romantan"
         ],
         "yaxis": "y"
        }
       ],
       "layout": {
        "barmode": "relative",
        "legend": {
         "title": {
          "text": "Name"
         },
         "tracegroupgap": 0
        },
        "template": {
         "data": {
          "bar": [
           {
            "error_x": {
             "color": "#2a3f5f"
            },
            "error_y": {
             "color": "#2a3f5f"
            },
            "marker": {
             "line": {
              "color": "#E5ECF6",
              "width": 0.5
             },
             "pattern": {
              "fillmode": "overlay",
              "size": 10,
              "solidity": 0.2
             }
            },
            "type": "bar"
           }
          ],
          "barpolar": [
           {
            "marker": {
             "line": {
              "color": "#E5ECF6",
              "width": 0.5
             },
             "pattern": {
              "fillmode": "overlay",
              "size": 10,
              "solidity": 0.2
             }
            },
            "type": "barpolar"
           }
          ],
          "carpet": [
           {
            "aaxis": {
             "endlinecolor": "#2a3f5f",
             "gridcolor": "white",
             "linecolor": "white",
             "minorgridcolor": "white",
             "startlinecolor": "#2a3f5f"
            },
            "baxis": {
             "endlinecolor": "#2a3f5f",
             "gridcolor": "white",
             "linecolor": "white",
             "minorgridcolor": "white",
             "startlinecolor": "#2a3f5f"
            },
            "type": "carpet"
           }
          ],
          "choropleth": [
           {
            "colorbar": {
             "outlinewidth": 0,
             "ticks": ""
            },
            "type": "choropleth"
           }
          ],
          "contour": [
           {
            "colorbar": {
             "outlinewidth": 0,
             "ticks": ""
            },
            "colorscale": [
             [
              0,
              "#0d0887"
             ],
             [
              0.1111111111111111,
              "#46039f"
             ],
             [
              0.2222222222222222,
              "#7201a8"
             ],
             [
              0.3333333333333333,
              "#9c179e"
             ],
             [
              0.4444444444444444,
              "#bd3786"
             ],
             [
              0.5555555555555556,
              "#d8576b"
             ],
             [
              0.6666666666666666,
              "#ed7953"
             ],
             [
              0.7777777777777778,
              "#fb9f3a"
             ],
             [
              0.8888888888888888,
              "#fdca26"
             ],
             [
              1,
              "#f0f921"
             ]
            ],
            "type": "contour"
           }
          ],
          "contourcarpet": [
           {
            "colorbar": {
             "outlinewidth": 0,
             "ticks": ""
            },
            "type": "contourcarpet"
           }
          ],
          "heatmap": [
           {
            "colorbar": {
             "outlinewidth": 0,
             "ticks": ""
            },
            "colorscale": [
             [
              0,
              "#0d0887"
             ],
             [
              0.1111111111111111,
              "#46039f"
             ],
             [
              0.2222222222222222,
              "#7201a8"
             ],
             [
              0.3333333333333333,
              "#9c179e"
             ],
             [
              0.4444444444444444,
              "#bd3786"
             ],
             [
              0.5555555555555556,
              "#d8576b"
             ],
             [
              0.6666666666666666,
              "#ed7953"
             ],
             [
              0.7777777777777778,
              "#fb9f3a"
             ],
             [
              0.8888888888888888,
              "#fdca26"
             ],
             [
              1,
              "#f0f921"
             ]
            ],
            "type": "heatmap"
           }
          ],
          "heatmapgl": [
           {
            "colorbar": {
             "outlinewidth": 0,
             "ticks": ""
            },
            "colorscale": [
             [
              0,
              "#0d0887"
             ],
             [
              0.1111111111111111,
              "#46039f"
             ],
             [
              0.2222222222222222,
              "#7201a8"
             ],
             [
              0.3333333333333333,
              "#9c179e"
             ],
             [
              0.4444444444444444,
              "#bd3786"
             ],
             [
              0.5555555555555556,
              "#d8576b"
             ],
             [
              0.6666666666666666,
              "#ed7953"
             ],
             [
              0.7777777777777778,
              "#fb9f3a"
             ],
             [
              0.8888888888888888,
              "#fdca26"
             ],
             [
              1,
              "#f0f921"
             ]
            ],
            "type": "heatmapgl"
           }
          ],
          "histogram": [
           {
            "marker": {
             "pattern": {
              "fillmode": "overlay",
              "size": 10,
              "solidity": 0.2
             }
            },
            "type": "histogram"
           }
          ],
          "histogram2d": [
           {
            "colorbar": {
             "outlinewidth": 0,
             "ticks": ""
            },
            "colorscale": [
             [
              0,
              "#0d0887"
             ],
             [
              0.1111111111111111,
              "#46039f"
             ],
             [
              0.2222222222222222,
              "#7201a8"
             ],
             [
              0.3333333333333333,
              "#9c179e"
             ],
             [
              0.4444444444444444,
              "#bd3786"
             ],
             [
              0.5555555555555556,
              "#d8576b"
             ],
             [
              0.6666666666666666,
              "#ed7953"
             ],
             [
              0.7777777777777778,
              "#fb9f3a"
             ],
             [
              0.8888888888888888,
              "#fdca26"
             ],
             [
              1,
              "#f0f921"
             ]
            ],
            "type": "histogram2d"
           }
          ],
          "histogram2dcontour": [
           {
            "colorbar": {
             "outlinewidth": 0,
             "ticks": ""
            },
            "colorscale": [
             [
              0,
              "#0d0887"
             ],
             [
              0.1111111111111111,
              "#46039f"
             ],
             [
              0.2222222222222222,
              "#7201a8"
             ],
             [
              0.3333333333333333,
              "#9c179e"
             ],
             [
              0.4444444444444444,
              "#bd3786"
             ],
             [
              0.5555555555555556,
              "#d8576b"
             ],
             [
              0.6666666666666666,
              "#ed7953"
             ],
             [
              0.7777777777777778,
              "#fb9f3a"
             ],
             [
              0.8888888888888888,
              "#fdca26"
             ],
             [
              1,
              "#f0f921"
             ]
            ],
            "type": "histogram2dcontour"
           }
          ],
          "mesh3d": [
           {
            "colorbar": {
             "outlinewidth": 0,
             "ticks": ""
            },
            "type": "mesh3d"
           }
          ],
          "parcoords": [
           {
            "line": {
             "colorbar": {
              "outlinewidth": 0,
              "ticks": ""
             }
            },
            "type": "parcoords"
           }
          ],
          "pie": [
           {
            "automargin": true,
            "type": "pie"
           }
          ],
          "scatter": [
           {
            "fillpattern": {
             "fillmode": "overlay",
             "size": 10,
             "solidity": 0.2
            },
            "type": "scatter"
           }
          ],
          "scatter3d": [
           {
            "line": {
             "colorbar": {
              "outlinewidth": 0,
              "ticks": ""
             }
            },
            "marker": {
             "colorbar": {
              "outlinewidth": 0,
              "ticks": ""
             }
            },
            "type": "scatter3d"
           }
          ],
          "scattercarpet": [
           {
            "marker": {
             "colorbar": {
              "outlinewidth": 0,
              "ticks": ""
             }
            },
            "type": "scattercarpet"
           }
          ],
          "scattergeo": [
           {
            "marker": {
             "colorbar": {
              "outlinewidth": 0,
              "ticks": ""
             }
            },
            "type": "scattergeo"
           }
          ],
          "scattergl": [
           {
            "marker": {
             "colorbar": {
              "outlinewidth": 0,
              "ticks": ""
             }
            },
            "type": "scattergl"
           }
          ],
          "scattermapbox": [
           {
            "marker": {
             "colorbar": {
              "outlinewidth": 0,
              "ticks": ""
             }
            },
            "type": "scattermapbox"
           }
          ],
          "scatterpolar": [
           {
            "marker": {
             "colorbar": {
              "outlinewidth": 0,
              "ticks": ""
             }
            },
            "type": "scatterpolar"
           }
          ],
          "scatterpolargl": [
           {
            "marker": {
             "colorbar": {
              "outlinewidth": 0,
              "ticks": ""
             }
            },
            "type": "scatterpolargl"
           }
          ],
          "scatterternary": [
           {
            "marker": {
             "colorbar": {
              "outlinewidth": 0,
              "ticks": ""
             }
            },
            "type": "scatterternary"
           }
          ],
          "surface": [
           {
            "colorbar": {
             "outlinewidth": 0,
             "ticks": ""
            },
            "colorscale": [
             [
              0,
              "#0d0887"
             ],
             [
              0.1111111111111111,
              "#46039f"
             ],
             [
              0.2222222222222222,
              "#7201a8"
             ],
             [
              0.3333333333333333,
              "#9c179e"
             ],
             [
              0.4444444444444444,
              "#bd3786"
             ],
             [
              0.5555555555555556,
              "#d8576b"
             ],
             [
              0.6666666666666666,
              "#ed7953"
             ],
             [
              0.7777777777777778,
              "#fb9f3a"
             ],
             [
              0.8888888888888888,
              "#fdca26"
             ],
             [
              1,
              "#f0f921"
             ]
            ],
            "type": "surface"
           }
          ],
          "table": [
           {
            "cells": {
             "fill": {
              "color": "#EBF0F8"
             },
             "line": {
              "color": "white"
             }
            },
            "header": {
             "fill": {
              "color": "#C8D4E3"
             },
             "line": {
              "color": "white"
             }
            },
            "type": "table"
           }
          ]
         },
         "layout": {
          "annotationdefaults": {
           "arrowcolor": "#2a3f5f",
           "arrowhead": 0,
           "arrowwidth": 1
          },
          "autotypenumbers": "strict",
          "coloraxis": {
           "colorbar": {
            "outlinewidth": 0,
            "ticks": ""
           }
          },
          "colorscale": {
           "diverging": [
            [
             0,
             "#8e0152"
            ],
            [
             0.1,
             "#c51b7d"
            ],
            [
             0.2,
             "#de77ae"
            ],
            [
             0.3,
             "#f1b6da"
            ],
            [
             0.4,
             "#fde0ef"
            ],
            [
             0.5,
             "#f7f7f7"
            ],
            [
             0.6,
             "#e6f5d0"
            ],
            [
             0.7,
             "#b8e186"
            ],
            [
             0.8,
             "#7fbc41"
            ],
            [
             0.9,
             "#4d9221"
            ],
            [
             1,
             "#276419"
            ]
           ],
           "sequential": [
            [
             0,
             "#0d0887"
            ],
            [
             0.1111111111111111,
             "#46039f"
            ],
            [
             0.2222222222222222,
             "#7201a8"
            ],
            [
             0.3333333333333333,
             "#9c179e"
            ],
            [
             0.4444444444444444,
             "#bd3786"
            ],
            [
             0.5555555555555556,
             "#d8576b"
            ],
            [
             0.6666666666666666,
             "#ed7953"
            ],
            [
             0.7777777777777778,
             "#fb9f3a"
            ],
            [
             0.8888888888888888,
             "#fdca26"
            ],
            [
             1,
             "#f0f921"
            ]
           ],
           "sequentialminus": [
            [
             0,
             "#0d0887"
            ],
            [
             0.1111111111111111,
             "#46039f"
            ],
            [
             0.2222222222222222,
             "#7201a8"
            ],
            [
             0.3333333333333333,
             "#9c179e"
            ],
            [
             0.4444444444444444,
             "#bd3786"
            ],
            [
             0.5555555555555556,
             "#d8576b"
            ],
            [
             0.6666666666666666,
             "#ed7953"
            ],
            [
             0.7777777777777778,
             "#fb9f3a"
            ],
            [
             0.8888888888888888,
             "#fdca26"
            ],
            [
             1,
             "#f0f921"
            ]
           ]
          },
          "colorway": [
           "#636efa",
           "#EF553B",
           "#00cc96",
           "#ab63fa",
           "#FFA15A",
           "#19d3f3",
           "#FF6692",
           "#B6E880",
           "#FF97FF",
           "#FECB52"
          ],
          "font": {
           "color": "#2a3f5f"
          },
          "geo": {
           "bgcolor": "white",
           "lakecolor": "white",
           "landcolor": "#E5ECF6",
           "showlakes": true,
           "showland": true,
           "subunitcolor": "white"
          },
          "hoverlabel": {
           "align": "left"
          },
          "hovermode": "closest",
          "mapbox": {
           "style": "light"
          },
          "paper_bgcolor": "white",
          "plot_bgcolor": "#E5ECF6",
          "polar": {
           "angularaxis": {
            "gridcolor": "white",
            "linecolor": "white",
            "ticks": ""
           },
           "bgcolor": "#E5ECF6",
           "radialaxis": {
            "gridcolor": "white",
            "linecolor": "white",
            "ticks": ""
           }
          },
          "scene": {
           "xaxis": {
            "backgroundcolor": "#E5ECF6",
            "gridcolor": "white",
            "gridwidth": 2,
            "linecolor": "white",
            "showbackground": true,
            "ticks": "",
            "zerolinecolor": "white"
           },
           "yaxis": {
            "backgroundcolor": "#E5ECF6",
            "gridcolor": "white",
            "gridwidth": 2,
            "linecolor": "white",
            "showbackground": true,
            "ticks": "",
            "zerolinecolor": "white"
           },
           "zaxis": {
            "backgroundcolor": "#E5ECF6",
            "gridcolor": "white",
            "gridwidth": 2,
            "linecolor": "white",
            "showbackground": true,
            "ticks": "",
            "zerolinecolor": "white"
           }
          },
          "shapedefaults": {
           "line": {
            "color": "#2a3f5f"
           }
          },
          "ternary": {
           "aaxis": {
            "gridcolor": "white",
            "linecolor": "white",
            "ticks": ""
           },
           "baxis": {
            "gridcolor": "white",
            "linecolor": "white",
            "ticks": ""
           },
           "bgcolor": "#E5ECF6",
           "caxis": {
            "gridcolor": "white",
            "linecolor": "white",
            "ticks": ""
           }
          },
          "title": {
           "x": 0.05
          },
          "xaxis": {
           "automargin": true,
           "gridcolor": "white",
           "linecolor": "white",
           "ticks": "",
           "title": {
            "standoff": 15
           },
           "zerolinecolor": "white",
           "zerolinewidth": 2
          },
          "yaxis": {
           "automargin": true,
           "gridcolor": "white",
           "linecolor": "white",
           "ticks": "",
           "title": {
            "standoff": 15
           },
           "zerolinecolor": "white",
           "zerolinewidth": 2
          }
         }
        },
        "title": {
         "text": "Ratings of Popular Anime"
        },
        "xaxis": {
         "anchor": "y",
         "domain": [
          0,
          1
         ],
         "title": {
          "text": "anime_Score"
         }
        },
        "yaxis": {
         "anchor": "x",
         "categoryarray": [
          "Rurouni Kenshin: Meiji Kenkaku Romantan",
          "Bakemonogatari",
          "Baccano!",
          "Samurai Champloo",
          "Death Note",
          "One Piece",
          "Code Geass: Hangyaku no Lelouch",
          "Cowboy Bebop",
          "Code Geass: Hangyaku no Lelouch R2",
          "Fullmetal Alchemist: Brotherhood"
         ],
         "categoryorder": "array",
         "domain": [
          0,
          1
         ],
         "title": {
          "text": "Name"
         }
        }
       }
      }
     },
     "metadata": {},
     "output_type": "display_data"
    }
   ],
   "source": [
    "# Reset bar plot to default state\n",
    "fig_bar = px.bar(top_anime_rating, x='anime_Score', y='Name', color='Name',\n",
    "                 title=\"Ratings of Popular Anime\", orientation='h')\n",
    "blue_palette = ['#aec7e8', '#7b9fcf', '#1f77b4', '#03539e', '#003f5c']\n",
    "# Set colors for bars\n",
    "fig_bar.update_traces(marker_color=blue_palette)\n",
    "# Show the plot\n",
    "fig_bar.show()"
   ]
  },
  {
   "cell_type": "code",
   "execution_count": 35,
   "metadata": {},
   "outputs": [
    {
     "data": {
      "application/vnd.plotly.v1+json": {
       "config": {
        "plotlyServerURL": "https://plot.ly"
       },
       "data": [
        {
         "alignmentgroup": "True",
         "customdata": [
          [
           "Ring ni Kakero 1"
          ],
          [
           "Xenosaga The Animation"
          ],
          [
           "Ojamajo Doremi Sharp"
          ],
          [
           "Motto! Ojamajo Doremi"
          ],
          [
           "Ojamajo Doremi Dokkaan!"
          ],
          [
           "Iriya no Sora, UFO no Natsu"
          ],
          [
           "Bishoujo Senshi Sailor Moon R: The Movie"
          ],
          [
           "Denshin Mamotte Shugogetten"
          ],
          [
           "Kanon Kazahana"
          ],
          [
           "Kamisama Kazoku"
          ],
          [
           "Bishoujo Senshi Sailor Moon S: Kaguya-hime no Koibito"
          ],
          [
           "Mother: Saigo no Shoujo Eve"
          ],
          [
           "One Piece: Oounabara ni Hirake! Dekkai Dekkai Chichi no Yume!"
          ],
          [
           "Bishoujo Senshi Sailor Moon SuperS"
          ],
          [
           "Ojamajo Doremi Na-i-sho"
          ],
          [
           "Futari wa Precure: Splash☆Star"
          ],
          [
           "1000-nen Joou: Queen Millennia"
          ],
          [
           "Kinnikuman II Sei"
          ],
          [
           "Clannad Movie"
          ],
          [
           "Ring ni Kakero 1: Nichibei Kessen-hen"
          ],
          [
           "Gaiking: Legend of Daiku-Maryu"
          ],
          [
           "Cutey Honey F"
          ],
          [
           "Slam Dunk: Zenkoku Seiha Da! - Sakuragi Hanamichi"
          ],
          [
           "Futari wa Precure: Max Heart"
          ],
          [
           "Futari wa Precure: Max Heart Movie 1"
          ],
          [
           "Futari wa Precure: Max Heart Movie 2 - Yukizora no Tomodachi"
          ],
          [
           "Jigoku Sensei Nube"
          ],
          [
           "One Piece: Nenmatsu Tokubetsu Kikaku! Mugiwara no Luffy Oyabun Torimonochou"
          ],
          [
           "Coo: Tooi Umi kara Kita Coo"
          ],
          [
           "Dr. Slump: Arale-chan"
          ],
          [
           "Dragon Quest: Dai no Daibouken (TV)"
          ],
          [
           "Nagagutsu wo Haita Neko"
          ],
          [
           "Super Kuma-san"
          ],
          [
           "Candy Candy: Haru no Yobigoe"
          ],
          [
           "Candy Candy: Candy no Natsu Yasumi"
          ],
          [
           "Sakigake!! Otokojuku"
          ],
          [
           "Bishoujo Senshi Sailor Moon R: Make Up! Sailor Senshi"
          ],
          [
           "Digimon Adventure 02 Movies"
          ],
          [
           "Kuusou Kagaku Sekai Gulliver Boy"
          ],
          [
           "Gu-Gu Ganmo"
          ],
          [
           "Bishoujo Senshi Sailor Moon SuperS Specials"
          ],
          [
           "Kamen Rider SD Kaiki?! Kumo Otoko"
          ],
          [
           "Kingyo Chuuihou! (Movie)"
          ],
          [
           "Kinnikuman (Movie)"
          ],
          [
           "Kinnikuman: Ooabare! Seigi Choujin"
          ],
          [
           "Kinnikuman: Seigi Choujin vs. Kodai Choujin"
          ],
          [
           "Kinnikuman: Haresugata! Seigi Choujin"
          ],
          [
           "Kinnikuman: New York Kiki Ippatsu!"
          ],
          [
           "Kinnikuman: Seigi Choujin vs. Senshi Choujin"
          ],
          [
           "Kinnikuman: Kinnikusei Oui Soudatsu-hen"
          ],
          [
           "Shoubushi Densetsu Tetsuya"
          ],
          [
           "Pi Po Pa Po Patrol-kun"
          ],
          [
           "Grendizer: Getter Robo G - Great Mazinger Kessen! Daikaijuu"
          ],
          [
           "Hakaba Kitarou"
          ],
          [
           "Arrow Emblem Grand Prix no Taka"
          ],
          [
           "Himitsu no Akko-chan 2"
          ],
          [
           "Himitsu no Akko-chan 3"
          ],
          [
           "Microid S"
          ],
          [
           "Mahoutsukai Sally 2"
          ],
          [
           "Mahou Shoujo Lalabel"
          ],
          [
           "H. P. Lovecraft's The Dunwich Horror and Other Stories"
          ],
          [
           "Magnerobo Ga-Keen"
          ],
          [
           "Mahou no Mako-chan"
          ],
          [
           "Futari wa Precure: Splash☆Star Movie - Tick Tack Kiki Ippatsu!"
          ],
          [
           "Entaku no Kishi Monogatari: Moero Arthur"
          ],
          [
           "Kore ga UFO da! Soratobu Enban"
          ],
          [
           "Mazinger Z tai Ankoku Daishougun"
          ],
          [
           "Tatakae!! Ramenman"
          ],
          [
           "RoboDz"
          ],
          [
           "Moero Arthur: Hakuba no Ouji"
          ],
          [
           "Yes! Precure 5 GoGo! Movie: Okashi no Kuni no Happy Birthday"
          ],
          [
           "Daikyouryuu Jidai"
          ],
          [
           "Mushrambo (2008)"
          ],
          [
           "Shin Maple Town Monogatari: Palm Town-hen"
          ],
          [
           "Tsuri Baka Nisshi"
          ],
          [
           "Fresh Precure!"
          ],
          [
           "Precure All Stars Movie DX: Minna Tomodachi☆Kiseki no Zenin Daishuugou!"
          ],
          [
           "Jean Valjean Monogatari"
          ],
          [
           "Utsunomiko: Heaven Chapter"
          ],
          [
           "Kinnikuman II Sei: Ultimate Muscle"
          ],
          [
           "Kinnikuman II Sei: Ultimate Muscle 2"
          ],
          [
           "Sabu to Ichi Torimono Hikae"
          ],
          [
           "Marie & Gali"
          ],
          [
           "Highway Jenny"
          ],
          [
           "Maihime"
          ],
          [
           "Joseito"
          ],
          [
           "Eko Eko Azarak"
          ],
          [
           "Zakuro Yashiki"
          ],
          [
           "Kinnikuman II Sei: Second Generations"
          ],
          [
           "Marie & Gali Episode Zero"
          ],
          [
           "Cutey Honey Flash: The Movie"
          ],
          [
           "Fresh Precure! Movie: Omocha no Kuni wa Himitsu ga Ippai!?"
          ],
          [
           "Nono-chan"
          ],
          [
           "Asari-chan"
          ],
          [
           "Ginga Tetsudou 999: Glass no Clair"
          ],
          [
           "Marie & Gali Special"
          ],
          [
           "Shin Calimero"
          ],
          [
           "Arei no Kagami: Way to the Virgin Space"
          ],
          [
           "Dr. Slump Movie 07: Arale-chan N-cha! Penguin Mura yori Ai wo Komete"
          ],
          [
           "Ginga Tetsudou 999: Diamond Ring no Kanata e"
          ],
          [
           "Cyborg 009: Kaijuu Sensou"
          ],
          [
           "Hokuto no Ken: Legend of Heroes"
          ],
          [
           "Dragon Quest: Dai no Daibouken Tachiagare!! Aban no Shito"
          ],
          [
           "Gokinjo Monogatari the Movie"
          ],
          [
           "Sangokushi: Dai Ichi Bu - Eiyuu-tachi no Yoake"
          ],
          [
           "Dr. Slump Movie 06: Arale-chan N-cha! Penguin Mura wa Hare Nochi Hare"
          ],
          [
           "Gegege no Kitarou: Nippon Bakuretsu"
          ],
          [
           "Gegege no Kitarou: Daikaijuu"
          ],
          [
           "Gegege no Kitarou: Obake Nighter"
          ],
          [
           "Gegege no Kitarou: Jigoku-hen"
          ],
          [
           "Akuma-kun: Youkoso Akuma Land e!!"
          ],
          [
           "Jigoku Sensei Nube: Gozen 0 Ji Nube Shisu!"
          ],
          [
           "Ketsuinu"
          ],
          [
           "Marie & Gali ver. 2.0"
          ],
          [
           "Digimon Adventure 3D: Digimon Grand Prix!"
          ],
          [
           "Digimon Savers 3D: Digital World Kiki Ippatsu!"
          ],
          [
           "The Kabocha Wine: Nita no Aijou Monogatari"
          ],
          [
           "Dr. Slump Movie 10: Arale no Bikkuriman"
          ],
          [
           "Dr. Slump Movie 11: Dr. Mashirito & Abale-chan"
          ],
          [
           "Saint Elmo: Hikari no Raihousha"
          ],
          [
           "Future War 198X-nen"
          ],
          [
           "One Piece Film: Strong World Episode 0"
          ],
          [
           "Bishoujo Senshi Sailor Moon Memorial"
          ],
          [
           "Kindaichi Shounen no Jikenbo Movie 2: Satsuriku no Deep Blue"
          ],
          [
           "Heartcatch Precure! Movie: Hana no Miyako de Fashion Show... desu ka!?"
          ],
          [
           "Rainbow Sentai Robin"
          ],
          [
           "Be-Bop Highschool"
          ],
          [
           "Lady Lady!! (1988)"
          ],
          [
           "Shin Bikkuriman"
          ],
          [
           "Suite Precure♪"
          ],
          [
           "Dragon Ball: Super Saiya-jin Zetsumetsu Keikaku"
          ],
          [
           "Toriko 3D: Kaimaku Gourmet Adventure!!"
          ],
          [
           "Bikkuriman: Moen Zone no Himitsu"
          ],
          [
           "Ring ni Kakero 1: Sekai Taikai-hen"
          ],
          [
           "Precure All Stars GoGo Dream Live!"
          ],
          [
           "Machine Hayabusa"
          ],
          [
           "Lupin tai Holmes"
          ],
          [
           "Suite Precure♪ Movie: Torimodose! Kokoro ga Tsunagu Kiseki no Melody♪"
          ],
          [
           "Shin Maple Town Monogatari: Palm Town-hen - Konnichiwa! Atarashii Machi"
          ],
          [
           "Dragon Ball Kai: Mirai ni Heiwa wo! Goku no Tamashii yo Eien ni"
          ],
          [
           "One Piece 3D: Gekisou! Trap Coaster"
          ],
          [
           "Ginga Tetsudou 999: Hoshizora wa Time Machine"
          ],
          [
           "Ojamajo Doremi OVA"
          ],
          [
           "Patalliro! Stardust Keikaku"
          ],
          [
           "Himitsu no Akko-chan: Umi da! Obake da!! Natsu Matsuri"
          ],
          [
           "Kamen no Ninja Akakage"
          ],
          [
           "Bishoujo Senshi Sailor Moon: Sailor Stars - Hero Club"
          ],
          [
           "Tanken Driland"
          ],
          [
           "Smile Precure! Movie: Ehon no Naka wa Minna Chiguhagu!"
          ],
          [
           "Happy☆Lucky Bikkuriman"
          ],
          [
           "Precure All Stars Movie New Stage 2: Kokoro no Tomodachi"
          ],
          [
           "Tatakae!! Ramenman (Movie)"
          ],
          [
           "Dokidoki! Precure Movie: Mana Kekkon!!? Mirai ni Tsunagu Kibou no Dress"
          ],
          [
           "Tiger Mask Fuku Men League Sen"
          ],
          [
           "Akane-chan"
          ],
          [
           "Bokutachi no Peace River"
          ],
          [
           "Gu-Gu Ganmo (Movie)"
          ],
          [
           "Akuma Tou no Prince: Mitsume ga Tooru"
          ],
          [
           "Robot Girls Z"
          ],
          [
           "King Kong: 001/7 Tom Thumb"
          ],
          [
           "Wagahai wa Neko de Aru"
          ],
          [
           "Shounen Tokugawa Ieyasu"
          ],
          [
           "Precure All Stars Movie New Stage 3: Eien no Tomodachi"
          ],
          [
           "Ningen Kakumei"
          ],
          [
           "Dragon Ball Z: Zenbu Misemasu Toshi Wasure Dragon Ball Z!"
          ],
          [
           "Magical★Taruruuto-kun Movie"
          ],
          [
           "Hyokkori Hyoutan Shima"
          ],
          [
           "Ookami Shounen Ken (Movie)"
          ],
          [
           "Hiroshima e no Tabi"
          ],
          [
           "Futari no Oujisama"
          ],
          [
           "Nezumi no Yomeiri"
          ],
          [
           "Nagareboshi no Okurimono"
          ],
          [
           "Akuma to Himegimi"
          ],
          [
           "Be-Bop Kaizokuban"
          ],
          [
           "Wagahai wa Inu de Aru: Don Matsugorou no Seikatsu"
          ],
          [
           "Robot Girls Z Specials"
          ],
          [
           "Donguri Mori e"
          ],
          [
           "Yume no Tsuzuki"
          ],
          [
           "Boku to Gaku: Ano Natsu no Monogatari"
          ],
          [
           "Gomen ne, Mii-chan"
          ],
          [
           "Miitsuketa!"
          ],
          [
           "Yooidon!"
          ],
          [
           "Kokoroya"
          ],
          [
           "Hitoribocchi"
          ],
          [
           "Papa Mama Bye Bye"
          ],
          [
           "Little Twins"
          ],
          [
           "Little Twins: Bokura no Natsu ga Tondeiku"
          ],
          [
           "Precure All Stars Movie: Haru no Carnival♪"
          ],
          [
           "Go! Princess Precure"
          ],
          [
           "One Piece: Episode of Alabasta - Prologue"
          ],
          [
           "Robot Girls Z Plus"
          ],
          [
           "Ikiteirutte Subarashii!"
          ],
          [
           "Dr. Slump: Arale-chan Ayaya!? Penguin Mura de TV Jack"
          ],
          [
           "Ginga Tetsudou 999 for Planetarium"
          ],
          [
           "Robot Girls Z Episode 0"
          ],
          [
           "Kindaichi Shounen no Jikenbo Returns 2nd Season"
          ],
          [
           "Shounen to Sakura"
          ],
          [
           "Bishoujo Senshi Sailor Moon Crystal Season III"
          ],
          [
           "Precure All Stars Movie: Minna de Utau♪ - Kiseki no Mahou"
          ],
          [
           "Kirakira☆Precure A La Mode"
          ],
          [
           "Ring ni Kakero 1 Pilot"
          ],
          [
           "Mazinger Z Movie: Infinity"
          ],
          [
           "Kaettekita Dr. Slump: Arale-chan Special"
          ],
          [
           "Saint Seiya: Gold Saints Data File"
          ],
          [
           "Seikaisuru Kado: Ekwari"
          ],
          [
           "Devilman Memorial"
          ],
          [
           "Scratch x One Piece Film: Gold"
          ],
          [
           "Digimon Adventure tri. 6: Bokura no Mirai"
          ],
          [
           "Petit☆Dream Stars! Let's La Cooking? Showtime!"
          ],
          [
           "Hug tto! Precure♡Futari wa Precure Movie: All Stars Memories"
          ],
          [
           "Robot Girls Neo"
          ],
          [
           "Seikaisuru Kado: Beyond Information"
          ],
          [
           "Star☆Twinkle Precure"
          ],
          [
           "Dragon Ball Super: Broly - Skytree Super"
          ],
          [
           "Star☆Twinkle Precure: Hoshi no Uta ni Omoi wo Komete"
          ],
          [
           "Bakutsuri Bar Hunter Movie: Nazo no Barcode Trial! Bakutsure! Shinkaigyo Poseidon"
          ],
          [
           "Digimon Survive: Prologue Movie"
          ],
          [
           "Jurassic!"
          ],
          [
           "Look Plus One Piece Special Movie"
          ],
          [
           "Precure Miracle Leap Movie: Minna to no Fushigi na Ichinichi"
          ],
          [
           "Kocchi Muite Miiko"
          ],
          [
           "Getter Robo Memorial"
          ],
          [
           "Healin' Good♡Precure Movie: Yume no Machi de Kyun! Tto GoGo! Dai Henshin!!"
          ],
          [
           "Super Dragon Ball Heroes: Kessen! Time Patrol vs. Ankoku Ou"
          ],
          [
           "Tropical-Rouge! Precure Petit Tobikome! Collaboration ♡ Dance Party!"
          ],
          [
           "Tropical-Rouge! Precure Movie: Yuki no Princess to Kiseki no Yubiwa!"
          ],
          [
           "Knights of the Zodiac: Saint Seiya - Battle for Sanctuary"
          ],
          [
           "Dragon Ball Z x Kao"
          ],
          [
           "One Piece The Planetarium"
          ],
          [
           "Tousouchuu: Great Mission"
          ],
          [
           "Precure All Stars Movie F"
          ],
          [
           "Air Master"
          ],
          [
           "Air Movie"
          ],
          [
           "Aishite Knight"
          ],
          [
           "Akuma-kun (Movie)"
          ],
          [
           "Ali Baba to 40-hiki no Touzoku"
          ],
          [
           "Andersen Monogatari"
          ],
          [
           "Angel Densetsu"
          ],
          [
           "Anju to Zushioumaru"
          ],
          [
           "Asura"
          ],
          [
           "Babel Nisei"
          ],
          [
           "Bishoujo Senshi Sailor Moon Crystal"
          ],
          [
           "Bishoujo Senshi Sailor Moon R"
          ],
          [
           "Bishoujo Senshi Sailor Moon S"
          ],
          [
           "Bishoujo Senshi Sailor Moon SuperS Gaiden: Ami-chan no Hatsukoi"
          ],
          [
           "Captain Future"
          ],
          [
           "Chibikko Remi to Meiken Kapi"
          ],
          [
           "Cyborg 009"
          ],
          [
           "Cyborg 009 (1979)"
          ],
          [
           "Daikuu Maryuu Gaiking"
          ],
          [
           "Demashita! Powerpuff Girls Z"
          ],
          [
           "Digimon Adventure"
          ],
          [
           "Digimon Adventure tri. 3: Kokuhaku"
          ],
          [
           "Digimon Universe: Appli Monsters"
          ],
          [
           "Digimon Xros Wars: Aku no Death General to Nanatsu no Oukoku"
          ],
          [
           "Dororon Enma-kun"
          ],
          [
           "Dragon Ball Kai (2014)"
          ],
          [
           "Dragon Ball Movie 4: Saikyou e no Michi"
          ],
          [
           "Dragon Ball Specials"
          ],
          [
           "Dragon Ball Super"
          ],
          [
           "Dragon Ball Super: Super Hero"
          ],
          [
           "Dragon Ball Z"
          ],
          [
           "Dragon Ball Z Movie 04: Super Saiyajin da Son Gokuu"
          ],
          [
           "Dragon Ball Z Movie 05: Tobikkiri no Saikyou tai Saikyou"
          ],
          [
           "Dragon Ball Z Movie 08: Moetsukiro!! Nessen, Ressen, Chougekisen"
          ],
          [
           "Dragon Ball Z Movie 11: Super Senshi Gekiha!! Katsu no wa Ore da"
          ],
          [
           "Dragon Ball Z: Atsumare! Gokuu World"
          ],
          [
           "Dragon Ball Z: Saiya-jin Zetsumetsu Keikaku"
          ],
          [
           "GS Mikami: Gokuraku Daisakusen!!"
          ],
          [
           "Getter Robo Go"
          ],
          [
           "Ginga Nagareboshi Gin"
          ],
          [
           "Ginga Tetsudou 999"
          ],
          [
           "Go! Go! Ackman"
          ],
          [
           "Gokinjo Monogatari"
          ],
          [
           "Great Mazinger"
          ],
          [
           "Hana no Ko Lunlun"
          ],
          [
           "Hana yori Dango (Movie)"
          ],
          [
           "Hello! Sandybell"
          ],
          [
           "Himitsu no Akko-chan (Movie)"
          ],
          [
           "Hokuto no Ken"
          ],
          [
           "Hokuto no Ken 2"
          ],
          [
           "Jigoku Sensei Nube (Movie)"
          ],
          [
           "Jigoku Sensei Nube OVA"
          ],
          [
           "Kagaku Kyuujo-tai TechnoVoyager"
          ],
          [
           "Kaitei Sanman Mile"
          ],
          [
           "Kamikaze Kaitou Jeanne"
          ],
          [
           "Kindaichi Shounen no Jikenbo"
          ],
          [
           "Kingyo Chuuihou!"
          ],
          [
           "Kinnikuman"
          ],
          [
           "Koneko no Studio"
          ],
          [
           "Kyousou Giga (TV) Recaps"
          ],
          [
           "Lovely★Complex"
          ],
          [
           "Madonna"
          ],
          [
           "Magical★Taruruuto-kun"
          ],
          [
           "Mahoutsukai Sally"
          ],
          [
           "Marvel Disk Wars: The Avengers"
          ],
          [
           "Mazinger Z"
          ],
          [
           "Miracle Shoujo Limit-chan"
          ],
          [
           "Mouretsu Atarou"
          ],
          [
           "One Piece"
          ],
          [
           "One Piece Film: Gold"
          ],
          [
           "One Piece Film: Strong World"
          ],
          [
           "One Piece Movie 01"
          ],
          [
           "One Piece Movie 02: Nejimaki-jima no Daibouken"
          ],
          [
           "One Piece Movie 09: Episode of Chopper Plus - Fuyu ni Saku, Kiseki no Sakura"
          ],
          [
           "One Piece: Adventure of Nebulandia"
          ],
          [
           "One Piece: Heart of Gold"
          ],
          [
           "One Piece: Romance Dawn Story"
          ],
          [
           "Panda no Daibouken"
          ],
          [
           "Rokudenashi Blues 1993"
          ],
          [
           "Saint Seiya"
          ],
          [
           "Saint Seiya Omega"
          ],
          [
           "Saint Seiya: Saishuu Seisen no Senshi-tachi"
          ],
          [
           "Saiyuuki"
          ],
          [
           "Seikaisuru Kado"
          ],
          [
           "Sekai Meisaku Douwa: Mori wa Ikiteiru"
          ],
          [
           "Sekai Meisaku Douwa: Oyayubi Hime"
          ],
          [
           "Shin Taketori Monogatari: 1000-nen Joou"
          ],
          [
           "Shounan Bakusouzoku"
          ],
          [
           "Shounen Kenya"
          ],
          [
           "Shounen Ninja Kaze no Fujimaru"
          ],
          [
           "Soratobu Yuureisen"
          ],
          [
           "Soujuu Senshi Psychic Wars"
          ],
          [
           "Tatsu no Ko Tarou"
          ],
          [
           "Tezuka Osamu no Buddha: Akai Sabaku yo! Utsukushiku"
          ],
          [
           "Tezuka Osamu no Buddha: Owarinaki Tabi"
          ],
          [
           "Tiger Mask W"
          ],
          [
           "Toei Robot Girls"
          ],
          [
           "Toriko Movie: Bishokushin no Special Menu"
          ],
          [
           "Transformers Zone"
          ],
          [
           "Transformers: Scramble City"
          ],
          [
           "Tropical-Rouge! Precure"
          ],
          [
           "UFO Robo Grendizer tai Great Mazinger"
          ],
          [
           "Video Senshi Lezarion"
          ],
          [
           "Waga Seishun no Arcadia"
          ],
          [
           "Wakusei Robo Danguard Ace"
          ],
          [
           "Yume no Crayon Oukoku"
          ],
          [
           "Yu☆Gi☆Oh! (Movie)"
          ],
          [
           "3x3 Eyes"
          ],
          [
           "Air Gear"
          ],
          [
           "Air Gear Special"
          ],
          [
           "Akuma-kun"
          ],
          [
           "American Rabbit no Bouken"
          ],
          [
           "Amon Saga"
          ],
          [
           "Andersen Douwa: Ningyohime"
          ],
          [
           "Andromeda Stories"
          ],
          [
           "Aoki Densetsu Shoot!"
          ],
          [
           "Aoki Densetsu Shoot! (Movie)"
          ],
          [
           "Arano no Sakebi Koe: Hoero, Buck"
          ],
          [
           "Ashita no Nadja"
          ],
          [
           "Atashin'chi Movie"
          ],
          [
           "Ayakashi: Japanese Classic Horror"
          ],
          [
           "Bikkuriman"
          ],
          [
           "Binbou Shimai Monogatari"
          ],
          [
           "Bishoujo Senshi Sailor Moon"
          ],
          [
           "Bishoujo Senshi Sailor Moon: Sailor Stars"
          ],
          [
           "Bobobo-bo Bo-bobo"
          ],
          [
           "Bouken Ou Beet"
          ],
          [
           "Bouken Ou Beet Excellion"
          ],
          [
           "Calimero"
          ],
          [
           "Candy Candy"
          ],
          [
           "Candy Candy (Movie)"
          ],
          [
           "Chiisana Penguin Lolo no Bouken"
          ],
          [
           "Crying Freeman"
          ],
          [
           "Cutey Honey"
          ],
          [
           "Cyborg 009 (TV)"
          ],
          [
           "Cyborg 009: Chou Ginga Densetsu"
          ],
          [
           "Delicious Party♡Precure"
          ],
          [
           "Devilman"
          ],
          [
           "Digimon Adventure 02"
          ],
          [
           "Digimon Adventure 02: Diablomon no Gyakushuu"
          ],
          [
           "Digimon Adventure Movie"
          ],
          [
           "Digimon Adventure tri. 1: Saikai"
          ],
          [
           "Digimon Adventure tri. 2: Ketsui"
          ],
          [
           "Digimon Adventure: Bokura no War Game!"
          ],
          [
           "Digimon Frontier"
          ],
          [
           "Digimon Ghost Game"
          ],
          [
           "Digimon Ghost Game Recap"
          ],
          [
           "Digimon Savers"
          ],
          [
           "Digimon Tamers"
          ],
          [
           "Digimon Tamers: Boukensha-tachi no Tatakai"
          ],
          [
           "Digimon Tamers: Bousou Digimon Tokkyuu"
          ],
          [
           "Digimon X-Evolution"
          ],
          [
           "Digimon Xros Wars"
          ],
          [
           "Digimon Xros Wars: Toki wo Kakeru Shounen Hunter-tachi"
          ],
          [
           "Dokidoki! Precure"
          ],
          [
           "Doubutsu Takarajima"
          ],
          [
           "Dr. Slump"
          ],
          [
           "Dr. Slump Movie 08: Arale-chan Hoyoyo!! Tasuketa Same ni Tsurerarete..."
          ],
          [
           "Dragon Ball"
          ],
          [
           "Dragon Ball GT"
          ],
          [
           "Dragon Ball GT: Gokuu Gaiden! Yuuki no Akashi wa Suushinchuu"
          ],
          [
           "Dragon Ball Kai"
          ],
          [
           "Dragon Ball Movie 1: Shen Long no Densetsu"
          ],
          [
           "Dragon Ball Movie 2: Majinjou no Nemurihime"
          ],
          [
           "Dragon Ball Movie 3: Makafushigi Daibouken"
          ],
          [
           "Dragon Ball Super: Broly"
          ],
          [
           "Dragon Ball Z Movie 01: Ora no Gohan wo Kaese!!"
          ],
          [
           "Dragon Ball Z Movie 02: Kono Yo de Ichiban Tsuyoi Yatsu"
          ],
          [
           "Dragon Ball Z Movie 03: Chikyuu Marugoto Choukessen"
          ],
          [
           "Dragon Ball Z Movie 06: Gekitotsu!! 100-oku Power no Senshi-tachi"
          ],
          [
           "Dragon Ball Z Movie 07: Kyokugen Battle!! Sandai Super Saiyajin"
          ],
          [
           "Dragon Ball Z Movie 09: Ginga Girigiri!! Bucchigiri no Sugoi Yatsu"
          ],
          [
           "Dragon Ball Z Movie 10: Kiken na Futari! Super Senshi wa Nemurenai"
          ],
          [
           "Dragon Ball Z Movie 12: Fukkatsu no Fusion!! Gokuu to Vegeta"
          ],
          [
           "Dragon Ball Z Movie 13: Ryuuken Bakuhatsu!! Gokuu ga Yaraneba Dare ga Yaru"
          ],
          [
           "Dragon Ball Z Movie 14: Kami to Kami"
          ],
          [
           "Dragon Ball Z Movie 15: Fukkatsu no \"F\""
          ],
          [
           "Dragon Ball Z Special 2: Zetsubou e no Hankou!! Nokosareta Chousenshi - Gohan to Trunks"
          ],
          [
           "Dragon Ball Z: Summer Vacation Special"
          ],
          [
           "Dragon Ball: Episode of Bardock"
          ],
          [
           "Dragon Quest: Dai no Daibouken"
          ],
          [
           "Dragon Quest: Dai no Daibouken (2020)"
          ],
          [
           "Dragon Quest: Dai no Daibouken Buchiyabure!! Shinsei 6 Daishougun"
          ],
          [
           "Dream"
          ],
          [
           "Fantascope: Tylostoma"
          ],
          [
           "Futari wa Precure"
          ],
          [
           "G-9"
          ],
          [
           "GS Mikami"
          ],
          [
           "Ganbare Genki"
          ],
          [
           "Gegege no Kitarou (1968)"
          ],
          [
           "Gegege no Kitarou (1971)"
          ],
          [
           "Gegege no Kitarou (1985 Movie)"
          ],
          [
           "Gegege no Kitarou (1985)"
          ],
          [
           "Gegege no Kitarou (1996)"
          ],
          [
           "Genshi Shounen Ryuu"
          ],
          [
           "Getter Robo"
          ],
          [
           "Getter Robo G"
          ],
          [
           "Ginga Senpuu Braiger"
          ],
          [
           "Ginga Tetsudou 999 (Movie)"
          ],
          [
           "Ginga Tetsudou 999: Eternal Fantasy"
          ],
          [
           "Great Mazinger tai Getter Robo"
          ],
          [
           "Gulliver no Uchuu Ryokou"
          ],
          [
           "Hakujaden"
          ],
          [
           "Hana no Ko Lunlun: Konnichiwa Sakura no Kuni"
          ],
          [
           "Hana yori Dango"
          ],
          [
           "Happiness Charge Precure!"
          ],
          [
           "Hashire Melos (1981)"
          ],
          [
           "Heartcatch Precure!"
          ],
          [
           "Hello! Lady Lynn"
          ],
          [
           "Himitsu no Akko-chan"
          ],
          [
           "Hirogaru Sky! Precure"
          ],
          [
           "Hokuto no Ken Movie"
          ],
          [
           "Hustle Punch"
          ],
          [
           "Hyakujuu-Ou GoLion"
          ],
          [
           "Ikkyuu-san"
          ],
          [
           "Interlude"
          ],
          [
           "Interstella5555: The 5tory of The 5ecret 5tar 5ystem"
          ],
          [
           "Inuki Kanako Zekkyou Collection: Gakkou ga Kowai!"
          ],
          [
           "Jetter Mars"
          ],
          [
           "Jigoku Sensei Nube: Kyoufu no Natsuyasumi!! Ayashi no Umi no Densetsu!"
          ],
          [
           "Juugo Shounen Hyouryuuki"
          ],
          [
           "Kaidan Restaurant"
          ],
          [
           "Kanon"
          ],
          [
           "Kennosuke-sama"
          ],
          [
           "Kick no Oni"
          ],
          [
           "Kikou Kantai Dairugger XV"
          ],
          [
           "Kindaichi Shounen no Jikenbo Returns"
          ],
          [
           "Kirakira☆Precure A La Mode Movie: Paritto! Omoide no Mille-Feuille!"
          ],
          [
           "Kitarou Tanjou: Gegege no Nazo"
          ],
          [
           "Knights of the Zodiac: Saint Seiya"
          ],
          [
           "Koneko no Rakugaki"
          ],
          [
           "Konjiki no Gash Bell!!"
          ],
          [
           "Koutetsu Jeeg"
          ],
          [
           "Kuuchuu Buranko"
          ],
          [
           "Kyousou Giga"
          ],
          [
           "Kyousou Giga (2012)"
          ],
          [
           "Kyousou Giga (TV)"
          ],
          [
           "La Rose de Versailles"
          ],
          [
           "Magnerobo Ga-Keen Recap"
          ],
          [
           "Mahoutsukai Chappy"
          ],
          [
           "Mahoutsukai Sally (Movie)"
          ],
          [
           "Majin Bone"
          ],
          [
           "Majo Minarai wo Sagashite"
          ],
          [
           "Majokko Megu-chan"
          ],
          [
           "Majokko Tickle"
          ],
          [
           "Maken Liner 0011 Henshin Seyo!"
          ],
          [
           "Mamotte Shugogetten!"
          ],
          [
           "Manga Aesop Monogatari"
          ],
          [
           "Maple Town Monogatari"
          ],
          [
           "Maple Town Monogatari (Movie)"
          ],
          [
           "Marmalade Boy"
          ],
          [
           "Marmalade Boy Movie"
          ],
          [
           "Mazinger Z tai Devilman"
          ],
          [
           "Mononoke"
          ],
          [
           "Mushrambo"
          ],
          [
           "Nagagutsu Sanjuushi"
          ],
          [
           "Nijiiro Hotaru: Eien no Natsuyasumi"
          ],
          [
           "Ojamajo Doremi"
          ],
          [
           "Ojamajo Doremi Sharp Movie"
          ],
          [
           "One Piece 3D: Mugiwara Chase"
          ],
          [
           "One Piece Film: Red"
          ],
          [
           "One Piece Film: Z"
          ],
          [
           "One Piece Movie 03: Chinjuu-jima no Chopper Oukoku"
          ],
          [
           "One Piece Movie 05: Norowareta Seiken"
          ],
          [
           "One Piece Movie 06: Omatsuri Danshaku to Himitsu no Shima"
          ],
          [
           "One Piece Movie 07: Karakuri-jou no Mecha Kyohei"
          ],
          [
           "One Piece Movie 08: Episode of Alabasta - Sabaku no Oujo to Kaizoku-tachi"
          ],
          [
           "One Piece Movie 14: Stampede"
          ],
          [
           "One Piece: Episode of Luffy - Hand Island no Bouken"
          ],
          [
           "One Piece: Episode of Merry - Mou Hitori no Nakama no Monogatari"
          ],
          [
           "One Piece: Episode of Nami - Koukaishi no Namida to Nakama no Kizuna"
          ],
          [
           "One Piece: Episode of Sorajima"
          ],
          [
           "One Piece: Umi no Heso no Daibouken-hen"
          ],
          [
           "Ookami Shounen Ken"
          ],
          [
           "Patalliro!"
          ],
          [
           "Pop in Q"
          ],
          [
           "Precure Miracle Universe Movie"
          ],
          [
           "Rokudenashi Blues"
          ],
          [
           "SF Saiyuuki Starzinger"
          ],
          [
           "Saint Seiya: Jashin Eris"
          ],
          [
           "Saint Seiya: Kamigami no Atsuki Tatakai"
          ],
          [
           "Saint Seiya: Legend of Sanctuary"
          ],
          [
           "Saint Seiya: Meiou Hades Juuni Kyuu-hen"
          ],
          [
           "Saint Seiya: Meiou Hades Meikai-hen"
          ],
          [
           "Saint Seiya: Shinku no Shounen Densetsu"
          ],
          [
           "Sakigake!! Otokojuku Movie"
          ],
          [
           "Sango no Umi to Ouji"
          ],
          [
           "Sarutobi Ecchan"
          ],
          [
           "Sayonara Ginga Tetsudou 999: Andromeda Shuuchakueki"
          ],
          [
           "Sekai Meisaku Douwa: Aladdin to Mahou no Lamp"
          ],
          [
           "Sekai Meisaku Douwa: Hakuchou no Mizuumi"
          ],
          [
           "Sekai Meisaku Douwa: Hakuchou no Ouji"
          ],
          [
           "Sekai Meisaku Douwa: Wow! Maerchen Oukoku"
          ],
          [
           "Shin Cutey Honey"
          ],
          [
           "Shounen Jack to Mahoutsukai"
          ],
          [
           "Shounen Sarutobi Sasuke"
          ],
          [
           "Slam Dunk"
          ],
          [
           "Slam Dunk (Movie)"
          ],
          [
           "Smile Precure!"
          ],
          [
           "Stop!! Hibari-kun!"
          ],
          [
           "Super Bikkuriman"
          ],
          [
           "Super Dragon Ball Heroes"
          ],
          [
           "Superflat Monogram"
          ],
          [
           "Taiyou no Ouji: Horus no Daibouken"
          ],
          [
           "Terra e..."
          ],
          [
           "The Kabocha Wine"
          ],
          [
           "Tiger Mask"
          ],
          [
           "Tiger Mask Nisei"
          ],
          [
           "Tongari Boushi no Memole"
          ],
          [
           "Tori no Uta"
          ],
          [
           "Toriko"
          ],
          [
           "Transformers: The☆Headmasters"
          ],
          [
           "UFO Robo Grendizer"
          ],
          [
           "Uchuu Kaizoku Captain Herlock"
          ],
          [
           "Uchuu Majin Daikengou"
          ],
          [
           "Uchuu Taitei God Sigma"
          ],
          [
           "Vampire Sensou"
          ],
          [
           "Wakakusa Monogatari"
          ],
          [
           "Wakakusa no Yon Shimai"
          ],
          [
           "Wan Wan Chuushingura"
          ],
          [
           "Wanpaku Ouji no Orochi Taiji"
          ],
          [
           "World Trigger"
          ],
          [
           "World Trigger 2nd Season"
          ],
          [
           "World Trigger 3rd Season"
          ],
          [
           "Yamato yo Towa ni"
          ],
          [
           "Yami no Teio: Kyuuketsuki Dracula"
          ],
          [
           "Yes! Precure 5"
          ],
          [
           "Yes! Precure 5 GoGo!"
          ],
          [
           "Yume Senshi Wingman"
          ],
          [
           "Yu☆Gi☆Oh!"
          ]
         ],
         "hovertemplate": "<b>Name:</b> %{customdata[0]}<br><b>Favorites:</b> %{y}",
         "legendgroup": "Toei Animation",
         "marker": {
          "color": "#636efa"
         },
         "name": "Toei Animation",
         "notched": false,
         "offsetgroup": "Toei Animation",
         "orientation": "v",
         "showlegend": true,
         "type": "box",
         "x": [
          "Toei Animation",
          "Toei Animation",
          "Toei Animation",
          "Toei Animation",
          "Toei Animation",
          "Toei Animation",
          "Toei Animation",
          "Toei Animation",
          "Toei Animation",
          "Toei Animation",
          "Toei Animation",
          "Toei Animation",
          "Toei Animation",
          "Toei Animation",
          "Toei Animation",
          "Toei Animation",
          "Toei Animation",
          "Toei Animation",
          "Toei Animation",
          "Toei Animation",
          "Toei Animation",
          "Toei Animation",
          "Toei Animation",
          "Toei Animation",
          "Toei Animation",
          "Toei Animation",
          "Toei Animation",
          "Toei Animation",
          "Toei Animation",
          "Toei Animation",
          "Toei Animation",
          "Toei Animation",
          "Toei Animation",
          "Toei Animation",
          "Toei Animation",
          "Toei Animation",
          "Toei Animation",
          "Toei Animation",
          "Toei Animation",
          "Toei Animation",
          "Toei Animation",
          "Toei Animation",
          "Toei Animation",
          "Toei Animation",
          "Toei Animation",
          "Toei Animation",
          "Toei Animation",
          "Toei Animation",
          "Toei Animation",
          "Toei Animation",
          "Toei Animation",
          "Toei Animation",
          "Toei Animation",
          "Toei Animation",
          "Toei Animation",
          "Toei Animation",
          "Toei Animation",
          "Toei Animation",
          "Toei Animation",
          "Toei Animation",
          "Toei Animation",
          "Toei Animation",
          "Toei Animation",
          "Toei Animation",
          "Toei Animation",
          "Toei Animation",
          "Toei Animation",
          "Toei Animation",
          "Toei Animation",
          "Toei Animation",
          "Toei Animation",
          "Toei Animation",
          "Toei Animation",
          "Toei Animation",
          "Toei Animation",
          "Toei Animation",
          "Toei Animation",
          "Toei Animation",
          "Toei Animation",
          "Toei Animation",
          "Toei Animation",
          "Toei Animation",
          "Toei Animation",
          "Toei Animation",
          "Toei Animation",
          "Toei Animation",
          "Toei Animation",
          "Toei Animation",
          "Toei Animation",
          "Toei Animation",
          "Toei Animation",
          "Toei Animation",
          "Toei Animation",
          "Toei Animation",
          "Toei Animation",
          "Toei Animation",
          "Toei Animation",
          "Toei Animation",
          "Toei Animation",
          "Toei Animation",
          "Toei Animation",
          "Toei Animation",
          "Toei Animation",
          "Toei Animation",
          "Toei Animation",
          "Toei Animation",
          "Toei Animation",
          "Toei Animation",
          "Toei Animation",
          "Toei Animation",
          "Toei Animation",
          "Toei Animation",
          "Toei Animation",
          "Toei Animation",
          "Toei Animation",
          "Toei Animation",
          "Toei Animation",
          "Toei Animation",
          "Toei Animation",
          "Toei Animation",
          "Toei Animation",
          "Toei Animation",
          "Toei Animation",
          "Toei Animation",
          "Toei Animation",
          "Toei Animation",
          "Toei Animation",
          "Toei Animation",
          "Toei Animation",
          "Toei Animation",
          "Toei Animation",
          "Toei Animation",
          "Toei Animation",
          "Toei Animation",
          "Toei Animation",
          "Toei Animation",
          "Toei Animation",
          "Toei Animation",
          "Toei Animation",
          "Toei Animation",
          "Toei Animation",
          "Toei Animation",
          "Toei Animation",
          "Toei Animation",
          "Toei Animation",
          "Toei Animation",
          "Toei Animation",
          "Toei Animation",
          "Toei Animation",
          "Toei Animation",
          "Toei Animation",
          "Toei Animation",
          "Toei Animation",
          "Toei Animation",
          "Toei Animation",
          "Toei Animation",
          "Toei Animation",
          "Toei Animation",
          "Toei Animation",
          "Toei Animation",
          "Toei Animation",
          "Toei Animation",
          "Toei Animation",
          "Toei Animation",
          "Toei Animation",
          "Toei Animation",
          "Toei Animation",
          "Toei Animation",
          "Toei Animation",
          "Toei Animation",
          "Toei Animation",
          "Toei Animation",
          "Toei Animation",
          "Toei Animation",
          "Toei Animation",
          "Toei Animation",
          "Toei Animation",
          "Toei Animation",
          "Toei Animation",
          "Toei Animation",
          "Toei Animation",
          "Toei Animation",
          "Toei Animation",
          "Toei Animation",
          "Toei Animation",
          "Toei Animation",
          "Toei Animation",
          "Toei Animation",
          "Toei Animation",
          "Toei Animation",
          "Toei Animation",
          "Toei Animation",
          "Toei Animation",
          "Toei Animation",
          "Toei Animation",
          "Toei Animation",
          "Toei Animation",
          "Toei Animation",
          "Toei Animation",
          "Toei Animation",
          "Toei Animation",
          "Toei Animation",
          "Toei Animation",
          "Toei Animation",
          "Toei Animation",
          "Toei Animation",
          "Toei Animation",
          "Toei Animation",
          "Toei Animation",
          "Toei Animation",
          "Toei Animation",
          "Toei Animation",
          "Toei Animation",
          "Toei Animation",
          "Toei Animation",
          "Toei Animation",
          "Toei Animation",
          "Toei Animation",
          "Toei Animation",
          "Toei Animation",
          "Toei Animation",
          "Toei Animation",
          "Toei Animation",
          "Toei Animation",
          "Toei Animation",
          "Toei Animation",
          "Toei Animation",
          "Toei Animation",
          "Toei Animation",
          "Toei Animation",
          "Toei Animation",
          "Toei Animation",
          "Toei Animation",
          "Toei Animation",
          "Toei Animation",
          "Toei Animation",
          "Toei Animation",
          "Toei Animation",
          "Toei Animation",
          "Toei Animation",
          "Toei Animation",
          "Toei Animation",
          "Toei Animation",
          "Toei Animation",
          "Toei Animation",
          "Toei Animation",
          "Toei Animation",
          "Toei Animation",
          "Toei Animation",
          "Toei Animation",
          "Toei Animation",
          "Toei Animation",
          "Toei Animation",
          "Toei Animation",
          "Toei Animation",
          "Toei Animation",
          "Toei Animation",
          "Toei Animation",
          "Toei Animation",
          "Toei Animation",
          "Toei Animation",
          "Toei Animation",
          "Toei Animation",
          "Toei Animation",
          "Toei Animation",
          "Toei Animation",
          "Toei Animation",
          "Toei Animation",
          "Toei Animation",
          "Toei Animation",
          "Toei Animation",
          "Toei Animation",
          "Toei Animation",
          "Toei Animation",
          "Toei Animation",
          "Toei Animation",
          "Toei Animation",
          "Toei Animation",
          "Toei Animation",
          "Toei Animation",
          "Toei Animation",
          "Toei Animation",
          "Toei Animation",
          "Toei Animation",
          "Toei Animation",
          "Toei Animation",
          "Toei Animation",
          "Toei Animation",
          "Toei Animation",
          "Toei Animation",
          "Toei Animation",
          "Toei Animation",
          "Toei Animation",
          "Toei Animation",
          "Toei Animation",
          "Toei Animation",
          "Toei Animation",
          "Toei Animation",
          "Toei Animation",
          "Toei Animation",
          "Toei Animation",
          "Toei Animation",
          "Toei Animation",
          "Toei Animation",
          "Toei Animation",
          "Toei Animation",
          "Toei Animation",
          "Toei Animation",
          "Toei Animation",
          "Toei Animation",
          "Toei Animation",
          "Toei Animation",
          "Toei Animation",
          "Toei Animation",
          "Toei Animation",
          "Toei Animation",
          "Toei Animation",
          "Toei Animation",
          "Toei Animation",
          "Toei Animation",
          "Toei Animation",
          "Toei Animation",
          "Toei Animation",
          "Toei Animation",
          "Toei Animation",
          "Toei Animation",
          "Toei Animation",
          "Toei Animation",
          "Toei Animation",
          "Toei Animation",
          "Toei Animation",
          "Toei Animation",
          "Toei Animation",
          "Toei Animation",
          "Toei Animation",
          "Toei Animation",
          "Toei Animation",
          "Toei Animation",
          "Toei Animation",
          "Toei Animation",
          "Toei Animation",
          "Toei Animation",
          "Toei Animation",
          "Toei Animation",
          "Toei Animation",
          "Toei Animation",
          "Toei Animation",
          "Toei Animation",
          "Toei Animation",
          "Toei Animation",
          "Toei Animation",
          "Toei Animation",
          "Toei Animation",
          "Toei Animation",
          "Toei Animation",
          "Toei Animation",
          "Toei Animation",
          "Toei Animation",
          "Toei Animation",
          "Toei Animation",
          "Toei Animation",
          "Toei Animation",
          "Toei Animation",
          "Toei Animation",
          "Toei Animation",
          "Toei Animation",
          "Toei Animation",
          "Toei Animation",
          "Toei Animation",
          "Toei Animation",
          "Toei Animation",
          "Toei Animation",
          "Toei Animation",
          "Toei Animation",
          "Toei Animation",
          "Toei Animation",
          "Toei Animation",
          "Toei Animation",
          "Toei Animation",
          "Toei Animation",
          "Toei Animation",
          "Toei Animation",
          "Toei Animation",
          "Toei Animation",
          "Toei Animation",
          "Toei Animation",
          "Toei Animation",
          "Toei Animation",
          "Toei Animation",
          "Toei Animation",
          "Toei Animation",
          "Toei Animation",
          "Toei Animation",
          "Toei Animation",
          "Toei Animation",
          "Toei Animation",
          "Toei Animation",
          "Toei Animation",
          "Toei Animation",
          "Toei Animation",
          "Toei Animation",
          "Toei Animation",
          "Toei Animation",
          "Toei Animation",
          "Toei Animation",
          "Toei Animation",
          "Toei Animation",
          "Toei Animation",
          "Toei Animation",
          "Toei Animation",
          "Toei Animation",
          "Toei Animation",
          "Toei Animation",
          "Toei Animation",
          "Toei Animation",
          "Toei Animation",
          "Toei Animation",
          "Toei Animation",
          "Toei Animation",
          "Toei Animation",
          "Toei Animation",
          "Toei Animation",
          "Toei Animation",
          "Toei Animation",
          "Toei Animation",
          "Toei Animation",
          "Toei Animation",
          "Toei Animation",
          "Toei Animation",
          "Toei Animation",
          "Toei Animation",
          "Toei Animation",
          "Toei Animation",
          "Toei Animation",
          "Toei Animation",
          "Toei Animation",
          "Toei Animation",
          "Toei Animation",
          "Toei Animation",
          "Toei Animation",
          "Toei Animation",
          "Toei Animation",
          "Toei Animation",
          "Toei Animation",
          "Toei Animation",
          "Toei Animation",
          "Toei Animation",
          "Toei Animation",
          "Toei Animation",
          "Toei Animation",
          "Toei Animation",
          "Toei Animation",
          "Toei Animation",
          "Toei Animation",
          "Toei Animation",
          "Toei Animation",
          "Toei Animation",
          "Toei Animation",
          "Toei Animation",
          "Toei Animation",
          "Toei Animation",
          "Toei Animation",
          "Toei Animation",
          "Toei Animation",
          "Toei Animation",
          "Toei Animation",
          "Toei Animation",
          "Toei Animation",
          "Toei Animation",
          "Toei Animation",
          "Toei Animation",
          "Toei Animation",
          "Toei Animation",
          "Toei Animation",
          "Toei Animation",
          "Toei Animation",
          "Toei Animation",
          "Toei Animation",
          "Toei Animation",
          "Toei Animation",
          "Toei Animation",
          "Toei Animation",
          "Toei Animation",
          "Toei Animation",
          "Toei Animation",
          "Toei Animation",
          "Toei Animation",
          "Toei Animation",
          "Toei Animation",
          "Toei Animation",
          "Toei Animation",
          "Toei Animation",
          "Toei Animation",
          "Toei Animation",
          "Toei Animation",
          "Toei Animation",
          "Toei Animation",
          "Toei Animation",
          "Toei Animation",
          "Toei Animation",
          "Toei Animation",
          "Toei Animation",
          "Toei Animation",
          "Toei Animation",
          "Toei Animation",
          "Toei Animation",
          "Toei Animation",
          "Toei Animation",
          "Toei Animation",
          "Toei Animation",
          "Toei Animation",
          "Toei Animation",
          "Toei Animation",
          "Toei Animation",
          "Toei Animation",
          "Toei Animation",
          "Toei Animation",
          "Toei Animation",
          "Toei Animation",
          "Toei Animation",
          "Toei Animation",
          "Toei Animation",
          "Toei Animation",
          "Toei Animation",
          "Toei Animation",
          "Toei Animation",
          "Toei Animation",
          "Toei Animation",
          "Toei Animation",
          "Toei Animation",
          "Toei Animation",
          "Toei Animation",
          "Toei Animation",
          "Toei Animation",
          "Toei Animation",
          "Toei Animation",
          "Toei Animation",
          "Toei Animation",
          "Toei Animation",
          "Toei Animation",
          "Toei Animation",
          "Toei Animation",
          "Toei Animation",
          "Toei Animation",
          "Toei Animation",
          "Toei Animation",
          "Toei Animation",
          "Toei Animation",
          "Toei Animation",
          "Toei Animation",
          "Toei Animation",
          "Toei Animation",
          "Toei Animation",
          "Toei Animation",
          "Toei Animation",
          "Toei Animation",
          "Toei Animation",
          "Toei Animation",
          "Toei Animation",
          "Toei Animation",
          "Toei Animation"
         ],
         "x0": " ",
         "xaxis": "x",
         "y": [
          6,
          44,
          102,
          130,
          250,
          70,
          231,
          6,
          3,
          87,
          112,
          2,
          19,
          509,
          88,
          93,
          7,
          59,
          411,
          3,
          15,
          27,
          11,
          47,
          6,
          7,
          97,
          21,
          6,
          70,
          108,
          12,
          1,
          4,
          3,
          106,
          25,
          41,
          3,
          2,
          17,
          4,
          1,
          3,
          0,
          1,
          1,
          1,
          1,
          20,
          60,
          1,
          2,
          42,
          4,
          2,
          0,
          0,
          4,
          4,
          5,
          0,
          3,
          3,
          3,
          0,
          1,
          9,
          0,
          1,
          4,
          1,
          3,
          4,
          1,
          159,
          8,
          0,
          1,
          11,
          4,
          10,
          8,
          2,
          1,
          3,
          1,
          1,
          0,
          0,
          1,
          1,
          2,
          3,
          3,
          0,
          2,
          0,
          0,
          1,
          2,
          4,
          3,
          5,
          2,
          1,
          1,
          1,
          1,
          0,
          0,
          2,
          1,
          1,
          5,
          2,
          1,
          0,
          0,
          0,
          5,
          46,
          35,
          3,
          12,
          0,
          68,
          4,
          1,
          124,
          14,
          3,
          1,
          2,
          5,
          1,
          1,
          1,
          0,
          57,
          22,
          0,
          4,
          0,
          0,
          0,
          10,
          18,
          9,
          1,
          2,
          1,
          8,
          1,
          0,
          0,
          0,
          1,
          21,
          0,
          0,
          0,
          5,
          0,
          5,
          1,
          0,
          1,
          1,
          0,
          0,
          0,
          1,
          0,
          1,
          1,
          0,
          0,
          0,
          0,
          0,
          0,
          0,
          1,
          1,
          2,
          0,
          3,
          306,
          3,
          3,
          0,
          0,
          1,
          0,
          26,
          1,
          348,
          4,
          133,
          1,
          23,
          0,
          3,
          0,
          1,
          3,
          52,
          0,
          17,
          0,
          2,
          166,
          35,
          15,
          0,
          5,
          2,
          10,
          5,
          1,
          0,
          5,
          2,
          2,
          8,
          11,
          0,
          1,
          14,
          8,
          138,
          118,
          50,
          1,
          1,
          1,
          168,
          4,
          87,
          2,
          1125,
          814,
          1404,
          15,
          31,
          1,
          2,
          34,
          4,
          164,
          5184,
          86,
          79,
          45,
          2,
          746,
          33,
          30,
          9968,
          521,
          36163,
          22,
          74,
          170,
          18,
          5,
          14,
          1,
          3,
          820,
          439,
          3,
          309,
          15,
          20,
          17,
          28,
          0,
          2224,
          130,
          2,
          4,
          2,
          1,
          496,
          232,
          20,
          83,
          2,
          3,
          9791,
          1,
          16,
          15,
          21,
          129,
          1,
          0,
          198986,
          380,
          450,
          317,
          34,
          19,
          17,
          48,
          24,
          0,
          1,
          3882,
          130,
          17,
          6,
          175,
          5,
          1,
          25,
          42,
          3,
          6,
          17,
          6,
          7,
          18,
          3,
          67,
          1,
          4,
          1,
          2,
          126,
          3,
          1,
          89,
          1,
          31,
          107,
          92,
          3566,
          74,
          2,
          0,
          1,
          32,
          3,
          78,
          4,
          4,
          262,
          1,
          271,
          1,
          37,
          9912,
          1191,
          1054,
          14,
          6,
          4,
          426,
          9,
          12,
          41,
          41,
          12,
          4,
          105,
          113,
          747,
          31,
          369,
          250,
          91,
          315,
          563,
          161,
          1,
          312,
          1826,
          6,
          11,
          42,
          106,
          30,
          150,
          4,
          46,
          0,
          14998,
          1940,
          66,
          3178,
          36,
          36,
          21,
          2838,
          42,
          29,
          48,
          25,
          30,
          50,
          42,
          143,
          90,
          254,
          129,
          162,
          3,
          110,
          5,
          560,
          1,
          0,
          19,
          325,
          1,
          42,
          20,
          21,
          3,
          0,
          2,
          5,
          6,
          21,
          7,
          13,
          148,
          4,
          4,
          1,
          7,
          0,
          769,
          61,
          0,
          594,
          27,
          10,
          86,
          120,
          2,
          48,
          3,
          18,
          929,
          4,
          3,
          0,
          0,
          48,
          220,
          0,
          2,
          8,
          60,
          3,
          5,
          47,
          1,
          1210,
          11,
          1246,
          83,
          32,
          1943,
          5,
          0,
          2,
          1,
          30,
          25,
          10,
          3,
          1,
          13,
          0,
          10,
          0,
          586,
          21,
          5,
          7775,
          77,
          1,
          15,
          639,
          5,
          49,
          1529,
          601,
          32,
          35,
          372,
          21,
          30,
          646,
          31,
          76,
          83,
          23,
          25,
          1,
          107,
          19,
          3,
          3,
          18,
          14,
          21,
          41,
          358,
          154,
          29,
          5,
          0,
          0,
          21,
          1,
          20,
          2,
          1,
          37,
          1,
          5,
          6879,
          20,
          375,
          64,
          2,
          218,
          5,
          13,
          19,
          7,
          71,
          19,
          9,
          11,
          829,
          5,
          124,
          316,
          3,
          1,
          4,
          0,
          2,
          4,
          7,
          2693,
          761,
          1043,
          8,
          5,
          100,
          41,
          14,
          1146
         ],
         "y0": " ",
         "yaxis": "y"
        },
        {
         "alignmentgroup": "True",
         "customdata": [
          [
           "Tokyo Underground"
          ],
          [
           "Chiisana Obake: Acchi, Kocchi, Socchi"
          ],
          [
           "Fushigi Yuugi: Dai Ni Bu"
          ],
          [
           "Gensoumaden Saiyuuki Movie: Requiem - Erabarezaru Mono e no Chinkonka"
          ],
          [
           "Kogepan"
          ],
          [
           "Tenshi ni Narumon!"
          ],
          [
           "Hikaru no Go: Hokuto Hai e no Michi"
          ],
          [
           "Bleach: Memories in the Rain"
          ],
          [
           "Kyou kara Ore wa!!"
          ],
          [
           "Yuu☆Yuu☆Hakusho: Meikai Shitou-hen - Honoo no Kizuna"
          ],
          [
           "Ninkuu"
          ],
          [
           "Bleach Movie 1: Memories of Nobody"
          ],
          [
           "Koko wa Green Wood"
          ],
          [
           "Clamp Gakuen Tanteidan"
          ],
          [
           "Urusei Yatsura Movie 1: Only You"
          ],
          [
           "Mahou no Star Magical Emi"
          ],
          [
           "Mahou no Yousei Persia"
          ],
          [
           "Mahou no Tenshi Creamy Mami: Long Goodbye"
          ],
          [
           "Yuu☆Yuu☆Hakusho: Eizou Hakusho II"
          ],
          [
           "Tokimeki Memorial: Forever With You"
          ],
          [
           "Hikaru no Go: New Year Special"
          ],
          [
           "Barbapapa Sekai wo Mawaru"
          ],
          [
           "Ninkuu (Movie)"
          ],
          [
           "Ganbare! Kickers"
          ],
          [
           "Chiisana Kyojin Microman"
          ],
          [
           "Harbor Light Monogatari: Fashion Lala yori"
          ],
          [
           "Midori no Makibao"
          ],
          [
           "Blue Dragon: Tenkai no Shichi Ryuu"
          ],
          [
           "Gensoumaden Saiyuuki: Kibou no Zaika"
          ],
          [
           "Dokkiri Doctor"
          ],
          [
           "Yoiko"
          ],
          [
           "Gosenzo-sama Banbanzai!"
          ],
          [
           "Bleach Movie 3: Fade to Black - Kimi no Na wo Yobu"
          ],
          [
           "Adesugata Mahou no Sannin Musume"
          ],
          [
           "Eien no Filena"
          ],
          [
           "Moeru! Oniisan"
          ],
          [
           "Anmitsu Hime"
          ],
          [
           "Naruto: Shippuuden Movie 3 - Hi no Ishi wo Tsugu Mono"
          ],
          [
           "Yuu☆Yuu☆Hakusho Picture Drama"
          ],
          [
           "Karakuri Kengou Den Musashi Lord"
          ],
          [
           "Tamala 2010: A Punk Cat in Space OVA"
          ],
          [
           "Guru Guru Town Hanamaru-kun"
          ],
          [
           "Naruto: Shippuuden Movie 4 - The Lost Tower"
          ],
          [
           "Mahou no Star Magical Emi: Semishigure"
          ],
          [
           "Toilet no Hanako-san"
          ],
          [
           "Hajime Ningen Gon"
          ],
          [
           "Mahou no Princess Minky Momo vs. Mahou no Tenshi Creamy Mami"
          ],
          [
           "Edokko Boy: Gatten Tasuke"
          ],
          [
           "Ruri-iro Princess"
          ],
          [
           "Osomatsu-kun (1988)"
          ],
          [
           "Naruto x UT"
          ],
          [
           "Dallos Special"
          ],
          [
           "Kinniku Banzuke: Kongou-kun no Daibouken!"
          ],
          [
           "Rerere no Tensai Bakabon"
          ],
          [
           "Naruto Soyokazeden Movie: Naruto to Mashin to Mitsu no Onegai Dattebayo!!"
          ],
          [
           "Moeru! Oniisan (OVA)"
          ],
          [
           "Dokkiri Doctor Special"
          ],
          [
           "Kimagure Orange☆Road: Tanabata Special"
          ],
          [
           "Magical Hat"
          ],
          [
           "Shakotan★Boogie"
          ],
          [
           "Norakuro-kun"
          ],
          [
           "Kingdom 2nd Season"
          ],
          [
           "Non-tan to Issho"
          ],
          [
           "Oh! Super Milk-chan Special"
          ],
          [
           "Ore wa Chokkaku"
          ],
          [
           "Gaist Crusher"
          ],
          [
           "Marude Dameo"
          ],
          [
           "Heisei Tensai Bakabon"
          ],
          [
           "Mahou no Yousei Persia Pilot"
          ],
          [
           "Moonrakers"
          ],
          [
           "Chiisana Kyojin Microman: Daigekisen! Microman vs. Saikyou Senshi Gorgon"
          ],
          [
           "Baby Steps 2nd Season"
          ],
          [
           "Tokyo Ghoul √A"
          ],
          [
           "Mahou no Tenshi Creamy Mami: Perfect Memory"
          ],
          [
           "Boruto: Naruto the Movie - Naruto ga Hokage ni Natta Hi"
          ],
          [
           "Ganbare! Kickers: Bokutachi no Densetsu"
          ],
          [
           "Soul Buster"
          ],
          [
           "Osomatsu-san 2nd Season"
          ],
          [
           "Boruto: Jump Festa 2016 Special"
          ],
          [
           "Tokyo Girls Collection 2016 A/W x Osomatsu-san Special Movie"
          ],
          [
           "dMatsu-san"
          ],
          [
           "Tokyo Ghoul:re 2nd Season"
          ],
          [
           "Black Clover: Jump Festa 2018 Special"
          ],
          [
           "Hikaru no Go: Memories"
          ],
          [
           "Osomatsu-san 3rd Season"
          ],
          [
           "Road of Naruto"
          ],
          [
           "Akai Hayate"
          ],
          [
           "Akatsuki no Yona OVA"
          ],
          [
           "Baoh Raihousha"
          ],
          [
           "Bari Bari Densetsu"
          ],
          [
           "Black Clover: Mahou Tei no Ken"
          ],
          [
           "Bleach: The Sealed Sword Frenzy"
          ],
          [
           "Blue Dragon"
          ],
          [
           "Boruto: Naruto Next Generations"
          ],
          [
           "Boruto: Naruto the Movie"
          ],
          [
           "Cool Doji Danshi"
          ],
          [
           "E's Otherwise"
          ],
          [
           "Eikoku Koi Monogatari Emma"
          ],
          [
           "Fire Tripper"
          ],
          [
           "Fushigi Yuugi OVA"
          ],
          [
           "Gakkou no Kaidan"
          ],
          [
           "Great Teacher Onizuka"
          ],
          [
           "Hikaru no Go"
          ],
          [
           "Hunter x Hunter Pilot"
          ],
          [
           "Hyper Police"
          ],
          [
           "Kimagure Orange☆Road: Ano Hi ni Kaeritai"
          ],
          [
           "Lily C.A.T."
          ],
          [
           "Mahou no Tenshi Creamy Mami"
          ],
          [
           "Neo Ranga"
          ],
          [
           "Nils no Fushigi na Tabi"
          ],
          [
           "Nils no Fushigi na Tabi (Movie)"
          ],
          [
           "Oh! Super Milk-chan"
          ],
          [
           "Sei Juushi Bismarck"
          ],
          [
           "Soredemo Sekai wa Utsukushii"
          ],
          [
           "Sousei no Onmyouji"
          ],
          [
           "Tokyo Ghoul: \"Jack\""
          ],
          [
           "Tokyo Mew Mew"
          ],
          [
           "Tottemo! Luckyman"
          ],
          [
           "Abashiri Ikka"
          ],
          [
           "Akachan to Boku"
          ],
          [
           "Akatsuki no Yona"
          ],
          [
           "Akudama Drive"
          ],
          [
           "Area 88"
          ],
          [
           "Area 88 Movie"
          ],
          [
           "Ayashi no Ceres"
          ],
          [
           "Baby Steps"
          ],
          [
           "Bari Bari Densetsu (1987)"
          ],
          [
           "Black Clover"
          ],
          [
           "Bleach"
          ],
          [
           "Bleach Movie 4: Jigoku-hen"
          ],
          [
           "Bleach: Sennen Kessen-hen"
          ],
          [
           "Boku no Marie"
          ],
          [
           "Cosmo Police Justy"
          ],
          [
           "Dallos"
          ],
          [
           "Divine Gate"
          ],
          [
           "Fushigi Yuugi"
          ],
          [
           "Gensoumaden Saiyuuki"
          ],
          [
           "Hanasakeru Seishounen"
          ],
          [
           "Hanasakeru Seishounen Recaps"
          ],
          [
           "Hero Mask"
          ],
          [
           "Hero Mask 2nd Season"
          ],
          [
           "Juuni Kokuki"
          ],
          [
           "Key the Metal Idol"
          ],
          [
           "Kimagure Orange☆Road"
          ],
          [
           "Kimagure Orange☆Road OVA"
          ],
          [
           "Kingdom"
          ],
          [
           "Konbini Kareshi"
          ],
          [
           "Kumo no You ni Kaze no You ni"
          ],
          [
           "Mahou no Idol Pastel Yumi"
          ],
          [
           "Mahou no Stage Fancy Lala"
          ],
          [
           "Maicching Machiko-sensei"
          ],
          [
           "Maroko"
          ],
          [
           "Midori no Hibi"
          ],
          [
           "Naruto"
          ],
          [
           "Naruto Movie 2: Dai Gekitotsu! Maboroshi no Chiteiiseki Dattebayo!"
          ],
          [
           "Naruto Movie 3: Dai Koufun! Mikazuki Jima no Animaru Panikku Dattebayo!"
          ],
          [
           "Naruto Narutimate Hero 3: Tsuini Gekitotsu! Jounin vs. Genin!! Musabetsu Dairansen Taikai Kaisai!!"
          ],
          [
           "Naruto SD: Rock Lee no Seishun Full-Power Ninden"
          ],
          [
           "Naruto: Dai Katsugeki!! Yuki Hime Shinobu Houjou Dattebayo! - Konoha no Sato no Dai Undoukai"
          ],
          [
           "Naruto: Shippuuden"
          ],
          [
           "Naruto: Shippuuden Movie 6 - Road to Ninja"
          ],
          [
           "Naruto: Takigakure no Shitou - Ore ga Eiyuu Dattebayo!"
          ],
          [
           "Naruto: The Cross Roads"
          ],
          [
           "Ninja Senshi Tobikage"
          ],
          [
           "Onigamiden"
          ],
          [
           "Osomatsu-san"
          ],
          [
           "Osomatsu-san Movie"
          ],
          [
           "Osomatsu-san Special"
          ],
          [
           "Power Stone"
          ],
          [
           "Puzzle & Dragons Cross"
          ],
          [
           "Rekka no Honoo"
          ],
          [
           "Rekka no Honoo: Final Burning"
          ],
          [
           "Saiyuuki Reload"
          ],
          [
           "Salamander"
          ],
          [
           "Sanrio Danshi"
          ],
          [
           "Shirokuma Cafe"
          ],
          [
           "Sonic★the★Hedgehog"
          ],
          [
           "Spoon Oba-san"
          ],
          [
           "Sugar Sugar Rune"
          ],
          [
           "Super GALS! Kotobuki Ran"
          ],
          [
           "Tantei Gakuen Q"
          ],
          [
           "The Last: Naruto the Movie"
          ],
          [
           "The Supergal"
          ],
          [
           "Tokyo Ghoul"
          ],
          [
           "Tokyo Ghoul: \"Pinto\""
          ],
          [
           "Tsukiuta. The Animation"
          ],
          [
           "Urusei Yatsura 2: Beautiful Dreamer"
          ],
          [
           "Warau Hyouteki"
          ],
          [
           "Yakumotatsu"
          ],
          [
           "Yuu☆Yuu☆Hakusho"
          ],
          [
           "Yuu☆Yuu☆Hakusho (Movie)"
          ],
          [
           "ēlDLIVE"
          ]
         ],
         "hovertemplate": "<b>Name:</b> %{customdata[0]}<br><b>Favorites:</b> %{y}",
         "legendgroup": "Pierrot",
         "marker": {
          "color": "#EF553B"
         },
         "name": "Pierrot",
         "notched": false,
         "offsetgroup": "Pierrot",
         "orientation": "v",
         "showlegend": true,
         "type": "box",
         "x": [
          "Pierrot",
          "Pierrot",
          "Pierrot",
          "Pierrot",
          "Pierrot",
          "Pierrot",
          "Pierrot",
          "Pierrot",
          "Pierrot",
          "Pierrot",
          "Pierrot",
          "Pierrot",
          "Pierrot",
          "Pierrot",
          "Pierrot",
          "Pierrot",
          "Pierrot",
          "Pierrot",
          "Pierrot",
          "Pierrot",
          "Pierrot",
          "Pierrot",
          "Pierrot",
          "Pierrot",
          "Pierrot",
          "Pierrot",
          "Pierrot",
          "Pierrot",
          "Pierrot",
          "Pierrot",
          "Pierrot",
          "Pierrot",
          "Pierrot",
          "Pierrot",
          "Pierrot",
          "Pierrot",
          "Pierrot",
          "Pierrot",
          "Pierrot",
          "Pierrot",
          "Pierrot",
          "Pierrot",
          "Pierrot",
          "Pierrot",
          "Pierrot",
          "Pierrot",
          "Pierrot",
          "Pierrot",
          "Pierrot",
          "Pierrot",
          "Pierrot",
          "Pierrot",
          "Pierrot",
          "Pierrot",
          "Pierrot",
          "Pierrot",
          "Pierrot",
          "Pierrot",
          "Pierrot",
          "Pierrot",
          "Pierrot",
          "Pierrot",
          "Pierrot",
          "Pierrot",
          "Pierrot",
          "Pierrot",
          "Pierrot",
          "Pierrot",
          "Pierrot",
          "Pierrot",
          "Pierrot",
          "Pierrot",
          "Pierrot",
          "Pierrot",
          "Pierrot",
          "Pierrot",
          "Pierrot",
          "Pierrot",
          "Pierrot",
          "Pierrot",
          "Pierrot",
          "Pierrot",
          "Pierrot",
          "Pierrot",
          "Pierrot",
          "Pierrot",
          "Pierrot",
          "Pierrot",
          "Pierrot",
          "Pierrot",
          "Pierrot",
          "Pierrot",
          "Pierrot",
          "Pierrot",
          "Pierrot",
          "Pierrot",
          "Pierrot",
          "Pierrot",
          "Pierrot",
          "Pierrot",
          "Pierrot",
          "Pierrot",
          "Pierrot",
          "Pierrot",
          "Pierrot",
          "Pierrot",
          "Pierrot",
          "Pierrot",
          "Pierrot",
          "Pierrot",
          "Pierrot",
          "Pierrot",
          "Pierrot",
          "Pierrot",
          "Pierrot",
          "Pierrot",
          "Pierrot",
          "Pierrot",
          "Pierrot",
          "Pierrot",
          "Pierrot",
          "Pierrot",
          "Pierrot",
          "Pierrot",
          "Pierrot",
          "Pierrot",
          "Pierrot",
          "Pierrot",
          "Pierrot",
          "Pierrot",
          "Pierrot",
          "Pierrot",
          "Pierrot",
          "Pierrot",
          "Pierrot",
          "Pierrot",
          "Pierrot",
          "Pierrot",
          "Pierrot",
          "Pierrot",
          "Pierrot",
          "Pierrot",
          "Pierrot",
          "Pierrot",
          "Pierrot",
          "Pierrot",
          "Pierrot",
          "Pierrot",
          "Pierrot",
          "Pierrot",
          "Pierrot",
          "Pierrot",
          "Pierrot",
          "Pierrot",
          "Pierrot",
          "Pierrot",
          "Pierrot",
          "Pierrot",
          "Pierrot",
          "Pierrot",
          "Pierrot",
          "Pierrot",
          "Pierrot",
          "Pierrot",
          "Pierrot",
          "Pierrot",
          "Pierrot",
          "Pierrot",
          "Pierrot",
          "Pierrot",
          "Pierrot",
          "Pierrot",
          "Pierrot",
          "Pierrot",
          "Pierrot",
          "Pierrot",
          "Pierrot",
          "Pierrot",
          "Pierrot",
          "Pierrot",
          "Pierrot",
          "Pierrot",
          "Pierrot",
          "Pierrot",
          "Pierrot",
          "Pierrot",
          "Pierrot",
          "Pierrot",
          "Pierrot",
          "Pierrot",
          "Pierrot",
          "Pierrot"
         ],
         "x0": " ",
         "xaxis": "x",
         "y": [
          43,
          1,
          41,
          19,
          34,
          55,
          35,
          234,
          403,
          33,
          25,
          606,
          32,
          27,
          9,
          19,
          19,
          0,
          14,
          0,
          3,
          3,
          1,
          34,
          3,
          1,
          17,
          17,
          7,
          4,
          2,
          113,
          500,
          1,
          0,
          15,
          13,
          121,
          11,
          0,
          2,
          1,
          217,
          1,
          5,
          1,
          0,
          1,
          1,
          27,
          84,
          0,
          0,
          1,
          36,
          0,
          2,
          3,
          1,
          18,
          1,
          826,
          0,
          2,
          0,
          5,
          1,
          3,
          0,
          2,
          0,
          310,
          10324,
          0,
          151,
          0,
          14,
          230,
          13,
          0,
          3,
          2698,
          34,
          1,
          100,
          104,
          1,
          362,
          41,
          2,
          2342,
          153,
          107,
          7080,
          923,
          801,
          24,
          319,
          6,
          51,
          1867,
          25287,
          2341,
          56,
          46,
          51,
          10,
          158,
          26,
          26,
          1,
          35,
          36,
          1939,
          2909,
          408,
          1523,
          30,
          7,
          147,
          15560,
          3508,
          232,
          2,
          482,
          841,
          10,
          43659,
          68896,
          435,
          17999,
          11,
          4,
          9,
          213,
          2043,
          776,
          585,
          3,
          35,
          16,
          2403,
          121,
          596,
          16,
          1663,
          133,
          14,
          4,
          55,
          10,
          2,
          633,
          76343,
          166,
          162,
          104,
          298,
          67,
          107735,
          573,
          138,
          33,
          19,
          20,
          3507,
          82,
          5,
          23,
          19,
          251,
          6,
          112,
          1,
          255,
          927,
          200,
          4,
          438,
          196,
          254,
          2109,
          5,
          49098,
          375,
          192,
          245,
          4,
          5,
          21733,
          71,
          47
         ],
         "y0": " ",
         "yaxis": "y"
        },
        {
         "alignmentgroup": "True",
         "customdata": [
          [
           "Bakuten Shoot Beyblade"
          ],
          [
           "Cardcaptor Sakura Movie 1"
          ],
          [
           "Final Fantasy VII: Last Order"
          ],
          [
           "Galaxy Angel Z"
          ],
          [
           "Galaxy Angel 3"
          ],
          [
           "Tenjou Tenge: The Past Chapter"
          ],
          [
           "Ichigo 100% OVA"
          ],
          [
           "Zetsuai 1989"
          ],
          [
           "DNA² OVA"
          ],
          [
           "Bomberman B-Daman Bakugaiden"
          ],
          [
           "Bomberman B-Daman Bakugaiden Victory"
          ],
          [
           "Tokyo Tribe 2"
          ],
          [
           "Piyoko ni Omakase pyo!"
          ],
          [
           "Di Gi Charat: Hoshi no Tabi"
          ],
          [
           "Di Gi Charat: Kuchi Kara Bazooka"
          ],
          [
           "Di Gi Charat Summer Special 2000"
          ],
          [
           "Di Gi Charat Ohanami Special"
          ],
          [
           "Di Gi Charat Christmas Special"
          ],
          [
           "Di Gi Charat Tsuyu Specials"
          ],
          [
           "Taiyou no Mokushiroku: A Spirit of the Sun"
          ],
          [
           "Azuki-chan"
          ],
          [
           "Saiunkoku Monogatari 2nd Season"
          ],
          [
           "Urusei Yatsura Movie 6: Itsudatte My Darling"
          ],
          [
           "Vampire Hunter"
          ],
          [
           "Hanada Shounen-shi"
          ],
          [
           "Oh! Edo Rocket"
          ],
          [
           "Highlander: The Search for Vengeance"
          ],
          [
           "Suteki desu wa, Sakura-chan! Tomoyo no Cardcaptor Sakura Katsuyaku Video Nikki!"
          ],
          [
           "Hidamari no Ki"
          ],
          [
           "MapleStory"
          ],
          [
           "Sweet Valerian"
          ],
          [
           "Super Doll Licca-chan"
          ],
          [
           "Galactic Patrol Lensman"
          ],
          [
           "Hi no Tori: Yamato-hen"
          ],
          [
           "Toki no Tabibito: Time Stranger"
          ],
          [
           "Kamen no Maid Guy"
          ],
          [
           "Mouryou no Hako"
          ],
          [
           "Alexander Senki Movie"
          ],
          [
           "Souten Kouro"
          ],
          [
           "Chi's Sweet Home: Atarashii Ouchi"
          ],
          [
           "Azuki-chan the Movie"
          ],
          [
           "Mouryou no Hako: Chuuzenji Atsuko no Jikenbo - Hako no Yurei no Koto"
          ],
          [
           "Wolverine"
          ],
          [
           "Blade"
          ],
          [
           "Ningen Shikkaku: Director's Cut-ban"
          ],
          [
           "Tsuruhime Ja!"
          ],
          [
           "Kaze wo Nuke!"
          ],
          [
           "Super Doll Licca-chan: Licca-chan Zettai Zetsumei! Doll Knights no Kiseki"
          ],
          [
           "Tibet Inu Monogatari"
          ],
          [
           "Redline Pilot"
          ],
          [
           "Hajime no Ippo: Boxer no Kobushi"
          ],
          [
           "Galaxy Angel S"
          ],
          [
           "Oedo wa Nemurenai!"
          ],
          [
           "Btooom!"
          ],
          [
           "Chihayafuru 2"
          ],
          [
           "Avengers Confidential: Black Widow to Punisher"
          ],
          [
           "MapleStory Special"
          ],
          [
           "Marvel Future Avengers"
          ],
          [
           "Cardcaptor Sakura: Clear Card-hen Prologue - Sakura to Futatsu no Kuma"
          ],
          [
           "ACCA: 13-ku Kansatsu-ka Specials"
          ],
          [
           "Marvel Future Avengers 2nd Season"
          ],
          [
           "Chuukan Kanriroku Tonegawa"
          ],
          [
           "Chihayafuru 3"
          ],
          [
           "Diamond no Ace: Act II"
          ],
          [
           "Chihayafuru 3: Ima Hitotabi no"
          ],
          [
           "Overlord IV"
          ],
          [
           "Sakura Taisen Special"
          ],
          [
           "Juubee Ninpuuchou Burst"
          ],
          [
           "A-Girl"
          ],
          [
           "ACCA: 13-ku Kansatsu-ka"
          ],
          [
           "AI no Idenshi"
          ],
          [
           "Black Lagoon: The Second Barrage"
          ],
          [
           "Boogiepop wa Warawanai"
          ],
          [
           "ChäoS;HEAd"
          ],
          [
           "Clover"
          ],
          [
           "Dennou Coil"
          ],
          [
           "Final Fantasy"
          ],
          [
           "Galaxy Angel"
          ],
          [
           "Goodbye, Don Glees!"
          ],
          [
           "Gyakkyou Burai Kaiji: Hakairoku-hen"
          ],
          [
           "Hadashi no Gen"
          ],
          [
           "Hajime no Ippo"
          ],
          [
           "Hanayamata"
          ],
          [
           "Hi no Tori: Houou-hen"
          ],
          [
           "Highschool of the Dead: Drifters of the Dead"
          ],
          [
           "Hitsuji no Uta"
          ],
          [
           "Honoo no Mirage: Minagiwa no Hangyakusha"
          ],
          [
           "Ichigo 100%"
          ],
          [
           "Ichigo 100% Special 2"
          ],
          [
           "Junk Boy"
          ],
          [
           "Kamui no Ken"
          ],
          [
           "Kaze no Na wa Amnesia"
          ],
          [
           "Kazemakase Tsukikage Ran"
          ],
          [
           "Kimi no Koe wo Todoketai"
          ],
          [
           "Kyuuketsuki Sugu Shinu"
          ],
          [
           "Mahouka Koukou no Rettousei"
          ],
          [
           "Mamono Hunter Youko"
          ],
          [
           "Master Keaton"
          ],
          [
           "Master Keaton OVA"
          ],
          [
           "Mousou Dairinin"
          ],
          [
           "Mushikaburi-hime"
          ],
          [
           "Nasu: Suitcase no Wataridori"
          ],
          [
           "Nejimaki Seirei Senki: Tenkyou no Alderamin"
          ],
          [
           "Nineteen 19"
          ],
          [
           "No Game No Life Specials"
          ],
          [
           "No Guns Life 2nd Season"
          ],
          [
           "Oda Nobuna no Yabou Recap"
          ],
          [
           "One Outs"
          ],
          [
           "One Punch Man Specials"
          ],
          [
           "Overlord"
          ],
          [
           "Panyo Panyo Di Gi Charat"
          ],
          [
           "Paprika"
          ],
          [
           "Paradise Kiss"
          ],
          [
           "Pita Ten"
          ],
          [
           "Prince of Stride: Alternative"
          ],
          [
           "Rainbow: Nisha Rokubou no Shichinin"
          ],
          [
           "RideBack"
          ],
          [
           "SF Shinseiki Lensman"
          ],
          [
           "Sora yori mo Tooi Basho"
          ],
          [
           "Space Pirate Captain Herlock: Outside Legend - The Endless Odyssey"
          ],
          [
           "Strawberry Panic"
          ],
          [
           "Summer Wars"
          ],
          [
           "Texhnolyze"
          ],
          [
           "Touhai Densetsu Akagi: Yami ni Maiorita Tensai"
          ],
          [
           "Trava: Fist Planet"
          ],
          [
           "Trigun: Badlands Rumble"
          ],
          [
           "Yawara!"
          ],
          [
           "Yojouhan Shinwa Taikei Specials"
          ],
          [
           "Youjuu Toshi"
          ],
          [
           "Yousei Ou"
          ],
          [
           "Yuugen Kaisha"
          ],
          [
           "Afro Samurai Pilot"
          ],
          [
           "Alexander Senki"
          ],
          [
           "Allison to Lillia"
          ],
          [
           "Anime Koukyoushi: Jungle Taitei"
          ],
          [
           "Anne no Nikki"
          ],
          [
           "Aoi Bungaku Series"
          ],
          [
           "Aquarian Age: Saga II - Don't Forget Me..."
          ],
          [
           "Aquarian Age: Sign for Evolution"
          ],
          [
           "Arata naru Sekai: World's/Start/Load/End"
          ],
          [
           "Beck"
          ],
          [
           "Bio Hunter"
          ],
          [
           "Black Lagoon"
          ],
          [
           "Black Lagoon: Roberta's Blood Trail"
          ],
          [
           "Bobby ni Kubittake"
          ],
          [
           "Boogiepop wa Warawanai (2019)"
          ],
          [
           "Cardcaptor Sakura"
          ],
          [
           "Cardcaptor Sakura: Clear Card-hen"
          ],
          [
           "Chance Triangle Session"
          ],
          [
           "Chi's Sweet Home"
          ],
          [
           "Chihayafuru"
          ],
          [
           "Chobits"
          ],
          [
           "Chobits Recap"
          ],
          [
           "Cinnamon the Movie"
          ],
          [
           "Claymore"
          ],
          [
           "Cyber City Oedo 808"
          ],
          [
           "DNA Sights 999.9"
          ],
          [
           "Death Billiards"
          ],
          [
           "Death Note"
          ],
          [
           "Death Parade"
          ],
          [
           "Deimos no Hanayome: Ran no Kumikyoku"
          ],
          [
           "Devil May Cry"
          ],
          [
           "Di Gi Charat"
          ],
          [
           "Di Gi Charat Nyo"
          ],
          [
           "Down Load: Namu Amida Butsu wa Ai no Uta"
          ],
          [
           "Dragon Drive"
          ],
          [
           "Eguchi Hisashi no Nantoka Narudesho!"
          ],
          [
           "Gakuen Senki Muryou"
          ],
          [
           "Galaxy Angel Specials"
          ],
          [
           "Genma Taisen"
          ],
          [
           "Gungrave"
          ],
          [
           "Gunnm"
          ],
          [
           "Gunslinger Girl"
          ],
          [
           "Gyakkyou Burai Kaiji: Ultimate Survivor"
          ],
          [
           "Hadashi no Gen 2"
          ],
          [
           "Hajime no Ippo: Champion Road"
          ],
          [
           "Hajime no Ippo: Mashiba vs. Kimura"
          ],
          [
           "Hajime no Ippo: New Challenger"
          ],
          [
           "Hakozume: Kouban Joshi no Gyakushuu"
          ],
          [
           "Hells"
          ],
          [
           "Hi no Tori: Uchuu-hen"
          ],
          [
           "Highschool of the Dead"
          ],
          [
           "Honoo no Mirage"
          ],
          [
           "Hunter x Hunter (2011)"
          ],
          [
           "Hunter x Hunter Movie 1: Phantom Rouge"
          ],
          [
           "Hunter x Hunter Movie 2: The Last Mission"
          ],
          [
           "Iron Man"
          ],
          [
           "Iron Man: Rise of Technovore"
          ],
          [
           "Juubee Ninpuuchou"
          ],
          [
           "Juubee Ninpuuchou: Ryuuhougyoku-hen"
          ],
          [
           "Juubee-chan 2: Siberia Yagyuu no Gyakushuu"
          ],
          [
           "Kaiba"
          ],
          [
           "Kaibutsu Oujo"
          ],
          [
           "Kamisama no Inai Nichiyoubi"
          ],
          [
           "Kaze no Matasaburou"
          ],
          [
           "Kemonozume"
          ],
          [
           "Kiba"
          ],
          [
           "Kin no Kuni Mizu no Kuni"
          ],
          [
           "Kiseijuu: Sei no Kakuritsu"
          ],
          [
           "Kobato."
          ],
          [
           "Kurozuka"
          ],
          [
           "Lodoss-tou Senki"
          ],
          [
           "Mahou Sensou"
          ],
          [
           "Mai Mai Shinko to Sennen no Mahou"
          ],
          [
           "Majin Tantei Nougami Neuro"
          ],
          [
           "Makai Toshi Shinjuku"
          ],
          [
           "Manie-Manie: Meikyuu Monogatari"
          ],
          [
           "Metropolis"
          ],
          [
           "Monster"
          ],
          [
           "Nana"
          ],
          [
           "Nasu: Andalusia no Natsu"
          ],
          [
           "Natsuki Crisis"
          ],
          [
           "Needless"
          ],
          [
           "Nezumi Monogatari: George to Gerald no Bouken"
          ],
          [
           "Ningyo no Kizu"
          ],
          [
           "No Game No Life"
          ],
          [
           "No Game No Life: Zero"
          ],
          [
           "No Guns Life"
          ],
          [
           "Ohoshi-sama no Rail"
          ],
          [
           "Okusama wa Joshikousei (TV)"
          ],
          [
           "One Punch Man"
          ],
          [
           "Ore Monogatari!!"
          ],
          [
           "Overlord II"
          ],
          [
           "Perfect Blue"
          ],
          [
           "Petshop of Horrors"
          ],
          [
           "Photokano"
          ],
          [
           "Piano no Mori"
          ],
          [
           "Redline"
          ],
          [
           "Saiunkoku Monogatari"
          ],
          [
           "Sakura Taisen"
          ],
          [
           "Sennen Joyuu"
          ],
          [
           "Shigurui"
          ],
          [
           "Shihaisha no Tasogare"
          ],
          [
           "Shoumetsu Toshi"
          ],
          [
           "Sonny Boy"
          ],
          [
           "Sousou no Frieren"
          ],
          [
           "Stitch!"
          ],
          [
           "Supernatural The Animation"
          ],
          [
           "Teito Monogatari"
          ],
          [
           "Tenjou Tenge"
          ],
          [
           "Tetsuwan Birdy"
          ],
          [
           "The Cockpit"
          ],
          [
           "Toaru Hikuushi e no Tsuioku"
          ],
          [
           "Toki wo Kakeru Shoujo"
          ],
          [
           "Tokyo Babylon"
          ],
          [
           "Tokyo Babylon: Vision"
          ],
          [
           "Tokyo Godfathers"
          ],
          [
           "Top Secret: The Revelation"
          ],
          [
           "Trigun"
          ],
          [
           "Ultraviolet: Code 044"
          ],
          [
           "Unico"
          ],
          [
           "Unico: Mahou no Shima e"
          ],
          [
           "Vampire Hunter D (2000)"
          ],
          [
           "WXIII Kidou Keisatsu Patlabor"
          ],
          [
           "X"
          ],
          [
           "X OVA"
          ],
          [
           "X-Men"
          ],
          [
           "X/1999"
          ],
          [
           "X²: Double X"
          ],
          [
           "Yamada-kun to Lv999 no Koi wo Suru"
          ],
          [
           "Yojouhan Shinwa Taikei"
          ],
          [
           "Yona Yona Penguin"
          ],
          [
           "Yume Tsukai"
          ]
         ],
         "hovertemplate": "<b>Name:</b> %{customdata[0]}<br><b>Favorites:</b> %{y}",
         "legendgroup": "Madhouse",
         "marker": {
          "color": "#00cc96"
         },
         "name": "Madhouse",
         "notched": false,
         "offsetgroup": "Madhouse",
         "orientation": "v",
         "showlegend": true,
         "type": "box",
         "x": [
          "Madhouse",
          "Madhouse",
          "Madhouse",
          "Madhouse",
          "Madhouse",
          "Madhouse",
          "Madhouse",
          "Madhouse",
          "Madhouse",
          "Madhouse",
          "Madhouse",
          "Madhouse",
          "Madhouse",
          "Madhouse",
          "Madhouse",
          "Madhouse",
          "Madhouse",
          "Madhouse",
          "Madhouse",
          "Madhouse",
          "Madhouse",
          "Madhouse",
          "Madhouse",
          "Madhouse",
          "Madhouse",
          "Madhouse",
          "Madhouse",
          "Madhouse",
          "Madhouse",
          "Madhouse",
          "Madhouse",
          "Madhouse",
          "Madhouse",
          "Madhouse",
          "Madhouse",
          "Madhouse",
          "Madhouse",
          "Madhouse",
          "Madhouse",
          "Madhouse",
          "Madhouse",
          "Madhouse",
          "Madhouse",
          "Madhouse",
          "Madhouse",
          "Madhouse",
          "Madhouse",
          "Madhouse",
          "Madhouse",
          "Madhouse",
          "Madhouse",
          "Madhouse",
          "Madhouse",
          "Madhouse",
          "Madhouse",
          "Madhouse",
          "Madhouse",
          "Madhouse",
          "Madhouse",
          "Madhouse",
          "Madhouse",
          "Madhouse",
          "Madhouse",
          "Madhouse",
          "Madhouse",
          "Madhouse",
          "Madhouse",
          "Madhouse",
          "Madhouse",
          "Madhouse",
          "Madhouse",
          "Madhouse",
          "Madhouse",
          "Madhouse",
          "Madhouse",
          "Madhouse",
          "Madhouse",
          "Madhouse",
          "Madhouse",
          "Madhouse",
          "Madhouse",
          "Madhouse",
          "Madhouse",
          "Madhouse",
          "Madhouse",
          "Madhouse",
          "Madhouse",
          "Madhouse",
          "Madhouse",
          "Madhouse",
          "Madhouse",
          "Madhouse",
          "Madhouse",
          "Madhouse",
          "Madhouse",
          "Madhouse",
          "Madhouse",
          "Madhouse",
          "Madhouse",
          "Madhouse",
          "Madhouse",
          "Madhouse",
          "Madhouse",
          "Madhouse",
          "Madhouse",
          "Madhouse",
          "Madhouse",
          "Madhouse",
          "Madhouse",
          "Madhouse",
          "Madhouse",
          "Madhouse",
          "Madhouse",
          "Madhouse",
          "Madhouse",
          "Madhouse",
          "Madhouse",
          "Madhouse",
          "Madhouse",
          "Madhouse",
          "Madhouse",
          "Madhouse",
          "Madhouse",
          "Madhouse",
          "Madhouse",
          "Madhouse",
          "Madhouse",
          "Madhouse",
          "Madhouse",
          "Madhouse",
          "Madhouse",
          "Madhouse",
          "Madhouse",
          "Madhouse",
          "Madhouse",
          "Madhouse",
          "Madhouse",
          "Madhouse",
          "Madhouse",
          "Madhouse",
          "Madhouse",
          "Madhouse",
          "Madhouse",
          "Madhouse",
          "Madhouse",
          "Madhouse",
          "Madhouse",
          "Madhouse",
          "Madhouse",
          "Madhouse",
          "Madhouse",
          "Madhouse",
          "Madhouse",
          "Madhouse",
          "Madhouse",
          "Madhouse",
          "Madhouse",
          "Madhouse",
          "Madhouse",
          "Madhouse",
          "Madhouse",
          "Madhouse",
          "Madhouse",
          "Madhouse",
          "Madhouse",
          "Madhouse",
          "Madhouse",
          "Madhouse",
          "Madhouse",
          "Madhouse",
          "Madhouse",
          "Madhouse",
          "Madhouse",
          "Madhouse",
          "Madhouse",
          "Madhouse",
          "Madhouse",
          "Madhouse",
          "Madhouse",
          "Madhouse",
          "Madhouse",
          "Madhouse",
          "Madhouse",
          "Madhouse",
          "Madhouse",
          "Madhouse",
          "Madhouse",
          "Madhouse",
          "Madhouse",
          "Madhouse",
          "Madhouse",
          "Madhouse",
          "Madhouse",
          "Madhouse",
          "Madhouse",
          "Madhouse",
          "Madhouse",
          "Madhouse",
          "Madhouse",
          "Madhouse",
          "Madhouse",
          "Madhouse",
          "Madhouse",
          "Madhouse",
          "Madhouse",
          "Madhouse",
          "Madhouse",
          "Madhouse",
          "Madhouse",
          "Madhouse",
          "Madhouse",
          "Madhouse",
          "Madhouse",
          "Madhouse",
          "Madhouse",
          "Madhouse",
          "Madhouse",
          "Madhouse",
          "Madhouse",
          "Madhouse",
          "Madhouse",
          "Madhouse",
          "Madhouse",
          "Madhouse",
          "Madhouse",
          "Madhouse",
          "Madhouse",
          "Madhouse",
          "Madhouse",
          "Madhouse",
          "Madhouse",
          "Madhouse",
          "Madhouse",
          "Madhouse",
          "Madhouse",
          "Madhouse",
          "Madhouse",
          "Madhouse",
          "Madhouse",
          "Madhouse",
          "Madhouse",
          "Madhouse",
          "Madhouse",
          "Madhouse",
          "Madhouse",
          "Madhouse",
          "Madhouse",
          "Madhouse",
          "Madhouse",
          "Madhouse",
          "Madhouse",
          "Madhouse",
          "Madhouse",
          "Madhouse",
          "Madhouse",
          "Madhouse",
          "Madhouse",
          "Madhouse",
          "Madhouse",
          "Madhouse",
          "Madhouse",
          "Madhouse",
          "Madhouse"
         ],
         "x0": " ",
         "xaxis": "x",
         "y": [
          380,
          185,
          132,
          7,
          18,
          16,
          8,
          39,
          8,
          10,
          0,
          21,
          7,
          3,
          1,
          2,
          2,
          3,
          2,
          3,
          9,
          197,
          2,
          46,
          144,
          34,
          33,
          32,
          23,
          4,
          2,
          4,
          5,
          3,
          4,
          65,
          246,
          0,
          47,
          109,
          0,
          0,
          23,
          30,
          58,
          0,
          2,
          1,
          10,
          5,
          70,
          2,
          0,
          3355,
          1599,
          7,
          0,
          8,
          81,
          10,
          2,
          112,
          1458,
          941,
          8,
          6662,
          0,
          2,
          10,
          1426,
          40,
          2988,
          1030,
          734,
          16,
          1620,
          21,
          185,
          74,
          2637,
          145,
          20143,
          380,
          6,
          356,
          38,
          27,
          245,
          8,
          24,
          20,
          47,
          84,
          52,
          525,
          10868,
          26,
          120,
          20,
          5297,
          423,
          4,
          1384,
          9,
          218,
          78,
          5,
          3937,
          421,
          25126,
          12,
          4396,
          4138,
          85,
          626,
          8253,
          130,
          9,
          13548,
          36,
          1805,
          3890,
          4786,
          1232,
          46,
          252,
          123,
          21,
          211,
          2,
          8,
          10,
          27,
          175,
          3,
          8,
          1608,
          1,
          13,
          20,
          8149,
          11,
          17759,
          1258,
          10,
          800,
          12789,
          629,
          14,
          430,
          7691,
          3824,
          40,
          15,
          8252,
          189,
          1,
          328,
          167586,
          27492,
          15,
          1606,
          182,
          43,
          5,
          50,
          4,
          24,
          1,
          6,
          2355,
          248,
          1153,
          9745,
          21,
          214,
          173,
          1702,
          158,
          168,
          3,
          9928,
          76,
          200265,
          285,
          268,
          27,
          8,
          1086,
          90,
          19,
          3547,
          209,
          877,
          0,
          455,
          441,
          6,
          33548,
          1472,
          311,
          599,
          333,
          21,
          574,
          51,
          117,
          595,
          47235,
          27265,
          10,
          1,
          534,
          1,
          7,
          47444,
          7520,
          287,
          5,
          35,
          62408,
          4927,
          4308,
          17801,
          415,
          157,
          119,
          5331,
          1115,
          59,
          2488,
          883,
          16,
          54,
          5555,
          227,
          13,
          67,
          35,
          596,
          75,
          58,
          262,
          5773,
          35,
          0,
          2443,
          71,
          15035,
          6,
          37,
          15,
          2108,
          17,
          756,
          5,
          27,
          117,
          5,
          2060,
          17671,
          0,
          14
         ],
         "y0": " ",
         "yaxis": "y"
        },
        {
         "alignmentgroup": "True",
         "customdata": [
          [
           "Kidou Keisatsu Patlabor: On Television"
          ],
          [
           "Mama wa Shougaku 4 Nensei"
          ],
          [
           "Seikai no Senki III"
          ],
          [
           "InuYasha Movie 1: Toki wo Koeru Omoi"
          ],
          [
           "Sentimental Journey"
          ],
          [
           "Kidou Senshi Gundam SEED C.E. 73: Stargazer"
          ],
          [
           "Yoroiden Samurai Troopers Kikoutei Densetsu"
          ],
          [
           "Yoroiden Samurai Troopers Message"
          ],
          [
           "Kidou Keisatsu Patlabor: New OVA"
          ],
          [
           "DT Eightron"
          ],
          [
           "Seikai no Monshou Special"
          ],
          [
           "Yuusha-Ou GaoGaiGar Final"
          ],
          [
           "Future GPX Cyber Formula"
          ],
          [
           "Future GPX Cyber Formula: Early Days Renewal"
          ],
          [
           "Mai-Otome Zwei"
          ],
          [
           "iDOLM@STER Xenoglossia"
          ],
          [
           "Haou Taikei Ryuu Knight"
          ],
          [
           "Zettai Muteki Raijin-Oh"
          ],
          [
           "Kidou Senshi Z Gundam III: Hoshi no Kodou wa Ai"
          ],
          [
           "Muteki Choujin Zanbot 3"
          ],
          [
           "Taiyou no Kiba Dagram"
          ],
          [
           "Kidou Senshi Gundam SEED Special Edition"
          ],
          [
           "Kidou Senshi Gundam SEED Destiny Special Edition"
          ],
          [
           "Freedom Previsited"
          ],
          [
           "Keroro Gunsou Movie 1"
          ],
          [
           "Juusenki L-Gaim II: Farewell My Lovely + Pentagona Dolls"
          ],
          [
           "Juusenki L-Gaim III: Full Metal Soldier"
          ],
          [
           "Madou King Granzort"
          ],
          [
           "Gekitou! Crush Gear Turbo"
          ],
          [
           "Gundam Evolve"
          ],
          [
           "Kikou Keisatsu Metal Jack"
          ],
          [
           "Chou Mashin Eiyuuden Wataru"
          ],
          [
           "Mister Ajikko"
          ],
          [
           "Yuusha Tokkyuu Might Gaine"
          ],
          [
           "Ganbarist! Shun"
          ],
          [
           "Kidou Senshi Gundam 00 Second Season"
          ],
          [
           "Turn A Gundam I Movie: Earth Light"
          ],
          [
           "Turn A Gundam II Movie: Moonlight Butterfly"
          ],
          [
           "Juushin Liger"
          ],
          [
           "Shin SOS Dai Tokyo Tankentai"
          ],
          [
           "Muteki Robo Trider G7"
          ],
          [
           "Code Geass: Hangyaku no Lelouch Special Edition - Black Rebellion"
          ],
          [
           "Aesop's World"
          ],
          [
           "Mashin Eiyuuden Wataru 2"
          ],
          [
           "Kurokami The Animation"
          ],
          [
           "Battle Spirits: Shounen Toppa Bashin"
          ],
          [
           "Shiroi Kiba White Fang Monogatari"
          ],
          [
           "Kidou Senshi Gundam 00 Movie: A Wakening of the Trailblazer"
          ],
          [
           "Code Geass: Hangyaku no Lelouch R2 Special Edition - Zero Requiem"
          ],
          [
           "Crush Gear Nitro"
          ],
          [
           "Ring of Gundam"
          ],
          [
           "30th Gundam Perfect Mission"
          ],
          [
           "Kidou Senshi Gundam 00 Special Edition"
          ],
          [
           "Hipira-kun"
          ],
          [
           "Keroro Gunsou Movie 5: Tanjou! Kyuukyoku Keroro, Kiseki no Jikuu-jima, de Arimasu!!"
          ],
          [
           "Votoms Finder"
          ],
          [
           "SD Gundam Sangokuden Brave Battle Warriors"
          ],
          [
           "Tales of the Abyss Special Fan Disc"
          ],
          [
           "Kidou Senshi SD Gundam Matsuri"
          ],
          [
           "Koi☆Sento"
          ],
          [
           "Battle Spirits: Brave"
          ],
          [
           "Zero Tester: Chikyuu wo Mamore!"
          ],
          [
           "Gintama: Shinyaku Benizakura-hen"
          ],
          [
           "Future GPX Cyber Formula Graffiti"
          ],
          [
           "s.CRY.ed Alteration I: Tao"
          ],
          [
           "Kidou Senshi Gundam: The Origin"
          ],
          [
           "Battle Spirits: Heroes"
          ],
          [
           "Tiger & Bunny Pilot"
          ],
          [
           "Sacred Seven: Shirogane no Tsubasa"
          ],
          [
           "Dirty Pair Flash 2"
          ],
          [
           "Dirty Pair Flash 3"
          ],
          [
           "Tales of Gekijou"
          ],
          [
           "Phi Brain: Kami no Puzzle - Orpheus Order-hen"
          ],
          [
           "Mugen no Ryvius: Illusion"
          ],
          [
           "Sacred Seven: Shirogane no Tsubasa Picture Drama"
          ],
          [
           "Accel World EX"
          ],
          [
           "Battle Spirits: Sword Eyes"
          ],
          [
           "Code Geass: Boukoku no Akito 3 - Kagayaku Mono Ten yori Otsu"
          ],
          [
           "Gintama': Enchousen"
          ],
          [
           "Natsu-iro Kiseki: 15-kaime no Natsuyasumi"
          ],
          [
           "Code Geass: Soubou no Oz Picture Drama"
          ],
          [
           "Kidou Senshi Gundam AGE: Memory of Eden"
          ],
          [
           "Kakumeiki Valvrave 2nd Season"
          ],
          [
           "Love Live! School Idol Project 2nd Season"
          ],
          [
           "Short Peace Opening"
          ],
          [
           "Kaiketsu Zorori: Mamoru ze! Kyouryuu no Tamago"
          ],
          [
           "Saikyou Ginga Ultimate Zero: Battle Spirits"
          ],
          [
           "Love Live! School Idol Project OVA"
          ],
          [
           "Gintama: Yorinuki Gintama-san on Theater 2D"
          ],
          [
           "Aikatsu! Movie"
          ],
          [
           "Mugen Senshi Valis"
          ],
          [
           "Hipira-kun ONA"
          ],
          [
           "Hipira-kun Special"
          ],
          [
           "Hazedon"
          ],
          [
           "Kidou Senshi Gundam UC: One of Seventy Two"
          ],
          [
           "Buddy Complex: Kanketsu-hen - Ano Sora ni Kaeru Mirai de"
          ],
          [
           "Shoko Nakagawa Prism Tour Special"
          ],
          [
           "Kidou Senshi Gundam-san"
          ],
          [
           "Mister Ajikko Special"
          ],
          [
           "Many Things SD Gundam"
          ],
          [
           "Gundam: G no Reconguista - From the Past to the Future"
          ],
          [
           "Accel World: Infinite∞Burst"
          ],
          [
           "Kidou Senshi Gundam Thunderbolt"
          ],
          [
           "Kidou Senshi Gundam-san (Movie)"
          ],
          [
           "Kidou Senshi Gundam: Tekketsu no Orphans 2nd Season"
          ],
          [
           "Love Live! μ's Final Love Live! Opening Animation"
          ],
          [
           "Magic-Kyun! Renaissance"
          ],
          [
           "Kidou Senshi Gundam Thunderbolt 2nd Season"
          ],
          [
           "Love Live! Sunshine!! 2nd Season"
          ],
          [
           "Kidou Senshi Gundam: Twilight Axis"
          ],
          [
           "ClassicaLoid 2nd Season"
          ],
          [
           "Gundam Build Divers"
          ],
          [
           "Gundam Build Divers Prologue"
          ],
          [
           "City Hunter Movie: Shinjuku Private Eyes"
          ],
          [
           "Double Decker! Doug & Kirill: Extra"
          ],
          [
           "Seikai no Senki II Special"
          ],
          [
           "Orbital Era"
          ],
          [
           "Love Live! School Idol Festival All Stars"
          ],
          [
           "Code Geass: Fukkatsu no Lelouch Picture Drama"
          ],
          [
           "Code Geass: Hangyaku no Lelouch Picture Drama - Kiseki no Anniversary"
          ],
          [
           "Ano Hi no Kokoro wo Toraete"
          ],
          [
           "Love Live! Sunshine!! Photo Session"
          ],
          [
           "Love Live! Nijigasaki Gakuen School Idol Doukoukai 2nd Season"
          ],
          [
           "Gundam Breaker: Battlogue"
          ],
          [
           "Love Live! Superstar!! 2nd Season"
          ],
          [
           "Love Live! Superstar!! 3rd Season"
          ],
          [
           "Love Live! Nijigasaki Gakuen School Idol Doukoukai: Next Sky"
          ],
          [
           "All That Gundam"
          ],
          [
           "Aoki Ryuusei SPT Layzner"
          ],
          [
           "Aoki Ryuusei SPT Layzner OVA"
          ],
          [
           "Arion"
          ],
          [
           "Buddy Complex"
          ],
          [
           "City Hunter"
          ],
          [
           "City Hunter: Hyakuman Dollar no Inbou"
          ],
          [
           "Code Geass: Hangyaku no Lelouch Picture Drama"
          ],
          [
           "Code Geass: Hangyaku no Lelouch R2 Picture Drama"
          ],
          [
           "Code Geass: Hangyaku no Lelouch Recaps"
          ],
          [
           "Cowboy Bebop"
          ],
          [
           "Cross Ange: Tenshi to Ryuu no Rondo"
          ],
          [
           "Danshi Koukousei no Nichijou"
          ],
          [
           "Densetsu Kyojin Ideon: Sesshoku-hen"
          ],
          [
           "DinoZone"
          ],
          [
           "Dirty Pair: Bouryaku no 005-bin"
          ],
          [
           "Gasaraki"
          ],
          [
           "Genki Bakuhatsu Ganbaruger"
          ],
          [
           "Ginga Hyouryuu Vifam"
          ],
          [
           "Gundam Build Fighters Try: Island Wars"
          ],
          [
           "Gundam Neo Experience 0087: Green Divers"
          ],
          [
           "InuYasha"
          ],
          [
           "InuYasha Movie 2: Kagami no Naka no Mugenjo"
          ],
          [
           "InuYasha: Kanketsu-hen"
          ],
          [
           "Juusenki L-Gaim"
          ],
          [
           "Juusenshi Gulkeeva"
          ],
          [
           "Kakumeiki Valvrave"
          ],
          [
           "Kidou Senshi Gundam 00"
          ],
          [
           "Kidou Senshi Gundam F91"
          ],
          [
           "Kidou Senshi Gundam MS IGLOO: 1-nen Sensou Hiroku"
          ],
          [
           "Kidou Senshi Gundam NT"
          ],
          [
           "Kidou Senshi Gundam Unicorn"
          ],
          [
           "Kidou Senshi Gundam ZZ"
          ],
          [
           "Kidou Senshi Gundam: Cucuruz Doan no Shima"
          ],
          [
           "Kidou Senshi Gundam: Gyakushuu no Char"
          ],
          [
           "Kidou Senshi Gundam: Suisei no Majo"
          ],
          [
           "Kidou Senshi Gundam: The Origin - Zenya Akai Suisei"
          ],
          [
           "Kikou Kai Galient"
          ],
          [
           "Kikou Kai Galient OVA"
          ],
          [
           "Kodai Ouja Kyouryuu King"
          ],
          [
           "Kyouryuu Tankentai Born Free"
          ],
          [
           "La Seine no Hoshi"
          ],
          [
           "Love Live! School Idol Project"
          ],
          [
           "Love Live! The School Idol Movie"
          ],
          [
           "Mai-HiME"
          ],
          [
           "Mai-Otome"
          ],
          [
           "Mai-Otome Special: Otome no Inori"
          ],
          [
           "Megumi no Daigo: Kajiba no Baka Yarou"
          ],
          [
           "SD Gundam Force"
          ],
          [
           "SD Gundam World Heroes"
          ],
          [
           "Seihou Bukyou Outlaw Star"
          ],
          [
           "Seihou Tenshi Angel Links"
          ],
          [
           "Seikai no Senki II"
          ],
          [
           "Shin Kidou Senki Gundam Wing: Endless Waltz"
          ],
          [
           "Shishunki Bishoujo Gattai Robo Z-Mind"
          ],
          [
           "Soukou Kihei Votoms"
          ],
          [
           "Soukou Kihei Votoms Recaps"
          ],
          [
           "The Big O"
          ],
          [
           "Tsukumo"
          ],
          [
           "Yakitate!! Japan"
          ],
          [
           "Yuusha Exkaiser"
          ],
          [
           "Zegapain"
          ],
          [
           "Zone of the Enders: 2167 Idolo"
          ],
          [
           "Accel World"
          ],
          [
           "Argento Soma"
          ],
          [
           "Bakumatsu Kikansetsu Irohanihoheto"
          ],
          [
           "Battle Spirits: Shounen Gekiha Dan"
          ],
          [
           "Betterman"
          ],
          [
           "Binbougami ga!"
          ],
          [
           "Brain Powerd"
          ],
          [
           "Brigadoon: Marin to Melan"
          ],
          [
           "Buki yo Saraba"
          ],
          [
           "Chinmoku no Kantai"
          ],
          [
           "Chirin no Suzu"
          ],
          [
           "City Hunter '91"
          ],
          [
           "City Hunter 2"
          ],
          [
           "City Hunter: Ai to Shukumei no Magnum"
          ],
          [
           "City Hunter: Bay City Wars"
          ],
          [
           "City Hunter: Goodbye My Sweetheart"
          ],
          [
           "City Hunter: The Secret Service"
          ],
          [
           "ClassicaLoid"
          ],
          [
           "Cluster Edge"
          ],
          [
           "Code Geass: Boukoku no Akito 1 - Yokuryuu wa Maiorita"
          ],
          [
           "Code Geass: Fukkatsu no Lelouch"
          ],
          [
           "Code Geass: Hangyaku no Lelouch"
          ],
          [
           "Code Geass: Hangyaku no Lelouch - Kiseki no Birthday"
          ],
          [
           "Code Geass: Hangyaku no Lelouch - Nunnally in Wonderland"
          ],
          [
           "Code Geass: Hangyaku no Lelouch I - Koudou"
          ],
          [
           "Code Geass: Hangyaku no Lelouch II - Handou"
          ],
          [
           "Code Geass: Hangyaku no Lelouch III - Oudou"
          ],
          [
           "Code Geass: Hangyaku no Lelouch R2"
          ],
          [
           "Cowboy Bebop: Ein no Natsuyasumi"
          ],
          [
           "Cowboy Bebop: Yose Atsume Blues"
          ],
          [
           "Crusher Joe"
          ],
          [
           "Crusher Joe OVA"
          ],
          [
           "Danshi Koukousei no Nichijou Specials"
          ],
          [
           "Dead Heat"
          ],
          [
           "Densetsu Kyojin Ideon"
          ],
          [
           "Densetsu Kyojin Ideon: Hatsudou-hen"
          ],
          [
           "Densetsu no Yuusha da Garn"
          ],
          [
           "Dirty Pair"
          ],
          [
           "Dirty Pair Flash"
          ],
          [
           "Dirty Pair: The Movie"
          ],
          [
           "Double Decker! Doug & Kirill"
          ],
          [
           "Five Star Stories"
          ],
          [
           "Freedom"
          ],
          [
           "Future GPX Cyber Formula 11"
          ],
          [
           "Future GPX Cyber Formula Saga"
          ],
          [
           "Future GPX Cyber Formula Sin"
          ],
          [
           "Future GPX Cyber Formula Zero"
          ],
          [
           "Gambo"
          ],
          [
           "Gear Fighter Dendoh"
          ],
          [
           "Genjitsu no Yohane: Sunshine in the Mirror"
          ],
          [
           "Giant Gorg"
          ],
          [
           "Gintama"
          ],
          [
           "Gintama Movie 1: Shinyaku Benizakura-hen"
          ],
          [
           "Gintama Movie 2: Kanketsu-hen - Yorozuya yo Eien Nare"
          ],
          [
           "Gintama'"
          ],
          [
           "Gundam Build Fighters"
          ],
          [
           "Gundam Build Fighters Specials"
          ],
          [
           "Gundam Build Fighters Try"
          ],
          [
           "Gundam Build Fighters: Battlogue"
          ],
          [
           "Gundam: G no Reconguista"
          ],
          [
           "Gundam: Mission to the Rise"
          ],
          [
           "Hanyou no Yashahime: Sengoku Otogizoushi"
          ],
          [
           "Hi no Youjin"
          ],
          [
           "Hotori: Tada Saiwai wo Koinegau"
          ],
          [
           "Ibara no Ou"
          ],
          [
           "InuYasha Movie 3: Tenka Hadou no Ken"
          ],
          [
           "InuYasha: Kuroi Tessaiga"
          ],
          [
           "Isekai Izakaya: Koto Aitheria no Izakaya Nobu"
          ],
          [
           "Kekkaishi"
          ],
          [
           "Keroro"
          ],
          [
           "Keroro Gunsou"
          ],
          [
           "Kidou Butouden G Gundam"
          ],
          [
           "Kidou Senshi Gundam"
          ],
          [
           "Kidou Senshi Gundam 0080: Pocket no Naka no Sensou"
          ],
          [
           "Kidou Senshi Gundam 0083: Stardust Memory"
          ],
          [
           "Kidou Senshi Gundam AGE"
          ],
          [
           "Kidou Senshi Gundam I"
          ],
          [
           "Kidou Senshi Gundam II: Ai Senshi-hen"
          ],
          [
           "Kidou Senshi Gundam III: Meguriai Sora-hen"
          ],
          [
           "Kidou Senshi Gundam MS IGLOO: Mokushiroku 0079"
          ],
          [
           "Kidou Senshi Gundam SEED"
          ],
          [
           "Kidou Senshi Gundam SEED Destiny"
          ],
          [
           "Kidou Senshi Gundam Thunderbolt: Bandit Flower"
          ],
          [
           "Kidou Senshi Gundam Thunderbolt: December Sky"
          ],
          [
           "Kidou Senshi Gundam: Dai 08 MS Shoutai"
          ],
          [
           "Kidou Senshi Gundam: Dai 08 MS Shoutai - Miller's Report"
          ],
          [
           "Kidou Senshi Gundam: Hikaru Inochi Chronicle U.C."
          ],
          [
           "Kidou Senshi Gundam: Senkou no Hathaway"
          ],
          [
           "Kidou Senshi Gundam: Suisei no Majo Season 2"
          ],
          [
           "Kidou Senshi Gundam: Tekketsu no Orphans"
          ],
          [
           "Kidou Senshi Victory Gundam"
          ],
          [
           "Kidou Senshi Zeta Gundam"
          ],
          [
           "Kidou Shinseiki Gundam X"
          ],
          [
           "Kikou Senki Dragonar"
          ],
          [
           "Kyoukaisenjou no Horizon"
          ],
          [
           "Love Live! Nijigasaki Gakuen School Idol Doukoukai"
          ],
          [
           "Love Live! School Idol Project Recap"
          ],
          [
           "Love Live! Sunshine!!"
          ],
          [
           "Love Live! Sunshine!! Recap"
          ],
          [
           "Love Live! Sunshine!! The School Idol Movie: Over the Rainbow"
          ],
          [
           "Love Live! Superstar!!"
          ],
          [
           "Mai-HiME Specials"
          ],
          [
           "Mai-Otome 0: S.ifr"
          ],
          [
           "Mai-Otome Specials"
          ],
          [
           "Mashin Eiyuuden Wataru"
          ],
          [
           "Mugen no Ryvius"
          ],
          [
           "Nami yo Kiitekure"
          ],
          [
           "Nerawareta Gakuen"
          ],
          [
           "Nijiyon Animation"
          ],
          [
           "Norageki!"
          ],
          [
           "Nyani ga Nyandaa Nyandaa Kamen"
          ],
          [
           "Onmyou Taisenki"
          ],
          [
           "Overman King Gainer"
          ],
          [
           "Phi Brain: Kami no Puzzle"
          ],
          [
           "Planetes"
          ],
          [
           "Sacred Seven"
          ],
          [
           "Scarlet Nexus"
          ],
          [
           "Seihou Bukyou Outlaw Star Pilot"
          ],
          [
           "Seihou Bukyou Outlaw Star Specials"
          ],
          [
           "Seikai no Monshou"
          ],
          [
           "Seikai no Senki"
          ],
          [
           "Seisenshi Dunbine"
          ],
          [
           "Seisenshi Dunbine OVA"
          ],
          [
           "Seraphim Call"
          ],
          [
           "Shin Kidou Senki Gundam Wing"
          ],
          [
           "Shin Kidou Senki Gundam Wing: Endless Waltz Special"
          ],
          [
           "Shutsugeki! Machine Robo Rescue"
          ],
          [
           "Sora wo Kakeru Shoujo"
          ],
          [
           "Soukou Kihei Votoms: Genei-hen"
          ],
          [
           "Soukou Kihei Votoms: Kakuyaku taru Itan"
          ],
          [
           "Soukou Kihei Votoms: Koei Futatabi"
          ],
          [
           "Steamboy"
          ],
          [
           "Tales of the Abyss"
          ],
          [
           "Tenkuu no Escaflowne"
          ],
          [
           "The☆Ultraman"
          ],
          [
           "Tiger & Bunny"
          ],
          [
           "Tiger & Bunny Movie 1: The Beginning"
          ],
          [
           "Tiger & Bunny Movie 2: The Rising"
          ],
          [
           "Turn A Gundam"
          ],
          [
           "Uchuu no Senshi"
          ],
          [
           "Wanpaku Oomukashi Kum Kum"
          ],
          [
           "Witch Hunter Robin"
          ],
          [
           "Xabungle Graffiti"
          ],
          [
           "Yoroiden Samurai Troopers"
          ],
          [
           "Yuusha Raideen"
          ],
          [
           "Yuusha-Ou GaoGaiGar"
          ],
          [
           "Zero Tester"
          ],
          [
           "Zone of the Enders: Dolores, I"
          ],
          [
           "s.CRY.ed"
          ]
         ],
         "hovertemplate": "<b>Name:</b> %{customdata[0]}<br><b>Favorites:</b> %{y}",
         "legendgroup": "Sunrise",
         "marker": {
          "color": "#ab63fa"
         },
         "name": "Sunrise",
         "notched": false,
         "offsetgroup": "Sunrise",
         "orientation": "v",
         "showlegend": true,
         "type": "box",
         "x": [
          "Sunrise",
          "Sunrise",
          "Sunrise",
          "Sunrise",
          "Sunrise",
          "Sunrise",
          "Sunrise",
          "Sunrise",
          "Sunrise",
          "Sunrise",
          "Sunrise",
          "Sunrise",
          "Sunrise",
          "Sunrise",
          "Sunrise",
          "Sunrise",
          "Sunrise",
          "Sunrise",
          "Sunrise",
          "Sunrise",
          "Sunrise",
          "Sunrise",
          "Sunrise",
          "Sunrise",
          "Sunrise",
          "Sunrise",
          "Sunrise",
          "Sunrise",
          "Sunrise",
          "Sunrise",
          "Sunrise",
          "Sunrise",
          "Sunrise",
          "Sunrise",
          "Sunrise",
          "Sunrise",
          "Sunrise",
          "Sunrise",
          "Sunrise",
          "Sunrise",
          "Sunrise",
          "Sunrise",
          "Sunrise",
          "Sunrise",
          "Sunrise",
          "Sunrise",
          "Sunrise",
          "Sunrise",
          "Sunrise",
          "Sunrise",
          "Sunrise",
          "Sunrise",
          "Sunrise",
          "Sunrise",
          "Sunrise",
          "Sunrise",
          "Sunrise",
          "Sunrise",
          "Sunrise",
          "Sunrise",
          "Sunrise",
          "Sunrise",
          "Sunrise",
          "Sunrise",
          "Sunrise",
          "Sunrise",
          "Sunrise",
          "Sunrise",
          "Sunrise",
          "Sunrise",
          "Sunrise",
          "Sunrise",
          "Sunrise",
          "Sunrise",
          "Sunrise",
          "Sunrise",
          "Sunrise",
          "Sunrise",
          "Sunrise",
          "Sunrise",
          "Sunrise",
          "Sunrise",
          "Sunrise",
          "Sunrise",
          "Sunrise",
          "Sunrise",
          "Sunrise",
          "Sunrise",
          "Sunrise",
          "Sunrise",
          "Sunrise",
          "Sunrise",
          "Sunrise",
          "Sunrise",
          "Sunrise",
          "Sunrise",
          "Sunrise",
          "Sunrise",
          "Sunrise",
          "Sunrise",
          "Sunrise",
          "Sunrise",
          "Sunrise",
          "Sunrise",
          "Sunrise",
          "Sunrise",
          "Sunrise",
          "Sunrise",
          "Sunrise",
          "Sunrise",
          "Sunrise",
          "Sunrise",
          "Sunrise",
          "Sunrise",
          "Sunrise",
          "Sunrise",
          "Sunrise",
          "Sunrise",
          "Sunrise",
          "Sunrise",
          "Sunrise",
          "Sunrise",
          "Sunrise",
          "Sunrise",
          "Sunrise",
          "Sunrise",
          "Sunrise",
          "Sunrise",
          "Sunrise",
          "Sunrise",
          "Sunrise",
          "Sunrise",
          "Sunrise",
          "Sunrise",
          "Sunrise",
          "Sunrise",
          "Sunrise",
          "Sunrise",
          "Sunrise",
          "Sunrise",
          "Sunrise",
          "Sunrise",
          "Sunrise",
          "Sunrise",
          "Sunrise",
          "Sunrise",
          "Sunrise",
          "Sunrise",
          "Sunrise",
          "Sunrise",
          "Sunrise",
          "Sunrise",
          "Sunrise",
          "Sunrise",
          "Sunrise",
          "Sunrise",
          "Sunrise",
          "Sunrise",
          "Sunrise",
          "Sunrise",
          "Sunrise",
          "Sunrise",
          "Sunrise",
          "Sunrise",
          "Sunrise",
          "Sunrise",
          "Sunrise",
          "Sunrise",
          "Sunrise",
          "Sunrise",
          "Sunrise",
          "Sunrise",
          "Sunrise",
          "Sunrise",
          "Sunrise",
          "Sunrise",
          "Sunrise",
          "Sunrise",
          "Sunrise",
          "Sunrise",
          "Sunrise",
          "Sunrise",
          "Sunrise",
          "Sunrise",
          "Sunrise",
          "Sunrise",
          "Sunrise",
          "Sunrise",
          "Sunrise",
          "Sunrise",
          "Sunrise",
          "Sunrise",
          "Sunrise",
          "Sunrise",
          "Sunrise",
          "Sunrise",
          "Sunrise",
          "Sunrise",
          "Sunrise",
          "Sunrise",
          "Sunrise",
          "Sunrise",
          "Sunrise",
          "Sunrise",
          "Sunrise",
          "Sunrise",
          "Sunrise",
          "Sunrise",
          "Sunrise",
          "Sunrise",
          "Sunrise",
          "Sunrise",
          "Sunrise",
          "Sunrise",
          "Sunrise",
          "Sunrise",
          "Sunrise",
          "Sunrise",
          "Sunrise",
          "Sunrise",
          "Sunrise",
          "Sunrise",
          "Sunrise",
          "Sunrise",
          "Sunrise",
          "Sunrise",
          "Sunrise",
          "Sunrise",
          "Sunrise",
          "Sunrise",
          "Sunrise",
          "Sunrise",
          "Sunrise",
          "Sunrise",
          "Sunrise",
          "Sunrise",
          "Sunrise",
          "Sunrise",
          "Sunrise",
          "Sunrise",
          "Sunrise",
          "Sunrise",
          "Sunrise",
          "Sunrise",
          "Sunrise",
          "Sunrise",
          "Sunrise",
          "Sunrise",
          "Sunrise",
          "Sunrise",
          "Sunrise",
          "Sunrise",
          "Sunrise",
          "Sunrise",
          "Sunrise",
          "Sunrise",
          "Sunrise",
          "Sunrise",
          "Sunrise",
          "Sunrise",
          "Sunrise",
          "Sunrise",
          "Sunrise",
          "Sunrise",
          "Sunrise",
          "Sunrise",
          "Sunrise",
          "Sunrise",
          "Sunrise",
          "Sunrise",
          "Sunrise",
          "Sunrise",
          "Sunrise",
          "Sunrise",
          "Sunrise",
          "Sunrise",
          "Sunrise",
          "Sunrise",
          "Sunrise",
          "Sunrise",
          "Sunrise",
          "Sunrise",
          "Sunrise",
          "Sunrise",
          "Sunrise",
          "Sunrise",
          "Sunrise",
          "Sunrise",
          "Sunrise",
          "Sunrise",
          "Sunrise",
          "Sunrise",
          "Sunrise",
          "Sunrise",
          "Sunrise",
          "Sunrise",
          "Sunrise",
          "Sunrise",
          "Sunrise",
          "Sunrise",
          "Sunrise",
          "Sunrise",
          "Sunrise",
          "Sunrise",
          "Sunrise",
          "Sunrise",
          "Sunrise",
          "Sunrise",
          "Sunrise",
          "Sunrise",
          "Sunrise",
          "Sunrise",
          "Sunrise",
          "Sunrise",
          "Sunrise",
          "Sunrise",
          "Sunrise",
          "Sunrise",
          "Sunrise",
          "Sunrise",
          "Sunrise",
          "Sunrise",
          "Sunrise",
          "Sunrise",
          "Sunrise",
          "Sunrise",
          "Sunrise",
          "Sunrise",
          "Sunrise",
          "Sunrise",
          "Sunrise",
          "Sunrise",
          "Sunrise",
          "Sunrise",
          "Sunrise",
          "Sunrise",
          "Sunrise",
          "Sunrise",
          "Sunrise"
         ],
         "x0": " ",
         "xaxis": "x",
         "y": [
          414,
          43,
          56,
          174,
          13,
          41,
          6,
          5,
          35,
          8,
          3,
          171,
          61,
          1,
          28,
          30,
          6,
          6,
          8,
          18,
          64,
          12,
          22,
          0,
          14,
          0,
          2,
          15,
          39,
          12,
          1,
          10,
          14,
          12,
          13,
          1365,
          2,
          1,
          1,
          3,
          1,
          53,
          1,
          3,
          331,
          14,
          0,
          227,
          82,
          4,
          4,
          8,
          26,
          1,
          6,
          0,
          3,
          0,
          1,
          3,
          18,
          1,
          52,
          0,
          3,
          836,
          4,
          4,
          3,
          6,
          1,
          5,
          42,
          0,
          0,
          97,
          7,
          102,
          2967,
          3,
          5,
          0,
          199,
          2748,
          3,
          2,
          2,
          108,
          44,
          37,
          2,
          1,
          0,
          0,
          1,
          27,
          0,
          0,
          1,
          0,
          0,
          70,
          381,
          0,
          1574,
          21,
          213,
          23,
          1121,
          9,
          16,
          51,
          3,
          26,
          5,
          1,
          2,
          18,
          26,
          1,
          2,
          0,
          428,
          5,
          320,
          26,
          15,
          19,
          31,
          5,
          10,
          222,
          966,
          2,
          75,
          97,
          58,
          78525,
          1650,
          13873,
          1,
          2,
          3,
          51,
          6,
          24,
          18,
          1,
          17881,
          252,
          2112,
          17,
          0,
          676,
          4409,
          82,
          14,
          36,
          1554,
          178,
          24,
          422,
          1117,
          102,
          7,
          1,
          117,
          1,
          6,
          7955,
          1199,
          1146,
          303,
          3,
          2,
          9,
          3,
          2093,
          6,
          117,
          176,
          0,
          365,
          0,
          903,
          4,
          897,
          9,
          163,
          13,
          3882,
          82,
          130,
          9,
          77,
          1200,
          31,
          143,
          14,
          5,
          70,
          61,
          155,
          6,
          8,
          8,
          5,
          89,
          13,
          563,
          1980,
          105379,
          28,
          39,
          187,
          107,
          147,
          74578,
          28,
          96,
          10,
          1,
          184,
          0,
          117,
          198,
          17,
          200,
          22,
          36,
          94,
          45,
          62,
          11,
          12,
          15,
          15,
          1,
          16,
          58,
          27,
          57678,
          597,
          2091,
          7765,
          636,
          1,
          114,
          5,
          86,
          3,
          620,
          3,
          7,
          157,
          208,
          72,
          149,
          588,
          26,
          1151,
          978,
          2140,
          966,
          251,
          60,
          77,
          42,
          141,
          8,
          3435,
          1063,
          30,
          176,
          1064,
          3,
          0,
          267,
          315,
          3099,
          136,
          2117,
          199,
          13,
          830,
          1081,
          13,
          2954,
          8,
          289,
          1093,
          15,
          28,
          3,
          14,
          321,
          191,
          191,
          41,
          3,
          5,
          31,
          42,
          227,
          3836,
          79,
          494,
          12,
          3,
          451,
          274,
          43,
          0,
          14,
          2334,
          187,
          12,
          50,
          1,
          6,
          1,
          148,
          542,
          2069,
          9,
          2972,
          19,
          51,
          965,
          12,
          0,
          613,
          0,
          165,
          7,
          336,
          2,
          34,
          660
         ],
         "y0": " ",
         "yaxis": "y"
        },
        {
         "alignmentgroup": "True",
         "customdata": [
          [
           "Fullmetal Alchemist: The Conqueror of Shamballa"
          ],
          [
           "Kurau Phantom Memory"
          ],
          [
           "Fullmetal Alchemist: Reflections"
          ],
          [
           "Darker than Black: Kuro no Keiyakusha"
          ],
          [
           "Darker than Black: Kuro no Keiyakusha - Sakura no Hana no Mankai no Shita"
          ],
          [
           "Darker than Black: Ryuusei no Gemini"
          ],
          [
           "Darker than Black: Kuro no Keiyakusha Gaiden"
          ],
          [
           "Fullmetal Alchemist: Brotherhood - 4-Koma Theater"
          ],
          [
           "Heroman Specials"
          ],
          [
           "Fullmetal Alchemist: The Sacred Star of Milos Specials"
          ],
          [
           "Star Driver the Movie"
          ],
          [
           "Noragami OVA"
          ],
          [
           "Soul Eater: Late Night Show"
          ],
          [
           "Soul Eater NOT!"
          ],
          [
           "Tenkai Knights"
          ],
          [
           "Space☆Dandy 2nd Season"
          ],
          [
           "Show By Rock!!"
          ],
          [
           "Noragami Aragoto OVA"
          ],
          [
           "Show By Rock!! #"
          ],
          [
           "Show By Rock!! Short!!"
          ],
          [
           "Eureka Seven AO: One More Time - Lord Don't Slow Me Down"
          ],
          [
           "Boku no Hero Academia: Hero Note"
          ],
          [
           "Mob Psycho Mini"
          ],
          [
           "Bungou Stray Dogs 3rd Season"
          ],
          [
           "Boku no Hero Academia the Movie 1: Futari no Hero Specials"
          ],
          [
           "Carole & Tuesday Specials"
          ],
          [
           "SK∞ (OVA)"
          ],
          [
           "Boku no Hero Academia the Movie 3: World Heroes' Mission - Tabidachi"
          ],
          [
           "SK∞ 2nd Season"
          ],
          [
           "Akagami no Shirayuki-hime"
          ],
          [
           "Akagami no Shirayuki-hime 2nd Season"
          ],
          [
           "Boku no Hero Academia (ONA)"
          ],
          [
           "Boku no Hero Academia 4th Season"
          ],
          [
           "Boku no Hero Academia 5th Season"
          ],
          [
           "Boku no Hero Academia the Movie 1: Futari no Hero"
          ],
          [
           "Boku no Hero Academia the Movie 2: Heroes:Rising"
          ],
          [
           "Bounen no Xamdou"
          ],
          [
           "Bungou Stray Dogs 4th Season"
          ],
          [
           "Bungou Stray Dogs 5th Season"
          ],
          [
           "Captain Earth"
          ],
          [
           "Eureka Seven AO"
          ],
          [
           "Fullmetal Alchemist"
          ],
          [
           "Fullmetal Alchemist: Brotherhood Specials"
          ],
          [
           "Fullmetal Alchemist: Premium Collection"
          ],
          [
           "Gosick"
          ],
          [
           "Heroman"
          ],
          [
           "Hitsugi no Chaika: Avenging Battle"
          ],
          [
           "Juu Ou Sei"
          ],
          [
           "Kekkai Sensen"
          ],
          [
           "Kidou Tenshi Angelic Layer"
          ],
          [
           "Metallic Rouge"
          ],
          [
           "Mob Psycho 100"
          ],
          [
           "Mob Psycho 100 II"
          ],
          [
           "Ouran Koukou Host Club"
          ],
          [
           "RahXephon"
          ],
          [
           "RahXephon: Tagen Hensoukyoku"
          ],
          [
           "SK∞"
          ],
          [
           "Soul Eater"
          ],
          [
           "Space☆Dandy"
          ],
          [
           "Towa no Quon 1: Utakata no Kaben"
          ],
          [
           "Towa no Quon 5: Souzetsu no Raifuku"
          ],
          [
           "Vanitas no Karte"
          ],
          [
           "A.I.C.O. Incarnation"
          ],
          [
           "Boku no Hero Academia"
          ],
          [
           "Boku no Hero Academia 2nd Season"
          ],
          [
           "Boku no Hero Academia 3rd Season"
          ],
          [
           "Boku no Hero Academia 6th Season"
          ],
          [
           "Boku no Hero Academia the Movie 3: World Heroes' Mission"
          ],
          [
           "Boku no Hero Academia: Training of the Dead"
          ],
          [
           "Bungou Stray Dogs"
          ],
          [
           "Bungou Stray Dogs 2nd Season"
          ],
          [
           "Bungou Stray Dogs: Dead Apple"
          ],
          [
           "Carole & Tuesday"
          ],
          [
           "Concrete Revolutio: Choujin Gensou"
          ],
          [
           "Cowboy Bebop: Tengoku no Tobira"
          ],
          [
           "Fullmetal Alchemist: Brotherhood"
          ],
          [
           "Fullmetal Alchemist: The Sacred Star of Milos"
          ],
          [
           "Hisone to Maso-tan"
          ],
          [
           "Hitsugi no Chaika"
          ],
          [
           "Josee to Tora to Sakana-tachi"
          ],
          [
           "Karakuri Kiden: Hiwou Senki"
          ],
          [
           "Kekkai Sensen & Beyond"
          ],
          [
           "Kenran Butou Sai: The Mars Daybreak"
          ],
          [
           "Koukyoushihen Eureka Seven"
          ],
          [
           "Koukyoushihen Eureka Seven Hi-Evolution 1"
          ],
          [
           "Koukyoushihen Eureka Seven Hi-Evolution 2: Anemone"
          ],
          [
           "Mob Psycho 100 III"
          ],
          [
           "Mob Psycho 100: Reigen - Shirarezaru Kiseki no Reinouryokusha"
          ],
          [
           "No.6"
          ],
          [
           "Noragami"
          ],
          [
           "Noragami Aragoto"
          ],
          [
           "RahXephon Specials"
          ],
          [
           "Scrapped Princess"
          ],
          [
           "Skull Man"
          ],
          [
           "Star Driver: Kagayaki no Takuto"
          ],
          [
           "Stranger: Mukou Hadan"
          ],
          [
           "Super Crooks"
          ],
          [
           "Tenpou Ibun: Ayakashi Ayashi"
          ],
          [
           "Towa no Quon 2: Konton no Ranbu"
          ],
          [
           "Towa no Quon 3: Mugen no Renza"
          ],
          [
           "Towa no Quon 4: Guren no Shoushin"
          ],
          [
           "Towa no Quon 6: Towa no Quon"
          ],
          [
           "Un-Go"
          ],
          [
           "Vanitas no Karte Part 2"
          ],
          [
           "Wolf's Rain"
          ],
          [
           "Wolf's Rain OVA"
          ],
          [
           "Zetsuen no Tempest"
          ]
         ],
         "hovertemplate": "<b>Name:</b> %{customdata[0]}<br><b>Favorites:</b> %{y}",
         "legendgroup": "Bones",
         "marker": {
          "color": "#FFA15A"
         },
         "name": "Bones",
         "notched": false,
         "offsetgroup": "Bones",
         "orientation": "v",
         "showlegend": true,
         "type": "box",
         "x": [
          "Bones",
          "Bones",
          "Bones",
          "Bones",
          "Bones",
          "Bones",
          "Bones",
          "Bones",
          "Bones",
          "Bones",
          "Bones",
          "Bones",
          "Bones",
          "Bones",
          "Bones",
          "Bones",
          "Bones",
          "Bones",
          "Bones",
          "Bones",
          "Bones",
          "Bones",
          "Bones",
          "Bones",
          "Bones",
          "Bones",
          "Bones",
          "Bones",
          "Bones",
          "Bones",
          "Bones",
          "Bones",
          "Bones",
          "Bones",
          "Bones",
          "Bones",
          "Bones",
          "Bones",
          "Bones",
          "Bones",
          "Bones",
          "Bones",
          "Bones",
          "Bones",
          "Bones",
          "Bones",
          "Bones",
          "Bones",
          "Bones",
          "Bones",
          "Bones",
          "Bones",
          "Bones",
          "Bones",
          "Bones",
          "Bones",
          "Bones",
          "Bones",
          "Bones",
          "Bones",
          "Bones",
          "Bones",
          "Bones",
          "Bones",
          "Bones",
          "Bones",
          "Bones",
          "Bones",
          "Bones",
          "Bones",
          "Bones",
          "Bones",
          "Bones",
          "Bones",
          "Bones",
          "Bones",
          "Bones",
          "Bones",
          "Bones",
          "Bones",
          "Bones",
          "Bones",
          "Bones",
          "Bones",
          "Bones",
          "Bones",
          "Bones",
          "Bones",
          "Bones",
          "Bones",
          "Bones",
          "Bones",
          "Bones",
          "Bones",
          "Bones",
          "Bones",
          "Bones",
          "Bones",
          "Bones",
          "Bones",
          "Bones",
          "Bones",
          "Bones",
          "Bones",
          "Bones",
          "Bones",
          "Bones"
         ],
         "x0": " ",
         "xaxis": "x",
         "y": [
          628,
          137,
          37,
          16441,
          189,
          1487,
          818,
          126,
          1,
          19,
          9,
          385,
          37,
          193,
          24,
          1807,
          361,
          365,
          76,
          17,
          6,
          606,
          14,
          4846,
          162,
          5,
          261,
          82,
          112,
          7280,
          1685,
          49,
          8217,
          10087,
          1392,
          1796,
          1075,
          2751,
          210,
          88,
          198,
          25502,
          181,
          87,
          8106,
          80,
          196,
          367,
          7590,
          291,
          6,
          45435,
          31617,
          33261,
          947,
          19,
          12511,
          26107,
          5250,
          133,
          15,
          6828,
          228,
          53389,
          17157,
          12739,
          6433,
          965,
          201,
          25238,
          6629,
          1696,
          2879,
          209,
          1448,
          217606,
          146,
          310,
          835,
          5650,
          3,
          1618,
          32,
          9028,
          24,
          16,
          8816,
          130,
          7272,
          32675,
          11428,
          0,
          427,
          64,
          599,
          2929,
          272,
          25,
          16,
          16,
          14,
          49,
          622,
          2537,
          5636,
          367,
          6521
         ],
         "y0": " ",
         "yaxis": "y"
        }
       ],
       "layout": {
        "boxmode": "overlay",
        "legend": {
         "title": {
          "text": "Studios"
         },
         "tracegroupgap": 0
        },
        "template": {
         "data": {
          "bar": [
           {
            "error_x": {
             "color": "#2a3f5f"
            },
            "error_y": {
             "color": "#2a3f5f"
            },
            "marker": {
             "line": {
              "color": "#E5ECF6",
              "width": 0.5
             },
             "pattern": {
              "fillmode": "overlay",
              "size": 10,
              "solidity": 0.2
             }
            },
            "type": "bar"
           }
          ],
          "barpolar": [
           {
            "marker": {
             "line": {
              "color": "#E5ECF6",
              "width": 0.5
             },
             "pattern": {
              "fillmode": "overlay",
              "size": 10,
              "solidity": 0.2
             }
            },
            "type": "barpolar"
           }
          ],
          "carpet": [
           {
            "aaxis": {
             "endlinecolor": "#2a3f5f",
             "gridcolor": "white",
             "linecolor": "white",
             "minorgridcolor": "white",
             "startlinecolor": "#2a3f5f"
            },
            "baxis": {
             "endlinecolor": "#2a3f5f",
             "gridcolor": "white",
             "linecolor": "white",
             "minorgridcolor": "white",
             "startlinecolor": "#2a3f5f"
            },
            "type": "carpet"
           }
          ],
          "choropleth": [
           {
            "colorbar": {
             "outlinewidth": 0,
             "ticks": ""
            },
            "type": "choropleth"
           }
          ],
          "contour": [
           {
            "colorbar": {
             "outlinewidth": 0,
             "ticks": ""
            },
            "colorscale": [
             [
              0,
              "#0d0887"
             ],
             [
              0.1111111111111111,
              "#46039f"
             ],
             [
              0.2222222222222222,
              "#7201a8"
             ],
             [
              0.3333333333333333,
              "#9c179e"
             ],
             [
              0.4444444444444444,
              "#bd3786"
             ],
             [
              0.5555555555555556,
              "#d8576b"
             ],
             [
              0.6666666666666666,
              "#ed7953"
             ],
             [
              0.7777777777777778,
              "#fb9f3a"
             ],
             [
              0.8888888888888888,
              "#fdca26"
             ],
             [
              1,
              "#f0f921"
             ]
            ],
            "type": "contour"
           }
          ],
          "contourcarpet": [
           {
            "colorbar": {
             "outlinewidth": 0,
             "ticks": ""
            },
            "type": "contourcarpet"
           }
          ],
          "heatmap": [
           {
            "colorbar": {
             "outlinewidth": 0,
             "ticks": ""
            },
            "colorscale": [
             [
              0,
              "#0d0887"
             ],
             [
              0.1111111111111111,
              "#46039f"
             ],
             [
              0.2222222222222222,
              "#7201a8"
             ],
             [
              0.3333333333333333,
              "#9c179e"
             ],
             [
              0.4444444444444444,
              "#bd3786"
             ],
             [
              0.5555555555555556,
              "#d8576b"
             ],
             [
              0.6666666666666666,
              "#ed7953"
             ],
             [
              0.7777777777777778,
              "#fb9f3a"
             ],
             [
              0.8888888888888888,
              "#fdca26"
             ],
             [
              1,
              "#f0f921"
             ]
            ],
            "type": "heatmap"
           }
          ],
          "heatmapgl": [
           {
            "colorbar": {
             "outlinewidth": 0,
             "ticks": ""
            },
            "colorscale": [
             [
              0,
              "#0d0887"
             ],
             [
              0.1111111111111111,
              "#46039f"
             ],
             [
              0.2222222222222222,
              "#7201a8"
             ],
             [
              0.3333333333333333,
              "#9c179e"
             ],
             [
              0.4444444444444444,
              "#bd3786"
             ],
             [
              0.5555555555555556,
              "#d8576b"
             ],
             [
              0.6666666666666666,
              "#ed7953"
             ],
             [
              0.7777777777777778,
              "#fb9f3a"
             ],
             [
              0.8888888888888888,
              "#fdca26"
             ],
             [
              1,
              "#f0f921"
             ]
            ],
            "type": "heatmapgl"
           }
          ],
          "histogram": [
           {
            "marker": {
             "pattern": {
              "fillmode": "overlay",
              "size": 10,
              "solidity": 0.2
             }
            },
            "type": "histogram"
           }
          ],
          "histogram2d": [
           {
            "colorbar": {
             "outlinewidth": 0,
             "ticks": ""
            },
            "colorscale": [
             [
              0,
              "#0d0887"
             ],
             [
              0.1111111111111111,
              "#46039f"
             ],
             [
              0.2222222222222222,
              "#7201a8"
             ],
             [
              0.3333333333333333,
              "#9c179e"
             ],
             [
              0.4444444444444444,
              "#bd3786"
             ],
             [
              0.5555555555555556,
              "#d8576b"
             ],
             [
              0.6666666666666666,
              "#ed7953"
             ],
             [
              0.7777777777777778,
              "#fb9f3a"
             ],
             [
              0.8888888888888888,
              "#fdca26"
             ],
             [
              1,
              "#f0f921"
             ]
            ],
            "type": "histogram2d"
           }
          ],
          "histogram2dcontour": [
           {
            "colorbar": {
             "outlinewidth": 0,
             "ticks": ""
            },
            "colorscale": [
             [
              0,
              "#0d0887"
             ],
             [
              0.1111111111111111,
              "#46039f"
             ],
             [
              0.2222222222222222,
              "#7201a8"
             ],
             [
              0.3333333333333333,
              "#9c179e"
             ],
             [
              0.4444444444444444,
              "#bd3786"
             ],
             [
              0.5555555555555556,
              "#d8576b"
             ],
             [
              0.6666666666666666,
              "#ed7953"
             ],
             [
              0.7777777777777778,
              "#fb9f3a"
             ],
             [
              0.8888888888888888,
              "#fdca26"
             ],
             [
              1,
              "#f0f921"
             ]
            ],
            "type": "histogram2dcontour"
           }
          ],
          "mesh3d": [
           {
            "colorbar": {
             "outlinewidth": 0,
             "ticks": ""
            },
            "type": "mesh3d"
           }
          ],
          "parcoords": [
           {
            "line": {
             "colorbar": {
              "outlinewidth": 0,
              "ticks": ""
             }
            },
            "type": "parcoords"
           }
          ],
          "pie": [
           {
            "automargin": true,
            "type": "pie"
           }
          ],
          "scatter": [
           {
            "fillpattern": {
             "fillmode": "overlay",
             "size": 10,
             "solidity": 0.2
            },
            "type": "scatter"
           }
          ],
          "scatter3d": [
           {
            "line": {
             "colorbar": {
              "outlinewidth": 0,
              "ticks": ""
             }
            },
            "marker": {
             "colorbar": {
              "outlinewidth": 0,
              "ticks": ""
             }
            },
            "type": "scatter3d"
           }
          ],
          "scattercarpet": [
           {
            "marker": {
             "colorbar": {
              "outlinewidth": 0,
              "ticks": ""
             }
            },
            "type": "scattercarpet"
           }
          ],
          "scattergeo": [
           {
            "marker": {
             "colorbar": {
              "outlinewidth": 0,
              "ticks": ""
             }
            },
            "type": "scattergeo"
           }
          ],
          "scattergl": [
           {
            "marker": {
             "colorbar": {
              "outlinewidth": 0,
              "ticks": ""
             }
            },
            "type": "scattergl"
           }
          ],
          "scattermapbox": [
           {
            "marker": {
             "colorbar": {
              "outlinewidth": 0,
              "ticks": ""
             }
            },
            "type": "scattermapbox"
           }
          ],
          "scatterpolar": [
           {
            "marker": {
             "colorbar": {
              "outlinewidth": 0,
              "ticks": ""
             }
            },
            "type": "scatterpolar"
           }
          ],
          "scatterpolargl": [
           {
            "marker": {
             "colorbar": {
              "outlinewidth": 0,
              "ticks": ""
             }
            },
            "type": "scatterpolargl"
           }
          ],
          "scatterternary": [
           {
            "marker": {
             "colorbar": {
              "outlinewidth": 0,
              "ticks": ""
             }
            },
            "type": "scatterternary"
           }
          ],
          "surface": [
           {
            "colorbar": {
             "outlinewidth": 0,
             "ticks": ""
            },
            "colorscale": [
             [
              0,
              "#0d0887"
             ],
             [
              0.1111111111111111,
              "#46039f"
             ],
             [
              0.2222222222222222,
              "#7201a8"
             ],
             [
              0.3333333333333333,
              "#9c179e"
             ],
             [
              0.4444444444444444,
              "#bd3786"
             ],
             [
              0.5555555555555556,
              "#d8576b"
             ],
             [
              0.6666666666666666,
              "#ed7953"
             ],
             [
              0.7777777777777778,
              "#fb9f3a"
             ],
             [
              0.8888888888888888,
              "#fdca26"
             ],
             [
              1,
              "#f0f921"
             ]
            ],
            "type": "surface"
           }
          ],
          "table": [
           {
            "cells": {
             "fill": {
              "color": "#EBF0F8"
             },
             "line": {
              "color": "white"
             }
            },
            "header": {
             "fill": {
              "color": "#C8D4E3"
             },
             "line": {
              "color": "white"
             }
            },
            "type": "table"
           }
          ]
         },
         "layout": {
          "annotationdefaults": {
           "arrowcolor": "#2a3f5f",
           "arrowhead": 0,
           "arrowwidth": 1
          },
          "autotypenumbers": "strict",
          "coloraxis": {
           "colorbar": {
            "outlinewidth": 0,
            "ticks": ""
           }
          },
          "colorscale": {
           "diverging": [
            [
             0,
             "#8e0152"
            ],
            [
             0.1,
             "#c51b7d"
            ],
            [
             0.2,
             "#de77ae"
            ],
            [
             0.3,
             "#f1b6da"
            ],
            [
             0.4,
             "#fde0ef"
            ],
            [
             0.5,
             "#f7f7f7"
            ],
            [
             0.6,
             "#e6f5d0"
            ],
            [
             0.7,
             "#b8e186"
            ],
            [
             0.8,
             "#7fbc41"
            ],
            [
             0.9,
             "#4d9221"
            ],
            [
             1,
             "#276419"
            ]
           ],
           "sequential": [
            [
             0,
             "#0d0887"
            ],
            [
             0.1111111111111111,
             "#46039f"
            ],
            [
             0.2222222222222222,
             "#7201a8"
            ],
            [
             0.3333333333333333,
             "#9c179e"
            ],
            [
             0.4444444444444444,
             "#bd3786"
            ],
            [
             0.5555555555555556,
             "#d8576b"
            ],
            [
             0.6666666666666666,
             "#ed7953"
            ],
            [
             0.7777777777777778,
             "#fb9f3a"
            ],
            [
             0.8888888888888888,
             "#fdca26"
            ],
            [
             1,
             "#f0f921"
            ]
           ],
           "sequentialminus": [
            [
             0,
             "#0d0887"
            ],
            [
             0.1111111111111111,
             "#46039f"
            ],
            [
             0.2222222222222222,
             "#7201a8"
            ],
            [
             0.3333333333333333,
             "#9c179e"
            ],
            [
             0.4444444444444444,
             "#bd3786"
            ],
            [
             0.5555555555555556,
             "#d8576b"
            ],
            [
             0.6666666666666666,
             "#ed7953"
            ],
            [
             0.7777777777777778,
             "#fb9f3a"
            ],
            [
             0.8888888888888888,
             "#fdca26"
            ],
            [
             1,
             "#f0f921"
            ]
           ]
          },
          "colorway": [
           "#636efa",
           "#EF553B",
           "#00cc96",
           "#ab63fa",
           "#FFA15A",
           "#19d3f3",
           "#FF6692",
           "#B6E880",
           "#FF97FF",
           "#FECB52"
          ],
          "font": {
           "color": "#2a3f5f"
          },
          "geo": {
           "bgcolor": "white",
           "lakecolor": "white",
           "landcolor": "#E5ECF6",
           "showlakes": true,
           "showland": true,
           "subunitcolor": "white"
          },
          "hoverlabel": {
           "align": "left"
          },
          "hovermode": "closest",
          "mapbox": {
           "style": "light"
          },
          "paper_bgcolor": "white",
          "plot_bgcolor": "#E5ECF6",
          "polar": {
           "angularaxis": {
            "gridcolor": "white",
            "linecolor": "white",
            "ticks": ""
           },
           "bgcolor": "#E5ECF6",
           "radialaxis": {
            "gridcolor": "white",
            "linecolor": "white",
            "ticks": ""
           }
          },
          "scene": {
           "xaxis": {
            "backgroundcolor": "#E5ECF6",
            "gridcolor": "white",
            "gridwidth": 2,
            "linecolor": "white",
            "showbackground": true,
            "ticks": "",
            "zerolinecolor": "white"
           },
           "yaxis": {
            "backgroundcolor": "#E5ECF6",
            "gridcolor": "white",
            "gridwidth": 2,
            "linecolor": "white",
            "showbackground": true,
            "ticks": "",
            "zerolinecolor": "white"
           },
           "zaxis": {
            "backgroundcolor": "#E5ECF6",
            "gridcolor": "white",
            "gridwidth": 2,
            "linecolor": "white",
            "showbackground": true,
            "ticks": "",
            "zerolinecolor": "white"
           }
          },
          "shapedefaults": {
           "line": {
            "color": "#2a3f5f"
           }
          },
          "ternary": {
           "aaxis": {
            "gridcolor": "white",
            "linecolor": "white",
            "ticks": ""
           },
           "baxis": {
            "gridcolor": "white",
            "linecolor": "white",
            "ticks": ""
           },
           "bgcolor": "#E5ECF6",
           "caxis": {
            "gridcolor": "white",
            "linecolor": "white",
            "ticks": ""
           }
          },
          "title": {
           "x": 0.05
          },
          "xaxis": {
           "automargin": true,
           "gridcolor": "white",
           "linecolor": "white",
           "ticks": "",
           "title": {
            "standoff": 15
           },
           "zerolinecolor": "white",
           "zerolinewidth": 2
          },
          "yaxis": {
           "automargin": true,
           "gridcolor": "white",
           "linecolor": "white",
           "ticks": "",
           "title": {
            "standoff": 15
           },
           "zerolinecolor": "white",
           "zerolinewidth": 2
          }
         }
        },
        "title": {
         "text": "Favorites to Studios Distribution"
        },
        "xaxis": {
         "anchor": "y",
         "categoryarray": [
          "Toei Animation",
          "Pierrot",
          "Madhouse",
          "Sunrise",
          "Bones"
         ],
         "categoryorder": "array",
         "domain": [
          0,
          1
         ],
         "title": {
          "text": "Studios"
         }
        },
        "yaxis": {
         "anchor": "x",
         "domain": [
          0,
          1
         ],
         "title": {
          "text": "Favorites"
         }
        }
       }
      }
     },
     "metadata": {},
     "output_type": "display_data"
    }
   ],
   "source": [
    "# Create vertical box plot for the filtered data\n",
    "fig_box = px.box(df[df['Studios'].isin(set(list(top_studios['Studios'])))], \n",
    "                 x='Studios', \n",
    "                 y='Favorites', \n",
    "                 color='Studios', \n",
    "                 title=\"Favorites to Studios Distribution\", \n",
    "                 orientation='v',\n",
    "                 custom_data=['Name'])\n",
    "\n",
    "# Get the indices of maximum values\n",
    "max_indices = df.groupby('Studios')['Favorites'].idxmax()\n",
    "\n",
    "# Add text labels for maximum values\n",
    "fig_box.update_traces(\n",
    "    hovertemplate=\"<b>Name:</b> %{customdata[0]}<br><b>Favorites:</b> %{y}\",\n",
    "    selector=dict(type='box')\n",
    ")\n",
    "\n",
    "# Show the plot\n",
    "fig_box.show()"
   ]
  },
  {
   "cell_type": "code",
   "execution_count": 36,
   "metadata": {},
   "outputs": [
    {
     "name": "stderr",
     "output_type": "stream",
     "text": [
      "/var/folders/vz/cyjrzm0x74q21sb72nhkdfmr0000gn/T/ipykernel_41179/909673704.py:3: SettingWithCopyWarning:\n",
      "\n",
      "\n",
      "A value is trying to be set on a copy of a slice from a DataFrame.\n",
      "Try using .loc[row_indexer,col_indexer] = value instead\n",
      "\n",
      "See the caveats in the documentation: https://pandas.pydata.org/pandas-docs/stable/user_guide/indexing.html#returning-a-view-versus-a-copy\n",
      "\n"
     ]
    }
   ],
   "source": [
    "recs_umap = recs[['Studios', 'anime_Synopsis', 'Name', 'anime_id']]\n",
    "# Initialize 'rec_label' column with empty strings\n",
    "recs_umap['rec_label'] = ''\n",
    "\n",
    "# Iterate through the lists and update the 'rec_label' column\n",
    "for rec_type, lst in [('collab_filter', joined_list), ('vector_rec', vd_recs), ('pop_rec', pop_recs)]:\n",
    "    recs_umap.loc[recs_umap['anime_id'].isin(lst), 'rec_label'] = rec_type\n",
    "new_row = {'Studios': 'user query', 'anime_Synopsis': query, 'Name': 'user query', 'anime_id': 'none', 'rec_label': 'none'}\n",
    "recs_umap = pd.concat([pd.DataFrame(new_row, index=[0]), recs_umap], ignore_index=True)"
   ]
  },
  {
   "cell_type": "code",
   "execution_count": 38,
   "metadata": {},
   "outputs": [
    {
     "data": {
      "application/vnd.plotly.v1+json": {
       "config": {
        "plotlyServerURL": "https://plot.ly"
       },
       "data": [
        {
         "customdata": [
          [
           "user query",
           "user query"
          ],
          [
           "Toei Animation",
           "One Piece: Oounabara ni Hirake! Dekkai Dekkai Chichi no Yume!"
          ],
          [
           "Toei Animation",
           "One Piece: Nenmatsu Tokubetsu Kikaku! Mugiwara no Luffy Oyabun Torimonochou"
          ],
          [
           "Bones",
           "Darker than Black: Kuro no Keiyakusha"
          ],
          [
           "Y.O.U.C",
           "Gakuen no Shuryousha"
          ],
          [
           "Himajin Planning",
           "Kisaku Spirit"
          ],
          [
           "Studio Fantasia",
           "Lingeries"
          ],
          [
           "Studio 9 Maiami",
           "Itazura The Animation"
          ],
          [
           "UNKNOWN",
           "Dorami & Doraemons: Robot School's Seven Mysteries"
          ],
          [
           "Shin-Ei Animation",
           "Doraemon: The Day When I Was Born"
          ],
          [
           "UNKNOWN",
           "Doraemon Movie 22: Nobita to Tsubasa no Yuusha-tachi"
          ],
          [
           "UNKNOWN",
           "Doraemon Movie 23: Nobita to Robot Kingdom"
          ],
          [
           "Shin-Ei Animation",
           "Doraemon Movie 08: Nobita to Ryuu no Kishi"
          ],
          [
           "UNKNOWN",
           "Doraemon Movie 13: Nobita to Kumo no Oukoku"
          ],
          [
           "Shin-Ei Animation",
           "Doraemon Movie 19: Nobita no Nankai Daibouken"
          ],
          [
           "UNKNOWN",
           "Doraemon Movie 20: Nobita no Uchuu Hyouryuuki"
          ],
          [
           "Shin-Ei Animation",
           "Doraemon Movie 06: Nobita no Little Star Wars"
          ],
          [
           "UNKNOWN",
           "Doraemon Movie 12: Nobita no Dorabian Nights"
          ],
          [
           "Shin-Ei Animation",
           "Doraemon Movie 03: Nobita no Daimakyou"
          ],
          [
           "Shin-Ei Animation",
           "Doraemon Movie 17: Nobita to Ginga Express"
          ],
          [
           "UNKNOWN",
           "Doraemon Movie 15: Nobita to Mugen Sankenshi"
          ],
          [
           "Shin-Ei Animation",
           "Doraemon Movie 11: Nobita to Animal Planet"
          ],
          [
           "Studio Jam",
           "Kurai Mirai"
          ],
          [
           "Piko Studio",
           "In no Houteishiki"
          ],
          [
           "Arms, Triple X",
           "Dark Shell: Ori no Naka no Namameki"
          ],
          [
           "Kyushu Network Animation",
           "Heartwork: Symphony of Destruction"
          ],
          [
           "Y.O.U.C",
           "Shokuzai no Kyoushitsu"
          ],
          [
           "Y.O.U.C",
           "Hissatsu Chikan Nin"
          ],
          [
           "Toei Animation",
           "Utsunomiko: Heaven Chapter"
          ],
          [
           "Bones",
           "Darker than Black: Ryuusei no Gemini"
          ],
          [
           "Bones",
           "Darker than Black: Kuro no Keiyakusha Gaiden"
          ],
          [
           "Toei Animation",
           "One Piece Film: Strong World Episode 0"
          ],
          [
           "Sunrise",
           "Zero Tester: Chikyuu wo Mamore!"
          ],
          [
           "UNKNOWN",
           "Skyers 5"
          ],
          [
           "Mushi Production",
           "Wanpaku Tanteidan"
          ],
          [
           "Xebec",
           "Rinne no Lagrange Season 2"
          ],
          [
           "Eiken",
           "Yuusei Kamen"
          ],
          [
           "Toei Animation",
           "Kamen no Ninja Akakage"
          ],
          [
           "UNKNOWN",
           "Instant History"
          ],
          [
           "Triangle Staff",
           "Shinkai Densetsu Meremanoid"
          ],
          [
           "Tatsunoko Production",
           "Dokachin"
          ],
          [
           "UNKNOWN",
           "Tetsuwan Atom: Ao Kishi no Kan"
          ],
          [
           "Tokyo Movie Shinsha",
           "Takarajima Movie"
          ],
          [
           "Knack Productions",
           "Shin Don Chuck Monogatari"
          ],
          [
           "UNKNOWN",
           "Dolittle-sensei Monogatari"
          ],
          [
           "Asahi Production",
           "Sugar Bunnies: Taisetsu na Tomodachi e..."
          ],
          [
           "UNKNOWN",
           "Shin Gakkou no Yuurei"
          ],
          [
           "UNKNOWN",
           "Controller of Controller"
          ],
          [
           "Studio 4°C",
           "Street Fighter IV: Aftermath"
          ],
          [
           "Shin-Ei Animation",
           "Mashiro no Oto"
          ],
          [
           "UNKNOWN",
           "LaLaLa, Brothers"
          ],
          [
           "UNKNOWN",
           "One Piece Characters Log"
          ],
          [
           "STUDIO6'oN",
           "Suisei no Freyline: Prologue"
          ],
          [
           "Tokyo Movie Shinsha",
           "Akira"
          ],
          [
           "Madhouse",
           "Black Lagoon: The Second Barrage"
          ],
          [
           "Sunrise",
           "Cowboy Bebop"
          ],
          [
           "Toei Animation",
           "Dragon Ball Z"
          ],
          [
           "Arms",
           "Elfen Lied"
          ],
          [
           "Gonzo",
           "Full Metal Panic!"
          ],
          [
           "Bones",
           "Fullmetal Alchemist"
          ],
          [
           "Actas",
           "Girls & Panzer"
          ],
          [
           "Madhouse",
           "Hajime no Ippo"
          ],
          [
           "Studio Ghibli",
           "Howl no Ugoku Shiro"
          ],
          [
           "AIC ASTA",
           "Jinrui wa Suitai Shimashita"
          ],
          [
           "White Fox",
           "Jormungand"
          ],
          [
           "Platinum Vision",
           "Koroshi Ai"
          ],
          [
           "Toei Animation",
           "One Piece"
          ],
          [
           "Toei Animation",
           "One Piece Movie 09: Episode of Chopper Plus - Fuyu ni Saku, Kiseki no Sakura"
          ],
          [
           "Toei Animation",
           "One Piece: Romance Dawn Story"
          ],
          [
           "Eshoya Honpo",
           "Requiem"
          ],
          [
           "Manglobe",
           "Samurai Champloo"
          ],
          [
           "Studio Deen",
           "Samurai Deeper Kyou"
          ],
          [
           "Toei Animation",
           "Shounen Ninja Kaze no Fujimaru"
          ],
          [
           "Production I.G, Madhouse",
           "Teki wa Kaizoku: Neko-tachi no Kyouen"
          ],
          [
           "A-1 Pictures",
           "Vividred Operation"
          ],
          [
           "Brain's Base",
           "Baccano!"
          ],
          [
           "Shaft",
           "Bakemonogatari"
          ],
          [
           "Gonzo",
           "Basilisk: Kouga Ninpou Chou"
          ],
          [
           "Madhouse",
           "Black Lagoon"
          ],
          [
           "Madhouse",
           "Black Lagoon: Roberta's Blood Trail"
          ],
          [
           "Pierrot",
           "Bleach"
          ],
          [
           "P.A. Works",
           "Canaan"
          ],
          [
           "Madhouse",
           "Claymore"
          ],
          [
           "Sunrise",
           "Code Geass: Hangyaku no Lelouch"
          ],
          [
           "Sunrise",
           "Code Geass: Hangyaku no Lelouch R2"
          ],
          [
           "Madhouse",
           "Death Note"
          ],
          [
           "Shin-Ei Animation",
           "Doraemon Movie 10: Nobita no Nippon Tanjou"
          ],
          [
           "Gainax, Production I.G",
           "FLCL"
          ],
          [
           "Satelight, A-1 Pictures",
           "Fairy Tail"
          ],
          [
           "ufotable",
           "Fate/Zero"
          ],
          [
           "TMS Entertainment",
           "Flanders no Inu, Boku no Patrasche"
          ],
          [
           "Kyoto Animation",
           "Full Metal Panic! The Second Raid"
          ],
          [
           "Bones",
           "Fullmetal Alchemist: Brotherhood"
          ],
          [
           "Madhouse",
           "Gungrave"
          ],
          [
           "Science SARU",
           "Heike Monogatari"
          ],
          [
           "Bakken Record",
           "Jouran: The Princess of Snow and Blood"
          ],
          [
           "PINE JAM",
           "Kageki Shoujo!!"
          ],
          [
           "Production I.G",
           "Kaizoku Oujo"
          ],
          [
           "Sunrise",
           "Kyoukaisenjou no Horizon"
          ],
          [
           "Gonzo",
           "Last Exile"
          ],
          [
           "Gainax",
           "Medaka Box"
          ],
          [
           "Satelight",
           "Mouretsu Pirates"
          ],
          [
           "Satelight",
           "Mouretsu Pirates: Abyss of Hyperspace"
          ],
          [
           "Pierrot",
           "Naruto"
          ],
          [
           "Pierrot",
           "Naruto: Shippuuden"
          ],
          [
           "Toei Animation",
           "One Piece Movie 03: Chinjuu-jima no Chopper Oukoku"
          ],
          [
           "Toei Animation",
           "One Piece Movie 05: Norowareta Seiken"
          ],
          [
           "Toei Animation",
           "One Piece Movie 06: Omatsuri Danshaku to Himitsu no Shima"
          ],
          [
           "Toei Animation",
           "One Piece Movie 07: Karakuri-jou no Mecha Kyohei"
          ],
          [
           "Toei Animation",
           "One Piece Movie 08: Episode of Alabasta - Sabaku no Oujo to Kaizoku-tachi"
          ],
          [
           "Toei Animation",
           "One Piece: Umi no Heso no Daibouken-hen"
          ],
          [
           "Xebec",
           "Rinne no Lagrange"
          ],
          [
           "Gallop, Studio Deen",
           "Rurouni Kenshin: Meiji Kenkaku Romantan"
          ],
          [
           "Children's Playground Entertainment",
           "Saihate no Paladin"
          ],
          [
           "Satelight",
           "Sakugan"
          ],
          [
           "Gonzo",
           "Samurai 7"
          ],
          [
           "Satelight, Encourage Films",
           "Senki Zesshou Symphogear"
          ],
          [
           "P.A. Works",
           "Shiroi Suna no Aquatope"
          ],
          [
           "Madhouse, MAPPA",
           "Takt Op. Destiny"
          ],
          [
           "Madhouse",
           "Trigun"
          ],
          [
           "Gonzo",
           "Trinity Blood"
          ],
          [
           "Xebec",
           "Upotte!!"
          ],
          [
           "Bones",
           "Vanitas no Karte Part 2"
          ]
         ],
         "hovertemplate": "<b>%{customdata[1]}</b><br>Studios: %{customdata[0]}<br><extra></extra>",
         "legendgroup": "none",
         "marker": {
          "color": "#636efa",
          "symbol": "circle"
         },
         "mode": "markers",
         "name": "none",
         "orientation": "v",
         "showlegend": true,
         "type": "scatter",
         "x": [
          7.261731
         ],
         "xaxis": "x",
         "y": [
          6.5878315
         ],
         "yaxis": "y"
        },
        {
         "customdata": [
          [
           "user query",
           "user query"
          ],
          [
           "Toei Animation",
           "One Piece: Oounabara ni Hirake! Dekkai Dekkai Chichi no Yume!"
          ],
          [
           "Toei Animation",
           "One Piece: Nenmatsu Tokubetsu Kikaku! Mugiwara no Luffy Oyabun Torimonochou"
          ],
          [
           "Bones",
           "Darker than Black: Kuro no Keiyakusha"
          ],
          [
           "Y.O.U.C",
           "Gakuen no Shuryousha"
          ],
          [
           "Himajin Planning",
           "Kisaku Spirit"
          ],
          [
           "Studio Fantasia",
           "Lingeries"
          ],
          [
           "Studio 9 Maiami",
           "Itazura The Animation"
          ],
          [
           "UNKNOWN",
           "Dorami & Doraemons: Robot School's Seven Mysteries"
          ],
          [
           "Shin-Ei Animation",
           "Doraemon: The Day When I Was Born"
          ],
          [
           "UNKNOWN",
           "Doraemon Movie 22: Nobita to Tsubasa no Yuusha-tachi"
          ],
          [
           "UNKNOWN",
           "Doraemon Movie 23: Nobita to Robot Kingdom"
          ],
          [
           "Shin-Ei Animation",
           "Doraemon Movie 08: Nobita to Ryuu no Kishi"
          ],
          [
           "UNKNOWN",
           "Doraemon Movie 13: Nobita to Kumo no Oukoku"
          ],
          [
           "Shin-Ei Animation",
           "Doraemon Movie 19: Nobita no Nankai Daibouken"
          ],
          [
           "UNKNOWN",
           "Doraemon Movie 20: Nobita no Uchuu Hyouryuuki"
          ],
          [
           "Shin-Ei Animation",
           "Doraemon Movie 06: Nobita no Little Star Wars"
          ],
          [
           "UNKNOWN",
           "Doraemon Movie 12: Nobita no Dorabian Nights"
          ],
          [
           "Shin-Ei Animation",
           "Doraemon Movie 03: Nobita no Daimakyou"
          ],
          [
           "Shin-Ei Animation",
           "Doraemon Movie 17: Nobita to Ginga Express"
          ],
          [
           "UNKNOWN",
           "Doraemon Movie 15: Nobita to Mugen Sankenshi"
          ],
          [
           "Shin-Ei Animation",
           "Doraemon Movie 11: Nobita to Animal Planet"
          ],
          [
           "Studio Jam",
           "Kurai Mirai"
          ],
          [
           "Piko Studio",
           "In no Houteishiki"
          ],
          [
           "Arms, Triple X",
           "Dark Shell: Ori no Naka no Namameki"
          ],
          [
           "Kyushu Network Animation",
           "Heartwork: Symphony of Destruction"
          ],
          [
           "Y.O.U.C",
           "Shokuzai no Kyoushitsu"
          ],
          [
           "Y.O.U.C",
           "Hissatsu Chikan Nin"
          ],
          [
           "Toei Animation",
           "Utsunomiko: Heaven Chapter"
          ],
          [
           "Bones",
           "Darker than Black: Ryuusei no Gemini"
          ],
          [
           "Bones",
           "Darker than Black: Kuro no Keiyakusha Gaiden"
          ],
          [
           "Toei Animation",
           "One Piece Film: Strong World Episode 0"
          ],
          [
           "Sunrise",
           "Zero Tester: Chikyuu wo Mamore!"
          ],
          [
           "UNKNOWN",
           "Skyers 5"
          ],
          [
           "Mushi Production",
           "Wanpaku Tanteidan"
          ],
          [
           "Xebec",
           "Rinne no Lagrange Season 2"
          ],
          [
           "Eiken",
           "Yuusei Kamen"
          ],
          [
           "Toei Animation",
           "Kamen no Ninja Akakage"
          ],
          [
           "UNKNOWN",
           "Instant History"
          ],
          [
           "Triangle Staff",
           "Shinkai Densetsu Meremanoid"
          ],
          [
           "Tatsunoko Production",
           "Dokachin"
          ],
          [
           "UNKNOWN",
           "Tetsuwan Atom: Ao Kishi no Kan"
          ],
          [
           "Tokyo Movie Shinsha",
           "Takarajima Movie"
          ],
          [
           "Knack Productions",
           "Shin Don Chuck Monogatari"
          ],
          [
           "UNKNOWN",
           "Dolittle-sensei Monogatari"
          ],
          [
           "Asahi Production",
           "Sugar Bunnies: Taisetsu na Tomodachi e..."
          ],
          [
           "UNKNOWN",
           "Shin Gakkou no Yuurei"
          ],
          [
           "UNKNOWN",
           "Controller of Controller"
          ],
          [
           "Studio 4°C",
           "Street Fighter IV: Aftermath"
          ],
          [
           "Shin-Ei Animation",
           "Mashiro no Oto"
          ],
          [
           "UNKNOWN",
           "LaLaLa, Brothers"
          ],
          [
           "UNKNOWN",
           "One Piece Characters Log"
          ],
          [
           "STUDIO6'oN",
           "Suisei no Freyline: Prologue"
          ],
          [
           "Tokyo Movie Shinsha",
           "Akira"
          ],
          [
           "Madhouse",
           "Black Lagoon: The Second Barrage"
          ],
          [
           "Sunrise",
           "Cowboy Bebop"
          ],
          [
           "Toei Animation",
           "Dragon Ball Z"
          ],
          [
           "Arms",
           "Elfen Lied"
          ],
          [
           "Gonzo",
           "Full Metal Panic!"
          ],
          [
           "Bones",
           "Fullmetal Alchemist"
          ],
          [
           "Actas",
           "Girls & Panzer"
          ],
          [
           "Madhouse",
           "Hajime no Ippo"
          ],
          [
           "Studio Ghibli",
           "Howl no Ugoku Shiro"
          ],
          [
           "AIC ASTA",
           "Jinrui wa Suitai Shimashita"
          ],
          [
           "White Fox",
           "Jormungand"
          ],
          [
           "Platinum Vision",
           "Koroshi Ai"
          ],
          [
           "Toei Animation",
           "One Piece"
          ],
          [
           "Toei Animation",
           "One Piece Movie 09: Episode of Chopper Plus - Fuyu ni Saku, Kiseki no Sakura"
          ],
          [
           "Toei Animation",
           "One Piece: Romance Dawn Story"
          ],
          [
           "Eshoya Honpo",
           "Requiem"
          ],
          [
           "Manglobe",
           "Samurai Champloo"
          ],
          [
           "Studio Deen",
           "Samurai Deeper Kyou"
          ],
          [
           "Toei Animation",
           "Shounen Ninja Kaze no Fujimaru"
          ],
          [
           "Production I.G, Madhouse",
           "Teki wa Kaizoku: Neko-tachi no Kyouen"
          ],
          [
           "A-1 Pictures",
           "Vividred Operation"
          ],
          [
           "Brain's Base",
           "Baccano!"
          ],
          [
           "Shaft",
           "Bakemonogatari"
          ],
          [
           "Gonzo",
           "Basilisk: Kouga Ninpou Chou"
          ],
          [
           "Madhouse",
           "Black Lagoon"
          ],
          [
           "Madhouse",
           "Black Lagoon: Roberta's Blood Trail"
          ],
          [
           "Pierrot",
           "Bleach"
          ],
          [
           "P.A. Works",
           "Canaan"
          ],
          [
           "Madhouse",
           "Claymore"
          ],
          [
           "Sunrise",
           "Code Geass: Hangyaku no Lelouch"
          ],
          [
           "Sunrise",
           "Code Geass: Hangyaku no Lelouch R2"
          ],
          [
           "Madhouse",
           "Death Note"
          ],
          [
           "Shin-Ei Animation",
           "Doraemon Movie 10: Nobita no Nippon Tanjou"
          ],
          [
           "Gainax, Production I.G",
           "FLCL"
          ],
          [
           "Satelight, A-1 Pictures",
           "Fairy Tail"
          ],
          [
           "ufotable",
           "Fate/Zero"
          ],
          [
           "TMS Entertainment",
           "Flanders no Inu, Boku no Patrasche"
          ],
          [
           "Kyoto Animation",
           "Full Metal Panic! The Second Raid"
          ],
          [
           "Bones",
           "Fullmetal Alchemist: Brotherhood"
          ],
          [
           "Madhouse",
           "Gungrave"
          ],
          [
           "Science SARU",
           "Heike Monogatari"
          ],
          [
           "Bakken Record",
           "Jouran: The Princess of Snow and Blood"
          ],
          [
           "PINE JAM",
           "Kageki Shoujo!!"
          ],
          [
           "Production I.G",
           "Kaizoku Oujo"
          ],
          [
           "Sunrise",
           "Kyoukaisenjou no Horizon"
          ],
          [
           "Gonzo",
           "Last Exile"
          ],
          [
           "Gainax",
           "Medaka Box"
          ],
          [
           "Satelight",
           "Mouretsu Pirates"
          ],
          [
           "Satelight",
           "Mouretsu Pirates: Abyss of Hyperspace"
          ],
          [
           "Pierrot",
           "Naruto"
          ],
          [
           "Pierrot",
           "Naruto: Shippuuden"
          ],
          [
           "Toei Animation",
           "One Piece Movie 03: Chinjuu-jima no Chopper Oukoku"
          ],
          [
           "Toei Animation",
           "One Piece Movie 05: Norowareta Seiken"
          ],
          [
           "Toei Animation",
           "One Piece Movie 06: Omatsuri Danshaku to Himitsu no Shima"
          ],
          [
           "Toei Animation",
           "One Piece Movie 07: Karakuri-jou no Mecha Kyohei"
          ],
          [
           "Toei Animation",
           "One Piece Movie 08: Episode of Alabasta - Sabaku no Oujo to Kaizoku-tachi"
          ],
          [
           "Toei Animation",
           "One Piece: Umi no Heso no Daibouken-hen"
          ],
          [
           "Xebec",
           "Rinne no Lagrange"
          ],
          [
           "Gallop, Studio Deen",
           "Rurouni Kenshin: Meiji Kenkaku Romantan"
          ],
          [
           "Children's Playground Entertainment",
           "Saihate no Paladin"
          ],
          [
           "Satelight",
           "Sakugan"
          ],
          [
           "Gonzo",
           "Samurai 7"
          ],
          [
           "Satelight, Encourage Films",
           "Senki Zesshou Symphogear"
          ],
          [
           "P.A. Works",
           "Shiroi Suna no Aquatope"
          ],
          [
           "Madhouse, MAPPA",
           "Takt Op. Destiny"
          ],
          [
           "Madhouse",
           "Trigun"
          ],
          [
           "Gonzo",
           "Trinity Blood"
          ],
          [
           "Xebec",
           "Upotte!!"
          ],
          [
           "Bones",
           "Vanitas no Karte Part 2"
          ]
         ],
         "hovertemplate": "<b>%{customdata[1]}</b><br>Studios: %{customdata[0]}<br><extra></extra>",
         "legendgroup": "collab_filter",
         "marker": {
          "color": "#EF553B",
          "symbol": "circle"
         },
         "mode": "markers",
         "name": "collab_filter",
         "orientation": "v",
         "showlegend": true,
         "type": "scatter",
         "x": [
          7.32862,
          6.7372127,
          6.730055,
          7.9374356,
          7.0779324,
          9.886352,
          9.669166,
          10.015044,
          9.912292,
          9.775902,
          10.022349,
          9.773538,
          9.750124,
          9.503919,
          10.664019,
          9.243738,
          9.651068,
          6.1356773,
          7.939007,
          6.8382955,
          6.315568,
          6.2219133,
          6.539584,
          7.757558,
          6.762148,
          6.674421,
          7.381515,
          10.602956,
          10.482589,
          9.060505,
          8.548613,
          7.3165083,
          8.017939,
          9.284612,
          6.9397626,
          6.768375,
          10.356128,
          9.513469,
          7.207219,
          10.323807,
          6.6498413,
          10.325155,
          9.975839,
          10.223068,
          8.829713,
          8.303327,
          9.701721,
          8.145448,
          7.6211257,
          8.920096,
          9.919468,
          7.164965,
          6.2386823,
          7.033062,
          9.795513,
          7.477254,
          8.404203,
          7.9329367,
          10.075683,
          5.500924,
          8.334932,
          8.656834,
          8.273206,
          7.815426,
          8.828941,
          7.2500653,
          7.48193,
          9.593077,
          8.6715975,
          7.4869375,
          7.4392605,
          5.325801,
          5.407283,
          8.920863,
          8.772062,
          8.940208,
          9.7374735,
          5.969485,
          8.751728,
          8.150939,
          7.9151235,
          7.811995,
          6.716231,
          6.7630286,
          7.050772,
          7.100698,
          6.8935456,
          6.8593674,
          8.707415,
          8.180837,
          7.7892075,
          6.680407,
          8.905905,
          8.361902,
          9.955508,
          6.184788,
          7.236086,
          8.721606,
          9.321761
         ],
         "xaxis": "x",
         "y": [
          6.435749,
          4.54655,
          0.5233742,
          1.4983186,
          0.39464846,
          6.658221,
          2.322942,
          5.812245,
          6.634652,
          6.473812,
          5.8912077,
          6.2130485,
          6.213556,
          5.753091,
          3.0422573,
          6.0462227,
          5.848496,
          0.06794845,
          0.6311002,
          4.0497136,
          2.5708654,
          0.13280793,
          0.3229489,
          1.4597498,
          0.90135485,
          1.1013119,
          5.8331795,
          3.1603625,
          3.0904648,
          2.908285,
          0.418924,
          3.5693698,
          2.7235863,
          2.366571,
          4.413381,
          2.321531,
          2.9325044,
          2.5925624,
          6.620028,
          2.4366775,
          5.6635246,
          2.692899,
          3.0012531,
          2.9431388,
          1.5878695,
          2.2754538,
          2.0848744,
          2.304042,
          3.0451033,
          2.253185,
          1.0713483,
          3.347142,
          2.7259922,
          5.440155,
          2.859726,
          2.5032864,
          2.8309977,
          2.524894,
          5.338187,
          2.993683,
          1.5065594,
          2.5013607,
          1.260984,
          0.6731138,
          3.8028636,
          4.068605,
          1.3678223,
          5.899649,
          4.5267587,
          2.507775,
          3.1001918,
          3.1918745,
          3.2880607,
          1.9265833,
          2.4539118,
          0.98945576,
          1.0044763,
          2.7637024,
          0.6184422,
          0.9132724,
          2.0709107,
          2.194669,
          4.9251895,
          4.8599243,
          6.133232,
          5.3932915,
          5.1944914,
          5.366665,
          0.5424866,
          2.5228515,
          1.7644634,
          1.6698701,
          2.3434777,
          0.53643537,
          1.0820013,
          2.7720387,
          4.4203258,
          1.9199028,
          5.821929
         ],
         "yaxis": "y"
        },
        {
         "customdata": [
          [
           "user query",
           "user query"
          ],
          [
           "Toei Animation",
           "One Piece: Oounabara ni Hirake! Dekkai Dekkai Chichi no Yume!"
          ],
          [
           "Toei Animation",
           "One Piece: Nenmatsu Tokubetsu Kikaku! Mugiwara no Luffy Oyabun Torimonochou"
          ],
          [
           "Bones",
           "Darker than Black: Kuro no Keiyakusha"
          ],
          [
           "Y.O.U.C",
           "Gakuen no Shuryousha"
          ],
          [
           "Himajin Planning",
           "Kisaku Spirit"
          ],
          [
           "Studio Fantasia",
           "Lingeries"
          ],
          [
           "Studio 9 Maiami",
           "Itazura The Animation"
          ],
          [
           "UNKNOWN",
           "Dorami & Doraemons: Robot School's Seven Mysteries"
          ],
          [
           "Shin-Ei Animation",
           "Doraemon: The Day When I Was Born"
          ],
          [
           "UNKNOWN",
           "Doraemon Movie 22: Nobita to Tsubasa no Yuusha-tachi"
          ],
          [
           "UNKNOWN",
           "Doraemon Movie 23: Nobita to Robot Kingdom"
          ],
          [
           "Shin-Ei Animation",
           "Doraemon Movie 08: Nobita to Ryuu no Kishi"
          ],
          [
           "UNKNOWN",
           "Doraemon Movie 13: Nobita to Kumo no Oukoku"
          ],
          [
           "Shin-Ei Animation",
           "Doraemon Movie 19: Nobita no Nankai Daibouken"
          ],
          [
           "UNKNOWN",
           "Doraemon Movie 20: Nobita no Uchuu Hyouryuuki"
          ],
          [
           "Shin-Ei Animation",
           "Doraemon Movie 06: Nobita no Little Star Wars"
          ],
          [
           "UNKNOWN",
           "Doraemon Movie 12: Nobita no Dorabian Nights"
          ],
          [
           "Shin-Ei Animation",
           "Doraemon Movie 03: Nobita no Daimakyou"
          ],
          [
           "Shin-Ei Animation",
           "Doraemon Movie 17: Nobita to Ginga Express"
          ],
          [
           "UNKNOWN",
           "Doraemon Movie 15: Nobita to Mugen Sankenshi"
          ],
          [
           "Shin-Ei Animation",
           "Doraemon Movie 11: Nobita to Animal Planet"
          ],
          [
           "Studio Jam",
           "Kurai Mirai"
          ],
          [
           "Piko Studio",
           "In no Houteishiki"
          ],
          [
           "Arms, Triple X",
           "Dark Shell: Ori no Naka no Namameki"
          ],
          [
           "Kyushu Network Animation",
           "Heartwork: Symphony of Destruction"
          ],
          [
           "Y.O.U.C",
           "Shokuzai no Kyoushitsu"
          ],
          [
           "Y.O.U.C",
           "Hissatsu Chikan Nin"
          ],
          [
           "Toei Animation",
           "Utsunomiko: Heaven Chapter"
          ],
          [
           "Bones",
           "Darker than Black: Ryuusei no Gemini"
          ],
          [
           "Bones",
           "Darker than Black: Kuro no Keiyakusha Gaiden"
          ],
          [
           "Toei Animation",
           "One Piece Film: Strong World Episode 0"
          ],
          [
           "Sunrise",
           "Zero Tester: Chikyuu wo Mamore!"
          ],
          [
           "UNKNOWN",
           "Skyers 5"
          ],
          [
           "Mushi Production",
           "Wanpaku Tanteidan"
          ],
          [
           "Xebec",
           "Rinne no Lagrange Season 2"
          ],
          [
           "Eiken",
           "Yuusei Kamen"
          ],
          [
           "Toei Animation",
           "Kamen no Ninja Akakage"
          ],
          [
           "UNKNOWN",
           "Instant History"
          ],
          [
           "Triangle Staff",
           "Shinkai Densetsu Meremanoid"
          ],
          [
           "Tatsunoko Production",
           "Dokachin"
          ],
          [
           "UNKNOWN",
           "Tetsuwan Atom: Ao Kishi no Kan"
          ],
          [
           "Tokyo Movie Shinsha",
           "Takarajima Movie"
          ],
          [
           "Knack Productions",
           "Shin Don Chuck Monogatari"
          ],
          [
           "UNKNOWN",
           "Dolittle-sensei Monogatari"
          ],
          [
           "Asahi Production",
           "Sugar Bunnies: Taisetsu na Tomodachi e..."
          ],
          [
           "UNKNOWN",
           "Shin Gakkou no Yuurei"
          ],
          [
           "UNKNOWN",
           "Controller of Controller"
          ],
          [
           "Studio 4°C",
           "Street Fighter IV: Aftermath"
          ],
          [
           "Shin-Ei Animation",
           "Mashiro no Oto"
          ],
          [
           "UNKNOWN",
           "LaLaLa, Brothers"
          ],
          [
           "UNKNOWN",
           "One Piece Characters Log"
          ],
          [
           "STUDIO6'oN",
           "Suisei no Freyline: Prologue"
          ],
          [
           "Tokyo Movie Shinsha",
           "Akira"
          ],
          [
           "Madhouse",
           "Black Lagoon: The Second Barrage"
          ],
          [
           "Sunrise",
           "Cowboy Bebop"
          ],
          [
           "Toei Animation",
           "Dragon Ball Z"
          ],
          [
           "Arms",
           "Elfen Lied"
          ],
          [
           "Gonzo",
           "Full Metal Panic!"
          ],
          [
           "Bones",
           "Fullmetal Alchemist"
          ],
          [
           "Actas",
           "Girls & Panzer"
          ],
          [
           "Madhouse",
           "Hajime no Ippo"
          ],
          [
           "Studio Ghibli",
           "Howl no Ugoku Shiro"
          ],
          [
           "AIC ASTA",
           "Jinrui wa Suitai Shimashita"
          ],
          [
           "White Fox",
           "Jormungand"
          ],
          [
           "Platinum Vision",
           "Koroshi Ai"
          ],
          [
           "Toei Animation",
           "One Piece"
          ],
          [
           "Toei Animation",
           "One Piece Movie 09: Episode of Chopper Plus - Fuyu ni Saku, Kiseki no Sakura"
          ],
          [
           "Toei Animation",
           "One Piece: Romance Dawn Story"
          ],
          [
           "Eshoya Honpo",
           "Requiem"
          ],
          [
           "Manglobe",
           "Samurai Champloo"
          ],
          [
           "Studio Deen",
           "Samurai Deeper Kyou"
          ],
          [
           "Toei Animation",
           "Shounen Ninja Kaze no Fujimaru"
          ],
          [
           "Production I.G, Madhouse",
           "Teki wa Kaizoku: Neko-tachi no Kyouen"
          ],
          [
           "A-1 Pictures",
           "Vividred Operation"
          ],
          [
           "Brain's Base",
           "Baccano!"
          ],
          [
           "Shaft",
           "Bakemonogatari"
          ],
          [
           "Gonzo",
           "Basilisk: Kouga Ninpou Chou"
          ],
          [
           "Madhouse",
           "Black Lagoon"
          ],
          [
           "Madhouse",
           "Black Lagoon: Roberta's Blood Trail"
          ],
          [
           "Pierrot",
           "Bleach"
          ],
          [
           "P.A. Works",
           "Canaan"
          ],
          [
           "Madhouse",
           "Claymore"
          ],
          [
           "Sunrise",
           "Code Geass: Hangyaku no Lelouch"
          ],
          [
           "Sunrise",
           "Code Geass: Hangyaku no Lelouch R2"
          ],
          [
           "Madhouse",
           "Death Note"
          ],
          [
           "Shin-Ei Animation",
           "Doraemon Movie 10: Nobita no Nippon Tanjou"
          ],
          [
           "Gainax, Production I.G",
           "FLCL"
          ],
          [
           "Satelight, A-1 Pictures",
           "Fairy Tail"
          ],
          [
           "ufotable",
           "Fate/Zero"
          ],
          [
           "TMS Entertainment",
           "Flanders no Inu, Boku no Patrasche"
          ],
          [
           "Kyoto Animation",
           "Full Metal Panic! The Second Raid"
          ],
          [
           "Bones",
           "Fullmetal Alchemist: Brotherhood"
          ],
          [
           "Madhouse",
           "Gungrave"
          ],
          [
           "Science SARU",
           "Heike Monogatari"
          ],
          [
           "Bakken Record",
           "Jouran: The Princess of Snow and Blood"
          ],
          [
           "PINE JAM",
           "Kageki Shoujo!!"
          ],
          [
           "Production I.G",
           "Kaizoku Oujo"
          ],
          [
           "Sunrise",
           "Kyoukaisenjou no Horizon"
          ],
          [
           "Gonzo",
           "Last Exile"
          ],
          [
           "Gainax",
           "Medaka Box"
          ],
          [
           "Satelight",
           "Mouretsu Pirates"
          ],
          [
           "Satelight",
           "Mouretsu Pirates: Abyss of Hyperspace"
          ],
          [
           "Pierrot",
           "Naruto"
          ],
          [
           "Pierrot",
           "Naruto: Shippuuden"
          ],
          [
           "Toei Animation",
           "One Piece Movie 03: Chinjuu-jima no Chopper Oukoku"
          ],
          [
           "Toei Animation",
           "One Piece Movie 05: Norowareta Seiken"
          ],
          [
           "Toei Animation",
           "One Piece Movie 06: Omatsuri Danshaku to Himitsu no Shima"
          ],
          [
           "Toei Animation",
           "One Piece Movie 07: Karakuri-jou no Mecha Kyohei"
          ],
          [
           "Toei Animation",
           "One Piece Movie 08: Episode of Alabasta - Sabaku no Oujo to Kaizoku-tachi"
          ],
          [
           "Toei Animation",
           "One Piece: Umi no Heso no Daibouken-hen"
          ],
          [
           "Xebec",
           "Rinne no Lagrange"
          ],
          [
           "Gallop, Studio Deen",
           "Rurouni Kenshin: Meiji Kenkaku Romantan"
          ],
          [
           "Children's Playground Entertainment",
           "Saihate no Paladin"
          ],
          [
           "Satelight",
           "Sakugan"
          ],
          [
           "Gonzo",
           "Samurai 7"
          ],
          [
           "Satelight, Encourage Films",
           "Senki Zesshou Symphogear"
          ],
          [
           "P.A. Works",
           "Shiroi Suna no Aquatope"
          ],
          [
           "Madhouse, MAPPA",
           "Takt Op. Destiny"
          ],
          [
           "Madhouse",
           "Trigun"
          ],
          [
           "Gonzo",
           "Trinity Blood"
          ],
          [
           "Xebec",
           "Upotte!!"
          ],
          [
           "Bones",
           "Vanitas no Karte Part 2"
          ]
         ],
         "hovertemplate": "<b>%{customdata[1]}</b><br>Studios: %{customdata[0]}<br><extra></extra>",
         "legendgroup": "pop_rec",
         "marker": {
          "color": "yellow",
          "size": 12,
          "symbol": "star"
         },
         "mode": "markers",
         "name": "pop_rec",
         "orientation": "v",
         "showlegend": true,
         "type": "scatter",
         "x": [
          6.723134,
          9.148605,
          10.094478,
          8.814739,
          5.342206,
          7.666029,
          8.623886,
          7.206206,
          7.2990465,
          8.65072
         ],
         "xaxis": "x",
         "y": [
          1.2123004,
          2.809753,
          1.2388546,
          4.429026,
          3.1549394,
          2.4201665,
          4.60649,
          6.117181,
          4.1120763,
          1.7831035
         ],
         "yaxis": "y"
        },
        {
         "customdata": [
          [
           "user query",
           "user query"
          ],
          [
           "Toei Animation",
           "One Piece: Oounabara ni Hirake! Dekkai Dekkai Chichi no Yume!"
          ],
          [
           "Toei Animation",
           "One Piece: Nenmatsu Tokubetsu Kikaku! Mugiwara no Luffy Oyabun Torimonochou"
          ],
          [
           "Bones",
           "Darker than Black: Kuro no Keiyakusha"
          ],
          [
           "Y.O.U.C",
           "Gakuen no Shuryousha"
          ],
          [
           "Himajin Planning",
           "Kisaku Spirit"
          ],
          [
           "Studio Fantasia",
           "Lingeries"
          ],
          [
           "Studio 9 Maiami",
           "Itazura The Animation"
          ],
          [
           "UNKNOWN",
           "Dorami & Doraemons: Robot School's Seven Mysteries"
          ],
          [
           "Shin-Ei Animation",
           "Doraemon: The Day When I Was Born"
          ],
          [
           "UNKNOWN",
           "Doraemon Movie 22: Nobita to Tsubasa no Yuusha-tachi"
          ],
          [
           "UNKNOWN",
           "Doraemon Movie 23: Nobita to Robot Kingdom"
          ],
          [
           "Shin-Ei Animation",
           "Doraemon Movie 08: Nobita to Ryuu no Kishi"
          ],
          [
           "UNKNOWN",
           "Doraemon Movie 13: Nobita to Kumo no Oukoku"
          ],
          [
           "Shin-Ei Animation",
           "Doraemon Movie 19: Nobita no Nankai Daibouken"
          ],
          [
           "UNKNOWN",
           "Doraemon Movie 20: Nobita no Uchuu Hyouryuuki"
          ],
          [
           "Shin-Ei Animation",
           "Doraemon Movie 06: Nobita no Little Star Wars"
          ],
          [
           "UNKNOWN",
           "Doraemon Movie 12: Nobita no Dorabian Nights"
          ],
          [
           "Shin-Ei Animation",
           "Doraemon Movie 03: Nobita no Daimakyou"
          ],
          [
           "Shin-Ei Animation",
           "Doraemon Movie 17: Nobita to Ginga Express"
          ],
          [
           "UNKNOWN",
           "Doraemon Movie 15: Nobita to Mugen Sankenshi"
          ],
          [
           "Shin-Ei Animation",
           "Doraemon Movie 11: Nobita to Animal Planet"
          ],
          [
           "Studio Jam",
           "Kurai Mirai"
          ],
          [
           "Piko Studio",
           "In no Houteishiki"
          ],
          [
           "Arms, Triple X",
           "Dark Shell: Ori no Naka no Namameki"
          ],
          [
           "Kyushu Network Animation",
           "Heartwork: Symphony of Destruction"
          ],
          [
           "Y.O.U.C",
           "Shokuzai no Kyoushitsu"
          ],
          [
           "Y.O.U.C",
           "Hissatsu Chikan Nin"
          ],
          [
           "Toei Animation",
           "Utsunomiko: Heaven Chapter"
          ],
          [
           "Bones",
           "Darker than Black: Ryuusei no Gemini"
          ],
          [
           "Bones",
           "Darker than Black: Kuro no Keiyakusha Gaiden"
          ],
          [
           "Toei Animation",
           "One Piece Film: Strong World Episode 0"
          ],
          [
           "Sunrise",
           "Zero Tester: Chikyuu wo Mamore!"
          ],
          [
           "UNKNOWN",
           "Skyers 5"
          ],
          [
           "Mushi Production",
           "Wanpaku Tanteidan"
          ],
          [
           "Xebec",
           "Rinne no Lagrange Season 2"
          ],
          [
           "Eiken",
           "Yuusei Kamen"
          ],
          [
           "Toei Animation",
           "Kamen no Ninja Akakage"
          ],
          [
           "UNKNOWN",
           "Instant History"
          ],
          [
           "Triangle Staff",
           "Shinkai Densetsu Meremanoid"
          ],
          [
           "Tatsunoko Production",
           "Dokachin"
          ],
          [
           "UNKNOWN",
           "Tetsuwan Atom: Ao Kishi no Kan"
          ],
          [
           "Tokyo Movie Shinsha",
           "Takarajima Movie"
          ],
          [
           "Knack Productions",
           "Shin Don Chuck Monogatari"
          ],
          [
           "UNKNOWN",
           "Dolittle-sensei Monogatari"
          ],
          [
           "Asahi Production",
           "Sugar Bunnies: Taisetsu na Tomodachi e..."
          ],
          [
           "UNKNOWN",
           "Shin Gakkou no Yuurei"
          ],
          [
           "UNKNOWN",
           "Controller of Controller"
          ],
          [
           "Studio 4°C",
           "Street Fighter IV: Aftermath"
          ],
          [
           "Shin-Ei Animation",
           "Mashiro no Oto"
          ],
          [
           "UNKNOWN",
           "LaLaLa, Brothers"
          ],
          [
           "UNKNOWN",
           "One Piece Characters Log"
          ],
          [
           "STUDIO6'oN",
           "Suisei no Freyline: Prologue"
          ],
          [
           "Tokyo Movie Shinsha",
           "Akira"
          ],
          [
           "Madhouse",
           "Black Lagoon: The Second Barrage"
          ],
          [
           "Sunrise",
           "Cowboy Bebop"
          ],
          [
           "Toei Animation",
           "Dragon Ball Z"
          ],
          [
           "Arms",
           "Elfen Lied"
          ],
          [
           "Gonzo",
           "Full Metal Panic!"
          ],
          [
           "Bones",
           "Fullmetal Alchemist"
          ],
          [
           "Actas",
           "Girls & Panzer"
          ],
          [
           "Madhouse",
           "Hajime no Ippo"
          ],
          [
           "Studio Ghibli",
           "Howl no Ugoku Shiro"
          ],
          [
           "AIC ASTA",
           "Jinrui wa Suitai Shimashita"
          ],
          [
           "White Fox",
           "Jormungand"
          ],
          [
           "Platinum Vision",
           "Koroshi Ai"
          ],
          [
           "Toei Animation",
           "One Piece"
          ],
          [
           "Toei Animation",
           "One Piece Movie 09: Episode of Chopper Plus - Fuyu ni Saku, Kiseki no Sakura"
          ],
          [
           "Toei Animation",
           "One Piece: Romance Dawn Story"
          ],
          [
           "Eshoya Honpo",
           "Requiem"
          ],
          [
           "Manglobe",
           "Samurai Champloo"
          ],
          [
           "Studio Deen",
           "Samurai Deeper Kyou"
          ],
          [
           "Toei Animation",
           "Shounen Ninja Kaze no Fujimaru"
          ],
          [
           "Production I.G, Madhouse",
           "Teki wa Kaizoku: Neko-tachi no Kyouen"
          ],
          [
           "A-1 Pictures",
           "Vividred Operation"
          ],
          [
           "Brain's Base",
           "Baccano!"
          ],
          [
           "Shaft",
           "Bakemonogatari"
          ],
          [
           "Gonzo",
           "Basilisk: Kouga Ninpou Chou"
          ],
          [
           "Madhouse",
           "Black Lagoon"
          ],
          [
           "Madhouse",
           "Black Lagoon: Roberta's Blood Trail"
          ],
          [
           "Pierrot",
           "Bleach"
          ],
          [
           "P.A. Works",
           "Canaan"
          ],
          [
           "Madhouse",
           "Claymore"
          ],
          [
           "Sunrise",
           "Code Geass: Hangyaku no Lelouch"
          ],
          [
           "Sunrise",
           "Code Geass: Hangyaku no Lelouch R2"
          ],
          [
           "Madhouse",
           "Death Note"
          ],
          [
           "Shin-Ei Animation",
           "Doraemon Movie 10: Nobita no Nippon Tanjou"
          ],
          [
           "Gainax, Production I.G",
           "FLCL"
          ],
          [
           "Satelight, A-1 Pictures",
           "Fairy Tail"
          ],
          [
           "ufotable",
           "Fate/Zero"
          ],
          [
           "TMS Entertainment",
           "Flanders no Inu, Boku no Patrasche"
          ],
          [
           "Kyoto Animation",
           "Full Metal Panic! The Second Raid"
          ],
          [
           "Bones",
           "Fullmetal Alchemist: Brotherhood"
          ],
          [
           "Madhouse",
           "Gungrave"
          ],
          [
           "Science SARU",
           "Heike Monogatari"
          ],
          [
           "Bakken Record",
           "Jouran: The Princess of Snow and Blood"
          ],
          [
           "PINE JAM",
           "Kageki Shoujo!!"
          ],
          [
           "Production I.G",
           "Kaizoku Oujo"
          ],
          [
           "Sunrise",
           "Kyoukaisenjou no Horizon"
          ],
          [
           "Gonzo",
           "Last Exile"
          ],
          [
           "Gainax",
           "Medaka Box"
          ],
          [
           "Satelight",
           "Mouretsu Pirates"
          ],
          [
           "Satelight",
           "Mouretsu Pirates: Abyss of Hyperspace"
          ],
          [
           "Pierrot",
           "Naruto"
          ],
          [
           "Pierrot",
           "Naruto: Shippuuden"
          ],
          [
           "Toei Animation",
           "One Piece Movie 03: Chinjuu-jima no Chopper Oukoku"
          ],
          [
           "Toei Animation",
           "One Piece Movie 05: Norowareta Seiken"
          ],
          [
           "Toei Animation",
           "One Piece Movie 06: Omatsuri Danshaku to Himitsu no Shima"
          ],
          [
           "Toei Animation",
           "One Piece Movie 07: Karakuri-jou no Mecha Kyohei"
          ],
          [
           "Toei Animation",
           "One Piece Movie 08: Episode of Alabasta - Sabaku no Oujo to Kaizoku-tachi"
          ],
          [
           "Toei Animation",
           "One Piece: Umi no Heso no Daibouken-hen"
          ],
          [
           "Xebec",
           "Rinne no Lagrange"
          ],
          [
           "Gallop, Studio Deen",
           "Rurouni Kenshin: Meiji Kenkaku Romantan"
          ],
          [
           "Children's Playground Entertainment",
           "Saihate no Paladin"
          ],
          [
           "Satelight",
           "Sakugan"
          ],
          [
           "Gonzo",
           "Samurai 7"
          ],
          [
           "Satelight, Encourage Films",
           "Senki Zesshou Symphogear"
          ],
          [
           "P.A. Works",
           "Shiroi Suna no Aquatope"
          ],
          [
           "Madhouse, MAPPA",
           "Takt Op. Destiny"
          ],
          [
           "Madhouse",
           "Trigun"
          ],
          [
           "Gonzo",
           "Trinity Blood"
          ],
          [
           "Xebec",
           "Upotte!!"
          ],
          [
           "Bones",
           "Vanitas no Karte Part 2"
          ]
         ],
         "hovertemplate": "<b>%{customdata[1]}</b><br>Studios: %{customdata[0]}<br><extra></extra>",
         "legendgroup": "vector_rec",
         "marker": {
          "color": "#ab63fa",
          "symbol": "circle"
         },
         "mode": "markers",
         "name": "vector_rec",
         "orientation": "v",
         "showlegend": true,
         "type": "scatter",
         "x": [
          6.784948,
          9.224214,
          9.414909,
          6.7875395,
          6.6074476,
          7.1010556,
          7.1007867,
          6.5468054,
          6.2886415,
          9.638544,
          7.100039,
          8.30036,
          8.316783
         ],
         "xaxis": "x",
         "y": [
          0.3741,
          6.489444,
          6.300823,
          5.5644555,
          3.097238,
          6.219198,
          6.279328,
          2.9186702,
          0.21096964,
          5.6086135,
          2.8068645,
          0.7085458,
          2.7259946
         ],
         "yaxis": "y"
        },
        {
         "customdata": [
          [
           "user query",
           "user query"
          ],
          [
           "Toei Animation",
           "One Piece: Oounabara ni Hirake! Dekkai Dekkai Chichi no Yume!"
          ],
          [
           "Toei Animation",
           "One Piece: Nenmatsu Tokubetsu Kikaku! Mugiwara no Luffy Oyabun Torimonochou"
          ],
          [
           "Bones",
           "Darker than Black: Kuro no Keiyakusha"
          ],
          [
           "Y.O.U.C",
           "Gakuen no Shuryousha"
          ],
          [
           "Himajin Planning",
           "Kisaku Spirit"
          ],
          [
           "Studio Fantasia",
           "Lingeries"
          ],
          [
           "Studio 9 Maiami",
           "Itazura The Animation"
          ],
          [
           "UNKNOWN",
           "Dorami & Doraemons: Robot School's Seven Mysteries"
          ],
          [
           "Shin-Ei Animation",
           "Doraemon: The Day When I Was Born"
          ],
          [
           "UNKNOWN",
           "Doraemon Movie 22: Nobita to Tsubasa no Yuusha-tachi"
          ],
          [
           "UNKNOWN",
           "Doraemon Movie 23: Nobita to Robot Kingdom"
          ],
          [
           "Shin-Ei Animation",
           "Doraemon Movie 08: Nobita to Ryuu no Kishi"
          ],
          [
           "UNKNOWN",
           "Doraemon Movie 13: Nobita to Kumo no Oukoku"
          ],
          [
           "Shin-Ei Animation",
           "Doraemon Movie 19: Nobita no Nankai Daibouken"
          ],
          [
           "UNKNOWN",
           "Doraemon Movie 20: Nobita no Uchuu Hyouryuuki"
          ],
          [
           "Shin-Ei Animation",
           "Doraemon Movie 06: Nobita no Little Star Wars"
          ],
          [
           "UNKNOWN",
           "Doraemon Movie 12: Nobita no Dorabian Nights"
          ],
          [
           "Shin-Ei Animation",
           "Doraemon Movie 03: Nobita no Daimakyou"
          ],
          [
           "Shin-Ei Animation",
           "Doraemon Movie 17: Nobita to Ginga Express"
          ],
          [
           "UNKNOWN",
           "Doraemon Movie 15: Nobita to Mugen Sankenshi"
          ],
          [
           "Shin-Ei Animation",
           "Doraemon Movie 11: Nobita to Animal Planet"
          ],
          [
           "Studio Jam",
           "Kurai Mirai"
          ],
          [
           "Piko Studio",
           "In no Houteishiki"
          ],
          [
           "Arms, Triple X",
           "Dark Shell: Ori no Naka no Namameki"
          ],
          [
           "Kyushu Network Animation",
           "Heartwork: Symphony of Destruction"
          ],
          [
           "Y.O.U.C",
           "Shokuzai no Kyoushitsu"
          ],
          [
           "Y.O.U.C",
           "Hissatsu Chikan Nin"
          ],
          [
           "Toei Animation",
           "Utsunomiko: Heaven Chapter"
          ],
          [
           "Bones",
           "Darker than Black: Ryuusei no Gemini"
          ],
          [
           "Bones",
           "Darker than Black: Kuro no Keiyakusha Gaiden"
          ],
          [
           "Toei Animation",
           "One Piece Film: Strong World Episode 0"
          ],
          [
           "Sunrise",
           "Zero Tester: Chikyuu wo Mamore!"
          ],
          [
           "UNKNOWN",
           "Skyers 5"
          ],
          [
           "Mushi Production",
           "Wanpaku Tanteidan"
          ],
          [
           "Xebec",
           "Rinne no Lagrange Season 2"
          ],
          [
           "Eiken",
           "Yuusei Kamen"
          ],
          [
           "Toei Animation",
           "Kamen no Ninja Akakage"
          ],
          [
           "UNKNOWN",
           "Instant History"
          ],
          [
           "Triangle Staff",
           "Shinkai Densetsu Meremanoid"
          ],
          [
           "Tatsunoko Production",
           "Dokachin"
          ],
          [
           "UNKNOWN",
           "Tetsuwan Atom: Ao Kishi no Kan"
          ],
          [
           "Tokyo Movie Shinsha",
           "Takarajima Movie"
          ],
          [
           "Knack Productions",
           "Shin Don Chuck Monogatari"
          ],
          [
           "UNKNOWN",
           "Dolittle-sensei Monogatari"
          ],
          [
           "Asahi Production",
           "Sugar Bunnies: Taisetsu na Tomodachi e..."
          ],
          [
           "UNKNOWN",
           "Shin Gakkou no Yuurei"
          ],
          [
           "UNKNOWN",
           "Controller of Controller"
          ],
          [
           "Studio 4°C",
           "Street Fighter IV: Aftermath"
          ],
          [
           "Shin-Ei Animation",
           "Mashiro no Oto"
          ],
          [
           "UNKNOWN",
           "LaLaLa, Brothers"
          ],
          [
           "UNKNOWN",
           "One Piece Characters Log"
          ],
          [
           "STUDIO6'oN",
           "Suisei no Freyline: Prologue"
          ],
          [
           "Tokyo Movie Shinsha",
           "Akira"
          ],
          [
           "Madhouse",
           "Black Lagoon: The Second Barrage"
          ],
          [
           "Sunrise",
           "Cowboy Bebop"
          ],
          [
           "Toei Animation",
           "Dragon Ball Z"
          ],
          [
           "Arms",
           "Elfen Lied"
          ],
          [
           "Gonzo",
           "Full Metal Panic!"
          ],
          [
           "Bones",
           "Fullmetal Alchemist"
          ],
          [
           "Actas",
           "Girls & Panzer"
          ],
          [
           "Madhouse",
           "Hajime no Ippo"
          ],
          [
           "Studio Ghibli",
           "Howl no Ugoku Shiro"
          ],
          [
           "AIC ASTA",
           "Jinrui wa Suitai Shimashita"
          ],
          [
           "White Fox",
           "Jormungand"
          ],
          [
           "Platinum Vision",
           "Koroshi Ai"
          ],
          [
           "Toei Animation",
           "One Piece"
          ],
          [
           "Toei Animation",
           "One Piece Movie 09: Episode of Chopper Plus - Fuyu ni Saku, Kiseki no Sakura"
          ],
          [
           "Toei Animation",
           "One Piece: Romance Dawn Story"
          ],
          [
           "Eshoya Honpo",
           "Requiem"
          ],
          [
           "Manglobe",
           "Samurai Champloo"
          ],
          [
           "Studio Deen",
           "Samurai Deeper Kyou"
          ],
          [
           "Toei Animation",
           "Shounen Ninja Kaze no Fujimaru"
          ],
          [
           "Production I.G, Madhouse",
           "Teki wa Kaizoku: Neko-tachi no Kyouen"
          ],
          [
           "A-1 Pictures",
           "Vividred Operation"
          ],
          [
           "Brain's Base",
           "Baccano!"
          ],
          [
           "Shaft",
           "Bakemonogatari"
          ],
          [
           "Gonzo",
           "Basilisk: Kouga Ninpou Chou"
          ],
          [
           "Madhouse",
           "Black Lagoon"
          ],
          [
           "Madhouse",
           "Black Lagoon: Roberta's Blood Trail"
          ],
          [
           "Pierrot",
           "Bleach"
          ],
          [
           "P.A. Works",
           "Canaan"
          ],
          [
           "Madhouse",
           "Claymore"
          ],
          [
           "Sunrise",
           "Code Geass: Hangyaku no Lelouch"
          ],
          [
           "Sunrise",
           "Code Geass: Hangyaku no Lelouch R2"
          ],
          [
           "Madhouse",
           "Death Note"
          ],
          [
           "Shin-Ei Animation",
           "Doraemon Movie 10: Nobita no Nippon Tanjou"
          ],
          [
           "Gainax, Production I.G",
           "FLCL"
          ],
          [
           "Satelight, A-1 Pictures",
           "Fairy Tail"
          ],
          [
           "ufotable",
           "Fate/Zero"
          ],
          [
           "TMS Entertainment",
           "Flanders no Inu, Boku no Patrasche"
          ],
          [
           "Kyoto Animation",
           "Full Metal Panic! The Second Raid"
          ],
          [
           "Bones",
           "Fullmetal Alchemist: Brotherhood"
          ],
          [
           "Madhouse",
           "Gungrave"
          ],
          [
           "Science SARU",
           "Heike Monogatari"
          ],
          [
           "Bakken Record",
           "Jouran: The Princess of Snow and Blood"
          ],
          [
           "PINE JAM",
           "Kageki Shoujo!!"
          ],
          [
           "Production I.G",
           "Kaizoku Oujo"
          ],
          [
           "Sunrise",
           "Kyoukaisenjou no Horizon"
          ],
          [
           "Gonzo",
           "Last Exile"
          ],
          [
           "Gainax",
           "Medaka Box"
          ],
          [
           "Satelight",
           "Mouretsu Pirates"
          ],
          [
           "Satelight",
           "Mouretsu Pirates: Abyss of Hyperspace"
          ],
          [
           "Pierrot",
           "Naruto"
          ],
          [
           "Pierrot",
           "Naruto: Shippuuden"
          ],
          [
           "Toei Animation",
           "One Piece Movie 03: Chinjuu-jima no Chopper Oukoku"
          ],
          [
           "Toei Animation",
           "One Piece Movie 05: Norowareta Seiken"
          ],
          [
           "Toei Animation",
           "One Piece Movie 06: Omatsuri Danshaku to Himitsu no Shima"
          ],
          [
           "Toei Animation",
           "One Piece Movie 07: Karakuri-jou no Mecha Kyohei"
          ],
          [
           "Toei Animation",
           "One Piece Movie 08: Episode of Alabasta - Sabaku no Oujo to Kaizoku-tachi"
          ],
          [
           "Toei Animation",
           "One Piece: Umi no Heso no Daibouken-hen"
          ],
          [
           "Xebec",
           "Rinne no Lagrange"
          ],
          [
           "Gallop, Studio Deen",
           "Rurouni Kenshin: Meiji Kenkaku Romantan"
          ],
          [
           "Children's Playground Entertainment",
           "Saihate no Paladin"
          ],
          [
           "Satelight",
           "Sakugan"
          ],
          [
           "Gonzo",
           "Samurai 7"
          ],
          [
           "Satelight, Encourage Films",
           "Senki Zesshou Symphogear"
          ],
          [
           "P.A. Works",
           "Shiroi Suna no Aquatope"
          ],
          [
           "Madhouse, MAPPA",
           "Takt Op. Destiny"
          ],
          [
           "Madhouse",
           "Trigun"
          ],
          [
           "Gonzo",
           "Trinity Blood"
          ],
          [
           "Xebec",
           "Upotte!!"
          ],
          [
           "Bones",
           "Vanitas no Karte Part 2"
          ]
         ],
         "hovertemplate": "<b>%{customdata[1]}</b><br>Studios: %{customdata[0]}<br><extra></extra>",
         "marker": {
          "color": "red",
          "size": 10,
          "symbol": "x"
         },
         "mode": "markers",
         "name": "rec 1",
         "showlegend": true,
         "type": "scatter",
         "x": [
          7.207219123840332
         ],
         "y": [
          6.620028018951416
         ]
        },
        {
         "customdata": [
          [
           "user query",
           "user query"
          ],
          [
           "Toei Animation",
           "One Piece: Oounabara ni Hirake! Dekkai Dekkai Chichi no Yume!"
          ],
          [
           "Toei Animation",
           "One Piece: Nenmatsu Tokubetsu Kikaku! Mugiwara no Luffy Oyabun Torimonochou"
          ],
          [
           "Bones",
           "Darker than Black: Kuro no Keiyakusha"
          ],
          [
           "Y.O.U.C",
           "Gakuen no Shuryousha"
          ],
          [
           "Himajin Planning",
           "Kisaku Spirit"
          ],
          [
           "Studio Fantasia",
           "Lingeries"
          ],
          [
           "Studio 9 Maiami",
           "Itazura The Animation"
          ],
          [
           "UNKNOWN",
           "Dorami & Doraemons: Robot School's Seven Mysteries"
          ],
          [
           "Shin-Ei Animation",
           "Doraemon: The Day When I Was Born"
          ],
          [
           "UNKNOWN",
           "Doraemon Movie 22: Nobita to Tsubasa no Yuusha-tachi"
          ],
          [
           "UNKNOWN",
           "Doraemon Movie 23: Nobita to Robot Kingdom"
          ],
          [
           "Shin-Ei Animation",
           "Doraemon Movie 08: Nobita to Ryuu no Kishi"
          ],
          [
           "UNKNOWN",
           "Doraemon Movie 13: Nobita to Kumo no Oukoku"
          ],
          [
           "Shin-Ei Animation",
           "Doraemon Movie 19: Nobita no Nankai Daibouken"
          ],
          [
           "UNKNOWN",
           "Doraemon Movie 20: Nobita no Uchuu Hyouryuuki"
          ],
          [
           "Shin-Ei Animation",
           "Doraemon Movie 06: Nobita no Little Star Wars"
          ],
          [
           "UNKNOWN",
           "Doraemon Movie 12: Nobita no Dorabian Nights"
          ],
          [
           "Shin-Ei Animation",
           "Doraemon Movie 03: Nobita no Daimakyou"
          ],
          [
           "Shin-Ei Animation",
           "Doraemon Movie 17: Nobita to Ginga Express"
          ],
          [
           "UNKNOWN",
           "Doraemon Movie 15: Nobita to Mugen Sankenshi"
          ],
          [
           "Shin-Ei Animation",
           "Doraemon Movie 11: Nobita to Animal Planet"
          ],
          [
           "Studio Jam",
           "Kurai Mirai"
          ],
          [
           "Piko Studio",
           "In no Houteishiki"
          ],
          [
           "Arms, Triple X",
           "Dark Shell: Ori no Naka no Namameki"
          ],
          [
           "Kyushu Network Animation",
           "Heartwork: Symphony of Destruction"
          ],
          [
           "Y.O.U.C",
           "Shokuzai no Kyoushitsu"
          ],
          [
           "Y.O.U.C",
           "Hissatsu Chikan Nin"
          ],
          [
           "Toei Animation",
           "Utsunomiko: Heaven Chapter"
          ],
          [
           "Bones",
           "Darker than Black: Ryuusei no Gemini"
          ],
          [
           "Bones",
           "Darker than Black: Kuro no Keiyakusha Gaiden"
          ],
          [
           "Toei Animation",
           "One Piece Film: Strong World Episode 0"
          ],
          [
           "Sunrise",
           "Zero Tester: Chikyuu wo Mamore!"
          ],
          [
           "UNKNOWN",
           "Skyers 5"
          ],
          [
           "Mushi Production",
           "Wanpaku Tanteidan"
          ],
          [
           "Xebec",
           "Rinne no Lagrange Season 2"
          ],
          [
           "Eiken",
           "Yuusei Kamen"
          ],
          [
           "Toei Animation",
           "Kamen no Ninja Akakage"
          ],
          [
           "UNKNOWN",
           "Instant History"
          ],
          [
           "Triangle Staff",
           "Shinkai Densetsu Meremanoid"
          ],
          [
           "Tatsunoko Production",
           "Dokachin"
          ],
          [
           "UNKNOWN",
           "Tetsuwan Atom: Ao Kishi no Kan"
          ],
          [
           "Tokyo Movie Shinsha",
           "Takarajima Movie"
          ],
          [
           "Knack Productions",
           "Shin Don Chuck Monogatari"
          ],
          [
           "UNKNOWN",
           "Dolittle-sensei Monogatari"
          ],
          [
           "Asahi Production",
           "Sugar Bunnies: Taisetsu na Tomodachi e..."
          ],
          [
           "UNKNOWN",
           "Shin Gakkou no Yuurei"
          ],
          [
           "UNKNOWN",
           "Controller of Controller"
          ],
          [
           "Studio 4°C",
           "Street Fighter IV: Aftermath"
          ],
          [
           "Shin-Ei Animation",
           "Mashiro no Oto"
          ],
          [
           "UNKNOWN",
           "LaLaLa, Brothers"
          ],
          [
           "UNKNOWN",
           "One Piece Characters Log"
          ],
          [
           "STUDIO6'oN",
           "Suisei no Freyline: Prologue"
          ],
          [
           "Tokyo Movie Shinsha",
           "Akira"
          ],
          [
           "Madhouse",
           "Black Lagoon: The Second Barrage"
          ],
          [
           "Sunrise",
           "Cowboy Bebop"
          ],
          [
           "Toei Animation",
           "Dragon Ball Z"
          ],
          [
           "Arms",
           "Elfen Lied"
          ],
          [
           "Gonzo",
           "Full Metal Panic!"
          ],
          [
           "Bones",
           "Fullmetal Alchemist"
          ],
          [
           "Actas",
           "Girls & Panzer"
          ],
          [
           "Madhouse",
           "Hajime no Ippo"
          ],
          [
           "Studio Ghibli",
           "Howl no Ugoku Shiro"
          ],
          [
           "AIC ASTA",
           "Jinrui wa Suitai Shimashita"
          ],
          [
           "White Fox",
           "Jormungand"
          ],
          [
           "Platinum Vision",
           "Koroshi Ai"
          ],
          [
           "Toei Animation",
           "One Piece"
          ],
          [
           "Toei Animation",
           "One Piece Movie 09: Episode of Chopper Plus - Fuyu ni Saku, Kiseki no Sakura"
          ],
          [
           "Toei Animation",
           "One Piece: Romance Dawn Story"
          ],
          [
           "Eshoya Honpo",
           "Requiem"
          ],
          [
           "Manglobe",
           "Samurai Champloo"
          ],
          [
           "Studio Deen",
           "Samurai Deeper Kyou"
          ],
          [
           "Toei Animation",
           "Shounen Ninja Kaze no Fujimaru"
          ],
          [
           "Production I.G, Madhouse",
           "Teki wa Kaizoku: Neko-tachi no Kyouen"
          ],
          [
           "A-1 Pictures",
           "Vividred Operation"
          ],
          [
           "Brain's Base",
           "Baccano!"
          ],
          [
           "Shaft",
           "Bakemonogatari"
          ],
          [
           "Gonzo",
           "Basilisk: Kouga Ninpou Chou"
          ],
          [
           "Madhouse",
           "Black Lagoon"
          ],
          [
           "Madhouse",
           "Black Lagoon: Roberta's Blood Trail"
          ],
          [
           "Pierrot",
           "Bleach"
          ],
          [
           "P.A. Works",
           "Canaan"
          ],
          [
           "Madhouse",
           "Claymore"
          ],
          [
           "Sunrise",
           "Code Geass: Hangyaku no Lelouch"
          ],
          [
           "Sunrise",
           "Code Geass: Hangyaku no Lelouch R2"
          ],
          [
           "Madhouse",
           "Death Note"
          ],
          [
           "Shin-Ei Animation",
           "Doraemon Movie 10: Nobita no Nippon Tanjou"
          ],
          [
           "Gainax, Production I.G",
           "FLCL"
          ],
          [
           "Satelight, A-1 Pictures",
           "Fairy Tail"
          ],
          [
           "ufotable",
           "Fate/Zero"
          ],
          [
           "TMS Entertainment",
           "Flanders no Inu, Boku no Patrasche"
          ],
          [
           "Kyoto Animation",
           "Full Metal Panic! The Second Raid"
          ],
          [
           "Bones",
           "Fullmetal Alchemist: Brotherhood"
          ],
          [
           "Madhouse",
           "Gungrave"
          ],
          [
           "Science SARU",
           "Heike Monogatari"
          ],
          [
           "Bakken Record",
           "Jouran: The Princess of Snow and Blood"
          ],
          [
           "PINE JAM",
           "Kageki Shoujo!!"
          ],
          [
           "Production I.G",
           "Kaizoku Oujo"
          ],
          [
           "Sunrise",
           "Kyoukaisenjou no Horizon"
          ],
          [
           "Gonzo",
           "Last Exile"
          ],
          [
           "Gainax",
           "Medaka Box"
          ],
          [
           "Satelight",
           "Mouretsu Pirates"
          ],
          [
           "Satelight",
           "Mouretsu Pirates: Abyss of Hyperspace"
          ],
          [
           "Pierrot",
           "Naruto"
          ],
          [
           "Pierrot",
           "Naruto: Shippuuden"
          ],
          [
           "Toei Animation",
           "One Piece Movie 03: Chinjuu-jima no Chopper Oukoku"
          ],
          [
           "Toei Animation",
           "One Piece Movie 05: Norowareta Seiken"
          ],
          [
           "Toei Animation",
           "One Piece Movie 06: Omatsuri Danshaku to Himitsu no Shima"
          ],
          [
           "Toei Animation",
           "One Piece Movie 07: Karakuri-jou no Mecha Kyohei"
          ],
          [
           "Toei Animation",
           "One Piece Movie 08: Episode of Alabasta - Sabaku no Oujo to Kaizoku-tachi"
          ],
          [
           "Toei Animation",
           "One Piece: Umi no Heso no Daibouken-hen"
          ],
          [
           "Xebec",
           "Rinne no Lagrange"
          ],
          [
           "Gallop, Studio Deen",
           "Rurouni Kenshin: Meiji Kenkaku Romantan"
          ],
          [
           "Children's Playground Entertainment",
           "Saihate no Paladin"
          ],
          [
           "Satelight",
           "Sakugan"
          ],
          [
           "Gonzo",
           "Samurai 7"
          ],
          [
           "Satelight, Encourage Films",
           "Senki Zesshou Symphogear"
          ],
          [
           "P.A. Works",
           "Shiroi Suna no Aquatope"
          ],
          [
           "Madhouse, MAPPA",
           "Takt Op. Destiny"
          ],
          [
           "Madhouse",
           "Trigun"
          ],
          [
           "Gonzo",
           "Trinity Blood"
          ],
          [
           "Xebec",
           "Upotte!!"
          ],
          [
           "Bones",
           "Vanitas no Karte Part 2"
          ]
         ],
         "hovertemplate": "<b>%{customdata[1]}</b><br>Studios: %{customdata[0]}<br><extra></extra>",
         "marker": {
          "color": "red",
          "size": 10,
          "symbol": "x"
         },
         "mode": "markers",
         "name": "rec 2",
         "showlegend": true,
         "type": "scatter",
         "x": [
          7.328619956970215
         ],
         "y": [
          6.435749053955078
         ]
        },
        {
         "customdata": [
          [
           "user query",
           "user query"
          ],
          [
           "Toei Animation",
           "One Piece: Oounabara ni Hirake! Dekkai Dekkai Chichi no Yume!"
          ],
          [
           "Toei Animation",
           "One Piece: Nenmatsu Tokubetsu Kikaku! Mugiwara no Luffy Oyabun Torimonochou"
          ],
          [
           "Bones",
           "Darker than Black: Kuro no Keiyakusha"
          ],
          [
           "Y.O.U.C",
           "Gakuen no Shuryousha"
          ],
          [
           "Himajin Planning",
           "Kisaku Spirit"
          ],
          [
           "Studio Fantasia",
           "Lingeries"
          ],
          [
           "Studio 9 Maiami",
           "Itazura The Animation"
          ],
          [
           "UNKNOWN",
           "Dorami & Doraemons: Robot School's Seven Mysteries"
          ],
          [
           "Shin-Ei Animation",
           "Doraemon: The Day When I Was Born"
          ],
          [
           "UNKNOWN",
           "Doraemon Movie 22: Nobita to Tsubasa no Yuusha-tachi"
          ],
          [
           "UNKNOWN",
           "Doraemon Movie 23: Nobita to Robot Kingdom"
          ],
          [
           "Shin-Ei Animation",
           "Doraemon Movie 08: Nobita to Ryuu no Kishi"
          ],
          [
           "UNKNOWN",
           "Doraemon Movie 13: Nobita to Kumo no Oukoku"
          ],
          [
           "Shin-Ei Animation",
           "Doraemon Movie 19: Nobita no Nankai Daibouken"
          ],
          [
           "UNKNOWN",
           "Doraemon Movie 20: Nobita no Uchuu Hyouryuuki"
          ],
          [
           "Shin-Ei Animation",
           "Doraemon Movie 06: Nobita no Little Star Wars"
          ],
          [
           "UNKNOWN",
           "Doraemon Movie 12: Nobita no Dorabian Nights"
          ],
          [
           "Shin-Ei Animation",
           "Doraemon Movie 03: Nobita no Daimakyou"
          ],
          [
           "Shin-Ei Animation",
           "Doraemon Movie 17: Nobita to Ginga Express"
          ],
          [
           "UNKNOWN",
           "Doraemon Movie 15: Nobita to Mugen Sankenshi"
          ],
          [
           "Shin-Ei Animation",
           "Doraemon Movie 11: Nobita to Animal Planet"
          ],
          [
           "Studio Jam",
           "Kurai Mirai"
          ],
          [
           "Piko Studio",
           "In no Houteishiki"
          ],
          [
           "Arms, Triple X",
           "Dark Shell: Ori no Naka no Namameki"
          ],
          [
           "Kyushu Network Animation",
           "Heartwork: Symphony of Destruction"
          ],
          [
           "Y.O.U.C",
           "Shokuzai no Kyoushitsu"
          ],
          [
           "Y.O.U.C",
           "Hissatsu Chikan Nin"
          ],
          [
           "Toei Animation",
           "Utsunomiko: Heaven Chapter"
          ],
          [
           "Bones",
           "Darker than Black: Ryuusei no Gemini"
          ],
          [
           "Bones",
           "Darker than Black: Kuro no Keiyakusha Gaiden"
          ],
          [
           "Toei Animation",
           "One Piece Film: Strong World Episode 0"
          ],
          [
           "Sunrise",
           "Zero Tester: Chikyuu wo Mamore!"
          ],
          [
           "UNKNOWN",
           "Skyers 5"
          ],
          [
           "Mushi Production",
           "Wanpaku Tanteidan"
          ],
          [
           "Xebec",
           "Rinne no Lagrange Season 2"
          ],
          [
           "Eiken",
           "Yuusei Kamen"
          ],
          [
           "Toei Animation",
           "Kamen no Ninja Akakage"
          ],
          [
           "UNKNOWN",
           "Instant History"
          ],
          [
           "Triangle Staff",
           "Shinkai Densetsu Meremanoid"
          ],
          [
           "Tatsunoko Production",
           "Dokachin"
          ],
          [
           "UNKNOWN",
           "Tetsuwan Atom: Ao Kishi no Kan"
          ],
          [
           "Tokyo Movie Shinsha",
           "Takarajima Movie"
          ],
          [
           "Knack Productions",
           "Shin Don Chuck Monogatari"
          ],
          [
           "UNKNOWN",
           "Dolittle-sensei Monogatari"
          ],
          [
           "Asahi Production",
           "Sugar Bunnies: Taisetsu na Tomodachi e..."
          ],
          [
           "UNKNOWN",
           "Shin Gakkou no Yuurei"
          ],
          [
           "UNKNOWN",
           "Controller of Controller"
          ],
          [
           "Studio 4°C",
           "Street Fighter IV: Aftermath"
          ],
          [
           "Shin-Ei Animation",
           "Mashiro no Oto"
          ],
          [
           "UNKNOWN",
           "LaLaLa, Brothers"
          ],
          [
           "UNKNOWN",
           "One Piece Characters Log"
          ],
          [
           "STUDIO6'oN",
           "Suisei no Freyline: Prologue"
          ],
          [
           "Tokyo Movie Shinsha",
           "Akira"
          ],
          [
           "Madhouse",
           "Black Lagoon: The Second Barrage"
          ],
          [
           "Sunrise",
           "Cowboy Bebop"
          ],
          [
           "Toei Animation",
           "Dragon Ball Z"
          ],
          [
           "Arms",
           "Elfen Lied"
          ],
          [
           "Gonzo",
           "Full Metal Panic!"
          ],
          [
           "Bones",
           "Fullmetal Alchemist"
          ],
          [
           "Actas",
           "Girls & Panzer"
          ],
          [
           "Madhouse",
           "Hajime no Ippo"
          ],
          [
           "Studio Ghibli",
           "Howl no Ugoku Shiro"
          ],
          [
           "AIC ASTA",
           "Jinrui wa Suitai Shimashita"
          ],
          [
           "White Fox",
           "Jormungand"
          ],
          [
           "Platinum Vision",
           "Koroshi Ai"
          ],
          [
           "Toei Animation",
           "One Piece"
          ],
          [
           "Toei Animation",
           "One Piece Movie 09: Episode of Chopper Plus - Fuyu ni Saku, Kiseki no Sakura"
          ],
          [
           "Toei Animation",
           "One Piece: Romance Dawn Story"
          ],
          [
           "Eshoya Honpo",
           "Requiem"
          ],
          [
           "Manglobe",
           "Samurai Champloo"
          ],
          [
           "Studio Deen",
           "Samurai Deeper Kyou"
          ],
          [
           "Toei Animation",
           "Shounen Ninja Kaze no Fujimaru"
          ],
          [
           "Production I.G, Madhouse",
           "Teki wa Kaizoku: Neko-tachi no Kyouen"
          ],
          [
           "A-1 Pictures",
           "Vividred Operation"
          ],
          [
           "Brain's Base",
           "Baccano!"
          ],
          [
           "Shaft",
           "Bakemonogatari"
          ],
          [
           "Gonzo",
           "Basilisk: Kouga Ninpou Chou"
          ],
          [
           "Madhouse",
           "Black Lagoon"
          ],
          [
           "Madhouse",
           "Black Lagoon: Roberta's Blood Trail"
          ],
          [
           "Pierrot",
           "Bleach"
          ],
          [
           "P.A. Works",
           "Canaan"
          ],
          [
           "Madhouse",
           "Claymore"
          ],
          [
           "Sunrise",
           "Code Geass: Hangyaku no Lelouch"
          ],
          [
           "Sunrise",
           "Code Geass: Hangyaku no Lelouch R2"
          ],
          [
           "Madhouse",
           "Death Note"
          ],
          [
           "Shin-Ei Animation",
           "Doraemon Movie 10: Nobita no Nippon Tanjou"
          ],
          [
           "Gainax, Production I.G",
           "FLCL"
          ],
          [
           "Satelight, A-1 Pictures",
           "Fairy Tail"
          ],
          [
           "ufotable",
           "Fate/Zero"
          ],
          [
           "TMS Entertainment",
           "Flanders no Inu, Boku no Patrasche"
          ],
          [
           "Kyoto Animation",
           "Full Metal Panic! The Second Raid"
          ],
          [
           "Bones",
           "Fullmetal Alchemist: Brotherhood"
          ],
          [
           "Madhouse",
           "Gungrave"
          ],
          [
           "Science SARU",
           "Heike Monogatari"
          ],
          [
           "Bakken Record",
           "Jouran: The Princess of Snow and Blood"
          ],
          [
           "PINE JAM",
           "Kageki Shoujo!!"
          ],
          [
           "Production I.G",
           "Kaizoku Oujo"
          ],
          [
           "Sunrise",
           "Kyoukaisenjou no Horizon"
          ],
          [
           "Gonzo",
           "Last Exile"
          ],
          [
           "Gainax",
           "Medaka Box"
          ],
          [
           "Satelight",
           "Mouretsu Pirates"
          ],
          [
           "Satelight",
           "Mouretsu Pirates: Abyss of Hyperspace"
          ],
          [
           "Pierrot",
           "Naruto"
          ],
          [
           "Pierrot",
           "Naruto: Shippuuden"
          ],
          [
           "Toei Animation",
           "One Piece Movie 03: Chinjuu-jima no Chopper Oukoku"
          ],
          [
           "Toei Animation",
           "One Piece Movie 05: Norowareta Seiken"
          ],
          [
           "Toei Animation",
           "One Piece Movie 06: Omatsuri Danshaku to Himitsu no Shima"
          ],
          [
           "Toei Animation",
           "One Piece Movie 07: Karakuri-jou no Mecha Kyohei"
          ],
          [
           "Toei Animation",
           "One Piece Movie 08: Episode of Alabasta - Sabaku no Oujo to Kaizoku-tachi"
          ],
          [
           "Toei Animation",
           "One Piece: Umi no Heso no Daibouken-hen"
          ],
          [
           "Xebec",
           "Rinne no Lagrange"
          ],
          [
           "Gallop, Studio Deen",
           "Rurouni Kenshin: Meiji Kenkaku Romantan"
          ],
          [
           "Children's Playground Entertainment",
           "Saihate no Paladin"
          ],
          [
           "Satelight",
           "Sakugan"
          ],
          [
           "Gonzo",
           "Samurai 7"
          ],
          [
           "Satelight, Encourage Films",
           "Senki Zesshou Symphogear"
          ],
          [
           "P.A. Works",
           "Shiroi Suna no Aquatope"
          ],
          [
           "Madhouse, MAPPA",
           "Takt Op. Destiny"
          ],
          [
           "Madhouse",
           "Trigun"
          ],
          [
           "Gonzo",
           "Trinity Blood"
          ],
          [
           "Xebec",
           "Upotte!!"
          ],
          [
           "Bones",
           "Vanitas no Karte Part 2"
          ]
         ],
         "hovertemplate": "<b>%{customdata[1]}</b><br>Studios: %{customdata[0]}<br><extra></extra>",
         "marker": {
          "color": "red",
          "size": 10,
          "symbol": "x"
         },
         "mode": "markers",
         "name": "rec 3",
         "showlegend": true,
         "type": "scatter",
         "x": [
          7.1007866859436035
         ],
         "y": [
          6.279327869415283
         ]
        }
       ],
       "layout": {
        "annotations": [
         {
          "font": {
           "color": "purple",
           "size": 20
          },
          "showarrow": true,
          "text": "X",
          "x": 7.261731147766113,
          "y": 6.587831497192383
         }
        ],
        "legend": {
         "title": {
          "text": "rec_label"
         },
         "tracegroupgap": 0
        },
        "template": {
         "data": {
          "bar": [
           {
            "error_x": {
             "color": "#2a3f5f"
            },
            "error_y": {
             "color": "#2a3f5f"
            },
            "marker": {
             "line": {
              "color": "#E5ECF6",
              "width": 0.5
             },
             "pattern": {
              "fillmode": "overlay",
              "size": 10,
              "solidity": 0.2
             }
            },
            "type": "bar"
           }
          ],
          "barpolar": [
           {
            "marker": {
             "line": {
              "color": "#E5ECF6",
              "width": 0.5
             },
             "pattern": {
              "fillmode": "overlay",
              "size": 10,
              "solidity": 0.2
             }
            },
            "type": "barpolar"
           }
          ],
          "carpet": [
           {
            "aaxis": {
             "endlinecolor": "#2a3f5f",
             "gridcolor": "white",
             "linecolor": "white",
             "minorgridcolor": "white",
             "startlinecolor": "#2a3f5f"
            },
            "baxis": {
             "endlinecolor": "#2a3f5f",
             "gridcolor": "white",
             "linecolor": "white",
             "minorgridcolor": "white",
             "startlinecolor": "#2a3f5f"
            },
            "type": "carpet"
           }
          ],
          "choropleth": [
           {
            "colorbar": {
             "outlinewidth": 0,
             "ticks": ""
            },
            "type": "choropleth"
           }
          ],
          "contour": [
           {
            "colorbar": {
             "outlinewidth": 0,
             "ticks": ""
            },
            "colorscale": [
             [
              0,
              "#0d0887"
             ],
             [
              0.1111111111111111,
              "#46039f"
             ],
             [
              0.2222222222222222,
              "#7201a8"
             ],
             [
              0.3333333333333333,
              "#9c179e"
             ],
             [
              0.4444444444444444,
              "#bd3786"
             ],
             [
              0.5555555555555556,
              "#d8576b"
             ],
             [
              0.6666666666666666,
              "#ed7953"
             ],
             [
              0.7777777777777778,
              "#fb9f3a"
             ],
             [
              0.8888888888888888,
              "#fdca26"
             ],
             [
              1,
              "#f0f921"
             ]
            ],
            "type": "contour"
           }
          ],
          "contourcarpet": [
           {
            "colorbar": {
             "outlinewidth": 0,
             "ticks": ""
            },
            "type": "contourcarpet"
           }
          ],
          "heatmap": [
           {
            "colorbar": {
             "outlinewidth": 0,
             "ticks": ""
            },
            "colorscale": [
             [
              0,
              "#0d0887"
             ],
             [
              0.1111111111111111,
              "#46039f"
             ],
             [
              0.2222222222222222,
              "#7201a8"
             ],
             [
              0.3333333333333333,
              "#9c179e"
             ],
             [
              0.4444444444444444,
              "#bd3786"
             ],
             [
              0.5555555555555556,
              "#d8576b"
             ],
             [
              0.6666666666666666,
              "#ed7953"
             ],
             [
              0.7777777777777778,
              "#fb9f3a"
             ],
             [
              0.8888888888888888,
              "#fdca26"
             ],
             [
              1,
              "#f0f921"
             ]
            ],
            "type": "heatmap"
           }
          ],
          "heatmapgl": [
           {
            "colorbar": {
             "outlinewidth": 0,
             "ticks": ""
            },
            "colorscale": [
             [
              0,
              "#0d0887"
             ],
             [
              0.1111111111111111,
              "#46039f"
             ],
             [
              0.2222222222222222,
              "#7201a8"
             ],
             [
              0.3333333333333333,
              "#9c179e"
             ],
             [
              0.4444444444444444,
              "#bd3786"
             ],
             [
              0.5555555555555556,
              "#d8576b"
             ],
             [
              0.6666666666666666,
              "#ed7953"
             ],
             [
              0.7777777777777778,
              "#fb9f3a"
             ],
             [
              0.8888888888888888,
              "#fdca26"
             ],
             [
              1,
              "#f0f921"
             ]
            ],
            "type": "heatmapgl"
           }
          ],
          "histogram": [
           {
            "marker": {
             "pattern": {
              "fillmode": "overlay",
              "size": 10,
              "solidity": 0.2
             }
            },
            "type": "histogram"
           }
          ],
          "histogram2d": [
           {
            "colorbar": {
             "outlinewidth": 0,
             "ticks": ""
            },
            "colorscale": [
             [
              0,
              "#0d0887"
             ],
             [
              0.1111111111111111,
              "#46039f"
             ],
             [
              0.2222222222222222,
              "#7201a8"
             ],
             [
              0.3333333333333333,
              "#9c179e"
             ],
             [
              0.4444444444444444,
              "#bd3786"
             ],
             [
              0.5555555555555556,
              "#d8576b"
             ],
             [
              0.6666666666666666,
              "#ed7953"
             ],
             [
              0.7777777777777778,
              "#fb9f3a"
             ],
             [
              0.8888888888888888,
              "#fdca26"
             ],
             [
              1,
              "#f0f921"
             ]
            ],
            "type": "histogram2d"
           }
          ],
          "histogram2dcontour": [
           {
            "colorbar": {
             "outlinewidth": 0,
             "ticks": ""
            },
            "colorscale": [
             [
              0,
              "#0d0887"
             ],
             [
              0.1111111111111111,
              "#46039f"
             ],
             [
              0.2222222222222222,
              "#7201a8"
             ],
             [
              0.3333333333333333,
              "#9c179e"
             ],
             [
              0.4444444444444444,
              "#bd3786"
             ],
             [
              0.5555555555555556,
              "#d8576b"
             ],
             [
              0.6666666666666666,
              "#ed7953"
             ],
             [
              0.7777777777777778,
              "#fb9f3a"
             ],
             [
              0.8888888888888888,
              "#fdca26"
             ],
             [
              1,
              "#f0f921"
             ]
            ],
            "type": "histogram2dcontour"
           }
          ],
          "mesh3d": [
           {
            "colorbar": {
             "outlinewidth": 0,
             "ticks": ""
            },
            "type": "mesh3d"
           }
          ],
          "parcoords": [
           {
            "line": {
             "colorbar": {
              "outlinewidth": 0,
              "ticks": ""
             }
            },
            "type": "parcoords"
           }
          ],
          "pie": [
           {
            "automargin": true,
            "type": "pie"
           }
          ],
          "scatter": [
           {
            "fillpattern": {
             "fillmode": "overlay",
             "size": 10,
             "solidity": 0.2
            },
            "type": "scatter"
           }
          ],
          "scatter3d": [
           {
            "line": {
             "colorbar": {
              "outlinewidth": 0,
              "ticks": ""
             }
            },
            "marker": {
             "colorbar": {
              "outlinewidth": 0,
              "ticks": ""
             }
            },
            "type": "scatter3d"
           }
          ],
          "scattercarpet": [
           {
            "marker": {
             "colorbar": {
              "outlinewidth": 0,
              "ticks": ""
             }
            },
            "type": "scattercarpet"
           }
          ],
          "scattergeo": [
           {
            "marker": {
             "colorbar": {
              "outlinewidth": 0,
              "ticks": ""
             }
            },
            "type": "scattergeo"
           }
          ],
          "scattergl": [
           {
            "marker": {
             "colorbar": {
              "outlinewidth": 0,
              "ticks": ""
             }
            },
            "type": "scattergl"
           }
          ],
          "scattermapbox": [
           {
            "marker": {
             "colorbar": {
              "outlinewidth": 0,
              "ticks": ""
             }
            },
            "type": "scattermapbox"
           }
          ],
          "scatterpolar": [
           {
            "marker": {
             "colorbar": {
              "outlinewidth": 0,
              "ticks": ""
             }
            },
            "type": "scatterpolar"
           }
          ],
          "scatterpolargl": [
           {
            "marker": {
             "colorbar": {
              "outlinewidth": 0,
              "ticks": ""
             }
            },
            "type": "scatterpolargl"
           }
          ],
          "scatterternary": [
           {
            "marker": {
             "colorbar": {
              "outlinewidth": 0,
              "ticks": ""
             }
            },
            "type": "scatterternary"
           }
          ],
          "surface": [
           {
            "colorbar": {
             "outlinewidth": 0,
             "ticks": ""
            },
            "colorscale": [
             [
              0,
              "#0d0887"
             ],
             [
              0.1111111111111111,
              "#46039f"
             ],
             [
              0.2222222222222222,
              "#7201a8"
             ],
             [
              0.3333333333333333,
              "#9c179e"
             ],
             [
              0.4444444444444444,
              "#bd3786"
             ],
             [
              0.5555555555555556,
              "#d8576b"
             ],
             [
              0.6666666666666666,
              "#ed7953"
             ],
             [
              0.7777777777777778,
              "#fb9f3a"
             ],
             [
              0.8888888888888888,
              "#fdca26"
             ],
             [
              1,
              "#f0f921"
             ]
            ],
            "type": "surface"
           }
          ],
          "table": [
           {
            "cells": {
             "fill": {
              "color": "#EBF0F8"
             },
             "line": {
              "color": "white"
             }
            },
            "header": {
             "fill": {
              "color": "#C8D4E3"
             },
             "line": {
              "color": "white"
             }
            },
            "type": "table"
           }
          ]
         },
         "layout": {
          "annotationdefaults": {
           "arrowcolor": "#2a3f5f",
           "arrowhead": 0,
           "arrowwidth": 1
          },
          "autotypenumbers": "strict",
          "coloraxis": {
           "colorbar": {
            "outlinewidth": 0,
            "ticks": ""
           }
          },
          "colorscale": {
           "diverging": [
            [
             0,
             "#8e0152"
            ],
            [
             0.1,
             "#c51b7d"
            ],
            [
             0.2,
             "#de77ae"
            ],
            [
             0.3,
             "#f1b6da"
            ],
            [
             0.4,
             "#fde0ef"
            ],
            [
             0.5,
             "#f7f7f7"
            ],
            [
             0.6,
             "#e6f5d0"
            ],
            [
             0.7,
             "#b8e186"
            ],
            [
             0.8,
             "#7fbc41"
            ],
            [
             0.9,
             "#4d9221"
            ],
            [
             1,
             "#276419"
            ]
           ],
           "sequential": [
            [
             0,
             "#0d0887"
            ],
            [
             0.1111111111111111,
             "#46039f"
            ],
            [
             0.2222222222222222,
             "#7201a8"
            ],
            [
             0.3333333333333333,
             "#9c179e"
            ],
            [
             0.4444444444444444,
             "#bd3786"
            ],
            [
             0.5555555555555556,
             "#d8576b"
            ],
            [
             0.6666666666666666,
             "#ed7953"
            ],
            [
             0.7777777777777778,
             "#fb9f3a"
            ],
            [
             0.8888888888888888,
             "#fdca26"
            ],
            [
             1,
             "#f0f921"
            ]
           ],
           "sequentialminus": [
            [
             0,
             "#0d0887"
            ],
            [
             0.1111111111111111,
             "#46039f"
            ],
            [
             0.2222222222222222,
             "#7201a8"
            ],
            [
             0.3333333333333333,
             "#9c179e"
            ],
            [
             0.4444444444444444,
             "#bd3786"
            ],
            [
             0.5555555555555556,
             "#d8576b"
            ],
            [
             0.6666666666666666,
             "#ed7953"
            ],
            [
             0.7777777777777778,
             "#fb9f3a"
            ],
            [
             0.8888888888888888,
             "#fdca26"
            ],
            [
             1,
             "#f0f921"
            ]
           ]
          },
          "colorway": [
           "#636efa",
           "#EF553B",
           "#00cc96",
           "#ab63fa",
           "#FFA15A",
           "#19d3f3",
           "#FF6692",
           "#B6E880",
           "#FF97FF",
           "#FECB52"
          ],
          "font": {
           "color": "#2a3f5f"
          },
          "geo": {
           "bgcolor": "white",
           "lakecolor": "white",
           "landcolor": "#E5ECF6",
           "showlakes": true,
           "showland": true,
           "subunitcolor": "white"
          },
          "hoverlabel": {
           "align": "left"
          },
          "hovermode": "closest",
          "mapbox": {
           "style": "light"
          },
          "paper_bgcolor": "white",
          "plot_bgcolor": "#E5ECF6",
          "polar": {
           "angularaxis": {
            "gridcolor": "white",
            "linecolor": "white",
            "ticks": ""
           },
           "bgcolor": "#E5ECF6",
           "radialaxis": {
            "gridcolor": "white",
            "linecolor": "white",
            "ticks": ""
           }
          },
          "scene": {
           "xaxis": {
            "backgroundcolor": "#E5ECF6",
            "gridcolor": "white",
            "gridwidth": 2,
            "linecolor": "white",
            "showbackground": true,
            "ticks": "",
            "zerolinecolor": "white"
           },
           "yaxis": {
            "backgroundcolor": "#E5ECF6",
            "gridcolor": "white",
            "gridwidth": 2,
            "linecolor": "white",
            "showbackground": true,
            "ticks": "",
            "zerolinecolor": "white"
           },
           "zaxis": {
            "backgroundcolor": "#E5ECF6",
            "gridcolor": "white",
            "gridwidth": 2,
            "linecolor": "white",
            "showbackground": true,
            "ticks": "",
            "zerolinecolor": "white"
           }
          },
          "shapedefaults": {
           "line": {
            "color": "#2a3f5f"
           }
          },
          "ternary": {
           "aaxis": {
            "gridcolor": "white",
            "linecolor": "white",
            "ticks": ""
           },
           "baxis": {
            "gridcolor": "white",
            "linecolor": "white",
            "ticks": ""
           },
           "bgcolor": "#E5ECF6",
           "caxis": {
            "gridcolor": "white",
            "linecolor": "white",
            "ticks": ""
           }
          },
          "title": {
           "x": 0.05
          },
          "xaxis": {
           "automargin": true,
           "gridcolor": "white",
           "linecolor": "white",
           "ticks": "",
           "title": {
            "standoff": 15
           },
           "zerolinecolor": "white",
           "zerolinewidth": 2
          },
          "yaxis": {
           "automargin": true,
           "gridcolor": "white",
           "linecolor": "white",
           "ticks": "",
           "title": {
            "standoff": 15
           },
           "zerolinecolor": "white",
           "zerolinewidth": 2
          }
         }
        },
        "title": {
         "text": "UMAP of Anime Recommendations from Collab Filter, Vector Database and Popular Recommendations"
        },
        "xaxis": {
         "anchor": "y",
         "domain": [
          0,
          1
         ],
         "title": {
          "text": "UMAP_1"
         }
        },
        "yaxis": {
         "anchor": "x",
         "domain": [
          0,
          1
         ],
         "title": {
          "text": "UMAP_2"
         }
        }
       }
      }
     },
     "metadata": {},
     "output_type": "display_data"
    }
   ],
   "source": [
    "# Load a pre-trained Sentence Transformer model\n",
    "model = SentenceTransformer('sentence-transformers/all-MiniLM-L6-v2')\n",
    "\n",
    "# Encode the anime synopsis using the Sentence Transformer model\n",
    "embeddings = model.encode(recs_umap['anime_Synopsis'].tolist())\n",
    "\n",
    "# Apply UMAP for dimensionality reduction\n",
    "umap_model = UMAP(n_components=2, n_neighbors=5, min_dist=0.05)\n",
    "umap_result = umap_model.fit_transform(embeddings)\n",
    "\n",
    "# Convert UMAP result to DataFrame\n",
    "umap_df = pd.DataFrame(umap_result, columns=['UMAP_1', 'UMAP_2'])\n",
    "\n",
    "# Add 'Studios' and 'Name' columns to the UMAP DataFrame\n",
    "umap_df['Studios'] = recs_umap['Studios'].tolist()\n",
    "umap_df['Name'] = recs_umap['Name'].tolist()\n",
    "umap_df['rec_label'] = recs_umap['rec_label'].tolist()\n",
    "umap_df['anime_id'] = recs_umap['anime_id'].tolist()\n",
    "\n",
    "# Plot the UMAP with color by 'rec_label'\n",
    "fig_umap = px.scatter(umap_df, x='UMAP_1', y='UMAP_2', color='rec_label', \n",
    "                      hover_data={'Studios': True, 'Name': True},\n",
    "                      title='UMAP of Anime Recommendations from Collab Filter, Vector Database and Popular Recommendations')\n",
    "\n",
    "# Modify the marker symbol for points labeled 'pop_rec' to be a star with yellow color and bigger size\n",
    "fig_umap.for_each_trace(lambda t: t.update(marker=dict(symbol='star', size=12, color='yellow') if t.name == 'pop_rec' else {}))\n",
    "\n",
    "# Add annotation for a specific point\n",
    "x_coord = umap_df.loc[0, 'UMAP_1']\n",
    "y_coord = umap_df.loc[0, 'UMAP_2']\n",
    "fig_umap.add_annotation(x=x_coord, y=y_coord, text=\"X\", showarrow=True, font=dict(color=\"purple\", size=20))\n",
    "\n",
    "# Find the three closest points to the marked point\n",
    "nn_model = NearestNeighbors(n_neighbors=4, metric='euclidean')\n",
    "nn_model.fit(umap_result)\n",
    "distances, indices = nn_model.kneighbors([umap_result[0]])\n",
    "\n",
    "# Collect anime IDs of the three closest points\n",
    "closest_anime_ids = umap_df.loc[indices[0][1:], 'Name'].tolist()\n",
    "\n",
    "# Plot red X symbol on the closest points (excluding the marked point)\n",
    "for i, idx in enumerate(indices[0][1:], start=1):\n",
    "    target_x = umap_df.loc[idx, 'UMAP_1']\n",
    "    target_y = umap_df.loc[idx, 'UMAP_2']\n",
    "    fig_umap.add_trace(go.Scatter(x=[target_x], y=[target_y], mode='markers', showlegend=True,\n",
    "                                  marker=dict(symbol='x', size=10, color='red'), name=f'rec {i}'))\n",
    "\n",
    "\n",
    "# Update hover template to include only 'Name' and 'Studios'\n",
    "fig_umap.update_traces(customdata=umap_df[['Studios', 'Name']],\n",
    "                        hovertemplate=\"<b>%{customdata[1]}</b><br>\" +\n",
    "                                      \"Studios: %{customdata[0]}<br>\" +\n",
    "                                      \"<extra></extra>\")\n",
    "\n",
    "# Show the plot\n",
    "fig_umap.show()"
   ]
  },
  {
   "cell_type": "code",
   "execution_count": 246,
   "metadata": {},
   "outputs": [
    {
     "data": {
      "text/plain": [
       "[50385, 21, 23393]"
      ]
     },
     "execution_count": 246,
     "metadata": {},
     "output_type": "execute_result"
    }
   ],
   "source": [
    "closest_anime_ids"
   ]
  },
  {
   "cell_type": "code",
   "execution_count": null,
   "metadata": {},
   "outputs": [],
   "source": []
  }
 ],
 "metadata": {
  "kernelspec": {
   "display_name": "Python 3",
   "language": "python",
   "name": "python3"
  },
  "language_info": {
   "codemirror_mode": {
    "name": "ipython",
    "version": 3
   },
   "file_extension": ".py",
   "mimetype": "text/x-python",
   "name": "python",
   "nbconvert_exporter": "python",
   "pygments_lexer": "ipython3",
   "version": "3.10.13"
  }
 },
 "nbformat": 4,
 "nbformat_minor": 2
}
