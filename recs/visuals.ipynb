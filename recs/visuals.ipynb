{
 "cells": [
  {
   "cell_type": "code",
   "execution_count": 1,
   "metadata": {},
   "outputs": [],
   "source": [
    "import sys \n",
    "sys.path.append('/Users/justinvhuang/Desktop/CSE-6242-Group-Project')"
   ]
  },
  {
   "cell_type": "code",
   "execution_count": 3,
   "metadata": {},
   "outputs": [],
   "source": [
    "import pandas as pd\n",
    "import plotly.express as px\n",
    "from app.utils.textpreprocessing import TextPreprocessor\n",
    "textprepo = TextPreprocessor()\n",
    "from app.utils.data_manipulation import (create_retriever, \n",
    "                                         load_data, \n",
    "                                         process_recommendations, \n",
    "                                         get_top3_posters_and_names, \n",
    "                                         get_recommendations_descriptions)\n",
    "from umap import UMAP\n",
    "from sentence_transformers import SentenceTransformer\n",
    "from sklearn.neighbors import NearestNeighbors\n",
    "import plotly.graph_objects as go\n"
   ]
  },
  {
   "cell_type": "code",
   "execution_count": 4,
   "metadata": {},
   "outputs": [],
   "source": [
    "sbert = \"sentence-transformers/all-MiniLM-L6-v2\"\n",
    "vdb = \"/Users/justinvhuang/Desktop/CSE-6242-Group-Project/app/faiss_anime_index_v3\"\n",
    "db_faiss = create_retriever(vdb, sbert)"
   ]
  },
  {
   "cell_type": "code",
   "execution_count": 5,
   "metadata": {},
   "outputs": [],
   "source": [
    "def filter_tokens(metadata: dict) -> bool:\n",
    "    \"\"\"\n",
    "    Filter function to apply on retrieved documents based on metadata.\n",
    "\n",
    "    Args:\n",
    "        metadata (dict): Metadata of the document.\n",
    "        query_token (list): List of tokens to filter.\n",
    "\n",
    "    Returns:\n",
    "        bool: True if the document passes the filter, False otherwise.\n",
    "    \"\"\"\n",
    "    metadata_tokens = metadata.get(\"tokens\", [])\n",
    "    metadata_studio = metadata.get(\"studio\", [])\n",
    "    metadata_producer = metadata.get(\"producer\", [])\n",
    "    metadata_licensors = metadata.get(\"licensors\", [])\n",
    "    metadata_genre = metadata.get(\"genre\", [])\n",
    "\n",
    "    return (\n",
    "        any(token in metadata_tokens for token in query_token)\n",
    "        or metadata.get(\"score\", 0.0) > 5.0\n",
    "        or any(token in metadata_studio for token in query_token)\n",
    "        or any(token in metadata_producer for token in query_token)\n",
    "        or any(token in metadata_licensors for token in query_token)\n",
    "        or any(token in metadata_genre for token in query_token)\n",
    "    )"
   ]
  },
  {
   "cell_type": "code",
   "execution_count": 6,
   "metadata": {},
   "outputs": [],
   "source": [
    "retriever = db_faiss.as_retriever(search_kwargs={\"k\": 50, \"filter\": filter_tokens})"
   ]
  },
  {
   "cell_type": "code",
   "execution_count": 7,
   "metadata": {},
   "outputs": [],
   "source": [
    "query = 'I like pirate adventures'\n",
    "query_token = textprepo.preprocess_text(query)\n",
    "results = retriever.get_relevant_documents(query)"
   ]
  },
  {
   "cell_type": "code",
   "execution_count": 8,
   "metadata": {},
   "outputs": [],
   "source": [
    "\n",
    "results = retriever.get_relevant_documents(query)\n",
    "indexes = {x.metadata['anime_id']: index for index, x in enumerate(results)}"
   ]
  },
  {
   "cell_type": "code",
   "execution_count": 9,
   "metadata": {},
   "outputs": [],
   "source": [
    "json_file_path = \"/Users/justinvhuang/Desktop/CSE-6242-Group-Project/app/fin_anime_dfv2.json\"\n",
    "cf_pickle_path = \"/Users/justinvhuang/Desktop/CSE-6242-Group-Project/app/anime_recommendations_item_knn_CF_10k_num_fin.pkl\"\n",
    "pop_pickle_path = \"/Users/justinvhuang/Desktop/CSE-6242-Group-Project/app/popular_dict_10.pkl\"\n",
    "\n",
    "df, cf_recs, pop_recs = load_data(json_file_path, cf_pickle_path, pop_pickle_path)"
   ]
  },
  {
   "cell_type": "code",
   "execution_count": 10,
   "metadata": {},
   "outputs": [],
   "source": [
    "popular_anime_descriptions, joined_list, vd_recs = process_recommendations(pop_recs, df, indexes, cf_recs)"
   ]
  },
  {
   "cell_type": "code",
   "execution_count": 11,
   "metadata": {},
   "outputs": [],
   "source": [
    "top3_posters, top3_names = get_top3_posters_and_names(df, indexes)"
   ]
  },
  {
   "cell_type": "code",
   "execution_count": 12,
   "metadata": {},
   "outputs": [],
   "source": [
    "recs, recs2, descriptions = get_recommendations_descriptions(df, joined_list, pop_recs, vd_recs)"
   ]
  },
  {
   "cell_type": "code",
   "execution_count": 13,
   "metadata": {},
   "outputs": [],
   "source": [
    "top_anime_rating = recs2[recs2['anime_Score']!='UNKNOWN'].sort_values(by='anime_Score', ascending=False).head(10)\n",
    "top_studios = recs2.sort_values(by='Favorites', ascending=False).head(5)\n",
    "top_anime_rating['anime_Score'] = top_anime_rating['anime_Score'].astype(float)"
   ]
  },
  {
   "cell_type": "code",
   "execution_count": 14,
   "metadata": {},
   "outputs": [
    {
     "data": {
      "application/vnd.plotly.v1+json": {
       "config": {
        "plotlyServerURL": "https://plot.ly"
       },
       "data": [
        {
         "alignmentgroup": "True",
         "hovertemplate": "Name=%{y}<br>anime_Score=%{x}<extra></extra>",
         "legendgroup": "Cowboy Bebop",
         "marker": {
          "color": [
           "#aec7e8",
           "#7b9fcf",
           "#1f77b4",
           "#03539e",
           "#003f5c"
          ],
          "pattern": {
           "shape": ""
          }
         },
         "name": "Cowboy Bebop",
         "offsetgroup": "Cowboy Bebop",
         "orientation": "h",
         "showlegend": true,
         "textposition": "auto",
         "type": "bar",
         "x": [
          8.75
         ],
         "xaxis": "x",
         "y": [
          "Cowboy Bebop"
         ],
         "yaxis": "y"
        },
        {
         "alignmentgroup": "True",
         "hovertemplate": "Name=%{y}<br>anime_Score=%{x}<extra></extra>",
         "legendgroup": "Samurai Champloo",
         "marker": {
          "color": [
           "#aec7e8",
           "#7b9fcf",
           "#1f77b4",
           "#03539e",
           "#003f5c"
          ],
          "pattern": {
           "shape": ""
          }
         },
         "name": "Samurai Champloo",
         "offsetgroup": "Samurai Champloo",
         "orientation": "h",
         "showlegend": true,
         "textposition": "auto",
         "type": "bar",
         "x": [
          8.51
         ],
         "xaxis": "x",
         "y": [
          "Samurai Champloo"
         ],
         "yaxis": "y"
        },
        {
         "alignmentgroup": "True",
         "hovertemplate": "Name=%{y}<br>anime_Score=%{x}<extra></extra>",
         "legendgroup": "Rurouni Kenshin: Meiji Kenkaku Romantan",
         "marker": {
          "color": [
           "#aec7e8",
           "#7b9fcf",
           "#1f77b4",
           "#03539e",
           "#003f5c"
          ],
          "pattern": {
           "shape": ""
          }
         },
         "name": "Rurouni Kenshin: Meiji Kenkaku Romantan",
         "offsetgroup": "Rurouni Kenshin: Meiji Kenkaku Romantan",
         "orientation": "h",
         "showlegend": true,
         "textposition": "auto",
         "type": "bar",
         "x": [
          8.29
         ],
         "xaxis": "x",
         "y": [
          "Rurouni Kenshin: Meiji Kenkaku Romantan"
         ],
         "yaxis": "y"
        },
        {
         "alignmentgroup": "True",
         "hovertemplate": "Name=%{y}<br>anime_Score=%{x}<extra></extra>",
         "legendgroup": "Bakemono no Ko",
         "marker": {
          "color": [
           "#aec7e8",
           "#7b9fcf",
           "#1f77b4",
           "#03539e",
           "#003f5c"
          ],
          "pattern": {
           "shape": ""
          }
         },
         "name": "Bakemono no Ko",
         "offsetgroup": "Bakemono no Ko",
         "orientation": "h",
         "showlegend": true,
         "textposition": "auto",
         "type": "bar",
         "x": [
          8.25
         ],
         "xaxis": "x",
         "y": [
          "Bakemono no Ko"
         ],
         "yaxis": "y"
        },
        {
         "alignmentgroup": "True",
         "hovertemplate": "Name=%{y}<br>anime_Score=%{x}<extra></extra>",
         "legendgroup": "Trigun",
         "marker": {
          "color": [
           "#aec7e8",
           "#7b9fcf",
           "#1f77b4",
           "#03539e",
           "#003f5c"
          ],
          "pattern": {
           "shape": ""
          }
         },
         "name": "Trigun",
         "offsetgroup": "Trigun",
         "orientation": "h",
         "showlegend": true,
         "textposition": "auto",
         "type": "bar",
         "x": [
          8.22
         ],
         "xaxis": "x",
         "y": [
          "Trigun"
         ],
         "yaxis": "y"
        },
        {
         "alignmentgroup": "True",
         "hovertemplate": "Name=%{y}<br>anime_Score=%{x}<extra></extra>",
         "legendgroup": "One Piece Movie 14: Stampede",
         "marker": {
          "color": [
           "#aec7e8",
           "#7b9fcf",
           "#1f77b4",
           "#03539e",
           "#003f5c"
          ],
          "pattern": {
           "shape": ""
          }
         },
         "name": "One Piece Movie 14: Stampede",
         "offsetgroup": "One Piece Movie 14: Stampede",
         "orientation": "h",
         "showlegend": true,
         "textposition": "auto",
         "type": "bar",
         "x": [
          8.22
         ],
         "xaxis": "x",
         "y": [
          "One Piece Movie 14: Stampede"
         ],
         "yaxis": "y"
        },
        {
         "alignmentgroup": "True",
         "hovertemplate": "Name=%{y}<br>anime_Score=%{x}<extra></extra>",
         "legendgroup": "Berserk: Ougon Jidai-hen III - Kourin",
         "marker": {
          "color": [
           "#aec7e8",
           "#7b9fcf",
           "#1f77b4",
           "#03539e",
           "#003f5c"
          ],
          "pattern": {
           "shape": ""
          }
         },
         "name": "Berserk: Ougon Jidai-hen III - Kourin",
         "offsetgroup": "Berserk: Ougon Jidai-hen III - Kourin",
         "orientation": "h",
         "showlegend": true,
         "textposition": "auto",
         "type": "bar",
         "x": [
          8.2
         ],
         "xaxis": "x",
         "y": [
          "Berserk: Ougon Jidai-hen III - Kourin"
         ],
         "yaxis": "y"
        },
        {
         "alignmentgroup": "True",
         "hovertemplate": "Name=%{y}<br>anime_Score=%{x}<extra></extra>",
         "legendgroup": "Fullmetal Alchemist",
         "marker": {
          "color": [
           "#aec7e8",
           "#7b9fcf",
           "#1f77b4",
           "#03539e",
           "#003f5c"
          ],
          "pattern": {
           "shape": ""
          }
         },
         "name": "Fullmetal Alchemist",
         "offsetgroup": "Fullmetal Alchemist",
         "orientation": "h",
         "showlegend": true,
         "textposition": "auto",
         "type": "bar",
         "x": [
          8.11
         ],
         "xaxis": "x",
         "y": [
          "Fullmetal Alchemist"
         ],
         "yaxis": "y"
        },
        {
         "alignmentgroup": "True",
         "hovertemplate": "Name=%{y}<br>anime_Score=%{x}<extra></extra>",
         "legendgroup": "One Piece Film: Strong World",
         "marker": {
          "color": [
           "#aec7e8",
           "#7b9fcf",
           "#1f77b4",
           "#03539e",
           "#003f5c"
          ],
          "pattern": {
           "shape": ""
          }
         },
         "name": "One Piece Film: Strong World",
         "offsetgroup": "One Piece Film: Strong World",
         "orientation": "h",
         "showlegend": true,
         "textposition": "auto",
         "type": "bar",
         "x": [
          8.08
         ],
         "xaxis": "x",
         "y": [
          "One Piece Film: Strong World"
         ],
         "yaxis": "y"
        },
        {
         "alignmentgroup": "True",
         "hovertemplate": "Name=%{y}<br>anime_Score=%{x}<extra></extra>",
         "legendgroup": "One Piece Film: Strong World Episode 0",
         "marker": {
          "color": [
           "#aec7e8",
           "#7b9fcf",
           "#1f77b4",
           "#03539e",
           "#003f5c"
          ],
          "pattern": {
           "shape": ""
          }
         },
         "name": "One Piece Film: Strong World Episode 0",
         "offsetgroup": "One Piece Film: Strong World Episode 0",
         "orientation": "h",
         "showlegend": true,
         "textposition": "auto",
         "type": "bar",
         "x": [
          7.94
         ],
         "xaxis": "x",
         "y": [
          "One Piece Film: Strong World Episode 0"
         ],
         "yaxis": "y"
        }
       ],
       "layout": {
        "barmode": "relative",
        "legend": {
         "title": {
          "text": "Name"
         },
         "tracegroupgap": 0
        },
        "template": {
         "data": {
          "bar": [
           {
            "error_x": {
             "color": "#2a3f5f"
            },
            "error_y": {
             "color": "#2a3f5f"
            },
            "marker": {
             "line": {
              "color": "#E5ECF6",
              "width": 0.5
             },
             "pattern": {
              "fillmode": "overlay",
              "size": 10,
              "solidity": 0.2
             }
            },
            "type": "bar"
           }
          ],
          "barpolar": [
           {
            "marker": {
             "line": {
              "color": "#E5ECF6",
              "width": 0.5
             },
             "pattern": {
              "fillmode": "overlay",
              "size": 10,
              "solidity": 0.2
             }
            },
            "type": "barpolar"
           }
          ],
          "carpet": [
           {
            "aaxis": {
             "endlinecolor": "#2a3f5f",
             "gridcolor": "white",
             "linecolor": "white",
             "minorgridcolor": "white",
             "startlinecolor": "#2a3f5f"
            },
            "baxis": {
             "endlinecolor": "#2a3f5f",
             "gridcolor": "white",
             "linecolor": "white",
             "minorgridcolor": "white",
             "startlinecolor": "#2a3f5f"
            },
            "type": "carpet"
           }
          ],
          "choropleth": [
           {
            "colorbar": {
             "outlinewidth": 0,
             "ticks": ""
            },
            "type": "choropleth"
           }
          ],
          "contour": [
           {
            "colorbar": {
             "outlinewidth": 0,
             "ticks": ""
            },
            "colorscale": [
             [
              0,
              "#0d0887"
             ],
             [
              0.1111111111111111,
              "#46039f"
             ],
             [
              0.2222222222222222,
              "#7201a8"
             ],
             [
              0.3333333333333333,
              "#9c179e"
             ],
             [
              0.4444444444444444,
              "#bd3786"
             ],
             [
              0.5555555555555556,
              "#d8576b"
             ],
             [
              0.6666666666666666,
              "#ed7953"
             ],
             [
              0.7777777777777778,
              "#fb9f3a"
             ],
             [
              0.8888888888888888,
              "#fdca26"
             ],
             [
              1,
              "#f0f921"
             ]
            ],
            "type": "contour"
           }
          ],
          "contourcarpet": [
           {
            "colorbar": {
             "outlinewidth": 0,
             "ticks": ""
            },
            "type": "contourcarpet"
           }
          ],
          "heatmap": [
           {
            "colorbar": {
             "outlinewidth": 0,
             "ticks": ""
            },
            "colorscale": [
             [
              0,
              "#0d0887"
             ],
             [
              0.1111111111111111,
              "#46039f"
             ],
             [
              0.2222222222222222,
              "#7201a8"
             ],
             [
              0.3333333333333333,
              "#9c179e"
             ],
             [
              0.4444444444444444,
              "#bd3786"
             ],
             [
              0.5555555555555556,
              "#d8576b"
             ],
             [
              0.6666666666666666,
              "#ed7953"
             ],
             [
              0.7777777777777778,
              "#fb9f3a"
             ],
             [
              0.8888888888888888,
              "#fdca26"
             ],
             [
              1,
              "#f0f921"
             ]
            ],
            "type": "heatmap"
           }
          ],
          "heatmapgl": [
           {
            "colorbar": {
             "outlinewidth": 0,
             "ticks": ""
            },
            "colorscale": [
             [
              0,
              "#0d0887"
             ],
             [
              0.1111111111111111,
              "#46039f"
             ],
             [
              0.2222222222222222,
              "#7201a8"
             ],
             [
              0.3333333333333333,
              "#9c179e"
             ],
             [
              0.4444444444444444,
              "#bd3786"
             ],
             [
              0.5555555555555556,
              "#d8576b"
             ],
             [
              0.6666666666666666,
              "#ed7953"
             ],
             [
              0.7777777777777778,
              "#fb9f3a"
             ],
             [
              0.8888888888888888,
              "#fdca26"
             ],
             [
              1,
              "#f0f921"
             ]
            ],
            "type": "heatmapgl"
           }
          ],
          "histogram": [
           {
            "marker": {
             "pattern": {
              "fillmode": "overlay",
              "size": 10,
              "solidity": 0.2
             }
            },
            "type": "histogram"
           }
          ],
          "histogram2d": [
           {
            "colorbar": {
             "outlinewidth": 0,
             "ticks": ""
            },
            "colorscale": [
             [
              0,
              "#0d0887"
             ],
             [
              0.1111111111111111,
              "#46039f"
             ],
             [
              0.2222222222222222,
              "#7201a8"
             ],
             [
              0.3333333333333333,
              "#9c179e"
             ],
             [
              0.4444444444444444,
              "#bd3786"
             ],
             [
              0.5555555555555556,
              "#d8576b"
             ],
             [
              0.6666666666666666,
              "#ed7953"
             ],
             [
              0.7777777777777778,
              "#fb9f3a"
             ],
             [
              0.8888888888888888,
              "#fdca26"
             ],
             [
              1,
              "#f0f921"
             ]
            ],
            "type": "histogram2d"
           }
          ],
          "histogram2dcontour": [
           {
            "colorbar": {
             "outlinewidth": 0,
             "ticks": ""
            },
            "colorscale": [
             [
              0,
              "#0d0887"
             ],
             [
              0.1111111111111111,
              "#46039f"
             ],
             [
              0.2222222222222222,
              "#7201a8"
             ],
             [
              0.3333333333333333,
              "#9c179e"
             ],
             [
              0.4444444444444444,
              "#bd3786"
             ],
             [
              0.5555555555555556,
              "#d8576b"
             ],
             [
              0.6666666666666666,
              "#ed7953"
             ],
             [
              0.7777777777777778,
              "#fb9f3a"
             ],
             [
              0.8888888888888888,
              "#fdca26"
             ],
             [
              1,
              "#f0f921"
             ]
            ],
            "type": "histogram2dcontour"
           }
          ],
          "mesh3d": [
           {
            "colorbar": {
             "outlinewidth": 0,
             "ticks": ""
            },
            "type": "mesh3d"
           }
          ],
          "parcoords": [
           {
            "line": {
             "colorbar": {
              "outlinewidth": 0,
              "ticks": ""
             }
            },
            "type": "parcoords"
           }
          ],
          "pie": [
           {
            "automargin": true,
            "type": "pie"
           }
          ],
          "scatter": [
           {
            "fillpattern": {
             "fillmode": "overlay",
             "size": 10,
             "solidity": 0.2
            },
            "type": "scatter"
           }
          ],
          "scatter3d": [
           {
            "line": {
             "colorbar": {
              "outlinewidth": 0,
              "ticks": ""
             }
            },
            "marker": {
             "colorbar": {
              "outlinewidth": 0,
              "ticks": ""
             }
            },
            "type": "scatter3d"
           }
          ],
          "scattercarpet": [
           {
            "marker": {
             "colorbar": {
              "outlinewidth": 0,
              "ticks": ""
             }
            },
            "type": "scattercarpet"
           }
          ],
          "scattergeo": [
           {
            "marker": {
             "colorbar": {
              "outlinewidth": 0,
              "ticks": ""
             }
            },
            "type": "scattergeo"
           }
          ],
          "scattergl": [
           {
            "marker": {
             "colorbar": {
              "outlinewidth": 0,
              "ticks": ""
             }
            },
            "type": "scattergl"
           }
          ],
          "scattermapbox": [
           {
            "marker": {
             "colorbar": {
              "outlinewidth": 0,
              "ticks": ""
             }
            },
            "type": "scattermapbox"
           }
          ],
          "scatterpolar": [
           {
            "marker": {
             "colorbar": {
              "outlinewidth": 0,
              "ticks": ""
             }
            },
            "type": "scatterpolar"
           }
          ],
          "scatterpolargl": [
           {
            "marker": {
             "colorbar": {
              "outlinewidth": 0,
              "ticks": ""
             }
            },
            "type": "scatterpolargl"
           }
          ],
          "scatterternary": [
           {
            "marker": {
             "colorbar": {
              "outlinewidth": 0,
              "ticks": ""
             }
            },
            "type": "scatterternary"
           }
          ],
          "surface": [
           {
            "colorbar": {
             "outlinewidth": 0,
             "ticks": ""
            },
            "colorscale": [
             [
              0,
              "#0d0887"
             ],
             [
              0.1111111111111111,
              "#46039f"
             ],
             [
              0.2222222222222222,
              "#7201a8"
             ],
             [
              0.3333333333333333,
              "#9c179e"
             ],
             [
              0.4444444444444444,
              "#bd3786"
             ],
             [
              0.5555555555555556,
              "#d8576b"
             ],
             [
              0.6666666666666666,
              "#ed7953"
             ],
             [
              0.7777777777777778,
              "#fb9f3a"
             ],
             [
              0.8888888888888888,
              "#fdca26"
             ],
             [
              1,
              "#f0f921"
             ]
            ],
            "type": "surface"
           }
          ],
          "table": [
           {
            "cells": {
             "fill": {
              "color": "#EBF0F8"
             },
             "line": {
              "color": "white"
             }
            },
            "header": {
             "fill": {
              "color": "#C8D4E3"
             },
             "line": {
              "color": "white"
             }
            },
            "type": "table"
           }
          ]
         },
         "layout": {
          "annotationdefaults": {
           "arrowcolor": "#2a3f5f",
           "arrowhead": 0,
           "arrowwidth": 1
          },
          "autotypenumbers": "strict",
          "coloraxis": {
           "colorbar": {
            "outlinewidth": 0,
            "ticks": ""
           }
          },
          "colorscale": {
           "diverging": [
            [
             0,
             "#8e0152"
            ],
            [
             0.1,
             "#c51b7d"
            ],
            [
             0.2,
             "#de77ae"
            ],
            [
             0.3,
             "#f1b6da"
            ],
            [
             0.4,
             "#fde0ef"
            ],
            [
             0.5,
             "#f7f7f7"
            ],
            [
             0.6,
             "#e6f5d0"
            ],
            [
             0.7,
             "#b8e186"
            ],
            [
             0.8,
             "#7fbc41"
            ],
            [
             0.9,
             "#4d9221"
            ],
            [
             1,
             "#276419"
            ]
           ],
           "sequential": [
            [
             0,
             "#0d0887"
            ],
            [
             0.1111111111111111,
             "#46039f"
            ],
            [
             0.2222222222222222,
             "#7201a8"
            ],
            [
             0.3333333333333333,
             "#9c179e"
            ],
            [
             0.4444444444444444,
             "#bd3786"
            ],
            [
             0.5555555555555556,
             "#d8576b"
            ],
            [
             0.6666666666666666,
             "#ed7953"
            ],
            [
             0.7777777777777778,
             "#fb9f3a"
            ],
            [
             0.8888888888888888,
             "#fdca26"
            ],
            [
             1,
             "#f0f921"
            ]
           ],
           "sequentialminus": [
            [
             0,
             "#0d0887"
            ],
            [
             0.1111111111111111,
             "#46039f"
            ],
            [
             0.2222222222222222,
             "#7201a8"
            ],
            [
             0.3333333333333333,
             "#9c179e"
            ],
            [
             0.4444444444444444,
             "#bd3786"
            ],
            [
             0.5555555555555556,
             "#d8576b"
            ],
            [
             0.6666666666666666,
             "#ed7953"
            ],
            [
             0.7777777777777778,
             "#fb9f3a"
            ],
            [
             0.8888888888888888,
             "#fdca26"
            ],
            [
             1,
             "#f0f921"
            ]
           ]
          },
          "colorway": [
           "#636efa",
           "#EF553B",
           "#00cc96",
           "#ab63fa",
           "#FFA15A",
           "#19d3f3",
           "#FF6692",
           "#B6E880",
           "#FF97FF",
           "#FECB52"
          ],
          "font": {
           "color": "#2a3f5f"
          },
          "geo": {
           "bgcolor": "white",
           "lakecolor": "white",
           "landcolor": "#E5ECF6",
           "showlakes": true,
           "showland": true,
           "subunitcolor": "white"
          },
          "hoverlabel": {
           "align": "left"
          },
          "hovermode": "closest",
          "mapbox": {
           "style": "light"
          },
          "paper_bgcolor": "white",
          "plot_bgcolor": "#E5ECF6",
          "polar": {
           "angularaxis": {
            "gridcolor": "white",
            "linecolor": "white",
            "ticks": ""
           },
           "bgcolor": "#E5ECF6",
           "radialaxis": {
            "gridcolor": "white",
            "linecolor": "white",
            "ticks": ""
           }
          },
          "scene": {
           "xaxis": {
            "backgroundcolor": "#E5ECF6",
            "gridcolor": "white",
            "gridwidth": 2,
            "linecolor": "white",
            "showbackground": true,
            "ticks": "",
            "zerolinecolor": "white"
           },
           "yaxis": {
            "backgroundcolor": "#E5ECF6",
            "gridcolor": "white",
            "gridwidth": 2,
            "linecolor": "white",
            "showbackground": true,
            "ticks": "",
            "zerolinecolor": "white"
           },
           "zaxis": {
            "backgroundcolor": "#E5ECF6",
            "gridcolor": "white",
            "gridwidth": 2,
            "linecolor": "white",
            "showbackground": true,
            "ticks": "",
            "zerolinecolor": "white"
           }
          },
          "shapedefaults": {
           "line": {
            "color": "#2a3f5f"
           }
          },
          "ternary": {
           "aaxis": {
            "gridcolor": "white",
            "linecolor": "white",
            "ticks": ""
           },
           "baxis": {
            "gridcolor": "white",
            "linecolor": "white",
            "ticks": ""
           },
           "bgcolor": "#E5ECF6",
           "caxis": {
            "gridcolor": "white",
            "linecolor": "white",
            "ticks": ""
           }
          },
          "title": {
           "x": 0.05
          },
          "xaxis": {
           "automargin": true,
           "gridcolor": "white",
           "linecolor": "white",
           "ticks": "",
           "title": {
            "standoff": 15
           },
           "zerolinecolor": "white",
           "zerolinewidth": 2
          },
          "yaxis": {
           "automargin": true,
           "gridcolor": "white",
           "linecolor": "white",
           "ticks": "",
           "title": {
            "standoff": 15
           },
           "zerolinecolor": "white",
           "zerolinewidth": 2
          }
         }
        },
        "title": {
         "text": "Ratings of Popular Anime"
        },
        "xaxis": {
         "anchor": "y",
         "domain": [
          0,
          1
         ],
         "title": {
          "text": "anime_Score"
         }
        },
        "yaxis": {
         "anchor": "x",
         "categoryarray": [
          "One Piece Film: Strong World Episode 0",
          "One Piece Film: Strong World",
          "Fullmetal Alchemist",
          "Berserk: Ougon Jidai-hen III - Kourin",
          "One Piece Movie 14: Stampede",
          "Trigun",
          "Bakemono no Ko",
          "Rurouni Kenshin: Meiji Kenkaku Romantan",
          "Samurai Champloo",
          "Cowboy Bebop"
         ],
         "categoryorder": "array",
         "domain": [
          0,
          1
         ],
         "title": {
          "text": "Name"
         }
        }
       }
      }
     },
     "metadata": {},
     "output_type": "display_data"
    }
   ],
   "source": [
    "# Reset bar plot to default state\n",
    "fig_bar = px.bar(top_anime_rating, x='anime_Score', y='Name', color='Name',\n",
    "                 title=\"Ratings of Popular Anime\", orientation='h')\n",
    "blue_palette = ['#aec7e8', '#7b9fcf', '#1f77b4', '#03539e', '#003f5c']\n",
    "# Set colors for bars\n",
    "fig_bar.update_traces(marker_color=blue_palette)\n",
    "# Show the plot\n",
    "fig_bar.show()"
   ]
  },
  {
   "cell_type": "code",
   "execution_count": 15,
   "metadata": {},
   "outputs": [
    {
     "data": {
      "application/vnd.plotly.v1+json": {
       "config": {
        "plotlyServerURL": "https://plot.ly"
       },
       "data": [
        {
         "alignmentgroup": "True",
         "customdata": [
          [
           "Bakuten Shoot Beyblade"
          ],
          [
           "Cardcaptor Sakura Movie 1"
          ],
          [
           "Final Fantasy VII: Last Order"
          ],
          [
           "Galaxy Angel Z"
          ],
          [
           "Galaxy Angel 3"
          ],
          [
           "Tenjou Tenge: The Past Chapter"
          ],
          [
           "Ichigo 100% OVA"
          ],
          [
           "Zetsuai 1989"
          ],
          [
           "DNA² OVA"
          ],
          [
           "Piyoko ni Omakase pyo!"
          ],
          [
           "Di Gi Charat: Hoshi no Tabi"
          ],
          [
           "Di Gi Charat: Kuchi Kara Bazooka"
          ],
          [
           "Di Gi Charat Summer Special 2000"
          ],
          [
           "Di Gi Charat Ohanami Special"
          ],
          [
           "Di Gi Charat Christmas Special"
          ],
          [
           "Di Gi Charat Tsuyu Specials"
          ],
          [
           "Taiyou no Mokushiroku: A Spirit of the Sun"
          ],
          [
           "Azuki-chan"
          ],
          [
           "Saiunkoku Monogatari 2nd Season"
          ],
          [
           "Urusei Yatsura Movie 6: Itsudatte My Darling"
          ],
          [
           "Hanada Shounen-shi"
          ],
          [
           "Oh! Edo Rocket"
          ],
          [
           "Highlander: The Search for Vengeance"
          ],
          [
           "Suteki desu wa, Sakura-chan! Tomoyo no Cardcaptor Sakura Katsuyaku Video Nikki!"
          ],
          [
           "Hidamari no Ki"
          ],
          [
           "MapleStory"
          ],
          [
           "Sweet Valerian"
          ],
          [
           "Super Doll Licca-chan"
          ],
          [
           "Hi no Tori: Yamato-hen"
          ],
          [
           "Toki no Tabibito: Time Stranger"
          ],
          [
           "Mouryou no Hako"
          ],
          [
           "Alexander Senki Movie"
          ],
          [
           "Souten Kouro"
          ],
          [
           "Chi's Sweet Home: Atarashii Ouchi"
          ],
          [
           "Mouryou no Hako: Chuuzenji Atsuko no Jikenbo - Hako no Yurei no Koto"
          ],
          [
           "Wolverine"
          ],
          [
           "Ningen Shikkaku: Director's Cut-ban"
          ],
          [
           "Tsuruhime Ja!"
          ],
          [
           "Super Doll Licca-chan: Licca-chan Zettai Zetsumei! Doll Knights no Kiseki"
          ],
          [
           "Tibet Inu Monogatari"
          ],
          [
           "Redline Pilot"
          ],
          [
           "Hajime no Ippo: Boxer no Kobushi"
          ],
          [
           "Galaxy Angel S"
          ],
          [
           "Oedo wa Nemurenai!"
          ],
          [
           "Btooom!"
          ],
          [
           "Chihayafuru 2"
          ],
          [
           "Avengers Confidential: Black Widow to Punisher"
          ],
          [
           "MapleStory Special"
          ],
          [
           "Marvel Future Avengers"
          ],
          [
           "Cardcaptor Sakura: Clear Card-hen Prologue - Sakura to Futatsu no Kuma"
          ],
          [
           "ACCA: 13-ku Kansatsu-ka Specials"
          ],
          [
           "Marvel Future Avengers 2nd Season"
          ],
          [
           "Chuukan Kanriroku Tonegawa"
          ],
          [
           "Chihayafuru 3"
          ],
          [
           "Overlord IV"
          ],
          [
           "Sakura Taisen Special"
          ],
          [
           "Juubee Ninpuuchou Burst"
          ],
          [
           "A-Girl"
          ],
          [
           "ACCA: 13-ku Kansatsu-ka"
          ],
          [
           "AI no Idenshi"
          ],
          [
           "Black Lagoon: The Second Barrage"
          ],
          [
           "Black Lagoon"
          ],
          [
           "Boogiepop wa Warawanai"
          ],
          [
           "Boogiepop wa Warawanai (2019)"
          ],
          [
           "ChäoS;HEAd"
          ],
          [
           "Dennou Coil"
          ],
          [
           "Final Fantasy"
          ],
          [
           "Galaxy Angel"
          ],
          [
           "Galaxy Angel Specials"
          ],
          [
           "Goodbye, Don Glees!"
          ],
          [
           "Gyakkyou Burai Kaiji: Hakairoku-hen"
          ],
          [
           "Gyakkyou Burai Kaiji: Ultimate Survivor"
          ],
          [
           "Hadashi no Gen"
          ],
          [
           "Hajime no Ippo"
          ],
          [
           "Hanayamata"
          ],
          [
           "Hi no Tori: Houou-hen"
          ],
          [
           "Highschool of the Dead: Drifters of the Dead"
          ],
          [
           "Hitsuji no Uta"
          ],
          [
           "Honoo no Mirage: Minagiwa no Hangyakusha"
          ],
          [
           "Ichigo 100%"
          ],
          [
           "Ichigo 100% Special 2"
          ],
          [
           "Kamui no Ken"
          ],
          [
           "Kaze no Na wa Amnesia"
          ],
          [
           "Kazemakase Tsukikage Ran"
          ],
          [
           "Kyuuketsuki Sugu Shinu"
          ],
          [
           "Mahouka Koukou no Rettousei"
          ],
          [
           "Mamono Hunter Youko"
          ],
          [
           "Master Keaton"
          ],
          [
           "Master Keaton OVA"
          ],
          [
           "Mousou Dairinin"
          ],
          [
           "Mushikaburi-hime"
          ],
          [
           "Nasu: Suitcase no Wataridori"
          ],
          [
           "Nejimaki Seirei Senki: Tenkyou no Alderamin"
          ],
          [
           "Nineteen 19"
          ],
          [
           "No Game No Life Specials"
          ],
          [
           "No Guns Life 2nd Season"
          ],
          [
           "No Guns Life"
          ],
          [
           "Oda Nobuna no Yabou Recap"
          ],
          [
           "One Outs"
          ],
          [
           "Overlord"
          ],
          [
           "Overlord II"
          ],
          [
           "Panyo Panyo Di Gi Charat"
          ],
          [
           "Paprika"
          ],
          [
           "Paradise Kiss"
          ],
          [
           "Pita Ten"
          ],
          [
           "Prince of Stride: Alternative"
          ],
          [
           "RideBack"
          ],
          [
           "SF Shinseiki Lensman"
          ],
          [
           "Sora yori mo Tooi Basho"
          ],
          [
           "Space Pirate Captain Herlock: Outside Legend - The Endless Odyssey"
          ],
          [
           "Stitch!"
          ],
          [
           "Summer Wars"
          ],
          [
           "Texhnolyze"
          ],
          [
           "Touhai Densetsu Akagi: Yami ni Maiorita Tensai"
          ],
          [
           "Trigun: Badlands Rumble"
          ],
          [
           "Yojouhan Shinwa Taikei Specials"
          ],
          [
           "Yojouhan Shinwa Taikei"
          ],
          [
           "Youjuu Toshi"
          ],
          [
           "Yousei Ou"
          ],
          [
           "Yuugen Kaisha"
          ],
          [
           "Afro Samurai Pilot"
          ],
          [
           "Alexander Senki"
          ],
          [
           "Allison to Lillia"
          ],
          [
           "Anime Koukyoushi: Jungle Taitei"
          ],
          [
           "Anne no Nikki"
          ],
          [
           "Aoi Bungaku Series"
          ],
          [
           "Aquarian Age: Saga II - Don't Forget Me..."
          ],
          [
           "Beck"
          ],
          [
           "Bio Hunter"
          ],
          [
           "Black Lagoon: Roberta's Blood Trail"
          ],
          [
           "Bobby ni Kubittake"
          ],
          [
           "Cardcaptor Sakura"
          ],
          [
           "Cardcaptor Sakura: Clear Card-hen"
          ],
          [
           "Chi's Sweet Home"
          ],
          [
           "Chihayafuru"
          ],
          [
           "Chobits"
          ],
          [
           "Chobits Recap"
          ],
          [
           "Cinnamon the Movie"
          ],
          [
           "Claymore"
          ],
          [
           "Cyber City Oedo 808"
          ],
          [
           "Death Billiards"
          ],
          [
           "Death Note"
          ],
          [
           "Death Parade"
          ],
          [
           "Deimos no Hanayome: Ran no Kumikyoku"
          ],
          [
           "Devil May Cry"
          ],
          [
           "Di Gi Charat"
          ],
          [
           "Di Gi Charat Nyo"
          ],
          [
           "Dragon Drive"
          ],
          [
           "Eguchi Hisashi no Nantoka Narudesho!"
          ],
          [
           "Gakuen Senki Muryou"
          ],
          [
           "Genma Taisen"
          ],
          [
           "Gungrave"
          ],
          [
           "Gunnm"
          ],
          [
           "Gunslinger Girl"
          ],
          [
           "Hadashi no Gen 2"
          ],
          [
           "Hajime no Ippo: Champion Road"
          ],
          [
           "Hajime no Ippo: Mashiba vs. Kimura"
          ],
          [
           "Hakozume: Kouban Joshi no Gyakushuu"
          ],
          [
           "Hi no Tori: Uchuu-hen"
          ],
          [
           "Highschool of the Dead"
          ],
          [
           "Honoo no Mirage"
          ],
          [
           "Hunter x Hunter (2011)"
          ],
          [
           "Hunter x Hunter Movie 1: Phantom Rouge"
          ],
          [
           "Hunter x Hunter Movie 2: The Last Mission"
          ],
          [
           "Iron Man"
          ],
          [
           "Iron Man: Rise of Technovore"
          ],
          [
           "Juubee Ninpuuchou"
          ],
          [
           "Juubee-chan 2: Siberia Yagyuu no Gyakushuu"
          ],
          [
           "Kaiba"
          ],
          [
           "Kaibutsu Oujo"
          ],
          [
           "Kamisama no Inai Nichiyoubi"
          ],
          [
           "Kemonozume"
          ],
          [
           "Kiba"
          ],
          [
           "Kin no Kuni Mizu no Kuni"
          ],
          [
           "Kiseijuu: Sei no Kakuritsu"
          ],
          [
           "Kobato."
          ],
          [
           "Kurozuka"
          ],
          [
           "Lodoss-tou Senki"
          ],
          [
           "Mahou Sensou"
          ],
          [
           "Mai Mai Shinko to Sennen no Mahou"
          ],
          [
           "Majin Tantei Nougami Neuro"
          ],
          [
           "Makai Toshi Shinjuku"
          ],
          [
           "Manie-Manie: Meikyuu Monogatari"
          ],
          [
           "Metropolis"
          ],
          [
           "Monster"
          ],
          [
           "Nana"
          ],
          [
           "Nasu: Andalusia no Natsu"
          ],
          [
           "Natsuki Crisis"
          ],
          [
           "Nezumi Monogatari: George to Gerald no Bouken"
          ],
          [
           "Ningyo no Kizu"
          ],
          [
           "No Game No Life"
          ],
          [
           "No Game No Life: Zero"
          ],
          [
           "Okusama wa Joshikousei (TV)"
          ],
          [
           "Ore Monogatari!!"
          ],
          [
           "Perfect Blue"
          ],
          [
           "Petshop of Horrors"
          ],
          [
           "Photokano"
          ],
          [
           "Piano no Mori"
          ],
          [
           "Saiunkoku Monogatari"
          ],
          [
           "Sakura Taisen"
          ],
          [
           "Sennen Joyuu"
          ],
          [
           "Shigurui"
          ],
          [
           "Shihaisha no Tasogare"
          ],
          [
           "Shoumetsu Toshi"
          ],
          [
           "Sonny Boy"
          ],
          [
           "Sousou no Frieren"
          ],
          [
           "Supernatural The Animation"
          ],
          [
           "Teito Monogatari"
          ],
          [
           "Tenjou Tenge"
          ],
          [
           "Tetsuwan Birdy"
          ],
          [
           "Toaru Hikuushi e no Tsuioku"
          ],
          [
           "Toki wo Kakeru Shoujo"
          ],
          [
           "Tokyo Babylon"
          ],
          [
           "Tokyo Godfathers"
          ],
          [
           "Top Secret: The Revelation"
          ],
          [
           "Trigun"
          ],
          [
           "Ultraviolet: Code 044"
          ],
          [
           "Unico"
          ],
          [
           "Unico: Mahou no Shima e"
          ],
          [
           "Vampire Hunter D (2000)"
          ],
          [
           "WXIII Kidou Keisatsu Patlabor"
          ],
          [
           "X"
          ],
          [
           "X/1999"
          ],
          [
           "X-Men"
          ],
          [
           "X²: Double X"
          ],
          [
           "Yamada-kun to Lv999 no Koi wo Suru"
          ],
          [
           "Yona Yona Penguin"
          ],
          [
           "Yume Tsukai"
          ]
         ],
         "hovertemplate": "<b>Name:</b> %{customdata[0]}<br><b>Favorites:</b> %{y}",
         "legendgroup": "Madhouse",
         "marker": {
          "color": "#636efa"
         },
         "name": "Madhouse",
         "notched": false,
         "offsetgroup": "Madhouse",
         "orientation": "v",
         "showlegend": true,
         "type": "box",
         "x": [
          "Madhouse",
          "Madhouse",
          "Madhouse",
          "Madhouse",
          "Madhouse",
          "Madhouse",
          "Madhouse",
          "Madhouse",
          "Madhouse",
          "Madhouse",
          "Madhouse",
          "Madhouse",
          "Madhouse",
          "Madhouse",
          "Madhouse",
          "Madhouse",
          "Madhouse",
          "Madhouse",
          "Madhouse",
          "Madhouse",
          "Madhouse",
          "Madhouse",
          "Madhouse",
          "Madhouse",
          "Madhouse",
          "Madhouse",
          "Madhouse",
          "Madhouse",
          "Madhouse",
          "Madhouse",
          "Madhouse",
          "Madhouse",
          "Madhouse",
          "Madhouse",
          "Madhouse",
          "Madhouse",
          "Madhouse",
          "Madhouse",
          "Madhouse",
          "Madhouse",
          "Madhouse",
          "Madhouse",
          "Madhouse",
          "Madhouse",
          "Madhouse",
          "Madhouse",
          "Madhouse",
          "Madhouse",
          "Madhouse",
          "Madhouse",
          "Madhouse",
          "Madhouse",
          "Madhouse",
          "Madhouse",
          "Madhouse",
          "Madhouse",
          "Madhouse",
          "Madhouse",
          "Madhouse",
          "Madhouse",
          "Madhouse",
          "Madhouse",
          "Madhouse",
          "Madhouse",
          "Madhouse",
          "Madhouse",
          "Madhouse",
          "Madhouse",
          "Madhouse",
          "Madhouse",
          "Madhouse",
          "Madhouse",
          "Madhouse",
          "Madhouse",
          "Madhouse",
          "Madhouse",
          "Madhouse",
          "Madhouse",
          "Madhouse",
          "Madhouse",
          "Madhouse",
          "Madhouse",
          "Madhouse",
          "Madhouse",
          "Madhouse",
          "Madhouse",
          "Madhouse",
          "Madhouse",
          "Madhouse",
          "Madhouse",
          "Madhouse",
          "Madhouse",
          "Madhouse",
          "Madhouse",
          "Madhouse",
          "Madhouse",
          "Madhouse",
          "Madhouse",
          "Madhouse",
          "Madhouse",
          "Madhouse",
          "Madhouse",
          "Madhouse",
          "Madhouse",
          "Madhouse",
          "Madhouse",
          "Madhouse",
          "Madhouse",
          "Madhouse",
          "Madhouse",
          "Madhouse",
          "Madhouse",
          "Madhouse",
          "Madhouse",
          "Madhouse",
          "Madhouse",
          "Madhouse",
          "Madhouse",
          "Madhouse",
          "Madhouse",
          "Madhouse",
          "Madhouse",
          "Madhouse",
          "Madhouse",
          "Madhouse",
          "Madhouse",
          "Madhouse",
          "Madhouse",
          "Madhouse",
          "Madhouse",
          "Madhouse",
          "Madhouse",
          "Madhouse",
          "Madhouse",
          "Madhouse",
          "Madhouse",
          "Madhouse",
          "Madhouse",
          "Madhouse",
          "Madhouse",
          "Madhouse",
          "Madhouse",
          "Madhouse",
          "Madhouse",
          "Madhouse",
          "Madhouse",
          "Madhouse",
          "Madhouse",
          "Madhouse",
          "Madhouse",
          "Madhouse",
          "Madhouse",
          "Madhouse",
          "Madhouse",
          "Madhouse",
          "Madhouse",
          "Madhouse",
          "Madhouse",
          "Madhouse",
          "Madhouse",
          "Madhouse",
          "Madhouse",
          "Madhouse",
          "Madhouse",
          "Madhouse",
          "Madhouse",
          "Madhouse",
          "Madhouse",
          "Madhouse",
          "Madhouse",
          "Madhouse",
          "Madhouse",
          "Madhouse",
          "Madhouse",
          "Madhouse",
          "Madhouse",
          "Madhouse",
          "Madhouse",
          "Madhouse",
          "Madhouse",
          "Madhouse",
          "Madhouse",
          "Madhouse",
          "Madhouse",
          "Madhouse",
          "Madhouse",
          "Madhouse",
          "Madhouse",
          "Madhouse",
          "Madhouse",
          "Madhouse",
          "Madhouse",
          "Madhouse",
          "Madhouse",
          "Madhouse",
          "Madhouse",
          "Madhouse",
          "Madhouse",
          "Madhouse",
          "Madhouse",
          "Madhouse",
          "Madhouse",
          "Madhouse",
          "Madhouse",
          "Madhouse",
          "Madhouse",
          "Madhouse",
          "Madhouse",
          "Madhouse",
          "Madhouse",
          "Madhouse",
          "Madhouse",
          "Madhouse",
          "Madhouse",
          "Madhouse",
          "Madhouse",
          "Madhouse",
          "Madhouse",
          "Madhouse",
          "Madhouse",
          "Madhouse",
          "Madhouse",
          "Madhouse",
          "Madhouse",
          "Madhouse",
          "Madhouse",
          "Madhouse",
          "Madhouse"
         ],
         "x0": " ",
         "xaxis": "x",
         "y": [
          380,
          185,
          132,
          7,
          18,
          16,
          8,
          39,
          8,
          7,
          3,
          1,
          2,
          2,
          3,
          2,
          3,
          9,
          197,
          2,
          144,
          34,
          33,
          32,
          23,
          4,
          2,
          4,
          3,
          4,
          246,
          0,
          47,
          109,
          0,
          23,
          58,
          0,
          1,
          10,
          5,
          70,
          2,
          0,
          3355,
          1599,
          7,
          0,
          8,
          81,
          10,
          2,
          112,
          1458,
          6662,
          0,
          2,
          10,
          1426,
          40,
          2988,
          17759,
          1030,
          800,
          734,
          1620,
          21,
          185,
          1,
          74,
          2637,
          9745,
          145,
          20143,
          380,
          6,
          356,
          38,
          27,
          245,
          8,
          20,
          47,
          84,
          525,
          10868,
          26,
          120,
          20,
          5297,
          423,
          4,
          1384,
          9,
          218,
          78,
          287,
          5,
          3937,
          25126,
          4308,
          12,
          4396,
          4138,
          85,
          626,
          130,
          9,
          13548,
          36,
          13,
          3890,
          4786,
          1232,
          252,
          21,
          17671,
          211,
          2,
          8,
          10,
          27,
          175,
          3,
          8,
          1608,
          1,
          8149,
          11,
          1258,
          10,
          12789,
          629,
          430,
          7691,
          3824,
          40,
          15,
          8252,
          189,
          328,
          167586,
          27492,
          15,
          1606,
          182,
          43,
          50,
          4,
          24,
          6,
          2355,
          248,
          1153,
          21,
          214,
          173,
          158,
          3,
          9928,
          76,
          200265,
          285,
          268,
          27,
          8,
          1086,
          19,
          3547,
          209,
          877,
          455,
          441,
          6,
          33548,
          1472,
          311,
          599,
          333,
          21,
          574,
          51,
          117,
          595,
          47235,
          27265,
          10,
          1,
          1,
          7,
          47444,
          7520,
          35,
          4927,
          17801,
          415,
          157,
          119,
          1115,
          59,
          2488,
          883,
          16,
          54,
          5555,
          227,
          67,
          35,
          596,
          75,
          262,
          5773,
          35,
          2443,
          71,
          15035,
          6,
          37,
          15,
          2108,
          17,
          756,
          117,
          27,
          5,
          2060,
          0,
          14
         ],
         "y0": " ",
         "yaxis": "y"
        },
        {
         "alignmentgroup": "True",
         "customdata": [
          [
           "Kidou Keisatsu Patlabor: On Television"
          ],
          [
           "Mama wa Shougaku 4 Nensei"
          ],
          [
           "Seikai no Senki III"
          ],
          [
           "InuYasha Movie 1: Toki wo Koeru Omoi"
          ],
          [
           "Sentimental Journey"
          ],
          [
           "Yoroiden Samurai Troopers Kikoutei Densetsu"
          ],
          [
           "Yoroiden Samurai Troopers Message"
          ],
          [
           "Kidou Keisatsu Patlabor: New OVA"
          ],
          [
           "DT Eightron"
          ],
          [
           "Seikai no Monshou Special"
          ],
          [
           "Yuusha-Ou GaoGaiGar Final"
          ],
          [
           "Future GPX Cyber Formula"
          ],
          [
           "Future GPX Cyber Formula: Early Days Renewal"
          ],
          [
           "Mai-Otome Zwei"
          ],
          [
           "iDOLM@STER Xenoglossia"
          ],
          [
           "Zettai Muteki Raijin-Oh"
          ],
          [
           "Taiyou no Kiba Dagram"
          ],
          [
           "Kidou Senshi Gundam SEED Special Edition"
          ],
          [
           "Kidou Senshi Gundam SEED Destiny Special Edition"
          ],
          [
           "Freedom Previsited"
          ],
          [
           "Keroro Gunsou Movie 1"
          ],
          [
           "Juusenki L-Gaim III: Full Metal Soldier"
          ],
          [
           "Gekitou! Crush Gear Turbo"
          ],
          [
           "Kikou Keisatsu Metal Jack"
          ],
          [
           "Chou Mashin Eiyuuden Wataru"
          ],
          [
           "Mister Ajikko"
          ],
          [
           "Yuusha Tokkyuu Might Gaine"
          ],
          [
           "Ganbarist! Shun"
          ],
          [
           "Kidou Senshi Gundam 00 Second Season"
          ],
          [
           "Turn A Gundam I Movie: Earth Light"
          ],
          [
           "Turn A Gundam II Movie: Moonlight Butterfly"
          ],
          [
           "Juushin Liger"
          ],
          [
           "Shin SOS Dai Tokyo Tankentai"
          ],
          [
           "Muteki Robo Trider G7"
          ],
          [
           "Code Geass: Hangyaku no Lelouch Special Edition - Black Rebellion"
          ],
          [
           "Mashin Eiyuuden Wataru 2"
          ],
          [
           "Shiroi Kiba White Fang Monogatari"
          ],
          [
           "Kidou Senshi Gundam 00 Movie: A Wakening of the Trailblazer"
          ],
          [
           "Code Geass: Hangyaku no Lelouch R2 Special Edition - Zero Requiem"
          ],
          [
           "Crush Gear Nitro"
          ],
          [
           "Ring of Gundam"
          ],
          [
           "30th Gundam Perfect Mission"
          ],
          [
           "Kidou Senshi Gundam 00 Special Edition"
          ],
          [
           "Hipira-kun"
          ],
          [
           "Keroro Gunsou Movie 5: Tanjou! Kyuukyoku Keroro, Kiseki no Jikuu-jima, de Arimasu!!"
          ],
          [
           "Votoms Finder"
          ],
          [
           "Tales of the Abyss Special Fan Disc"
          ],
          [
           "Koi☆Sento"
          ],
          [
           "Battle Spirits: Brave"
          ],
          [
           "Zero Tester: Chikyuu wo Mamore!"
          ],
          [
           "Gintama: Shinyaku Benizakura-hen"
          ],
          [
           "s.CRY.ed Alteration I: Tao"
          ],
          [
           "Battle Spirits: Heroes"
          ],
          [
           "Sacred Seven: Shirogane no Tsubasa"
          ],
          [
           "Dirty Pair Flash 2"
          ],
          [
           "Dirty Pair Flash 3"
          ],
          [
           "Tales of Gekijou"
          ],
          [
           "Mugen no Ryvius: Illusion"
          ],
          [
           "Sacred Seven: Shirogane no Tsubasa Picture Drama"
          ],
          [
           "Gintama': Enchousen"
          ],
          [
           "Natsu-iro Kiseki: 15-kaime no Natsuyasumi"
          ],
          [
           "Code Geass: Soubou no Oz Picture Drama"
          ],
          [
           "Kakumeiki Valvrave 2nd Season"
          ],
          [
           "Love Live! School Idol Project 2nd Season"
          ],
          [
           "Short Peace Opening"
          ],
          [
           "Kaiketsu Zorori: Mamoru ze! Kyouryuu no Tamago"
          ],
          [
           "Saikyou Ginga Ultimate Zero: Battle Spirits"
          ],
          [
           "Love Live! School Idol Project OVA"
          ],
          [
           "Gintama: Yorinuki Gintama-san on Theater 2D"
          ],
          [
           "Aikatsu! Movie"
          ],
          [
           "Mugen Senshi Valis"
          ],
          [
           "Hipira-kun ONA"
          ],
          [
           "Hipira-kun Special"
          ],
          [
           "Buddy Complex: Kanketsu-hen - Ano Sora ni Kaeru Mirai de"
          ],
          [
           "Shoko Nakagawa Prism Tour Special"
          ],
          [
           "Kidou Senshi Gundam-san"
          ],
          [
           "Many Things SD Gundam"
          ],
          [
           "Gundam: G no Reconguista - From the Past to the Future"
          ],
          [
           "Accel World: Infinite∞Burst"
          ],
          [
           "Love Live! μ's Final Love Live! Opening Animation"
          ],
          [
           "Love Live! Sunshine!! 2nd Season"
          ],
          [
           "ClassicaLoid 2nd Season"
          ],
          [
           "Gundam Build Divers"
          ],
          [
           "Gundam Build Divers Prologue"
          ],
          [
           "City Hunter Movie: Shinjuku Private Eyes"
          ],
          [
           "Double Decker! Doug & Kirill: Extra"
          ],
          [
           "Seikai no Senki II Special"
          ],
          [
           "Orbital Era"
          ],
          [
           "Love Live! School Idol Festival All Stars"
          ],
          [
           "Code Geass: Fukkatsu no Lelouch Picture Drama"
          ],
          [
           "Code Geass: Hangyaku no Lelouch Picture Drama - Kiseki no Anniversary"
          ],
          [
           "Ano Hi no Kokoro wo Toraete"
          ],
          [
           "Love Live! Sunshine!! Photo Session"
          ],
          [
           "Gundam Breaker: Battlogue"
          ],
          [
           "Love Live! Superstar!! 2nd Season"
          ],
          [
           "Love Live! Superstar!! 3rd Season"
          ],
          [
           "All That Gundam"
          ],
          [
           "Aoki Ryuusei SPT Layzner"
          ],
          [
           "Aoki Ryuusei SPT Layzner OVA"
          ],
          [
           "Arion"
          ],
          [
           "Buddy Complex"
          ],
          [
           "Code Geass: Hangyaku no Lelouch Picture Drama"
          ],
          [
           "Code Geass: Hangyaku no Lelouch R2 Picture Drama"
          ],
          [
           "Code Geass: Hangyaku no Lelouch Recaps"
          ],
          [
           "Code Geass: Hangyaku no Lelouch"
          ],
          [
           "Code Geass: Hangyaku no Lelouch R2"
          ],
          [
           "Cowboy Bebop"
          ],
          [
           "Cross Ange: Tenshi to Ryuu no Rondo"
          ],
          [
           "Danshi Koukousei no Nichijou"
          ],
          [
           "Danshi Koukousei no Nichijou Specials"
          ],
          [
           "DinoZone"
          ],
          [
           "Gasaraki"
          ],
          [
           "Genki Bakuhatsu Ganbaruger"
          ],
          [
           "Ginga Hyouryuu Vifam"
          ],
          [
           "Gintama"
          ],
          [
           "Gintama'"
          ],
          [
           "Gundam Neo Experience 0087: Green Divers"
          ],
          [
           "InuYasha"
          ],
          [
           "InuYasha: Kuroi Tessaiga"
          ],
          [
           "InuYasha Movie 2: Kagami no Naka no Mugenjo"
          ],
          [
           "InuYasha: Kanketsu-hen"
          ],
          [
           "Juusenshi Gulkeeva"
          ],
          [
           "Kakumeiki Valvrave"
          ],
          [
           "Kidou Senshi Gundam 00"
          ],
          [
           "Kidou Senshi Gundam F91"
          ],
          [
           "Kidou Senshi Gundam MS IGLOO: 1-nen Sensou Hiroku"
          ],
          [
           "Kidou Senshi Gundam NT"
          ],
          [
           "Kidou Senshi Gundam SEED"
          ],
          [
           "Kidou Senshi Gundam Unicorn"
          ],
          [
           "Kidou Senshi Gundam ZZ"
          ],
          [
           "Kidou Senshi Gundam: Cucuruz Doan no Shima"
          ],
          [
           "Kidou Senshi Gundam: Gyakushuu no Char"
          ],
          [
           "Kidou Senshi Gundam: Suisei no Majo"
          ],
          [
           "Kidou Senshi Gundam: Suisei no Majo Season 2"
          ],
          [
           "Kidou Senshi Gundam: The Origin - Zenya Akai Suisei"
          ],
          [
           "Kikou Kai Galient"
          ],
          [
           "Kikou Kai Galient OVA"
          ],
          [
           "La Seine no Hoshi"
          ],
          [
           "Love Live! School Idol Project"
          ],
          [
           "Love Live! The School Idol Movie"
          ],
          [
           "Mai-HiME"
          ],
          [
           "Mai-HiME Specials"
          ],
          [
           "Mai-Otome"
          ],
          [
           "Mai-Otome Special: Otome no Inori"
          ],
          [
           "Mai-Otome Specials"
          ],
          [
           "Megumi no Daigo: Kajiba no Baka Yarou"
          ],
          [
           "SD Gundam Force"
          ],
          [
           "Seihou Tenshi Angel Links"
          ],
          [
           "Seikai no Senki II"
          ],
          [
           "Seikai no Senki"
          ],
          [
           "Soukou Kihei Votoms"
          ],
          [
           "Soukou Kihei Votoms Recaps"
          ],
          [
           "The Big O"
          ],
          [
           "Tsukumo"
          ],
          [
           "Yakitate!! Japan"
          ],
          [
           "Yuusha Exkaiser"
          ],
          [
           "Zegapain"
          ],
          [
           "Accel World"
          ],
          [
           "Argento Soma"
          ],
          [
           "Bakumatsu Kikansetsu Irohanihoheto"
          ],
          [
           "Battle Spirits: Shounen Gekiha Dan"
          ],
          [
           "Betterman"
          ],
          [
           "Binbougami ga!"
          ],
          [
           "Brain Powerd"
          ],
          [
           "Buki yo Saraba"
          ],
          [
           "Chinmoku no Kantai"
          ],
          [
           "Chirin no Suzu"
          ],
          [
           "ClassicaLoid"
          ],
          [
           "Cluster Edge"
          ],
          [
           "Code Geass: Fukkatsu no Lelouch"
          ],
          [
           "Code Geass: Hangyaku no Lelouch - Kiseki no Birthday"
          ],
          [
           "Code Geass: Hangyaku no Lelouch I - Koudou"
          ],
          [
           "Code Geass: Hangyaku no Lelouch II - Handou"
          ],
          [
           "Code Geass: Hangyaku no Lelouch III - Oudou"
          ],
          [
           "Crusher Joe"
          ],
          [
           "Crusher Joe OVA"
          ],
          [
           "Dead Heat"
          ],
          [
           "Densetsu Kyojin Ideon"
          ],
          [
           "Densetsu no Yuusha da Garn"
          ],
          [
           "Dirty Pair"
          ],
          [
           "Dirty Pair Flash"
          ],
          [
           "Dirty Pair: The Movie"
          ],
          [
           "Double Decker! Doug & Kirill"
          ],
          [
           "Five Star Stories"
          ],
          [
           "Freedom"
          ],
          [
           "Future GPX Cyber Formula 11"
          ],
          [
           "Future GPX Cyber Formula Saga"
          ],
          [
           "Future GPX Cyber Formula Sin"
          ],
          [
           "Future GPX Cyber Formula Zero"
          ],
          [
           "Gambo"
          ],
          [
           "Genjitsu no Yohane: Sunshine in the Mirror"
          ],
          [
           "Giant Gorg"
          ],
          [
           "Gintama Movie 1: Shinyaku Benizakura-hen"
          ],
          [
           "Gundam Build Fighters"
          ],
          [
           "Gundam Build Fighters Specials"
          ],
          [
           "Gundam Build Fighters Try"
          ],
          [
           "Gundam Build Fighters: Battlogue"
          ],
          [
           "Gundam: G no Reconguista"
          ],
          [
           "Gundam: Mission to the Rise"
          ],
          [
           "Hi no Youjin"
          ],
          [
           "Ibara no Ou"
          ],
          [
           "InuYasha Movie 3: Tenka Hadou no Ken"
          ],
          [
           "Isekai Izakaya: Koto Aitheria no Izakaya Nobu"
          ],
          [
           "Kekkaishi"
          ],
          [
           "Keroro"
          ],
          [
           "Keroro Gunsou"
          ],
          [
           "Kidou Butouden G Gundam"
          ],
          [
           "Kidou Senshi Gundam"
          ],
          [
           "Kidou Senshi Gundam 0080: Pocket no Naka no Sensou"
          ],
          [
           "Kidou Senshi Gundam AGE"
          ],
          [
           "Kidou Senshi Gundam SEED Destiny"
          ],
          [
           "Kidou Senshi Gundam Thunderbolt: Bandit Flower"
          ],
          [
           "Kidou Senshi Gundam Thunderbolt: December Sky"
          ],
          [
           "Kidou Senshi Gundam: Dai 08 MS Shoutai"
          ],
          [
           "Kidou Senshi Gundam: Senkou no Hathaway"
          ],
          [
           "Kidou Senshi Gundam: Tekketsu no Orphans"
          ],
          [
           "Kidou Senshi Victory Gundam"
          ],
          [
           "Kidou Senshi Zeta Gundam"
          ],
          [
           "Kidou Shinseiki Gundam X"
          ],
          [
           "Kikou Senki Dragonar"
          ],
          [
           "Kyoukaisenjou no Horizon"
          ],
          [
           "Love Live! Nijigasaki Gakuen School Idol Doukoukai"
          ],
          [
           "Love Live! Sunshine!!"
          ],
          [
           "Love Live! Sunshine!! The School Idol Movie: Over the Rainbow"
          ],
          [
           "Love Live! Superstar!!"
          ],
          [
           "Mai-Otome 0: S.ifr"
          ],
          [
           "Mashin Eiyuuden Wataru"
          ],
          [
           "Mugen no Ryvius"
          ],
          [
           "Nami yo Kiitekure"
          ],
          [
           "Nerawareta Gakuen"
          ],
          [
           "Nijiyon Animation"
          ],
          [
           "Norageki!"
          ],
          [
           "Nyani ga Nyandaa Nyandaa Kamen"
          ],
          [
           "Onmyou Taisenki"
          ],
          [
           "Phi Brain: Kami no Puzzle"
          ],
          [
           "Planetes"
          ],
          [
           "Sacred Seven"
          ],
          [
           "Seikai no Monshou"
          ],
          [
           "Seisenshi Dunbine"
          ],
          [
           "Seisenshi Dunbine OVA"
          ],
          [
           "Yoroiden Samurai Troopers"
          ],
          [
           "Shin Kidou Senki Gundam Wing"
          ],
          [
           "Shutsugeki! Machine Robo Rescue"
          ],
          [
           "Sora wo Kakeru Shoujo"
          ],
          [
           "Soukou Kihei Votoms: Genei-hen"
          ],
          [
           "Soukou Kihei Votoms: Kakuyaku taru Itan"
          ],
          [
           "Soukou Kihei Votoms: Koei Futatabi"
          ],
          [
           "Steamboy"
          ],
          [
           "Tales of the Abyss"
          ],
          [
           "Tenkuu no Escaflowne"
          ],
          [
           "Tiger & Bunny Movie 1: The Beginning"
          ],
          [
           "Tiger & Bunny Movie 2: The Rising"
          ],
          [
           "Turn A Gundam"
          ],
          [
           "Uchuu no Senshi"
          ],
          [
           "Wanpaku Oomukashi Kum Kum"
          ],
          [
           "Witch Hunter Robin"
          ],
          [
           "Xabungle Graffiti"
          ],
          [
           "Yuusha Raideen"
          ],
          [
           "Yuusha-Ou GaoGaiGar"
          ],
          [
           "Zero Tester"
          ],
          [
           "s.CRY.ed"
          ]
         ],
         "hovertemplate": "<b>Name:</b> %{customdata[0]}<br><b>Favorites:</b> %{y}",
         "legendgroup": "Sunrise",
         "marker": {
          "color": "#EF553B"
         },
         "name": "Sunrise",
         "notched": false,
         "offsetgroup": "Sunrise",
         "orientation": "v",
         "showlegend": true,
         "type": "box",
         "x": [
          "Sunrise",
          "Sunrise",
          "Sunrise",
          "Sunrise",
          "Sunrise",
          "Sunrise",
          "Sunrise",
          "Sunrise",
          "Sunrise",
          "Sunrise",
          "Sunrise",
          "Sunrise",
          "Sunrise",
          "Sunrise",
          "Sunrise",
          "Sunrise",
          "Sunrise",
          "Sunrise",
          "Sunrise",
          "Sunrise",
          "Sunrise",
          "Sunrise",
          "Sunrise",
          "Sunrise",
          "Sunrise",
          "Sunrise",
          "Sunrise",
          "Sunrise",
          "Sunrise",
          "Sunrise",
          "Sunrise",
          "Sunrise",
          "Sunrise",
          "Sunrise",
          "Sunrise",
          "Sunrise",
          "Sunrise",
          "Sunrise",
          "Sunrise",
          "Sunrise",
          "Sunrise",
          "Sunrise",
          "Sunrise",
          "Sunrise",
          "Sunrise",
          "Sunrise",
          "Sunrise",
          "Sunrise",
          "Sunrise",
          "Sunrise",
          "Sunrise",
          "Sunrise",
          "Sunrise",
          "Sunrise",
          "Sunrise",
          "Sunrise",
          "Sunrise",
          "Sunrise",
          "Sunrise",
          "Sunrise",
          "Sunrise",
          "Sunrise",
          "Sunrise",
          "Sunrise",
          "Sunrise",
          "Sunrise",
          "Sunrise",
          "Sunrise",
          "Sunrise",
          "Sunrise",
          "Sunrise",
          "Sunrise",
          "Sunrise",
          "Sunrise",
          "Sunrise",
          "Sunrise",
          "Sunrise",
          "Sunrise",
          "Sunrise",
          "Sunrise",
          "Sunrise",
          "Sunrise",
          "Sunrise",
          "Sunrise",
          "Sunrise",
          "Sunrise",
          "Sunrise",
          "Sunrise",
          "Sunrise",
          "Sunrise",
          "Sunrise",
          "Sunrise",
          "Sunrise",
          "Sunrise",
          "Sunrise",
          "Sunrise",
          "Sunrise",
          "Sunrise",
          "Sunrise",
          "Sunrise",
          "Sunrise",
          "Sunrise",
          "Sunrise",
          "Sunrise",
          "Sunrise",
          "Sunrise",
          "Sunrise",
          "Sunrise",
          "Sunrise",
          "Sunrise",
          "Sunrise",
          "Sunrise",
          "Sunrise",
          "Sunrise",
          "Sunrise",
          "Sunrise",
          "Sunrise",
          "Sunrise",
          "Sunrise",
          "Sunrise",
          "Sunrise",
          "Sunrise",
          "Sunrise",
          "Sunrise",
          "Sunrise",
          "Sunrise",
          "Sunrise",
          "Sunrise",
          "Sunrise",
          "Sunrise",
          "Sunrise",
          "Sunrise",
          "Sunrise",
          "Sunrise",
          "Sunrise",
          "Sunrise",
          "Sunrise",
          "Sunrise",
          "Sunrise",
          "Sunrise",
          "Sunrise",
          "Sunrise",
          "Sunrise",
          "Sunrise",
          "Sunrise",
          "Sunrise",
          "Sunrise",
          "Sunrise",
          "Sunrise",
          "Sunrise",
          "Sunrise",
          "Sunrise",
          "Sunrise",
          "Sunrise",
          "Sunrise",
          "Sunrise",
          "Sunrise",
          "Sunrise",
          "Sunrise",
          "Sunrise",
          "Sunrise",
          "Sunrise",
          "Sunrise",
          "Sunrise",
          "Sunrise",
          "Sunrise",
          "Sunrise",
          "Sunrise",
          "Sunrise",
          "Sunrise",
          "Sunrise",
          "Sunrise",
          "Sunrise",
          "Sunrise",
          "Sunrise",
          "Sunrise",
          "Sunrise",
          "Sunrise",
          "Sunrise",
          "Sunrise",
          "Sunrise",
          "Sunrise",
          "Sunrise",
          "Sunrise",
          "Sunrise",
          "Sunrise",
          "Sunrise",
          "Sunrise",
          "Sunrise",
          "Sunrise",
          "Sunrise",
          "Sunrise",
          "Sunrise",
          "Sunrise",
          "Sunrise",
          "Sunrise",
          "Sunrise",
          "Sunrise",
          "Sunrise",
          "Sunrise",
          "Sunrise",
          "Sunrise",
          "Sunrise",
          "Sunrise",
          "Sunrise",
          "Sunrise",
          "Sunrise",
          "Sunrise",
          "Sunrise",
          "Sunrise",
          "Sunrise",
          "Sunrise",
          "Sunrise",
          "Sunrise",
          "Sunrise",
          "Sunrise",
          "Sunrise",
          "Sunrise",
          "Sunrise",
          "Sunrise",
          "Sunrise",
          "Sunrise",
          "Sunrise",
          "Sunrise",
          "Sunrise",
          "Sunrise",
          "Sunrise",
          "Sunrise",
          "Sunrise",
          "Sunrise",
          "Sunrise",
          "Sunrise",
          "Sunrise",
          "Sunrise",
          "Sunrise",
          "Sunrise",
          "Sunrise",
          "Sunrise",
          "Sunrise",
          "Sunrise",
          "Sunrise",
          "Sunrise",
          "Sunrise",
          "Sunrise",
          "Sunrise",
          "Sunrise",
          "Sunrise",
          "Sunrise",
          "Sunrise",
          "Sunrise",
          "Sunrise",
          "Sunrise",
          "Sunrise",
          "Sunrise",
          "Sunrise",
          "Sunrise",
          "Sunrise",
          "Sunrise",
          "Sunrise",
          "Sunrise",
          "Sunrise"
         ],
         "x0": " ",
         "xaxis": "x",
         "y": [
          414,
          43,
          56,
          174,
          13,
          6,
          5,
          35,
          8,
          3,
          171,
          61,
          1,
          28,
          30,
          6,
          64,
          12,
          22,
          0,
          14,
          2,
          39,
          1,
          10,
          14,
          12,
          13,
          1365,
          2,
          1,
          1,
          3,
          1,
          53,
          3,
          0,
          227,
          82,
          4,
          4,
          8,
          26,
          1,
          6,
          0,
          0,
          3,
          18,
          1,
          52,
          3,
          4,
          3,
          6,
          1,
          5,
          0,
          0,
          2967,
          3,
          5,
          199,
          2748,
          3,
          2,
          2,
          108,
          44,
          37,
          2,
          1,
          0,
          27,
          0,
          0,
          0,
          0,
          70,
          21,
          1121,
          16,
          51,
          3,
          26,
          5,
          1,
          2,
          18,
          26,
          1,
          2,
          0,
          5,
          320,
          26,
          19,
          31,
          5,
          10,
          222,
          75,
          97,
          58,
          105379,
          74578,
          78525,
          1650,
          13873,
          184,
          2,
          51,
          6,
          24,
          57678,
          7765,
          1,
          17881,
          72,
          252,
          2112,
          0,
          676,
          4409,
          82,
          14,
          36,
          3435,
          1554,
          178,
          24,
          422,
          1117,
          315,
          102,
          7,
          1,
          6,
          7955,
          1199,
          1146,
          15,
          303,
          3,
          3,
          2,
          9,
          6,
          117,
          274,
          365,
          0,
          903,
          4,
          897,
          9,
          163,
          3882,
          82,
          130,
          9,
          77,
          1200,
          31,
          14,
          5,
          70,
          89,
          13,
          1980,
          28,
          187,
          107,
          147,
          10,
          1,
          0,
          117,
          17,
          200,
          22,
          36,
          94,
          45,
          62,
          11,
          12,
          15,
          15,
          1,
          58,
          27,
          597,
          636,
          1,
          114,
          5,
          86,
          3,
          3,
          157,
          208,
          149,
          588,
          26,
          1151,
          978,
          2140,
          966,
          60,
          1063,
          30,
          176,
          1064,
          267,
          3099,
          136,
          2117,
          199,
          13,
          830,
          1081,
          2954,
          289,
          1093,
          28,
          14,
          321,
          191,
          191,
          41,
          3,
          5,
          31,
          227,
          3836,
          79,
          451,
          43,
          0,
          165,
          2334,
          12,
          50,
          1,
          6,
          1,
          148,
          542,
          2069,
          19,
          51,
          965,
          12,
          0,
          613,
          0,
          7,
          336,
          2,
          660
         ],
         "y0": " ",
         "yaxis": "y"
        },
        {
         "alignmentgroup": "True",
         "customdata": [
          [
           "Fullmetal Alchemist: The Conqueror of Shamballa"
          ],
          [
           "Kurau Phantom Memory"
          ],
          [
           "Fullmetal Alchemist: Reflections"
          ],
          [
           "Darker than Black: Kuro no Keiyakusha"
          ],
          [
           "Darker than Black: Kuro no Keiyakusha - Sakura no Hana no Mankai no Shita"
          ],
          [
           "Darker than Black: Ryuusei no Gemini"
          ],
          [
           "Darker than Black: Kuro no Keiyakusha Gaiden"
          ],
          [
           "Heroman Specials"
          ],
          [
           "Fullmetal Alchemist: The Sacred Star of Milos Specials"
          ],
          [
           "Star Driver the Movie"
          ],
          [
           "Noragami OVA"
          ],
          [
           "Soul Eater: Late Night Show"
          ],
          [
           "Soul Eater NOT!"
          ],
          [
           "Tenkai Knights"
          ],
          [
           "Show By Rock!!"
          ],
          [
           "Noragami Aragoto OVA"
          ],
          [
           "Show By Rock!! #"
          ],
          [
           "Show By Rock!! Short!!"
          ],
          [
           "Boku no Hero Academia: Hero Note"
          ],
          [
           "Mob Psycho Mini"
          ],
          [
           "Bungou Stray Dogs 3rd Season"
          ],
          [
           "Boku no Hero Academia the Movie 1: Futari no Hero Specials"
          ],
          [
           "Carole & Tuesday Specials"
          ],
          [
           "SK∞ (OVA)"
          ],
          [
           "Boku no Hero Academia the Movie 3: World Heroes' Mission - Tabidachi"
          ],
          [
           "Akagami no Shirayuki-hime"
          ],
          [
           "Akagami no Shirayuki-hime 2nd Season"
          ],
          [
           "Boku no Hero Academia (ONA)"
          ],
          [
           "Boku no Hero Academia 4th Season"
          ],
          [
           "Boku no Hero Academia 5th Season"
          ],
          [
           "Boku no Hero Academia"
          ],
          [
           "Boku no Hero Academia 2nd Season"
          ],
          [
           "Boku no Hero Academia 3rd Season"
          ],
          [
           "Boku no Hero Academia 6th Season"
          ],
          [
           "Boku no Hero Academia the Movie 1: Futari no Hero"
          ],
          [
           "Boku no Hero Academia the Movie 2: Heroes:Rising"
          ],
          [
           "Bounen no Xamdou"
          ],
          [
           "Bungou Stray Dogs 4th Season"
          ],
          [
           "Bungou Stray Dogs 5th Season"
          ],
          [
           "Bungou Stray Dogs"
          ],
          [
           "Bungou Stray Dogs 2nd Season"
          ],
          [
           "Captain Earth"
          ],
          [
           "Eureka Seven AO"
          ],
          [
           "Fullmetal Alchemist"
          ],
          [
           "Fullmetal Alchemist: Brotherhood Specials"
          ],
          [
           "Fullmetal Alchemist: Premium Collection"
          ],
          [
           "Gosick"
          ],
          [
           "Heroman"
          ],
          [
           "Hitsugi no Chaika: Avenging Battle"
          ],
          [
           "Juu Ou Sei"
          ],
          [
           "Kekkai Sensen"
          ],
          [
           "Kekkai Sensen & Beyond"
          ],
          [
           "Kidou Tenshi Angelic Layer"
          ],
          [
           "Metallic Rouge"
          ],
          [
           "Mob Psycho 100"
          ],
          [
           "Mob Psycho 100 II"
          ],
          [
           "Mob Psycho 100 III"
          ],
          [
           "Ouran Koukou Host Club"
          ],
          [
           "RahXephon"
          ],
          [
           "RahXephon Specials"
          ],
          [
           "RahXephon: Tagen Hensoukyoku"
          ],
          [
           "SK∞"
          ],
          [
           "Soul Eater"
          ],
          [
           "Space☆Dandy"
          ],
          [
           "Vanitas no Karte"
          ],
          [
           "Vanitas no Karte Part 2"
          ],
          [
           "A.I.C.O. Incarnation"
          ],
          [
           "Boku no Hero Academia the Movie 3: World Heroes' Mission"
          ],
          [
           "Boku no Hero Academia: Training of the Dead"
          ],
          [
           "Bungou Stray Dogs: Dead Apple"
          ],
          [
           "Carole & Tuesday"
          ],
          [
           "Concrete Revolutio: Choujin Gensou"
          ],
          [
           "Cowboy Bebop: Tengoku no Tobira"
          ],
          [
           "Fullmetal Alchemist: Brotherhood"
          ],
          [
           "Hisone to Maso-tan"
          ],
          [
           "Hitsugi no Chaika"
          ],
          [
           "Josee to Tora to Sakana-tachi"
          ],
          [
           "Karakuri Kiden: Hiwou Senki"
          ],
          [
           "Kenran Butou Sai: The Mars Daybreak"
          ],
          [
           "Koukyoushihen Eureka Seven"
          ],
          [
           "Koukyoushihen Eureka Seven Hi-Evolution 1"
          ],
          [
           "Koukyoushihen Eureka Seven Hi-Evolution 2: Anemone"
          ],
          [
           "Mob Psycho 100: Reigen - Shirarezaru Kiseki no Reinouryokusha"
          ],
          [
           "No.6"
          ],
          [
           "Noragami"
          ],
          [
           "Noragami Aragoto"
          ],
          [
           "Scrapped Princess"
          ],
          [
           "Skull Man"
          ],
          [
           "Star Driver: Kagayaki no Takuto"
          ],
          [
           "Super Crooks"
          ],
          [
           "Tenpou Ibun: Ayakashi Ayashi"
          ],
          [
           "Towa no Quon 6: Towa no Quon"
          ],
          [
           "Wolf's Rain OVA"
          ],
          [
           "Zetsuen no Tempest"
          ]
         ],
         "hovertemplate": "<b>Name:</b> %{customdata[0]}<br><b>Favorites:</b> %{y}",
         "legendgroup": "Bones",
         "marker": {
          "color": "#00cc96"
         },
         "name": "Bones",
         "notched": false,
         "offsetgroup": "Bones",
         "orientation": "v",
         "showlegend": true,
         "type": "box",
         "x": [
          "Bones",
          "Bones",
          "Bones",
          "Bones",
          "Bones",
          "Bones",
          "Bones",
          "Bones",
          "Bones",
          "Bones",
          "Bones",
          "Bones",
          "Bones",
          "Bones",
          "Bones",
          "Bones",
          "Bones",
          "Bones",
          "Bones",
          "Bones",
          "Bones",
          "Bones",
          "Bones",
          "Bones",
          "Bones",
          "Bones",
          "Bones",
          "Bones",
          "Bones",
          "Bones",
          "Bones",
          "Bones",
          "Bones",
          "Bones",
          "Bones",
          "Bones",
          "Bones",
          "Bones",
          "Bones",
          "Bones",
          "Bones",
          "Bones",
          "Bones",
          "Bones",
          "Bones",
          "Bones",
          "Bones",
          "Bones",
          "Bones",
          "Bones",
          "Bones",
          "Bones",
          "Bones",
          "Bones",
          "Bones",
          "Bones",
          "Bones",
          "Bones",
          "Bones",
          "Bones",
          "Bones",
          "Bones",
          "Bones",
          "Bones",
          "Bones",
          "Bones",
          "Bones",
          "Bones",
          "Bones",
          "Bones",
          "Bones",
          "Bones",
          "Bones",
          "Bones",
          "Bones",
          "Bones",
          "Bones",
          "Bones",
          "Bones",
          "Bones",
          "Bones",
          "Bones",
          "Bones",
          "Bones",
          "Bones",
          "Bones",
          "Bones",
          "Bones",
          "Bones",
          "Bones",
          "Bones",
          "Bones",
          "Bones",
          "Bones"
         ],
         "x0": " ",
         "xaxis": "x",
         "y": [
          628,
          137,
          37,
          16441,
          189,
          1487,
          818,
          1,
          19,
          9,
          385,
          37,
          193,
          24,
          361,
          365,
          76,
          17,
          606,
          14,
          4846,
          162,
          5,
          261,
          82,
          7280,
          1685,
          49,
          8217,
          10087,
          53389,
          17157,
          12739,
          6433,
          1392,
          1796,
          1075,
          2751,
          210,
          25238,
          6629,
          88,
          198,
          25502,
          181,
          87,
          8106,
          80,
          196,
          367,
          7590,
          1618,
          291,
          6,
          45435,
          31617,
          8816,
          33261,
          947,
          0,
          19,
          12511,
          26107,
          5250,
          6828,
          2537,
          228,
          965,
          201,
          1696,
          2879,
          209,
          1448,
          217606,
          310,
          835,
          5650,
          3,
          32,
          9028,
          24,
          16,
          130,
          7272,
          32675,
          11428,
          427,
          64,
          599,
          272,
          25,
          49,
          367,
          6521
         ],
         "y0": " ",
         "yaxis": "y"
        },
        {
         "alignmentgroup": "True",
         "customdata": [
          [
           "Rurouni Kenshin: Special Techniques"
          ],
          [
           "Rurouni Kenshin: Review Special"
          ],
          [
           "Rurouni Kenshin: Meiji Kenkaku Romantan"
          ]
         ],
         "hovertemplate": "<b>Name:</b> %{customdata[0]}<br><b>Favorites:</b> %{y}",
         "legendgroup": "Gallop, Studio Deen",
         "marker": {
          "color": "#ab63fa"
         },
         "name": "Gallop, Studio Deen",
         "notched": false,
         "offsetgroup": "Gallop, Studio Deen",
         "orientation": "v",
         "showlegend": true,
         "type": "box",
         "x": [
          "Gallop, Studio Deen",
          "Gallop, Studio Deen",
          "Gallop, Studio Deen"
         ],
         "x0": " ",
         "xaxis": "x",
         "y": [
          7,
          3,
          9907
         ],
         "y0": " ",
         "yaxis": "y"
        },
        {
         "alignmentgroup": "True",
         "customdata": [
          [
           "Mashiro-iro Symphony: The Color of Lovers"
          ],
          [
           "Deadman Wonderland: Akai Knife Tsukai"
          ],
          [
           "Kami nomi zo Shiru Sekai: 4-nin to Idol"
          ],
          [
           "Trip Trek"
          ],
          [
           "Magical☆Star Kanon 100%"
          ],
          [
           "Hayate no Gotoku! OVA"
          ],
          [
           "Kami nomi zo Shiru Sekai"
          ],
          [
           "Kami nomi zo Shiru Sekai II"
          ],
          [
           "Kami nomi zo Shiru Sekai: Megami-hen"
          ],
          [
           "Michiko to Hatchin"
          ],
          [
           "Samurai Champloo"
          ],
          [
           "Saraiya Goyou"
          ],
          [
           "Seiken no Blacksmith"
          ],
          [
           "Deadman Wonderland"
          ],
          [
           "Ergo Proxy"
          ],
          [
           "Hayate no Gotoku! Can't Take My Eyes Off You"
          ],
          [
           "Hayate no Gotoku! Heaven Is a Place on Earth"
          ],
          [
           "Karneval"
          ],
          [
           "Karneval (TV)"
          ],
          [
           "Samurai Flamenco"
          ],
          [
           "Zettai Karen Children: The Unlimited - Hyoubu Kyousuke"
          ]
         ],
         "hovertemplate": "<b>Name:</b> %{customdata[0]}<br><b>Favorites:</b> %{y}",
         "legendgroup": "Manglobe",
         "marker": {
          "color": "#FFA15A"
         },
         "name": "Manglobe",
         "notched": false,
         "offsetgroup": "Manglobe",
         "orientation": "v",
         "showlegend": true,
         "type": "box",
         "x": [
          "Manglobe",
          "Manglobe",
          "Manglobe",
          "Manglobe",
          "Manglobe",
          "Manglobe",
          "Manglobe",
          "Manglobe",
          "Manglobe",
          "Manglobe",
          "Manglobe",
          "Manglobe",
          "Manglobe",
          "Manglobe",
          "Manglobe",
          "Manglobe",
          "Manglobe",
          "Manglobe",
          "Manglobe",
          "Manglobe",
          "Manglobe"
         ],
         "x0": " ",
         "xaxis": "x",
         "y": [
          502,
          62,
          86,
          0,
          20,
          3,
          5669,
          992,
          2044,
          2365,
          36236,
          850,
          225,
          6667,
          12991,
          71,
          32,
          68,
          1173,
          865,
          446
         ],
         "y0": " ",
         "yaxis": "y"
        }
       ],
       "layout": {
        "boxmode": "overlay",
        "legend": {
         "title": {
          "text": "Studios"
         },
         "tracegroupgap": 0
        },
        "template": {
         "data": {
          "bar": [
           {
            "error_x": {
             "color": "#2a3f5f"
            },
            "error_y": {
             "color": "#2a3f5f"
            },
            "marker": {
             "line": {
              "color": "#E5ECF6",
              "width": 0.5
             },
             "pattern": {
              "fillmode": "overlay",
              "size": 10,
              "solidity": 0.2
             }
            },
            "type": "bar"
           }
          ],
          "barpolar": [
           {
            "marker": {
             "line": {
              "color": "#E5ECF6",
              "width": 0.5
             },
             "pattern": {
              "fillmode": "overlay",
              "size": 10,
              "solidity": 0.2
             }
            },
            "type": "barpolar"
           }
          ],
          "carpet": [
           {
            "aaxis": {
             "endlinecolor": "#2a3f5f",
             "gridcolor": "white",
             "linecolor": "white",
             "minorgridcolor": "white",
             "startlinecolor": "#2a3f5f"
            },
            "baxis": {
             "endlinecolor": "#2a3f5f",
             "gridcolor": "white",
             "linecolor": "white",
             "minorgridcolor": "white",
             "startlinecolor": "#2a3f5f"
            },
            "type": "carpet"
           }
          ],
          "choropleth": [
           {
            "colorbar": {
             "outlinewidth": 0,
             "ticks": ""
            },
            "type": "choropleth"
           }
          ],
          "contour": [
           {
            "colorbar": {
             "outlinewidth": 0,
             "ticks": ""
            },
            "colorscale": [
             [
              0,
              "#0d0887"
             ],
             [
              0.1111111111111111,
              "#46039f"
             ],
             [
              0.2222222222222222,
              "#7201a8"
             ],
             [
              0.3333333333333333,
              "#9c179e"
             ],
             [
              0.4444444444444444,
              "#bd3786"
             ],
             [
              0.5555555555555556,
              "#d8576b"
             ],
             [
              0.6666666666666666,
              "#ed7953"
             ],
             [
              0.7777777777777778,
              "#fb9f3a"
             ],
             [
              0.8888888888888888,
              "#fdca26"
             ],
             [
              1,
              "#f0f921"
             ]
            ],
            "type": "contour"
           }
          ],
          "contourcarpet": [
           {
            "colorbar": {
             "outlinewidth": 0,
             "ticks": ""
            },
            "type": "contourcarpet"
           }
          ],
          "heatmap": [
           {
            "colorbar": {
             "outlinewidth": 0,
             "ticks": ""
            },
            "colorscale": [
             [
              0,
              "#0d0887"
             ],
             [
              0.1111111111111111,
              "#46039f"
             ],
             [
              0.2222222222222222,
              "#7201a8"
             ],
             [
              0.3333333333333333,
              "#9c179e"
             ],
             [
              0.4444444444444444,
              "#bd3786"
             ],
             [
              0.5555555555555556,
              "#d8576b"
             ],
             [
              0.6666666666666666,
              "#ed7953"
             ],
             [
              0.7777777777777778,
              "#fb9f3a"
             ],
             [
              0.8888888888888888,
              "#fdca26"
             ],
             [
              1,
              "#f0f921"
             ]
            ],
            "type": "heatmap"
           }
          ],
          "heatmapgl": [
           {
            "colorbar": {
             "outlinewidth": 0,
             "ticks": ""
            },
            "colorscale": [
             [
              0,
              "#0d0887"
             ],
             [
              0.1111111111111111,
              "#46039f"
             ],
             [
              0.2222222222222222,
              "#7201a8"
             ],
             [
              0.3333333333333333,
              "#9c179e"
             ],
             [
              0.4444444444444444,
              "#bd3786"
             ],
             [
              0.5555555555555556,
              "#d8576b"
             ],
             [
              0.6666666666666666,
              "#ed7953"
             ],
             [
              0.7777777777777778,
              "#fb9f3a"
             ],
             [
              0.8888888888888888,
              "#fdca26"
             ],
             [
              1,
              "#f0f921"
             ]
            ],
            "type": "heatmapgl"
           }
          ],
          "histogram": [
           {
            "marker": {
             "pattern": {
              "fillmode": "overlay",
              "size": 10,
              "solidity": 0.2
             }
            },
            "type": "histogram"
           }
          ],
          "histogram2d": [
           {
            "colorbar": {
             "outlinewidth": 0,
             "ticks": ""
            },
            "colorscale": [
             [
              0,
              "#0d0887"
             ],
             [
              0.1111111111111111,
              "#46039f"
             ],
             [
              0.2222222222222222,
              "#7201a8"
             ],
             [
              0.3333333333333333,
              "#9c179e"
             ],
             [
              0.4444444444444444,
              "#bd3786"
             ],
             [
              0.5555555555555556,
              "#d8576b"
             ],
             [
              0.6666666666666666,
              "#ed7953"
             ],
             [
              0.7777777777777778,
              "#fb9f3a"
             ],
             [
              0.8888888888888888,
              "#fdca26"
             ],
             [
              1,
              "#f0f921"
             ]
            ],
            "type": "histogram2d"
           }
          ],
          "histogram2dcontour": [
           {
            "colorbar": {
             "outlinewidth": 0,
             "ticks": ""
            },
            "colorscale": [
             [
              0,
              "#0d0887"
             ],
             [
              0.1111111111111111,
              "#46039f"
             ],
             [
              0.2222222222222222,
              "#7201a8"
             ],
             [
              0.3333333333333333,
              "#9c179e"
             ],
             [
              0.4444444444444444,
              "#bd3786"
             ],
             [
              0.5555555555555556,
              "#d8576b"
             ],
             [
              0.6666666666666666,
              "#ed7953"
             ],
             [
              0.7777777777777778,
              "#fb9f3a"
             ],
             [
              0.8888888888888888,
              "#fdca26"
             ],
             [
              1,
              "#f0f921"
             ]
            ],
            "type": "histogram2dcontour"
           }
          ],
          "mesh3d": [
           {
            "colorbar": {
             "outlinewidth": 0,
             "ticks": ""
            },
            "type": "mesh3d"
           }
          ],
          "parcoords": [
           {
            "line": {
             "colorbar": {
              "outlinewidth": 0,
              "ticks": ""
             }
            },
            "type": "parcoords"
           }
          ],
          "pie": [
           {
            "automargin": true,
            "type": "pie"
           }
          ],
          "scatter": [
           {
            "fillpattern": {
             "fillmode": "overlay",
             "size": 10,
             "solidity": 0.2
            },
            "type": "scatter"
           }
          ],
          "scatter3d": [
           {
            "line": {
             "colorbar": {
              "outlinewidth": 0,
              "ticks": ""
             }
            },
            "marker": {
             "colorbar": {
              "outlinewidth": 0,
              "ticks": ""
             }
            },
            "type": "scatter3d"
           }
          ],
          "scattercarpet": [
           {
            "marker": {
             "colorbar": {
              "outlinewidth": 0,
              "ticks": ""
             }
            },
            "type": "scattercarpet"
           }
          ],
          "scattergeo": [
           {
            "marker": {
             "colorbar": {
              "outlinewidth": 0,
              "ticks": ""
             }
            },
            "type": "scattergeo"
           }
          ],
          "scattergl": [
           {
            "marker": {
             "colorbar": {
              "outlinewidth": 0,
              "ticks": ""
             }
            },
            "type": "scattergl"
           }
          ],
          "scattermapbox": [
           {
            "marker": {
             "colorbar": {
              "outlinewidth": 0,
              "ticks": ""
             }
            },
            "type": "scattermapbox"
           }
          ],
          "scatterpolar": [
           {
            "marker": {
             "colorbar": {
              "outlinewidth": 0,
              "ticks": ""
             }
            },
            "type": "scatterpolar"
           }
          ],
          "scatterpolargl": [
           {
            "marker": {
             "colorbar": {
              "outlinewidth": 0,
              "ticks": ""
             }
            },
            "type": "scatterpolargl"
           }
          ],
          "scatterternary": [
           {
            "marker": {
             "colorbar": {
              "outlinewidth": 0,
              "ticks": ""
             }
            },
            "type": "scatterternary"
           }
          ],
          "surface": [
           {
            "colorbar": {
             "outlinewidth": 0,
             "ticks": ""
            },
            "colorscale": [
             [
              0,
              "#0d0887"
             ],
             [
              0.1111111111111111,
              "#46039f"
             ],
             [
              0.2222222222222222,
              "#7201a8"
             ],
             [
              0.3333333333333333,
              "#9c179e"
             ],
             [
              0.4444444444444444,
              "#bd3786"
             ],
             [
              0.5555555555555556,
              "#d8576b"
             ],
             [
              0.6666666666666666,
              "#ed7953"
             ],
             [
              0.7777777777777778,
              "#fb9f3a"
             ],
             [
              0.8888888888888888,
              "#fdca26"
             ],
             [
              1,
              "#f0f921"
             ]
            ],
            "type": "surface"
           }
          ],
          "table": [
           {
            "cells": {
             "fill": {
              "color": "#EBF0F8"
             },
             "line": {
              "color": "white"
             }
            },
            "header": {
             "fill": {
              "color": "#C8D4E3"
             },
             "line": {
              "color": "white"
             }
            },
            "type": "table"
           }
          ]
         },
         "layout": {
          "annotationdefaults": {
           "arrowcolor": "#2a3f5f",
           "arrowhead": 0,
           "arrowwidth": 1
          },
          "autotypenumbers": "strict",
          "coloraxis": {
           "colorbar": {
            "outlinewidth": 0,
            "ticks": ""
           }
          },
          "colorscale": {
           "diverging": [
            [
             0,
             "#8e0152"
            ],
            [
             0.1,
             "#c51b7d"
            ],
            [
             0.2,
             "#de77ae"
            ],
            [
             0.3,
             "#f1b6da"
            ],
            [
             0.4,
             "#fde0ef"
            ],
            [
             0.5,
             "#f7f7f7"
            ],
            [
             0.6,
             "#e6f5d0"
            ],
            [
             0.7,
             "#b8e186"
            ],
            [
             0.8,
             "#7fbc41"
            ],
            [
             0.9,
             "#4d9221"
            ],
            [
             1,
             "#276419"
            ]
           ],
           "sequential": [
            [
             0,
             "#0d0887"
            ],
            [
             0.1111111111111111,
             "#46039f"
            ],
            [
             0.2222222222222222,
             "#7201a8"
            ],
            [
             0.3333333333333333,
             "#9c179e"
            ],
            [
             0.4444444444444444,
             "#bd3786"
            ],
            [
             0.5555555555555556,
             "#d8576b"
            ],
            [
             0.6666666666666666,
             "#ed7953"
            ],
            [
             0.7777777777777778,
             "#fb9f3a"
            ],
            [
             0.8888888888888888,
             "#fdca26"
            ],
            [
             1,
             "#f0f921"
            ]
           ],
           "sequentialminus": [
            [
             0,
             "#0d0887"
            ],
            [
             0.1111111111111111,
             "#46039f"
            ],
            [
             0.2222222222222222,
             "#7201a8"
            ],
            [
             0.3333333333333333,
             "#9c179e"
            ],
            [
             0.4444444444444444,
             "#bd3786"
            ],
            [
             0.5555555555555556,
             "#d8576b"
            ],
            [
             0.6666666666666666,
             "#ed7953"
            ],
            [
             0.7777777777777778,
             "#fb9f3a"
            ],
            [
             0.8888888888888888,
             "#fdca26"
            ],
            [
             1,
             "#f0f921"
            ]
           ]
          },
          "colorway": [
           "#636efa",
           "#EF553B",
           "#00cc96",
           "#ab63fa",
           "#FFA15A",
           "#19d3f3",
           "#FF6692",
           "#B6E880",
           "#FF97FF",
           "#FECB52"
          ],
          "font": {
           "color": "#2a3f5f"
          },
          "geo": {
           "bgcolor": "white",
           "lakecolor": "white",
           "landcolor": "#E5ECF6",
           "showlakes": true,
           "showland": true,
           "subunitcolor": "white"
          },
          "hoverlabel": {
           "align": "left"
          },
          "hovermode": "closest",
          "mapbox": {
           "style": "light"
          },
          "paper_bgcolor": "white",
          "plot_bgcolor": "#E5ECF6",
          "polar": {
           "angularaxis": {
            "gridcolor": "white",
            "linecolor": "white",
            "ticks": ""
           },
           "bgcolor": "#E5ECF6",
           "radialaxis": {
            "gridcolor": "white",
            "linecolor": "white",
            "ticks": ""
           }
          },
          "scene": {
           "xaxis": {
            "backgroundcolor": "#E5ECF6",
            "gridcolor": "white",
            "gridwidth": 2,
            "linecolor": "white",
            "showbackground": true,
            "ticks": "",
            "zerolinecolor": "white"
           },
           "yaxis": {
            "backgroundcolor": "#E5ECF6",
            "gridcolor": "white",
            "gridwidth": 2,
            "linecolor": "white",
            "showbackground": true,
            "ticks": "",
            "zerolinecolor": "white"
           },
           "zaxis": {
            "backgroundcolor": "#E5ECF6",
            "gridcolor": "white",
            "gridwidth": 2,
            "linecolor": "white",
            "showbackground": true,
            "ticks": "",
            "zerolinecolor": "white"
           }
          },
          "shapedefaults": {
           "line": {
            "color": "#2a3f5f"
           }
          },
          "ternary": {
           "aaxis": {
            "gridcolor": "white",
            "linecolor": "white",
            "ticks": ""
           },
           "baxis": {
            "gridcolor": "white",
            "linecolor": "white",
            "ticks": ""
           },
           "bgcolor": "#E5ECF6",
           "caxis": {
            "gridcolor": "white",
            "linecolor": "white",
            "ticks": ""
           }
          },
          "title": {
           "x": 0.05
          },
          "xaxis": {
           "automargin": true,
           "gridcolor": "white",
           "linecolor": "white",
           "ticks": "",
           "title": {
            "standoff": 15
           },
           "zerolinecolor": "white",
           "zerolinewidth": 2
          },
          "yaxis": {
           "automargin": true,
           "gridcolor": "white",
           "linecolor": "white",
           "ticks": "",
           "title": {
            "standoff": 15
           },
           "zerolinecolor": "white",
           "zerolinewidth": 2
          }
         }
        },
        "title": {
         "text": "Favorites to Studios Distribution"
        },
        "xaxis": {
         "anchor": "y",
         "categoryarray": [
          "Madhouse",
          "Sunrise",
          "Bones",
          "Gallop, Studio Deen",
          "Manglobe"
         ],
         "categoryorder": "array",
         "domain": [
          0,
          1
         ],
         "title": {
          "text": "Studios"
         }
        },
        "yaxis": {
         "anchor": "x",
         "domain": [
          0,
          1
         ],
         "title": {
          "text": "Favorites"
         }
        }
       }
      }
     },
     "metadata": {},
     "output_type": "display_data"
    }
   ],
   "source": [
    "# Create vertical box plot for the filtered data\n",
    "fig_box = px.box(df[df['Studios'].isin(set(list(top_studios['Studios'])))], \n",
    "                 x='Studios', \n",
    "                 y='Favorites', \n",
    "                 color='Studios', \n",
    "                 title=\"Favorites to Studios Distribution\", \n",
    "                 orientation='v',\n",
    "                 custom_data=['Name'])\n",
    "\n",
    "# Get the indices of maximum values\n",
    "max_indices = df.groupby('Studios')['Favorites'].idxmax()\n",
    "\n",
    "# Add text labels for maximum values\n",
    "fig_box.update_traces(\n",
    "    hovertemplate=\"<b>Name:</b> %{customdata[0]}<br><b>Favorites:</b> %{y}\",\n",
    "    selector=dict(type='box')\n",
    ")\n",
    "\n",
    "# Show the plot\n",
    "fig_box.show()"
   ]
  },
  {
   "cell_type": "code",
   "execution_count": 16,
   "metadata": {},
   "outputs": [
    {
     "name": "stderr",
     "output_type": "stream",
     "text": [
      "/var/folders/vz/cyjrzm0x74q21sb72nhkdfmr0000gn/T/ipykernel_12923/909673704.py:3: SettingWithCopyWarning:\n",
      "\n",
      "\n",
      "A value is trying to be set on a copy of a slice from a DataFrame.\n",
      "Try using .loc[row_indexer,col_indexer] = value instead\n",
      "\n",
      "See the caveats in the documentation: https://pandas.pydata.org/pandas-docs/stable/user_guide/indexing.html#returning-a-view-versus-a-copy\n",
      "\n"
     ]
    }
   ],
   "source": [
    "recs_umap = recs[['Studios', 'anime_Synopsis', 'Name', 'anime_id']]\n",
    "# Initialize 'rec_label' column with empty strings\n",
    "recs_umap['rec_label'] = ''\n",
    "\n",
    "# Iterate through the lists and update the 'rec_label' column\n",
    "for rec_type, lst in [('collab_filter', joined_list), ('vector_rec', vd_recs), ('pop_rec', pop_recs)]:\n",
    "    recs_umap.loc[recs_umap['anime_id'].isin(lst), 'rec_label'] = rec_type\n",
    "new_row = {'Studios': 'user query', 'anime_Synopsis': query, 'Name': 'user query', 'anime_id': 'none', 'rec_label': 'none'}\n",
    "recs_umap = pd.concat([pd.DataFrame(new_row, index=[0]), recs_umap], ignore_index=True)"
   ]
  },
  {
   "cell_type": "code",
   "execution_count": 17,
   "metadata": {},
   "outputs": [
    {
     "data": {
      "application/vnd.plotly.v1+json": {
       "config": {
        "plotlyServerURL": "https://plot.ly"
       },
       "data": [
        {
         "customdata": [
          [
           "user query",
           "user query"
          ],
          [
           "feel., Zexcs",
           "D.C.: Da Capo"
          ],
          [
           "feel.",
           "D.C.S.S: Da Capo Second Season"
          ],
          [
           "Toei Animation",
           "One Piece: Oounabara ni Hirake! Dekkai Dekkai Chichi no Yume!"
          ],
          [
           "AIC ASTA",
           "Tokimeki Memorial: Only Love"
          ],
          [
           "Academy Productions",
           "Uchuu Senkan Yamato III"
          ],
          [
           "Toei Animation",
           "One Piece: Nenmatsu Tokubetsu Kikaku! Mugiwara no Luffy Oyabun Torimonochou"
          ],
          [
           "feel.",
           "D.C.II: Da Capo II"
          ],
          [
           "UNKNOWN",
           "Dorami & Doraemons: Robot School's Seven Mysteries"
          ],
          [
           "Shin-Ei Animation",
           "Doraemon: The Day When I Was Born"
          ],
          [
           "UNKNOWN",
           "Doraemon Movie 22: Nobita to Tsubasa no Yuusha-tachi"
          ],
          [
           "Shin-Ei Animation",
           "Doraemon Movie 08: Nobita to Ryuu no Kishi"
          ],
          [
           "Shin-Ei Animation",
           "Doraemon Movie 19: Nobita no Nankai Daibouken"
          ],
          [
           "Shin-Ei Animation",
           "Doraemon Movie 06: Nobita no Little Star Wars"
          ],
          [
           "UNKNOWN",
           "Doraemon Movie 12: Nobita no Dorabian Nights"
          ],
          [
           "Shin-Ei Animation",
           "Doraemon Movie 17: Nobita to Ginga Express"
          ],
          [
           "Toei Animation",
           "Kinnikuman: Ooabare! Seigi Choujin"
          ],
          [
           "SILVER LINK.",
           "Tayutama: Kiss on My Deity"
          ],
          [
           "UNKNOWN",
           "Marine Snow no Densetsu"
          ],
          [
           "Production I.G, Xebec",
           "Break Blade Movie 2: Ketsubetsu no Michi"
          ],
          [
           "Toei Animation",
           "One Piece Film: Strong World Episode 0"
          ],
          [
           "UNKNOWN",
           "Rokushin Gattai GodMars (1982)"
          ],
          [
           "UNKNOWN",
           "Lan Mao"
          ],
          [
           "UNKNOWN",
           "Fuwa Aoyun Manyouji"
          ],
          [
           "Tokyo Movie Shinsha, Studio Junio",
           "Bug tte Honey"
          ],
          [
           "UNKNOWN",
           "Skyers 5"
          ],
          [
           "Mushi Production",
           "Wanpaku Tanteidan"
          ],
          [
           "Xebec",
           "Rinne no Lagrange Season 2"
          ],
          [
           "Tatsunoko Production",
           "Dokachin"
          ],
          [
           "UNKNOWN",
           "Solar I.II.III"
          ],
          [
           "UNKNOWN",
           "Kankara Sanshin"
          ],
          [
           "UNKNOWN",
           "Tetsuwan Atom: Ao Kishi no Kan"
          ],
          [
           "Toei Animation",
           "Gu-Gu Ganmo (Movie)"
          ],
          [
           "UNKNOWN",
           "Manga Ijin Monogatari"
          ],
          [
           "Tokyo Movie Shinsha",
           "Takarajima Movie"
          ],
          [
           "UNKNOWN",
           "One Piece: Cry Heart"
          ],
          [
           "Knack Productions",
           "Shin Don Chuck Monogatari"
          ],
          [
           "Meruhensha",
           "Heart Cocktail"
          ],
          [
           "Toei Animation",
           "One Piece: Episode of Alabasta - Prologue"
          ],
          [
           "UNKNOWN",
           "Toumei Ningen"
          ],
          [
           "UNKNOWN",
           "Malay Oki Kaisen"
          ],
          [
           "UNKNOWN",
           "Fushigi na Taiko"
          ],
          [
           "HORNETS",
           "Shounen Sunday CM: Major 2nd"
          ],
          [
           "Gakken Eigakyoku",
           "Mori no Ongakutai"
          ],
          [
           "UNKNOWN",
           "Chichi Kaeru"
          ],
          [
           "UNKNOWN",
           "Isobe Isobee Monogatari Jump Festa Special"
          ],
          [
           "UNKNOWN",
           "KiyaKiya"
          ],
          [
           "UNKNOWN",
           "Ousama to Nightingale"
          ],
          [
           "UNKNOWN",
           "Mukashi Mukashi Momotarou"
          ],
          [
           "UNKNOWN",
           "Shita-kiri Suzume (1974)"
          ],
          [
           "Toei Animation",
           "Scratch x One Piece Film: Gold"
          ],
          [
           "UNKNOWN",
           "Prison Lab"
          ],
          [
           "UNKNOWN",
           "On a Forest, in the Air"
          ],
          [
           "UNKNOWN",
           "Superfluid"
          ],
          [
           "UNKNOWN",
           "Collapse Zen"
          ],
          [
           "UNKNOWN",
           "Hana (2006)"
          ],
          [
           "Toei Animation",
           "Look Plus One Piece Special Movie"
          ],
          [
           "UNKNOWN",
           "Robocar Poli 3"
          ],
          [
           "UNKNOWN",
           "Zoning Tokyo"
          ],
          [
           "UNKNOWN",
           "Drawing!!"
          ],
          [
           "UNKNOWN",
           "The Dawn of Ape"
          ],
          [
           "UNKNOWN",
           "One Piece Characters Log"
          ],
          [
           "Brain's Base",
           "Tonari no Kaibutsu-kun Special"
          ],
          [
           "UNKNOWN",
           "Isekai Shikkaku"
          ],
          [
           "UNKNOWN",
           "One Piece 4D"
          ],
          [
           "Studio 4°C",
           "Berserk: Ougon Jidai-hen III - Kourin"
          ],
          [
           "Sunrise",
           "Cowboy Bebop"
          ],
          [
           "Bones",
           "Fullmetal Alchemist"
          ],
          [
           "Toei Animation",
           "Ginga Tetsudou 999"
          ],
          [
           "Actas",
           "Girls & Panzer"
          ],
          [
           "AIC ASTA",
           "Jinrui wa Suitai Shimashita"
          ],
          [
           "Xebec",
           "Kanokon"
          ],
          [
           "Platinum Vision",
           "Koroshi Ai"
          ],
          [
           "Vega Entertainment",
           "Maetel Legend"
          ],
          [
           "Signal.MD",
           "Mars Red"
          ],
          [
           "Madhouse",
           "Mushikaburi-hime"
          ],
          [
           "feel.",
           "Nagasarete Airantou"
          ],
          [
           "Toei Animation",
           "One Piece Film: Gold"
          ],
          [
           "Toei Animation",
           "One Piece Film: Strong World"
          ],
          [
           "Toei Animation",
           "One Piece Movie 02: Nejimaki-jima no Daibouken"
          ],
          [
           "Toei Animation",
           "One Piece Movie 09: Episode of Chopper Plus - Fuyu ni Saku, Kiseki no Sakura"
          ],
          [
           "Toei Animation",
           "One Piece: Adventure of Nebulandia"
          ],
          [
           "Toei Animation",
           "One Piece: Heart of Gold"
          ],
          [
           "Children's Playground Entertainment",
           "Saihate no Paladin"
          ],
          [
           "Manglobe",
           "Samurai Champloo"
          ],
          [
           "Studio Deen",
           "Samurai Deeper Kyou"
          ],
          [
           "Group TAC",
           "Saraba Uchuu Senkan Yamato: Ai no Senshi-tachi"
          ],
          [
           "Toei Animation",
           "Shounen Ninja Kaze no Fujimaru"
          ],
          [
           "Madhouse",
           "Space Pirate Captain Herlock: Outside Legend - The Endless Odyssey"
          ],
          [
           "OLM",
           "To Heart 2"
          ],
          [
           "Xebec",
           "To LOVE-Ru"
          ],
          [
           "CloverWorks",
           "Tokyo 24-ku"
          ],
          [
           "Group TAC",
           "Uchuu Senkan Yamato"
          ],
          [
           "A-1 Pictures",
           "Vividred Operation"
          ],
          [
           "Toei Animation",
           "Waga Seishun no Arcadia"
          ],
          [
           "Production I.G, SANZIGEN",
           "009 Re:Cyborg"
          ],
          [
           "Toei Animation",
           "American Rabbit no Bouken"
          ],
          [
           "Sola Digital Arts",
           "Appleseed Alpha"
          ],
          [
           "Studio Chizu",
           "Bakemono no Ko"
          ],
          [
           "Gonzo",
           "Basilisk: Kouga Ninpou Chou"
          ],
          [
           "Gonzo",
           "Bayonetta: Bloody Fate"
          ],
          [
           "Studio 4°C",
           "Berserk: Ougon Jidai-hen I - Haou no Tamago"
          ],
          [
           "Studio 4°C",
           "Berserk: Ougon Jidai-hen II - Doldrey Kouryaku"
          ],
          [
           "Polygon Pictures",
           "Blame! Movie"
          ],
          [
           "Production I.G, Xebec",
           "Break Blade Movie 1: Kakusei no Toki"
          ],
          [
           "Toei Animation, Marza Animation Planet",
           "Captain Herlock"
          ],
          [
           "Vega Entertainment",
           "Cosmo Warrior Zero"
          ],
          [
           "UNKNOWN",
           "Doraemon: Nobita's the Night Before a Wedding"
          ],
          [
           "TMS Entertainment",
           "Flanders no Inu, Boku no Patrasche"
          ],
          [
           "AIC Spirits",
           "Goshuushou-sama Ninomiya-kun"
          ],
          [
           "Madhouse",
           "Gungrave"
          ],
          [
           "Science SARU",
           "Heike Monogatari"
          ],
          [
           "Bakken Record",
           "Jouran: The Princess of Snow and Blood"
          ],
          [
           "PINE JAM",
           "Kageki Shoujo!!"
          ],
          [
           "Production I.G",
           "Kaizoku Oujo"
          ],
          [
           "J.C.Staff",
           "Kill Me Baby"
          ],
          [
           "Sunrise",
           "Kyoukaisenjou no Horizon"
          ],
          [
           "Gonzo",
           "Last Exile"
          ],
          [
           "Gainax",
           "Medaka Box"
          ],
          [
           "Satelight",
           "Mouretsu Pirates"
          ],
          [
           "Satelight",
           "Mouretsu Pirates: Abyss of Hyperspace"
          ],
          [
           "Toei Animation",
           "One Piece 3D: Mugiwara Chase"
          ],
          [
           "Toei Animation",
           "One Piece Film: Red"
          ],
          [
           "Toei Animation",
           "One Piece Movie 03: Chinjuu-jima no Chopper Oukoku"
          ],
          [
           "Toei Animation",
           "One Piece Movie 05: Norowareta Seiken"
          ],
          [
           "Toei Animation",
           "One Piece Movie 06: Omatsuri Danshaku to Himitsu no Shima"
          ],
          [
           "Toei Animation",
           "One Piece Movie 07: Karakuri-jou no Mecha Kyohei"
          ],
          [
           "Toei Animation",
           "One Piece Movie 14: Stampede"
          ],
          [
           "Toei Animation",
           "One Piece: Episode of Sorajima"
          ],
          [
           "Toei Animation",
           "Ookami Shounen Ken"
          ],
          [
           "OLM",
           "Queen Emeraldas"
          ],
          [
           "Xebec",
           "Rinne no Lagrange"
          ],
          [
           "Gallop, Studio Deen",
           "Rurouni Kenshin: Meiji Kenkaku Romantan"
          ],
          [
           "Satelight",
           "Sakugan"
          ],
          [
           "Gonzo",
           "Samurai 7"
          ],
          [
           "Satelight, Encourage Films",
           "Senki Zesshou Symphogear"
          ],
          [
           "P.A. Works",
           "Shiroi Suna no Aquatope"
          ],
          [
           "asread.",
           "Shuffle! Memories"
          ],
          [
           "Madhouse",
           "Trigun"
          ],
          [
           "Gonzo",
           "Trinity Blood"
          ],
          [
           "Toei Animation",
           "Uchuu Kaizoku Captain Herlock"
          ],
          [
           "Group TAC",
           "Uchuu Senkan Yamato 2"
          ]
         ],
         "hovertemplate": "<b>%{customdata[1]}</b><br>Studios: %{customdata[0]}<br><extra></extra>",
         "legendgroup": "none",
         "marker": {
          "color": "#636efa",
          "symbol": "circle"
         },
         "mode": "markers",
         "name": "none",
         "orientation": "v",
         "showlegend": true,
         "type": "scatter",
         "x": [
          3.616318
         ],
         "xaxis": "x",
         "y": [
          -1.2385914
         ],
         "yaxis": "y"
        },
        {
         "customdata": [
          [
           "user query",
           "user query"
          ],
          [
           "feel., Zexcs",
           "D.C.: Da Capo"
          ],
          [
           "feel.",
           "D.C.S.S: Da Capo Second Season"
          ],
          [
           "Toei Animation",
           "One Piece: Oounabara ni Hirake! Dekkai Dekkai Chichi no Yume!"
          ],
          [
           "AIC ASTA",
           "Tokimeki Memorial: Only Love"
          ],
          [
           "Academy Productions",
           "Uchuu Senkan Yamato III"
          ],
          [
           "Toei Animation",
           "One Piece: Nenmatsu Tokubetsu Kikaku! Mugiwara no Luffy Oyabun Torimonochou"
          ],
          [
           "feel.",
           "D.C.II: Da Capo II"
          ],
          [
           "UNKNOWN",
           "Dorami & Doraemons: Robot School's Seven Mysteries"
          ],
          [
           "Shin-Ei Animation",
           "Doraemon: The Day When I Was Born"
          ],
          [
           "UNKNOWN",
           "Doraemon Movie 22: Nobita to Tsubasa no Yuusha-tachi"
          ],
          [
           "Shin-Ei Animation",
           "Doraemon Movie 08: Nobita to Ryuu no Kishi"
          ],
          [
           "Shin-Ei Animation",
           "Doraemon Movie 19: Nobita no Nankai Daibouken"
          ],
          [
           "Shin-Ei Animation",
           "Doraemon Movie 06: Nobita no Little Star Wars"
          ],
          [
           "UNKNOWN",
           "Doraemon Movie 12: Nobita no Dorabian Nights"
          ],
          [
           "Shin-Ei Animation",
           "Doraemon Movie 17: Nobita to Ginga Express"
          ],
          [
           "Toei Animation",
           "Kinnikuman: Ooabare! Seigi Choujin"
          ],
          [
           "SILVER LINK.",
           "Tayutama: Kiss on My Deity"
          ],
          [
           "UNKNOWN",
           "Marine Snow no Densetsu"
          ],
          [
           "Production I.G, Xebec",
           "Break Blade Movie 2: Ketsubetsu no Michi"
          ],
          [
           "Toei Animation",
           "One Piece Film: Strong World Episode 0"
          ],
          [
           "UNKNOWN",
           "Rokushin Gattai GodMars (1982)"
          ],
          [
           "UNKNOWN",
           "Lan Mao"
          ],
          [
           "UNKNOWN",
           "Fuwa Aoyun Manyouji"
          ],
          [
           "Tokyo Movie Shinsha, Studio Junio",
           "Bug tte Honey"
          ],
          [
           "UNKNOWN",
           "Skyers 5"
          ],
          [
           "Mushi Production",
           "Wanpaku Tanteidan"
          ],
          [
           "Xebec",
           "Rinne no Lagrange Season 2"
          ],
          [
           "Tatsunoko Production",
           "Dokachin"
          ],
          [
           "UNKNOWN",
           "Solar I.II.III"
          ],
          [
           "UNKNOWN",
           "Kankara Sanshin"
          ],
          [
           "UNKNOWN",
           "Tetsuwan Atom: Ao Kishi no Kan"
          ],
          [
           "Toei Animation",
           "Gu-Gu Ganmo (Movie)"
          ],
          [
           "UNKNOWN",
           "Manga Ijin Monogatari"
          ],
          [
           "Tokyo Movie Shinsha",
           "Takarajima Movie"
          ],
          [
           "UNKNOWN",
           "One Piece: Cry Heart"
          ],
          [
           "Knack Productions",
           "Shin Don Chuck Monogatari"
          ],
          [
           "Meruhensha",
           "Heart Cocktail"
          ],
          [
           "Toei Animation",
           "One Piece: Episode of Alabasta - Prologue"
          ],
          [
           "UNKNOWN",
           "Toumei Ningen"
          ],
          [
           "UNKNOWN",
           "Malay Oki Kaisen"
          ],
          [
           "UNKNOWN",
           "Fushigi na Taiko"
          ],
          [
           "HORNETS",
           "Shounen Sunday CM: Major 2nd"
          ],
          [
           "Gakken Eigakyoku",
           "Mori no Ongakutai"
          ],
          [
           "UNKNOWN",
           "Chichi Kaeru"
          ],
          [
           "UNKNOWN",
           "Isobe Isobee Monogatari Jump Festa Special"
          ],
          [
           "UNKNOWN",
           "KiyaKiya"
          ],
          [
           "UNKNOWN",
           "Ousama to Nightingale"
          ],
          [
           "UNKNOWN",
           "Mukashi Mukashi Momotarou"
          ],
          [
           "UNKNOWN",
           "Shita-kiri Suzume (1974)"
          ],
          [
           "Toei Animation",
           "Scratch x One Piece Film: Gold"
          ],
          [
           "UNKNOWN",
           "Prison Lab"
          ],
          [
           "UNKNOWN",
           "On a Forest, in the Air"
          ],
          [
           "UNKNOWN",
           "Superfluid"
          ],
          [
           "UNKNOWN",
           "Collapse Zen"
          ],
          [
           "UNKNOWN",
           "Hana (2006)"
          ],
          [
           "Toei Animation",
           "Look Plus One Piece Special Movie"
          ],
          [
           "UNKNOWN",
           "Robocar Poli 3"
          ],
          [
           "UNKNOWN",
           "Zoning Tokyo"
          ],
          [
           "UNKNOWN",
           "Drawing!!"
          ],
          [
           "UNKNOWN",
           "The Dawn of Ape"
          ],
          [
           "UNKNOWN",
           "One Piece Characters Log"
          ],
          [
           "Brain's Base",
           "Tonari no Kaibutsu-kun Special"
          ],
          [
           "UNKNOWN",
           "Isekai Shikkaku"
          ],
          [
           "UNKNOWN",
           "One Piece 4D"
          ],
          [
           "Studio 4°C",
           "Berserk: Ougon Jidai-hen III - Kourin"
          ],
          [
           "Sunrise",
           "Cowboy Bebop"
          ],
          [
           "Bones",
           "Fullmetal Alchemist"
          ],
          [
           "Toei Animation",
           "Ginga Tetsudou 999"
          ],
          [
           "Actas",
           "Girls & Panzer"
          ],
          [
           "AIC ASTA",
           "Jinrui wa Suitai Shimashita"
          ],
          [
           "Xebec",
           "Kanokon"
          ],
          [
           "Platinum Vision",
           "Koroshi Ai"
          ],
          [
           "Vega Entertainment",
           "Maetel Legend"
          ],
          [
           "Signal.MD",
           "Mars Red"
          ],
          [
           "Madhouse",
           "Mushikaburi-hime"
          ],
          [
           "feel.",
           "Nagasarete Airantou"
          ],
          [
           "Toei Animation",
           "One Piece Film: Gold"
          ],
          [
           "Toei Animation",
           "One Piece Film: Strong World"
          ],
          [
           "Toei Animation",
           "One Piece Movie 02: Nejimaki-jima no Daibouken"
          ],
          [
           "Toei Animation",
           "One Piece Movie 09: Episode of Chopper Plus - Fuyu ni Saku, Kiseki no Sakura"
          ],
          [
           "Toei Animation",
           "One Piece: Adventure of Nebulandia"
          ],
          [
           "Toei Animation",
           "One Piece: Heart of Gold"
          ],
          [
           "Children's Playground Entertainment",
           "Saihate no Paladin"
          ],
          [
           "Manglobe",
           "Samurai Champloo"
          ],
          [
           "Studio Deen",
           "Samurai Deeper Kyou"
          ],
          [
           "Group TAC",
           "Saraba Uchuu Senkan Yamato: Ai no Senshi-tachi"
          ],
          [
           "Toei Animation",
           "Shounen Ninja Kaze no Fujimaru"
          ],
          [
           "Madhouse",
           "Space Pirate Captain Herlock: Outside Legend - The Endless Odyssey"
          ],
          [
           "OLM",
           "To Heart 2"
          ],
          [
           "Xebec",
           "To LOVE-Ru"
          ],
          [
           "CloverWorks",
           "Tokyo 24-ku"
          ],
          [
           "Group TAC",
           "Uchuu Senkan Yamato"
          ],
          [
           "A-1 Pictures",
           "Vividred Operation"
          ],
          [
           "Toei Animation",
           "Waga Seishun no Arcadia"
          ],
          [
           "Production I.G, SANZIGEN",
           "009 Re:Cyborg"
          ],
          [
           "Toei Animation",
           "American Rabbit no Bouken"
          ],
          [
           "Sola Digital Arts",
           "Appleseed Alpha"
          ],
          [
           "Studio Chizu",
           "Bakemono no Ko"
          ],
          [
           "Gonzo",
           "Basilisk: Kouga Ninpou Chou"
          ],
          [
           "Gonzo",
           "Bayonetta: Bloody Fate"
          ],
          [
           "Studio 4°C",
           "Berserk: Ougon Jidai-hen I - Haou no Tamago"
          ],
          [
           "Studio 4°C",
           "Berserk: Ougon Jidai-hen II - Doldrey Kouryaku"
          ],
          [
           "Polygon Pictures",
           "Blame! Movie"
          ],
          [
           "Production I.G, Xebec",
           "Break Blade Movie 1: Kakusei no Toki"
          ],
          [
           "Toei Animation, Marza Animation Planet",
           "Captain Herlock"
          ],
          [
           "Vega Entertainment",
           "Cosmo Warrior Zero"
          ],
          [
           "UNKNOWN",
           "Doraemon: Nobita's the Night Before a Wedding"
          ],
          [
           "TMS Entertainment",
           "Flanders no Inu, Boku no Patrasche"
          ],
          [
           "AIC Spirits",
           "Goshuushou-sama Ninomiya-kun"
          ],
          [
           "Madhouse",
           "Gungrave"
          ],
          [
           "Science SARU",
           "Heike Monogatari"
          ],
          [
           "Bakken Record",
           "Jouran: The Princess of Snow and Blood"
          ],
          [
           "PINE JAM",
           "Kageki Shoujo!!"
          ],
          [
           "Production I.G",
           "Kaizoku Oujo"
          ],
          [
           "J.C.Staff",
           "Kill Me Baby"
          ],
          [
           "Sunrise",
           "Kyoukaisenjou no Horizon"
          ],
          [
           "Gonzo",
           "Last Exile"
          ],
          [
           "Gainax",
           "Medaka Box"
          ],
          [
           "Satelight",
           "Mouretsu Pirates"
          ],
          [
           "Satelight",
           "Mouretsu Pirates: Abyss of Hyperspace"
          ],
          [
           "Toei Animation",
           "One Piece 3D: Mugiwara Chase"
          ],
          [
           "Toei Animation",
           "One Piece Film: Red"
          ],
          [
           "Toei Animation",
           "One Piece Movie 03: Chinjuu-jima no Chopper Oukoku"
          ],
          [
           "Toei Animation",
           "One Piece Movie 05: Norowareta Seiken"
          ],
          [
           "Toei Animation",
           "One Piece Movie 06: Omatsuri Danshaku to Himitsu no Shima"
          ],
          [
           "Toei Animation",
           "One Piece Movie 07: Karakuri-jou no Mecha Kyohei"
          ],
          [
           "Toei Animation",
           "One Piece Movie 14: Stampede"
          ],
          [
           "Toei Animation",
           "One Piece: Episode of Sorajima"
          ],
          [
           "Toei Animation",
           "Ookami Shounen Ken"
          ],
          [
           "OLM",
           "Queen Emeraldas"
          ],
          [
           "Xebec",
           "Rinne no Lagrange"
          ],
          [
           "Gallop, Studio Deen",
           "Rurouni Kenshin: Meiji Kenkaku Romantan"
          ],
          [
           "Satelight",
           "Sakugan"
          ],
          [
           "Gonzo",
           "Samurai 7"
          ],
          [
           "Satelight, Encourage Films",
           "Senki Zesshou Symphogear"
          ],
          [
           "P.A. Works",
           "Shiroi Suna no Aquatope"
          ],
          [
           "asread.",
           "Shuffle! Memories"
          ],
          [
           "Madhouse",
           "Trigun"
          ],
          [
           "Gonzo",
           "Trinity Blood"
          ],
          [
           "Toei Animation",
           "Uchuu Kaizoku Captain Herlock"
          ],
          [
           "Group TAC",
           "Uchuu Senkan Yamato 2"
          ]
         ],
         "hovertemplate": "<b>%{customdata[1]}</b><br>Studios: %{customdata[0]}<br><extra></extra>",
         "legendgroup": "collab_filter",
         "marker": {
          "color": "#EF553B",
          "symbol": "circle"
         },
         "mode": "markers",
         "name": "collab_filter",
         "orientation": "v",
         "showlegend": true,
         "type": "scatter",
         "x": [
          5.54657,
          5.456189,
          3.405685,
          6.1568365,
          6.236927,
          2.5843453,
          5.574816,
          1.4008054,
          9.695246,
          1.2024035,
          1.3312721,
          1.2685448,
          1.1702057,
          4.218134,
          9.641104,
          5.354529,
          6.8974657,
          8.602071,
          3.0922272,
          6.689142,
          3.8625207,
          4.173568,
          5.8140526,
          3.2066176,
          6.2800946,
          3.7845163,
          9.721177,
          8.331387,
          6.7154465,
          7.8635645,
          4.2469616,
          8.752408,
          9.8323145,
          3.8635757,
          7.4321127,
          8.760156,
          9.651518,
          8.436802,
          8.737359,
          9.163354,
          9.616172,
          1.2622806,
          9.594345,
          7.457295,
          9.565285,
          8.233758,
          7.6982493,
          8.650967,
          3.5778093,
          9.734856,
          9.116442,
          9.456671,
          8.777013,
          5.3199873,
          10.023113,
          8.983241,
          9.883288,
          9.545176,
          9.83763,
          2.4126165,
          5.6310334,
          6.1615195,
          5.013034,
          2.8958998,
          5.942603,
          5.2114573,
          2.7046292,
          6.3830748,
          2.9116945,
          5.3435097,
          4.7556705,
          2.8247538,
          3.0006032,
          2.371182,
          3.3634908,
          4.7190495,
          3.4653707,
          2.5739346,
          5.7962456,
          3.5198267,
          4.6143026,
          6.1315637,
          5.901161,
          3.2785025,
          5.9259,
          5.1962695,
          5.098664,
          5.5148726,
          2.3442874,
          6.9220076,
          4.3985276,
          2.9671705,
          5.072255,
          2.475317,
          2.4343657,
          3.444584,
          1.9238887,
          5.145917,
          1.1280539,
          6.031102,
          6.1260176,
          3.2591488,
          2.9090586,
          5.8642044,
          3.9894643,
          5.8990293,
          6.305564,
          6.3164034,
          4.813597,
          2.4921222,
          2.8782346,
          2.4143217,
          2.9937875,
          6.3881617,
          3.5856497,
          4.5733504,
          2.8203554,
          6.250703,
          2.627319,
          5.3960295,
          6.101095
         ],
         "xaxis": "x",
         "y": [
          1.5443251,
          1.3834943,
          -1.1502192,
          2.1779966,
          -1.6669796,
          0.16057153,
          1.5041857,
          2.0133877,
          1.1959556,
          1.9467125,
          2.0488045,
          2.0392728,
          1.9133619,
          0.12368891,
          1.1529306,
          2.2733839,
          -0.7109414,
          0.5138756,
          -0.5222649,
          -0.98489636,
          -1.5165298,
          0.29221705,
          -1.5069588,
          1.7195971,
          1.9745418,
          -1.6577933,
          1.2456979,
          -0.3780461,
          -1.0481329,
          -0.04967892,
          -1.7089268,
          0.17897002,
          0.36063308,
          -1.0755891,
          0.29630363,
          0.41683158,
          -0.43285125,
          -0.3661373,
          -0.36688507,
          0.4031287,
          -0.7030206,
          1.4910836,
          0.624386,
          0.34548864,
          -0.7399891,
          -0.27335322,
          -0.2363999,
          0.1413145,
          1.7331512,
          -0.5234363,
          0.14908837,
          -0.32829437,
          0.0898479,
          0.5311195,
          -0.32556745,
          -0.20308447,
          -0.2711075,
          1.0071008,
          -0.11476308,
          0.8382288,
          -1.8358055,
          -0.029431757,
          -0.5303127,
          2.456523,
          -2.5321152,
          2.3205745,
          1.0130498,
          -0.6473773,
          1.8810031,
          1.1369175,
          1.1183047,
          -0.9980868,
          -0.7489264,
          -0.22135305,
          -1.1047226,
          2.157185,
          2.0518138,
          1.719157,
          -2.3245957,
          2.2010577,
          -0.5585131,
          2.1328557,
          2.3605592,
          1.6816921,
          -2.2740765,
          1.2738047,
          -2.0057623,
          -1.6691417,
          -0.30418363,
          -0.19607618,
          2.465769,
          2.061376,
          2.1844451,
          0.93329626,
          0.91992277,
          1.6832602,
          2.093107,
          -1.8514303,
          1.84012,
          2.2074783,
          0.023286525,
          2.1363614,
          2.017993,
          1.8369056,
          1.6620122,
          -2.4577687,
          -0.571191,
          2.0097306,
          -0.5492483,
          -0.46346578,
          -0.9112015,
          0.0073627564,
          -0.4556939,
          2.1624765,
          2.2724268,
          -1.8099114,
          2.5040495,
          1.7267754,
          0.78496647,
          -2.235607,
          -1.9013389
         ],
         "yaxis": "y"
        },
        {
         "customdata": [
          [
           "user query",
           "user query"
          ],
          [
           "feel., Zexcs",
           "D.C.: Da Capo"
          ],
          [
           "feel.",
           "D.C.S.S: Da Capo Second Season"
          ],
          [
           "Toei Animation",
           "One Piece: Oounabara ni Hirake! Dekkai Dekkai Chichi no Yume!"
          ],
          [
           "AIC ASTA",
           "Tokimeki Memorial: Only Love"
          ],
          [
           "Academy Productions",
           "Uchuu Senkan Yamato III"
          ],
          [
           "Toei Animation",
           "One Piece: Nenmatsu Tokubetsu Kikaku! Mugiwara no Luffy Oyabun Torimonochou"
          ],
          [
           "feel.",
           "D.C.II: Da Capo II"
          ],
          [
           "UNKNOWN",
           "Dorami & Doraemons: Robot School's Seven Mysteries"
          ],
          [
           "Shin-Ei Animation",
           "Doraemon: The Day When I Was Born"
          ],
          [
           "UNKNOWN",
           "Doraemon Movie 22: Nobita to Tsubasa no Yuusha-tachi"
          ],
          [
           "Shin-Ei Animation",
           "Doraemon Movie 08: Nobita to Ryuu no Kishi"
          ],
          [
           "Shin-Ei Animation",
           "Doraemon Movie 19: Nobita no Nankai Daibouken"
          ],
          [
           "Shin-Ei Animation",
           "Doraemon Movie 06: Nobita no Little Star Wars"
          ],
          [
           "UNKNOWN",
           "Doraemon Movie 12: Nobita no Dorabian Nights"
          ],
          [
           "Shin-Ei Animation",
           "Doraemon Movie 17: Nobita to Ginga Express"
          ],
          [
           "Toei Animation",
           "Kinnikuman: Ooabare! Seigi Choujin"
          ],
          [
           "SILVER LINK.",
           "Tayutama: Kiss on My Deity"
          ],
          [
           "UNKNOWN",
           "Marine Snow no Densetsu"
          ],
          [
           "Production I.G, Xebec",
           "Break Blade Movie 2: Ketsubetsu no Michi"
          ],
          [
           "Toei Animation",
           "One Piece Film: Strong World Episode 0"
          ],
          [
           "UNKNOWN",
           "Rokushin Gattai GodMars (1982)"
          ],
          [
           "UNKNOWN",
           "Lan Mao"
          ],
          [
           "UNKNOWN",
           "Fuwa Aoyun Manyouji"
          ],
          [
           "Tokyo Movie Shinsha, Studio Junio",
           "Bug tte Honey"
          ],
          [
           "UNKNOWN",
           "Skyers 5"
          ],
          [
           "Mushi Production",
           "Wanpaku Tanteidan"
          ],
          [
           "Xebec",
           "Rinne no Lagrange Season 2"
          ],
          [
           "Tatsunoko Production",
           "Dokachin"
          ],
          [
           "UNKNOWN",
           "Solar I.II.III"
          ],
          [
           "UNKNOWN",
           "Kankara Sanshin"
          ],
          [
           "UNKNOWN",
           "Tetsuwan Atom: Ao Kishi no Kan"
          ],
          [
           "Toei Animation",
           "Gu-Gu Ganmo (Movie)"
          ],
          [
           "UNKNOWN",
           "Manga Ijin Monogatari"
          ],
          [
           "Tokyo Movie Shinsha",
           "Takarajima Movie"
          ],
          [
           "UNKNOWN",
           "One Piece: Cry Heart"
          ],
          [
           "Knack Productions",
           "Shin Don Chuck Monogatari"
          ],
          [
           "Meruhensha",
           "Heart Cocktail"
          ],
          [
           "Toei Animation",
           "One Piece: Episode of Alabasta - Prologue"
          ],
          [
           "UNKNOWN",
           "Toumei Ningen"
          ],
          [
           "UNKNOWN",
           "Malay Oki Kaisen"
          ],
          [
           "UNKNOWN",
           "Fushigi na Taiko"
          ],
          [
           "HORNETS",
           "Shounen Sunday CM: Major 2nd"
          ],
          [
           "Gakken Eigakyoku",
           "Mori no Ongakutai"
          ],
          [
           "UNKNOWN",
           "Chichi Kaeru"
          ],
          [
           "UNKNOWN",
           "Isobe Isobee Monogatari Jump Festa Special"
          ],
          [
           "UNKNOWN",
           "KiyaKiya"
          ],
          [
           "UNKNOWN",
           "Ousama to Nightingale"
          ],
          [
           "UNKNOWN",
           "Mukashi Mukashi Momotarou"
          ],
          [
           "UNKNOWN",
           "Shita-kiri Suzume (1974)"
          ],
          [
           "Toei Animation",
           "Scratch x One Piece Film: Gold"
          ],
          [
           "UNKNOWN",
           "Prison Lab"
          ],
          [
           "UNKNOWN",
           "On a Forest, in the Air"
          ],
          [
           "UNKNOWN",
           "Superfluid"
          ],
          [
           "UNKNOWN",
           "Collapse Zen"
          ],
          [
           "UNKNOWN",
           "Hana (2006)"
          ],
          [
           "Toei Animation",
           "Look Plus One Piece Special Movie"
          ],
          [
           "UNKNOWN",
           "Robocar Poli 3"
          ],
          [
           "UNKNOWN",
           "Zoning Tokyo"
          ],
          [
           "UNKNOWN",
           "Drawing!!"
          ],
          [
           "UNKNOWN",
           "The Dawn of Ape"
          ],
          [
           "UNKNOWN",
           "One Piece Characters Log"
          ],
          [
           "Brain's Base",
           "Tonari no Kaibutsu-kun Special"
          ],
          [
           "UNKNOWN",
           "Isekai Shikkaku"
          ],
          [
           "UNKNOWN",
           "One Piece 4D"
          ],
          [
           "Studio 4°C",
           "Berserk: Ougon Jidai-hen III - Kourin"
          ],
          [
           "Sunrise",
           "Cowboy Bebop"
          ],
          [
           "Bones",
           "Fullmetal Alchemist"
          ],
          [
           "Toei Animation",
           "Ginga Tetsudou 999"
          ],
          [
           "Actas",
           "Girls & Panzer"
          ],
          [
           "AIC ASTA",
           "Jinrui wa Suitai Shimashita"
          ],
          [
           "Xebec",
           "Kanokon"
          ],
          [
           "Platinum Vision",
           "Koroshi Ai"
          ],
          [
           "Vega Entertainment",
           "Maetel Legend"
          ],
          [
           "Signal.MD",
           "Mars Red"
          ],
          [
           "Madhouse",
           "Mushikaburi-hime"
          ],
          [
           "feel.",
           "Nagasarete Airantou"
          ],
          [
           "Toei Animation",
           "One Piece Film: Gold"
          ],
          [
           "Toei Animation",
           "One Piece Film: Strong World"
          ],
          [
           "Toei Animation",
           "One Piece Movie 02: Nejimaki-jima no Daibouken"
          ],
          [
           "Toei Animation",
           "One Piece Movie 09: Episode of Chopper Plus - Fuyu ni Saku, Kiseki no Sakura"
          ],
          [
           "Toei Animation",
           "One Piece: Adventure of Nebulandia"
          ],
          [
           "Toei Animation",
           "One Piece: Heart of Gold"
          ],
          [
           "Children's Playground Entertainment",
           "Saihate no Paladin"
          ],
          [
           "Manglobe",
           "Samurai Champloo"
          ],
          [
           "Studio Deen",
           "Samurai Deeper Kyou"
          ],
          [
           "Group TAC",
           "Saraba Uchuu Senkan Yamato: Ai no Senshi-tachi"
          ],
          [
           "Toei Animation",
           "Shounen Ninja Kaze no Fujimaru"
          ],
          [
           "Madhouse",
           "Space Pirate Captain Herlock: Outside Legend - The Endless Odyssey"
          ],
          [
           "OLM",
           "To Heart 2"
          ],
          [
           "Xebec",
           "To LOVE-Ru"
          ],
          [
           "CloverWorks",
           "Tokyo 24-ku"
          ],
          [
           "Group TAC",
           "Uchuu Senkan Yamato"
          ],
          [
           "A-1 Pictures",
           "Vividred Operation"
          ],
          [
           "Toei Animation",
           "Waga Seishun no Arcadia"
          ],
          [
           "Production I.G, SANZIGEN",
           "009 Re:Cyborg"
          ],
          [
           "Toei Animation",
           "American Rabbit no Bouken"
          ],
          [
           "Sola Digital Arts",
           "Appleseed Alpha"
          ],
          [
           "Studio Chizu",
           "Bakemono no Ko"
          ],
          [
           "Gonzo",
           "Basilisk: Kouga Ninpou Chou"
          ],
          [
           "Gonzo",
           "Bayonetta: Bloody Fate"
          ],
          [
           "Studio 4°C",
           "Berserk: Ougon Jidai-hen I - Haou no Tamago"
          ],
          [
           "Studio 4°C",
           "Berserk: Ougon Jidai-hen II - Doldrey Kouryaku"
          ],
          [
           "Polygon Pictures",
           "Blame! Movie"
          ],
          [
           "Production I.G, Xebec",
           "Break Blade Movie 1: Kakusei no Toki"
          ],
          [
           "Toei Animation, Marza Animation Planet",
           "Captain Herlock"
          ],
          [
           "Vega Entertainment",
           "Cosmo Warrior Zero"
          ],
          [
           "UNKNOWN",
           "Doraemon: Nobita's the Night Before a Wedding"
          ],
          [
           "TMS Entertainment",
           "Flanders no Inu, Boku no Patrasche"
          ],
          [
           "AIC Spirits",
           "Goshuushou-sama Ninomiya-kun"
          ],
          [
           "Madhouse",
           "Gungrave"
          ],
          [
           "Science SARU",
           "Heike Monogatari"
          ],
          [
           "Bakken Record",
           "Jouran: The Princess of Snow and Blood"
          ],
          [
           "PINE JAM",
           "Kageki Shoujo!!"
          ],
          [
           "Production I.G",
           "Kaizoku Oujo"
          ],
          [
           "J.C.Staff",
           "Kill Me Baby"
          ],
          [
           "Sunrise",
           "Kyoukaisenjou no Horizon"
          ],
          [
           "Gonzo",
           "Last Exile"
          ],
          [
           "Gainax",
           "Medaka Box"
          ],
          [
           "Satelight",
           "Mouretsu Pirates"
          ],
          [
           "Satelight",
           "Mouretsu Pirates: Abyss of Hyperspace"
          ],
          [
           "Toei Animation",
           "One Piece 3D: Mugiwara Chase"
          ],
          [
           "Toei Animation",
           "One Piece Film: Red"
          ],
          [
           "Toei Animation",
           "One Piece Movie 03: Chinjuu-jima no Chopper Oukoku"
          ],
          [
           "Toei Animation",
           "One Piece Movie 05: Norowareta Seiken"
          ],
          [
           "Toei Animation",
           "One Piece Movie 06: Omatsuri Danshaku to Himitsu no Shima"
          ],
          [
           "Toei Animation",
           "One Piece Movie 07: Karakuri-jou no Mecha Kyohei"
          ],
          [
           "Toei Animation",
           "One Piece Movie 14: Stampede"
          ],
          [
           "Toei Animation",
           "One Piece: Episode of Sorajima"
          ],
          [
           "Toei Animation",
           "Ookami Shounen Ken"
          ],
          [
           "OLM",
           "Queen Emeraldas"
          ],
          [
           "Xebec",
           "Rinne no Lagrange"
          ],
          [
           "Gallop, Studio Deen",
           "Rurouni Kenshin: Meiji Kenkaku Romantan"
          ],
          [
           "Satelight",
           "Sakugan"
          ],
          [
           "Gonzo",
           "Samurai 7"
          ],
          [
           "Satelight, Encourage Films",
           "Senki Zesshou Symphogear"
          ],
          [
           "P.A. Works",
           "Shiroi Suna no Aquatope"
          ],
          [
           "asread.",
           "Shuffle! Memories"
          ],
          [
           "Madhouse",
           "Trigun"
          ],
          [
           "Gonzo",
           "Trinity Blood"
          ],
          [
           "Toei Animation",
           "Uchuu Kaizoku Captain Herlock"
          ],
          [
           "Group TAC",
           "Uchuu Senkan Yamato 2"
          ]
         ],
         "hovertemplate": "<b>%{customdata[1]}</b><br>Studios: %{customdata[0]}<br><extra></extra>",
         "legendgroup": "vector_rec",
         "marker": {
          "color": "#00cc96",
          "symbol": "circle"
         },
         "mode": "markers",
         "name": "vector_rec",
         "orientation": "v",
         "showlegend": true,
         "type": "scatter",
         "x": [
          1.1931537,
          4.070537,
          3.046501,
          9.898416,
          4.4648943,
          2.5976586,
          2.798103,
          5.7305193,
          4.4790854,
          4.0335016,
          4.9179864,
          9.967954,
          2.7451868,
          2.7115114,
          2.6117668,
          2.5109906,
          6.428293,
          4.9719524,
          4.651884,
          5.4484334
         ],
         "xaxis": "x",
         "y": [
          1.9057605,
          0.35469112,
          -0.7402194,
          0.29879335,
          0.57176256,
          -0.8807458,
          -0.85360473,
          -2.3038251,
          2.0894175,
          1.6889373,
          -0.45289344,
          0.30249828,
          -0.13304305,
          -0.09141863,
          -0.6833487,
          -0.80191463,
          -0.6415269,
          -1.8956926,
          0.25193405,
          -1.7298635
         ],
         "yaxis": "y"
        },
        {
         "customdata": [
          [
           "user query",
           "user query"
          ],
          [
           "feel., Zexcs",
           "D.C.: Da Capo"
          ],
          [
           "feel.",
           "D.C.S.S: Da Capo Second Season"
          ],
          [
           "Toei Animation",
           "One Piece: Oounabara ni Hirake! Dekkai Dekkai Chichi no Yume!"
          ],
          [
           "AIC ASTA",
           "Tokimeki Memorial: Only Love"
          ],
          [
           "Academy Productions",
           "Uchuu Senkan Yamato III"
          ],
          [
           "Toei Animation",
           "One Piece: Nenmatsu Tokubetsu Kikaku! Mugiwara no Luffy Oyabun Torimonochou"
          ],
          [
           "feel.",
           "D.C.II: Da Capo II"
          ],
          [
           "UNKNOWN",
           "Dorami & Doraemons: Robot School's Seven Mysteries"
          ],
          [
           "Shin-Ei Animation",
           "Doraemon: The Day When I Was Born"
          ],
          [
           "UNKNOWN",
           "Doraemon Movie 22: Nobita to Tsubasa no Yuusha-tachi"
          ],
          [
           "Shin-Ei Animation",
           "Doraemon Movie 08: Nobita to Ryuu no Kishi"
          ],
          [
           "Shin-Ei Animation",
           "Doraemon Movie 19: Nobita no Nankai Daibouken"
          ],
          [
           "Shin-Ei Animation",
           "Doraemon Movie 06: Nobita no Little Star Wars"
          ],
          [
           "UNKNOWN",
           "Doraemon Movie 12: Nobita no Dorabian Nights"
          ],
          [
           "Shin-Ei Animation",
           "Doraemon Movie 17: Nobita to Ginga Express"
          ],
          [
           "Toei Animation",
           "Kinnikuman: Ooabare! Seigi Choujin"
          ],
          [
           "SILVER LINK.",
           "Tayutama: Kiss on My Deity"
          ],
          [
           "UNKNOWN",
           "Marine Snow no Densetsu"
          ],
          [
           "Production I.G, Xebec",
           "Break Blade Movie 2: Ketsubetsu no Michi"
          ],
          [
           "Toei Animation",
           "One Piece Film: Strong World Episode 0"
          ],
          [
           "UNKNOWN",
           "Rokushin Gattai GodMars (1982)"
          ],
          [
           "UNKNOWN",
           "Lan Mao"
          ],
          [
           "UNKNOWN",
           "Fuwa Aoyun Manyouji"
          ],
          [
           "Tokyo Movie Shinsha, Studio Junio",
           "Bug tte Honey"
          ],
          [
           "UNKNOWN",
           "Skyers 5"
          ],
          [
           "Mushi Production",
           "Wanpaku Tanteidan"
          ],
          [
           "Xebec",
           "Rinne no Lagrange Season 2"
          ],
          [
           "Tatsunoko Production",
           "Dokachin"
          ],
          [
           "UNKNOWN",
           "Solar I.II.III"
          ],
          [
           "UNKNOWN",
           "Kankara Sanshin"
          ],
          [
           "UNKNOWN",
           "Tetsuwan Atom: Ao Kishi no Kan"
          ],
          [
           "Toei Animation",
           "Gu-Gu Ganmo (Movie)"
          ],
          [
           "UNKNOWN",
           "Manga Ijin Monogatari"
          ],
          [
           "Tokyo Movie Shinsha",
           "Takarajima Movie"
          ],
          [
           "UNKNOWN",
           "One Piece: Cry Heart"
          ],
          [
           "Knack Productions",
           "Shin Don Chuck Monogatari"
          ],
          [
           "Meruhensha",
           "Heart Cocktail"
          ],
          [
           "Toei Animation",
           "One Piece: Episode of Alabasta - Prologue"
          ],
          [
           "UNKNOWN",
           "Toumei Ningen"
          ],
          [
           "UNKNOWN",
           "Malay Oki Kaisen"
          ],
          [
           "UNKNOWN",
           "Fushigi na Taiko"
          ],
          [
           "HORNETS",
           "Shounen Sunday CM: Major 2nd"
          ],
          [
           "Gakken Eigakyoku",
           "Mori no Ongakutai"
          ],
          [
           "UNKNOWN",
           "Chichi Kaeru"
          ],
          [
           "UNKNOWN",
           "Isobe Isobee Monogatari Jump Festa Special"
          ],
          [
           "UNKNOWN",
           "KiyaKiya"
          ],
          [
           "UNKNOWN",
           "Ousama to Nightingale"
          ],
          [
           "UNKNOWN",
           "Mukashi Mukashi Momotarou"
          ],
          [
           "UNKNOWN",
           "Shita-kiri Suzume (1974)"
          ],
          [
           "Toei Animation",
           "Scratch x One Piece Film: Gold"
          ],
          [
           "UNKNOWN",
           "Prison Lab"
          ],
          [
           "UNKNOWN",
           "On a Forest, in the Air"
          ],
          [
           "UNKNOWN",
           "Superfluid"
          ],
          [
           "UNKNOWN",
           "Collapse Zen"
          ],
          [
           "UNKNOWN",
           "Hana (2006)"
          ],
          [
           "Toei Animation",
           "Look Plus One Piece Special Movie"
          ],
          [
           "UNKNOWN",
           "Robocar Poli 3"
          ],
          [
           "UNKNOWN",
           "Zoning Tokyo"
          ],
          [
           "UNKNOWN",
           "Drawing!!"
          ],
          [
           "UNKNOWN",
           "The Dawn of Ape"
          ],
          [
           "UNKNOWN",
           "One Piece Characters Log"
          ],
          [
           "Brain's Base",
           "Tonari no Kaibutsu-kun Special"
          ],
          [
           "UNKNOWN",
           "Isekai Shikkaku"
          ],
          [
           "UNKNOWN",
           "One Piece 4D"
          ],
          [
           "Studio 4°C",
           "Berserk: Ougon Jidai-hen III - Kourin"
          ],
          [
           "Sunrise",
           "Cowboy Bebop"
          ],
          [
           "Bones",
           "Fullmetal Alchemist"
          ],
          [
           "Toei Animation",
           "Ginga Tetsudou 999"
          ],
          [
           "Actas",
           "Girls & Panzer"
          ],
          [
           "AIC ASTA",
           "Jinrui wa Suitai Shimashita"
          ],
          [
           "Xebec",
           "Kanokon"
          ],
          [
           "Platinum Vision",
           "Koroshi Ai"
          ],
          [
           "Vega Entertainment",
           "Maetel Legend"
          ],
          [
           "Signal.MD",
           "Mars Red"
          ],
          [
           "Madhouse",
           "Mushikaburi-hime"
          ],
          [
           "feel.",
           "Nagasarete Airantou"
          ],
          [
           "Toei Animation",
           "One Piece Film: Gold"
          ],
          [
           "Toei Animation",
           "One Piece Film: Strong World"
          ],
          [
           "Toei Animation",
           "One Piece Movie 02: Nejimaki-jima no Daibouken"
          ],
          [
           "Toei Animation",
           "One Piece Movie 09: Episode of Chopper Plus - Fuyu ni Saku, Kiseki no Sakura"
          ],
          [
           "Toei Animation",
           "One Piece: Adventure of Nebulandia"
          ],
          [
           "Toei Animation",
           "One Piece: Heart of Gold"
          ],
          [
           "Children's Playground Entertainment",
           "Saihate no Paladin"
          ],
          [
           "Manglobe",
           "Samurai Champloo"
          ],
          [
           "Studio Deen",
           "Samurai Deeper Kyou"
          ],
          [
           "Group TAC",
           "Saraba Uchuu Senkan Yamato: Ai no Senshi-tachi"
          ],
          [
           "Toei Animation",
           "Shounen Ninja Kaze no Fujimaru"
          ],
          [
           "Madhouse",
           "Space Pirate Captain Herlock: Outside Legend - The Endless Odyssey"
          ],
          [
           "OLM",
           "To Heart 2"
          ],
          [
           "Xebec",
           "To LOVE-Ru"
          ],
          [
           "CloverWorks",
           "Tokyo 24-ku"
          ],
          [
           "Group TAC",
           "Uchuu Senkan Yamato"
          ],
          [
           "A-1 Pictures",
           "Vividred Operation"
          ],
          [
           "Toei Animation",
           "Waga Seishun no Arcadia"
          ],
          [
           "Production I.G, SANZIGEN",
           "009 Re:Cyborg"
          ],
          [
           "Toei Animation",
           "American Rabbit no Bouken"
          ],
          [
           "Sola Digital Arts",
           "Appleseed Alpha"
          ],
          [
           "Studio Chizu",
           "Bakemono no Ko"
          ],
          [
           "Gonzo",
           "Basilisk: Kouga Ninpou Chou"
          ],
          [
           "Gonzo",
           "Bayonetta: Bloody Fate"
          ],
          [
           "Studio 4°C",
           "Berserk: Ougon Jidai-hen I - Haou no Tamago"
          ],
          [
           "Studio 4°C",
           "Berserk: Ougon Jidai-hen II - Doldrey Kouryaku"
          ],
          [
           "Polygon Pictures",
           "Blame! Movie"
          ],
          [
           "Production I.G, Xebec",
           "Break Blade Movie 1: Kakusei no Toki"
          ],
          [
           "Toei Animation, Marza Animation Planet",
           "Captain Herlock"
          ],
          [
           "Vega Entertainment",
           "Cosmo Warrior Zero"
          ],
          [
           "UNKNOWN",
           "Doraemon: Nobita's the Night Before a Wedding"
          ],
          [
           "TMS Entertainment",
           "Flanders no Inu, Boku no Patrasche"
          ],
          [
           "AIC Spirits",
           "Goshuushou-sama Ninomiya-kun"
          ],
          [
           "Madhouse",
           "Gungrave"
          ],
          [
           "Science SARU",
           "Heike Monogatari"
          ],
          [
           "Bakken Record",
           "Jouran: The Princess of Snow and Blood"
          ],
          [
           "PINE JAM",
           "Kageki Shoujo!!"
          ],
          [
           "Production I.G",
           "Kaizoku Oujo"
          ],
          [
           "J.C.Staff",
           "Kill Me Baby"
          ],
          [
           "Sunrise",
           "Kyoukaisenjou no Horizon"
          ],
          [
           "Gonzo",
           "Last Exile"
          ],
          [
           "Gainax",
           "Medaka Box"
          ],
          [
           "Satelight",
           "Mouretsu Pirates"
          ],
          [
           "Satelight",
           "Mouretsu Pirates: Abyss of Hyperspace"
          ],
          [
           "Toei Animation",
           "One Piece 3D: Mugiwara Chase"
          ],
          [
           "Toei Animation",
           "One Piece Film: Red"
          ],
          [
           "Toei Animation",
           "One Piece Movie 03: Chinjuu-jima no Chopper Oukoku"
          ],
          [
           "Toei Animation",
           "One Piece Movie 05: Norowareta Seiken"
          ],
          [
           "Toei Animation",
           "One Piece Movie 06: Omatsuri Danshaku to Himitsu no Shima"
          ],
          [
           "Toei Animation",
           "One Piece Movie 07: Karakuri-jou no Mecha Kyohei"
          ],
          [
           "Toei Animation",
           "One Piece Movie 14: Stampede"
          ],
          [
           "Toei Animation",
           "One Piece: Episode of Sorajima"
          ],
          [
           "Toei Animation",
           "Ookami Shounen Ken"
          ],
          [
           "OLM",
           "Queen Emeraldas"
          ],
          [
           "Xebec",
           "Rinne no Lagrange"
          ],
          [
           "Gallop, Studio Deen",
           "Rurouni Kenshin: Meiji Kenkaku Romantan"
          ],
          [
           "Satelight",
           "Sakugan"
          ],
          [
           "Gonzo",
           "Samurai 7"
          ],
          [
           "Satelight, Encourage Films",
           "Senki Zesshou Symphogear"
          ],
          [
           "P.A. Works",
           "Shiroi Suna no Aquatope"
          ],
          [
           "asread.",
           "Shuffle! Memories"
          ],
          [
           "Madhouse",
           "Trigun"
          ],
          [
           "Gonzo",
           "Trinity Blood"
          ],
          [
           "Toei Animation",
           "Uchuu Kaizoku Captain Herlock"
          ],
          [
           "Group TAC",
           "Uchuu Senkan Yamato 2"
          ]
         ],
         "hovertemplate": "<b>%{customdata[1]}</b><br>Studios: %{customdata[0]}<br><extra></extra>",
         "marker": {
          "color": "red",
          "size": 10,
          "symbol": "x"
         },
         "mode": "markers",
         "name": "rec 1",
         "showlegend": true,
         "type": "scatter",
         "x": [
          3.4056849479675293
         ],
         "y": [
          -1.150219202041626
         ]
        },
        {
         "customdata": [
          [
           "user query",
           "user query"
          ],
          [
           "feel., Zexcs",
           "D.C.: Da Capo"
          ],
          [
           "feel.",
           "D.C.S.S: Da Capo Second Season"
          ],
          [
           "Toei Animation",
           "One Piece: Oounabara ni Hirake! Dekkai Dekkai Chichi no Yume!"
          ],
          [
           "AIC ASTA",
           "Tokimeki Memorial: Only Love"
          ],
          [
           "Academy Productions",
           "Uchuu Senkan Yamato III"
          ],
          [
           "Toei Animation",
           "One Piece: Nenmatsu Tokubetsu Kikaku! Mugiwara no Luffy Oyabun Torimonochou"
          ],
          [
           "feel.",
           "D.C.II: Da Capo II"
          ],
          [
           "UNKNOWN",
           "Dorami & Doraemons: Robot School's Seven Mysteries"
          ],
          [
           "Shin-Ei Animation",
           "Doraemon: The Day When I Was Born"
          ],
          [
           "UNKNOWN",
           "Doraemon Movie 22: Nobita to Tsubasa no Yuusha-tachi"
          ],
          [
           "Shin-Ei Animation",
           "Doraemon Movie 08: Nobita to Ryuu no Kishi"
          ],
          [
           "Shin-Ei Animation",
           "Doraemon Movie 19: Nobita no Nankai Daibouken"
          ],
          [
           "Shin-Ei Animation",
           "Doraemon Movie 06: Nobita no Little Star Wars"
          ],
          [
           "UNKNOWN",
           "Doraemon Movie 12: Nobita no Dorabian Nights"
          ],
          [
           "Shin-Ei Animation",
           "Doraemon Movie 17: Nobita to Ginga Express"
          ],
          [
           "Toei Animation",
           "Kinnikuman: Ooabare! Seigi Choujin"
          ],
          [
           "SILVER LINK.",
           "Tayutama: Kiss on My Deity"
          ],
          [
           "UNKNOWN",
           "Marine Snow no Densetsu"
          ],
          [
           "Production I.G, Xebec",
           "Break Blade Movie 2: Ketsubetsu no Michi"
          ],
          [
           "Toei Animation",
           "One Piece Film: Strong World Episode 0"
          ],
          [
           "UNKNOWN",
           "Rokushin Gattai GodMars (1982)"
          ],
          [
           "UNKNOWN",
           "Lan Mao"
          ],
          [
           "UNKNOWN",
           "Fuwa Aoyun Manyouji"
          ],
          [
           "Tokyo Movie Shinsha, Studio Junio",
           "Bug tte Honey"
          ],
          [
           "UNKNOWN",
           "Skyers 5"
          ],
          [
           "Mushi Production",
           "Wanpaku Tanteidan"
          ],
          [
           "Xebec",
           "Rinne no Lagrange Season 2"
          ],
          [
           "Tatsunoko Production",
           "Dokachin"
          ],
          [
           "UNKNOWN",
           "Solar I.II.III"
          ],
          [
           "UNKNOWN",
           "Kankara Sanshin"
          ],
          [
           "UNKNOWN",
           "Tetsuwan Atom: Ao Kishi no Kan"
          ],
          [
           "Toei Animation",
           "Gu-Gu Ganmo (Movie)"
          ],
          [
           "UNKNOWN",
           "Manga Ijin Monogatari"
          ],
          [
           "Tokyo Movie Shinsha",
           "Takarajima Movie"
          ],
          [
           "UNKNOWN",
           "One Piece: Cry Heart"
          ],
          [
           "Knack Productions",
           "Shin Don Chuck Monogatari"
          ],
          [
           "Meruhensha",
           "Heart Cocktail"
          ],
          [
           "Toei Animation",
           "One Piece: Episode of Alabasta - Prologue"
          ],
          [
           "UNKNOWN",
           "Toumei Ningen"
          ],
          [
           "UNKNOWN",
           "Malay Oki Kaisen"
          ],
          [
           "UNKNOWN",
           "Fushigi na Taiko"
          ],
          [
           "HORNETS",
           "Shounen Sunday CM: Major 2nd"
          ],
          [
           "Gakken Eigakyoku",
           "Mori no Ongakutai"
          ],
          [
           "UNKNOWN",
           "Chichi Kaeru"
          ],
          [
           "UNKNOWN",
           "Isobe Isobee Monogatari Jump Festa Special"
          ],
          [
           "UNKNOWN",
           "KiyaKiya"
          ],
          [
           "UNKNOWN",
           "Ousama to Nightingale"
          ],
          [
           "UNKNOWN",
           "Mukashi Mukashi Momotarou"
          ],
          [
           "UNKNOWN",
           "Shita-kiri Suzume (1974)"
          ],
          [
           "Toei Animation",
           "Scratch x One Piece Film: Gold"
          ],
          [
           "UNKNOWN",
           "Prison Lab"
          ],
          [
           "UNKNOWN",
           "On a Forest, in the Air"
          ],
          [
           "UNKNOWN",
           "Superfluid"
          ],
          [
           "UNKNOWN",
           "Collapse Zen"
          ],
          [
           "UNKNOWN",
           "Hana (2006)"
          ],
          [
           "Toei Animation",
           "Look Plus One Piece Special Movie"
          ],
          [
           "UNKNOWN",
           "Robocar Poli 3"
          ],
          [
           "UNKNOWN",
           "Zoning Tokyo"
          ],
          [
           "UNKNOWN",
           "Drawing!!"
          ],
          [
           "UNKNOWN",
           "The Dawn of Ape"
          ],
          [
           "UNKNOWN",
           "One Piece Characters Log"
          ],
          [
           "Brain's Base",
           "Tonari no Kaibutsu-kun Special"
          ],
          [
           "UNKNOWN",
           "Isekai Shikkaku"
          ],
          [
           "UNKNOWN",
           "One Piece 4D"
          ],
          [
           "Studio 4°C",
           "Berserk: Ougon Jidai-hen III - Kourin"
          ],
          [
           "Sunrise",
           "Cowboy Bebop"
          ],
          [
           "Bones",
           "Fullmetal Alchemist"
          ],
          [
           "Toei Animation",
           "Ginga Tetsudou 999"
          ],
          [
           "Actas",
           "Girls & Panzer"
          ],
          [
           "AIC ASTA",
           "Jinrui wa Suitai Shimashita"
          ],
          [
           "Xebec",
           "Kanokon"
          ],
          [
           "Platinum Vision",
           "Koroshi Ai"
          ],
          [
           "Vega Entertainment",
           "Maetel Legend"
          ],
          [
           "Signal.MD",
           "Mars Red"
          ],
          [
           "Madhouse",
           "Mushikaburi-hime"
          ],
          [
           "feel.",
           "Nagasarete Airantou"
          ],
          [
           "Toei Animation",
           "One Piece Film: Gold"
          ],
          [
           "Toei Animation",
           "One Piece Film: Strong World"
          ],
          [
           "Toei Animation",
           "One Piece Movie 02: Nejimaki-jima no Daibouken"
          ],
          [
           "Toei Animation",
           "One Piece Movie 09: Episode of Chopper Plus - Fuyu ni Saku, Kiseki no Sakura"
          ],
          [
           "Toei Animation",
           "One Piece: Adventure of Nebulandia"
          ],
          [
           "Toei Animation",
           "One Piece: Heart of Gold"
          ],
          [
           "Children's Playground Entertainment",
           "Saihate no Paladin"
          ],
          [
           "Manglobe",
           "Samurai Champloo"
          ],
          [
           "Studio Deen",
           "Samurai Deeper Kyou"
          ],
          [
           "Group TAC",
           "Saraba Uchuu Senkan Yamato: Ai no Senshi-tachi"
          ],
          [
           "Toei Animation",
           "Shounen Ninja Kaze no Fujimaru"
          ],
          [
           "Madhouse",
           "Space Pirate Captain Herlock: Outside Legend - The Endless Odyssey"
          ],
          [
           "OLM",
           "To Heart 2"
          ],
          [
           "Xebec",
           "To LOVE-Ru"
          ],
          [
           "CloverWorks",
           "Tokyo 24-ku"
          ],
          [
           "Group TAC",
           "Uchuu Senkan Yamato"
          ],
          [
           "A-1 Pictures",
           "Vividred Operation"
          ],
          [
           "Toei Animation",
           "Waga Seishun no Arcadia"
          ],
          [
           "Production I.G, SANZIGEN",
           "009 Re:Cyborg"
          ],
          [
           "Toei Animation",
           "American Rabbit no Bouken"
          ],
          [
           "Sola Digital Arts",
           "Appleseed Alpha"
          ],
          [
           "Studio Chizu",
           "Bakemono no Ko"
          ],
          [
           "Gonzo",
           "Basilisk: Kouga Ninpou Chou"
          ],
          [
           "Gonzo",
           "Bayonetta: Bloody Fate"
          ],
          [
           "Studio 4°C",
           "Berserk: Ougon Jidai-hen I - Haou no Tamago"
          ],
          [
           "Studio 4°C",
           "Berserk: Ougon Jidai-hen II - Doldrey Kouryaku"
          ],
          [
           "Polygon Pictures",
           "Blame! Movie"
          ],
          [
           "Production I.G, Xebec",
           "Break Blade Movie 1: Kakusei no Toki"
          ],
          [
           "Toei Animation, Marza Animation Planet",
           "Captain Herlock"
          ],
          [
           "Vega Entertainment",
           "Cosmo Warrior Zero"
          ],
          [
           "UNKNOWN",
           "Doraemon: Nobita's the Night Before a Wedding"
          ],
          [
           "TMS Entertainment",
           "Flanders no Inu, Boku no Patrasche"
          ],
          [
           "AIC Spirits",
           "Goshuushou-sama Ninomiya-kun"
          ],
          [
           "Madhouse",
           "Gungrave"
          ],
          [
           "Science SARU",
           "Heike Monogatari"
          ],
          [
           "Bakken Record",
           "Jouran: The Princess of Snow and Blood"
          ],
          [
           "PINE JAM",
           "Kageki Shoujo!!"
          ],
          [
           "Production I.G",
           "Kaizoku Oujo"
          ],
          [
           "J.C.Staff",
           "Kill Me Baby"
          ],
          [
           "Sunrise",
           "Kyoukaisenjou no Horizon"
          ],
          [
           "Gonzo",
           "Last Exile"
          ],
          [
           "Gainax",
           "Medaka Box"
          ],
          [
           "Satelight",
           "Mouretsu Pirates"
          ],
          [
           "Satelight",
           "Mouretsu Pirates: Abyss of Hyperspace"
          ],
          [
           "Toei Animation",
           "One Piece 3D: Mugiwara Chase"
          ],
          [
           "Toei Animation",
           "One Piece Film: Red"
          ],
          [
           "Toei Animation",
           "One Piece Movie 03: Chinjuu-jima no Chopper Oukoku"
          ],
          [
           "Toei Animation",
           "One Piece Movie 05: Norowareta Seiken"
          ],
          [
           "Toei Animation",
           "One Piece Movie 06: Omatsuri Danshaku to Himitsu no Shima"
          ],
          [
           "Toei Animation",
           "One Piece Movie 07: Karakuri-jou no Mecha Kyohei"
          ],
          [
           "Toei Animation",
           "One Piece Movie 14: Stampede"
          ],
          [
           "Toei Animation",
           "One Piece: Episode of Sorajima"
          ],
          [
           "Toei Animation",
           "Ookami Shounen Ken"
          ],
          [
           "OLM",
           "Queen Emeraldas"
          ],
          [
           "Xebec",
           "Rinne no Lagrange"
          ],
          [
           "Gallop, Studio Deen",
           "Rurouni Kenshin: Meiji Kenkaku Romantan"
          ],
          [
           "Satelight",
           "Sakugan"
          ],
          [
           "Gonzo",
           "Samurai 7"
          ],
          [
           "Satelight, Encourage Films",
           "Senki Zesshou Symphogear"
          ],
          [
           "P.A. Works",
           "Shiroi Suna no Aquatope"
          ],
          [
           "asread.",
           "Shuffle! Memories"
          ],
          [
           "Madhouse",
           "Trigun"
          ],
          [
           "Gonzo",
           "Trinity Blood"
          ],
          [
           "Toei Animation",
           "Uchuu Kaizoku Captain Herlock"
          ],
          [
           "Group TAC",
           "Uchuu Senkan Yamato 2"
          ]
         ],
         "hovertemplate": "<b>%{customdata[1]}</b><br>Studios: %{customdata[0]}<br><extra></extra>",
         "marker": {
          "color": "red",
          "size": 10,
          "symbol": "x"
         },
         "mode": "markers",
         "name": "rec 2",
         "showlegend": true,
         "type": "scatter",
         "x": [
          3.3634908199310303
         ],
         "y": [
          -1.1047226190567017
         ]
        },
        {
         "customdata": [
          [
           "user query",
           "user query"
          ],
          [
           "feel., Zexcs",
           "D.C.: Da Capo"
          ],
          [
           "feel.",
           "D.C.S.S: Da Capo Second Season"
          ],
          [
           "Toei Animation",
           "One Piece: Oounabara ni Hirake! Dekkai Dekkai Chichi no Yume!"
          ],
          [
           "AIC ASTA",
           "Tokimeki Memorial: Only Love"
          ],
          [
           "Academy Productions",
           "Uchuu Senkan Yamato III"
          ],
          [
           "Toei Animation",
           "One Piece: Nenmatsu Tokubetsu Kikaku! Mugiwara no Luffy Oyabun Torimonochou"
          ],
          [
           "feel.",
           "D.C.II: Da Capo II"
          ],
          [
           "UNKNOWN",
           "Dorami & Doraemons: Robot School's Seven Mysteries"
          ],
          [
           "Shin-Ei Animation",
           "Doraemon: The Day When I Was Born"
          ],
          [
           "UNKNOWN",
           "Doraemon Movie 22: Nobita to Tsubasa no Yuusha-tachi"
          ],
          [
           "Shin-Ei Animation",
           "Doraemon Movie 08: Nobita to Ryuu no Kishi"
          ],
          [
           "Shin-Ei Animation",
           "Doraemon Movie 19: Nobita no Nankai Daibouken"
          ],
          [
           "Shin-Ei Animation",
           "Doraemon Movie 06: Nobita no Little Star Wars"
          ],
          [
           "UNKNOWN",
           "Doraemon Movie 12: Nobita no Dorabian Nights"
          ],
          [
           "Shin-Ei Animation",
           "Doraemon Movie 17: Nobita to Ginga Express"
          ],
          [
           "Toei Animation",
           "Kinnikuman: Ooabare! Seigi Choujin"
          ],
          [
           "SILVER LINK.",
           "Tayutama: Kiss on My Deity"
          ],
          [
           "UNKNOWN",
           "Marine Snow no Densetsu"
          ],
          [
           "Production I.G, Xebec",
           "Break Blade Movie 2: Ketsubetsu no Michi"
          ],
          [
           "Toei Animation",
           "One Piece Film: Strong World Episode 0"
          ],
          [
           "UNKNOWN",
           "Rokushin Gattai GodMars (1982)"
          ],
          [
           "UNKNOWN",
           "Lan Mao"
          ],
          [
           "UNKNOWN",
           "Fuwa Aoyun Manyouji"
          ],
          [
           "Tokyo Movie Shinsha, Studio Junio",
           "Bug tte Honey"
          ],
          [
           "UNKNOWN",
           "Skyers 5"
          ],
          [
           "Mushi Production",
           "Wanpaku Tanteidan"
          ],
          [
           "Xebec",
           "Rinne no Lagrange Season 2"
          ],
          [
           "Tatsunoko Production",
           "Dokachin"
          ],
          [
           "UNKNOWN",
           "Solar I.II.III"
          ],
          [
           "UNKNOWN",
           "Kankara Sanshin"
          ],
          [
           "UNKNOWN",
           "Tetsuwan Atom: Ao Kishi no Kan"
          ],
          [
           "Toei Animation",
           "Gu-Gu Ganmo (Movie)"
          ],
          [
           "UNKNOWN",
           "Manga Ijin Monogatari"
          ],
          [
           "Tokyo Movie Shinsha",
           "Takarajima Movie"
          ],
          [
           "UNKNOWN",
           "One Piece: Cry Heart"
          ],
          [
           "Knack Productions",
           "Shin Don Chuck Monogatari"
          ],
          [
           "Meruhensha",
           "Heart Cocktail"
          ],
          [
           "Toei Animation",
           "One Piece: Episode of Alabasta - Prologue"
          ],
          [
           "UNKNOWN",
           "Toumei Ningen"
          ],
          [
           "UNKNOWN",
           "Malay Oki Kaisen"
          ],
          [
           "UNKNOWN",
           "Fushigi na Taiko"
          ],
          [
           "HORNETS",
           "Shounen Sunday CM: Major 2nd"
          ],
          [
           "Gakken Eigakyoku",
           "Mori no Ongakutai"
          ],
          [
           "UNKNOWN",
           "Chichi Kaeru"
          ],
          [
           "UNKNOWN",
           "Isobe Isobee Monogatari Jump Festa Special"
          ],
          [
           "UNKNOWN",
           "KiyaKiya"
          ],
          [
           "UNKNOWN",
           "Ousama to Nightingale"
          ],
          [
           "UNKNOWN",
           "Mukashi Mukashi Momotarou"
          ],
          [
           "UNKNOWN",
           "Shita-kiri Suzume (1974)"
          ],
          [
           "Toei Animation",
           "Scratch x One Piece Film: Gold"
          ],
          [
           "UNKNOWN",
           "Prison Lab"
          ],
          [
           "UNKNOWN",
           "On a Forest, in the Air"
          ],
          [
           "UNKNOWN",
           "Superfluid"
          ],
          [
           "UNKNOWN",
           "Collapse Zen"
          ],
          [
           "UNKNOWN",
           "Hana (2006)"
          ],
          [
           "Toei Animation",
           "Look Plus One Piece Special Movie"
          ],
          [
           "UNKNOWN",
           "Robocar Poli 3"
          ],
          [
           "UNKNOWN",
           "Zoning Tokyo"
          ],
          [
           "UNKNOWN",
           "Drawing!!"
          ],
          [
           "UNKNOWN",
           "The Dawn of Ape"
          ],
          [
           "UNKNOWN",
           "One Piece Characters Log"
          ],
          [
           "Brain's Base",
           "Tonari no Kaibutsu-kun Special"
          ],
          [
           "UNKNOWN",
           "Isekai Shikkaku"
          ],
          [
           "UNKNOWN",
           "One Piece 4D"
          ],
          [
           "Studio 4°C",
           "Berserk: Ougon Jidai-hen III - Kourin"
          ],
          [
           "Sunrise",
           "Cowboy Bebop"
          ],
          [
           "Bones",
           "Fullmetal Alchemist"
          ],
          [
           "Toei Animation",
           "Ginga Tetsudou 999"
          ],
          [
           "Actas",
           "Girls & Panzer"
          ],
          [
           "AIC ASTA",
           "Jinrui wa Suitai Shimashita"
          ],
          [
           "Xebec",
           "Kanokon"
          ],
          [
           "Platinum Vision",
           "Koroshi Ai"
          ],
          [
           "Vega Entertainment",
           "Maetel Legend"
          ],
          [
           "Signal.MD",
           "Mars Red"
          ],
          [
           "Madhouse",
           "Mushikaburi-hime"
          ],
          [
           "feel.",
           "Nagasarete Airantou"
          ],
          [
           "Toei Animation",
           "One Piece Film: Gold"
          ],
          [
           "Toei Animation",
           "One Piece Film: Strong World"
          ],
          [
           "Toei Animation",
           "One Piece Movie 02: Nejimaki-jima no Daibouken"
          ],
          [
           "Toei Animation",
           "One Piece Movie 09: Episode of Chopper Plus - Fuyu ni Saku, Kiseki no Sakura"
          ],
          [
           "Toei Animation",
           "One Piece: Adventure of Nebulandia"
          ],
          [
           "Toei Animation",
           "One Piece: Heart of Gold"
          ],
          [
           "Children's Playground Entertainment",
           "Saihate no Paladin"
          ],
          [
           "Manglobe",
           "Samurai Champloo"
          ],
          [
           "Studio Deen",
           "Samurai Deeper Kyou"
          ],
          [
           "Group TAC",
           "Saraba Uchuu Senkan Yamato: Ai no Senshi-tachi"
          ],
          [
           "Toei Animation",
           "Shounen Ninja Kaze no Fujimaru"
          ],
          [
           "Madhouse",
           "Space Pirate Captain Herlock: Outside Legend - The Endless Odyssey"
          ],
          [
           "OLM",
           "To Heart 2"
          ],
          [
           "Xebec",
           "To LOVE-Ru"
          ],
          [
           "CloverWorks",
           "Tokyo 24-ku"
          ],
          [
           "Group TAC",
           "Uchuu Senkan Yamato"
          ],
          [
           "A-1 Pictures",
           "Vividred Operation"
          ],
          [
           "Toei Animation",
           "Waga Seishun no Arcadia"
          ],
          [
           "Production I.G, SANZIGEN",
           "009 Re:Cyborg"
          ],
          [
           "Toei Animation",
           "American Rabbit no Bouken"
          ],
          [
           "Sola Digital Arts",
           "Appleseed Alpha"
          ],
          [
           "Studio Chizu",
           "Bakemono no Ko"
          ],
          [
           "Gonzo",
           "Basilisk: Kouga Ninpou Chou"
          ],
          [
           "Gonzo",
           "Bayonetta: Bloody Fate"
          ],
          [
           "Studio 4°C",
           "Berserk: Ougon Jidai-hen I - Haou no Tamago"
          ],
          [
           "Studio 4°C",
           "Berserk: Ougon Jidai-hen II - Doldrey Kouryaku"
          ],
          [
           "Polygon Pictures",
           "Blame! Movie"
          ],
          [
           "Production I.G, Xebec",
           "Break Blade Movie 1: Kakusei no Toki"
          ],
          [
           "Toei Animation, Marza Animation Planet",
           "Captain Herlock"
          ],
          [
           "Vega Entertainment",
           "Cosmo Warrior Zero"
          ],
          [
           "UNKNOWN",
           "Doraemon: Nobita's the Night Before a Wedding"
          ],
          [
           "TMS Entertainment",
           "Flanders no Inu, Boku no Patrasche"
          ],
          [
           "AIC Spirits",
           "Goshuushou-sama Ninomiya-kun"
          ],
          [
           "Madhouse",
           "Gungrave"
          ],
          [
           "Science SARU",
           "Heike Monogatari"
          ],
          [
           "Bakken Record",
           "Jouran: The Princess of Snow and Blood"
          ],
          [
           "PINE JAM",
           "Kageki Shoujo!!"
          ],
          [
           "Production I.G",
           "Kaizoku Oujo"
          ],
          [
           "J.C.Staff",
           "Kill Me Baby"
          ],
          [
           "Sunrise",
           "Kyoukaisenjou no Horizon"
          ],
          [
           "Gonzo",
           "Last Exile"
          ],
          [
           "Gainax",
           "Medaka Box"
          ],
          [
           "Satelight",
           "Mouretsu Pirates"
          ],
          [
           "Satelight",
           "Mouretsu Pirates: Abyss of Hyperspace"
          ],
          [
           "Toei Animation",
           "One Piece 3D: Mugiwara Chase"
          ],
          [
           "Toei Animation",
           "One Piece Film: Red"
          ],
          [
           "Toei Animation",
           "One Piece Movie 03: Chinjuu-jima no Chopper Oukoku"
          ],
          [
           "Toei Animation",
           "One Piece Movie 05: Norowareta Seiken"
          ],
          [
           "Toei Animation",
           "One Piece Movie 06: Omatsuri Danshaku to Himitsu no Shima"
          ],
          [
           "Toei Animation",
           "One Piece Movie 07: Karakuri-jou no Mecha Kyohei"
          ],
          [
           "Toei Animation",
           "One Piece Movie 14: Stampede"
          ],
          [
           "Toei Animation",
           "One Piece: Episode of Sorajima"
          ],
          [
           "Toei Animation",
           "Ookami Shounen Ken"
          ],
          [
           "OLM",
           "Queen Emeraldas"
          ],
          [
           "Xebec",
           "Rinne no Lagrange"
          ],
          [
           "Gallop, Studio Deen",
           "Rurouni Kenshin: Meiji Kenkaku Romantan"
          ],
          [
           "Satelight",
           "Sakugan"
          ],
          [
           "Gonzo",
           "Samurai 7"
          ],
          [
           "Satelight, Encourage Films",
           "Senki Zesshou Symphogear"
          ],
          [
           "P.A. Works",
           "Shiroi Suna no Aquatope"
          ],
          [
           "asread.",
           "Shuffle! Memories"
          ],
          [
           "Madhouse",
           "Trigun"
          ],
          [
           "Gonzo",
           "Trinity Blood"
          ],
          [
           "Toei Animation",
           "Uchuu Kaizoku Captain Herlock"
          ],
          [
           "Group TAC",
           "Uchuu Senkan Yamato 2"
          ]
         ],
         "hovertemplate": "<b>%{customdata[1]}</b><br>Studios: %{customdata[0]}<br><extra></extra>",
         "marker": {
          "color": "red",
          "size": 10,
          "symbol": "x"
         },
         "mode": "markers",
         "name": "rec 3",
         "showlegend": true,
         "type": "scatter",
         "x": [
          3.8635756969451904
         ],
         "y": [
          -1.0755890607833862
         ]
        }
       ],
       "layout": {
        "annotations": [
         {
          "font": {
           "color": "purple",
           "size": 20
          },
          "showarrow": true,
          "text": "X",
          "x": 3.6163179874420166,
          "y": -1.2385914325714111
         }
        ],
        "legend": {
         "title": {
          "text": "rec_label"
         },
         "tracegroupgap": 0
        },
        "template": {
         "data": {
          "bar": [
           {
            "error_x": {
             "color": "#2a3f5f"
            },
            "error_y": {
             "color": "#2a3f5f"
            },
            "marker": {
             "line": {
              "color": "#E5ECF6",
              "width": 0.5
             },
             "pattern": {
              "fillmode": "overlay",
              "size": 10,
              "solidity": 0.2
             }
            },
            "type": "bar"
           }
          ],
          "barpolar": [
           {
            "marker": {
             "line": {
              "color": "#E5ECF6",
              "width": 0.5
             },
             "pattern": {
              "fillmode": "overlay",
              "size": 10,
              "solidity": 0.2
             }
            },
            "type": "barpolar"
           }
          ],
          "carpet": [
           {
            "aaxis": {
             "endlinecolor": "#2a3f5f",
             "gridcolor": "white",
             "linecolor": "white",
             "minorgridcolor": "white",
             "startlinecolor": "#2a3f5f"
            },
            "baxis": {
             "endlinecolor": "#2a3f5f",
             "gridcolor": "white",
             "linecolor": "white",
             "minorgridcolor": "white",
             "startlinecolor": "#2a3f5f"
            },
            "type": "carpet"
           }
          ],
          "choropleth": [
           {
            "colorbar": {
             "outlinewidth": 0,
             "ticks": ""
            },
            "type": "choropleth"
           }
          ],
          "contour": [
           {
            "colorbar": {
             "outlinewidth": 0,
             "ticks": ""
            },
            "colorscale": [
             [
              0,
              "#0d0887"
             ],
             [
              0.1111111111111111,
              "#46039f"
             ],
             [
              0.2222222222222222,
              "#7201a8"
             ],
             [
              0.3333333333333333,
              "#9c179e"
             ],
             [
              0.4444444444444444,
              "#bd3786"
             ],
             [
              0.5555555555555556,
              "#d8576b"
             ],
             [
              0.6666666666666666,
              "#ed7953"
             ],
             [
              0.7777777777777778,
              "#fb9f3a"
             ],
             [
              0.8888888888888888,
              "#fdca26"
             ],
             [
              1,
              "#f0f921"
             ]
            ],
            "type": "contour"
           }
          ],
          "contourcarpet": [
           {
            "colorbar": {
             "outlinewidth": 0,
             "ticks": ""
            },
            "type": "contourcarpet"
           }
          ],
          "heatmap": [
           {
            "colorbar": {
             "outlinewidth": 0,
             "ticks": ""
            },
            "colorscale": [
             [
              0,
              "#0d0887"
             ],
             [
              0.1111111111111111,
              "#46039f"
             ],
             [
              0.2222222222222222,
              "#7201a8"
             ],
             [
              0.3333333333333333,
              "#9c179e"
             ],
             [
              0.4444444444444444,
              "#bd3786"
             ],
             [
              0.5555555555555556,
              "#d8576b"
             ],
             [
              0.6666666666666666,
              "#ed7953"
             ],
             [
              0.7777777777777778,
              "#fb9f3a"
             ],
             [
              0.8888888888888888,
              "#fdca26"
             ],
             [
              1,
              "#f0f921"
             ]
            ],
            "type": "heatmap"
           }
          ],
          "heatmapgl": [
           {
            "colorbar": {
             "outlinewidth": 0,
             "ticks": ""
            },
            "colorscale": [
             [
              0,
              "#0d0887"
             ],
             [
              0.1111111111111111,
              "#46039f"
             ],
             [
              0.2222222222222222,
              "#7201a8"
             ],
             [
              0.3333333333333333,
              "#9c179e"
             ],
             [
              0.4444444444444444,
              "#bd3786"
             ],
             [
              0.5555555555555556,
              "#d8576b"
             ],
             [
              0.6666666666666666,
              "#ed7953"
             ],
             [
              0.7777777777777778,
              "#fb9f3a"
             ],
             [
              0.8888888888888888,
              "#fdca26"
             ],
             [
              1,
              "#f0f921"
             ]
            ],
            "type": "heatmapgl"
           }
          ],
          "histogram": [
           {
            "marker": {
             "pattern": {
              "fillmode": "overlay",
              "size": 10,
              "solidity": 0.2
             }
            },
            "type": "histogram"
           }
          ],
          "histogram2d": [
           {
            "colorbar": {
             "outlinewidth": 0,
             "ticks": ""
            },
            "colorscale": [
             [
              0,
              "#0d0887"
             ],
             [
              0.1111111111111111,
              "#46039f"
             ],
             [
              0.2222222222222222,
              "#7201a8"
             ],
             [
              0.3333333333333333,
              "#9c179e"
             ],
             [
              0.4444444444444444,
              "#bd3786"
             ],
             [
              0.5555555555555556,
              "#d8576b"
             ],
             [
              0.6666666666666666,
              "#ed7953"
             ],
             [
              0.7777777777777778,
              "#fb9f3a"
             ],
             [
              0.8888888888888888,
              "#fdca26"
             ],
             [
              1,
              "#f0f921"
             ]
            ],
            "type": "histogram2d"
           }
          ],
          "histogram2dcontour": [
           {
            "colorbar": {
             "outlinewidth": 0,
             "ticks": ""
            },
            "colorscale": [
             [
              0,
              "#0d0887"
             ],
             [
              0.1111111111111111,
              "#46039f"
             ],
             [
              0.2222222222222222,
              "#7201a8"
             ],
             [
              0.3333333333333333,
              "#9c179e"
             ],
             [
              0.4444444444444444,
              "#bd3786"
             ],
             [
              0.5555555555555556,
              "#d8576b"
             ],
             [
              0.6666666666666666,
              "#ed7953"
             ],
             [
              0.7777777777777778,
              "#fb9f3a"
             ],
             [
              0.8888888888888888,
              "#fdca26"
             ],
             [
              1,
              "#f0f921"
             ]
            ],
            "type": "histogram2dcontour"
           }
          ],
          "mesh3d": [
           {
            "colorbar": {
             "outlinewidth": 0,
             "ticks": ""
            },
            "type": "mesh3d"
           }
          ],
          "parcoords": [
           {
            "line": {
             "colorbar": {
              "outlinewidth": 0,
              "ticks": ""
             }
            },
            "type": "parcoords"
           }
          ],
          "pie": [
           {
            "automargin": true,
            "type": "pie"
           }
          ],
          "scatter": [
           {
            "fillpattern": {
             "fillmode": "overlay",
             "size": 10,
             "solidity": 0.2
            },
            "type": "scatter"
           }
          ],
          "scatter3d": [
           {
            "line": {
             "colorbar": {
              "outlinewidth": 0,
              "ticks": ""
             }
            },
            "marker": {
             "colorbar": {
              "outlinewidth": 0,
              "ticks": ""
             }
            },
            "type": "scatter3d"
           }
          ],
          "scattercarpet": [
           {
            "marker": {
             "colorbar": {
              "outlinewidth": 0,
              "ticks": ""
             }
            },
            "type": "scattercarpet"
           }
          ],
          "scattergeo": [
           {
            "marker": {
             "colorbar": {
              "outlinewidth": 0,
              "ticks": ""
             }
            },
            "type": "scattergeo"
           }
          ],
          "scattergl": [
           {
            "marker": {
             "colorbar": {
              "outlinewidth": 0,
              "ticks": ""
             }
            },
            "type": "scattergl"
           }
          ],
          "scattermapbox": [
           {
            "marker": {
             "colorbar": {
              "outlinewidth": 0,
              "ticks": ""
             }
            },
            "type": "scattermapbox"
           }
          ],
          "scatterpolar": [
           {
            "marker": {
             "colorbar": {
              "outlinewidth": 0,
              "ticks": ""
             }
            },
            "type": "scatterpolar"
           }
          ],
          "scatterpolargl": [
           {
            "marker": {
             "colorbar": {
              "outlinewidth": 0,
              "ticks": ""
             }
            },
            "type": "scatterpolargl"
           }
          ],
          "scatterternary": [
           {
            "marker": {
             "colorbar": {
              "outlinewidth": 0,
              "ticks": ""
             }
            },
            "type": "scatterternary"
           }
          ],
          "surface": [
           {
            "colorbar": {
             "outlinewidth": 0,
             "ticks": ""
            },
            "colorscale": [
             [
              0,
              "#0d0887"
             ],
             [
              0.1111111111111111,
              "#46039f"
             ],
             [
              0.2222222222222222,
              "#7201a8"
             ],
             [
              0.3333333333333333,
              "#9c179e"
             ],
             [
              0.4444444444444444,
              "#bd3786"
             ],
             [
              0.5555555555555556,
              "#d8576b"
             ],
             [
              0.6666666666666666,
              "#ed7953"
             ],
             [
              0.7777777777777778,
              "#fb9f3a"
             ],
             [
              0.8888888888888888,
              "#fdca26"
             ],
             [
              1,
              "#f0f921"
             ]
            ],
            "type": "surface"
           }
          ],
          "table": [
           {
            "cells": {
             "fill": {
              "color": "#EBF0F8"
             },
             "line": {
              "color": "white"
             }
            },
            "header": {
             "fill": {
              "color": "#C8D4E3"
             },
             "line": {
              "color": "white"
             }
            },
            "type": "table"
           }
          ]
         },
         "layout": {
          "annotationdefaults": {
           "arrowcolor": "#2a3f5f",
           "arrowhead": 0,
           "arrowwidth": 1
          },
          "autotypenumbers": "strict",
          "coloraxis": {
           "colorbar": {
            "outlinewidth": 0,
            "ticks": ""
           }
          },
          "colorscale": {
           "diverging": [
            [
             0,
             "#8e0152"
            ],
            [
             0.1,
             "#c51b7d"
            ],
            [
             0.2,
             "#de77ae"
            ],
            [
             0.3,
             "#f1b6da"
            ],
            [
             0.4,
             "#fde0ef"
            ],
            [
             0.5,
             "#f7f7f7"
            ],
            [
             0.6,
             "#e6f5d0"
            ],
            [
             0.7,
             "#b8e186"
            ],
            [
             0.8,
             "#7fbc41"
            ],
            [
             0.9,
             "#4d9221"
            ],
            [
             1,
             "#276419"
            ]
           ],
           "sequential": [
            [
             0,
             "#0d0887"
            ],
            [
             0.1111111111111111,
             "#46039f"
            ],
            [
             0.2222222222222222,
             "#7201a8"
            ],
            [
             0.3333333333333333,
             "#9c179e"
            ],
            [
             0.4444444444444444,
             "#bd3786"
            ],
            [
             0.5555555555555556,
             "#d8576b"
            ],
            [
             0.6666666666666666,
             "#ed7953"
            ],
            [
             0.7777777777777778,
             "#fb9f3a"
            ],
            [
             0.8888888888888888,
             "#fdca26"
            ],
            [
             1,
             "#f0f921"
            ]
           ],
           "sequentialminus": [
            [
             0,
             "#0d0887"
            ],
            [
             0.1111111111111111,
             "#46039f"
            ],
            [
             0.2222222222222222,
             "#7201a8"
            ],
            [
             0.3333333333333333,
             "#9c179e"
            ],
            [
             0.4444444444444444,
             "#bd3786"
            ],
            [
             0.5555555555555556,
             "#d8576b"
            ],
            [
             0.6666666666666666,
             "#ed7953"
            ],
            [
             0.7777777777777778,
             "#fb9f3a"
            ],
            [
             0.8888888888888888,
             "#fdca26"
            ],
            [
             1,
             "#f0f921"
            ]
           ]
          },
          "colorway": [
           "#636efa",
           "#EF553B",
           "#00cc96",
           "#ab63fa",
           "#FFA15A",
           "#19d3f3",
           "#FF6692",
           "#B6E880",
           "#FF97FF",
           "#FECB52"
          ],
          "font": {
           "color": "#2a3f5f"
          },
          "geo": {
           "bgcolor": "white",
           "lakecolor": "white",
           "landcolor": "#E5ECF6",
           "showlakes": true,
           "showland": true,
           "subunitcolor": "white"
          },
          "hoverlabel": {
           "align": "left"
          },
          "hovermode": "closest",
          "mapbox": {
           "style": "light"
          },
          "paper_bgcolor": "white",
          "plot_bgcolor": "#E5ECF6",
          "polar": {
           "angularaxis": {
            "gridcolor": "white",
            "linecolor": "white",
            "ticks": ""
           },
           "bgcolor": "#E5ECF6",
           "radialaxis": {
            "gridcolor": "white",
            "linecolor": "white",
            "ticks": ""
           }
          },
          "scene": {
           "xaxis": {
            "backgroundcolor": "#E5ECF6",
            "gridcolor": "white",
            "gridwidth": 2,
            "linecolor": "white",
            "showbackground": true,
            "ticks": "",
            "zerolinecolor": "white"
           },
           "yaxis": {
            "backgroundcolor": "#E5ECF6",
            "gridcolor": "white",
            "gridwidth": 2,
            "linecolor": "white",
            "showbackground": true,
            "ticks": "",
            "zerolinecolor": "white"
           },
           "zaxis": {
            "backgroundcolor": "#E5ECF6",
            "gridcolor": "white",
            "gridwidth": 2,
            "linecolor": "white",
            "showbackground": true,
            "ticks": "",
            "zerolinecolor": "white"
           }
          },
          "shapedefaults": {
           "line": {
            "color": "#2a3f5f"
           }
          },
          "ternary": {
           "aaxis": {
            "gridcolor": "white",
            "linecolor": "white",
            "ticks": ""
           },
           "baxis": {
            "gridcolor": "white",
            "linecolor": "white",
            "ticks": ""
           },
           "bgcolor": "#E5ECF6",
           "caxis": {
            "gridcolor": "white",
            "linecolor": "white",
            "ticks": ""
           }
          },
          "title": {
           "x": 0.05
          },
          "xaxis": {
           "automargin": true,
           "gridcolor": "white",
           "linecolor": "white",
           "ticks": "",
           "title": {
            "standoff": 15
           },
           "zerolinecolor": "white",
           "zerolinewidth": 2
          },
          "yaxis": {
           "automargin": true,
           "gridcolor": "white",
           "linecolor": "white",
           "ticks": "",
           "title": {
            "standoff": 15
           },
           "zerolinecolor": "white",
           "zerolinewidth": 2
          }
         }
        },
        "title": {
         "text": "UMAP of Anime Recommendations from Collab Filter, Vector Database and Popular Recommendations"
        },
        "xaxis": {
         "anchor": "y",
         "domain": [
          0,
          1
         ],
         "title": {
          "text": "UMAP_1"
         }
        },
        "yaxis": {
         "anchor": "x",
         "domain": [
          0,
          1
         ],
         "title": {
          "text": "UMAP_2"
         }
        }
       }
      }
     },
     "metadata": {},
     "output_type": "display_data"
    }
   ],
   "source": [
    "# Load a pre-trained Sentence Transformer model\n",
    "model = SentenceTransformer('sentence-transformers/all-MiniLM-L6-v2')\n",
    "\n",
    "# Encode the anime synopsis using the Sentence Transformer model\n",
    "embeddings = model.encode(recs_umap['anime_Synopsis'].tolist())\n",
    "\n",
    "# Apply UMAP for dimensionality reduction\n",
    "umap_model = UMAP(n_components=2, n_neighbors=5, min_dist=0.05)\n",
    "umap_result = umap_model.fit_transform(embeddings)\n",
    "\n",
    "# Convert UMAP result to DataFrame\n",
    "umap_df = pd.DataFrame(umap_result, columns=['UMAP_1', 'UMAP_2'])\n",
    "\n",
    "# Add 'Studios' and 'Name' columns to the UMAP DataFrame\n",
    "umap_df['Studios'] = recs_umap['Studios'].tolist()\n",
    "umap_df['Name'] = recs_umap['Name'].tolist()\n",
    "umap_df['rec_label'] = recs_umap['rec_label'].tolist()\n",
    "umap_df['anime_id'] = recs_umap['anime_id'].tolist()\n",
    "\n",
    "# Plot the UMAP with color by 'rec_label'\n",
    "fig_umap = px.scatter(umap_df, x='UMAP_1', y='UMAP_2', color='rec_label', \n",
    "                      hover_data={'Studios': True, 'Name': True},\n",
    "                      title='UMAP of Anime Recommendations from Collab Filter, Vector Database and Popular Recommendations')\n",
    "\n",
    "# Modify the marker symbol for points labeled 'pop_rec' to be a star with yellow color and bigger size\n",
    "fig_umap.for_each_trace(lambda t: t.update(marker=dict(symbol='star', size=12, color='yellow') if t.name == 'pop_rec' else {}))\n",
    "\n",
    "# Add annotation for a specific point\n",
    "x_coord = umap_df.loc[0, 'UMAP_1']\n",
    "y_coord = umap_df.loc[0, 'UMAP_2']\n",
    "fig_umap.add_annotation(x=x_coord, y=y_coord, text=\"X\", showarrow=True, font=dict(color=\"purple\", size=20))\n",
    "\n",
    "# Find the three closest points to the marked point\n",
    "nn_model = NearestNeighbors(n_neighbors=4, metric='euclidean')\n",
    "nn_model.fit(umap_result)\n",
    "distances, indices = nn_model.kneighbors([umap_result[0]])\n",
    "\n",
    "# Collect anime IDs of the three closest points\n",
    "closest_anime_ids = umap_df.loc[indices[0][1:], 'Name'].tolist()\n",
    "\n",
    "# Plot red X symbol on the closest points (excluding the marked point)\n",
    "for i, idx in enumerate(indices[0][1:], start=1):\n",
    "    target_x = umap_df.loc[idx, 'UMAP_1']\n",
    "    target_y = umap_df.loc[idx, 'UMAP_2']\n",
    "    fig_umap.add_trace(go.Scatter(x=[target_x], y=[target_y], mode='markers', showlegend=True,\n",
    "                                  marker=dict(symbol='x', size=10, color='red'), name=f'rec {i}'))\n",
    "\n",
    "\n",
    "# Update hover template to include only 'Name' and 'Studios'\n",
    "fig_umap.update_traces(customdata=umap_df[['Studios', 'Name']],\n",
    "                        hovertemplate=\"<b>%{customdata[1]}</b><br>\" +\n",
    "                                      \"Studios: %{customdata[0]}<br>\" +\n",
    "                                      \"<extra></extra>\")\n",
    "\n",
    "# Show the plot\n",
    "fig_umap.show()"
   ]
  },
  {
   "cell_type": "code",
   "execution_count": null,
   "metadata": {},
   "outputs": [],
   "source": []
  }
 ],
 "metadata": {
  "kernelspec": {
   "display_name": "Python 3",
   "language": "python",
   "name": "python3"
  },
  "language_info": {
   "codemirror_mode": {
    "name": "ipython",
    "version": 3
   },
   "file_extension": ".py",
   "mimetype": "text/x-python",
   "name": "python",
   "nbconvert_exporter": "python",
   "pygments_lexer": "ipython3",
   "version": "3.10.13"
  }
 },
 "nbformat": 4,
 "nbformat_minor": 2
}
