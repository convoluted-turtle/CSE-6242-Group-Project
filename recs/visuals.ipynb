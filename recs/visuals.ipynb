{
 "cells": [
  {
   "cell_type": "code",
   "execution_count": 247,
   "metadata": {},
   "outputs": [],
   "source": [
    "import sys \n",
    "sys.path.append('/Users/justinvhuang/Desktop/CSE-6242-Group-Project')"
   ]
  },
  {
   "cell_type": "code",
   "execution_count": 248,
   "metadata": {},
   "outputs": [],
   "source": [
    "import pandas as pd\n",
    "import plotly.express as px\n",
    "from langchain.embeddings import HuggingFaceEmbeddings\n",
    "from langchain_community.vectorstores import FAISS\n",
    "from utils.textpreprocessing import TextPreprocessor\n",
    "from umap import UMAP\n",
    "from sentence_transformers import SentenceTransformer\n",
    "from sklearn.neighbors import NearestNeighbors\n",
    "import plotly.graph_objects as go"
   ]
  },
  {
   "cell_type": "code",
   "execution_count": 249,
   "metadata": {},
   "outputs": [],
   "source": [
    "textprepo = TextPreprocessor()\n",
    "encode_kwargs = {\"normalize_embeddings\": True}\n",
    "embedding_function = HuggingFaceEmbeddings(\n",
    "    model_name='sentence-transformers/all-MiniLM-L6-v2',\n",
    "    model_kwargs={\"device\": \"cpu\"},\n",
    "    encode_kwargs=encode_kwargs,\n",
    ")"
   ]
  },
  {
   "cell_type": "code",
   "execution_count": 250,
   "metadata": {},
   "outputs": [],
   "source": [
    "new_db = FAISS.load_local(\"/Users/justinvhuang/Desktop/CSE-6242-Group-Project/vector_database_creation/faiss_anime_index_v2\", embedding_function)\n",
    "df = pd.read_json(\"/Users/justinvhuang/Desktop/CSE-6242-Group-Project/fin_anime_dfv1.json\")"
   ]
  },
  {
   "cell_type": "code",
   "execution_count": 251,
   "metadata": {},
   "outputs": [],
   "source": [
    "query = \"I like pirate adventures\""
   ]
  },
  {
   "cell_type": "code",
   "execution_count": 252,
   "metadata": {},
   "outputs": [],
   "source": [
    "\n",
    "query_token = textprepo.preprocess_text(query)\n",
    "\n",
    "def filter_fn(metadata):\n",
    "    return any(word in query for word in list(query_token))\n",
    "\n",
    "\n",
    "#results = new_db.similarity_search(query, filter=filter_fn, k=10)\n",
    "results = new_db.similarity_search(query, filter= filter_fn, k = 5)"
   ]
  },
  {
   "cell_type": "code",
   "execution_count": 253,
   "metadata": {},
   "outputs": [],
   "source": [
    "indexes = {x.metadata['anime_id']: index for index, x in enumerate(results)}\n",
    "cf_list = list(df[df['anime_id'].isin(list(indexes.keys()))]['cf_recs'])\n",
    "if cf_list is not None:\n",
    "    joined_list = [item for sublist in cf_list if sublist is not None for item in sublist if item is not None]\n",
    "\n",
    "pop_recs = list(df.head(1)['popular_recs'])[0]\n",
    "vd_recs = list(indexes.keys())"
   ]
  },
  {
   "cell_type": "code",
   "execution_count": 91,
   "metadata": {},
   "outputs": [],
   "source": [
    "recs = df[df['anime_id'].isin(joined_list + pop_recs + vd_recs)]\n",
    "top_anime_rating = recs[recs['anime_Score']!='UNKNOWN'].sort_values(by='anime_Score', ascending=False).head(5)\n",
    "top_studios = recs.sort_values(by='Favorites', ascending=False).head(5)\n",
    "top_anime_rating['anime_Score'] = top_anime_rating['anime_Score'].astype(float)"
   ]
  },
  {
   "cell_type": "code",
   "execution_count": 143,
   "metadata": {},
   "outputs": [
    {
     "data": {
      "application/vnd.plotly.v1+json": {
       "config": {
        "plotlyServerURL": "https://plot.ly"
       },
       "data": [
        {
         "alignmentgroup": "True",
         "hovertemplate": "Name=%{y}<br>anime_Score=%{x}<extra></extra>",
         "legendgroup": "Hajime no Ippo",
         "marker": {
          "color": [
           "#aec7e8",
           "#7b9fcf",
           "#1f77b4",
           "#03539e",
           "#003f5c"
          ],
          "pattern": {
           "shape": ""
          }
         },
         "name": "Hajime no Ippo",
         "offsetgroup": "Hajime no Ippo",
         "orientation": "h",
         "showlegend": true,
         "textposition": "auto",
         "type": "bar",
         "x": [
          8.76
         ],
         "xaxis": "x",
         "y": [
          "Hajime no Ippo"
         ],
         "yaxis": "y"
        },
        {
         "alignmentgroup": "True",
         "hovertemplate": "Name=%{y}<br>anime_Score=%{x}<extra></extra>",
         "legendgroup": "Cowboy Bebop",
         "marker": {
          "color": [
           "#aec7e8",
           "#7b9fcf",
           "#1f77b4",
           "#03539e",
           "#003f5c"
          ],
          "pattern": {
           "shape": ""
          }
         },
         "name": "Cowboy Bebop",
         "offsetgroup": "Cowboy Bebop",
         "orientation": "h",
         "showlegend": true,
         "textposition": "auto",
         "type": "bar",
         "x": [
          8.75
         ],
         "xaxis": "x",
         "y": [
          "Cowboy Bebop"
         ],
         "yaxis": "y"
        },
        {
         "alignmentgroup": "True",
         "hovertemplate": "Name=%{y}<br>anime_Score=%{x}<extra></extra>",
         "legendgroup": "Code Geass: Hangyaku no Lelouch",
         "marker": {
          "color": [
           "#aec7e8",
           "#7b9fcf",
           "#1f77b4",
           "#03539e",
           "#003f5c"
          ],
          "pattern": {
           "shape": ""
          }
         },
         "name": "Code Geass: Hangyaku no Lelouch",
         "offsetgroup": "Code Geass: Hangyaku no Lelouch",
         "orientation": "h",
         "showlegend": true,
         "textposition": "auto",
         "type": "bar",
         "x": [
          8.7
         ],
         "xaxis": "x",
         "y": [
          "Code Geass: Hangyaku no Lelouch"
         ],
         "yaxis": "y"
        },
        {
         "alignmentgroup": "True",
         "hovertemplate": "Name=%{y}<br>anime_Score=%{x}<extra></extra>",
         "legendgroup": "One Piece",
         "marker": {
          "color": [
           "#aec7e8",
           "#7b9fcf",
           "#1f77b4",
           "#03539e",
           "#003f5c"
          ],
          "pattern": {
           "shape": ""
          }
         },
         "name": "One Piece",
         "offsetgroup": "One Piece",
         "orientation": "h",
         "showlegend": true,
         "textposition": "auto",
         "type": "bar",
         "x": [
          8.69
         ],
         "xaxis": "x",
         "y": [
          "One Piece"
         ],
         "yaxis": "y"
        },
        {
         "alignmentgroup": "True",
         "hovertemplate": "Name=%{y}<br>anime_Score=%{x}<extra></extra>",
         "legendgroup": "Howl no Ugoku Shiro",
         "marker": {
          "color": [
           "#aec7e8",
           "#7b9fcf",
           "#1f77b4",
           "#03539e",
           "#003f5c"
          ],
          "pattern": {
           "shape": ""
          }
         },
         "name": "Howl no Ugoku Shiro",
         "offsetgroup": "Howl no Ugoku Shiro",
         "orientation": "h",
         "showlegend": true,
         "textposition": "auto",
         "type": "bar",
         "x": [
          8.66
         ],
         "xaxis": "x",
         "y": [
          "Howl no Ugoku Shiro"
         ],
         "yaxis": "y"
        }
       ],
       "layout": {
        "barmode": "relative",
        "legend": {
         "title": {
          "text": "Name"
         },
         "tracegroupgap": 0
        },
        "template": {
         "data": {
          "bar": [
           {
            "error_x": {
             "color": "#2a3f5f"
            },
            "error_y": {
             "color": "#2a3f5f"
            },
            "marker": {
             "line": {
              "color": "#E5ECF6",
              "width": 0.5
             },
             "pattern": {
              "fillmode": "overlay",
              "size": 10,
              "solidity": 0.2
             }
            },
            "type": "bar"
           }
          ],
          "barpolar": [
           {
            "marker": {
             "line": {
              "color": "#E5ECF6",
              "width": 0.5
             },
             "pattern": {
              "fillmode": "overlay",
              "size": 10,
              "solidity": 0.2
             }
            },
            "type": "barpolar"
           }
          ],
          "carpet": [
           {
            "aaxis": {
             "endlinecolor": "#2a3f5f",
             "gridcolor": "white",
             "linecolor": "white",
             "minorgridcolor": "white",
             "startlinecolor": "#2a3f5f"
            },
            "baxis": {
             "endlinecolor": "#2a3f5f",
             "gridcolor": "white",
             "linecolor": "white",
             "minorgridcolor": "white",
             "startlinecolor": "#2a3f5f"
            },
            "type": "carpet"
           }
          ],
          "choropleth": [
           {
            "colorbar": {
             "outlinewidth": 0,
             "ticks": ""
            },
            "type": "choropleth"
           }
          ],
          "contour": [
           {
            "colorbar": {
             "outlinewidth": 0,
             "ticks": ""
            },
            "colorscale": [
             [
              0,
              "#0d0887"
             ],
             [
              0.1111111111111111,
              "#46039f"
             ],
             [
              0.2222222222222222,
              "#7201a8"
             ],
             [
              0.3333333333333333,
              "#9c179e"
             ],
             [
              0.4444444444444444,
              "#bd3786"
             ],
             [
              0.5555555555555556,
              "#d8576b"
             ],
             [
              0.6666666666666666,
              "#ed7953"
             ],
             [
              0.7777777777777778,
              "#fb9f3a"
             ],
             [
              0.8888888888888888,
              "#fdca26"
             ],
             [
              1,
              "#f0f921"
             ]
            ],
            "type": "contour"
           }
          ],
          "contourcarpet": [
           {
            "colorbar": {
             "outlinewidth": 0,
             "ticks": ""
            },
            "type": "contourcarpet"
           }
          ],
          "heatmap": [
           {
            "colorbar": {
             "outlinewidth": 0,
             "ticks": ""
            },
            "colorscale": [
             [
              0,
              "#0d0887"
             ],
             [
              0.1111111111111111,
              "#46039f"
             ],
             [
              0.2222222222222222,
              "#7201a8"
             ],
             [
              0.3333333333333333,
              "#9c179e"
             ],
             [
              0.4444444444444444,
              "#bd3786"
             ],
             [
              0.5555555555555556,
              "#d8576b"
             ],
             [
              0.6666666666666666,
              "#ed7953"
             ],
             [
              0.7777777777777778,
              "#fb9f3a"
             ],
             [
              0.8888888888888888,
              "#fdca26"
             ],
             [
              1,
              "#f0f921"
             ]
            ],
            "type": "heatmap"
           }
          ],
          "heatmapgl": [
           {
            "colorbar": {
             "outlinewidth": 0,
             "ticks": ""
            },
            "colorscale": [
             [
              0,
              "#0d0887"
             ],
             [
              0.1111111111111111,
              "#46039f"
             ],
             [
              0.2222222222222222,
              "#7201a8"
             ],
             [
              0.3333333333333333,
              "#9c179e"
             ],
             [
              0.4444444444444444,
              "#bd3786"
             ],
             [
              0.5555555555555556,
              "#d8576b"
             ],
             [
              0.6666666666666666,
              "#ed7953"
             ],
             [
              0.7777777777777778,
              "#fb9f3a"
             ],
             [
              0.8888888888888888,
              "#fdca26"
             ],
             [
              1,
              "#f0f921"
             ]
            ],
            "type": "heatmapgl"
           }
          ],
          "histogram": [
           {
            "marker": {
             "pattern": {
              "fillmode": "overlay",
              "size": 10,
              "solidity": 0.2
             }
            },
            "type": "histogram"
           }
          ],
          "histogram2d": [
           {
            "colorbar": {
             "outlinewidth": 0,
             "ticks": ""
            },
            "colorscale": [
             [
              0,
              "#0d0887"
             ],
             [
              0.1111111111111111,
              "#46039f"
             ],
             [
              0.2222222222222222,
              "#7201a8"
             ],
             [
              0.3333333333333333,
              "#9c179e"
             ],
             [
              0.4444444444444444,
              "#bd3786"
             ],
             [
              0.5555555555555556,
              "#d8576b"
             ],
             [
              0.6666666666666666,
              "#ed7953"
             ],
             [
              0.7777777777777778,
              "#fb9f3a"
             ],
             [
              0.8888888888888888,
              "#fdca26"
             ],
             [
              1,
              "#f0f921"
             ]
            ],
            "type": "histogram2d"
           }
          ],
          "histogram2dcontour": [
           {
            "colorbar": {
             "outlinewidth": 0,
             "ticks": ""
            },
            "colorscale": [
             [
              0,
              "#0d0887"
             ],
             [
              0.1111111111111111,
              "#46039f"
             ],
             [
              0.2222222222222222,
              "#7201a8"
             ],
             [
              0.3333333333333333,
              "#9c179e"
             ],
             [
              0.4444444444444444,
              "#bd3786"
             ],
             [
              0.5555555555555556,
              "#d8576b"
             ],
             [
              0.6666666666666666,
              "#ed7953"
             ],
             [
              0.7777777777777778,
              "#fb9f3a"
             ],
             [
              0.8888888888888888,
              "#fdca26"
             ],
             [
              1,
              "#f0f921"
             ]
            ],
            "type": "histogram2dcontour"
           }
          ],
          "mesh3d": [
           {
            "colorbar": {
             "outlinewidth": 0,
             "ticks": ""
            },
            "type": "mesh3d"
           }
          ],
          "parcoords": [
           {
            "line": {
             "colorbar": {
              "outlinewidth": 0,
              "ticks": ""
             }
            },
            "type": "parcoords"
           }
          ],
          "pie": [
           {
            "automargin": true,
            "type": "pie"
           }
          ],
          "scatter": [
           {
            "fillpattern": {
             "fillmode": "overlay",
             "size": 10,
             "solidity": 0.2
            },
            "type": "scatter"
           }
          ],
          "scatter3d": [
           {
            "line": {
             "colorbar": {
              "outlinewidth": 0,
              "ticks": ""
             }
            },
            "marker": {
             "colorbar": {
              "outlinewidth": 0,
              "ticks": ""
             }
            },
            "type": "scatter3d"
           }
          ],
          "scattercarpet": [
           {
            "marker": {
             "colorbar": {
              "outlinewidth": 0,
              "ticks": ""
             }
            },
            "type": "scattercarpet"
           }
          ],
          "scattergeo": [
           {
            "marker": {
             "colorbar": {
              "outlinewidth": 0,
              "ticks": ""
             }
            },
            "type": "scattergeo"
           }
          ],
          "scattergl": [
           {
            "marker": {
             "colorbar": {
              "outlinewidth": 0,
              "ticks": ""
             }
            },
            "type": "scattergl"
           }
          ],
          "scattermapbox": [
           {
            "marker": {
             "colorbar": {
              "outlinewidth": 0,
              "ticks": ""
             }
            },
            "type": "scattermapbox"
           }
          ],
          "scatterpolar": [
           {
            "marker": {
             "colorbar": {
              "outlinewidth": 0,
              "ticks": ""
             }
            },
            "type": "scatterpolar"
           }
          ],
          "scatterpolargl": [
           {
            "marker": {
             "colorbar": {
              "outlinewidth": 0,
              "ticks": ""
             }
            },
            "type": "scatterpolargl"
           }
          ],
          "scatterternary": [
           {
            "marker": {
             "colorbar": {
              "outlinewidth": 0,
              "ticks": ""
             }
            },
            "type": "scatterternary"
           }
          ],
          "surface": [
           {
            "colorbar": {
             "outlinewidth": 0,
             "ticks": ""
            },
            "colorscale": [
             [
              0,
              "#0d0887"
             ],
             [
              0.1111111111111111,
              "#46039f"
             ],
             [
              0.2222222222222222,
              "#7201a8"
             ],
             [
              0.3333333333333333,
              "#9c179e"
             ],
             [
              0.4444444444444444,
              "#bd3786"
             ],
             [
              0.5555555555555556,
              "#d8576b"
             ],
             [
              0.6666666666666666,
              "#ed7953"
             ],
             [
              0.7777777777777778,
              "#fb9f3a"
             ],
             [
              0.8888888888888888,
              "#fdca26"
             ],
             [
              1,
              "#f0f921"
             ]
            ],
            "type": "surface"
           }
          ],
          "table": [
           {
            "cells": {
             "fill": {
              "color": "#EBF0F8"
             },
             "line": {
              "color": "white"
             }
            },
            "header": {
             "fill": {
              "color": "#C8D4E3"
             },
             "line": {
              "color": "white"
             }
            },
            "type": "table"
           }
          ]
         },
         "layout": {
          "annotationdefaults": {
           "arrowcolor": "#2a3f5f",
           "arrowhead": 0,
           "arrowwidth": 1
          },
          "autotypenumbers": "strict",
          "coloraxis": {
           "colorbar": {
            "outlinewidth": 0,
            "ticks": ""
           }
          },
          "colorscale": {
           "diverging": [
            [
             0,
             "#8e0152"
            ],
            [
             0.1,
             "#c51b7d"
            ],
            [
             0.2,
             "#de77ae"
            ],
            [
             0.3,
             "#f1b6da"
            ],
            [
             0.4,
             "#fde0ef"
            ],
            [
             0.5,
             "#f7f7f7"
            ],
            [
             0.6,
             "#e6f5d0"
            ],
            [
             0.7,
             "#b8e186"
            ],
            [
             0.8,
             "#7fbc41"
            ],
            [
             0.9,
             "#4d9221"
            ],
            [
             1,
             "#276419"
            ]
           ],
           "sequential": [
            [
             0,
             "#0d0887"
            ],
            [
             0.1111111111111111,
             "#46039f"
            ],
            [
             0.2222222222222222,
             "#7201a8"
            ],
            [
             0.3333333333333333,
             "#9c179e"
            ],
            [
             0.4444444444444444,
             "#bd3786"
            ],
            [
             0.5555555555555556,
             "#d8576b"
            ],
            [
             0.6666666666666666,
             "#ed7953"
            ],
            [
             0.7777777777777778,
             "#fb9f3a"
            ],
            [
             0.8888888888888888,
             "#fdca26"
            ],
            [
             1,
             "#f0f921"
            ]
           ],
           "sequentialminus": [
            [
             0,
             "#0d0887"
            ],
            [
             0.1111111111111111,
             "#46039f"
            ],
            [
             0.2222222222222222,
             "#7201a8"
            ],
            [
             0.3333333333333333,
             "#9c179e"
            ],
            [
             0.4444444444444444,
             "#bd3786"
            ],
            [
             0.5555555555555556,
             "#d8576b"
            ],
            [
             0.6666666666666666,
             "#ed7953"
            ],
            [
             0.7777777777777778,
             "#fb9f3a"
            ],
            [
             0.8888888888888888,
             "#fdca26"
            ],
            [
             1,
             "#f0f921"
            ]
           ]
          },
          "colorway": [
           "#636efa",
           "#EF553B",
           "#00cc96",
           "#ab63fa",
           "#FFA15A",
           "#19d3f3",
           "#FF6692",
           "#B6E880",
           "#FF97FF",
           "#FECB52"
          ],
          "font": {
           "color": "#2a3f5f"
          },
          "geo": {
           "bgcolor": "white",
           "lakecolor": "white",
           "landcolor": "#E5ECF6",
           "showlakes": true,
           "showland": true,
           "subunitcolor": "white"
          },
          "hoverlabel": {
           "align": "left"
          },
          "hovermode": "closest",
          "mapbox": {
           "style": "light"
          },
          "paper_bgcolor": "white",
          "plot_bgcolor": "#E5ECF6",
          "polar": {
           "angularaxis": {
            "gridcolor": "white",
            "linecolor": "white",
            "ticks": ""
           },
           "bgcolor": "#E5ECF6",
           "radialaxis": {
            "gridcolor": "white",
            "linecolor": "white",
            "ticks": ""
           }
          },
          "scene": {
           "xaxis": {
            "backgroundcolor": "#E5ECF6",
            "gridcolor": "white",
            "gridwidth": 2,
            "linecolor": "white",
            "showbackground": true,
            "ticks": "",
            "zerolinecolor": "white"
           },
           "yaxis": {
            "backgroundcolor": "#E5ECF6",
            "gridcolor": "white",
            "gridwidth": 2,
            "linecolor": "white",
            "showbackground": true,
            "ticks": "",
            "zerolinecolor": "white"
           },
           "zaxis": {
            "backgroundcolor": "#E5ECF6",
            "gridcolor": "white",
            "gridwidth": 2,
            "linecolor": "white",
            "showbackground": true,
            "ticks": "",
            "zerolinecolor": "white"
           }
          },
          "shapedefaults": {
           "line": {
            "color": "#2a3f5f"
           }
          },
          "ternary": {
           "aaxis": {
            "gridcolor": "white",
            "linecolor": "white",
            "ticks": ""
           },
           "baxis": {
            "gridcolor": "white",
            "linecolor": "white",
            "ticks": ""
           },
           "bgcolor": "#E5ECF6",
           "caxis": {
            "gridcolor": "white",
            "linecolor": "white",
            "ticks": ""
           }
          },
          "title": {
           "x": 0.05
          },
          "xaxis": {
           "automargin": true,
           "gridcolor": "white",
           "linecolor": "white",
           "ticks": "",
           "title": {
            "standoff": 15
           },
           "zerolinecolor": "white",
           "zerolinewidth": 2
          },
          "yaxis": {
           "automargin": true,
           "gridcolor": "white",
           "linecolor": "white",
           "ticks": "",
           "title": {
            "standoff": 15
           },
           "zerolinecolor": "white",
           "zerolinewidth": 2
          }
         }
        },
        "title": {
         "text": "Ratings of Popular Anime"
        },
        "xaxis": {
         "anchor": "y",
         "domain": [
          0,
          1
         ],
         "range": [
          8.65,
          8.77
         ],
         "title": {
          "text": "anime_Score"
         }
        },
        "yaxis": {
         "anchor": "x",
         "categoryarray": [
          "Howl no Ugoku Shiro",
          "One Piece",
          "Code Geass: Hangyaku no Lelouch",
          "Cowboy Bebop",
          "Hajime no Ippo"
         ],
         "categoryorder": "array",
         "domain": [
          0,
          1
         ],
         "title": {
          "text": "Name"
         }
        }
       }
      }
     },
     "metadata": {},
     "output_type": "display_data"
    }
   ],
   "source": [
    "\n",
    "# Create descending bar plot\n",
    "fig_bar = px.bar(top_anime_rating, x='anime_Score', y='Name', color='Name',\n",
    "                 title=\"Ratings of Popular Anime\", orientation='h')\n",
    "\n",
    "# Determine the buffer region\n",
    "buffer_region = 0.1 * (top_anime_rating['anime_Score'].max() - top_anime_rating['anime_Score'].min())\n",
    "\n",
    "# Set the range of the x-axis with a buffer region below the minimum score and above the maximum score\n",
    "fig_bar.update_xaxes(range=[top_anime_rating['anime_Score'].min() - buffer_region, top_anime_rating['anime_Score'].max() + buffer_region])\n",
    "# Define shades of blue\n",
    "blue_palette = ['#aec7e8', '#7b9fcf', '#1f77b4', '#03539e', '#003f5c']\n",
    "# Set colors for bars\n",
    "fig_bar.update_traces(marker_color=blue_palette)\n",
    "# Show the plot\n",
    "fig_bar.show()"
   ]
  },
  {
   "cell_type": "code",
   "execution_count": 147,
   "metadata": {},
   "outputs": [
    {
     "data": {
      "application/vnd.plotly.v1+json": {
       "config": {
        "plotlyServerURL": "https://plot.ly"
       },
       "data": [
        {
         "alignmentgroup": "True",
         "customdata": [
          [
           "Ring ni Kakero 1"
          ],
          [
           "Xenosaga The Animation"
          ],
          [
           "Ojamajo Doremi Sharp"
          ],
          [
           "Motto! Ojamajo Doremi"
          ],
          [
           "Ojamajo Doremi Dokkaan!"
          ],
          [
           "Iriya no Sora, UFO no Natsu"
          ],
          [
           "Bishoujo Senshi Sailor Moon R: The Movie"
          ],
          [
           "Denshin Mamotte Shugogetten"
          ],
          [
           "Kanon Kazahana"
          ],
          [
           "Kamisama Kazoku"
          ],
          [
           "Bishoujo Senshi Sailor Moon S: Kaguya-hime no Koibito"
          ],
          [
           "Mother: Saigo no Shoujo Eve"
          ],
          [
           "One Piece: Oounabara ni Hirake! Dekkai Dekkai Chichi no Yume!"
          ],
          [
           "Bishoujo Senshi Sailor Moon SuperS"
          ],
          [
           "Ojamajo Doremi Na-i-sho"
          ],
          [
           "Futari wa Precure: Splash☆Star"
          ],
          [
           "1000-nen Joou: Queen Millennia"
          ],
          [
           "Kinnikuman II Sei"
          ],
          [
           "Clannad Movie"
          ],
          [
           "Ring ni Kakero 1: Nichibei Kessen-hen"
          ],
          [
           "Gaiking: Legend of Daiku-Maryu"
          ],
          [
           "Cutey Honey F"
          ],
          [
           "Slam Dunk: Zenkoku Seiha Da! - Sakuragi Hanamichi"
          ],
          [
           "Futari wa Precure: Max Heart"
          ],
          [
           "Futari wa Precure: Max Heart Movie 1"
          ],
          [
           "Futari wa Precure: Max Heart Movie 2 - Yukizora no Tomodachi"
          ],
          [
           "Jigoku Sensei Nube"
          ],
          [
           "One Piece: Nenmatsu Tokubetsu Kikaku! Mugiwara no Luffy Oyabun Torimonochou"
          ],
          [
           "Coo: Tooi Umi kara Kita Coo"
          ],
          [
           "Dr. Slump: Arale-chan"
          ],
          [
           "Dragon Quest: Dai no Daibouken (TV)"
          ],
          [
           "Nagagutsu wo Haita Neko"
          ],
          [
           "Super Kuma-san"
          ],
          [
           "Candy Candy: Haru no Yobigoe"
          ],
          [
           "Candy Candy: Candy no Natsu Yasumi"
          ],
          [
           "Sakigake!! Otokojuku"
          ],
          [
           "Bishoujo Senshi Sailor Moon R: Make Up! Sailor Senshi"
          ],
          [
           "Digimon Adventure 02 Movies"
          ],
          [
           "Kuusou Kagaku Sekai Gulliver Boy"
          ],
          [
           "Gu-Gu Ganmo"
          ],
          [
           "Bishoujo Senshi Sailor Moon SuperS Specials"
          ],
          [
           "Kamen Rider SD Kaiki?! Kumo Otoko"
          ],
          [
           "Kingyo Chuuihou! (Movie)"
          ],
          [
           "Kinnikuman (Movie)"
          ],
          [
           "Kinnikuman: Ooabare! Seigi Choujin"
          ],
          [
           "Kinnikuman: Seigi Choujin vs. Kodai Choujin"
          ],
          [
           "Kinnikuman: Haresugata! Seigi Choujin"
          ],
          [
           "Kinnikuman: New York Kiki Ippatsu!"
          ],
          [
           "Kinnikuman: Seigi Choujin vs. Senshi Choujin"
          ],
          [
           "Kinnikuman: Kinnikusei Oui Soudatsu-hen"
          ],
          [
           "Shoubushi Densetsu Tetsuya"
          ],
          [
           "Pi Po Pa Po Patrol-kun"
          ],
          [
           "Grendizer: Getter Robo G - Great Mazinger Kessen! Daikaijuu"
          ],
          [
           "Hakaba Kitarou"
          ],
          [
           "Arrow Emblem Grand Prix no Taka"
          ],
          [
           "Himitsu no Akko-chan 2"
          ],
          [
           "Himitsu no Akko-chan 3"
          ],
          [
           "Microid S"
          ],
          [
           "Mahoutsukai Sally 2"
          ],
          [
           "Mahou Shoujo Lalabel"
          ],
          [
           "H. P. Lovecraft's The Dunwich Horror and Other Stories"
          ],
          [
           "Magnerobo Ga-Keen"
          ],
          [
           "Mahou no Mako-chan"
          ],
          [
           "Futari wa Precure: Splash☆Star Movie - Tick Tack Kiki Ippatsu!"
          ],
          [
           "Entaku no Kishi Monogatari: Moero Arthur"
          ],
          [
           "Kore ga UFO da! Soratobu Enban"
          ],
          [
           "Mazinger Z tai Ankoku Daishougun"
          ],
          [
           "Tatakae!! Ramenman"
          ],
          [
           "RoboDz"
          ],
          [
           "Moero Arthur: Hakuba no Ouji"
          ],
          [
           "Yes! Precure 5 GoGo! Movie: Okashi no Kuni no Happy Birthday"
          ],
          [
           "Daikyouryuu Jidai"
          ],
          [
           "Mushrambo (2008)"
          ],
          [
           "Shin Maple Town Monogatari: Palm Town-hen"
          ],
          [
           "Tsuri Baka Nisshi"
          ],
          [
           "Fresh Precure!"
          ],
          [
           "Precure All Stars Movie DX: Minna Tomodachi☆Kiseki no Zenin Daishuugou!"
          ],
          [
           "Jean Valjean Monogatari"
          ],
          [
           "Utsunomiko: Heaven Chapter"
          ],
          [
           "Kinnikuman II Sei: Ultimate Muscle"
          ],
          [
           "Kinnikuman II Sei: Ultimate Muscle 2"
          ],
          [
           "Sabu to Ichi Torimono Hikae"
          ],
          [
           "Marie & Gali"
          ],
          [
           "Highway Jenny"
          ],
          [
           "Maihime"
          ],
          [
           "Joseito"
          ],
          [
           "Eko Eko Azarak"
          ],
          [
           "Zakuro Yashiki"
          ],
          [
           "Kinnikuman II Sei: Second Generations"
          ],
          [
           "Marie & Gali Episode Zero"
          ],
          [
           "Cutey Honey Flash: The Movie"
          ],
          [
           "Fresh Precure! Movie: Omocha no Kuni wa Himitsu ga Ippai!?"
          ],
          [
           "Nono-chan"
          ],
          [
           "Asari-chan"
          ],
          [
           "Ginga Tetsudou 999: Glass no Clair"
          ],
          [
           "Marie & Gali Special"
          ],
          [
           "Shin Calimero"
          ],
          [
           "Arei no Kagami: Way to the Virgin Space"
          ],
          [
           "Dr. Slump Movie 07: Arale-chan N-cha! Penguin Mura yori Ai wo Komete"
          ],
          [
           "Ginga Tetsudou 999: Diamond Ring no Kanata e"
          ],
          [
           "Cyborg 009: Kaijuu Sensou"
          ],
          [
           "Hokuto no Ken: Legend of Heroes"
          ],
          [
           "Dragon Quest: Dai no Daibouken Tachiagare!! Aban no Shito"
          ],
          [
           "Gokinjo Monogatari the Movie"
          ],
          [
           "Sangokushi: Dai Ichi Bu - Eiyuu-tachi no Yoake"
          ],
          [
           "Dr. Slump Movie 06: Arale-chan N-cha! Penguin Mura wa Hare Nochi Hare"
          ],
          [
           "Gegege no Kitarou: Nippon Bakuretsu"
          ],
          [
           "Gegege no Kitarou: Daikaijuu"
          ],
          [
           "Gegege no Kitarou: Obake Nighter"
          ],
          [
           "Gegege no Kitarou: Jigoku-hen"
          ],
          [
           "Akuma-kun: Youkoso Akuma Land e!!"
          ],
          [
           "Jigoku Sensei Nube: Gozen 0 Ji Nube Shisu!"
          ],
          [
           "Ketsuinu"
          ],
          [
           "Marie & Gali ver. 2.0"
          ],
          [
           "Digimon Adventure 3D: Digimon Grand Prix!"
          ],
          [
           "Digimon Savers 3D: Digital World Kiki Ippatsu!"
          ],
          [
           "The Kabocha Wine: Nita no Aijou Monogatari"
          ],
          [
           "Dr. Slump Movie 10: Arale no Bikkuriman"
          ],
          [
           "Dr. Slump Movie 11: Dr. Mashirito & Abale-chan"
          ],
          [
           "Saint Elmo: Hikari no Raihousha"
          ],
          [
           "Future War 198X-nen"
          ],
          [
           "One Piece Film: Strong World Episode 0"
          ],
          [
           "Bishoujo Senshi Sailor Moon Memorial"
          ],
          [
           "Kindaichi Shounen no Jikenbo Movie 2: Satsuriku no Deep Blue"
          ],
          [
           "Heartcatch Precure! Movie: Hana no Miyako de Fashion Show... desu ka!?"
          ],
          [
           "Rainbow Sentai Robin"
          ],
          [
           "Be-Bop Highschool"
          ],
          [
           "Lady Lady!! (1988)"
          ],
          [
           "Shin Bikkuriman"
          ],
          [
           "Suite Precure♪"
          ],
          [
           "Dragon Ball: Super Saiya-jin Zetsumetsu Keikaku"
          ],
          [
           "Toriko 3D: Kaimaku Gourmet Adventure!!"
          ],
          [
           "Bikkuriman: Moen Zone no Himitsu"
          ],
          [
           "Ring ni Kakero 1: Sekai Taikai-hen"
          ],
          [
           "Precure All Stars GoGo Dream Live!"
          ],
          [
           "Machine Hayabusa"
          ],
          [
           "Lupin tai Holmes"
          ],
          [
           "Suite Precure♪ Movie: Torimodose! Kokoro ga Tsunagu Kiseki no Melody♪"
          ],
          [
           "Shin Maple Town Monogatari: Palm Town-hen - Konnichiwa! Atarashii Machi"
          ],
          [
           "Dragon Ball Kai: Mirai ni Heiwa wo! Goku no Tamashii yo Eien ni"
          ],
          [
           "One Piece 3D: Gekisou! Trap Coaster"
          ],
          [
           "Ginga Tetsudou 999: Hoshizora wa Time Machine"
          ],
          [
           "Ojamajo Doremi OVA"
          ],
          [
           "Patalliro! Stardust Keikaku"
          ],
          [
           "Himitsu no Akko-chan: Umi da! Obake da!! Natsu Matsuri"
          ],
          [
           "Kamen no Ninja Akakage"
          ],
          [
           "Bishoujo Senshi Sailor Moon: Sailor Stars - Hero Club"
          ],
          [
           "Tanken Driland"
          ],
          [
           "Smile Precure! Movie: Ehon no Naka wa Minna Chiguhagu!"
          ],
          [
           "Happy☆Lucky Bikkuriman"
          ],
          [
           "Precure All Stars Movie New Stage 2: Kokoro no Tomodachi"
          ],
          [
           "Tatakae!! Ramenman (Movie)"
          ],
          [
           "Dokidoki! Precure Movie: Mana Kekkon!!? Mirai ni Tsunagu Kibou no Dress"
          ],
          [
           "Tiger Mask Fuku Men League Sen"
          ],
          [
           "Akane-chan"
          ],
          [
           "Bokutachi no Peace River"
          ],
          [
           "Gu-Gu Ganmo (Movie)"
          ],
          [
           "Akuma Tou no Prince: Mitsume ga Tooru"
          ],
          [
           "Robot Girls Z"
          ],
          [
           "King Kong: 001/7 Tom Thumb"
          ],
          [
           "Wagahai wa Neko de Aru"
          ],
          [
           "Shounen Tokugawa Ieyasu"
          ],
          [
           "Precure All Stars Movie New Stage 3: Eien no Tomodachi"
          ],
          [
           "Ningen Kakumei"
          ],
          [
           "Dragon Ball Z: Zenbu Misemasu Toshi Wasure Dragon Ball Z!"
          ],
          [
           "Magical★Taruruuto-kun Movie"
          ],
          [
           "Hyokkori Hyoutan Shima"
          ],
          [
           "Ookami Shounen Ken (Movie)"
          ],
          [
           "Hiroshima e no Tabi"
          ],
          [
           "Futari no Oujisama"
          ],
          [
           "Nezumi no Yomeiri"
          ],
          [
           "Nagareboshi no Okurimono"
          ],
          [
           "Akuma to Himegimi"
          ],
          [
           "Be-Bop Kaizokuban"
          ],
          [
           "Wagahai wa Inu de Aru: Don Matsugorou no Seikatsu"
          ],
          [
           "Robot Girls Z Specials"
          ],
          [
           "Donguri Mori e"
          ],
          [
           "Yume no Tsuzuki"
          ],
          [
           "Boku to Gaku: Ano Natsu no Monogatari"
          ],
          [
           "Gomen ne, Mii-chan"
          ],
          [
           "Miitsuketa!"
          ],
          [
           "Yooidon!"
          ],
          [
           "Kokoroya"
          ],
          [
           "Hitoribocchi"
          ],
          [
           "Papa Mama Bye Bye"
          ],
          [
           "Little Twins"
          ],
          [
           "Little Twins: Bokura no Natsu ga Tondeiku"
          ],
          [
           "Precure All Stars Movie: Haru no Carnival♪"
          ],
          [
           "Go! Princess Precure"
          ],
          [
           "One Piece: Episode of Alabasta - Prologue"
          ],
          [
           "Robot Girls Z Plus"
          ],
          [
           "Ikiteirutte Subarashii!"
          ],
          [
           "Dr. Slump: Arale-chan Ayaya!? Penguin Mura de TV Jack"
          ],
          [
           "Ginga Tetsudou 999 for Planetarium"
          ],
          [
           "Robot Girls Z Episode 0"
          ],
          [
           "Kindaichi Shounen no Jikenbo Returns 2nd Season"
          ],
          [
           "Shounen to Sakura"
          ],
          [
           "Bishoujo Senshi Sailor Moon Crystal Season III"
          ],
          [
           "Precure All Stars Movie: Minna de Utau♪ - Kiseki no Mahou"
          ],
          [
           "Kirakira☆Precure A La Mode"
          ],
          [
           "Ring ni Kakero 1 Pilot"
          ],
          [
           "Mazinger Z Movie: Infinity"
          ],
          [
           "Kaettekita Dr. Slump: Arale-chan Special"
          ],
          [
           "Saint Seiya: Gold Saints Data File"
          ],
          [
           "Seikaisuru Kado: Ekwari"
          ],
          [
           "Devilman Memorial"
          ],
          [
           "Scratch x One Piece Film: Gold"
          ],
          [
           "Digimon Adventure tri. 6: Bokura no Mirai"
          ],
          [
           "Petit☆Dream Stars! Let's La Cooking? Showtime!"
          ],
          [
           "Hug tto! Precure♡Futari wa Precure Movie: All Stars Memories"
          ],
          [
           "Robot Girls Neo"
          ],
          [
           "Seikaisuru Kado: Beyond Information"
          ],
          [
           "Star☆Twinkle Precure"
          ],
          [
           "Dragon Ball Super: Broly - Skytree Super"
          ],
          [
           "Star☆Twinkle Precure: Hoshi no Uta ni Omoi wo Komete"
          ],
          [
           "Bakutsuri Bar Hunter Movie: Nazo no Barcode Trial! Bakutsure! Shinkaigyo Poseidon"
          ],
          [
           "Digimon Survive: Prologue Movie"
          ],
          [
           "Jurassic!"
          ],
          [
           "Look Plus One Piece Special Movie"
          ],
          [
           "Precure Miracle Leap Movie: Minna to no Fushigi na Ichinichi"
          ],
          [
           "Kocchi Muite Miiko"
          ],
          [
           "Getter Robo Memorial"
          ],
          [
           "Healin' Good♡Precure Movie: Yume no Machi de Kyun! Tto GoGo! Dai Henshin!!"
          ],
          [
           "Super Dragon Ball Heroes: Kessen! Time Patrol vs. Ankoku Ou"
          ],
          [
           "Tropical-Rouge! Precure Petit Tobikome! Collaboration ♡ Dance Party!"
          ],
          [
           "Tropical-Rouge! Precure Movie: Yuki no Princess to Kiseki no Yubiwa!"
          ],
          [
           "Knights of the Zodiac: Saint Seiya - Battle for Sanctuary"
          ],
          [
           "Dragon Ball Z x Kao"
          ],
          [
           "One Piece The Planetarium"
          ],
          [
           "Tousouchuu: Great Mission"
          ],
          [
           "Precure All Stars Movie F"
          ],
          [
           "Air Master"
          ],
          [
           "Air Movie"
          ],
          [
           "Aishite Knight"
          ],
          [
           "Akuma-kun (Movie)"
          ],
          [
           "Ali Baba to 40-hiki no Touzoku"
          ],
          [
           "Andersen Monogatari"
          ],
          [
           "Angel Densetsu"
          ],
          [
           "Anju to Zushioumaru"
          ],
          [
           "Asura"
          ],
          [
           "Babel Nisei"
          ],
          [
           "Bishoujo Senshi Sailor Moon Crystal"
          ],
          [
           "Bishoujo Senshi Sailor Moon R"
          ],
          [
           "Bishoujo Senshi Sailor Moon S"
          ],
          [
           "Bishoujo Senshi Sailor Moon SuperS Gaiden: Ami-chan no Hatsukoi"
          ],
          [
           "Captain Future"
          ],
          [
           "Chibikko Remi to Meiken Kapi"
          ],
          [
           "Cyborg 009"
          ],
          [
           "Cyborg 009 (1979)"
          ],
          [
           "Daikuu Maryuu Gaiking"
          ],
          [
           "Demashita! Powerpuff Girls Z"
          ],
          [
           "Digimon Adventure"
          ],
          [
           "Digimon Adventure tri. 3: Kokuhaku"
          ],
          [
           "Digimon Universe: Appli Monsters"
          ],
          [
           "Digimon Xros Wars: Aku no Death General to Nanatsu no Oukoku"
          ],
          [
           "Dororon Enma-kun"
          ],
          [
           "Dragon Ball Kai (2014)"
          ],
          [
           "Dragon Ball Movie 4: Saikyou e no Michi"
          ],
          [
           "Dragon Ball Specials"
          ],
          [
           "Dragon Ball Super"
          ],
          [
           "Dragon Ball Super: Super Hero"
          ],
          [
           "Dragon Ball Z"
          ],
          [
           "Dragon Ball Z Movie 04: Super Saiyajin da Son Gokuu"
          ],
          [
           "Dragon Ball Z Movie 05: Tobikkiri no Saikyou tai Saikyou"
          ],
          [
           "Dragon Ball Z Movie 08: Moetsukiro!! Nessen, Ressen, Chougekisen"
          ],
          [
           "Dragon Ball Z Movie 11: Super Senshi Gekiha!! Katsu no wa Ore da"
          ],
          [
           "Dragon Ball Z: Atsumare! Gokuu World"
          ],
          [
           "Dragon Ball Z: Saiya-jin Zetsumetsu Keikaku"
          ],
          [
           "GS Mikami: Gokuraku Daisakusen!!"
          ],
          [
           "Getter Robo Go"
          ],
          [
           "Ginga Nagareboshi Gin"
          ],
          [
           "Ginga Tetsudou 999"
          ],
          [
           "Go! Go! Ackman"
          ],
          [
           "Gokinjo Monogatari"
          ],
          [
           "Great Mazinger"
          ],
          [
           "Hana no Ko Lunlun"
          ],
          [
           "Hana yori Dango (Movie)"
          ],
          [
           "Hello! Sandybell"
          ],
          [
           "Himitsu no Akko-chan (Movie)"
          ],
          [
           "Hokuto no Ken"
          ],
          [
           "Hokuto no Ken 2"
          ],
          [
           "Jigoku Sensei Nube (Movie)"
          ],
          [
           "Jigoku Sensei Nube OVA"
          ],
          [
           "Kagaku Kyuujo-tai TechnoVoyager"
          ],
          [
           "Kaitei Sanman Mile"
          ],
          [
           "Kamikaze Kaitou Jeanne"
          ],
          [
           "Kindaichi Shounen no Jikenbo"
          ],
          [
           "Kingyo Chuuihou!"
          ],
          [
           "Kinnikuman"
          ],
          [
           "Koneko no Studio"
          ],
          [
           "Kyousou Giga (TV) Recaps"
          ],
          [
           "Lovely★Complex"
          ],
          [
           "Madonna"
          ],
          [
           "Magical★Taruruuto-kun"
          ],
          [
           "Mahoutsukai Sally"
          ],
          [
           "Marvel Disk Wars: The Avengers"
          ],
          [
           "Mazinger Z"
          ],
          [
           "Miracle Shoujo Limit-chan"
          ],
          [
           "Mouretsu Atarou"
          ],
          [
           "One Piece"
          ],
          [
           "One Piece Film: Gold"
          ],
          [
           "One Piece Film: Strong World"
          ],
          [
           "One Piece Movie 01"
          ],
          [
           "One Piece Movie 02: Nejimaki-jima no Daibouken"
          ],
          [
           "One Piece Movie 09: Episode of Chopper Plus - Fuyu ni Saku, Kiseki no Sakura"
          ],
          [
           "One Piece: Adventure of Nebulandia"
          ],
          [
           "One Piece: Heart of Gold"
          ],
          [
           "One Piece: Romance Dawn Story"
          ],
          [
           "Panda no Daibouken"
          ],
          [
           "Rokudenashi Blues 1993"
          ],
          [
           "Saint Seiya"
          ],
          [
           "Saint Seiya Omega"
          ],
          [
           "Saint Seiya: Saishuu Seisen no Senshi-tachi"
          ],
          [
           "Saiyuuki"
          ],
          [
           "Seikaisuru Kado"
          ],
          [
           "Sekai Meisaku Douwa: Mori wa Ikiteiru"
          ],
          [
           "Sekai Meisaku Douwa: Oyayubi Hime"
          ],
          [
           "Shin Taketori Monogatari: 1000-nen Joou"
          ],
          [
           "Shounan Bakusouzoku"
          ],
          [
           "Shounen Kenya"
          ],
          [
           "Shounen Ninja Kaze no Fujimaru"
          ],
          [
           "Soratobu Yuureisen"
          ],
          [
           "Soujuu Senshi Psychic Wars"
          ],
          [
           "Tatsu no Ko Tarou"
          ],
          [
           "Tezuka Osamu no Buddha: Akai Sabaku yo! Utsukushiku"
          ],
          [
           "Tezuka Osamu no Buddha: Owarinaki Tabi"
          ],
          [
           "Tiger Mask W"
          ],
          [
           "Toei Robot Girls"
          ],
          [
           "Toriko Movie: Bishokushin no Special Menu"
          ],
          [
           "Transformers Zone"
          ],
          [
           "Transformers: Scramble City"
          ],
          [
           "Tropical-Rouge! Precure"
          ],
          [
           "UFO Robo Grendizer tai Great Mazinger"
          ],
          [
           "Video Senshi Lezarion"
          ],
          [
           "Waga Seishun no Arcadia"
          ],
          [
           "Wakusei Robo Danguard Ace"
          ],
          [
           "Yume no Crayon Oukoku"
          ],
          [
           "Yu☆Gi☆Oh! (Movie)"
          ],
          [
           "3x3 Eyes"
          ],
          [
           "Air Gear"
          ],
          [
           "Air Gear Special"
          ],
          [
           "Akuma-kun"
          ],
          [
           "American Rabbit no Bouken"
          ],
          [
           "Amon Saga"
          ],
          [
           "Andersen Douwa: Ningyohime"
          ],
          [
           "Andromeda Stories"
          ],
          [
           "Aoki Densetsu Shoot!"
          ],
          [
           "Aoki Densetsu Shoot! (Movie)"
          ],
          [
           "Arano no Sakebi Koe: Hoero, Buck"
          ],
          [
           "Ashita no Nadja"
          ],
          [
           "Atashin'chi Movie"
          ],
          [
           "Ayakashi: Japanese Classic Horror"
          ],
          [
           "Bikkuriman"
          ],
          [
           "Binbou Shimai Monogatari"
          ],
          [
           "Bishoujo Senshi Sailor Moon"
          ],
          [
           "Bishoujo Senshi Sailor Moon: Sailor Stars"
          ],
          [
           "Bobobo-bo Bo-bobo"
          ],
          [
           "Bouken Ou Beet"
          ],
          [
           "Bouken Ou Beet Excellion"
          ],
          [
           "Calimero"
          ],
          [
           "Candy Candy"
          ],
          [
           "Candy Candy (Movie)"
          ],
          [
           "Chiisana Penguin Lolo no Bouken"
          ],
          [
           "Crying Freeman"
          ],
          [
           "Cutey Honey"
          ],
          [
           "Cyborg 009 (TV)"
          ],
          [
           "Cyborg 009: Chou Ginga Densetsu"
          ],
          [
           "Delicious Party♡Precure"
          ],
          [
           "Devilman"
          ],
          [
           "Digimon Adventure 02"
          ],
          [
           "Digimon Adventure 02: Diablomon no Gyakushuu"
          ],
          [
           "Digimon Adventure Movie"
          ],
          [
           "Digimon Adventure tri. 1: Saikai"
          ],
          [
           "Digimon Adventure tri. 2: Ketsui"
          ],
          [
           "Digimon Adventure: Bokura no War Game!"
          ],
          [
           "Digimon Frontier"
          ],
          [
           "Digimon Ghost Game"
          ],
          [
           "Digimon Ghost Game Recap"
          ],
          [
           "Digimon Savers"
          ],
          [
           "Digimon Tamers"
          ],
          [
           "Digimon Tamers: Boukensha-tachi no Tatakai"
          ],
          [
           "Digimon Tamers: Bousou Digimon Tokkyuu"
          ],
          [
           "Digimon X-Evolution"
          ],
          [
           "Digimon Xros Wars"
          ],
          [
           "Digimon Xros Wars: Toki wo Kakeru Shounen Hunter-tachi"
          ],
          [
           "Dokidoki! Precure"
          ],
          [
           "Doubutsu Takarajima"
          ],
          [
           "Dr. Slump"
          ],
          [
           "Dr. Slump Movie 08: Arale-chan Hoyoyo!! Tasuketa Same ni Tsurerarete..."
          ],
          [
           "Dragon Ball"
          ],
          [
           "Dragon Ball GT"
          ],
          [
           "Dragon Ball GT: Gokuu Gaiden! Yuuki no Akashi wa Suushinchuu"
          ],
          [
           "Dragon Ball Kai"
          ],
          [
           "Dragon Ball Movie 1: Shen Long no Densetsu"
          ],
          [
           "Dragon Ball Movie 2: Majinjou no Nemurihime"
          ],
          [
           "Dragon Ball Movie 3: Makafushigi Daibouken"
          ],
          [
           "Dragon Ball Super: Broly"
          ],
          [
           "Dragon Ball Z Movie 01: Ora no Gohan wo Kaese!!"
          ],
          [
           "Dragon Ball Z Movie 02: Kono Yo de Ichiban Tsuyoi Yatsu"
          ],
          [
           "Dragon Ball Z Movie 03: Chikyuu Marugoto Choukessen"
          ],
          [
           "Dragon Ball Z Movie 06: Gekitotsu!! 100-oku Power no Senshi-tachi"
          ],
          [
           "Dragon Ball Z Movie 07: Kyokugen Battle!! Sandai Super Saiyajin"
          ],
          [
           "Dragon Ball Z Movie 09: Ginga Girigiri!! Bucchigiri no Sugoi Yatsu"
          ],
          [
           "Dragon Ball Z Movie 10: Kiken na Futari! Super Senshi wa Nemurenai"
          ],
          [
           "Dragon Ball Z Movie 12: Fukkatsu no Fusion!! Gokuu to Vegeta"
          ],
          [
           "Dragon Ball Z Movie 13: Ryuuken Bakuhatsu!! Gokuu ga Yaraneba Dare ga Yaru"
          ],
          [
           "Dragon Ball Z Movie 14: Kami to Kami"
          ],
          [
           "Dragon Ball Z Movie 15: Fukkatsu no \"F\""
          ],
          [
           "Dragon Ball Z Special 2: Zetsubou e no Hankou!! Nokosareta Chousenshi - Gohan to Trunks"
          ],
          [
           "Dragon Ball Z: Summer Vacation Special"
          ],
          [
           "Dragon Ball: Episode of Bardock"
          ],
          [
           "Dragon Quest: Dai no Daibouken"
          ],
          [
           "Dragon Quest: Dai no Daibouken (2020)"
          ],
          [
           "Dragon Quest: Dai no Daibouken Buchiyabure!! Shinsei 6 Daishougun"
          ],
          [
           "Dream"
          ],
          [
           "Fantascope: Tylostoma"
          ],
          [
           "Futari wa Precure"
          ],
          [
           "G-9"
          ],
          [
           "GS Mikami"
          ],
          [
           "Ganbare Genki"
          ],
          [
           "Gegege no Kitarou (1968)"
          ],
          [
           "Gegege no Kitarou (1971)"
          ],
          [
           "Gegege no Kitarou (1985 Movie)"
          ],
          [
           "Gegege no Kitarou (1985)"
          ],
          [
           "Gegege no Kitarou (1996)"
          ],
          [
           "Genshi Shounen Ryuu"
          ],
          [
           "Getter Robo"
          ],
          [
           "Getter Robo G"
          ],
          [
           "Ginga Senpuu Braiger"
          ],
          [
           "Ginga Tetsudou 999 (Movie)"
          ],
          [
           "Ginga Tetsudou 999: Eternal Fantasy"
          ],
          [
           "Great Mazinger tai Getter Robo"
          ],
          [
           "Gulliver no Uchuu Ryokou"
          ],
          [
           "Hakujaden"
          ],
          [
           "Hana no Ko Lunlun: Konnichiwa Sakura no Kuni"
          ],
          [
           "Hana yori Dango"
          ],
          [
           "Happiness Charge Precure!"
          ],
          [
           "Hashire Melos (1981)"
          ],
          [
           "Heartcatch Precure!"
          ],
          [
           "Hello! Lady Lynn"
          ],
          [
           "Himitsu no Akko-chan"
          ],
          [
           "Hirogaru Sky! Precure"
          ],
          [
           "Hokuto no Ken Movie"
          ],
          [
           "Hustle Punch"
          ],
          [
           "Hyakujuu-Ou GoLion"
          ],
          [
           "Ikkyuu-san"
          ],
          [
           "Interlude"
          ],
          [
           "Interstella5555: The 5tory of The 5ecret 5tar 5ystem"
          ],
          [
           "Inuki Kanako Zekkyou Collection: Gakkou ga Kowai!"
          ],
          [
           "Jetter Mars"
          ],
          [
           "Jigoku Sensei Nube: Kyoufu no Natsuyasumi!! Ayashi no Umi no Densetsu!"
          ],
          [
           "Juugo Shounen Hyouryuuki"
          ],
          [
           "Kaidan Restaurant"
          ],
          [
           "Kanon"
          ],
          [
           "Kennosuke-sama"
          ],
          [
           "Kick no Oni"
          ],
          [
           "Kikou Kantai Dairugger XV"
          ],
          [
           "Kindaichi Shounen no Jikenbo Returns"
          ],
          [
           "Kirakira☆Precure A La Mode Movie: Paritto! Omoide no Mille-Feuille!"
          ],
          [
           "Kitarou Tanjou: Gegege no Nazo"
          ],
          [
           "Knights of the Zodiac: Saint Seiya"
          ],
          [
           "Koneko no Rakugaki"
          ],
          [
           "Konjiki no Gash Bell!!"
          ],
          [
           "Koutetsu Jeeg"
          ],
          [
           "Kuuchuu Buranko"
          ],
          [
           "Kyousou Giga"
          ],
          [
           "Kyousou Giga (2012)"
          ],
          [
           "Kyousou Giga (TV)"
          ],
          [
           "La Rose de Versailles"
          ],
          [
           "Magnerobo Ga-Keen Recap"
          ],
          [
           "Mahoutsukai Chappy"
          ],
          [
           "Mahoutsukai Sally (Movie)"
          ],
          [
           "Majin Bone"
          ],
          [
           "Majo Minarai wo Sagashite"
          ],
          [
           "Majokko Megu-chan"
          ],
          [
           "Majokko Tickle"
          ],
          [
           "Maken Liner 0011 Henshin Seyo!"
          ],
          [
           "Mamotte Shugogetten!"
          ],
          [
           "Manga Aesop Monogatari"
          ],
          [
           "Maple Town Monogatari"
          ],
          [
           "Maple Town Monogatari (Movie)"
          ],
          [
           "Marmalade Boy"
          ],
          [
           "Marmalade Boy Movie"
          ],
          [
           "Mazinger Z tai Devilman"
          ],
          [
           "Mononoke"
          ],
          [
           "Mushrambo"
          ],
          [
           "Nagagutsu Sanjuushi"
          ],
          [
           "Nijiiro Hotaru: Eien no Natsuyasumi"
          ],
          [
           "Ojamajo Doremi"
          ],
          [
           "Ojamajo Doremi Sharp Movie"
          ],
          [
           "One Piece 3D: Mugiwara Chase"
          ],
          [
           "One Piece Film: Red"
          ],
          [
           "One Piece Film: Z"
          ],
          [
           "One Piece Movie 03: Chinjuu-jima no Chopper Oukoku"
          ],
          [
           "One Piece Movie 05: Norowareta Seiken"
          ],
          [
           "One Piece Movie 06: Omatsuri Danshaku to Himitsu no Shima"
          ],
          [
           "One Piece Movie 07: Karakuri-jou no Mecha Kyohei"
          ],
          [
           "One Piece Movie 08: Episode of Alabasta - Sabaku no Oujo to Kaizoku-tachi"
          ],
          [
           "One Piece Movie 14: Stampede"
          ],
          [
           "One Piece: Episode of Luffy - Hand Island no Bouken"
          ],
          [
           "One Piece: Episode of Merry - Mou Hitori no Nakama no Monogatari"
          ],
          [
           "One Piece: Episode of Nami - Koukaishi no Namida to Nakama no Kizuna"
          ],
          [
           "One Piece: Episode of Sorajima"
          ],
          [
           "One Piece: Umi no Heso no Daibouken-hen"
          ],
          [
           "Ookami Shounen Ken"
          ],
          [
           "Patalliro!"
          ],
          [
           "Pop in Q"
          ],
          [
           "Precure Miracle Universe Movie"
          ],
          [
           "Rokudenashi Blues"
          ],
          [
           "SF Saiyuuki Starzinger"
          ],
          [
           "Saint Seiya: Jashin Eris"
          ],
          [
           "Saint Seiya: Kamigami no Atsuki Tatakai"
          ],
          [
           "Saint Seiya: Legend of Sanctuary"
          ],
          [
           "Saint Seiya: Meiou Hades Juuni Kyuu-hen"
          ],
          [
           "Saint Seiya: Meiou Hades Meikai-hen"
          ],
          [
           "Saint Seiya: Shinku no Shounen Densetsu"
          ],
          [
           "Sakigake!! Otokojuku Movie"
          ],
          [
           "Sango no Umi to Ouji"
          ],
          [
           "Sarutobi Ecchan"
          ],
          [
           "Sayonara Ginga Tetsudou 999: Andromeda Shuuchakueki"
          ],
          [
           "Sekai Meisaku Douwa: Aladdin to Mahou no Lamp"
          ],
          [
           "Sekai Meisaku Douwa: Hakuchou no Mizuumi"
          ],
          [
           "Sekai Meisaku Douwa: Hakuchou no Ouji"
          ],
          [
           "Sekai Meisaku Douwa: Wow! Maerchen Oukoku"
          ],
          [
           "Shin Cutey Honey"
          ],
          [
           "Shounen Jack to Mahoutsukai"
          ],
          [
           "Shounen Sarutobi Sasuke"
          ],
          [
           "Slam Dunk"
          ],
          [
           "Slam Dunk (Movie)"
          ],
          [
           "Smile Precure!"
          ],
          [
           "Stop!! Hibari-kun!"
          ],
          [
           "Super Bikkuriman"
          ],
          [
           "Super Dragon Ball Heroes"
          ],
          [
           "Superflat Monogram"
          ],
          [
           "Taiyou no Ouji: Horus no Daibouken"
          ],
          [
           "Terra e..."
          ],
          [
           "The Kabocha Wine"
          ],
          [
           "Tiger Mask"
          ],
          [
           "Tiger Mask Nisei"
          ],
          [
           "Tongari Boushi no Memole"
          ],
          [
           "Tori no Uta"
          ],
          [
           "Toriko"
          ],
          [
           "Transformers: The☆Headmasters"
          ],
          [
           "UFO Robo Grendizer"
          ],
          [
           "Uchuu Kaizoku Captain Herlock"
          ],
          [
           "Uchuu Majin Daikengou"
          ],
          [
           "Uchuu Taitei God Sigma"
          ],
          [
           "Vampire Sensou"
          ],
          [
           "Wakakusa Monogatari"
          ],
          [
           "Wakakusa no Yon Shimai"
          ],
          [
           "Wan Wan Chuushingura"
          ],
          [
           "Wanpaku Ouji no Orochi Taiji"
          ],
          [
           "World Trigger"
          ],
          [
           "World Trigger 2nd Season"
          ],
          [
           "World Trigger 3rd Season"
          ],
          [
           "Yamato yo Towa ni"
          ],
          [
           "Yami no Teio: Kyuuketsuki Dracula"
          ],
          [
           "Yes! Precure 5"
          ],
          [
           "Yes! Precure 5 GoGo!"
          ],
          [
           "Yume Senshi Wingman"
          ],
          [
           "Yu☆Gi☆Oh!"
          ]
         ],
         "hovertemplate": "<b>Name:</b> %{customdata[0]}<br><b>Favorites:</b> %{y}",
         "legendgroup": "Toei Animation",
         "marker": {
          "color": "#636efa"
         },
         "name": "Toei Animation",
         "notched": false,
         "offsetgroup": "Toei Animation",
         "orientation": "v",
         "showlegend": true,
         "type": "box",
         "x": [
          "Toei Animation",
          "Toei Animation",
          "Toei Animation",
          "Toei Animation",
          "Toei Animation",
          "Toei Animation",
          "Toei Animation",
          "Toei Animation",
          "Toei Animation",
          "Toei Animation",
          "Toei Animation",
          "Toei Animation",
          "Toei Animation",
          "Toei Animation",
          "Toei Animation",
          "Toei Animation",
          "Toei Animation",
          "Toei Animation",
          "Toei Animation",
          "Toei Animation",
          "Toei Animation",
          "Toei Animation",
          "Toei Animation",
          "Toei Animation",
          "Toei Animation",
          "Toei Animation",
          "Toei Animation",
          "Toei Animation",
          "Toei Animation",
          "Toei Animation",
          "Toei Animation",
          "Toei Animation",
          "Toei Animation",
          "Toei Animation",
          "Toei Animation",
          "Toei Animation",
          "Toei Animation",
          "Toei Animation",
          "Toei Animation",
          "Toei Animation",
          "Toei Animation",
          "Toei Animation",
          "Toei Animation",
          "Toei Animation",
          "Toei Animation",
          "Toei Animation",
          "Toei Animation",
          "Toei Animation",
          "Toei Animation",
          "Toei Animation",
          "Toei Animation",
          "Toei Animation",
          "Toei Animation",
          "Toei Animation",
          "Toei Animation",
          "Toei Animation",
          "Toei Animation",
          "Toei Animation",
          "Toei Animation",
          "Toei Animation",
          "Toei Animation",
          "Toei Animation",
          "Toei Animation",
          "Toei Animation",
          "Toei Animation",
          "Toei Animation",
          "Toei Animation",
          "Toei Animation",
          "Toei Animation",
          "Toei Animation",
          "Toei Animation",
          "Toei Animation",
          "Toei Animation",
          "Toei Animation",
          "Toei Animation",
          "Toei Animation",
          "Toei Animation",
          "Toei Animation",
          "Toei Animation",
          "Toei Animation",
          "Toei Animation",
          "Toei Animation",
          "Toei Animation",
          "Toei Animation",
          "Toei Animation",
          "Toei Animation",
          "Toei Animation",
          "Toei Animation",
          "Toei Animation",
          "Toei Animation",
          "Toei Animation",
          "Toei Animation",
          "Toei Animation",
          "Toei Animation",
          "Toei Animation",
          "Toei Animation",
          "Toei Animation",
          "Toei Animation",
          "Toei Animation",
          "Toei Animation",
          "Toei Animation",
          "Toei Animation",
          "Toei Animation",
          "Toei Animation",
          "Toei Animation",
          "Toei Animation",
          "Toei Animation",
          "Toei Animation",
          "Toei Animation",
          "Toei Animation",
          "Toei Animation",
          "Toei Animation",
          "Toei Animation",
          "Toei Animation",
          "Toei Animation",
          "Toei Animation",
          "Toei Animation",
          "Toei Animation",
          "Toei Animation",
          "Toei Animation",
          "Toei Animation",
          "Toei Animation",
          "Toei Animation",
          "Toei Animation",
          "Toei Animation",
          "Toei Animation",
          "Toei Animation",
          "Toei Animation",
          "Toei Animation",
          "Toei Animation",
          "Toei Animation",
          "Toei Animation",
          "Toei Animation",
          "Toei Animation",
          "Toei Animation",
          "Toei Animation",
          "Toei Animation",
          "Toei Animation",
          "Toei Animation",
          "Toei Animation",
          "Toei Animation",
          "Toei Animation",
          "Toei Animation",
          "Toei Animation",
          "Toei Animation",
          "Toei Animation",
          "Toei Animation",
          "Toei Animation",
          "Toei Animation",
          "Toei Animation",
          "Toei Animation",
          "Toei Animation",
          "Toei Animation",
          "Toei Animation",
          "Toei Animation",
          "Toei Animation",
          "Toei Animation",
          "Toei Animation",
          "Toei Animation",
          "Toei Animation",
          "Toei Animation",
          "Toei Animation",
          "Toei Animation",
          "Toei Animation",
          "Toei Animation",
          "Toei Animation",
          "Toei Animation",
          "Toei Animation",
          "Toei Animation",
          "Toei Animation",
          "Toei Animation",
          "Toei Animation",
          "Toei Animation",
          "Toei Animation",
          "Toei Animation",
          "Toei Animation",
          "Toei Animation",
          "Toei Animation",
          "Toei Animation",
          "Toei Animation",
          "Toei Animation",
          "Toei Animation",
          "Toei Animation",
          "Toei Animation",
          "Toei Animation",
          "Toei Animation",
          "Toei Animation",
          "Toei Animation",
          "Toei Animation",
          "Toei Animation",
          "Toei Animation",
          "Toei Animation",
          "Toei Animation",
          "Toei Animation",
          "Toei Animation",
          "Toei Animation",
          "Toei Animation",
          "Toei Animation",
          "Toei Animation",
          "Toei Animation",
          "Toei Animation",
          "Toei Animation",
          "Toei Animation",
          "Toei Animation",
          "Toei Animation",
          "Toei Animation",
          "Toei Animation",
          "Toei Animation",
          "Toei Animation",
          "Toei Animation",
          "Toei Animation",
          "Toei Animation",
          "Toei Animation",
          "Toei Animation",
          "Toei Animation",
          "Toei Animation",
          "Toei Animation",
          "Toei Animation",
          "Toei Animation",
          "Toei Animation",
          "Toei Animation",
          "Toei Animation",
          "Toei Animation",
          "Toei Animation",
          "Toei Animation",
          "Toei Animation",
          "Toei Animation",
          "Toei Animation",
          "Toei Animation",
          "Toei Animation",
          "Toei Animation",
          "Toei Animation",
          "Toei Animation",
          "Toei Animation",
          "Toei Animation",
          "Toei Animation",
          "Toei Animation",
          "Toei Animation",
          "Toei Animation",
          "Toei Animation",
          "Toei Animation",
          "Toei Animation",
          "Toei Animation",
          "Toei Animation",
          "Toei Animation",
          "Toei Animation",
          "Toei Animation",
          "Toei Animation",
          "Toei Animation",
          "Toei Animation",
          "Toei Animation",
          "Toei Animation",
          "Toei Animation",
          "Toei Animation",
          "Toei Animation",
          "Toei Animation",
          "Toei Animation",
          "Toei Animation",
          "Toei Animation",
          "Toei Animation",
          "Toei Animation",
          "Toei Animation",
          "Toei Animation",
          "Toei Animation",
          "Toei Animation",
          "Toei Animation",
          "Toei Animation",
          "Toei Animation",
          "Toei Animation",
          "Toei Animation",
          "Toei Animation",
          "Toei Animation",
          "Toei Animation",
          "Toei Animation",
          "Toei Animation",
          "Toei Animation",
          "Toei Animation",
          "Toei Animation",
          "Toei Animation",
          "Toei Animation",
          "Toei Animation",
          "Toei Animation",
          "Toei Animation",
          "Toei Animation",
          "Toei Animation",
          "Toei Animation",
          "Toei Animation",
          "Toei Animation",
          "Toei Animation",
          "Toei Animation",
          "Toei Animation",
          "Toei Animation",
          "Toei Animation",
          "Toei Animation",
          "Toei Animation",
          "Toei Animation",
          "Toei Animation",
          "Toei Animation",
          "Toei Animation",
          "Toei Animation",
          "Toei Animation",
          "Toei Animation",
          "Toei Animation",
          "Toei Animation",
          "Toei Animation",
          "Toei Animation",
          "Toei Animation",
          "Toei Animation",
          "Toei Animation",
          "Toei Animation",
          "Toei Animation",
          "Toei Animation",
          "Toei Animation",
          "Toei Animation",
          "Toei Animation",
          "Toei Animation",
          "Toei Animation",
          "Toei Animation",
          "Toei Animation",
          "Toei Animation",
          "Toei Animation",
          "Toei Animation",
          "Toei Animation",
          "Toei Animation",
          "Toei Animation",
          "Toei Animation",
          "Toei Animation",
          "Toei Animation",
          "Toei Animation",
          "Toei Animation",
          "Toei Animation",
          "Toei Animation",
          "Toei Animation",
          "Toei Animation",
          "Toei Animation",
          "Toei Animation",
          "Toei Animation",
          "Toei Animation",
          "Toei Animation",
          "Toei Animation",
          "Toei Animation",
          "Toei Animation",
          "Toei Animation",
          "Toei Animation",
          "Toei Animation",
          "Toei Animation",
          "Toei Animation",
          "Toei Animation",
          "Toei Animation",
          "Toei Animation",
          "Toei Animation",
          "Toei Animation",
          "Toei Animation",
          "Toei Animation",
          "Toei Animation",
          "Toei Animation",
          "Toei Animation",
          "Toei Animation",
          "Toei Animation",
          "Toei Animation",
          "Toei Animation",
          "Toei Animation",
          "Toei Animation",
          "Toei Animation",
          "Toei Animation",
          "Toei Animation",
          "Toei Animation",
          "Toei Animation",
          "Toei Animation",
          "Toei Animation",
          "Toei Animation",
          "Toei Animation",
          "Toei Animation",
          "Toei Animation",
          "Toei Animation",
          "Toei Animation",
          "Toei Animation",
          "Toei Animation",
          "Toei Animation",
          "Toei Animation",
          "Toei Animation",
          "Toei Animation",
          "Toei Animation",
          "Toei Animation",
          "Toei Animation",
          "Toei Animation",
          "Toei Animation",
          "Toei Animation",
          "Toei Animation",
          "Toei Animation",
          "Toei Animation",
          "Toei Animation",
          "Toei Animation",
          "Toei Animation",
          "Toei Animation",
          "Toei Animation",
          "Toei Animation",
          "Toei Animation",
          "Toei Animation",
          "Toei Animation",
          "Toei Animation",
          "Toei Animation",
          "Toei Animation",
          "Toei Animation",
          "Toei Animation",
          "Toei Animation",
          "Toei Animation",
          "Toei Animation",
          "Toei Animation",
          "Toei Animation",
          "Toei Animation",
          "Toei Animation",
          "Toei Animation",
          "Toei Animation",
          "Toei Animation",
          "Toei Animation",
          "Toei Animation",
          "Toei Animation",
          "Toei Animation",
          "Toei Animation",
          "Toei Animation",
          "Toei Animation",
          "Toei Animation",
          "Toei Animation",
          "Toei Animation",
          "Toei Animation",
          "Toei Animation",
          "Toei Animation",
          "Toei Animation",
          "Toei Animation",
          "Toei Animation",
          "Toei Animation",
          "Toei Animation",
          "Toei Animation",
          "Toei Animation",
          "Toei Animation",
          "Toei Animation",
          "Toei Animation",
          "Toei Animation",
          "Toei Animation",
          "Toei Animation",
          "Toei Animation",
          "Toei Animation",
          "Toei Animation",
          "Toei Animation",
          "Toei Animation",
          "Toei Animation",
          "Toei Animation",
          "Toei Animation",
          "Toei Animation",
          "Toei Animation",
          "Toei Animation",
          "Toei Animation",
          "Toei Animation",
          "Toei Animation",
          "Toei Animation",
          "Toei Animation",
          "Toei Animation",
          "Toei Animation",
          "Toei Animation",
          "Toei Animation",
          "Toei Animation",
          "Toei Animation",
          "Toei Animation",
          "Toei Animation",
          "Toei Animation",
          "Toei Animation",
          "Toei Animation",
          "Toei Animation",
          "Toei Animation",
          "Toei Animation",
          "Toei Animation",
          "Toei Animation",
          "Toei Animation",
          "Toei Animation",
          "Toei Animation",
          "Toei Animation",
          "Toei Animation",
          "Toei Animation",
          "Toei Animation",
          "Toei Animation",
          "Toei Animation",
          "Toei Animation",
          "Toei Animation",
          "Toei Animation",
          "Toei Animation",
          "Toei Animation",
          "Toei Animation",
          "Toei Animation",
          "Toei Animation",
          "Toei Animation",
          "Toei Animation",
          "Toei Animation",
          "Toei Animation",
          "Toei Animation",
          "Toei Animation",
          "Toei Animation",
          "Toei Animation",
          "Toei Animation",
          "Toei Animation",
          "Toei Animation",
          "Toei Animation",
          "Toei Animation",
          "Toei Animation",
          "Toei Animation",
          "Toei Animation",
          "Toei Animation",
          "Toei Animation",
          "Toei Animation",
          "Toei Animation",
          "Toei Animation",
          "Toei Animation",
          "Toei Animation",
          "Toei Animation",
          "Toei Animation",
          "Toei Animation",
          "Toei Animation",
          "Toei Animation",
          "Toei Animation",
          "Toei Animation",
          "Toei Animation",
          "Toei Animation",
          "Toei Animation",
          "Toei Animation",
          "Toei Animation",
          "Toei Animation",
          "Toei Animation",
          "Toei Animation",
          "Toei Animation",
          "Toei Animation",
          "Toei Animation",
          "Toei Animation",
          "Toei Animation",
          "Toei Animation",
          "Toei Animation",
          "Toei Animation",
          "Toei Animation",
          "Toei Animation",
          "Toei Animation",
          "Toei Animation",
          "Toei Animation",
          "Toei Animation",
          "Toei Animation",
          "Toei Animation",
          "Toei Animation",
          "Toei Animation",
          "Toei Animation",
          "Toei Animation",
          "Toei Animation",
          "Toei Animation",
          "Toei Animation",
          "Toei Animation",
          "Toei Animation",
          "Toei Animation",
          "Toei Animation",
          "Toei Animation",
          "Toei Animation",
          "Toei Animation",
          "Toei Animation",
          "Toei Animation",
          "Toei Animation"
         ],
         "x0": " ",
         "xaxis": "x",
         "y": [
          6,
          44,
          102,
          130,
          250,
          70,
          231,
          6,
          3,
          87,
          112,
          2,
          19,
          509,
          88,
          93,
          7,
          59,
          411,
          3,
          15,
          27,
          11,
          47,
          6,
          7,
          97,
          21,
          6,
          70,
          108,
          12,
          1,
          4,
          3,
          106,
          25,
          41,
          3,
          2,
          17,
          4,
          1,
          3,
          0,
          1,
          1,
          1,
          1,
          20,
          60,
          1,
          2,
          42,
          4,
          2,
          0,
          0,
          4,
          4,
          5,
          0,
          3,
          3,
          3,
          0,
          1,
          9,
          0,
          1,
          4,
          1,
          3,
          4,
          1,
          159,
          8,
          0,
          1,
          11,
          4,
          10,
          8,
          2,
          1,
          3,
          1,
          1,
          0,
          0,
          1,
          1,
          2,
          3,
          3,
          0,
          2,
          0,
          0,
          1,
          2,
          4,
          3,
          5,
          2,
          1,
          1,
          1,
          1,
          0,
          0,
          2,
          1,
          1,
          5,
          2,
          1,
          0,
          0,
          0,
          5,
          46,
          35,
          3,
          12,
          0,
          68,
          4,
          1,
          124,
          14,
          3,
          1,
          2,
          5,
          1,
          1,
          1,
          0,
          57,
          22,
          0,
          4,
          0,
          0,
          0,
          10,
          18,
          9,
          1,
          2,
          1,
          8,
          1,
          0,
          0,
          0,
          1,
          21,
          0,
          0,
          0,
          5,
          0,
          5,
          1,
          0,
          1,
          1,
          0,
          0,
          0,
          1,
          0,
          1,
          1,
          0,
          0,
          0,
          0,
          0,
          0,
          0,
          1,
          1,
          2,
          0,
          3,
          306,
          3,
          3,
          0,
          0,
          1,
          0,
          26,
          1,
          348,
          4,
          133,
          1,
          23,
          0,
          3,
          0,
          1,
          3,
          52,
          0,
          17,
          0,
          2,
          166,
          35,
          15,
          0,
          5,
          2,
          10,
          5,
          1,
          0,
          5,
          2,
          2,
          8,
          11,
          0,
          1,
          14,
          8,
          138,
          118,
          50,
          1,
          1,
          1,
          168,
          4,
          87,
          2,
          1125,
          814,
          1404,
          15,
          31,
          1,
          2,
          34,
          4,
          164,
          5184,
          86,
          79,
          45,
          2,
          746,
          33,
          30,
          9968,
          521,
          36163,
          22,
          74,
          170,
          18,
          5,
          14,
          1,
          3,
          820,
          439,
          3,
          309,
          15,
          20,
          17,
          28,
          0,
          2224,
          130,
          2,
          4,
          2,
          1,
          496,
          232,
          20,
          83,
          2,
          3,
          9791,
          1,
          16,
          15,
          21,
          129,
          1,
          0,
          198986,
          380,
          450,
          317,
          34,
          19,
          17,
          48,
          24,
          0,
          1,
          3882,
          130,
          17,
          6,
          175,
          5,
          1,
          25,
          42,
          3,
          6,
          17,
          6,
          7,
          18,
          3,
          67,
          1,
          4,
          1,
          2,
          126,
          3,
          1,
          89,
          1,
          31,
          107,
          92,
          3566,
          74,
          2,
          0,
          1,
          32,
          3,
          78,
          4,
          4,
          262,
          1,
          271,
          1,
          37,
          9912,
          1191,
          1054,
          14,
          6,
          4,
          426,
          9,
          12,
          41,
          41,
          12,
          4,
          105,
          113,
          747,
          31,
          369,
          250,
          91,
          315,
          563,
          161,
          1,
          312,
          1826,
          6,
          11,
          42,
          106,
          30,
          150,
          4,
          46,
          0,
          14998,
          1940,
          66,
          3178,
          36,
          36,
          21,
          2838,
          42,
          29,
          48,
          25,
          30,
          50,
          42,
          143,
          90,
          254,
          129,
          162,
          3,
          110,
          5,
          560,
          1,
          0,
          19,
          325,
          1,
          42,
          20,
          21,
          3,
          0,
          2,
          5,
          6,
          21,
          7,
          13,
          148,
          4,
          4,
          1,
          7,
          0,
          769,
          61,
          0,
          594,
          27,
          10,
          86,
          120,
          2,
          48,
          3,
          18,
          929,
          4,
          3,
          0,
          0,
          48,
          220,
          0,
          2,
          8,
          60,
          3,
          5,
          47,
          1,
          1210,
          11,
          1246,
          83,
          32,
          1943,
          5,
          0,
          2,
          1,
          30,
          25,
          10,
          3,
          1,
          13,
          0,
          10,
          0,
          586,
          21,
          5,
          7775,
          77,
          1,
          15,
          639,
          5,
          49,
          1529,
          601,
          32,
          35,
          372,
          21,
          30,
          646,
          31,
          76,
          83,
          23,
          25,
          1,
          107,
          19,
          3,
          3,
          18,
          14,
          21,
          41,
          358,
          154,
          29,
          5,
          0,
          0,
          21,
          1,
          20,
          2,
          1,
          37,
          1,
          5,
          6879,
          20,
          375,
          64,
          2,
          218,
          5,
          13,
          19,
          7,
          71,
          19,
          9,
          11,
          829,
          5,
          124,
          316,
          3,
          1,
          4,
          0,
          2,
          4,
          7,
          2693,
          761,
          1043,
          8,
          5,
          100,
          41,
          14,
          1146
         ],
         "y0": " ",
         "yaxis": "y"
        },
        {
         "alignmentgroup": "True",
         "customdata": [
          [
           "Kidou Keisatsu Patlabor: On Television"
          ],
          [
           "Mama wa Shougaku 4 Nensei"
          ],
          [
           "Seikai no Senki III"
          ],
          [
           "InuYasha Movie 1: Toki wo Koeru Omoi"
          ],
          [
           "Sentimental Journey"
          ],
          [
           "Kidou Senshi Gundam SEED C.E. 73: Stargazer"
          ],
          [
           "Yoroiden Samurai Troopers Kikoutei Densetsu"
          ],
          [
           "Yoroiden Samurai Troopers Message"
          ],
          [
           "Kidou Keisatsu Patlabor: New OVA"
          ],
          [
           "DT Eightron"
          ],
          [
           "Seikai no Monshou Special"
          ],
          [
           "Yuusha-Ou GaoGaiGar Final"
          ],
          [
           "Future GPX Cyber Formula"
          ],
          [
           "Future GPX Cyber Formula: Early Days Renewal"
          ],
          [
           "Mai-Otome Zwei"
          ],
          [
           "iDOLM@STER Xenoglossia"
          ],
          [
           "Haou Taikei Ryuu Knight"
          ],
          [
           "Zettai Muteki Raijin-Oh"
          ],
          [
           "Kidou Senshi Z Gundam III: Hoshi no Kodou wa Ai"
          ],
          [
           "Muteki Choujin Zanbot 3"
          ],
          [
           "Taiyou no Kiba Dagram"
          ],
          [
           "Kidou Senshi Gundam SEED Special Edition"
          ],
          [
           "Kidou Senshi Gundam SEED Destiny Special Edition"
          ],
          [
           "Freedom Previsited"
          ],
          [
           "Keroro Gunsou Movie 1"
          ],
          [
           "Juusenki L-Gaim II: Farewell My Lovely + Pentagona Dolls"
          ],
          [
           "Juusenki L-Gaim III: Full Metal Soldier"
          ],
          [
           "Madou King Granzort"
          ],
          [
           "Gekitou! Crush Gear Turbo"
          ],
          [
           "Gundam Evolve"
          ],
          [
           "Kikou Keisatsu Metal Jack"
          ],
          [
           "Chou Mashin Eiyuuden Wataru"
          ],
          [
           "Mister Ajikko"
          ],
          [
           "Yuusha Tokkyuu Might Gaine"
          ],
          [
           "Ganbarist! Shun"
          ],
          [
           "Kidou Senshi Gundam 00 Second Season"
          ],
          [
           "Turn A Gundam I Movie: Earth Light"
          ],
          [
           "Turn A Gundam II Movie: Moonlight Butterfly"
          ],
          [
           "Juushin Liger"
          ],
          [
           "Shin SOS Dai Tokyo Tankentai"
          ],
          [
           "Muteki Robo Trider G7"
          ],
          [
           "Code Geass: Hangyaku no Lelouch Special Edition - Black Rebellion"
          ],
          [
           "Aesop's World"
          ],
          [
           "Mashin Eiyuuden Wataru 2"
          ],
          [
           "Kurokami The Animation"
          ],
          [
           "Battle Spirits: Shounen Toppa Bashin"
          ],
          [
           "Shiroi Kiba White Fang Monogatari"
          ],
          [
           "Kidou Senshi Gundam 00 Movie: A Wakening of the Trailblazer"
          ],
          [
           "Code Geass: Hangyaku no Lelouch R2 Special Edition - Zero Requiem"
          ],
          [
           "Crush Gear Nitro"
          ],
          [
           "Ring of Gundam"
          ],
          [
           "30th Gundam Perfect Mission"
          ],
          [
           "Kidou Senshi Gundam 00 Special Edition"
          ],
          [
           "Hipira-kun"
          ],
          [
           "Keroro Gunsou Movie 5: Tanjou! Kyuukyoku Keroro, Kiseki no Jikuu-jima, de Arimasu!!"
          ],
          [
           "Votoms Finder"
          ],
          [
           "SD Gundam Sangokuden Brave Battle Warriors"
          ],
          [
           "Tales of the Abyss Special Fan Disc"
          ],
          [
           "Kidou Senshi SD Gundam Matsuri"
          ],
          [
           "Koi☆Sento"
          ],
          [
           "Battle Spirits: Brave"
          ],
          [
           "Zero Tester: Chikyuu wo Mamore!"
          ],
          [
           "Gintama: Shinyaku Benizakura-hen"
          ],
          [
           "Future GPX Cyber Formula Graffiti"
          ],
          [
           "s.CRY.ed Alteration I: Tao"
          ],
          [
           "Kidou Senshi Gundam: The Origin"
          ],
          [
           "Battle Spirits: Heroes"
          ],
          [
           "Tiger & Bunny Pilot"
          ],
          [
           "Sacred Seven: Shirogane no Tsubasa"
          ],
          [
           "Dirty Pair Flash 2"
          ],
          [
           "Dirty Pair Flash 3"
          ],
          [
           "Tales of Gekijou"
          ],
          [
           "Phi Brain: Kami no Puzzle - Orpheus Order-hen"
          ],
          [
           "Mugen no Ryvius: Illusion"
          ],
          [
           "Sacred Seven: Shirogane no Tsubasa Picture Drama"
          ],
          [
           "Accel World EX"
          ],
          [
           "Battle Spirits: Sword Eyes"
          ],
          [
           "Code Geass: Boukoku no Akito 3 - Kagayaku Mono Ten yori Otsu"
          ],
          [
           "Gintama': Enchousen"
          ],
          [
           "Natsu-iro Kiseki: 15-kaime no Natsuyasumi"
          ],
          [
           "Code Geass: Soubou no Oz Picture Drama"
          ],
          [
           "Kidou Senshi Gundam AGE: Memory of Eden"
          ],
          [
           "Kakumeiki Valvrave 2nd Season"
          ],
          [
           "Love Live! School Idol Project 2nd Season"
          ],
          [
           "Short Peace Opening"
          ],
          [
           "Kaiketsu Zorori: Mamoru ze! Kyouryuu no Tamago"
          ],
          [
           "Saikyou Ginga Ultimate Zero: Battle Spirits"
          ],
          [
           "Love Live! School Idol Project OVA"
          ],
          [
           "Gintama: Yorinuki Gintama-san on Theater 2D"
          ],
          [
           "Aikatsu! Movie"
          ],
          [
           "Mugen Senshi Valis"
          ],
          [
           "Hipira-kun ONA"
          ],
          [
           "Hipira-kun Special"
          ],
          [
           "Hazedon"
          ],
          [
           "Kidou Senshi Gundam UC: One of Seventy Two"
          ],
          [
           "Buddy Complex: Kanketsu-hen - Ano Sora ni Kaeru Mirai de"
          ],
          [
           "Shoko Nakagawa Prism Tour Special"
          ],
          [
           "Kidou Senshi Gundam-san"
          ],
          [
           "Mister Ajikko Special"
          ],
          [
           "Many Things SD Gundam"
          ],
          [
           "Gundam: G no Reconguista - From the Past to the Future"
          ],
          [
           "Accel World: Infinite∞Burst"
          ],
          [
           "Kidou Senshi Gundam Thunderbolt"
          ],
          [
           "Kidou Senshi Gundam-san (Movie)"
          ],
          [
           "Kidou Senshi Gundam: Tekketsu no Orphans 2nd Season"
          ],
          [
           "Love Live! μ's Final Love Live! Opening Animation"
          ],
          [
           "Magic-Kyun! Renaissance"
          ],
          [
           "Kidou Senshi Gundam Thunderbolt 2nd Season"
          ],
          [
           "Love Live! Sunshine!! 2nd Season"
          ],
          [
           "Kidou Senshi Gundam: Twilight Axis"
          ],
          [
           "ClassicaLoid 2nd Season"
          ],
          [
           "Gundam Build Divers"
          ],
          [
           "Gundam Build Divers Prologue"
          ],
          [
           "City Hunter Movie: Shinjuku Private Eyes"
          ],
          [
           "Double Decker! Doug & Kirill: Extra"
          ],
          [
           "Seikai no Senki II Special"
          ],
          [
           "Orbital Era"
          ],
          [
           "Love Live! School Idol Festival All Stars"
          ],
          [
           "Code Geass: Fukkatsu no Lelouch Picture Drama"
          ],
          [
           "Code Geass: Hangyaku no Lelouch Picture Drama - Kiseki no Anniversary"
          ],
          [
           "Ano Hi no Kokoro wo Toraete"
          ],
          [
           "Love Live! Sunshine!! Photo Session"
          ],
          [
           "Love Live! Nijigasaki Gakuen School Idol Doukoukai 2nd Season"
          ],
          [
           "Gundam Breaker: Battlogue"
          ],
          [
           "Love Live! Superstar!! 2nd Season"
          ],
          [
           "Love Live! Superstar!! 3rd Season"
          ],
          [
           "Love Live! Nijigasaki Gakuen School Idol Doukoukai: Next Sky"
          ],
          [
           "All That Gundam"
          ],
          [
           "Aoki Ryuusei SPT Layzner"
          ],
          [
           "Aoki Ryuusei SPT Layzner OVA"
          ],
          [
           "Arion"
          ],
          [
           "Buddy Complex"
          ],
          [
           "City Hunter"
          ],
          [
           "City Hunter: Hyakuman Dollar no Inbou"
          ],
          [
           "Code Geass: Hangyaku no Lelouch Picture Drama"
          ],
          [
           "Code Geass: Hangyaku no Lelouch R2 Picture Drama"
          ],
          [
           "Code Geass: Hangyaku no Lelouch Recaps"
          ],
          [
           "Cowboy Bebop"
          ],
          [
           "Cross Ange: Tenshi to Ryuu no Rondo"
          ],
          [
           "Danshi Koukousei no Nichijou"
          ],
          [
           "Densetsu Kyojin Ideon: Sesshoku-hen"
          ],
          [
           "DinoZone"
          ],
          [
           "Dirty Pair: Bouryaku no 005-bin"
          ],
          [
           "Gasaraki"
          ],
          [
           "Genki Bakuhatsu Ganbaruger"
          ],
          [
           "Ginga Hyouryuu Vifam"
          ],
          [
           "Gundam Build Fighters Try: Island Wars"
          ],
          [
           "Gundam Neo Experience 0087: Green Divers"
          ],
          [
           "InuYasha"
          ],
          [
           "InuYasha Movie 2: Kagami no Naka no Mugenjo"
          ],
          [
           "InuYasha: Kanketsu-hen"
          ],
          [
           "Juusenki L-Gaim"
          ],
          [
           "Juusenshi Gulkeeva"
          ],
          [
           "Kakumeiki Valvrave"
          ],
          [
           "Kidou Senshi Gundam 00"
          ],
          [
           "Kidou Senshi Gundam F91"
          ],
          [
           "Kidou Senshi Gundam MS IGLOO: 1-nen Sensou Hiroku"
          ],
          [
           "Kidou Senshi Gundam NT"
          ],
          [
           "Kidou Senshi Gundam Unicorn"
          ],
          [
           "Kidou Senshi Gundam ZZ"
          ],
          [
           "Kidou Senshi Gundam: Cucuruz Doan no Shima"
          ],
          [
           "Kidou Senshi Gundam: Gyakushuu no Char"
          ],
          [
           "Kidou Senshi Gundam: Suisei no Majo"
          ],
          [
           "Kidou Senshi Gundam: The Origin - Zenya Akai Suisei"
          ],
          [
           "Kikou Kai Galient"
          ],
          [
           "Kikou Kai Galient OVA"
          ],
          [
           "Kodai Ouja Kyouryuu King"
          ],
          [
           "Kyouryuu Tankentai Born Free"
          ],
          [
           "La Seine no Hoshi"
          ],
          [
           "Love Live! School Idol Project"
          ],
          [
           "Love Live! The School Idol Movie"
          ],
          [
           "Mai-HiME"
          ],
          [
           "Mai-Otome"
          ],
          [
           "Mai-Otome Special: Otome no Inori"
          ],
          [
           "Megumi no Daigo: Kajiba no Baka Yarou"
          ],
          [
           "SD Gundam Force"
          ],
          [
           "SD Gundam World Heroes"
          ],
          [
           "Seihou Bukyou Outlaw Star"
          ],
          [
           "Seihou Tenshi Angel Links"
          ],
          [
           "Seikai no Senki II"
          ],
          [
           "Shin Kidou Senki Gundam Wing: Endless Waltz"
          ],
          [
           "Shishunki Bishoujo Gattai Robo Z-Mind"
          ],
          [
           "Soukou Kihei Votoms"
          ],
          [
           "Soukou Kihei Votoms Recaps"
          ],
          [
           "The Big O"
          ],
          [
           "Tsukumo"
          ],
          [
           "Yakitate!! Japan"
          ],
          [
           "Yuusha Exkaiser"
          ],
          [
           "Zegapain"
          ],
          [
           "Zone of the Enders: 2167 Idolo"
          ],
          [
           "Accel World"
          ],
          [
           "Argento Soma"
          ],
          [
           "Bakumatsu Kikansetsu Irohanihoheto"
          ],
          [
           "Battle Spirits: Shounen Gekiha Dan"
          ],
          [
           "Betterman"
          ],
          [
           "Binbougami ga!"
          ],
          [
           "Brain Powerd"
          ],
          [
           "Brigadoon: Marin to Melan"
          ],
          [
           "Buki yo Saraba"
          ],
          [
           "Chinmoku no Kantai"
          ],
          [
           "Chirin no Suzu"
          ],
          [
           "City Hunter '91"
          ],
          [
           "City Hunter 2"
          ],
          [
           "City Hunter: Ai to Shukumei no Magnum"
          ],
          [
           "City Hunter: Bay City Wars"
          ],
          [
           "City Hunter: Goodbye My Sweetheart"
          ],
          [
           "City Hunter: The Secret Service"
          ],
          [
           "ClassicaLoid"
          ],
          [
           "Cluster Edge"
          ],
          [
           "Code Geass: Boukoku no Akito 1 - Yokuryuu wa Maiorita"
          ],
          [
           "Code Geass: Fukkatsu no Lelouch"
          ],
          [
           "Code Geass: Hangyaku no Lelouch"
          ],
          [
           "Code Geass: Hangyaku no Lelouch - Kiseki no Birthday"
          ],
          [
           "Code Geass: Hangyaku no Lelouch - Nunnally in Wonderland"
          ],
          [
           "Code Geass: Hangyaku no Lelouch I - Koudou"
          ],
          [
           "Code Geass: Hangyaku no Lelouch II - Handou"
          ],
          [
           "Code Geass: Hangyaku no Lelouch III - Oudou"
          ],
          [
           "Code Geass: Hangyaku no Lelouch R2"
          ],
          [
           "Cowboy Bebop: Ein no Natsuyasumi"
          ],
          [
           "Cowboy Bebop: Yose Atsume Blues"
          ],
          [
           "Crusher Joe"
          ],
          [
           "Crusher Joe OVA"
          ],
          [
           "Danshi Koukousei no Nichijou Specials"
          ],
          [
           "Dead Heat"
          ],
          [
           "Densetsu Kyojin Ideon"
          ],
          [
           "Densetsu Kyojin Ideon: Hatsudou-hen"
          ],
          [
           "Densetsu no Yuusha da Garn"
          ],
          [
           "Dirty Pair"
          ],
          [
           "Dirty Pair Flash"
          ],
          [
           "Dirty Pair: The Movie"
          ],
          [
           "Double Decker! Doug & Kirill"
          ],
          [
           "Five Star Stories"
          ],
          [
           "Freedom"
          ],
          [
           "Future GPX Cyber Formula 11"
          ],
          [
           "Future GPX Cyber Formula Saga"
          ],
          [
           "Future GPX Cyber Formula Sin"
          ],
          [
           "Future GPX Cyber Formula Zero"
          ],
          [
           "Gambo"
          ],
          [
           "Gear Fighter Dendoh"
          ],
          [
           "Genjitsu no Yohane: Sunshine in the Mirror"
          ],
          [
           "Giant Gorg"
          ],
          [
           "Gintama"
          ],
          [
           "Gintama Movie 1: Shinyaku Benizakura-hen"
          ],
          [
           "Gintama Movie 2: Kanketsu-hen - Yorozuya yo Eien Nare"
          ],
          [
           "Gintama'"
          ],
          [
           "Gundam Build Fighters"
          ],
          [
           "Gundam Build Fighters Specials"
          ],
          [
           "Gundam Build Fighters Try"
          ],
          [
           "Gundam Build Fighters: Battlogue"
          ],
          [
           "Gundam: G no Reconguista"
          ],
          [
           "Gundam: Mission to the Rise"
          ],
          [
           "Hanyou no Yashahime: Sengoku Otogizoushi"
          ],
          [
           "Hi no Youjin"
          ],
          [
           "Hotori: Tada Saiwai wo Koinegau"
          ],
          [
           "Ibara no Ou"
          ],
          [
           "InuYasha Movie 3: Tenka Hadou no Ken"
          ],
          [
           "InuYasha: Kuroi Tessaiga"
          ],
          [
           "Isekai Izakaya: Koto Aitheria no Izakaya Nobu"
          ],
          [
           "Kekkaishi"
          ],
          [
           "Keroro"
          ],
          [
           "Keroro Gunsou"
          ],
          [
           "Kidou Butouden G Gundam"
          ],
          [
           "Kidou Senshi Gundam"
          ],
          [
           "Kidou Senshi Gundam 0080: Pocket no Naka no Sensou"
          ],
          [
           "Kidou Senshi Gundam 0083: Stardust Memory"
          ],
          [
           "Kidou Senshi Gundam AGE"
          ],
          [
           "Kidou Senshi Gundam I"
          ],
          [
           "Kidou Senshi Gundam II: Ai Senshi-hen"
          ],
          [
           "Kidou Senshi Gundam III: Meguriai Sora-hen"
          ],
          [
           "Kidou Senshi Gundam MS IGLOO: Mokushiroku 0079"
          ],
          [
           "Kidou Senshi Gundam SEED"
          ],
          [
           "Kidou Senshi Gundam SEED Destiny"
          ],
          [
           "Kidou Senshi Gundam Thunderbolt: Bandit Flower"
          ],
          [
           "Kidou Senshi Gundam Thunderbolt: December Sky"
          ],
          [
           "Kidou Senshi Gundam: Dai 08 MS Shoutai"
          ],
          [
           "Kidou Senshi Gundam: Dai 08 MS Shoutai - Miller's Report"
          ],
          [
           "Kidou Senshi Gundam: Hikaru Inochi Chronicle U.C."
          ],
          [
           "Kidou Senshi Gundam: Senkou no Hathaway"
          ],
          [
           "Kidou Senshi Gundam: Suisei no Majo Season 2"
          ],
          [
           "Kidou Senshi Gundam: Tekketsu no Orphans"
          ],
          [
           "Kidou Senshi Victory Gundam"
          ],
          [
           "Kidou Senshi Zeta Gundam"
          ],
          [
           "Kidou Shinseiki Gundam X"
          ],
          [
           "Kikou Senki Dragonar"
          ],
          [
           "Kyoukaisenjou no Horizon"
          ],
          [
           "Love Live! Nijigasaki Gakuen School Idol Doukoukai"
          ],
          [
           "Love Live! School Idol Project Recap"
          ],
          [
           "Love Live! Sunshine!!"
          ],
          [
           "Love Live! Sunshine!! Recap"
          ],
          [
           "Love Live! Sunshine!! The School Idol Movie: Over the Rainbow"
          ],
          [
           "Love Live! Superstar!!"
          ],
          [
           "Mai-HiME Specials"
          ],
          [
           "Mai-Otome 0: S.ifr"
          ],
          [
           "Mai-Otome Specials"
          ],
          [
           "Mashin Eiyuuden Wataru"
          ],
          [
           "Mugen no Ryvius"
          ],
          [
           "Nami yo Kiitekure"
          ],
          [
           "Nerawareta Gakuen"
          ],
          [
           "Nijiyon Animation"
          ],
          [
           "Norageki!"
          ],
          [
           "Nyani ga Nyandaa Nyandaa Kamen"
          ],
          [
           "Onmyou Taisenki"
          ],
          [
           "Overman King Gainer"
          ],
          [
           "Phi Brain: Kami no Puzzle"
          ],
          [
           "Planetes"
          ],
          [
           "Sacred Seven"
          ],
          [
           "Scarlet Nexus"
          ],
          [
           "Seihou Bukyou Outlaw Star Pilot"
          ],
          [
           "Seihou Bukyou Outlaw Star Specials"
          ],
          [
           "Seikai no Monshou"
          ],
          [
           "Seikai no Senki"
          ],
          [
           "Seisenshi Dunbine"
          ],
          [
           "Seisenshi Dunbine OVA"
          ],
          [
           "Seraphim Call"
          ],
          [
           "Shin Kidou Senki Gundam Wing"
          ],
          [
           "Shin Kidou Senki Gundam Wing: Endless Waltz Special"
          ],
          [
           "Shutsugeki! Machine Robo Rescue"
          ],
          [
           "Sora wo Kakeru Shoujo"
          ],
          [
           "Soukou Kihei Votoms: Genei-hen"
          ],
          [
           "Soukou Kihei Votoms: Kakuyaku taru Itan"
          ],
          [
           "Soukou Kihei Votoms: Koei Futatabi"
          ],
          [
           "Steamboy"
          ],
          [
           "Tales of the Abyss"
          ],
          [
           "Tenkuu no Escaflowne"
          ],
          [
           "The☆Ultraman"
          ],
          [
           "Tiger & Bunny"
          ],
          [
           "Tiger & Bunny Movie 1: The Beginning"
          ],
          [
           "Tiger & Bunny Movie 2: The Rising"
          ],
          [
           "Turn A Gundam"
          ],
          [
           "Uchuu no Senshi"
          ],
          [
           "Wanpaku Oomukashi Kum Kum"
          ],
          [
           "Witch Hunter Robin"
          ],
          [
           "Xabungle Graffiti"
          ],
          [
           "Yoroiden Samurai Troopers"
          ],
          [
           "Yuusha Raideen"
          ],
          [
           "Yuusha-Ou GaoGaiGar"
          ],
          [
           "Zero Tester"
          ],
          [
           "Zone of the Enders: Dolores, I"
          ],
          [
           "s.CRY.ed"
          ]
         ],
         "hovertemplate": "<b>Name:</b> %{customdata[0]}<br><b>Favorites:</b> %{y}",
         "legendgroup": "Sunrise",
         "marker": {
          "color": "#EF553B"
         },
         "name": "Sunrise",
         "notched": false,
         "offsetgroup": "Sunrise",
         "orientation": "v",
         "showlegend": true,
         "type": "box",
         "x": [
          "Sunrise",
          "Sunrise",
          "Sunrise",
          "Sunrise",
          "Sunrise",
          "Sunrise",
          "Sunrise",
          "Sunrise",
          "Sunrise",
          "Sunrise",
          "Sunrise",
          "Sunrise",
          "Sunrise",
          "Sunrise",
          "Sunrise",
          "Sunrise",
          "Sunrise",
          "Sunrise",
          "Sunrise",
          "Sunrise",
          "Sunrise",
          "Sunrise",
          "Sunrise",
          "Sunrise",
          "Sunrise",
          "Sunrise",
          "Sunrise",
          "Sunrise",
          "Sunrise",
          "Sunrise",
          "Sunrise",
          "Sunrise",
          "Sunrise",
          "Sunrise",
          "Sunrise",
          "Sunrise",
          "Sunrise",
          "Sunrise",
          "Sunrise",
          "Sunrise",
          "Sunrise",
          "Sunrise",
          "Sunrise",
          "Sunrise",
          "Sunrise",
          "Sunrise",
          "Sunrise",
          "Sunrise",
          "Sunrise",
          "Sunrise",
          "Sunrise",
          "Sunrise",
          "Sunrise",
          "Sunrise",
          "Sunrise",
          "Sunrise",
          "Sunrise",
          "Sunrise",
          "Sunrise",
          "Sunrise",
          "Sunrise",
          "Sunrise",
          "Sunrise",
          "Sunrise",
          "Sunrise",
          "Sunrise",
          "Sunrise",
          "Sunrise",
          "Sunrise",
          "Sunrise",
          "Sunrise",
          "Sunrise",
          "Sunrise",
          "Sunrise",
          "Sunrise",
          "Sunrise",
          "Sunrise",
          "Sunrise",
          "Sunrise",
          "Sunrise",
          "Sunrise",
          "Sunrise",
          "Sunrise",
          "Sunrise",
          "Sunrise",
          "Sunrise",
          "Sunrise",
          "Sunrise",
          "Sunrise",
          "Sunrise",
          "Sunrise",
          "Sunrise",
          "Sunrise",
          "Sunrise",
          "Sunrise",
          "Sunrise",
          "Sunrise",
          "Sunrise",
          "Sunrise",
          "Sunrise",
          "Sunrise",
          "Sunrise",
          "Sunrise",
          "Sunrise",
          "Sunrise",
          "Sunrise",
          "Sunrise",
          "Sunrise",
          "Sunrise",
          "Sunrise",
          "Sunrise",
          "Sunrise",
          "Sunrise",
          "Sunrise",
          "Sunrise",
          "Sunrise",
          "Sunrise",
          "Sunrise",
          "Sunrise",
          "Sunrise",
          "Sunrise",
          "Sunrise",
          "Sunrise",
          "Sunrise",
          "Sunrise",
          "Sunrise",
          "Sunrise",
          "Sunrise",
          "Sunrise",
          "Sunrise",
          "Sunrise",
          "Sunrise",
          "Sunrise",
          "Sunrise",
          "Sunrise",
          "Sunrise",
          "Sunrise",
          "Sunrise",
          "Sunrise",
          "Sunrise",
          "Sunrise",
          "Sunrise",
          "Sunrise",
          "Sunrise",
          "Sunrise",
          "Sunrise",
          "Sunrise",
          "Sunrise",
          "Sunrise",
          "Sunrise",
          "Sunrise",
          "Sunrise",
          "Sunrise",
          "Sunrise",
          "Sunrise",
          "Sunrise",
          "Sunrise",
          "Sunrise",
          "Sunrise",
          "Sunrise",
          "Sunrise",
          "Sunrise",
          "Sunrise",
          "Sunrise",
          "Sunrise",
          "Sunrise",
          "Sunrise",
          "Sunrise",
          "Sunrise",
          "Sunrise",
          "Sunrise",
          "Sunrise",
          "Sunrise",
          "Sunrise",
          "Sunrise",
          "Sunrise",
          "Sunrise",
          "Sunrise",
          "Sunrise",
          "Sunrise",
          "Sunrise",
          "Sunrise",
          "Sunrise",
          "Sunrise",
          "Sunrise",
          "Sunrise",
          "Sunrise",
          "Sunrise",
          "Sunrise",
          "Sunrise",
          "Sunrise",
          "Sunrise",
          "Sunrise",
          "Sunrise",
          "Sunrise",
          "Sunrise",
          "Sunrise",
          "Sunrise",
          "Sunrise",
          "Sunrise",
          "Sunrise",
          "Sunrise",
          "Sunrise",
          "Sunrise",
          "Sunrise",
          "Sunrise",
          "Sunrise",
          "Sunrise",
          "Sunrise",
          "Sunrise",
          "Sunrise",
          "Sunrise",
          "Sunrise",
          "Sunrise",
          "Sunrise",
          "Sunrise",
          "Sunrise",
          "Sunrise",
          "Sunrise",
          "Sunrise",
          "Sunrise",
          "Sunrise",
          "Sunrise",
          "Sunrise",
          "Sunrise",
          "Sunrise",
          "Sunrise",
          "Sunrise",
          "Sunrise",
          "Sunrise",
          "Sunrise",
          "Sunrise",
          "Sunrise",
          "Sunrise",
          "Sunrise",
          "Sunrise",
          "Sunrise",
          "Sunrise",
          "Sunrise",
          "Sunrise",
          "Sunrise",
          "Sunrise",
          "Sunrise",
          "Sunrise",
          "Sunrise",
          "Sunrise",
          "Sunrise",
          "Sunrise",
          "Sunrise",
          "Sunrise",
          "Sunrise",
          "Sunrise",
          "Sunrise",
          "Sunrise",
          "Sunrise",
          "Sunrise",
          "Sunrise",
          "Sunrise",
          "Sunrise",
          "Sunrise",
          "Sunrise",
          "Sunrise",
          "Sunrise",
          "Sunrise",
          "Sunrise",
          "Sunrise",
          "Sunrise",
          "Sunrise",
          "Sunrise",
          "Sunrise",
          "Sunrise",
          "Sunrise",
          "Sunrise",
          "Sunrise",
          "Sunrise",
          "Sunrise",
          "Sunrise",
          "Sunrise",
          "Sunrise",
          "Sunrise",
          "Sunrise",
          "Sunrise",
          "Sunrise",
          "Sunrise",
          "Sunrise",
          "Sunrise",
          "Sunrise",
          "Sunrise",
          "Sunrise",
          "Sunrise",
          "Sunrise",
          "Sunrise",
          "Sunrise",
          "Sunrise",
          "Sunrise",
          "Sunrise",
          "Sunrise",
          "Sunrise",
          "Sunrise",
          "Sunrise",
          "Sunrise",
          "Sunrise",
          "Sunrise",
          "Sunrise",
          "Sunrise",
          "Sunrise",
          "Sunrise",
          "Sunrise",
          "Sunrise",
          "Sunrise",
          "Sunrise",
          "Sunrise",
          "Sunrise",
          "Sunrise",
          "Sunrise",
          "Sunrise",
          "Sunrise",
          "Sunrise",
          "Sunrise",
          "Sunrise",
          "Sunrise",
          "Sunrise",
          "Sunrise",
          "Sunrise",
          "Sunrise",
          "Sunrise",
          "Sunrise",
          "Sunrise",
          "Sunrise",
          "Sunrise",
          "Sunrise",
          "Sunrise",
          "Sunrise",
          "Sunrise",
          "Sunrise",
          "Sunrise",
          "Sunrise",
          "Sunrise",
          "Sunrise"
         ],
         "x0": " ",
         "xaxis": "x",
         "y": [
          414,
          43,
          56,
          174,
          13,
          41,
          6,
          5,
          35,
          8,
          3,
          171,
          61,
          1,
          28,
          30,
          6,
          6,
          8,
          18,
          64,
          12,
          22,
          0,
          14,
          0,
          2,
          15,
          39,
          12,
          1,
          10,
          14,
          12,
          13,
          1365,
          2,
          1,
          1,
          3,
          1,
          53,
          1,
          3,
          331,
          14,
          0,
          227,
          82,
          4,
          4,
          8,
          26,
          1,
          6,
          0,
          3,
          0,
          1,
          3,
          18,
          1,
          52,
          0,
          3,
          836,
          4,
          4,
          3,
          6,
          1,
          5,
          42,
          0,
          0,
          97,
          7,
          102,
          2967,
          3,
          5,
          0,
          199,
          2748,
          3,
          2,
          2,
          108,
          44,
          37,
          2,
          1,
          0,
          0,
          1,
          27,
          0,
          0,
          1,
          0,
          0,
          70,
          381,
          0,
          1574,
          21,
          213,
          23,
          1121,
          9,
          16,
          51,
          3,
          26,
          5,
          1,
          2,
          18,
          26,
          1,
          2,
          0,
          428,
          5,
          320,
          26,
          15,
          19,
          31,
          5,
          10,
          222,
          966,
          2,
          75,
          97,
          58,
          78525,
          1650,
          13873,
          1,
          2,
          3,
          51,
          6,
          24,
          18,
          1,
          17881,
          252,
          2112,
          17,
          0,
          676,
          4409,
          82,
          14,
          36,
          1554,
          178,
          24,
          422,
          1117,
          102,
          7,
          1,
          117,
          1,
          6,
          7955,
          1199,
          1146,
          303,
          3,
          2,
          9,
          3,
          2093,
          6,
          117,
          176,
          0,
          365,
          0,
          903,
          4,
          897,
          9,
          163,
          13,
          3882,
          82,
          130,
          9,
          77,
          1200,
          31,
          143,
          14,
          5,
          70,
          61,
          155,
          6,
          8,
          8,
          5,
          89,
          13,
          563,
          1980,
          105379,
          28,
          39,
          187,
          107,
          147,
          74578,
          28,
          96,
          10,
          1,
          184,
          0,
          117,
          198,
          17,
          200,
          22,
          36,
          94,
          45,
          62,
          11,
          12,
          15,
          15,
          1,
          16,
          58,
          27,
          57678,
          597,
          2091,
          7765,
          636,
          1,
          114,
          5,
          86,
          3,
          620,
          3,
          7,
          157,
          208,
          72,
          149,
          588,
          26,
          1151,
          978,
          2140,
          966,
          251,
          60,
          77,
          42,
          141,
          8,
          3435,
          1063,
          30,
          176,
          1064,
          3,
          0,
          267,
          315,
          3099,
          136,
          2117,
          199,
          13,
          830,
          1081,
          13,
          2954,
          8,
          289,
          1093,
          15,
          28,
          3,
          14,
          321,
          191,
          191,
          41,
          3,
          5,
          31,
          42,
          227,
          3836,
          79,
          494,
          12,
          3,
          451,
          274,
          43,
          0,
          14,
          2334,
          187,
          12,
          50,
          1,
          6,
          1,
          148,
          542,
          2069,
          9,
          2972,
          19,
          51,
          965,
          12,
          0,
          613,
          0,
          165,
          7,
          336,
          2,
          34,
          660
         ],
         "y0": " ",
         "yaxis": "y"
        },
        {
         "alignmentgroup": "True",
         "customdata": [
          [
           "Ghiblies"
          ],
          [
           "Iblard Jikan"
          ],
          [
           "Ghibli ga Ippai Special Short Short"
          ],
          [
           "Yomiuri Shimbun"
          ],
          [
           "Nisshin Seifun Group CM"
          ],
          [
           "Choujuu Giga"
          ],
          [
           "Aya to Majo"
          ],
          [
           "Ged Senki"
          ],
          [
           "Heisei Tanuki Gassen Ponpoko"
          ],
          [
           "Howl no Ugoku Shiro"
          ],
          [
           "Majo no Takkyuubin"
          ],
          [
           "Mizugumo Monmon"
          ],
          [
           "Omoide no Marnie"
          ],
          [
           "Takara-sagashi"
          ],
          [
           "Tenkuu no Shiro Laputa"
          ],
          [
           "Tonari no Totoro"
          ],
          [
           "Tonari no Yamada-kun"
          ],
          [
           "Umi ga Kikoeru"
          ],
          [
           "Zen: Grogu to Makkuro Kurosuke"
          ],
          [
           "Chuuzumou"
          ],
          [
           "Coquelicot-zaka kara"
          ],
          [
           "Gake no Ue no Ponyo"
          ],
          [
           "Hoshi wo Katta Hi"
          ],
          [
           "Hotaru no Haka"
          ],
          [
           "Kaguya-hime no Monogatari"
          ],
          [
           "Karigurashi no Arrietty"
          ],
          [
           "Kaze Tachinu"
          ],
          [
           "Kemushi no Boro"
          ],
          [
           "Kimitachi wa Dou Ikiru ka"
          ],
          [
           "Koro no Dai Sanpo"
          ],
          [
           "Kujiratori"
          ],
          [
           "Kurenai no Buta"
          ],
          [
           "Kuusou no Soratobu Kikai-tachi"
          ],
          [
           "Mei to Koneko Bus"
          ],
          [
           "Mimi wo Sumaseba"
          ],
          [
           "Mononoke Hime"
          ],
          [
           "Nandarou"
          ],
          [
           "Neko no Ongaeshi"
          ],
          [
           "Omoide Poroporo"
          ],
          [
           "Pandane to Tamago-hime"
          ],
          [
           "Sen to Chihiro no Kamikakushi"
          ],
          [
           "Sora Iro no Tane"
          ],
          [
           "Taneyamagahara no Yoru"
          ],
          [
           "Yadosagashi"
          ]
         ],
         "hovertemplate": "<b>Name:</b> %{customdata[0]}<br><b>Favorites:</b> %{y}",
         "legendgroup": "Studio Ghibli",
         "marker": {
          "color": "#00cc96"
         },
         "name": "Studio Ghibli",
         "notched": false,
         "offsetgroup": "Studio Ghibli",
         "orientation": "v",
         "showlegend": true,
         "type": "box",
         "x": [
          "Studio Ghibli",
          "Studio Ghibli",
          "Studio Ghibli",
          "Studio Ghibli",
          "Studio Ghibli",
          "Studio Ghibli",
          "Studio Ghibli",
          "Studio Ghibli",
          "Studio Ghibli",
          "Studio Ghibli",
          "Studio Ghibli",
          "Studio Ghibli",
          "Studio Ghibli",
          "Studio Ghibli",
          "Studio Ghibli",
          "Studio Ghibli",
          "Studio Ghibli",
          "Studio Ghibli",
          "Studio Ghibli",
          "Studio Ghibli",
          "Studio Ghibli",
          "Studio Ghibli",
          "Studio Ghibli",
          "Studio Ghibli",
          "Studio Ghibli",
          "Studio Ghibli",
          "Studio Ghibli",
          "Studio Ghibli",
          "Studio Ghibli",
          "Studio Ghibli",
          "Studio Ghibli",
          "Studio Ghibli",
          "Studio Ghibli",
          "Studio Ghibli",
          "Studio Ghibli",
          "Studio Ghibli",
          "Studio Ghibli",
          "Studio Ghibli",
          "Studio Ghibli",
          "Studio Ghibli",
          "Studio Ghibli",
          "Studio Ghibli",
          "Studio Ghibli",
          "Studio Ghibli"
         ],
         "x0": " ",
         "xaxis": "x",
         "y": [
          5,
          37,
          1,
          0,
          2,
          1,
          20,
          269,
          298,
          26858,
          5357,
          4,
          2473,
          0,
          4017,
          7978,
          103,
          494,
          16,
          3,
          1119,
          3766,
          5,
          7606,
          2420,
          1112,
          3078,
          3,
          8,
          1,
          1,
          1938,
          1,
          24,
          4664,
          20632,
          0,
          1415,
          1117,
          5,
          31139,
          0,
          3,
          0
         ],
         "y0": " ",
         "yaxis": "y"
        },
        {
         "alignmentgroup": "True",
         "customdata": [
          [
           "Neon Genesis Evangelion: Death & Rebirth"
          ],
          [
           "FLCL"
          ],
          [
           "Neon Genesis Evangelion: The End of Evangelion"
          ]
         ],
         "hovertemplate": "<b>Name:</b> %{customdata[0]}<br><b>Favorites:</b> %{y}",
         "legendgroup": "Gainax, Production I.G",
         "marker": {
          "color": "#ab63fa"
         },
         "name": "Gainax, Production I.G",
         "notched": false,
         "offsetgroup": "Gainax, Production I.G",
         "orientation": "v",
         "showlegend": true,
         "type": "box",
         "x": [
          "Gainax, Production I.G",
          "Gainax, Production I.G",
          "Gainax, Production I.G"
         ],
         "x0": " ",
         "xaxis": "x",
         "y": [
          687,
          28986,
          27272
         ],
         "y0": " ",
         "yaxis": "y"
        }
       ],
       "layout": {
        "boxmode": "overlay",
        "legend": {
         "title": {
          "text": "Studios"
         },
         "tracegroupgap": 0
        },
        "template": {
         "data": {
          "bar": [
           {
            "error_x": {
             "color": "#2a3f5f"
            },
            "error_y": {
             "color": "#2a3f5f"
            },
            "marker": {
             "line": {
              "color": "#E5ECF6",
              "width": 0.5
             },
             "pattern": {
              "fillmode": "overlay",
              "size": 10,
              "solidity": 0.2
             }
            },
            "type": "bar"
           }
          ],
          "barpolar": [
           {
            "marker": {
             "line": {
              "color": "#E5ECF6",
              "width": 0.5
             },
             "pattern": {
              "fillmode": "overlay",
              "size": 10,
              "solidity": 0.2
             }
            },
            "type": "barpolar"
           }
          ],
          "carpet": [
           {
            "aaxis": {
             "endlinecolor": "#2a3f5f",
             "gridcolor": "white",
             "linecolor": "white",
             "minorgridcolor": "white",
             "startlinecolor": "#2a3f5f"
            },
            "baxis": {
             "endlinecolor": "#2a3f5f",
             "gridcolor": "white",
             "linecolor": "white",
             "minorgridcolor": "white",
             "startlinecolor": "#2a3f5f"
            },
            "type": "carpet"
           }
          ],
          "choropleth": [
           {
            "colorbar": {
             "outlinewidth": 0,
             "ticks": ""
            },
            "type": "choropleth"
           }
          ],
          "contour": [
           {
            "colorbar": {
             "outlinewidth": 0,
             "ticks": ""
            },
            "colorscale": [
             [
              0,
              "#0d0887"
             ],
             [
              0.1111111111111111,
              "#46039f"
             ],
             [
              0.2222222222222222,
              "#7201a8"
             ],
             [
              0.3333333333333333,
              "#9c179e"
             ],
             [
              0.4444444444444444,
              "#bd3786"
             ],
             [
              0.5555555555555556,
              "#d8576b"
             ],
             [
              0.6666666666666666,
              "#ed7953"
             ],
             [
              0.7777777777777778,
              "#fb9f3a"
             ],
             [
              0.8888888888888888,
              "#fdca26"
             ],
             [
              1,
              "#f0f921"
             ]
            ],
            "type": "contour"
           }
          ],
          "contourcarpet": [
           {
            "colorbar": {
             "outlinewidth": 0,
             "ticks": ""
            },
            "type": "contourcarpet"
           }
          ],
          "heatmap": [
           {
            "colorbar": {
             "outlinewidth": 0,
             "ticks": ""
            },
            "colorscale": [
             [
              0,
              "#0d0887"
             ],
             [
              0.1111111111111111,
              "#46039f"
             ],
             [
              0.2222222222222222,
              "#7201a8"
             ],
             [
              0.3333333333333333,
              "#9c179e"
             ],
             [
              0.4444444444444444,
              "#bd3786"
             ],
             [
              0.5555555555555556,
              "#d8576b"
             ],
             [
              0.6666666666666666,
              "#ed7953"
             ],
             [
              0.7777777777777778,
              "#fb9f3a"
             ],
             [
              0.8888888888888888,
              "#fdca26"
             ],
             [
              1,
              "#f0f921"
             ]
            ],
            "type": "heatmap"
           }
          ],
          "heatmapgl": [
           {
            "colorbar": {
             "outlinewidth": 0,
             "ticks": ""
            },
            "colorscale": [
             [
              0,
              "#0d0887"
             ],
             [
              0.1111111111111111,
              "#46039f"
             ],
             [
              0.2222222222222222,
              "#7201a8"
             ],
             [
              0.3333333333333333,
              "#9c179e"
             ],
             [
              0.4444444444444444,
              "#bd3786"
             ],
             [
              0.5555555555555556,
              "#d8576b"
             ],
             [
              0.6666666666666666,
              "#ed7953"
             ],
             [
              0.7777777777777778,
              "#fb9f3a"
             ],
             [
              0.8888888888888888,
              "#fdca26"
             ],
             [
              1,
              "#f0f921"
             ]
            ],
            "type": "heatmapgl"
           }
          ],
          "histogram": [
           {
            "marker": {
             "pattern": {
              "fillmode": "overlay",
              "size": 10,
              "solidity": 0.2
             }
            },
            "type": "histogram"
           }
          ],
          "histogram2d": [
           {
            "colorbar": {
             "outlinewidth": 0,
             "ticks": ""
            },
            "colorscale": [
             [
              0,
              "#0d0887"
             ],
             [
              0.1111111111111111,
              "#46039f"
             ],
             [
              0.2222222222222222,
              "#7201a8"
             ],
             [
              0.3333333333333333,
              "#9c179e"
             ],
             [
              0.4444444444444444,
              "#bd3786"
             ],
             [
              0.5555555555555556,
              "#d8576b"
             ],
             [
              0.6666666666666666,
              "#ed7953"
             ],
             [
              0.7777777777777778,
              "#fb9f3a"
             ],
             [
              0.8888888888888888,
              "#fdca26"
             ],
             [
              1,
              "#f0f921"
             ]
            ],
            "type": "histogram2d"
           }
          ],
          "histogram2dcontour": [
           {
            "colorbar": {
             "outlinewidth": 0,
             "ticks": ""
            },
            "colorscale": [
             [
              0,
              "#0d0887"
             ],
             [
              0.1111111111111111,
              "#46039f"
             ],
             [
              0.2222222222222222,
              "#7201a8"
             ],
             [
              0.3333333333333333,
              "#9c179e"
             ],
             [
              0.4444444444444444,
              "#bd3786"
             ],
             [
              0.5555555555555556,
              "#d8576b"
             ],
             [
              0.6666666666666666,
              "#ed7953"
             ],
             [
              0.7777777777777778,
              "#fb9f3a"
             ],
             [
              0.8888888888888888,
              "#fdca26"
             ],
             [
              1,
              "#f0f921"
             ]
            ],
            "type": "histogram2dcontour"
           }
          ],
          "mesh3d": [
           {
            "colorbar": {
             "outlinewidth": 0,
             "ticks": ""
            },
            "type": "mesh3d"
           }
          ],
          "parcoords": [
           {
            "line": {
             "colorbar": {
              "outlinewidth": 0,
              "ticks": ""
             }
            },
            "type": "parcoords"
           }
          ],
          "pie": [
           {
            "automargin": true,
            "type": "pie"
           }
          ],
          "scatter": [
           {
            "fillpattern": {
             "fillmode": "overlay",
             "size": 10,
             "solidity": 0.2
            },
            "type": "scatter"
           }
          ],
          "scatter3d": [
           {
            "line": {
             "colorbar": {
              "outlinewidth": 0,
              "ticks": ""
             }
            },
            "marker": {
             "colorbar": {
              "outlinewidth": 0,
              "ticks": ""
             }
            },
            "type": "scatter3d"
           }
          ],
          "scattercarpet": [
           {
            "marker": {
             "colorbar": {
              "outlinewidth": 0,
              "ticks": ""
             }
            },
            "type": "scattercarpet"
           }
          ],
          "scattergeo": [
           {
            "marker": {
             "colorbar": {
              "outlinewidth": 0,
              "ticks": ""
             }
            },
            "type": "scattergeo"
           }
          ],
          "scattergl": [
           {
            "marker": {
             "colorbar": {
              "outlinewidth": 0,
              "ticks": ""
             }
            },
            "type": "scattergl"
           }
          ],
          "scattermapbox": [
           {
            "marker": {
             "colorbar": {
              "outlinewidth": 0,
              "ticks": ""
             }
            },
            "type": "scattermapbox"
           }
          ],
          "scatterpolar": [
           {
            "marker": {
             "colorbar": {
              "outlinewidth": 0,
              "ticks": ""
             }
            },
            "type": "scatterpolar"
           }
          ],
          "scatterpolargl": [
           {
            "marker": {
             "colorbar": {
              "outlinewidth": 0,
              "ticks": ""
             }
            },
            "type": "scatterpolargl"
           }
          ],
          "scatterternary": [
           {
            "marker": {
             "colorbar": {
              "outlinewidth": 0,
              "ticks": ""
             }
            },
            "type": "scatterternary"
           }
          ],
          "surface": [
           {
            "colorbar": {
             "outlinewidth": 0,
             "ticks": ""
            },
            "colorscale": [
             [
              0,
              "#0d0887"
             ],
             [
              0.1111111111111111,
              "#46039f"
             ],
             [
              0.2222222222222222,
              "#7201a8"
             ],
             [
              0.3333333333333333,
              "#9c179e"
             ],
             [
              0.4444444444444444,
              "#bd3786"
             ],
             [
              0.5555555555555556,
              "#d8576b"
             ],
             [
              0.6666666666666666,
              "#ed7953"
             ],
             [
              0.7777777777777778,
              "#fb9f3a"
             ],
             [
              0.8888888888888888,
              "#fdca26"
             ],
             [
              1,
              "#f0f921"
             ]
            ],
            "type": "surface"
           }
          ],
          "table": [
           {
            "cells": {
             "fill": {
              "color": "#EBF0F8"
             },
             "line": {
              "color": "white"
             }
            },
            "header": {
             "fill": {
              "color": "#C8D4E3"
             },
             "line": {
              "color": "white"
             }
            },
            "type": "table"
           }
          ]
         },
         "layout": {
          "annotationdefaults": {
           "arrowcolor": "#2a3f5f",
           "arrowhead": 0,
           "arrowwidth": 1
          },
          "autotypenumbers": "strict",
          "coloraxis": {
           "colorbar": {
            "outlinewidth": 0,
            "ticks": ""
           }
          },
          "colorscale": {
           "diverging": [
            [
             0,
             "#8e0152"
            ],
            [
             0.1,
             "#c51b7d"
            ],
            [
             0.2,
             "#de77ae"
            ],
            [
             0.3,
             "#f1b6da"
            ],
            [
             0.4,
             "#fde0ef"
            ],
            [
             0.5,
             "#f7f7f7"
            ],
            [
             0.6,
             "#e6f5d0"
            ],
            [
             0.7,
             "#b8e186"
            ],
            [
             0.8,
             "#7fbc41"
            ],
            [
             0.9,
             "#4d9221"
            ],
            [
             1,
             "#276419"
            ]
           ],
           "sequential": [
            [
             0,
             "#0d0887"
            ],
            [
             0.1111111111111111,
             "#46039f"
            ],
            [
             0.2222222222222222,
             "#7201a8"
            ],
            [
             0.3333333333333333,
             "#9c179e"
            ],
            [
             0.4444444444444444,
             "#bd3786"
            ],
            [
             0.5555555555555556,
             "#d8576b"
            ],
            [
             0.6666666666666666,
             "#ed7953"
            ],
            [
             0.7777777777777778,
             "#fb9f3a"
            ],
            [
             0.8888888888888888,
             "#fdca26"
            ],
            [
             1,
             "#f0f921"
            ]
           ],
           "sequentialminus": [
            [
             0,
             "#0d0887"
            ],
            [
             0.1111111111111111,
             "#46039f"
            ],
            [
             0.2222222222222222,
             "#7201a8"
            ],
            [
             0.3333333333333333,
             "#9c179e"
            ],
            [
             0.4444444444444444,
             "#bd3786"
            ],
            [
             0.5555555555555556,
             "#d8576b"
            ],
            [
             0.6666666666666666,
             "#ed7953"
            ],
            [
             0.7777777777777778,
             "#fb9f3a"
            ],
            [
             0.8888888888888888,
             "#fdca26"
            ],
            [
             1,
             "#f0f921"
            ]
           ]
          },
          "colorway": [
           "#636efa",
           "#EF553B",
           "#00cc96",
           "#ab63fa",
           "#FFA15A",
           "#19d3f3",
           "#FF6692",
           "#B6E880",
           "#FF97FF",
           "#FECB52"
          ],
          "font": {
           "color": "#2a3f5f"
          },
          "geo": {
           "bgcolor": "white",
           "lakecolor": "white",
           "landcolor": "#E5ECF6",
           "showlakes": true,
           "showland": true,
           "subunitcolor": "white"
          },
          "hoverlabel": {
           "align": "left"
          },
          "hovermode": "closest",
          "mapbox": {
           "style": "light"
          },
          "paper_bgcolor": "white",
          "plot_bgcolor": "#E5ECF6",
          "polar": {
           "angularaxis": {
            "gridcolor": "white",
            "linecolor": "white",
            "ticks": ""
           },
           "bgcolor": "#E5ECF6",
           "radialaxis": {
            "gridcolor": "white",
            "linecolor": "white",
            "ticks": ""
           }
          },
          "scene": {
           "xaxis": {
            "backgroundcolor": "#E5ECF6",
            "gridcolor": "white",
            "gridwidth": 2,
            "linecolor": "white",
            "showbackground": true,
            "ticks": "",
            "zerolinecolor": "white"
           },
           "yaxis": {
            "backgroundcolor": "#E5ECF6",
            "gridcolor": "white",
            "gridwidth": 2,
            "linecolor": "white",
            "showbackground": true,
            "ticks": "",
            "zerolinecolor": "white"
           },
           "zaxis": {
            "backgroundcolor": "#E5ECF6",
            "gridcolor": "white",
            "gridwidth": 2,
            "linecolor": "white",
            "showbackground": true,
            "ticks": "",
            "zerolinecolor": "white"
           }
          },
          "shapedefaults": {
           "line": {
            "color": "#2a3f5f"
           }
          },
          "ternary": {
           "aaxis": {
            "gridcolor": "white",
            "linecolor": "white",
            "ticks": ""
           },
           "baxis": {
            "gridcolor": "white",
            "linecolor": "white",
            "ticks": ""
           },
           "bgcolor": "#E5ECF6",
           "caxis": {
            "gridcolor": "white",
            "linecolor": "white",
            "ticks": ""
           }
          },
          "title": {
           "x": 0.05
          },
          "xaxis": {
           "automargin": true,
           "gridcolor": "white",
           "linecolor": "white",
           "ticks": "",
           "title": {
            "standoff": 15
           },
           "zerolinecolor": "white",
           "zerolinewidth": 2
          },
          "yaxis": {
           "automargin": true,
           "gridcolor": "white",
           "linecolor": "white",
           "ticks": "",
           "title": {
            "standoff": 15
           },
           "zerolinecolor": "white",
           "zerolinewidth": 2
          }
         }
        },
        "title": {
         "text": "Favorites to Studios Distribution"
        },
        "xaxis": {
         "anchor": "y",
         "categoryarray": [
          "Toei Animation",
          "Sunrise",
          "Studio Ghibli",
          "Gainax, Production I.G"
         ],
         "categoryorder": "array",
         "domain": [
          0,
          1
         ],
         "title": {
          "text": "Studios"
         }
        },
        "yaxis": {
         "anchor": "x",
         "domain": [
          0,
          1
         ],
         "title": {
          "text": "Favorites"
         }
        }
       }
      }
     },
     "metadata": {},
     "output_type": "display_data"
    }
   ],
   "source": [
    "# Create vertical box plot for the filtered data\n",
    "fig_box = px.box(df[df['Studios'].isin(set(list(top_studios['Studios'])))], \n",
    "                 x='Studios', \n",
    "                 y='Favorites', \n",
    "                 color='Studios', \n",
    "                 title=\"Favorites to Studios Distribution\", \n",
    "                 orientation='v',\n",
    "                 custom_data=['Name'])\n",
    "\n",
    "# Get the indices of maximum values\n",
    "max_indices = df.groupby('Studios')['Favorites'].idxmax()\n",
    "\n",
    "# Add text labels for maximum values\n",
    "fig_box.update_traces(\n",
    "    hovertemplate=\"<b>Name:</b> %{customdata[0]}<br><b>Favorites:</b> %{y}\",\n",
    "    selector=dict(type='box')\n",
    ")\n",
    "\n",
    "# Show the plot\n",
    "fig_box.show()"
   ]
  },
  {
   "cell_type": "code",
   "execution_count": 206,
   "metadata": {},
   "outputs": [
    {
     "name": "stderr",
     "output_type": "stream",
     "text": [
      "/var/folders/vz/cyjrzm0x74q21sb72nhkdfmr0000gn/T/ipykernel_63583/2930012550.py:2: SettingWithCopyWarning:\n",
      "\n",
      "\n",
      "A value is trying to be set on a copy of a slice from a DataFrame.\n",
      "Try using .loc[row_indexer,col_indexer] = value instead\n",
      "\n",
      "See the caveats in the documentation: https://pandas.pydata.org/pandas-docs/stable/user_guide/indexing.html#returning-a-view-versus-a-copy\n",
      "\n"
     ]
    }
   ],
   "source": [
    "recs_umap = recs[['Studios', 'anime_Synopsis', 'Name', 'anime_id']]\n",
    "# Initialize 'rec_label' column with empty strings\n",
    "recs_umap['rec_label'] = ''\n",
    "\n",
    "# Iterate through the lists and update the 'rec_label' column\n",
    "for rec_type, lst in [('collab_filter', joined_list), ('vector_rec', vd_recs), ('pop_rec', pop_recs)]:\n",
    "    recs_umap.loc[recs_umap['anime_id'].isin(lst), 'rec_label'] = rec_type\n",
    "new_row = {'Studios': 'user query', 'anime_Synopsis': query, 'Name': 'user query', 'anime_id': 'none', 'rec_label': 'none'}\n",
    "recs_umap = pd.concat([pd.DataFrame(new_row, index=[0]), recs_umap], ignore_index=True)"
   ]
  },
  {
   "cell_type": "code",
   "execution_count": 245,
   "metadata": {},
   "outputs": [
    {
     "data": {
      "application/vnd.plotly.v1+json": {
       "config": {
        "plotlyServerURL": "https://plot.ly"
       },
       "data": [
        {
         "customdata": [
          [
           "user query",
           "user query"
          ]
         ],
         "hovertemplate": "rec_label=none<br>UMAP_1=%{x}<br>UMAP_2=%{y}<br>Studios=%{customdata[0]}<br>Name=%{customdata[1]}<extra></extra>",
         "legendgroup": "none",
         "marker": {
          "color": "#636efa",
          "symbol": "circle"
         },
         "mode": "markers",
         "name": "none",
         "orientation": "v",
         "showlegend": true,
         "type": "scatter",
         "x": [
          2.3596988
         ],
         "xaxis": "x",
         "y": [
          8.711908
         ],
         "yaxis": "y"
        },
        {
         "customdata": [
          [
           "Bones",
           "Darker than Black: Kuro no Keiyakusha"
          ],
          [
           "Tokyo Movie Shinsha",
           "Akira"
          ],
          [
           "Sunrise",
           "Cowboy Bebop"
          ],
          [
           "Arms",
           "Elfen Lied"
          ],
          [
           "Bones",
           "Fullmetal Alchemist"
          ],
          [
           "Madhouse",
           "Hajime no Ippo"
          ],
          [
           "Studio Ghibli",
           "Howl no Ugoku Shiro"
          ],
          [
           "Toei Animation",
           "One Piece"
          ],
          [
           "Sunrise",
           "Code Geass: Hangyaku no Lelouch"
          ],
          [
           "Gainax, Production I.G",
           "FLCL"
          ]
         ],
         "hovertemplate": "rec_label=pop_rec<br>UMAP_1=%{x}<br>UMAP_2=%{y}<br>Studios=%{customdata[0]}<br>Name=%{customdata[1]}<extra></extra>",
         "legendgroup": "pop_rec",
         "marker": {
          "color": "yellow",
          "size": 12,
          "symbol": "star"
         },
         "mode": "markers",
         "name": "pop_rec",
         "orientation": "v",
         "showlegend": true,
         "type": "scatter",
         "x": [
          1.111135,
          0.98949474,
          -0.17247619,
          2.933375,
          0.5783248,
          1.5314493,
          2.9125433,
          2.5719779,
          0.5939392,
          2.3184483
         ],
         "xaxis": "x",
         "y": [
          10.192671,
          10.048342,
          9.925834,
          11.156821,
          12.876507,
          11.8528,
          10.335051,
          8.522622,
          10.455554,
          12.835822
         ],
         "yaxis": "y"
        },
        {
         "customdata": [
          [
           "Y.O.U.C",
           "Gakuen no Shuryousha"
          ],
          [
           "Himajin Planning",
           "Kisaku Spirit"
          ],
          [
           "Studio Fantasia",
           "Lingeries"
          ],
          [
           "Studio Jam",
           "Kurai Mirai"
          ],
          [
           "Piko Studio",
           "In no Houteishiki"
          ],
          [
           "Arms, Triple X",
           "Dark Shell: Ori no Naka no Namameki"
          ],
          [
           "Kyushu Network Animation",
           "Heartwork: Symphony of Destruction"
          ],
          [
           "Y.O.U.C",
           "Shokuzai no Kyoushitsu"
          ],
          [
           "Y.O.U.C",
           "Hissatsu Chikan Nin"
          ],
          [
           "UNKNOWN",
           "Skyers 5"
          ],
          [
           "Mushi Production",
           "Wanpaku Tanteidan"
          ],
          [
           "Xebec",
           "Rinne no Lagrange Season 2"
          ],
          [
           "Eiken",
           "Yuusei Kamen"
          ],
          [
           "UNKNOWN",
           "Instant History"
          ],
          [
           "Tatsunoko Production",
           "Dokachin"
          ],
          [
           "Tokyo Movie Shinsha",
           "Takarajima Movie"
          ],
          [
           "Knack Productions",
           "Shin Don Chuck Monogatari"
          ],
          [
           "UNKNOWN",
           "Dolittle-sensei Monogatari"
          ],
          [
           "STUDIO6'oN",
           "Suisei no Freyline: Prologue"
          ],
          [
           "Actas",
           "Girls & Panzer"
          ],
          [
           "AIC ASTA",
           "Jinrui wa Suitai Shimashita"
          ],
          [
           "Eshoya Honpo",
           "Requiem"
          ],
          [
           "Toei Animation",
           "Shounen Ninja Kaze no Fujimaru"
          ],
          [
           "A-1 Pictures",
           "Vividred Operation"
          ],
          [
           "Sunrise",
           "Kyoukaisenjou no Horizon"
          ],
          [
           "Gainax",
           "Medaka Box"
          ],
          [
           "Satelight",
           "Mouretsu Pirates: Abyss of Hyperspace"
          ],
          [
           "Xebec",
           "Rinne no Lagrange"
          ],
          [
           "Satelight, Encourage Films",
           "Senki Zesshou Symphogear"
          ],
          [
           "Xebec",
           "Upotte!!"
          ]
         ],
         "hovertemplate": "rec_label=collab_filter<br>UMAP_1=%{x}<br>UMAP_2=%{y}<br>Studios=%{customdata[0]}<br>Name=%{customdata[1]}<extra></extra>",
         "legendgroup": "collab_filter",
         "marker": {
          "color": "#00cc96",
          "symbol": "circle"
         },
         "mode": "markers",
         "name": "collab_filter",
         "orientation": "v",
         "showlegend": true,
         "type": "scatter",
         "x": [
          0.4595994,
          2.4349372,
          0.5871774,
          -0.113712035,
          2.8854606,
          -0.29299918,
          0.1518685,
          -0.038965236,
          0.12461238,
          -0.2647952,
          0.29473713,
          2.711494,
          0.69960433,
          1.5544094,
          2.3574696,
          1.2945768,
          2.2887886,
          1.9807233,
          3.1137767,
          0.5800295,
          2.318039,
          1.1431334,
          0.8883737,
          3.296547,
          2.2930584,
          2.963384,
          3.1305375,
          2.4896662,
          0.5374486,
          -0.01889984
         ],
         "xaxis": "x",
         "y": [
          12.524516,
          12.962019,
          11.831586,
          11.167727,
          11.946495,
          10.838557,
          9.285839,
          11.883795,
          12.245815,
          10.310052,
          10.667918,
          12.471102,
          9.955487,
          9.31524,
          9.871076,
          9.052409,
          9.067007,
          9.040504,
          10.971221,
          9.014994,
          10.100448,
          8.861061,
          10.60746,
          10.859553,
          10.526946,
          12.282663,
          11.675996,
          12.154128,
          9.264398,
          8.983436
         ],
         "yaxis": "y"
        },
        {
         "customdata": [
          [
           "Studio 9 Maiami",
           "Itazura The Animation"
          ],
          [
           "UNKNOWN",
           "One Piece Characters Log"
          ],
          [
           "TMS Entertainment",
           "Flanders no Inu, Boku no Patrasche"
          ],
          [
           "Satelight",
           "Mouretsu Pirates"
          ]
         ],
         "hovertemplate": "rec_label=vector_rec<br>UMAP_1=%{x}<br>UMAP_2=%{y}<br>Studios=%{customdata[0]}<br>Name=%{customdata[1]}<extra></extra>",
         "legendgroup": "vector_rec",
         "marker": {
          "color": "#ab63fa",
          "symbol": "circle"
         },
         "mode": "markers",
         "name": "vector_rec",
         "orientation": "v",
         "showlegend": true,
         "type": "scatter",
         "x": [
          0.70544374,
          2.3998163,
          0.36661997,
          3.3607726
         ],
         "xaxis": "x",
         "y": [
          12.061017,
          8.478827,
          12.681614,
          11.313499
         ],
         "yaxis": "y"
        },
        {
         "marker": {
          "color": "red",
          "size": 10,
          "symbol": "x"
         },
         "mode": "markers",
         "name": "rec 1",
         "showlegend": true,
         "type": "scatter",
         "x": [
          2.3998162746429443
         ],
         "y": [
          8.478827476501465
         ]
        },
        {
         "marker": {
          "color": "red",
          "size": 10,
          "symbol": "x"
         },
         "mode": "markers",
         "name": "rec 2",
         "showlegend": true,
         "type": "scatter",
         "x": [
          2.5719778537750244
         ],
         "y": [
          8.522622108459473
         ]
        },
        {
         "marker": {
          "color": "red",
          "size": 10,
          "symbol": "x"
         },
         "mode": "markers",
         "name": "rec 3",
         "showlegend": true,
         "type": "scatter",
         "x": [
          2.2887885570526123
         ],
         "y": [
          9.067007064819336
         ]
        }
       ],
       "layout": {
        "annotations": [
         {
          "font": {
           "color": "gold",
           "size": 16
          },
          "showarrow": false,
          "text": "X",
          "x": 2.35969877243042,
          "y": 8.711908340454102
         }
        ],
        "legend": {
         "title": {
          "text": "rec_label"
         },
         "tracegroupgap": 0
        },
        "plot_bgcolor": "rgba(255, 255, 255, 0)",
        "template": {
         "data": {
          "bar": [
           {
            "error_x": {
             "color": "#2a3f5f"
            },
            "error_y": {
             "color": "#2a3f5f"
            },
            "marker": {
             "line": {
              "color": "#E5ECF6",
              "width": 0.5
             },
             "pattern": {
              "fillmode": "overlay",
              "size": 10,
              "solidity": 0.2
             }
            },
            "type": "bar"
           }
          ],
          "barpolar": [
           {
            "marker": {
             "line": {
              "color": "#E5ECF6",
              "width": 0.5
             },
             "pattern": {
              "fillmode": "overlay",
              "size": 10,
              "solidity": 0.2
             }
            },
            "type": "barpolar"
           }
          ],
          "carpet": [
           {
            "aaxis": {
             "endlinecolor": "#2a3f5f",
             "gridcolor": "white",
             "linecolor": "white",
             "minorgridcolor": "white",
             "startlinecolor": "#2a3f5f"
            },
            "baxis": {
             "endlinecolor": "#2a3f5f",
             "gridcolor": "white",
             "linecolor": "white",
             "minorgridcolor": "white",
             "startlinecolor": "#2a3f5f"
            },
            "type": "carpet"
           }
          ],
          "choropleth": [
           {
            "colorbar": {
             "outlinewidth": 0,
             "ticks": ""
            },
            "type": "choropleth"
           }
          ],
          "contour": [
           {
            "colorbar": {
             "outlinewidth": 0,
             "ticks": ""
            },
            "colorscale": [
             [
              0,
              "#0d0887"
             ],
             [
              0.1111111111111111,
              "#46039f"
             ],
             [
              0.2222222222222222,
              "#7201a8"
             ],
             [
              0.3333333333333333,
              "#9c179e"
             ],
             [
              0.4444444444444444,
              "#bd3786"
             ],
             [
              0.5555555555555556,
              "#d8576b"
             ],
             [
              0.6666666666666666,
              "#ed7953"
             ],
             [
              0.7777777777777778,
              "#fb9f3a"
             ],
             [
              0.8888888888888888,
              "#fdca26"
             ],
             [
              1,
              "#f0f921"
             ]
            ],
            "type": "contour"
           }
          ],
          "contourcarpet": [
           {
            "colorbar": {
             "outlinewidth": 0,
             "ticks": ""
            },
            "type": "contourcarpet"
           }
          ],
          "heatmap": [
           {
            "colorbar": {
             "outlinewidth": 0,
             "ticks": ""
            },
            "colorscale": [
             [
              0,
              "#0d0887"
             ],
             [
              0.1111111111111111,
              "#46039f"
             ],
             [
              0.2222222222222222,
              "#7201a8"
             ],
             [
              0.3333333333333333,
              "#9c179e"
             ],
             [
              0.4444444444444444,
              "#bd3786"
             ],
             [
              0.5555555555555556,
              "#d8576b"
             ],
             [
              0.6666666666666666,
              "#ed7953"
             ],
             [
              0.7777777777777778,
              "#fb9f3a"
             ],
             [
              0.8888888888888888,
              "#fdca26"
             ],
             [
              1,
              "#f0f921"
             ]
            ],
            "type": "heatmap"
           }
          ],
          "heatmapgl": [
           {
            "colorbar": {
             "outlinewidth": 0,
             "ticks": ""
            },
            "colorscale": [
             [
              0,
              "#0d0887"
             ],
             [
              0.1111111111111111,
              "#46039f"
             ],
             [
              0.2222222222222222,
              "#7201a8"
             ],
             [
              0.3333333333333333,
              "#9c179e"
             ],
             [
              0.4444444444444444,
              "#bd3786"
             ],
             [
              0.5555555555555556,
              "#d8576b"
             ],
             [
              0.6666666666666666,
              "#ed7953"
             ],
             [
              0.7777777777777778,
              "#fb9f3a"
             ],
             [
              0.8888888888888888,
              "#fdca26"
             ],
             [
              1,
              "#f0f921"
             ]
            ],
            "type": "heatmapgl"
           }
          ],
          "histogram": [
           {
            "marker": {
             "pattern": {
              "fillmode": "overlay",
              "size": 10,
              "solidity": 0.2
             }
            },
            "type": "histogram"
           }
          ],
          "histogram2d": [
           {
            "colorbar": {
             "outlinewidth": 0,
             "ticks": ""
            },
            "colorscale": [
             [
              0,
              "#0d0887"
             ],
             [
              0.1111111111111111,
              "#46039f"
             ],
             [
              0.2222222222222222,
              "#7201a8"
             ],
             [
              0.3333333333333333,
              "#9c179e"
             ],
             [
              0.4444444444444444,
              "#bd3786"
             ],
             [
              0.5555555555555556,
              "#d8576b"
             ],
             [
              0.6666666666666666,
              "#ed7953"
             ],
             [
              0.7777777777777778,
              "#fb9f3a"
             ],
             [
              0.8888888888888888,
              "#fdca26"
             ],
             [
              1,
              "#f0f921"
             ]
            ],
            "type": "histogram2d"
           }
          ],
          "histogram2dcontour": [
           {
            "colorbar": {
             "outlinewidth": 0,
             "ticks": ""
            },
            "colorscale": [
             [
              0,
              "#0d0887"
             ],
             [
              0.1111111111111111,
              "#46039f"
             ],
             [
              0.2222222222222222,
              "#7201a8"
             ],
             [
              0.3333333333333333,
              "#9c179e"
             ],
             [
              0.4444444444444444,
              "#bd3786"
             ],
             [
              0.5555555555555556,
              "#d8576b"
             ],
             [
              0.6666666666666666,
              "#ed7953"
             ],
             [
              0.7777777777777778,
              "#fb9f3a"
             ],
             [
              0.8888888888888888,
              "#fdca26"
             ],
             [
              1,
              "#f0f921"
             ]
            ],
            "type": "histogram2dcontour"
           }
          ],
          "mesh3d": [
           {
            "colorbar": {
             "outlinewidth": 0,
             "ticks": ""
            },
            "type": "mesh3d"
           }
          ],
          "parcoords": [
           {
            "line": {
             "colorbar": {
              "outlinewidth": 0,
              "ticks": ""
             }
            },
            "type": "parcoords"
           }
          ],
          "pie": [
           {
            "automargin": true,
            "type": "pie"
           }
          ],
          "scatter": [
           {
            "fillpattern": {
             "fillmode": "overlay",
             "size": 10,
             "solidity": 0.2
            },
            "type": "scatter"
           }
          ],
          "scatter3d": [
           {
            "line": {
             "colorbar": {
              "outlinewidth": 0,
              "ticks": ""
             }
            },
            "marker": {
             "colorbar": {
              "outlinewidth": 0,
              "ticks": ""
             }
            },
            "type": "scatter3d"
           }
          ],
          "scattercarpet": [
           {
            "marker": {
             "colorbar": {
              "outlinewidth": 0,
              "ticks": ""
             }
            },
            "type": "scattercarpet"
           }
          ],
          "scattergeo": [
           {
            "marker": {
             "colorbar": {
              "outlinewidth": 0,
              "ticks": ""
             }
            },
            "type": "scattergeo"
           }
          ],
          "scattergl": [
           {
            "marker": {
             "colorbar": {
              "outlinewidth": 0,
              "ticks": ""
             }
            },
            "type": "scattergl"
           }
          ],
          "scattermapbox": [
           {
            "marker": {
             "colorbar": {
              "outlinewidth": 0,
              "ticks": ""
             }
            },
            "type": "scattermapbox"
           }
          ],
          "scatterpolar": [
           {
            "marker": {
             "colorbar": {
              "outlinewidth": 0,
              "ticks": ""
             }
            },
            "type": "scatterpolar"
           }
          ],
          "scatterpolargl": [
           {
            "marker": {
             "colorbar": {
              "outlinewidth": 0,
              "ticks": ""
             }
            },
            "type": "scatterpolargl"
           }
          ],
          "scatterternary": [
           {
            "marker": {
             "colorbar": {
              "outlinewidth": 0,
              "ticks": ""
             }
            },
            "type": "scatterternary"
           }
          ],
          "surface": [
           {
            "colorbar": {
             "outlinewidth": 0,
             "ticks": ""
            },
            "colorscale": [
             [
              0,
              "#0d0887"
             ],
             [
              0.1111111111111111,
              "#46039f"
             ],
             [
              0.2222222222222222,
              "#7201a8"
             ],
             [
              0.3333333333333333,
              "#9c179e"
             ],
             [
              0.4444444444444444,
              "#bd3786"
             ],
             [
              0.5555555555555556,
              "#d8576b"
             ],
             [
              0.6666666666666666,
              "#ed7953"
             ],
             [
              0.7777777777777778,
              "#fb9f3a"
             ],
             [
              0.8888888888888888,
              "#fdca26"
             ],
             [
              1,
              "#f0f921"
             ]
            ],
            "type": "surface"
           }
          ],
          "table": [
           {
            "cells": {
             "fill": {
              "color": "#EBF0F8"
             },
             "line": {
              "color": "white"
             }
            },
            "header": {
             "fill": {
              "color": "#C8D4E3"
             },
             "line": {
              "color": "white"
             }
            },
            "type": "table"
           }
          ]
         },
         "layout": {
          "annotationdefaults": {
           "arrowcolor": "#2a3f5f",
           "arrowhead": 0,
           "arrowwidth": 1
          },
          "autotypenumbers": "strict",
          "coloraxis": {
           "colorbar": {
            "outlinewidth": 0,
            "ticks": ""
           }
          },
          "colorscale": {
           "diverging": [
            [
             0,
             "#8e0152"
            ],
            [
             0.1,
             "#c51b7d"
            ],
            [
             0.2,
             "#de77ae"
            ],
            [
             0.3,
             "#f1b6da"
            ],
            [
             0.4,
             "#fde0ef"
            ],
            [
             0.5,
             "#f7f7f7"
            ],
            [
             0.6,
             "#e6f5d0"
            ],
            [
             0.7,
             "#b8e186"
            ],
            [
             0.8,
             "#7fbc41"
            ],
            [
             0.9,
             "#4d9221"
            ],
            [
             1,
             "#276419"
            ]
           ],
           "sequential": [
            [
             0,
             "#0d0887"
            ],
            [
             0.1111111111111111,
             "#46039f"
            ],
            [
             0.2222222222222222,
             "#7201a8"
            ],
            [
             0.3333333333333333,
             "#9c179e"
            ],
            [
             0.4444444444444444,
             "#bd3786"
            ],
            [
             0.5555555555555556,
             "#d8576b"
            ],
            [
             0.6666666666666666,
             "#ed7953"
            ],
            [
             0.7777777777777778,
             "#fb9f3a"
            ],
            [
             0.8888888888888888,
             "#fdca26"
            ],
            [
             1,
             "#f0f921"
            ]
           ],
           "sequentialminus": [
            [
             0,
             "#0d0887"
            ],
            [
             0.1111111111111111,
             "#46039f"
            ],
            [
             0.2222222222222222,
             "#7201a8"
            ],
            [
             0.3333333333333333,
             "#9c179e"
            ],
            [
             0.4444444444444444,
             "#bd3786"
            ],
            [
             0.5555555555555556,
             "#d8576b"
            ],
            [
             0.6666666666666666,
             "#ed7953"
            ],
            [
             0.7777777777777778,
             "#fb9f3a"
            ],
            [
             0.8888888888888888,
             "#fdca26"
            ],
            [
             1,
             "#f0f921"
            ]
           ]
          },
          "colorway": [
           "#636efa",
           "#EF553B",
           "#00cc96",
           "#ab63fa",
           "#FFA15A",
           "#19d3f3",
           "#FF6692",
           "#B6E880",
           "#FF97FF",
           "#FECB52"
          ],
          "font": {
           "color": "#2a3f5f"
          },
          "geo": {
           "bgcolor": "white",
           "lakecolor": "white",
           "landcolor": "#E5ECF6",
           "showlakes": true,
           "showland": true,
           "subunitcolor": "white"
          },
          "hoverlabel": {
           "align": "left"
          },
          "hovermode": "closest",
          "mapbox": {
           "style": "light"
          },
          "paper_bgcolor": "white",
          "plot_bgcolor": "#E5ECF6",
          "polar": {
           "angularaxis": {
            "gridcolor": "white",
            "linecolor": "white",
            "ticks": ""
           },
           "bgcolor": "#E5ECF6",
           "radialaxis": {
            "gridcolor": "white",
            "linecolor": "white",
            "ticks": ""
           }
          },
          "scene": {
           "xaxis": {
            "backgroundcolor": "#E5ECF6",
            "gridcolor": "white",
            "gridwidth": 2,
            "linecolor": "white",
            "showbackground": true,
            "ticks": "",
            "zerolinecolor": "white"
           },
           "yaxis": {
            "backgroundcolor": "#E5ECF6",
            "gridcolor": "white",
            "gridwidth": 2,
            "linecolor": "white",
            "showbackground": true,
            "ticks": "",
            "zerolinecolor": "white"
           },
           "zaxis": {
            "backgroundcolor": "#E5ECF6",
            "gridcolor": "white",
            "gridwidth": 2,
            "linecolor": "white",
            "showbackground": true,
            "ticks": "",
            "zerolinecolor": "white"
           }
          },
          "shapedefaults": {
           "line": {
            "color": "#2a3f5f"
           }
          },
          "ternary": {
           "aaxis": {
            "gridcolor": "white",
            "linecolor": "white",
            "ticks": ""
           },
           "baxis": {
            "gridcolor": "white",
            "linecolor": "white",
            "ticks": ""
           },
           "bgcolor": "#E5ECF6",
           "caxis": {
            "gridcolor": "white",
            "linecolor": "white",
            "ticks": ""
           }
          },
          "title": {
           "x": 0.05
          },
          "xaxis": {
           "automargin": true,
           "gridcolor": "white",
           "linecolor": "white",
           "ticks": "",
           "title": {
            "standoff": 15
           },
           "zerolinecolor": "white",
           "zerolinewidth": 2
          },
          "yaxis": {
           "automargin": true,
           "gridcolor": "white",
           "linecolor": "white",
           "ticks": "",
           "title": {
            "standoff": 15
           },
           "zerolinecolor": "white",
           "zerolinewidth": 2
          }
         }
        },
        "title": {
         "text": "UMAP Plot of anime_Synopsis with Color by Recommendation Label"
        },
        "xaxis": {
         "anchor": "y",
         "domain": [
          0,
          1
         ],
         "linecolor": "black",
         "linewidth": 1,
         "showgrid": false,
         "showline": true,
         "title": {
          "text": "UMAP_1"
         }
        },
        "yaxis": {
         "anchor": "x",
         "domain": [
          0,
          1
         ],
         "linecolor": "black",
         "linewidth": 1,
         "showgrid": false,
         "showline": true,
         "title": {
          "text": "UMAP_2"
         }
        }
       }
      }
     },
     "metadata": {},
     "output_type": "display_data"
    }
   ],
   "source": [
    "# Load a pre-trained Sentence Transformer model\n",
    "model = SentenceTransformer('sentence-transformers/all-MiniLM-L6-v2')\n",
    "\n",
    "# Encode the anime synopsis using the Sentence Transformer model\n",
    "embeddings = model.encode(recs_umap['anime_Synopsis'].tolist())\n",
    "\n",
    "# Apply UMAP for dimensionality reduction\n",
    "umap_model = UMAP(n_components=2, n_neighbors=5, min_dist=0.05)\n",
    "umap_result = umap_model.fit_transform(embeddings)\n",
    "\n",
    "# Convert UMAP result to DataFrame\n",
    "umap_df = pd.DataFrame(umap_result, columns=['UMAP_1', 'UMAP_2'])\n",
    "\n",
    "# Add 'Studios' and 'anime_id' columns to the UMAP DataFrame\n",
    "umap_df['Studios'] = recs_umap['Studios'].tolist()\n",
    "umap_df['Name'] = recs_umap['Name'].tolist()\n",
    "umap_df['rec_label'] = recs_umap['rec_label'].tolist()\n",
    "umap_df['anime_id'] = recs_umap['anime_id'].tolist()\n",
    "\n",
    "# Plot the UMAP with color by 'rec_label' and hover information including 'Studios' and 'Name'\n",
    "fig_umap = px.scatter(umap_df, x='UMAP_1', y='UMAP_2', color='rec_label', \n",
    "                      hover_data={'Studios': True, 'Name': True},\n",
    "                      title='UMAP Plot of anime_Synopsis with Color by Recommendation Label')\n",
    "\n",
    "# Modify the marker symbol for points labeled 'pop_rec' to be a star with yellow color and bigger size\n",
    "fig_umap.for_each_trace(lambda t: t.update(marker=dict(symbol='star', size=12, color='yellow') if t.name == 'pop_rec' else {}))\n",
    "\n",
    "# Add annotation for a specific point\n",
    "x_coord = umap_df.loc[0, 'UMAP_1']\n",
    "y_coord = umap_df.loc[0, 'UMAP_2']\n",
    "fig_umap.add_annotation(x=x_coord, y=y_coord, text=\"X\", showarrow=False, font=dict(color=\"gold\", size=16))\n",
    "\n",
    "# Find the three closest points to the marked point\n",
    "nn_model = NearestNeighbors(n_neighbors=4, metric='euclidean')\n",
    "nn_model.fit(umap_result)\n",
    "distances, indices = nn_model.kneighbors([umap_result[0]])\n",
    "\n",
    "# Collect anime IDs of the three closest points\n",
    "closest_anime_ids = umap_df.loc[indices[0][1:], 'anime_id'].tolist()\n",
    "\n",
    "# Plot red X symbol on the closest points (excluding the marked point)\n",
    "for i, idx in enumerate(indices[0][1:], start=1):\n",
    "    target_x = umap_df.loc[idx, 'UMAP_1']\n",
    "    target_y = umap_df.loc[idx, 'UMAP_2']\n",
    "    fig_umap.add_trace(go.Scatter(x=[target_x], y=[target_y], mode='markers', showlegend=True,\n",
    "                                  marker=dict(symbol='x', size=10, color='red'), name=f'rec {i}'))\n",
    "\n",
    "fig_umap.update_layout(\n",
    "    xaxis=dict(showgrid=False, showline=True, linewidth=1, linecolor='black'),\n",
    "    yaxis=dict(showgrid=False, showline=True, linewidth=1, linecolor='black'),\n",
    "    plot_bgcolor='rgba(255, 255, 255, 0)'\n",
    ")\n",
    "\n",
    "# Show the plot\n",
    "fig_umap.show()"
   ]
  },
  {
   "cell_type": "code",
   "execution_count": 246,
   "metadata": {},
   "outputs": [
    {
     "data": {
      "text/plain": [
       "[50385, 21, 23393]"
      ]
     },
     "execution_count": 246,
     "metadata": {},
     "output_type": "execute_result"
    }
   ],
   "source": [
    "closest_anime_ids"
   ]
  },
  {
   "cell_type": "code",
   "execution_count": null,
   "metadata": {},
   "outputs": [],
   "source": []
  }
 ],
 "metadata": {
  "kernelspec": {
   "display_name": "Python 3",
   "language": "python",
   "name": "python3"
  },
  "language_info": {
   "codemirror_mode": {
    "name": "ipython",
    "version": 3
   },
   "file_extension": ".py",
   "mimetype": "text/x-python",
   "name": "python",
   "nbconvert_exporter": "python",
   "pygments_lexer": "ipython3",
   "version": "3.10.13"
  }
 },
 "nbformat": 4,
 "nbformat_minor": 2
}
