{
 "cells": [
  {
   "cell_type": "code",
   "execution_count": 9,
   "metadata": {},
   "outputs": [],
   "source": [
    "import pandas as pd\n",
    "from langchain.docstore.document import Document\n",
    "from langchain.embeddings import HuggingFaceEmbeddings\n",
    "from langchain_community.vectorstores import FAISS\n",
    "from langchain_text_splitters import RecursiveCharacterTextSplitter\n",
    "from tqdm import tqdm"
   ]
  },
  {
   "cell_type": "code",
   "execution_count": 3,
   "metadata": {},
   "outputs": [],
   "source": [
    "encode_kwargs = {\"normalize_embeddings\": True}\n",
    "embedding_function = HuggingFaceEmbeddings(\n",
    "    model_name='tomaarsen/mpnet-base-nli-matryoshka',\n",
    "    model_kwargs={\"device\": \"cpu\"},\n",
    "    encode_kwargs=encode_kwargs,\n",
    ")"
   ]
  },
  {
   "cell_type": "code",
   "execution_count": 5,
   "metadata": {},
   "outputs": [],
   "source": [
    "df = pd.read_json('/Users/justinvhuang/Desktop/CSE-6242-Group-Project/fin_anime_dfv1.json')"
   ]
  },
  {
   "cell_type": "code",
   "execution_count": 21,
   "metadata": {},
   "outputs": [
    {
     "name": "stderr",
     "output_type": "stream",
     "text": [
      "\n",
      "\u001b[A\n",
      "\u001b[A\n",
      "\u001b[A\n",
      "\u001b[A\n",
      "\u001b[A\n",
      "\u001b[A\n",
      "\u001b[A\n",
      "11565it [00:00, 14752.05it/s]\n"
     ]
    }
   ],
   "source": [
    "anime_docs = [Document(page_content=row['text'].lower(), \n",
    "                       metadata={\n",
    "                           \"anime_id\": row['anime_anime_id'],\n",
    "                           \"cast\": row['imdb_name_basics_primaryName'],\n",
    "                           \"synopsis\": row['anime_Synopsis'],\n",
    "                           'img_url': row['Image URL'],\n",
    "                           'episodes': row['Episodes'],\n",
    "                           'genre': row['Genres'],\n",
    "                           'source': row['Source'],\n",
    "                           'Duration': row['Duration'],\n",
    "                           \"name\": row['Name'],\n",
    "                           'pop_recs': row['popular_recs'],\n",
    "                           'cf_recs': row['cf_recs'],\n",
    "                           'tokens': row['tokens'],\n",
    "                           'score': row['anime_Score'],\n",
    "                           'producer': row['Producers'],\n",
    "                           'studio': row['Studios'],\n",
    "                           'licensors': row['Licensors']\n",
    "                       },\n",
    "                       \n",
    "                       )\n",
    "                       for _, row in tqdm(df.iterrows())\n",
    "                    ]"
   ]
  },
  {
   "cell_type": "code",
   "execution_count": 23,
   "metadata": {},
   "outputs": [
    {
     "name": "stderr",
     "output_type": "stream",
     "text": [
      "0it [02:07, ?it/s]\n"
     ]
    }
   ],
   "source": [
    "text_splitter = RecursiveCharacterTextSplitter(chunk_size=500, chunk_overlap=200)\n",
    "split_anime_docs = text_splitter.split_documents(anime_docs)"
   ]
  },
  {
   "cell_type": "code",
   "execution_count": 24,
   "metadata": {},
   "outputs": [],
   "source": [
    "db = FAISS.from_documents(split_anime_docs,\n",
    "                          embedding_function)"
   ]
  },
  {
   "cell_type": "code",
   "execution_count": null,
   "metadata": {},
   "outputs": [],
   "source": [
    "retriever = db.as_retriever(\n",
    "    search_type=\"mmr\", search_kwargs={\"k\": 5, \"score_threshold\": 0.5, \"lambda_mult\": 0}\n",
    ")"
   ]
  },
  {
   "cell_type": "code",
   "execution_count": null,
   "metadata": {},
   "outputs": [],
   "source": [
    "query = \"What are some good sichuan foods\"\n",
    "\n",
    "docs = retriever.invoke(\n",
    "    query,\n",
    ")\n",
    "\n",
    "docs"
   ]
  },
  {
   "cell_type": "code",
   "execution_count": null,
   "metadata": {},
   "outputs": [],
   "source": [
    "def filter_fn(metadata):\n",
    "    return \"scallions\" in metadata[\"ingredients\"].lower() or metadata[\"peanuts\"] == \"Yes\"\n",
    "\n",
    "\n",
    "results = db.similarity_search(\"What are some good sichuan foods\", filter=filter_fn, k=5)\n",
    "results"
   ]
  },
  {
   "cell_type": "code",
   "execution_count": null,
   "metadata": {},
   "outputs": [],
   "source": [
    "db.save_local(\"faiss_anime_index\")"
   ]
  },
  {
   "cell_type": "code",
   "execution_count": null,
   "metadata": {},
   "outputs": [],
   "source": [
    "new_db = FAISS.load_local(\"faiss_anime_index\", embedding_function)"
   ]
  },
  {
   "cell_type": "code",
   "execution_count": null,
   "metadata": {},
   "outputs": [],
   "source": []
  }
 ],
 "metadata": {
  "kernelspec": {
   "display_name": "langchain",
   "language": "python",
   "name": "python3"
  },
  "language_info": {
   "codemirror_mode": {
    "name": "ipython",
    "version": 3
   },
   "file_extension": ".py",
   "mimetype": "text/x-python",
   "name": "python",
   "nbconvert_exporter": "python",
   "pygments_lexer": "ipython3",
   "version": "3.10.13"
  }
 },
 "nbformat": 4,
 "nbformat_minor": 2
}
