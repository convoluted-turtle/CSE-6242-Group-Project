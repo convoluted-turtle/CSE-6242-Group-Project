{
 "cells": [
  {
   "cell_type": "code",
   "execution_count": 1,
   "metadata": {},
   "outputs": [],
   "source": [
    "import pandas as pd\n",
    "from langchain.docstore.document import Document\n",
    "from langchain.embeddings import HuggingFaceEmbeddings\n",
    "from langchain_community.vectorstores import FAISS\n",
    "from langchain_community.vectorstores import Chroma\n",
    "from langchain_text_splitters import RecursiveCharacterTextSplitter\n",
    "from tqdm import tqdm\n",
    "import numpy as np\n",
    "import re\n",
    "import pickle\n",
    "#from utils.textpreprocessing import TextPreprocessor"
   ]
  },
  {
   "cell_type": "code",
   "execution_count": 2,
   "metadata": {},
   "outputs": [],
   "source": [
    "encode_kwargs = {\"normalize_embeddings\": True}\n",
    "embedding_function = HuggingFaceEmbeddings(\n",
    "    model_name='sentence-transformers/all-MiniLM-L6-v2',\n",
    "    model_kwargs={\"device\": \"cpu\"},\n",
    "    encode_kwargs=encode_kwargs,\n",
    ")"
   ]
  },
  {
   "cell_type": "code",
   "execution_count": 3,
   "metadata": {},
   "outputs": [],
   "source": [
    "# encode_kwargs = {\"normalize_embeddings\": True}\n",
    "# embedding_function2 = HuggingFaceEmbeddings(\n",
    "#     model_name='colbert-ir/colbertv2.0',\n",
    "#     model_kwargs={\"device\": \"cpu\"},\n",
    "#     encode_kwargs=encode_kwargs,\n",
    "# )"
   ]
  },
  {
   "cell_type": "code",
   "execution_count": 6,
   "metadata": {},
   "outputs": [],
   "source": [
    "df = pd.read_json('/Users/justinvhuang/Desktop/CSE-6242-Group-Project/app/fin_anime_dfv2.json')"
   ]
  },
  {
   "cell_type": "code",
   "execution_count": 7,
   "metadata": {},
   "outputs": [],
   "source": [
    "def compare_and_replace(row):\n",
    "    if len(row['anime_Synopsis']) > len(row['text']):\n",
    "        row['text'] = row['anime_Synopsis']\n",
    "    return row"
   ]
  },
  {
   "cell_type": "code",
   "execution_count": 8,
   "metadata": {},
   "outputs": [],
   "source": [
    "df = df.apply(compare_and_replace, axis=1)"
   ]
  },
  {
   "cell_type": "code",
   "execution_count": 9,
   "metadata": {},
   "outputs": [],
   "source": [
    "# Convert \"UNKNOWN\" to NaN\n",
    "df['anime_Score'] = df['anime_Score'].replace(\"UNKNOWN\", np.nan)\n",
    "\n",
    "# Convert column to numeric\n",
    "df['anime_Score'] = pd.to_numeric(df['anime_Score'], errors='coerce')\n",
    "\n",
    "# Replace NaN with mean\n",
    "mean_score = df['anime_Score'].mean()\n",
    "df['anime_Score'] = df['anime_Score'].fillna(mean_score)"
   ]
  },
  {
   "cell_type": "code",
   "execution_count": 10,
   "metadata": {},
   "outputs": [],
   "source": [
    "df['anime_Rating'] = df['anime_Rating'].astype(str)\n",
    "df['Members'] = df['Members'].astype(int)"
   ]
  },
  {
   "cell_type": "code",
   "execution_count": 11,
   "metadata": {},
   "outputs": [
    {
     "name": "stderr",
     "output_type": "stream",
     "text": [
      "/var/folders/vz/cyjrzm0x74q21sb72nhkdfmr0000gn/T/ipykernel_21460/2616435567.py:6: FutureWarning: A value is trying to be set on a copy of a DataFrame or Series through chained assignment using an inplace method.\n",
      "The behavior will change in pandas 3.0. This inplace method will never work because the intermediate object on which we are setting values always behaves as a copy.\n",
      "\n",
      "For example, when doing 'df[col].method(value, inplace=True)', try using 'df.method({col: value}, inplace=True)' or df[col] = df[col].method(value) instead, to perform the operation inplace on the original object.\n",
      "\n",
      "\n",
      "  df['Episodes'].fillna(mode_value, inplace=True)\n"
     ]
    }
   ],
   "source": [
    "# Convert \"UNKNOWN\" to NaN\n",
    "df['Episodes'] = df['Episodes'].replace(\"UNKNOWN\", np.nan)\n",
    "\n",
    "# Fill NaN with mode\n",
    "mode_value = df['Episodes'].mode()[0]  # Get the first mode value\n",
    "df['Episodes'].fillna(mode_value, inplace=True)\n",
    "\n",
    "# Convert to integer\n",
    "df['Episodes'] = df['Episodes'].apply(lambda x: int(float(x)))"
   ]
  },
  {
   "cell_type": "code",
   "execution_count": 12,
   "metadata": {},
   "outputs": [],
   "source": [
    "# Define the regex pattern\n",
    "pattern = r'[^\\w\\s\\d]'\n",
    "# Apply regex pattern to the 'Text' column\n",
    "df['text'] = df['text'].str.lower().str.replace(pattern, '')"
   ]
  },
  {
   "cell_type": "code",
   "execution_count": 13,
   "metadata": {},
   "outputs": [],
   "source": [
    "# Load data from pickle file\n",
    "with open('/Users/justinvhuang/Desktop/CSE-6242-Group-Project/app/popular_dict_10.pkl', 'rb') as f:\n",
    "    pop_recs = pickle.load(f)"
   ]
  },
  {
   "cell_type": "code",
   "execution_count": 14,
   "metadata": {},
   "outputs": [],
   "source": [
    "# Load data from pickle file\n",
    "with open('/Users/justinvhuang/Desktop/CSE-6242-Group-Project/app/anime_recommendations_item_knn_CF_10k_fin.pkl', 'rb') as f:\n",
    "    cf_recs = pickle.load(f)"
   ]
  },
  {
   "cell_type": "code",
   "execution_count": 15,
   "metadata": {},
   "outputs": [],
   "source": [
    "# Map dictionary values to the DataFrame based on 'Key' column\n",
    "df['cf_recs'] = df['anime_id'].map(cf_recs)"
   ]
  },
  {
   "cell_type": "code",
   "execution_count": 16,
   "metadata": {},
   "outputs": [],
   "source": [
    "# Function to join lists to strings\n",
    "def join_lists(x):\n",
    "    if isinstance(x, list):\n",
    "        return \", \".join(x)\n",
    "    else:\n",
    "        return x\n",
    "\n",
    "# Apply the function to the 'cf_recs' column\n",
    "df['cf_recs'] = df['cf_recs'].apply(join_lists)"
   ]
  },
  {
   "cell_type": "code",
   "execution_count": 18,
   "metadata": {},
   "outputs": [],
   "source": [
    "pop_df = pd.DataFrame(pop_recs)"
   ]
  },
  {
   "cell_type": "code",
   "execution_count": 19,
   "metadata": {},
   "outputs": [],
   "source": [
    "pop_recs = pop_df['Name'].tolist()"
   ]
  },
  {
   "cell_type": "code",
   "execution_count": 20,
   "metadata": {},
   "outputs": [],
   "source": [
    "df['pop_recs'] = [pop_recs] * len(df)"
   ]
  },
  {
   "cell_type": "code",
   "execution_count": 21,
   "metadata": {},
   "outputs": [],
   "source": [
    "df['pop_recs'] = df['pop_recs'].apply(lambda x: \", \".join(x))"
   ]
  },
  {
   "cell_type": "code",
   "execution_count": 25,
   "metadata": {},
   "outputs": [
    {
     "ename": "NameError",
     "evalue": "name 'closet_anime_ids' is not defined",
     "output_type": "error",
     "traceback": [
      "\u001b[0;31m---------------------------------------------------------------------------\u001b[0m",
      "\u001b[0;31mNameError\u001b[0m                                 Traceback (most recent call last)",
      "Cell \u001b[0;32mIn[25], line 1\u001b[0m\n\u001b[0;32m----> 1\u001b[0m df[df[\u001b[38;5;124m\"\u001b[39m\u001b[38;5;124mimage_y\u001b[39m\u001b[38;5;124m\"\u001b[39m] \u001b[38;5;241m==\u001b[39m \u001b[43mcloset_anime_ids\u001b[49m[\u001b[38;5;241m0\u001b[39m]]\n",
      "\u001b[0;31mNameError\u001b[0m: name 'closet_anime_ids' is not defined"
     ]
    }
   ],
   "source": [
    "df[df[\"image_y\"] == closet_anime_ids[0]]"
   ]
  },
  {
   "cell_type": "code",
   "execution_count": 22,
   "metadata": {},
   "outputs": [
    {
     "name": "stderr",
     "output_type": "stream",
     "text": [
      "8495it [00:00, 12772.61it/s]\n"
     ]
    }
   ],
   "source": [
    "anime_docs = [Document(page_content=row['text'].lower(), \n",
    "                       metadata={\n",
    "                           \"anime_id\": row['anime_id'],\n",
    "                           \"cast\": row['imdb_name_basics_primaryName'],\n",
    "                           'episodes': row['Episodes'],\n",
    "                           'genre': row['Genres'],\n",
    "                           'source': row['Source'],\n",
    "                           'Duration': row['Duration'],\n",
    "                           \"name\": row['Name'],\n",
    "                           'tokens': row['tokens'],\n",
    "                           'score': row['anime_Score'],\n",
    "                           'producer': row['Producers'],\n",
    "                           'studio': row['Studios'],\n",
    "                           'licensors': row['Licensors'],\n",
    "                           'cf_recs': row['cf_recs'],\n",
    "                           'pop_recs': row['pop_recs'],\n",
    "                           'rating': row['anime_Rating'],\n",
    "                           'air_date': row['Aired']\n",
    "                       },\n",
    "                       \n",
    "                       )\n",
    "                       for _, row in tqdm(df.iterrows())\n",
    "                    ]"
   ]
  },
  {
   "cell_type": "code",
   "execution_count": 147,
   "metadata": {},
   "outputs": [],
   "source": [
    "text_splitter = RecursiveCharacterTextSplitter(chunk_size=500, chunk_overlap=200)\n",
    "split_anime_docs = text_splitter.split_documents(anime_docs)"
   ]
  },
  {
   "cell_type": "code",
   "execution_count": 23,
   "metadata": {},
   "outputs": [],
   "source": [
    "db_chroma = Chroma.from_documents(anime_docs, embedding_function, persist_directory=\"./chroma_db\")"
   ]
  },
  {
   "cell_type": "code",
   "execution_count": 150,
   "metadata": {},
   "outputs": [],
   "source": [
    "db1 = FAISS.from_documents(anime_docs,\n",
    "                          embedding_function)"
   ]
  },
  {
   "cell_type": "code",
   "execution_count": 151,
   "metadata": {},
   "outputs": [],
   "source": [
    "db2 = FAISS.from_documents(split_anime_docs,\n",
    "                          embedding_function)"
   ]
  },
  {
   "cell_type": "code",
   "execution_count": 158,
   "metadata": {},
   "outputs": [],
   "source": [
    "db3 = FAISS.from_documents(anime_docs,\n",
    "                          embedding_function2)"
   ]
  },
  {
   "cell_type": "code",
   "execution_count": 160,
   "metadata": {},
   "outputs": [],
   "source": [
    "retriever = db3.as_retriever(\n",
    "    search_type=\"mmr\", search_kwargs={\"k\": 10, \"score_threshold\": 0.5, \"lambda_mult\": 0}\n",
    ")"
   ]
  },
  {
   "cell_type": "code",
   "execution_count": 163,
   "metadata": {},
   "outputs": [
    {
     "data": {
      "text/plain": [
       "[Document(page_content=\"bumpety boo (へーい!ブンブー, hēi! bumbū, hey! bumboo) is an anime children's television series produced by the nippon animation company from 1985 to 1986. the series consists of 130 10-minute episodes, distributed as 43 half-hour segments.\\n\\n\\n== synopsis ==\\nthe show follows the adventures of a young boy named ken, who has always dreamed of owning a car, and bumpety boo, a talking yellow car who hatched from an egg in the first episode, as they travel the world in search for bumpety boo's mother. bumpety boo, the fun-loving car, makes friends with ken. teaming up seems like a natural thing, but bumpety boo does not count on ken's adventurous eight-year-old spirit.\\nthroughout the series, professor honky-tonk tries to steal bumpety boo from ken.\\nduring their expedition, they have great adventures and help a lot of people they encounter on their way. they also encounter other talking cars. bumpety boo usually races them and always wins because of his strength and speed, which he receives after he smells flowers. in the end of the series the group finds his mother.\\n\\n\\n\", metadata={'anime_id': 3434, 'cast': 'Walter Massey, Aimée Castle, Mathew Mackay, Julian Bailey, Vlasta Vrana, A.J. Henderson, Ethan Tobman, Pauline Little, Rick Jones, Dean Hagopian', 'episodes': 130, 'genre': 'Adventure', 'source': 'Unknown', 'Duration': '10 min per ep', 'name': 'Hey! Bumboo', 'tokens': \"['bumpety', 'boo', 'i!bunbu-', 'hei', 'bumbu', 'hey', 'bumboo', 'anime', 'child', 'television', 'series', 'produce', 'nippon', 'animation', 'company', '1985', '1986', 'series', 'consist', '130', '10', 'minute', 'episode', 'distribute', '43', 'half', 'hour', 'segment', '\\\\n\\\\n\\\\n', '=', '=', 'synopsis', '=', '=', '\\\\n', 'follow', 'adventure', 'young', 'boy', 'ken', 'dream', 'car', 'bumpety', 'boo', 'talk', 'yellow', 'car', 'hatch', 'egg', 'episode', 'travel', 'world', 'search', 'bumpety', 'boo', 'mother', 'bumpety', 'boo', 'fun', 'love', 'car', 'friend', 'ken', 'team', 'like', 'natural', 'thing', 'bumpety', 'boo', 'count', 'ken', 'adventurous', 'year', 'old', 'spirit', '\\\\n', 'series', 'professor', 'honky', 'tonk', 'try', 'steal', 'bumpety', 'boo', 'ken', '\\\\n', 'expedition', 'great', 'adventure', 'help', 'lot', 'people', 'encounter', 'way', 'encounter', 'talk', 'car', 'bumpety', 'boo', 'usually', 'race', 'win', 'strength', 'speed', 'receive', 'smell', 'flower', 'end', 'series', 'group', 'find', 'mother', '\\\\n\\\\n\\\\n ', 'adventure', 'unknown', 'little', 'boy', 'little', 'girl', 'boy', 'frog', 'frog', 'prince', 'nhk', 'studio', 'jack', 'walter', 'massey', 'aimee', 'castle', 'mathew', 'mackay', 'julian', 'bailey', 'vlasta', 'vrana', 'a.j', 'henderson', 'ethan', 'tobman', 'pauline', 'little', 'rick', 'jones', 'dean', 'hagopian', 'bumboo', 'strange', 'car', 'like', 'creature', 'cute', 'yellow', 'body', 'bear', 'mysterious', 'egg', 'automobile', 'factory', 'having', 'hear', 'cry', 'newborn', 'baby', 'boy', 'ken', 'come', 'factory', 'meet', 'bumboo', 'soon', 'good', 'friend', 'set', 'exciting', 'journey', 'nippon', 'animation', 'hey', 'bumboo']\", 'score': 6.09, 'producer': 'NHK, Studio Jack', 'studio': 'Nippon Animation', 'licensors': 'Saban Entertainment', 'cf_recs': 'Sore Ike! Anpanman: Black Nose to Mahou no Uta, Solar I.II.III, Fuwa Aoyun Manyouji, Cheol-in 007, Space Gundam V, Lan Mao, Zhu Zhu Xia: Da Nao Huang Gong, Capsule Samurai, Zhu Zhu Xia: Wu Xia 2008, Gu-Gu Ganmo (Movie)', 'pop_recs': 'Cowboy Bebop, Escaflowne, GetBackers, Hachimitsu to Clover, Hajime no Ippo, Hikaru no Go, Cowboy Bebop: Tengoku no Tobira, Gantz, Hoshi no Koe, Hunter x Hunter', 'rating': 'UNKNOWN', 'air_date': 'Apr 8, 1985 to Apr 3, 1986'}),\n",
       " Document(page_content=\"chitose-chan is a penguin who lives in kyoto. getting in touch with people and getting fed delicious food as she curiously walks around kyoto streets is her favourite thing to do. the story features popular places in kyoto like kiyomizu temple, ginkaku temple, and gion from the penguin's point of view. this is a short story about a penguin that is nostalgic and warm, curing and relieving the heart. \\n\\n(source: mal news)\", metadata={'anime_id': 38089, 'cast': 'UNKNOWN', 'episodes': 24, 'genre': 'Comedy, Slice of Life', 'source': 'Manga', 'Duration': '3 min per ep', 'name': 'Okoshiyasu, Chitose-chan', 'tokens': \"['chitose', 'chan', 'penguin', 'live', 'kyoto', 'touch', 'people', 'feed', 'delicious', 'food', 'curiously', 'walk', 'kyoto', 'street', 'favourite', 'thing', 'story', 'feature', 'popular', 'place', 'kyoto', 'like', 'kiyomizu', 'temple', 'ginkaku', 'temple', 'gion', 'penguin', 'point', 'view', 'short', 'story', 'penguin', 'nostalgic', 'warm', 'cure', 'relieve', 'heart', '\\\\n\\\\n', 'source', 'mal', 'news', 'comedy', 'slice', 'life', 'manga', 'unknown', 'vap', 'unknown', 'chitose', 'chan', 'penguin', 'live', 'kyoto', 'touch', 'people', 'feed', 'delicious', 'food', 'curiously', 'walk', 'kyoto', 'street', 'favourite', 'thing', 'story', 'feature', 'popular', 'place', 'kyoto', 'like', 'kiyomizu', 'temple', 'ginkaku', 'temple', 'gion', 'penguin', 'point', 'view', 'short', 'story', 'penguin', 'nostalgic', 'warm', 'cure', 'relieve', 'heart', '\\\\n\\\\n', 'source', 'mal', 'news', 'gather', 'okoshiyasu', 'chitose', 'chan']\", 'score': 6.69, 'producer': 'VAP', 'studio': 'Gathering', 'licensors': 'UNKNOWN', 'cf_recs': 'Shin Tenchi Souzou, Moom, Lao Fu Zi Shui Hu Chuan, Mameshiba x Tunes!, Yume Utsutsu, Wu Geng Ji 4th Season Part 2, Xian Yu Ge, Trip Trek, Experiment, Neko Neko Nihonshi 2nd Season', 'pop_recs': 'Cowboy Bebop, Escaflowne, GetBackers, Hachimitsu to Clover, Hajime no Ippo, Hikaru no Go, Cowboy Bebop: Tengoku no Tobira, Gantz, Hoshi no Koe, Hunter x Hunter', 'rating': 'G - All Ages', 'air_date': 'Oct 6, 2018 to Mar 23, 2019'}),\n",
       " Document(page_content='tarepanda (たれぱんだ) is a cute panda character owned by the company san-x サンエックス (san ekkusu). the term \"tare\" (垂れ) means \"droopy\" in japanese.\\n\\n\\n== history ==\\n\\n\\n', metadata={'anime_id': 21869, 'cast': 'UNKNOWN', 'episodes': 1, 'genre': 'Award Winning', 'source': 'Unknown', 'Duration': '17 min', 'name': 'Tarepanda', 'tokens': \"['tarepanda', 'tarepanda', 'cute', 'panda', 'character', 'company', 'san', 'x', 'sanetsukusu', 'san', 'ekkusu', 'term', 'tare', 'Chui', 'mean', 'droopy', 'japanese', '\\\\n\\\\n\\\\n', '=', '=', 'history', '=', '=', '\\\\n\\\\n\\\\n ', 'award', 'win', 'unknown', 'unknown', 'bandai', 'visual', 'unknown', 'panda', 'roll', 'music', 'unknown', 'tarepanda']\", 'score': 6.710778159931212, 'producer': 'Bandai Visual', 'studio': 'UNKNOWN', 'licensors': 'UNKNOWN', 'cf_recs': 'Gu-Gu Ganmo (Movie), Guitar, Onigiri ni Naritai Cogimyun, Man with a Mission Animated Short Movie, Hayabusa: Back to the Earth - Kikan, Robot King, Capsule Samurai, Zhu Zhu Xia: Wu Xia 2008, Steady x Study, Jiu Tian Xuan Di Jue 4th Season', 'pop_recs': 'Cowboy Bebop, Escaflowne, GetBackers, Hachimitsu to Clover, Hajime no Ippo, Hikaru no Go, Cowboy Bebop: Tengoku no Tobira, Gantz, Hoshi no Koe, Hunter x Hunter', 'rating': 'G - All Ages', 'air_date': 'Jul 25, 2000'}),\n",
       " Document(page_content=\"super sonico is a clutzy, adorable, and well-endowed 18-year old girl. she's a complete sucker for anything cute, especially stray cats, all of which she giddily adopts. however, though sonico should be enjoying a carefree and simple lifestyle as a young college student, her life is really anything but easy: she must balance being a professional model, working part-time at her grandmother's restaurant, and practicing guitar and performing concerts with her friends suzu fujimi and fuuri watanuki in their band, first astronomical velocity—all while attending college. soniani: super sonico the animation follows sonico as she faces daunting challenges in her search for her place in the world, even when her days are brimming with love and happiness.\", metadata={'anime_id': 20555, 'cast': 'Luci Christian, Monica Rial, Mark Laskowski, Mami Ozaki, Mai Gotou, Yuu Ayase, Emiko Takeuchi, John Swasey, Ayano Yamamoto, Jessica Nigri', 'episodes': 12, 'genre': 'Slice of Life', 'source': 'Other', 'Duration': '23 min per ep', 'name': 'SoniAni: Super Sonico The Animation', 'tokens': \"['super', 'sonico', 'clutzy', 'adorable', 'endow', '18', 'year', 'old', 'girl', 'complete', 'sucker', 'cute', 'especially', 'stray', 'cat', 'giddily', 'adopt', 'sonico', 'enjoy', 'carefree', 'simple', 'lifestyle', 'young', 'college', 'student', 'life', 'easy', 'balance', 'professional', 'model', 'work', 'time', 'grandmother', 'restaurant', 'practice', 'guitar', 'perform', 'concert', 'friend', 'suzu', 'fujimi', 'fuuri', 'watanuki', 'band', 'astronomical', 'velocity', 'attend', 'college', 'soniani', 'super', 'sonico', 'animation', 'follow', 'sonico', 'face', 'daunting', 'challenge', 'search', 'place', 'world', 'day', 'brim', 'love', 'happiness', 'slice', 'life', 'fanservice', 'breast', 'bounce', 'breast', 'anime', 'animation', 'female', 'idol', 'genco', 'pony', 'canyon', 'movic', 'half', 'h.p', 'studio', 'x', 'nitroplus', 'klockworx', 'showgate', 'good', 'smile', 'company', 'luci', 'christian', 'monica', 'rial', 'mark', 'laskowski', 'mami', 'ozaki', 'mai', 'gotou', 'yuu', 'ayase', 'emiko', 'takeuchi', 'john', 'swasey', 'ayano', 'yamamoto', 'jessica', 'nigri', 'super', 'sonico', 'clutzy', 'adorable', 'endow', '18', 'year', 'old', 'girl', 'complete', 'sucker', 'cute', 'especially', 'stray', 'cat', 'giddily', 'adopt', 'sonico', 'enjoy', 'carefree', 'simple', 'lifestyle', 'young', 'college', 'student', 'life', 'easy', 'balance', 'professional', 'model', 'work', 'time', 'grandmother', 'restaurant', 'practice', 'guitar', 'perform', 'concert', 'friend', 'suzu', 'fujimi', 'fuuri', 'watanuki', 'band', 'astronomical', 'velocity', 'attend', 'college', 'soniani', 'super', 'sonico', 'animation', 'follow', 'sonico', 'face', 'daunting', 'challenge', 'search', 'place', 'world', 'day', 'brim', 'love', 'happiness', 'white', 'fox', 'soniani', 'super', 'sonico', 'animation']\", 'score': 6.07, 'producer': 'Genco, Pony Canyon, Movic, Half H.P Studio, AT-X, Nitroplus, KlockWorx, Showgate, Good Smile Company', 'studio': 'White Fox', 'licensors': 'Sentai Filmworks', 'cf_recs': 'Sekai de Ichiban Tsuyoku Naritai!, Wake Up, Girls!, Senran Kagura, Saikin, Imouto no Yousu ga Chotto Okashiinda ga., Sora no Method, Momo Kyun Sword, Nourin, Girlfriend (Kari), Zettai Bouei Leviathan, Miss Monochrome The Animation', 'pop_recs': 'Cowboy Bebop, Escaflowne, GetBackers, Hachimitsu to Clover, Hajime no Ippo, Hikaru no Go, Cowboy Bebop: Tengoku no Tobira, Gantz, Hoshi no Koe, Hunter x Hunter', 'rating': 'PG-13 - Teens 13 or older', 'air_date': 'Jan 6, 2014 to Mar 24, 2014'}),\n",
       " Document(page_content='the curious kitty and friends is a preschool stop-motion animated show, where we will join the upbeat and colorful adventures of kitty cat komaneko as she explores the wonderful world with her friends mimmi bear, radibo, and yeti. with her trusty video camera and knapsack in tow, creative and curious komaneko makes her own movies,usually starring her two favorite dolls, wink and ink.', metadata={'anime_id': 33480, 'cast': 'Cayden Charles, Kathy Iwasaki, Ayano Kinashi, Tsuneo Goda, Dee Bradley Baker, Rebecca Bloom, Kent Redeker, Daniel Hagen, Yuriko Okada, Kevin Kiner', 'episodes': 1, 'genre': 'Adventure', 'source': 'Original', 'Duration': '11 min', 'name': 'Waku Waku Koma-chan', 'tokens': \"['curious', 'kitty', 'friend', 'preschool', 'stop', 'motion', 'animate', 'join', 'upbeat', 'colorful', 'adventure', 'kitty', 'cat', 'komaneko', 'explore', 'wonderful', 'world', 'friend', 'mimmi', 'bear', 'radibo', 'yeti', 'trusty', 'video', 'camera', 'knapsack', 'tow', 'creative', 'curious', 'komaneko', 'movie', 'usually', 'star', 'favorite', 'doll', 'wink', 'ink', 'adventure', 'original', 'unknown', 'unknown', 'cayden', 'charle', 'kathy', 'iwasaki', 'ayano', 'kinashi', 'tsuneo', 'goda', 'dee', 'bradley', 'baker', 'rebecca', 'bloom', 'kent', 'redeker', 'daniel', 'hagen', 'yuriko', 'okada', 'kevin', 'kiner', 'curious', 'kitty', 'friend', 'preschool', 'stop', 'motion', 'animate', 'join', 'upbeat', 'colorful', 'adventure', 'kitty', 'cat', 'komaneko', 'explore', 'wonderful', 'world', 'friend', 'mimmi', 'bear', 'radibo', 'yeti', 'trusty', 'video', 'camera', 'knapsack', 'tow', 'creative', 'curious', 'komaneko', 'movie', 'usually', 'star', 'favorite', 'doll', 'wink', 'ink', 'dwarf', 'waku', 'waku', 'koma', 'chan']\", 'score': 6.710778159931212, 'producer': 'UNKNOWN', 'studio': 'dwarf', 'licensors': 'UNKNOWN', 'cf_recs': nan, 'pop_recs': 'Cowboy Bebop, Escaflowne, GetBackers, Hachimitsu to Clover, Hajime no Ippo, Hikaru no Go, Cowboy Bebop: Tengoku no Tobira, Gantz, Hoshi no Koe, Hunter x Hunter', 'rating': 'UNKNOWN', 'air_date': 'Jun 17, 2016'}),\n",
       " Document(page_content=\"thomas is a cunning bird who sponges on hyppo, the good-natured hippopotamus. although thomas is a dependent, living in hyppo's big mouth, he always acts lordly and tries to outsmart his simpleminded host. however, their basic friendship and cooperation endures despite their frequent quarrels. the two play a prime role in this comic series, short yet full of originality. \\n\\n(source: tatsunoko website)\", metadata={'anime_id': 3683, 'cast': 'UNKNOWN', 'episodes': 300, 'genre': 'Comedy', 'source': 'Unknown', 'Duration': '5 min per ep', 'name': 'Kabatotto', 'tokens': \"['thomas', 'cunning', 'bird', 'sponge', 'hyppo', 'good', 'natured', 'hippopotamus', 'thomas', 'dependent', 'live', 'hyppo', 'big', 'mouth', 'act', 'lordly', 'try', 'outsmart', 'simpleminded', 'host', 'basic', 'friendship', 'cooperation', 'endure', 'despite', 'frequent', 'quarrel', 'play', 'prime', 'role', 'comic', 'series', 'short', 'originality', '\\\\n\\\\n', 'source', 'tatsunoko', 'website', 'comedy', 'unknown', 'unknown', 'unknown', 'unknown', 'thomas', 'cunning', 'bird', 'sponge', 'hyppo', 'good', 'natured', 'hippopotamus', 'thomas', 'dependent', 'live', 'hyppo', 'big', 'mouth', 'act', 'lordly', 'try', 'outsmart', 'simpleminded', 'host', 'basic', 'friendship', 'cooperation', 'endure', 'despite', 'frequent', 'quarrel', 'play', 'prime', 'role', 'comic', 'series', 'short', 'originality', '\\\\n\\\\n', 'source', 'tatsunoko', 'website', 'tatsunoko', 'production', 'kabatotto']\", 'score': 5.8, 'producer': 'UNKNOWN', 'studio': 'Tatsunoko Production', 'licensors': 'Saban Entertainment', 'cf_recs': 'Dame Oyaji, Wanpaku Tanteidan, Skyers 5, Shounen Ninja Kaze no Fujimaru, Dokachin, Hyper ERT, Chinpui Specials, Shin Don Chuck Monogatari, Hybrid Deka, Hayabusa: Back to the Earth', 'pop_recs': 'Cowboy Bebop, Escaflowne, GetBackers, Hachimitsu to Clover, Hajime no Ippo, Hikaru no Go, Cowboy Bebop: Tengoku no Tobira, Gantz, Hoshi no Koe, Hunter x Hunter', 'rating': 'G - All Ages', 'air_date': 'Jan 1, 1971 to Sep 30, 1972'}),\n",
       " Document(page_content=\"yonna in the solitary fortress (はなれ砦のヨナ, hanare toride no yonna) is a 2006 japanese anime fantasy adventure short film directed by kengo takeuchi. it was released on april 8, 2006.\\n\\n\\n== characters ==\\nyonna - a young girl with magical powers, who lives in an isolated tower with her brother stan.  her magic lets her create magical creatures using flower petals.\\nstan - yonna's much older brother and self-appointed bodyguard.  his magic lets him throw lightning balls.\\npiggot - some sort of gargoyle with wings and horns, works for the monarchy and wants to bring yonna to them.\\ngalda - a boy yonna's age, and an agent of the monarchy like piggot, also sent to bring yonna out of the fortress.\\n\\n\\n\", metadata={'anime_id': 1031, 'cast': 'Junko Takeuchi, Mariko Nagahama, Kanako Mitsuhashi, Kengo Takeuchi, Hiroshi Shimozaki, Kenichiro Ohashi, Masami Iwasaki', 'episodes': 1, 'genre': 'Adventure, Fantasy', 'source': 'Original', 'Duration': '33 min', 'name': 'Hanare Toride no Yonna', 'tokens': \"['yonna', 'solitary', 'fortress', 'hanareZhai', 'noyona', 'hanare', 'toride', 'yonna', '2006', 'japanese', 'anime', 'fantasy', 'adventure', 'short', 'film', 'direct', 'kengo', 'takeuchi', 'release', 'april', '8', '2006', '\\\\n\\\\n\\\\n', '=', '=', 'character', '=', '=', '\\\\n', 'yonna', 'young', 'girl', 'magical', 'power', 'live', 'isolated', 'tower', 'brother', 'stan', ' ', 'magic', 'let', 'create', 'magical', 'creature', 'use', 'flower', 'petal', '\\\\n', 'stan', 'yonna', 'old', 'brother', 'self', 'appoint', 'bodyguard', ' ', 'magic', 'let', 'throw', 'lightning', 'ball', '\\\\n', 'piggot', 'sort', 'gargoyle', 'wing', 'horn', 'work', 'monarchy', 'want', 'bring', 'yonna', '\\\\n', 'galda', 'boy', 'yonna', 'age', 'agent', 'monarchy', 'like', 'piggot', 'send', 'bring', 'yonna', 'fortress', '\\\\n\\\\n\\\\n ', 'adventure', 'fantasy', 'original', 'unknown', 'studio', '4degc', 'capcom', 'junko', 'takeuchi', 'mariko', 'nagahama', 'kanako', 'mitsuhashi', 'kengo', 'takeuchi', 'hiroshi', 'shimozaki', 'kenichiro', 'ohashi', 'masami', 'iwasaki', 'yonna', 'stan', 'brother', 'sister', 'live', 'isolation', 'special', 'power', 'enigmatic', 'people', 'plot', 'use', 'power', 'conflict', 'king`s', 'government', 'plan', 'draw', 'intrigue', 'surround', 'yonna', 'new', 'agent', 'come', 'comix', 'wave', 'film', 'hanare', 'toride', 'yonna']\", 'score': 4.93, 'producer': 'Studio 4°C, Capcom', 'studio': 'CoMix Wave Films', 'licensors': 'UNKNOWN', 'cf_recs': 'Wu Geng Ji 4th Season Part 2, Xian Yu Ge, Itoshi no Muco OVA, Ikuze! Gen-san, Twin Bee Paradise, Greek Roman Sinhwa: Olympus Guardian, Robot King, Gu-Gu Ganmo (Movie), Guitar, Onigiri ni Naritai Cogimyun', 'pop_recs': 'Cowboy Bebop, Escaflowne, GetBackers, Hachimitsu to Clover, Hajime no Ippo, Hikaru no Go, Cowboy Bebop: Tengoku no Tobira, Gantz, Hoshi no Koe, Hunter x Hunter', 'rating': 'UNKNOWN', 'air_date': 'Apr 8, 2006'}),\n",
       " Document(page_content=\"gon (japanese: ゴン) is a japanese manga series created by masashi tanaka, about the (wordless) adventures of a dinosaur and the title character.\\ngon was most notable outside japan for his appearance in the playstation version of tekken 3. an animated tv series began airing in japan on april 2, 2012. the manga received an excellence prize at the japan media arts festival and won an eisner award.\\n\\n\\n== characteristics ==\\ngon is a carnivorous species of carnosaurian but he vaguely looks more like a tyrannosaurid than a carnosaur, due to his t-rex like-head. gon is an omnivore with an enormous appetite, preying on hadrosaurs, pterosaurs and ceratopsians, and also hunts down stegosauruses, apatosauruses and even woolly mammoths. he possesses enormous power and endurance for his or any size, his feats of strength including supporting his own weight with his jaws, to being able to lift a fully grown sauropod (brontosaurus, brachiosaurus and diplodocus). his scaly hide is almost impenetrable, being able to shrug off the bites of larger predators.\\ngon's intelligence seems to fluctuate in each adventure, ranging from total cluelessness (such as failing to notice a bird nest on his head for weeks), to strategic cunning (using an allosaurus as a beast of burden to capture prey).\\nin tekken 3, gon is fireproof, has the ability to spit fireballs and use toxic farts. he vocalizes in chirps and shrieks, reminiscent of raccoons and parrots.\\n\\n\\n\", metadata={'anime_id': 30410, 'cast': 'UNKNOWN', 'episodes': 26, 'genre': 'Action, Adventure', 'source': 'Manga', 'Duration': '12 min per ep', 'name': 'Gon 2nd Season', 'tokens': \"['gon', 'japanese', 'gon', 'japanese', 'manga', 'series', 'create', 'masashi', 'tanaka', 'wordless', 'adventure', 'dinosaur', 'title', 'character', '\\\\n', 'gon', 'notable', 'outside', 'japan', 'appearance', 'playstation', 'version', 'tekken', '3', 'animate', 'tv', 'series', 'begin', 'air', 'japan', 'april', '2', '2012', 'manga', 'receive', 'excellence', 'prize', 'japan', 'medium', 'art', 'festival', 'win', 'eisner', 'award', '\\\\n\\\\n\\\\n', '=', '=', 'characteristic', '=', '=', '\\\\n', 'gon', 'carnivorous', 'specie', 'carnosaurian', 'vaguely', 'look', 'like', 'tyrannosaurid', 'carnosaur', 't', 'rex', 'like', 'head', 'gon', 'omnivore', 'enormous', 'appetite', 'prey', 'hadrosaur', 'pterosaur', 'ceratopsian', 'hunt', 'stegosaurus', 'apatosaurus', 'woolly', 'mammoth', 'possess', 'enormous', 'power', 'endurance', 'size', 'feat', 'strength', 'include', 'support', 'weight', 'jaw', 'able', 'lift', 'fully', 'grow', 'sauropod', 'brontosaurus', 'brachiosaurus', 'diplodocus', 'scaly', 'hide', 'impenetrable', 'able', 'shrug', 'bite', 'large', 'predator', '\\\\n', 'gon', 'intelligence', 'fluctuate', 'adventure', 'range', 'total', 'cluelessness', 'fail', 'notice', 'bird', 'nest', 'head', 'week', 'strategic', 'cunning', 'use', 'allosaurus', 'beast', 'burden', 'capture', 'prey', '\\\\n', 'tekken', '3', 'gon', 'fireproof', 'ability', 'spit', 'fireball', 'use', 'toxic', 'fart', 'vocalize', 'chirp', 'shriek', 'reminiscent', 'raccoon', 'parrot', '\\\\n\\\\n\\\\n ', 'action', 'adventure', 'manga', 'unknown', 'tv', 'tokyo', 'unknown', 'continuation', 'gon', 'series', 'daewon', 'medium', 'gon', '2nd', 'season']\", 'score': 5.91, 'producer': 'TV Tokyo', 'studio': 'Daewon Media', 'licensors': 'UNKNOWN', 'cf_recs': 'Gu-Gu Ganmo (Movie), Guitar, Onigiri ni Naritai Cogimyun, Man with a Mission Animated Short Movie, Hayabusa: Back to the Earth - Kikan, Robot King, Capsule Samurai, Zhu Zhu Xia: Wu Xia 2008, Steady x Study, Jiu Tian Xuan Di Jue 4th Season', 'pop_recs': 'Cowboy Bebop, Escaflowne, GetBackers, Hachimitsu to Clover, Hajime no Ippo, Hikaru no Go, Cowboy Bebop: Tengoku no Tobira, Gantz, Hoshi no Koe, Hunter x Hunter', 'rating': 'G - All Ages', 'air_date': 'Apr 4, 2015 to Sep 26, 2015'}),\n",
       " Document(page_content=\"little lulu and her little friends (リトル・ルルとちっちゃい仲間, ritoru ruru to chitchai nakama) is a japanese anime television series produced by nippon animation, based on little lulu comic by us cartoonist marjorie henderson buell (marge). the series was animated and directed by fumio kurokawa.\\n\\n\\n\\nthe series follows the everyday adventures of little lulu, tubby, and the rest of their friends. the most prominent themes derived from the comics include the boys vs. girls rivalry, tubby's clubhouse, and mishaps with the troublemaking westside gang.\\n\\n\\n\", metadata={'anime_id': 3823, 'cast': 'Sachiko Chijimatsu, Yoneko Matsukane, Minori Matsushima, Junko Hori, Eiko Masuyama, Keiko Yamamoto', 'episodes': 26, 'genre': 'Comedy, Slice of Life', 'source': 'Unknown', 'Duration': '25 min per ep', 'name': 'Little Lulu to Chicchai Nakama', 'tokens': \"['little', 'lulu', 'little', 'friend', 'ritoru*rurutochitsuchiyaizhong', 'Jian', 'ritoru', 'ruru', 'chitchai', 'nakama', 'japanese', 'anime', 'television', 'series', 'produce', 'nippon', 'animation', 'base', 'little', 'lulu', 'comic', 'cartoonist', 'marjorie', 'henderson', 'buell', 'marge', 'series', 'animate', 'direct', 'fumio', 'kurokawa', '\\\\n\\\\n\\\\n\\\\n', 'series', 'follow', 'everyday', 'adventure', 'little', 'lulu', 'tubby', 'rest', 'friend', 'prominent', 'theme', 'derive', 'comic_strip', 'include', 'boy', 'vs.', 'girl', 'rivalry', 'tubby', 'clubhouse', 'mishap', 'troublemaking', 'westside', 'gang', '\\\\n\\\\n\\\\n ', 'comedy', 'slice', 'life', 'unknown', 'little', 'lulu', 'character', 'anime', 'animation', 'asahi', 'broadcasting', 'sachiko', 'chijimatsu', 'yoneko', 'matsukane', 'minori', 'matsushima', 'junko', 'hori', 'eiko', 'masuyama', 'keiko', 'yamamoto', 'adventure', 'little', 'lulu', 'friend', 'series', 'base', 'famous', 'character', 'comic', 'strip', 'comic', 'book', 'nippon', 'animation', 'little', 'lulu', 'chicchai', 'nakama']\", 'score': 6.39, 'producer': 'Asahi Broadcasting', 'studio': 'Nippon Animation', 'licensors': 'UNKNOWN', 'cf_recs': 'Hei Mao Jing Zhang (1992), Hei Mao Jing Zhang, Xi Yangyang Yu Hui Tailang, Jiu Tian Xuan Di Jue 4th Season, DigiGirl Pop!: Strawberry & Pop Mix Flavor, Gu-Gu Ganmo (Movie), Guitar, Onigiri ni Naritai Cogimyun, Man with a Mission Animated Short Movie, Hayabusa: Back to the Earth - Kikan', 'pop_recs': 'Cowboy Bebop, Escaflowne, GetBackers, Hachimitsu to Clover, Hajime no Ippo, Hikaru no Go, Cowboy Bebop: Tengoku no Tobira, Gantz, Hoshi no Koe, Hunter x Hunter', 'rating': 'UNKNOWN', 'air_date': 'Oct 3, 1976 to Apr 3, 1977'}),\n",
       " Document(page_content=\"on the first day her family moved to their new house, 5-year-old ami-chan made friends with three talking animals who came out of a door in her bedroom floor, which she finds out leads to animal yokocho, another world. the three are issa, an overly innocent, soft-spoken panda, kenta, a highly strung, red-scarf-loving bear who puts on an almost constant tough-guy act, and iyo, a rabbit who usually holds her own well-being and enjoyment over the happiness (and safety) of her friends. even at only 5 years old, ami-chan is easily the most rational of the group, and she's a little wary at first, but she eventually comes around and starts spending her free time with them. a typical day involves ami-chan and the three doing different things to pass the time, often playing a seemingly innocent game, but in aniyoko style. unfortunately for ami-chan, the aniyoko version usually turns out to be drastically different, much less logical, and usually more dangerous than the ordinary version.\", metadata={'anime_id': 280, 'cast': 'Erika, Michael C. Pizzuto, Yûko Satô, Nao Nagasawa, Rumi Shishido, Akira Ishida, Candice Moore, Andrea Kwan', 'episodes': 51, 'genre': 'Adventure, Comedy, Fantasy', 'source': 'Manga', 'Duration': '23 min per ep', 'name': 'Animal Yokochou', 'tokens': \"['day', 'family', 'new', 'house', '5', 'year', 'old', 'ami', 'chan', 'friend', 'talk', 'animal', 'come', 'door', 'bedroom', 'floor', 'find', 'lead', 'animal', 'yokocho', 'world', 'issa', 'overly', 'innocent', 'soft', 'speak', 'panda', 'kenta', 'highly', 'string', 'red', 'scarf', 'love', 'bear', 'constant', 'tough', 'guy', 'act', 'iyo', 'rabbit', 'usually', 'hold', 'enjoyment', 'happiness', 'safety', 'friend', '5', 'year', 'old', 'ami', 'chan', 'easily', 'rational', 'group', 'little', 'wary', 'eventually', 'come', 'start', 'spend', 'free', 'time', 'typical', 'day', 'involve', 'ami', 'chan', 'different', 'thing', 'pass', 'time', 'play', 'seemingly', 'innocent', 'game', 'aniyoko', 'style', 'unfortunately', 'ami', 'chan', 'aniyoko', 'version', 'usually', 'turn', 'drastically', 'different', 'logical', 'usually', 'dangerous', 'ordinary', 'version', 'adventure', 'comedy', 'fantasy', 'manga', 'anime', 'animation', 'animal', 'tv', 'tokyo', 'geneon', 'universal', 'entertainment', 'dentsu', 'tv', 'tokyo', 'music', 'dentsu', 'tec', 'erika', 'michael', 'c.', 'pizzuto', 'yuko', 'sato', 'nao', 'nagasawa', 'rumi', 'shishido', 'akira', 'ishida', 'candice', 'moore', 'andrea', 'kwan', 'day', 'family', 'new', 'house', '5', 'year', 'old', 'ami', 'chan', 'friend', 'talk', 'animal', 'come', 'door', 'bedroom', 'floor', 'find', 'lead', 'animal', 'yokocho', 'world', 'issa', 'overly', 'innocent', 'soft', 'speak', 'panda', 'kenta', 'highly', 'string', 'red', 'scarf', 'love', 'bear', 'constant', 'tough', 'guy', 'act', 'iyo', 'rabbit', 'usually', 'hold', 'enjoyment', 'happiness', 'safety', 'friend', '5', 'year', 'old', 'ami', 'chan', 'easily', 'rational', 'group', 'little', 'wary', 'eventually', 'come', 'start', 'spend', 'free', 'time', 'typical', 'day', 'involve', 'ami', 'chan', 'different', 'thing', 'pass', 'time', 'play', 'seemingly', 'innocent', 'game', 'aniyoko', 'style', 'unfortunately', 'ami', 'chan', 'aniyoko', 'version', 'usually', 'turn', 'drastically', 'different', 'logical', 'usually', 'dangerous', 'ordinary', 'version', 'gallop', 'animal', 'yokochou']\", 'score': 7.26, 'producer': 'TV Tokyo, Geneon Universal Entertainment, Dentsu, TV Tokyo Music, Dentsu Tec', 'studio': 'Gallop', 'licensors': 'UNKNOWN', 'cf_recs': 'Komatsu Sakyo Anime Gekijou, Gokyoudai Monogatari, Gu-Gu Ganmo (Movie), Guitar, Onigiri ni Naritai Cogimyun, Man with a Mission Animated Short Movie, Hayabusa: Back to the Earth - Kikan, Robot King, Zhu Zhu Xia: Wu Xia 2008, Capsule Samurai', 'pop_recs': 'Cowboy Bebop, Escaflowne, GetBackers, Hachimitsu to Clover, Hajime no Ippo, Hikaru no Go, Cowboy Bebop: Tengoku no Tobira, Gantz, Hoshi no Koe, Hunter x Hunter', 'rating': 'UNKNOWN', 'air_date': 'Oct 4, 2005 to Sep 26, 2006'})]"
      ]
     },
     "execution_count": 163,
     "metadata": {},
     "output_type": "execute_result"
    }
   ],
   "source": [
    "query = \"I like monkey d luffy\"\n",
    "docs = retriever.invoke(\n",
    "    query,\n",
    ")\n",
    "\n",
    "docs"
   ]
  },
  {
   "cell_type": "code",
   "execution_count": 159,
   "metadata": {},
   "outputs": [],
   "source": [
    "db3.save_local(\"faiss_anime_index_colbert\")"
   ]
  },
  {
   "cell_type": "code",
   "execution_count": 155,
   "metadata": {},
   "outputs": [],
   "source": [
    "db1.save_local(\"faiss_anime_index_v3\")\n",
    "db2.save_local(\"faiss_anime_index_v4\")\n"
   ]
  },
  {
   "cell_type": "code",
   "execution_count": 45,
   "metadata": {},
   "outputs": [],
   "source": [
    "new_db = FAISS.load_local(\"faiss_anime_index_v2\", embedding_function,allow_dangerous_deserialization=True)"
   ]
  },
  {
   "cell_type": "code",
   "execution_count": 48,
   "metadata": {},
   "outputs": [],
   "source": [
    "retriever2 = new_db.as_retriever(\n",
    "    search_type=\"mmr\", search_kwargs={\"k\": 20, \"score_threshold\": 0.5, \"lambda_mult\": 0}\n",
    ")"
   ]
  },
  {
   "cell_type": "code",
   "execution_count": 49,
   "metadata": {},
   "outputs": [
    {
     "data": {
      "text/plain": [
       "[Document(page_content=\"welcome to the space show (japanese: 宇宙ショーへようこそ, hepburn: uchū shō e yōkoso) is a 2010 japanese animated science fiction film produced by a-1 pictures and distributed by aniplex. it was directed by koji masunari from a script by hideyuki kurata, and stars the voices of tomoyo kurosawa, honoka ikezuki, shōtarō uzawa, tamaki matsumoto, takuto yoshinaga, and keiji fujiwara. in the film, five children rescue an alien dog, and are rewarded a trip to the moon in response. after events cause the group to become stranded in space, they must find a way to return to earth before the kids' parents arrive.\", metadata={'anime_id': 8115, 'cast': 'Takuto Yoshinaga, Atsuhiro Iwakami, Tomoyo Kurosawa, Hideyuki Kurata, Tomonori Ochikoshi, Masaaki Yuasa, Honoka Ikezuki, Tamaki Matsumoto, Stephanie Sheh, Kôji Masunari', 'episodes': '1.0', 'genre': 'Adventure, Fantasy', 'source': 'Original', 'Duration': '2 hr 16 min', 'name': 'Uchuu Show e Youkoso', 'tokens': 'shock kichi crop beam sheh sho ikezuki broadcast trip spend story plot strand remote shotaro star stephanie keiji kid series yokoso manage return corn producer health homeworld dog interstellar tractor root way pet pochi festival \\n\\n\\n\\n natsuki boy plant space uzawa japanese cause surpass ship source use ochikoshi iwakami voice substance \\n tell Yu field parent work act carry galaxy debut group a-1 strange fail invite defeat fantasy masunari break girl introduce atsuhiro yoshinaga takuto circle shiyo wasabi help mysterious god welcome thug retrieve rabbit process save able Zhou particular amane \\n\\n\\n  elementary hunt zughan entire reach reward matsumoto youkoso koji mountain place lead entertainment fujiwara visit tamaki pursue spaceship child hepburn research picture revolve kurosawa relative variety home fiction uchuu vacation.the uchu host life bag arrive age friend directorial rescue animate moon bent heyoukoso honoka original neppo kurata tomonori suddenly 2010 produce class close yuasa village schoolmate science aniplex researcher film henchman alien universe look miss kidnap steal hideyuki pyon direct summer come adventure masaaki e accord injure rickman popular appear target nurse distribute wan response script find run event tomoyo responsible war earth school require speak power turn camping scale', 'score': 7.3, 'producer': 'Aniplex', 'studio': 'A-1 Pictures', 'licensors': 'NYAV Post, GKIDS'}),\n",
       " Document(page_content='in the year 2071, roughly fifty years after an accident with a hyperspace gateway that made earth almost uninhabitable, humanity has colonized most of the rocky planets and moons of the solar system. amid a rising crime rate, the inter solar system police (issp) set up a legalized contract system, in which registered bounty hunters (also referred to as \"cowboys\") chase criminals and bring them in alive in return for a reward. the series\\' protagonists are bounty-hunters working from the spaceship bebop. the original crew is spike spiegel, an exiled former hitman of the criminal red dragon syndicate, and jet black, a former issp officer. they are later joined by faye valentine, an amnesiac con artist; edward, an eccentric child, skilled in hacking; and ein, a genetically-engineered pembroke welsh corgi with human-like intelligence. throughout the series, the team gets involved in disastrous mishaps leaving them without money, while often confronting faces and events from their past:', metadata={'anime_id': 1, 'cast': \"Isshin Chiba, Kevin Seymour, Hajime Yatate, Unshô Ishizuka, Shin'ichirô Watanabe, Beau Billingslea, Steve Blum, Megumi Hayashibara, Wendee Lee, Kôichi Yamadera\", 'episodes': '26.0', 'genre': 'Action, Award Winning, Sci-Fi', 'source': 'Original', 'Duration': '24 min per ep', 'name': 'Cowboy Bebop', 'tokens': \"character \\n\\n\\n\\n\\n con sunrise send reunite year license screenwriter regard hide space japanese existential incorporate fake wendee \\n director particularly eventually hiding work wide hyperspace soundtrack welsh animaze rocky introduce focus help corgi protagonist unsho save crime follow early action dispatch hunt seymour member red television intergalactic accident cryogenically hayashibara lead confrontation spaceship dragon child uninhabitable kawamoto fiction garner officer conclude hail loneliness designer roughly protect bring laud 2071 girlfriend film blum hitman shin'ichiro faye animation mishap injure staircase notably fi western run death credit keiko dark plague earth swim session 2001 black genetically 1998 air wave series grow apologize composer amid later noir use adult involve infiltrate critic zealand gateway tokyo win tough theft united visual ambitious amnesiac timeless \\n\\n\\n  episode planet resolve money reward number nobumoto hacking production chiba pair bebop syndicate sci variety friend viewer steve science young lee skilled acting kauboi title spiegel floor come main america wound criminal alive issp refer zro exile time english escape 1999 audience seek solar killing rivalry battle broadcast seriously partner deadly aboard collectively australia beez disastrous beau having ground building receive mechanical voice yamane watanabe coup register face commercial vicious rise hajime kanno fall yoko present human team d'etat draw eccentric bibappu past prominent toshihiro murder join britain bounty travel life kill heavily kaubo leave intend jet engineer market isshin award genre valentine north look megumi anime madman states good ishizuka humanity like boredom billingslea limited wowow woman style jazz surface sky release cowboy major crew ein end yatate fill affair story international stage neo return descend sun confront acclaim remain julia ensue final 2000s colonize complete originally contract bill reason galaxy blackmail arc hacker outlaw tv finally chase freeze shinichiro artist eliminate pembroke affiliate rate kimitoshi music limit success entertainment intelligence bandai hepburn inability crunchyroll episodic create spike critical theme settlement plan gets animate moon original expand legalize society system drug set new begin kevin yamadera inter hunter ibibatsupu include find event edward koichi dub police\", 'score': 8.75, 'producer': 'Bandai Visual', 'studio': 'Sunrise', 'licensors': 'Funimation, Bandai Entertainment'}),\n",
       " Document(page_content='the series is set in the year 5808; human civilization has taken gigantic steps in the conquest of the space, and with the creation of the three-dimensional tunnel, people can travel to any galaxy in the universe. \"the gentleman of the cosmos\" is a company that manages the tunnel and has come to dominate the tourism industry.', metadata={'anime_id': 1891, 'cast': 'UNKNOWN', 'episodes': '50.0', 'genre': 'Adventure, Comedy, Sci-Fi', 'source': 'Original', 'Duration': '25 min per ep', 'name': 'YAT Anshin! Uchuu Ryokou', 'tokens': 'solar character anshin dominate 5808 pay tour gigantic tunnel organise 1998 old ann midst result whereabout air plot Lu explosion month series transporting goal second manage damage commander year obscurity hoshiwatari untroubled rule whereabouts center mother emperor \\n\\n\\n\\n space ship Xing source gentleman use involve scientific conquest \\n Yu cosmo work step galaxy creation shroud yatto daughter group device \\n\\n ganon girl discover attain emergence cat far help fall mysterious 1997 journey link spark problem lady transport compensation Zhou human nota psychic search \\n\\n\\n  participate kanea traveller photograph disappear love planet dimensional different aim accident past place know yat spaceship civilization revolve create person sci designate home outside xebec uchuu form tac uchu travel destruction september leave original tourism pinky background produce 1996 addition system young set october people new soon nhk universe anime kidnap industry april like come owner adventure adolescent teletransportation era main ago want Xin goro yatAn fi father professor find katsura order tag comedy train responsible janitor kidnapped yamamoto unknown mechanic ryokou company ryoko conflicting earth crew power turn japan', 'score': 7.26, 'producer': 'NHK', 'studio': 'Xebec, Group TAC', 'licensors': 'UNKNOWN'}),\n",
       " Document(page_content=\"space invaders is a 1978 shoot 'em up arcade video game developed and released by taito in japan, and licensed to midway manufacturing for overseas distribution. commonly considered as one of the most influential video games of all time, space invaders was the first fixed shooter and set the template for the genre. the goal is to defeat wave after wave of descending aliens with a horizontally moving laser cannon to earn as many points as possible.\", metadata={'anime_id': 48906, 'cast': 'UNKNOWN', 'episodes': '1.0', 'genre': 'Comedy', 'source': 'Unknown', 'Duration': '5 min', 'name': 'Yawaraka Sensha Special', 'tokens': \"console 1980 3.8 shift killer = projectile 1978 fire wave attempt sensha star highest manufacturing special goal laser american loop descend inspiration battleship product mystery license novel net fix advance stationary 1897 having overseas enemy 2022 space ship 1982 immediate horizontally consider overhead complete million defense influential \\n pop beneath right hardware tool icon group \\n\\n\\n defeat commercial 450 shoot earn 1974 represent game taito eliminate immediately usher term \\n\\n\\n  arcade draw breakout screen episode commonly yawaraka reach quadruple tomohiro different pixelated music vcs point gross success start entertainment $ sell speed port partially billion fiction 1975 form adjust low video row life profit 1977 age midway downward gets movement 1976 leave sale designer 'em distribution design protect bring development continue dvd science set template film app award genre alien golden cannon north gun anime begin narrative like world culture player invader nishikado target 1.6 13 numerous fight destroy gradually comedy bunker broadly shooter high unknown war possible release edge shooting bonus custom time endlessly occasionally develop version atari gameplay yamato end japan\", 'score': 0.0, 'producer': 'UNKNOWN', 'studio': 'UNKNOWN', 'licensors': 'UNKNOWN'}),\n",
       " Document(page_content='the space opera follows the misadventures of dandy, an alien bounty hunter who is \"a dandy guy in space\", in search for undiscovered and rare aliens with his robot assistant qt and his feline friend named meow. though he and his crew act with the best intentions, despite being normally dimwitted and next to useless, dandy is unaware that he is being pursued by dr. gel of the gogol empire.\\nthe series has loose continuity, with several episodes featuring the main protagonists and antagonists dying, getting turned into zombies, or getting trapped in different dimensions for periods of time, only for them to show up as normal in the next episode. there are also many references to older science fiction, music, anime and internet culture.', metadata={'anime_id': 20057, 'cast': \"J. Michael Tatum, Jun'ichi Suwabe, Masaaki Yajima, Uki Satake, Alison Viktorin, Hiroyuki Yoshino, Ian Sinclair, Joel McDonald, R. Bruce Elliott, Hiroki Gotô\", 'episodes': '13.0', 'genre': 'Comedy, Sci-Fi', 'source': 'Original', 'Duration': '24 min per ep', 'name': 'Space☆Dandy', 'tokens': \"suwabe season man east traverse broadcast old kingdom hiroki air square michael asia july diner star jst 2013 dandi 2014 series elliott 4 second jun'ichi goto crunchyroll.a 20 dog wear robot australia yen simulcaste license manga block groovy programming enix \\n\\n\\n\\n acquisition desire clean space ship japanese joel dandy march adult trap january yoshino sinclair \\n hard cosmo intention bruce act meow.the galaxy tokyo gel stylize booby aichi strange 2 pt cat oe aloha united tv visual bone qt protagonist 11:30 sbs gangan getting search follow supesu guy \\n\\n\\n  alison hiroyuki appearance feature episode meow money december mcdonald television 5 p.m. die different music assistant limit sony x. dimwitte satake place loose entertainment visit undiscovered explore pursue bandai comic tatum hepburn crunchyroll period sudandei adaptation sci fiction antagonist bounty ian accompany vacuum friend september bs press dimension reference original scenario j. normally 11 3 et yajima produce empire pompadour misadventure science young october despite useless r. osaka alien north normal anime madman states begin 2015 good zombie like fly spacedandy culture internet animation masaaki main dr hunter magazine gogol fuji unique viktorin trusty equally fi america uki mx run namco comedy animax unaware south feline continuity funimation supe time opera english crew swim turn rare japan favorite toonami\", 'score': 7.88, 'producer': 'Bandai Visual, flying DOG, Bandai Namco Entertainment', 'studio': 'Bones', 'licensors': 'Funimation'}),\n",
       " Document(page_content='space ghost is a fictional superhero created by hanna-barbera productions in the 1960s for tv network cbs. he was designed by alex toth.in his original incarnation, he was a superhero who, with his teen sidekicks, jan and jace, and blip the monkey, fought supervillains in outer space. in the 1990s, space ghost was brought back as a host for his own fictional late-night talk show, space ghost coast to coast, on cartoon network, adult swim and gametap. in the 2000s, he was revamped as a serious superhero once again in a mini-series by dc comics.\\n\\n\\n== television series ==', metadata={'anime_id': 40159, 'cast': 'UNKNOWN', 'episodes': '1.0', 'genre': 'Avant Garde', 'source': 'Original', 'Duration': '1 min', 'name': 'The Ghost of Cartoon', 'tokens': 'cartoon music coast = production ookubo ryuu \\n\\n\\n supervillain direct talk incarnation create outer late series tv avant host television network comic_strip fictional alex monkey fight night toth.in revamp teen original hanna mini mndsgn garde unknown \\n\\n\\n  design shower 2000s blip barbera sidekick bring station space jace 1960 superhero d 1990s adult jan cbs swim dc gametap ghost', 'score': 5.01, 'producer': 'UNKNOWN', 'studio': 'UNKNOWN', 'licensors': 'UNKNOWN'}),\n",
       " Document(page_content='cowboy bebop (japanese: カウボーイビバップ, hepburn: kaubōi bibappu) is a japanese neo-noir space western anime television series which aired on tv tokyo and wowow from 1998 to 1999. it was created and animated by sunrise, led by a production team of director shinichirō watanabe, screenwriter keiko nobumoto, character designer toshihiro kawamoto, mechanical designer kimitoshi yamane, and composer yoko kanno, who are collectively billed as hajime yatate.\\nthe series, which ran for twenty-six episodes (dubbed \"sessions\"), is set in the year 2071, and follows the lives of a traveling bounty-hunting crew aboard a spaceship, the bebop. although it incorporates a wide variety of genres, the series draws most heavily from science fiction, western, and noir films. its most prominent themes are existential boredom, loneliness, and the inability to escape one\\'s past.', metadata={'anime_id': 1, 'cast': \"Isshin Chiba, Kevin Seymour, Hajime Yatate, Unshô Ishizuka, Shin'ichirô Watanabe, Beau Billingslea, Steve Blum, Megumi Hayashibara, Wendee Lee, Kôichi Yamadera\", 'episodes': '26.0', 'genre': 'Action, Award Winning, Sci-Fi', 'source': 'Original', 'Duration': '24 min per ep', 'name': 'Cowboy Bebop', 'tokens': \"character \\n\\n\\n\\n\\n con sunrise send reunite year license screenwriter regard hide space japanese existential incorporate fake wendee \\n director particularly eventually hiding work wide hyperspace soundtrack welsh animaze rocky introduce focus help corgi protagonist unsho save crime follow early action dispatch hunt seymour member red television intergalactic accident cryogenically hayashibara lead confrontation spaceship dragon child uninhabitable kawamoto fiction garner officer conclude hail loneliness designer roughly protect bring laud 2071 girlfriend film blum hitman shin'ichiro faye animation mishap injure staircase notably fi western run death credit keiko dark plague earth swim session 2001 black genetically 1998 air wave series grow apologize composer amid later noir use adult involve infiltrate critic zealand gateway tokyo win tough theft united visual ambitious amnesiac timeless \\n\\n\\n  episode planet resolve money reward number nobumoto hacking production chiba pair bebop syndicate sci variety friend viewer steve science young lee skilled acting kauboi title spiegel floor come main america wound criminal alive issp refer zro exile time english escape 1999 audience seek solar killing rivalry battle broadcast seriously partner deadly aboard collectively australia beez disastrous beau having ground building receive mechanical voice yamane watanabe coup register face commercial vicious rise hajime kanno fall yoko present human team d'etat draw eccentric bibappu past prominent toshihiro murder join britain bounty travel life kill heavily kaubo leave intend jet engineer market isshin award genre valentine north look megumi anime madman states good ishizuka humanity like boredom billingslea limited wowow woman style jazz surface sky release cowboy major crew ein end yatate fill affair story international stage neo return descend sun confront acclaim remain julia ensue final 2000s colonize complete originally contract bill reason galaxy blackmail arc hacker outlaw tv finally chase freeze shinichiro artist eliminate pembroke affiliate rate kimitoshi music limit success entertainment intelligence bandai hepburn inability crunchyroll episodic create spike critical theme settlement plan gets animate moon original expand legalize society system drug set new begin kevin yamadera inter hunter ibibatsupu include find event edward koichi dub police\", 'score': 8.75, 'producer': 'Bandai Visual', 'studio': 'Sunrise', 'licensors': 'Funimation, Bandai Entertainment'}),\n",
       " Document(page_content='earth has sovereign states and a unifying earthgov.  colonies within the solar system, and beyond, make up the earth alliance and contact has been made with numerous spacefaring races.  the  ensemble cast portray alien ambassadorial staff and humans assigned to the five mile long babylon 5 space station, a center for trade and diplomacy.  described as \"one of the most complex programs on television\" the various story arcs drew upon the prophesies, religious zealotry, racial tensions, social pressures and political rivalries which existed within each of their cultures to create a contextual frame for the motivations and consequences of the protagonists\\' actions. with a strong emphasis on character development set against a backdrop of conflicting ideologies on multiple levels, straczynski wanted \"to take an adult approach to sf, and attempt to do for television sf what hill street blues did for cop shows.\"the original show spawned a multimedia franchise of spin-offs consisting of a', metadata={'anime_id': 29862, 'cast': 'UNKNOWN', 'episodes': '1.0', 'genre': 'Comedy', 'source': 'Unknown', 'Duration': '3 min', 'name': 'Channel 5.5 4th Season Prologue', 'tokens': 'portray solar zealotry character season write rivalry = depict future fundamentally bros story unifying colony cop douglas michael \"the attempt trade series 5.5 premiere multiple prophesie synthetic second american book producer ensemble year conceive novel center street 92 having approach rpg technical ambassadorial space   adult sovereign commission hill january long executive dle miniserie \\n\\n\\n spacefare arc political strong diplomacy pilot emphasis channel schedule united provide state protagonist spin consist comic_strip 4th babylonian complex prime 2262 racial game human \\n\\n\\n  label netter.set action station program alliance writer draw social movie motivation pten episode earthgov assign television 5 110 describe production entertainment mile spawn create religious staff association video multimedia wargame contact backdrop animate intend original medium j. warner cast 26 development frame system sf set consequence film tension successful contextual alien states direct world culture 2257 prologue want straczynski network tabletop numerous race serve card run comedy blue unknown 1994 babylon franchise earth conflicting ideology domestic time level opera trading ltd pressure airing exist', 'score': 5.13, 'producer': 'UNKNOWN', 'studio': 'DLE', 'licensors': 'UNKNOWN'}),\n",
       " Document(page_content='on a winter night, a mysterious mechanical lion appeared before a married couple, carrying a mysterious baby with it, and left as they took the baby in. about seven years later, high school astronaut guy shishioh is aboard the space shuttle spirits when it collides with an unknown object bound to earth. despite being mortally wounded, the lion rescues him and he returns to earth, holding a mysterious green jewel that leo shishioh uses to revive him as a cyborg.', metadata={'anime_id': 890, 'cast': \"Hisao Egawa, Tomoe Hanba, Kiyoshi Kobayashi, Kôji Ishii, Ken'ichi Ogata, Maiko Itô, Miki Narahashi, Tsutomu Kashiwakura, Nobuyuki Hiyama, Konami Yoshida\", 'episodes': '49.0', 'genre': 'Action, Adventure, Sci-Fi', 'source': 'Original', 'Duration': '25 min per ep', 'name': 'Yuusha-Ou GaoGaiGar', 'tokens': \"revive seek character stone battle 1998 ou geoid yoshitake hisao tomoe studio air brave aboard kimura kunio yoshitomo kobayashi series sunrise assist transform return producer couple maiko gaogaigar robot year alongside night son power invade \\n\\n\\n\\n creature later boy space underground japanese care use tokyu cyborg ishii crash mechanical shuttle january defense encounter burn yuusha \\n director kohei hanba carry amami egawa tokyo married spare group pilot shishioh discover victor art female guard secret connect tv tomoaki live gutsy mysterious 2005 giant kashiwakura 1997 ito takahiro Zhe zonder february konami okada rebuild 31 organize nagoya affiliate astronaut object ken'ichi guy \\n\\n\\n  team action station appearance element awesome member mamoru city rear television spirit music hiyama galeon koji technology know lion entertainment o jewel begins collide origin hope create sci pull life shishio kill miki rescue winter yusha leave original designer narahashi nearly vehicle bind design tanaka ogata 3 bring protect baby produce brigade nobuyuki g Wang agency gaogaiga- fuse young people despite installment alien green normal anime seven 1 leo launch suzuki gaogaiga equip adventure animation yoshida asahi yonetani ultimate nudity ggg appear family internal fi race father response script eighth fight wound tsutomu aid attack okawara monster core unknown high weapon franchise earth purify shattered stop school kiyoshi 7 king hold emerge mecha division handle uncover mortally Yong\", 'score': 7.84, 'producer': 'Victor Entertainment', 'studio': 'Sunrise', 'licensors': 'Media Blasters, Discotek Media'}),\n",
       " Document(page_content=\"however, before mimu has the chance to sing in front of yuri, yuri and the excellent idols are kidnapped by aliens and taken to another universe. the group lands on the tropical dimension's bali hawaii, where they are warmly welcomed. a competition is about to begin in two hours to raise bali hawaii's sun, and idols from all over space arrive to take part. the owner, mr bananaan, desires for the excellent idols to win, since they are his most recent obsession. the competition includes several activities, such as the swing ski, muddy quiz contest, and water-scooter fight. after several comical events, yuri mistakenly is named the only one able to help the sun rise again for the first time.\\nafter the competition, mimu must save up enough money to make it back to starland, her hometown which is universes away.\", metadata={'anime_id': 2072, 'cast': 'UNKNOWN', 'episodes': '4.0', 'genre': 'Adventure, Comedy', 'source': 'Visual novel', 'Duration': '30 min per ep', 'name': 'Idol Project', 'tokens': 'aidorupuroziekuto comical aspire character = competition aidoru strongly corvette english)palpu easily peace rank idol old sue english)corvette project audition studio stage essenporuka motivate goose ekusutora*hai series guitar feely english)ruka spot befriend discourage philosophy actress sun stuff away year scooter novel usually kick loves believe exposure festival annual beginning singing bath desire talent model Meng warmly pianist space japanese source quiz animal kouda consider oav collect friendly activity involve contest voice unusual successor dixon expert 14 english)layla \\n extremely extraordinary kikuko palpu endearment intimate work excellent quickly pickering rhythm swing reira group \\n\\n\\n purojekuto ox \\n\\n advice win girl superfluous reira*b*shimonzu rise tough stardom ski wilkinson ekusutora maul art satomi situation 6 extra essenpolka united help kaido arden motto visual ambitious inoue short welcome parupu*Lan chance beth koorogi chase position 16 tropical save lady korubetto able follow \\n\\n\\n  celebrated aya hawaii sleep kanai gut current tirelessly soft fan obsession whirlwind episode land shimonzu love money ruka mimu simmons music animenfo zu mika place hisakawa korubetsuto*haiya michelle relationship parupu speed join especially sign 17 energetic punch smile kss video arrive lose 9 age b. outgoing ranrang hour dimension confidence raise ruff original rockstar hinako recent rival large Wei ellen bananaan mistakenly bi water bring produce starland 1995 dignity class ruka*etsusenporuka unfortunately fourteen sing role misadventure wild dream palpurin mr Tang people president alien gritty kanamaru universe probably martial anime begin haiyazu kidnap good hometown emiruton like world tina come owner reveal julie armstrong adventure animation aspiration yuri hiyard appear 13 undergarment add include emilton fight disposition interdimensional event english)extra layla comedy encourage relax unknown ranran high bali earth mariko muddy time superhero touchy english escape willow cute kaidou dancer', 'score': 5.74, 'producer': 'KSS', 'studio': 'Studio OX', 'licensors': 'Media Blasters'}),\n",
       " Document(page_content='space-time prisoners (时空囚徒) is a vampire survival action chinese webcomic written and illustrated by bai xiao. on october 1, 2016, a chinese-japanese animation adaptation titled bloodivores (ブラッディヴォーレス) began airing. the series is directed by chen ye and produced by emon and animated by namu animation and creators in pack.', metadata={'anime_id': 33985, 'cast': 'UNKNOWN', 'episodes': '12.0', 'genre': 'Action, Mystery, Supernatural', 'source': 'Web manga', 'Duration': '24 min per ep', 'name': 'Bloodivores', 'tokens': 'character fill write specie old ann air strike mad special series sentence completely manage send wear year mystery survival mi namu liu thing manga robbery pack \\n\\n\\n\\n location effect vilify later mission space japanese greet source cure chinese supernatural collar suffer defense trap bear \\n insomnia eventually arrest prison bank 2016 ringleader solve monitor \\n\\n strange break girl bai Tu connect mysterious ye represent throw cloud22 unable free human awake \\n\\n\\n  necklace action emon sleep bloodivore xiao creator entire emotion control number capital case population triumph place transfer chen anji child signal hope adaptation deprive fear birthplace webcomic resu medicine Kong unexplainable kill friend Qiu animate 60 large rob illustrate produce force victim try agency october people new announce begin 1 title humanity direct town reveal animation national main ago illness happen prisoner find fight patient attack Shi web death monster blue unknown war explosive hero vampire survive lot stay time police buratsudeivuo week prevent rage correspond turn', 'score': 5.47, 'producer': 'Emon, Cloud22', 'studio': 'Creators in Pack, Namu Animation', 'licensors': 'UNKNOWN'}),\n",
       " Document(page_content=\"sci-fi west saga starzinger (sf西遊記スタージンガー, esu efu saiyūki sutājingā), known as spaceketeers in the united states, is an anime series produced by toei animation. it is a sci-fi remake/adaptation of wu cheng'en's fantasy novel journey to the west. it was directed by yugo serikawa and written by leiji matsumoto. it aired in fuji tv in japan from april 2, 1978, to august 24, 1979. in the united states, it was referred to as spaceketeers and was part of jim terry's force five series. in the united kingdom, it was referred to as sci-bots on vhs releases. in latin america, it was known as el galáctico.\", metadata={'anime_id': 1236, 'cast': 'Kei Tomiyama, Kazuko Sugiyama, Eiko Masuyama, Hiroya Ishimaru, Kôsei Tomita', 'episodes': '73.0', 'genre': 'Action, Adventure, Sci-Fi', 'source': 'Original', 'Duration': '25 min per ep', 'name': 'SF Saiyuuki Starzinger', 'tokens': \"hakka write = battle old kingdom 1978 story air august series grow toei transform starman cyborgs year kei queen zinga- novel kazuko saiyuki saga remake cyborg tomita \\n 2072 spaceketeer perish energy kosei powerless galaxy \\n\\n\\n 2 fantasy el united tv journey efu yugo \\n\\n\\n  action galactico esu planet matsumoto restore die know cheng'en vhs revolve sci adaptation leiji serikawa starzinger travel aurora 1979 24 friend sa moon original unbalanced Ji wu produce force eiko west jim mineral terry sf set princess new alien universe states anime volunteer sutajinga direct april adventure kugo sugiyama kogo animation suta hiroya don great masuyama powerful fuji bot dangerous fi america professor include race escort sfxi companion unknown refer jogo release king ishimaru jan latin djorgo tomiyama saiyuuki japan\", 'score': 6.96, 'producer': 'UNKNOWN', 'studio': 'Toei Animation', 'licensors': 'UNKNOWN'}),\n",
       " Document(page_content='there exists the cosmos warriors, a team tasked with the duty of protecting freedom, justice, and peace of the universe. when the master of the cosmos warriors was killed onboard a traveling spaceship and the rest of the passengers were kidnapped by the sinister green people, captain leo soon uncovers a malicious plan that would put the fate of the people of earth on the balance.', metadata={'anime_id': 16822, 'cast': 'UNKNOWN', 'episodes': '1.0', 'genre': 'Action, Sci-Fi', 'source': 'Original', 'Duration': '1 hr 20 min', 'name': 'Uju Heukgisa', 'tokens': 'captain cosmo balance freedom soon universe green peace leo kidnap spaceship fate warrior sci travel sinister kill rest uju task plan fi malicious onboard heukgisa duty original unknown team master protect action earth passenger justice uncover exist people', 'score': 4.28, 'producer': 'UNKNOWN', 'studio': 'UNKNOWN', 'licensors': 'UNKNOWN'}),\n",
       " Document(page_content=\"space brothers (japanese: 宇宙兄弟, hepburn: uchū kyōdai) is a japanese manga series written and illustrated by chūya koyama. it has been serialized in kodansha's seinen manga magazine morning since december 2007. a 99-episode anime television series adaptation by a-1 pictures aired from april 2012 to march 2014. the manga was also adapted into a live-action film that premiered in may 2012. an anime film, space brothers #0, premiered in august 2014.\\nin 2011, space brothers won the general category at both, the 56th shogakukan manga award and the 35th kodansha manga award. by march 2022, the manga had 28 million copies in circulation, making it one of the best-selling manga series.\\n\\n\\n== story ==\", metadata={'anime_id': 12431, 'cast': 'Shô Ryûzanji, Miyuki Sawashiro, Yûko Sanpei, Hiroaki Hirata, Masayuki Katô, Masako Ikeda, Kenichiro Ohashi', 'episodes': '99.0', 'genre': 'Comedy, Sci-Fi', 'source': 'Manga', 'Duration': '24 min per ep', 'name': 'Uchuu Kyoudai', 'tokens': 'seek hirata write = sawashiro sho chuya kenichiro story air shogakukan august series 2014 premiere phenomenon jaxa year ohashi night 2025 nineteen manga believe later mission 2022 space japanese kyodai march hibito witness hand achieve whilst receive million unusual telecasting ufo \\n eventually Yu ahead nanba step \\n\\n\\n a-1 \\n\\n fledged win 2007 ryuzanji adapt masako 56th kato live mutta hiroaki state Zhou 2011 training astronaut 28 follow \\n\\n\\n  action program accept episode morning december assign television general category aim past kodansha lead convince masayuki seinen sell kyoudai hepburn join picture letter adaptation sci yuko uchuu fiction longtime uchu mar circulation impressing eld 35th ikeda moon decide Di sanpei illustrate sibling nasa trinity copy science young dream yomiuri 99 film recall award successful fateful new 0 serialize anime miyuki april summer fly like sound magazine 2012 vow base 2006 fi fully Xiong comedy koyama ambition brother', 'score': 8.5, 'producer': 'Yomiuri Telecasting, Trinity Sound', 'studio': 'A-1 Pictures', 'licensors': 'Sentai Filmworks'}),\n",
       " Document(page_content=\"space travelers: the animation (スペース・トラベラーズ the animation, supesutoraberaz the animation) is a 2000 science fiction and action japanese straight to video full-length animated film produced by fuji television network and robot films. the anime ties back to 2000's live action comedy film space travelers directed by katsuyuki motohiro, also produced by fuji television network and robot films.\", metadata={'anime_id': 3817, 'cast': 'UNKNOWN', 'episodes': '1.0', 'genre': 'Sci-Fi', 'source': 'Unknown', 'Duration': '59 min', 'name': 'Space Travelers The Animation', 'tokens': 'hayabusa day ring colony jetter supply century robot length spherical \\n\\n\\n\\n idea mission deliver space underground japanese source gentleman vital \\n \\n\\n unmarked break sphere key tv live mysterious transport hire \\n\\n\\n  action package accept traveller entire cut control television zu know simple civilization straight sci fiction destiny communication resistance video life animate movement cosmic 2000 suddenly produce mankind system science hayabusha traveler container film 038 new alien misfit risk soon supesutoraberaz anime humanity direct tie wikipedia pirate animation orbital su*torabera network fuji fi katsuyuki motohiro comedy attack aid unknown smuggler earth supe hold band line', 'score': 5.23, 'producer': 'Fuji TV, Robot Communications', 'studio': 'UNKNOWN', 'licensors': 'Media Blasters'}),\n",
       " Document(page_content='space dandy, stylized as space☆dandy (japanese: スペース☆ダンディ, hepburn: supēsu dandi), is a 2014 japanese comic science fiction anime television series produced by bones. the series follows the misadventures of dandy, an alien hunter who is \"a dandy guy in space\", in search for undiscovered and rare aliens with his robot assistant qt and his feline-like friend named meow.the anime has been licensed by funimation in north america, madman entertainment in australia and by anime limited in the united kingdom. the series first aired in the united states on january 4, 2014 at 11:30 p.m. et/pt on adult swim\\'s toonami programming block. the series began airing in japan on tokyo mx at 11 p.m. jst on january 5, 2014, followed by tv osaka, tv aichi, bs fuji and at-x. the series is simulcasted in south east asia at the same time as japan on animax asia. the series has also been broadcast in australia on sbs 2 since 3 october 2015. following sony\\'s acquisition of crunchyroll, the series was moved to', metadata={'anime_id': 20057, 'cast': \"J. Michael Tatum, Jun'ichi Suwabe, Masaaki Yajima, Uki Satake, Alison Viktorin, Hiroyuki Yoshino, Ian Sinclair, Joel McDonald, R. Bruce Elliott, Hiroki Gotô\", 'episodes': '13.0', 'genre': 'Comedy, Sci-Fi', 'source': 'Original', 'Duration': '24 min per ep', 'name': 'Space☆Dandy', 'tokens': \"suwabe season man east traverse broadcast old kingdom hiroki air square michael asia july diner star jst 2013 dandi 2014 series elliott 4 second jun'ichi goto crunchyroll.a 20 dog wear robot australia yen simulcaste license manga block groovy programming enix \\n\\n\\n\\n acquisition desire clean space ship japanese joel dandy march adult trap january yoshino sinclair \\n hard cosmo intention bruce act meow.the galaxy tokyo gel stylize booby aichi strange 2 pt cat oe aloha united tv visual bone qt protagonist 11:30 sbs gangan getting search follow supesu guy \\n\\n\\n  alison hiroyuki appearance feature episode meow money december mcdonald television 5 p.m. die different music assistant limit sony x. dimwitte satake place loose entertainment visit undiscovered explore pursue bandai comic tatum hepburn crunchyroll period sudandei adaptation sci fiction antagonist bounty ian accompany vacuum friend september bs press dimension reference original scenario j. normally 11 3 et yajima produce empire pompadour misadventure science young october despite useless r. osaka alien north normal anime madman states begin 2015 good zombie like fly spacedandy culture internet animation masaaki main dr hunter magazine gogol fuji unique viktorin trusty equally fi america uki mx run namco comedy animax unaware south feline continuity funimation supe time opera english crew swim turn rare japan favorite toonami\", 'score': 7.88, 'producer': 'Bandai Visual, flying DOG, Bandai Namco Entertainment', 'studio': 'Bones', 'licensors': 'Funimation'}),\n",
       " Document(page_content='welcome to the space show, whose story \"surpasses star wars in its scale\" according to its producers, tells of the four adventures of five schoolmates and an alien dog in space during summer vacation.the plot revolves around five elementary school kids on their \"school trip\". in the process of looking for their missing class pet (a rabbit named pyon-kichi), the children rescue a dog they find injured in a corn field. the dog turns out to be an alien called pochi rickman, and he invites them to visit the moon as a reward for helping him. however, through a series of strange events, they become stranded and must make their way across the galaxy to get to pochi\\'s homeworld, wan, so that they may return to earth. along the way they are pursued by the aliens responsible for pochi being injured in the first place. the aliens work for the host (called neppo) of the universe\\'s most popular entertainment, \"the space show\", which appears to be a variety act broadcast from a mysterious moving', metadata={'anime_id': 8115, 'cast': 'Takuto Yoshinaga, Atsuhiro Iwakami, Tomoyo Kurosawa, Hideyuki Kurata, Tomonori Ochikoshi, Masaaki Yuasa, Honoka Ikezuki, Tamaki Matsumoto, Stephanie Sheh, Kôji Masunari', 'episodes': '1.0', 'genre': 'Adventure, Fantasy', 'source': 'Original', 'Duration': '2 hr 16 min', 'name': 'Uchuu Show e Youkoso', 'tokens': 'shock kichi crop beam sheh sho ikezuki broadcast trip spend story plot strand remote shotaro star stephanie keiji kid series yokoso manage return corn producer health homeworld dog interstellar tractor root way pet pochi festival \\n\\n\\n\\n natsuki boy plant space uzawa japanese cause surpass ship source use ochikoshi iwakami voice substance \\n tell Yu field parent work act carry galaxy debut group a-1 strange fail invite defeat fantasy masunari break girl introduce atsuhiro yoshinaga takuto circle shiyo wasabi help mysterious god welcome thug retrieve rabbit process save able Zhou particular amane \\n\\n\\n  elementary hunt zughan entire reach reward matsumoto youkoso koji mountain place lead entertainment fujiwara visit tamaki pursue spaceship child hepburn research picture revolve kurosawa relative variety home fiction uchuu vacation.the uchu host life bag arrive age friend directorial rescue animate moon bent heyoukoso honoka original neppo kurata tomonori suddenly 2010 produce class close yuasa village schoolmate science aniplex researcher film henchman alien universe look miss kidnap steal hideyuki pyon direct summer come adventure masaaki e accord injure rickman popular appear target nurse distribute wan response script find run event tomoyo responsible war earth school require speak power turn camping scale', 'score': 7.3, 'producer': 'Aniplex', 'studio': 'A-1 Pictures', 'licensors': 'NYAV Post, GKIDS'}),\n",
       " Document(page_content='the series is set in the year 5808; human civilization has taken gigantic steps in the conquest of the space, and with the creation of the three-dimensional tunnel, people can travel to any galaxy in the universe. \"the gentleman of the cosmos\" is a company that manages the tunnel and has come to dominate the tourism industry.', metadata={'anime_id': 1892, 'cast': 'UNKNOWN', 'episodes': '25.0', 'genre': 'Adventure, Comedy, Sci-Fi', 'source': 'Original', 'Duration': '25 min per ep', 'name': 'YAT Anshin! Uchuu Ryokou 2', 'tokens': 'character anshin dominate 5808 pay tour gigantic tunnel 1998 ann air plot Lu explosion month series transporting second manage damage commander away year hoshiwatari untroubled rule whereabouts portable center mother emperor invent \\n\\n\\n\\n maron space ship Xing subsequently gentleman source use scientific note encounter suffer conquest \\n Yu cosmo capture work step galaxy creation yatto daughter group device \\n\\n 2 ganon girl discover outer cat far help fall mysterious 1997 problem throw lady transport Zhou human nota psychic follower \\n\\n\\n  kanea disappear love scientist evil planet dimensional aim accident past place know yat machine civilization revolve create person sci home uchuu tac uchu travel baras september rescue leave original tourism pinky produce 1996 addition young set october people soon nhk universe monarch anime instantaneous kidnap industry april like come owner adventure adolescent teletransportation realm main ago want Xin goro yatAn fi father professor find katsura order tag comedy attack responsible janitor kidnapped yamamoto unknown mechanic ryokou company ryoko conflicting earth time crew power turn japan', 'score': 7.25, 'producer': 'NHK', 'studio': 'Group TAC', 'licensors': 'UNKNOWN'}),\n",
       " Document(page_content='in the year 2071, roughly fifty years after an accident with a hyperspace gateway that made earth almost uninhabitable, humanity has colonized most of the rocky planets and moons of the solar system. amid a rising crime rate, the inter solar system police (issp) set up a legalized contract system, in which registered bounty hunters (also referred to as \"cowboys\") chase criminals and bring them in alive in return for a reward. the series\\' protagonists are bounty-hunters working from the spaceship bebop. the original crew is spike spiegel, an exiled former hitman of the criminal red dragon syndicate, and jet black, a former issp officer. they are later joined by faye valentine, an amnesiac con artist; edward, an eccentric child, skilled in hacking; and ein, a genetically-engineered pembroke welsh corgi with human-like intelligence. throughout the series, the team gets involved in disastrous mishaps leaving them without money, while often confronting faces and events from their past:', metadata={'anime_id': 5, 'cast': \"Melissa Fahn, Tensai Okamura, Nicholas Guest, Hiroyuki Okiura, Keiko Nobumoto, Shin'ichirô Watanabe, Beau Billingslea, Yoshiyuki Takei, Mary Elizabeth McGlynn, Kôichi Yamadera\", 'episodes': '1.0', 'genre': 'Action, Sci-Fi', 'source': 'Original', 'Duration': '1 hr 55 min', 'name': 'Cowboy Bebop: Tengoku no Tobira', 'tokens': \"character \\n\\n\\n\\n\\n tensai con sunrise send reunite fahn year license screenwriter regard hide space japanese existential incorporate fake \\n director particularly eventually hiding work wide hyperspace soundtrack welsh animaze rocky introduce focus help corgi bone protagonist save crime follow early action routine dispatch hunt member red perpetrator television accident cryogenically lead confrontation spaceship dragon child uninhabitable kawamoto fiction garner officer conclude hail loneliness designer smoke tobira roughly protect bring nicholas laud 2071 girlfriend film whopping hitman shin'ichiro faye takei animation mishap mass injure staircase notably target okamura fi western run death credit keiko earth hysteria swim session 2001 black guest genetically elizabeth 1998 air explode wave series apologize composer amid later noir adult involve infiltrate okiura critic zealand gateway tokyo strange united visual ambitious amnesiac \\n\\n\\n  episode planet resolve money reward nobumoto hacking production pair bebop syndicate sci variety mar friend tanker viewer interrupt soldier science young skilled acting kauboi title spiegel floor come main america wound criminal alive issp refer zro exile time english escape 1999 audience seek solar killing rivalry day battle broadcast seriously partner deadly aboard mcglynn melissa collectively spread australia tengoku beez disastrous beau having ground building receive mechanical voice yamane watanabe coup register face commercial vicious rise hajime female kanno fall yoko present human team d'etat draw hiroyuki eccentric bibappu past prominent place worthless toshihiro join britain bounty fairly blast travel mary life kill heavily kaubo leave intend jet engineer terrorist market award genre valentine north look anime madman states good mount humanity casualty like boredom billingslea limited wowow woman style price sky release cowboy major crew ein end suppose yatate disease affair story international stage neo return descend sun confront acclaim remain julia ensue final yoshiyuki 2000s colonize cause witness complete million originally contract bill reason blackmail army arc tv finally chase freeze shinichiro artist eliminate pembroke affiliate rate kimitoshi limit success entertainment head intelligence bandai hepburn inability crunchyroll episodic create spike critical theme plan gets animate moon original woolong legalize suddenly system set new unlucky begin yamadera inter hunter ibibatsupu include find oil event edward koichi dub police\", 'score': 8.38, 'producer': 'Sunrise, Bandai Visual', 'studio': 'Bones', 'licensors': 'Sony Pictures Entertainment'}),\n",
       " Document(page_content='cowboy bebop (japanese: カウボーイビバップ, hepburn: kaubōi bibappu) is a japanese neo-noir space western anime television series which aired on tv tokyo and wowow from 1998 to 1999. it was created and animated by sunrise, led by a production team of director shinichirō watanabe, screenwriter keiko nobumoto, character designer toshihiro kawamoto, mechanical designer kimitoshi yamane, and composer yoko kanno, who are collectively billed as hajime yatate.\\nthe series, which ran for twenty-six episodes (dubbed \"sessions\"), is set in the year 2071, and follows the lives of a traveling bounty-hunting crew aboard a spaceship, the bebop. although it incorporates a wide variety of genres, the series draws most heavily from science fiction, western, and noir films. its most prominent themes are existential boredom, loneliness, and the inability to escape one\\'s past.', metadata={'anime_id': 5, 'cast': \"Melissa Fahn, Tensai Okamura, Nicholas Guest, Hiroyuki Okiura, Keiko Nobumoto, Shin'ichirô Watanabe, Beau Billingslea, Yoshiyuki Takei, Mary Elizabeth McGlynn, Kôichi Yamadera\", 'episodes': '1.0', 'genre': 'Action, Sci-Fi', 'source': 'Original', 'Duration': '1 hr 55 min', 'name': 'Cowboy Bebop: Tengoku no Tobira', 'tokens': \"character \\n\\n\\n\\n\\n tensai con sunrise send reunite fahn year license screenwriter regard hide space japanese existential incorporate fake \\n director particularly eventually hiding work wide hyperspace soundtrack welsh animaze rocky introduce focus help corgi bone protagonist save crime follow early action routine dispatch hunt member red perpetrator television accident cryogenically lead confrontation spaceship dragon child uninhabitable kawamoto fiction garner officer conclude hail loneliness designer smoke tobira roughly protect bring nicholas laud 2071 girlfriend film whopping hitman shin'ichiro faye takei animation mishap mass injure staircase notably target okamura fi western run death credit keiko earth hysteria swim session 2001 black guest genetically elizabeth 1998 air explode wave series apologize composer amid later noir adult involve infiltrate okiura critic zealand gateway tokyo strange united visual ambitious amnesiac \\n\\n\\n  episode planet resolve money reward nobumoto hacking production pair bebop syndicate sci variety mar friend tanker viewer interrupt soldier science young skilled acting kauboi title spiegel floor come main america wound criminal alive issp refer zro exile time english escape 1999 audience seek solar killing rivalry day battle broadcast seriously partner deadly aboard mcglynn melissa collectively spread australia tengoku beez disastrous beau having ground building receive mechanical voice yamane watanabe coup register face commercial vicious rise hajime female kanno fall yoko present human team d'etat draw hiroyuki eccentric bibappu past prominent place worthless toshihiro join britain bounty fairly blast travel mary life kill heavily kaubo leave intend jet engineer terrorist market award genre valentine north look anime madman states good mount humanity casualty like boredom billingslea limited wowow woman style price sky release cowboy major crew ein end suppose yatate disease affair story international stage neo return descend sun confront acclaim remain julia ensue final yoshiyuki 2000s colonize cause witness complete million originally contract bill reason blackmail army arc tv finally chase freeze shinichiro artist eliminate pembroke affiliate rate kimitoshi limit success entertainment head intelligence bandai hepburn inability crunchyroll episodic create spike critical theme plan gets animate moon original woolong legalize suddenly system set new unlucky begin yamadera inter hunter ibibatsupu include find oil event edward koichi dub police\", 'score': 8.38, 'producer': 'Sunrise, Bandai Visual', 'studio': 'Bones', 'licensors': 'Sony Pictures Entertainment'})]"
      ]
     },
     "execution_count": 49,
     "metadata": {},
     "output_type": "execute_result"
    }
   ],
   "source": [
    "query = \"I am a space cowboy\"\n",
    "\n",
    "docs = retriever2.invoke(\n",
    "    query,\n",
    ")\n",
    "\n",
    "docs"
   ]
  },
  {
   "cell_type": "code",
   "execution_count": null,
   "metadata": {},
   "outputs": [],
   "source": []
  }
 ],
 "metadata": {
  "kernelspec": {
   "display_name": "langchain",
   "language": "python",
   "name": "python3"
  },
  "language_info": {
   "codemirror_mode": {
    "name": "ipython",
    "version": 3
   },
   "file_extension": ".py",
   "mimetype": "text/x-python",
   "name": "python",
   "nbconvert_exporter": "python",
   "pygments_lexer": "ipython3",
   "version": "3.10.13"
  }
 },
 "nbformat": 4,
 "nbformat_minor": 2
}
