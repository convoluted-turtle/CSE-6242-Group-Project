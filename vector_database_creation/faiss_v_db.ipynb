{
 "cells": [
  {
   "cell_type": "code",
   "execution_count": 94,
   "metadata": {},
   "outputs": [],
   "source": [
    "import pandas as pd\n",
    "from langchain.docstore.document import Document\n",
    "from langchain.embeddings import HuggingFaceEmbeddings\n",
    "from langchain_community.vectorstores import FAISS\n",
    "from langchain_text_splitters import RecursiveCharacterTextSplitter\n",
    "from tqdm import tqdm\n",
    "import numpy as np\n",
    "import re\n",
    "import pickle\n",
    "#from utils.textpreprocessing import TextPreprocessor"
   ]
  },
  {
   "cell_type": "code",
   "execution_count": 3,
   "metadata": {},
   "outputs": [],
   "source": [
    "encode_kwargs = {\"normalize_embeddings\": True}\n",
    "embedding_function = HuggingFaceEmbeddings(\n",
    "    model_name='sentence-transformers/all-MiniLM-L6-v2',\n",
    "    model_kwargs={\"device\": \"cpu\"},\n",
    "    encode_kwargs=encode_kwargs,\n",
    ")"
   ]
  },
  {
   "cell_type": "code",
   "execution_count": 152,
   "metadata": {},
   "outputs": [
    {
     "name": "stderr",
     "output_type": "stream",
     "text": [
      "No sentence-transformers model found with name colbert-ir/colbertv2.0. Creating a new one with MEAN pooling.\n"
     ]
    },
    {
     "data": {
      "application/vnd.jupyter.widget-view+json": {
       "model_id": "b2fbfbfd4a3448b3a4492c9a763fa58f",
       "version_major": 2,
       "version_minor": 0
      },
      "text/plain": [
       "config.json:   0%|          | 0.00/743 [00:00<?, ?B/s]"
      ]
     },
     "metadata": {},
     "output_type": "display_data"
    },
    {
     "data": {
      "application/vnd.jupyter.widget-view+json": {
       "model_id": "0c250e26934744b8a54a243d5eb33831",
       "version_major": 2,
       "version_minor": 0
      },
      "text/plain": [
       "model.safetensors:   0%|          | 0.00/438M [00:00<?, ?B/s]"
      ]
     },
     "metadata": {},
     "output_type": "display_data"
    },
    {
     "data": {
      "application/vnd.jupyter.widget-view+json": {
       "model_id": "842ecef177504f6eaeadc5a4fa5d6435",
       "version_major": 2,
       "version_minor": 0
      },
      "text/plain": [
       "tokenizer_config.json:   0%|          | 0.00/405 [00:00<?, ?B/s]"
      ]
     },
     "metadata": {},
     "output_type": "display_data"
    },
    {
     "data": {
      "application/vnd.jupyter.widget-view+json": {
       "model_id": "f396b8e4b8de4921a6b7c623906ad217",
       "version_major": 2,
       "version_minor": 0
      },
      "text/plain": [
       "vocab.txt:   0%|          | 0.00/232k [00:00<?, ?B/s]"
      ]
     },
     "metadata": {},
     "output_type": "display_data"
    },
    {
     "data": {
      "application/vnd.jupyter.widget-view+json": {
       "model_id": "3fd7109f3edc40859e256fee3c2560ab",
       "version_major": 2,
       "version_minor": 0
      },
      "text/plain": [
       "tokenizer.json:   0%|          | 0.00/466k [00:00<?, ?B/s]"
      ]
     },
     "metadata": {},
     "output_type": "display_data"
    },
    {
     "data": {
      "application/vnd.jupyter.widget-view+json": {
       "model_id": "38daba308ef746818f755bc4b91ad530",
       "version_major": 2,
       "version_minor": 0
      },
      "text/plain": [
       "special_tokens_map.json:   0%|          | 0.00/112 [00:00<?, ?B/s]"
      ]
     },
     "metadata": {},
     "output_type": "display_data"
    }
   ],
   "source": [
    "encode_kwargs = {\"normalize_embeddings\": True}\n",
    "embedding_function2 = HuggingFaceEmbeddings(\n",
    "    model_name='colbert-ir/colbertv2.0',\n",
    "    model_kwargs={\"device\": \"cpu\"},\n",
    "    encode_kwargs=encode_kwargs,\n",
    ")"
   ]
  },
  {
   "cell_type": "code",
   "execution_count": 82,
   "metadata": {},
   "outputs": [],
   "source": [
    "df = pd.read_json('/Users/justinvhuang/Desktop/CSE-6242-Group-Project/fin_anime_dfv2.json')"
   ]
  },
  {
   "cell_type": "code",
   "execution_count": 83,
   "metadata": {},
   "outputs": [],
   "source": [
    "def compare_and_replace(row):\n",
    "    if len(row['anime_Synopsis']) > len(row['text']):\n",
    "        row['text'] = row['anime_Synopsis']\n",
    "    return row"
   ]
  },
  {
   "cell_type": "code",
   "execution_count": 84,
   "metadata": {},
   "outputs": [],
   "source": [
    "df = df.apply(compare_and_replace, axis=1)"
   ]
  },
  {
   "cell_type": "code",
   "execution_count": 85,
   "metadata": {},
   "outputs": [],
   "source": [
    "# Convert \"UNKNOWN\" to NaN\n",
    "df['anime_Score'] = df['anime_Score'].replace(\"UNKNOWN\", np.nan)\n",
    "\n",
    "# Convert column to numeric\n",
    "df['anime_Score'] = pd.to_numeric(df['anime_Score'], errors='coerce')\n",
    "\n",
    "# Replace NaN with mean\n",
    "mean_score = df['anime_Score'].mean()\n",
    "df['anime_Score'] = df['anime_Score'].fillna(mean_score)"
   ]
  },
  {
   "cell_type": "code",
   "execution_count": 86,
   "metadata": {},
   "outputs": [],
   "source": [
    "df['anime_Rating'] = df['anime_Rating'].astype(str)\n",
    "df['Members'] = df['Members'].astype(int)"
   ]
  },
  {
   "cell_type": "code",
   "execution_count": 87,
   "metadata": {},
   "outputs": [
    {
     "name": "stderr",
     "output_type": "stream",
     "text": [
      "/var/folders/vz/cyjrzm0x74q21sb72nhkdfmr0000gn/T/ipykernel_56776/2616435567.py:6: FutureWarning: A value is trying to be set on a copy of a DataFrame or Series through chained assignment using an inplace method.\n",
      "The behavior will change in pandas 3.0. This inplace method will never work because the intermediate object on which we are setting values always behaves as a copy.\n",
      "\n",
      "For example, when doing 'df[col].method(value, inplace=True)', try using 'df.method({col: value}, inplace=True)' or df[col] = df[col].method(value) instead, to perform the operation inplace on the original object.\n",
      "\n",
      "\n",
      "  df['Episodes'].fillna(mode_value, inplace=True)\n"
     ]
    }
   ],
   "source": [
    "# Convert \"UNKNOWN\" to NaN\n",
    "df['Episodes'] = df['Episodes'].replace(\"UNKNOWN\", np.nan)\n",
    "\n",
    "# Fill NaN with mode\n",
    "mode_value = df['Episodes'].mode()[0]  # Get the first mode value\n",
    "df['Episodes'].fillna(mode_value, inplace=True)\n",
    "\n",
    "# Convert to integer\n",
    "df['Episodes'] = df['Episodes'].apply(lambda x: int(float(x)))"
   ]
  },
  {
   "cell_type": "code",
   "execution_count": 92,
   "metadata": {},
   "outputs": [],
   "source": [
    "# Define the regex pattern\n",
    "pattern = r'[^\\w\\s\\d]'\n",
    "# Apply regex pattern to the 'Text' column\n",
    "df['text'] = df['text'].str.lower().str.replace(pattern, '')"
   ]
  },
  {
   "cell_type": "code",
   "execution_count": 132,
   "metadata": {},
   "outputs": [],
   "source": [
    "# Load data from pickle file\n",
    "with open('/Users/justinvhuang/Desktop/CSE-6242-Group-Project/app/popular_dict_10.pkl', 'rb') as f:\n",
    "    pop_recs = pickle.load(f)"
   ]
  },
  {
   "cell_type": "code",
   "execution_count": 105,
   "metadata": {},
   "outputs": [],
   "source": [
    "# Load data from pickle file\n",
    "with open('/Users/justinvhuang/Desktop/CSE-6242-Group-Project/app/anime_recommendations_item_knn_CF_10k_fin.pkl', 'rb') as f:\n",
    "    cf_recs = pickle.load(f)"
   ]
  },
  {
   "cell_type": "code",
   "execution_count": 124,
   "metadata": {},
   "outputs": [],
   "source": [
    "# Map dictionary values to the DataFrame based on 'Key' column\n",
    "df['cf_recs'] = df['anime_id'].map(cf_recs)"
   ]
  },
  {
   "cell_type": "code",
   "execution_count": 125,
   "metadata": {},
   "outputs": [],
   "source": [
    "# Function to join lists to strings\n",
    "def join_lists(x):\n",
    "    if isinstance(x, list):\n",
    "        return \", \".join(x)\n",
    "    else:\n",
    "        return x\n",
    "\n",
    "# Apply the function to the 'cf_recs' column\n",
    "df['cf_recs'] = df['cf_recs'].apply(join_lists)"
   ]
  },
  {
   "cell_type": "code",
   "execution_count": 137,
   "metadata": {},
   "outputs": [],
   "source": [
    "pop_recs = pop_df['Name'].tolist()"
   ]
  },
  {
   "cell_type": "code",
   "execution_count": 140,
   "metadata": {},
   "outputs": [],
   "source": [
    "df['pop_recs'] = [pop_recs] * len(df)"
   ]
  },
  {
   "cell_type": "code",
   "execution_count": 144,
   "metadata": {},
   "outputs": [],
   "source": [
    "df['pop_recs'] = df['pop_recs'].apply(lambda x: \", \".join(x))"
   ]
  },
  {
   "cell_type": "code",
   "execution_count": 146,
   "metadata": {},
   "outputs": [
    {
     "name": "stderr",
     "output_type": "stream",
     "text": [
      "8495it [00:00, 14696.26it/s]\n"
     ]
    }
   ],
   "source": [
    "anime_docs = [Document(page_content=row['text'].lower(), \n",
    "                       metadata={\n",
    "                           \"anime_id\": row['anime_id'],\n",
    "                           \"cast\": row['imdb_name_basics_primaryName'],\n",
    "                           'episodes': row['Episodes'],\n",
    "                           'genre': row['Genres'],\n",
    "                           'source': row['Source'],\n",
    "                           'Duration': row['Duration'],\n",
    "                           \"name\": row['Name'],\n",
    "                           'tokens': row['tokens'],\n",
    "                           'score': row['anime_Score'],\n",
    "                           'producer': row['Producers'],\n",
    "                           'studio': row['Studios'],\n",
    "                           'licensors': row['Licensors'],\n",
    "                           'cf_recs': row['cf_recs'],\n",
    "                           'pop_recs': row['pop_recs'],\n",
    "                           'rating': row['anime_Rating'],\n",
    "                           'air_date': row['Aired']\n",
    "                       },\n",
    "                       \n",
    "                       )\n",
    "                       for _, row in tqdm(df.iterrows())\n",
    "                    ]"
   ]
  },
  {
   "cell_type": "code",
   "execution_count": 147,
   "metadata": {},
   "outputs": [],
   "source": [
    "text_splitter = RecursiveCharacterTextSplitter(chunk_size=500, chunk_overlap=200)\n",
    "split_anime_docs = text_splitter.split_documents(anime_docs)"
   ]
  },
  {
   "cell_type": "code",
   "execution_count": 150,
   "metadata": {},
   "outputs": [],
   "source": [
    "db1 = FAISS.from_documents(anime_docs,\n",
    "                          embedding_function)"
   ]
  },
  {
   "cell_type": "code",
   "execution_count": 151,
   "metadata": {},
   "outputs": [],
   "source": [
    "db2 = FAISS.from_documents(split_anime_docs,\n",
    "                          embedding_function)"
   ]
  },
  {
   "cell_type": "code",
   "execution_count": 154,
   "metadata": {},
   "outputs": [],
   "source": [
    "# db3 = FAISS.from_documents(anime_docs,\n",
    "#                           embedding_function2)"
   ]
  },
  {
   "cell_type": "code",
   "execution_count": 156,
   "metadata": {},
   "outputs": [],
   "source": [
    "retriever = db1.as_retriever(\n",
    "    search_type=\"mmr\", search_kwargs={\"k\": 10, \"score_threshold\": 0.5, \"lambda_mult\": 0}\n",
    ")"
   ]
  },
  {
   "cell_type": "code",
   "execution_count": 157,
   "metadata": {},
   "outputs": [
    {
     "data": {
      "text/plain": [
       "[Document(page_content=\"an adventure in another world with cute girls by your side and video game-like powers—sounds like an anime fan's dream, right? not so for melancholic author osamu dazai, who would quite literally prefer to drop dead. video games haven't even been invented yet when he gets yanked into another world in 1948. really, all the fantastical adventure he keeps running into is just getting in the way of his poetic dream of finding the perfect place to die. but no matter how much he risks his hide, everything seems to keep turning out okay. follow a miserable hero like no other in this cheerfully bleak isekai comedy!\\n\\n(source: seven seas entertainment)\", metadata={'anime_id': 52367, 'cast': 'UNKNOWN', 'episodes': 1, 'genre': 'Adventure, Comedy, Fantasy', 'source': 'Web manga', 'Duration': 'Unknown', 'name': 'Isekai Shikkaku', 'tokens': \"['adventure', 'world', 'cute', 'girl', 'video', 'game', 'like', 'power', 'sound', 'like', 'anime', 'fan', 'dream', 'right', 'melancholic', 'author', 'osamu', 'dazai', 'literally', 'prefer', 'drop', 'dead', 'video', 'game', 'invent', 'gets', 'yank', 'world', '1948', 'fantastical', 'adventure', 'run', 'way', 'poetic', 'dream', 'find', 'perfect', 'place', 'die', 'matter', 'risk', 'hide', 'turn', 'okay', 'follow', 'miserable', 'hero', 'like', 'cheerfully', 'bleak', 'isekai', 'comedy', '\\\\n\\\\n', 'source', 'seven', 'sea', 'entertainment', 'adventure', 'comedy', 'fantasy', 'web', 'manga', 'unknown', 'unknown', 'unknown', 'adventure', 'world', 'cute', 'girl', 'video', 'game', 'like', 'power', 'sound', 'like', 'anime', 'fan', 'dream', 'right', 'melancholic', 'author', 'osamu', 'dazai', 'literally', 'prefer', 'drop', 'dead', 'video', 'game', 'invent', 'gets', 'yank', 'world', '1948', 'fantastical', 'adventure', 'run', 'way', 'poetic', 'dream', 'find', 'perfect', 'place', 'die', 'matter', 'risk', 'hide', 'turn', 'okay', 'follow', 'miserable', 'hero', 'like', 'cheerfully', 'bleak', 'isekai', 'comedy', '\\\\n\\\\n', 'source', 'seven', 'sea', 'entertainment', 'unknown', 'isekai', 'shikkaku']\", 'score': 6.710778159931212, 'producer': 'UNKNOWN', 'studio': 'UNKNOWN', 'licensors': 'UNKNOWN', 'cf_recs': nan, 'pop_recs': 'Cowboy Bebop, Escaflowne, GetBackers, Hachimitsu to Clover, Hajime no Ippo, Hikaru no Go, Cowboy Bebop: Tengoku no Tobira, Gantz, Hoshi no Koe, Hunter x Hunter', 'rating': 'UNKNOWN', 'air_date': '2024 to ?'}),\n",
       " Document(page_content='akira ishida (石田 彰, ishida akira, born november 2, 1967) is a japanese actor and voice actor.\\nfor his portrayal of saki abdusha in you\\'re under arrest, makoto kurumizawa in boys be..., setsuna aoki in sakura wars, and athrun zala in gundam seed and gundam seed destiny, he was chosen as the most popular voice actor in the animage anime grand prix in 2004, and won the best supporting character (male) award at the 1st seiyu awards in 2007. he is best known for his roles as gaara in naruto, zeref in fairy tail, cho hakkai in saiyuki, kaworu nagisa in neon genesis evangelion, kuja in final fantasy, otto apocalypse in honkai impact 3rd, luocha in \"honkai: star rail\", kamisato ayato in \"genshin impact\" and katsura kotarou in gin tama.\\n\\n\\n== filmography ==\\n\\n\\n', metadata={'anime_id': 34532, 'cast': 'UNKNOWN', 'episodes': 2, 'genre': 'Action, Horror, Sci-Fi', 'source': 'Manga', 'Duration': '26 min per ep', 'name': 'Terra Formars: Earth-hen', 'tokens': \"['akira', 'ishida', 'Shi', 'Tian', ' ', 'Zhang', 'ishida', 'akira', 'bear', 'november', '2', '1967', 'japanese', 'actor', 'voice', 'actor', '\\\\n', 'portrayal', 'saki', 'abdusha', 'arrest', 'makoto', 'kurumizawa', 'boy', 'setsuna', 'aoki', 'sakura', 'war', 'athrun', 'zala', 'gundam', 'seed', 'gundam', 'seed', 'destiny', 'choose', 'popular', 'voice', 'actor', 'animage', 'anime', 'grand', 'prix', '2004', 'win', 'support', 'character', 'male', 'award', '1st', 'seiyu', 'award', '2007', 'know', 'role', 'gaara', 'naruto', 'zeref', 'fairy', 'tail', 'cho', 'hakkai', 'saiyuki', 'kaworu', 'nagisa', 'neon', 'genesis', 'evangelion', 'kuja', 'final', 'fantasy', 'otto', 'apocalypse', 'honkai', 'impact', '3rd', 'luocha', 'honkai', 'star', 'rail', 'kamisato', 'ayato', 'genshin', 'impact', 'katsura', 'kotarou', 'gin', 'tama', '\\\\n\\\\n\\\\n', '=', '=', 'filmography', '=', '=', '\\\\n\\\\n\\\\n ', 'action', 'horror', 'sci', 'fi', 'manga', 'unknown', 'shueisha', 'unknown', 'mars', 'expedition', 'come', 'end', 'small', 'group', 'terraformar', 'manage', 'reach', 'earth', 'bring', 'fight', 'survive', 'member', 'annex', 'new', 'recruit', 'save', 'earth', 'grow', 'roach', 'menace', '\\\\n\\\\n', 'source', 'anidb', 'tyo', 'animation', 'lidenfilm', 'terra', 'formar', 'earth', 'hen']\", 'score': 6.08, 'producer': 'Shueisha', 'studio': 'TYO Animations, LIDENFILMS', 'licensors': 'UNKNOWN', 'cf_recs': 'Gon 2nd Season, Man with a Mission The Animation, Gu-Gu Ganmo (Movie), Guitar, Onigiri ni Naritai Cogimyun, Man with a Mission Animated Short Movie, Hayabusa: Back to the Earth - Kikan, Robot King, Capsule Samurai, Zhu Zhu Xia: Wu Xia 2008', 'pop_recs': 'Cowboy Bebop, Escaflowne, GetBackers, Hachimitsu to Clover, Hajime no Ippo, Hikaru no Go, Cowboy Bebop: Tengoku no Tobira, Gantz, Hoshi no Koe, Hunter x Hunter', 'rating': 'R - 17+ (violence & profanity)', 'air_date': 'Aug 17, 2018 to Nov 19, 2018'}),\n",
       " Document(page_content='my senpai is annoying (先輩がうざい後輩の話, senpai ga uzai kōhai no hanashi, transl. \"story of a kōhai annoyed by her senpai\") is a japanese romantic comedy manga series by shiro manta. it has been serialized online via ichijinsha\\'s comic pool digital manga magazine since 2017 and has been collected in ten tankōbon volumes. the manga is licensed in north america by seven seas entertainment. an anime television series adaptation produced by doga kobo aired from october to december 2021.\\n\\n\\n\\nfutaba igarashi, a diminutive and scrappy office worker who is often mistaken for a child, constantly complains about her big and boisterous coworker, harumi takeda. however, it is clear to futaba\\'s friends and coworkers she secretly harbors feelings for takeda she is struggling with.\\n\\n\\n', metadata={'anime_id': 42351, 'cast': 'Reina Aoyama, Mark Allen Jr., Shunsuke Takeuchi, Jennifer AuBuchon, Tomori Kusunoki, Patrick Seitz, Erica Schroeder, Risa Mei, Saori Hayami, Reiô Tsuchida', 'episodes': 12, 'genre': 'Comedy', 'source': 'Web manga', 'Duration': '23 min per ep', 'name': 'Senpai ga Uzai Kouhai no Hanashi', 'tokens': \"['senpai', 'annoying', 'Xian', 'Bei', 'gauzaiHou', 'Bei', 'nohua', 'senpai', 'ga', 'uzai', 'kohai', 'hanashi', 'transl', 'story', 'kohai', 'annoy', 'senpai', 'japanese', 'romantic', 'comedy', 'manga', 'series', 'shiro', 'manta', 'serialize', 'online', 'ichijinsha', 'comic', 'pool', 'digital', 'manga', 'magazine', '2017', 'collect', 'tankobon', 'volume', 'manga', 'license', 'north', 'america', 'seven', 'sea', 'entertainment', 'anime', 'television', 'series', 'adaptation', 'produce', 'doga', 'kobo', 'air', 'october', 'december', '2021', '\\\\n\\\\n\\\\n\\\\n', 'futaba', 'igarashi', 'diminutive', 'scrappy', 'office', 'worker', 'mistake', 'child', 'constantly', 'complain', 'big', 'boisterous', 'coworker', 'harumi', 'takeda', 'clear', 'futaba', 'friend', 'coworker', 'secretly', 'harbor', 'feeling', 'takeda', 'struggle', '\\\\n\\\\n\\\\n ', 'comedy', 'web', 'manga', 'anime', 'animation', 'office', 'office', 'worker', 'female', 'office', 'worker', 'anime', 'movic', 'klockworx', 'king', 'record', 'ichijinsha', 'dmm', 'pictures', 'reina', 'aoyama', 'mark', 'allen', 'jr', 'shunsuke', 'takeuchi', 'jennifer', 'aubuchon', 'tomori', 'kusunoki', 'patrick', 'seitz', 'erica', 'schroeder', 'risa', 'mei', 'saori', 'hayami', 'reio', 'tsuchida', 'certain', 'trading', 'company', 'saleswoman', 'futaba', 'igarashi', 'manage', 'hold', 'respectable', 'job', 'year', 'thank', 'guidance', 'senior', 'coworker', 'harumi', 'takeda', 'igarashi', 'short', 'stature', 'takeda', 'tease', 'treat', 'like', 'kid', 'leave', 'igarashi', 'constantly', 'annoy', 'antic', 'doga', 'kobo', 'senpai', 'ga', 'uzai', 'kouhai', 'hanashi']\", 'score': 7.61, 'producer': 'Movic, KlockWorx, King Records, Ichijinsha, DMM pictures', 'studio': 'Doga Kobo', 'licensors': 'Funimation', 'cf_recs': 'Soredemo Ayumu wa Yosetekuru, Uzaki-chan wa Asobitai!, Uzaki-chan wa Asobitai! Double, Tonikaku Kawaii, Tomo-chan wa Onnanoko!, Sono Bisque Doll wa Koi wo Suru, Rikei ga Koi ni Ochita no de Shoumei shitemita., Shin no Nakama ja Nai to Yuusha no Party wo Oidasareta node, Henkyou de Slow Life suru Koto ni Shimashita, Shinigami Bocchan to Kuro Maid, Otonari no Tenshi-sama ni Itsunomanika Dame Ningen ni Sareteita Ken', 'pop_recs': 'Cowboy Bebop, Escaflowne, GetBackers, Hachimitsu to Clover, Hajime no Ippo, Hikaru no Go, Cowboy Bebop: Tengoku no Tobira, Gantz, Hoshi no Koe, Hunter x Hunter', 'rating': 'UNKNOWN', 'air_date': 'Oct 10, 2021 to Dec 26, 2021'}),\n",
       " Document(page_content=\"if my favorite pop idol made it to the budokan, i would die (推しが武道館いってくれたら死ぬ, oshi ga budōkan ittekuretara shinu) is a japanese manga series by auri hirao. it has been serialized in tokuma shoten's seinen manga magazine monthly comic ryū since june 2015. an anime television series adaptation by eight bit aired from january to march 2020. a television drama adaptation aired from october to december 2022. a film adaptation was released in may 2023.\\n\\n\\n\\neripiyo is initially a woman leading a normal life until it is turned upside down after watching a performance of the minor idol group chamjam, which leads her to becoming obsessed with one of its members, maina ichii. despite eripiyo's enthusiasm towards her, maina is consistently the least popular member of the group, leaving eripiyo to take it upon herself to buy a lot of maina's merchandise, which mainly involves singles. due to her using almost all of her money to buy this merchandise, eripiyo has only a single tracksuit she wears all the time. she frequently goes to chamjam's concerts with her friends and fellow chamjam fans: kumasa, whose favorite is reo igarashi, and motoi, who prefers sorane matsuyama. eripiyo continues to work several part-time jobs to support maina, and maina herself increasingly becomes concerned that eripiyo is pushing herself too hard for her.\\n\\n\\n\", metadata={'anime_id': 37890, 'cast': 'Fairouz Ai, Megan Shipman, Lindsay Seidel, Dawn M. Bennett, Bryn Apprill, Ikumi Hasegawa, Christopher Sabat, Yûichi Nakamura, Morgan Berry, Jim Foronda', 'episodes': 12, 'genre': 'Comedy, Girls Love', 'source': 'Manga', 'Duration': '24 min per ep', 'name': 'Oshi ga Budoukan Ittekuretara Shinu', 'tokens': \"['favorite', 'pop', 'idol', 'budokan', 'die', 'Tui', 'shigawu', 'Dao', 'Guan', 'itsutekuretaraSi', 'nu', 'oshi', 'ga', 'budokan', 'ittekuretara', 'shinu', 'japanese', 'manga', 'series', 'auri', 'hirao', 'serialize', 'tokuma', 'shoten', 'seinen', 'manga', 'magazine', 'monthly', 'comic', 'ryu', 'june', '2015', 'anime', 'television', 'series', 'adaptation', 'bit', 'air', 'january', 'march', '2020', 'television', 'drama', 'adaptation', 'air', 'october', 'december', '2022', 'film', 'adaptation', 'release', '2023', '\\\\n\\\\n\\\\n\\\\n', 'eripiyo', 'initially', 'woman', 'lead', 'normal', 'life', 'turn', 'upside', 'watch', 'performance', 'minor', 'idol', 'group', 'chamjam', 'lead', 'obsess', 'member', 'maina', 'ichii', 'despite', 'eripiyo', 'enthusiasm', 'maina', 'consistently', 'popular', 'member', 'group', 'leave', 'eripiyo', 'buy', 'lot', 'maina', 'merchandise', 'mainly', 'involve', 'single', 'use', 'money', 'buy', 'merchandise', 'eripiyo', 'single', 'tracksuit', 'wear', 'time', 'frequently', 'chamjam', 'concert', 'friend', 'fellow', 'chamjam', 'fan', 'kumasa', 'favorite', 'reo', 'igarashi', 'motoi', 'prefer', 'sorane', 'matsuyama', 'eripiyo', 'continue', 'work', 'time', 'job', 'support', 'maina', 'maina', 'increasingly', 'concerned', 'eripiyo', 'push', 'hard', '\\\\n\\\\n\\\\n ', 'comedy', 'girl', 'love', 'manga', 'anime', 'animation', 'lesbian', 'lesbian', 'interest', 'yuri', 'base', 'manga', 'pony', 'canyon', 'tbs', 'movic', 'tokuma', 'shoten', 'fairouz', 'ai', 'megan', 'shipman', 'lindsay', 'seidel', 'dawn', 'm.', 'bennett', 'bryn', 'apprill', 'ikumi', 'hasegawa', 'christopher', 'sabat', 'yuichi', 'nakamura', 'morgan', 'berry', 'jim', 'foronda', 'receive', 'flyer', 'maina', 'ichii', 'member', 'idol', 'group', 'chamjam', 'perform', 'local', 'concert', 'eripiyo', 'fall', 'love', 'maina', 'decide', 'devote', 'life', 'support', 'shy', 'reserve', 'rise', 'star', 'eripiyo', 'charismatic', 'presence', 'iconic', 'red', 'tracksuit', 'soon', 'recognition', 'maina', 'unrivaled', 'fan', '8bit', 'oshi', 'ga', 'budoukan', 'ittekuretara', 'shinu']\", 'score': 7.43, 'producer': 'Pony Canyon, TBS, Movic, Tokuma Shoten', 'studio': '8bit', 'licensors': 'Funimation', 'cf_recs': 'Selection Project, Ochikobore Fruit Tart, Re:Stage! Dream Days♪, Tamayomi, Rifle Is Beautiful, Shine Post, Pastel Memories, World Dai Star, Teppen!!!!!!!!!!!!!!!, Watashi no Yuri wa Oshigoto desu!', 'pop_recs': 'Cowboy Bebop, Escaflowne, GetBackers, Hachimitsu to Clover, Hajime no Ippo, Hikaru no Go, Cowboy Bebop: Tengoku no Tobira, Gantz, Hoshi no Koe, Hunter x Hunter', 'rating': 'UNKNOWN', 'air_date': 'Jan 10, 2020 to Mar 27, 2020'}),\n",
       " Document(page_content='180-byō de kimi no mimi o shiawase ni dekiru ka? (180秒で君の耳を幸せにできるか?, \"can i make your ears happy in 180 seconds?\") is a japanese original short anime television series about asmr co-animated by ekachi epilka and indivision and directed by yoshinobu kasai, with character designs provided by takayuki noguchi. the series aired from october to december 2021 on tokyo mx. the anime\\'s theme song is \"chuchoter\" by ayumi.\\n\\n\\n== characters ==\\nakari sawake (澤家月光, sawake akari)\\nvoiced by: shiori mikami\\nshūsui kagami (鏡秋水, kagami shūsui)\\nvoiced by: suzuko mimori\\nhikari sawake (澤家陽光, sawake hikari)\\nvoiced by: azumi waki\\nudoku sawake (澤家雨読, sawake udoku)\\nvoiced by: kanae itō\\nnanako (ナナコ)\\nvoiced by: yu serizawa\\nkanako (カナコ)\\nvoiced by: aoi koga\\njirō (二郎)\\nvoiced by: show hayami\\n\\n\\n', metadata={'anime_id': 48858, 'cast': 'Shiori Mikami, Kanae Itô, Aoi Koga, Azumi Waki, Suzuko Mimori, Yû Serizawa, Show Hayami', 'episodes': 12, 'genre': 'Slice of Life', 'source': 'Original', 'Duration': '3 min per ep', 'name': '180 Byou de Kimi no Mimi wo Shiawase ni Dekiru ka?', 'tokens': \"['180', 'byo', 'de', 'kimi', 'mimi', 'o', 'shiawase', 'ni', 'dekiru', 'ka', '180miao', 'dejun', 'noer', 'woxing', 'senidekiruka', 'ear', 'happy', '180', 'second', 'japanese', 'original', 'short', 'anime', 'television', 'series', 'asmr', 'co', 'animate', 'ekachi', 'epilka', 'indivision', 'direct', 'yoshinobu', 'kasai', 'character', 'design', 'provide', 'takayuki', 'noguchi', 'series', 'air', 'october', 'december', '2021', 'tokyo', 'mx', 'anime', 'theme', 'song', 'chuchoter', 'ayumi', '\\\\n\\\\n\\\\n', '=', '=', 'character', '=', '=', '\\\\n', 'akari', 'sawake', 'Ze', 'Jia', 'Yue', 'Guang', 'sawake', 'akari', '\\\\n', 'voice', 'shiori', 'mikami', '\\\\n', 'shusui', 'kagami', 'Jing', 'Qiu', 'Shui', 'kagami', 'shusui', '\\\\n', 'voice', 'suzuko', 'mimori', '\\\\n', 'hikari', 'sawake', 'Ze', 'Jia', 'Yang', 'Guang', 'sawake', 'hikari', '\\\\n', 'voice', 'azumi', 'waki', '\\\\n', 'udoku', 'sawake', 'Ze', 'Jia', 'Yu', 'Du', 'sawake', 'udoku', '\\\\n', 'voice', 'kanae', 'ito', '\\\\n', 'nanako', 'nanako', '\\\\n', 'voice', 'yu', 'serizawa', '\\\\n', 'kanako', 'kanako', '\\\\n', 'voice', 'aoi', 'koga', '\\\\n', 'jiro', 'Er', 'Lang', '\\\\n', 'voice', 'hayami', '\\\\n\\\\n\\\\n ', 'slice', 'life', 'original', 'asmr', 'anime', 'animation', 'original', 'anime', 'slice', 'life', 'unknown', 'shiori', 'mikami', 'kanae', 'ito', 'aoi', 'koga', 'azumi', 'waki', 'suzuko', 'mimori', 'yu', 'serizawa', 'hayami', 'mouthwatering', 'chewing', 'mukbang', 'relax', 'whisper', 'voice', 'act', 'asmr', 'steadily', 'grow', 'popularity', 'recent', 'year', 'people', 'world', 'enjoy', 'high', 'school', 'akari', 'sawake', 'exception', 'sport', 'trusty', 'headphone', 'akari', 'explore', 'way', 'asmr', 'stimulate', 'sense', 'share', 'plentiful', 'wonder', 'offer', 'ekachi', 'epilka', 'indivision', '180', 'byou', 'de', 'kimi', 'mimi', 'shiawase', 'ni', 'dekiru', 'ka']\", 'score': 5.32, 'producer': 'UNKNOWN', 'studio': 'EKACHI EPILKA, Indivision', 'licensors': 'UNKNOWN', 'cf_recs': 'Memories (Music), #Compass, The iDOLM@STER Cinderella Girls: U149 Recap, On Air Dekinai!, Metroid Short Animation, Bosanimal, YouTuNya, (Mi) Liu, Eternity, Ninjala (TV)', 'pop_recs': 'Cowboy Bebop, Escaflowne, GetBackers, Hachimitsu to Clover, Hajime no Ippo, Hikaru no Go, Cowboy Bebop: Tengoku no Tobira, Gantz, Hoshi no Koe, Hunter x Hunter', 'rating': 'PG-13 - Teens 13 or older', 'air_date': 'Oct 15, 2021 to Dec 31, 2021'}),\n",
       " Document(page_content='isekai cheat magician (異世界チート魔術師（マジシャン）, isekai chīto majishan, \"another world cheat magician\") is a japanese light novel series written by takeru uchida and illustrated by nardack. the series began as a web novel series on the shōsetsuka ni narō website in 2012. it was then acquired by shufunotomo beginning in 2013; sixteen volumes have been published as of january 2024. a manga adaptation by karin suzuragi began serialization in kadokawa shoten\\'s monthly shōnen ace magazine in december 2016, with sixteen tankōbon volumes released so far. an anime television series adaptation by encourage films aired from july to september 2019. in october 2019, crunchyroll started showing the dubbed version.\\n\\n\\n\\ntaichi nishimura and rin azuma are two ordinary high school students who also happen to be childhood friends. on the way to school, a magic circle appears beneath their feet, and taichi and rin both get mysteriously transported to another world called altianutz. while trying to grasp their current situation, they get attacked by a vicious monster. luckily, a group of adventurers comes to their aid and rescues them. after arriving at a nearby town, they decide to enroll as adventurers themselves. while enrolling, they discover that they possess incredibly powerful magic and physical prowess. thus, their adventure begins as the most powerful \"cheat magicians\". however, as taichi is forced to discover, his presence in altia was willed by a mysterious woman who wishes to use his power to control the fate of this world.\\n\\n\\n', metadata={'anime_id': 49297, 'cast': 'UNKNOWN', 'episodes': 1, 'genre': 'Action, Adventure, Fantasy', 'source': 'Light novel', 'Duration': '23 min', 'name': 'Isekai Cheat Magician: Yoiboshi no Matsuri to Majutsushi', 'tokens': \"['isekai', 'cheat', 'magician', 'Yi', 'Shi', 'Jie', 'chi', 'tomo', 'Shu', 'Shi', 'mazishiyan', 'isekai', 'chito', 'majishan', 'world', 'cheat', 'magician', 'japanese', 'light', 'novel', 'series', 'write', 'takeru', 'uchida', 'illustrate', 'nardack', 'series', 'begin', 'web', 'novel', 'series', 'shosetsuka', 'ni', 'naro', 'website', '2012', 'acquire', 'shufunotomo', 'begin', '2013', 'sixteen', 'volume', 'publish', 'january', '2024', 'manga', 'adaptation', 'karin', 'suzuragi', 'begin', 'serialization', 'kadokawa', 'shoten', 'monthly', 'shonen', 'ace', 'magazine', 'december', '2016', 'sixteen', 'tankobon', 'volume', 'release', 'far', 'anime', 'television', 'series', 'adaptation', 'encourage', 'film', 'air', 'july', 'september', '2019', 'october', '2019', 'crunchyroll', 'start', 'dub', 'version', '\\\\n\\\\n\\\\n\\\\n', 'taichi', 'nishimura', 'rin', 'azuma', 'ordinary', 'high', 'school', 'student', 'happen', 'childhood', 'friend', 'way', 'school', 'magic', 'circle', 'appear', 'beneath', 'foot', 'taichi', 'rin', 'mysteriously', 'transport', 'world', 'altianutz', 'try', 'grasp', 'current', 'situation', 'attack', 'vicious', 'monster', 'luckily', 'group', 'adventurer', 'come', 'aid', 'rescue', 'arrive', 'nearby', 'town', 'decide', 'enroll', 'adventurer', 'enrol', 'discover', 'possess', 'incredibly', 'powerful', 'magic', 'physical', 'prowess', 'adventure', 'begin', 'powerful', 'cheat', 'magician', 'taichi', 'force', 'discover', 'presence', 'altia', 'mysterious', 'woman', 'wish', 'use', 'power', 'control', 'fate', 'world', '\\\\n\\\\n\\\\n ', 'action', 'adventure', 'fantasy', 'light', 'novel', 'unknown', 'x', 'kadokawa', 'unknown', 'air', 'rebroadcast', 'isekai', 'cheat', 'magician', 'encourage', 'film', 'isekai', 'cheat', 'magician', 'yoiboshi', 'matsuri', 'majutsushi']\", 'score': 6.34, 'producer': 'AT-X, Kadokawa', 'studio': 'Encourage Films', 'licensors': 'UNKNOWN', 'cf_recs': 'Memories (Music), Metroid Short Animation, Shin Don Chuck Monogatari, Jiu Tian Xuan Di Jue 3rd Season, Hairpin Double, Ze Tian Ji 5th Season, Xian Yu Ge, Wu Geng Ji 4th Season Part 2, Man with a Mission The Animation, Qiang Shen Ji', 'pop_recs': 'Cowboy Bebop, Escaflowne, GetBackers, Hachimitsu to Clover, Hajime no Ippo, Hikaru no Go, Cowboy Bebop: Tengoku no Tobira, Gantz, Hoshi no Koe, Hunter x Hunter', 'rating': 'PG-13 - Teens 13 or older', 'air_date': 'Jul 5, 2021'}),\n",
       " Document(page_content='chitose get you!! (ちとせげっちゅ!!, chitose gecchu!!) is a japanese four-panel manga series written and illustrated by etsuya mashima. the manga was serialized in takeshobo\\'s manga life original and manga life momo magazines from 2002 to 2014 and the chapters collected into 10 tankōbon volumes. a 26-episode anime television series adaptation animated by silver link aired between july 1, 2012 and december 24, 2012.\\n\\n\\n== characters ==\\nchitose sakuraba (桜庭 ちとせ, sakuraba chitose)\\nvoiced by: sayaka nakaya\\nthe main character, an elementary school girl who has a crush on hiroshi after he allegedly rescued her. she is incredibly strong and athletic for her age.\\nhiroshi kashiwabara (柏原 宏志, kashiwabara hiroshi)\\nvoiced by: wataru hatano\\na kind man who works at the town hall next to chitose\\'s school. he is often paranoid about chitose\\'s affections for him.\\nmisaki (みさき)\\nvoiced by: sora tokui\\nchitose\\'s classmate and best friend who is something of a worrywart. she has an incredible father complex and wants to become his bride when she grows up.\\nhinako hiiragi (柊 雛子, hiiragi hinako)\\nvoiced by: mako\\nchitose\\'s friend and classmate, who, despite her regal looks, is a little strange.  she seems to always have a costume for every major occasion.\\nasako fuji (藤 麻子, fuji asako)\\nvoiced by: kotono mitsuishi\\nchitose\\'s homeroom teacher, who is constantly at odds against chitose, primarily being her \"rival\" for hiroshi\\'s affections.\\nkōhai-sensei (後輩先生, lit. ms. junior)\\nvoiced by: rikako yamaguchi\\na young teacher who is asako\\'s junior.\\nmr. shige (シゲさん, shige-san)\\nvoiced by: shinichi kotani\\nshige is hiroshi\\'s boss.\\n\\n\\n', metadata={'anime_id': 14277, 'cast': 'UNKNOWN', 'episodes': 26, 'genre': 'Comedy, Romance', 'source': '4-koma manga', 'Duration': '3 min per ep', 'name': 'Chitose Get You!!', 'tokens': \"['chitose', 'chitosegetsuchiyu', 'chitose', 'gecchu', 'japanese', 'panel', 'manga', 'series', 'write', 'illustrate', 'etsuya', 'mashima', 'manga', 'serialize', 'takeshobo', 'manga', 'life', 'original', 'manga', 'life', 'momo', 'magazine', '2002', '2014', 'chapter', 'collect', '10', 'tankobon', 'volume', '26', 'episode', 'anime', 'television', 'series', 'adaptation', 'animate', 'silver', 'link', 'air', 'july', '1', '2012', 'december', '24', '2012', '\\\\n\\\\n\\\\n', '=', '=', 'character', '=', '=', '\\\\n', 'chitose', 'sakuraba', 'Ying', 'Ting', ' ', 'chitose', 'sakuraba', 'chitose', '\\\\n', 'voice', 'sayaka', 'nakaya', '\\\\n', 'main', 'character', 'elementary', 'school', 'girl', 'crush', 'hiroshi', 'allegedly', 'rescue', 'incredibly', 'strong', 'athletic', 'age', '\\\\n', 'hiroshi', 'kashiwabara', 'Bo', 'Yuan', ' ', 'Hong', 'Zhi', 'kashiwabara', 'hiroshi', '\\\\n', 'voice', 'wataru', 'hatano', '\\\\n', 'kind', 'man', 'work', 'town', 'hall', 'chitose', 'school', 'paranoid', 'chitose', 'affection', '\\\\n', 'misaki', 'misaki', '\\\\n', 'voice', 'sora', 'tokui', '\\\\n', 'chitose', 'classmate', 'good', 'friend', 'worrywart', 'incredible', 'father', 'complex', 'want', 'bride', 'grow', '\\\\n', 'hinako', 'hiiragi', 'Zhong', ' ', 'Chu', 'Zi', 'hiiragi', 'hinako', '\\\\n', 'voice', 'mako', '\\\\n', 'chitose', 'friend', 'classmate', 'despite', 'regal', 'look', 'little', 'strange', ' ', 'costume', 'major', 'occasion', '\\\\n', 'asako', 'fuji', 'Teng', ' ', 'Ma', 'Zi', 'fuji', 'asako', '\\\\n', 'voice', 'kotono', 'mitsuishi', '\\\\n', 'chitose', 'homeroom', 'teacher', 'constantly', 'odd', 'chitose', 'primarily', 'rival', 'hiroshi', 'affection', '\\\\n', 'kohai', 'sensei', 'Hou', 'Bei', 'Xian', 'Sheng', 'light', 'ms', 'junior', '\\\\n', 'voice', 'rikako', 'yamaguchi', '\\\\n', 'young', 'teacher', 'asako', 'junior', '\\\\n', 'mr', 'shige', 'shigesan', 'shige', 'san', '\\\\n', 'voice', 'shinichi', 'kotani', '\\\\n', 'shige', 'hiroshi', 'boss', '\\\\n\\\\n\\\\n ', 'comedy', 'romance', '4', 'koma', 'manga', 'unknown', 'x', 'takeshobo', 'dream', 'creation', 'unknown', 'chitose', '11', 'year', 'old', 'girl', 'madly', 'love', 'old', 'guy', 'hiroshi', 'work', 'town', 'hall', 'right', 'school', 'chitose', 'spend', 'day', 'relentlessly', 'pursue', 'chitose', 'convince', 'hiroshi', 'silver', 'link', 'chitose']\", 'score': 6.2, 'producer': 'AT-X, Takeshobo, Dream Creation', 'studio': 'SILVER LINK.', 'licensors': 'UNKNOWN', 'cf_recs': 'Aiura, Recorder to Randoseru Re♪, Mangirl!, Recorder to Randoseru Mi☆, A-Channel+smile, Ebiten: Kouritsu Ebisugawa Koukou Tenmonbu, Recorder to Randoseru, Danchigai, Morita-san wa Mukuchi. 2, A-Channel: +A-Channel', 'pop_recs': 'Cowboy Bebop, Escaflowne, GetBackers, Hachimitsu to Clover, Hajime no Ippo, Hikaru no Go, Cowboy Bebop: Tengoku no Tobira, Gantz, Hoshi no Koe, Hunter x Hunter', 'rating': 'PG-13 - Teens 13 or older', 'air_date': 'Jul 2, 2012 to Dec 24, 2012'}),\n",
       " Document(page_content='joshiraku (japanese: じょしらく, lit. \"rakugo girls\") is a japanese comedy manga series written by kōji kumeta and illustrated by yasu, telling the everyday lives of five young female rakugo comedians. it was serialised in kodansha\\'s bessatsu shōnen magazine from september 2009 to september 2013 and the chapters compiled into six tankōbon volumes. an anime television series adaptation animated by j.c.staff aired in japan between july and september 2012, with an original video animation episode released in february 2013.\\n\\n\\n== characters ==\\nall of the girls\\' surnames end with the character tei (亭), which is often used in stage names for performers.\\n\\nmarii buratei (蕪羅亭 魔梨威, buratei marii)\\nvoiced by: ayane sakura (anime), kana asumi (cd)\\nthe substantial protagonist of the manga, who has long red hair. she behaves like edokko and speaks in a masculine tone of edo speech, but she is actually from tokushima prefecture. despite her good looks, the way she talks and her flat chest tend to lead the others into suspecting her as a boy cross-dressing as a girl. she acts as a tsukkomi and often says \"don\\'t ask a trifling question! (つまんねー事聞くなよ！, tsuman\\'nē koto kiku na yo!)\". her name is a pun on bloody mary.tetora bōhatei (防波亭 手寅, bōhatei tetora)\\nvoiced by: nozomi yamamoto (anime), ikumi hayama (cd)\\na ponytailed girl with brown hair who is a lucky girl and leads a carefree life. she often leads the stories to other subjects. kumeta introduces her as the true protagonist of the manga. her name is a pun on bōhatei (防波堤, \"breakwater\") and tetrapod.kigurumi harōkitei (波浪浮亭 木胡桃, harōkitei kigurumi)\\nvoiced by: kotori koiwai (anime), erena ono (cd)\\na girl with cream-coloured hair who is the youngest girl in the group. to match her childlike figure, she often pretends to be cute in front of others, but her internal dialogue shows her true thoughts to the audience; cynical and manipulative. her name is a pun on hello kitty and kigurumi.gankyō kūrubiyūtei (空琉美遊亭 丸京, kūrubiyūtei gankyō)\\nvoiced by: yoshino nanjō (anime), kana hanazawa (cd)\\na girl with glasses and green hair who is a smart, cool-headed, yet violent girl. she is a childhood friend of tetora\\'s. her name is a pun on cool beauty and gankyō (眼鏡, \"glasses\").kukuru anrakutei (暗落亭 苦来, anrakutei kukuru)\\nvoiced by: saori gotō (anime/cd)\\na girl with straight black hair who is very good at acting, but is an unlucky girl and is very emotionally unstable. her name is a play on several words, all of which have to do with things that are very negative in nature. the pronunciation of her name refers to anrakushi (安楽死, \"euthanasia\") and kukuru (括る, \"to hang\"). her name could also be read alternatively as kurakutei kurai, which is very similar to kurakute kurai (暗くて暗い, lit. \"dark dark\"). anrakutei also sounds similar to the word unlucky. also, the kanji in her name minus the character tei (亭) could be read very literally, as falling into darkness and coming of anguish.mask (覆面, fukumen)\\nvoiced by: aoi yūki\\na girl in a luchador wrestling mask who just happens to be in the scene at certain points.uzannu uzattei (宇座亭 ウザンヌ, uzattei uzannu)\\nvoiced by: ryōko shintani\\na girl who has short blonde and pink hair. she wears a strawberry-patterned hakama and a large ribbon on her head. her only appearance is in the last episode of the anime. true to her name, uzannu is annoying with her fast-talking, condescending attitude, and mimicry of the other girls. uzannu purposely tries to upset the character balance of the show with her obnoxiousness and make the show her own, even going so far as singing her own version of the opening theme song with personalized lyrics. nonetheless, the girls manage to drive her away.\\n\\n\\n', metadata={'anime_id': 12679, 'cast': 'Saori Gotô, Nozomi Yamamoto, Kotori Koiwai, Ryôko Shintani, Yoshino Nanjô, Ayane Sakura, Aoi Yûki', 'episodes': 13, 'genre': 'Comedy', 'source': 'Manga', 'Duration': '24 min per ep', 'name': 'Joshiraku', 'tokens': '[\\'joshiraku\\', \\'japanese\\', \\'ziyoshiraku\\', \\'light\\', \\'rakugo\\', \\'girl\\', \\'japanese\\', \\'comedy\\', \\'manga\\', \\'series\\', \\'write\\', \\'koji\\', \\'kumeta\\', \\'illustrate\\', \\'yasu\\', \\'tell\\', \\'everyday\\', \\'life\\', \\'young\\', \\'female\\', \\'rakugo\\', \\'comedian\\', \\'serialise\\', \\'kodansha\\', \\'bessatsu\\', \\'shonen\\', \\'magazine\\', \\'september\\', \\'2009\\', \\'september\\', \\'2013\\', \\'chapter\\', \\'compile\\', \\'tankobon\\', \\'volume\\', \\'anime\\', \\'television\\', \\'series\\', \\'adaptation\\', \\'animate\\', \\'j.c.staff\\', \\'air\\', \\'japan\\', \\'july\\', \\'september\\', \\'2012\\', \\'original\\', \\'video\\', \\'animation\\', \\'episode\\', \\'release\\', \\'february\\', \\'2013\\', \\'\\\\n\\\\n\\\\n\\', \\'=\\', \\'=\\', \\'character\\', \\'=\\', \\'=\\', \\'\\\\n\\', \\'girl\\', \\'surname\\', \\'end\\', \\'character\\', \\'tei\\', \\'Ting\\', \\'use\\', \\'stage\\', \\'performer\\', \\'\\\\n\\\\n\\', \\'marii\\', \\'buratei\\', \\'Wu\\', \\'Luo\\', \\'Ting\\', \\' \\', \\'Mo\\', \\'Li\\', \\'Wei\\', \\'buratei\\', \\'marii\\', \\'\\\\n\\', \\'voice\\', \\'ayane\\', \\'sakura\\', \\'anime\\', \\'kana\\', \\'asumi\\', \\'cd\\', \\'\\\\n\\', \\'substantial\\', \\'protagonist\\', \\'manga\\', \\'long\\', \\'red\\', \\'hair\\', \\'behave\\', \\'like\\', \\'edokko\\', \\'speak\\', \\'masculine\\', \\'tone\\', \\'edo\\', \\'speech\\', \\'actually\\', \\'tokushima\\', \\'prefecture\\', \\'despite\\', \\'good\\', \\'look\\', \\'way\\', \\'talk\\', \\'flat\\', \\'chest\\', \\'tend\\', \\'lead\\', \\'suspect\\', \\'boy\\', \\'cross\\', \\'dressing\\', \\'girl\\', \\'act\\', \\'tsukkomi\\', \\'ask\\', \\'trifling\\', \\'question\\', \\'tsumanne\\', \\'Shi\\', \\'Wen\\', \\'kunayo\\', \"tsuman\\'ne\", \\'koto\\', \\'kiku\\', \\'na\\', \\'yo\\', \\'pun\\', \\'bloody\\', \\'mary.tetora\\', \\'bohatei\\', \\'Fang\\', \\'Bo\\', \\'Ting\\', \\' \\', \\'Shou\\', \\'Yin\\', \\'bohatei\\', \\'tetora\\', \\'\\\\n\\', \\'voice\\', \\'nozomi\\', \\'yamamoto\\', \\'anime\\', \\'ikumi\\', \\'hayama\\', \\'cd\\', \\'\\\\n\\', \\'ponytailed\\', \\'girl\\', \\'brown\\', \\'hair\\', \\'lucky\\', \\'girl\\', \\'lead\\', \\'carefree\\', \\'life\\', \\'lead\\', \\'story\\', \\'subject\\', \\'kumeta\\', \\'introduce\\', \\'true\\', \\'protagonist\\', \\'manga\\', \\'pun\\', \\'bohatei\\', \\'Fang\\', \\'Bo\\', \\'Di\\', \\'breakwater\\', \\'tetrapod.kigurumi\\', \\'harokitei\\', \\'Bo\\', \\'Lang\\', \\'Fu\\', \\'Ting\\', \\' \\', \\'Mu\\', \\'Hu\\', \\'Tao\\', \\'harokitei\\', \\'kigurumi\\', \\'\\\\n\\', \\'voice\\', \\'kotori\\', \\'koiwai\\', \\'anime\\', \\'erena\\', \\'ono\\', \\'cd\\', \\'\\\\n\\', \\'girl\\', \\'cream\\', \\'colour\\', \\'hair\\', \\'young\\', \\'girl\\', \\'group\\', \\'match\\', \\'childlike\\', \\'figure\\', \\'pretend\\', \\'cute\\', \\'internal\\', \\'dialogue\\', \\'true\\', \\'thought\\', \\'audience\\', \\'cynical\\', \\'manipulative\\', \\'pun\\', \\'hello\\', \\'kitty\\', \\'kigurumi.gankyo\\', \\'kurubiyutei\\', \\'Kong\\', \\'Liu\\', \\'Mei\\', \\'Ting\\', \\' \\', \\'Wan\\', \\'Jing\\', \\'kurubiyutei\\', \\'gankyo\\', \\'\\\\n\\', \\'voice\\', \\'yoshino\\', \\'nanjo\\', \\'anime\\', \\'kana\\', \\'hanazawa\\', \\'cd\\', \\'\\\\n\\', \\'girl\\', \\'glass\\', \\'green\\', \\'hair\\', \\'smart\\', \\'cool\\', \\'head\\', \\'violent\\', \\'girl\\', \\'childhood\\', \\'friend\\', \\'tetora\\', \\'pun\\', \\'cool\\', \\'beauty\\', \\'gankyo\\', \\'Yan\\', \\'Jing\\', \\'glasses\").kukuru\\', \\'anrakutei\\', \\'Luo\\', \\'Ting\\', \\' \\', \\'Ku\\', \\'Lai\\', \\'anrakutei\\', \\'kukuru\\', \\'\\\\n\\', \\'voice\\', \\'saori\\', \\'goto\\', \\'anime\\', \\'cd\\', \\'\\\\n\\', \\'girl\\', \\'straight\\', \\'black\\', \\'hair\\', \\'good\\', \\'act\\', \\'unlucky\\', \\'girl\\', \\'emotionally\\', \\'unstable\\', \\'play\\', \\'word\\', \\'thing\\', \\'negative\\', \\'nature\\', \\'pronunciation\\', \\'refer\\', \\'anrakushi\\', \\'Le\\', \\'Si\\', \\'euthanasia\\', \\'kukuru\\', \\'Gua\\', \\'ru\\', \\'hang\\', \\'read\\', \\'alternatively\\', \\'kurakutei\\', \\'kurai\\', \\'similar\\', \\'kurakute\\', \\'kurai\\', \\'kuteAn\\', \\'light\\', \\'dark\\', \\'dark\\', \\'anrakutei\\', \\'sound\\', \\'similar\\', \\'word\\', \\'unlucky\\', \\'kanji\\', \\'minus\\', \\'character\\', \\'tei\\', \\'Ting\\', \\'read\\', \\'literally\\', \\'fall\\', \\'darkness\\', \\'come\\', \\'anguish.mask\\', \\'fu\\', \\'Mian\\', \\'fukuman\\', \\'\\\\n\\', \\'voice\\', \\'aoi\\', \\'yuki\\', \\'\\\\n\\', \\'girl\\', \\'luchador\\', \\'wrestling\\', \\'mask\\', \\'happen\\', \\'scene\\', \\'certain\\', \\'points.uzannu\\', \\'uzattei\\', \\'Yu\\', \\'Zuo\\', \\'Ting\\', \\' \\', \\'uzannu\\', \\'uzattei\\', \\'uzannu\\', \\'\\\\n\\', \\'voice\\', \\'ryoko\\', \\'shintani\\', \\'\\\\n\\', \\'girl\\', \\'short\\', \\'blonde\\', \\'pink\\', \\'hair\\', \\'wear\\', \\'strawberry\\', \\'pattern\\', \\'hakama\\', \\'large\\', \\'ribbon\\', \\'head\\', \\'appearance\\', \\'episode\\', \\'anime\\', \\'true\\', \\'uzannu\\', \\'annoying\\', \\'fast\\', \\'talk\\', \\'condescend\\', \\'attitude\\', \\'mimicry\\', \\'girl\\', \\'uzannu\\', \\'purposely\\', \\'try\\', \\'upset\\', \\'character\\', \\'balance\\', \\'obnoxiousness\\', \\'far\\', \\'singe\\', \\'version\\', \\'opening\\', \\'theme\\', \\'song\\', \\'personalized\\', \\'lyric\\', \\'nonetheless\\', \\'girl\\', \\'manage\\', \\'drive\\', \\'away\\', \\'\\\\n\\\\n\\\\n \\', \\'comedy\\', \\'manga\\', \\'group\\', \\'female\\', \\'rear\\', \\'nudity\\', \\'female\\', \\'nudity\\', \\'anime\\', \\'animation\\', \\'tv\\', \\'mini\\', \\'series\\', \\'starchild\\', \\'record\\', \\'mainichi\\', \\'broadcasting\\', \\'system\\', \\'kodansha\\', \\'klockworx\\', \\'saori\\', \\'goto\\', \\'nozomi\\', \\'yamamoto\\', \\'kotori\\', \\'koiwai\\', \\'ryoko\\', \\'shintani\\', \\'yoshino\\', \\'nanjo\\', \\'ayane\\', \\'sakura\\', \\'aoi\\', \\'yuki\\', \\'joshiraku\\', \\'follow\\', \\'conversation\\', \\'rakugo\\', \\'storyteller\\', \\'girl\\', \\'relate\\', \\'odd\\', \\'thing\\', \\'happen\\', \\'day\\', \\'comedic\\', \\'satirical\\', \\'chatting\\', \\'cover\\', \\'kind\\', \\'topic\\', \\'pointless\\', \\'observation\\', \\'everyday\\', \\'life\\', \\'politic\\', \\'manga\\', \\'girl\\', \\'new\\', \\'add\\', \\'discussion\\', \\'discourse\\', \\'end\\', \\'place\\', \\'begin\\', \\'j.c.staff\\', \\'joshiraku\\']', 'score': 7.45, 'producer': 'Starchild Records, Mainichi Broadcasting System, Kodansha, KlockWorx', 'studio': 'J.C.Staff', 'licensors': 'Maiden Japan', 'cf_recs': 'Jinrui wa Suitai Shimashita, Kill Me Baby, Kiniro Mosaic, Hidamari Sketch x Honeycomb, Yuru Yuri♪♪, GJ-bu, Sasami-san@Ganbaranai, Non Non Biyori, Yuyushiki, Haiyore! Nyaruko-san', 'pop_recs': 'Cowboy Bebop, Escaflowne, GetBackers, Hachimitsu to Clover, Hajime no Ippo, Hikaru no Go, Cowboy Bebop: Tengoku no Tobira, Gantz, Hoshi no Koe, Hunter x Hunter', 'rating': 'UNKNOWN', 'air_date': 'Jul 6, 2012 to Sep 28, 2012'}),\n",
       " Document(page_content=\"takuya eguchi (江口 拓也, eguchi takuya, born may 22, 1987) is a japanese voice actor and singer. he is affiliated with 81 produce. he has voiced in a number of lead roles in anime shows, including kazuya kujo in gosick, yoshiharu sagara in the ambition of oda nobuna, kon hokaze in ixion saga dt, hachiman hikigaya in my youth romantic comedy is wrong, as i expected, william twining in devils and realist, yuuji terushima in haikyuu!!, takeo gōda in my love story, and loid forger in spy × family. he won the best new actor award at the 6th seiyu awards, and the best lead actor award and most valuable seiyū award at the 17th seiyu awards. he won best voice actor in the newtype anime awards 2015. eguchi launched a manga about his life called eguchi takuya no gainen planet in 2017, published on kadokawa's dengeki girl's style online website.\\n\\n\\n== filmography ==\\n\\n\\n\", metadata={'anime_id': 25809, 'cast': 'UNKNOWN', 'episodes': 14, 'genre': 'Comedy', 'source': 'Unknown', 'Duration': '30 min per ep', 'name': 'Oretachi Ijiwaru Kei', 'tokens': \"['takuya', 'eguchi', 'Jiang', 'Kou', ' ', 'Tuo', 'Ye', 'eguchi', 'takuya', 'bear', '22', '1987', 'japanese', 'voice', 'actor', 'singer', 'affiliate', '81', 'produce', 'voice', 'number', 'lead', 'role', 'anime', 'include', 'kazuya', 'kujo', 'gosick', 'yoshiharu', 'sagara', 'ambition', 'oda', 'nobuna', 'kon', 'hokaze', 'ixion', 'saga', 'dt', 'hachiman', 'hikigaya', 'youth', 'romantic', 'comedy', 'wrong', 'expect', 'william', 'twining', 'devil', 'realist', 'yuuji', 'terushima', 'haikyuu', 'takeo', 'goda', 'love', 'story', 'loid', 'forger', 'spy', 'x', 'family', 'win', 'good', 'new', 'actor', 'award', '6th', 'seiyu', 'award', 'good', 'lead', 'actor', 'award', 'valuable', 'seiyu', 'award', '17th', 'seiyu', 'award', 'win', 'good', 'voice', 'actor', 'newtype', 'anime', 'award', '2015', 'eguchi', 'launch', 'manga', 'life', 'eguchi', 'takuya', 'gainen', 'planet', '2017', 'publish', 'kadokawa', 'dengeki', 'girl', 'style', 'online', 'website', '\\\\n\\\\n\\\\n', '=', '=', 'filmography', '=', '=', '\\\\n\\\\n\\\\n ', 'comedy', 'unknown', 'unknown', 'aniplex', 'mainichi', 'broadcasting', 'system', 'unknown', 'anime', 'kei', 'daily', 'life', 'karaku', 'oretachi', 'ijiwaru', 'kei']\", 'score': 6.710778159931212, 'producer': 'Aniplex, Mainichi Broadcasting System', 'studio': 'Karaku', 'licensors': 'UNKNOWN', 'cf_recs': nan, 'pop_recs': 'Cowboy Bebop, Escaflowne, GetBackers, Hachimitsu to Clover, Hajime no Ippo, Hikaru no Go, Cowboy Bebop: Tengoku no Tobira, Gantz, Hoshi no Koe, Hunter x Hunter', 'rating': 'UNKNOWN', 'air_date': 'Dec 26, 2004 to Apr 3, 2005'}),\n",
       " Document(page_content='isekai quartet (japanese: 異世界かるてっと, hepburn: isekai karutetto) is a japanese anime series that serves as a chibi-style crossover between the light novel series konosuba, overlord, re:zero, and the saga of tanya the evil, all published by kadokawa corporation. the series aired its first season from april to june 2019. a second season aired from january to march 2020, including additional characters from  the rising of the shield hero and cautious hero: the hero is overpowered but overly cautious.  an anime film titled isekai quartet: the movie – another world was released in june 2022.  a third season has been announced.\\n\\n\\n== premise ==\\none day, a magic button suddenly appears. the protagonists from konosuba, overlord, re:zero, and the saga of tanya the evil all press the button occasionally, unintentionally and move to a parallel world — another brand new isekai — where a new story featuring high school life begins. soon, they are joined by protagonists from the rising of the shield hero and cautious hero: the hero is overpowered but overly cautious.\\n\\n\\n', metadata={'anime_id': 39988, 'cast': 'UNKNOWN', 'episodes': 12, 'genre': 'Comedy, Fantasy', 'source': 'Original', 'Duration': '11 min per ep', 'name': 'Isekai Quartet 2', 'tokens': \"['isekai', 'quartet', 'japanese', 'Yi', 'Shi', 'Jie', 'karutetsuto', 'hepburn', 'isekai', 'karutetto', 'japanese', 'anime', 'series', 'serve', 'chibi', 'style', 'crossover', 'light', 'novel', 'series', 'konosuba', 'overlord', 'zero', 'saga', 'tanya', 'evil', 'publish', 'kadokawa', 'corporation', 'series', 'air', 'season', 'april', 'june', '2019', 'second', 'season', 'air', 'january', 'march', '2020', 'include', 'additional', 'character', ' ', 'rising', 'shield', 'hero', 'cautious', 'hero', 'hero', 'overpowered', 'overly', 'cautious', ' ', 'anime', 'film', 'title', 'isekai', 'quartet', 'movie', 'world', 'release', 'june', '2022', ' ', 'season', 'announce', '\\\\n\\\\n\\\\n', '=', '=', 'premise', '=', '=', '\\\\n', 'day', 'magic', 'button', 'suddenly', 'appear', 'protagonist', 'konosuba', 'overlord', 'zero', 'saga', 'tanya', 'evil', 'press', 'button', 'occasionally', 'unintentionally', 'parallel', 'world', 'brand', 'new', 'isekai', 'new', 'story', 'feature', 'high', 'school', 'life', 'begin', 'soon', 'join', 'protagonist', 'rise', 'shield', 'hero', 'cautious', 'hero', 'hero', 'overpowered', 'overly', 'cautious', '\\\\n\\\\n\\\\n ', 'comedy', 'fantasy', 'original', 'unknown', 'kadokawa', 'unknown', 'despite', 'complete', 'task', 'ainz', 'ooal', 'gown', 'tanya', 'degurechaff', 'kazuma', 'satou', 'subaru', 'natsuki', 'member', 'class', '2', 'surprised', 'find', 'role', 'student', 'far', 'mean', 'return', 'home', 'class', 'eccentric', 'personality', 'mysteriously', 'stick', 'unfamiliar', 'world', 'fond', 'spend', 'time', 'sound', 'bad', '\\\\n\\\\n', 'unexpected', 'arrival', 'new', 'transfer', 'student', 'comedic', 'antic', 'beloved', 'character', 'continue', 'grow', 'bizarre', 'nonchalant', 'school', 'life', 'continue', 'studio', 'puyukai', 'isekai', 'quartet', '2']\", 'score': 7.36, 'producer': 'Kadokawa', 'studio': 'Studio PuYUKAI', 'licensors': 'Funimation', 'cf_recs': 'Isekai Quartet Movie: Another World, Kono Subarashii Sekai ni Shukufuku wo! Movie: Kurenai Densetsu, Itai no wa Iya nanode Bougyoryoku ni Kyokufuri Shitai to Omoimasu., Hataage! Kemono Michi, Ishuzoku Reviewers, Hitoribocchi no Marumaru Seikatsu, Kobayashi-san Chi no Maid Dragon S, Kono Subarashii Sekai ni Bakuen wo!, Honzuki no Gekokujou: Shisho ni Naru Tame ni wa Shudan wo Erandeiraremasen 2nd Season, Isekai Maou to Shoukan Shoujo no Dorei Majutsu', 'pop_recs': 'Cowboy Bebop, Escaflowne, GetBackers, Hachimitsu to Clover, Hajime no Ippo, Hikaru no Go, Cowboy Bebop: Tengoku no Tobira, Gantz, Hoshi no Koe, Hunter x Hunter', 'rating': 'PG-13 - Teens 13 or older', 'air_date': 'Jan 15, 2020 to Apr 1, 2020'})]"
      ]
     },
     "execution_count": 157,
     "metadata": {},
     "output_type": "execute_result"
    }
   ],
   "source": [
    "query = \"I like comedic isekai\"\n",
    "docs = retriever.invoke(\n",
    "    query,\n",
    ")\n",
    "\n",
    "docs"
   ]
  },
  {
   "cell_type": "code",
   "execution_count": 155,
   "metadata": {},
   "outputs": [],
   "source": [
    "db1.save_local(\"faiss_anime_index_v3\")\n",
    "db2.save_local(\"faiss_anime_index_v4\")\n",
    "#db3.save_local(\"faiss_anime_index_colbert\")"
   ]
  },
  {
   "cell_type": "code",
   "execution_count": 45,
   "metadata": {},
   "outputs": [],
   "source": [
    "new_db = FAISS.load_local(\"faiss_anime_index_v2\", embedding_function,allow_dangerous_deserialization=True)"
   ]
  },
  {
   "cell_type": "code",
   "execution_count": 48,
   "metadata": {},
   "outputs": [],
   "source": [
    "retriever2 = new_db.as_retriever(\n",
    "    search_type=\"mmr\", search_kwargs={\"k\": 20, \"score_threshold\": 0.5, \"lambda_mult\": 0}\n",
    ")"
   ]
  },
  {
   "cell_type": "code",
   "execution_count": 49,
   "metadata": {},
   "outputs": [
    {
     "data": {
      "text/plain": [
       "[Document(page_content=\"welcome to the space show (japanese: 宇宙ショーへようこそ, hepburn: uchū shō e yōkoso) is a 2010 japanese animated science fiction film produced by a-1 pictures and distributed by aniplex. it was directed by koji masunari from a script by hideyuki kurata, and stars the voices of tomoyo kurosawa, honoka ikezuki, shōtarō uzawa, tamaki matsumoto, takuto yoshinaga, and keiji fujiwara. in the film, five children rescue an alien dog, and are rewarded a trip to the moon in response. after events cause the group to become stranded in space, they must find a way to return to earth before the kids' parents arrive.\", metadata={'anime_id': 8115, 'cast': 'Takuto Yoshinaga, Atsuhiro Iwakami, Tomoyo Kurosawa, Hideyuki Kurata, Tomonori Ochikoshi, Masaaki Yuasa, Honoka Ikezuki, Tamaki Matsumoto, Stephanie Sheh, Kôji Masunari', 'episodes': '1.0', 'genre': 'Adventure, Fantasy', 'source': 'Original', 'Duration': '2 hr 16 min', 'name': 'Uchuu Show e Youkoso', 'tokens': 'shock kichi crop beam sheh sho ikezuki broadcast trip spend story plot strand remote shotaro star stephanie keiji kid series yokoso manage return corn producer health homeworld dog interstellar tractor root way pet pochi festival \\n\\n\\n\\n natsuki boy plant space uzawa japanese cause surpass ship source use ochikoshi iwakami voice substance \\n tell Yu field parent work act carry galaxy debut group a-1 strange fail invite defeat fantasy masunari break girl introduce atsuhiro yoshinaga takuto circle shiyo wasabi help mysterious god welcome thug retrieve rabbit process save able Zhou particular amane \\n\\n\\n  elementary hunt zughan entire reach reward matsumoto youkoso koji mountain place lead entertainment fujiwara visit tamaki pursue spaceship child hepburn research picture revolve kurosawa relative variety home fiction uchuu vacation.the uchu host life bag arrive age friend directorial rescue animate moon bent heyoukoso honoka original neppo kurata tomonori suddenly 2010 produce class close yuasa village schoolmate science aniplex researcher film henchman alien universe look miss kidnap steal hideyuki pyon direct summer come adventure masaaki e accord injure rickman popular appear target nurse distribute wan response script find run event tomoyo responsible war earth school require speak power turn camping scale', 'score': 7.3, 'producer': 'Aniplex', 'studio': 'A-1 Pictures', 'licensors': 'NYAV Post, GKIDS'}),\n",
       " Document(page_content='in the year 2071, roughly fifty years after an accident with a hyperspace gateway that made earth almost uninhabitable, humanity has colonized most of the rocky planets and moons of the solar system. amid a rising crime rate, the inter solar system police (issp) set up a legalized contract system, in which registered bounty hunters (also referred to as \"cowboys\") chase criminals and bring them in alive in return for a reward. the series\\' protagonists are bounty-hunters working from the spaceship bebop. the original crew is spike spiegel, an exiled former hitman of the criminal red dragon syndicate, and jet black, a former issp officer. they are later joined by faye valentine, an amnesiac con artist; edward, an eccentric child, skilled in hacking; and ein, a genetically-engineered pembroke welsh corgi with human-like intelligence. throughout the series, the team gets involved in disastrous mishaps leaving them without money, while often confronting faces and events from their past:', metadata={'anime_id': 1, 'cast': \"Isshin Chiba, Kevin Seymour, Hajime Yatate, Unshô Ishizuka, Shin'ichirô Watanabe, Beau Billingslea, Steve Blum, Megumi Hayashibara, Wendee Lee, Kôichi Yamadera\", 'episodes': '26.0', 'genre': 'Action, Award Winning, Sci-Fi', 'source': 'Original', 'Duration': '24 min per ep', 'name': 'Cowboy Bebop', 'tokens': \"character \\n\\n\\n\\n\\n con sunrise send reunite year license screenwriter regard hide space japanese existential incorporate fake wendee \\n director particularly eventually hiding work wide hyperspace soundtrack welsh animaze rocky introduce focus help corgi protagonist unsho save crime follow early action dispatch hunt seymour member red television intergalactic accident cryogenically hayashibara lead confrontation spaceship dragon child uninhabitable kawamoto fiction garner officer conclude hail loneliness designer roughly protect bring laud 2071 girlfriend film blum hitman shin'ichiro faye animation mishap injure staircase notably fi western run death credit keiko dark plague earth swim session 2001 black genetically 1998 air wave series grow apologize composer amid later noir use adult involve infiltrate critic zealand gateway tokyo win tough theft united visual ambitious amnesiac timeless \\n\\n\\n  episode planet resolve money reward number nobumoto hacking production chiba pair bebop syndicate sci variety friend viewer steve science young lee skilled acting kauboi title spiegel floor come main america wound criminal alive issp refer zro exile time english escape 1999 audience seek solar killing rivalry battle broadcast seriously partner deadly aboard collectively australia beez disastrous beau having ground building receive mechanical voice yamane watanabe coup register face commercial vicious rise hajime kanno fall yoko present human team d'etat draw eccentric bibappu past prominent toshihiro murder join britain bounty travel life kill heavily kaubo leave intend jet engineer market isshin award genre valentine north look megumi anime madman states good ishizuka humanity like boredom billingslea limited wowow woman style jazz surface sky release cowboy major crew ein end yatate fill affair story international stage neo return descend sun confront acclaim remain julia ensue final 2000s colonize complete originally contract bill reason galaxy blackmail arc hacker outlaw tv finally chase freeze shinichiro artist eliminate pembroke affiliate rate kimitoshi music limit success entertainment intelligence bandai hepburn inability crunchyroll episodic create spike critical theme settlement plan gets animate moon original expand legalize society system drug set new begin kevin yamadera inter hunter ibibatsupu include find event edward koichi dub police\", 'score': 8.75, 'producer': 'Bandai Visual', 'studio': 'Sunrise', 'licensors': 'Funimation, Bandai Entertainment'}),\n",
       " Document(page_content='the series is set in the year 5808; human civilization has taken gigantic steps in the conquest of the space, and with the creation of the three-dimensional tunnel, people can travel to any galaxy in the universe. \"the gentleman of the cosmos\" is a company that manages the tunnel and has come to dominate the tourism industry.', metadata={'anime_id': 1891, 'cast': 'UNKNOWN', 'episodes': '50.0', 'genre': 'Adventure, Comedy, Sci-Fi', 'source': 'Original', 'Duration': '25 min per ep', 'name': 'YAT Anshin! Uchuu Ryokou', 'tokens': 'solar character anshin dominate 5808 pay tour gigantic tunnel organise 1998 old ann midst result whereabout air plot Lu explosion month series transporting goal second manage damage commander year obscurity hoshiwatari untroubled rule whereabouts center mother emperor \\n\\n\\n\\n space ship Xing source gentleman use involve scientific conquest \\n Yu cosmo work step galaxy creation shroud yatto daughter group device \\n\\n ganon girl discover attain emergence cat far help fall mysterious 1997 journey link spark problem lady transport compensation Zhou human nota psychic search \\n\\n\\n  participate kanea traveller photograph disappear love planet dimensional different aim accident past place know yat spaceship civilization revolve create person sci designate home outside xebec uchuu form tac uchu travel destruction september leave original tourism pinky background produce 1996 addition system young set october people new soon nhk universe anime kidnap industry april like come owner adventure adolescent teletransportation era main ago want Xin goro yatAn fi father professor find katsura order tag comedy train responsible janitor kidnapped yamamoto unknown mechanic ryokou company ryoko conflicting earth crew power turn japan', 'score': 7.26, 'producer': 'NHK', 'studio': 'Xebec, Group TAC', 'licensors': 'UNKNOWN'}),\n",
       " Document(page_content=\"space invaders is a 1978 shoot 'em up arcade video game developed and released by taito in japan, and licensed to midway manufacturing for overseas distribution. commonly considered as one of the most influential video games of all time, space invaders was the first fixed shooter and set the template for the genre. the goal is to defeat wave after wave of descending aliens with a horizontally moving laser cannon to earn as many points as possible.\", metadata={'anime_id': 48906, 'cast': 'UNKNOWN', 'episodes': '1.0', 'genre': 'Comedy', 'source': 'Unknown', 'Duration': '5 min', 'name': 'Yawaraka Sensha Special', 'tokens': \"console 1980 3.8 shift killer = projectile 1978 fire wave attempt sensha star highest manufacturing special goal laser american loop descend inspiration battleship product mystery license novel net fix advance stationary 1897 having overseas enemy 2022 space ship 1982 immediate horizontally consider overhead complete million defense influential \\n pop beneath right hardware tool icon group \\n\\n\\n defeat commercial 450 shoot earn 1974 represent game taito eliminate immediately usher term \\n\\n\\n  arcade draw breakout screen episode commonly yawaraka reach quadruple tomohiro different pixelated music vcs point gross success start entertainment $ sell speed port partially billion fiction 1975 form adjust low video row life profit 1977 age midway downward gets movement 1976 leave sale designer 'em distribution design protect bring development continue dvd science set template film app award genre alien golden cannon north gun anime begin narrative like world culture player invader nishikado target 1.6 13 numerous fight destroy gradually comedy bunker broadly shooter high unknown war possible release edge shooting bonus custom time endlessly occasionally develop version atari gameplay yamato end japan\", 'score': 0.0, 'producer': 'UNKNOWN', 'studio': 'UNKNOWN', 'licensors': 'UNKNOWN'}),\n",
       " Document(page_content='the space opera follows the misadventures of dandy, an alien bounty hunter who is \"a dandy guy in space\", in search for undiscovered and rare aliens with his robot assistant qt and his feline friend named meow. though he and his crew act with the best intentions, despite being normally dimwitted and next to useless, dandy is unaware that he is being pursued by dr. gel of the gogol empire.\\nthe series has loose continuity, with several episodes featuring the main protagonists and antagonists dying, getting turned into zombies, or getting trapped in different dimensions for periods of time, only for them to show up as normal in the next episode. there are also many references to older science fiction, music, anime and internet culture.', metadata={'anime_id': 20057, 'cast': \"J. Michael Tatum, Jun'ichi Suwabe, Masaaki Yajima, Uki Satake, Alison Viktorin, Hiroyuki Yoshino, Ian Sinclair, Joel McDonald, R. Bruce Elliott, Hiroki Gotô\", 'episodes': '13.0', 'genre': 'Comedy, Sci-Fi', 'source': 'Original', 'Duration': '24 min per ep', 'name': 'Space☆Dandy', 'tokens': \"suwabe season man east traverse broadcast old kingdom hiroki air square michael asia july diner star jst 2013 dandi 2014 series elliott 4 second jun'ichi goto crunchyroll.a 20 dog wear robot australia yen simulcaste license manga block groovy programming enix \\n\\n\\n\\n acquisition desire clean space ship japanese joel dandy march adult trap january yoshino sinclair \\n hard cosmo intention bruce act meow.the galaxy tokyo gel stylize booby aichi strange 2 pt cat oe aloha united tv visual bone qt protagonist 11:30 sbs gangan getting search follow supesu guy \\n\\n\\n  alison hiroyuki appearance feature episode meow money december mcdonald television 5 p.m. die different music assistant limit sony x. dimwitte satake place loose entertainment visit undiscovered explore pursue bandai comic tatum hepburn crunchyroll period sudandei adaptation sci fiction antagonist bounty ian accompany vacuum friend september bs press dimension reference original scenario j. normally 11 3 et yajima produce empire pompadour misadventure science young october despite useless r. osaka alien north normal anime madman states begin 2015 good zombie like fly spacedandy culture internet animation masaaki main dr hunter magazine gogol fuji unique viktorin trusty equally fi america uki mx run namco comedy animax unaware south feline continuity funimation supe time opera english crew swim turn rare japan favorite toonami\", 'score': 7.88, 'producer': 'Bandai Visual, flying DOG, Bandai Namco Entertainment', 'studio': 'Bones', 'licensors': 'Funimation'}),\n",
       " Document(page_content='space ghost is a fictional superhero created by hanna-barbera productions in the 1960s for tv network cbs. he was designed by alex toth.in his original incarnation, he was a superhero who, with his teen sidekicks, jan and jace, and blip the monkey, fought supervillains in outer space. in the 1990s, space ghost was brought back as a host for his own fictional late-night talk show, space ghost coast to coast, on cartoon network, adult swim and gametap. in the 2000s, he was revamped as a serious superhero once again in a mini-series by dc comics.\\n\\n\\n== television series ==', metadata={'anime_id': 40159, 'cast': 'UNKNOWN', 'episodes': '1.0', 'genre': 'Avant Garde', 'source': 'Original', 'Duration': '1 min', 'name': 'The Ghost of Cartoon', 'tokens': 'cartoon music coast = production ookubo ryuu \\n\\n\\n supervillain direct talk incarnation create outer late series tv avant host television network comic_strip fictional alex monkey fight night toth.in revamp teen original hanna mini mndsgn garde unknown \\n\\n\\n  design shower 2000s blip barbera sidekick bring station space jace 1960 superhero d 1990s adult jan cbs swim dc gametap ghost', 'score': 5.01, 'producer': 'UNKNOWN', 'studio': 'UNKNOWN', 'licensors': 'UNKNOWN'}),\n",
       " Document(page_content='cowboy bebop (japanese: カウボーイビバップ, hepburn: kaubōi bibappu) is a japanese neo-noir space western anime television series which aired on tv tokyo and wowow from 1998 to 1999. it was created and animated by sunrise, led by a production team of director shinichirō watanabe, screenwriter keiko nobumoto, character designer toshihiro kawamoto, mechanical designer kimitoshi yamane, and composer yoko kanno, who are collectively billed as hajime yatate.\\nthe series, which ran for twenty-six episodes (dubbed \"sessions\"), is set in the year 2071, and follows the lives of a traveling bounty-hunting crew aboard a spaceship, the bebop. although it incorporates a wide variety of genres, the series draws most heavily from science fiction, western, and noir films. its most prominent themes are existential boredom, loneliness, and the inability to escape one\\'s past.', metadata={'anime_id': 1, 'cast': \"Isshin Chiba, Kevin Seymour, Hajime Yatate, Unshô Ishizuka, Shin'ichirô Watanabe, Beau Billingslea, Steve Blum, Megumi Hayashibara, Wendee Lee, Kôichi Yamadera\", 'episodes': '26.0', 'genre': 'Action, Award Winning, Sci-Fi', 'source': 'Original', 'Duration': '24 min per ep', 'name': 'Cowboy Bebop', 'tokens': \"character \\n\\n\\n\\n\\n con sunrise send reunite year license screenwriter regard hide space japanese existential incorporate fake wendee \\n director particularly eventually hiding work wide hyperspace soundtrack welsh animaze rocky introduce focus help corgi protagonist unsho save crime follow early action dispatch hunt seymour member red television intergalactic accident cryogenically hayashibara lead confrontation spaceship dragon child uninhabitable kawamoto fiction garner officer conclude hail loneliness designer roughly protect bring laud 2071 girlfriend film blum hitman shin'ichiro faye animation mishap injure staircase notably fi western run death credit keiko dark plague earth swim session 2001 black genetically 1998 air wave series grow apologize composer amid later noir use adult involve infiltrate critic zealand gateway tokyo win tough theft united visual ambitious amnesiac timeless \\n\\n\\n  episode planet resolve money reward number nobumoto hacking production chiba pair bebop syndicate sci variety friend viewer steve science young lee skilled acting kauboi title spiegel floor come main america wound criminal alive issp refer zro exile time english escape 1999 audience seek solar killing rivalry battle broadcast seriously partner deadly aboard collectively australia beez disastrous beau having ground building receive mechanical voice yamane watanabe coup register face commercial vicious rise hajime kanno fall yoko present human team d'etat draw eccentric bibappu past prominent toshihiro murder join britain bounty travel life kill heavily kaubo leave intend jet engineer market isshin award genre valentine north look megumi anime madman states good ishizuka humanity like boredom billingslea limited wowow woman style jazz surface sky release cowboy major crew ein end yatate fill affair story international stage neo return descend sun confront acclaim remain julia ensue final 2000s colonize complete originally contract bill reason galaxy blackmail arc hacker outlaw tv finally chase freeze shinichiro artist eliminate pembroke affiliate rate kimitoshi music limit success entertainment intelligence bandai hepburn inability crunchyroll episodic create spike critical theme settlement plan gets animate moon original expand legalize society system drug set new begin kevin yamadera inter hunter ibibatsupu include find event edward koichi dub police\", 'score': 8.75, 'producer': 'Bandai Visual', 'studio': 'Sunrise', 'licensors': 'Funimation, Bandai Entertainment'}),\n",
       " Document(page_content='earth has sovereign states and a unifying earthgov.  colonies within the solar system, and beyond, make up the earth alliance and contact has been made with numerous spacefaring races.  the  ensemble cast portray alien ambassadorial staff and humans assigned to the five mile long babylon 5 space station, a center for trade and diplomacy.  described as \"one of the most complex programs on television\" the various story arcs drew upon the prophesies, religious zealotry, racial tensions, social pressures and political rivalries which existed within each of their cultures to create a contextual frame for the motivations and consequences of the protagonists\\' actions. with a strong emphasis on character development set against a backdrop of conflicting ideologies on multiple levels, straczynski wanted \"to take an adult approach to sf, and attempt to do for television sf what hill street blues did for cop shows.\"the original show spawned a multimedia franchise of spin-offs consisting of a', metadata={'anime_id': 29862, 'cast': 'UNKNOWN', 'episodes': '1.0', 'genre': 'Comedy', 'source': 'Unknown', 'Duration': '3 min', 'name': 'Channel 5.5 4th Season Prologue', 'tokens': 'portray solar zealotry character season write rivalry = depict future fundamentally bros story unifying colony cop douglas michael \"the attempt trade series 5.5 premiere multiple prophesie synthetic second american book producer ensemble year conceive novel center street 92 having approach rpg technical ambassadorial space   adult sovereign commission hill january long executive dle miniserie \\n\\n\\n spacefare arc political strong diplomacy pilot emphasis channel schedule united provide state protagonist spin consist comic_strip 4th babylonian complex prime 2262 racial game human \\n\\n\\n  label netter.set action station program alliance writer draw social movie motivation pten episode earthgov assign television 5 110 describe production entertainment mile spawn create religious staff association video multimedia wargame contact backdrop animate intend original medium j. warner cast 26 development frame system sf set consequence film tension successful contextual alien states direct world culture 2257 prologue want straczynski network tabletop numerous race serve card run comedy blue unknown 1994 babylon franchise earth conflicting ideology domestic time level opera trading ltd pressure airing exist', 'score': 5.13, 'producer': 'UNKNOWN', 'studio': 'DLE', 'licensors': 'UNKNOWN'}),\n",
       " Document(page_content='on a winter night, a mysterious mechanical lion appeared before a married couple, carrying a mysterious baby with it, and left as they took the baby in. about seven years later, high school astronaut guy shishioh is aboard the space shuttle spirits when it collides with an unknown object bound to earth. despite being mortally wounded, the lion rescues him and he returns to earth, holding a mysterious green jewel that leo shishioh uses to revive him as a cyborg.', metadata={'anime_id': 890, 'cast': \"Hisao Egawa, Tomoe Hanba, Kiyoshi Kobayashi, Kôji Ishii, Ken'ichi Ogata, Maiko Itô, Miki Narahashi, Tsutomu Kashiwakura, Nobuyuki Hiyama, Konami Yoshida\", 'episodes': '49.0', 'genre': 'Action, Adventure, Sci-Fi', 'source': 'Original', 'Duration': '25 min per ep', 'name': 'Yuusha-Ou GaoGaiGar', 'tokens': \"revive seek character stone battle 1998 ou geoid yoshitake hisao tomoe studio air brave aboard kimura kunio yoshitomo kobayashi series sunrise assist transform return producer couple maiko gaogaigar robot year alongside night son power invade \\n\\n\\n\\n creature later boy space underground japanese care use tokyu cyborg ishii crash mechanical shuttle january defense encounter burn yuusha \\n director kohei hanba carry amami egawa tokyo married spare group pilot shishioh discover victor art female guard secret connect tv tomoaki live gutsy mysterious 2005 giant kashiwakura 1997 ito takahiro Zhe zonder february konami okada rebuild 31 organize nagoya affiliate astronaut object ken'ichi guy \\n\\n\\n  team action station appearance element awesome member mamoru city rear television spirit music hiyama galeon koji technology know lion entertainment o jewel begins collide origin hope create sci pull life shishio kill miki rescue winter yusha leave original designer narahashi nearly vehicle bind design tanaka ogata 3 bring protect baby produce brigade nobuyuki g Wang agency gaogaiga- fuse young people despite installment alien green normal anime seven 1 leo launch suzuki gaogaiga equip adventure animation yoshida asahi yonetani ultimate nudity ggg appear family internal fi race father response script eighth fight wound tsutomu aid attack okawara monster core unknown high weapon franchise earth purify shattered stop school kiyoshi 7 king hold emerge mecha division handle uncover mortally Yong\", 'score': 7.84, 'producer': 'Victor Entertainment', 'studio': 'Sunrise', 'licensors': 'Media Blasters, Discotek Media'}),\n",
       " Document(page_content=\"however, before mimu has the chance to sing in front of yuri, yuri and the excellent idols are kidnapped by aliens and taken to another universe. the group lands on the tropical dimension's bali hawaii, where they are warmly welcomed. a competition is about to begin in two hours to raise bali hawaii's sun, and idols from all over space arrive to take part. the owner, mr bananaan, desires for the excellent idols to win, since they are his most recent obsession. the competition includes several activities, such as the swing ski, muddy quiz contest, and water-scooter fight. after several comical events, yuri mistakenly is named the only one able to help the sun rise again for the first time.\\nafter the competition, mimu must save up enough money to make it back to starland, her hometown which is universes away.\", metadata={'anime_id': 2072, 'cast': 'UNKNOWN', 'episodes': '4.0', 'genre': 'Adventure, Comedy', 'source': 'Visual novel', 'Duration': '30 min per ep', 'name': 'Idol Project', 'tokens': 'aidorupuroziekuto comical aspire character = competition aidoru strongly corvette english)palpu easily peace rank idol old sue english)corvette project audition studio stage essenporuka motivate goose ekusutora*hai series guitar feely english)ruka spot befriend discourage philosophy actress sun stuff away year scooter novel usually kick loves believe exposure festival annual beginning singing bath desire talent model Meng warmly pianist space japanese source quiz animal kouda consider oav collect friendly activity involve contest voice unusual successor dixon expert 14 english)layla \\n extremely extraordinary kikuko palpu endearment intimate work excellent quickly pickering rhythm swing reira group \\n\\n\\n purojekuto ox \\n\\n advice win girl superfluous reira*b*shimonzu rise tough stardom ski wilkinson ekusutora maul art satomi situation 6 extra essenpolka united help kaido arden motto visual ambitious inoue short welcome parupu*Lan chance beth koorogi chase position 16 tropical save lady korubetto able follow \\n\\n\\n  celebrated aya hawaii sleep kanai gut current tirelessly soft fan obsession whirlwind episode land shimonzu love money ruka mimu simmons music animenfo zu mika place hisakawa korubetsuto*haiya michelle relationship parupu speed join especially sign 17 energetic punch smile kss video arrive lose 9 age b. outgoing ranrang hour dimension confidence raise ruff original rockstar hinako recent rival large Wei ellen bananaan mistakenly bi water bring produce starland 1995 dignity class ruka*etsusenporuka unfortunately fourteen sing role misadventure wild dream palpurin mr Tang people president alien gritty kanamaru universe probably martial anime begin haiyazu kidnap good hometown emiruton like world tina come owner reveal julie armstrong adventure animation aspiration yuri hiyard appear 13 undergarment add include emilton fight disposition interdimensional event english)extra layla comedy encourage relax unknown ranran high bali earth mariko muddy time superhero touchy english escape willow cute kaidou dancer', 'score': 5.74, 'producer': 'KSS', 'studio': 'Studio OX', 'licensors': 'Media Blasters'}),\n",
       " Document(page_content='space-time prisoners (时空囚徒) is a vampire survival action chinese webcomic written and illustrated by bai xiao. on october 1, 2016, a chinese-japanese animation adaptation titled bloodivores (ブラッディヴォーレス) began airing. the series is directed by chen ye and produced by emon and animated by namu animation and creators in pack.', metadata={'anime_id': 33985, 'cast': 'UNKNOWN', 'episodes': '12.0', 'genre': 'Action, Mystery, Supernatural', 'source': 'Web manga', 'Duration': '24 min per ep', 'name': 'Bloodivores', 'tokens': 'character fill write specie old ann air strike mad special series sentence completely manage send wear year mystery survival mi namu liu thing manga robbery pack \\n\\n\\n\\n location effect vilify later mission space japanese greet source cure chinese supernatural collar suffer defense trap bear \\n insomnia eventually arrest prison bank 2016 ringleader solve monitor \\n\\n strange break girl bai Tu connect mysterious ye represent throw cloud22 unable free human awake \\n\\n\\n  necklace action emon sleep bloodivore xiao creator entire emotion control number capital case population triumph place transfer chen anji child signal hope adaptation deprive fear birthplace webcomic resu medicine Kong unexplainable kill friend Qiu animate 60 large rob illustrate produce force victim try agency october people new announce begin 1 title humanity direct town reveal animation national main ago illness happen prisoner find fight patient attack Shi web death monster blue unknown war explosive hero vampire survive lot stay time police buratsudeivuo week prevent rage correspond turn', 'score': 5.47, 'producer': 'Emon, Cloud22', 'studio': 'Creators in Pack, Namu Animation', 'licensors': 'UNKNOWN'}),\n",
       " Document(page_content=\"sci-fi west saga starzinger (sf西遊記スタージンガー, esu efu saiyūki sutājingā), known as spaceketeers in the united states, is an anime series produced by toei animation. it is a sci-fi remake/adaptation of wu cheng'en's fantasy novel journey to the west. it was directed by yugo serikawa and written by leiji matsumoto. it aired in fuji tv in japan from april 2, 1978, to august 24, 1979. in the united states, it was referred to as spaceketeers and was part of jim terry's force five series. in the united kingdom, it was referred to as sci-bots on vhs releases. in latin america, it was known as el galáctico.\", metadata={'anime_id': 1236, 'cast': 'Kei Tomiyama, Kazuko Sugiyama, Eiko Masuyama, Hiroya Ishimaru, Kôsei Tomita', 'episodes': '73.0', 'genre': 'Action, Adventure, Sci-Fi', 'source': 'Original', 'Duration': '25 min per ep', 'name': 'SF Saiyuuki Starzinger', 'tokens': \"hakka write = battle old kingdom 1978 story air august series grow toei transform starman cyborgs year kei queen zinga- novel kazuko saiyuki saga remake cyborg tomita \\n 2072 spaceketeer perish energy kosei powerless galaxy \\n\\n\\n 2 fantasy el united tv journey efu yugo \\n\\n\\n  action galactico esu planet matsumoto restore die know cheng'en vhs revolve sci adaptation leiji serikawa starzinger travel aurora 1979 24 friend sa moon original unbalanced Ji wu produce force eiko west jim mineral terry sf set princess new alien universe states anime volunteer sutajinga direct april adventure kugo sugiyama kogo animation suta hiroya don great masuyama powerful fuji bot dangerous fi america professor include race escort sfxi companion unknown refer jogo release king ishimaru jan latin djorgo tomiyama saiyuuki japan\", 'score': 6.96, 'producer': 'UNKNOWN', 'studio': 'Toei Animation', 'licensors': 'UNKNOWN'}),\n",
       " Document(page_content='there exists the cosmos warriors, a team tasked with the duty of protecting freedom, justice, and peace of the universe. when the master of the cosmos warriors was killed onboard a traveling spaceship and the rest of the passengers were kidnapped by the sinister green people, captain leo soon uncovers a malicious plan that would put the fate of the people of earth on the balance.', metadata={'anime_id': 16822, 'cast': 'UNKNOWN', 'episodes': '1.0', 'genre': 'Action, Sci-Fi', 'source': 'Original', 'Duration': '1 hr 20 min', 'name': 'Uju Heukgisa', 'tokens': 'captain cosmo balance freedom soon universe green peace leo kidnap spaceship fate warrior sci travel sinister kill rest uju task plan fi malicious onboard heukgisa duty original unknown team master protect action earth passenger justice uncover exist people', 'score': 4.28, 'producer': 'UNKNOWN', 'studio': 'UNKNOWN', 'licensors': 'UNKNOWN'}),\n",
       " Document(page_content=\"space brothers (japanese: 宇宙兄弟, hepburn: uchū kyōdai) is a japanese manga series written and illustrated by chūya koyama. it has been serialized in kodansha's seinen manga magazine morning since december 2007. a 99-episode anime television series adaptation by a-1 pictures aired from april 2012 to march 2014. the manga was also adapted into a live-action film that premiered in may 2012. an anime film, space brothers #0, premiered in august 2014.\\nin 2011, space brothers won the general category at both, the 56th shogakukan manga award and the 35th kodansha manga award. by march 2022, the manga had 28 million copies in circulation, making it one of the best-selling manga series.\\n\\n\\n== story ==\", metadata={'anime_id': 12431, 'cast': 'Shô Ryûzanji, Miyuki Sawashiro, Yûko Sanpei, Hiroaki Hirata, Masayuki Katô, Masako Ikeda, Kenichiro Ohashi', 'episodes': '99.0', 'genre': 'Comedy, Sci-Fi', 'source': 'Manga', 'Duration': '24 min per ep', 'name': 'Uchuu Kyoudai', 'tokens': 'seek hirata write = sawashiro sho chuya kenichiro story air shogakukan august series 2014 premiere phenomenon jaxa year ohashi night 2025 nineteen manga believe later mission 2022 space japanese kyodai march hibito witness hand achieve whilst receive million unusual telecasting ufo \\n eventually Yu ahead nanba step \\n\\n\\n a-1 \\n\\n fledged win 2007 ryuzanji adapt masako 56th kato live mutta hiroaki state Zhou 2011 training astronaut 28 follow \\n\\n\\n  action program accept episode morning december assign television general category aim past kodansha lead convince masayuki seinen sell kyoudai hepburn join picture letter adaptation sci yuko uchuu fiction longtime uchu mar circulation impressing eld 35th ikeda moon decide Di sanpei illustrate sibling nasa trinity copy science young dream yomiuri 99 film recall award successful fateful new 0 serialize anime miyuki april summer fly like sound magazine 2012 vow base 2006 fi fully Xiong comedy koyama ambition brother', 'score': 8.5, 'producer': 'Yomiuri Telecasting, Trinity Sound', 'studio': 'A-1 Pictures', 'licensors': 'Sentai Filmworks'}),\n",
       " Document(page_content=\"space travelers: the animation (スペース・トラベラーズ the animation, supesutoraberaz the animation) is a 2000 science fiction and action japanese straight to video full-length animated film produced by fuji television network and robot films. the anime ties back to 2000's live action comedy film space travelers directed by katsuyuki motohiro, also produced by fuji television network and robot films.\", metadata={'anime_id': 3817, 'cast': 'UNKNOWN', 'episodes': '1.0', 'genre': 'Sci-Fi', 'source': 'Unknown', 'Duration': '59 min', 'name': 'Space Travelers The Animation', 'tokens': 'hayabusa day ring colony jetter supply century robot length spherical \\n\\n\\n\\n idea mission deliver space underground japanese source gentleman vital \\n \\n\\n unmarked break sphere key tv live mysterious transport hire \\n\\n\\n  action package accept traveller entire cut control television zu know simple civilization straight sci fiction destiny communication resistance video life animate movement cosmic 2000 suddenly produce mankind system science hayabusha traveler container film 038 new alien misfit risk soon supesutoraberaz anime humanity direct tie wikipedia pirate animation orbital su*torabera network fuji fi katsuyuki motohiro comedy attack aid unknown smuggler earth supe hold band line', 'score': 5.23, 'producer': 'Fuji TV, Robot Communications', 'studio': 'UNKNOWN', 'licensors': 'Media Blasters'}),\n",
       " Document(page_content='space dandy, stylized as space☆dandy (japanese: スペース☆ダンディ, hepburn: supēsu dandi), is a 2014 japanese comic science fiction anime television series produced by bones. the series follows the misadventures of dandy, an alien hunter who is \"a dandy guy in space\", in search for undiscovered and rare aliens with his robot assistant qt and his feline-like friend named meow.the anime has been licensed by funimation in north america, madman entertainment in australia and by anime limited in the united kingdom. the series first aired in the united states on january 4, 2014 at 11:30 p.m. et/pt on adult swim\\'s toonami programming block. the series began airing in japan on tokyo mx at 11 p.m. jst on january 5, 2014, followed by tv osaka, tv aichi, bs fuji and at-x. the series is simulcasted in south east asia at the same time as japan on animax asia. the series has also been broadcast in australia on sbs 2 since 3 october 2015. following sony\\'s acquisition of crunchyroll, the series was moved to', metadata={'anime_id': 20057, 'cast': \"J. Michael Tatum, Jun'ichi Suwabe, Masaaki Yajima, Uki Satake, Alison Viktorin, Hiroyuki Yoshino, Ian Sinclair, Joel McDonald, R. Bruce Elliott, Hiroki Gotô\", 'episodes': '13.0', 'genre': 'Comedy, Sci-Fi', 'source': 'Original', 'Duration': '24 min per ep', 'name': 'Space☆Dandy', 'tokens': \"suwabe season man east traverse broadcast old kingdom hiroki air square michael asia july diner star jst 2013 dandi 2014 series elliott 4 second jun'ichi goto crunchyroll.a 20 dog wear robot australia yen simulcaste license manga block groovy programming enix \\n\\n\\n\\n acquisition desire clean space ship japanese joel dandy march adult trap january yoshino sinclair \\n hard cosmo intention bruce act meow.the galaxy tokyo gel stylize booby aichi strange 2 pt cat oe aloha united tv visual bone qt protagonist 11:30 sbs gangan getting search follow supesu guy \\n\\n\\n  alison hiroyuki appearance feature episode meow money december mcdonald television 5 p.m. die different music assistant limit sony x. dimwitte satake place loose entertainment visit undiscovered explore pursue bandai comic tatum hepburn crunchyroll period sudandei adaptation sci fiction antagonist bounty ian accompany vacuum friend september bs press dimension reference original scenario j. normally 11 3 et yajima produce empire pompadour misadventure science young october despite useless r. osaka alien north normal anime madman states begin 2015 good zombie like fly spacedandy culture internet animation masaaki main dr hunter magazine gogol fuji unique viktorin trusty equally fi america uki mx run namco comedy animax unaware south feline continuity funimation supe time opera english crew swim turn rare japan favorite toonami\", 'score': 7.88, 'producer': 'Bandai Visual, flying DOG, Bandai Namco Entertainment', 'studio': 'Bones', 'licensors': 'Funimation'}),\n",
       " Document(page_content='welcome to the space show, whose story \"surpasses star wars in its scale\" according to its producers, tells of the four adventures of five schoolmates and an alien dog in space during summer vacation.the plot revolves around five elementary school kids on their \"school trip\". in the process of looking for their missing class pet (a rabbit named pyon-kichi), the children rescue a dog they find injured in a corn field. the dog turns out to be an alien called pochi rickman, and he invites them to visit the moon as a reward for helping him. however, through a series of strange events, they become stranded and must make their way across the galaxy to get to pochi\\'s homeworld, wan, so that they may return to earth. along the way they are pursued by the aliens responsible for pochi being injured in the first place. the aliens work for the host (called neppo) of the universe\\'s most popular entertainment, \"the space show\", which appears to be a variety act broadcast from a mysterious moving', metadata={'anime_id': 8115, 'cast': 'Takuto Yoshinaga, Atsuhiro Iwakami, Tomoyo Kurosawa, Hideyuki Kurata, Tomonori Ochikoshi, Masaaki Yuasa, Honoka Ikezuki, Tamaki Matsumoto, Stephanie Sheh, Kôji Masunari', 'episodes': '1.0', 'genre': 'Adventure, Fantasy', 'source': 'Original', 'Duration': '2 hr 16 min', 'name': 'Uchuu Show e Youkoso', 'tokens': 'shock kichi crop beam sheh sho ikezuki broadcast trip spend story plot strand remote shotaro star stephanie keiji kid series yokoso manage return corn producer health homeworld dog interstellar tractor root way pet pochi festival \\n\\n\\n\\n natsuki boy plant space uzawa japanese cause surpass ship source use ochikoshi iwakami voice substance \\n tell Yu field parent work act carry galaxy debut group a-1 strange fail invite defeat fantasy masunari break girl introduce atsuhiro yoshinaga takuto circle shiyo wasabi help mysterious god welcome thug retrieve rabbit process save able Zhou particular amane \\n\\n\\n  elementary hunt zughan entire reach reward matsumoto youkoso koji mountain place lead entertainment fujiwara visit tamaki pursue spaceship child hepburn research picture revolve kurosawa relative variety home fiction uchuu vacation.the uchu host life bag arrive age friend directorial rescue animate moon bent heyoukoso honoka original neppo kurata tomonori suddenly 2010 produce class close yuasa village schoolmate science aniplex researcher film henchman alien universe look miss kidnap steal hideyuki pyon direct summer come adventure masaaki e accord injure rickman popular appear target nurse distribute wan response script find run event tomoyo responsible war earth school require speak power turn camping scale', 'score': 7.3, 'producer': 'Aniplex', 'studio': 'A-1 Pictures', 'licensors': 'NYAV Post, GKIDS'}),\n",
       " Document(page_content='the series is set in the year 5808; human civilization has taken gigantic steps in the conquest of the space, and with the creation of the three-dimensional tunnel, people can travel to any galaxy in the universe. \"the gentleman of the cosmos\" is a company that manages the tunnel and has come to dominate the tourism industry.', metadata={'anime_id': 1892, 'cast': 'UNKNOWN', 'episodes': '25.0', 'genre': 'Adventure, Comedy, Sci-Fi', 'source': 'Original', 'Duration': '25 min per ep', 'name': 'YAT Anshin! Uchuu Ryokou 2', 'tokens': 'character anshin dominate 5808 pay tour gigantic tunnel 1998 ann air plot Lu explosion month series transporting second manage damage commander away year hoshiwatari untroubled rule whereabouts portable center mother emperor invent \\n\\n\\n\\n maron space ship Xing subsequently gentleman source use scientific note encounter suffer conquest \\n Yu cosmo capture work step galaxy creation yatto daughter group device \\n\\n 2 ganon girl discover outer cat far help fall mysterious 1997 problem throw lady transport Zhou human nota psychic follower \\n\\n\\n  kanea disappear love scientist evil planet dimensional aim accident past place know yat machine civilization revolve create person sci home uchuu tac uchu travel baras september rescue leave original tourism pinky produce 1996 addition young set october people soon nhk universe monarch anime instantaneous kidnap industry april like come owner adventure adolescent teletransportation realm main ago want Xin goro yatAn fi father professor find katsura order tag comedy attack responsible janitor kidnapped yamamoto unknown mechanic ryokou company ryoko conflicting earth time crew power turn japan', 'score': 7.25, 'producer': 'NHK', 'studio': 'Group TAC', 'licensors': 'UNKNOWN'}),\n",
       " Document(page_content='in the year 2071, roughly fifty years after an accident with a hyperspace gateway that made earth almost uninhabitable, humanity has colonized most of the rocky planets and moons of the solar system. amid a rising crime rate, the inter solar system police (issp) set up a legalized contract system, in which registered bounty hunters (also referred to as \"cowboys\") chase criminals and bring them in alive in return for a reward. the series\\' protagonists are bounty-hunters working from the spaceship bebop. the original crew is spike spiegel, an exiled former hitman of the criminal red dragon syndicate, and jet black, a former issp officer. they are later joined by faye valentine, an amnesiac con artist; edward, an eccentric child, skilled in hacking; and ein, a genetically-engineered pembroke welsh corgi with human-like intelligence. throughout the series, the team gets involved in disastrous mishaps leaving them without money, while often confronting faces and events from their past:', metadata={'anime_id': 5, 'cast': \"Melissa Fahn, Tensai Okamura, Nicholas Guest, Hiroyuki Okiura, Keiko Nobumoto, Shin'ichirô Watanabe, Beau Billingslea, Yoshiyuki Takei, Mary Elizabeth McGlynn, Kôichi Yamadera\", 'episodes': '1.0', 'genre': 'Action, Sci-Fi', 'source': 'Original', 'Duration': '1 hr 55 min', 'name': 'Cowboy Bebop: Tengoku no Tobira', 'tokens': \"character \\n\\n\\n\\n\\n tensai con sunrise send reunite fahn year license screenwriter regard hide space japanese existential incorporate fake \\n director particularly eventually hiding work wide hyperspace soundtrack welsh animaze rocky introduce focus help corgi bone protagonist save crime follow early action routine dispatch hunt member red perpetrator television accident cryogenically lead confrontation spaceship dragon child uninhabitable kawamoto fiction garner officer conclude hail loneliness designer smoke tobira roughly protect bring nicholas laud 2071 girlfriend film whopping hitman shin'ichiro faye takei animation mishap mass injure staircase notably target okamura fi western run death credit keiko earth hysteria swim session 2001 black guest genetically elizabeth 1998 air explode wave series apologize composer amid later noir adult involve infiltrate okiura critic zealand gateway tokyo strange united visual ambitious amnesiac \\n\\n\\n  episode planet resolve money reward nobumoto hacking production pair bebop syndicate sci variety mar friend tanker viewer interrupt soldier science young skilled acting kauboi title spiegel floor come main america wound criminal alive issp refer zro exile time english escape 1999 audience seek solar killing rivalry day battle broadcast seriously partner deadly aboard mcglynn melissa collectively spread australia tengoku beez disastrous beau having ground building receive mechanical voice yamane watanabe coup register face commercial vicious rise hajime female kanno fall yoko present human team d'etat draw hiroyuki eccentric bibappu past prominent place worthless toshihiro join britain bounty fairly blast travel mary life kill heavily kaubo leave intend jet engineer terrorist market award genre valentine north look anime madman states good mount humanity casualty like boredom billingslea limited wowow woman style price sky release cowboy major crew ein end suppose yatate disease affair story international stage neo return descend sun confront acclaim remain julia ensue final yoshiyuki 2000s colonize cause witness complete million originally contract bill reason blackmail army arc tv finally chase freeze shinichiro artist eliminate pembroke affiliate rate kimitoshi limit success entertainment head intelligence bandai hepburn inability crunchyroll episodic create spike critical theme plan gets animate moon original woolong legalize suddenly system set new unlucky begin yamadera inter hunter ibibatsupu include find oil event edward koichi dub police\", 'score': 8.38, 'producer': 'Sunrise, Bandai Visual', 'studio': 'Bones', 'licensors': 'Sony Pictures Entertainment'}),\n",
       " Document(page_content='cowboy bebop (japanese: カウボーイビバップ, hepburn: kaubōi bibappu) is a japanese neo-noir space western anime television series which aired on tv tokyo and wowow from 1998 to 1999. it was created and animated by sunrise, led by a production team of director shinichirō watanabe, screenwriter keiko nobumoto, character designer toshihiro kawamoto, mechanical designer kimitoshi yamane, and composer yoko kanno, who are collectively billed as hajime yatate.\\nthe series, which ran for twenty-six episodes (dubbed \"sessions\"), is set in the year 2071, and follows the lives of a traveling bounty-hunting crew aboard a spaceship, the bebop. although it incorporates a wide variety of genres, the series draws most heavily from science fiction, western, and noir films. its most prominent themes are existential boredom, loneliness, and the inability to escape one\\'s past.', metadata={'anime_id': 5, 'cast': \"Melissa Fahn, Tensai Okamura, Nicholas Guest, Hiroyuki Okiura, Keiko Nobumoto, Shin'ichirô Watanabe, Beau Billingslea, Yoshiyuki Takei, Mary Elizabeth McGlynn, Kôichi Yamadera\", 'episodes': '1.0', 'genre': 'Action, Sci-Fi', 'source': 'Original', 'Duration': '1 hr 55 min', 'name': 'Cowboy Bebop: Tengoku no Tobira', 'tokens': \"character \\n\\n\\n\\n\\n tensai con sunrise send reunite fahn year license screenwriter regard hide space japanese existential incorporate fake \\n director particularly eventually hiding work wide hyperspace soundtrack welsh animaze rocky introduce focus help corgi bone protagonist save crime follow early action routine dispatch hunt member red perpetrator television accident cryogenically lead confrontation spaceship dragon child uninhabitable kawamoto fiction garner officer conclude hail loneliness designer smoke tobira roughly protect bring nicholas laud 2071 girlfriend film whopping hitman shin'ichiro faye takei animation mishap mass injure staircase notably target okamura fi western run death credit keiko earth hysteria swim session 2001 black guest genetically elizabeth 1998 air explode wave series apologize composer amid later noir adult involve infiltrate okiura critic zealand gateway tokyo strange united visual ambitious amnesiac \\n\\n\\n  episode planet resolve money reward nobumoto hacking production pair bebop syndicate sci variety mar friend tanker viewer interrupt soldier science young skilled acting kauboi title spiegel floor come main america wound criminal alive issp refer zro exile time english escape 1999 audience seek solar killing rivalry day battle broadcast seriously partner deadly aboard mcglynn melissa collectively spread australia tengoku beez disastrous beau having ground building receive mechanical voice yamane watanabe coup register face commercial vicious rise hajime female kanno fall yoko present human team d'etat draw hiroyuki eccentric bibappu past prominent place worthless toshihiro join britain bounty fairly blast travel mary life kill heavily kaubo leave intend jet engineer terrorist market award genre valentine north look anime madman states good mount humanity casualty like boredom billingslea limited wowow woman style price sky release cowboy major crew ein end suppose yatate disease affair story international stage neo return descend sun confront acclaim remain julia ensue final yoshiyuki 2000s colonize cause witness complete million originally contract bill reason blackmail army arc tv finally chase freeze shinichiro artist eliminate pembroke affiliate rate kimitoshi limit success entertainment head intelligence bandai hepburn inability crunchyroll episodic create spike critical theme plan gets animate moon original woolong legalize suddenly system set new unlucky begin yamadera inter hunter ibibatsupu include find oil event edward koichi dub police\", 'score': 8.38, 'producer': 'Sunrise, Bandai Visual', 'studio': 'Bones', 'licensors': 'Sony Pictures Entertainment'})]"
      ]
     },
     "execution_count": 49,
     "metadata": {},
     "output_type": "execute_result"
    }
   ],
   "source": [
    "query = \"I am a space cowboy\"\n",
    "\n",
    "docs = retriever2.invoke(\n",
    "    query,\n",
    ")\n",
    "\n",
    "docs"
   ]
  },
  {
   "cell_type": "code",
   "execution_count": null,
   "metadata": {},
   "outputs": [],
   "source": []
  }
 ],
 "metadata": {
  "kernelspec": {
   "display_name": "langchain",
   "language": "python",
   "name": "python3"
  },
  "language_info": {
   "codemirror_mode": {
    "name": "ipython",
    "version": 3
   },
   "file_extension": ".py",
   "mimetype": "text/x-python",
   "name": "python",
   "nbconvert_exporter": "python",
   "pygments_lexer": "ipython3",
   "version": "3.10.13"
  }
 },
 "nbformat": 4,
 "nbformat_minor": 2
}
