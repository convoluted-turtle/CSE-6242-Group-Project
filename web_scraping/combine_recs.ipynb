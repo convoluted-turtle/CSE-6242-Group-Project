{
 "cells": [
  {
   "cell_type": "code",
   "execution_count": 28,
   "metadata": {},
   "outputs": [],
   "source": [
    "import pandas as pd\n",
    "import pickle\n",
    "import spacy\n",
    "from tqdm import tqdm\n",
    "import re\n",
    "from unidecode import unidecode\n",
    "import html"
   ]
  },
  {
   "cell_type": "code",
   "execution_count": 2,
   "metadata": {},
   "outputs": [],
   "source": [
    "df = pd.read_json(\"/Users/justinvhuang/Desktop/CSE-6242-Group-Project/web_scraping/fin_anime_df.json\")"
   ]
  },
  {
   "cell_type": "code",
   "execution_count": 3,
   "metadata": {},
   "outputs": [],
   "source": [
    "# Specify the path to your pickle file\n",
    "pickle_file_path = \"/Users/justinvhuang/Desktop/CSE-6242-Group-Project/web_scraping/popular_dict_10.pkl\"\n",
    "\n",
    "# Open the pickle file in read-binary mode\n",
    "with open(pickle_file_path, \"rb\") as f:\n",
    "    # Load the object from the pickle file\n",
    "    loaded_object = pickle.load(f)"
   ]
  },
  {
   "cell_type": "code",
   "execution_count": 4,
   "metadata": {},
   "outputs": [],
   "source": [
    "df2 = pd.read_csv(\"/Users/justinvhuang/Desktop/CSE-6242-Group-Project/anime-dataset-2023.csv\")"
   ]
  },
  {
   "cell_type": "code",
   "execution_count": 5,
   "metadata": {},
   "outputs": [],
   "source": [
    "pop_list = df2[df2['anime_id'].isin(pd.DataFrame(loaded_object)['anime_id'].tolist())].sort_values('Favorites', ascending = False).head(10)['anime_id'].tolist()"
   ]
  },
  {
   "cell_type": "code",
   "execution_count": 6,
   "metadata": {},
   "outputs": [],
   "source": [
    "df['popular_recs'] = [pop_list] * len(df)"
   ]
  },
  {
   "cell_type": "code",
   "execution_count": 7,
   "metadata": {},
   "outputs": [],
   "source": [
    "# Specify the path to your pickle file\n",
    "pickle_file_path = \"/Users/justinvhuang/Desktop/CSE-6242-Group-Project/web_scraping/anime_recommendations_item_knn_CF_10k_num.pkl\"\n",
    "\n",
    "# Open the pickle file in read-binary mode\n",
    "with open(pickle_file_path, \"rb\") as f:\n",
    "    # Load the object from the pickle file\n",
    "    loaded_object_cf = pickle.load(f)"
   ]
  },
  {
   "cell_type": "code",
   "execution_count": 8,
   "metadata": {},
   "outputs": [],
   "source": [
    "anime_anime_id_series = pd.Series(loaded_object_cf)\n"
   ]
  },
  {
   "cell_type": "code",
   "execution_count": 9,
   "metadata": {},
   "outputs": [],
   "source": [
    "df['cf_recs'] = df['anime_anime_id'].map(anime_anime_id_series)"
   ]
  },
  {
   "cell_type": "code",
   "execution_count": 26,
   "metadata": {},
   "outputs": [],
   "source": [
    "df['tokens'] = df['text'] + \" \" + df['Genres']  + \" \" + df['Source']  + \" \" + df['keywords'] + \" \" + df['Producers'] + \" \" + df['imdb_name_basics_primaryName'] + \" \" + df['anime_Synopsis'] + \" \" + df['Studios'] + \" \" + df['Name']"
   ]
  },
  {
   "cell_type": "code",
   "execution_count": 25,
   "metadata": {},
   "outputs": [],
   "source": [
    "class TextPreprocessor:\n",
    "    def __init__(self):\n",
    "        self.nlp = spacy.load(\"en_core_web_sm\")\n",
    "        tqdm.pandas()\n",
    "\n",
    "    def lemmatize_text(self, text):\n",
    "        doc = self.nlp(text)\n",
    "        return [token.lemma_ for token in doc]\n",
    "\n",
    "    def remove_stopwords(self, tokens):\n",
    "        return [token for token in tokens if not self.nlp.vocab[token].is_stop]\n",
    "\n",
    "    def remove_punctuations(self, tokens):\n",
    "        return [token for token in tokens if not self.nlp.vocab[token].is_punct]\n",
    "\n",
    "    def decode_html_entities(self, text):\n",
    "        return html.unescape(text)\n",
    "\n",
    "    def remove_html_tags(self, text):\n",
    "        cleanr = re.compile('<.*?>')\n",
    "        cleantext = re.sub(cleanr, '', text)\n",
    "        return cleantext\n",
    "\n",
    "    def preprocess_dataframe(self, df, column_name):\n",
    "        # Lowercase text column\n",
    "        df[column_name] = df[column_name].str.lower()\n",
    "\n",
    "        # Decode HTML entities\n",
    "        df[column_name] = df[column_name].apply(self.decode_html_entities)\n",
    "\n",
    "        # Remove HTML tags\n",
    "        df[column_name] = df[column_name].apply(self.remove_html_tags)\n",
    "\n",
    "        # Normalize Unicode characters\n",
    "        df[column_name] = df[column_name].apply(unidecode)\n",
    "\n",
    "        # Lemmatize text column\n",
    "        df[column_name] = df[column_name].progress_apply(self.lemmatize_text)\n",
    "        \n",
    "        # Remove stopwords from text column\n",
    "        df[column_name] = df[column_name].progress_apply(self.remove_stopwords)\n",
    "        \n",
    "        # Remove punctuations from text column\n",
    "        df[column_name] = df[column_name].progress_apply(self.remove_punctuations)\n",
    "        \n",
    "        return df\n",
    "\n",
    "\n",
    "# Create an instance of TextPreprocessor\n",
    "text_preprocessor = TextPreprocessor()\n"
   ]
  },
  {
   "cell_type": "code",
   "execution_count": 29,
   "metadata": {},
   "outputs": [
    {
     "name": "stderr",
     "output_type": "stream",
     "text": [
      "100%|██████████| 11565/11565 [07:45<00:00, 24.83it/s]\n",
      "100%|██████████| 11565/11565 [00:02<00:00, 4119.91it/s]\n",
      "100%|██████████| 11565/11565 [00:01<00:00, 6704.99it/s]\n"
     ]
    }
   ],
   "source": [
    "# Preprocess the DataFrame\n",
    "fin_df = text_preprocessor.preprocess_dataframe(df, 'tokens')"
   ]
  },
  {
   "cell_type": "code",
   "execution_count": 32,
   "metadata": {},
   "outputs": [],
   "source": [
    "fin_df.to_json(\"fin_anime_dfv1.json\")"
   ]
  },
  {
   "cell_type": "code",
   "execution_count": null,
   "metadata": {},
   "outputs": [],
   "source": []
  }
 ],
 "metadata": {
  "kernelspec": {
   "display_name": "spacy",
   "language": "python",
   "name": "python3"
  },
  "language_info": {
   "codemirror_mode": {
    "name": "ipython",
    "version": 3
   },
   "file_extension": ".py",
   "mimetype": "text/x-python",
   "name": "python",
   "nbconvert_exporter": "python",
   "pygments_lexer": "ipython3",
   "version": "3.8.12"
  }
 },
 "nbformat": 4,
 "nbformat_minor": 2
}
