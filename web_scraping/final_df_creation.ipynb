{
 "cells": [
  {
   "cell_type": "code",
   "execution_count": 1,
   "metadata": {},
   "outputs": [],
   "source": [
    "import wikipedia\n",
    "import pandas as pd\n",
    "from tqdm import tqdm \n",
    "import math\n",
    "import numpy as np\n",
    "import html\n",
    "import re\n",
    "from unidecode import unidecode\n",
    "import pickle"
   ]
  },
  {
   "cell_type": "code",
   "execution_count": 2,
   "metadata": {},
   "outputs": [],
   "source": [
    "#add in anime not from combined\n",
    "#imdb and myanimelist\n",
    "#mine out the plot for each anime title\n",
    "#get the animelist name to look on wikipedia "
   ]
  },
  {
   "cell_type": "markdown",
   "metadata": {},
   "source": [
    "### See which ones still might need to be added in"
   ]
  },
  {
   "cell_type": "code",
   "execution_count": 3,
   "metadata": {},
   "outputs": [],
   "source": [
    "df_joined = pd.read_json(\"/Users/justinvhuang/Downloads/2024-03-13-ETLs/metadata.json\")\n",
    "df_imdb = pd.read_csv(\"/Users/justinvhuang/Desktop/CSE-6242-Group-Project/web_scraping/imdb_scraped_datav2.csv\", index_col=0)\n",
    "df_imdb_episode = pd.read_csv(\"/Users/justinvhuang/Desktop/CSE-6242-Group-Project/imdb_anime.csv\")"
   ]
  },
  {
   "cell_type": "code",
   "execution_count": 4,
   "metadata": {},
   "outputs": [],
   "source": [
    "already_joined = df_joined['imdb_title_titleId'].tolist()"
   ]
  },
  {
   "cell_type": "code",
   "execution_count": 5,
   "metadata": {},
   "outputs": [],
   "source": [
    "df_imdb_not_in = df_imdb[~df_imdb['imdb_id'].isin(already_joined)].drop_duplicates('title')"
   ]
  },
  {
   "cell_type": "code",
   "execution_count": 6,
   "metadata": {},
   "outputs": [],
   "source": [
    "df_imdb_episode['Episode Title'] = df_imdb_episode['Episode Title'].replace(np.nan, 'none')"
   ]
  },
  {
   "cell_type": "code",
   "execution_count": 7,
   "metadata": {},
   "outputs": [],
   "source": [
    "df_imdb_episode_no = df_imdb_episode[df_imdb_episode['Episode Title'] == 'none']"
   ]
  },
  {
   "cell_type": "code",
   "execution_count": 8,
   "metadata": {},
   "outputs": [],
   "source": [
    "# Function to lowercase words and remove punctuation\n",
    "def clean_text(text):\n",
    "    return ' '.join(re.findall(r'\\b\\w+\\b', text.lower()))\n",
    "\n",
    "# Function to remove diacritics\n",
    "def remove_diacritics(text):\n",
    "    clean_text = unidecode(text)\n",
    "\n",
    "    clean_text = html.unescape(clean_text)\n",
    "    return clean_text\n"
   ]
  },
  {
   "cell_type": "code",
   "execution_count": 9,
   "metadata": {},
   "outputs": [],
   "source": [
    "df_imdb_not_in['title'] = df_imdb_not_in['title'].apply(clean_text).apply(remove_diacritics)"
   ]
  },
  {
   "cell_type": "code",
   "execution_count": 10,
   "metadata": {},
   "outputs": [
    {
     "name": "stderr",
     "output_type": "stream",
     "text": [
      "/var/folders/vz/cyjrzm0x74q21sb72nhkdfmr0000gn/T/ipykernel_97478/712706123.py:1: SettingWithCopyWarning: \n",
      "A value is trying to be set on a copy of a slice from a DataFrame.\n",
      "Try using .loc[row_indexer,col_indexer] = value instead\n",
      "\n",
      "See the caveats in the documentation: https://pandas.pydata.org/pandas-docs/stable/user_guide/indexing.html#returning-a-view-versus-a-copy\n",
      "  df_imdb_episode_no['title'] = df_imdb_episode_no['Title'].apply(clean_text).apply(remove_diacritics)\n"
     ]
    }
   ],
   "source": [
    "df_imdb_episode_no['title'] = df_imdb_episode_no['Title'].apply(clean_text).apply(remove_diacritics)"
   ]
  },
  {
   "cell_type": "code",
   "execution_count": 11,
   "metadata": {},
   "outputs": [],
   "source": [
    "df_addon = df_imdb_not_in.merge(df_imdb_episode_no, on = 'title', how = 'inner')"
   ]
  },
  {
   "cell_type": "code",
   "execution_count": 12,
   "metadata": {},
   "outputs": [],
   "source": [
    "df_addon['keywords'] = df_addon['keywords'].replace(np.nan, 'none')\n",
    "df_addon = df_addon[df_addon['keywords'] != 'none'].drop_duplicates(subset=['title', 'imdb_id'])"
   ]
  },
  {
   "cell_type": "code",
   "execution_count": 13,
   "metadata": {},
   "outputs": [
    {
     "data": {
      "text/plain": [
       "Index(['imdb_scrape_imdb_id', 'imdb_title_attributes',\n",
       "       'imdb_title_isOriginalTitle', 'imdb_title_language',\n",
       "       'imdb_title_ordering', 'imdb_title_region', 'imdb_title_title',\n",
       "       'imdb_title_titleId', 'imdb_title_types', 'anime_Aired',\n",
       "       'anime_Duration', 'anime_English name', 'anime_Episodes',\n",
       "       'anime_Favorites', 'anime_Genres', 'anime_Image URL', 'anime_Licensors',\n",
       "       'anime_Members', 'anime_Name', 'anime_Other name', 'anime_Popularity',\n",
       "       'anime_Premiered', 'anime_Producers', 'anime_Rank', 'anime_Rating',\n",
       "       'anime_Score', 'anime_Scored By', 'anime_Source', 'anime_Status',\n",
       "       'anime_Studios', 'anime_Synopsis', 'anime_Type', 'anime_anime_id',\n",
       "       'imdb_principals_tconst', 'imdb_name_basics_primaryName'],\n",
       "      dtype='object')"
      ]
     },
     "execution_count": 13,
     "metadata": {},
     "output_type": "execute_result"
    }
   ],
   "source": [
    "df_joined.columns"
   ]
  },
  {
   "cell_type": "code",
   "execution_count": 14,
   "metadata": {},
   "outputs": [],
   "source": [
    "# Set display option to show all columns\n",
    "pd.set_option('display.max_columns', None)"
   ]
  },
  {
   "cell_type": "code",
   "execution_count": 15,
   "metadata": {},
   "outputs": [
    {
     "data": {
      "text/html": [
       "<div>\n",
       "<style scoped>\n",
       "    .dataframe tbody tr th:only-of-type {\n",
       "        vertical-align: middle;\n",
       "    }\n",
       "\n",
       "    .dataframe tbody tr th {\n",
       "        vertical-align: top;\n",
       "    }\n",
       "\n",
       "    .dataframe thead th {\n",
       "        text-align: right;\n",
       "    }\n",
       "</style>\n",
       "<table border=\"1\" class=\"dataframe\">\n",
       "  <thead>\n",
       "    <tr style=\"text-align: right;\">\n",
       "      <th></th>\n",
       "      <th>imdb_title_title</th>\n",
       "      <th>anime_Aired</th>\n",
       "      <th>anime_Duration</th>\n",
       "      <th>anime_English name</th>\n",
       "      <th>anime_Episodes</th>\n",
       "      <th>anime_Favorites</th>\n",
       "      <th>anime_Genres</th>\n",
       "      <th>anime_Image URL</th>\n",
       "      <th>anime_Licensors</th>\n",
       "      <th>anime_Name</th>\n",
       "      <th>anime_Other name</th>\n",
       "      <th>anime_Popularity</th>\n",
       "      <th>anime_Premiered</th>\n",
       "      <th>anime_Producers</th>\n",
       "      <th>anime_Rank</th>\n",
       "      <th>anime_Rating</th>\n",
       "      <th>anime_Score</th>\n",
       "      <th>anime_Source</th>\n",
       "      <th>anime_Status</th>\n",
       "      <th>anime_Studios</th>\n",
       "      <th>anime_Synopsis</th>\n",
       "      <th>anime_Type</th>\n",
       "      <th>anime_anime_id</th>\n",
       "      <th>imdb_name_basics_primaryName</th>\n",
       "    </tr>\n",
       "  </thead>\n",
       "  <tbody>\n",
       "    <tr>\n",
       "      <th>0</th>\n",
       "      <td>【推しの子】</td>\n",
       "      <td>None</td>\n",
       "      <td>None</td>\n",
       "      <td>[Oshi No Ko]</td>\n",
       "      <td>None</td>\n",
       "      <td>NaN</td>\n",
       "      <td>Drama, Supernatural</td>\n",
       "      <td>None</td>\n",
       "      <td>None</td>\n",
       "      <td>\\Oshi no Ko\\\"\"</td>\n",
       "      <td>【推しの子】</td>\n",
       "      <td>NaN</td>\n",
       "      <td>None</td>\n",
       "      <td>None</td>\n",
       "      <td>None</td>\n",
       "      <td>None</td>\n",
       "      <td>8.98</td>\n",
       "      <td>None</td>\n",
       "      <td>None</td>\n",
       "      <td>None</td>\n",
       "      <td>In the entertainment world, celebrities often ...</td>\n",
       "      <td>None</td>\n",
       "      <td>52034.0</td>\n",
       "      <td>Natalie Rial, Christina Marie Kelly, Takeo Ots...</td>\n",
       "    </tr>\n",
       "    <tr>\n",
       "      <th>1</th>\n",
       "      <td>.hack//G.U. Returner</td>\n",
       "      <td>None</td>\n",
       "      <td>None</td>\n",
       "      <td>UNKNOWN</td>\n",
       "      <td>None</td>\n",
       "      <td>NaN</td>\n",
       "      <td>Adventure, Drama, Fantasy</td>\n",
       "      <td>None</td>\n",
       "      <td>None</td>\n",
       "      <td>.hack//G.U. Returner</td>\n",
       "      <td>.HACK//G.U. RETURNER</td>\n",
       "      <td>NaN</td>\n",
       "      <td>None</td>\n",
       "      <td>None</td>\n",
       "      <td>None</td>\n",
       "      <td>None</td>\n",
       "      <td>6.67</td>\n",
       "      <td>None</td>\n",
       "      <td>None</td>\n",
       "      <td>None</td>\n",
       "      <td>The characters from previous .hack//G.U. Games...</td>\n",
       "      <td>None</td>\n",
       "      <td>2928.0</td>\n",
       "      <td>Kaori Nazuka, Ayako Kawasumi, Takahiro Sakurai...</td>\n",
       "    </tr>\n",
       "    <tr>\n",
       "      <th>2</th>\n",
       "      <td>.hack//G.U. Trilogy</td>\n",
       "      <td>None</td>\n",
       "      <td>None</td>\n",
       "      <td>.hack//G.U. Trilogy: Parody Mode</td>\n",
       "      <td>None</td>\n",
       "      <td>NaN</td>\n",
       "      <td>Comedy, Fantasy, Sci-Fi</td>\n",
       "      <td>None</td>\n",
       "      <td>None</td>\n",
       "      <td>.hack//G.U. Trilogy: Parody Mode</td>\n",
       "      <td>.hack//G.U. Trilogy</td>\n",
       "      <td>NaN</td>\n",
       "      <td>None</td>\n",
       "      <td>None</td>\n",
       "      <td>None</td>\n",
       "      <td>None</td>\n",
       "      <td>6.36</td>\n",
       "      <td>None</td>\n",
       "      <td>None</td>\n",
       "      <td>None</td>\n",
       "      <td>A special bonus Parody Mode added to the extra...</td>\n",
       "      <td>None</td>\n",
       "      <td>4469.0</td>\n",
       "      <td>Hiroshi Matsuyama, Ayako Kawasumi, Saeko Hirot...</td>\n",
       "    </tr>\n",
       "    <tr>\n",
       "      <th>3</th>\n",
       "      <td>.hack//GIFT</td>\n",
       "      <td>Nov 16, 2003</td>\n",
       "      <td>26 min</td>\n",
       "      <td>.hack//Gift</td>\n",
       "      <td>1.0</td>\n",
       "      <td>19.0</td>\n",
       "      <td>Comedy, Fantasy</td>\n",
       "      <td>https://cdn.myanimelist.net/images/anime/2/230...</td>\n",
       "      <td>Bandai Entertainment</td>\n",
       "      <td>.hack//Gift</td>\n",
       "      <td>.hack//GIFT</td>\n",
       "      <td>4517.0</td>\n",
       "      <td>UNKNOWN</td>\n",
       "      <td>CyberConnect2</td>\n",
       "      <td>8363.0</td>\n",
       "      <td>R+ - Mild Nudity</td>\n",
       "      <td>6.1</td>\n",
       "      <td>Original</td>\n",
       "      <td>Finished Airing</td>\n",
       "      <td>Bee Train</td>\n",
       "      <td>As an expression of gratitude for the heroes o...</td>\n",
       "      <td>OVA</td>\n",
       "      <td>454.0</td>\n",
       "      <td>Isshin Chiba, Shin'ya Kawatsura, Sayaka Aida, ...</td>\n",
       "    </tr>\n",
       "    <tr>\n",
       "      <th>4</th>\n",
       "      <td>.hack//SIGN</td>\n",
       "      <td>None</td>\n",
       "      <td>None</td>\n",
       "      <td>.hack//Sign</td>\n",
       "      <td>None</td>\n",
       "      <td>NaN</td>\n",
       "      <td>Adventure, Fantasy, Mystery</td>\n",
       "      <td>None</td>\n",
       "      <td>None</td>\n",
       "      <td>.hack//Sign</td>\n",
       "      <td>.hack//SIGN</td>\n",
       "      <td>NaN</td>\n",
       "      <td>None</td>\n",
       "      <td>None</td>\n",
       "      <td>None</td>\n",
       "      <td>None</td>\n",
       "      <td>6.95</td>\n",
       "      <td>None</td>\n",
       "      <td>None</td>\n",
       "      <td>None</td>\n",
       "      <td>A young wavemaster, only known by the alias of...</td>\n",
       "      <td>None</td>\n",
       "      <td>48.0</td>\n",
       "      <td>Amanda Winn Lee, Kaori Nazuka, Donna Rawlins, ...</td>\n",
       "    </tr>\n",
       "    <tr>\n",
       "      <th>...</th>\n",
       "      <td>...</td>\n",
       "      <td>...</td>\n",
       "      <td>...</td>\n",
       "      <td>...</td>\n",
       "      <td>...</td>\n",
       "      <td>...</td>\n",
       "      <td>...</td>\n",
       "      <td>...</td>\n",
       "      <td>...</td>\n",
       "      <td>...</td>\n",
       "      <td>...</td>\n",
       "      <td>...</td>\n",
       "      <td>...</td>\n",
       "      <td>...</td>\n",
       "      <td>...</td>\n",
       "      <td>...</td>\n",
       "      <td>...</td>\n",
       "      <td>...</td>\n",
       "      <td>...</td>\n",
       "      <td>...</td>\n",
       "      <td>...</td>\n",
       "      <td>...</td>\n",
       "      <td>...</td>\n",
       "      <td>...</td>\n",
       "    </tr>\n",
       "    <tr>\n",
       "      <th>5178</th>\n",
       "      <td>I've Always Liked You</td>\n",
       "      <td>None</td>\n",
       "      <td>None</td>\n",
       "      <td>I've Always Liked You</td>\n",
       "      <td>None</td>\n",
       "      <td>NaN</td>\n",
       "      <td>Romance</td>\n",
       "      <td>None</td>\n",
       "      <td>None</td>\n",
       "      <td>Zutto Mae kara Suki deshita. Kokuhaku Jikkou I...</td>\n",
       "      <td>ずっと前から好きでした。～告白実行委員会～</td>\n",
       "      <td>NaN</td>\n",
       "      <td>None</td>\n",
       "      <td>None</td>\n",
       "      <td>None</td>\n",
       "      <td>None</td>\n",
       "      <td>7.22</td>\n",
       "      <td>None</td>\n",
       "      <td>None</td>\n",
       "      <td>None</td>\n",
       "      <td>Love is blooming at Sakuragaoka High School. N...</td>\n",
       "      <td>None</td>\n",
       "      <td>31245.0</td>\n",
       "      <td>Kana Asumi, Gero, Yoshimi Narita, Momo Asakura...</td>\n",
       "    </tr>\n",
       "    <tr>\n",
       "      <th>5179</th>\n",
       "      <td>エクスドライバー Nina&amp;Rei Danger Zone</td>\n",
       "      <td>None</td>\n",
       "      <td>None</td>\n",
       "      <td>UNKNOWN</td>\n",
       "      <td>None</td>\n",
       "      <td>NaN</td>\n",
       "      <td>Action, Sci-Fi</td>\n",
       "      <td>None</td>\n",
       "      <td>None</td>\n",
       "      <td>eX-Driver: Nina &amp; Rei Danger Zone</td>\n",
       "      <td>エクスドライバー Nina&amp;Rei Danger Zone</td>\n",
       "      <td>NaN</td>\n",
       "      <td>None</td>\n",
       "      <td>None</td>\n",
       "      <td>None</td>\n",
       "      <td>None</td>\n",
       "      <td>6.39</td>\n",
       "      <td>None</td>\n",
       "      <td>None</td>\n",
       "      <td>None</td>\n",
       "      <td>The story takes place on a world 100 years in ...</td>\n",
       "      <td>None</td>\n",
       "      <td>1733.0</td>\n",
       "      <td>Wataru Tanaka, Michiko Neya, Mami Kingetsu, Kô...</td>\n",
       "    </tr>\n",
       "    <tr>\n",
       "      <th>5180</th>\n",
       "      <td>スクライド</td>\n",
       "      <td>None</td>\n",
       "      <td>None</td>\n",
       "      <td>s-CRY-ed</td>\n",
       "      <td>None</td>\n",
       "      <td>NaN</td>\n",
       "      <td>Action, Adventure, Drama, Sci-Fi</td>\n",
       "      <td>None</td>\n",
       "      <td>None</td>\n",
       "      <td>s.CRY.ed</td>\n",
       "      <td>スクライド</td>\n",
       "      <td>NaN</td>\n",
       "      <td>None</td>\n",
       "      <td>None</td>\n",
       "      <td>None</td>\n",
       "      <td>None</td>\n",
       "      <td>7.36</td>\n",
       "      <td>None</td>\n",
       "      <td>None</td>\n",
       "      <td>None</td>\n",
       "      <td>A strange environmental phenomenon 22 years ag...</td>\n",
       "      <td>None</td>\n",
       "      <td>168.0</td>\n",
       "      <td>Lex Lang, Jamieson Price, Dave Wittenberg, Cri...</td>\n",
       "    </tr>\n",
       "    <tr>\n",
       "      <th>5181</th>\n",
       "      <td>xxxHOLiC</td>\n",
       "      <td>Apr 7, 2006 to Sep 29, 2006</td>\n",
       "      <td>24 min per ep</td>\n",
       "      <td>xxxHOLiC</td>\n",
       "      <td>24.0</td>\n",
       "      <td>4392.0</td>\n",
       "      <td>Comedy, Drama, Mystery, Supernatural</td>\n",
       "      <td>https://cdn.myanimelist.net/images/anime/5/218...</td>\n",
       "      <td>Funimation</td>\n",
       "      <td>xxxHOLiC</td>\n",
       "      <td>×××HOLiC（ホリック）</td>\n",
       "      <td>714.0</td>\n",
       "      <td>spring 2006</td>\n",
       "      <td>TBS, BMG Japan, Kids Station, Kodansha, Movic</td>\n",
       "      <td>614.0</td>\n",
       "      <td>PG-13 - Teens 13 or older</td>\n",
       "      <td>7.98</td>\n",
       "      <td>Manga</td>\n",
       "      <td>Finished Airing</td>\n",
       "      <td>Production I.G</td>\n",
       "      <td>Kimihiro Watanuki can see spirits and other as...</td>\n",
       "      <td>TV</td>\n",
       "      <td>861.0</td>\n",
       "      <td>Shizuka Itou, Hisayo Mochizuki, Colleen Clinke...</td>\n",
       "    </tr>\n",
       "    <tr>\n",
       "      <th>5182</th>\n",
       "      <td>elDLIVE</td>\n",
       "      <td>Jan 8, 2017 to Mar 26, 2017</td>\n",
       "      <td>24 min per ep</td>\n",
       "      <td>elDLIVE</td>\n",
       "      <td>12.0</td>\n",
       "      <td>47.0</td>\n",
       "      <td>Action, Sci-Fi</td>\n",
       "      <td>https://cdn.myanimelist.net/images/anime/8/823...</td>\n",
       "      <td>Funimation, Crunchyroll</td>\n",
       "      <td>ēlDLIVE</td>\n",
       "      <td>エルドライブ 【ēlDLIVE】</td>\n",
       "      <td>2982.0</td>\n",
       "      <td>winter 2017</td>\n",
       "      <td>Yomiuri Telecasting, d-rights, Half H.P Studio...</td>\n",
       "      <td>8372.0</td>\n",
       "      <td>PG-13 - Teens 13 or older</td>\n",
       "      <td>6.1</td>\n",
       "      <td>Manga</td>\n",
       "      <td>Finished Airing</td>\n",
       "      <td>Pierrot</td>\n",
       "      <td>Chuuta Kokonose is an orphan who lives with hi...</td>\n",
       "      <td>TV</td>\n",
       "      <td>32878.0</td>\n",
       "      <td>Apphia Yu, Lara Woodhull, Dawn M. Bennett, Mor...</td>\n",
       "    </tr>\n",
       "  </tbody>\n",
       "</table>\n",
       "<p>5183 rows × 24 columns</p>\n",
       "</div>"
      ],
      "text/plain": [
       "                   imdb_title_title                  anime_Aired  \\\n",
       "0                            【推しの子】                         None   \n",
       "1              .hack//G.U. Returner                         None   \n",
       "2               .hack//G.U. Trilogy                         None   \n",
       "3                       .hack//GIFT                 Nov 16, 2003   \n",
       "4                       .hack//SIGN                         None   \n",
       "...                             ...                          ...   \n",
       "5178          I've Always Liked You                         None   \n",
       "5179  エクスドライバー Nina&Rei Danger Zone                         None   \n",
       "5180                          スクライド                         None   \n",
       "5181                       xxxHOLiC  Apr 7, 2006 to Sep 29, 2006   \n",
       "5182                        elDLIVE  Jan 8, 2017 to Mar 26, 2017   \n",
       "\n",
       "     anime_Duration                anime_English name anime_Episodes  \\\n",
       "0              None                      [Oshi No Ko]           None   \n",
       "1              None                           UNKNOWN           None   \n",
       "2              None  .hack//G.U. Trilogy: Parody Mode           None   \n",
       "3            26 min                       .hack//Gift            1.0   \n",
       "4              None                       .hack//Sign           None   \n",
       "...             ...                               ...            ...   \n",
       "5178           None             I've Always Liked You           None   \n",
       "5179           None                           UNKNOWN           None   \n",
       "5180           None                          s-CRY-ed           None   \n",
       "5181  24 min per ep                          xxxHOLiC           24.0   \n",
       "5182  24 min per ep                           elDLIVE           12.0   \n",
       "\n",
       "      anime_Favorites                          anime_Genres  \\\n",
       "0                 NaN                   Drama, Supernatural   \n",
       "1                 NaN             Adventure, Drama, Fantasy   \n",
       "2                 NaN               Comedy, Fantasy, Sci-Fi   \n",
       "3                19.0                       Comedy, Fantasy   \n",
       "4                 NaN           Adventure, Fantasy, Mystery   \n",
       "...               ...                                   ...   \n",
       "5178              NaN                               Romance   \n",
       "5179              NaN                        Action, Sci-Fi   \n",
       "5180              NaN      Action, Adventure, Drama, Sci-Fi   \n",
       "5181           4392.0  Comedy, Drama, Mystery, Supernatural   \n",
       "5182             47.0                        Action, Sci-Fi   \n",
       "\n",
       "                                        anime_Image URL  \\\n",
       "0                                                  None   \n",
       "1                                                  None   \n",
       "2                                                  None   \n",
       "3     https://cdn.myanimelist.net/images/anime/2/230...   \n",
       "4                                                  None   \n",
       "...                                                 ...   \n",
       "5178                                               None   \n",
       "5179                                               None   \n",
       "5180                                               None   \n",
       "5181  https://cdn.myanimelist.net/images/anime/5/218...   \n",
       "5182  https://cdn.myanimelist.net/images/anime/8/823...   \n",
       "\n",
       "              anime_Licensors  \\\n",
       "0                        None   \n",
       "1                        None   \n",
       "2                        None   \n",
       "3        Bandai Entertainment   \n",
       "4                        None   \n",
       "...                       ...   \n",
       "5178                     None   \n",
       "5179                     None   \n",
       "5180                     None   \n",
       "5181               Funimation   \n",
       "5182  Funimation, Crunchyroll   \n",
       "\n",
       "                                             anime_Name  \\\n",
       "0                                        \\Oshi no Ko\\\"\"   \n",
       "1                                  .hack//G.U. Returner   \n",
       "2                      .hack//G.U. Trilogy: Parody Mode   \n",
       "3                                           .hack//Gift   \n",
       "4                                           .hack//Sign   \n",
       "...                                                 ...   \n",
       "5178  Zutto Mae kara Suki deshita. Kokuhaku Jikkou I...   \n",
       "5179                  eX-Driver: Nina & Rei Danger Zone   \n",
       "5180                                           s.CRY.ed   \n",
       "5181                                           xxxHOLiC   \n",
       "5182                                            ēlDLIVE   \n",
       "\n",
       "                   anime_Other name  anime_Popularity anime_Premiered  \\\n",
       "0                            【推しの子】               NaN            None   \n",
       "1              .HACK//G.U. RETURNER               NaN            None   \n",
       "2               .hack//G.U. Trilogy               NaN            None   \n",
       "3                       .hack//GIFT            4517.0         UNKNOWN   \n",
       "4                       .hack//SIGN               NaN            None   \n",
       "...                             ...               ...             ...   \n",
       "5178          ずっと前から好きでした。～告白実行委員会～               NaN            None   \n",
       "5179  エクスドライバー Nina&Rei Danger Zone               NaN            None   \n",
       "5180                          スクライド               NaN            None   \n",
       "5181                 ×××HOLiC（ホリック）             714.0     spring 2006   \n",
       "5182               エルドライブ 【ēlDLIVE】            2982.0     winter 2017   \n",
       "\n",
       "                                        anime_Producers anime_Rank  \\\n",
       "0                                                  None       None   \n",
       "1                                                  None       None   \n",
       "2                                                  None       None   \n",
       "3                                         CyberConnect2     8363.0   \n",
       "4                                                  None       None   \n",
       "...                                                 ...        ...   \n",
       "5178                                               None       None   \n",
       "5179                                               None       None   \n",
       "5180                                               None       None   \n",
       "5181      TBS, BMG Japan, Kids Station, Kodansha, Movic      614.0   \n",
       "5182  Yomiuri Telecasting, d-rights, Half H.P Studio...     8372.0   \n",
       "\n",
       "                   anime_Rating anime_Score anime_Source     anime_Status  \\\n",
       "0                          None        8.98         None             None   \n",
       "1                          None        6.67         None             None   \n",
       "2                          None        6.36         None             None   \n",
       "3              R+ - Mild Nudity         6.1     Original  Finished Airing   \n",
       "4                          None        6.95         None             None   \n",
       "...                         ...         ...          ...              ...   \n",
       "5178                       None        7.22         None             None   \n",
       "5179                       None        6.39         None             None   \n",
       "5180                       None        7.36         None             None   \n",
       "5181  PG-13 - Teens 13 or older        7.98        Manga  Finished Airing   \n",
       "5182  PG-13 - Teens 13 or older         6.1        Manga  Finished Airing   \n",
       "\n",
       "       anime_Studios                                     anime_Synopsis  \\\n",
       "0               None  In the entertainment world, celebrities often ...   \n",
       "1               None  The characters from previous .hack//G.U. Games...   \n",
       "2               None  A special bonus Parody Mode added to the extra...   \n",
       "3          Bee Train  As an expression of gratitude for the heroes o...   \n",
       "4               None  A young wavemaster, only known by the alias of...   \n",
       "...              ...                                                ...   \n",
       "5178            None  Love is blooming at Sakuragaoka High School. N...   \n",
       "5179            None  The story takes place on a world 100 years in ...   \n",
       "5180            None  A strange environmental phenomenon 22 years ag...   \n",
       "5181  Production I.G  Kimihiro Watanuki can see spirits and other as...   \n",
       "5182         Pierrot  Chuuta Kokonose is an orphan who lives with hi...   \n",
       "\n",
       "     anime_Type  anime_anime_id  \\\n",
       "0          None         52034.0   \n",
       "1          None          2928.0   \n",
       "2          None          4469.0   \n",
       "3           OVA           454.0   \n",
       "4          None            48.0   \n",
       "...         ...             ...   \n",
       "5178       None         31245.0   \n",
       "5179       None          1733.0   \n",
       "5180       None           168.0   \n",
       "5181         TV           861.0   \n",
       "5182         TV         32878.0   \n",
       "\n",
       "                           imdb_name_basics_primaryName  \n",
       "0     Natalie Rial, Christina Marie Kelly, Takeo Ots...  \n",
       "1     Kaori Nazuka, Ayako Kawasumi, Takahiro Sakurai...  \n",
       "2     Hiroshi Matsuyama, Ayako Kawasumi, Saeko Hirot...  \n",
       "3     Isshin Chiba, Shin'ya Kawatsura, Sayaka Aida, ...  \n",
       "4     Amanda Winn Lee, Kaori Nazuka, Donna Rawlins, ...  \n",
       "...                                                 ...  \n",
       "5178  Kana Asumi, Gero, Yoshimi Narita, Momo Asakura...  \n",
       "5179  Wataru Tanaka, Michiko Neya, Mami Kingetsu, Kô...  \n",
       "5180  Lex Lang, Jamieson Price, Dave Wittenberg, Cri...  \n",
       "5181  Shizuka Itou, Hisayo Mochizuki, Colleen Clinke...  \n",
       "5182  Apphia Yu, Lara Woodhull, Dawn M. Bennett, Mor...  \n",
       "\n",
       "[5183 rows x 24 columns]"
      ]
     },
     "execution_count": 15,
     "metadata": {},
     "output_type": "execute_result"
    }
   ],
   "source": [
    "df_joined[['imdb_title_title', 'anime_Aired', 'anime_Duration', 'anime_English name', 'anime_Episodes', 'anime_Favorites', 'anime_Genres', 'anime_Image URL', 'anime_Licensors', 'anime_Name', 'anime_Other name', 'anime_Popularity',\n",
    "       'anime_Premiered', 'anime_Producers', 'anime_Rank', 'anime_Rating',\n",
    "       'anime_Score', 'anime_Source', 'anime_Status',\n",
    "       'anime_Studios', 'anime_Synopsis', 'anime_Type', 'anime_anime_id', 'imdb_name_basics_primaryName']]"
   ]
  },
  {
   "cell_type": "code",
   "execution_count": 16,
   "metadata": {},
   "outputs": [],
   "source": [
    "df_joined['anime_anime_id'] = df_joined['anime_anime_id'].replace(np.nan, 'none')"
   ]
  },
  {
   "cell_type": "code",
   "execution_count": 17,
   "metadata": {},
   "outputs": [],
   "source": [
    "df_joined = df_joined[df_joined['anime_anime_id'] != 'none']"
   ]
  },
  {
   "cell_type": "code",
   "execution_count": 18,
   "metadata": {},
   "outputs": [],
   "source": [
    "myanime_list = df_joined['anime_anime_id'].apply(lambda x: int(x)).tolist()"
   ]
  },
  {
   "cell_type": "code",
   "execution_count": 19,
   "metadata": {},
   "outputs": [],
   "source": [
    "file_path = \"my_animelist.pkl\"\n",
    "\n",
    "# Open the file in binary write mode and save the list using pickle.dump()\n",
    "with open(file_path, 'wb') as f:\n",
    "    pickle.dump(myanime_list, f)"
   ]
  },
  {
   "cell_type": "markdown",
   "metadata": {},
   "source": [
    "#### Wikipedia Information "
   ]
  },
  {
   "cell_type": "code",
   "execution_count": 20,
   "metadata": {},
   "outputs": [],
   "source": [
    "wiki_pull_df = pd.concat([df_joined[['imdb_title_titleId', 'anime_Other name']].rename(columns={'imdb_title_titleId': 'imdb_id', 'anime_Other name': 'Title'}), df_addon[['Title', 'imdb_id']]],ignore_index=True)"
   ]
  },
  {
   "cell_type": "code",
   "execution_count": 25,
   "metadata": {},
   "outputs": [],
   "source": [
    "# Function to get Wikipedia content for a given title\n",
    "def get_wikipedia_content(title):\n",
    "    import time\n",
    "\n",
    "    try:\n",
    "        page = wikipedia.page(title)\n",
    "        return page.content\n",
    "    except wikipedia.exceptions.DisambiguationError as e:\n",
    "        # If the title is ambiguous, you can handle it as per your requirement\n",
    "        return f\"Ambiguous title: {title}. Options: {e.options}\"\n",
    "    except wikipedia.exceptions.PageError:\n",
    "        return f\"No Wikipedia page found for: {title}\"\n",
    "    except wikipedia.exceptions.HTTPTimeoutError as e:\n",
    "        return f\"Timeout error occurred: {str(e)}\"\n",
    "    except wikipedia.exceptions.WikipediaException as e:\n",
    "        if \"HTTP 443\" in str(e):\n",
    "            print(\"Received HTTP 443 error. Pausing for 2 minutes...\")\n",
    "            time.sleep(120)  # Pause for 2 minutes (120 seconds)\n",
    "            print(\"Resuming...\")\n",
    "            return get_wikipedia_content(title)  # Retry\n",
    "        else:\n",
    "            return f\"Error occurred: {str(e)}\"\n",
    "    except Exception as e:\n",
    "        return f\"Error occurred: {str(e)}\"\n",
    "    \n",
    "def fetch_wikipedia_content(df, get_wikipedia_content_func):\n",
    "    # Dictionary to store data\n",
    "    data_dict = {}\n",
    "\n",
    "    # Loop through each title in the DataFrame with tqdm for progress tracking\n",
    "    for index, row in tqdm(df.iterrows(), total=len(df), desc=\"Fetching Wikipedia Content\"):\n",
    "        imdb_id = row['imdb_id']\n",
    "        title = row['Title']\n",
    "\n",
    "        # Get Wikipedia content for the title\n",
    "        content = get_wikipedia_content_func(title)\n",
    "\n",
    "        # Add data to dictionary\n",
    "        if imdb_id not in data_dict:\n",
    "            data_dict[imdb_id] = {'Title': title, 'Content': content}\n",
    "        else:\n",
    "            print(f\"Duplicate IMDb ID found: {imdb_id}\")\n",
    "\n",
    "    return data_dict"
   ]
  },
  {
   "cell_type": "code",
   "execution_count": 30,
   "metadata": {},
   "outputs": [],
   "source": [
    "pull1 = wiki_pull_df.iloc[0:1500,:]\n",
    "pull2 = wiki_pull_df.iloc[1500:3000,:]\n",
    "pull3 = wiki_pull_df.iloc[3000:4500,:]\n",
    "pull4 = wiki_pull_df.iloc[4500:,:]"
   ]
  },
  {
   "cell_type": "code",
   "execution_count": 27,
   "metadata": {},
   "outputs": [
    {
     "name": "stderr",
     "output_type": "stream",
     "text": [
      "Fetching Wikipedia Content:   1%|▏         | 19/1500 [00:19<23:20,  1.06it/s]"
     ]
    },
    {
     "name": "stdout",
     "output_type": "stream",
     "text": [
      "Duplicate IMDb ID found: tt0189238\n"
     ]
    },
    {
     "name": "stderr",
     "output_type": "stream",
     "text": [
      "Fetching Wikipedia Content:   2%|▏         | 37/1500 [00:36<18:35,  1.31it/s]"
     ]
    },
    {
     "name": "stdout",
     "output_type": "stream",
     "text": [
      "Duplicate IMDb ID found: tt0168283\n"
     ]
    },
    {
     "name": "stderr",
     "output_type": "stream",
     "text": [
      "Fetching Wikipedia Content:   3%|▎         | 45/1500 [00:44<21:20,  1.14it/s]"
     ]
    },
    {
     "name": "stdout",
     "output_type": "stream",
     "text": [
      "Duplicate IMDb ID found: tt4542568\n"
     ]
    },
    {
     "name": "stderr",
     "output_type": "stream",
     "text": [
      "Fetching Wikipedia Content:   6%|▋         | 94/1500 [01:31<20:10,  1.16it/s]"
     ]
    },
    {
     "name": "stdout",
     "output_type": "stream",
     "text": [
      "Duplicate IMDb ID found: tt1051924\n"
     ]
    },
    {
     "name": "stderr",
     "output_type": "stream",
     "text": [
      "Fetching Wikipedia Content:   9%|▉         | 142/1500 [02:18<22:22,  1.01it/s]"
     ]
    },
    {
     "name": "stdout",
     "output_type": "stream",
     "text": [
      "Duplicate IMDb ID found: tt0115104\n"
     ]
    },
    {
     "name": "stderr",
     "output_type": "stream",
     "text": [
      "Fetching Wikipedia Content:  10%|▉         | 148/1500 [02:24<22:15,  1.01it/s]"
     ]
    },
    {
     "name": "stdout",
     "output_type": "stream",
     "text": [
      "Duplicate IMDb ID found: tt0103766\n"
     ]
    },
    {
     "name": "stderr",
     "output_type": "stream",
     "text": [
      "Fetching Wikipedia Content:  10%|█         | 156/1500 [02:32<20:02,  1.12it/s]/Users/justinvhuang/miniconda3/envs/spacy/lib/python3.10/site-packages/wikipedia/wikipedia.py:389: GuessedAtParserWarning: No parser was explicitly specified, so I'm using the best available HTML parser for this system (\"lxml\"). This usually isn't a problem, but if you run this code on another system, or in a different virtual environment, it may use a different parser and behave differently.\n",
      "\n",
      "The code that caused this warning is on line 389 of the file /Users/justinvhuang/miniconda3/envs/spacy/lib/python3.10/site-packages/wikipedia/wikipedia.py. To get rid of this warning, pass the additional argument 'features=\"lxml\"' to the BeautifulSoup constructor.\n",
      "\n",
      "  lis = BeautifulSoup(html).find_all('li')\n",
      "Fetching Wikipedia Content:  13%|█▎        | 195/1500 [03:10<20:29,  1.06it/s]"
     ]
    },
    {
     "name": "stdout",
     "output_type": "stream",
     "text": [
      "Duplicate IMDb ID found: tt5626028\n"
     ]
    },
    {
     "name": "stderr",
     "output_type": "stream",
     "text": [
      "Fetching Wikipedia Content:  13%|█▎        | 196/1500 [03:11<18:26,  1.18it/s]"
     ]
    },
    {
     "name": "stdout",
     "output_type": "stream",
     "text": [
      "Duplicate IMDb ID found: tt5626028\n"
     ]
    },
    {
     "name": "stderr",
     "output_type": "stream",
     "text": [
      "Fetching Wikipedia Content:  14%|█▍        | 216/1500 [03:31<20:35,  1.04it/s]"
     ]
    },
    {
     "name": "stdout",
     "output_type": "stream",
     "text": [
      "Duplicate IMDb ID found: tt5335782\n"
     ]
    },
    {
     "name": "stderr",
     "output_type": "stream",
     "text": [
      "Fetching Wikipedia Content:  15%|█▍        | 222/1500 [03:37<18:55,  1.13it/s]"
     ]
    },
    {
     "name": "stdout",
     "output_type": "stream",
     "text": [
      "Duplicate IMDb ID found: tt5679720\n"
     ]
    },
    {
     "name": "stderr",
     "output_type": "stream",
     "text": [
      "Fetching Wikipedia Content:  15%|█▌        | 226/1500 [03:40<17:21,  1.22it/s]"
     ]
    },
    {
     "name": "stdout",
     "output_type": "stream",
     "text": [
      "Duplicate IMDb ID found: tt0877507\n"
     ]
    },
    {
     "name": "stderr",
     "output_type": "stream",
     "text": [
      "Fetching Wikipedia Content:  17%|█▋        | 249/1500 [04:02<22:41,  1.09s/it]"
     ]
    },
    {
     "name": "stdout",
     "output_type": "stream",
     "text": [
      "Duplicate IMDb ID found: tt9422994\n"
     ]
    },
    {
     "name": "stderr",
     "output_type": "stream",
     "text": [
      "Fetching Wikipedia Content:  18%|█▊        | 270/1500 [04:22<18:42,  1.10it/s]"
     ]
    },
    {
     "name": "stdout",
     "output_type": "stream",
     "text": [
      "Duplicate IMDb ID found: tt0420551\n"
     ]
    },
    {
     "name": "stderr",
     "output_type": "stream",
     "text": [
      "Fetching Wikipedia Content:  29%|██▉       | 439/1500 [07:12<15:24,  1.15it/s]"
     ]
    },
    {
     "name": "stdout",
     "output_type": "stream",
     "text": [
      "Duplicate IMDb ID found: tt0421357\n"
     ]
    },
    {
     "name": "stderr",
     "output_type": "stream",
     "text": [
      "Fetching Wikipedia Content:  36%|███▌      | 536/1500 [08:46<14:19,  1.12it/s]"
     ]
    },
    {
     "name": "stdout",
     "output_type": "stream",
     "text": [
      "Duplicate IMDb ID found: tt0074002\n"
     ]
    },
    {
     "name": "stderr",
     "output_type": "stream",
     "text": [
      "Fetching Wikipedia Content:  37%|███▋      | 555/1500 [09:05<14:11,  1.11it/s]"
     ]
    },
    {
     "name": "stdout",
     "output_type": "stream",
     "text": [
      "Duplicate IMDb ID found: tt1590931\n"
     ]
    },
    {
     "name": "stderr",
     "output_type": "stream",
     "text": [
      "Fetching Wikipedia Content:  40%|███▉      | 597/1500 [09:47<14:26,  1.04it/s]"
     ]
    },
    {
     "name": "stdout",
     "output_type": "stream",
     "text": [
      "Duplicate IMDb ID found: tt2230051\n"
     ]
    },
    {
     "name": "stderr",
     "output_type": "stream",
     "text": [
      "Fetching Wikipedia Content:  40%|███▉      | 598/1500 [09:48<14:52,  1.01it/s]"
     ]
    },
    {
     "name": "stdout",
     "output_type": "stream",
     "text": [
      "Duplicate IMDb ID found: tt2230051\n"
     ]
    },
    {
     "name": "stderr",
     "output_type": "stream",
     "text": [
      "Fetching Wikipedia Content:  40%|████      | 607/1500 [09:56<13:08,  1.13it/s]"
     ]
    },
    {
     "name": "stdout",
     "output_type": "stream",
     "text": [
      "Duplicate IMDb ID found: tt1259073\n"
     ]
    },
    {
     "name": "stderr",
     "output_type": "stream",
     "text": [
      "Fetching Wikipedia Content:  42%|████▏     | 626/1500 [10:14<11:35,  1.26it/s]"
     ]
    },
    {
     "name": "stdout",
     "output_type": "stream",
     "text": [
      "Duplicate IMDb ID found: tt8019444\n"
     ]
    },
    {
     "name": "stderr",
     "output_type": "stream",
     "text": [
      "Fetching Wikipedia Content:  43%|████▎     | 644/1500 [10:32<11:49,  1.21it/s]"
     ]
    },
    {
     "name": "stdout",
     "output_type": "stream",
     "text": [
      "Duplicate IMDb ID found: tt1165082\n"
     ]
    },
    {
     "name": "stderr",
     "output_type": "stream",
     "text": [
      "Fetching Wikipedia Content:  43%|████▎     | 648/1500 [10:35<11:39,  1.22it/s]"
     ]
    },
    {
     "name": "stdout",
     "output_type": "stream",
     "text": [
      "Duplicate IMDb ID found: tt0196050\n"
     ]
    },
    {
     "name": "stderr",
     "output_type": "stream",
     "text": [
      "Fetching Wikipedia Content:  44%|████▎     | 654/1500 [10:41<12:06,  1.16it/s]"
     ]
    },
    {
     "name": "stdout",
     "output_type": "stream",
     "text": [
      "Duplicate IMDb ID found: tt0486171\n"
     ]
    },
    {
     "name": "stderr",
     "output_type": "stream",
     "text": [
      "Fetching Wikipedia Content:  46%|████▋     | 694/1500 [11:20<12:21,  1.09it/s]"
     ]
    },
    {
     "name": "stdout",
     "output_type": "stream",
     "text": [
      "Duplicate IMDb ID found: tt2359704\n"
     ]
    },
    {
     "name": "stderr",
     "output_type": "stream",
     "text": [
      "Fetching Wikipedia Content:  46%|████▋     | 695/1500 [11:20<11:11,  1.20it/s]"
     ]
    },
    {
     "name": "stdout",
     "output_type": "stream",
     "text": [
      "Duplicate IMDb ID found: tt2359704\n"
     ]
    },
    {
     "name": "stderr",
     "output_type": "stream",
     "text": [
      "Fetching Wikipedia Content:  47%|████▋     | 698/1500 [11:23<12:07,  1.10it/s]"
     ]
    },
    {
     "name": "stdout",
     "output_type": "stream",
     "text": [
      "Duplicate IMDb ID found: tt2259737\n"
     ]
    },
    {
     "name": "stderr",
     "output_type": "stream",
     "text": [
      "Fetching Wikipedia Content:  48%|████▊     | 725/1500 [11:49<10:36,  1.22it/s]"
     ]
    },
    {
     "name": "stdout",
     "output_type": "stream",
     "text": [
      "Duplicate IMDb ID found: tt12057106\n"
     ]
    },
    {
     "name": "stderr",
     "output_type": "stream",
     "text": [
      "Fetching Wikipedia Content:  48%|████▊     | 727/1500 [11:52<12:00,  1.07it/s]"
     ]
    },
    {
     "name": "stdout",
     "output_type": "stream",
     "text": [
      "Duplicate IMDb ID found: tt1899022\n"
     ]
    },
    {
     "name": "stderr",
     "output_type": "stream",
     "text": [
      "Fetching Wikipedia Content:  52%|█████▏    | 781/1500 [12:46<11:46,  1.02it/s]"
     ]
    },
    {
     "name": "stdout",
     "output_type": "stream",
     "text": [
      "Duplicate IMDb ID found: tt1945851\n"
     ]
    },
    {
     "name": "stderr",
     "output_type": "stream",
     "text": [
      "Fetching Wikipedia Content:  54%|█████▎    | 803/1500 [13:10<12:41,  1.09s/it]"
     ]
    },
    {
     "name": "stdout",
     "output_type": "stream",
     "text": [
      "Duplicate IMDb ID found: tt0246734\n"
     ]
    },
    {
     "name": "stderr",
     "output_type": "stream",
     "text": [
      "Fetching Wikipedia Content:  58%|█████▊    | 866/1500 [14:13<09:00,  1.17it/s]"
     ]
    },
    {
     "name": "stdout",
     "output_type": "stream",
     "text": [
      "Duplicate IMDb ID found: tt0143353\n"
     ]
    },
    {
     "name": "stderr",
     "output_type": "stream",
     "text": [
      "Fetching Wikipedia Content:  58%|█████▊    | 875/1500 [14:22<09:32,  1.09it/s]"
     ]
    },
    {
     "name": "stdout",
     "output_type": "stream",
     "text": [
      "Duplicate IMDb ID found: tt1584003\n"
     ]
    },
    {
     "name": "stderr",
     "output_type": "stream",
     "text": [
      "Fetching Wikipedia Content:  58%|█████▊    | 876/1500 [14:22<08:43,  1.19it/s]"
     ]
    },
    {
     "name": "stdout",
     "output_type": "stream",
     "text": [
      "Duplicate IMDb ID found: tt1584003\n"
     ]
    },
    {
     "name": "stderr",
     "output_type": "stream",
     "text": [
      "Fetching Wikipedia Content:  61%|██████    | 912/1500 [15:02<10:22,  1.06s/it]"
     ]
    },
    {
     "name": "stdout",
     "output_type": "stream",
     "text": [
      "Duplicate IMDb ID found: tt2942202\n"
     ]
    },
    {
     "name": "stderr",
     "output_type": "stream",
     "text": [
      "Fetching Wikipedia Content:  63%|██████▎   | 943/1500 [15:33<08:10,  1.14it/s]"
     ]
    },
    {
     "name": "stdout",
     "output_type": "stream",
     "text": [
      "Duplicate IMDb ID found: tt0978540\n"
     ]
    },
    {
     "name": "stderr",
     "output_type": "stream",
     "text": [
      "Fetching Wikipedia Content:  65%|██████▌   | 975/1500 [16:02<07:48,  1.12it/s]"
     ]
    },
    {
     "name": "stdout",
     "output_type": "stream",
     "text": [
      "Duplicate IMDb ID found: tt0373563\n"
     ]
    },
    {
     "name": "stderr",
     "output_type": "stream",
     "text": [
      "Fetching Wikipedia Content:  66%|██████▌   | 984/1500 [16:09<06:59,  1.23it/s]"
     ]
    },
    {
     "name": "stdout",
     "output_type": "stream",
     "text": [
      "Duplicate IMDb ID found: tt0162467\n"
     ]
    },
    {
     "name": "stderr",
     "output_type": "stream",
     "text": [
      "Fetching Wikipedia Content:  66%|██████▌   | 985/1500 [16:10<05:44,  1.49it/s]"
     ]
    },
    {
     "name": "stdout",
     "output_type": "stream",
     "text": [
      "Duplicate IMDb ID found: tt0162467\n"
     ]
    },
    {
     "name": "stderr",
     "output_type": "stream",
     "text": [
      "Fetching Wikipedia Content:  66%|██████▋   | 994/1500 [16:19<08:17,  1.02it/s]"
     ]
    },
    {
     "name": "stdout",
     "output_type": "stream",
     "text": [
      "Duplicate IMDb ID found: tt0113799\n"
     ]
    },
    {
     "name": "stderr",
     "output_type": "stream",
     "text": [
      "Fetching Wikipedia Content:  67%|██████▋   | 998/1500 [16:22<06:00,  1.39it/s]"
     ]
    },
    {
     "name": "stdout",
     "output_type": "stream",
     "text": [
      "Duplicate IMDb ID found: tt3021606\n"
     ]
    },
    {
     "name": "stderr",
     "output_type": "stream",
     "text": [
      "Fetching Wikipedia Content:  67%|██████▋   | 1008/1500 [16:31<07:08,  1.15it/s]"
     ]
    },
    {
     "name": "stdout",
     "output_type": "stream",
     "text": [
      "Duplicate IMDb ID found: tt4295746\n"
     ]
    },
    {
     "name": "stderr",
     "output_type": "stream",
     "text": [
      "Fetching Wikipedia Content:  68%|██████▊   | 1024/1500 [16:46<07:50,  1.01it/s]"
     ]
    },
    {
     "name": "stdout",
     "output_type": "stream",
     "text": [
      "Duplicate IMDb ID found: tt5897304\n"
     ]
    },
    {
     "name": "stderr",
     "output_type": "stream",
     "text": [
      "Fetching Wikipedia Content:  71%|███████   | 1064/1500 [17:33<07:47,  1.07s/it]"
     ]
    },
    {
     "name": "stdout",
     "output_type": "stream",
     "text": [
      "Duplicate IMDb ID found: tt1352421\n"
     ]
    },
    {
     "name": "stderr",
     "output_type": "stream",
     "text": [
      "Fetching Wikipedia Content:  73%|███████▎  | 1089/1500 [17:57<05:48,  1.18it/s]"
     ]
    },
    {
     "name": "stdout",
     "output_type": "stream",
     "text": [
      "Duplicate IMDb ID found: tt0296386\n"
     ]
    },
    {
     "name": "stderr",
     "output_type": "stream",
     "text": [
      "Fetching Wikipedia Content:  73%|███████▎  | 1099/1500 [18:06<05:46,  1.16it/s]"
     ]
    },
    {
     "name": "stdout",
     "output_type": "stream",
     "text": [
      "Duplicate IMDb ID found: tt3115338\n"
     ]
    },
    {
     "name": "stderr",
     "output_type": "stream",
     "text": [
      "Fetching Wikipedia Content:  75%|███████▍  | 1118/1500 [18:26<05:43,  1.11it/s]"
     ]
    },
    {
     "name": "stdout",
     "output_type": "stream",
     "text": [
      "Duplicate IMDb ID found: tt2250100\n"
     ]
    },
    {
     "name": "stderr",
     "output_type": "stream",
     "text": [
      "Fetching Wikipedia Content:  76%|███████▌  | 1135/1500 [18:43<05:01,  1.21it/s]"
     ]
    },
    {
     "name": "stdout",
     "output_type": "stream",
     "text": [
      "Duplicate IMDb ID found: tt0388629\n"
     ]
    },
    {
     "name": "stderr",
     "output_type": "stream",
     "text": [
      "Fetching Wikipedia Content:  77%|███████▋  | 1150/1500 [18:57<05:05,  1.15it/s]"
     ]
    },
    {
     "name": "stdout",
     "output_type": "stream",
     "text": [
      "Duplicate IMDb ID found: tt1158671\n"
     ]
    },
    {
     "name": "stderr",
     "output_type": "stream",
     "text": [
      "Fetching Wikipedia Content:  77%|███████▋  | 1155/1500 [19:03<06:10,  1.07s/it]"
     ]
    },
    {
     "name": "stdout",
     "output_type": "stream",
     "text": [
      "Duplicate IMDb ID found: tt1751305\n"
     ]
    },
    {
     "name": "stderr",
     "output_type": "stream",
     "text": [
      "Fetching Wikipedia Content:  78%|███████▊  | 1172/1500 [19:19<04:54,  1.11it/s]"
     ]
    },
    {
     "name": "stdout",
     "output_type": "stream",
     "text": [
      "Duplicate IMDb ID found: tt5274556\n"
     ]
    },
    {
     "name": "stderr",
     "output_type": "stream",
     "text": [
      "Fetching Wikipedia Content:  79%|███████▊  | 1179/1500 [19:27<05:39,  1.06s/it]"
     ]
    },
    {
     "name": "stdout",
     "output_type": "stream",
     "text": [
      "Duplicate IMDb ID found: tt0840221\n"
     ]
    },
    {
     "name": "stderr",
     "output_type": "stream",
     "text": [
      "Fetching Wikipedia Content:  80%|████████  | 1200/1500 [19:47<04:21,  1.15it/s]"
     ]
    },
    {
     "name": "stdout",
     "output_type": "stream",
     "text": [
      "Duplicate IMDb ID found: tt0168366\n"
     ]
    },
    {
     "name": "stderr",
     "output_type": "stream",
     "text": [
      "Fetching Wikipedia Content:  80%|████████  | 1201/1500 [19:48<04:49,  1.03it/s]"
     ]
    },
    {
     "name": "stdout",
     "output_type": "stream",
     "text": [
      "Duplicate IMDb ID found: tt0168366\n"
     ]
    },
    {
     "name": "stderr",
     "output_type": "stream",
     "text": [
      "Fetching Wikipedia Content:  81%|████████  | 1212/1500 [19:59<04:52,  1.02s/it]"
     ]
    },
    {
     "name": "stdout",
     "output_type": "stream",
     "text": [
      "Duplicate IMDb ID found: tt0168366\n"
     ]
    },
    {
     "name": "stderr",
     "output_type": "stream",
     "text": [
      "Fetching Wikipedia Content:  81%|████████  | 1213/1500 [20:00<04:43,  1.01it/s]"
     ]
    },
    {
     "name": "stdout",
     "output_type": "stream",
     "text": [
      "Duplicate IMDb ID found: tt0168366\n"
     ]
    },
    {
     "name": "stderr",
     "output_type": "stream",
     "text": [
      "Fetching Wikipedia Content:  85%|████████▍ | 1272/1500 [21:04<03:33,  1.07it/s]"
     ]
    },
    {
     "name": "stdout",
     "output_type": "stream",
     "text": [
      "Duplicate IMDb ID found: tt0367369\n"
     ]
    },
    {
     "name": "stderr",
     "output_type": "stream",
     "text": [
      "Fetching Wikipedia Content:  87%|████████▋ | 1311/1500 [21:44<03:20,  1.06s/it]"
     ]
    },
    {
     "name": "stdout",
     "output_type": "stream",
     "text": [
      "Duplicate IMDb ID found: tt0421486\n"
     ]
    },
    {
     "name": "stderr",
     "output_type": "stream",
     "text": [
      "Fetching Wikipedia Content:  89%|████████▊ | 1330/1500 [22:04<03:04,  1.09s/it]"
     ]
    },
    {
     "name": "stdout",
     "output_type": "stream",
     "text": [
      "Duplicate IMDb ID found: tt0878036\n"
     ]
    },
    {
     "name": "stderr",
     "output_type": "stream",
     "text": [
      "Fetching Wikipedia Content:  94%|█████████▎| 1406/1500 [23:25<01:44,  1.11s/it]"
     ]
    },
    {
     "name": "stdout",
     "output_type": "stream",
     "text": [
      "Duplicate IMDb ID found: tt1986945\n"
     ]
    },
    {
     "name": "stderr",
     "output_type": "stream",
     "text": [
      "Fetching Wikipedia Content:  94%|█████████▍| 1407/1500 [23:27<01:49,  1.18s/it]"
     ]
    },
    {
     "name": "stdout",
     "output_type": "stream",
     "text": [
      "Duplicate IMDb ID found: tt1986945\n"
     ]
    },
    {
     "name": "stderr",
     "output_type": "stream",
     "text": [
      "Fetching Wikipedia Content:  95%|█████████▍| 1424/1500 [23:43<01:04,  1.17it/s]"
     ]
    },
    {
     "name": "stdout",
     "output_type": "stream",
     "text": [
      "Duplicate IMDb ID found: tt1094233\n"
     ]
    },
    {
     "name": "stderr",
     "output_type": "stream",
     "text": [
      "Fetching Wikipedia Content:  96%|█████████▋| 1444/1500 [24:03<00:52,  1.08it/s]"
     ]
    },
    {
     "name": "stdout",
     "output_type": "stream",
     "text": [
      "Duplicate IMDb ID found: tt0085092\n"
     ]
    },
    {
     "name": "stderr",
     "output_type": "stream",
     "text": [
      "Fetching Wikipedia Content:  98%|█████████▊| 1468/1500 [24:28<00:29,  1.07it/s]"
     ]
    },
    {
     "name": "stdout",
     "output_type": "stream",
     "text": [
      "Duplicate IMDb ID found: tt0429439\n"
     ]
    },
    {
     "name": "stderr",
     "output_type": "stream",
     "text": [
      "Fetching Wikipedia Content: 100%|██████████| 1500/1500 [25:02<00:00,  1.00s/it]\n"
     ]
    }
   ],
   "source": [
    "fetch1 = fetch_wikipedia_content(pull1, get_wikipedia_content)"
   ]
  },
  {
   "cell_type": "code",
   "execution_count": 28,
   "metadata": {},
   "outputs": [
    {
     "name": "stderr",
     "output_type": "stream",
     "text": [
      "Fetching Wikipedia Content:   3%|▎         | 52/1500 [00:47<16:20,  1.48it/s]"
     ]
    },
    {
     "name": "stdout",
     "output_type": "stream",
     "text": [
      "Duplicate IMDb ID found: tt2061527\n"
     ]
    },
    {
     "name": "stderr",
     "output_type": "stream",
     "text": [
      "Fetching Wikipedia Content:   4%|▍         | 63/1500 [00:58<22:33,  1.06it/s]/Users/justinvhuang/miniconda3/envs/spacy/lib/python3.10/site-packages/wikipedia/wikipedia.py:389: GuessedAtParserWarning: No parser was explicitly specified, so I'm using the best available HTML parser for this system (\"lxml\"). This usually isn't a problem, but if you run this code on another system, or in a different virtual environment, it may use a different parser and behave differently.\n",
      "\n",
      "The code that caused this warning is on line 389 of the file /Users/justinvhuang/miniconda3/envs/spacy/lib/python3.10/site-packages/wikipedia/wikipedia.py. To get rid of this warning, pass the additional argument 'features=\"lxml\"' to the BeautifulSoup constructor.\n",
      "\n",
      "  lis = BeautifulSoup(html).find_all('li')\n",
      "Fetching Wikipedia Content:   9%|▉         | 141/1500 [02:09<18:30,  1.22it/s]"
     ]
    },
    {
     "name": "stdout",
     "output_type": "stream",
     "text": [
      "Duplicate IMDb ID found: tt4760416\n"
     ]
    },
    {
     "name": "stderr",
     "output_type": "stream",
     "text": [
      "Fetching Wikipedia Content:  10%|█         | 150/1500 [02:17<17:55,  1.26it/s]"
     ]
    },
    {
     "name": "stdout",
     "output_type": "stream",
     "text": [
      "Duplicate IMDb ID found: tt0078570\n"
     ]
    },
    {
     "name": "stderr",
     "output_type": "stream",
     "text": [
      "Fetching Wikipedia Content:  11%|█         | 165/1500 [02:32<20:26,  1.09it/s]"
     ]
    },
    {
     "name": "stdout",
     "output_type": "stream",
     "text": [
      "Duplicate IMDb ID found: tt8328740\n"
     ]
    },
    {
     "name": "stderr",
     "output_type": "stream",
     "text": [
      "Fetching Wikipedia Content:  12%|█▏        | 181/1500 [02:47<21:35,  1.02it/s]"
     ]
    },
    {
     "name": "stdout",
     "output_type": "stream",
     "text": [
      "Duplicate IMDb ID found: tt1685484\n"
     ]
    },
    {
     "name": "stderr",
     "output_type": "stream",
     "text": [
      "Fetching Wikipedia Content:  12%|█▏        | 182/1500 [02:48<20:27,  1.07it/s]"
     ]
    },
    {
     "name": "stdout",
     "output_type": "stream",
     "text": [
      "Duplicate IMDb ID found: tt1685484\n"
     ]
    },
    {
     "name": "stderr",
     "output_type": "stream",
     "text": [
      "Fetching Wikipedia Content:  12%|█▏        | 186/1500 [02:52<22:29,  1.03s/it]"
     ]
    },
    {
     "name": "stdout",
     "output_type": "stream",
     "text": [
      "Duplicate IMDb ID found: tt2703720\n"
     ]
    },
    {
     "name": "stderr",
     "output_type": "stream",
     "text": [
      "Fetching Wikipedia Content:  13%|█▎        | 202/1500 [03:06<19:51,  1.09it/s]"
     ]
    },
    {
     "name": "stdout",
     "output_type": "stream",
     "text": [
      "Duplicate IMDb ID found: tt8869838\n"
     ]
    },
    {
     "name": "stderr",
     "output_type": "stream",
     "text": [
      "Fetching Wikipedia Content:  14%|█▍        | 207/1500 [03:11<19:08,  1.13it/s]"
     ]
    },
    {
     "name": "stdout",
     "output_type": "stream",
     "text": [
      "Duplicate IMDb ID found: tt21244528\n"
     ]
    },
    {
     "name": "stderr",
     "output_type": "stream",
     "text": [
      "Fetching Wikipedia Content:  14%|█▍        | 216/1500 [03:18<13:32,  1.58it/s]"
     ]
    },
    {
     "name": "stdout",
     "output_type": "stream",
     "text": [
      "Duplicate IMDb ID found: tt1343074\n"
     ]
    },
    {
     "name": "stderr",
     "output_type": "stream",
     "text": [
      "Fetching Wikipedia Content:  16%|█▌        | 243/1500 [03:43<17:29,  1.20it/s]"
     ]
    },
    {
     "name": "stdout",
     "output_type": "stream",
     "text": [
      "Duplicate IMDb ID found: tt1086280\n"
     ]
    },
    {
     "name": "stderr",
     "output_type": "stream",
     "text": [
      "Fetching Wikipedia Content:  16%|█▋        | 245/1500 [05:00<5:47:28, 16.61s/it]"
     ]
    },
    {
     "name": "stdout",
     "output_type": "stream",
     "text": [
      "Duplicate IMDb ID found: tt2764242\n"
     ]
    },
    {
     "name": "stderr",
     "output_type": "stream",
     "text": [
      "Fetching Wikipedia Content:  17%|█▋        | 256/1500 [06:25<3:01:22,  8.75s/it]"
     ]
    },
    {
     "name": "stdout",
     "output_type": "stream",
     "text": [
      "Duplicate IMDb ID found: tt12706854\n"
     ]
    },
    {
     "name": "stderr",
     "output_type": "stream",
     "text": [
      "Fetching Wikipedia Content:  18%|█▊        | 265/1500 [06:34<26:54,  1.31s/it]  "
     ]
    },
    {
     "name": "stdout",
     "output_type": "stream",
     "text": [
      "Duplicate IMDb ID found: tt9584920\n"
     ]
    },
    {
     "name": "stderr",
     "output_type": "stream",
     "text": [
      "Fetching Wikipedia Content:  18%|█▊        | 271/1500 [06:39<17:08,  1.19it/s]"
     ]
    },
    {
     "name": "stdout",
     "output_type": "stream",
     "text": [
      "Duplicate IMDb ID found: tt2670718\n"
     ]
    },
    {
     "name": "stderr",
     "output_type": "stream",
     "text": [
      "Fetching Wikipedia Content:  18%|█▊        | 277/1500 [06:44<17:16,  1.18it/s]"
     ]
    },
    {
     "name": "stdout",
     "output_type": "stream",
     "text": [
      "Duplicate IMDb ID found: tt0872301\n"
     ]
    },
    {
     "name": "stderr",
     "output_type": "stream",
     "text": [
      "Fetching Wikipedia Content:  19%|█▊        | 278/1500 [06:45<15:12,  1.34it/s]"
     ]
    },
    {
     "name": "stdout",
     "output_type": "stream",
     "text": [
      "Duplicate IMDb ID found: tt0872301\n"
     ]
    },
    {
     "name": "stderr",
     "output_type": "stream",
     "text": [
      "Fetching Wikipedia Content:  19%|█▊        | 279/1500 [06:45<13:52,  1.47it/s]"
     ]
    },
    {
     "name": "stdout",
     "output_type": "stream",
     "text": [
      "Duplicate IMDb ID found: tt0872301\n"
     ]
    },
    {
     "name": "stderr",
     "output_type": "stream",
     "text": [
      "Fetching Wikipedia Content:  21%|██        | 309/1500 [07:10<15:22,  1.29it/s]"
     ]
    },
    {
     "name": "stdout",
     "output_type": "stream",
     "text": [
      "Duplicate IMDb ID found: tt13856702\n"
     ]
    },
    {
     "name": "stderr",
     "output_type": "stream",
     "text": [
      "Fetching Wikipedia Content:  21%|██        | 313/1500 [07:14<16:58,  1.17it/s]"
     ]
    },
    {
     "name": "stdout",
     "output_type": "stream",
     "text": [
      "Duplicate IMDb ID found: tt0953916\n"
     ]
    },
    {
     "name": "stderr",
     "output_type": "stream",
     "text": [
      "Fetching Wikipedia Content:  21%|██        | 316/1500 [07:15<10:19,  1.91it/s]"
     ]
    },
    {
     "name": "stdout",
     "output_type": "stream",
     "text": [
      "Duplicate IMDb ID found: tt5537534\n"
     ]
    },
    {
     "name": "stderr",
     "output_type": "stream",
     "text": [
      "Fetching Wikipedia Content:  24%|██▍       | 358/1500 [07:53<20:28,  1.08s/it]"
     ]
    },
    {
     "name": "stdout",
     "output_type": "stream",
     "text": [
      "Duplicate IMDb ID found: tt0260622\n"
     ]
    },
    {
     "name": "stderr",
     "output_type": "stream",
     "text": [
      "Fetching Wikipedia Content:  26%|██▌       | 389/1500 [08:21<15:43,  1.18it/s]"
     ]
    },
    {
     "name": "stdout",
     "output_type": "stream",
     "text": [
      "Duplicate IMDb ID found: tt0771645\n"
     ]
    },
    {
     "name": "stderr",
     "output_type": "stream",
     "text": [
      "Fetching Wikipedia Content:  28%|██▊       | 421/1500 [08:47<12:10,  1.48it/s]"
     ]
    },
    {
     "name": "stdout",
     "output_type": "stream",
     "text": [
      "Duplicate IMDb ID found: tt0103720\n"
     ]
    },
    {
     "name": "stderr",
     "output_type": "stream",
     "text": [
      "Fetching Wikipedia Content:  29%|██▉       | 433/1500 [08:56<11:36,  1.53it/s]"
     ]
    },
    {
     "name": "stdout",
     "output_type": "stream",
     "text": [
      "Duplicate IMDb ID found: tt8515062\n"
     ]
    },
    {
     "name": "stderr",
     "output_type": "stream",
     "text": [
      "Fetching Wikipedia Content:  30%|██▉       | 448/1500 [09:12<19:11,  1.09s/it]"
     ]
    },
    {
     "name": "stdout",
     "output_type": "stream",
     "text": [
      "Duplicate IMDb ID found: tt0856346\n"
     ]
    },
    {
     "name": "stderr",
     "output_type": "stream",
     "text": [
      "Fetching Wikipedia Content:  31%|███       | 467/1500 [09:28<13:31,  1.27it/s]"
     ]
    },
    {
     "name": "stdout",
     "output_type": "stream",
     "text": [
      "Duplicate IMDb ID found: tt1480925\n"
     ]
    },
    {
     "name": "stderr",
     "output_type": "stream",
     "text": [
      "Fetching Wikipedia Content:  31%|███▏      | 472/1500 [09:31<12:14,  1.40it/s]"
     ]
    },
    {
     "name": "stdout",
     "output_type": "stream",
     "text": [
      "Duplicate IMDb ID found: tt1738419\n"
     ]
    },
    {
     "name": "stderr",
     "output_type": "stream",
     "text": [
      "Fetching Wikipedia Content:  32%|███▏      | 483/1500 [09:43<18:25,  1.09s/it]"
     ]
    },
    {
     "name": "stdout",
     "output_type": "stream",
     "text": [
      "Duplicate IMDb ID found: tt6460600\n"
     ]
    },
    {
     "name": "stderr",
     "output_type": "stream",
     "text": [
      "Fetching Wikipedia Content:  33%|███▎      | 497/1500 [09:56<15:26,  1.08it/s]"
     ]
    },
    {
     "name": "stdout",
     "output_type": "stream",
     "text": [
      "Duplicate IMDb ID found: tt17736234\n"
     ]
    },
    {
     "name": "stderr",
     "output_type": "stream",
     "text": [
      "Fetching Wikipedia Content:  33%|███▎      | 500/1500 [09:58<13:53,  1.20it/s]"
     ]
    },
    {
     "name": "stdout",
     "output_type": "stream",
     "text": [
      "Duplicate IMDb ID found: tt0176515\n"
     ]
    },
    {
     "name": "stderr",
     "output_type": "stream",
     "text": [
      "Fetching Wikipedia Content:  34%|███▍      | 516/1500 [10:14<14:13,  1.15it/s]"
     ]
    },
    {
     "name": "stdout",
     "output_type": "stream",
     "text": [
      "Duplicate IMDb ID found: tt3625280\n"
     ]
    },
    {
     "name": "stderr",
     "output_type": "stream",
     "text": [
      "Fetching Wikipedia Content:  35%|███▍      | 518/1500 [10:15<11:31,  1.42it/s]"
     ]
    },
    {
     "name": "stdout",
     "output_type": "stream",
     "text": [
      "Duplicate IMDb ID found: tt0318871\n"
     ]
    },
    {
     "name": "stderr",
     "output_type": "stream",
     "text": [
      "Fetching Wikipedia Content:  35%|███▍      | 523/1500 [10:20<15:29,  1.05it/s]"
     ]
    },
    {
     "name": "stdout",
     "output_type": "stream",
     "text": [
      "Duplicate IMDb ID found: tt6348126\n"
     ]
    },
    {
     "name": "stderr",
     "output_type": "stream",
     "text": [
      "Fetching Wikipedia Content:  35%|███▍      | 524/1500 [10:21<15:38,  1.04it/s]"
     ]
    },
    {
     "name": "stdout",
     "output_type": "stream",
     "text": [
      "Duplicate IMDb ID found: tt6348126\n"
     ]
    },
    {
     "name": "stderr",
     "output_type": "stream",
     "text": [
      "Fetching Wikipedia Content:  35%|███▌      | 525/1500 [10:22<15:45,  1.03it/s]"
     ]
    },
    {
     "name": "stdout",
     "output_type": "stream",
     "text": [
      "Duplicate IMDb ID found: tt6348126\n"
     ]
    },
    {
     "name": "stderr",
     "output_type": "stream",
     "text": [
      "Fetching Wikipedia Content:  35%|███▌      | 529/1500 [10:25<11:15,  1.44it/s]"
     ]
    },
    {
     "name": "stdout",
     "output_type": "stream",
     "text": [
      "Duplicate IMDb ID found: tt5020030\n"
     ]
    },
    {
     "name": "stderr",
     "output_type": "stream",
     "text": [
      "Fetching Wikipedia Content:  35%|███▌      | 531/1500 [10:26<10:46,  1.50it/s]"
     ]
    },
    {
     "name": "stdout",
     "output_type": "stream",
     "text": [
      "Duplicate IMDb ID found: tt0433738\n"
     ]
    },
    {
     "name": "stderr",
     "output_type": "stream",
     "text": [
      "Fetching Wikipedia Content:  36%|███▋      | 545/1500 [10:39<15:10,  1.05it/s]"
     ]
    },
    {
     "name": "stdout",
     "output_type": "stream",
     "text": [
      "Duplicate IMDb ID found: tt0103369\n"
     ]
    },
    {
     "name": "stderr",
     "output_type": "stream",
     "text": [
      "Fetching Wikipedia Content:  37%|███▋      | 550/1500 [10:44<14:23,  1.10it/s]"
     ]
    },
    {
     "name": "stdout",
     "output_type": "stream",
     "text": [
      "Duplicate IMDb ID found: tt1085074\n"
     ]
    },
    {
     "name": "stderr",
     "output_type": "stream",
     "text": [
      "Fetching Wikipedia Content:  37%|███▋      | 552/1500 [10:46<12:56,  1.22it/s]"
     ]
    },
    {
     "name": "stdout",
     "output_type": "stream",
     "text": [
      "Duplicate IMDb ID found: tt7441658\n"
     ]
    },
    {
     "name": "stderr",
     "output_type": "stream",
     "text": [
      "Fetching Wikipedia Content:  39%|███▉      | 587/1500 [11:17<09:44,  1.56it/s]"
     ]
    },
    {
     "name": "stdout",
     "output_type": "stream",
     "text": [
      "Duplicate IMDb ID found: tt5626028\n"
     ]
    },
    {
     "name": "stderr",
     "output_type": "stream",
     "text": [
      "Fetching Wikipedia Content:  39%|███▉      | 588/1500 [11:18<10:06,  1.50it/s]"
     ]
    },
    {
     "name": "stdout",
     "output_type": "stream",
     "text": [
      "Duplicate IMDb ID found: tt5626028\n"
     ]
    },
    {
     "name": "stderr",
     "output_type": "stream",
     "text": [
      "Fetching Wikipedia Content:  39%|███▉      | 589/1500 [11:18<09:32,  1.59it/s]"
     ]
    },
    {
     "name": "stdout",
     "output_type": "stream",
     "text": [
      "Duplicate IMDb ID found: tt5626028\n"
     ]
    },
    {
     "name": "stderr",
     "output_type": "stream",
     "text": [
      "Fetching Wikipedia Content:  39%|███▉      | 590/1500 [11:19<09:15,  1.64it/s]"
     ]
    },
    {
     "name": "stdout",
     "output_type": "stream",
     "text": [
      "Duplicate IMDb ID found: tt5626028\n"
     ]
    },
    {
     "name": "stderr",
     "output_type": "stream",
     "text": [
      "Fetching Wikipedia Content:  40%|████      | 600/1500 [11:28<14:10,  1.06it/s]"
     ]
    },
    {
     "name": "stdout",
     "output_type": "stream",
     "text": [
      "Duplicate IMDb ID found: tt2645500\n"
     ]
    },
    {
     "name": "stderr",
     "output_type": "stream",
     "text": [
      "Fetching Wikipedia Content:  40%|████      | 606/1500 [11:33<11:15,  1.32it/s]"
     ]
    },
    {
     "name": "stdout",
     "output_type": "stream",
     "text": [
      "Duplicate IMDb ID found: tt1132201\n"
     ]
    },
    {
     "name": "stderr",
     "output_type": "stream",
     "text": [
      "Fetching Wikipedia Content:  41%|████      | 612/1500 [11:39<14:00,  1.06it/s]"
     ]
    },
    {
     "name": "stdout",
     "output_type": "stream",
     "text": [
      "Duplicate IMDb ID found: tt3123886\n"
     ]
    },
    {
     "name": "stderr",
     "output_type": "stream",
     "text": [
      "Fetching Wikipedia Content:  41%|████▏     | 620/1500 [11:46<12:50,  1.14it/s]"
     ]
    },
    {
     "name": "stdout",
     "output_type": "stream",
     "text": [
      "Duplicate IMDb ID found: tt3509378\n"
     ]
    },
    {
     "name": "stderr",
     "output_type": "stream",
     "text": [
      "Fetching Wikipedia Content:  42%|████▏     | 631/1500 [11:56<10:25,  1.39it/s]"
     ]
    },
    {
     "name": "stdout",
     "output_type": "stream",
     "text": [
      "Duplicate IMDb ID found: tt5679720\n"
     ]
    },
    {
     "name": "stderr",
     "output_type": "stream",
     "text": [
      "Fetching Wikipedia Content:  43%|████▎     | 645/1500 [12:09<11:41,  1.22it/s]"
     ]
    },
    {
     "name": "stdout",
     "output_type": "stream",
     "text": [
      "Duplicate IMDb ID found: tt0270761\n"
     ]
    },
    {
     "name": "stderr",
     "output_type": "stream",
     "text": [
      "Fetching Wikipedia Content:  43%|████▎     | 651/1500 [12:13<10:38,  1.33it/s]"
     ]
    },
    {
     "name": "stdout",
     "output_type": "stream",
     "text": [
      "Duplicate IMDb ID found: tt0294023\n"
     ]
    },
    {
     "name": "stderr",
     "output_type": "stream",
     "text": [
      "Fetching Wikipedia Content:  44%|████▎     | 653/1500 [12:14<10:25,  1.35it/s]"
     ]
    },
    {
     "name": "stdout",
     "output_type": "stream",
     "text": [
      "Duplicate IMDb ID found: tt0294023\n"
     ]
    },
    {
     "name": "stderr",
     "output_type": "stream",
     "text": [
      "Fetching Wikipedia Content:  44%|████▍     | 659/1500 [12:21<13:49,  1.01it/s]"
     ]
    },
    {
     "name": "stdout",
     "output_type": "stream",
     "text": [
      "Duplicate IMDb ID found: tt2549176\n"
     ]
    },
    {
     "name": "stderr",
     "output_type": "stream",
     "text": [
      "Fetching Wikipedia Content:  46%|████▌     | 691/1500 [12:49<11:32,  1.17it/s]"
     ]
    },
    {
     "name": "stdout",
     "output_type": "stream",
     "text": [
      "Duplicate IMDb ID found: tt6466762\n"
     ]
    },
    {
     "name": "stderr",
     "output_type": "stream",
     "text": [
      "Fetching Wikipedia Content:  47%|████▋     | 699/1500 [12:55<09:38,  1.38it/s]"
     ]
    },
    {
     "name": "stdout",
     "output_type": "stream",
     "text": [
      "Duplicate IMDb ID found: tt0326672\n"
     ]
    },
    {
     "name": "stderr",
     "output_type": "stream",
     "text": [
      "Fetching Wikipedia Content:  47%|████▋     | 710/1500 [13:04<11:51,  1.11it/s]"
     ]
    },
    {
     "name": "stdout",
     "output_type": "stream",
     "text": [
      "Duplicate IMDb ID found: tt0108461\n"
     ]
    },
    {
     "name": "stderr",
     "output_type": "stream",
     "text": [
      "Fetching Wikipedia Content:  49%|████▉     | 732/1500 [13:23<11:40,  1.10it/s]"
     ]
    },
    {
     "name": "stdout",
     "output_type": "stream",
     "text": [
      "Duplicate IMDb ID found: tt0159208\n"
     ]
    },
    {
     "name": "stderr",
     "output_type": "stream",
     "text": [
      "Fetching Wikipedia Content:  50%|█████     | 753/1500 [13:42<11:49,  1.05it/s]"
     ]
    },
    {
     "name": "stdout",
     "output_type": "stream",
     "text": [
      "Duplicate IMDb ID found: tt0994314\n"
     ]
    },
    {
     "name": "stderr",
     "output_type": "stream",
     "text": [
      "Fetching Wikipedia Content:  51%|█████     | 761/1500 [13:50<10:43,  1.15it/s]"
     ]
    },
    {
     "name": "stdout",
     "output_type": "stream",
     "text": [
      "Duplicate IMDb ID found: tt0447582\n"
     ]
    },
    {
     "name": "stderr",
     "output_type": "stream",
     "text": [
      "Fetching Wikipedia Content:  53%|█████▎    | 789/1500 [14:15<09:24,  1.26it/s]"
     ]
    },
    {
     "name": "stdout",
     "output_type": "stream",
     "text": [
      "Duplicate IMDb ID found: tt0158568\n"
     ]
    },
    {
     "name": "stderr",
     "output_type": "stream",
     "text": [
      "Fetching Wikipedia Content:  55%|█████▍    | 820/1500 [14:43<09:27,  1.20it/s]"
     ]
    },
    {
     "name": "stdout",
     "output_type": "stream",
     "text": [
      "Duplicate IMDb ID found: tt2250064\n"
     ]
    },
    {
     "name": "stderr",
     "output_type": "stream",
     "text": [
      "Fetching Wikipedia Content:  56%|█████▌    | 834/1500 [14:55<10:55,  1.02it/s]"
     ]
    },
    {
     "name": "stdout",
     "output_type": "stream",
     "text": [
      "Duplicate IMDb ID found: tt2575684\n"
     ]
    },
    {
     "name": "stderr",
     "output_type": "stream",
     "text": [
      "Fetching Wikipedia Content:  58%|█████▊    | 875/1500 [15:34<09:49,  1.06it/s]"
     ]
    },
    {
     "name": "stdout",
     "output_type": "stream",
     "text": [
      "Duplicate IMDb ID found: tt0264530\n"
     ]
    },
    {
     "name": "stderr",
     "output_type": "stream",
     "text": [
      "Fetching Wikipedia Content:  59%|█████▉    | 882/1500 [15:41<09:39,  1.07it/s]"
     ]
    },
    {
     "name": "stdout",
     "output_type": "stream",
     "text": [
      "Duplicate IMDb ID found: tt6931266\n"
     ]
    },
    {
     "name": "stderr",
     "output_type": "stream",
     "text": [
      "Fetching Wikipedia Content:  59%|█████▉    | 892/1500 [15:49<08:26,  1.20it/s]"
     ]
    },
    {
     "name": "stdout",
     "output_type": "stream",
     "text": [
      "Duplicate IMDb ID found: tt15400650\n"
     ]
    },
    {
     "name": "stderr",
     "output_type": "stream",
     "text": [
      "Fetching Wikipedia Content:  60%|█████▉    | 899/1500 [15:56<09:44,  1.03it/s]"
     ]
    },
    {
     "name": "stdout",
     "output_type": "stream",
     "text": [
      "Duplicate IMDb ID found: tt1783878\n"
     ]
    },
    {
     "name": "stderr",
     "output_type": "stream",
     "text": [
      "Fetching Wikipedia Content:  61%|██████    | 914/1500 [16:09<07:40,  1.27it/s]"
     ]
    },
    {
     "name": "stdout",
     "output_type": "stream",
     "text": [
      "Duplicate IMDb ID found: tt12448470\n"
     ]
    },
    {
     "name": "stderr",
     "output_type": "stream",
     "text": [
      "Fetching Wikipedia Content:  61%|██████▏   | 922/1500 [16:16<07:18,  1.32it/s]"
     ]
    },
    {
     "name": "stdout",
     "output_type": "stream",
     "text": [
      "Duplicate IMDb ID found: tt0069576\n"
     ]
    },
    {
     "name": "stderr",
     "output_type": "stream",
     "text": [
      "Fetching Wikipedia Content:  62%|██████▏   | 932/1500 [16:27<10:23,  1.10s/it]"
     ]
    },
    {
     "name": "stdout",
     "output_type": "stream",
     "text": [
      "Duplicate IMDb ID found: tt9458304\n"
     ]
    },
    {
     "name": "stderr",
     "output_type": "stream",
     "text": [
      "Fetching Wikipedia Content:  65%|██████▌   | 975/1500 [17:11<08:17,  1.05it/s]"
     ]
    },
    {
     "name": "stdout",
     "output_type": "stream",
     "text": [
      "Duplicate IMDb ID found: tt0105987\n"
     ]
    },
    {
     "name": "stderr",
     "output_type": "stream",
     "text": [
      "Fetching Wikipedia Content:  65%|██████▌   | 980/1500 [17:16<08:11,  1.06it/s]"
     ]
    },
    {
     "name": "stdout",
     "output_type": "stream",
     "text": [
      "Duplicate IMDb ID found: tt5225764\n"
     ]
    },
    {
     "name": "stderr",
     "output_type": "stream",
     "text": [
      "Fetching Wikipedia Content:  67%|██████▋   | 1007/1500 [17:41<08:33,  1.04s/it]"
     ]
    },
    {
     "name": "stdout",
     "output_type": "stream",
     "text": [
      "Duplicate IMDb ID found: tt0204087\n"
     ]
    },
    {
     "name": "stderr",
     "output_type": "stream",
     "text": [
      "Fetching Wikipedia Content:  68%|██████▊   | 1023/1500 [17:57<07:31,  1.06it/s]"
     ]
    },
    {
     "name": "stdout",
     "output_type": "stream",
     "text": [
      "Duplicate IMDb ID found: tt1506339\n"
     ]
    },
    {
     "name": "stderr",
     "output_type": "stream",
     "text": [
      "Fetching Wikipedia Content:  69%|██████▉   | 1039/1500 [18:14<07:27,  1.03it/s]"
     ]
    },
    {
     "name": "stdout",
     "output_type": "stream",
     "text": [
      "Duplicate IMDb ID found: tt6424454\n"
     ]
    },
    {
     "name": "stderr",
     "output_type": "stream",
     "text": [
      "Fetching Wikipedia Content:  70%|██████▉   | 1049/1500 [18:22<07:02,  1.07it/s]"
     ]
    },
    {
     "name": "stdout",
     "output_type": "stream",
     "text": [
      "Duplicate IMDb ID found: tt0774809\n"
     ]
    },
    {
     "name": "stderr",
     "output_type": "stream",
     "text": [
      "Fetching Wikipedia Content:  70%|███████   | 1051/1500 [18:24<06:09,  1.21it/s]"
     ]
    },
    {
     "name": "stdout",
     "output_type": "stream",
     "text": [
      "Duplicate IMDb ID found: tt1458514\n"
     ]
    },
    {
     "name": "stderr",
     "output_type": "stream",
     "text": [
      "Fetching Wikipedia Content:  71%|███████   | 1065/1500 [18:38<08:08,  1.12s/it]"
     ]
    },
    {
     "name": "stdout",
     "output_type": "stream",
     "text": [
      "Duplicate IMDb ID found: tt2904418\n"
     ]
    },
    {
     "name": "stderr",
     "output_type": "stream",
     "text": [
      "Fetching Wikipedia Content:  71%|███████▏  | 1070/1500 [18:43<06:27,  1.11it/s]"
     ]
    },
    {
     "name": "stdout",
     "output_type": "stream",
     "text": [
      "Duplicate IMDb ID found: tt0328738\n"
     ]
    },
    {
     "name": "stderr",
     "output_type": "stream",
     "text": [
      "Fetching Wikipedia Content:  72%|███████▏  | 1075/1500 [18:48<07:13,  1.02s/it]"
     ]
    },
    {
     "name": "stdout",
     "output_type": "stream",
     "text": [
      "Duplicate IMDb ID found: tt0328739\n"
     ]
    },
    {
     "name": "stderr",
     "output_type": "stream",
     "text": [
      "Fetching Wikipedia Content:  73%|███████▎  | 1089/1500 [19:01<05:38,  1.21it/s]"
     ]
    },
    {
     "name": "stdout",
     "output_type": "stream",
     "text": [
      "Duplicate IMDb ID found: tt0294084\n"
     ]
    },
    {
     "name": "stderr",
     "output_type": "stream",
     "text": [
      "Fetching Wikipedia Content:  74%|███████▍  | 1112/1500 [19:25<06:46,  1.05s/it]"
     ]
    },
    {
     "name": "stdout",
     "output_type": "stream",
     "text": [
      "Duplicate IMDb ID found: tt1571105\n"
     ]
    },
    {
     "name": "stderr",
     "output_type": "stream",
     "text": [
      "Fetching Wikipedia Content:  75%|███████▍  | 1123/1500 [19:35<05:31,  1.14it/s]"
     ]
    },
    {
     "name": "stdout",
     "output_type": "stream",
     "text": [
      "Duplicate IMDb ID found: tt7964088\n"
     ]
    },
    {
     "name": "stderr",
     "output_type": "stream",
     "text": [
      "Fetching Wikipedia Content:  75%|███████▌  | 1127/1500 [19:39<05:24,  1.15it/s]"
     ]
    },
    {
     "name": "stdout",
     "output_type": "stream",
     "text": [
      "Duplicate IMDb ID found: tt5095466\n"
     ]
    },
    {
     "name": "stderr",
     "output_type": "stream",
     "text": [
      "Fetching Wikipedia Content:  77%|███████▋  | 1149/1500 [19:59<04:59,  1.17it/s]"
     ]
    },
    {
     "name": "stdout",
     "output_type": "stream",
     "text": [
      "Duplicate IMDb ID found: tt0189270\n"
     ]
    },
    {
     "name": "stderr",
     "output_type": "stream",
     "text": [
      "Fetching Wikipedia Content:  77%|███████▋  | 1150/1500 [20:00<04:24,  1.32it/s]"
     ]
    },
    {
     "name": "stdout",
     "output_type": "stream",
     "text": [
      "Duplicate IMDb ID found: tt0189270\n"
     ]
    },
    {
     "name": "stderr",
     "output_type": "stream",
     "text": [
      "Fetching Wikipedia Content:  77%|███████▋  | 1151/1500 [20:00<03:55,  1.48it/s]"
     ]
    },
    {
     "name": "stdout",
     "output_type": "stream",
     "text": [
      "Duplicate IMDb ID found: tt0189270\n"
     ]
    },
    {
     "name": "stderr",
     "output_type": "stream",
     "text": [
      "Fetching Wikipedia Content:  77%|███████▋  | 1152/1500 [20:01<03:40,  1.58it/s]"
     ]
    },
    {
     "name": "stdout",
     "output_type": "stream",
     "text": [
      "Duplicate IMDb ID found: tt0189270\n"
     ]
    },
    {
     "name": "stderr",
     "output_type": "stream",
     "text": [
      "Fetching Wikipedia Content:  78%|███████▊  | 1164/1500 [20:13<04:55,  1.14it/s]"
     ]
    },
    {
     "name": "stdout",
     "output_type": "stream",
     "text": [
      "Duplicate IMDb ID found: tt13399402\n"
     ]
    },
    {
     "name": "stderr",
     "output_type": "stream",
     "text": [
      "Fetching Wikipedia Content:  78%|███████▊  | 1175/1500 [20:23<04:32,  1.19it/s]"
     ]
    },
    {
     "name": "stdout",
     "output_type": "stream",
     "text": [
      "Duplicate IMDb ID found: tt1990559\n"
     ]
    },
    {
     "name": "stderr",
     "output_type": "stream",
     "text": [
      "Fetching Wikipedia Content:  79%|███████▉  | 1187/1500 [20:34<04:39,  1.12it/s]"
     ]
    },
    {
     "name": "stdout",
     "output_type": "stream",
     "text": [
      "Duplicate IMDb ID found: tt8425966\n"
     ]
    },
    {
     "name": "stderr",
     "output_type": "stream",
     "text": [
      "Fetching Wikipedia Content:  79%|███████▉  | 1189/1500 [20:36<04:17,  1.21it/s]"
     ]
    },
    {
     "name": "stdout",
     "output_type": "stream",
     "text": [
      "Duplicate IMDb ID found: tt2909912\n"
     ]
    },
    {
     "name": "stderr",
     "output_type": "stream",
     "text": [
      "Fetching Wikipedia Content:  81%|████████  | 1210/1500 [21:05<12:49,  2.65s/it]"
     ]
    },
    {
     "name": "stdout",
     "output_type": "stream",
     "text": [
      "Duplicate IMDb ID found: tt0988818\n"
     ]
    },
    {
     "name": "stderr",
     "output_type": "stream",
     "text": [
      "Fetching Wikipedia Content:  81%|████████  | 1213/1500 [21:08<07:31,  1.57s/it]"
     ]
    },
    {
     "name": "stdout",
     "output_type": "stream",
     "text": [
      "Duplicate IMDb ID found: tt5284414\n"
     ]
    },
    {
     "name": "stderr",
     "output_type": "stream",
     "text": [
      "Fetching Wikipedia Content:  83%|████████▎ | 1239/1500 [21:31<03:44,  1.16it/s]"
     ]
    },
    {
     "name": "stdout",
     "output_type": "stream",
     "text": [
      "Duplicate IMDb ID found: tt13357124\n"
     ]
    },
    {
     "name": "stderr",
     "output_type": "stream",
     "text": [
      "Fetching Wikipedia Content:  83%|████████▎ | 1240/1500 [21:31<03:17,  1.32it/s]"
     ]
    },
    {
     "name": "stdout",
     "output_type": "stream",
     "text": [
      "Duplicate IMDb ID found: tt13357124\n"
     ]
    },
    {
     "name": "stderr",
     "output_type": "stream",
     "text": [
      "Fetching Wikipedia Content:  83%|████████▎ | 1243/1500 [21:33<02:46,  1.54it/s]"
     ]
    },
    {
     "name": "stdout",
     "output_type": "stream",
     "text": [
      "Duplicate IMDb ID found: tt8225204\n"
     ]
    },
    {
     "name": "stderr",
     "output_type": "stream",
     "text": [
      "Fetching Wikipedia Content:  83%|████████▎ | 1244/1500 [21:34<02:34,  1.65it/s]"
     ]
    },
    {
     "name": "stdout",
     "output_type": "stream",
     "text": [
      "Duplicate IMDb ID found: tt8225204\n"
     ]
    },
    {
     "name": "stderr",
     "output_type": "stream",
     "text": [
      "Fetching Wikipedia Content:  83%|████████▎ | 1247/1500 [21:36<03:15,  1.30it/s]"
     ]
    },
    {
     "name": "stdout",
     "output_type": "stream",
     "text": [
      "Duplicate IMDb ID found: tt0086148\n"
     ]
    },
    {
     "name": "stderr",
     "output_type": "stream",
     "text": [
      "Fetching Wikipedia Content:  84%|████████▍ | 1265/1500 [21:53<03:29,  1.12it/s]"
     ]
    },
    {
     "name": "stdout",
     "output_type": "stream",
     "text": [
      "Duplicate IMDb ID found: tt2173736\n"
     ]
    },
    {
     "name": "stderr",
     "output_type": "stream",
     "text": [
      "Fetching Wikipedia Content:  84%|████████▍ | 1266/1500 [21:55<03:47,  1.03it/s]"
     ]
    },
    {
     "name": "stdout",
     "output_type": "stream",
     "text": [
      "Duplicate IMDb ID found: tt2173736\n"
     ]
    },
    {
     "name": "stderr",
     "output_type": "stream",
     "text": [
      "Fetching Wikipedia Content:  85%|████████▍ | 1271/1500 [21:59<03:07,  1.22it/s]"
     ]
    },
    {
     "name": "stdout",
     "output_type": "stream",
     "text": [
      "Duplicate IMDb ID found: tt3909210\n"
     ]
    },
    {
     "name": "stderr",
     "output_type": "stream",
     "text": [
      "Fetching Wikipedia Content:  85%|████████▌ | 1281/1500 [22:07<03:07,  1.17it/s]"
     ]
    },
    {
     "name": "stdout",
     "output_type": "stream",
     "text": [
      "Duplicate IMDb ID found: tt3213642\n"
     ]
    },
    {
     "name": "stderr",
     "output_type": "stream",
     "text": [
      "Fetching Wikipedia Content:  87%|████████▋ | 1298/1500 [22:22<03:01,  1.11it/s]"
     ]
    },
    {
     "name": "stdout",
     "output_type": "stream",
     "text": [
      "Duplicate IMDb ID found: tt1857718\n"
     ]
    },
    {
     "name": "stderr",
     "output_type": "stream",
     "text": [
      "Fetching Wikipedia Content:  87%|████████▋ | 1302/1500 [22:26<02:44,  1.20it/s]"
     ]
    },
    {
     "name": "stdout",
     "output_type": "stream",
     "text": [
      "Duplicate IMDb ID found: tt9836798\n"
     ]
    },
    {
     "name": "stderr",
     "output_type": "stream",
     "text": [
      "Fetching Wikipedia Content:  87%|████████▋ | 1307/1500 [22:30<02:39,  1.21it/s]"
     ]
    },
    {
     "name": "stdout",
     "output_type": "stream",
     "text": [
      "Duplicate IMDb ID found: tt0074002\n"
     ]
    },
    {
     "name": "stderr",
     "output_type": "stream",
     "text": [
      "Fetching Wikipedia Content:  87%|████████▋ | 1311/1500 [22:34<02:34,  1.22it/s]"
     ]
    },
    {
     "name": "stdout",
     "output_type": "stream",
     "text": [
      "Duplicate IMDb ID found: tt3398540\n"
     ]
    },
    {
     "name": "stderr",
     "output_type": "stream",
     "text": [
      "Fetching Wikipedia Content:  87%|████████▋ | 1312/1500 [22:35<02:41,  1.16it/s]"
     ]
    },
    {
     "name": "stdout",
     "output_type": "stream",
     "text": [
      "Duplicate IMDb ID found: tt3398540\n"
     ]
    },
    {
     "name": "stderr",
     "output_type": "stream",
     "text": [
      "Fetching Wikipedia Content:  88%|████████▊ | 1316/1500 [22:39<03:00,  1.02it/s]"
     ]
    },
    {
     "name": "stdout",
     "output_type": "stream",
     "text": [
      "Duplicate IMDb ID found: tt2564106\n"
     ]
    },
    {
     "name": "stderr",
     "output_type": "stream",
     "text": [
      "Fetching Wikipedia Content:  89%|████████▉ | 1333/1500 [22:54<02:12,  1.26it/s]"
     ]
    },
    {
     "name": "stdout",
     "output_type": "stream",
     "text": [
      "Duplicate IMDb ID found: tt7742090\n"
     ]
    },
    {
     "name": "stderr",
     "output_type": "stream",
     "text": [
      "Fetching Wikipedia Content:  90%|████████▉ | 1345/1500 [23:05<02:34,  1.00it/s]"
     ]
    },
    {
     "name": "stdout",
     "output_type": "stream",
     "text": [
      "Duplicate IMDb ID found: tt1409059\n"
     ]
    },
    {
     "name": "stderr",
     "output_type": "stream",
     "text": [
      "Fetching Wikipedia Content:  90%|█████████ | 1354/1500 [23:13<02:01,  1.21it/s]"
     ]
    },
    {
     "name": "stdout",
     "output_type": "stream",
     "text": [
      "Duplicate IMDb ID found: tt8755254\n"
     ]
    },
    {
     "name": "stderr",
     "output_type": "stream",
     "text": [
      "Fetching Wikipedia Content:  91%|█████████▏| 1369/1500 [23:27<01:41,  1.29it/s]"
     ]
    },
    {
     "name": "stdout",
     "output_type": "stream",
     "text": [
      "Duplicate IMDb ID found: tt2572196\n"
     ]
    },
    {
     "name": "stderr",
     "output_type": "stream",
     "text": [
      "Fetching Wikipedia Content:  92%|█████████▏| 1373/1500 [23:30<01:16,  1.66it/s]"
     ]
    },
    {
     "name": "stdout",
     "output_type": "stream",
     "text": [
      "Duplicate IMDb ID found: tt8673610\n"
     ]
    },
    {
     "name": "stderr",
     "output_type": "stream",
     "text": [
      "Fetching Wikipedia Content:  92%|█████████▏| 1374/1500 [23:30<01:02,  2.03it/s]"
     ]
    },
    {
     "name": "stdout",
     "output_type": "stream",
     "text": [
      "Duplicate IMDb ID found: tt8673610\n"
     ]
    },
    {
     "name": "stderr",
     "output_type": "stream",
     "text": [
      "Fetching Wikipedia Content:  94%|█████████▎| 1404/1500 [23:59<01:20,  1.19it/s]"
     ]
    },
    {
     "name": "stdout",
     "output_type": "stream",
     "text": [
      "Duplicate IMDb ID found: tt9316078\n"
     ]
    },
    {
     "name": "stderr",
     "output_type": "stream",
     "text": [
      "Fetching Wikipedia Content:  94%|█████████▍| 1413/1500 [24:07<01:26,  1.00it/s]"
     ]
    },
    {
     "name": "stdout",
     "output_type": "stream",
     "text": [
      "Duplicate IMDb ID found: tt4384306\n"
     ]
    },
    {
     "name": "stderr",
     "output_type": "stream",
     "text": [
      "Fetching Wikipedia Content:  94%|█████████▍| 1415/1500 [24:09<01:11,  1.18it/s]"
     ]
    },
    {
     "name": "stdout",
     "output_type": "stream",
     "text": [
      "Duplicate IMDb ID found: tt0972656\n"
     ]
    },
    {
     "name": "stderr",
     "output_type": "stream",
     "text": [
      "Fetching Wikipedia Content:  95%|█████████▍| 1420/1500 [24:13<01:02,  1.28it/s]"
     ]
    },
    {
     "name": "stdout",
     "output_type": "stream",
     "text": [
      "Duplicate IMDb ID found: tt3916544\n"
     ]
    },
    {
     "name": "stderr",
     "output_type": "stream",
     "text": [
      "Fetching Wikipedia Content:  95%|█████████▌| 1429/1500 [24:22<01:09,  1.02it/s]"
     ]
    },
    {
     "name": "stdout",
     "output_type": "stream",
     "text": [
      "Duplicate IMDb ID found: tt12367868\n"
     ]
    },
    {
     "name": "stderr",
     "output_type": "stream",
     "text": [
      "Fetching Wikipedia Content:  96%|█████████▌| 1441/1500 [24:33<00:51,  1.15it/s]"
     ]
    },
    {
     "name": "stdout",
     "output_type": "stream",
     "text": [
      "Duplicate IMDb ID found: tt5059866\n"
     ]
    },
    {
     "name": "stderr",
     "output_type": "stream",
     "text": [
      "Fetching Wikipedia Content:  96%|█████████▋| 1445/1500 [24:36<00:50,  1.09it/s]"
     ]
    },
    {
     "name": "stdout",
     "output_type": "stream",
     "text": [
      "Duplicate IMDb ID found: tt8253044\n"
     ]
    },
    {
     "name": "stderr",
     "output_type": "stream",
     "text": [
      "Fetching Wikipedia Content:  98%|█████████▊| 1468/1500 [24:58<00:30,  1.06it/s]"
     ]
    },
    {
     "name": "stdout",
     "output_type": "stream",
     "text": [
      "Duplicate IMDb ID found: tt13103134\n"
     ]
    },
    {
     "name": "stderr",
     "output_type": "stream",
     "text": [
      "Fetching Wikipedia Content:  98%|█████████▊| 1471/1500 [25:00<00:23,  1.24it/s]"
     ]
    },
    {
     "name": "stdout",
     "output_type": "stream",
     "text": [
      "Duplicate IMDb ID found: tt13266422\n"
     ]
    },
    {
     "name": "stderr",
     "output_type": "stream",
     "text": [
      "Fetching Wikipedia Content: 100%|█████████▉| 1494/1500 [25:21<00:04,  1.24it/s]"
     ]
    },
    {
     "name": "stdout",
     "output_type": "stream",
     "text": [
      "Duplicate IMDb ID found: tt2011519\n"
     ]
    },
    {
     "name": "stderr",
     "output_type": "stream",
     "text": [
      "Fetching Wikipedia Content: 100%|█████████▉| 1496/1500 [25:23<00:03,  1.23it/s]"
     ]
    },
    {
     "name": "stdout",
     "output_type": "stream",
     "text": [
      "Duplicate IMDb ID found: tt7790776\n"
     ]
    },
    {
     "name": "stderr",
     "output_type": "stream",
     "text": [
      "Fetching Wikipedia Content: 100%|██████████| 1500/1500 [25:26<00:00,  1.02s/it]\n"
     ]
    }
   ],
   "source": [
    "fetch2 = fetch_wikipedia_content(pull2, get_wikipedia_content)"
   ]
  },
  {
   "cell_type": "code",
   "execution_count": 31,
   "metadata": {},
   "outputs": [
    {
     "name": "stderr",
     "output_type": "stream",
     "text": [
      "Fetching Wikipedia Content:   0%|          | 5/1500 [00:03<15:07,  1.65it/s]"
     ]
    },
    {
     "name": "stdout",
     "output_type": "stream",
     "text": [
      "Duplicate IMDb ID found: tt0426719\n"
     ]
    },
    {
     "name": "stderr",
     "output_type": "stream",
     "text": [
      "Fetching Wikipedia Content:   2%|▏         | 31/1500 [00:15<13:26,  1.82it/s]"
     ]
    },
    {
     "name": "stdout",
     "output_type": "stream",
     "text": [
      "Duplicate IMDb ID found: tt0810056\n"
     ]
    },
    {
     "name": "stderr",
     "output_type": "stream",
     "text": [
      "Fetching Wikipedia Content:   2%|▏         | 32/1500 [00:16<13:14,  1.85it/s]"
     ]
    },
    {
     "name": "stdout",
     "output_type": "stream",
     "text": [
      "Duplicate IMDb ID found: tt0107188\n"
     ]
    },
    {
     "name": "stderr",
     "output_type": "stream",
     "text": [
      "Fetching Wikipedia Content:   3%|▎         | 47/1500 [00:23<13:18,  1.82it/s]"
     ]
    },
    {
     "name": "stdout",
     "output_type": "stream",
     "text": [
      "Duplicate IMDb ID found: tt9731082\n"
     ]
    },
    {
     "name": "stderr",
     "output_type": "stream",
     "text": [
      "Fetching Wikipedia Content:   5%|▌         | 79/1500 [00:40<13:34,  1.75it/s]"
     ]
    },
    {
     "name": "stdout",
     "output_type": "stream",
     "text": [
      "Duplicate IMDb ID found: tt8438524\n"
     ]
    },
    {
     "name": "stderr",
     "output_type": "stream",
     "text": [
      "Fetching Wikipedia Content:   7%|▋         | 105/1500 [00:54<10:40,  2.18it/s]"
     ]
    },
    {
     "name": "stdout",
     "output_type": "stream",
     "text": [
      "Duplicate IMDb ID found: tt13103028\n"
     ]
    },
    {
     "name": "stderr",
     "output_type": "stream",
     "text": [
      "Fetching Wikipedia Content:   7%|▋         | 108/1500 [00:55<12:26,  1.86it/s]"
     ]
    },
    {
     "name": "stdout",
     "output_type": "stream",
     "text": [
      "Duplicate IMDb ID found: tt0081881\n"
     ]
    },
    {
     "name": "stderr",
     "output_type": "stream",
     "text": [
      "Fetching Wikipedia Content:   9%|▊         | 129/1500 [01:07<15:59,  1.43it/s]"
     ]
    },
    {
     "name": "stdout",
     "output_type": "stream",
     "text": [
      "Duplicate IMDb ID found: tt2359704\n"
     ]
    },
    {
     "name": "stderr",
     "output_type": "stream",
     "text": [
      "Fetching Wikipedia Content:   9%|▉         | 137/1500 [01:11<12:20,  1.84it/s]"
     ]
    },
    {
     "name": "stdout",
     "output_type": "stream",
     "text": [
      "Duplicate IMDb ID found: tt2250184\n"
     ]
    },
    {
     "name": "stderr",
     "output_type": "stream",
     "text": [
      "Fetching Wikipedia Content:   9%|▉         | 142/1500 [01:13<08:49,  2.57it/s]"
     ]
    },
    {
     "name": "stdout",
     "output_type": "stream",
     "text": [
      "Duplicate IMDb ID found: tt12343534\n"
     ]
    },
    {
     "name": "stderr",
     "output_type": "stream",
     "text": [
      "Fetching Wikipedia Content:  10%|▉         | 149/1500 [01:17<12:24,  1.81it/s]"
     ]
    },
    {
     "name": "stdout",
     "output_type": "stream",
     "text": [
      "Duplicate IMDb ID found: tt1210339\n"
     ]
    },
    {
     "name": "stderr",
     "output_type": "stream",
     "text": [
      "Fetching Wikipedia Content:  11%|█▏        | 170/1500 [01:29<11:37,  1.91it/s]"
     ]
    },
    {
     "name": "stdout",
     "output_type": "stream",
     "text": [
      "Duplicate IMDb ID found: tt0068792\n"
     ]
    },
    {
     "name": "stderr",
     "output_type": "stream",
     "text": [
      "Fetching Wikipedia Content:  12%|█▏        | 182/1500 [01:34<09:47,  2.24it/s]"
     ]
    },
    {
     "name": "stdout",
     "output_type": "stream",
     "text": [
      "Duplicate IMDb ID found: tt1291491\n"
     ]
    },
    {
     "name": "stderr",
     "output_type": "stream",
     "text": [
      "Fetching Wikipedia Content:  12%|█▏        | 183/1500 [01:35<10:11,  2.15it/s]"
     ]
    },
    {
     "name": "stdout",
     "output_type": "stream",
     "text": [
      "Duplicate IMDb ID found: tt1291491\n"
     ]
    },
    {
     "name": "stderr",
     "output_type": "stream",
     "text": [
      "Fetching Wikipedia Content:  12%|█▏        | 185/1500 [01:36<11:36,  1.89it/s]"
     ]
    },
    {
     "name": "stdout",
     "output_type": "stream",
     "text": [
      "Duplicate IMDb ID found: tt0320874\n"
     ]
    },
    {
     "name": "stderr",
     "output_type": "stream",
     "text": [
      "Fetching Wikipedia Content:  14%|█▎        | 205/1500 [01:47<12:09,  1.78it/s]"
     ]
    },
    {
     "name": "stdout",
     "output_type": "stream",
     "text": [
      "Duplicate IMDb ID found: tt11299538\n"
     ]
    },
    {
     "name": "stderr",
     "output_type": "stream",
     "text": [
      "Fetching Wikipedia Content:  14%|█▍        | 212/1500 [01:51<11:54,  1.80it/s]"
     ]
    },
    {
     "name": "stdout",
     "output_type": "stream",
     "text": [
      "Duplicate IMDb ID found: tt12642654\n"
     ]
    },
    {
     "name": "stderr",
     "output_type": "stream",
     "text": [
      "Fetching Wikipedia Content:  14%|█▍        | 216/1500 [01:54<12:01,  1.78it/s]"
     ]
    },
    {
     "name": "stdout",
     "output_type": "stream",
     "text": [
      "Duplicate IMDb ID found: tt0961173\n"
     ]
    },
    {
     "name": "stderr",
     "output_type": "stream",
     "text": [
      "Fetching Wikipedia Content:  15%|█▍        | 220/1500 [01:56<11:22,  1.88it/s]"
     ]
    },
    {
     "name": "stdout",
     "output_type": "stream",
     "text": [
      "Duplicate IMDb ID found: tt2074028\n"
     ]
    },
    {
     "name": "stderr",
     "output_type": "stream",
     "text": [
      "Fetching Wikipedia Content:  15%|█▍        | 222/1500 [01:57<12:11,  1.75it/s]"
     ]
    },
    {
     "name": "stdout",
     "output_type": "stream",
     "text": [
      "Duplicate IMDb ID found: tt2320220\n"
     ]
    },
    {
     "name": "stderr",
     "output_type": "stream",
     "text": [
      "Fetching Wikipedia Content:  15%|█▌        | 232/1500 [02:02<12:01,  1.76it/s]"
     ]
    },
    {
     "name": "stdout",
     "output_type": "stream",
     "text": [
      "Duplicate IMDb ID found: tt11448214\n"
     ]
    },
    {
     "name": "stderr",
     "output_type": "stream",
     "text": [
      "Fetching Wikipedia Content:  16%|█▌        | 235/1500 [02:04<11:22,  1.85it/s]"
     ]
    },
    {
     "name": "stdout",
     "output_type": "stream",
     "text": [
      "Duplicate IMDb ID found: tt0928093\n"
     ]
    },
    {
     "name": "stderr",
     "output_type": "stream",
     "text": [
      "Fetching Wikipedia Content:  16%|█▌        | 240/1500 [02:06<09:14,  2.27it/s]"
     ]
    },
    {
     "name": "stdout",
     "output_type": "stream",
     "text": [
      "Duplicate IMDb ID found: tt7808344\n"
     ]
    },
    {
     "name": "stderr",
     "output_type": "stream",
     "text": [
      "Fetching Wikipedia Content:  17%|█▋        | 250/1500 [02:11<11:52,  1.75it/s]"
     ]
    },
    {
     "name": "stdout",
     "output_type": "stream",
     "text": [
      "Duplicate IMDb ID found: tt2552218\n"
     ]
    },
    {
     "name": "stderr",
     "output_type": "stream",
     "text": [
      "Fetching Wikipedia Content:  18%|█▊        | 273/1500 [02:24<11:25,  1.79it/s]"
     ]
    },
    {
     "name": "stdout",
     "output_type": "stream",
     "text": [
      "Duplicate IMDb ID found: tt6220550\n"
     ]
    },
    {
     "name": "stderr",
     "output_type": "stream",
     "text": [
      "Fetching Wikipedia Content:  20%|█▉        | 295/1500 [02:35<10:03,  2.00it/s]"
     ]
    },
    {
     "name": "stdout",
     "output_type": "stream",
     "text": [
      "Duplicate IMDb ID found: tt0434693\n"
     ]
    },
    {
     "name": "stderr",
     "output_type": "stream",
     "text": [
      "Fetching Wikipedia Content:  22%|██▏       | 337/1500 [02:57<11:14,  1.72it/s]"
     ]
    },
    {
     "name": "stdout",
     "output_type": "stream",
     "text": [
      "Duplicate IMDb ID found: tt0092386\n"
     ]
    },
    {
     "name": "stderr",
     "output_type": "stream",
     "text": [
      "Fetching Wikipedia Content:  23%|██▎       | 341/1500 [02:59<10:45,  1.80it/s]"
     ]
    },
    {
     "name": "stdout",
     "output_type": "stream",
     "text": [
      "Duplicate IMDb ID found: tt9335498\n"
     ]
    },
    {
     "name": "stderr",
     "output_type": "stream",
     "text": [
      "Fetching Wikipedia Content:  23%|██▎       | 342/1500 [03:00<10:23,  1.86it/s]"
     ]
    },
    {
     "name": "stdout",
     "output_type": "stream",
     "text": [
      "Duplicate IMDb ID found: tt9335498\n"
     ]
    },
    {
     "name": "stderr",
     "output_type": "stream",
     "text": [
      "Fetching Wikipedia Content:  23%|██▎       | 350/1500 [03:04<10:01,  1.91it/s]"
     ]
    },
    {
     "name": "stdout",
     "output_type": "stream",
     "text": [
      "Duplicate IMDb ID found: tt7164706\n"
     ]
    },
    {
     "name": "stderr",
     "output_type": "stream",
     "text": [
      "Fetching Wikipedia Content:  26%|██▌       | 385/1500 [03:22<10:35,  1.75it/s]"
     ]
    },
    {
     "name": "stdout",
     "output_type": "stream",
     "text": [
      "Duplicate IMDb ID found: tt6908976\n"
     ]
    },
    {
     "name": "stderr",
     "output_type": "stream",
     "text": [
      "Fetching Wikipedia Content:  26%|██▌       | 389/1500 [03:24<11:22,  1.63it/s]"
     ]
    },
    {
     "name": "stdout",
     "output_type": "stream",
     "text": [
      "Duplicate IMDb ID found: tt6185782\n"
     ]
    },
    {
     "name": "stderr",
     "output_type": "stream",
     "text": [
      "Fetching Wikipedia Content:  26%|██▌       | 393/1500 [03:27<10:23,  1.78it/s]"
     ]
    },
    {
     "name": "stdout",
     "output_type": "stream",
     "text": [
      "Duplicate IMDb ID found: tt1125577\n"
     ]
    },
    {
     "name": "stderr",
     "output_type": "stream",
     "text": [
      "Fetching Wikipedia Content:  26%|██▋       | 396/1500 [03:28<10:45,  1.71it/s]"
     ]
    },
    {
     "name": "stdout",
     "output_type": "stream",
     "text": [
      "Duplicate IMDb ID found: tt5323662\n"
     ]
    },
    {
     "name": "stderr",
     "output_type": "stream",
     "text": [
      "Fetching Wikipedia Content:  27%|██▋       | 400/1500 [03:31<10:21,  1.77it/s]"
     ]
    },
    {
     "name": "stdout",
     "output_type": "stream",
     "text": [
      "Duplicate IMDb ID found: tt1311112\n"
     ]
    },
    {
     "name": "stderr",
     "output_type": "stream",
     "text": [
      "Fetching Wikipedia Content:  31%|███       | 464/1500 [04:04<09:44,  1.77it/s]"
     ]
    },
    {
     "name": "stdout",
     "output_type": "stream",
     "text": [
      "Duplicate IMDb ID found: tt1904910\n"
     ]
    },
    {
     "name": "stderr",
     "output_type": "stream",
     "text": [
      "Fetching Wikipedia Content:  31%|███▏      | 470/1500 [04:07<09:38,  1.78it/s]"
     ]
    },
    {
     "name": "stdout",
     "output_type": "stream",
     "text": [
      "Duplicate IMDb ID found: tt12415504\n"
     ]
    },
    {
     "name": "stderr",
     "output_type": "stream",
     "text": [
      "Fetching Wikipedia Content:  31%|███▏      | 472/1500 [04:08<06:54,  2.48it/s]"
     ]
    },
    {
     "name": "stdout",
     "output_type": "stream",
     "text": [
      "Duplicate IMDb ID found: tt5630058\n"
     ]
    },
    {
     "name": "stderr",
     "output_type": "stream",
     "text": [
      "Fetching Wikipedia Content:  32%|███▏      | 485/1500 [04:16<11:38,  1.45it/s]"
     ]
    },
    {
     "name": "stdout",
     "output_type": "stream",
     "text": [
      "Duplicate IMDb ID found: tt1323829\n"
     ]
    },
    {
     "name": "stderr",
     "output_type": "stream",
     "text": [
      "Fetching Wikipedia Content:  32%|███▏      | 487/1500 [04:17<10:32,  1.60it/s]"
     ]
    },
    {
     "name": "stdout",
     "output_type": "stream",
     "text": [
      "Duplicate IMDb ID found: tt2348803\n"
     ]
    },
    {
     "name": "stderr",
     "output_type": "stream",
     "text": [
      "Fetching Wikipedia Content:  34%|███▍      | 510/1500 [04:31<09:39,  1.71it/s]"
     ]
    },
    {
     "name": "stdout",
     "output_type": "stream",
     "text": [
      "Duplicate IMDb ID found: tt4584754\n"
     ]
    },
    {
     "name": "stderr",
     "output_type": "stream",
     "text": [
      "Fetching Wikipedia Content:  34%|███▍      | 511/1500 [04:32<10:13,  1.61it/s]"
     ]
    },
    {
     "name": "stdout",
     "output_type": "stream",
     "text": [
      "Duplicate IMDb ID found: tt4584754\n"
     ]
    },
    {
     "name": "stderr",
     "output_type": "stream",
     "text": [
      "Fetching Wikipedia Content:  34%|███▍      | 516/1500 [04:34<09:18,  1.76it/s]"
     ]
    },
    {
     "name": "stdout",
     "output_type": "stream",
     "text": [
      "Duplicate IMDb ID found: tt0143353\n"
     ]
    },
    {
     "name": "stderr",
     "output_type": "stream",
     "text": [
      "Fetching Wikipedia Content:  35%|███▍      | 519/1500 [04:37<10:55,  1.50it/s]"
     ]
    },
    {
     "name": "stdout",
     "output_type": "stream",
     "text": [
      "Duplicate IMDb ID found: tt3105504\n"
     ]
    },
    {
     "name": "stderr",
     "output_type": "stream",
     "text": [
      "Fetching Wikipedia Content:  37%|███▋      | 549/1500 [04:55<09:47,  1.62it/s]"
     ]
    },
    {
     "name": "stdout",
     "output_type": "stream",
     "text": [
      "Duplicate IMDb ID found: tt2942218\n"
     ]
    },
    {
     "name": "stderr",
     "output_type": "stream",
     "text": [
      "Fetching Wikipedia Content:  40%|████      | 606/1500 [05:27<08:37,  1.73it/s]"
     ]
    },
    {
     "name": "stdout",
     "output_type": "stream",
     "text": [
      "Duplicate IMDb ID found: tt0061300\n"
     ]
    },
    {
     "name": "stderr",
     "output_type": "stream",
     "text": [
      "Fetching Wikipedia Content:  43%|████▎     | 646/1500 [05:49<08:09,  1.75it/s]"
     ]
    },
    {
     "name": "stdout",
     "output_type": "stream",
     "text": [
      "Duplicate IMDb ID found: tt0159198\n"
     ]
    },
    {
     "name": "stderr",
     "output_type": "stream",
     "text": [
      "Fetching Wikipedia Content:  44%|████▍     | 661/1500 [05:57<07:36,  1.84it/s]"
     ]
    },
    {
     "name": "stdout",
     "output_type": "stream",
     "text": [
      "Duplicate IMDb ID found: tt0292085\n"
     ]
    },
    {
     "name": "stderr",
     "output_type": "stream",
     "text": [
      "Fetching Wikipedia Content:  46%|████▌     | 683/1500 [06:09<08:07,  1.68it/s]"
     ]
    },
    {
     "name": "stdout",
     "output_type": "stream",
     "text": [
      "Duplicate IMDb ID found: tt11349866\n"
     ]
    },
    {
     "name": "stderr",
     "output_type": "stream",
     "text": [
      "Fetching Wikipedia Content:  46%|████▌     | 684/1500 [06:10<08:00,  1.70it/s]"
     ]
    },
    {
     "name": "stdout",
     "output_type": "stream",
     "text": [
      "Duplicate IMDb ID found: tt0251816\n"
     ]
    },
    {
     "name": "stderr",
     "output_type": "stream",
     "text": [
      "Fetching Wikipedia Content:  46%|████▌     | 692/1500 [06:14<07:53,  1.71it/s]"
     ]
    },
    {
     "name": "stdout",
     "output_type": "stream",
     "text": [
      "Duplicate IMDb ID found: tt3692198\n"
     ]
    },
    {
     "name": "stderr",
     "output_type": "stream",
     "text": [
      "Fetching Wikipedia Content:  47%|████▋     | 704/1500 [06:21<07:29,  1.77it/s]"
     ]
    },
    {
     "name": "stdout",
     "output_type": "stream",
     "text": [
      "Duplicate IMDb ID found: tt0296374\n"
     ]
    },
    {
     "name": "stderr",
     "output_type": "stream",
     "text": [
      "Fetching Wikipedia Content:  47%|████▋     | 708/1500 [06:23<06:16,  2.10it/s]"
     ]
    },
    {
     "name": "stdout",
     "output_type": "stream",
     "text": [
      "Duplicate IMDb ID found: tt1163560\n"
     ]
    },
    {
     "name": "stderr",
     "output_type": "stream",
     "text": [
      "Fetching Wikipedia Content:  48%|████▊     | 716/1500 [06:27<07:41,  1.70it/s]"
     ]
    },
    {
     "name": "stdout",
     "output_type": "stream",
     "text": [
      "Duplicate IMDb ID found: tt6402190\n"
     ]
    },
    {
     "name": "stderr",
     "output_type": "stream",
     "text": [
      "Fetching Wikipedia Content:  49%|████▊     | 730/1500 [06:35<07:16,  1.76it/s]"
     ]
    },
    {
     "name": "stdout",
     "output_type": "stream",
     "text": [
      "Duplicate IMDb ID found: tt2341171\n"
     ]
    },
    {
     "name": "stderr",
     "output_type": "stream",
     "text": [
      "Fetching Wikipedia Content:  49%|████▉     | 733/1500 [06:37<07:28,  1.71it/s]"
     ]
    },
    {
     "name": "stdout",
     "output_type": "stream",
     "text": [
      "Duplicate IMDb ID found: tt7965802\n"
     ]
    },
    {
     "name": "stderr",
     "output_type": "stream",
     "text": [
      "Fetching Wikipedia Content:  50%|█████     | 751/1500 [06:47<05:13,  2.39it/s]"
     ]
    },
    {
     "name": "stdout",
     "output_type": "stream",
     "text": [
      "Duplicate IMDb ID found: tt1674928\n"
     ]
    },
    {
     "name": "stderr",
     "output_type": "stream",
     "text": [
      "Fetching Wikipedia Content:  51%|█████     | 766/1500 [06:55<06:38,  1.84it/s]"
     ]
    },
    {
     "name": "stdout",
     "output_type": "stream",
     "text": [
      "Duplicate IMDb ID found: tt6856790\n"
     ]
    },
    {
     "name": "stderr",
     "output_type": "stream",
     "text": [
      "Fetching Wikipedia Content:  54%|█████▎    | 803/1500 [07:16<07:00,  1.66it/s]"
     ]
    },
    {
     "name": "stdout",
     "output_type": "stream",
     "text": [
      "Duplicate IMDb ID found: tt13219090\n"
     ]
    },
    {
     "name": "stderr",
     "output_type": "stream",
     "text": [
      "Fetching Wikipedia Content:  54%|█████▎    | 804/1500 [07:16<07:01,  1.65it/s]"
     ]
    },
    {
     "name": "stdout",
     "output_type": "stream",
     "text": [
      "Duplicate IMDb ID found: tt13219090\n"
     ]
    },
    {
     "name": "stderr",
     "output_type": "stream",
     "text": [
      "Fetching Wikipedia Content:  55%|█████▌    | 828/1500 [07:30<06:29,  1.73it/s]"
     ]
    },
    {
     "name": "stdout",
     "output_type": "stream",
     "text": [
      "Duplicate IMDb ID found: tt3443522\n"
     ]
    },
    {
     "name": "stderr",
     "output_type": "stream",
     "text": [
      "Fetching Wikipedia Content:  57%|█████▋    | 856/1500 [07:46<06:28,  1.66it/s]"
     ]
    },
    {
     "name": "stdout",
     "output_type": "stream",
     "text": [
      "Duplicate IMDb ID found: tt3909224\n"
     ]
    },
    {
     "name": "stderr",
     "output_type": "stream",
     "text": [
      "Fetching Wikipedia Content:  57%|█████▋    | 857/1500 [07:46<06:14,  1.72it/s]"
     ]
    },
    {
     "name": "stdout",
     "output_type": "stream",
     "text": [
      "Duplicate IMDb ID found: tt3909224\n"
     ]
    },
    {
     "name": "stderr",
     "output_type": "stream",
     "text": [
      "Fetching Wikipedia Content:  57%|█████▋    | 858/1500 [07:47<06:04,  1.76it/s]"
     ]
    },
    {
     "name": "stdout",
     "output_type": "stream",
     "text": [
      "Duplicate IMDb ID found: tt3909224\n"
     ]
    },
    {
     "name": "stderr",
     "output_type": "stream",
     "text": [
      "Fetching Wikipedia Content:  57%|█████▋    | 859/1500 [07:47<05:58,  1.79it/s]"
     ]
    },
    {
     "name": "stdout",
     "output_type": "stream",
     "text": [
      "Duplicate IMDb ID found: tt3909224\n"
     ]
    },
    {
     "name": "stderr",
     "output_type": "stream",
     "text": [
      "Fetching Wikipedia Content:  58%|█████▊    | 867/1500 [07:52<05:55,  1.78it/s]"
     ]
    },
    {
     "name": "stdout",
     "output_type": "stream",
     "text": [
      "Duplicate IMDb ID found: tt0409591\n"
     ]
    },
    {
     "name": "stderr",
     "output_type": "stream",
     "text": [
      "Fetching Wikipedia Content:  59%|█████▉    | 883/1500 [08:00<06:02,  1.70it/s]"
     ]
    },
    {
     "name": "stdout",
     "output_type": "stream",
     "text": [
      "Duplicate IMDb ID found: tt1352421\n"
     ]
    },
    {
     "name": "stderr",
     "output_type": "stream",
     "text": [
      "Fetching Wikipedia Content:  59%|█████▉    | 884/1500 [08:00<05:54,  1.74it/s]"
     ]
    },
    {
     "name": "stdout",
     "output_type": "stream",
     "text": [
      "Duplicate IMDb ID found: tt1352421\n"
     ]
    },
    {
     "name": "stderr",
     "output_type": "stream",
     "text": [
      "Fetching Wikipedia Content:  60%|█████▉    | 899/1500 [08:09<05:58,  1.68it/s]"
     ]
    },
    {
     "name": "stdout",
     "output_type": "stream",
     "text": [
      "Duplicate IMDb ID found: tt7662364\n"
     ]
    },
    {
     "name": "stderr",
     "output_type": "stream",
     "text": [
      "Fetching Wikipedia Content:  60%|██████    | 902/1500 [08:11<05:40,  1.76it/s]"
     ]
    },
    {
     "name": "stdout",
     "output_type": "stream",
     "text": [
      "Duplicate IMDb ID found: tt5862798\n"
     ]
    },
    {
     "name": "stderr",
     "output_type": "stream",
     "text": [
      "Fetching Wikipedia Content:  61%|██████    | 912/1500 [08:16<05:24,  1.81it/s]"
     ]
    },
    {
     "name": "stdout",
     "output_type": "stream",
     "text": [
      "Duplicate IMDb ID found: tt12975194\n"
     ]
    },
    {
     "name": "stderr",
     "output_type": "stream",
     "text": [
      "Fetching Wikipedia Content:  62%|██████▏   | 929/1500 [08:26<05:10,  1.84it/s]"
     ]
    },
    {
     "name": "stdout",
     "output_type": "stream",
     "text": [
      "Duplicate IMDb ID found: tt0928099\n"
     ]
    },
    {
     "name": "stderr",
     "output_type": "stream",
     "text": [
      "Fetching Wikipedia Content:  62%|██████▏   | 937/1500 [08:30<05:17,  1.77it/s]"
     ]
    },
    {
     "name": "stdout",
     "output_type": "stream",
     "text": [
      "Duplicate IMDb ID found: tt3114358\n"
     ]
    },
    {
     "name": "stderr",
     "output_type": "stream",
     "text": [
      "Fetching Wikipedia Content:  63%|██████▎   | 940/1500 [08:31<03:39,  2.55it/s]"
     ]
    },
    {
     "name": "stdout",
     "output_type": "stream",
     "text": [
      "Duplicate IMDb ID found: tt3225270\n"
     ]
    },
    {
     "name": "stderr",
     "output_type": "stream",
     "text": [
      "Fetching Wikipedia Content:  63%|██████▎   | 948/1500 [08:35<04:46,  1.93it/s]"
     ]
    },
    {
     "name": "stdout",
     "output_type": "stream",
     "text": [
      "Duplicate IMDb ID found: tt2716982\n"
     ]
    },
    {
     "name": "stderr",
     "output_type": "stream",
     "text": [
      "Fetching Wikipedia Content:  63%|██████▎   | 949/1500 [08:36<04:45,  1.93it/s]"
     ]
    },
    {
     "name": "stdout",
     "output_type": "stream",
     "text": [
      "Duplicate IMDb ID found: tt2716982\n"
     ]
    },
    {
     "name": "stderr",
     "output_type": "stream",
     "text": [
      "Fetching Wikipedia Content:  66%|██████▌   | 988/1500 [08:59<04:14,  2.01it/s]"
     ]
    },
    {
     "name": "stdout",
     "output_type": "stream",
     "text": [
      "Duplicate IMDb ID found: tt4508902\n"
     ]
    },
    {
     "name": "stderr",
     "output_type": "stream",
     "text": [
      "Fetching Wikipedia Content:  66%|██████▌   | 990/1500 [09:00<04:26,  1.91it/s]"
     ]
    },
    {
     "name": "stdout",
     "output_type": "stream",
     "text": [
      "Duplicate IMDb ID found: tt7797662\n"
     ]
    },
    {
     "name": "stderr",
     "output_type": "stream",
     "text": [
      "Fetching Wikipedia Content:  66%|██████▌   | 991/1500 [09:00<05:03,  1.68it/s]"
     ]
    },
    {
     "name": "stdout",
     "output_type": "stream",
     "text": [
      "Duplicate IMDb ID found: tt7797662\n"
     ]
    },
    {
     "name": "stderr",
     "output_type": "stream",
     "text": [
      "Fetching Wikipedia Content:  68%|██████▊   | 1013/1500 [09:14<05:11,  1.56it/s]"
     ]
    },
    {
     "name": "stdout",
     "output_type": "stream",
     "text": [
      "Duplicate IMDb ID found: tt1409383\n"
     ]
    },
    {
     "name": "stderr",
     "output_type": "stream",
     "text": [
      "Fetching Wikipedia Content:  68%|██████▊   | 1024/1500 [09:19<04:32,  1.75it/s]"
     ]
    },
    {
     "name": "stdout",
     "output_type": "stream",
     "text": [
      "Duplicate IMDb ID found: tt1751305\n"
     ]
    },
    {
     "name": "stderr",
     "output_type": "stream",
     "text": [
      "Fetching Wikipedia Content:  69%|██████▉   | 1035/1500 [09:25<04:00,  1.93it/s]"
     ]
    },
    {
     "name": "stdout",
     "output_type": "stream",
     "text": [
      "Duplicate IMDb ID found: tt4838372\n"
     ]
    },
    {
     "name": "stderr",
     "output_type": "stream",
     "text": [
      "Fetching Wikipedia Content:  71%|███████   | 1061/1500 [09:41<04:15,  1.72it/s]"
     ]
    },
    {
     "name": "stdout",
     "output_type": "stream",
     "text": [
      "Duplicate IMDb ID found: tt0092486\n"
     ]
    },
    {
     "name": "stderr",
     "output_type": "stream",
     "text": [
      "Fetching Wikipedia Content:  74%|███████▍  | 1114/1500 [10:08<03:16,  1.97it/s]"
     ]
    },
    {
     "name": "stdout",
     "output_type": "stream",
     "text": [
      "Duplicate IMDb ID found: tt0168366\n"
     ]
    },
    {
     "name": "stderr",
     "output_type": "stream",
     "text": [
      "Fetching Wikipedia Content:  75%|███████▌  | 1130/1500 [10:17<03:52,  1.59it/s]"
     ]
    },
    {
     "name": "stdout",
     "output_type": "stream",
     "text": [
      "Duplicate IMDb ID found: tt0168366\n"
     ]
    },
    {
     "name": "stderr",
     "output_type": "stream",
     "text": [
      "Fetching Wikipedia Content:  76%|███████▋  | 1144/1500 [10:25<03:23,  1.75it/s]"
     ]
    },
    {
     "name": "stdout",
     "output_type": "stream",
     "text": [
      "Duplicate IMDb ID found: tt7808370\n"
     ]
    },
    {
     "name": "stderr",
     "output_type": "stream",
     "text": [
      "Fetching Wikipedia Content:  76%|███████▋  | 1146/1500 [10:26<03:13,  1.83it/s]"
     ]
    },
    {
     "name": "stdout",
     "output_type": "stream",
     "text": [
      "Duplicate IMDb ID found: tt1092560\n"
     ]
    },
    {
     "name": "stderr",
     "output_type": "stream",
     "text": [
      "Fetching Wikipedia Content:  78%|███████▊  | 1169/1500 [10:40<03:05,  1.78it/s]"
     ]
    },
    {
     "name": "stdout",
     "output_type": "stream",
     "text": [
      "Duplicate IMDb ID found: tt14202738\n"
     ]
    },
    {
     "name": "stderr",
     "output_type": "stream",
     "text": [
      "Fetching Wikipedia Content:  78%|███████▊  | 1174/1500 [10:42<03:14,  1.68it/s]"
     ]
    },
    {
     "name": "stdout",
     "output_type": "stream",
     "text": [
      "Duplicate IMDb ID found: tt3185682\n"
     ]
    },
    {
     "name": "stderr",
     "output_type": "stream",
     "text": [
      "Fetching Wikipedia Content:  80%|███████▉  | 1195/1500 [10:54<02:59,  1.70it/s]"
     ]
    },
    {
     "name": "stdout",
     "output_type": "stream",
     "text": [
      "Duplicate IMDb ID found: tt12584900\n"
     ]
    },
    {
     "name": "stderr",
     "output_type": "stream",
     "text": [
      "Fetching Wikipedia Content:  81%|████████  | 1211/1500 [11:04<02:51,  1.69it/s]"
     ]
    },
    {
     "name": "stdout",
     "output_type": "stream",
     "text": [
      "Duplicate IMDb ID found: tt6163360\n"
     ]
    },
    {
     "name": "stderr",
     "output_type": "stream",
     "text": [
      "Fetching Wikipedia Content:  81%|████████  | 1212/1500 [11:05<02:44,  1.75it/s]"
     ]
    },
    {
     "name": "stdout",
     "output_type": "stream",
     "text": [
      "Duplicate IMDb ID found: tt6163360\n"
     ]
    },
    {
     "name": "stderr",
     "output_type": "stream",
     "text": [
      "Fetching Wikipedia Content:  81%|████████  | 1218/1500 [11:08<02:11,  2.15it/s]"
     ]
    },
    {
     "name": "stdout",
     "output_type": "stream",
     "text": [
      "Duplicate IMDb ID found: tt5330582\n"
     ]
    },
    {
     "name": "stderr",
     "output_type": "stream",
     "text": [
      "Fetching Wikipedia Content:  82%|████████▏ | 1225/1500 [11:12<02:39,  1.73it/s]"
     ]
    },
    {
     "name": "stdout",
     "output_type": "stream",
     "text": [
      "Duplicate IMDb ID found: tt0981248\n"
     ]
    },
    {
     "name": "stderr",
     "output_type": "stream",
     "text": [
      "Fetching Wikipedia Content:  83%|████████▎ | 1239/1500 [11:19<02:32,  1.71it/s]"
     ]
    },
    {
     "name": "stdout",
     "output_type": "stream",
     "text": [
      "Duplicate IMDb ID found: tt2176885\n"
     ]
    },
    {
     "name": "stderr",
     "output_type": "stream",
     "text": [
      "Fetching Wikipedia Content:  83%|████████▎ | 1248/1500 [11:23<02:01,  2.08it/s]"
     ]
    },
    {
     "name": "stdout",
     "output_type": "stream",
     "text": [
      "Duplicate IMDb ID found: tt0367369\n"
     ]
    },
    {
     "name": "stderr",
     "output_type": "stream",
     "text": [
      "Fetching Wikipedia Content:  83%|████████▎ | 1249/1500 [11:23<02:04,  2.02it/s]"
     ]
    },
    {
     "name": "stdout",
     "output_type": "stream",
     "text": [
      "Duplicate IMDb ID found: tt0367369\n"
     ]
    },
    {
     "name": "stderr",
     "output_type": "stream",
     "text": [
      "Fetching Wikipedia Content:  84%|████████▍ | 1261/1500 [11:31<02:30,  1.59it/s]"
     ]
    },
    {
     "name": "stdout",
     "output_type": "stream",
     "text": [
      "Duplicate IMDb ID found: tt0861287\n"
     ]
    },
    {
     "name": "stderr",
     "output_type": "stream",
     "text": [
      "Fetching Wikipedia Content:  84%|████████▍ | 1263/1500 [11:32<02:26,  1.61it/s]"
     ]
    },
    {
     "name": "stdout",
     "output_type": "stream",
     "text": [
      "Duplicate IMDb ID found: tt0185481\n"
     ]
    },
    {
     "name": "stderr",
     "output_type": "stream",
     "text": [
      "Fetching Wikipedia Content:  85%|████████▍ | 1274/1500 [11:38<02:05,  1.80it/s]"
     ]
    },
    {
     "name": "stdout",
     "output_type": "stream",
     "text": [
      "Duplicate IMDb ID found: tt3519238\n"
     ]
    },
    {
     "name": "stderr",
     "output_type": "stream",
     "text": [
      "Fetching Wikipedia Content:  86%|████████▌ | 1291/1500 [11:48<02:00,  1.73it/s]"
     ]
    },
    {
     "name": "stdout",
     "output_type": "stream",
     "text": [
      "Duplicate IMDb ID found: tt6354518\n"
     ]
    },
    {
     "name": "stderr",
     "output_type": "stream",
     "text": [
      "Fetching Wikipedia Content:  87%|████████▋ | 1300/1500 [11:52<01:57,  1.70it/s]"
     ]
    },
    {
     "name": "stdout",
     "output_type": "stream",
     "text": [
      "Duplicate IMDb ID found: tt0805448\n"
     ]
    },
    {
     "name": "stderr",
     "output_type": "stream",
     "text": [
      "Fetching Wikipedia Content:  88%|████████▊ | 1319/1500 [12:04<02:12,  1.36it/s]"
     ]
    },
    {
     "name": "stdout",
     "output_type": "stream",
     "text": [
      "Duplicate IMDb ID found: tt0237687\n"
     ]
    },
    {
     "name": "stderr",
     "output_type": "stream",
     "text": [
      "Fetching Wikipedia Content:  90%|█████████ | 1351/1500 [12:21<00:45,  3.26it/s]"
     ]
    },
    {
     "name": "stdout",
     "output_type": "stream",
     "text": [
      "Duplicate IMDb ID found: tt0266171\n"
     ]
    },
    {
     "name": "stderr",
     "output_type": "stream",
     "text": [
      "Fetching Wikipedia Content:  91%|█████████ | 1361/1500 [12:27<01:25,  1.62it/s]"
     ]
    },
    {
     "name": "stdout",
     "output_type": "stream",
     "text": [
      "Duplicate IMDb ID found: tt13544802\n"
     ]
    },
    {
     "name": "stderr",
     "output_type": "stream",
     "text": [
      "Fetching Wikipedia Content:  91%|█████████ | 1367/1500 [12:30<01:20,  1.65it/s]"
     ]
    },
    {
     "name": "stdout",
     "output_type": "stream",
     "text": [
      "Duplicate IMDb ID found: tt0084976\n"
     ]
    },
    {
     "name": "stderr",
     "output_type": "stream",
     "text": [
      "Fetching Wikipedia Content:  92%|█████████▏| 1384/1500 [12:40<01:08,  1.68it/s]"
     ]
    },
    {
     "name": "stdout",
     "output_type": "stream",
     "text": [
      "Duplicate IMDb ID found: tt1339238\n"
     ]
    },
    {
     "name": "stderr",
     "output_type": "stream",
     "text": [
      "Fetching Wikipedia Content:  92%|█████████▏| 1387/1500 [12:42<01:01,  1.82it/s]"
     ]
    },
    {
     "name": "stdout",
     "output_type": "stream",
     "text": [
      "Duplicate IMDb ID found: tt3496018\n"
     ]
    },
    {
     "name": "stderr",
     "output_type": "stream",
     "text": [
      "Fetching Wikipedia Content:  94%|█████████▎| 1403/1500 [12:50<00:51,  1.90it/s]"
     ]
    },
    {
     "name": "stdout",
     "output_type": "stream",
     "text": [
      "Duplicate IMDb ID found: tt2360110\n"
     ]
    },
    {
     "name": "stderr",
     "output_type": "stream",
     "text": [
      "Fetching Wikipedia Content:  94%|█████████▍| 1410/1500 [12:53<00:46,  1.92it/s]"
     ]
    },
    {
     "name": "stdout",
     "output_type": "stream",
     "text": [
      "Duplicate IMDb ID found: tt8909034\n"
     ]
    },
    {
     "name": "stderr",
     "output_type": "stream",
     "text": [
      "Fetching Wikipedia Content:  94%|█████████▍| 1414/1500 [12:55<00:48,  1.76it/s]"
     ]
    },
    {
     "name": "stdout",
     "output_type": "stream",
     "text": [
      "Duplicate IMDb ID found: tt1739796\n"
     ]
    },
    {
     "name": "stderr",
     "output_type": "stream",
     "text": [
      "Fetching Wikipedia Content:  95%|█████████▍| 1420/1500 [12:59<00:40,  1.97it/s]"
     ]
    },
    {
     "name": "stdout",
     "output_type": "stream",
     "text": [
      "Duplicate IMDb ID found: tt6862076\n"
     ]
    },
    {
     "name": "stderr",
     "output_type": "stream",
     "text": [
      "Fetching Wikipedia Content:  95%|█████████▌| 1425/1500 [13:02<00:44,  1.69it/s]"
     ]
    },
    {
     "name": "stdout",
     "output_type": "stream",
     "text": [
      "Duplicate IMDb ID found: tt12100946\n"
     ]
    },
    {
     "name": "stderr",
     "output_type": "stream",
     "text": [
      "Fetching Wikipedia Content:  95%|█████████▌| 1427/1500 [13:03<00:40,  1.79it/s]"
     ]
    },
    {
     "name": "stdout",
     "output_type": "stream",
     "text": [
      "Duplicate IMDb ID found: tt0972713\n"
     ]
    },
    {
     "name": "stderr",
     "output_type": "stream",
     "text": [
      "Fetching Wikipedia Content:  95%|█████████▌| 1431/1500 [13:05<00:41,  1.68it/s]"
     ]
    },
    {
     "name": "stdout",
     "output_type": "stream",
     "text": [
      "Duplicate IMDb ID found: tt0367409\n"
     ]
    },
    {
     "name": "stderr",
     "output_type": "stream",
     "text": [
      "Fetching Wikipedia Content:  96%|█████████▌| 1436/1500 [13:08<00:39,  1.62it/s]"
     ]
    },
    {
     "name": "stdout",
     "output_type": "stream",
     "text": [
      "Duplicate IMDb ID found: tt6443118\n"
     ]
    },
    {
     "name": "stderr",
     "output_type": "stream",
     "text": [
      "Fetching Wikipedia Content:  96%|█████████▌| 1438/1500 [13:09<00:40,  1.52it/s]"
     ]
    },
    {
     "name": "stdout",
     "output_type": "stream",
     "text": [
      "Duplicate IMDb ID found: tt0434706\n"
     ]
    },
    {
     "name": "stderr",
     "output_type": "stream",
     "text": [
      "Fetching Wikipedia Content:  98%|█████████▊| 1472/1500 [13:29<00:14,  1.91it/s]"
     ]
    },
    {
     "name": "stdout",
     "output_type": "stream",
     "text": [
      "Duplicate IMDb ID found: tt13971512\n"
     ]
    },
    {
     "name": "stderr",
     "output_type": "stream",
     "text": [
      "Fetching Wikipedia Content:  98%|█████████▊| 1476/1500 [13:32<00:15,  1.51it/s]"
     ]
    },
    {
     "name": "stdout",
     "output_type": "stream",
     "text": [
      "Duplicate IMDb ID found: tt4219258\n"
     ]
    },
    {
     "name": "stderr",
     "output_type": "stream",
     "text": [
      "Fetching Wikipedia Content:  99%|█████████▉| 1482/1500 [13:35<00:10,  1.64it/s]"
     ]
    },
    {
     "name": "stdout",
     "output_type": "stream",
     "text": [
      "Duplicate IMDb ID found: tt1738090\n"
     ]
    },
    {
     "name": "stderr",
     "output_type": "stream",
     "text": [
      "Fetching Wikipedia Content: 100%|██████████| 1500/1500 [13:46<00:00,  1.82it/s]\n"
     ]
    }
   ],
   "source": [
    "fetch3 = fetch_wikipedia_content(pull3, get_wikipedia_content)"
   ]
  },
  {
   "cell_type": "code",
   "execution_count": 32,
   "metadata": {},
   "outputs": [
    {
     "name": "stderr",
     "output_type": "stream",
     "text": [
      "Fetching Wikipedia Content:   0%|          | 2/1339 [00:00<05:22,  4.15it/s]"
     ]
    },
    {
     "name": "stdout",
     "output_type": "stream",
     "text": [
      "Duplicate IMDb ID found: tt3646574\n"
     ]
    },
    {
     "name": "stderr",
     "output_type": "stream",
     "text": [
      "Fetching Wikipedia Content:   2%|▏         | 24/1339 [00:10<10:50,  2.02it/s]"
     ]
    },
    {
     "name": "stdout",
     "output_type": "stream",
     "text": [
      "Duplicate IMDb ID found: tt3398976\n"
     ]
    },
    {
     "name": "stderr",
     "output_type": "stream",
     "text": [
      "Fetching Wikipedia Content:   3%|▎         | 46/1339 [00:22<11:57,  1.80it/s]"
     ]
    },
    {
     "name": "stdout",
     "output_type": "stream",
     "text": [
      "Duplicate IMDb ID found: tt0112166\n"
     ]
    },
    {
     "name": "stderr",
     "output_type": "stream",
     "text": [
      "Fetching Wikipedia Content:   4%|▎         | 47/1339 [00:22<11:28,  1.88it/s]"
     ]
    },
    {
     "name": "stdout",
     "output_type": "stream",
     "text": [
      "Duplicate IMDb ID found: tt0161981\n"
     ]
    },
    {
     "name": "stderr",
     "output_type": "stream",
     "text": [
      "Fetching Wikipedia Content:   4%|▎         | 50/1339 [00:24<11:26,  1.88it/s]"
     ]
    },
    {
     "name": "stdout",
     "output_type": "stream",
     "text": [
      "Duplicate IMDb ID found: tt13248062\n"
     ]
    },
    {
     "name": "stderr",
     "output_type": "stream",
     "text": [
      "Fetching Wikipedia Content:   4%|▍         | 56/1339 [00:27<11:04,  1.93it/s]"
     ]
    },
    {
     "name": "stdout",
     "output_type": "stream",
     "text": [
      "Duplicate IMDb ID found: tt13027536\n"
     ]
    },
    {
     "name": "stderr",
     "output_type": "stream",
     "text": [
      "Fetching Wikipedia Content:   5%|▍         | 62/1339 [00:30<12:46,  1.67it/s]"
     ]
    },
    {
     "name": "stdout",
     "output_type": "stream",
     "text": [
      "Duplicate IMDb ID found: tt1120961\n"
     ]
    },
    {
     "name": "stderr",
     "output_type": "stream",
     "text": [
      "Fetching Wikipedia Content:   5%|▌         | 71/1339 [00:34<11:09,  1.89it/s]"
     ]
    },
    {
     "name": "stdout",
     "output_type": "stream",
     "text": [
      "Duplicate IMDb ID found: tt1463151\n"
     ]
    },
    {
     "name": "stderr",
     "output_type": "stream",
     "text": [
      "Fetching Wikipedia Content:   7%|▋         | 89/1339 [00:44<10:59,  1.90it/s]"
     ]
    },
    {
     "name": "stdout",
     "output_type": "stream",
     "text": [
      "Duplicate IMDb ID found: tt0996255\n"
     ]
    },
    {
     "name": "stderr",
     "output_type": "stream",
     "text": [
      "Fetching Wikipedia Content:   8%|▊         | 104/1339 [00:51<10:48,  1.90it/s]"
     ]
    },
    {
     "name": "stdout",
     "output_type": "stream",
     "text": [
      "Duplicate IMDb ID found: tt0164917\n"
     ]
    },
    {
     "name": "stderr",
     "output_type": "stream",
     "text": [
      "Fetching Wikipedia Content:   9%|▉         | 121/1339 [00:59<09:39,  2.10it/s]"
     ]
    },
    {
     "name": "stdout",
     "output_type": "stream",
     "text": [
      "Duplicate IMDb ID found: tt6350902\n"
     ]
    },
    {
     "name": "stderr",
     "output_type": "stream",
     "text": [
      "Fetching Wikipedia Content:  11%|█         | 142/1339 [01:09<10:16,  1.94it/s]"
     ]
    },
    {
     "name": "stdout",
     "output_type": "stream",
     "text": [
      "Duplicate IMDb ID found: tt2309312\n"
     ]
    },
    {
     "name": "stderr",
     "output_type": "stream",
     "text": [
      "Fetching Wikipedia Content:  11%|█▏        | 152/1339 [01:17<19:02,  1.04it/s]"
     ]
    },
    {
     "name": "stdout",
     "output_type": "stream",
     "text": [
      "Duplicate IMDb ID found: tt5618002\n"
     ]
    },
    {
     "name": "stderr",
     "output_type": "stream",
     "text": [
      "Fetching Wikipedia Content:  12%|█▏        | 165/1339 [01:28<19:23,  1.01it/s]"
     ]
    },
    {
     "name": "stdout",
     "output_type": "stream",
     "text": [
      "Duplicate IMDb ID found: tt2250192\n"
     ]
    },
    {
     "name": "stderr",
     "output_type": "stream",
     "text": [
      "Fetching Wikipedia Content:  12%|█▏        | 167/1339 [01:30<20:10,  1.03s/it]"
     ]
    },
    {
     "name": "stdout",
     "output_type": "stream",
     "text": [
      "Duplicate IMDb ID found: tt2250192\n"
     ]
    },
    {
     "name": "stderr",
     "output_type": "stream",
     "text": [
      "Fetching Wikipedia Content:  14%|█▍        | 193/1339 [01:54<17:35,  1.09it/s]"
     ]
    },
    {
     "name": "stdout",
     "output_type": "stream",
     "text": [
      "Duplicate IMDb ID found: tt1090280\n"
     ]
    },
    {
     "name": "stderr",
     "output_type": "stream",
     "text": [
      "Fetching Wikipedia Content:  14%|█▍        | 194/1339 [01:55<18:43,  1.02it/s]"
     ]
    },
    {
     "name": "stdout",
     "output_type": "stream",
     "text": [
      "Duplicate IMDb ID found: tt1090280\n"
     ]
    },
    {
     "name": "stderr",
     "output_type": "stream",
     "text": [
      "Fetching Wikipedia Content:  15%|█▍        | 200/1339 [02:02<19:51,  1.05s/it]"
     ]
    },
    {
     "name": "stdout",
     "output_type": "stream",
     "text": [
      "Duplicate IMDb ID found: tt1571105\n"
     ]
    },
    {
     "name": "stderr",
     "output_type": "stream",
     "text": [
      "Fetching Wikipedia Content:  17%|█▋        | 223/1339 [02:25<17:04,  1.09it/s]"
     ]
    },
    {
     "name": "stdout",
     "output_type": "stream",
     "text": [
      "Duplicate IMDb ID found: tt0831888\n"
     ]
    },
    {
     "name": "stderr",
     "output_type": "stream",
     "text": [
      "Fetching Wikipedia Content:  17%|█▋        | 226/1339 [02:27<15:30,  1.20it/s]"
     ]
    },
    {
     "name": "stdout",
     "output_type": "stream",
     "text": [
      "Duplicate IMDb ID found: tt0105559\n"
     ]
    },
    {
     "name": "stderr",
     "output_type": "stream",
     "text": [
      "Fetching Wikipedia Content:  17%|█▋        | 227/1339 [02:28<14:14,  1.30it/s]"
     ]
    },
    {
     "name": "stdout",
     "output_type": "stream",
     "text": [
      "Duplicate IMDb ID found: tt0105559\n"
     ]
    },
    {
     "name": "stderr",
     "output_type": "stream",
     "text": [
      "Fetching Wikipedia Content:  17%|█▋        | 232/1339 [02:32<14:20,  1.29it/s]"
     ]
    },
    {
     "name": "stdout",
     "output_type": "stream",
     "text": [
      "Duplicate IMDb ID found: tt0433740\n"
     ]
    },
    {
     "name": "stderr",
     "output_type": "stream",
     "text": [
      "Fetching Wikipedia Content:  18%|█▊        | 237/1339 [02:37<16:04,  1.14it/s]"
     ]
    },
    {
     "name": "stdout",
     "output_type": "stream",
     "text": [
      "Duplicate IMDb ID found: tt0466352\n"
     ]
    },
    {
     "name": "stderr",
     "output_type": "stream",
     "text": [
      "Fetching Wikipedia Content:  18%|█▊        | 245/1339 [02:44<16:01,  1.14it/s]"
     ]
    },
    {
     "name": "stdout",
     "output_type": "stream",
     "text": [
      "Duplicate IMDb ID found: tt9054364\n"
     ]
    },
    {
     "name": "stderr",
     "output_type": "stream",
     "text": [
      "Fetching Wikipedia Content:  18%|█▊        | 246/1339 [02:45<13:59,  1.30it/s]"
     ]
    },
    {
     "name": "stdout",
     "output_type": "stream",
     "text": [
      "Duplicate IMDb ID found: tt9054364\n"
     ]
    },
    {
     "name": "stderr",
     "output_type": "stream",
     "text": [
      "Fetching Wikipedia Content:  19%|█▉        | 253/1339 [02:51<16:18,  1.11it/s]"
     ]
    },
    {
     "name": "stdout",
     "output_type": "stream",
     "text": [
      "Duplicate IMDb ID found: tt0081648\n"
     ]
    },
    {
     "name": "stderr",
     "output_type": "stream",
     "text": [
      "Fetching Wikipedia Content:  19%|█▉        | 256/1339 [02:54<16:11,  1.12it/s]"
     ]
    },
    {
     "name": "stdout",
     "output_type": "stream",
     "text": [
      "Duplicate IMDb ID found: tt0124228\n"
     ]
    },
    {
     "name": "stderr",
     "output_type": "stream",
     "text": [
      "Fetching Wikipedia Content:  20%|██        | 271/1339 [03:07<12:21,  1.44it/s]"
     ]
    },
    {
     "name": "stdout",
     "output_type": "stream",
     "text": [
      "Duplicate IMDb ID found: tt26699386\n"
     ]
    },
    {
     "name": "stderr",
     "output_type": "stream",
     "text": [
      "Fetching Wikipedia Content:  22%|██▏       | 291/1339 [03:25<10:48,  1.62it/s]"
     ]
    },
    {
     "name": "stdout",
     "output_type": "stream",
     "text": [
      "Duplicate IMDb ID found: tt0206516\n"
     ]
    },
    {
     "name": "stderr",
     "output_type": "stream",
     "text": [
      "Fetching Wikipedia Content:  22%|██▏       | 299/1339 [03:33<15:09,  1.14it/s]"
     ]
    },
    {
     "name": "stdout",
     "output_type": "stream",
     "text": [
      "Duplicate IMDb ID found: tt2341806\n"
     ]
    },
    {
     "name": "stderr",
     "output_type": "stream",
     "text": [
      "Fetching Wikipedia Content:  23%|██▎       | 303/1339 [03:37<16:33,  1.04it/s]"
     ]
    },
    {
     "name": "stdout",
     "output_type": "stream",
     "text": [
      "Duplicate IMDb ID found: tt1515996\n"
     ]
    },
    {
     "name": "stderr",
     "output_type": "stream",
     "text": [
      "Fetching Wikipedia Content:  23%|██▎       | 305/1339 [03:39<17:52,  1.04s/it]"
     ]
    },
    {
     "name": "stdout",
     "output_type": "stream",
     "text": [
      "Duplicate IMDb ID found: tt1308089\n"
     ]
    },
    {
     "name": "stderr",
     "output_type": "stream",
     "text": [
      "Fetching Wikipedia Content:  25%|██▍       | 330/1339 [04:02<14:30,  1.16it/s]"
     ]
    },
    {
     "name": "stdout",
     "output_type": "stream",
     "text": [
      "Duplicate IMDb ID found: tt2309302\n"
     ]
    },
    {
     "name": "stderr",
     "output_type": "stream",
     "text": [
      "Fetching Wikipedia Content:  26%|██▌       | 344/1339 [04:15<14:39,  1.13it/s]"
     ]
    },
    {
     "name": "stdout",
     "output_type": "stream",
     "text": [
      "Duplicate IMDb ID found: tt1899047\n"
     ]
    },
    {
     "name": "stderr",
     "output_type": "stream",
     "text": [
      "Fetching Wikipedia Content:  31%|███       | 411/1339 [05:16<09:57,  1.55it/s]"
     ]
    },
    {
     "name": "stdout",
     "output_type": "stream",
     "text": [
      "Duplicate IMDb ID found: tt3222236\n"
     ]
    },
    {
     "name": "stderr",
     "output_type": "stream",
     "text": [
      "Fetching Wikipedia Content:  31%|███▏      | 420/1339 [05:24<12:43,  1.20it/s]"
     ]
    },
    {
     "name": "stdout",
     "output_type": "stream",
     "text": [
      "Duplicate IMDb ID found: tt0320998\n"
     ]
    },
    {
     "name": "stderr",
     "output_type": "stream",
     "text": [
      "Fetching Wikipedia Content:  32%|███▏      | 430/1339 [05:34<14:29,  1.05it/s]"
     ]
    },
    {
     "name": "stdout",
     "output_type": "stream",
     "text": [
      "Duplicate IMDb ID found: tt8253268\n"
     ]
    },
    {
     "name": "stderr",
     "output_type": "stream",
     "text": [
      "Fetching Wikipedia Content:  33%|███▎      | 447/1339 [05:49<11:58,  1.24it/s]"
     ]
    },
    {
     "name": "stdout",
     "output_type": "stream",
     "text": [
      "Duplicate IMDb ID found: tt0081954\n"
     ]
    },
    {
     "name": "stderr",
     "output_type": "stream",
     "text": [
      "Fetching Wikipedia Content:  34%|███▎      | 451/1339 [05:53<12:39,  1.17it/s]"
     ]
    },
    {
     "name": "stdout",
     "output_type": "stream",
     "text": [
      "Duplicate IMDb ID found: tt2061551\n"
     ]
    },
    {
     "name": "stderr",
     "output_type": "stream",
     "text": [
      "Fetching Wikipedia Content:  34%|███▍      | 458/1339 [05:58<10:39,  1.38it/s]"
     ]
    },
    {
     "name": "stdout",
     "output_type": "stream",
     "text": [
      "Duplicate IMDb ID found: tt0205492\n"
     ]
    },
    {
     "name": "stderr",
     "output_type": "stream",
     "text": [
      "Fetching Wikipedia Content:  34%|███▍      | 459/1339 [05:59<12:09,  1.21it/s]"
     ]
    },
    {
     "name": "stdout",
     "output_type": "stream",
     "text": [
      "Duplicate IMDb ID found: tt0205492\n"
     ]
    },
    {
     "name": "stderr",
     "output_type": "stream",
     "text": [
      "Fetching Wikipedia Content:  35%|███▍      | 464/1339 [06:04<12:02,  1.21it/s]"
     ]
    },
    {
     "name": "stdout",
     "output_type": "stream",
     "text": [
      "Duplicate IMDb ID found: tt0978215\n"
     ]
    },
    {
     "name": "stderr",
     "output_type": "stream",
     "text": [
      "Fetching Wikipedia Content:  35%|███▍      | 465/1339 [06:04<10:42,  1.36it/s]"
     ]
    },
    {
     "name": "stdout",
     "output_type": "stream",
     "text": [
      "Duplicate IMDb ID found: tt0978215\n"
     ]
    },
    {
     "name": "stderr",
     "output_type": "stream",
     "text": [
      "Fetching Wikipedia Content:  36%|███▌      | 477/1339 [06:17<15:09,  1.06s/it]"
     ]
    },
    {
     "name": "stdout",
     "output_type": "stream",
     "text": [
      "Duplicate IMDb ID found: tt0309226\n"
     ]
    },
    {
     "name": "stderr",
     "output_type": "stream",
     "text": [
      "Fetching Wikipedia Content:  36%|███▋      | 488/1339 [06:26<12:12,  1.16it/s]"
     ]
    },
    {
     "name": "stdout",
     "output_type": "stream",
     "text": [
      "Duplicate IMDb ID found: tt7078180\n"
     ]
    },
    {
     "name": "stderr",
     "output_type": "stream",
     "text": [
      "Fetching Wikipedia Content:  41%|████      | 543/1339 [07:21<11:23,  1.16it/s]"
     ]
    },
    {
     "name": "stdout",
     "output_type": "stream",
     "text": [
      "Duplicate IMDb ID found: tt3950102\n"
     ]
    },
    {
     "name": "stderr",
     "output_type": "stream",
     "text": [
      "Fetching Wikipedia Content:  41%|████      | 544/1339 [07:22<10:00,  1.32it/s]"
     ]
    },
    {
     "name": "stdout",
     "output_type": "stream",
     "text": [
      "Duplicate IMDb ID found: tt3950102\n"
     ]
    },
    {
     "name": "stderr",
     "output_type": "stream",
     "text": [
      "Fetching Wikipedia Content:  41%|████      | 549/1339 [07:28<14:26,  1.10s/it]"
     ]
    },
    {
     "name": "stdout",
     "output_type": "stream",
     "text": [
      "Duplicate IMDb ID found: tt0118200\n"
     ]
    },
    {
     "name": "stderr",
     "output_type": "stream",
     "text": [
      "Fetching Wikipedia Content:  42%|████▏     | 560/1339 [07:37<09:38,  1.35it/s]"
     ]
    },
    {
     "name": "stdout",
     "output_type": "stream",
     "text": [
      "Duplicate IMDb ID found: tt0760511\n"
     ]
    },
    {
     "name": "stderr",
     "output_type": "stream",
     "text": [
      "Fetching Wikipedia Content:  42%|████▏     | 561/1339 [07:37<07:40,  1.69it/s]"
     ]
    },
    {
     "name": "stdout",
     "output_type": "stream",
     "text": [
      "Duplicate IMDb ID found: tt0760511\n"
     ]
    },
    {
     "name": "stderr",
     "output_type": "stream",
     "text": [
      "Fetching Wikipedia Content:  42%|████▏     | 565/1339 [07:40<09:22,  1.38it/s]"
     ]
    },
    {
     "name": "stdout",
     "output_type": "stream",
     "text": [
      "Duplicate IMDb ID found: tt2595474\n"
     ]
    },
    {
     "name": "stderr",
     "output_type": "stream",
     "text": [
      "Fetching Wikipedia Content:  42%|████▏     | 566/1339 [07:41<10:08,  1.27it/s]"
     ]
    },
    {
     "name": "stdout",
     "output_type": "stream",
     "text": [
      "Duplicate IMDb ID found: tt2595474\n"
     ]
    },
    {
     "name": "stderr",
     "output_type": "stream",
     "text": [
      "Fetching Wikipedia Content:  44%|████▍     | 586/1339 [08:01<12:57,  1.03s/it]"
     ]
    },
    {
     "name": "stdout",
     "output_type": "stream",
     "text": [
      "Duplicate IMDb ID found: tt12882132\n"
     ]
    },
    {
     "name": "stderr",
     "output_type": "stream",
     "text": [
      "Fetching Wikipedia Content:  44%|████▍     | 587/1339 [08:02<12:31,  1.00it/s]"
     ]
    },
    {
     "name": "stdout",
     "output_type": "stream",
     "text": [
      "Duplicate IMDb ID found: tt12882132\n"
     ]
    },
    {
     "name": "stderr",
     "output_type": "stream",
     "text": [
      "Fetching Wikipedia Content:  45%|████▌     | 604/1339 [08:19<11:03,  1.11it/s]"
     ]
    },
    {
     "name": "stdout",
     "output_type": "stream",
     "text": [
      "Duplicate IMDb ID found: tt7263328\n"
     ]
    },
    {
     "name": "stderr",
     "output_type": "stream",
     "text": [
      "Fetching Wikipedia Content:  45%|████▌     | 605/1339 [08:19<09:37,  1.27it/s]"
     ]
    },
    {
     "name": "stdout",
     "output_type": "stream",
     "text": [
      "Duplicate IMDb ID found: tt7263328\n"
     ]
    },
    {
     "name": "stderr",
     "output_type": "stream",
     "text": [
      "Fetching Wikipedia Content:  46%|████▌     | 613/1339 [08:26<10:29,  1.15it/s]"
     ]
    },
    {
     "name": "stdout",
     "output_type": "stream",
     "text": [
      "Duplicate IMDb ID found: tt0760511\n"
     ]
    },
    {
     "name": "stderr",
     "output_type": "stream",
     "text": [
      "Fetching Wikipedia Content:  46%|████▋     | 620/1339 [08:33<10:44,  1.11it/s]"
     ]
    },
    {
     "name": "stdout",
     "output_type": "stream",
     "text": [
      "Duplicate IMDb ID found: tt0426383\n"
     ]
    },
    {
     "name": "stderr",
     "output_type": "stream",
     "text": [
      "Fetching Wikipedia Content:  47%|████▋     | 625/1339 [08:37<10:25,  1.14it/s]"
     ]
    },
    {
     "name": "stdout",
     "output_type": "stream",
     "text": [
      "Duplicate IMDb ID found: tt8948304\n"
     ]
    },
    {
     "name": "stderr",
     "output_type": "stream",
     "text": [
      "Fetching Wikipedia Content:  47%|████▋     | 631/1339 [08:43<10:29,  1.13it/s]"
     ]
    },
    {
     "name": "stdout",
     "output_type": "stream",
     "text": [
      "Duplicate IMDb ID found: tt12831098\n"
     ]
    },
    {
     "name": "stderr",
     "output_type": "stream",
     "text": [
      "Fetching Wikipedia Content:  47%|████▋     | 632/1339 [08:43<09:49,  1.20it/s]"
     ]
    },
    {
     "name": "stdout",
     "output_type": "stream",
     "text": [
      "Duplicate IMDb ID found: tt12831098\n"
     ]
    },
    {
     "name": "stderr",
     "output_type": "stream",
     "text": [
      "Fetching Wikipedia Content:  48%|████▊     | 644/1339 [08:55<10:31,  1.10it/s]"
     ]
    },
    {
     "name": "stdout",
     "output_type": "stream",
     "text": [
      "Duplicate IMDb ID found: tt0249327\n"
     ]
    },
    {
     "name": "stderr",
     "output_type": "stream",
     "text": [
      "Fetching Wikipedia Content:  50%|█████     | 673/1339 [09:23<09:39,  1.15it/s]"
     ]
    },
    {
     "name": "stdout",
     "output_type": "stream",
     "text": [
      "Duplicate IMDb ID found: tt1132215\n"
     ]
    },
    {
     "name": "stderr",
     "output_type": "stream",
     "text": [
      "Fetching Wikipedia Content:  50%|█████     | 675/1339 [09:24<08:55,  1.24it/s]"
     ]
    },
    {
     "name": "stdout",
     "output_type": "stream",
     "text": [
      "Duplicate IMDb ID found: tt9054354\n"
     ]
    },
    {
     "name": "stderr",
     "output_type": "stream",
     "text": [
      "Fetching Wikipedia Content:  50%|█████     | 676/1339 [09:25<09:15,  1.19it/s]"
     ]
    },
    {
     "name": "stdout",
     "output_type": "stream",
     "text": [
      "Duplicate IMDb ID found: tt9054354\n"
     ]
    },
    {
     "name": "stderr",
     "output_type": "stream",
     "text": [
      "Fetching Wikipedia Content: 100%|██████████| 1339/1339 [20:19<00:00,  1.10it/s]\n"
     ]
    }
   ],
   "source": [
    "fetch4 = fetch_wikipedia_content(pull4, get_wikipedia_content)"
   ]
  },
  {
   "cell_type": "code",
   "execution_count": 38,
   "metadata": {},
   "outputs": [],
   "source": [
    "# Combine dictionaries\n",
    "combined_dict = {}\n",
    "combined_dict.update(fetch1)\n",
    "combined_dict.update(fetch2)\n",
    "combined_dict.update(fetch3)\n",
    "combined_dict.update(fetch4)"
   ]
  },
  {
   "cell_type": "code",
   "execution_count": 41,
   "metadata": {},
   "outputs": [],
   "source": [
    "df = pd.DataFrame(combined_dict)"
   ]
  },
  {
   "cell_type": "code",
   "execution_count": 45,
   "metadata": {},
   "outputs": [],
   "source": [
    "df_wiki = df.T.reset_index()"
   ]
  },
  {
   "cell_type": "code",
   "execution_count": 47,
   "metadata": {},
   "outputs": [
    {
     "data": {
      "text/plain": [
       "'No Wikipedia page found for: Kitsune no homerun-ô'"
      ]
     },
     "execution_count": 47,
     "metadata": {},
     "output_type": "execute_result"
    }
   ],
   "source": [
    "df_wiki.loc[5155, 'Content']"
   ]
  },
  {
   "cell_type": "code",
   "execution_count": 50,
   "metadata": {},
   "outputs": [],
   "source": [
    "filtered_df_wiki = df_wiki[~df_wiki['Content'].str.startswith('No Wikipedia page found for:')]\n"
   ]
  },
  {
   "cell_type": "code",
   "execution_count": 70,
   "metadata": {},
   "outputs": [
    {
     "name": "stdout",
     "output_type": "stream",
     "text": [
      "Super Electromagnetic Machine Voltes V (Japanese: 超電磁マシーン ボルテスV（ファイブ）, Hepburn: Chōdenji Mashīn Borutesu Faibu), popularly known as simply Voltes V  (pronounced as \"Voltes Five\") is a Japanese anime television series produced by Toei Company and animated by Nippon Sunrise (now known as Bandai Namco Filmworks and formerly known as Soeisha). It is the second installment of the Robot Romance Trilogy, which also includes Chōdenji Robo Combattler V and Tōshō Daimos. It is directed by Tadao Nagahama and produced by Yoshiyuki Tomino. It aired on TV Asahi and its affiliates from June 1977 to March 1978.\n",
      "Voltes V grew into a cultural phenomenon in the Philippines since its airing in the country in 1978, and had achieved popularity as well in Indonesia and Cuba. A Philippine live-action adaptation, Voltes V: Legacy, premiered on GMA Network in May 2023.\n",
      "\n",
      "\n",
      "== Plot ==\n",
      "One day, a massive horde of flying saucers appears out of the depths of space and launches an invasion of the planet Earth. Despite the best efforts of the world's militaries and the Earth Defense Force under the Japanese Commander Oka, simultaneous deployments of the invaders' fleets of well-armed and highly mobile flying saucers devastate key strategic targets around the world and completely overwhelm the defenders. The invaders are aliens from the imperial planet Boazan, fighting under the command of the Boazanian emperor's ruthless nephew, Prince Heinel. With their victory all but assured, the Boazanian commanders retire to Castle Heinel, a secret underground citadel constructed by their agents in preparation for their conquest, and deploy the massive bio-mechanical \"Attack Beast Knight Dokugaga\" to destroy humanity's last bastion of resistance.\n",
      "Unbeknownst to the Boazanians, however, are the efforts of Japanese scientists Mitsuyo Goh and Professor Hamaguchi, who have been working alongside Oka on a plan originally created by Mitsuyo's vanished husband, Dr. Kentaro Goh. Having forced her children, Kenichi, Daijiro, and Hiyoshi, to undergo a grueling training regimen alongside the American rodeo champion Ippei Mine and Commander Oka's daughter, Megumi Oka, it is revealed that all of their efforts up to this point were secretly meant to prepare the earth for this very eventuality. The scientists take the children to a top-secret base on the hidden island of Ootorijima known as \"Big Falcon\", where they reveal to the five Kentaro Goh's greatest life's work and humanity's last remaining hope for survival: the Super-Electromagnetic Robot, \"Voltes V\". Though it takes them some time to adjust to the controls, the five are able to work together and save the EDF from total destruction by finishing off Dokugaga with their powerful Heaven Sword, or Tenkuu-ken.\n",
      "The Boazanians continue with a variety of strategies, attempting to defeat earth's robust new robot, ever constructing new Beast Knights based on different animals. The Voltes 5 team train to improve their teamwork and skill, learn more about the nature of the Boazanians and the Goh siblings' missing father. Professor Goh is revealed to have disappeared on a diplomatic mission to the planet Boazan itself, hoping to stop their impending invasion. Imprisoned by the Boazanian empire the entire time, he escapes from their control and attempts to return to earth with several allies, but is waylaid by a breakaway force and taken prisoner by Heinel's traitorous science officer, Zuhl. Much of the second half of the series revolves around the Goh siblings desperately searching for their father, while he in turn works to oppose the invaders in secret.\n",
      "Aside from its technological advancement, the planet Boazan is in fact very similar to Earth, and the native Boazanians are so like humanity that the two races can even healthily interbreed. The planet is wholly governed by an oligarchic monarchy with a cruel caste system: Boazanians born with horns are highly regarded and form an aristocratic elite, while the hornless are forced into slavery and worked to death on physically demanding tasks such as mining and construction. During a succession dispute between the highly-revered Chief Science Minister La Gour, son of the late emperor's brother, and Zu Zambajil, an illegitimate son of said emperor, it was discovered that despite La Gour's noble birth, he had been born hornless and had hidden the fact with prosthetics. Taking advantage of this fact to further his own quest for power, Zambajil had La Gour imprisoned and exiled his wife Rosalia, causing him great despair. After learning that Rosalia died while he was forced to work as a common slave, La Gour joined a band of hornless dissidents and subsequently led a daring insurrection against the empire, only to be easily thwarted by their vastly superior military. With no other options available to him, La Gour was forced to escape on a flying saucer and flee across the galaxy until he found himself on the faraway planet of Earth. Upon crash-landing, he was discovered by a Japanese scientist, and they fell in love. To blend in on Earth, La Gour exchanged his name for a Japanese one: Dr. Kentaro Goh. Thus, Dr. Goh's powerful technological advancements and knowledge of the oncoming alien invasion suddenly make sense, for he was once a native of that very planet himself.\n",
      "Knowing that Zambajil's ambition was to rule a galactic empire, Goh quickly set into motion his plans to protect the Earth from their eventual attack, and moreover, to someday finish what he started by returning to Boazan and liberating its oppressed underclass. Yet when Zambajil threatened to invade the earth unless Goh returned to work under him, Goh had no choice but to abandon his family. Refusing to work for the tyrannical ruler, Goh was once-again imprisoned and nearly executed, only to be saved by the remnants of the rebel army he had created right before his exile. It is here that he met the rebel General Dange, an aristocrat who cut off his horns to join the rebellion, and they left for their ill-fated return to Earth. Just when everyone else believes them to be dead, it is revealed that Goh and Dange have been working on the creation of a massive spaceship known as the Solar Bird, with which they hope to return to Boazan to topple its oppressive government once and for all.\n",
      "\n",
      "\n",
      "== Characters ==\n",
      "\n",
      "\n",
      "=== Voltes Team ===\n",
      "Kenichi Goh (剛健一, Gō Ken'ichi)\n",
      "Voiced by: Yukinaga Shiraishi\n",
      "The leader of the Voltes Team. Born on June 22, he is an 18 year old marksman, a motocross champion, an ace pilot, and the eldest of the three Goh brothers. During his younger years, Kenichi used to behave like a typical playful child and was prone to mischief, but the long absence of his father molded him into a more responsible son and older sibling. Stern and selfless, he is rarely one to indulge in personal pursuits that might be detrimental to their cause and he often decides on the best course of action in most of the team's numerous predicaments. Due to his headstrong temperament and unwavering resolve, Kenichi often clashes with the more cynical Ippei which often results in fierce fisticuffs but the two share no ill will and eventually get along better. Aside from his exceptional marksmanship and formidable barehanded fighting skills, Kenichi is also quite adept with the use of swords (he can hold his own against Heinel, an accomplished swordsman). His uniform is red and he pilots the Volt Crewzer (ボルトクルーザー, Boruto Kurūzā) (Head).\n",
      "Ippei Mine (峰一平, Mine Ippei)\n",
      "Voiced by: Kazuyuki Sogabe\n",
      "Born on November 24. Ippei is an 18-year-old rodeo champion, who was orphaned while still a young boy. His mother died trying to save him from a pack of wolves. After his mother's death, he grew bitter, aloof, but cool under crisis. He learned how to live in the streets and perform odd jobs. This kind of life strengthened his personality. Upon joining the rodeo, he learned to ride horses and how to use a whip. He found his greatest friend in a white stallion known as Eiffel (アイフル, Aifuru). The two, man and beast, became inseparable. He won two rodeo championship contests with Eiffel as his horse. Then one day, the Earth International Defense Force asked Ippei to join the team. When he refused, he was taken forcibly, so for the first time, Ippei and Eiffel were separated. Dr. Hamaguchi has Eiffel brought to Big Falcon early in the series and he has a rivalry with Kenichi. His uniform is blue and he pilots the Volt Bomber (ボルトボンバー, Boruto Bonbā) (Arms).\n",
      "Daijiro Goh (剛大次郎, Gō Daijirō)\n",
      "Voiced by: Tesshō Genda\n",
      "Born on November 18, Daijiro is the second oldest of the Goh brothers and a 17 year old defense tactician. He was once a playful child, but Daijiro's outlook in life suddenly changed when his father disappeared. Alarmed by this change in his personality, Mrs. Goh sent him to live in the country where a martial arts master taught him different fighting styles and forms of meditation. Upon rejoining his brothers, Daijiro was already a master of different hand-to-hand fighting styles. The Bō  became his favorite weapon. Together with Kenichi and Hiyoshi, Daijiro started training as a member of the Voltes V Team. His uniform is dark green and he pilots the Volt Panzer (ボルトパンザー, Boruto Panzā) (Body and Chest).\n",
      "Hiyoshi Goh (剛日吉, Gō Hiyoshi)\n",
      "Voiced by: Noriko Ohara\n",
      "Born on October 20, Hiyoshi is the youngest of the Goh brothers and a 10 year old a genius in inventing automatons. He has been interested in learning mechanics, robotics, and electromagnetism since a very young age. He was considered a genius by many university professors. He even created a funny little octopus-robot called Tako-chan. But to his big brothers, Kenichi and Daijiro, Hiyoshi will always be a little brother, a child who never felt the warmth and love of a real father. He also excels in swimming and diving. Because of his exceptional talents, Hiyoshi was asked to join the Voltes V Team as a technical handyman, specifically for repairs during field operations. His uniform is light green and he pilots the Volt Frigate (ボルトフリゲート, Boruto Furigēto) (Legs).\n",
      "Megumi Oka (岡めぐみ, Oka Megumi)\n",
      "Voiced by: Miyuki Ueda\n",
      "Megumi is a 16 year old kunoichi and the 18th heir of the Kōga-ryū ninja. Born on May 17. Megumi received special training during her childhood. By the age of 13, she already possessed extraordinary skills and lightning reflexes. She also learned gentle arts from her mother. Through her mother's guidance, Megumi became a person with a calm yet alert disposition. Joining the Voltes V Team, she was the voice of reason among the male members, especially whenever Kenichi and Ippei were about to clash during personal conflicts. Her cool demeanor and uncanny skills qualified Megumi as the fifth (and only female) member of the Voltes V team. Her uniform is yellow with pink accents and she pilots the Volt Lander (ボルトランダー, Boruto Randā) (Feet).\n",
      "\n",
      "\n",
      "=== Allies ===\n",
      "Professor Kentaro Goh (剛健太郎, Gō Kentarō) / Prince La Gour (プリンスラゴア, Purinsu Ra Goa)\n",
      "Voiced by: Yū Mizushima\n",
      "The father of the three Goh brothers and a former Boazanian aristocrat. Being the son of the then reigning emperor's brother, La Gour was a privileged high-ranking royal-blooded Boazanian nobleman but had the great misfortune of being born without horns. Due to this perceived abnormality, La Gour's parents had him secretly outfitted with imitation horns in order to avoid stigma, scandal, and a life of forced labor. His aging uncle was not able to produce a legitimate male heir so despite La Gour's undisclosed imperfection, the latter was still groomed to be next in line to the Boazanian throne. The horned elites' extreme prejudice and severe maltreatment of the hornless slaves struck a chord in young La Gour's psyche; he began devoting his life into quelling societal discrimination in order to foster peace and equality between the two classes. Gifted with an extremely brilliant scientific mind, La Gour's academic excellence and unwavering work ethic eventually earned him the peerless title of Boazan's Chief Science Minister; majority of the planet's technological advancements (particularly in regards to the military sciences) can be attributed to his efforts. A horned noblewoman named Lozaria was married to La Gour and during their honeymoon, the latter reluctantly decided to be completely honest with his new wife by revealing his fake horns. Despite fears of being rejected, Lozaria's affections toward La Gour never wavered then reassured the latter that horned or hornless he was still the man that she chose to love; the couple enjoyed marital bliss for a while.\n",
      "Moments before being crowned as the new emperor, La Gour's secret was finally publicly divulged by his jealous and ambitious bastard cousin, Zu Zambajil. He was branded a traitor, stripped of his title, separated from his pregnant wife and then imprisoned. Lozaria later dies during childbirth while the helpless La Gour could only weep in mourning behind bars. With the aid of the rebels he was able to escape from prison. La Gour then led a rebellion against the empire, but his ragtag troops of former slaves were simply no match against the superior might of the Boazanian military. Even though La Gour was adamant to fight alongside the rebels until the bitter end, his desperate comrades urged the former to live on; they sacrificed themselves in order for La Gour to board their last remaining space saucer which the latter then used to reach planet Earth. Wounded and unconscious in a foreign world, La Gour was found near his ship's wreckage by a local woman, a scientist named Mitsuyo Goh, whom he later marries. Fearing Zu Zambajil's inter-planetary conquest ambitions, La Gour (who now goes by the name Professor Kentaro Goh) collaborated with his wife, as well as premier Earth scientist Professor Hamaguchi and Earth International Defense Force commander General Oka to design and construct Voltes V, his greatest creation and the ultimate defense against a potential Boazanian invasion. After the birth of their third and youngest son, Hiyoshi, Professor Kentaro Goh tearfully left his newfound world and family; he returned to Boazania as a diplomat in a peaceful effort to abate the cruelty and tyranny of the now current reigning emperor, Zu Zambajil. Instead of listening to Professor Goh's appeal of non-violence towards other planets, the ruthless monarch offered his long lost cousin the lofty designation of being lead designer to Boazania's inter-planetary war machine. Disgusted by how vile and despotic Zu Zambajil had become, Professor Goh vehemently refused the Boazanian emperor's proposition and was therefore incarcerated.\n",
      "Much of the series' plot revolve around La Gour's sons discovering the reasons behind their father's disappearance as well as his secret origins, both of which are related to the Boazanian Earth invasion. Eventually, the Voltes Team made their way to planet Boazan and the Goh brothers were finally able to reconnect with their father. La Gour and the Boazanian rebels collaborated with the Voltes Team in order to ultimately terminate Zu Zambajil's despotic rule. The series' finale revealed that Prince Heinel is actually La Gour's unknown child with his first wife Lozaria; making the proud Boazanian enemy commander an older half-brother to the three Goh brothers. After the rebels' successful liberation of the slaves, La Gour was finally crowned as the new ruler of Boazan.\n",
      "Professor Mitsuyo Goh (剛光代, Gō Mitsuyo)\n",
      "Voiced by: Takako Kondo\n",
      "The human wife of Professor Kentaro Goh and the mother of the three Goh children. She met La Gour when he escaped Boazania and crash-landed on Earth. She later married La Gour and, as a scientist herself, assisted him in creating Voltes V. She raised her children on her own when her husband left, and continued to care for them until her death. She sacrificed herself to help Voltes V when it was under the mercy of a beast fighter.\n",
      "Professor Hamaguchi (浜口博士, Hamaguchi-hakase)\n",
      "Voiced by: Seizō Katō\n",
      "The former commander of Camp Big Falcon fortress at the beginning of the series. Regarded as planet Earth's top scientist, he helped design and build the Voltes V robot alongside his good friend Professor Kentaro Goh. Due to his friendship with their absentee father, Professor Hamaguchi is somewhat of a father figure to the Voltes team, especially to the three Goh brothers. Despite having the appearance of an old man past his prime, Professor Hamaguchi is surprisingly very capable of defending himself; Boazanian soldiers who were trying to seize him during an abduction attempt failed when they were met with his vicious roundhouse kicks. Professor Hamaguchi acted as the commander of Camp Big Falcon on Professor Goh's behalf until he perished after sacrificing his life to save the Voltes team.\n",
      "General Oka (岡防衛長官, Oka-chōkan)\n",
      "Voiced by: Hiroshi Masuoka\n",
      "Megumi's father and the 17th heir of the Kōga-ryū ninja. He is one of the co-designers of Voltes V, and commander of the Earth International Defense Force. On the verge of retirement due to ill health; he dies late in the series saving his daughter from a Boazanian beast fighter that had the power to control people's minds.\n",
      "Professor Sakunji (左近寺博士, Sakunji-hakase)\n",
      "Voiced by: Tamio Ouki\n",
      "The recent commander of Camp Big Falcon after Hamaguchi's death. Sakunji, a former student of Hamaguchi, is called upon to take over command of Big Falcon. He is a hard-nosed commander who continually pushes the Voltes V Team to their limits during training, sometimes to the point of risking their lives. Although he first appeared cruel, he has also shown his soft side as the series went through, especially that he was concerned about the people of the Earth more than anything else.\n",
      "General Dange (ダンゲ将軍, Dange-shōgun)\n",
      "Voiced by: Hisashi Katsuta\n",
      "A Boazanian colleague and ally of Doctor Kentaro Goh. A former member of Boazanian nobility, and military general. Believing in Kentaro Goh's cause of equality, he broke his horns and joined the rebellion. When Dr. Goh returned to Boazania, he freed him from capture and escaped with him back to Earth, along with a handful of rebels. He assisted Voltes V by piloting the Mecha Hawk (鷹メカ, Taka Mecha, Mechanical Eagle) and installing new weapons upgrade components during battle. On route to Camp Big Falcon, he was attacked by a beast fighter and was mortally injured. However, just before he died, he managed to tell Kenichi, Daijiro and Hiyoshi of their father and their Boazanian origins.\n",
      "General Doir (ドイル将軍, Doiru-shōgun)\n",
      "Voiced by: Seizō Katō\n",
      "Another Boazanian colleague and ally of Doctor Kentaro Goh who escaped with him to Earth. He is the leader of the Boazanian refugees/rebels on Earth and assisted Goh in constructing the Solar Falcon, a giant spaceship that is designed to be the partner for space travel for Camp Big Falcon. After Goh was re-captured by General Gururu, he led the Voltes team and Camp Big Falcon to Boazania to launch the final attack on Emperor Zambajil and his regime.\n",
      "\n",
      "\n",
      "=== The Boazanian Nobility ===\n",
      "Emperor Zu Zambajil (皇帝ズ・ザンバジル, Kōtei Zu Zanbajiru)\n",
      "Voiced by: Mikio Terashima\n",
      "The series' main antagonist, Zu Zambajil is the emperor of Boazania who is extremely racist, cruel, corrupt, & selfish, but ultimately a coward. The son of the previous emperor and his mistress, he took the throne when he revealed the \"hornlessness\" of his cousin, La Gour. Driven by greed and the desire for conquests, he ordered his people to create beast fighters as a tool to expand his empire further. His ambition knew no bounds. Under his rule, horned and hornless alike who dared oppose him were imprisoned, enslaved, and executed. He sent Prince Heinel, the son of La Gour, to Earth, as a means of removing a perceived threat to his throne. As time wore on, he sent others to pretend to aid Heinel while spying on him. When Voltes V and the Big Falcon reached Boazania, the people rebeled against him and the remaining few still loyal to him turned against him and fled. He met his end when, while trying to escape with a wagonload of riches, he was found by Prince Heinel, who killed him in repayment for betraying his planet and people.Prince Heinel (プリンス・ハイネル, Purinsu Haineru)\n",
      "Voiced by: Osamu Ichikawa\n",
      "The proud and stern inter-planetary commander who led the Boazanian Earth invasion, Prince Heinel is a member of the Boazanian nobility through his uncle Emperor Zu Zambajil though the latter is not very fond of him. Labeled as a traitor's son to a father he never knew, young Prince Heinel was shunned and ridiculed by his peers; the hapless lad only received genuine love from his maternal grandparents. Being a potential heir to the throne, Prince Heinel's second-degree uncle Zu Zambajil secretly despised him; the emperor was reluctant to appoint his nephew to any meaningful position in the royal court. Knowing that he had little chance in proving his worth among the ruling class, Prince Heinel became headstrong and motivated while earning accolades through military merit.  Graduating as the top cadet at the Boazanian Institute of Military Sciences and Warfare, Prince Heinel conducts himself proudly like most distinguished warriors and regards himself primarily as a soldier rather than a nobleman. Though initially depicted as a typical lead villain who is not above using under-handed tactics, Prince Heinel is later shown to have honorable qualities like being a fair leader to his subordinates as well as giving credit to those who deserve recognition. Earnestly giving his all for the glory of Boazan, Prince Heinel would rather die a warrior's death than live a cowardly life in defeat. But alas, Prince Heinel's over-confidence in Boazanians' supposed superiority coupled with his constant under-estimation of the Earthlings' capabilities often result in embarrassing failures.  Due to repeated setbacks he suffered against the Voltes Team, Zu Zambajil removed Prince Heinel from active command then had the latter exiled back to Boazan. During his final confrontation against Kenichi Goh, Prince Heinel pulled out his prized dagger which immediately caught the eye of Kentaro Goh/La Gour as it is embellished with the latter's coat-of-arms. Prince Heinel's mother was then revealed to be Lozaria, the Boazanian first wife of Kentaro Goh/La Gour who perished after giving birth while her husband was being wrongfully detained by Zu Zambajil. Realizing he had been waging a senseless war that had him pitted against his own father and half-siblings, Prince Heinel was emotionally shattered for a short while but eventually accepted the truth. When he saw the defeated and now very desperate Zu Zambajil's pathetic attempt to escape, Prince Heinel flung the said dagger at the despotic Emperor thus finally putting an end to his uncle's tyrannical regime. As their surroundings were being engulfed in flames due to all the fighting, Kenichi was almost caught in the fire but Prince Heinel immediately came to the former's aid then pushed him aside.  His younger half-brother now safely out of harm's way, the still remorseful Prince Heinel willingly let himself be trapped amidst a pile of burning rubble; Kentaro Goh/La Gour and the rest of his sons can only look on tearfully as their newfound kin solemnly succumbs to a fiery demise. Prince Heinel enjoyed a brief moment of redemption and solace before death knowing that his last selfless act saved Kenichi's life.\n",
      "Ri Katherine (リー・カザリーン, Rī Kazarīn)\n",
      "Voiced by: Noriko Ohara\n",
      "Prince Heinel's aide and unrequited lover, born on May 1. Motivated by love, she remained loyal to her prince until the end, when she took a bullet, saving his life. As she died, she confessed her love to him, and he realized that he loved her as well.\n",
      "Rui Jangal (ルイ・ジャンギャル, Rui Jangyaru)\n",
      "Voiced by: Mikio Terashima\n",
      "The three-horned general sent to Earth with Prince Heinel and Katharine. Fiercely loyal to Heinel while also a wise strategist, he was the one who convinced Heinel that the Goh brothers are part-Boazanian. He later chose death over surrender to the Voltes team.\n",
      "Zuhl (ズール, Zūru)\n",
      "Voiced by: Hiroshi Masuoka, Kan Tokumaru (Super Robot Wars)\n",
      "A one-horned, aged, hunchback, toothless scientist and one of Prince Heinel's original aides for the Earth invasion force. His invention of the Anti-Super Electromagnetic Device nearly destroyed Voltes V. Cunning and contemptuous, he discreetly captured Professor Goh just before he returned to Earth and attempt to use Goh for his plans to kill Heinel and Voltes V. Eventually, his attempt to betray Heinel failed and he was executed.\n",
      "Do Bergan (ド・ベルガン, Do Berugan)\n",
      "Voiced by: Kenji Utsumi\n",
      "The second general sent by the Emperor, sent by Emperor Zambojil to keep an eye on Prince Heinel and kill him if necessary. He kept his identity concealed most of the time with a blank mask. Upon arrival, he created a combat beast with a special alloy called Maxingal, the same alloy used for his armor, which was supposedly impervious to Voltes V's weapons and sword. Using this alloy, he intended to defeat Voltes V and take over Heinel's position, but lost and became Zuhl's replacement under Heinel. Since his arrival, all beast fighters constructed have Maxingal as standard armor but they're still no match when Voltes V upgraded its sword with the Chōdenji/Superelectromagnetic Ball. Along with Gururu, he betrayed Heinel and attempted to blow up Earth with a Magmite Bomb. During the battle to liberate Boazan, he died when the starship he and Gururu were aboard was destroyed by Voltes V.\n",
      "General Gururu (グルル将軍, Gururu shōgun)\n",
      "Voiced by: Ryusuke Shiomi, Tomomichi Nishimura (Super Robot Wars)\n",
      "The head of the Boazanian military and the last commander sent to Earth. He re-captured Lagour/Professor Goh and betrayed Heinel with Bergan. Overconfident, he was killed during the liberation of Boazan.\n",
      "Duke Zaki (ザキ侯爵, Zaki Kōshaku)\n",
      "Voiced by: Tamio Oki\n",
      "The chief inspector of Emperor Zambajil and one of the few who knew about Zambajil's betrayal of La Gour and the Boazanian throne. He is well known to deliver bad news to the Emperor from his scouting, thus many executions ordered by the Emperor was a result of his reports. Zambajil sent him to Earth to report on Heinel's progress, but discreetly wanted him to ensure Heinel's death from the hands of Voltes V. He plotted with Zuhl to have Heinel pilot a beast fighter, while at the same time leaked information to Big Falcon about the beast fighter's weak points. His plan backfired when Katharine overheard the plot. Heinel ordered Zuhl to reinforce the weak points, and in mid-battle the beast fighter destroyed Zaki's nearby ship with him inside.\n",
      "\n",
      "\n",
      "== Development ==\n",
      "Voltes V was produced by Toei Company with animation from Nippon Sunrise and sponsorship from Popy for the toys. During the development of Voltes V, Nagahama originally conceived the series to be a sequel to Chōdenji Robo Combattler V and follows the events of the series after the finale before making it into a separate series. From Nagahama's memo, the series is originally meant to be titled Granbuffer Ace (Japanese: グランバッファーA (エース), Hepburn: Guranbaffā A (ēsu)) or Chōdenji Robo V.Krieger (Japanese: 超電磁ロボ・V・クリーガー, Hepburn: Chōdenji Robo V Kurīgā, lit. Super Electromagnetic Robot V.Krieger). Both names were ultimately scrapped and it was renamed Voltes V.\n",
      "During the time of its development, NET TV transitioned its name to TV Asahi during 1977. In a proposal from Popy in 1976, Voltes V was meant to have a gun-like finishing attack but Sunrise and Toei wanted the actual attack for the toys to be changed. As such, the gun was changed to a sword, which is carried over to the mech's Heaven's Blade/Laser Blade attack. At that time also in 1976, Nagahama was given creative direction on the series and used Stage combat as reference for the titular mecha's combat moves. As describing the story itself, the plot of the Goh brothers' search for their father were inspired from Taiga dramas, as explained by Shoichi Taguchi, one of the anime that inspired him for the plot was 3000 Leagues in Search of Mother and that he wanted the heroes to search for their father instead of a mother.Akinori Watanabe, the previous director of Toei's Television Business Division, was worried that the plot will be too depressing to viewers and wanted to avoid viewers crying all the time. In response to Watanabe's request, he created the rival character, Prince Heinel, who was based on one of the actors in the world-famous Takarazuka Revue. According to Kei Iijima, one of Toei's producers, the Goh brothers and Heinel will be rivals throughout the series until the final episode, in which Heinel will be revealed to be related to them by blood but have a tragic end and redemption. He stated also that \"This is because I wanted viewers to strongly elicit anger against various discriminations around them and to hate discrimination through this work and think about correcting them.\"The final draft of the series was completed in March 1977, with the first episode was broadcast on June 4 of the same year. Shinya Sadamitsu and Yoshiyuki Tomino were brought to the staff by Nagahama for their roles as producer and art director. Kazuo Tomizawa was also brought in as one of the staff until he decided to focus more on Invincible Super Man Zambot 3.\n",
      "\n",
      "\n",
      "== Media ==\n",
      "\n",
      "\n",
      "=== Anime ===\n",
      "Voltes V was broadcast in Japan by TV Asahi from June 4, 1977, to March 25, 1978, replacing Chōdenji Robo Combattler V in its initial timeslot. The series' opening theme is titled \"Voltes V no Uta\" (ボルテスVの歌, Borutesu Faibu no Uta, \"The Song of Voltes V\") by Mitsuko Horie, Koorogi '73, and Columbia Yurikago-kai with the ending theme titled \"Chichi wo Motomete\" (父をもとめて, \"In Search of My Father.\") by Ichiro Mizuki. The lyrics to the opening theme were written by Toei staff with music written by Asei Kobayashi, and arranged by the series' composer, Hiroshi Takada, while the lyrics to the ending theme were penned by Akira Aoi (Tadao Nagahama), with music written by Asei Kobayashi, and arranged by Hiroshi Tsutsui.\n",
      "In Asia, Telesuccess Productions (formerly known as Questor International) holds the Philippine rights to the anime series since its English dub premiered on GMA in 1978; with Infiniti Music having held exclusive rights to release its soundtrack in the 1990s. The Telesuccess dubs (English and Tagalog, respectively) were made available in Southeast Asia through video-on-demand service iflix in September 2016. Discotek Media licensed the series and is released on DVD and Blu-ray (with English subtitles) in North American territories.Another English dub, written and directed by William Ross, was produced in Tokyo, Japan by Frontier Enterprises and released in North America in 1983 by 3B Productions as Voltus 5. It was a compilation of selected episodes (from episode 1 to 18).\n",
      "\n",
      "\n",
      "=== Live-action adaptation ===\n",
      "\n",
      "A Philippine live-action adaptation, Voltes V: Legacy, premiered on GMA Network on May 8, 2023. The production is licensed from Toei Company through its Philippine licensee Telesuccess Productions, Inc. Director Mark A. Reyes led the production of the series with Suzette Doctolero as the headwriter, which involved close supervision from Toei. Riot Inc. was hired to do the special effects alongside GMA's video-graphic department.\n",
      "\n",
      "\n",
      "=== Toys ===\n",
      "During the series' run, Popy released a diecast metal toy of Voltes V. The toy was available either with the five Volt Machines sold separately or in a gift set known as the \"Volt In Box\". Aside from the Volt Machines combining to form Voltes V, the toy also transformed into Voltank mode (an alternate vehicle mode wherein the robot lied down face-first with the Volt Panzer and Volt Lander's wheels on the ground). This mode never appeared in the series, but was a unique feature of the toy. The boxed set was re-released in the United States in 1978 by Mattel as part of the Shogun Warriors line of imported toys. Later it was re-released in 1982 repackaged as part of Bandai's Godaikin line for the international market in 1983. Popy also released a Jumbo Machinder version of Voltes V. Standing at over 24 inches in height, the toy featured firing projectile fists and could transform into Voltank mode, which small children could ride on.\n",
      "In 2006, Bandai released a newer, smaller Voltes V toy as part of their Soul of Chogokin line. This toy is more detailed and more poseable than its Popy diecast predecessor. In 2008, the toy was re-released as a special edition called \"Respect for Volt In Box\", which pays homage to the original toy in both color scheme and packaging. In addition, this version has been retooled to transform into Voltank mode.In 2018, Bandai released the Soul of Chogokin Voltes V F.A. (Full Action) figure. The figure sacrifices its combination gimmick in favor of more anime-accurate proportions and dynamic articulation. In 2020, Bandai released the titular mecha under the DX Soul of Chogokin line.\n",
      "\n",
      "\n",
      "=== Video games ===\n",
      "The series itself has been included and featured in the long-running Super Robot Wars series of video games with its first appearance on the PlayStation game Shin Super Robot Wars in 1996.\n",
      "\n",
      "\n",
      "== Cultural impact ==\n",
      "Voltes V is notable for its cultural impact in several countries like Indonesia, Cuba, and the Philippines. In the case of the latter, it had a major impact in the country during the period of martial law under President Ferdinand Marcos, who banned the series along with other \"violent\" Japanese animated series on August 27, 1979, for their \"harmful effects on children\". However, popular speculation was that the series was banned because of the anime's underlying themes of rebellion and revolution. The remaining four episodes were never aired and Filipino children angered by the sudden ban have sometimes been referred to as the \"Voltes V generation\". After the success of the 1986 People Power Revolution, Voltes V was re-aired on Philippine television from the 1990s to 2010s with a Filipino dub. In March 1999, however, Davao Oriental congressman Mayo Almario filed a bill seeking to remove Voltes V from the air once again, proposing to give the Movie and Television Review and Classification Board (MTRCB) the authority to remove programming deemed too violent for children.Toym Imao, a visual artist who was a child at the time the series aired, made a sculpture inspired by Voltes V in 2014 called Last, Lost, Lust for Four Forgotten Episodes as part of his series of art installations entitled Super Robot - Suffer Reboot that was displayed at the entrance of Palma Hall at the University of the Philippines.\n",
      "\n",
      "\n",
      "== References ==\n",
      "\n",
      "\n",
      "== External links ==\n",
      "Voltes V (anime) at Anime News Network's encyclopedia\n",
      "Chôdenji mashin Borutesu Faibu at IMDb\n"
     ]
    }
   ],
   "source": [
    "print(filtered_df_wiki.loc[200, 'Content'])"
   ]
  },
  {
   "cell_type": "code",
   "execution_count": 81,
   "metadata": {},
   "outputs": [],
   "source": [
    "missing_df = wiki_pull_df[~wiki_pull_df['imdb_id'].isin(filtered_df_wiki['index'].tolist())]"
   ]
  },
  {
   "cell_type": "code",
   "execution_count": 95,
   "metadata": {},
   "outputs": [],
   "source": [
    "pull5 = df_joined[df_joined['imdb_scrape_imdb_id'].isin(missing_df['imdb_id'].tolist())][['imdb_scrape_imdb_id','anime_Name']].rename(columns = {\"imdb_scrape_imdb_id\": \"imdb_id\", \"anime_Name\": \"Title\"})"
   ]
  },
  {
   "cell_type": "code",
   "execution_count": 96,
   "metadata": {},
   "outputs": [
    {
     "name": "stderr",
     "output_type": "stream",
     "text": [
      "Fetching Wikipedia Content:   8%|▊         | 37/454 [00:31<05:01,  1.38it/s]/Users/justinvhuang/miniconda3/envs/spacy/lib/python3.10/site-packages/wikipedia/wikipedia.py:389: GuessedAtParserWarning: No parser was explicitly specified, so I'm using the best available HTML parser for this system (\"lxml\"). This usually isn't a problem, but if you run this code on another system, or in a different virtual environment, it may use a different parser and behave differently.\n",
      "\n",
      "The code that caused this warning is on line 389 of the file /Users/justinvhuang/miniconda3/envs/spacy/lib/python3.10/site-packages/wikipedia/wikipedia.py. To get rid of this warning, pass the additional argument 'features=\"lxml\"' to the BeautifulSoup constructor.\n",
      "\n",
      "  lis = BeautifulSoup(html).find_all('li')\n",
      "Fetching Wikipedia Content:  19%|█▉        | 88/454 [01:14<04:56,  1.23it/s]"
     ]
    },
    {
     "name": "stdout",
     "output_type": "stream",
     "text": [
      "Duplicate IMDb ID found: tt0162467\n"
     ]
    },
    {
     "name": "stderr",
     "output_type": "stream",
     "text": [
      "Fetching Wikipedia Content:  20%|█▉        | 89/454 [01:15<05:06,  1.19it/s]"
     ]
    },
    {
     "name": "stdout",
     "output_type": "stream",
     "text": [
      "Duplicate IMDb ID found: tt0162467\n"
     ]
    },
    {
     "name": "stderr",
     "output_type": "stream",
     "text": [
      "Fetching Wikipedia Content:  20%|██        | 91/454 [01:17<05:32,  1.09it/s]"
     ]
    },
    {
     "name": "stdout",
     "output_type": "stream",
     "text": [
      "Duplicate IMDb ID found: tt0113799\n"
     ]
    },
    {
     "name": "stderr",
     "output_type": "stream",
     "text": [
      "Fetching Wikipedia Content:  20%|██        | 93/454 [01:19<05:26,  1.11it/s]"
     ]
    },
    {
     "name": "stdout",
     "output_type": "stream",
     "text": [
      "Duplicate IMDb ID found: tt3021606\n"
     ]
    },
    {
     "name": "stderr",
     "output_type": "stream",
     "text": [
      "Fetching Wikipedia Content:  23%|██▎       | 104/454 [01:29<05:14,  1.11it/s]"
     ]
    },
    {
     "name": "stdout",
     "output_type": "stream",
     "text": [
      "Duplicate IMDb ID found: tt0388629\n"
     ]
    },
    {
     "name": "stderr",
     "output_type": "stream",
     "text": [
      "Fetching Wikipedia Content:  30%|██▉       | 136/454 [01:58<04:25,  1.20it/s]"
     ]
    },
    {
     "name": "stdout",
     "output_type": "stream",
     "text": [
      "Duplicate IMDb ID found: tt2061527\n"
     ]
    },
    {
     "name": "stderr",
     "output_type": "stream",
     "text": [
      "Fetching Wikipedia Content:  33%|███▎      | 149/454 [02:10<07:03,  1.39s/it]"
     ]
    },
    {
     "name": "stdout",
     "output_type": "stream",
     "text": [
      "Duplicate IMDb ID found: tt1343074\n"
     ]
    },
    {
     "name": "stderr",
     "output_type": "stream",
     "text": [
      "Fetching Wikipedia Content:  35%|███▍      | 158/454 [02:28<12:02,  2.44s/it]"
     ]
    },
    {
     "name": "stdout",
     "output_type": "stream",
     "text": [
      "Duplicate IMDb ID found: tt5537534\n"
     ]
    },
    {
     "name": "stderr",
     "output_type": "stream",
     "text": [
      "Fetching Wikipedia Content:  36%|███▌      | 163/454 [02:32<05:29,  1.13s/it]"
     ]
    },
    {
     "name": "stdout",
     "output_type": "stream",
     "text": [
      "Duplicate IMDb ID found: tt3458374\n"
     ]
    },
    {
     "name": "stderr",
     "output_type": "stream",
     "text": [
      "Fetching Wikipedia Content:  38%|███▊      | 171/454 [02:37<03:34,  1.32it/s]"
     ]
    },
    {
     "name": "stdout",
     "output_type": "stream",
     "text": [
      "Duplicate IMDb ID found: tt8515062\n"
     ]
    },
    {
     "name": "stderr",
     "output_type": "stream",
     "text": [
      "Fetching Wikipedia Content:  39%|███▉      | 177/454 [02:42<03:37,  1.27it/s]"
     ]
    },
    {
     "name": "stdout",
     "output_type": "stream",
     "text": [
      "Duplicate IMDb ID found: tt1085074\n"
     ]
    },
    {
     "name": "stderr",
     "output_type": "stream",
     "text": [
      "Fetching Wikipedia Content:  40%|███▉      | 180/454 [02:45<04:14,  1.08it/s]"
     ]
    },
    {
     "name": "stdout",
     "output_type": "stream",
     "text": [
      "Duplicate IMDb ID found: tt5249462\n"
     ]
    },
    {
     "name": "stderr",
     "output_type": "stream",
     "text": [
      "Fetching Wikipedia Content:  40%|████      | 182/454 [02:47<03:53,  1.16it/s]"
     ]
    },
    {
     "name": "stdout",
     "output_type": "stream",
     "text": [
      "Duplicate IMDb ID found: tt3509378\n"
     ]
    },
    {
     "name": "stderr",
     "output_type": "stream",
     "text": [
      "Fetching Wikipedia Content:  41%|████      | 186/454 [02:50<03:27,  1.29it/s]"
     ]
    },
    {
     "name": "stdout",
     "output_type": "stream",
     "text": [
      "Duplicate IMDb ID found: tt13102918\n"
     ]
    },
    {
     "name": "stderr",
     "output_type": "stream",
     "text": [
      "Fetching Wikipedia Content:  46%|████▌     | 208/454 [03:04<02:51,  1.44it/s]"
     ]
    },
    {
     "name": "stdout",
     "output_type": "stream",
     "text": [
      "Duplicate IMDb ID found: tt6931266\n"
     ]
    },
    {
     "name": "stderr",
     "output_type": "stream",
     "text": [
      "Fetching Wikipedia Content:  46%|████▋     | 211/454 [03:07<03:28,  1.17it/s]"
     ]
    },
    {
     "name": "stdout",
     "output_type": "stream",
     "text": [
      "Duplicate IMDb ID found: tt2082624\n"
     ]
    },
    {
     "name": "stderr",
     "output_type": "stream",
     "text": [
      "Fetching Wikipedia Content:  51%|█████     | 231/454 [03:23<03:31,  1.05it/s]"
     ]
    },
    {
     "name": "stdout",
     "output_type": "stream",
     "text": [
      "Duplicate IMDb ID found: tt20419902\n"
     ]
    },
    {
     "name": "stderr",
     "output_type": "stream",
     "text": [
      "Fetching Wikipedia Content:  52%|█████▏    | 234/454 [03:25<03:11,  1.15it/s]"
     ]
    },
    {
     "name": "stdout",
     "output_type": "stream",
     "text": [
      "Duplicate IMDb ID found: tt0238998\n"
     ]
    },
    {
     "name": "stderr",
     "output_type": "stream",
     "text": [
      "Fetching Wikipedia Content:  52%|█████▏    | 236/454 [03:27<03:31,  1.03it/s]"
     ]
    },
    {
     "name": "stdout",
     "output_type": "stream",
     "text": [
      "Duplicate IMDb ID found: tt8425966\n"
     ]
    },
    {
     "name": "stderr",
     "output_type": "stream",
     "text": [
      "Fetching Wikipedia Content:  56%|█████▌    | 253/454 [03:41<02:52,  1.16it/s]"
     ]
    },
    {
     "name": "stdout",
     "output_type": "stream",
     "text": [
      "Duplicate IMDb ID found: tt8673610\n"
     ]
    },
    {
     "name": "stderr",
     "output_type": "stream",
     "text": [
      "Fetching Wikipedia Content:  56%|█████▌    | 254/454 [03:41<02:37,  1.27it/s]"
     ]
    },
    {
     "name": "stdout",
     "output_type": "stream",
     "text": [
      "Duplicate IMDb ID found: tt8673610\n"
     ]
    },
    {
     "name": "stderr",
     "output_type": "stream",
     "text": [
      "Fetching Wikipedia Content:  57%|█████▋    | 257/454 [03:44<02:20,  1.40it/s]"
     ]
    },
    {
     "name": "stdout",
     "output_type": "stream",
     "text": [
      "Duplicate IMDb ID found: tt0325547\n"
     ]
    },
    {
     "name": "stderr",
     "output_type": "stream",
     "text": [
      "Fetching Wikipedia Content:  61%|██████    | 277/454 [04:02<02:35,  1.14it/s]"
     ]
    },
    {
     "name": "stdout",
     "output_type": "stream",
     "text": [
      "Duplicate IMDb ID found: tt12343534\n"
     ]
    },
    {
     "name": "stderr",
     "output_type": "stream",
     "text": [
      "Fetching Wikipedia Content:  61%|██████    | 278/454 [04:03<02:41,  1.09it/s]"
     ]
    },
    {
     "name": "stdout",
     "output_type": "stream",
     "text": [
      "Duplicate IMDb ID found: tt2377452\n"
     ]
    },
    {
     "name": "stderr",
     "output_type": "stream",
     "text": [
      "Fetching Wikipedia Content:  62%|██████▏   | 282/454 [04:06<02:17,  1.25it/s]"
     ]
    },
    {
     "name": "stdout",
     "output_type": "stream",
     "text": [
      "Duplicate IMDb ID found: tt1244315\n"
     ]
    },
    {
     "name": "stderr",
     "output_type": "stream",
     "text": [
      "Fetching Wikipedia Content:  66%|██████▌   | 300/454 [04:19<01:39,  1.55it/s]"
     ]
    },
    {
     "name": "stdout",
     "output_type": "stream",
     "text": [
      "Duplicate IMDb ID found: tt5630058\n"
     ]
    },
    {
     "name": "stderr",
     "output_type": "stream",
     "text": [
      "Fetching Wikipedia Content:  70%|██████▉   | 316/454 [04:33<02:16,  1.01it/s]"
     ]
    },
    {
     "name": "stdout",
     "output_type": "stream",
     "text": [
      "Duplicate IMDb ID found: tt0162467\n"
     ]
    },
    {
     "name": "stderr",
     "output_type": "stream",
     "text": [
      "Fetching Wikipedia Content:  70%|██████▉   | 317/454 [04:34<02:01,  1.12it/s]"
     ]
    },
    {
     "name": "stdout",
     "output_type": "stream",
     "text": [
      "Duplicate IMDb ID found: tt0058342\n"
     ]
    },
    {
     "name": "stderr",
     "output_type": "stream",
     "text": [
      "Fetching Wikipedia Content:  70%|███████   | 318/454 [04:35<02:02,  1.11it/s]"
     ]
    },
    {
     "name": "stdout",
     "output_type": "stream",
     "text": [
      "Duplicate IMDb ID found: tt1674928\n"
     ]
    },
    {
     "name": "stderr",
     "output_type": "stream",
     "text": [
      "Fetching Wikipedia Content:  70%|███████   | 319/454 [04:36<02:02,  1.10it/s]"
     ]
    },
    {
     "name": "stdout",
     "output_type": "stream",
     "text": [
      "Duplicate IMDb ID found: tt1674928\n"
     ]
    },
    {
     "name": "stderr",
     "output_type": "stream",
     "text": [
      "Fetching Wikipedia Content:  72%|███████▏  | 326/454 [04:42<01:51,  1.14it/s]"
     ]
    },
    {
     "name": "stdout",
     "output_type": "stream",
     "text": [
      "Duplicate IMDb ID found: tt3909224\n"
     ]
    },
    {
     "name": "stderr",
     "output_type": "stream",
     "text": [
      "Fetching Wikipedia Content:  72%|███████▏  | 327/454 [04:43<01:50,  1.15it/s]"
     ]
    },
    {
     "name": "stdout",
     "output_type": "stream",
     "text": [
      "Duplicate IMDb ID found: tt3909224\n"
     ]
    },
    {
     "name": "stderr",
     "output_type": "stream",
     "text": [
      "Fetching Wikipedia Content:  72%|███████▏  | 328/454 [04:43<01:41,  1.24it/s]"
     ]
    },
    {
     "name": "stdout",
     "output_type": "stream",
     "text": [
      "Duplicate IMDb ID found: tt3909224\n"
     ]
    },
    {
     "name": "stderr",
     "output_type": "stream",
     "text": [
      "Fetching Wikipedia Content:  72%|███████▏  | 329/454 [04:44<01:33,  1.34it/s]"
     ]
    },
    {
     "name": "stdout",
     "output_type": "stream",
     "text": [
      "Duplicate IMDb ID found: tt3909224\n"
     ]
    },
    {
     "name": "stderr",
     "output_type": "stream",
     "text": [
      "Fetching Wikipedia Content:  74%|███████▎  | 334/454 [04:47<01:20,  1.49it/s]"
     ]
    },
    {
     "name": "stdout",
     "output_type": "stream",
     "text": [
      "Duplicate IMDb ID found: tt0928099\n"
     ]
    },
    {
     "name": "stderr",
     "output_type": "stream",
     "text": [
      "Fetching Wikipedia Content:  74%|███████▍  | 335/454 [04:47<01:29,  1.33it/s]"
     ]
    },
    {
     "name": "stdout",
     "output_type": "stream",
     "text": [
      "Duplicate IMDb ID found: tt0928099\n"
     ]
    },
    {
     "name": "stderr",
     "output_type": "stream",
     "text": [
      "Fetching Wikipedia Content:  76%|███████▋  | 347/454 [04:57<01:42,  1.04it/s]"
     ]
    },
    {
     "name": "stdout",
     "output_type": "stream",
     "text": [
      "Duplicate IMDb ID found: tt10814346\n"
     ]
    },
    {
     "name": "stderr",
     "output_type": "stream",
     "text": [
      "Fetching Wikipedia Content:  79%|███████▊  | 357/454 [05:04<01:04,  1.51it/s]"
     ]
    },
    {
     "name": "stdout",
     "output_type": "stream",
     "text": [
      "Duplicate IMDb ID found: tt3185682\n"
     ]
    },
    {
     "name": "stderr",
     "output_type": "stream",
     "text": [
      "Fetching Wikipedia Content:  80%|███████▉  | 361/454 [05:08<01:23,  1.12it/s]"
     ]
    },
    {
     "name": "stdout",
     "output_type": "stream",
     "text": [
      "Duplicate IMDb ID found: tt5330582\n"
     ]
    },
    {
     "name": "stderr",
     "output_type": "stream",
     "text": [
      "Fetching Wikipedia Content:  83%|████████▎ | 375/454 [05:18<00:54,  1.45it/s]"
     ]
    },
    {
     "name": "stdout",
     "output_type": "stream",
     "text": [
      "Duplicate IMDb ID found: tt0266171\n"
     ]
    },
    {
     "name": "stderr",
     "output_type": "stream",
     "text": [
      "Fetching Wikipedia Content:  83%|████████▎ | 376/454 [05:19<00:50,  1.55it/s]"
     ]
    },
    {
     "name": "stdout",
     "output_type": "stream",
     "text": [
      "Duplicate IMDb ID found: tt0266171\n"
     ]
    },
    {
     "name": "stderr",
     "output_type": "stream",
     "text": [
      "Fetching Wikipedia Content:  84%|████████▍ | 381/454 [05:23<00:55,  1.32it/s]"
     ]
    },
    {
     "name": "stdout",
     "output_type": "stream",
     "text": [
      "Duplicate IMDb ID found: tt13898130\n"
     ]
    },
    {
     "name": "stderr",
     "output_type": "stream",
     "text": [
      "Fetching Wikipedia Content:  85%|████████▍ | 384/454 [05:25<00:47,  1.47it/s]"
     ]
    },
    {
     "name": "stdout",
     "output_type": "stream",
     "text": [
      "Duplicate IMDb ID found: tt3646574\n"
     ]
    },
    {
     "name": "stderr",
     "output_type": "stream",
     "text": [
      "Fetching Wikipedia Content:  91%|█████████ | 412/454 [05:49<00:38,  1.10it/s]"
     ]
    },
    {
     "name": "stdout",
     "output_type": "stream",
     "text": [
      "Duplicate IMDb ID found: tt3894916\n"
     ]
    },
    {
     "name": "stderr",
     "output_type": "stream",
     "text": [
      "Fetching Wikipedia Content:  92%|█████████▏| 416/454 [05:53<00:34,  1.12it/s]"
     ]
    },
    {
     "name": "stdout",
     "output_type": "stream",
     "text": [
      "Duplicate IMDb ID found: tt26699386\n"
     ]
    },
    {
     "name": "stderr",
     "output_type": "stream",
     "text": [
      "Fetching Wikipedia Content:  92%|█████████▏| 418/454 [05:55<00:34,  1.06it/s]"
     ]
    },
    {
     "name": "stdout",
     "output_type": "stream",
     "text": [
      "Duplicate IMDb ID found: tt2061527\n"
     ]
    },
    {
     "name": "stderr",
     "output_type": "stream",
     "text": [
      "Fetching Wikipedia Content:  94%|█████████▍| 429/454 [06:05<00:20,  1.21it/s]"
     ]
    },
    {
     "name": "stdout",
     "output_type": "stream",
     "text": [
      "Duplicate IMDb ID found: tt1161697\n"
     ]
    },
    {
     "name": "stderr",
     "output_type": "stream",
     "text": [
      "Fetching Wikipedia Content:  95%|█████████▍| 430/454 [06:06<00:20,  1.19it/s]"
     ]
    },
    {
     "name": "stdout",
     "output_type": "stream",
     "text": [
      "Duplicate IMDb ID found: tt8372010\n"
     ]
    },
    {
     "name": "stderr",
     "output_type": "stream",
     "text": [
      "Fetching Wikipedia Content:  96%|█████████▌| 434/454 [06:09<00:14,  1.35it/s]"
     ]
    },
    {
     "name": "stdout",
     "output_type": "stream",
     "text": [
      "Duplicate IMDb ID found: tt3222236\n"
     ]
    },
    {
     "name": "stderr",
     "output_type": "stream",
     "text": [
      "Fetching Wikipedia Content: 100%|██████████| 454/454 [06:26<00:00,  1.18it/s]\n"
     ]
    }
   ],
   "source": [
    "fetch5 = fetch_wikipedia_content(pull5, get_wikipedia_content)"
   ]
  },
  {
   "cell_type": "code",
   "execution_count": 98,
   "metadata": {},
   "outputs": [],
   "source": [
    "# Combine dictionaries\n",
    "combined_dict = {}\n",
    "combined_dict.update(fetch1)\n",
    "combined_dict.update(fetch2)\n",
    "combined_dict.update(fetch3)\n",
    "combined_dict.update(fetch4)\n",
    "combined_dict.update(fetch5)\n"
   ]
  },
  {
   "cell_type": "code",
   "execution_count": 99,
   "metadata": {},
   "outputs": [],
   "source": [
    "df_wiki2 = pd.DataFrame(combined_dict).T"
   ]
  },
  {
   "cell_type": "code",
   "execution_count": 101,
   "metadata": {},
   "outputs": [],
   "source": [
    "filtered_df_wiki2 = df_wiki2[~df_wiki2['Content'].str.startswith('No Wikipedia page found for:')]"
   ]
  },
  {
   "cell_type": "code",
   "execution_count": 106,
   "metadata": {},
   "outputs": [],
   "source": [
    "filtered_df_wiki2 = filtered_df_wiki2.reset_index()"
   ]
  },
  {
   "cell_type": "code",
   "execution_count": 107,
   "metadata": {},
   "outputs": [],
   "source": [
    "missing_df = wiki_pull_df[~wiki_pull_df['imdb_id'].isin(filtered_df_wiki2['index'].tolist())]"
   ]
  },
  {
   "cell_type": "code",
   "execution_count": 124,
   "metadata": {},
   "outputs": [
    {
     "data": {
      "text/html": [
       "<div>\n",
       "<style scoped>\n",
       "    .dataframe tbody tr th:only-of-type {\n",
       "        vertical-align: middle;\n",
       "    }\n",
       "\n",
       "    .dataframe tbody tr th {\n",
       "        vertical-align: top;\n",
       "    }\n",
       "\n",
       "    .dataframe thead th {\n",
       "        text-align: right;\n",
       "    }\n",
       "</style>\n",
       "<table border=\"1\" class=\"dataframe\">\n",
       "  <thead>\n",
       "    <tr style=\"text-align: right;\">\n",
       "      <th></th>\n",
       "      <th>imdb_id</th>\n",
       "      <th>Title</th>\n",
       "    </tr>\n",
       "  </thead>\n",
       "  <tbody>\n",
       "    <tr>\n",
       "      <th>87</th>\n",
       "      <td>tt8230420</td>\n",
       "      <td>暗殺教室 episode:0 出会いの時間</td>\n",
       "    </tr>\n",
       "    <tr>\n",
       "      <th>127</th>\n",
       "      <td>tt0381895</td>\n",
       "      <td>あずまんが大王（劇場短編）</td>\n",
       "    </tr>\n",
       "    <tr>\n",
       "      <th>154</th>\n",
       "      <td>tt8160050</td>\n",
       "      <td>BE-BOY KIDNAPP'N IDOL</td>\n",
       "    </tr>\n",
       "    <tr>\n",
       "      <th>170</th>\n",
       "      <td>tt9843368</td>\n",
       "      <td>バイオハザード4 Incubate</td>\n",
       "    </tr>\n",
       "    <tr>\n",
       "      <th>190</th>\n",
       "      <td>tt5249462</td>\n",
       "      <td>僕だけがいない街</td>\n",
       "    </tr>\n",
       "    <tr>\n",
       "      <th>...</th>\n",
       "      <td>...</td>\n",
       "      <td>...</td>\n",
       "    </tr>\n",
       "    <tr>\n",
       "      <th>5824</th>\n",
       "      <td>tt1933701</td>\n",
       "      <td>Babel nisei</td>\n",
       "    </tr>\n",
       "    <tr>\n",
       "      <th>5832</th>\n",
       "      <td>tt0293728</td>\n",
       "      <td>King Kong</td>\n",
       "    </tr>\n",
       "    <tr>\n",
       "      <th>5835</th>\n",
       "      <td>tt0056739</td>\n",
       "      <td>Astro Boy</td>\n",
       "    </tr>\n",
       "    <tr>\n",
       "      <th>5836</th>\n",
       "      <td>tt0142908</td>\n",
       "      <td>Tetsujin nijûhachi-go</td>\n",
       "    </tr>\n",
       "    <tr>\n",
       "      <th>5838</th>\n",
       "      <td>tt0440544</td>\n",
       "      <td>Kitsune no homerun-ô</td>\n",
       "    </tr>\n",
       "  </tbody>\n",
       "</table>\n",
       "<p>376 rows × 2 columns</p>\n",
       "</div>"
      ],
      "text/plain": [
       "        imdb_id                  Title\n",
       "87    tt8230420  暗殺教室 episode:0 出会いの時間\n",
       "127   tt0381895          あずまんが大王（劇場短編）\n",
       "154   tt8160050  BE-BOY KIDNAPP'N IDOL\n",
       "170   tt9843368      バイオハザード4 Incubate\n",
       "190   tt5249462               僕だけがいない街\n",
       "...         ...                    ...\n",
       "5824  tt1933701            Babel nisei\n",
       "5832  tt0293728              King Kong\n",
       "5835  tt0056739              Astro Boy\n",
       "5836  tt0142908  Tetsujin nijûhachi-go\n",
       "5838  tt0440544   Kitsune no homerun-ô\n",
       "\n",
       "[376 rows x 2 columns]"
      ]
     },
     "execution_count": 124,
     "metadata": {},
     "output_type": "execute_result"
    }
   ],
   "source": [
    "missing_df"
   ]
  },
  {
   "cell_type": "code",
   "execution_count": 119,
   "metadata": {},
   "outputs": [
    {
     "data": {
      "text/html": [
       "<div>\n",
       "<style scoped>\n",
       "    .dataframe tbody tr th:only-of-type {\n",
       "        vertical-align: middle;\n",
       "    }\n",
       "\n",
       "    .dataframe tbody tr th {\n",
       "        vertical-align: top;\n",
       "    }\n",
       "\n",
       "    .dataframe thead th {\n",
       "        text-align: right;\n",
       "    }\n",
       "</style>\n",
       "<table border=\"1\" class=\"dataframe\">\n",
       "  <thead>\n",
       "    <tr style=\"text-align: right;\">\n",
       "      <th></th>\n",
       "      <th>imdb_scrape_imdb_id</th>\n",
       "      <th>imdb_title_attributes</th>\n",
       "      <th>imdb_title_isOriginalTitle</th>\n",
       "      <th>imdb_title_language</th>\n",
       "      <th>imdb_title_ordering</th>\n",
       "      <th>imdb_title_region</th>\n",
       "      <th>imdb_title_title</th>\n",
       "      <th>imdb_title_titleId</th>\n",
       "      <th>imdb_title_types</th>\n",
       "      <th>anime_Aired</th>\n",
       "      <th>anime_Duration</th>\n",
       "      <th>anime_English name</th>\n",
       "      <th>anime_Episodes</th>\n",
       "      <th>anime_Favorites</th>\n",
       "      <th>anime_Genres</th>\n",
       "      <th>anime_Image URL</th>\n",
       "      <th>anime_Licensors</th>\n",
       "      <th>anime_Members</th>\n",
       "      <th>anime_Name</th>\n",
       "      <th>anime_Other name</th>\n",
       "      <th>anime_Popularity</th>\n",
       "      <th>anime_Premiered</th>\n",
       "      <th>anime_Producers</th>\n",
       "      <th>anime_Rank</th>\n",
       "      <th>anime_Rating</th>\n",
       "      <th>anime_Score</th>\n",
       "      <th>anime_Scored By</th>\n",
       "      <th>anime_Source</th>\n",
       "      <th>anime_Status</th>\n",
       "      <th>anime_Studios</th>\n",
       "      <th>anime_Synopsis</th>\n",
       "      <th>anime_Type</th>\n",
       "      <th>anime_anime_id</th>\n",
       "      <th>imdb_principals_tconst</th>\n",
       "      <th>imdb_name_basics_primaryName</th>\n",
       "    </tr>\n",
       "  </thead>\n",
       "  <tbody>\n",
       "    <tr>\n",
       "      <th>1131</th>\n",
       "      <td>tt0388629</td>\n",
       "      <td>\\\\N</td>\n",
       "      <td>0</td>\n",
       "      <td>\\\\N</td>\n",
       "      <td>7</td>\n",
       "      <td>US</td>\n",
       "      <td>One Piece</td>\n",
       "      <td>tt0388629</td>\n",
       "      <td>imdbDisplay</td>\n",
       "      <td>None</td>\n",
       "      <td>None</td>\n",
       "      <td>One Piece</td>\n",
       "      <td>None</td>\n",
       "      <td>NaN</td>\n",
       "      <td>Action, Adventure, Fantasy</td>\n",
       "      <td>None</td>\n",
       "      <td>None</td>\n",
       "      <td>NaN</td>\n",
       "      <td>One Piece</td>\n",
       "      <td>ONE PIECE</td>\n",
       "      <td>NaN</td>\n",
       "      <td>None</td>\n",
       "      <td>None</td>\n",
       "      <td>None</td>\n",
       "      <td>None</td>\n",
       "      <td>8.69</td>\n",
       "      <td>None</td>\n",
       "      <td>None</td>\n",
       "      <td>None</td>\n",
       "      <td>None</td>\n",
       "      <td>Gol D. Roger was known as the \\Pirate King,\\\" ...</td>\n",
       "      <td>None</td>\n",
       "      <td>21.0</td>\n",
       "      <td>tt0388629</td>\n",
       "      <td>Akemi Okamura, Laurent Vernin, Colleen Clinken...</td>\n",
       "    </tr>\n",
       "  </tbody>\n",
       "</table>\n",
       "</div>"
      ],
      "text/plain": [
       "     imdb_scrape_imdb_id imdb_title_attributes  imdb_title_isOriginalTitle  \\\n",
       "1131           tt0388629                   \\\\N                           0   \n",
       "\n",
       "     imdb_title_language  imdb_title_ordering imdb_title_region  \\\n",
       "1131                 \\\\N                    7                US   \n",
       "\n",
       "     imdb_title_title imdb_title_titleId imdb_title_types anime_Aired  \\\n",
       "1131        One Piece          tt0388629      imdbDisplay        None   \n",
       "\n",
       "     anime_Duration anime_English name anime_Episodes  anime_Favorites  \\\n",
       "1131           None          One Piece           None              NaN   \n",
       "\n",
       "                    anime_Genres anime_Image URL anime_Licensors  \\\n",
       "1131  Action, Adventure, Fantasy            None            None   \n",
       "\n",
       "      anime_Members anime_Name anime_Other name  anime_Popularity  \\\n",
       "1131            NaN  One Piece        ONE PIECE               NaN   \n",
       "\n",
       "     anime_Premiered anime_Producers anime_Rank anime_Rating anime_Score  \\\n",
       "1131            None            None       None         None        8.69   \n",
       "\n",
       "     anime_Scored By anime_Source anime_Status anime_Studios  \\\n",
       "1131            None         None         None          None   \n",
       "\n",
       "                                         anime_Synopsis anime_Type  \\\n",
       "1131  Gol D. Roger was known as the \\Pirate King,\\\" ...       None   \n",
       "\n",
       "     anime_anime_id imdb_principals_tconst  \\\n",
       "1131           21.0              tt0388629   \n",
       "\n",
       "                           imdb_name_basics_primaryName  \n",
       "1131  Akemi Okamura, Laurent Vernin, Colleen Clinken...  "
      ]
     },
     "execution_count": 119,
     "metadata": {},
     "output_type": "execute_result"
    }
   ],
   "source": [
    "df_joined[df_joined['imdb_title_title'] == 'One Piece']"
   ]
  },
  {
   "cell_type": "code",
   "execution_count": 125,
   "metadata": {},
   "outputs": [
    {
     "data": {
      "text/html": [
       "<div>\n",
       "<style scoped>\n",
       "    .dataframe tbody tr th:only-of-type {\n",
       "        vertical-align: middle;\n",
       "    }\n",
       "\n",
       "    .dataframe tbody tr th {\n",
       "        vertical-align: top;\n",
       "    }\n",
       "\n",
       "    .dataframe thead th {\n",
       "        text-align: right;\n",
       "    }\n",
       "</style>\n",
       "<table border=\"1\" class=\"dataframe\">\n",
       "  <thead>\n",
       "    <tr style=\"text-align: right;\">\n",
       "      <th></th>\n",
       "      <th>imdb_id</th>\n",
       "      <th>Title</th>\n",
       "    </tr>\n",
       "  </thead>\n",
       "  <tbody>\n",
       "    <tr>\n",
       "      <th>1131</th>\n",
       "      <td>tt0388629</td>\n",
       "      <td>ONE PIECE</td>\n",
       "    </tr>\n",
       "    <tr>\n",
       "      <th>1134</th>\n",
       "      <td>tt0388629</td>\n",
       "      <td>ONE PIECE</td>\n",
       "    </tr>\n",
       "  </tbody>\n",
       "</table>\n",
       "</div>"
      ],
      "text/plain": [
       "        imdb_id      Title\n",
       "1131  tt0388629  ONE PIECE\n",
       "1134  tt0388629  ONE PIECE"
      ]
     },
     "execution_count": 125,
     "metadata": {},
     "output_type": "execute_result"
    }
   ],
   "source": [
    "missing_df[missing_df['imdb_id'] == 'tt0388629']"
   ]
  },
  {
   "cell_type": "code",
   "execution_count": 133,
   "metadata": {},
   "outputs": [
    {
     "data": {
      "text/html": [
       "<div>\n",
       "<style scoped>\n",
       "    .dataframe tbody tr th:only-of-type {\n",
       "        vertical-align: middle;\n",
       "    }\n",
       "\n",
       "    .dataframe tbody tr th {\n",
       "        vertical-align: top;\n",
       "    }\n",
       "\n",
       "    .dataframe thead th {\n",
       "        text-align: right;\n",
       "    }\n",
       "</style>\n",
       "<table border=\"1\" class=\"dataframe\">\n",
       "  <thead>\n",
       "    <tr style=\"text-align: right;\">\n",
       "      <th></th>\n",
       "      <th>imdb_id</th>\n",
       "      <th>Title</th>\n",
       "    </tr>\n",
       "  </thead>\n",
       "  <tbody>\n",
       "    <tr>\n",
       "      <th>87</th>\n",
       "      <td>tt8230420</td>\n",
       "      <td>暗殺教室 episode:0 出会いの時間</td>\n",
       "    </tr>\n",
       "    <tr>\n",
       "      <th>127</th>\n",
       "      <td>tt0381895</td>\n",
       "      <td>あずまんが大王（劇場短編）</td>\n",
       "    </tr>\n",
       "    <tr>\n",
       "      <th>154</th>\n",
       "      <td>tt8160050</td>\n",
       "      <td>BE-BOY KIDNAPP'N IDOL</td>\n",
       "    </tr>\n",
       "    <tr>\n",
       "      <th>170</th>\n",
       "      <td>tt9843368</td>\n",
       "      <td>バイオハザード4 Incubate</td>\n",
       "    </tr>\n",
       "    <tr>\n",
       "      <th>190</th>\n",
       "      <td>tt5249462</td>\n",
       "      <td>僕だけがいない街</td>\n",
       "    </tr>\n",
       "    <tr>\n",
       "      <th>...</th>\n",
       "      <td>...</td>\n",
       "      <td>...</td>\n",
       "    </tr>\n",
       "    <tr>\n",
       "      <th>5824</th>\n",
       "      <td>tt1933701</td>\n",
       "      <td>Babel nisei</td>\n",
       "    </tr>\n",
       "    <tr>\n",
       "      <th>5832</th>\n",
       "      <td>tt0293728</td>\n",
       "      <td>King Kong</td>\n",
       "    </tr>\n",
       "    <tr>\n",
       "      <th>5835</th>\n",
       "      <td>tt0056739</td>\n",
       "      <td>Astro Boy</td>\n",
       "    </tr>\n",
       "    <tr>\n",
       "      <th>5836</th>\n",
       "      <td>tt0142908</td>\n",
       "      <td>Tetsujin nijûhachi-go</td>\n",
       "    </tr>\n",
       "    <tr>\n",
       "      <th>5838</th>\n",
       "      <td>tt0440544</td>\n",
       "      <td>Kitsune no homerun-ô</td>\n",
       "    </tr>\n",
       "  </tbody>\n",
       "</table>\n",
       "<p>360 rows × 2 columns</p>\n",
       "</div>"
      ],
      "text/plain": [
       "        imdb_id                  Title\n",
       "87    tt8230420  暗殺教室 episode:0 出会いの時間\n",
       "127   tt0381895          あずまんが大王（劇場短編）\n",
       "154   tt8160050  BE-BOY KIDNAPP'N IDOL\n",
       "170   tt9843368      バイオハザード4 Incubate\n",
       "190   tt5249462               僕だけがいない街\n",
       "...         ...                    ...\n",
       "5824  tt1933701            Babel nisei\n",
       "5832  tt0293728              King Kong\n",
       "5835  tt0056739              Astro Boy\n",
       "5836  tt0142908  Tetsujin nijûhachi-go\n",
       "5838  tt0440544   Kitsune no homerun-ô\n",
       "\n",
       "[360 rows x 2 columns]"
      ]
     },
     "execution_count": 133,
     "metadata": {},
     "output_type": "execute_result"
    }
   ],
   "source": [
    "missing_df.drop_duplicates(subset = 'imdb_id')"
   ]
  },
  {
   "cell_type": "code",
   "execution_count": 165,
   "metadata": {},
   "outputs": [],
   "source": [
    "test_text = filtered_df_wiki2['Content'][223]"
   ]
  },
  {
   "cell_type": "code",
   "execution_count": 166,
   "metadata": {},
   "outputs": [],
   "source": [
    "# Define the regular expression pattern\n",
    "pattern = r'^.*?\\n\\n\\n(.*?)\\n\\n\\n'\n",
    "\n",
    "# Find the match\n",
    "match = re.search(pattern, test_text, re.DOTALL)"
   ]
  },
  {
   "cell_type": "code",
   "execution_count": 167,
   "metadata": {},
   "outputs": [
    {
     "name": "stdout",
     "output_type": "stream",
     "text": [
      "Cat's Eye (Japanese: キャッツ♥アイ, Hepburn: Kyattsu Ai, stylized as CAT'S♥EYE) is a Japanese manga series written and illustrated by Tsukasa Hojo. It was serialized in Shueisha's shōnen manga magazine Weekly Shōnen Jump from 1981 to 1985, with its chapters collected into 18 tankōbon. The story follows the adventures of the three Kisugi sisters — Hitomi, Rui and Ai, who are formidable art thieves trying to collect all the works belonging to their missing father.\n",
      "The manga was made into a televised anime series of the same name originally broadcast in 1983 to 1984 on Nippon TV, with a second season ending in 1985. It has also received two live-action adaptations; a TV movie in 1988 and a theatrical film in 1997. A crossover ONA with Lupin III that TMS Entertainment produced, premiered on Amazon Prime Video in 2023.\n",
      "Cat's Eye is one of Weekly Shōnen Jump's best-selling manga series of all time, with over 20 million copies sold, making it one of the best-selling manga series.\n",
      "\n",
      "\n",
      "== Plot ==\n",
      "Hitomi Kisugi, along with her older sister Rui and her younger sister Ai, run a café called \"Cat's Eye\" in Tokyo. The sisters lead a double life as a trio of highly skilled art thieves, stealing works of art which primarily belonged to their long-missing father, Michael Heinz, who was a famous art collector during the Nazi regime. Hitomi's fiancé is Toshio Utsumi, a clumsy young police officer who is investigating the Cat's Eye case. Despite being a frequent visitor to the café he is unaware of the double life of the girls. Hitomi regularly informs the police in advance about her next job using a signature \"Cat's Eye\" calling card, and then uses Toshio's research about the security surrounding the target to help plan the job.\n",
      "At the end of the series, Heinz leaves a note for his daughters stating that he cannot reveal himself yet because the mafia may kill him, but he may appear in five years' time. However, the \"Heinz\" turns out to be the sisters' treacherous uncle Cranaff, who betrayed Michael years earlier. After losing a final bet to Cat's Eye, Cranaff decides to atone for his sin by setting fire to the museum, killing himself. Hitomi eventually admits to Toshio that she is part of Cat's Eye and flees before he can arrest her. Toshio vows to track her down, attempting to \"arrest\" Hitomi at the airport with a wedding ring. He resigns from the police force and travels to America to find Hitomi, but finds that she has lost her memory due to viral meningitis. Toshio spends time with her until her memories come back, and the two rekindle their relationship.\n",
      "\n",
      "\n",
      "\n"
     ]
    }
   ],
   "source": [
    "print(match.group(0))"
   ]
  },
  {
   "cell_type": "code",
   "execution_count": 174,
   "metadata": {},
   "outputs": [],
   "source": [
    "filtered_df_wiki2['match'] = filtered_df_wiki2['Content'].apply(lambda x: re.search(pattern, x, re.DOTALL))"
   ]
  },
  {
   "cell_type": "code",
   "execution_count": 181,
   "metadata": {},
   "outputs": [],
   "source": [
    "filtered_df_wiki2['plot'] = filtered_df_wiki2['match'].apply(lambda x: x.group(0)if x else \"None\")"
   ]
  },
  {
   "cell_type": "code",
   "execution_count": 197,
   "metadata": {},
   "outputs": [],
   "source": [
    "join1 = filtered_df_wiki2[filtered_df_wiki2['plot'] != 'None'][['index','plot']]"
   ]
  },
  {
   "cell_type": "code",
   "execution_count": 222,
   "metadata": {},
   "outputs": [],
   "source": [
    "fin_df  = df_joined.merge(join1, left_on = 'imdb_title_titleId', right_on = 'index', how = 'left')"
   ]
  },
  {
   "cell_type": "code",
   "execution_count": 223,
   "metadata": {},
   "outputs": [
    {
     "data": {
      "text/plain": [
       "Index(['imdb_scrape_imdb_id', 'imdb_title_attributes',\n",
       "       'imdb_title_isOriginalTitle', 'imdb_title_language',\n",
       "       'imdb_title_ordering', 'imdb_title_region', 'imdb_title_title',\n",
       "       'imdb_title_titleId', 'imdb_title_types', 'anime_Aired',\n",
       "       'anime_Duration', 'anime_English name', 'anime_Episodes',\n",
       "       'anime_Favorites', 'anime_Genres', 'anime_Image URL', 'anime_Licensors',\n",
       "       'anime_Members', 'anime_Name', 'anime_Other name', 'anime_Popularity',\n",
       "       'anime_Premiered', 'anime_Producers', 'anime_Rank', 'anime_Rating',\n",
       "       'anime_Score', 'anime_Scored By', 'anime_Source', 'anime_Status',\n",
       "       'anime_Studios', 'anime_Synopsis', 'anime_Type', 'anime_anime_id',\n",
       "       'imdb_principals_tconst', 'imdb_name_basics_primaryName', 'index',\n",
       "       'plot'],\n",
       "      dtype='object')"
      ]
     },
     "execution_count": 223,
     "metadata": {},
     "output_type": "execute_result"
    }
   ],
   "source": [
    "fin_df.columns"
   ]
  },
  {
   "cell_type": "code",
   "execution_count": 224,
   "metadata": {},
   "outputs": [],
   "source": [
    "fin_df = fin_df[['imdb_title_title',\n",
    "       'imdb_title_titleId', 'anime_Aired',\n",
    "       'anime_Duration', 'anime_English name', 'anime_Genres', 'anime_Image URL', 'anime_Licensors',\n",
    "       'anime_Members', 'anime_Name', 'anime_Other name', 'anime_Producers', 'anime_Rating',\n",
    "       'anime_Score', \n",
    "       'anime_Studios', 'anime_Synopsis', 'anime_anime_id', 'imdb_name_basics_primaryName', \n",
    "       'plot']].reset_index(drop = True)"
   ]
  },
  {
   "cell_type": "code",
   "execution_count": 225,
   "metadata": {},
   "outputs": [],
   "source": [
    "fin_df2 = df_addon.merge(join1, left_on = 'imdb_id', right_on = 'index', how = 'left')"
   ]
  },
  {
   "cell_type": "code",
   "execution_count": 266,
   "metadata": {},
   "outputs": [],
   "source": [
    "final_df = fin_df.merge(df_imdb[['keywords', 'imdb_id', 'image', 'description']].reset_index(drop = True), left_on = 'imdb_title_titleId', right_on = 'imdb_id', how = 'left').drop_duplicates(subset =['imdb_title_title', 'anime_anime_id']).reset_index(drop = True)"
   ]
  },
  {
   "cell_type": "code",
   "execution_count": 269,
   "metadata": {},
   "outputs": [],
   "source": [
    "final_df['text'] = final_df['plot'].fillna('description')"
   ]
  },
  {
   "cell_type": "code",
   "execution_count": 278,
   "metadata": {},
   "outputs": [
    {
     "data": {
      "text/html": [
       "<div>\n",
       "<style scoped>\n",
       "    .dataframe tbody tr th:only-of-type {\n",
       "        vertical-align: middle;\n",
       "    }\n",
       "\n",
       "    .dataframe tbody tr th {\n",
       "        vertical-align: top;\n",
       "    }\n",
       "\n",
       "    .dataframe thead th {\n",
       "        text-align: right;\n",
       "    }\n",
       "</style>\n",
       "<table border=\"1\" class=\"dataframe\">\n",
       "  <thead>\n",
       "    <tr style=\"text-align: right;\">\n",
       "      <th></th>\n",
       "      <th>imdb_title_title</th>\n",
       "      <th>imdb_title_titleId</th>\n",
       "      <th>anime_Aired</th>\n",
       "      <th>anime_Duration</th>\n",
       "      <th>anime_English name</th>\n",
       "      <th>anime_Genres</th>\n",
       "      <th>anime_Image URL</th>\n",
       "      <th>anime_Licensors</th>\n",
       "      <th>anime_Members</th>\n",
       "      <th>anime_Name</th>\n",
       "      <th>anime_Other name</th>\n",
       "      <th>anime_Producers</th>\n",
       "      <th>anime_Rating</th>\n",
       "      <th>anime_Score</th>\n",
       "      <th>anime_Studios</th>\n",
       "      <th>anime_Synopsis</th>\n",
       "      <th>anime_anime_id</th>\n",
       "      <th>imdb_name_basics_primaryName</th>\n",
       "      <th>plot</th>\n",
       "      <th>keywords</th>\n",
       "      <th>imdb_id</th>\n",
       "      <th>image</th>\n",
       "      <th>description</th>\n",
       "      <th>text</th>\n",
       "    </tr>\n",
       "  </thead>\n",
       "  <tbody>\n",
       "    <tr>\n",
       "      <th>0</th>\n",
       "      <td>【推しの子】</td>\n",
       "      <td>tt21030032</td>\n",
       "      <td>None</td>\n",
       "      <td>None</td>\n",
       "      <td>[Oshi No Ko]</td>\n",
       "      <td>Drama, Supernatural</td>\n",
       "      <td>None</td>\n",
       "      <td>None</td>\n",
       "      <td>NaN</td>\n",
       "      <td>\\Oshi no Ko\\\"\"</td>\n",
       "      <td>【推しの子】</td>\n",
       "      <td>None</td>\n",
       "      <td>None</td>\n",
       "      <td>8.98</td>\n",
       "      <td>None</td>\n",
       "      <td>In the entertainment world, celebrities often ...</td>\n",
       "      <td>52034.0</td>\n",
       "      <td>Natalie Rial, Christina Marie Kelly, Takeo Ots...</td>\n",
       "      <td>Oshi no Ko (【推しの子】, \"My Favorite Idol\" or \"The...</td>\n",
       "      <td>idol,anime animation,based on manga,singer,per...</td>\n",
       "      <td>tt21030032</td>\n",
       "      <td>https://m.media-amazon.com/images/M/MV5BYWFkZD...</td>\n",
       "      <td>A doctor and his recently-deceased patient are...</td>\n",
       "      <td>Oshi no Ko (【推しの子】, \"My Favorite Idol\" or \"The...</td>\n",
       "    </tr>\n",
       "    <tr>\n",
       "      <th>1</th>\n",
       "      <td>.hack//G.U. Returner</td>\n",
       "      <td>tt1343075</td>\n",
       "      <td>None</td>\n",
       "      <td>None</td>\n",
       "      <td>UNKNOWN</td>\n",
       "      <td>Adventure, Drama, Fantasy</td>\n",
       "      <td>None</td>\n",
       "      <td>None</td>\n",
       "      <td>NaN</td>\n",
       "      <td>.hack//G.U. Returner</td>\n",
       "      <td>.HACK//G.U. RETURNER</td>\n",
       "      <td>None</td>\n",
       "      <td>None</td>\n",
       "      <td>6.67</td>\n",
       "      <td>None</td>\n",
       "      <td>The characters from previous .hack//G.U. Games...</td>\n",
       "      <td>2928.0</td>\n",
       "      <td>Kaori Nazuka, Ayako Kawasumi, Takahiro Sakurai...</td>\n",
       "      <td>.hack//G.U. is a series of single-player actio...</td>\n",
       "      <td>.hack</td>\n",
       "      <td>tt1343075</td>\n",
       "      <td>https://m.media-amazon.com/images/M/MV5BYjViMD...</td>\n",
       "      <td>The characters from previous .hack//G.U. Games...</td>\n",
       "      <td>.hack//G.U. is a series of single-player actio...</td>\n",
       "    </tr>\n",
       "    <tr>\n",
       "      <th>2</th>\n",
       "      <td>.hack//G.U. Trilogy</td>\n",
       "      <td>tt1164545</td>\n",
       "      <td>None</td>\n",
       "      <td>None</td>\n",
       "      <td>.hack//G.U. Trilogy: Parody Mode</td>\n",
       "      <td>Comedy, Fantasy, Sci-Fi</td>\n",
       "      <td>None</td>\n",
       "      <td>None</td>\n",
       "      <td>NaN</td>\n",
       "      <td>.hack//G.U. Trilogy: Parody Mode</td>\n",
       "      <td>.hack//G.U. Trilogy</td>\n",
       "      <td>None</td>\n",
       "      <td>None</td>\n",
       "      <td>6.36</td>\n",
       "      <td>None</td>\n",
       "      <td>A special bonus Parody Mode added to the extra...</td>\n",
       "      <td>4469.0</td>\n",
       "      <td>Hiroshi Matsuyama, Ayako Kawasumi, Saeko Hirot...</td>\n",
       "      <td>.hack//G.U. Trilogy (Japanese: ドットハック G.U. Tri...</td>\n",
       "      <td>.hack</td>\n",
       "      <td>tt1164545</td>\n",
       "      <td>https://m.media-amazon.com/images/M/MV5BODU4Nz...</td>\n",
       "      <td>After one of his friends falls into a coma pla...</td>\n",
       "      <td>.hack//G.U. Trilogy (Japanese: ドットハック G.U. Tri...</td>\n",
       "    </tr>\n",
       "    <tr>\n",
       "      <th>3</th>\n",
       "      <td>.hack//GIFT</td>\n",
       "      <td>tt0823406</td>\n",
       "      <td>Nov 16, 2003</td>\n",
       "      <td>26 min</td>\n",
       "      <td>.hack//Gift</td>\n",
       "      <td>Comedy, Fantasy</td>\n",
       "      <td>https://cdn.myanimelist.net/images/anime/2/230...</td>\n",
       "      <td>Bandai Entertainment</td>\n",
       "      <td>20567.0</td>\n",
       "      <td>.hack//Gift</td>\n",
       "      <td>.hack//GIFT</td>\n",
       "      <td>CyberConnect2</td>\n",
       "      <td>R+ - Mild Nudity</td>\n",
       "      <td>6.1</td>\n",
       "      <td>Bee Train</td>\n",
       "      <td>As an expression of gratitude for the heroes o...</td>\n",
       "      <td>454.0</td>\n",
       "      <td>Isshin Chiba, Shin'ya Kawatsura, Sayaka Aida, ...</td>\n",
       "      <td>This is a list of media related to the .hack m...</td>\n",
       "      <td>anime animation,parody comedy,spoof,hot spring...</td>\n",
       "      <td>tt0823406</td>\n",
       "      <td>https://m.media-amazon.com/images/M/MV5BNjUwMT...</td>\n",
       "      <td>Helba has prepared a special hot springs for s...</td>\n",
       "      <td>This is a list of media related to the .hack m...</td>\n",
       "    </tr>\n",
       "    <tr>\n",
       "      <th>4</th>\n",
       "      <td>.hack//SIGN</td>\n",
       "      <td>tt0361140</td>\n",
       "      <td>None</td>\n",
       "      <td>None</td>\n",
       "      <td>.hack//Sign</td>\n",
       "      <td>Adventure, Fantasy, Mystery</td>\n",
       "      <td>None</td>\n",
       "      <td>None</td>\n",
       "      <td>NaN</td>\n",
       "      <td>.hack//Sign</td>\n",
       "      <td>.hack//SIGN</td>\n",
       "      <td>None</td>\n",
       "      <td>None</td>\n",
       "      <td>6.95</td>\n",
       "      <td>None</td>\n",
       "      <td>A young wavemaster, only known by the alias of...</td>\n",
       "      <td>48.0</td>\n",
       "      <td>Amanda Winn Lee, Kaori Nazuka, Donna Rawlins, ...</td>\n",
       "      <td>.hack//Sign (stylized as .hack//SIGN) is a Jap...</td>\n",
       "      <td>isekai,anime animation,female nudity,multiplay...</td>\n",
       "      <td>tt0361140</td>\n",
       "      <td>https://m.media-amazon.com/images/M/MV5BOTE5YW...</td>\n",
       "      <td>A strange boy named Tsukasa appears in the onl...</td>\n",
       "      <td>.hack//Sign (stylized as .hack//SIGN) is a Jap...</td>\n",
       "    </tr>\n",
       "    <tr>\n",
       "      <th>...</th>\n",
       "      <td>...</td>\n",
       "      <td>...</td>\n",
       "      <td>...</td>\n",
       "      <td>...</td>\n",
       "      <td>...</td>\n",
       "      <td>...</td>\n",
       "      <td>...</td>\n",
       "      <td>...</td>\n",
       "      <td>...</td>\n",
       "      <td>...</td>\n",
       "      <td>...</td>\n",
       "      <td>...</td>\n",
       "      <td>...</td>\n",
       "      <td>...</td>\n",
       "      <td>...</td>\n",
       "      <td>...</td>\n",
       "      <td>...</td>\n",
       "      <td>...</td>\n",
       "      <td>...</td>\n",
       "      <td>...</td>\n",
       "      <td>...</td>\n",
       "      <td>...</td>\n",
       "      <td>...</td>\n",
       "      <td>...</td>\n",
       "    </tr>\n",
       "    <tr>\n",
       "      <th>5177</th>\n",
       "      <td>I've Always Liked You</td>\n",
       "      <td>tt5889338</td>\n",
       "      <td>None</td>\n",
       "      <td>None</td>\n",
       "      <td>I've Always Liked You</td>\n",
       "      <td>Romance</td>\n",
       "      <td>None</td>\n",
       "      <td>None</td>\n",
       "      <td>NaN</td>\n",
       "      <td>Zutto Mae kara Suki deshita. Kokuhaku Jikkou I...</td>\n",
       "      <td>ずっと前から好きでした。～告白実行委員会～</td>\n",
       "      <td>None</td>\n",
       "      <td>None</td>\n",
       "      <td>7.22</td>\n",
       "      <td>None</td>\n",
       "      <td>Love is blooming at Sakuragaoka High School. N...</td>\n",
       "      <td>31245.0</td>\n",
       "      <td>Kana Asumi, Gero, Yoshimi Narita, Momo Asakura...</td>\n",
       "      <td>Zutto Mae Kara Suki Deshita: Kokuhaku Jikkō Ii...</td>\n",
       "      <td>love,anime animation</td>\n",
       "      <td>tt5889338</td>\n",
       "      <td>https://m.media-amazon.com/images/M/MV5BOTcxNz...</td>\n",
       "      <td>A girl finally confessed her love, but she ret...</td>\n",
       "      <td>Zutto Mae Kara Suki Deshita: Kokuhaku Jikkō Ii...</td>\n",
       "    </tr>\n",
       "    <tr>\n",
       "      <th>5178</th>\n",
       "      <td>エクスドライバー Nina&amp;Rei Danger Zone</td>\n",
       "      <td>tt1086281</td>\n",
       "      <td>None</td>\n",
       "      <td>None</td>\n",
       "      <td>UNKNOWN</td>\n",
       "      <td>Action, Sci-Fi</td>\n",
       "      <td>None</td>\n",
       "      <td>None</td>\n",
       "      <td>NaN</td>\n",
       "      <td>eX-Driver: Nina &amp; Rei Danger Zone</td>\n",
       "      <td>エクスドライバー Nina&amp;Rei Danger Zone</td>\n",
       "      <td>None</td>\n",
       "      <td>None</td>\n",
       "      <td>6.39</td>\n",
       "      <td>None</td>\n",
       "      <td>The story takes place on a world 100 years in ...</td>\n",
       "      <td>1733.0</td>\n",
       "      <td>Wataru Tanaka, Michiko Neya, Mami Kingetsu, Kô...</td>\n",
       "      <td>éX-Driver (エクスドライバー, Ekusudoraibā) is an anime...</td>\n",
       "      <td>female pedal pumping</td>\n",
       "      <td>tt1086281</td>\n",
       "      <td>https://m.media-amazon.com/images/M/MV5BZDlkOD...</td>\n",
       "      <td>A mysterious Mini-Ai-Car is terrorizing the ci...</td>\n",
       "      <td>éX-Driver (エクスドライバー, Ekusudoraibā) is an anime...</td>\n",
       "    </tr>\n",
       "    <tr>\n",
       "      <th>5179</th>\n",
       "      <td>スクライド</td>\n",
       "      <td>tt0307427</td>\n",
       "      <td>None</td>\n",
       "      <td>None</td>\n",
       "      <td>s-CRY-ed</td>\n",
       "      <td>Action, Adventure, Drama, Sci-Fi</td>\n",
       "      <td>None</td>\n",
       "      <td>None</td>\n",
       "      <td>NaN</td>\n",
       "      <td>s.CRY.ed</td>\n",
       "      <td>スクライド</td>\n",
       "      <td>None</td>\n",
       "      <td>None</td>\n",
       "      <td>7.36</td>\n",
       "      <td>None</td>\n",
       "      <td>A strange environmental phenomenon 22 years ag...</td>\n",
       "      <td>168.0</td>\n",
       "      <td>Lex Lang, Jamieson Price, Dave Wittenberg, Cri...</td>\n",
       "      <td>s-CRY-ed (Japanese: スクライド, Hepburn: Sukuraido)...</td>\n",
       "      <td>superpower,post apocalypse,fight,powers,blue hair</td>\n",
       "      <td>tt0307427</td>\n",
       "      <td>https://m.media-amazon.com/images/M/MV5BNmIxNj...</td>\n",
       "      <td>22 years ago, a bizarre uprising occurred in J...</td>\n",
       "      <td>s-CRY-ed (Japanese: スクライド, Hepburn: Sukuraido)...</td>\n",
       "    </tr>\n",
       "    <tr>\n",
       "      <th>5180</th>\n",
       "      <td>xxxHOLiC</td>\n",
       "      <td>tt0488477</td>\n",
       "      <td>Apr 7, 2006 to Sep 29, 2006</td>\n",
       "      <td>24 min per ep</td>\n",
       "      <td>xxxHOLiC</td>\n",
       "      <td>Comedy, Drama, Mystery, Supernatural</td>\n",
       "      <td>https://cdn.myanimelist.net/images/anime/5/218...</td>\n",
       "      <td>Funimation</td>\n",
       "      <td>309356.0</td>\n",
       "      <td>xxxHOLiC</td>\n",
       "      <td>×××HOLiC（ホリック）</td>\n",
       "      <td>TBS, BMG Japan, Kids Station, Kodansha, Movic</td>\n",
       "      <td>PG-13 - Teens 13 or older</td>\n",
       "      <td>7.98</td>\n",
       "      <td>Production I.G</td>\n",
       "      <td>Kimihiro Watanuki can see spirits and other as...</td>\n",
       "      <td>861.0</td>\n",
       "      <td>Shizuka Itou, Hisayo Mochizuki, Colleen Clinke...</td>\n",
       "      <td>xxxHolic (stylized as ×××HOLiC; pronounced \"Ho...</td>\n",
       "      <td>isekai,japan,anime animation,based on manga,ba...</td>\n",
       "      <td>tt0488477</td>\n",
       "      <td>https://m.media-amazon.com/images/M/MV5BNTE5Mj...</td>\n",
       "      <td>Kimihiro Watanuki, a high-schooler, is trouble...</td>\n",
       "      <td>xxxHolic (stylized as ×××HOLiC; pronounced \"Ho...</td>\n",
       "    </tr>\n",
       "    <tr>\n",
       "      <th>5181</th>\n",
       "      <td>elDLIVE</td>\n",
       "      <td>tt6543300</td>\n",
       "      <td>Jan 8, 2017 to Mar 26, 2017</td>\n",
       "      <td>24 min per ep</td>\n",
       "      <td>elDLIVE</td>\n",
       "      <td>Action, Sci-Fi</td>\n",
       "      <td>https://cdn.myanimelist.net/images/anime/8/823...</td>\n",
       "      <td>Funimation, Crunchyroll</td>\n",
       "      <td>47502.0</td>\n",
       "      <td>ēlDLIVE</td>\n",
       "      <td>エルドライブ 【ēlDLIVE】</td>\n",
       "      <td>Yomiuri Telecasting, d-rights, Half H.P Studio...</td>\n",
       "      <td>PG-13 - Teens 13 or older</td>\n",
       "      <td>6.1</td>\n",
       "      <td>Pierrot</td>\n",
       "      <td>Chuuta Kokonose is an orphan who lives with hi...</td>\n",
       "      <td>32878.0</td>\n",
       "      <td>Apphia Yu, Lara Woodhull, Dawn M. Bennett, Mor...</td>\n",
       "      <td>Ēldlive (Japanese: エルドライブ, Hepburn: Erudoraibu...</td>\n",
       "      <td>police,female frontal nudity,female nudity,fem...</td>\n",
       "      <td>tt6543300</td>\n",
       "      <td>https://m.media-amazon.com/images/M/MV5BNjUyNW...</td>\n",
       "      <td>Chuuta Kokonose has been hearing voices in his...</td>\n",
       "      <td>Ēldlive (Japanese: エルドライブ, Hepburn: Erudoraibu...</td>\n",
       "    </tr>\n",
       "  </tbody>\n",
       "</table>\n",
       "<p>5182 rows × 24 columns</p>\n",
       "</div>"
      ],
      "text/plain": [
       "                   imdb_title_title imdb_title_titleId  \\\n",
       "0                            【推しの子】         tt21030032   \n",
       "1              .hack//G.U. Returner          tt1343075   \n",
       "2               .hack//G.U. Trilogy          tt1164545   \n",
       "3                       .hack//GIFT          tt0823406   \n",
       "4                       .hack//SIGN          tt0361140   \n",
       "...                             ...                ...   \n",
       "5177          I've Always Liked You          tt5889338   \n",
       "5178  エクスドライバー Nina&Rei Danger Zone          tt1086281   \n",
       "5179                          スクライド          tt0307427   \n",
       "5180                       xxxHOLiC          tt0488477   \n",
       "5181                        elDLIVE          tt6543300   \n",
       "\n",
       "                      anime_Aired anime_Duration  \\\n",
       "0                            None           None   \n",
       "1                            None           None   \n",
       "2                            None           None   \n",
       "3                    Nov 16, 2003         26 min   \n",
       "4                            None           None   \n",
       "...                           ...            ...   \n",
       "5177                         None           None   \n",
       "5178                         None           None   \n",
       "5179                         None           None   \n",
       "5180  Apr 7, 2006 to Sep 29, 2006  24 min per ep   \n",
       "5181  Jan 8, 2017 to Mar 26, 2017  24 min per ep   \n",
       "\n",
       "                    anime_English name                          anime_Genres  \\\n",
       "0                         [Oshi No Ko]                   Drama, Supernatural   \n",
       "1                              UNKNOWN             Adventure, Drama, Fantasy   \n",
       "2     .hack//G.U. Trilogy: Parody Mode               Comedy, Fantasy, Sci-Fi   \n",
       "3                          .hack//Gift                       Comedy, Fantasy   \n",
       "4                          .hack//Sign           Adventure, Fantasy, Mystery   \n",
       "...                                ...                                   ...   \n",
       "5177             I've Always Liked You                               Romance   \n",
       "5178                           UNKNOWN                        Action, Sci-Fi   \n",
       "5179                          s-CRY-ed      Action, Adventure, Drama, Sci-Fi   \n",
       "5180                          xxxHOLiC  Comedy, Drama, Mystery, Supernatural   \n",
       "5181                           elDLIVE                        Action, Sci-Fi   \n",
       "\n",
       "                                        anime_Image URL  \\\n",
       "0                                                  None   \n",
       "1                                                  None   \n",
       "2                                                  None   \n",
       "3     https://cdn.myanimelist.net/images/anime/2/230...   \n",
       "4                                                  None   \n",
       "...                                                 ...   \n",
       "5177                                               None   \n",
       "5178                                               None   \n",
       "5179                                               None   \n",
       "5180  https://cdn.myanimelist.net/images/anime/5/218...   \n",
       "5181  https://cdn.myanimelist.net/images/anime/8/823...   \n",
       "\n",
       "              anime_Licensors  anime_Members  \\\n",
       "0                        None            NaN   \n",
       "1                        None            NaN   \n",
       "2                        None            NaN   \n",
       "3        Bandai Entertainment        20567.0   \n",
       "4                        None            NaN   \n",
       "...                       ...            ...   \n",
       "5177                     None            NaN   \n",
       "5178                     None            NaN   \n",
       "5179                     None            NaN   \n",
       "5180               Funimation       309356.0   \n",
       "5181  Funimation, Crunchyroll        47502.0   \n",
       "\n",
       "                                             anime_Name  \\\n",
       "0                                        \\Oshi no Ko\\\"\"   \n",
       "1                                  .hack//G.U. Returner   \n",
       "2                      .hack//G.U. Trilogy: Parody Mode   \n",
       "3                                           .hack//Gift   \n",
       "4                                           .hack//Sign   \n",
       "...                                                 ...   \n",
       "5177  Zutto Mae kara Suki deshita. Kokuhaku Jikkou I...   \n",
       "5178                  eX-Driver: Nina & Rei Danger Zone   \n",
       "5179                                           s.CRY.ed   \n",
       "5180                                           xxxHOLiC   \n",
       "5181                                            ēlDLIVE   \n",
       "\n",
       "                   anime_Other name  \\\n",
       "0                            【推しの子】   \n",
       "1              .HACK//G.U. RETURNER   \n",
       "2               .hack//G.U. Trilogy   \n",
       "3                       .hack//GIFT   \n",
       "4                       .hack//SIGN   \n",
       "...                             ...   \n",
       "5177          ずっと前から好きでした。～告白実行委員会～   \n",
       "5178  エクスドライバー Nina&Rei Danger Zone   \n",
       "5179                          スクライド   \n",
       "5180                 ×××HOLiC（ホリック）   \n",
       "5181               エルドライブ 【ēlDLIVE】   \n",
       "\n",
       "                                        anime_Producers  \\\n",
       "0                                                  None   \n",
       "1                                                  None   \n",
       "2                                                  None   \n",
       "3                                         CyberConnect2   \n",
       "4                                                  None   \n",
       "...                                                 ...   \n",
       "5177                                               None   \n",
       "5178                                               None   \n",
       "5179                                               None   \n",
       "5180      TBS, BMG Japan, Kids Station, Kodansha, Movic   \n",
       "5181  Yomiuri Telecasting, d-rights, Half H.P Studio...   \n",
       "\n",
       "                   anime_Rating anime_Score   anime_Studios  \\\n",
       "0                          None        8.98            None   \n",
       "1                          None        6.67            None   \n",
       "2                          None        6.36            None   \n",
       "3              R+ - Mild Nudity         6.1       Bee Train   \n",
       "4                          None        6.95            None   \n",
       "...                         ...         ...             ...   \n",
       "5177                       None        7.22            None   \n",
       "5178                       None        6.39            None   \n",
       "5179                       None        7.36            None   \n",
       "5180  PG-13 - Teens 13 or older        7.98  Production I.G   \n",
       "5181  PG-13 - Teens 13 or older         6.1         Pierrot   \n",
       "\n",
       "                                         anime_Synopsis anime_anime_id  \\\n",
       "0     In the entertainment world, celebrities often ...        52034.0   \n",
       "1     The characters from previous .hack//G.U. Games...         2928.0   \n",
       "2     A special bonus Parody Mode added to the extra...         4469.0   \n",
       "3     As an expression of gratitude for the heroes o...          454.0   \n",
       "4     A young wavemaster, only known by the alias of...           48.0   \n",
       "...                                                 ...            ...   \n",
       "5177  Love is blooming at Sakuragaoka High School. N...        31245.0   \n",
       "5178  The story takes place on a world 100 years in ...         1733.0   \n",
       "5179  A strange environmental phenomenon 22 years ag...          168.0   \n",
       "5180  Kimihiro Watanuki can see spirits and other as...          861.0   \n",
       "5181  Chuuta Kokonose is an orphan who lives with hi...        32878.0   \n",
       "\n",
       "                           imdb_name_basics_primaryName  \\\n",
       "0     Natalie Rial, Christina Marie Kelly, Takeo Ots...   \n",
       "1     Kaori Nazuka, Ayako Kawasumi, Takahiro Sakurai...   \n",
       "2     Hiroshi Matsuyama, Ayako Kawasumi, Saeko Hirot...   \n",
       "3     Isshin Chiba, Shin'ya Kawatsura, Sayaka Aida, ...   \n",
       "4     Amanda Winn Lee, Kaori Nazuka, Donna Rawlins, ...   \n",
       "...                                                 ...   \n",
       "5177  Kana Asumi, Gero, Yoshimi Narita, Momo Asakura...   \n",
       "5178  Wataru Tanaka, Michiko Neya, Mami Kingetsu, Kô...   \n",
       "5179  Lex Lang, Jamieson Price, Dave Wittenberg, Cri...   \n",
       "5180  Shizuka Itou, Hisayo Mochizuki, Colleen Clinke...   \n",
       "5181  Apphia Yu, Lara Woodhull, Dawn M. Bennett, Mor...   \n",
       "\n",
       "                                                   plot  \\\n",
       "0     Oshi no Ko (【推しの子】, \"My Favorite Idol\" or \"The...   \n",
       "1     .hack//G.U. is a series of single-player actio...   \n",
       "2     .hack//G.U. Trilogy (Japanese: ドットハック G.U. Tri...   \n",
       "3     This is a list of media related to the .hack m...   \n",
       "4     .hack//Sign (stylized as .hack//SIGN) is a Jap...   \n",
       "...                                                 ...   \n",
       "5177  Zutto Mae Kara Suki Deshita: Kokuhaku Jikkō Ii...   \n",
       "5178  éX-Driver (エクスドライバー, Ekusudoraibā) is an anime...   \n",
       "5179  s-CRY-ed (Japanese: スクライド, Hepburn: Sukuraido)...   \n",
       "5180  xxxHolic (stylized as ×××HOLiC; pronounced \"Ho...   \n",
       "5181  Ēldlive (Japanese: エルドライブ, Hepburn: Erudoraibu...   \n",
       "\n",
       "                                               keywords     imdb_id  \\\n",
       "0     idol,anime animation,based on manga,singer,per...  tt21030032   \n",
       "1                                                 .hack   tt1343075   \n",
       "2                                                 .hack   tt1164545   \n",
       "3     anime animation,parody comedy,spoof,hot spring...   tt0823406   \n",
       "4     isekai,anime animation,female nudity,multiplay...   tt0361140   \n",
       "...                                                 ...         ...   \n",
       "5177                               love,anime animation   tt5889338   \n",
       "5178                               female pedal pumping   tt1086281   \n",
       "5179  superpower,post apocalypse,fight,powers,blue hair   tt0307427   \n",
       "5180  isekai,japan,anime animation,based on manga,ba...   tt0488477   \n",
       "5181  police,female frontal nudity,female nudity,fem...   tt6543300   \n",
       "\n",
       "                                                  image  \\\n",
       "0     https://m.media-amazon.com/images/M/MV5BYWFkZD...   \n",
       "1     https://m.media-amazon.com/images/M/MV5BYjViMD...   \n",
       "2     https://m.media-amazon.com/images/M/MV5BODU4Nz...   \n",
       "3     https://m.media-amazon.com/images/M/MV5BNjUwMT...   \n",
       "4     https://m.media-amazon.com/images/M/MV5BOTE5YW...   \n",
       "...                                                 ...   \n",
       "5177  https://m.media-amazon.com/images/M/MV5BOTcxNz...   \n",
       "5178  https://m.media-amazon.com/images/M/MV5BZDlkOD...   \n",
       "5179  https://m.media-amazon.com/images/M/MV5BNmIxNj...   \n",
       "5180  https://m.media-amazon.com/images/M/MV5BNTE5Mj...   \n",
       "5181  https://m.media-amazon.com/images/M/MV5BNjUyNW...   \n",
       "\n",
       "                                            description  \\\n",
       "0     A doctor and his recently-deceased patient are...   \n",
       "1     The characters from previous .hack//G.U. Games...   \n",
       "2     After one of his friends falls into a coma pla...   \n",
       "3     Helba has prepared a special hot springs for s...   \n",
       "4     A strange boy named Tsukasa appears in the onl...   \n",
       "...                                                 ...   \n",
       "5177  A girl finally confessed her love, but she ret...   \n",
       "5178  A mysterious Mini-Ai-Car is terrorizing the ci...   \n",
       "5179  22 years ago, a bizarre uprising occurred in J...   \n",
       "5180  Kimihiro Watanuki, a high-schooler, is trouble...   \n",
       "5181  Chuuta Kokonose has been hearing voices in his...   \n",
       "\n",
       "                                                   text  \n",
       "0     Oshi no Ko (【推しの子】, \"My Favorite Idol\" or \"The...  \n",
       "1     .hack//G.U. is a series of single-player actio...  \n",
       "2     .hack//G.U. Trilogy (Japanese: ドットハック G.U. Tri...  \n",
       "3     This is a list of media related to the .hack m...  \n",
       "4     .hack//Sign (stylized as .hack//SIGN) is a Jap...  \n",
       "...                                                 ...  \n",
       "5177  Zutto Mae Kara Suki Deshita: Kokuhaku Jikkō Ii...  \n",
       "5178  éX-Driver (エクスドライバー, Ekusudoraibā) is an anime...  \n",
       "5179  s-CRY-ed (Japanese: スクライド, Hepburn: Sukuraido)...  \n",
       "5180  xxxHolic (stylized as ×××HOLiC; pronounced \"Ho...  \n",
       "5181  Ēldlive (Japanese: エルドライブ, Hepburn: Erudoraibu...  \n",
       "\n",
       "[5182 rows x 24 columns]"
      ]
     },
     "execution_count": 278,
     "metadata": {},
     "output_type": "execute_result"
    }
   ],
   "source": [
    "final_df"
   ]
  },
  {
   "cell_type": "code",
   "execution_count": 252,
   "metadata": {},
   "outputs": [],
   "source": [
    "fin_df2['text'] = fin_df2['Summary'].fillna(fin_df2['plot'])\n"
   ]
  },
  {
   "cell_type": "code",
   "execution_count": 245,
   "metadata": {},
   "outputs": [],
   "source": [
    "fin_df2['text'] = fin_df2['text'].replace(np.nan, 'none')"
   ]
  },
  {
   "cell_type": "code",
   "execution_count": 248,
   "metadata": {},
   "outputs": [
    {
     "data": {
      "text/plain": [
       "'A slain detective is transformed by a scientific genius into a shape-shifting cyborg superhero who fights crime.'"
      ]
     },
     "execution_count": 248,
     "metadata": {},
     "output_type": "execute_result"
    }
   ],
   "source": [
    "fin_df2['text'][655]"
   ]
  },
  {
   "cell_type": "code",
   "execution_count": 255,
   "metadata": {},
   "outputs": [],
   "source": [
    "fin_df2['text'] = fin_df2['text'].fillna(fin_df2['description'])"
   ]
  },
  {
   "cell_type": "code",
   "execution_count": 282,
   "metadata": {},
   "outputs": [
    {
     "data": {
      "text/plain": [
       "Index(['imdb_title_title', 'imdb_title_titleId', 'anime_Aired',\n",
       "       'anime_Duration', 'anime_English name', 'anime_Genres',\n",
       "       'anime_Image URL', 'anime_Licensors', 'anime_Members', 'anime_Name',\n",
       "       'anime_Other name', 'anime_Producers', 'anime_Rating', 'anime_Score',\n",
       "       'anime_Studios', 'anime_Synopsis', 'anime_anime_id',\n",
       "       'imdb_name_basics_primaryName', 'plot', 'keywords', 'imdb_id', 'image',\n",
       "       'description', 'text'],\n",
       "      dtype='object')"
      ]
     },
     "execution_count": 282,
     "metadata": {},
     "output_type": "execute_result"
    }
   ],
   "source": [
    "final_df.columns"
   ]
  },
  {
   "cell_type": "code",
   "execution_count": 286,
   "metadata": {},
   "outputs": [],
   "source": [
    "fin_df3 = fin_df2.rename(columns = {'Title': 'imdb_title_title', 'imdb_id': 'imdb_title_titleId', 'Year': 'anime_Aired',\n",
    "                            'duration':'anime_Duration', 'Genre': 'anime_Genres', 'content_rating': 'anime_Rating',\n",
    "                            'rating_value': 'anime_Score', 'description': 'anime_Synopsis'})\n"
   ]
  },
  {
   "cell_type": "code",
   "execution_count": 294,
   "metadata": {},
   "outputs": [],
   "source": [
    "fin_df3['anime_Image URL'] = 'none'\n",
    "fin_df3['anime_Licensors'] = 'none'\n",
    "fin_df3['anime_Producers'] = 'none'\n",
    "fin_df3['anime_Studios'] = 'none'\n",
    "fin_df3['anime_anime_id'] = 'none'\n",
    "fin_df3['imdb_name_basics_primaryName'] = fin_df3['imdb_title_title']\n",
    "fin_df3['anime_English name'] = fin_df3['imdb_title_title']\n",
    "fin_df3['anime_Other name'] = fin_df3['imdb_title_title']"
   ]
  },
  {
   "cell_type": "code",
   "execution_count": 296,
   "metadata": {},
   "outputs": [],
   "source": [
    "df_fin2 = fin_df3[['imdb_title_title', 'imdb_title_titleId', 'anime_Aired',\n",
    "       'anime_Duration', 'anime_English name', 'anime_Genres',\n",
    "       'anime_Image URL', 'anime_Licensors', \n",
    "       'anime_Other name', 'anime_Producers', 'anime_Rating', 'anime_Score',\n",
    "       'anime_Studios', 'anime_Synopsis', 'anime_anime_id',\n",
    "       'imdb_name_basics_primaryName', 'plot', 'keywords',  'image', 'text']]"
   ]
  },
  {
   "cell_type": "code",
   "execution_count": 299,
   "metadata": {},
   "outputs": [],
   "source": [
    "df_fin = final_df[['imdb_title_title', 'imdb_title_titleId', 'anime_Aired',\n",
    "       'anime_Duration', 'anime_English name', 'anime_Genres',\n",
    "       'anime_Image URL', 'anime_Licensors', \n",
    "       'anime_Other name', 'anime_Producers', 'anime_Rating', 'anime_Score',\n",
    "       'anime_Studios', 'anime_Synopsis', 'anime_anime_id',\n",
    "       'imdb_name_basics_primaryName', 'plot', 'keywords',  'image', 'text']]"
   ]
  },
  {
   "cell_type": "code",
   "execution_count": 316,
   "metadata": {},
   "outputs": [
    {
     "name": "stderr",
     "output_type": "stream",
     "text": [
      "/var/folders/vz/cyjrzm0x74q21sb72nhkdfmr0000gn/T/ipykernel_97478/1803505878.py:1: SettingWithCopyWarning: \n",
      "A value is trying to be set on a copy of a slice from a DataFrame.\n",
      "Try using .loc[row_indexer,col_indexer] = value instead\n",
      "\n",
      "See the caveats in the documentation: https://pandas.pydata.org/pandas-docs/stable/user_guide/indexing.html#returning-a-view-versus-a-copy\n",
      "  df_fin['anime_anime_id'] = df_fin['anime_anime_id'].apply(lambda x: int(x))\n"
     ]
    }
   ],
   "source": [
    "df_fin['anime_anime_id'] = df_fin['anime_anime_id'].apply(lambda x: int(x))"
   ]
  },
  {
   "cell_type": "code",
   "execution_count": 317,
   "metadata": {},
   "outputs": [],
   "source": [
    "df_final_anime = pd.concat([df_fin,df_fin2],ignore_index = True)"
   ]
  },
  {
   "cell_type": "code",
   "execution_count": 334,
   "metadata": {},
   "outputs": [],
   "source": [
    "df_final_anime.loc[df_final_anime['text'] == 'description', 'text'] = df_final_anime['anime_Synopsis']"
   ]
  },
  {
   "cell_type": "code",
   "execution_count": 321,
   "metadata": {},
   "outputs": [],
   "source": [
    "import pickle\n",
    "\n",
    "# File path to save the dictionary\n",
    "file_path = \"wiki_dict.pkl\"\n",
    "\n",
    "# Save the dictionary using pickle\n",
    "with open(file_path, 'wb') as f:\n",
    "    pickle.dump(combined_dict, f)\n"
   ]
  },
  {
   "cell_type": "code",
   "execution_count": 338,
   "metadata": {},
   "outputs": [],
   "source": [
    "# Define a function to compare the lengths of 'text' and 'anime_Synopsis' columns and return the appropriate value\n",
    "def replace_text(row):\n",
    "    if len(row['text']) < len(row['anime_Synopsis']):\n",
    "        return row['anime_Synopsis']\n",
    "    else:\n",
    "        return row['text']\n"
   ]
  },
  {
   "cell_type": "code",
   "execution_count": 339,
   "metadata": {},
   "outputs": [],
   "source": [
    "df_final_anime['text'] = df_final_anime.apply(replace_text, axis=1)"
   ]
  },
  {
   "cell_type": "code",
   "execution_count": 343,
   "metadata": {},
   "outputs": [],
   "source": [
    "df_final_anime['text'] = df_final_anime['text'].str.replace('== Plot ==', '')"
   ]
  },
  {
   "cell_type": "code",
   "execution_count": 345,
   "metadata": {},
   "outputs": [],
   "source": [
    "df_final_anime.to_csv(\"combined_final_anime.csv\")"
   ]
  },
  {
   "cell_type": "code",
   "execution_count": null,
   "metadata": {},
   "outputs": [],
   "source": []
  }
 ],
 "metadata": {
  "kernelspec": {
   "display_name": "Python 3",
   "language": "python",
   "name": "python3"
  },
  "language_info": {
   "codemirror_mode": {
    "name": "ipython",
    "version": 3
   },
   "file_extension": ".py",
   "mimetype": "text/x-python",
   "name": "python",
   "nbconvert_exporter": "python",
   "pygments_lexer": "ipython3",
   "version": "3.10.11"
  }
 },
 "nbformat": 4,
 "nbformat_minor": 2
}
