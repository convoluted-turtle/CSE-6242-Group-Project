{
 "cells": [
  {
   "cell_type": "code",
   "execution_count": 71,
   "metadata": {},
   "outputs": [],
   "source": [
    "import wikipedia\n",
    "import pandas as pd\n",
    "from tqdm import tqdm \n",
    "import math\n",
    "import numpy as np\n",
    "import html\n",
    "import re\n",
    "from unidecode import unidecode\n",
    "import pickle"
   ]
  },
  {
   "cell_type": "code",
   "execution_count": 3,
   "metadata": {},
   "outputs": [],
   "source": [
    "df = pd.read_csv(\"/Users/justinvhuang/Desktop/CSE-6242-Group-Project/anime-dataset-2023.csv\")\n",
    "df2 = pd.read_excel(\"/Users/justinvhuang/Desktop/CSE-6242-Group-Project/web_scraping/combined_final_anime.xlsx\", index_col=0)"
   ]
  },
  {
   "cell_type": "code",
   "execution_count": 118,
   "metadata": {},
   "outputs": [
    {
     "data": {
      "text/html": [
       "<div>\n",
       "<style scoped>\n",
       "    .dataframe tbody tr th:only-of-type {\n",
       "        vertical-align: middle;\n",
       "    }\n",
       "\n",
       "    .dataframe tbody tr th {\n",
       "        vertical-align: top;\n",
       "    }\n",
       "\n",
       "    .dataframe thead th {\n",
       "        text-align: right;\n",
       "    }\n",
       "</style>\n",
       "<table border=\"1\" class=\"dataframe\">\n",
       "  <thead>\n",
       "    <tr style=\"text-align: right;\">\n",
       "      <th></th>\n",
       "      <th>anime_id</th>\n",
       "      <th>Name</th>\n",
       "      <th>English name</th>\n",
       "      <th>Other name</th>\n",
       "      <th>Score</th>\n",
       "      <th>Genres</th>\n",
       "      <th>Synopsis</th>\n",
       "      <th>Type</th>\n",
       "      <th>Episodes</th>\n",
       "      <th>Aired</th>\n",
       "      <th>Premiered</th>\n",
       "      <th>Status</th>\n",
       "      <th>Producers</th>\n",
       "      <th>Licensors</th>\n",
       "      <th>Studios</th>\n",
       "      <th>Source</th>\n",
       "      <th>Duration</th>\n",
       "      <th>Rating</th>\n",
       "      <th>Rank</th>\n",
       "      <th>Popularity</th>\n",
       "      <th>Favorites</th>\n",
       "      <th>Scored By</th>\n",
       "      <th>Members</th>\n",
       "      <th>Image URL</th>\n",
       "    </tr>\n",
       "  </thead>\n",
       "  <tbody>\n",
       "    <tr>\n",
       "      <th>490</th>\n",
       "      <td>523</td>\n",
       "      <td>Tonari no Totoro</td>\n",
       "      <td>My Neighbor Totoro</td>\n",
       "      <td>となりのトトロ</td>\n",
       "      <td>8.25</td>\n",
       "      <td>Adventure, Award Winning, Supernatural</td>\n",
       "      <td>In 1950s Japan, Tatsuo Kusakabe relocates hims...</td>\n",
       "      <td>Movie</td>\n",
       "      <td>1.0</td>\n",
       "      <td>Apr 16, 1988</td>\n",
       "      <td>UNKNOWN</td>\n",
       "      <td>Finished Airing</td>\n",
       "      <td>Studio Fantasia, Streamline Pictures</td>\n",
       "      <td>Disney Platform Distribution, GKIDS</td>\n",
       "      <td>Studio Ghibli</td>\n",
       "      <td>Original</td>\n",
       "      <td>1 hr 26 min</td>\n",
       "      <td>G - All Ages</td>\n",
       "      <td>287.0</td>\n",
       "      <td>143</td>\n",
       "      <td>7978</td>\n",
       "      <td>658094.0</td>\n",
       "      <td>1009153</td>\n",
       "      <td>https://cdn.myanimelist.net/images/anime/4/759...</td>\n",
       "    </tr>\n",
       "  </tbody>\n",
       "</table>\n",
       "</div>"
      ],
      "text/plain": [
       "     anime_id              Name        English name Other name Score  \\\n",
       "490       523  Tonari no Totoro  My Neighbor Totoro    となりのトトロ  8.25   \n",
       "\n",
       "                                     Genres  \\\n",
       "490  Adventure, Award Winning, Supernatural   \n",
       "\n",
       "                                              Synopsis   Type Episodes  \\\n",
       "490  In 1950s Japan, Tatsuo Kusakabe relocates hims...  Movie      1.0   \n",
       "\n",
       "            Aired Premiered           Status  \\\n",
       "490  Apr 16, 1988   UNKNOWN  Finished Airing   \n",
       "\n",
       "                                Producers  \\\n",
       "490  Studio Fantasia, Streamline Pictures   \n",
       "\n",
       "                               Licensors        Studios    Source  \\\n",
       "490  Disney Platform Distribution, GKIDS  Studio Ghibli  Original   \n",
       "\n",
       "        Duration        Rating   Rank  Popularity  Favorites Scored By  \\\n",
       "490  1 hr 26 min  G - All Ages  287.0         143       7978  658094.0   \n",
       "\n",
       "     Members                                          Image URL  \n",
       "490  1009153  https://cdn.myanimelist.net/images/anime/4/759...  "
      ]
     },
     "execution_count": 118,
     "metadata": {},
     "output_type": "execute_result"
    }
   ],
   "source": [
    "df[df['Name'] == 'Tonari no Totoro']"
   ]
  },
  {
   "cell_type": "code",
   "execution_count": 20,
   "metadata": {},
   "outputs": [],
   "source": [
    "pd.set_option('display.max_columns', None)"
   ]
  },
  {
   "cell_type": "code",
   "execution_count": 59,
   "metadata": {},
   "outputs": [],
   "source": [
    "df_add_on = df[df['Type'].isin(['TV', 'Movie', 'OVA', 'Special', 'ONA'])]"
   ]
  },
  {
   "cell_type": "code",
   "execution_count": 45,
   "metadata": {},
   "outputs": [],
   "source": [
    "merge_df = df2.merge(df[['anime_id', 'Producers', 'Licensors', 'Studios', 'Image URL', 'Episodes', 'Genres', 'Source', 'Favorites', 'Aired', 'Members', 'Duration']], left_on = 'anime_anime_id', right_on = 'anime_id', how = 'left')"
   ]
  },
  {
   "cell_type": "code",
   "execution_count": 46,
   "metadata": {},
   "outputs": [],
   "source": [
    "merge_df['Producers'] = merge_df['Producers'].replace(\"UNKNOWN\", np.nan)\n",
    "merge_df['Licensors'] = merge_df['Licensors'].replace(\"UNKNOWN\", np.nan)\n",
    "merge_df['Studios'] = merge_df['Studios'].replace(\"UNKNOWN\", np.nan)\n",
    "merge_df['Duration'] = merge_df['Duration'].replace(\"UNKNOWN\", np.nan)"
   ]
  },
  {
   "cell_type": "code",
   "execution_count": 47,
   "metadata": {},
   "outputs": [],
   "source": [
    "merge_df['Producers'] = merge_df['Producers'].fillna(merge_df['anime_Producers'])\n",
    "merge_df['Licensors'] = merge_df['Licensors'].fillna(merge_df['anime_Licensors'])\n",
    "merge_df['Studios'] = merge_df['Studios'].fillna(merge_df['anime_Studios'])\n",
    "merge_df['Duration'] = merge_df['Duration'].fillna(merge_df['anime_Duration'])"
   ]
  },
  {
   "cell_type": "code",
   "execution_count": 49,
   "metadata": {},
   "outputs": [],
   "source": [
    "merge_df.to_excel('combo_fin_anime_v2.xlsx')"
   ]
  },
  {
   "cell_type": "code",
   "execution_count": 52,
   "metadata": {},
   "outputs": [
    {
     "data": {
      "text/html": [
       "<div>\n",
       "<style scoped>\n",
       "    .dataframe tbody tr th:only-of-type {\n",
       "        vertical-align: middle;\n",
       "    }\n",
       "\n",
       "    .dataframe tbody tr th {\n",
       "        vertical-align: top;\n",
       "    }\n",
       "\n",
       "    .dataframe thead th {\n",
       "        text-align: right;\n",
       "    }\n",
       "</style>\n",
       "<table border=\"1\" class=\"dataframe\">\n",
       "  <thead>\n",
       "    <tr style=\"text-align: right;\">\n",
       "      <th></th>\n",
       "      <th>imdb_title_title</th>\n",
       "      <th>imdb_title_titleId</th>\n",
       "      <th>anime_Aired</th>\n",
       "      <th>anime_Rating</th>\n",
       "      <th>anime_Producers</th>\n",
       "      <th>anime_Studios</th>\n",
       "      <th>anime_Licensors</th>\n",
       "      <th>anime_Duration</th>\n",
       "      <th>anime_English name</th>\n",
       "      <th>anime_Genres</th>\n",
       "      <th>anime_Image URL</th>\n",
       "      <th>anime_Other name</th>\n",
       "      <th>anime_Score</th>\n",
       "      <th>anime_Synopsis</th>\n",
       "      <th>anime_anime_id</th>\n",
       "      <th>imdb_name_basics_primaryName</th>\n",
       "      <th>plot</th>\n",
       "      <th>keywords</th>\n",
       "      <th>image</th>\n",
       "      <th>text</th>\n",
       "      <th>anime_id</th>\n",
       "      <th>Producers</th>\n",
       "      <th>Licensors</th>\n",
       "      <th>Studios</th>\n",
       "      <th>Image URL</th>\n",
       "      <th>Episodes</th>\n",
       "      <th>Genres</th>\n",
       "      <th>Source</th>\n",
       "      <th>Favorites</th>\n",
       "      <th>Aired</th>\n",
       "      <th>Members</th>\n",
       "      <th>Duration</th>\n",
       "    </tr>\n",
       "  </thead>\n",
       "  <tbody>\n",
       "    <tr>\n",
       "      <th>0</th>\n",
       "      <td>【推しの子】</td>\n",
       "      <td>tt21030032</td>\n",
       "      <td>Apr 12, 2023 to Jun 28, 2023</td>\n",
       "      <td>PG-13 - Teens 13 or older</td>\n",
       "      <td>Shueisha,  CyberAgent, Kadokawa</td>\n",
       "      <td>Doga Kobo</td>\n",
       "      <td>Sentai Filmworks</td>\n",
       "      <td>30 min</td>\n",
       "      <td>[Oshi No Ko]</td>\n",
       "      <td>Drama, Supernatural</td>\n",
       "      <td>UNKNOWN</td>\n",
       "      <td>【推しの子】</td>\n",
       "      <td>8.98</td>\n",
       "      <td>In the entertainment world, celebrities often ...</td>\n",
       "      <td>52034</td>\n",
       "      <td>Natalie Rial, Christina Marie Kelly, Takeo Ots...</td>\n",
       "      <td>Oshi no Ko (【推しの子】, \"My Favorite Idol\" or \"The...</td>\n",
       "      <td>idol,anime animation,based on manga,singer,per...</td>\n",
       "      <td>https://m.media-amazon.com/images/M/MV5BYWFkZD...</td>\n",
       "      <td>Oshi no Ko (【推しの子】, \"My Favorite Idol\" or \"The...</td>\n",
       "      <td>52034.0</td>\n",
       "      <td>Shueisha, CyberAgent, Kadokawa</td>\n",
       "      <td>Sentai Filmworks</td>\n",
       "      <td>Doga Kobo</td>\n",
       "      <td>https://cdn.myanimelist.net/images/anime/1812/...</td>\n",
       "      <td>11.0</td>\n",
       "      <td>Drama, Supernatural</td>\n",
       "      <td>Manga</td>\n",
       "      <td>18336.0</td>\n",
       "      <td>Apr 12, 2023 to Jun 28, 2023</td>\n",
       "      <td>512617.0</td>\n",
       "      <td>30 min per ep</td>\n",
       "    </tr>\n",
       "    <tr>\n",
       "      <th>1</th>\n",
       "      <td>.hack//G.U. Returner</td>\n",
       "      <td>tt1343075</td>\n",
       "      <td>2007-01-18 00:00:00</td>\n",
       "      <td>PG-13 - Teens 13 or older</td>\n",
       "      <td>Bandai Visual, CyberConnect2</td>\n",
       "      <td>Bee Train</td>\n",
       "      <td>UNKNOWN</td>\n",
       "      <td>24 min</td>\n",
       "      <td>UNKNOWN</td>\n",
       "      <td>Adventure, Drama, Fantasy</td>\n",
       "      <td>UNKNOWN</td>\n",
       "      <td>.HACK//G.U. RETURNER</td>\n",
       "      <td>6.67</td>\n",
       "      <td>The characters from previous .hack//G.U. Games...</td>\n",
       "      <td>2928</td>\n",
       "      <td>Kaori Nazuka, Ayako Kawasumi, Takahiro Sakurai...</td>\n",
       "      <td>.hack//G.U. is a series of single-player actio...</td>\n",
       "      <td>.hack</td>\n",
       "      <td>https://m.media-amazon.com/images/M/MV5BYjViMD...</td>\n",
       "      <td>.hack//G.U. is a series of single-player actio...</td>\n",
       "      <td>2928.0</td>\n",
       "      <td>Bandai Visual, CyberConnect2</td>\n",
       "      <td>UNKNOWN</td>\n",
       "      <td>Bee Train</td>\n",
       "      <td>https://cdn.myanimelist.net/images/anime/1798/...</td>\n",
       "      <td>1.0</td>\n",
       "      <td>Adventure, Drama, Fantasy</td>\n",
       "      <td>Game</td>\n",
       "      <td>32.0</td>\n",
       "      <td>Jan 18, 2007</td>\n",
       "      <td>21271.0</td>\n",
       "      <td>24 min</td>\n",
       "    </tr>\n",
       "    <tr>\n",
       "      <th>2</th>\n",
       "      <td>.hack//G.U. Trilogy</td>\n",
       "      <td>tt1164545</td>\n",
       "      <td>2007-12-22 00:00:00</td>\n",
       "      <td>PG-13 - Teens 13 or older</td>\n",
       "      <td>Bandai Visual</td>\n",
       "      <td>CyberConnect2</td>\n",
       "      <td>Funimation, Bandai Entertainment</td>\n",
       "      <td>1 hr 33 min</td>\n",
       "      <td>.hack//G.U. Trilogy: Parody Mode</td>\n",
       "      <td>Comedy, Fantasy, Sci-Fi</td>\n",
       "      <td>UNKNOWN</td>\n",
       "      <td>.hack//G.U. Trilogy</td>\n",
       "      <td>6.36</td>\n",
       "      <td>A special bonus Parody Mode added to the extra...</td>\n",
       "      <td>4469</td>\n",
       "      <td>Hiroshi Matsuyama, Ayako Kawasumi, Saeko Hirot...</td>\n",
       "      <td>.hack//G.U. Trilogy (Japanese: ドットハック G.U. Tri...</td>\n",
       "      <td>.hack</td>\n",
       "      <td>https://m.media-amazon.com/images/M/MV5BODU4Nz...</td>\n",
       "      <td>.hack//G.U. Trilogy (Japanese: ドットハック G.U. Tri...</td>\n",
       "      <td>4469.0</td>\n",
       "      <td>Bandai Visual</td>\n",
       "      <td>Funimation, Bandai Entertainment</td>\n",
       "      <td>CyberConnect2</td>\n",
       "      <td>https://cdn.myanimelist.net/images/anime/10/86...</td>\n",
       "      <td>1.0</td>\n",
       "      <td>Comedy, Fantasy, Sci-Fi</td>\n",
       "      <td>Game</td>\n",
       "      <td>10.0</td>\n",
       "      <td>Mar 25, 2008</td>\n",
       "      <td>10641.0</td>\n",
       "      <td>6 min</td>\n",
       "    </tr>\n",
       "    <tr>\n",
       "      <th>3</th>\n",
       "      <td>.hack//GIFT</td>\n",
       "      <td>tt0823406</td>\n",
       "      <td>Nov 16, 2003</td>\n",
       "      <td>R+ - Mild Nudity</td>\n",
       "      <td>CyberConnect2</td>\n",
       "      <td>Bee Train</td>\n",
       "      <td>Bandai Entertainment</td>\n",
       "      <td>26 min</td>\n",
       "      <td>.hack//Gift</td>\n",
       "      <td>Comedy, Fantasy</td>\n",
       "      <td>https://cdn.myanimelist.net/images/anime/2/230...</td>\n",
       "      <td>.hack//GIFT</td>\n",
       "      <td>6.1</td>\n",
       "      <td>As an expression of gratitude for the heroes o...</td>\n",
       "      <td>454</td>\n",
       "      <td>Isshin Chiba, Shin'ya Kawatsura, Sayaka Aida, ...</td>\n",
       "      <td>This is a list of media related to the .hack m...</td>\n",
       "      <td>anime animation,parody comedy,spoof,hot spring...</td>\n",
       "      <td>https://m.media-amazon.com/images/M/MV5BNjUwMT...</td>\n",
       "      <td>As an expression of gratitude for the heroes o...</td>\n",
       "      <td>454.0</td>\n",
       "      <td>CyberConnect2</td>\n",
       "      <td>Bandai Entertainment</td>\n",
       "      <td>Bee Train</td>\n",
       "      <td>https://cdn.myanimelist.net/images/anime/2/230...</td>\n",
       "      <td>1.0</td>\n",
       "      <td>Comedy, Fantasy</td>\n",
       "      <td>Original</td>\n",
       "      <td>19.0</td>\n",
       "      <td>Nov 16, 2003</td>\n",
       "      <td>20567.0</td>\n",
       "      <td>26 min</td>\n",
       "    </tr>\n",
       "    <tr>\n",
       "      <th>4</th>\n",
       "      <td>.hack//SIGN</td>\n",
       "      <td>tt0361140</td>\n",
       "      <td>Apr 4, 2002 to Sep 26, 2002</td>\n",
       "      <td>PG-13 - Teens 13 or older</td>\n",
       "      <td>Bandai Visual,  Yomiko Advertising,  Bandai,  ...</td>\n",
       "      <td>Bee Train</td>\n",
       "      <td>Funimation,  Bandai Entertainment</td>\n",
       "      <td>24 min</td>\n",
       "      <td>.hack//Sign</td>\n",
       "      <td>Adventure, Fantasy, Mystery</td>\n",
       "      <td>UNKNOWN</td>\n",
       "      <td>.hack//SIGN</td>\n",
       "      <td>6.95</td>\n",
       "      <td>A young wavemaster, only known by the alias of...</td>\n",
       "      <td>48</td>\n",
       "      <td>Amanda Winn Lee, Kaori Nazuka, Donna Rawlins, ...</td>\n",
       "      <td>.hack//Sign (stylized as .hack//SIGN) is a Jap...</td>\n",
       "      <td>isekai,anime animation,female nudity,multiplay...</td>\n",
       "      <td>https://m.media-amazon.com/images/M/MV5BOTE5YW...</td>\n",
       "      <td>.hack//Sign (stylized as .hack//SIGN) is a Jap...</td>\n",
       "      <td>48.0</td>\n",
       "      <td>Bandai Visual, Yomiko Advertising, Bandai, Cyb...</td>\n",
       "      <td>Funimation, Bandai Entertainment</td>\n",
       "      <td>Bee Train</td>\n",
       "      <td>https://cdn.myanimelist.net/images/anime/1443/...</td>\n",
       "      <td>26.0</td>\n",
       "      <td>Adventure, Fantasy, Mystery</td>\n",
       "      <td>Original</td>\n",
       "      <td>1343.0</td>\n",
       "      <td>Apr 4, 2002 to Sep 26, 2002</td>\n",
       "      <td>178659.0</td>\n",
       "      <td>24 min per ep</td>\n",
       "    </tr>\n",
       "    <tr>\n",
       "      <th>...</th>\n",
       "      <td>...</td>\n",
       "      <td>...</td>\n",
       "      <td>...</td>\n",
       "      <td>...</td>\n",
       "      <td>...</td>\n",
       "      <td>...</td>\n",
       "      <td>...</td>\n",
       "      <td>...</td>\n",
       "      <td>...</td>\n",
       "      <td>...</td>\n",
       "      <td>...</td>\n",
       "      <td>...</td>\n",
       "      <td>...</td>\n",
       "      <td>...</td>\n",
       "      <td>...</td>\n",
       "      <td>...</td>\n",
       "      <td>...</td>\n",
       "      <td>...</td>\n",
       "      <td>...</td>\n",
       "      <td>...</td>\n",
       "      <td>...</td>\n",
       "      <td>...</td>\n",
       "      <td>...</td>\n",
       "      <td>...</td>\n",
       "      <td>...</td>\n",
       "      <td>...</td>\n",
       "      <td>...</td>\n",
       "      <td>...</td>\n",
       "      <td>...</td>\n",
       "      <td>...</td>\n",
       "      <td>...</td>\n",
       "      <td>...</td>\n",
       "    </tr>\n",
       "    <tr>\n",
       "      <th>5834</th>\n",
       "      <td>Willy McBean and His Magic Machine</td>\n",
       "      <td>tt0192803</td>\n",
       "      <td>(1965)</td>\n",
       "      <td>TV-G</td>\n",
       "      <td>UNKNOWN</td>\n",
       "      <td>UNKNOWN</td>\n",
       "      <td>UNKNOWN</td>\n",
       "      <td>PT1H34M</td>\n",
       "      <td>Willy McBean and His Magic Machine</td>\n",
       "      <td>Animation, Adventure, Family</td>\n",
       "      <td>UNKNOWN</td>\n",
       "      <td>Willy McBean and His Magic Machine</td>\n",
       "      <td>5.9</td>\n",
       "      <td>Little Willy McBean joins up with a Mexican mo...</td>\n",
       "      <td>UNKNOWN</td>\n",
       "      <td>Willy McBean and His Magic Machine</td>\n",
       "      <td>Willy McBean and His Magic Machine  is a 1965 ...</td>\n",
       "      <td>1960s,time machine,stop motion animation,evil,...</td>\n",
       "      <td>https://m.media-amazon.com/images/M/MV5BYWEwMm...</td>\n",
       "      <td>Little Willy McBean joins up with a Mexican mo...</td>\n",
       "      <td>UNKNOWN</td>\n",
       "      <td>UNKNOWN</td>\n",
       "      <td>UNKNOWN</td>\n",
       "      <td>UNKNOWN</td>\n",
       "      <td>UNKNOWN</td>\n",
       "      <td>UNKNOWN</td>\n",
       "      <td>UNKNOWN</td>\n",
       "      <td>UNKNOWN</td>\n",
       "      <td>UNKNOWN</td>\n",
       "      <td>UNKNOWN</td>\n",
       "      <td>UNKNOWN</td>\n",
       "      <td>PT1H34M</td>\n",
       "    </tr>\n",
       "    <tr>\n",
       "      <th>5835</th>\n",
       "      <td>Astro Boy</td>\n",
       "      <td>tt0056739</td>\n",
       "      <td>(2009)</td>\n",
       "      <td>TV-Y7</td>\n",
       "      <td>UNKNOWN</td>\n",
       "      <td>UNKNOWN</td>\n",
       "      <td>UNKNOWN</td>\n",
       "      <td>UNKNOWN</td>\n",
       "      <td>Astro Boy</td>\n",
       "      <td>Animation, Action, Adventure</td>\n",
       "      <td>UNKNOWN</td>\n",
       "      <td>Astro Boy</td>\n",
       "      <td>7.4</td>\n",
       "      <td>As long as trouble&amp;apos;s brewing across the u...</td>\n",
       "      <td>UNKNOWN</td>\n",
       "      <td>Astro Boy</td>\n",
       "      <td>UNKNOWN</td>\n",
       "      <td>robot sci fi,1960s,humanoid robot,android,sent...</td>\n",
       "      <td>https://m.media-amazon.com/images/M/MV5BMTBmYj...</td>\n",
       "      <td>When an android replica of a boy is rejected b...</td>\n",
       "      <td>UNKNOWN</td>\n",
       "      <td>UNKNOWN</td>\n",
       "      <td>UNKNOWN</td>\n",
       "      <td>UNKNOWN</td>\n",
       "      <td>UNKNOWN</td>\n",
       "      <td>UNKNOWN</td>\n",
       "      <td>UNKNOWN</td>\n",
       "      <td>UNKNOWN</td>\n",
       "      <td>UNKNOWN</td>\n",
       "      <td>UNKNOWN</td>\n",
       "      <td>UNKNOWN</td>\n",
       "      <td>UNKNOWN</td>\n",
       "    </tr>\n",
       "    <tr>\n",
       "      <th>5836</th>\n",
       "      <td>Tetsujin nijûhachi-go</td>\n",
       "      <td>tt0142908</td>\n",
       "      <td>(1963–1965)</td>\n",
       "      <td>UNKNOWN</td>\n",
       "      <td>UNKNOWN</td>\n",
       "      <td>UNKNOWN</td>\n",
       "      <td>UNKNOWN</td>\n",
       "      <td>UNKNOWN</td>\n",
       "      <td>Tetsujin nijûhachi-go</td>\n",
       "      <td>Animation, Action, Adventure</td>\n",
       "      <td>UNKNOWN</td>\n",
       "      <td>Tetsujin nijûhachi-go</td>\n",
       "      <td>6.7</td>\n",
       "      <td>Scientists and police fight crime with the hel...</td>\n",
       "      <td>UNKNOWN</td>\n",
       "      <td>Tetsujin nijûhachi-go</td>\n",
       "      <td>UNKNOWN</td>\n",
       "      <td>robot sci fi,anime animation,scientist,robot,t...</td>\n",
       "      <td>https://m.media-amazon.com/images/M/MV5BOWY0MT...</td>\n",
       "      <td>Scientists and police fight crime with the hel...</td>\n",
       "      <td>UNKNOWN</td>\n",
       "      <td>UNKNOWN</td>\n",
       "      <td>UNKNOWN</td>\n",
       "      <td>UNKNOWN</td>\n",
       "      <td>UNKNOWN</td>\n",
       "      <td>UNKNOWN</td>\n",
       "      <td>UNKNOWN</td>\n",
       "      <td>UNKNOWN</td>\n",
       "      <td>UNKNOWN</td>\n",
       "      <td>UNKNOWN</td>\n",
       "      <td>UNKNOWN</td>\n",
       "      <td>UNKNOWN</td>\n",
       "    </tr>\n",
       "    <tr>\n",
       "      <th>5837</th>\n",
       "      <td>Eitoman</td>\n",
       "      <td>tt0293987</td>\n",
       "      <td>(1963–1964)</td>\n",
       "      <td>UNKNOWN</td>\n",
       "      <td>UNKNOWN</td>\n",
       "      <td>UNKNOWN</td>\n",
       "      <td>UNKNOWN</td>\n",
       "      <td>UNKNOWN</td>\n",
       "      <td>Eitoman</td>\n",
       "      <td>Animation, Action, Adventure</td>\n",
       "      <td>UNKNOWN</td>\n",
       "      <td>Eitoman</td>\n",
       "      <td>6.2</td>\n",
       "      <td>A slain detective is transformed by a scientif...</td>\n",
       "      <td>UNKNOWN</td>\n",
       "      <td>Eitoman</td>\n",
       "      <td>Boris Eifman (Борис Яковлевич Эйфман) (born 22...</td>\n",
       "      <td>cyborg sci fi,superhero,anime animation,superh...</td>\n",
       "      <td>https://m.media-amazon.com/images/M/MV5BZmNhZm...</td>\n",
       "      <td>A slain detective is transformed by a scientif...</td>\n",
       "      <td>UNKNOWN</td>\n",
       "      <td>UNKNOWN</td>\n",
       "      <td>UNKNOWN</td>\n",
       "      <td>UNKNOWN</td>\n",
       "      <td>UNKNOWN</td>\n",
       "      <td>UNKNOWN</td>\n",
       "      <td>UNKNOWN</td>\n",
       "      <td>UNKNOWN</td>\n",
       "      <td>UNKNOWN</td>\n",
       "      <td>UNKNOWN</td>\n",
       "      <td>UNKNOWN</td>\n",
       "      <td>UNKNOWN</td>\n",
       "    </tr>\n",
       "    <tr>\n",
       "      <th>5838</th>\n",
       "      <td>Kitsune no homerun-ô</td>\n",
       "      <td>tt0440544</td>\n",
       "      <td>(1949)</td>\n",
       "      <td>UNKNOWN</td>\n",
       "      <td>UNKNOWN</td>\n",
       "      <td>UNKNOWN</td>\n",
       "      <td>UNKNOWN</td>\n",
       "      <td>PT8M</td>\n",
       "      <td>Kitsune no homerun-ô</td>\n",
       "      <td>Animation, Short</td>\n",
       "      <td>UNKNOWN</td>\n",
       "      <td>Kitsune no homerun-ô</td>\n",
       "      <td>4.3</td>\n",
       "      <td>The rabbits versus the foxes is the big match-...</td>\n",
       "      <td>UNKNOWN</td>\n",
       "      <td>Kitsune no homerun-ô</td>\n",
       "      <td>UNKNOWN</td>\n",
       "      <td>baseball</td>\n",
       "      <td>UNKNOWN</td>\n",
       "      <td>The rabbits versus the foxes is the big match-...</td>\n",
       "      <td>UNKNOWN</td>\n",
       "      <td>UNKNOWN</td>\n",
       "      <td>UNKNOWN</td>\n",
       "      <td>UNKNOWN</td>\n",
       "      <td>UNKNOWN</td>\n",
       "      <td>UNKNOWN</td>\n",
       "      <td>UNKNOWN</td>\n",
       "      <td>UNKNOWN</td>\n",
       "      <td>UNKNOWN</td>\n",
       "      <td>UNKNOWN</td>\n",
       "      <td>UNKNOWN</td>\n",
       "      <td>PT8M</td>\n",
       "    </tr>\n",
       "  </tbody>\n",
       "</table>\n",
       "<p>5839 rows × 32 columns</p>\n",
       "</div>"
      ],
      "text/plain": [
       "                        imdb_title_title imdb_title_titleId  \\\n",
       "0                                 【推しの子】         tt21030032   \n",
       "1                   .hack//G.U. Returner          tt1343075   \n",
       "2                    .hack//G.U. Trilogy          tt1164545   \n",
       "3                            .hack//GIFT          tt0823406   \n",
       "4                            .hack//SIGN          tt0361140   \n",
       "...                                  ...                ...   \n",
       "5834  Willy McBean and His Magic Machine          tt0192803   \n",
       "5835                           Astro Boy          tt0056739   \n",
       "5836               Tetsujin nijûhachi-go          tt0142908   \n",
       "5837                             Eitoman          tt0293987   \n",
       "5838                Kitsune no homerun-ô          tt0440544   \n",
       "\n",
       "                       anime_Aired               anime_Rating  \\\n",
       "0     Apr 12, 2023 to Jun 28, 2023  PG-13 - Teens 13 or older   \n",
       "1              2007-01-18 00:00:00  PG-13 - Teens 13 or older   \n",
       "2              2007-12-22 00:00:00  PG-13 - Teens 13 or older   \n",
       "3                     Nov 16, 2003           R+ - Mild Nudity   \n",
       "4      Apr 4, 2002 to Sep 26, 2002  PG-13 - Teens 13 or older   \n",
       "...                            ...                        ...   \n",
       "5834                        (1965)                       TV-G   \n",
       "5835                        (2009)                      TV-Y7   \n",
       "5836                   (1963–1965)                    UNKNOWN   \n",
       "5837                   (1963–1964)                    UNKNOWN   \n",
       "5838                        (1949)                    UNKNOWN   \n",
       "\n",
       "                                        anime_Producers  anime_Studios  \\\n",
       "0                       Shueisha,  CyberAgent, Kadokawa      Doga Kobo   \n",
       "1                          Bandai Visual, CyberConnect2      Bee Train   \n",
       "2                                         Bandai Visual  CyberConnect2   \n",
       "3                                         CyberConnect2      Bee Train   \n",
       "4     Bandai Visual,  Yomiko Advertising,  Bandai,  ...      Bee Train   \n",
       "...                                                 ...            ...   \n",
       "5834                                            UNKNOWN        UNKNOWN   \n",
       "5835                                            UNKNOWN        UNKNOWN   \n",
       "5836                                            UNKNOWN        UNKNOWN   \n",
       "5837                                            UNKNOWN        UNKNOWN   \n",
       "5838                                            UNKNOWN        UNKNOWN   \n",
       "\n",
       "                        anime_Licensors anime_Duration  \\\n",
       "0                      Sentai Filmworks         30 min   \n",
       "1                               UNKNOWN         24 min   \n",
       "2      Funimation, Bandai Entertainment    1 hr 33 min   \n",
       "3                  Bandai Entertainment         26 min   \n",
       "4     Funimation,  Bandai Entertainment         24 min   \n",
       "...                                 ...            ...   \n",
       "5834                            UNKNOWN        PT1H34M   \n",
       "5835                            UNKNOWN        UNKNOWN   \n",
       "5836                            UNKNOWN        UNKNOWN   \n",
       "5837                            UNKNOWN        UNKNOWN   \n",
       "5838                            UNKNOWN           PT8M   \n",
       "\n",
       "                      anime_English name                  anime_Genres  \\\n",
       "0                           [Oshi No Ko]           Drama, Supernatural   \n",
       "1                                UNKNOWN     Adventure, Drama, Fantasy   \n",
       "2       .hack//G.U. Trilogy: Parody Mode       Comedy, Fantasy, Sci-Fi   \n",
       "3                            .hack//Gift               Comedy, Fantasy   \n",
       "4                            .hack//Sign   Adventure, Fantasy, Mystery   \n",
       "...                                  ...                           ...   \n",
       "5834  Willy McBean and His Magic Machine  Animation, Adventure, Family   \n",
       "5835                           Astro Boy  Animation, Action, Adventure   \n",
       "5836               Tetsujin nijûhachi-go  Animation, Action, Adventure   \n",
       "5837                             Eitoman  Animation, Action, Adventure   \n",
       "5838                Kitsune no homerun-ô              Animation, Short   \n",
       "\n",
       "                                        anime_Image URL  \\\n",
       "0                                               UNKNOWN   \n",
       "1                                               UNKNOWN   \n",
       "2                                               UNKNOWN   \n",
       "3     https://cdn.myanimelist.net/images/anime/2/230...   \n",
       "4                                               UNKNOWN   \n",
       "...                                                 ...   \n",
       "5834                                            UNKNOWN   \n",
       "5835                                            UNKNOWN   \n",
       "5836                                            UNKNOWN   \n",
       "5837                                            UNKNOWN   \n",
       "5838                                            UNKNOWN   \n",
       "\n",
       "                        anime_Other name anime_Score  \\\n",
       "0                                 【推しの子】        8.98   \n",
       "1                   .HACK//G.U. RETURNER        6.67   \n",
       "2                    .hack//G.U. Trilogy        6.36   \n",
       "3                            .hack//GIFT         6.1   \n",
       "4                            .hack//SIGN        6.95   \n",
       "...                                  ...         ...   \n",
       "5834  Willy McBean and His Magic Machine         5.9   \n",
       "5835                           Astro Boy         7.4   \n",
       "5836               Tetsujin nijûhachi-go         6.7   \n",
       "5837                             Eitoman         6.2   \n",
       "5838                Kitsune no homerun-ô         4.3   \n",
       "\n",
       "                                         anime_Synopsis anime_anime_id  \\\n",
       "0     In the entertainment world, celebrities often ...          52034   \n",
       "1     The characters from previous .hack//G.U. Games...           2928   \n",
       "2     A special bonus Parody Mode added to the extra...           4469   \n",
       "3     As an expression of gratitude for the heroes o...            454   \n",
       "4     A young wavemaster, only known by the alias of...             48   \n",
       "...                                                 ...            ...   \n",
       "5834  Little Willy McBean joins up with a Mexican mo...        UNKNOWN   \n",
       "5835  As long as trouble&apos;s brewing across the u...        UNKNOWN   \n",
       "5836  Scientists and police fight crime with the hel...        UNKNOWN   \n",
       "5837  A slain detective is transformed by a scientif...        UNKNOWN   \n",
       "5838  The rabbits versus the foxes is the big match-...        UNKNOWN   \n",
       "\n",
       "                           imdb_name_basics_primaryName  \\\n",
       "0     Natalie Rial, Christina Marie Kelly, Takeo Ots...   \n",
       "1     Kaori Nazuka, Ayako Kawasumi, Takahiro Sakurai...   \n",
       "2     Hiroshi Matsuyama, Ayako Kawasumi, Saeko Hirot...   \n",
       "3     Isshin Chiba, Shin'ya Kawatsura, Sayaka Aida, ...   \n",
       "4     Amanda Winn Lee, Kaori Nazuka, Donna Rawlins, ...   \n",
       "...                                                 ...   \n",
       "5834                 Willy McBean and His Magic Machine   \n",
       "5835                                          Astro Boy   \n",
       "5836                              Tetsujin nijûhachi-go   \n",
       "5837                                            Eitoman   \n",
       "5838                               Kitsune no homerun-ô   \n",
       "\n",
       "                                                   plot  \\\n",
       "0     Oshi no Ko (【推しの子】, \"My Favorite Idol\" or \"The...   \n",
       "1     .hack//G.U. is a series of single-player actio...   \n",
       "2     .hack//G.U. Trilogy (Japanese: ドットハック G.U. Tri...   \n",
       "3     This is a list of media related to the .hack m...   \n",
       "4     .hack//Sign (stylized as .hack//SIGN) is a Jap...   \n",
       "...                                                 ...   \n",
       "5834  Willy McBean and His Magic Machine  is a 1965 ...   \n",
       "5835                                            UNKNOWN   \n",
       "5836                                            UNKNOWN   \n",
       "5837  Boris Eifman (Борис Яковлевич Эйфман) (born 22...   \n",
       "5838                                            UNKNOWN   \n",
       "\n",
       "                                               keywords  \\\n",
       "0     idol,anime animation,based on manga,singer,per...   \n",
       "1                                                 .hack   \n",
       "2                                                 .hack   \n",
       "3     anime animation,parody comedy,spoof,hot spring...   \n",
       "4     isekai,anime animation,female nudity,multiplay...   \n",
       "...                                                 ...   \n",
       "5834  1960s,time machine,stop motion animation,evil,...   \n",
       "5835  robot sci fi,1960s,humanoid robot,android,sent...   \n",
       "5836  robot sci fi,anime animation,scientist,robot,t...   \n",
       "5837  cyborg sci fi,superhero,anime animation,superh...   \n",
       "5838                                           baseball   \n",
       "\n",
       "                                                  image  \\\n",
       "0     https://m.media-amazon.com/images/M/MV5BYWFkZD...   \n",
       "1     https://m.media-amazon.com/images/M/MV5BYjViMD...   \n",
       "2     https://m.media-amazon.com/images/M/MV5BODU4Nz...   \n",
       "3     https://m.media-amazon.com/images/M/MV5BNjUwMT...   \n",
       "4     https://m.media-amazon.com/images/M/MV5BOTE5YW...   \n",
       "...                                                 ...   \n",
       "5834  https://m.media-amazon.com/images/M/MV5BYWEwMm...   \n",
       "5835  https://m.media-amazon.com/images/M/MV5BMTBmYj...   \n",
       "5836  https://m.media-amazon.com/images/M/MV5BOWY0MT...   \n",
       "5837  https://m.media-amazon.com/images/M/MV5BZmNhZm...   \n",
       "5838                                            UNKNOWN   \n",
       "\n",
       "                                                   text anime_id  \\\n",
       "0     Oshi no Ko (【推しの子】, \"My Favorite Idol\" or \"The...  52034.0   \n",
       "1     .hack//G.U. is a series of single-player actio...   2928.0   \n",
       "2     .hack//G.U. Trilogy (Japanese: ドットハック G.U. Tri...   4469.0   \n",
       "3     As an expression of gratitude for the heroes o...    454.0   \n",
       "4     .hack//Sign (stylized as .hack//SIGN) is a Jap...     48.0   \n",
       "...                                                 ...      ...   \n",
       "5834  Little Willy McBean joins up with a Mexican mo...  UNKNOWN   \n",
       "5835  When an android replica of a boy is rejected b...  UNKNOWN   \n",
       "5836  Scientists and police fight crime with the hel...  UNKNOWN   \n",
       "5837  A slain detective is transformed by a scientif...  UNKNOWN   \n",
       "5838  The rabbits versus the foxes is the big match-...  UNKNOWN   \n",
       "\n",
       "                                              Producers  \\\n",
       "0                        Shueisha, CyberAgent, Kadokawa   \n",
       "1                          Bandai Visual, CyberConnect2   \n",
       "2                                         Bandai Visual   \n",
       "3                                         CyberConnect2   \n",
       "4     Bandai Visual, Yomiko Advertising, Bandai, Cyb...   \n",
       "...                                                 ...   \n",
       "5834                                            UNKNOWN   \n",
       "5835                                            UNKNOWN   \n",
       "5836                                            UNKNOWN   \n",
       "5837                                            UNKNOWN   \n",
       "5838                                            UNKNOWN   \n",
       "\n",
       "                             Licensors        Studios  \\\n",
       "0                     Sentai Filmworks      Doga Kobo   \n",
       "1                              UNKNOWN      Bee Train   \n",
       "2     Funimation, Bandai Entertainment  CyberConnect2   \n",
       "3                 Bandai Entertainment      Bee Train   \n",
       "4     Funimation, Bandai Entertainment      Bee Train   \n",
       "...                                ...            ...   \n",
       "5834                           UNKNOWN        UNKNOWN   \n",
       "5835                           UNKNOWN        UNKNOWN   \n",
       "5836                           UNKNOWN        UNKNOWN   \n",
       "5837                           UNKNOWN        UNKNOWN   \n",
       "5838                           UNKNOWN        UNKNOWN   \n",
       "\n",
       "                                              Image URL Episodes  \\\n",
       "0     https://cdn.myanimelist.net/images/anime/1812/...     11.0   \n",
       "1     https://cdn.myanimelist.net/images/anime/1798/...      1.0   \n",
       "2     https://cdn.myanimelist.net/images/anime/10/86...      1.0   \n",
       "3     https://cdn.myanimelist.net/images/anime/2/230...      1.0   \n",
       "4     https://cdn.myanimelist.net/images/anime/1443/...     26.0   \n",
       "...                                                 ...      ...   \n",
       "5834                                            UNKNOWN  UNKNOWN   \n",
       "5835                                            UNKNOWN  UNKNOWN   \n",
       "5836                                            UNKNOWN  UNKNOWN   \n",
       "5837                                            UNKNOWN  UNKNOWN   \n",
       "5838                                            UNKNOWN  UNKNOWN   \n",
       "\n",
       "                           Genres    Source Favorites  \\\n",
       "0             Drama, Supernatural     Manga   18336.0   \n",
       "1       Adventure, Drama, Fantasy      Game      32.0   \n",
       "2         Comedy, Fantasy, Sci-Fi      Game      10.0   \n",
       "3                 Comedy, Fantasy  Original      19.0   \n",
       "4     Adventure, Fantasy, Mystery  Original    1343.0   \n",
       "...                           ...       ...       ...   \n",
       "5834                      UNKNOWN   UNKNOWN   UNKNOWN   \n",
       "5835                      UNKNOWN   UNKNOWN   UNKNOWN   \n",
       "5836                      UNKNOWN   UNKNOWN   UNKNOWN   \n",
       "5837                      UNKNOWN   UNKNOWN   UNKNOWN   \n",
       "5838                      UNKNOWN   UNKNOWN   UNKNOWN   \n",
       "\n",
       "                             Aired   Members       Duration  \n",
       "0     Apr 12, 2023 to Jun 28, 2023  512617.0  30 min per ep  \n",
       "1                     Jan 18, 2007   21271.0         24 min  \n",
       "2                     Mar 25, 2008   10641.0          6 min  \n",
       "3                     Nov 16, 2003   20567.0         26 min  \n",
       "4      Apr 4, 2002 to Sep 26, 2002  178659.0  24 min per ep  \n",
       "...                            ...       ...            ...  \n",
       "5834                       UNKNOWN   UNKNOWN        PT1H34M  \n",
       "5835                       UNKNOWN   UNKNOWN        UNKNOWN  \n",
       "5836                       UNKNOWN   UNKNOWN        UNKNOWN  \n",
       "5837                       UNKNOWN   UNKNOWN        UNKNOWN  \n",
       "5838                       UNKNOWN   UNKNOWN           PT8M  \n",
       "\n",
       "[5839 rows x 32 columns]"
      ]
     },
     "execution_count": 52,
     "metadata": {},
     "output_type": "execute_result"
    }
   ],
   "source": [
    "merge_df.replace({'none': 'UNKNOWN', 'None': 'UNKNOWN', np.nan: 'UNKNOWN'})\n"
   ]
  },
  {
   "cell_type": "markdown",
   "metadata": {},
   "source": []
  },
  {
   "cell_type": "code",
   "execution_count": 67,
   "metadata": {},
   "outputs": [],
   "source": [
    "df_add_on = df_add_on[~df_add_on['anime_id'].isin(merge_df['anime_anime_id'].tolist())].reset_index(drop = True)"
   ]
  },
  {
   "cell_type": "code",
   "execution_count": 74,
   "metadata": {},
   "outputs": [],
   "source": [
    "# Function to get Wikipedia content for a given title\n",
    "def get_wikipedia_content(title):\n",
    "    import time\n",
    "\n",
    "    try:\n",
    "        page = wikipedia.page(title)\n",
    "        return page.content\n",
    "    except wikipedia.exceptions.DisambiguationError as e:\n",
    "        # If the title is ambiguous, you can handle it as per your requirement\n",
    "        return f\"Ambiguous title: {title}. Options: {e.options}\"\n",
    "    except wikipedia.exceptions.PageError:\n",
    "        return f\"No Wikipedia page found for: {title}\"\n",
    "    except wikipedia.exceptions.HTTPTimeoutError as e:\n",
    "        return f\"Timeout error occurred: {str(e)}\"\n",
    "    except wikipedia.exceptions.WikipediaException as e:\n",
    "        if \"HTTP 443\" in str(e):\n",
    "            print(\"Received HTTP 443 error. Pausing for 2 minutes...\")\n",
    "            time.sleep(120)  # Pause for 2 minutes (120 seconds)\n",
    "            print(\"Resuming...\")\n",
    "            return get_wikipedia_content(title)  # Retry\n",
    "        else:\n",
    "            return f\"Error occurred: {str(e)}\"\n",
    "    except Exception as e:\n",
    "        return f\"Error occurred: {str(e)}\"\n",
    "    \n",
    "def fetch_wikipedia_content(df, get_wikipedia_content_func):\n",
    "    # Dictionary to store data\n",
    "    data_dict = {}\n",
    "\n",
    "    # Loop through each title in the DataFrame with tqdm for progress tracking\n",
    "    for index, row in tqdm(df.iterrows(), total=len(df), desc=\"Fetching Wikipedia Content\"):\n",
    "        imdb_id = row['anime_id']\n",
    "        title = row['Name']\n",
    "\n",
    "        # Get Wikipedia content for the title\n",
    "        content = get_wikipedia_content_func(title)\n",
    "\n",
    "        # Add data to dictionary\n",
    "        if imdb_id not in data_dict:\n",
    "            data_dict[imdb_id] = {'Title': title, 'Content': content}\n",
    "        else:\n",
    "            print(f\"Duplicate IMDb ID found: {imdb_id}\")\n",
    "\n",
    "    return data_dict"
   ]
  },
  {
   "cell_type": "code",
   "execution_count": 75,
   "metadata": {},
   "outputs": [
    {
     "data": {
      "text/plain": [
       "Index(['anime_id', 'Name', 'English name', 'Other name', 'Score', 'Genres',\n",
       "       'Synopsis', 'Type', 'Episodes', 'Aired', 'Premiered', 'Status',\n",
       "       'Producers', 'Licensors', 'Studios', 'Source', 'Duration', 'Rating',\n",
       "       'Rank', 'Popularity', 'Favorites', 'Scored By', 'Members', 'Image URL'],\n",
       "      dtype='object')"
      ]
     },
     "execution_count": 75,
     "metadata": {},
     "output_type": "execute_result"
    }
   ],
   "source": [
    "df_add_on.columns"
   ]
  },
  {
   "cell_type": "code",
   "execution_count": 76,
   "metadata": {},
   "outputs": [
    {
     "data": {
      "text/plain": [
       "17058"
      ]
     },
     "execution_count": 76,
     "metadata": {},
     "output_type": "execute_result"
    }
   ],
   "source": [
    "len(df_add_on)"
   ]
  },
  {
   "cell_type": "code",
   "execution_count": 77,
   "metadata": {},
   "outputs": [],
   "source": [
    "pull1 = df_add_on.iloc[0:1500,:]\n",
    "pull2 = df_add_on.iloc[1500:3000,:]\n",
    "pull3 = df_add_on.iloc[3000:4500,:]\n",
    "pull4 = df_add_on.iloc[4500:6000,:]\n",
    "pull5 = df_add_on.iloc[6000:7500,:]\n",
    "pull6 = df_add_on.iloc[7500:9000,:]\n",
    "pull7 = df_add_on.iloc[9000:10500,:]\n",
    "pull8 = df_add_on.iloc[10500:12000,:]\n",
    "pull9 = df_add_on.iloc[12000:13500,:]\n",
    "pull10 = df_add_on.iloc[13500:15000,:]\n",
    "pull11 = df_add_on.iloc[15000:16500,:]\n",
    "pull12 = df_add_on.iloc[16500:,:]"
   ]
  },
  {
   "cell_type": "code",
   "execution_count": 78,
   "metadata": {},
   "outputs": [
    {
     "name": "stderr",
     "output_type": "stream",
     "text": [
      "Fetching Wikipedia Content:   3%|▎         | 41/1500 [00:39<23:49,  1.02it/s]/Users/justinvhuang/miniconda3/envs/spacy/lib/python3.10/site-packages/wikipedia/wikipedia.py:389: GuessedAtParserWarning: No parser was explicitly specified, so I'm using the best available HTML parser for this system (\"lxml\"). This usually isn't a problem, but if you run this code on another system, or in a different virtual environment, it may use a different parser and behave differently.\n",
      "\n",
      "The code that caused this warning is on line 389 of the file /Users/justinvhuang/miniconda3/envs/spacy/lib/python3.10/site-packages/wikipedia/wikipedia.py. To get rid of this warning, pass the additional argument 'features=\"lxml\"' to the BeautifulSoup constructor.\n",
      "\n",
      "  lis = BeautifulSoup(html).find_all('li')\n",
      "Fetching Wikipedia Content: 100%|██████████| 1500/1500 [23:54<00:00,  1.05it/s]\n"
     ]
    }
   ],
   "source": [
    "fetch1 = fetch_wikipedia_content(pull1, get_wikipedia_content)"
   ]
  },
  {
   "cell_type": "code",
   "execution_count": 79,
   "metadata": {},
   "outputs": [
    {
     "name": "stderr",
     "output_type": "stream",
     "text": [
      "Fetching Wikipedia Content: 100%|██████████| 1500/1500 [23:19<00:00,  1.07it/s] \n"
     ]
    }
   ],
   "source": [
    "fetch2 = fetch_wikipedia_content(pull2, get_wikipedia_content)"
   ]
  },
  {
   "cell_type": "code",
   "execution_count": 80,
   "metadata": {},
   "outputs": [
    {
     "name": "stderr",
     "output_type": "stream",
     "text": [
      "Fetching Wikipedia Content: 100%|██████████| 1500/1500 [22:43<00:00,  1.10it/s]\n"
     ]
    }
   ],
   "source": [
    "fetch3 = fetch_wikipedia_content(pull3, get_wikipedia_content)"
   ]
  },
  {
   "cell_type": "code",
   "execution_count": 81,
   "metadata": {},
   "outputs": [
    {
     "name": "stderr",
     "output_type": "stream",
     "text": [
      "Fetching Wikipedia Content: 100%|██████████| 1500/1500 [21:50<00:00,  1.14it/s] \n"
     ]
    }
   ],
   "source": [
    "fetch4 = fetch_wikipedia_content(pull4, get_wikipedia_content)"
   ]
  },
  {
   "cell_type": "code",
   "execution_count": 82,
   "metadata": {},
   "outputs": [
    {
     "name": "stderr",
     "output_type": "stream",
     "text": [
      "Fetching Wikipedia Content: 100%|██████████| 1500/1500 [20:17<00:00,  1.23it/s]\n"
     ]
    }
   ],
   "source": [
    "fetch5 = fetch_wikipedia_content(pull5, get_wikipedia_content)"
   ]
  },
  {
   "cell_type": "code",
   "execution_count": 83,
   "metadata": {},
   "outputs": [
    {
     "name": "stderr",
     "output_type": "stream",
     "text": [
      "Fetching Wikipedia Content: 100%|██████████| 1500/1500 [20:28<00:00,  1.22it/s]\n"
     ]
    }
   ],
   "source": [
    "fetch6 = fetch_wikipedia_content(pull6, get_wikipedia_content)"
   ]
  },
  {
   "cell_type": "code",
   "execution_count": 84,
   "metadata": {},
   "outputs": [
    {
     "name": "stderr",
     "output_type": "stream",
     "text": [
      "Fetching Wikipedia Content: 100%|██████████| 1500/1500 [19:57<00:00,  1.25it/s] \n"
     ]
    }
   ],
   "source": [
    "fetch7 = fetch_wikipedia_content(pull7, get_wikipedia_content)"
   ]
  },
  {
   "cell_type": "code",
   "execution_count": 85,
   "metadata": {},
   "outputs": [
    {
     "name": "stderr",
     "output_type": "stream",
     "text": [
      "Fetching Wikipedia Content: 100%|██████████| 1500/1500 [20:05<00:00,  1.24it/s]\n"
     ]
    }
   ],
   "source": [
    "fetch8 = fetch_wikipedia_content(pull8, get_wikipedia_content)"
   ]
  },
  {
   "cell_type": "code",
   "execution_count": 86,
   "metadata": {},
   "outputs": [
    {
     "name": "stderr",
     "output_type": "stream",
     "text": [
      "Fetching Wikipedia Content: 100%|██████████| 1500/1500 [19:24<00:00,  1.29it/s] \n"
     ]
    }
   ],
   "source": [
    "fetch9 = fetch_wikipedia_content(pull9, get_wikipedia_content)"
   ]
  },
  {
   "cell_type": "code",
   "execution_count": 87,
   "metadata": {},
   "outputs": [
    {
     "name": "stderr",
     "output_type": "stream",
     "text": [
      "Fetching Wikipedia Content: 100%|██████████| 1500/1500 [18:47<00:00,  1.33it/s]\n"
     ]
    }
   ],
   "source": [
    "fetch10 = fetch_wikipedia_content(pull10, get_wikipedia_content)"
   ]
  },
  {
   "cell_type": "code",
   "execution_count": 88,
   "metadata": {},
   "outputs": [
    {
     "name": "stderr",
     "output_type": "stream",
     "text": [
      "Fetching Wikipedia Content: 100%|██████████| 1500/1500 [20:26<00:00,  1.22it/s] \n"
     ]
    }
   ],
   "source": [
    "fetch11 = fetch_wikipedia_content(pull11, get_wikipedia_content)"
   ]
  },
  {
   "cell_type": "code",
   "execution_count": 89,
   "metadata": {},
   "outputs": [
    {
     "name": "stderr",
     "output_type": "stream",
     "text": [
      "Fetching Wikipedia Content: 100%|██████████| 558/558 [07:25<00:00,  1.25it/s]\n"
     ]
    }
   ],
   "source": [
    "fetch12 = fetch_wikipedia_content(pull12, get_wikipedia_content)"
   ]
  },
  {
   "cell_type": "code",
   "execution_count": 90,
   "metadata": {},
   "outputs": [],
   "source": [
    "# Combine dictionaries\n",
    "combined_dict = {}\n",
    "combined_dict.update(fetch1)\n",
    "combined_dict.update(fetch2)\n",
    "combined_dict.update(fetch3)\n",
    "combined_dict.update(fetch4)\n",
    "combined_dict.update(fetch5)\n",
    "combined_dict.update(fetch6)\n",
    "combined_dict.update(fetch7)\n",
    "combined_dict.update(fetch8)\n",
    "combined_dict.update(fetch9)\n",
    "combined_dict.update(fetch10)\n",
    "combined_dict.update(fetch11)\n",
    "combined_dict.update(fetch12)"
   ]
  },
  {
   "cell_type": "code",
   "execution_count": 91,
   "metadata": {},
   "outputs": [],
   "source": [
    "import pickle\n",
    "\n",
    "# File path to save the dictionary\n",
    "file_path = \"anime_wiki_dict.pkl\"\n",
    "\n",
    "# Save the dictionary using pickle\n",
    "with open(file_path, 'wb') as f:\n",
    "    pickle.dump(combined_dict, f)"
   ]
  },
  {
   "cell_type": "code",
   "execution_count": 92,
   "metadata": {},
   "outputs": [],
   "source": [
    "df_wiki = pd.DataFrame(combined_dict).T"
   ]
  },
  {
   "cell_type": "code",
   "execution_count": 97,
   "metadata": {},
   "outputs": [],
   "source": [
    "filtered_df_wiki2 = df_wiki[~df_wiki['Content'].str.startswith('No Wikipedia page found for:')].reset_index()"
   ]
  },
  {
   "cell_type": "code",
   "execution_count": 123,
   "metadata": {},
   "outputs": [
    {
     "data": {
      "text/html": [
       "<div>\n",
       "<style scoped>\n",
       "    .dataframe tbody tr th:only-of-type {\n",
       "        vertical-align: middle;\n",
       "    }\n",
       "\n",
       "    .dataframe tbody tr th {\n",
       "        vertical-align: top;\n",
       "    }\n",
       "\n",
       "    .dataframe thead th {\n",
       "        text-align: right;\n",
       "    }\n",
       "</style>\n",
       "<table border=\"1\" class=\"dataframe\">\n",
       "  <thead>\n",
       "    <tr style=\"text-align: right;\">\n",
       "      <th></th>\n",
       "      <th>index</th>\n",
       "      <th>Title</th>\n",
       "      <th>Content</th>\n",
       "    </tr>\n",
       "  </thead>\n",
       "  <tbody>\n",
       "    <tr>\n",
       "      <th>0</th>\n",
       "      <td>18</td>\n",
       "      <td>Initial D Fourth Stage</td>\n",
       "      <td>Initial D (Japanese: 頭文字イニシャル D, Hepburn: Inis...</td>\n",
       "    </tr>\n",
       "    <tr>\n",
       "      <th>1</th>\n",
       "      <td>23</td>\n",
       "      <td>Ring ni Kakero 1</td>\n",
       "      <td>Ring ni Kakero (Japanese: リングにかけろ, Hepburn: Ri...</td>\n",
       "    </tr>\n",
       "    <tr>\n",
       "      <th>2</th>\n",
       "      <td>62</td>\n",
       "      <td>D.C.: Da Capo</td>\n",
       "      <td>Da Capo (〜ダ・カーポ〜, Da Kāpo, commonly abbreviate...</td>\n",
       "    </tr>\n",
       "    <tr>\n",
       "      <th>3</th>\n",
       "      <td>63</td>\n",
       "      <td>DearS</td>\n",
       "      <td>Bears are carnivoran mammals of the family Urs...</td>\n",
       "    </tr>\n",
       "    <tr>\n",
       "      <th>4</th>\n",
       "      <td>102</td>\n",
       "      <td>Aishiteruze Baby★★</td>\n",
       "      <td>Aishiteruze Baby (愛してるぜ ベイベ★★, Aishiteruze Bei...</td>\n",
       "    </tr>\n",
       "    <tr>\n",
       "      <th>...</th>\n",
       "      <td>...</td>\n",
       "      <td>...</td>\n",
       "      <td>...</td>\n",
       "    </tr>\n",
       "    <tr>\n",
       "      <th>6719</th>\n",
       "      <td>55719</td>\n",
       "      <td>The Demon Queen Has a Death Wish</td>\n",
       "      <td>Mage &amp; Demon Queen is a fantasy-comedy webtoon...</td>\n",
       "    </tr>\n",
       "    <tr>\n",
       "      <th>6720</th>\n",
       "      <td>55721</td>\n",
       "      <td>See You on Our Veranda</td>\n",
       "      <td>Emeril John Lagassé III ( EM-ə-rəl lə-GAH-see;...</td>\n",
       "    </tr>\n",
       "    <tr>\n",
       "      <th>6721</th>\n",
       "      <td>55722</td>\n",
       "      <td>No More Princes</td>\n",
       "      <td>The Princes in the Tower refers to the mystery...</td>\n",
       "    </tr>\n",
       "    <tr>\n",
       "      <th>6722</th>\n",
       "      <td>55723</td>\n",
       "      <td>The Forgotten Princess Just Wants Peace</td>\n",
       "      <td>This article is a list of episodes from the te...</td>\n",
       "    </tr>\n",
       "    <tr>\n",
       "      <th>6723</th>\n",
       "      <td>55726</td>\n",
       "      <td>Die, Please!</td>\n",
       "      <td>Ambiguous title: Die, Please!. Options: [\"God'...</td>\n",
       "    </tr>\n",
       "  </tbody>\n",
       "</table>\n",
       "<p>6724 rows × 3 columns</p>\n",
       "</div>"
      ],
      "text/plain": [
       "      index                                    Title  \\\n",
       "0        18                   Initial D Fourth Stage   \n",
       "1        23                         Ring ni Kakero 1   \n",
       "2        62                            D.C.: Da Capo   \n",
       "3        63                                    DearS   \n",
       "4       102                       Aishiteruze Baby★★   \n",
       "...     ...                                      ...   \n",
       "6719  55719         The Demon Queen Has a Death Wish   \n",
       "6720  55721                   See You on Our Veranda   \n",
       "6721  55722                          No More Princes   \n",
       "6722  55723  The Forgotten Princess Just Wants Peace   \n",
       "6723  55726                             Die, Please!   \n",
       "\n",
       "                                                Content  \n",
       "0     Initial D (Japanese: 頭文字イニシャル D, Hepburn: Inis...  \n",
       "1     Ring ni Kakero (Japanese: リングにかけろ, Hepburn: Ri...  \n",
       "2     Da Capo (〜ダ・カーポ〜, Da Kāpo, commonly abbreviate...  \n",
       "3     Bears are carnivoran mammals of the family Urs...  \n",
       "4     Aishiteruze Baby (愛してるぜ ベイベ★★, Aishiteruze Bei...  \n",
       "...                                                 ...  \n",
       "6719  Mage & Demon Queen is a fantasy-comedy webtoon...  \n",
       "6720  Emeril John Lagassé III ( EM-ə-rəl lə-GAH-see;...  \n",
       "6721  The Princes in the Tower refers to the mystery...  \n",
       "6722  This article is a list of episodes from the te...  \n",
       "6723  Ambiguous title: Die, Please!. Options: [\"God'...  \n",
       "\n",
       "[6724 rows x 3 columns]"
      ]
     },
     "execution_count": 123,
     "metadata": {},
     "output_type": "execute_result"
    }
   ],
   "source": [
    "filtered_df_wiki2"
   ]
  },
  {
   "cell_type": "code",
   "execution_count": 126,
   "metadata": {},
   "outputs": [],
   "source": [
    "add_on_fin_df = df_add_on.merge(filtered_df_wiki2, left_on = 'anime_id', right_on = 'index', how = 'inner')"
   ]
  },
  {
   "cell_type": "code",
   "execution_count": 128,
   "metadata": {},
   "outputs": [],
   "source": [
    "# Define the regular expression pattern\n",
    "pattern = r'^.*?\\n\\n\\n(.*?)\\n\\n\\n'\n",
    "add_on_fin_df['match'] = add_on_fin_df['Content'].apply(lambda x: re.search(pattern, x, re.DOTALL))\n",
    "add_on_fin_df['plot'] = add_on_fin_df['match'].apply(lambda x: x.group(0)if x else \"None\")"
   ]
  },
  {
   "cell_type": "code",
   "execution_count": 130,
   "metadata": {},
   "outputs": [],
   "source": [
    "add_on_fin_df = add_on_fin_df[add_on_fin_df['plot'] != \"None\"]"
   ]
  },
  {
   "cell_type": "code",
   "execution_count": 134,
   "metadata": {},
   "outputs": [
    {
     "name": "stdout",
     "output_type": "stream",
     "text": [
      "6722    This article is a list of episodes from the te...\n",
      "Name: plot, dtype: object\n"
     ]
    }
   ],
   "source": [
    "print(add_on_fin_df.tail(1)['plot'])"
   ]
  },
  {
   "cell_type": "code",
   "execution_count": 138,
   "metadata": {},
   "outputs": [],
   "source": [
    "add_on_fin_df = add_on_fin_df[~add_on_fin_df['plot'].str.startswith(\"This article is a\")]\n"
   ]
  },
  {
   "cell_type": "code",
   "execution_count": 143,
   "metadata": {},
   "outputs": [
    {
     "name": "stderr",
     "output_type": "stream",
     "text": [
      "/var/folders/vz/cyjrzm0x74q21sb72nhkdfmr0000gn/T/ipykernel_24741/2032242105.py:1: SettingWithCopyWarning: \n",
      "A value is trying to be set on a copy of a slice from a DataFrame.\n",
      "Try using .loc[row_indexer,col_indexer] = value instead\n",
      "\n",
      "See the caveats in the documentation: https://pandas.pydata.org/pandas-docs/stable/user_guide/indexing.html#returning-a-view-versus-a-copy\n",
      "  add_on_fin_df['plot'] = add_on_fin_df['plot'].str.replace('== Plot ==', '')\n"
     ]
    }
   ],
   "source": [
    "add_on_fin_df['plot'] = add_on_fin_df['plot'].str.replace('== Plot ==', '')"
   ]
  },
  {
   "cell_type": "code",
   "execution_count": 145,
   "metadata": {},
   "outputs": [
    {
     "data": {
      "text/plain": [
       "Index(['imdb_title_title', 'imdb_title_titleId', 'anime_Aired', 'anime_Rating',\n",
       "       'anime_Producers', 'anime_Studios', 'anime_Licensors', 'anime_Duration',\n",
       "       'anime_English name', 'anime_Genres', 'anime_Image URL',\n",
       "       'anime_Other name', 'anime_Score', 'anime_Synopsis', 'anime_anime_id',\n",
       "       'imdb_name_basics_primaryName', 'plot', 'keywords', 'image', 'text',\n",
       "       'anime_id', 'Producers', 'Licensors', 'Studios', 'Image URL',\n",
       "       'Episodes', 'Genres', 'Source', 'Favorites', 'Aired', 'Members',\n",
       "       'Duration'],\n",
       "      dtype='object')"
      ]
     },
     "execution_count": 145,
     "metadata": {},
     "output_type": "execute_result"
    }
   ],
   "source": [
    "merge_df.columns"
   ]
  },
  {
   "cell_type": "code",
   "execution_count": 154,
   "metadata": {},
   "outputs": [],
   "source": [
    "# Define a function to compare the lengths of 'text' and 'anime_Synopsis' columns and return the appropriate value\n",
    "def replace_text(row):\n",
    "    if len(row['plot']) < len(row['Synopsis']):\n",
    "        return row['Synopsis']\n",
    "    else:\n",
    "        return row['plot']"
   ]
  },
  {
   "cell_type": "code",
   "execution_count": 155,
   "metadata": {},
   "outputs": [
    {
     "name": "stderr",
     "output_type": "stream",
     "text": [
      "/var/folders/vz/cyjrzm0x74q21sb72nhkdfmr0000gn/T/ipykernel_24741/470037777.py:1: SettingWithCopyWarning: \n",
      "A value is trying to be set on a copy of a slice from a DataFrame.\n",
      "Try using .loc[row_indexer,col_indexer] = value instead\n",
      "\n",
      "See the caveats in the documentation: https://pandas.pydata.org/pandas-docs/stable/user_guide/indexing.html#returning-a-view-versus-a-copy\n",
      "  add_on_fin_df['text'] = add_on_fin_df.apply(replace_text, axis=1)\n"
     ]
    }
   ],
   "source": [
    "add_on_fin_df['text'] = add_on_fin_df.apply(replace_text, axis=1)"
   ]
  },
  {
   "cell_type": "code",
   "execution_count": 157,
   "metadata": {},
   "outputs": [
    {
     "data": {
      "text/plain": [
       "Index(['anime_id', 'Name', 'English name', 'Other name', 'Score', 'Genres',\n",
       "       'Synopsis', 'Type', 'Episodes', 'Aired', 'Premiered', 'Status',\n",
       "       'Producers', 'Licensors', 'Studios', 'Source', 'Duration', 'Rating',\n",
       "       'Rank', 'Popularity', 'Favorites', 'Scored By', 'Members', 'Image URL',\n",
       "       'index', 'Title', 'Content', 'match', 'plot', 'text'],\n",
       "      dtype='object')"
      ]
     },
     "execution_count": 157,
     "metadata": {},
     "output_type": "execute_result"
    }
   ],
   "source": [
    "add_on_fin_df.columns"
   ]
  },
  {
   "cell_type": "code",
   "execution_count": 160,
   "metadata": {},
   "outputs": [
    {
     "name": "stderr",
     "output_type": "stream",
     "text": [
      "/var/folders/vz/cyjrzm0x74q21sb72nhkdfmr0000gn/T/ipykernel_24741/2554166314.py:1: SettingWithCopyWarning: \n",
      "A value is trying to be set on a copy of a slice from a DataFrame.\n",
      "Try using .loc[row_indexer,col_indexer] = value instead\n",
      "\n",
      "See the caveats in the documentation: https://pandas.pydata.org/pandas-docs/stable/user_guide/indexing.html#returning-a-view-versus-a-copy\n",
      "  add_on_fin_df['imdb_title_title'] = 'UNKNOWN'\n",
      "/var/folders/vz/cyjrzm0x74q21sb72nhkdfmr0000gn/T/ipykernel_24741/2554166314.py:2: SettingWithCopyWarning: \n",
      "A value is trying to be set on a copy of a slice from a DataFrame.\n",
      "Try using .loc[row_indexer,col_indexer] = value instead\n",
      "\n",
      "See the caveats in the documentation: https://pandas.pydata.org/pandas-docs/stable/user_guide/indexing.html#returning-a-view-versus-a-copy\n",
      "  add_on_fin_df['imdb_title_titleId'] = 'UNKNOWN'\n",
      "/var/folders/vz/cyjrzm0x74q21sb72nhkdfmr0000gn/T/ipykernel_24741/2554166314.py:3: SettingWithCopyWarning: \n",
      "A value is trying to be set on a copy of a slice from a DataFrame.\n",
      "Try using .loc[row_indexer,col_indexer] = value instead\n",
      "\n",
      "See the caveats in the documentation: https://pandas.pydata.org/pandas-docs/stable/user_guide/indexing.html#returning-a-view-versus-a-copy\n",
      "  add_on_fin_df['anime_Rating'] = add_on_fin_df['Rating']\n",
      "/var/folders/vz/cyjrzm0x74q21sb72nhkdfmr0000gn/T/ipykernel_24741/2554166314.py:4: SettingWithCopyWarning: \n",
      "A value is trying to be set on a copy of a slice from a DataFrame.\n",
      "Try using .loc[row_indexer,col_indexer] = value instead\n",
      "\n",
      "See the caveats in the documentation: https://pandas.pydata.org/pandas-docs/stable/user_guide/indexing.html#returning-a-view-versus-a-copy\n",
      "  add_on_fin_df['anime_Genres'] = add_on_fin_df['Genres']\n",
      "/var/folders/vz/cyjrzm0x74q21sb72nhkdfmr0000gn/T/ipykernel_24741/2554166314.py:5: SettingWithCopyWarning: \n",
      "A value is trying to be set on a copy of a slice from a DataFrame.\n",
      "Try using .loc[row_indexer,col_indexer] = value instead\n",
      "\n",
      "See the caveats in the documentation: https://pandas.pydata.org/pandas-docs/stable/user_guide/indexing.html#returning-a-view-versus-a-copy\n",
      "  add_on_fin_df['anime_Other name'] = add_on_fin_df['Other name']\n",
      "/var/folders/vz/cyjrzm0x74q21sb72nhkdfmr0000gn/T/ipykernel_24741/2554166314.py:6: SettingWithCopyWarning: \n",
      "A value is trying to be set on a copy of a slice from a DataFrame.\n",
      "Try using .loc[row_indexer,col_indexer] = value instead\n",
      "\n",
      "See the caveats in the documentation: https://pandas.pydata.org/pandas-docs/stable/user_guide/indexing.html#returning-a-view-versus-a-copy\n",
      "  add_on_fin_df['anime_English name'] = add_on_fin_df['English name']\n",
      "/var/folders/vz/cyjrzm0x74q21sb72nhkdfmr0000gn/T/ipykernel_24741/2554166314.py:7: SettingWithCopyWarning: \n",
      "A value is trying to be set on a copy of a slice from a DataFrame.\n",
      "Try using .loc[row_indexer,col_indexer] = value instead\n",
      "\n",
      "See the caveats in the documentation: https://pandas.pydata.org/pandas-docs/stable/user_guide/indexing.html#returning-a-view-versus-a-copy\n",
      "  add_on_fin_df['anime_Synopsis'] = add_on_fin_df['Synopsis']\n",
      "/var/folders/vz/cyjrzm0x74q21sb72nhkdfmr0000gn/T/ipykernel_24741/2554166314.py:8: SettingWithCopyWarning: \n",
      "A value is trying to be set on a copy of a slice from a DataFrame.\n",
      "Try using .loc[row_indexer,col_indexer] = value instead\n",
      "\n",
      "See the caveats in the documentation: https://pandas.pydata.org/pandas-docs/stable/user_guide/indexing.html#returning-a-view-versus-a-copy\n",
      "  add_on_fin_df['anime_Score'] = add_on_fin_df['Score']\n",
      "/var/folders/vz/cyjrzm0x74q21sb72nhkdfmr0000gn/T/ipykernel_24741/2554166314.py:9: SettingWithCopyWarning: \n",
      "A value is trying to be set on a copy of a slice from a DataFrame.\n",
      "Try using .loc[row_indexer,col_indexer] = value instead\n",
      "\n",
      "See the caveats in the documentation: https://pandas.pydata.org/pandas-docs/stable/user_guide/indexing.html#returning-a-view-versus-a-copy\n",
      "  add_on_fin_df['imdb_name_basics_primaryName'] = 'UNKNOWN'\n",
      "/var/folders/vz/cyjrzm0x74q21sb72nhkdfmr0000gn/T/ipykernel_24741/2554166314.py:10: SettingWithCopyWarning: \n",
      "A value is trying to be set on a copy of a slice from a DataFrame.\n",
      "Try using .loc[row_indexer,col_indexer] = value instead\n",
      "\n",
      "See the caveats in the documentation: https://pandas.pydata.org/pandas-docs/stable/user_guide/indexing.html#returning-a-view-versus-a-copy\n",
      "  add_on_fin_df['anime_anime_id'] = add_on_fin_df['anime_id']\n",
      "/var/folders/vz/cyjrzm0x74q21sb72nhkdfmr0000gn/T/ipykernel_24741/2554166314.py:11: SettingWithCopyWarning: \n",
      "A value is trying to be set on a copy of a slice from a DataFrame.\n",
      "Try using .loc[row_indexer,col_indexer] = value instead\n",
      "\n",
      "See the caveats in the documentation: https://pandas.pydata.org/pandas-docs/stable/user_guide/indexing.html#returning-a-view-versus-a-copy\n",
      "  add_on_fin_df['keywords'] = 'UNKNOWN'\n",
      "/var/folders/vz/cyjrzm0x74q21sb72nhkdfmr0000gn/T/ipykernel_24741/2554166314.py:12: SettingWithCopyWarning: \n",
      "A value is trying to be set on a copy of a slice from a DataFrame.\n",
      "Try using .loc[row_indexer,col_indexer] = value instead\n",
      "\n",
      "See the caveats in the documentation: https://pandas.pydata.org/pandas-docs/stable/user_guide/indexing.html#returning-a-view-versus-a-copy\n",
      "  add_on_fin_df['image'] = 'UNKNOWN'\n"
     ]
    }
   ],
   "source": [
    "add_on_fin_df['imdb_title_title'] = 'UNKNOWN'\n",
    "add_on_fin_df['imdb_title_titleId'] = 'UNKNOWN'\n",
    "add_on_fin_df['anime_Rating'] = add_on_fin_df['Rating']\n",
    "add_on_fin_df['anime_Genres'] = add_on_fin_df['Genres']\n",
    "add_on_fin_df['anime_Other name'] = add_on_fin_df['Other name']\n",
    "add_on_fin_df['anime_English name'] = add_on_fin_df['English name']\n",
    "add_on_fin_df['anime_Synopsis'] = add_on_fin_df['Synopsis']\n",
    "add_on_fin_df['anime_Score'] = add_on_fin_df['Score']\n",
    "add_on_fin_df['imdb_name_basics_primaryName'] = 'UNKNOWN'\n",
    "add_on_fin_df['anime_anime_id'] = add_on_fin_df['anime_id']\n",
    "add_on_fin_df['keywords'] = 'UNKNOWN'\n",
    "add_on_fin_df['image'] = 'UNKNOWN'"
   ]
  },
  {
   "cell_type": "code",
   "execution_count": 194,
   "metadata": {},
   "outputs": [],
   "source": [
    "fin_fin_df = pd.concat([add_on_fin_df[['imdb_title_title', 'imdb_title_titleId', 'anime_Rating',\n",
    "       'anime_English name', 'anime_Genres',\n",
    "       'anime_Other name', 'anime_Score', 'anime_Synopsis', 'anime_anime_id',\n",
    "       'imdb_name_basics_primaryName', 'plot', 'keywords', 'image', 'Producers', 'Licensors', 'Studios', 'Image URL',\n",
    "       'Episodes', 'Genres', 'Source', 'Favorites', 'Aired', 'Members',\n",
    "       'Duration', 'text']],\n",
    "merge_df[['imdb_title_title', 'imdb_title_titleId', 'anime_Rating',\n",
    "       'anime_English name', 'anime_Genres',\n",
    "       'anime_Other name', 'anime_Score', 'anime_Synopsis', 'anime_anime_id',\n",
    "       'imdb_name_basics_primaryName', 'plot', 'keywords', 'image', 'Producers', 'Licensors', 'Studios', 'Image URL',\n",
    "       'Episodes', 'Genres', 'Source', 'Favorites', 'Aired', 'Members',\n",
    "       'Duration', 'text']]], ignore_index = True)"
   ]
  },
  {
   "cell_type": "code",
   "execution_count": 195,
   "metadata": {},
   "outputs": [],
   "source": [
    "fin_fin_df = fin_fin_df.replace({'none': 'UNKNOWN', 'None': 'UNKNOWN', np.nan: 'UNKNOWN'})"
   ]
  },
  {
   "cell_type": "code",
   "execution_count": 196,
   "metadata": {},
   "outputs": [],
   "source": [
    "fin_fin_df = fin_fin_df.merge(df[['Name', 'anime_id']], left_on='anime_anime_id', right_on = 'anime_id')"
   ]
  },
  {
   "cell_type": "code",
   "execution_count": 197,
   "metadata": {},
   "outputs": [],
   "source": [
    "fin_fin_df.to_json('fin_anime_df.json')"
   ]
  },
  {
   "cell_type": "code",
   "execution_count": 198,
   "metadata": {},
   "outputs": [],
   "source": [
    "myanime_list = fin_fin_df['anime_id'].tolist()"
   ]
  },
  {
   "cell_type": "code",
   "execution_count": 199,
   "metadata": {},
   "outputs": [],
   "source": [
    "file_path = \"my_animelist.pkl\"\n",
    "\n",
    "# Open the file in binary write mode and save the list using pickle.dump()\n",
    "with open(file_path, 'wb') as f:\n",
    "    pickle.dump(myanime_list, f)"
   ]
  },
  {
   "cell_type": "code",
   "execution_count": null,
   "metadata": {},
   "outputs": [],
   "source": []
  }
 ],
 "metadata": {
  "kernelspec": {
   "display_name": "spacy",
   "language": "python",
   "name": "python3"
  },
  "language_info": {
   "codemirror_mode": {
    "name": "ipython",
    "version": 3
   },
   "file_extension": ".py",
   "mimetype": "text/x-python",
   "name": "python",
   "nbconvert_exporter": "python",
   "pygments_lexer": "ipython3",
   "version": "3.10.11"
  }
 },
 "nbformat": 4,
 "nbformat_minor": 2
}
